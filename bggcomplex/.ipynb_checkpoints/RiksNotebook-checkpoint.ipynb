{
 "cells": [
  {
   "cell_type": "code",
   "execution_count": 1,
   "metadata": {},
   "outputs": [],
   "source": [
    "from bggcomplex import *\n",
    "import numpy as np"
   ]
  },
  {
   "cell_type": "code",
   "execution_count": 2,
   "metadata": {},
   "outputs": [],
   "source": [
    "BGG = BGGComplex(\"G2\")"
   ]
  },
  {
   "cell_type": "code",
   "execution_count": 3,
   "metadata": {},
   "outputs": [],
   "source": [
    "BGG.compute_signs()"
   ]
  },
  {
   "cell_type": "code",
   "execution_count": 4,
   "metadata": {},
   "outputs": [
    {
     "data": {
      "image/png": "[encoded data removed]",
      "text/plain": [
       "Graphics object consisting of 21 graphics primitives"
      ]
     },
     "execution_count": 4,
     "metadata": {},
     "output_type": "execute_result"
    }
   ],
   "source": [
    "BGG.plot_graph().plot()"
   ]
  },
  {
   "cell_type": "code",
   "execution_count": 5,
   "metadata": {},
   "outputs": [],
   "source": [
    "BGG.init_map_solver(BGG.zero_root)"
   ]
  },
  {
   "cell_type": "code",
   "execution_count": 6,
   "metadata": {},
   "outputs": [
    {
     "data": {
      "text/plain": [
       "[(('2', '21'),\n",
       "  array([1, 1]),\n",
       "  'right',\n",
       "  PBW[-alpha[2]],\n",
       "  PBW[-alpha[2]]^2*PBW[-alpha[1]] + 2*PBW[-alpha[2]]*PBW[-alpha[1] - alpha[2]]),\n",
       " (('1', '12'),\n",
       "  array([3, 1]),\n",
       "  'right',\n",
       "  PBW[-alpha[1]],\n",
       "  PBW[-alpha[2]]*PBW[-alpha[1]]^4),\n",
       " (('1', '12'),\n",
       "  array([3, 1]),\n",
       "  'right',\n",
       "  PBW[-alpha[1]],\n",
       "  PBW[-alpha[2]]*PBW[-alpha[1]]^4),\n",
       " (('2', '21'),\n",
       "  array([1, 1]),\n",
       "  'right',\n",
       "  PBW[-alpha[2]],\n",
       "  PBW[-alpha[2]]^2*PBW[-alpha[1]] + 2*PBW[-alpha[2]]*PBW[-alpha[1] - alpha[2]]),\n",
       " (('2121', '21212'),\n",
       "  array([3, 1]),\n",
       "  'left',\n",
       "  PBW[-alpha[1]],\n",
       "  PBW[-alpha[2]]*PBW[-alpha[1]]^4 + 4*PBW[-alpha[1]]^3*PBW[-alpha[1] - alpha[2]] - 12*PBW[-alpha[1]]^2*PBW[-2*alpha[1] - alpha[2]] + 24*PBW[-alpha[1]]*PBW[-3*alpha[1] - alpha[2]]),\n",
       " (('2121', '21212'),\n",
       "  array([3, 1]),\n",
       "  'left',\n",
       "  PBW[-alpha[1]],\n",
       "  PBW[-alpha[2]]*PBW[-alpha[1]]^4 + 4*PBW[-alpha[1]]^3*PBW[-alpha[1] - alpha[2]] - 12*PBW[-alpha[1]]^2*PBW[-2*alpha[1] - alpha[2]] + 24*PBW[-alpha[1]]*PBW[-3*alpha[1] - alpha[2]]),\n",
       " (('1212', '12121'),\n",
       "  array([1, 1]),\n",
       "  'left',\n",
       "  PBW[-alpha[2]],\n",
       "  PBW[-alpha[2]]^2*PBW[-alpha[1]]),\n",
       " (('1212', '12121'),\n",
       "  array([1, 1]),\n",
       "  'left',\n",
       "  PBW[-alpha[2]],\n",
       "  PBW[-alpha[2]]^2*PBW[-alpha[1]])]"
      ]
     },
     "execution_count": 6,
     "metadata": {},
     "output_type": "execute_result"
    }
   ],
   "source": [
    "BGG.MapSolver.get_available_problems()\n",
    "BGG.MapSolver.problems"
   ]
  },
  {
   "cell_type": "code",
   "execution_count": 7,
   "metadata": {},
   "outputs": [
    {
     "data": {
      "text/plain": [
       "(('2', '21'),\n",
       " array([1, 1]),\n",
       " 'right',\n",
       " PBW[-alpha[2]],\n",
       " PBW[-alpha[2]]^2*PBW[-alpha[1]] + 2*PBW[-alpha[2]]*PBW[-alpha[1] - alpha[2]])"
      ]
     },
     "execution_count": 7,
     "metadata": {},
     "output_type": "execute_result"
    }
   ],
   "source": [
    "problem = BGG.MapSolver.problems[0]\n",
    "problem"
   ]
  },
  {
   "cell_type": "code",
   "execution_count": 18,
   "metadata": {},
   "outputs": [],
   "source": [
    "for problem in BGG.MapSolver.problems:\n",
    "    BGG.MapSolver.solve_problem(problem)"
   ]
  },
  {
   "cell_type": "code",
   "execution_count": 9,
   "metadata": {},
   "outputs": [
    {
     "data": {
      "text/plain": [
       "(('1212', '12121'),\n",
       " array([1, 1]),\n",
       " 'left',\n",
       " PBW[-alpha[2]],\n",
       " PBW[-alpha[2]]^2*PBW[-alpha[1]])"
      ]
     },
     "execution_count": 9,
     "metadata": {},
     "output_type": "execute_result"
    }
   ],
   "source": [
    "bad_problem"
   ]
  },
  {
   "cell_type": "code",
   "execution_count": 10,
   "metadata": {},
   "outputs": [
    {
     "name": "stdout",
     "output_type": "stream",
     "text": [
      "[PBW[-alpha[1] - alpha[2]], PBW[-alpha[2]]*PBW[-alpha[1]]]\n"
     ]
    },
    {
     "data": {
      "text/plain": [
       "[PBW[-alpha[2]]*PBW[-alpha[1] - alpha[2]],\n",
       " PBW[-alpha[2]]^2*PBW[-alpha[1]] + PBW[-alpha[2]]*PBW[-alpha[1] - alpha[2]]]"
      ]
     },
     "execution_count": 10,
     "metadata": {},
     "output_type": "execute_result"
    }
   ],
   "source": [
    "problem=bad_problem\n",
    "basis=BGG.MapSolver.compute_PBW_basis_multidegree(problem[1])\n",
    "print(basis)\n",
    "if problem[2]=='right':\n",
    "    LHS=[problem[3]*p for p in basis]\n",
    "if problem[2]=='left':\n",
    "    LHS=[p*problem[3] for p in basis]\n",
    "LHS"
   ]
  },
  {
   "cell_type": "code",
   "execution_count": 11,
   "metadata": {},
   "outputs": [
    {
     "data": {
      "text/plain": [
       "{0: PBW[-alpha[2]]*PBW[-alpha[1] - alpha[2]],\n",
       " 1: PBW[-alpha[2]]^2*PBW[-alpha[1]]}"
      ]
     },
     "execution_count": 11,
     "metadata": {},
     "output_type": "execute_result"
    }
   ],
   "source": [
    "monomial_to_index={}\n",
    "index_to_monomial={}\n",
    "i=0\n",
    "for l in LHS:\n",
    "    for monomial in l.monomials():\n",
    "        if str(monomial) not in monomial_to_index:\n",
    "            monomial_to_index[str(monomial)]=i\n",
    "            index_to_monomial[i]=monomial\n",
    "            i+=1\n",
    "monomial_to_index\n",
    "index_to_monomial"
   ]
  },
  {
   "cell_type": "code",
   "execution_count": 12,
   "metadata": {},
   "outputs": [],
   "source": [
    "def vectorize_polynomial(polynomial):\n",
    "    coeffs = polynomial.monomial_coefficients()\n",
    "    vector = np.zeros(len(monomial_to_index),dtype=np.int16)\n",
    "    for monomial,coefficient in coeffs.items():\n",
    "        vector[monomial_to_index[str(monomial)]]=coefficient\n",
    "    return vector\n",
    "\n",
    "from scipy.sparse import csr_matrix\n",
    "def vectorize_polynomial_list(polynomial_list):\n",
    "    row = []\n",
    "    col = []\n",
    "    data =[]\n",
    "    for row_num,polynomial in enumerate(polynomial_list):\n",
    "        for monomial,coefficient in polynomial.monomial_coefficients().items():\n",
    "            col.append(row_num)\n",
    "            row.append(monomial_to_index[str(monomial)])\n",
    "            data.append(coefficient)\n",
    "    print(row)\n",
    "    print(col)\n",
    "    print(data)\n",
    "    print(len(monomial_to_index),len(polynomial_list))\n",
    "    return csr_matrix((data,(row,col)),shape=(len(polynomial_list),len(monomial_to_index)),dtype=np.int16)\n",
    "        "
   ]
  },
  {
   "cell_type": "code",
   "execution_count": 13,
   "metadata": {},
   "outputs": [
    {
     "data": {
      "text/plain": [
       "{'PBW[-alpha[2]]*PBW[-alpha[1] - alpha[2]]': 0,\n",
       " 'PBW[-alpha[2]]^2*PBW[-alpha[1]]': 1}"
      ]
     },
     "execution_count": 13,
     "metadata": {},
     "output_type": "execute_result"
    }
   ],
   "source": [
    "monomial_to_index"
   ]
  },
  {
   "cell_type": "code",
   "execution_count": 14,
   "metadata": {},
   "outputs": [
    {
     "name": "stdout",
     "output_type": "stream",
     "text": [
      "[0, 0, 1]\n",
      "[0, 1, 1]\n",
      "[1, 1, 1]\n",
      "(2, 2)\n"
     ]
    },
    {
     "data": {
      "text/plain": [
       "array([[1, 1],\n",
       "       [0, 1]], dtype=int16)"
      ]
     },
     "execution_count": 14,
     "metadata": {},
     "output_type": "execute_result"
    }
   ],
   "source": [
    "vectorize_polynomial_list(LHS).toarray()"
   ]
  },
  {
   "cell_type": "code",
   "execution_count": 15,
   "metadata": {},
   "outputs": [
    {
     "name": "stdout",
     "output_type": "stream",
     "text": [
      "[0, 0, 1]\n",
      "[0, 1, 1]\n",
      "[1, 1, 1]\n",
      "(2, 2)\n"
     ]
    },
    {
     "data": {
      "text/plain": [
       "-PBW[-alpha[2]]*PBW[-alpha[1] - alpha[2]]"
      ]
     },
     "execution_count": 15,
     "metadata": {},
     "output_type": "execute_result"
    }
   ],
   "source": [
    "from scipy.sparse.linalg import spsolve\n",
    "sol=spsolve(vectorize_polynomial_list(LHS),vectorize_polynomial(problem[4])).astype(np.int16)\n",
    "problem_solution = sum(int(c)*basis[i] for i,c in enumerate(sol))\n",
    "problem[3]*problem_solution-problem[4]"
   ]
  },
  {
   "cell_type": "code",
   "execution_count": 16,
   "metadata": {},
   "outputs": [
    {
     "data": {
      "text/plain": [
       "(('1212', '12121'),\n",
       " array([1, 1]),\n",
       " 'left',\n",
       " PBW[-alpha[2]],\n",
       " PBW[-alpha[2]]^2*PBW[-alpha[1]])"
      ]
     },
     "execution_count": 16,
     "metadata": {},
     "output_type": "execute_result"
    }
   ],
   "source": [
    "problem"
   ]
  },
  {
   "cell_type": "code",
   "execution_count": null,
   "metadata": {},
   "outputs": [],
   "source": []
  }
 ],
 "metadata": {
  "kernelspec": {
   "display_name": "SageMath 8.6",
   "language": "",
   "name": "sagemath"
  },
  "language_info": {
   "codemirror_mode": {
    "name": "ipython",
    "version": 2
   },
   "file_extension": ".py",
   "mimetype": "text/x-python",
   "name": "python",
   "nbconvert_exporter": "python",
   "pygments_lexer": "ipython2",
   "version": "2.7.15"
  }
 },
 "nbformat": 4,
 "nbformat_minor": 2
}
