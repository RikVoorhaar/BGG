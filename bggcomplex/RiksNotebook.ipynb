{
 "cells": [
  {
   "cell_type": "code",
   "execution_count": 1,
   "metadata": {},
   "outputs": [],
   "source": [
    "from bggcomplex import *\n",
    "import numpy as np"
   ]
  },
  {
   "cell_type": "code",
   "execution_count": 12,
   "metadata": {},
   "outputs": [],
   "source": [
    "BGG = BGGComplex(\"G2\")"
   ]
  },
  {
   "cell_type": "code",
   "execution_count": 13,
   "metadata": {},
   "outputs": [],
   "source": [
    "BGG.compute_signs()"
   ]
  },
  {
   "cell_type": "code",
   "execution_count": 14,
   "metadata": {},
   "outputs": [
    {
     "data": {
      "image/png": "[encoded data removed]",
      "text/plain": [
       "Graphics object consisting of 21 graphics primitives"
      ]
     },
     "execution_count": 14,
     "metadata": {},
     "output_type": "execute_result"
    }
   ],
   "source": [
    "BGG.plot_graph().plot()"
   ]
  },
  {
   "cell_type": "code",
   "execution_count": 15,
   "metadata": {},
   "outputs": [],
   "source": [
    "BGG.init_map_solver(BGG.zero_root)"
   ]
  },
  {
   "cell_type": "code",
   "execution_count": 16,
   "metadata": {},
   "outputs": [
    {
     "data": {
      "text/plain": [
       "[(('2', '21'),\n",
       "  array([1, 1]),\n",
       "  'right',\n",
       "  PBW[-alpha[2]],\n",
       "  PBW[-alpha[2]]^2*PBW[-alpha[1]] + 2*PBW[-alpha[2]]*PBW[-alpha[1] - alpha[2]]),\n",
       " (('1', '12'),\n",
       "  array([3, 1]),\n",
       "  'right',\n",
       "  PBW[-alpha[1]],\n",
       "  PBW[-alpha[2]]*PBW[-alpha[1]]^4),\n",
       " (('1', '12'),\n",
       "  array([3, 1]),\n",
       "  'right',\n",
       "  PBW[-alpha[1]],\n",
       "  PBW[-alpha[2]]*PBW[-alpha[1]]^4),\n",
       " (('2', '21'),\n",
       "  array([1, 1]),\n",
       "  'right',\n",
       "  PBW[-alpha[2]],\n",
       "  PBW[-alpha[2]]^2*PBW[-alpha[1]] + 2*PBW[-alpha[2]]*PBW[-alpha[1] - alpha[2]]),\n",
       " (('2121', '21212'),\n",
       "  array([3, 1]),\n",
       "  'left',\n",
       "  PBW[-alpha[1]],\n",
       "  PBW[-alpha[2]]*PBW[-alpha[1]]^4 + 4*PBW[-alpha[1]]^3*PBW[-alpha[1] - alpha[2]] - 12*PBW[-alpha[1]]^2*PBW[-2*alpha[1] - alpha[2]] + 24*PBW[-alpha[1]]*PBW[-3*alpha[1] - alpha[2]]),\n",
       " (('2121', '21212'),\n",
       "  array([3, 1]),\n",
       "  'left',\n",
       "  PBW[-alpha[1]],\n",
       "  PBW[-alpha[2]]*PBW[-alpha[1]]^4 + 4*PBW[-alpha[1]]^3*PBW[-alpha[1] - alpha[2]] - 12*PBW[-alpha[1]]^2*PBW[-2*alpha[1] - alpha[2]] + 24*PBW[-alpha[1]]*PBW[-3*alpha[1] - alpha[2]]),\n",
       " (('1212', '12121'),\n",
       "  array([1, 1]),\n",
       "  'left',\n",
       "  PBW[-alpha[2]],\n",
       "  PBW[-alpha[2]]^2*PBW[-alpha[1]]),\n",
       " (('1212', '12121'),\n",
       "  array([1, 1]),\n",
       "  'left',\n",
       "  PBW[-alpha[2]],\n",
       "  PBW[-alpha[2]]^2*PBW[-alpha[1]])]"
      ]
     },
     "execution_count": 16,
     "metadata": {},
     "output_type": "execute_result"
    }
   ],
   "source": [
    "BGG.MapSolver.get_available_problems()\n",
    "BGG.MapSolver.problems"
   ]
  },
  {
   "cell_type": "code",
   "execution_count": 17,
   "metadata": {},
   "outputs": [
    {
     "data": {
      "text/plain": [
       "[PBW[-alpha[2]]^2*PBW[-3*alpha[1] - 2*alpha[2]]^2,\n",
       " PBW[-alpha[2]]^3*PBW[-3*alpha[1] - alpha[2]]*PBW[-3*alpha[1] - 2*alpha[2]],\n",
       " PBW[-alpha[2]]^2*PBW[-alpha[1] - alpha[2]]*PBW[-2*alpha[1] - alpha[2]]*PBW[-3*alpha[1] - 2*alpha[2]],\n",
       " PBW[-alpha[2]]^3*PBW[-alpha[1]]*PBW[-2*alpha[1] - alpha[2]]*PBW[-3*alpha[1] - 2*alpha[2]],\n",
       " PBW[-alpha[2]]*PBW[-alpha[1] - alpha[2]]^3*PBW[-3*alpha[1] - 2*alpha[2]],\n",
       " PBW[-alpha[2]]^2*PBW[-alpha[1]]*PBW[-alpha[1] - alpha[2]]^2*PBW[-3*alpha[1] - 2*alpha[2]],\n",
       " PBW[-alpha[2]]^3*PBW[-alpha[1]]^2*PBW[-alpha[1] - alpha[2]]*PBW[-3*alpha[1] - 2*alpha[2]],\n",
       " PBW[-alpha[2]]^4*PBW[-alpha[1]]^3*PBW[-3*alpha[1] - 2*alpha[2]],\n",
       " PBW[-alpha[2]]^4*PBW[-3*alpha[1] - alpha[2]]^2,\n",
       " PBW[-alpha[2]]^3*PBW[-alpha[1] - alpha[2]]*PBW[-2*alpha[1] - alpha[2]]*PBW[-3*alpha[1] - alpha[2]],\n",
       " PBW[-alpha[2]]^4*PBW[-alpha[1]]*PBW[-2*alpha[1] - alpha[2]]*PBW[-3*alpha[1] - alpha[2]],\n",
       " PBW[-alpha[2]]^2*PBW[-alpha[1] - alpha[2]]^3*PBW[-3*alpha[1] - alpha[2]],\n",
       " PBW[-alpha[2]]^3*PBW[-alpha[1]]*PBW[-alpha[1] - alpha[2]]^2*PBW[-3*alpha[1] - alpha[2]],\n",
       " PBW[-alpha[2]]^4*PBW[-alpha[1]]^2*PBW[-alpha[1] - alpha[2]]*PBW[-3*alpha[1] - alpha[2]],\n",
       " PBW[-alpha[2]]^5*PBW[-alpha[1]]^3*PBW[-3*alpha[1] - alpha[2]],\n",
       " PBW[-alpha[2]]^3*PBW[-2*alpha[1] - alpha[2]]^3,\n",
       " PBW[-alpha[2]]^2*PBW[-alpha[1] - alpha[2]]^2*PBW[-2*alpha[1] - alpha[2]]^2,\n",
       " PBW[-alpha[2]]^3*PBW[-alpha[1]]*PBW[-alpha[1] - alpha[2]]*PBW[-2*alpha[1] - alpha[2]]^2,\n",
       " PBW[-alpha[2]]^4*PBW[-alpha[1]]^2*PBW[-2*alpha[1] - alpha[2]]^2,\n",
       " PBW[-alpha[2]]*PBW[-alpha[1] - alpha[2]]^4*PBW[-2*alpha[1] - alpha[2]],\n",
       " PBW[-alpha[2]]^2*PBW[-alpha[1]]*PBW[-alpha[1] - alpha[2]]^3*PBW[-2*alpha[1] - alpha[2]],\n",
       " PBW[-alpha[2]]^3*PBW[-alpha[1]]^2*PBW[-alpha[1] - alpha[2]]^2*PBW[-2*alpha[1] - alpha[2]],\n",
       " PBW[-alpha[2]]^4*PBW[-alpha[1]]^3*PBW[-alpha[1] - alpha[2]]*PBW[-2*alpha[1] - alpha[2]],\n",
       " PBW[-alpha[2]]^5*PBW[-alpha[1]]^4*PBW[-2*alpha[1] - alpha[2]],\n",
       " PBW[-alpha[1] - alpha[2]]^6,\n",
       " PBW[-alpha[2]]*PBW[-alpha[1]]*PBW[-alpha[1] - alpha[2]]^5,\n",
       " PBW[-alpha[2]]^2*PBW[-alpha[1]]^2*PBW[-alpha[1] - alpha[2]]^4,\n",
       " PBW[-alpha[2]]^3*PBW[-alpha[1]]^3*PBW[-alpha[1] - alpha[2]]^3,\n",
       " PBW[-alpha[2]]^4*PBW[-alpha[1]]^4*PBW[-alpha[1] - alpha[2]]^2,\n",
       " PBW[-alpha[2]]^5*PBW[-alpha[1]]^5*PBW[-alpha[1] - alpha[2]],\n",
       " PBW[-alpha[2]]^6*PBW[-alpha[1]]^6]"
      ]
     },
     "execution_count": 17,
     "metadata": {},
     "output_type": "execute_result"
    }
   ],
   "source": [
    "BGG.MapSolver.compute_PBW_basis_multidegree([6,6])"
   ]
  },
  {
   "cell_type": "code",
   "execution_count": null,
   "metadata": {},
   "outputs": [],
   "source": []
  }
 ],
 "metadata": {
  "kernelspec": {
   "display_name": "SageMath 8.6",
   "language": "",
   "name": "sagemath"
  },
  "language_info": {
   "codemirror_mode": {
    "name": "ipython",
    "version": 2
   },
   "file_extension": ".py",
   "mimetype": "text/x-python",
   "name": "python",
   "nbconvert_exporter": "python",
   "pygments_lexer": "ipython2",
   "version": "2.7.15"
  }
 },
 "nbformat": 4,
 "nbformat_minor": 2
}
