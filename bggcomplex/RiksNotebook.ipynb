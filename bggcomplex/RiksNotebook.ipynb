{
 "cells": [
  {
   "cell_type": "code",
   "execution_count": 1,
   "metadata": {},
   "outputs": [],
   "source": [
    "from bggcomplex import *\n",
    "from lie_algebra_module import *\n",
    "from quantum_center_module import QuantumFactory\n",
    "import numpy as np\n",
    "from collections import Counter"
   ]
  },
  {
   "cell_type": "code",
   "execution_count": 2,
   "metadata": {},
   "outputs": [],
   "source": [
    "BGG = BGGComplex(\"A2\")\n",
    "BGG.find_cycles();"
   ]
  },
  {
   "cell_type": "code",
   "execution_count": 3,
   "metadata": {},
   "outputs": [],
   "source": [
    "Solver = BGGMapSolver(BGG,BGG.zero_root)"
   ]
  },
  {
   "cell_type": "code",
   "execution_count": 4,
   "metadata": {},
   "outputs": [],
   "source": [
    "Solver.solve(parallel=False);"
   ]
  },
  {
   "cell_type": "code",
   "execution_count": 5,
   "metadata": {},
   "outputs": [],
   "source": [
    "BGG.compute_signs()"
   ]
  },
  {
   "cell_type": "code",
   "execution_count": 6,
   "metadata": {
    "scrolled": true
   },
   "outputs": [
    {
     "data": {
      "image/png": "[encoded data removed]",
      "text/plain": [
       "Graphics object consisting of 9 graphics primitives"
      ]
     },
     "execution_count": 6,
     "metadata": {},
     "output_type": "execute_result"
    }
   ],
   "source": [
    "BGG.plot_graph().plot()"
   ]
  },
  {
   "cell_type": "markdown",
   "metadata": {},
   "source": [
    "We want to implement the $U(\\mathfrak g)$ action on the module\n",
    "$$\n",
    "    M_i^j=\\bigoplus{}_{r=0}^{j+\\frac k2}\\left(\\left(\\bigodot{}^{j+\\frac k2-r}\\mathfrak u \\right)\\otimes\\left(\\bigwedge^r\\mathfrak g\\right)\\otimes\\left(\\bigwedge{}^{j+\\frac k2}\\mathfrak n \\right) \\right)\n",
    "$$\n",
    "For this we need two things, one is finding a basis of this module, and second we define the action on it. Unfortunately I can't find a good out of the box implementation for either of these, so we are going to have to do it ourselves. Ideally we can use this to extend sage a little bit. \n",
    "\n",
    "Sagemath has a class FreeModuleTensor, it can deal with alternating and symmetric tensors. But it specifically says it can not deal with tensor products of different modules, whereas that is precisely what we need. We should investigate how this class work, and extend it with this functionality. Besides, that module seems to focus on doing stuff without a specific basis. We want to do everything in a basis, because the whole point is to compute a basis. \n",
    "\n",
    "We should make an instance of CombinatorialFreeModule"
   ]
  },
  {
   "cell_type": "markdown",
   "metadata": {},
   "source": [
    "Next steps:\n",
    "- compute phi (there is a slight discrepency between this phi and the one in Mathematica. might be because here we choose a more reasonable basis)\n",
    "- construct M\n",
    "- construct submodule T\n",
    "- take quotients by subspaces\n",
    "- compute dot regular weights\n",
    "- attach it to BGG complex, compute (co)kernel dimensions"
   ]
  },
  {
   "cell_type": "markdown",
   "metadata": {},
   "source": [
    "### Definition of coadjoint action\n",
    "\n",
    "We have a pairing $\\langle\\,\\,,\\,\\rangle$ on $\\mathfrak g$. We also have a map on the root space, ${}^*$ sending:\n",
    "$e_I \\leftrightarrow f_I$, $h_i\\leftrightarrow h_i$. Then the coadjoint action, corestricted to a subalgebra $\\mathfrak i<\\mathfrak g$ with basis $\\{\\alpha_i\\}$,\n",
    "$$\n",
    " \\left.\\mathrm{ad}^*\\right|_{\\mathfrak{i}}(X)(m) =- \\sum_i\\langle m,\\,[X,\\alpha_i^*] \\rangle\\alpha_i\n",
    "$$\n",
    "The pairing is defined by $\\langle e_I,f_I\\rangle=\\delta_{i,j}$ and $\\langle h_i,h_j\\rangle=\\delta_{i,j}$. We also define\n",
    "$$\n",
    "\\varphi:\\mathfrak b\\to\\mathfrak n\\otimes\\mathfrak u,\\quad \\varphi(m)=\\sum_I f_I\\otimes \\left.\\mathrm{ad}^*\\right|_{\\mathfrak{u}}(m)(e_I)\n",
    "$$"
   ]
  },
  {
   "cell_type": "markdown",
   "metadata": {},
   "source": [
    "## The module M\n",
    "\n",
    "Recall:\n",
    "$$\n",
    "    M_j^k=\\bigoplus{}_{r=0}^{j+\\frac k2}\\left(\\left(\\bigodot{}^{j+\\frac k2-r}\\mathfrak u \\right)\\otimes\\left(\\bigwedge^r\\mathfrak g\\right)\\otimes\\left(\\bigwedge{}^{j-r}\\mathfrak n \\right) \\right)\n",
    "$$"
   ]
  },
  {
   "cell_type": "code",
   "execution_count": 7,
   "metadata": {},
   "outputs": [],
   "source": [
    "maps = BGG.compute_maps(BGG.zero_root)"
   ]
  },
  {
   "cell_type": "code",
   "execution_count": 8,
   "metadata": {},
   "outputs": [],
   "source": [
    "q_factory = QuantumFactory(BGG)"
   ]
  },
  {
   "cell_type": "code",
   "execution_count": 9,
   "metadata": {},
   "outputs": [],
   "source": [
    "def ijk(a,b):\n",
    "    return (int((a-b)/2),int((a+b)/2),-a)"
   ]
  },
  {
   "cell_type": "code",
   "execution_count": 10,
   "metadata": {},
   "outputs": [
    {
     "data": {
      "text/plain": [
       "([0, alpha[1] + alpha[2]],\n",
       " [(-alpha[1] + alpha[2], alpha[1] + alpha[2], '1'),\n",
       "  (alpha[1] - 2*alpha[2], alpha[1] + 2*alpha[2], '2'),\n",
       "  (-2*alpha[1] + alpha[2], 2*alpha[1] + alpha[2], '1'),\n",
       "  (-alpha[1], 0, '1'),\n",
       "  (alpha[1] - alpha[2], alpha[1] + alpha[2], '2'),\n",
       "  (-alpha[2], 0, '2')])"
      ]
     },
     "execution_count": 10,
     "metadata": {},
     "output_type": "execute_result"
    }
   ],
   "source": [
    "i,j,k=ijk(4,6)\n",
    "\n",
    "module = q_factory.M_module(j,k)\n",
    "relations = q_factory.T_spanning_set(j,k)\n",
    "q_factory.compute_weights(module,i=i)"
   ]
  },
  {
   "cell_type": "markdown",
   "metadata": {},
   "source": [
    "We should have a new class WeightModule which is an extension of LieAlgebraModule, but has the function get_weight. Then we should make a new module, compute_bgg_cohomology which takes a BGG and WeightModule as input to compute BGG."
   ]
  },
  {
   "cell_type": "code",
   "execution_count": 11,
   "metadata": {},
   "outputs": [],
   "source": [
    "wtmod = q_factory.weight_module(j,k)"
   ]
  },
  {
   "cell_type": "code",
   "execution_count": 12,
   "metadata": {},
   "outputs": [
    {
     "data": {
      "text/plain": [
       "[alpha[1] - alpha[2],\n",
       " -alpha[2],\n",
       " -alpha[1] - 2*alpha[2],\n",
       " -alpha[1] - 3*alpha[2],\n",
       " -3*alpha[2],\n",
       " -2*alpha[2],\n",
       " -2*alpha[2],\n",
       " 0,\n",
       " -alpha[1] - alpha[2],\n",
       " -alpha[1] - 2*alpha[2],\n",
       " -2*alpha[2],\n",
       " -alpha[2],\n",
       " -alpha[2],\n",
       " -2*alpha[1] - alpha[2],\n",
       " -2*alpha[1] - 2*alpha[2],\n",
       " -alpha[1] - 2*alpha[2],\n",
       " -alpha[1] - alpha[2],\n",
       " -alpha[1] - alpha[2],\n",
       " -3*alpha[1] - 3*alpha[2],\n",
       " -2*alpha[1] - 3*alpha[2],\n",
       " -2*alpha[1] - 2*alpha[2],\n",
       " -2*alpha[1] - 2*alpha[2],\n",
       " -2*alpha[1] - 4*alpha[2],\n",
       " -2*alpha[1] - 3*alpha[2],\n",
       " -2*alpha[1] - 3*alpha[2],\n",
       " -alpha[1] - 3*alpha[2],\n",
       " -alpha[1] - 3*alpha[2],\n",
       " -alpha[1] - 2*alpha[2],\n",
       " alpha[1],\n",
       " 0,\n",
       " -alpha[1] - alpha[2],\n",
       " -alpha[1] - 2*alpha[2],\n",
       " -2*alpha[2],\n",
       " -alpha[2],\n",
       " -alpha[2],\n",
       " alpha[2],\n",
       " -alpha[1],\n",
       " -alpha[1] - alpha[2],\n",
       " -alpha[2],\n",
       " 0,\n",
       " 0,\n",
       " -2*alpha[1],\n",
       " -2*alpha[1] - alpha[2],\n",
       " -alpha[1] - alpha[2],\n",
       " -alpha[1],\n",
       " -alpha[1],\n",
       " -3*alpha[1] - 2*alpha[2],\n",
       " -2*alpha[1] - 2*alpha[2],\n",
       " -2*alpha[1] - alpha[2],\n",
       " -2*alpha[1] - alpha[2],\n",
       " -2*alpha[1] - 3*alpha[2],\n",
       " -2*alpha[1] - 2*alpha[2],\n",
       " -2*alpha[1] - 2*alpha[2],\n",
       " -alpha[1] - 2*alpha[2],\n",
       " -alpha[1] - 2*alpha[2],\n",
       " -alpha[1] - alpha[2],\n",
       " 0,\n",
       " -alpha[1],\n",
       " -2*alpha[1] - alpha[2],\n",
       " -2*alpha[1] - 2*alpha[2],\n",
       " -alpha[1] - 2*alpha[2],\n",
       " -alpha[1] - alpha[2],\n",
       " -alpha[1] - alpha[2],\n",
       " -alpha[1] + alpha[2],\n",
       " -2*alpha[1],\n",
       " -2*alpha[1] - alpha[2],\n",
       " -alpha[1] - alpha[2],\n",
       " -alpha[1],\n",
       " -alpha[1],\n",
       " -3*alpha[1],\n",
       " -3*alpha[1] - alpha[2],\n",
       " -2*alpha[1] - alpha[2],\n",
       " -2*alpha[1],\n",
       " -2*alpha[1],\n",
       " -4*alpha[1] - 2*alpha[2],\n",
       " -3*alpha[1] - 2*alpha[2],\n",
       " -3*alpha[1] - alpha[2],\n",
       " -3*alpha[1] - alpha[2],\n",
       " -3*alpha[1] - 3*alpha[2],\n",
       " -3*alpha[1] - 2*alpha[2],\n",
       " -3*alpha[1] - 2*alpha[2],\n",
       " -2*alpha[1] - 2*alpha[2],\n",
       " -2*alpha[1] - 2*alpha[2],\n",
       " -2*alpha[1] - alpha[2],\n",
       " alpha[2],\n",
       " alpha[1] + alpha[2],\n",
       " alpha[1],\n",
       " -alpha[1],\n",
       " 0,\n",
       " -alpha[2],\n",
       " -alpha[1] - alpha[2],\n",
       " -alpha[2],\n",
       " -2*alpha[2],\n",
       " -alpha[2],\n",
       " alpha[1] - alpha[2],\n",
       " alpha[1] - 2*alpha[2],\n",
       " 0,\n",
       " alpha[1],\n",
       " alpha[1] - alpha[2],\n",
       " 0,\n",
       " alpha[1],\n",
       " alpha[1] - alpha[2],\n",
       " -2*alpha[1],\n",
       " -alpha[1],\n",
       " -alpha[1] - alpha[2],\n",
       " -2*alpha[1] - alpha[2],\n",
       " -alpha[1] - alpha[2],\n",
       " -alpha[1] - 2*alpha[2],\n",
       " -alpha[1] - alpha[2],\n",
       " -alpha[2],\n",
       " -2*alpha[2],\n",
       " -alpha[1],\n",
       " 0,\n",
       " -alpha[2],\n",
       " -alpha[1],\n",
       " 0,\n",
       " -alpha[2],\n",
       " -3*alpha[1] - 2*alpha[2],\n",
       " -2*alpha[1] - 2*alpha[2],\n",
       " -2*alpha[1] - 3*alpha[2],\n",
       " -2*alpha[1] - 2*alpha[2],\n",
       " -alpha[1] - 2*alpha[2],\n",
       " -alpha[1] - 3*alpha[2],\n",
       " -2*alpha[1] - alpha[2],\n",
       " -alpha[1] - alpha[2],\n",
       " -alpha[1] - 2*alpha[2],\n",
       " -2*alpha[1] - alpha[2],\n",
       " -alpha[1] - alpha[2],\n",
       " -alpha[1] - 2*alpha[2],\n",
       " -2*alpha[1] - 3*alpha[2],\n",
       " -alpha[1] - 3*alpha[2],\n",
       " -alpha[1] - 4*alpha[2],\n",
       " -2*alpha[1] - 2*alpha[2],\n",
       " -alpha[1] - 2*alpha[2],\n",
       " -alpha[1] - 3*alpha[2],\n",
       " -2*alpha[1] - 2*alpha[2],\n",
       " -alpha[1] - 2*alpha[2],\n",
       " -alpha[1] - 3*alpha[2],\n",
       " -alpha[1] - 2*alpha[2],\n",
       " -2*alpha[2],\n",
       " -3*alpha[2],\n",
       " -alpha[1] - 2*alpha[2],\n",
       " -2*alpha[2],\n",
       " -3*alpha[2],\n",
       " -alpha[1] - alpha[2],\n",
       " -alpha[2],\n",
       " -2*alpha[2],\n",
       " -2*alpha[1] + alpha[2],\n",
       " -alpha[1] + alpha[2],\n",
       " -alpha[1],\n",
       " -2*alpha[1],\n",
       " -alpha[1],\n",
       " -alpha[1] - alpha[2],\n",
       " -alpha[1],\n",
       " 0,\n",
       " -alpha[2],\n",
       " -alpha[1] + alpha[2],\n",
       " alpha[2],\n",
       " 0,\n",
       " -alpha[1] + alpha[2],\n",
       " alpha[2],\n",
       " 0,\n",
       " -3*alpha[1] - alpha[2],\n",
       " -2*alpha[1] - alpha[2],\n",
       " -2*alpha[1] - 2*alpha[2],\n",
       " -2*alpha[1] - alpha[2],\n",
       " -alpha[1] - alpha[2],\n",
       " -alpha[1] - 2*alpha[2],\n",
       " -2*alpha[1],\n",
       " -alpha[1],\n",
       " -alpha[1] - alpha[2],\n",
       " -2*alpha[1],\n",
       " -alpha[1],\n",
       " -alpha[1] - alpha[2],\n",
       " -2*alpha[1] - 2*alpha[2],\n",
       " -alpha[1] - 2*alpha[2],\n",
       " -alpha[1] - 3*alpha[2],\n",
       " -2*alpha[1] - alpha[2],\n",
       " -alpha[1] - alpha[2],\n",
       " -alpha[1] - 2*alpha[2],\n",
       " -2*alpha[1] - alpha[2],\n",
       " -alpha[1] - alpha[2],\n",
       " -alpha[1] - 2*alpha[2],\n",
       " -alpha[1] - alpha[2],\n",
       " -alpha[2],\n",
       " -2*alpha[2],\n",
       " -alpha[1] - alpha[2],\n",
       " -alpha[2],\n",
       " -2*alpha[2],\n",
       " -alpha[1],\n",
       " 0,\n",
       " -alpha[2],\n",
       " -4*alpha[1] - alpha[2],\n",
       " -3*alpha[1] - alpha[2],\n",
       " -3*alpha[1] - 2*alpha[2],\n",
       " -3*alpha[1] - alpha[2],\n",
       " -2*alpha[1] - alpha[2],\n",
       " -2*alpha[1] - 2*alpha[2],\n",
       " -3*alpha[1],\n",
       " -2*alpha[1],\n",
       " -2*alpha[1] - alpha[2],\n",
       " -3*alpha[1],\n",
       " -2*alpha[1],\n",
       " -2*alpha[1] - alpha[2],\n",
       " -3*alpha[1] - 2*alpha[2],\n",
       " -2*alpha[1] - 2*alpha[2],\n",
       " -2*alpha[1] - 3*alpha[2],\n",
       " -3*alpha[1] - alpha[2],\n",
       " -2*alpha[1] - alpha[2],\n",
       " -2*alpha[1] - 2*alpha[2],\n",
       " -3*alpha[1] - alpha[2],\n",
       " -2*alpha[1] - alpha[2],\n",
       " -2*alpha[1] - 2*alpha[2],\n",
       " -2*alpha[1] - alpha[2],\n",
       " -alpha[1] - alpha[2],\n",
       " -alpha[1] - 2*alpha[2],\n",
       " -2*alpha[1] - alpha[2],\n",
       " -alpha[1] - alpha[2],\n",
       " -alpha[1] - 2*alpha[2],\n",
       " -2*alpha[1],\n",
       " -alpha[1],\n",
       " -alpha[1] - alpha[2],\n",
       " -4*alpha[1] - 3*alpha[2],\n",
       " -3*alpha[1] - 3*alpha[2],\n",
       " -3*alpha[1] - 4*alpha[2],\n",
       " -4*alpha[1] - 2*alpha[2],\n",
       " -3*alpha[1] - 2*alpha[2],\n",
       " -3*alpha[1] - 3*alpha[2],\n",
       " -4*alpha[1] - 2*alpha[2],\n",
       " -3*alpha[1] - 2*alpha[2],\n",
       " -3*alpha[1] - 3*alpha[2],\n",
       " -3*alpha[1] - 2*alpha[2],\n",
       " -2*alpha[1] - 2*alpha[2],\n",
       " -2*alpha[1] - 3*alpha[2],\n",
       " -3*alpha[1] - 2*alpha[2],\n",
       " -2*alpha[1] - 2*alpha[2],\n",
       " -2*alpha[1] - 3*alpha[2],\n",
       " -3*alpha[1] - alpha[2],\n",
       " -2*alpha[1] - alpha[2],\n",
       " -2*alpha[1] - 2*alpha[2],\n",
       " -3*alpha[1] - 3*alpha[2],\n",
       " -2*alpha[1] - 3*alpha[2],\n",
       " -2*alpha[1] - 4*alpha[2],\n",
       " -3*alpha[1] - 3*alpha[2],\n",
       " -2*alpha[1] - 3*alpha[2],\n",
       " -2*alpha[1] - 4*alpha[2],\n",
       " -3*alpha[1] - 2*alpha[2],\n",
       " -2*alpha[1] - 2*alpha[2],\n",
       " -2*alpha[1] - 3*alpha[2],\n",
       " -2*alpha[1] - 2*alpha[2],\n",
       " -alpha[1] - 2*alpha[2],\n",
       " -alpha[1] - 3*alpha[2]]"
      ]
     },
     "execution_count": 12,
     "metadata": {},
     "output_type": "execute_result"
    }
   ],
   "source": [
    "[wtmod.get_weight(key) for key in wtmod.basis_keys]\n",
    "    "
   ]
  }
 ],
 "metadata": {
  "kernelspec": {
   "display_name": "SageMath 8.6",
   "language": "",
   "name": "sagemath"
  },
  "language_info": {
   "codemirror_mode": {
    "name": "ipython",
    "version": 2
   },
   "file_extension": ".py",
   "mimetype": "text/x-python",
   "name": "python",
   "nbconvert_exporter": "python",
   "pygments_lexer": "ipython2",
   "version": "2.7.15"
  }
 },
 "nbformat": 4,
 "nbformat_minor": 2
}
