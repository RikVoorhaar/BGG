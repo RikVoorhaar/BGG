{
 "cells": [
  {
   "cell_type": "code",
   "execution_count": 28,
   "metadata": {},
   "outputs": [],
   "source": [
    "from bggcomplex import *\n",
    "from lie_algebra_module import *\n",
    "from quantum_center_module import QuantumFactory\n",
    "from bgg_cohomology import BGGCohomologyComputer\n",
    "import numpy as np\n",
    "import scipy\n",
    "from collections import defaultdict\n",
    "from time import time"
   ]
  },
  {
   "cell_type": "code",
   "execution_count": 41,
   "metadata": {},
   "outputs": [],
   "source": [
    "BGG = BGGComplex(\"B2\")\n",
    "BGG.find_cycles();"
   ]
  },
  {
   "cell_type": "code",
   "execution_count": 42,
   "metadata": {},
   "outputs": [],
   "source": [
    "Solver = BGGMapSolver(BGG,BGG.zero_root)"
   ]
  },
  {
   "cell_type": "code",
   "execution_count": 43,
   "metadata": {},
   "outputs": [],
   "source": [
    "Solver.solve(parallel=False);"
   ]
  },
  {
   "cell_type": "code",
   "execution_count": 44,
   "metadata": {},
   "outputs": [
    {
     "data": {
      "text/plain": [
       "{'basis': 0.0019342899322509766,\n",
       " 'index': 0.0011169910430908203,\n",
       " 'linalg': 0.002248525619506836,\n",
       " 'mult': 0.0003509521484375,\n",
       " 'vect': 0.003765106201171875}"
      ]
     },
     "execution_count": 44,
     "metadata": {},
     "output_type": "execute_result"
    }
   ],
   "source": [
    "dict(Solver.timer)"
   ]
  },
  {
   "cell_type": "code",
   "execution_count": 45,
   "metadata": {},
   "outputs": [],
   "source": [
    "BGG.compute_signs();"
   ]
  },
  {
   "cell_type": "code",
   "execution_count": 46,
   "metadata": {
    "scrolled": true
   },
   "outputs": [
    {
     "data": {
      "image/png": "[encoded data removed]",
      "text/plain": [
       "Graphics object consisting of 13 graphics primitives"
      ]
     },
     "execution_count": 46,
     "metadata": {},
     "output_type": "execute_result"
    }
   ],
   "source": [
    "BGG.plot_graph().plot()"
   ]
  },
  {
   "cell_type": "markdown",
   "metadata": {},
   "source": [
    "We want to implement the $U(\\mathfrak g)$ action on the module\n",
    "$$\n",
    "    M_i^j=\\bigoplus{}_{r=0}^{j+\\frac k2}\\left(\\left(\\bigodot{}^{j+\\frac k2-r}\\mathfrak u \\right)\\otimes\\left(\\bigwedge^r\\mathfrak g\\right)\\otimes\\left(\\bigwedge{}^{j+\\frac k2}\\mathfrak n \\right) \\right)\n",
    "$$\n",
    "For this we need two things, one is finding a basis of this module, and second we define the action on it. Unfortunately I can't find a good out of the box implementation for either of these, so we are going to have to do it ourselves. Ideally we can use this to extend sage a little bit. \n",
    "\n",
    "Sagemath has a class FreeModuleTensor, it can deal with alternating and symmetric tensors. But it specifically says it can not deal with tensor products of different modules, whereas that is precisely what we need. We should investigate how this class work, and extend it with this functionality. Besides, that module seems to focus on doing stuff without a specific basis. We want to do everything in a basis, because the whole point is to compute a basis. \n",
    "\n",
    "We should make an instance of CombinatorialFreeModule"
   ]
  },
  {
   "cell_type": "markdown",
   "metadata": {},
   "source": [
    "Next steps:\n",
    "- compute phi (there is a slight discrepency between this phi and the one in Mathematica. might be because here we choose a more reasonable basis)\n",
    "- construct M\n",
    "- construct submodule T\n",
    "- take quotients by subspaces\n",
    "- compute dot regular weights\n",
    "- attach it to BGG complex, compute (co)kernel dimensions"
   ]
  },
  {
   "cell_type": "markdown",
   "metadata": {},
   "source": [
    "### Definition of coadjoint action\n",
    "\n",
    "We have a pairing $\\langle\\,\\,,\\,\\rangle$ on $\\mathfrak g$. We also have a map on the root space, ${}^*$ sending:\n",
    "$e_I \\leftrightarrow f_I$, $h_i\\leftrightarrow h_i$. Then the coadjoint action, corestricted to a subalgebra $\\mathfrak i<\\mathfrak g$ with basis $\\{\\alpha_i\\}$,\n",
    "$$\n",
    " \\left.\\mathrm{ad}^*\\right|_{\\mathfrak{i}}(X)(m) =- \\sum_i\\langle m,\\,[X,\\alpha_i^*] \\rangle\\alpha_i\n",
    "$$\n",
    "The pairing is defined by $\\langle e_I,f_I\\rangle=\\delta_{i,j}$ and $\\langle h_i,h_j\\rangle=\\delta_{i,j}$. We also define\n",
    "$$\n",
    "\\varphi:\\mathfrak b\\to\\mathfrak n\\otimes\\mathfrak u,\\quad \\varphi(m)=\\sum_I f_I\\otimes \\left.\\mathrm{ad}^*\\right|_{\\mathfrak{u}}(m)(e_I)\n",
    "$$\n",
    "Note that the image of $\\varphi$ is weight zero."
   ]
  },
  {
   "cell_type": "markdown",
   "metadata": {},
   "source": [
    "## The module M\n",
    "\n",
    "Recall:\n",
    "$$\n",
    "    M_j^k=\\bigoplus{}_{r=0}^{j+\\frac k2}\\left(\\left(\\bigodot{}^{j+\\frac k2-r}\\mathfrak u \\right)\\otimes\\left(\\bigwedge^r\\mathfrak g\\right)\\otimes\\left(\\bigwedge{}^{j-r}\\mathfrak n \\right) \\right)\n",
    "$$"
   ]
  },
  {
   "cell_type": "code",
   "execution_count": 47,
   "metadata": {},
   "outputs": [],
   "source": [
    "maps = BGG.compute_maps(BGG.zero_root)"
   ]
  },
  {
   "cell_type": "code",
   "execution_count": 48,
   "metadata": {},
   "outputs": [],
   "source": [
    "q_factory = QuantumFactory(BGG)"
   ]
  },
  {
   "cell_type": "code",
   "execution_count": 49,
   "metadata": {},
   "outputs": [],
   "source": [
    "def ijk(a,b):\n",
    "    return (int((a-b)/2),int((a+b)/2),-a)"
   ]
  },
  {
   "cell_type": "code",
   "execution_count": 50,
   "metadata": {},
   "outputs": [],
   "source": [
    "global_timer = defaultdict(int)\n",
    "def compute_cohomology(q_factory,a,b):\n",
    "    i,j,k =ijk(a,b)\n",
    "    timer = time()\n",
    "    wtmod = q_factory.weight_module(j,k)\n",
    "    print('made a weight module of size: %d, with %d relations)' %\n",
    "          (len(wtmod.basis()), len(wtmod.relations))\n",
    "          )\n",
    "    global_timer['weight_mod']+=time()-timer\n",
    "    #BGG.compute_signs(force_recompute=True)\n",
    "    cohomology_computer = BGGCohomologyComputer(BGG,wtmod)\n",
    "    cohomology= cohomology_computer.compute_full_cohomology(i)\n",
    "    for key,value in cohomology_computer.timer.items():\n",
    "        global_timer[key]+=value\n",
    "    return cohomology"
   ]
  },
  {
   "cell_type": "code",
   "execution_count": 51,
   "metadata": {
    "scrolled": true
   },
   "outputs": [
    {
     "name": "stdout",
     "output_type": "stream",
     "text": [
      "8\n",
      "------------------------------\n",
      "[(2, 0), (4, 0), (4, 2), (6, 0), (6, 2), (8, 0)]\n",
      "(2, 0)\n",
      "made a weight module of size: 4, with 0 relations)\n",
      "(2, 0, [(0, 2)])\n",
      "(4, 0)\n",
      "made a weight module of size: 6, with 0 relations)\n",
      "(4, 0, [(0, 2)])\n",
      "(6, 0)\n",
      "made a weight module of size: 4, with 0 relations)\n",
      "(6, 0, [(0, 2)])\n",
      "(8, 0)\n",
      "made a weight module of size: 1, with 0 relations)\n",
      "(8, 0, [(0, 1)])\n",
      "(4, 2)\n",
      "made a weight module of size: 76, with 36 relations)\n",
      "(4, 2, [(0, 2)])\n",
      "(6, 2)\n",
      "made a weight module of size: 44, with 24 relations)\n",
      "(6, 2, [(alpha[1] + alpha[2], 1), (0, 3)])\n"
     ]
    },
    {
     "data": {
      "text/plain": [
       "{(2, 0): [(0, 2)],\n",
       " (4, 0): [(0, 2)],\n",
       " (4, 2): [(0, 2)],\n",
       " (6, 0): [(0, 2)],\n",
       " (6, 2): [(alpha[1] + alpha[2], 1), (0, 3)],\n",
       " (8, 0): [(0, 1)]}"
      ]
     },
     "execution_count": 51,
     "metadata": {},
     "output_type": "execute_result"
    }
   ],
   "source": [
    "max_j = len(q_factory.modules['u'].basis())\n",
    "print(2*max_j)\n",
    "print('-'*30)\n",
    "all_a_b = [(2*a,2*b)  for a in range(0,max_j+1) for b in range(0,min(a,max_j+1-a))]\n",
    "print(all_a_b)\n",
    "all_a_b = sorted(all_a_b, key=lambda x:x[1])\n",
    "cohom_dict = dict()\n",
    "for a,b in all_a_b:\n",
    "    print(a,b)\n",
    "    cohom_dim = compute_cohomology(q_factory,a,b)\n",
    "    print(a,b,cohom_dim)\n",
    "    cohom_dict[(a,b)]=cohom_dim\n",
    "cohom_dict"
   ]
  },
  {
   "cell_type": "code",
   "execution_count": 52,
   "metadata": {},
   "outputs": [
    {
     "name": "stdout",
     "output_type": "stream",
     "text": [
      "{'vertex_weights': 0.0299985408782959, 'get_section': 0.017386198043823242, 'weight_mod': 0.06058502197265625, 'compute_image': 0.14226078987121582, 'compute_maps': 0.10038113594055176, 'BGG_weights': 0.022034645080566406, 'matrix_rank': 0.0020360946655273438, 'vectorizer': 0.0006101131439208984}\n",
      "{'quantum weight module creation': 0.05646395683288574, 'relation insertion': 0.003674030303955078, 'init': 0.14116907119750977, 'M_module_list': 0.03260374069213867, 'lie algebra direct sum': 0.03601670265197754}\n",
      "(2, 0): [(0, 2)]\n",
      "(4, 0): [(0, 2)]\n",
      "(4, 2): [(0, 2)]\n",
      "(6, 0): [(0, 2)]\n",
      "(6, 2): [(alpha[1] + alpha[2], 1), (0, 3)]\n",
      "(8, 0): [(0, 1)]\n"
     ]
    },
    {
     "data": {
      "text/plain": [
       "13"
      ]
     },
     "execution_count": 52,
     "metadata": {},
     "output_type": "execute_result"
    }
   ],
   "source": [
    "print(dict(global_timer))\n",
    "print(dict(q_factory.timer))\n",
    "for w,l in sorted(cohom_dict.items()):\n",
    "    print('%s: %s' % (w,l))\n",
    "sum(d  for l in cohom_dict.values() for _,d in l)"
   ]
  },
  {
   "cell_type": "markdown",
   "metadata": {},
   "source": [
    "We should have a new class WeightModule which is an extension of LieAlgebraModule, but has the function get_weight. Then we should make a new module, compute_bgg_cohomology which takes a BGG and WeightModule as input to compute BGG."
   ]
  },
  {
   "cell_type": "markdown",
   "metadata": {},
   "source": [
    "How to compute cohomology:\n",
    "- We start with a weight module E. Nothing is assumed about it.\n",
    "- We first of all compute all the dot regular weights of E. \n",
    "- For each dot regular weight $\\mu$, define the length $\\ell(\\mu)$ as the length of the unique $w\\in W$ such that $w\\cdot\\mu$ is dominant. \n",
    "- We make a list of tuples $(\\mu,\\,w\\cdot \\mu,\\,\\ell(\\mu))$\n",
    "- Let's say we want to compute cohomology in degree i. We create a list $H^i(E)$ = `[ ]`\n",
    "- We select all $(\\mu,\\,w\\cdot \\mu,\\,\\ell(\\mu))$ with $\\ell(\\mu)=i$\n",
    "- We compute $H^i(\\mathrm{BGG}(E,w\\cdot\\mu))$\n",
    "    - If there are no $(\\mu',\\,w'\\cdot \\mu',\\,\\ell(\\mu))$ with $w'\\cdot\\mu'=w\\cdot \\mu$ and $\\ell(\\mu')=i\\pm 1$, then\n",
    "    a priori we know that $H^i(\\mathrm{BGG}(E,w\\cdot\\mu)) = E[\\mu]$, so we just add $(\\mu,\\dim E[\\mu])$ to the list $H^i(E)$.\n",
    "    \n",
    "Now assume that $\\lambda=w\\cdot \\mu$ is a dot-regular dominant weight. \n",
    "\n",
    "How to compute $H^i(\\mathrm{BGG}(E,\\lambda))$:\n",
    "- Recall that vertices of the BGG graph are labeled by elements $w\\in W$. Given a regular (dominant) weight $\\mu$ we get can associate to each vertex the $\\mathfrak{n}$-module $E[w\\cdot \\lambda]$. \n",
    "- We can also associate to each edge $a\\colon w\\to w'$ an element $F(a)$ in $U(\\mathfrak n)$ and a sign $\\sigma(a)\\in\\{+1,-1\\}$. We have $F(a)\\cdot E[w\\cdot \\lambda]\\subset E[w'\\cdot \\lambda]$.\n",
    "- We define the column $\\mathrm{BGG}_i = \\bigoplus_{\\ell(w)=i}E[w\\cdot \\lambda]$\n",
    "- We define the map $\\delta\\colon\\mathrm{BGG}_i\\to\\mathrm{BGG}_{i+1}$ by $\\sum_{\\ell(w)=i}\\sum_{s(a)=w}\\sigma(a)F(a)$\n",
    "- We want to compute $\\dim H^i = \\dim \\ker \\delta_i - \\dim \\,\\mathrm{coker} \\delta_{i-1} =\\dim \\mathrm{BGG}_i-\\dim \\,\\mathrm{coker} \\delta_i-\\dim \\,\\mathrm{coker} \\delta_{i-1}$\n",
    "- Actually these are the maps on the weight module $M$, but we need them on $E$. For each weight we have a short exact sequence $T^j_k[\\mu]\\to M^j_k[\\mu]\\to E^j_k[\\mu]$. We need to find the projection/section here. Call the section $s_\\mu:E^j_k[\\mu]\\to M^j_k[\\mu]$. Then we need to compute the kernels of the maps\n",
    "$$\\widetilde{\\delta}_i= \\sum_{\\ell(w)=i}\\sum_{a\\colon w\\to w'}s_{w'\\cdot\\lambda}^\\top\\,\\sigma(a)F(a)\\,s_{w\\cdot \\lambda}$$\n",
    "$$\\widetilde{\\delta}^\\top_{i-1}= \\sum_{\\ell(w)=i}\\sum_{a\\colon w'\\to w}s_{w\\cdot\\lambda}^\\top\\,\\sigma(a)F(a)\\,s_{w'\\cdot \\lambda}$$"
   ]
  },
  {
   "cell_type": "code",
   "execution_count": null,
   "metadata": {},
   "outputs": [],
   "source": []
  }
 ],
 "metadata": {
  "kernelspec": {
   "display_name": "SageMath 8.6",
   "language": "",
   "name": "sagemath"
  },
  "language_info": {
   "codemirror_mode": {
    "name": "ipython",
    "version": 2
   },
   "file_extension": ".py",
   "mimetype": "text/x-python",
   "name": "python",
   "nbconvert_exporter": "python",
   "pygments_lexer": "ipython2",
   "version": "2.7.15"
  }
 },
 "nbformat": 4,
 "nbformat_minor": 2
}
