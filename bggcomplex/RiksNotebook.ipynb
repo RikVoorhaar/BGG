{
 "cells": [
  {
   "cell_type": "code",
   "execution_count": 1,
   "metadata": {},
   "outputs": [],
   "source": [
    "from bggcomplex import *\n",
    "from lie_algebra_module import *\n",
    "from quantum_center_module import QuantumFactory\n",
    "from bgg_cohomology import BGGCohomologyComputer\n",
    "import numpy as np\n",
    "import scipy\n",
    "from collections import Counter, defaultdict"
   ]
  },
  {
   "cell_type": "code",
   "execution_count": 2,
   "metadata": {},
   "outputs": [],
   "source": [
    "BGG = BGGComplex(\"G2\")\n",
    "BGG.find_cycles();"
   ]
  },
  {
   "cell_type": "code",
   "execution_count": 3,
   "metadata": {},
   "outputs": [],
   "source": [
    "Solver = BGGMapSolver(BGG,BGG.zero_root)"
   ]
  },
  {
   "cell_type": "code",
   "execution_count": 4,
   "metadata": {},
   "outputs": [],
   "source": [
    "Solver.solve(parallel=False);"
   ]
  },
  {
   "cell_type": "code",
   "execution_count": 5,
   "metadata": {},
   "outputs": [
    {
     "data": {
      "text/plain": [
       "{('', '1'): -1,\n",
       " ('', '2'): -1,\n",
       " ('1', '12'): -1,\n",
       " ('1', '21'): 1,\n",
       " ('12', '121'): 1,\n",
       " ('12', '212'): 1,\n",
       " ('121', '1212'): 1,\n",
       " ('121', '2121'): 1,\n",
       " ('1212', '12121'): 1,\n",
       " ('1212', '21212'): -1,\n",
       " ('12121', '212121'): 1,\n",
       " ('2', '12'): 1,\n",
       " ('2', '21'): -1,\n",
       " ('21', '121'): 1,\n",
       " ('21', '212'): 1,\n",
       " ('212', '1212'): -1,\n",
       " ('212', '2121'): -1,\n",
       " ('2121', '12121'): -1,\n",
       " ('2121', '21212'): 1,\n",
       " ('21212', '212121'): 1}"
      ]
     },
     "execution_count": 5,
     "metadata": {},
     "output_type": "execute_result"
    }
   ],
   "source": [
    "BGG.compute_signs()"
   ]
  },
  {
   "cell_type": "code",
   "execution_count": 6,
   "metadata": {
    "scrolled": true
   },
   "outputs": [
    {
     "data": {
      "image/png": "[encoded data removed]",
      "text/plain": [
       "Graphics object consisting of 21 graphics primitives"
      ]
     },
     "execution_count": 6,
     "metadata": {},
     "output_type": "execute_result"
    }
   ],
   "source": [
    "BGG.plot_graph().plot()"
   ]
  },
  {
   "cell_type": "markdown",
   "metadata": {},
   "source": [
    "We want to implement the $U(\\mathfrak g)$ action on the module\n",
    "$$\n",
    "    M_i^j=\\bigoplus{}_{r=0}^{j+\\frac k2}\\left(\\left(\\bigodot{}^{j+\\frac k2-r}\\mathfrak u \\right)\\otimes\\left(\\bigwedge^r\\mathfrak g\\right)\\otimes\\left(\\bigwedge{}^{j+\\frac k2}\\mathfrak n \\right) \\right)\n",
    "$$\n",
    "For this we need two things, one is finding a basis of this module, and second we define the action on it. Unfortunately I can't find a good out of the box implementation for either of these, so we are going to have to do it ourselves. Ideally we can use this to extend sage a little bit. \n",
    "\n",
    "Sagemath has a class FreeModuleTensor, it can deal with alternating and symmetric tensors. But it specifically says it can not deal with tensor products of different modules, whereas that is precisely what we need. We should investigate how this class work, and extend it with this functionality. Besides, that module seems to focus on doing stuff without a specific basis. We want to do everything in a basis, because the whole point is to compute a basis. \n",
    "\n",
    "We should make an instance of CombinatorialFreeModule"
   ]
  },
  {
   "cell_type": "markdown",
   "metadata": {},
   "source": [
    "Next steps:\n",
    "- compute phi (there is a slight discrepency between this phi and the one in Mathematica. might be because here we choose a more reasonable basis)\n",
    "- construct M\n",
    "- construct submodule T\n",
    "- take quotients by subspaces\n",
    "- compute dot regular weights\n",
    "- attach it to BGG complex, compute (co)kernel dimensions"
   ]
  },
  {
   "cell_type": "markdown",
   "metadata": {},
   "source": [
    "### Definition of coadjoint action\n",
    "\n",
    "We have a pairing $\\langle\\,\\,,\\,\\rangle$ on $\\mathfrak g$. We also have a map on the root space, ${}^*$ sending:\n",
    "$e_I \\leftrightarrow f_I$, $h_i\\leftrightarrow h_i$. Then the coadjoint action, corestricted to a subalgebra $\\mathfrak i<\\mathfrak g$ with basis $\\{\\alpha_i\\}$,\n",
    "$$\n",
    " \\left.\\mathrm{ad}^*\\right|_{\\mathfrak{i}}(X)(m) =- \\sum_i\\langle m,\\,[X,\\alpha_i^*] \\rangle\\alpha_i\n",
    "$$\n",
    "The pairing is defined by $\\langle e_I,f_I\\rangle=\\delta_{i,j}$ and $\\langle h_i,h_j\\rangle=\\delta_{i,j}$. We also define\n",
    "$$\n",
    "\\varphi:\\mathfrak b\\to\\mathfrak n\\otimes\\mathfrak u,\\quad \\varphi(m)=\\sum_I f_I\\otimes \\left.\\mathrm{ad}^*\\right|_{\\mathfrak{u}}(m)(e_I)\n",
    "$$\n",
    "Note that the image of $\\varphi$ is weight zero."
   ]
  },
  {
   "cell_type": "markdown",
   "metadata": {},
   "source": [
    "## The module M\n",
    "\n",
    "Recall:\n",
    "$$\n",
    "    M_j^k=\\bigoplus{}_{r=0}^{j+\\frac k2}\\left(\\left(\\bigodot{}^{j+\\frac k2-r}\\mathfrak u \\right)\\otimes\\left(\\bigwedge^r\\mathfrak g\\right)\\otimes\\left(\\bigwedge{}^{j-r}\\mathfrak n \\right) \\right)\n",
    "$$"
   ]
  },
  {
   "cell_type": "code",
   "execution_count": 7,
   "metadata": {},
   "outputs": [],
   "source": [
    "maps = BGG.compute_maps(BGG.zero_root)"
   ]
  },
  {
   "cell_type": "code",
   "execution_count": 8,
   "metadata": {},
   "outputs": [],
   "source": [
    "q_factory = QuantumFactory(BGG)"
   ]
  },
  {
   "cell_type": "code",
   "execution_count": 9,
   "metadata": {},
   "outputs": [],
   "source": [
    "def ijk(a,b):\n",
    "    return (int((a-b)/2),int((a+b)/2),-a)"
   ]
  },
  {
   "cell_type": "code",
   "execution_count": 10,
   "metadata": {},
   "outputs": [
    {
     "name": "stdout",
     "output_type": "stream",
     "text": [
      "(0, 6, -6)\n"
     ]
    }
   ],
   "source": [
    "i,j,k=ijk(6,6)\n",
    "print(i,j,k)\n",
    "\n",
    "module = q_factory.M_module(j,k)\n",
    "relations = q_factory.T_spanning_set(j,k)"
   ]
  },
  {
   "cell_type": "markdown",
   "metadata": {},
   "source": [
    "We should have a new class WeightModule which is an extension of LieAlgebraModule, but has the function get_weight. Then we should make a new module, compute_bgg_cohomology which takes a BGG and WeightModule as input to compute BGG."
   ]
  },
  {
   "cell_type": "code",
   "execution_count": 11,
   "metadata": {},
   "outputs": [],
   "source": [
    "wtmod = q_factory.weight_module(j,k)"
   ]
  },
  {
   "cell_type": "code",
   "execution_count": null,
   "metadata": {
    "scrolled": true
   },
   "outputs": [],
   "source": [
    "BGG.compute_signs(force_recompute=True)\n",
    "cohomology_computer = BGGCohomologyComputer(BGG,wtmod,0)\n",
    "diff = cohomology_computer.bgg_differential(BGG.zero_root, i)\n",
    "diff.dimensions()[0]-diff.rank()"
   ]
  },
  {
   "cell_type": "code",
   "execution_count": null,
   "metadata": {},
   "outputs": [],
   "source": []
  },
  {
   "cell_type": "code",
   "execution_count": 13,
   "metadata": {},
   "outputs": [],
   "source": [
    "all_weights, regular_weights = BGG.compute_weights(wtmod)"
   ]
  },
  {
   "cell_type": "markdown",
   "metadata": {},
   "source": [
    "How to compute cohomology:\n",
    "- We start with a weight module E. Nothing is assumed about it.\n",
    "- We first of all compute all the dot regular weights of E. \n",
    "- For each dot regular weight $\\mu$, define the length $\\ell(\\mu)$ as the length of the unique $w\\in W$ such that $w\\cdot\\mu$ is dominant. \n",
    "- We make a list of tuples $(\\mu,\\,w\\cdot \\mu,\\,\\ell(\\mu))$\n",
    "- Let's say we want to compute cohomology in degree i. We create a list $H^i(E)$ = `[ ]`\n",
    "- We select all $(\\mu,\\,w\\cdot \\mu,\\,\\ell(\\mu))$ with $\\ell(\\mu)=i$\n",
    "- We compute $H^i(\\mathrm{BGG}(E,w\\cdot\\mu))$\n",
    "    - If there are no $(\\mu',\\,w'\\cdot \\mu',\\,\\ell(\\mu))$ with $w'\\cdot\\mu'=w\\cdot \\mu$ and $\\ell(\\mu')=i\\pm 1$, then\n",
    "    a priori we know that $H^i(\\mathrm{BGG}(E,w\\cdot\\mu)) = E[\\mu]$, so we just add $(\\mu,\\dim E[\\mu])$ to the list $H^i(E)$.\n",
    "    \n",
    "Now assume that $\\lambda=w\\cdot \\mu$ is a dot-regular dominant weight. \n",
    "\n",
    "How to compute $H^i(\\mathrm{BGG}(E,\\lambda))$:\n",
    "- Recall that vertices of the BGG graph are labeled by elements $w\\in W$. Given a regular (dominant) weight $\\mu$ we get can associate to each vertex the $\\mathfrak{n}$-module $E[w\\cdot \\lambda]$. \n",
    "- We can also associate to each edge $a\\colon w\\to w'$ an element $F(a)$ in $U(\\mathfrak n)$ and a sign $\\sigma(a)\\in\\{+1,-1\\}$. We have $F(a)\\cdot E[w\\cdot \\lambda]\\subset E[w'\\cdot \\lambda]$.\n",
    "- We define the column $\\mathrm{BGG}_i = \\bigoplus_{\\ell(w)=i}E[w\\cdot \\lambda]$\n",
    "- We define the map $\\delta\\colon\\mathrm{BGG}_i\\to\\mathrm{BGG}_{i+1}$ by $\\sum_{\\ell(w)=i}\\sum_{s(a)=w}\\sigma(a)F(a)$\n",
    "- We want to compute $\\dim H^i = \\dim \\ker \\delta_i - \\dim \\,\\mathrm{coker} \\delta_{i-1} =\\dim\\ker\\delta_i-\\dim \\mathrm{BGG}_i+\\dim\\ker\\delta_{i-1}^\\top$\n",
    "- Actually these are the maps on the weight module $M$, but we need them on $E$. For each weight we have a short exact sequence $T^j_k[\\mu]\\to M^j_k[\\mu]\\to E^j_k[\\mu]$. We need to find the projection/section here. Call the section $s_\\mu:E^j_k[\\mu]\\to M^j_k[\\mu]$. Then we need to compute the kernels of the maps\n",
    "$$\\widetilde{\\delta}_i= \\sum_{\\ell(w)=i}\\sum_{a\\colon w\\to w'}s_{w'\\cdot\\lambda}^\\top\\,\\sigma(a)F(a)\\,s_{w\\cdot \\lambda}$$\n",
    "$$\\widetilde{\\delta}^\\top_{i-1}= \\sum_{\\ell(w)=i}\\sum_{a\\colon w'\\to w}s_{w\\cdot\\lambda}^\\top\\,\\sigma(a)F(a)\\,s_{w'\\cdot \\lambda}$$"
   ]
  },
  {
   "cell_type": "code",
   "execution_count": 14,
   "metadata": {},
   "outputs": [],
   "source": [
    "weight = BGG.zero_root"
   ]
  },
  {
   "cell_type": "code",
   "execution_count": 15,
   "metadata": {},
   "outputs": [],
   "source": [
    "maps = BGG.compute_maps(weight)\n",
    "column = BGG.column[i]\n",
    "delta_i_arrows = [(w,[arrow for arrow in BGG.arrows if arrow[0]==w]) for w in column]\n",
    "delta_i_1_arrows = [(w,[arrow for arrow in BGG.arrows if arrow[1]==w]) for w in column]"
   ]
  },
  {
   "cell_type": "code",
   "execution_count": 16,
   "metadata": {
    "scrolled": false
   },
   "outputs": [
    {
     "data": {
      "text/plain": [
       "{'': 0,\n",
       " '1': -alpha[1],\n",
       " '12': -4*alpha[1] - alpha[2],\n",
       " '121': -6*alpha[1] - 2*alpha[2],\n",
       " '1212': -9*alpha[1] - 4*alpha[2],\n",
       " '12121': -10*alpha[1] - 5*alpha[2],\n",
       " '2': -alpha[2],\n",
       " '21': -alpha[1] - 2*alpha[2],\n",
       " '212': -4*alpha[1] - 4*alpha[2],\n",
       " '2121': -6*alpha[1] - 5*alpha[2],\n",
       " '21212': -9*alpha[1] - 6*alpha[2],\n",
       " '212121': -10*alpha[1] - 6*alpha[2]}"
      ]
     },
     "execution_count": 16,
     "metadata": {},
     "output_type": "execute_result"
    }
   ],
   "source": [
    "vertex_weights = dict()\n",
    "for w,reflection in BGG.reduced_word_dic.items():\n",
    "    new_weight = BGG.weight_to_alpha_sum(reflection.action(weight+BGG.rho)-BGG.rho)\n",
    "    vertex_weights[w]=new_weight\n",
    "vertex_weights"
   ]
  },
  {
   "cell_type": "code",
   "execution_count": 17,
   "metadata": {},
   "outputs": [],
   "source": [
    "def section_transpose_image(section,monomial_coeffs,section_index):\n",
    "    \"\"\"computes the image of the tranpose of the section, reports the coefficients as (index,row_number) where \n",
    "    index is supplied and should be the w' vertex of BGG, and row_number is the number of the row of the section\"\"\"\n",
    "    output = Counter()\n",
    "    for row_index,row in enumerate(section):\n",
    "        for monomial_key, monomial_coeff in monomial_coeffs.items():\n",
    "            if monomial_key in row:\n",
    "                output[(section_index,row_index)]+=row[monomial_key]*monomial_coeff\n",
    "    return output\n",
    "            "
   ]
  },
  {
   "cell_type": "code",
   "execution_count": 18,
   "metadata": {
    "scrolled": false
   },
   "outputs": [],
   "source": [
    "def bgg_differential(self, maps, i):\n",
    "    \"\"\"Compute the BGG differential $\\tilde \\delta_i: E_i\\to E_{i+1}$ on the quotient weight module.\"\"\"\n",
    "    \n",
    "    # Get vertices of the ith column\n",
    "    column = self.column[i]\n",
    "    \n",
    "    # Find all the arrows going from ith column to (i+1)th column in form (w, [w->w',w->w'',...])\n",
    "    delta_i_arrows = [(w, [arrow for arrow in self.arrows if arrow[0]==w]) for w in column]\n",
    "    \n",
    "    # Initialize output. Since there could be two arrows with the same target, we use counter to sum results.\n",
    "    output_dic = defaultdict(Counter)\n",
    "    \n",
    "    for initial_vertex,arrows in delta_i_arrows:\n",
    "        # Get the section for the initial weight w\n",
    "        initial_section = wtmod.get_section(vertex_weights[initial_vertex])\n",
    "        \n",
    "        #for index,_ in enumerate(initial_section):\n",
    "        #    output_dic[(initial_vertex,index)]=Counter()\n",
    "        \n",
    "        # Compute $s_w'^\\top \\sigma(a) F(a) \\,s_w$ for each a:w->w'\n",
    "        for a in arrows:\n",
    "            sign = BGG.signs[a]\n",
    "            print(a, sign)\n",
    "            pbw = maps[a]\n",
    "            final_section = wtmod.get_section(vertex_weights[a[1]])\n",
    "            \n",
    "            # Compute image for each row of the initial_section, add results together\n",
    "            for index,row in enumerate(initial_section):\n",
    "                \n",
    "                # First the image of the row without applying the transpose section\n",
    "                image_before_section = Counter()\n",
    "                \n",
    "                # Compute the action of the PBW element on each of the basis components \n",
    "                # of the row of the section and add the result together\n",
    "                for key,coeff in row.items():\n",
    "                    action_on_element = wtmod.pbw_action(pbw,wtmod.basis()[key])\n",
    "                    action_on_element = wtmod.action(pbw,wtmod.basis()[key])\n",
    "\n",
    "                    action_on_element *= coeff *sign\n",
    "                    monomial_coeffs = action_on_element.monomial_coefficients()\n",
    "\n",
    "                    for mon_key, mon_coeff in monomial_coeffs.items():\n",
    "                        image_before_section[mon_key]+=mon_coeff\n",
    "\n",
    "                # Compute the image of the row under the tranpose section, add the result to the output\n",
    "                if len(image_before_section)>0:\n",
    "                    final_image = section_transpose_image(final_section,image_before_section,a[1])\n",
    "                    for mon_key, mon_coeff in final_image.items():\n",
    "                        output_dic[(initial_vertex,index)][mon_key]+=mon_coeff\n",
    "                    #=output_dic[(initial_vertex,index)]+final_image\n",
    "    return dict(output_dic)"
   ]
  },
  {
   "cell_type": "code",
   "execution_count": 19,
   "metadata": {},
   "outputs": [
    {
     "name": "stdout",
     "output_type": "stream",
     "text": [
      "(('', '1'), -1)\n",
      "(('', '2'), -1)\n",
      "(103, 186)\n"
     ]
    },
    {
     "data": {
      "text/plain": [
       "1"
      ]
     },
     "execution_count": 19,
     "metadata": {},
     "output_type": "execute_result"
    }
   ],
   "source": [
    "BGG.compute_signs(force_recompute=True)\n",
    "output_dic = bgg_differential(BGG, maps, i)\n",
    "\n",
    "import itertools\n",
    "def vectorize_dictionaries(list_of_dics):\n",
    "    if isinstance(list_of_dics,dict):\n",
    "        list_of_dics=list_of_dics.values()\n",
    "    keys = set()\n",
    "    for dic in list_of_dics:\n",
    "        for key in dic.keys():\n",
    "            keys.add(key)\n",
    "    #keys = set(itertools.chain.from_iterable(dic.keys() for dic in list_of_dics))\n",
    "    keys = sorted(keys)\n",
    "    key_map = {key:i for i,key in enumerate(keys)}\n",
    "    \n",
    "    output  = matrix(ZZ,len(list_of_dics),len(key_map))\n",
    "    for row_number,row in enumerate(list_of_dics):\n",
    "        for key,value in row.items():\n",
    "            output[row_number,key_map[key]] = value\n",
    "    return output\n",
    "delta_i_matrix = vectorize_dictionaries(output_dic)\n",
    "print(delta_i_matrix.dimensions())\n",
    "len(output_dic)-delta_i_matrix.rank()"
   ]
  },
  {
   "cell_type": "markdown",
   "metadata": {},
   "source": [
    "Problems with signs! There are actually only 4 ways to choose signs for the G2 case in i=0, so let's write down the result for each of these:\n",
    "- (-1,-1) : 1, dim = (103,179)\n",
    "- (1, 1) : 2, dim = (103,174)\n",
    "- (-1, 1) : 1, dim = (103,178)\n",
    "- (1, -1) : 4, dim = (103,175)\n",
    "\n",
    "At least this seems to be perfectly consistent!"
   ]
  },
  {
   "cell_type": "code",
   "execution_count": 20,
   "metadata": {},
   "outputs": [
    {
     "data": {
      "text/plain": [
       "[('', '1', '21', '2', ''),\n",
       " ('', '1', '12', '2', ''),\n",
       " ('2', '12', '212', '21', '2'),\n",
       " ('2', '12', '121', '21', '2'),\n",
       " ('1', '12', '212', '21', '1'),\n",
       " ('1', '12', '121', '21', '1'),\n",
       " ('12', '121', '2121', '212', '12'),\n",
       " ('12', '121', '1212', '212', '12'),\n",
       " ('21', '121', '2121', '212', '21'),\n",
       " ('21', '121', '1212', '212', '21'),\n",
       " ('212', '1212', '21212', '2121', '212'),\n",
       " ('212', '1212', '12121', '2121', '212'),\n",
       " ('121', '1212', '21212', '2121', '121'),\n",
       " ('121', '1212', '12121', '2121', '121'),\n",
       " ('2121', '12121', '212121', '21212', '2121'),\n",
       " ('1212', '12121', '212121', '21212', '1212')]"
      ]
     },
     "execution_count": 20,
     "metadata": {},
     "output_type": "execute_result"
    }
   ],
   "source": [
    "BGG.cycles"
   ]
  },
  {
   "cell_type": "code",
   "execution_count": 21,
   "metadata": {},
   "outputs": [
    {
     "data": {
      "text/plain": [
       "{('', '1'): -1,\n",
       " ('', '2'): 1,\n",
       " ('1', '12'): 1,\n",
       " ('1', '21'): 1,\n",
       " ('12', '121'): -1,\n",
       " ('12', '212'): 1,\n",
       " ('121', '1212'): 1,\n",
       " ('121', '2121'): -1,\n",
       " ('1212', '12121'): 1,\n",
       " ('1212', '21212'): 1,\n",
       " ('12121', '212121'): 1,\n",
       " ('2', '12'): 1,\n",
       " ('2', '21'): 1,\n",
       " ('21', '121'): 1,\n",
       " ('21', '212'): -1,\n",
       " ('212', '1212'): 1,\n",
       " ('212', '2121'): -1,\n",
       " ('2121', '12121'): 1,\n",
       " ('2121', '21212'): 1,\n",
       " ('21212', '212121'): -1}"
      ]
     },
     "execution_count": 21,
     "metadata": {},
     "output_type": "execute_result"
    }
   ],
   "source": [
    "BGG.compute_signs(force_recompute=True)\n",
    "BGG.signs"
   ]
  },
  {
   "cell_type": "code",
   "execution_count": null,
   "metadata": {},
   "outputs": [],
   "source": []
  }
 ],
 "metadata": {
  "kernelspec": {
   "display_name": "SageMath 8.6",
   "language": "",
   "name": "sagemath"
  },
  "language_info": {
   "codemirror_mode": {
    "name": "ipython",
    "version": 2
   },
   "file_extension": ".py",
   "mimetype": "text/x-python",
   "name": "python",
   "nbconvert_exporter": "python",
   "pygments_lexer": "ipython2",
   "version": "2.7.15"
  }
 },
 "nbformat": 4,
 "nbformat_minor": 2
}
