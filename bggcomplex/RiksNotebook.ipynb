{
 "cells": [
  {
   "cell_type": "code",
   "execution_count": 2,
   "metadata": {},
   "outputs": [],
   "source": [
    "from bggcomplex import *\n",
    "import numpy as np"
   ]
  },
  {
   "cell_type": "code",
   "execution_count": 3,
   "metadata": {},
   "outputs": [],
   "source": [
    "BGG = BGGComplex(\"G2\")\n",
    "BGG.find_cycles();"
   ]
  },
  {
   "cell_type": "code",
   "execution_count": 4,
   "metadata": {},
   "outputs": [],
   "source": [
    "Solver = BGGMapSolver(BGG,BGG.zero_root)"
   ]
  },
  {
   "cell_type": "code",
   "execution_count": 5,
   "metadata": {},
   "outputs": [],
   "source": [
    "Solver.solve(parallel=False);"
   ]
  },
  {
   "cell_type": "code",
   "execution_count": 6,
   "metadata": {
    "scrolled": true
   },
   "outputs": [
    {
     "name": "stdout",
     "output_type": "stream",
     "text": [
      "{'index': 0.0019822120666503906, 'vect': 0.0056591033935546875, 'basis': 0.0032172203063964844, 'mult': 0.021803855895996094, 'linalg': 0.31130123138427734}\n"
     ]
    }
   ],
   "source": [
    "print(Solver.timer)"
   ]
  },
  {
   "cell_type": "code",
   "execution_count": 7,
   "metadata": {},
   "outputs": [
    {
     "name": "stdout",
     "output_type": "stream",
     "text": [
      "checked 32 cycles, with no problems found!\n"
     ]
    }
   ],
   "source": [
    "Solver.check_maps()"
   ]
  },
  {
   "cell_type": "code",
   "execution_count": 8,
   "metadata": {},
   "outputs": [],
   "source": [
    "BGG.compute_signs()"
   ]
  },
  {
   "cell_type": "code",
   "execution_count": 9,
   "metadata": {
    "scrolled": true
   },
   "outputs": [
    {
     "data": {
      "image/png": "[encoded data removed]",
      "text/plain": [
       "Graphics object consisting of 21 graphics primitives"
      ]
     },
     "execution_count": 9,
     "metadata": {},
     "output_type": "execute_result"
    }
   ],
   "source": [
    "BGG.plot_graph().plot()"
   ]
  },
  {
   "cell_type": "code",
   "execution_count": 10,
   "metadata": {},
   "outputs": [
    {
     "data": {
      "text/plain": [
       "Finite family {1: (0, 1, -1), 2: (1, -2, 1)}"
      ]
     },
     "execution_count": 10,
     "metadata": {},
     "output_type": "execute_result"
    }
   ],
   "source": [
    "roots=BGG.W.domain().simple_roots()\n",
    "roots"
   ]
  },
  {
   "cell_type": "code",
   "execution_count": 11,
   "metadata": {},
   "outputs": [],
   "source": [
    "dom = BGG.W.domain()\n",
    "cr= dom.coroot_lattice()"
   ]
  },
  {
   "cell_type": "code",
   "execution_count": 12,
   "metadata": {},
   "outputs": [
    {
     "data": {
      "text/plain": [
       "Finite family {1: (1, 0, -1), 2: (2, -1, -1)}"
      ]
     },
     "execution_count": 12,
     "metadata": {},
     "output_type": "execute_result"
    }
   ],
   "source": [
    "fun=dom.fundamental_weights_from_simple_roots()\n",
    "fun"
   ]
  },
  {
   "cell_type": "code",
   "execution_count": 13,
   "metadata": {},
   "outputs": [
    {
     "data": {
      "text/plain": [
       "Finite family {1: (0, 1, -1), 2: (1/3, -2/3, 1/3)}"
      ]
     },
     "execution_count": 13,
     "metadata": {},
     "output_type": "execute_result"
    }
   ],
   "source": [
    "dom.simple_coroots()"
   ]
  },
  {
   "cell_type": "code",
   "execution_count": 14,
   "metadata": {},
   "outputs": [
    {
     "data": {
      "text/plain": [
       "[[2, 1], [3, 2]]"
      ]
     },
     "execution_count": 14,
     "metadata": {},
     "output_type": "execute_result"
    }
   ],
   "source": [
    "[BGG._weight_to_tuple(r) for r in fun.values()]"
   ]
  },
  {
   "cell_type": "code",
   "execution_count": 15,
   "metadata": {},
   "outputs": [
    {
     "data": {
      "text/plain": [
       "Finite family {1: (0, 1, -1), 2: (1/3, -2/3, 1/3)}"
      ]
     },
     "execution_count": 15,
     "metadata": {},
     "output_type": "execute_result"
    }
   ],
   "source": [
    "dom = BGG.W.domain()\n",
    "dom.simple_coroots()"
   ]
  },
  {
   "cell_type": "code",
   "execution_count": 16,
   "metadata": {},
   "outputs": [
    {
     "data": {
      "text/plain": [
       "Finite family {1: (0, 1, -1), 2: (1, -2, 1)}"
      ]
     },
     "execution_count": 16,
     "metadata": {},
     "output_type": "execute_result"
    }
   ],
   "source": [
    "dom.simple_roots()"
   ]
  },
  {
   "cell_type": "code",
   "execution_count": 17,
   "metadata": {},
   "outputs": [
    {
     "data": {
      "text/plain": [
       "(1, -1, 0)"
      ]
     },
     "execution_count": 17,
     "metadata": {},
     "output_type": "execute_result"
    }
   ],
   "source": [
    "BGG._tuple_to_weight([1,1,1/2])"
   ]
  },
  {
   "cell_type": "code",
   "execution_count": 18,
   "metadata": {},
   "outputs": [],
   "source": [
    "mu=fun[1]"
   ]
  },
  {
   "cell_type": "code",
   "execution_count": 19,
   "metadata": {},
   "outputs": [],
   "source": [
    "mu = BGG.zero_root"
   ]
  },
  {
   "cell_type": "code",
   "execution_count": 20,
   "metadata": {},
   "outputs": [
    {
     "data": {
      "text/plain": [
       "[(0, 0, 0),\n",
       " (-5, 4, 1),\n",
       " (-4, -1, 5),\n",
       " (-1, 2, -1),\n",
       " (-6, 3, 3),\n",
       " (-2, -2, 4),\n",
       " (0, -1, 1),\n",
       " (-5, 0, 5),\n",
       " (-4, 4, 0),\n",
       " (-1, -2, 3),\n",
       " (-6, 2, 4),\n",
       " (-2, 3, -1)]"
      ]
     },
     "execution_count": 20,
     "metadata": {},
     "output_type": "execute_result"
    }
   ],
   "source": [
    "[BGG._tuple_to_weight(BGG.dot_action(w,mu))-mu for w in BGG.W]"
   ]
  },
  {
   "cell_type": "code",
   "execution_count": 21,
   "metadata": {},
   "outputs": [],
   "source": [
    "def is_dot_regular(mu):\n",
    "    stab_counter = 0\n",
    "    for w in BGG.W:\n",
    "        if w.action(mu+BGG.rho)-BGG.rho==mu:\n",
    "            stab_counter+=1\n",
    "    if stab_counter<=1:\n",
    "        return True\n",
    "    else:\n",
    "        return False"
   ]
  },
  {
   "cell_type": "code",
   "execution_count": 22,
   "metadata": {},
   "outputs": [
    {
     "data": {
      "text/plain": [
       "True"
      ]
     },
     "execution_count": 22,
     "metadata": {},
     "output_type": "execute_result"
    }
   ],
   "source": [
    "(BGG.rho-fun[1]).is_dominant()"
   ]
  },
  {
   "cell_type": "code",
   "execution_count": 23,
   "metadata": {},
   "outputs": [
    {
     "ename": "IndexError",
     "evalue": "list index out of range",
     "output_type": "error",
     "traceback": [
      "\u001b[0;31m---------------------------------------------------------------------------\u001b[0m",
      "\u001b[0;31mIndexError\u001b[0m                                Traceback (most recent call last)",
      "\u001b[0;32m<ipython-input-23-7b1a595fbbe3>\u001b[0m in \u001b[0;36m<module>\u001b[0;34m()\u001b[0m\n\u001b[0;32m----> 1\u001b[0;31m \u001b[0mmu\u001b[0m\u001b[0;34m=\u001b[0m\u001b[0;34m(\u001b[0m\u001b[0mInteger\u001b[0m\u001b[0;34m(\u001b[0m\u001b[0;36m5\u001b[0m\u001b[0;34m)\u001b[0m\u001b[0;34m*\u001b[0m\u001b[0mBGG\u001b[0m\u001b[0;34m.\u001b[0m\u001b[0msimple_roots\u001b[0m\u001b[0;34m[\u001b[0m\u001b[0mInteger\u001b[0m\u001b[0;34m(\u001b[0m\u001b[0;36m1\u001b[0m\u001b[0;34m)\u001b[0m\u001b[0;34m]\u001b[0m\u001b[0;34m+\u001b[0m\u001b[0mInteger\u001b[0m\u001b[0;34m(\u001b[0m\u001b[0;36m6\u001b[0m\u001b[0;34m)\u001b[0m\u001b[0;34m*\u001b[0m\u001b[0mBGG\u001b[0m\u001b[0;34m.\u001b[0m\u001b[0msimple_roots\u001b[0m\u001b[0;34m[\u001b[0m\u001b[0mInteger\u001b[0m\u001b[0;34m(\u001b[0m\u001b[0;36m2\u001b[0m\u001b[0;34m)\u001b[0m\u001b[0;34m]\u001b[0m\u001b[0;34m+\u001b[0m\u001b[0mInteger\u001b[0m\u001b[0;34m(\u001b[0m\u001b[0;36m5\u001b[0m\u001b[0;34m)\u001b[0m\u001b[0;34m*\u001b[0m\u001b[0mBGG\u001b[0m\u001b[0;34m.\u001b[0m\u001b[0msimple_roots\u001b[0m\u001b[0;34m[\u001b[0m\u001b[0mInteger\u001b[0m\u001b[0;34m(\u001b[0m\u001b[0;36m3\u001b[0m\u001b[0;34m)\u001b[0m\u001b[0;34m]\u001b[0m\u001b[0;34m)\u001b[0m\u001b[0;34m\u001b[0m\u001b[0m\n\u001b[0m\u001b[1;32m      2\u001b[0m \u001b[0;32mprint\u001b[0m\u001b[0;34m(\u001b[0m\u001b[0mmu\u001b[0m\u001b[0;34m.\u001b[0m\u001b[0mis_dominant\u001b[0m\u001b[0;34m(\u001b[0m\u001b[0;34m)\u001b[0m\u001b[0;34m)\u001b[0m\u001b[0;34m\u001b[0m\u001b[0m\n\u001b[1;32m      3\u001b[0m \u001b[0;32mprint\u001b[0m\u001b[0;34m(\u001b[0m\u001b[0mBGG\u001b[0m\u001b[0;34m.\u001b[0m\u001b[0mis_dot_regular\u001b[0m\u001b[0;34m(\u001b[0m\u001b[0mmu\u001b[0m\u001b[0;34m)\u001b[0m\u001b[0;34m)\u001b[0m\u001b[0;34m\u001b[0m\u001b[0m\n",
      "\u001b[0;31mIndexError\u001b[0m: list index out of range"
     ]
    }
   ],
   "source": [
    "mu=(5*BGG.simple_roots[1]+6*BGG.simple_roots[2]+5*BGG.simple_roots[3])\n",
    "print(mu.is_dominant())\n",
    "print(BGG.is_dot_regular(mu))"
   ]
  },
  {
   "cell_type": "code",
   "execution_count": 24,
   "metadata": {},
   "outputs": [
    {
     "data": {
      "text/plain": [
       "(\n",
       "           [1 0 0]\n",
       "           [0 1 0]\n",
       "(0, 0, 0), [0 0 1]\n",
       ")"
      ]
     },
     "execution_count": 24,
     "metadata": {},
     "output_type": "execute_result"
    }
   ],
   "source": [
    "BGG.make_dominant(mu)"
   ]
  },
  {
   "cell_type": "code",
   "execution_count": 25,
   "metadata": {},
   "outputs": [
    {
     "data": {
      "text/plain": [
       "E[alpha[2]]"
      ]
     },
     "execution_count": 25,
     "metadata": {},
     "output_type": "execute_result"
    }
   ],
   "source": [
    "e = list(BGG.LA.basis())[0]\n",
    "f = list(BGG.LA.basis())[1]\n",
    "e"
   ]
  },
  {
   "cell_type": "code",
   "execution_count": 26,
   "metadata": {},
   "outputs": [
    {
     "data": {
      "text/plain": [
       "{'PBW[-2*alpha[1] - alpha[2]]': E[-2*alpha[1] - alpha[2]],\n",
       " 'PBW[-3*alpha[1] - 2*alpha[2]]': E[-3*alpha[1] - 2*alpha[2]],\n",
       " 'PBW[-3*alpha[1] - alpha[2]]': E[-3*alpha[1] - alpha[2]],\n",
       " 'PBW[-alpha[1] - alpha[2]]': E[-alpha[1] - alpha[2]],\n",
       " 'PBW[-alpha[1]]': E[-alpha[1]],\n",
       " 'PBW[-alpha[2]]': E[-alpha[2]],\n",
       " 'PBW[2*alpha[1] + alpha[2]]': E[2*alpha[1] + alpha[2]],\n",
       " 'PBW[3*alpha[1] + 2*alpha[2]]': E[3*alpha[1] + 2*alpha[2]],\n",
       " 'PBW[3*alpha[1] + alpha[2]]': E[3*alpha[1] + alpha[2]],\n",
       " 'PBW[alpha[1] + alpha[2]]': E[alpha[1] + alpha[2]],\n",
       " 'PBW[alpha[1]]': E[alpha[1]],\n",
       " 'PBW[alpha[2]]': E[alpha[2]],\n",
       " 'PBW[alphacheck[1]]': h1,\n",
       " 'PBW[alphacheck[2]]': h2}"
      ]
     },
     "execution_count": 26,
     "metadata": {},
     "output_type": "execute_result"
    }
   ],
   "source": [
    "BGG.PBW_alg_gens\n",
    "BGG.LA.basis()\n",
    "pbw_to_la={str(value):BGG.LA.basis()[key] for key,value in dict(BGG.PBW_alg_gens).items()}\n",
    "pbw_to_la"
   ]
  },
  {
   "cell_type": "code",
   "execution_count": 27,
   "metadata": {},
   "outputs": [],
   "source": [
    "#for e in BGG.LA.basis():\n",
    "#    result=0\n",
    "#    for term,coefficient in elt:\n",
    "#        sub_result=e\n",
    "#        for factor,power in term:\n",
    "#            for _ in range(power):\n",
    "#                sub_result=BGG.LA.bracket(pbw_to_la[str(factor)],sub_result)\n",
    "#        result+=sub_result\n",
    "#    print(e,result)"
   ]
  },
  {
   "cell_type": "code",
   "execution_count": 28,
   "metadata": {},
   "outputs": [],
   "source": [
    "def universal_enveloping_algebra_action(pbw_elt,e):\n",
    "    result=0\n",
    "    for term,coefficient in pbw_elt:\n",
    "            sub_result=e\n",
    "            for factor,power in term:\n",
    "                for _ in range(power):\n",
    "                    sub_result=BGG.LA.bracket(factor,sub_result)\n",
    "            result+=sub_result\n",
    "    return result"
   ]
  },
  {
   "cell_type": "markdown",
   "metadata": {},
   "source": [
    "We want to implement the $U(\\mathfrak g)$ action on the module\n",
    "$$\n",
    "    M_i^j=\\bigoplus{}_{r=0}^{j+\\frac k2}\\left(\\left(\\bigodot{}^{j+\\frac k2-r}\\mathfrak u \\right)\\otimes\\left(\\bigwedge^r\\mathfrak g\\right)\\otimes\\left(\\bigwedge{}^{j+\\frac k2}\\mathfrak n \\right) \\right)\n",
    "$$\n",
    "For this we need two things, one is finding a basis of this module, and second we define the action on it. Unfortunately I can't find a good out of the box implementation for either of these, so we are going to have to do it ourselves. Ideally we can use this to extend sage a little bit. \n",
    "\n",
    "Sagemath has a class FreeModuleTensor, it can deal with alternating and symmetric tensors. But it specifically says it can not deal with tensor products of different modules, whereas that is precisely what we need. We should investigate how this class work, and extend it with this functionality. Besides, that module seems to focus on doing stuff without a specific basis. We want to do everything in a basis, because the whole point is to compute a basis. \n",
    "\n",
    "We should make an instance of CombinatorialFreeModule"
   ]
  },
  {
   "cell_type": "code",
   "execution_count": 29,
   "metadata": {
    "scrolled": true
   },
   "outputs": [
    {
     "data": {
      "text/plain": [
       "{((1, -3), (2, -2)): -3*alpha[1] - 2*alpha[2],\n",
       " ((1, -3), (2, -1)): -3*alpha[1] - alpha[2],\n",
       " ((1, -2), (2, -1)): -2*alpha[1] - alpha[2],\n",
       " ((1, -1),): -alpha[1],\n",
       " ((1, -1), (2, -1)): -alpha[1] - alpha[2],\n",
       " ((1, 1),): alphacheck[1],\n",
       " ((1, 1), (2, 1)): alpha[1] + alpha[2],\n",
       " ((1, 2), (2, 1)): 2*alpha[1] + alpha[2],\n",
       " ((1, 3), (2, 1)): 3*alpha[1] + alpha[2],\n",
       " ((1, 3), (2, 2)): 3*alpha[1] + 2*alpha[2],\n",
       " ((2, -1),): -alpha[2],\n",
       " ((2, 1),): alphacheck[2]}"
      ]
     },
     "execution_count": 29,
     "metadata": {},
     "output_type": "execute_result"
    }
   ],
   "source": [
    "{tuple(a):a for a in BGG.LA.basis().keys()}"
   ]
  },
  {
   "cell_type": "code",
   "execution_count": 30,
   "metadata": {
    "scrolled": true
   },
   "outputs": [
    {
     "data": {
      "text/plain": [
       "[(0, 1, -1),\n",
       " (1, -2, 1),\n",
       " (1, -1, 0),\n",
       " (1, 0, -1),\n",
       " (1, 1, -2),\n",
       " (2, -1, -1),\n",
       " (0, -1, 1),\n",
       " (-1, 2, -1),\n",
       " (-1, 1, 0),\n",
       " (-1, 0, 1),\n",
       " (-1, -1, 2),\n",
       " (-2, 1, 1)]"
      ]
     },
     "execution_count": 30,
     "metadata": {},
     "output_type": "execute_result"
    }
   ],
   "source": [
    " BGG.W.domain().roots()"
   ]
  },
  {
   "cell_type": "code",
   "execution_count": 31,
   "metadata": {},
   "outputs": [
    {
     "data": {
      "text/plain": [
       "{'e1': alpha[1],\n",
       " 'e1112': 3*alpha[1] + alpha[2],\n",
       " 'e11122': 3*alpha[1] + 2*alpha[2],\n",
       " 'e112': 2*alpha[1] + alpha[2],\n",
       " 'e12': alpha[1] + alpha[2],\n",
       " 'e2': alpha[2],\n",
       " 'f1': -alpha[1],\n",
       " 'f1112': -3*alpha[1] - alpha[2],\n",
       " 'f11122': -3*alpha[1] - 2*alpha[2],\n",
       " 'f112': -2*alpha[1] - alpha[2],\n",
       " 'f12': -alpha[1] - alpha[2],\n",
       " 'f2': -alpha[2],\n",
       " 'h1': alphacheck[1],\n",
       " 'h2': alphacheck[2]}"
      ]
     },
     "execution_count": 31,
     "metadata": {},
     "output_type": "execute_result"
    }
   ],
   "source": [
    "def root_dict_to_string(root_dict):\n",
    "    return ''.join(''.join([str(k)]*abs(v)) for k,v in root_dict.items())\n",
    "\n",
    "string_to_root = {}\n",
    "for i,b in dict(BGG.lattice.alphacheck()).items():\n",
    "    string_to_root['h%d'%i]=b\n",
    "for a in BGG.lattice.negative_roots():\n",
    "    key = 'f'+root_dict_to_string(a.monomial_coefficients())\n",
    "    string_to_root[key]=a \n",
    "for a in BGG.lattice.positive_roots():\n",
    "    key = 'e'+root_dict_to_string(a.monomial_coefficients())\n",
    "    string_to_root[key]=a  \n",
    "\n",
    "root_to_string = {r:i for i,r in string_to_root.items()}\n",
    "string_to_root"
   ]
  },
  {
   "cell_type": "code",
   "execution_count": 32,
   "metadata": {},
   "outputs": [
    {
     "data": {
      "text/plain": [
       "{alphacheck[1]: '6',\n",
       " alphacheck[2]: '7',\n",
       " -3*alpha[1] - 2*alpha[2]: '13',\n",
       " -3*alpha[1] - alpha[2]: '12',\n",
       " -2*alpha[1] - alpha[2]: '11',\n",
       " -alpha[1]: '9',\n",
       " -alpha[1] - alpha[2]: '10',\n",
       " alpha[1]: '1',\n",
       " alpha[1] + alpha[2]: '2',\n",
       " 2*alpha[1] + alpha[2]: '3',\n",
       " 3*alpha[1] + alpha[2]: '4',\n",
       " 3*alpha[1] + 2*alpha[2]: '5',\n",
       " -alpha[2]: '8',\n",
       " alpha[2]: '0'}"
      ]
     },
     "execution_count": 32,
     "metadata": {},
     "output_type": "execute_result"
    }
   ],
   "source": [
    "gbasis_dict = {str(i):r for i,r in enumerate(BGG.LA.basis().keys())}\n",
    "root_to_index = {r:i for i,r in gbasis_dict.items()}\n",
    "root_to_index"
   ]
  },
  {
   "cell_type": "code",
   "execution_count": 33,
   "metadata": {},
   "outputs": [
    {
     "data": {
      "text/plain": [
       "[(0, 1, -1), (1, -2, 1), (1, -1, 0), (1, 0, -1), (1, 1, -2), (2, -1, -1)]"
      ]
     },
     "execution_count": 33,
     "metadata": {},
     "output_type": "execute_result"
    }
   ],
   "source": [
    "dom = BGG.W.domain()\n",
    "dom.positive_roots()"
   ]
  },
  {
   "cell_type": "code",
   "execution_count": 34,
   "metadata": {
    "scrolled": true
   },
   "outputs": [
    {
     "data": {
      "text/plain": [
       "E[alpha[2]] + E[alpha[1]] + h1 + h2 + E[-alpha[2]] + E[-alpha[1]]"
      ]
     },
     "execution_count": 34,
     "metadata": {},
     "output_type": "execute_result"
    }
   ],
   "source": [
    "BGG.LA.an_element()"
   ]
  },
  {
   "cell_type": "markdown",
   "metadata": {},
   "source": [
    "# Lie algebra modules"
   ]
  },
  {
   "cell_type": "code",
   "execution_count": 35,
   "metadata": {},
   "outputs": [],
   "source": [
    "f_roots=list(BGG.lattice.negative_roots())\n",
    "e_roots=list(BGG.lattice.positive_roots())\n",
    "h_roots=BGG.lattice.alphacheck().values()"
   ]
  },
  {
   "cell_type": "code",
   "execution_count": 36,
   "metadata": {},
   "outputs": [],
   "source": [
    "n_basis=sorted([root_to_string[r] for r in f_roots])\n",
    "u_basis=sorted([root_to_string[r] for r in e_roots])\n",
    "g_basis=sorted(string_to_root.keys())"
   ]
  },
  {
   "cell_type": "markdown",
   "metadata": {},
   "source": [
    "Maybe it's better to create a Lie algebra module class. It should be an extension of combinatorial free module. It should have as one of the properties the Lie algebra acting on it, together with what the action is concretely. Then we can make some functions that take these modules and e.g. take tensor products of them to create new ones. I think it should be fine to store the action as a dictionary or a 3d tensor (probably the former since the 3d tensor is bound to be sparse)\n",
    "\n",
    "On the other hand it might be much more efficient to store the action just as a function taking (g,m) to g.m\n",
    "\n",
    "Adding arguments to element constructors does not seem the way to go. We should store the actions in a different way. Perhaps we can make a good constructor for tensor products. Ideally the result should be the same class. "
   ]
  },
  {
   "cell_type": "code",
   "execution_count": 98,
   "metadata": {},
   "outputs": [],
   "source": [
    "from collections import Counter\n",
    "import sympy.utilities.iterables\n",
    "from sage.modules.with_basis.indexed_element import IndexedFreeModuleElement\n",
    "\n",
    "class LieAlgebraModuleElement(IndexedFreeModuleElement):\n",
    "    def __init__(self, parent, x):\n",
    "        super(LieAlgebraModuleElement,self).__init__(parent,x)\n",
    "    def __repr__(self):\n",
    "        if len(self.monomials())==0:\n",
    "            return '0'\n",
    "        output_string=''\n",
    "        for t,c in self.monomial_coefficients().items():\n",
    "            if len(output_string)>0:\n",
    "                try:\n",
    "                    if c<0:\n",
    "                        output_string+='-'\n",
    "                        c*=-1\n",
    "                    else:\n",
    "                        output_string+='+'\n",
    "                except:\n",
    "                    output_string+='+'\n",
    "            if c not in {1,-1}:\n",
    "                output_string+=str(c)+'*'\n",
    "            output_string+=str(t)\n",
    "        return output_string\n",
    "        \n",
    "\n",
    "class LieAlgebraModule(CombinatorialFreeModule):\n",
    "    Element=LieAlgebraModuleElement\n",
    "    \n",
    "    @staticmethod\n",
    "    def __classcall_private__(cls,base_ring,basis_keys,lie_algebra,action,*options):\n",
    "        if isinstance(basis_keys, (list, tuple)):\n",
    "            basis_keys = FiniteEnumeratedSet(basis_keys)\n",
    "        return super(LieAlgebraModule,cls).__classcall__(cls,base_ring,basis_keys,lie_algebra,action,*options)\n",
    "    \n",
    "    def __init__(self,base_ring,basis_keys,lie_algebra,action):\n",
    "        self.lie_algebra = lie_algebra\n",
    "        self._index_action = action\n",
    "        self.basis_keys = basis_keys\n",
    "        super(LieAlgebraModule,self).__init__(base_ring,basis_keys=basis_keys)\n",
    "        \n",
    "    def action(self,X,m):\n",
    "        assert isinstance(X,self.lie_algebra.element_class)\n",
    "        assert isinstance(m,self.element_class)\n",
    "        total = self.zero()\n",
    "        for i,c in m.monomial_coefficients().iteritems():\n",
    "            total+=c*sum([d*self.basis()[j] for j,d in self._index_action(X,i).items()],\n",
    "                         self.zero())\n",
    "        return total\n",
    "        \n",
    "    def direct_sum(*modules):\n",
    "        new_basis=[]\n",
    "        actions=dict()\n",
    "        for i,module in enumerate(modules):\n",
    "            new_basis+=[DirectSum(i,key) for key in module.basis_keys]\n",
    "            actions[i]=module._index_action\n",
    "        def action(X,m):\n",
    "            return direct_sum_map(m.index,actions[m.index](X,m.key))\n",
    "        return LieAlgebraModule(modules[0].base_ring(),new_basis,modules[0].lie_algebra,action)\n",
    "    \n",
    "    def tensor_product(*modules):\n",
    "        new_basis = tensor_product_basis(*[module.basis_keys for module in modules])\n",
    "        def action(X,m):\n",
    "            out_dict=Counter()\n",
    "            for index,key in enumerate(m):\n",
    "                action_on_term = modules[index]._index_action(X,key)\n",
    "                index_dict=Counter({m.replace(index,t):c for t,c in action_on_term.items()})\n",
    "                out_dict+=index_dict\n",
    "            return out_dict\n",
    "        return LieAlgebraModule(modules[0].base_ring(),new_basis,modules[0].lie_algebra,action)\n",
    "    \n",
    "    def symmetric_power(self,n):\n",
    "        if n==0:\n",
    "            #technically this should return a copy of the base irng instead\n",
    "            return LieAlgebraModule(self.base_ring(),[],self.lie_algebra,lambda X,k:{})\n",
    "        if n==1:\n",
    "            return LieAlgebraModule(self.base_ring(),self.basis_keys,self.lie_algebra,self._index_action)\n",
    "        new_basis = sympy.utilities.iterables.subsets(self.basis_keys,n,repetition=True)\n",
    "        new_basis = [SymmetricProduct(*i) for i in new_basis]\n",
    "        def action(X,m):\n",
    "            out_dict=Counter()\n",
    "            for index,key in enumerate(m):\n",
    "                action_on_term = M._index_action(X,key)\n",
    "                index_dict=Counter({m.replace(index,t):c for t,c in action_on_term.items()})\n",
    "                out_dict+=index_dict\n",
    "            return out_dict\n",
    "        return LieAlgebraModule(self.base_ring(),new_basis,self.lie_algebra,action)\n",
    "    \n",
    "    def alternating_power(self,n):\n",
    "        if n==0:\n",
    "            #technically this should return a copy of the base irng instead\n",
    "            return LieAlgebraModule(self.base_ring(),[],self.lie_algebra,lambda X,k:{})\n",
    "        if n==1:\n",
    "            return LieAlgebraModule(self.base_ring(),self.basis_keys,self.lie_algebra,self._index_action)\n",
    "        if n>len(self.basis_keys):\n",
    "            return LieAlgebraModule(self.base_ring(),[],self.lie_algebra,lambda X,k:{})\n",
    "        new_basis = sympy.utilities.iterables.subsets(self.basis_keys,n,repetition=False)\n",
    "        new_basis = [AlternatingProduct(*i) for i in new_basis]\n",
    "        def action(X,m):\n",
    "            out_dict=Counter()\n",
    "            for index,key in enumerate(m):\n",
    "                action_on_term = M._index_action(X,key)\n",
    "                for t,c in action_on_term.items():\n",
    "                    unsorted_term=m.replace(index,t)\n",
    "                    parity = unsorted_term.parity()\n",
    "                    if parity!=0:\n",
    "                        out_dict[unsorted_term.sort()]+=c*parity\n",
    "            return out_dict\n",
    "        return LieAlgebraModule(self.base_ring(),new_basis,self.lie_algebra,action)\n",
    "            "
   ]
  },
  {
   "cell_type": "code",
   "execution_count": 99,
   "metadata": {},
   "outputs": [],
   "source": [
    "def lie_alg_to_module_basis(X):\n",
    "    \"\"\"Takes an element of the Lie algebra and writes it out as a dict in the module basis\"\"\"\n",
    "    out_dict = {}\n",
    "    for t,c in X.monomial_coefficients().items():\n",
    "        out_dict[root_to_string[t]]=c\n",
    "    return out_dict\n",
    "\n",
    "def adjoint_action(X,m):\n",
    "    \"\"\"Takes X and element of the Lie algebra, and m an index of the basis of the Lie algebra, and outputs \n",
    "    the adjoint action of X on the corresponding basis element\"\"\"\n",
    "    bracket =  BGG.LA.bracket(X,BGG.LA.basis()[string_to_root[m]])\n",
    "    return lie_alg_to_module_basis(bracket)"
   ]
  },
  {
   "cell_type": "code",
   "execution_count": 100,
   "metadata": {},
   "outputs": [],
   "source": [
    "def tensor_product_basis(*iterators):\n",
    "    iterators = list(iterators)\n",
    "    basis = [[x] for x in iterators.pop()]\n",
    "    while len(iterators)>0:\n",
    "        iterator = iterators.pop()\n",
    "        basis = [[x]+y for x in iterator for y in basis]\n",
    "    basis = [TensorProduct(*b) for b in basis]\n",
    "    return basis"
   ]
  },
  {
   "cell_type": "code",
   "execution_count": 101,
   "metadata": {},
   "outputs": [],
   "source": [
    "\n",
    "class DirectSum:\n",
    "    def __init__(self,index,key):\n",
    "        self.index = int(index)\n",
    "        self.key = key\n",
    "    def __hash__(self):\n",
    "        return hash((self.index,self.key))\n",
    "    def __eq__(self,other):\n",
    "        return (self.key,self.index)==(other.key,other.index)\n",
    "    def __repr__(self):\n",
    "        return '(⊕%d, %s)' % (self.index,str(self.key))\n",
    "    \n",
    "class TensorProduct:\n",
    "    def __init__(self,*keys):\n",
    "        self.keys = tuple(keys)\n",
    "    def __hash__(self):\n",
    "        return hash(self.keys)\n",
    "    def __eq__(self,other):\n",
    "        return self.keys==other.keys\n",
    "    def __repr__(self):\n",
    "        return '⊗'.join([str(k) for k in self.keys])\n",
    "    def __getitem__(self,index):\n",
    "        return self.keys[index]\n",
    "    def __setitem__(self,index,value):\n",
    "        keys = list(self.keys)\n",
    "        keys[index]=value\n",
    "        self.keys=tuple(keys)\n",
    "        return self\n",
    "    def replace(self,index,value):\n",
    "        keys = list(self.keys)\n",
    "        keys[index]=value\n",
    "        return TensorProduct(*keys)\n",
    "    \n",
    "class SymmetricProduct:\n",
    "    def __init__(self,*keys):\n",
    "        self.keys = sorted(keys)\n",
    "    def __hash__(self):\n",
    "        return hash(tuple(self.keys))\n",
    "    def __eq__(self,other):\n",
    "        return self.keys==other.keys\n",
    "    def __repr__(self):\n",
    "        return '⊙'.join([str(k) for k in self.keys])\n",
    "    def __getitem__(self,index):\n",
    "        return self.keys[index]\n",
    "    def __setitem__(self,index,value):\n",
    "        self.keys[index]=value\n",
    "        return self\n",
    "    def replace(self,index,value):\n",
    "        keys = self.keys\n",
    "        keys[index]=value\n",
    "        return SymmetricProduct(*keys)\n",
    "    \n",
    "class AlternatingProduct:\n",
    "    def __init__(self,*keys):\n",
    "        self.keys = list(keys)\n",
    "    def __hash__(self):\n",
    "        return hash(tuple(self.keys))\n",
    "    def __eq__(self,other):\n",
    "        return self.keys==other.keys\n",
    "    def __repr__(self):\n",
    "        return '∧'.join([str(k) for k in self.keys])\n",
    "    def __getitem__(self,index):\n",
    "        return self.keys[index]\n",
    "    def __setitem__(self,index,value):\n",
    "        self.keys[index]=value\n",
    "        return self\n",
    "    def replace(self,index,value):\n",
    "        keys = list(self.keys)\n",
    "        keys[index]=value\n",
    "        return AlternatingProduct(*keys) \n",
    "    \n",
    "    def parity(self):\n",
    "        a=list(self.keys)\n",
    "        if len(set(a))<len(a):\n",
    "            return 0\n",
    "        b=sorted(a)\n",
    "        inversions = 0\n",
    "        while a:\n",
    "            first = a.pop(0)\n",
    "            inversions += b.index(first)\n",
    "            b.remove(first)\n",
    "        return -1 if inversions % 2 else 1\n",
    "        \n",
    "    def sort(self):\n",
    "        self.keys=sorted(self.keys)\n",
    "        return self\n",
    "\n",
    "def direct_sum_map(index,dic):\n",
    "    return {DirectSum(index,k):v for k,v in dic.items()}"
   ]
  },
  {
   "cell_type": "code",
   "execution_count": 102,
   "metadata": {},
   "outputs": [
    {
     "data": {
      "text/plain": [
       "1"
      ]
     },
     "execution_count": 102,
     "metadata": {},
     "output_type": "execute_result"
    }
   ],
   "source": [
    "import sympy.combinatorics.permutations\n",
    "sympy.combinatorics.permutations.Permutation(np.argsort([1,2,3,3])).signature()"
   ]
  },
  {
   "cell_type": "code",
   "execution_count": 103,
   "metadata": {
    "scrolled": true
   },
   "outputs": [
    {
     "data": {
      "text/plain": [
       "3∧x∧y"
      ]
     },
     "execution_count": 103,
     "metadata": {},
     "output_type": "execute_result"
    }
   ],
   "source": [
    "AlternatingProduct('y','x','3').sort()"
   ]
  },
  {
   "cell_type": "code",
   "execution_count": 104,
   "metadata": {},
   "outputs": [],
   "source": [
    "M=LieAlgebraModule(QQ,g_basis,BGG.LA,adjoint_action)"
   ]
  },
  {
   "cell_type": "code",
   "execution_count": 105,
   "metadata": {},
   "outputs": [
    {
     "name": "stdout",
     "output_type": "stream",
     "text": [
      "Finite family {(⊕0, (⊕0, e1)): (⊕0, (⊕0, e1)), (⊕0, (⊕0, e1112)): (⊕0, (⊕0, e1112)), (⊕0, (⊕0, e11122)): (⊕0, (⊕0, e11122)), (⊕0, (⊕0, e112)): (⊕0, (⊕0, e112)), (⊕0, (⊕0, e12)): (⊕0, (⊕0, e12)), (⊕0, (⊕0, e2)): (⊕0, (⊕0, e2)), (⊕0, (⊕0, f1)): (⊕0, (⊕0, f1)), (⊕0, (⊕0, f1112)): (⊕0, (⊕0, f1112)), (⊕0, (⊕0, f11122)): (⊕0, (⊕0, f11122)), (⊕0, (⊕0, f112)): (⊕0, (⊕0, f112)), (⊕0, (⊕0, f12)): (⊕0, (⊕0, f12)), (⊕0, (⊕0, f2)): (⊕0, (⊕0, f2)), (⊕0, (⊕0, h1)): (⊕0, (⊕0, h1)), (⊕0, (⊕0, h2)): (⊕0, (⊕0, h2)), (⊕0, (⊕1, e1)): (⊕0, (⊕1, e1)), (⊕0, (⊕1, e1112)): (⊕0, (⊕1, e1112)), (⊕0, (⊕1, e11122)): (⊕0, (⊕1, e11122)), (⊕0, (⊕1, e112)): (⊕0, (⊕1, e112)), (⊕0, (⊕1, e12)): (⊕0, (⊕1, e12)), (⊕0, (⊕1, e2)): (⊕0, (⊕1, e2)), (⊕0, (⊕1, f1)): (⊕0, (⊕1, f1)), (⊕0, (⊕1, f1112)): (⊕0, (⊕1, f1112)), (⊕0, (⊕1, f11122)): (⊕0, (⊕1, f11122)), (⊕0, (⊕1, f112)): (⊕0, (⊕1, f112)), (⊕0, (⊕1, f12)): (⊕0, (⊕1, f12)), (⊕0, (⊕1, f2)): (⊕0, (⊕1, f2)), (⊕0, (⊕1, h1)): (⊕0, (⊕1, h1)), (⊕0, (⊕1, h2)): (⊕0, (⊕1, h2)), (⊕1, e1): (⊕1, e1), (⊕1, e1112): (⊕1, e1112), (⊕1, e11122): (⊕1, e11122), (⊕1, e112): (⊕1, e112), (⊕1, e12): (⊕1, e12), (⊕1, e2): (⊕1, e2), (⊕1, f1): (⊕1, f1), (⊕1, f1112): (⊕1, f1112), (⊕1, f11122): (⊕1, f11122), (⊕1, f112): (⊕1, f112), (⊕1, f12): (⊕1, f12), (⊕1, f2): (⊕1, f2), (⊕1, h1): (⊕1, h1), (⊕1, h2): (⊕1, h2)}\n"
     ]
    },
    {
     "data": {
      "text/plain": [
       "-4*(⊕0, (⊕0, e112))-4*(⊕0, (⊕0, h1))"
      ]
     },
     "execution_count": 105,
     "metadata": {},
     "output_type": "execute_result"
    }
   ],
   "source": [
    "d_sum=M.direct_sum(M).direct_sum(M)\n",
    "print(d_sum.basis())\n",
    "d_sum.action(BGG.LA.f()[1],2*d_sum.an_element())"
   ]
  },
  {
   "cell_type": "code",
   "execution_count": 106,
   "metadata": {},
   "outputs": [
    {
     "name": "stdout",
     "output_type": "stream",
     "text": [
      "2*e1⊗e1⊗e1112+3*e1⊗e1⊗e11122+2*e1⊗e1⊗e1\n"
     ]
    },
    {
     "data": {
      "text/plain": [
       "2*e1⊗e1⊗e12+2*e12⊗e1⊗e1112+2*e1⊗e12⊗e1+2*e1⊗e12⊗e1112+2*e12⊗e1⊗e1+3*e12⊗e1⊗e11122+3*e1⊗e12⊗e11122"
      ]
     },
     "execution_count": 106,
     "metadata": {},
     "output_type": "execute_result"
    }
   ],
   "source": [
    "tp=M.tensor_product(M,M)\n",
    "print(tp.an_element())\n",
    "tp.action(BGG.LA.e()[2],tp.an_element())"
   ]
  },
  {
   "cell_type": "code",
   "execution_count": 107,
   "metadata": {},
   "outputs": [
    {
     "name": "stdout",
     "output_type": "stream",
     "text": [
      "Free module generated by {} over Rational Field\n",
      "0\n"
     ]
    },
    {
     "data": {
      "text/plain": [
       "0"
      ]
     },
     "execution_count": 107,
     "metadata": {},
     "output_type": "execute_result"
    }
   ],
   "source": [
    "sp =M.symmetric_power(0)\n",
    "print(sp)\n",
    "print(sp.an_element())\n",
    "sp.action(BGG.LA.e()[2],sp.an_element())"
   ]
  },
  {
   "cell_type": "code",
   "execution_count": 115,
   "metadata": {},
   "outputs": [
    {
     "name": "stdout",
     "output_type": "stream",
     "text": [
      "Free module generated by {e1∧e1112, e1∧e11122, e1∧e112, e1∧e12, e1∧e2, e1∧f1, e1∧f1112, e1∧f11122, e1∧f112, e1∧f12, e1∧f2, e1∧h1, e1∧h2, e1112∧e11122, e1112∧e112, e1112∧e12, e1112∧e2, e1112∧f1, e1112∧f1112, e1112∧f11122, e1112∧f112, e1112∧f12, e1112∧f2, e1112∧h1, e1112∧h2, e11122∧e112, e11122∧e12, e11122∧e2, e11122∧f1, e11122∧f1112, e11122∧f11122, e11122∧f112, e11122∧f12, e11122∧f2, e11122∧h1, e11122∧h2, e112∧e12, e112∧e2, e112∧f1, e112∧f1112, e112∧f11122, e112∧f112, e112∧f12, e112∧f2, e112∧h1, e112∧h2, e12∧e2, e12∧f1, e12∧f1112, e12∧f11122, e12∧f112, e12∧f12, e12∧f2, e12∧h1, e12∧h2, e2∧f1, e2∧f1112, e2∧f11122, e2∧f112, e2∧f12, e2∧f2, e2∧h1, e2∧h2, f1∧f1112, f1∧f11122, f1∧f112, f1∧f12, f1∧f2, f1∧h1, f1∧h2, f1112∧f11122, f1112∧f112, f1112∧f12, f1112∧f2, f1112∧h1, f1112∧h2, f11122∧f112, f11122∧f12, f11122∧f2, f11122∧h1, f11122∧h2, f112∧f12, f112∧f2, f112∧h1, f112∧h2, f12∧f2, f12∧h1, f12∧h2, f2∧h1, f2∧h2, h1∧h2} over Rational Field\n",
      "2*e1∧e11122+2*e1∧e1112+3*e1∧e112\n"
     ]
    },
    {
     "data": {
      "text/plain": [
       "2*e1112∧h1-2*e1∧e112+2*e11122∧h1-6*e1∧e12+3*e112∧h1"
      ]
     },
     "execution_count": 115,
     "metadata": {},
     "output_type": "execute_result"
    }
   ],
   "source": [
    "ap=M.alternating_power(2)\n",
    "print(ap)\n",
    "print(ap.an_element())\n",
    "ap.action(BGG.LA.f()[1],ap.an_element())"
   ]
  },
  {
   "cell_type": "code",
   "execution_count": 116,
   "metadata": {},
   "outputs": [
    {
     "data": {
      "text/plain": [
       "Free module generated by {(⊕0, e1∧e1112), (⊕0, e1∧e11122), (⊕0, e1∧e112), (⊕0, e1∧e12), (⊕0, e1∧e2), (⊕0, e1∧f1), (⊕0, e1∧f1112), (⊕0, e1∧f11122), (⊕0, e1∧f112), (⊕0, e1∧f12), (⊕0, e1∧f2), (⊕0, e1∧h1), (⊕0, e1∧h2), (⊕0, e1112∧e11122), (⊕0, e1112∧e112), (⊕0, e1112∧e12), (⊕0, e1112∧e2), (⊕0, e1112∧f1), (⊕0, e1112∧f1112), (⊕0, e1112∧f11122), (⊕0, e1112∧f112), (⊕0, e1112∧f12), (⊕0, e1112∧f2), (⊕0, e1112∧h1), (⊕0, e1112∧h2), (⊕0, e11122∧e112), (⊕0, e11122∧e12), (⊕0, e11122∧e2), (⊕0, e11122∧f1), (⊕0, e11122∧f1112), (⊕0, e11122∧f11122), (⊕0, e11122∧f112), (⊕0, e11122∧f12), (⊕0, e11122∧f2), (⊕0, e11122∧h1), (⊕0, e11122∧h2), (⊕0, e112∧e12), (⊕0, e112∧e2), (⊕0, e112∧f1), (⊕0, e112∧f1112), (⊕0, e112∧f11122), (⊕0, e112∧f112), (⊕0, e112∧f12), (⊕0, e112∧f2), (⊕0, e112∧h1), (⊕0, e112∧h2), (⊕0, e12∧e2), (⊕0, e12∧f1), (⊕0, e12∧f1112), (⊕0, e12∧f11122), (⊕0, e12∧f112), (⊕0, e12∧f12), (⊕0, e12∧f2), (⊕0, e12∧h1), (⊕0, e12∧h2), (⊕0, e2∧f1), (⊕0, e2∧f1112), (⊕0, e2∧f11122), (⊕0, e2∧f112), (⊕0, e2∧f12), (⊕0, e2∧f2), (⊕0, e2∧h1), (⊕0, e2∧h2), (⊕0, f1∧f1112), (⊕0, f1∧f11122), (⊕0, f1∧f112), (⊕0, f1∧f12), (⊕0, f1∧f2), (⊕0, f1∧h1), (⊕0, f1∧h2), (⊕0, f1112∧f11122), (⊕0, f1112∧f112), (⊕0, f1112∧f12), (⊕0, f1112∧f2), (⊕0, f1112∧h1), (⊕0, f1112∧h2), (⊕0, f11122∧f112), (⊕0, f11122∧f12), (⊕0, f11122∧f2), (⊕0, f11122∧h1), (⊕0, f11122∧h2), (⊕0, f112∧f12), (⊕0, f112∧f2), (⊕0, f112∧h1), (⊕0, f112∧h2), (⊕0, f12∧f2), (⊕0, f12∧h1), (⊕0, f12∧h2), (⊕0, f2∧h1), (⊕0, f2∧h2), (⊕0, h1∧h2), (⊕2, e1⊗e1⊗e1), (⊕2, e1⊗e1⊗e1112), (⊕2, e1⊗e1⊗e11122), (⊕2, e1⊗e1⊗e112), (⊕2, e1⊗e1⊗e12), (⊕2, e1⊗e1⊗e2), (⊕2, e1⊗e1⊗f1), (⊕2, e1⊗e1⊗f1112), (⊕2, e1⊗e1⊗f11122), (⊕2, e1⊗e1⊗f112), (⊕2, e1⊗e1⊗f12), (⊕2, e1⊗e1⊗f2), (⊕2, e1⊗e1⊗h1), (⊕2, e1⊗e1⊗h2), (⊕2, e1⊗e1112⊗e1), (⊕2, e1⊗e1112⊗e1112), (⊕2, e1⊗e1112⊗e11122), (⊕2, e1⊗e1112⊗e112), (⊕2, e1⊗e1112⊗e12), (⊕2, e1⊗e1112⊗e2), (⊕2, e1⊗e1112⊗f1), (⊕2, e1⊗e1112⊗f1112), (⊕2, e1⊗e1112⊗f11122), (⊕2, e1⊗e1112⊗f112), (⊕2, e1⊗e1112⊗f12), (⊕2, e1⊗e1112⊗f2), (⊕2, e1⊗e1112⊗h1), (⊕2, e1⊗e1112⊗h2), (⊕2, e1⊗e11122⊗e1), (⊕2, e1⊗e11122⊗e1112), (⊕2, e1⊗e11122⊗e11122), (⊕2, e1⊗e11122⊗e112), (⊕2, e1⊗e11122⊗e12), (⊕2, e1⊗e11122⊗e2), (⊕2, e1⊗e11122⊗f1), (⊕2, e1⊗e11122⊗f1112), (⊕2, e1⊗e11122⊗f11122), (⊕2, e1⊗e11122⊗f112), (⊕2, e1⊗e11122⊗f12), (⊕2, e1⊗e11122⊗f2), (⊕2, e1⊗e11122⊗h1), (⊕2, e1⊗e11122⊗h2), (⊕2, e1⊗e112⊗e1), (⊕2, e1⊗e112⊗e1112), (⊕2, e1⊗e112⊗e11122), (⊕2, e1⊗e112⊗e112), (⊕2, e1⊗e112⊗e12), (⊕2, e1⊗e112⊗e2), (⊕2, e1⊗e112⊗f1), (⊕2, e1⊗e112⊗f1112), (⊕2, e1⊗e112⊗f11122), (⊕2, e1⊗e112⊗f112), (⊕2, e1⊗e112⊗f12), (⊕2, e1⊗e112⊗f2), (⊕2, e1⊗e112⊗h1), (⊕2, e1⊗e112⊗h2), (⊕2, e1⊗e12⊗e1), (⊕2, e1⊗e12⊗e1112), (⊕2, e1⊗e12⊗e11122), (⊕2, e1⊗e12⊗e112), (⊕2, e1⊗e12⊗e12), (⊕2, e1⊗e12⊗e2), (⊕2, e1⊗e12⊗f1), (⊕2, e1⊗e12⊗f1112), (⊕2, e1⊗e12⊗f11122), (⊕2, e1⊗e12⊗f112), (⊕2, e1⊗e12⊗f12), (⊕2, e1⊗e12⊗f2), (⊕2, e1⊗e12⊗h1), (⊕2, e1⊗e12⊗h2), (⊕2, e1⊗e2⊗e1), (⊕2, e1⊗e2⊗e1112), (⊕2, e1⊗e2⊗e11122), (⊕2, e1⊗e2⊗e112), (⊕2, e1⊗e2⊗e12), (⊕2, e1⊗e2⊗e2), (⊕2, e1⊗e2⊗f1), (⊕2, e1⊗e2⊗f1112), (⊕2, e1⊗e2⊗f11122), (⊕2, e1⊗e2⊗f112), (⊕2, e1⊗e2⊗f12), (⊕2, e1⊗e2⊗f2), (⊕2, e1⊗e2⊗h1), (⊕2, e1⊗e2⊗h2), (⊕2, e1⊗f1⊗e1), (⊕2, e1⊗f1⊗e1112), (⊕2, e1⊗f1⊗e11122), (⊕2, e1⊗f1⊗e112), (⊕2, e1⊗f1⊗e12), (⊕2, e1⊗f1⊗e2), (⊕2, e1⊗f1⊗f1), (⊕2, e1⊗f1⊗f1112), (⊕2, e1⊗f1⊗f11122), (⊕2, e1⊗f1⊗f112), (⊕2, e1⊗f1⊗f12), (⊕2, e1⊗f1⊗f2), (⊕2, e1⊗f1⊗h1), (⊕2, e1⊗f1⊗h2), (⊕2, e1⊗f1112⊗e1), (⊕2, e1⊗f1112⊗e1112), (⊕2, e1⊗f1112⊗e11122), (⊕2, e1⊗f1112⊗e112), (⊕2, e1⊗f1112⊗e12), (⊕2, e1⊗f1112⊗e2), (⊕2, e1⊗f1112⊗f1), (⊕2, e1⊗f1112⊗f1112), (⊕2, e1⊗f1112⊗f11122), (⊕2, e1⊗f1112⊗f112), (⊕2, e1⊗f1112⊗f12), (⊕2, e1⊗f1112⊗f2), (⊕2, e1⊗f1112⊗h1), (⊕2, e1⊗f1112⊗h2), (⊕2, e1⊗f11122⊗e1), (⊕2, e1⊗f11122⊗e1112), (⊕2, e1⊗f11122⊗e11122), (⊕2, e1⊗f11122⊗e112), (⊕2, e1⊗f11122⊗e12), (⊕2, e1⊗f11122⊗e2), (⊕2, e1⊗f11122⊗f1), (⊕2, e1⊗f11122⊗f1112), (⊕2, e1⊗f11122⊗f11122), (⊕2, e1⊗f11122⊗f112), (⊕2, e1⊗f11122⊗f12), (⊕2, e1⊗f11122⊗f2), (⊕2, e1⊗f11122⊗h1), (⊕2, e1⊗f11122⊗h2), (⊕2, e1⊗f112⊗e1), (⊕2, e1⊗f112⊗e1112), (⊕2, e1⊗f112⊗e11122), (⊕2, e1⊗f112⊗e112), (⊕2, e1⊗f112⊗e12), (⊕2, e1⊗f112⊗e2), (⊕2, e1⊗f112⊗f1), (⊕2, e1⊗f112⊗f1112), (⊕2, e1⊗f112⊗f11122), (⊕2, e1⊗f112⊗f112), (⊕2, e1⊗f112⊗f12), (⊕2, e1⊗f112⊗f2), (⊕2, e1⊗f112⊗h1), (⊕2, e1⊗f112⊗h2), (⊕2, e1⊗f12⊗e1), (⊕2, e1⊗f12⊗e1112), (⊕2, e1⊗f12⊗e11122), (⊕2, e1⊗f12⊗e112), (⊕2, e1⊗f12⊗e12), (⊕2, e1⊗f12⊗e2), (⊕2, e1⊗f12⊗f1), (⊕2, e1⊗f12⊗f1112), (⊕2, e1⊗f12⊗f11122), (⊕2, e1⊗f12⊗f112), (⊕2, e1⊗f12⊗f12), (⊕2, e1⊗f12⊗f2), (⊕2, e1⊗f12⊗h1), (⊕2, e1⊗f12⊗h2), (⊕2, e1⊗f2⊗e1), (⊕2, e1⊗f2⊗e1112), (⊕2, e1⊗f2⊗e11122), (⊕2, e1⊗f2⊗e112), (⊕2, e1⊗f2⊗e12), (⊕2, e1⊗f2⊗e2), (⊕2, e1⊗f2⊗f1), (⊕2, e1⊗f2⊗f1112), (⊕2, e1⊗f2⊗f11122), (⊕2, e1⊗f2⊗f112), (⊕2, e1⊗f2⊗f12), (⊕2, e1⊗f2⊗f2), (⊕2, e1⊗f2⊗h1), (⊕2, e1⊗f2⊗h2), (⊕2, e1⊗h1⊗e1), (⊕2, e1⊗h1⊗e1112), (⊕2, e1⊗h1⊗e11122), (⊕2, e1⊗h1⊗e112), (⊕2, e1⊗h1⊗e12), (⊕2, e1⊗h1⊗e2), (⊕2, e1⊗h1⊗f1), (⊕2, e1⊗h1⊗f1112), (⊕2, e1⊗h1⊗f11122), (⊕2, e1⊗h1⊗f112), (⊕2, e1⊗h1⊗f12), (⊕2, e1⊗h1⊗f2), (⊕2, e1⊗h1⊗h1), (⊕2, e1⊗h1⊗h2), (⊕2, e1⊗h2⊗e1), (⊕2, e1⊗h2⊗e1112), (⊕2, e1⊗h2⊗e11122), (⊕2, e1⊗h2⊗e112), (⊕2, e1⊗h2⊗e12), (⊕2, e1⊗h2⊗e2), (⊕2, e1⊗h2⊗f1), (⊕2, e1⊗h2⊗f1112), (⊕2, e1⊗h2⊗f11122), (⊕2, e1⊗h2⊗f112), (⊕2, e1⊗h2⊗f12), (⊕2, e1⊗h2⊗f2), (⊕2, e1⊗h2⊗h1), (⊕2, e1⊗h2⊗h2), (⊕2, e1112⊗e1⊗e1), (⊕2, e1112⊗e1⊗e1112), (⊕2, e1112⊗e1⊗e11122), (⊕2, e1112⊗e1⊗e112), (⊕2, e1112⊗e1⊗e12), (⊕2, e1112⊗e1⊗e2), (⊕2, e1112⊗e1⊗f1), (⊕2, e1112⊗e1⊗f1112), (⊕2, e1112⊗e1⊗f11122), (⊕2, e1112⊗e1⊗f112), (⊕2, e1112⊗e1⊗f12), (⊕2, e1112⊗e1⊗f2), (⊕2, e1112⊗e1⊗h1), (⊕2, e1112⊗e1⊗h2), (⊕2, e1112⊗e1112⊗e1), (⊕2, e1112⊗e1112⊗e1112), (⊕2, e1112⊗e1112⊗e11122), (⊕2, e1112⊗e1112⊗e112), (⊕2, e1112⊗e1112⊗e12), (⊕2, e1112⊗e1112⊗e2), (⊕2, e1112⊗e1112⊗f1), (⊕2, e1112⊗e1112⊗f1112), (⊕2, e1112⊗e1112⊗f11122), (⊕2, e1112⊗e1112⊗f112), (⊕2, e1112⊗e1112⊗f12), (⊕2, e1112⊗e1112⊗f2), (⊕2, e1112⊗e1112⊗h1), (⊕2, e1112⊗e1112⊗h2), (⊕2, e1112⊗e11122⊗e1), (⊕2, e1112⊗e11122⊗e1112), (⊕2, e1112⊗e11122⊗e11122), (⊕2, e1112⊗e11122⊗e112), (⊕2, e1112⊗e11122⊗e12), (⊕2, e1112⊗e11122⊗e2), (⊕2, e1112⊗e11122⊗f1), (⊕2, e1112⊗e11122⊗f1112), (⊕2, e1112⊗e11122⊗f11122), (⊕2, e1112⊗e11122⊗f112), (⊕2, e1112⊗e11122⊗f12), (⊕2, e1112⊗e11122⊗f2), (⊕2, e1112⊗e11122⊗h1), (⊕2, e1112⊗e11122⊗h2), (⊕2, e1112⊗e112⊗e1), (⊕2, e1112⊗e112⊗e1112), (⊕2, e1112⊗e112⊗e11122), (⊕2, e1112⊗e112⊗e112), (⊕2, e1112⊗e112⊗e12), (⊕2, e1112⊗e112⊗e2), (⊕2, e1112⊗e112⊗f1), (⊕2, e1112⊗e112⊗f1112), (⊕2, e1112⊗e112⊗f11122), (⊕2, e1112⊗e112⊗f112), (⊕2, e1112⊗e112⊗f12), (⊕2, e1112⊗e112⊗f2), (⊕2, e1112⊗e112⊗h1), (⊕2, e1112⊗e112⊗h2), (⊕2, e1112⊗e12⊗e1), (⊕2, e1112⊗e12⊗e1112), (⊕2, e1112⊗e12⊗e11122), (⊕2, e1112⊗e12⊗e112), (⊕2, e1112⊗e12⊗e12), (⊕2, e1112⊗e12⊗e2), (⊕2, e1112⊗e12⊗f1), (⊕2, e1112⊗e12⊗f1112), (⊕2, e1112⊗e12⊗f11122), (⊕2, e1112⊗e12⊗f112), (⊕2, e1112⊗e12⊗f12), (⊕2, e1112⊗e12⊗f2), (⊕2, e1112⊗e12⊗h1), (⊕2, e1112⊗e12⊗h2), (⊕2, e1112⊗e2⊗e1), (⊕2, e1112⊗e2⊗e1112), (⊕2, e1112⊗e2⊗e11122), (⊕2, e1112⊗e2⊗e112), (⊕2, e1112⊗e2⊗e12), (⊕2, e1112⊗e2⊗e2), (⊕2, e1112⊗e2⊗f1), (⊕2, e1112⊗e2⊗f1112), (⊕2, e1112⊗e2⊗f11122), (⊕2, e1112⊗e2⊗f112), (⊕2, e1112⊗e2⊗f12), (⊕2, e1112⊗e2⊗f2), (⊕2, e1112⊗e2⊗h1), (⊕2, e1112⊗e2⊗h2), (⊕2, e1112⊗f1⊗e1), (⊕2, e1112⊗f1⊗e1112), (⊕2, e1112⊗f1⊗e11122), (⊕2, e1112⊗f1⊗e112), (⊕2, e1112⊗f1⊗e12), (⊕2, e1112⊗f1⊗e2), (⊕2, e1112⊗f1⊗f1), (⊕2, e1112⊗f1⊗f1112), (⊕2, e1112⊗f1⊗f11122), (⊕2, e1112⊗f1⊗f112), (⊕2, e1112⊗f1⊗f12), (⊕2, e1112⊗f1⊗f2), (⊕2, e1112⊗f1⊗h1), (⊕2, e1112⊗f1⊗h2), (⊕2, e1112⊗f1112⊗e1), (⊕2, e1112⊗f1112⊗e1112), (⊕2, e1112⊗f1112⊗e11122), (⊕2, e1112⊗f1112⊗e112), (⊕2, e1112⊗f1112⊗e12), (⊕2, e1112⊗f1112⊗e2), (⊕2, e1112⊗f1112⊗f1), (⊕2, e1112⊗f1112⊗f1112), (⊕2, e1112⊗f1112⊗f11122), (⊕2, e1112⊗f1112⊗f112), (⊕2, e1112⊗f1112⊗f12), (⊕2, e1112⊗f1112⊗f2), (⊕2, e1112⊗f1112⊗h1), (⊕2, e1112⊗f1112⊗h2), (⊕2, e1112⊗f11122⊗e1), (⊕2, e1112⊗f11122⊗e1112), (⊕2, e1112⊗f11122⊗e11122), (⊕2, e1112⊗f11122⊗e112), (⊕2, e1112⊗f11122⊗e12), (⊕2, e1112⊗f11122⊗e2), (⊕2, e1112⊗f11122⊗f1), (⊕2, e1112⊗f11122⊗f1112), (⊕2, e1112⊗f11122⊗f11122), (⊕2, e1112⊗f11122⊗f112), (⊕2, e1112⊗f11122⊗f12), (⊕2, e1112⊗f11122⊗f2), (⊕2, e1112⊗f11122⊗h1), (⊕2, e1112⊗f11122⊗h2), (⊕2, e1112⊗f112⊗e1), (⊕2, e1112⊗f112⊗e1112), (⊕2, e1112⊗f112⊗e11122), (⊕2, e1112⊗f112⊗e112), (⊕2, e1112⊗f112⊗e12), (⊕2, e1112⊗f112⊗e2), (⊕2, e1112⊗f112⊗f1), (⊕2, e1112⊗f112⊗f1112), (⊕2, e1112⊗f112⊗f11122), (⊕2, e1112⊗f112⊗f112), (⊕2, e1112⊗f112⊗f12), (⊕2, e1112⊗f112⊗f2), (⊕2, e1112⊗f112⊗h1), (⊕2, e1112⊗f112⊗h2), (⊕2, e1112⊗f12⊗e1), (⊕2, e1112⊗f12⊗e1112), (⊕2, e1112⊗f12⊗e11122), (⊕2, e1112⊗f12⊗e112), (⊕2, e1112⊗f12⊗e12), (⊕2, e1112⊗f12⊗e2), (⊕2, e1112⊗f12⊗f1), (⊕2, e1112⊗f12⊗f1112), (⊕2, e1112⊗f12⊗f11122), (⊕2, e1112⊗f12⊗f112), (⊕2, e1112⊗f12⊗f12), (⊕2, e1112⊗f12⊗f2), (⊕2, e1112⊗f12⊗h1), (⊕2, e1112⊗f12⊗h2), (⊕2, e1112⊗f2⊗e1), (⊕2, e1112⊗f2⊗e1112), (⊕2, e1112⊗f2⊗e11122), (⊕2, e1112⊗f2⊗e112), (⊕2, e1112⊗f2⊗e12), (⊕2, e1112⊗f2⊗e2), (⊕2, e1112⊗f2⊗f1), (⊕2, e1112⊗f2⊗f1112), (⊕2, e1112⊗f2⊗f11122), (⊕2, e1112⊗f2⊗f112), (⊕2, e1112⊗f2⊗f12), (⊕2, e1112⊗f2⊗f2), (⊕2, e1112⊗f2⊗h1), (⊕2, e1112⊗f2⊗h2), (⊕2, e1112⊗h1⊗e1), (⊕2, e1112⊗h1⊗e1112), (⊕2, e1112⊗h1⊗e11122), (⊕2, e1112⊗h1⊗e112), (⊕2, e1112⊗h1⊗e12), (⊕2, e1112⊗h1⊗e2), (⊕2, e1112⊗h1⊗f1), (⊕2, e1112⊗h1⊗f1112), (⊕2, e1112⊗h1⊗f11122), (⊕2, e1112⊗h1⊗f112), (⊕2, e1112⊗h1⊗f12), (⊕2, e1112⊗h1⊗f2), (⊕2, e1112⊗h1⊗h1), (⊕2, e1112⊗h1⊗h2), (⊕2, e1112⊗h2⊗e1), (⊕2, e1112⊗h2⊗e1112), (⊕2, e1112⊗h2⊗e11122), (⊕2, e1112⊗h2⊗e112), (⊕2, e1112⊗h2⊗e12), (⊕2, e1112⊗h2⊗e2), (⊕2, e1112⊗h2⊗f1), (⊕2, e1112⊗h2⊗f1112), (⊕2, e1112⊗h2⊗f11122), (⊕2, e1112⊗h2⊗f112), (⊕2, e1112⊗h2⊗f12), (⊕2, e1112⊗h2⊗f2), (⊕2, e1112⊗h2⊗h1), (⊕2, e1112⊗h2⊗h2), (⊕2, e11122⊗e1⊗e1), (⊕2, e11122⊗e1⊗e1112), (⊕2, e11122⊗e1⊗e11122), (⊕2, e11122⊗e1⊗e112), (⊕2, e11122⊗e1⊗e12), (⊕2, e11122⊗e1⊗e2), (⊕2, e11122⊗e1⊗f1), (⊕2, e11122⊗e1⊗f1112), (⊕2, e11122⊗e1⊗f11122), (⊕2, e11122⊗e1⊗f112), (⊕2, e11122⊗e1⊗f12), (⊕2, e11122⊗e1⊗f2), (⊕2, e11122⊗e1⊗h1), (⊕2, e11122⊗e1⊗h2), (⊕2, e11122⊗e1112⊗e1), (⊕2, e11122⊗e1112⊗e1112), (⊕2, e11122⊗e1112⊗e11122), (⊕2, e11122⊗e1112⊗e112), (⊕2, e11122⊗e1112⊗e12), (⊕2, e11122⊗e1112⊗e2), (⊕2, e11122⊗e1112⊗f1), (⊕2, e11122⊗e1112⊗f1112), (⊕2, e11122⊗e1112⊗f11122), (⊕2, e11122⊗e1112⊗f112), (⊕2, e11122⊗e1112⊗f12), (⊕2, e11122⊗e1112⊗f2), (⊕2, e11122⊗e1112⊗h1), (⊕2, e11122⊗e1112⊗h2), (⊕2, e11122⊗e11122⊗e1), (⊕2, e11122⊗e11122⊗e1112), (⊕2, e11122⊗e11122⊗e11122), (⊕2, e11122⊗e11122⊗e112), (⊕2, e11122⊗e11122⊗e12), (⊕2, e11122⊗e11122⊗e2), (⊕2, e11122⊗e11122⊗f1), (⊕2, e11122⊗e11122⊗f1112), (⊕2, e11122⊗e11122⊗f11122), (⊕2, e11122⊗e11122⊗f112), (⊕2, e11122⊗e11122⊗f12), (⊕2, e11122⊗e11122⊗f2), (⊕2, e11122⊗e11122⊗h1), (⊕2, e11122⊗e11122⊗h2), (⊕2, e11122⊗e112⊗e1), (⊕2, e11122⊗e112⊗e1112), (⊕2, e11122⊗e112⊗e11122), (⊕2, e11122⊗e112⊗e112), (⊕2, e11122⊗e112⊗e12), (⊕2, e11122⊗e112⊗e2), (⊕2, e11122⊗e112⊗f1), (⊕2, e11122⊗e112⊗f1112), (⊕2, e11122⊗e112⊗f11122), (⊕2, e11122⊗e112⊗f112), (⊕2, e11122⊗e112⊗f12), (⊕2, e11122⊗e112⊗f2), (⊕2, e11122⊗e112⊗h1), (⊕2, e11122⊗e112⊗h2), (⊕2, e11122⊗e12⊗e1), (⊕2, e11122⊗e12⊗e1112), (⊕2, e11122⊗e12⊗e11122), (⊕2, e11122⊗e12⊗e112), (⊕2, e11122⊗e12⊗e12), (⊕2, e11122⊗e12⊗e2), (⊕2, e11122⊗e12⊗f1), (⊕2, e11122⊗e12⊗f1112), (⊕2, e11122⊗e12⊗f11122), (⊕2, e11122⊗e12⊗f112), (⊕2, e11122⊗e12⊗f12), (⊕2, e11122⊗e12⊗f2), (⊕2, e11122⊗e12⊗h1), (⊕2, e11122⊗e12⊗h2), (⊕2, e11122⊗e2⊗e1), (⊕2, e11122⊗e2⊗e1112), (⊕2, e11122⊗e2⊗e11122), (⊕2, e11122⊗e2⊗e112), (⊕2, e11122⊗e2⊗e12), (⊕2, e11122⊗e2⊗e2), (⊕2, e11122⊗e2⊗f1), (⊕2, e11122⊗e2⊗f1112), (⊕2, e11122⊗e2⊗f11122), (⊕2, e11122⊗e2⊗f112), (⊕2, e11122⊗e2⊗f12), (⊕2, e11122⊗e2⊗f2), (⊕2, e11122⊗e2⊗h1), (⊕2, e11122⊗e2⊗h2), (⊕2, e11122⊗f1⊗e1), (⊕2, e11122⊗f1⊗e1112), (⊕2, e11122⊗f1⊗e11122), (⊕2, e11122⊗f1⊗e112), (⊕2, e11122⊗f1⊗e12), (⊕2, e11122⊗f1⊗e2), (⊕2, e11122⊗f1⊗f1), (⊕2, e11122⊗f1⊗f1112), (⊕2, e11122⊗f1⊗f11122), (⊕2, e11122⊗f1⊗f112), (⊕2, e11122⊗f1⊗f12), (⊕2, e11122⊗f1⊗f2), (⊕2, e11122⊗f1⊗h1), (⊕2, e11122⊗f1⊗h2), (⊕2, e11122⊗f1112⊗e1), (⊕2, e11122⊗f1112⊗e1112), (⊕2, e11122⊗f1112⊗e11122), (⊕2, e11122⊗f1112⊗e112), (⊕2, e11122⊗f1112⊗e12), (⊕2, e11122⊗f1112⊗e2), (⊕2, e11122⊗f1112⊗f1), (⊕2, e11122⊗f1112⊗f1112), (⊕2, e11122⊗f1112⊗f11122), (⊕2, e11122⊗f1112⊗f112), (⊕2, e11122⊗f1112⊗f12), (⊕2, e11122⊗f1112⊗f2), (⊕2, e11122⊗f1112⊗h1), (⊕2, e11122⊗f1112⊗h2), (⊕2, e11122⊗f11122⊗e1), (⊕2, e11122⊗f11122⊗e1112), (⊕2, e11122⊗f11122⊗e11122), (⊕2, e11122⊗f11122⊗e112), (⊕2, e11122⊗f11122⊗e12), (⊕2, e11122⊗f11122⊗e2), (⊕2, e11122⊗f11122⊗f1), (⊕2, e11122⊗f11122⊗f1112), (⊕2, e11122⊗f11122⊗f11122), (⊕2, e11122⊗f11122⊗f112), (⊕2, e11122⊗f11122⊗f12), (⊕2, e11122⊗f11122⊗f2), (⊕2, e11122⊗f11122⊗h1), (⊕2, e11122⊗f11122⊗h2), (⊕2, e11122⊗f112⊗e1), (⊕2, e11122⊗f112⊗e1112), (⊕2, e11122⊗f112⊗e11122), (⊕2, e11122⊗f112⊗e112), (⊕2, e11122⊗f112⊗e12), (⊕2, e11122⊗f112⊗e2), (⊕2, e11122⊗f112⊗f1), (⊕2, e11122⊗f112⊗f1112), (⊕2, e11122⊗f112⊗f11122), (⊕2, e11122⊗f112⊗f112), (⊕2, e11122⊗f112⊗f12), (⊕2, e11122⊗f112⊗f2), (⊕2, e11122⊗f112⊗h1), (⊕2, e11122⊗f112⊗h2), (⊕2, e11122⊗f12⊗e1), (⊕2, e11122⊗f12⊗e1112), (⊕2, e11122⊗f12⊗e11122), (⊕2, e11122⊗f12⊗e112), (⊕2, e11122⊗f12⊗e12), (⊕2, e11122⊗f12⊗e2), (⊕2, e11122⊗f12⊗f1), (⊕2, e11122⊗f12⊗f1112), (⊕2, e11122⊗f12⊗f11122), (⊕2, e11122⊗f12⊗f112), (⊕2, e11122⊗f12⊗f12), (⊕2, e11122⊗f12⊗f2), (⊕2, e11122⊗f12⊗h1), (⊕2, e11122⊗f12⊗h2), (⊕2, e11122⊗f2⊗e1), (⊕2, e11122⊗f2⊗e1112), (⊕2, e11122⊗f2⊗e11122), (⊕2, e11122⊗f2⊗e112), (⊕2, e11122⊗f2⊗e12), (⊕2, e11122⊗f2⊗e2), (⊕2, e11122⊗f2⊗f1), (⊕2, e11122⊗f2⊗f1112), (⊕2, e11122⊗f2⊗f11122), (⊕2, e11122⊗f2⊗f112), (⊕2, e11122⊗f2⊗f12), (⊕2, e11122⊗f2⊗f2), (⊕2, e11122⊗f2⊗h1), (⊕2, e11122⊗f2⊗h2), (⊕2, e11122⊗h1⊗e1), (⊕2, e11122⊗h1⊗e1112), (⊕2, e11122⊗h1⊗e11122), (⊕2, e11122⊗h1⊗e112), (⊕2, e11122⊗h1⊗e12), (⊕2, e11122⊗h1⊗e2), (⊕2, e11122⊗h1⊗f1), (⊕2, e11122⊗h1⊗f1112), (⊕2, e11122⊗h1⊗f11122), (⊕2, e11122⊗h1⊗f112), (⊕2, e11122⊗h1⊗f12), (⊕2, e11122⊗h1⊗f2), (⊕2, e11122⊗h1⊗h1), (⊕2, e11122⊗h1⊗h2), (⊕2, e11122⊗h2⊗e1), (⊕2, e11122⊗h2⊗e1112), (⊕2, e11122⊗h2⊗e11122), (⊕2, e11122⊗h2⊗e112), (⊕2, e11122⊗h2⊗e12), (⊕2, e11122⊗h2⊗e2), (⊕2, e11122⊗h2⊗f1), (⊕2, e11122⊗h2⊗f1112), (⊕2, e11122⊗h2⊗f11122), (⊕2, e11122⊗h2⊗f112), (⊕2, e11122⊗h2⊗f12), (⊕2, e11122⊗h2⊗f2), (⊕2, e11122⊗h2⊗h1), (⊕2, e11122⊗h2⊗h2), (⊕2, e112⊗e1⊗e1), (⊕2, e112⊗e1⊗e1112), (⊕2, e112⊗e1⊗e11122), (⊕2, e112⊗e1⊗e112), (⊕2, e112⊗e1⊗e12), (⊕2, e112⊗e1⊗e2), (⊕2, e112⊗e1⊗f1), (⊕2, e112⊗e1⊗f1112), (⊕2, e112⊗e1⊗f11122), (⊕2, e112⊗e1⊗f112), (⊕2, e112⊗e1⊗f12), (⊕2, e112⊗e1⊗f2), (⊕2, e112⊗e1⊗h1), (⊕2, e112⊗e1⊗h2), (⊕2, e112⊗e1112⊗e1), (⊕2, e112⊗e1112⊗e1112), (⊕2, e112⊗e1112⊗e11122), (⊕2, e112⊗e1112⊗e112), (⊕2, e112⊗e1112⊗e12), (⊕2, e112⊗e1112⊗e2), (⊕2, e112⊗e1112⊗f1), (⊕2, e112⊗e1112⊗f1112), (⊕2, e112⊗e1112⊗f11122), (⊕2, e112⊗e1112⊗f112), (⊕2, e112⊗e1112⊗f12), (⊕2, e112⊗e1112⊗f2), (⊕2, e112⊗e1112⊗h1), (⊕2, e112⊗e1112⊗h2), (⊕2, e112⊗e11122⊗e1), (⊕2, e112⊗e11122⊗e1112), (⊕2, e112⊗e11122⊗e11122), (⊕2, e112⊗e11122⊗e112), (⊕2, e112⊗e11122⊗e12), (⊕2, e112⊗e11122⊗e2), (⊕2, e112⊗e11122⊗f1), (⊕2, e112⊗e11122⊗f1112), (⊕2, e112⊗e11122⊗f11122), (⊕2, e112⊗e11122⊗f112), (⊕2, e112⊗e11122⊗f12), (⊕2, e112⊗e11122⊗f2), (⊕2, e112⊗e11122⊗h1), (⊕2, e112⊗e11122⊗h2), (⊕2, e112⊗e112⊗e1), (⊕2, e112⊗e112⊗e1112), (⊕2, e112⊗e112⊗e11122), (⊕2, e112⊗e112⊗e112), (⊕2, e112⊗e112⊗e12), (⊕2, e112⊗e112⊗e2), (⊕2, e112⊗e112⊗f1), (⊕2, e112⊗e112⊗f1112), (⊕2, e112⊗e112⊗f11122), (⊕2, e112⊗e112⊗f112), (⊕2, e112⊗e112⊗f12), (⊕2, e112⊗e112⊗f2), (⊕2, e112⊗e112⊗h1), (⊕2, e112⊗e112⊗h2), (⊕2, e112⊗e12⊗e1), (⊕2, e112⊗e12⊗e1112), (⊕2, e112⊗e12⊗e11122), (⊕2, e112⊗e12⊗e112), (⊕2, e112⊗e12⊗e12), (⊕2, e112⊗e12⊗e2), (⊕2, e112⊗e12⊗f1), (⊕2, e112⊗e12⊗f1112), (⊕2, e112⊗e12⊗f11122), (⊕2, e112⊗e12⊗f112), (⊕2, e112⊗e12⊗f12), (⊕2, e112⊗e12⊗f2), (⊕2, e112⊗e12⊗h1), (⊕2, e112⊗e12⊗h2), (⊕2, e112⊗e2⊗e1), (⊕2, e112⊗e2⊗e1112), (⊕2, e112⊗e2⊗e11122), (⊕2, e112⊗e2⊗e112), (⊕2, e112⊗e2⊗e12), (⊕2, e112⊗e2⊗e2), (⊕2, e112⊗e2⊗f1), (⊕2, e112⊗e2⊗f1112), (⊕2, e112⊗e2⊗f11122), (⊕2, e112⊗e2⊗f112), (⊕2, e112⊗e2⊗f12), (⊕2, e112⊗e2⊗f2), (⊕2, e112⊗e2⊗h1), (⊕2, e112⊗e2⊗h2), (⊕2, e112⊗f1⊗e1), (⊕2, e112⊗f1⊗e1112), (⊕2, e112⊗f1⊗e11122), (⊕2, e112⊗f1⊗e112), (⊕2, e112⊗f1⊗e12), (⊕2, e112⊗f1⊗e2), (⊕2, e112⊗f1⊗f1), (⊕2, e112⊗f1⊗f1112), (⊕2, e112⊗f1⊗f11122), (⊕2, e112⊗f1⊗f112), (⊕2, e112⊗f1⊗f12), (⊕2, e112⊗f1⊗f2), (⊕2, e112⊗f1⊗h1), (⊕2, e112⊗f1⊗h2), (⊕2, e112⊗f1112⊗e1), (⊕2, e112⊗f1112⊗e1112), (⊕2, e112⊗f1112⊗e11122), (⊕2, e112⊗f1112⊗e112), (⊕2, e112⊗f1112⊗e12), (⊕2, e112⊗f1112⊗e2), (⊕2, e112⊗f1112⊗f1), (⊕2, e112⊗f1112⊗f1112), (⊕2, e112⊗f1112⊗f11122), (⊕2, e112⊗f1112⊗f112), (⊕2, e112⊗f1112⊗f12), (⊕2, e112⊗f1112⊗f2), (⊕2, e112⊗f1112⊗h1), (⊕2, e112⊗f1112⊗h2), (⊕2, e112⊗f11122⊗e1), (⊕2, e112⊗f11122⊗e1112), (⊕2, e112⊗f11122⊗e11122), (⊕2, e112⊗f11122⊗e112), (⊕2, e112⊗f11122⊗e12), (⊕2, e112⊗f11122⊗e2), (⊕2, e112⊗f11122⊗f1), (⊕2, e112⊗f11122⊗f1112), (⊕2, e112⊗f11122⊗f11122), (⊕2, e112⊗f11122⊗f112), (⊕2, e112⊗f11122⊗f12), (⊕2, e112⊗f11122⊗f2), (⊕2, e112⊗f11122⊗h1), (⊕2, e112⊗f11122⊗h2), (⊕2, e112⊗f112⊗e1), (⊕2, e112⊗f112⊗e1112), (⊕2, e112⊗f112⊗e11122), (⊕2, e112⊗f112⊗e112), (⊕2, e112⊗f112⊗e12), (⊕2, e112⊗f112⊗e2), (⊕2, e112⊗f112⊗f1), (⊕2, e112⊗f112⊗f1112), (⊕2, e112⊗f112⊗f11122), (⊕2, e112⊗f112⊗f112), (⊕2, e112⊗f112⊗f12), (⊕2, e112⊗f112⊗f2), (⊕2, e112⊗f112⊗h1), (⊕2, e112⊗f112⊗h2), (⊕2, e112⊗f12⊗e1), (⊕2, e112⊗f12⊗e1112), (⊕2, e112⊗f12⊗e11122), (⊕2, e112⊗f12⊗e112), (⊕2, e112⊗f12⊗e12), (⊕2, e112⊗f12⊗e2), (⊕2, e112⊗f12⊗f1), (⊕2, e112⊗f12⊗f1112), (⊕2, e112⊗f12⊗f11122), (⊕2, e112⊗f12⊗f112), (⊕2, e112⊗f12⊗f12), (⊕2, e112⊗f12⊗f2), (⊕2, e112⊗f12⊗h1), (⊕2, e112⊗f12⊗h2), (⊕2, e112⊗f2⊗e1), (⊕2, e112⊗f2⊗e1112), (⊕2, e112⊗f2⊗e11122), (⊕2, e112⊗f2⊗e112), (⊕2, e112⊗f2⊗e12), (⊕2, e112⊗f2⊗e2), (⊕2, e112⊗f2⊗f1), (⊕2, e112⊗f2⊗f1112), (⊕2, e112⊗f2⊗f11122), (⊕2, e112⊗f2⊗f112), (⊕2, e112⊗f2⊗f12), (⊕2, e112⊗f2⊗f2), (⊕2, e112⊗f2⊗h1), (⊕2, e112⊗f2⊗h2), (⊕2, e112⊗h1⊗e1), (⊕2, e112⊗h1⊗e1112), (⊕2, e112⊗h1⊗e11122), (⊕2, e112⊗h1⊗e112), (⊕2, e112⊗h1⊗e12), (⊕2, e112⊗h1⊗e2), (⊕2, e112⊗h1⊗f1), (⊕2, e112⊗h1⊗f1112), (⊕2, e112⊗h1⊗f11122), (⊕2, e112⊗h1⊗f112), (⊕2, e112⊗h1⊗f12), (⊕2, e112⊗h1⊗f2), (⊕2, e112⊗h1⊗h1), (⊕2, e112⊗h1⊗h2), (⊕2, e112⊗h2⊗e1), (⊕2, e112⊗h2⊗e1112), (⊕2, e112⊗h2⊗e11122), (⊕2, e112⊗h2⊗e112), (⊕2, e112⊗h2⊗e12), (⊕2, e112⊗h2⊗e2), (⊕2, e112⊗h2⊗f1), (⊕2, e112⊗h2⊗f1112), (⊕2, e112⊗h2⊗f11122), (⊕2, e112⊗h2⊗f112), (⊕2, e112⊗h2⊗f12), (⊕2, e112⊗h2⊗f2), (⊕2, e112⊗h2⊗h1), (⊕2, e112⊗h2⊗h2), (⊕2, e12⊗e1⊗e1), (⊕2, e12⊗e1⊗e1112), (⊕2, e12⊗e1⊗e11122), (⊕2, e12⊗e1⊗e112), (⊕2, e12⊗e1⊗e12), (⊕2, e12⊗e1⊗e2), (⊕2, e12⊗e1⊗f1), (⊕2, e12⊗e1⊗f1112), (⊕2, e12⊗e1⊗f11122), (⊕2, e12⊗e1⊗f112), (⊕2, e12⊗e1⊗f12), (⊕2, e12⊗e1⊗f2), (⊕2, e12⊗e1⊗h1), (⊕2, e12⊗e1⊗h2), (⊕2, e12⊗e1112⊗e1), (⊕2, e12⊗e1112⊗e1112), (⊕2, e12⊗e1112⊗e11122), (⊕2, e12⊗e1112⊗e112), (⊕2, e12⊗e1112⊗e12), (⊕2, e12⊗e1112⊗e2), (⊕2, e12⊗e1112⊗f1), (⊕2, e12⊗e1112⊗f1112), (⊕2, e12⊗e1112⊗f11122), (⊕2, e12⊗e1112⊗f112), (⊕2, e12⊗e1112⊗f12), (⊕2, e12⊗e1112⊗f2), (⊕2, e12⊗e1112⊗h1), (⊕2, e12⊗e1112⊗h2), (⊕2, e12⊗e11122⊗e1), (⊕2, e12⊗e11122⊗e1112), (⊕2, e12⊗e11122⊗e11122), (⊕2, e12⊗e11122⊗e112), (⊕2, e12⊗e11122⊗e12), (⊕2, e12⊗e11122⊗e2), (⊕2, e12⊗e11122⊗f1), (⊕2, e12⊗e11122⊗f1112), (⊕2, e12⊗e11122⊗f11122), (⊕2, e12⊗e11122⊗f112), (⊕2, e12⊗e11122⊗f12), (⊕2, e12⊗e11122⊗f2), (⊕2, e12⊗e11122⊗h1), (⊕2, e12⊗e11122⊗h2), (⊕2, e12⊗e112⊗e1), (⊕2, e12⊗e112⊗e1112), (⊕2, e12⊗e112⊗e11122), (⊕2, e12⊗e112⊗e112), (⊕2, e12⊗e112⊗e12), (⊕2, e12⊗e112⊗e2), (⊕2, e12⊗e112⊗f1), (⊕2, e12⊗e112⊗f1112), (⊕2, e12⊗e112⊗f11122), (⊕2, e12⊗e112⊗f112), (⊕2, e12⊗e112⊗f12), (⊕2, e12⊗e112⊗f2), (⊕2, e12⊗e112⊗h1), (⊕2, e12⊗e112⊗h2), (⊕2, e12⊗e12⊗e1), (⊕2, e12⊗e12⊗e1112), (⊕2, e12⊗e12⊗e11122), (⊕2, e12⊗e12⊗e112), (⊕2, e12⊗e12⊗e12), (⊕2, e12⊗e12⊗e2), (⊕2, e12⊗e12⊗f1), (⊕2, e12⊗e12⊗f1112), (⊕2, e12⊗e12⊗f11122), (⊕2, e12⊗e12⊗f112), (⊕2, e12⊗e12⊗f12), (⊕2, e12⊗e12⊗f2), (⊕2, e12⊗e12⊗h1), (⊕2, e12⊗e12⊗h2), (⊕2, e12⊗e2⊗e1), (⊕2, e12⊗e2⊗e1112), (⊕2, e12⊗e2⊗e11122), (⊕2, e12⊗e2⊗e112), (⊕2, e12⊗e2⊗e12), (⊕2, e12⊗e2⊗e2), (⊕2, e12⊗e2⊗f1), (⊕2, e12⊗e2⊗f1112), (⊕2, e12⊗e2⊗f11122), (⊕2, e12⊗e2⊗f112), (⊕2, e12⊗e2⊗f12), (⊕2, e12⊗e2⊗f2), (⊕2, e12⊗e2⊗h1), (⊕2, e12⊗e2⊗h2), (⊕2, e12⊗f1⊗e1), (⊕2, e12⊗f1⊗e1112), (⊕2, e12⊗f1⊗e11122), (⊕2, e12⊗f1⊗e112), (⊕2, e12⊗f1⊗e12), (⊕2, e12⊗f1⊗e2), (⊕2, e12⊗f1⊗f1), (⊕2, e12⊗f1⊗f1112), (⊕2, e12⊗f1⊗f11122), (⊕2, e12⊗f1⊗f112), (⊕2, e12⊗f1⊗f12), (⊕2, e12⊗f1⊗f2), (⊕2, e12⊗f1⊗h1), (⊕2, e12⊗f1⊗h2), (⊕2, e12⊗f1112⊗e1), (⊕2, e12⊗f1112⊗e1112), (⊕2, e12⊗f1112⊗e11122), (⊕2, e12⊗f1112⊗e112), (⊕2, e12⊗f1112⊗e12), (⊕2, e12⊗f1112⊗e2), (⊕2, e12⊗f1112⊗f1), (⊕2, e12⊗f1112⊗f1112), (⊕2, e12⊗f1112⊗f11122), (⊕2, e12⊗f1112⊗f112), (⊕2, e12⊗f1112⊗f12), (⊕2, e12⊗f1112⊗f2), (⊕2, e12⊗f1112⊗h1), (⊕2, e12⊗f1112⊗h2), (⊕2, e12⊗f11122⊗e1), (⊕2, e12⊗f11122⊗e1112), (⊕2, e12⊗f11122⊗e11122), (⊕2, e12⊗f11122⊗e112), (⊕2, e12⊗f11122⊗e12), (⊕2, e12⊗f11122⊗e2), (⊕2, e12⊗f11122⊗f1), (⊕2, e12⊗f11122⊗f1112), (⊕2, e12⊗f11122⊗f11122), (⊕2, e12⊗f11122⊗f112), (⊕2, e12⊗f11122⊗f12), (⊕2, e12⊗f11122⊗f2), (⊕2, e12⊗f11122⊗h1), (⊕2, e12⊗f11122⊗h2), (⊕2, e12⊗f112⊗e1), (⊕2, e12⊗f112⊗e1112), (⊕2, e12⊗f112⊗e11122), (⊕2, e12⊗f112⊗e112), (⊕2, e12⊗f112⊗e12), (⊕2, e12⊗f112⊗e2), (⊕2, e12⊗f112⊗f1), (⊕2, e12⊗f112⊗f1112), (⊕2, e12⊗f112⊗f11122), (⊕2, e12⊗f112⊗f112), (⊕2, e12⊗f112⊗f12), (⊕2, e12⊗f112⊗f2), (⊕2, e12⊗f112⊗h1), (⊕2, e12⊗f112⊗h2), (⊕2, e12⊗f12⊗e1), (⊕2, e12⊗f12⊗e1112), (⊕2, e12⊗f12⊗e11122), (⊕2, e12⊗f12⊗e112), (⊕2, e12⊗f12⊗e12), (⊕2, e12⊗f12⊗e2), (⊕2, e12⊗f12⊗f1), (⊕2, e12⊗f12⊗f1112), (⊕2, e12⊗f12⊗f11122), (⊕2, e12⊗f12⊗f112), (⊕2, e12⊗f12⊗f12), (⊕2, e12⊗f12⊗f2), (⊕2, e12⊗f12⊗h1), (⊕2, e12⊗f12⊗h2), (⊕2, e12⊗f2⊗e1), (⊕2, e12⊗f2⊗e1112), (⊕2, e12⊗f2⊗e11122), (⊕2, e12⊗f2⊗e112), (⊕2, e12⊗f2⊗e12), (⊕2, e12⊗f2⊗e2), (⊕2, e12⊗f2⊗f1), (⊕2, e12⊗f2⊗f1112), (⊕2, e12⊗f2⊗f11122), (⊕2, e12⊗f2⊗f112), (⊕2, e12⊗f2⊗f12), (⊕2, e12⊗f2⊗f2), (⊕2, e12⊗f2⊗h1), (⊕2, e12⊗f2⊗h2), (⊕2, e12⊗h1⊗e1), (⊕2, e12⊗h1⊗e1112), (⊕2, e12⊗h1⊗e11122), (⊕2, e12⊗h1⊗e112), (⊕2, e12⊗h1⊗e12), (⊕2, e12⊗h1⊗e2), (⊕2, e12⊗h1⊗f1), (⊕2, e12⊗h1⊗f1112), (⊕2, e12⊗h1⊗f11122), (⊕2, e12⊗h1⊗f112), (⊕2, e12⊗h1⊗f12), (⊕2, e12⊗h1⊗f2), (⊕2, e12⊗h1⊗h1), (⊕2, e12⊗h1⊗h2), (⊕2, e12⊗h2⊗e1), (⊕2, e12⊗h2⊗e1112), (⊕2, e12⊗h2⊗e11122), (⊕2, e12⊗h2⊗e112), (⊕2, e12⊗h2⊗e12), (⊕2, e12⊗h2⊗e2), (⊕2, e12⊗h2⊗f1), (⊕2, e12⊗h2⊗f1112), (⊕2, e12⊗h2⊗f11122), (⊕2, e12⊗h2⊗f112), (⊕2, e12⊗h2⊗f12), (⊕2, e12⊗h2⊗f2), (⊕2, e12⊗h2⊗h1), (⊕2, e12⊗h2⊗h2), (⊕2, e2⊗e1⊗e1), (⊕2, e2⊗e1⊗e1112), (⊕2, e2⊗e1⊗e11122), (⊕2, e2⊗e1⊗e112), (⊕2, e2⊗e1⊗e12), (⊕2, e2⊗e1⊗e2), (⊕2, e2⊗e1⊗f1), (⊕2, e2⊗e1⊗f1112), (⊕2, e2⊗e1⊗f11122), (⊕2, e2⊗e1⊗f112), (⊕2, e2⊗e1⊗f12), (⊕2, e2⊗e1⊗f2), (⊕2, e2⊗e1⊗h1), (⊕2, e2⊗e1⊗h2), (⊕2, e2⊗e1112⊗e1), (⊕2, e2⊗e1112⊗e1112), (⊕2, e2⊗e1112⊗e11122), (⊕2, e2⊗e1112⊗e112), (⊕2, e2⊗e1112⊗e12), (⊕2, e2⊗e1112⊗e2), (⊕2, e2⊗e1112⊗f1), (⊕2, e2⊗e1112⊗f1112), (⊕2, e2⊗e1112⊗f11122), (⊕2, e2⊗e1112⊗f112), (⊕2, e2⊗e1112⊗f12), (⊕2, e2⊗e1112⊗f2), (⊕2, e2⊗e1112⊗h1), (⊕2, e2⊗e1112⊗h2), (⊕2, e2⊗e11122⊗e1), (⊕2, e2⊗e11122⊗e1112), (⊕2, e2⊗e11122⊗e11122), (⊕2, e2⊗e11122⊗e112), (⊕2, e2⊗e11122⊗e12), (⊕2, e2⊗e11122⊗e2), (⊕2, e2⊗e11122⊗f1), (⊕2, e2⊗e11122⊗f1112), (⊕2, e2⊗e11122⊗f11122), (⊕2, e2⊗e11122⊗f112), (⊕2, e2⊗e11122⊗f12), (⊕2, e2⊗e11122⊗f2), (⊕2, e2⊗e11122⊗h1), (⊕2, e2⊗e11122⊗h2), (⊕2, e2⊗e112⊗e1), (⊕2, e2⊗e112⊗e1112), (⊕2, e2⊗e112⊗e11122), (⊕2, e2⊗e112⊗e112), (⊕2, e2⊗e112⊗e12), (⊕2, e2⊗e112⊗e2), (⊕2, e2⊗e112⊗f1), (⊕2, e2⊗e112⊗f1112), (⊕2, e2⊗e112⊗f11122), (⊕2, e2⊗e112⊗f112), (⊕2, e2⊗e112⊗f12), (⊕2, e2⊗e112⊗f2), (⊕2, e2⊗e112⊗h1), (⊕2, e2⊗e112⊗h2), (⊕2, e2⊗e12⊗e1), (⊕2, e2⊗e12⊗e1112), (⊕2, e2⊗e12⊗e11122), (⊕2, e2⊗e12⊗e112), (⊕2, e2⊗e12⊗e12), (⊕2, e2⊗e12⊗e2), (⊕2, e2⊗e12⊗f1), (⊕2, e2⊗e12⊗f1112), (⊕2, e2⊗e12⊗f11122), (⊕2, e2⊗e12⊗f112), (⊕2, e2⊗e12⊗f12), (⊕2, e2⊗e12⊗f2), (⊕2, e2⊗e12⊗h1), (⊕2, e2⊗e12⊗h2), (⊕2, e2⊗e2⊗e1), (⊕2, e2⊗e2⊗e1112), (⊕2, e2⊗e2⊗e11122), (⊕2, e2⊗e2⊗e112), (⊕2, e2⊗e2⊗e12), (⊕2, e2⊗e2⊗e2), (⊕2, e2⊗e2⊗f1), (⊕2, e2⊗e2⊗f1112), (⊕2, e2⊗e2⊗f11122), (⊕2, e2⊗e2⊗f112), (⊕2, e2⊗e2⊗f12), (⊕2, e2⊗e2⊗f2), (⊕2, e2⊗e2⊗h1), (⊕2, e2⊗e2⊗h2), (⊕2, e2⊗f1⊗e1), (⊕2, e2⊗f1⊗e1112), (⊕2, e2⊗f1⊗e11122), (⊕2, e2⊗f1⊗e112), (⊕2, e2⊗f1⊗e12), (⊕2, e2⊗f1⊗e2), (⊕2, e2⊗f1⊗f1), (⊕2, e2⊗f1⊗f1112), (⊕2, e2⊗f1⊗f11122), (⊕2, e2⊗f1⊗f112), (⊕2, e2⊗f1⊗f12), (⊕2, e2⊗f1⊗f2), (⊕2, e2⊗f1⊗h1), (⊕2, e2⊗f1⊗h2), (⊕2, e2⊗f1112⊗e1), (⊕2, e2⊗f1112⊗e1112), (⊕2, e2⊗f1112⊗e11122), (⊕2, e2⊗f1112⊗e112), (⊕2, e2⊗f1112⊗e12), (⊕2, e2⊗f1112⊗e2), (⊕2, e2⊗f1112⊗f1), (⊕2, e2⊗f1112⊗f1112), (⊕2, e2⊗f1112⊗f11122), (⊕2, e2⊗f1112⊗f112), (⊕2, e2⊗f1112⊗f12), (⊕2, e2⊗f1112⊗f2), (⊕2, e2⊗f1112⊗h1), (⊕2, e2⊗f1112⊗h2), (⊕2, e2⊗f11122⊗e1), (⊕2, e2⊗f11122⊗e1112), (⊕2, e2⊗f11122⊗e11122), (⊕2, e2⊗f11122⊗e112), (⊕2, e2⊗f11122⊗e12), (⊕2, e2⊗f11122⊗e2), (⊕2, e2⊗f11122⊗f1), (⊕2, e2⊗f11122⊗f1112), (⊕2, e2⊗f11122⊗f11122), (⊕2, e2⊗f11122⊗f112), (⊕2, e2⊗f11122⊗f12), (⊕2, e2⊗f11122⊗f2), (⊕2, e2⊗f11122⊗h1), (⊕2, e2⊗f11122⊗h2), (⊕2, e2⊗f112⊗e1), (⊕2, e2⊗f112⊗e1112), (⊕2, e2⊗f112⊗e11122), (⊕2, e2⊗f112⊗e112), (⊕2, e2⊗f112⊗e12), (⊕2, e2⊗f112⊗e2), (⊕2, e2⊗f112⊗f1), (⊕2, e2⊗f112⊗f1112), (⊕2, e2⊗f112⊗f11122), (⊕2, e2⊗f112⊗f112), (⊕2, e2⊗f112⊗f12), (⊕2, e2⊗f112⊗f2), (⊕2, e2⊗f112⊗h1), (⊕2, e2⊗f112⊗h2), (⊕2, e2⊗f12⊗e1), (⊕2, e2⊗f12⊗e1112), (⊕2, e2⊗f12⊗e11122), (⊕2, e2⊗f12⊗e112), (⊕2, e2⊗f12⊗e12), (⊕2, e2⊗f12⊗e2), (⊕2, e2⊗f12⊗f1), (⊕2, e2⊗f12⊗f1112), (⊕2, e2⊗f12⊗f11122), (⊕2, e2⊗f12⊗f112), (⊕2, e2⊗f12⊗f12), (⊕2, e2⊗f12⊗f2), (⊕2, e2⊗f12⊗h1), (⊕2, e2⊗f12⊗h2), (⊕2, e2⊗f2⊗e1), (⊕2, e2⊗f2⊗e1112), (⊕2, e2⊗f2⊗e11122), (⊕2, e2⊗f2⊗e112), (⊕2, e2⊗f2⊗e12), (⊕2, e2⊗f2⊗e2), (⊕2, e2⊗f2⊗f1), (⊕2, e2⊗f2⊗f1112), (⊕2, e2⊗f2⊗f11122), (⊕2, e2⊗f2⊗f112), (⊕2, e2⊗f2⊗f12), (⊕2, e2⊗f2⊗f2), (⊕2, e2⊗f2⊗h1), (⊕2, e2⊗f2⊗h2), (⊕2, e2⊗h1⊗e1), (⊕2, e2⊗h1⊗e1112), (⊕2, e2⊗h1⊗e11122), (⊕2, e2⊗h1⊗e112), (⊕2, e2⊗h1⊗e12), (⊕2, e2⊗h1⊗e2), (⊕2, e2⊗h1⊗f1), (⊕2, e2⊗h1⊗f1112), (⊕2, e2⊗h1⊗f11122), (⊕2, e2⊗h1⊗f112), (⊕2, e2⊗h1⊗f12), (⊕2, e2⊗h1⊗f2), (⊕2, e2⊗h1⊗h1), (⊕2, e2⊗h1⊗h2), (⊕2, e2⊗h2⊗e1), (⊕2, e2⊗h2⊗e1112), (⊕2, e2⊗h2⊗e11122), (⊕2, e2⊗h2⊗e112), (⊕2, e2⊗h2⊗e12), (⊕2, e2⊗h2⊗e2), (⊕2, e2⊗h2⊗f1), (⊕2, e2⊗h2⊗f1112), (⊕2, e2⊗h2⊗f11122), (⊕2, e2⊗h2⊗f112), (⊕2, e2⊗h2⊗f12), (⊕2, e2⊗h2⊗f2), (⊕2, e2⊗h2⊗h1), (⊕2, e2⊗h2⊗h2), (⊕2, f1⊗e1⊗e1), (⊕2, f1⊗e1⊗e1112), (⊕2, f1⊗e1⊗e11122), (⊕2, f1⊗e1⊗e112), (⊕2, f1⊗e1⊗e12), (⊕2, f1⊗e1⊗e2), (⊕2, f1⊗e1⊗f1), (⊕2, f1⊗e1⊗f1112), (⊕2, f1⊗e1⊗f11122), (⊕2, f1⊗e1⊗f112), (⊕2, f1⊗e1⊗f12), (⊕2, f1⊗e1⊗f2), (⊕2, f1⊗e1⊗h1), (⊕2, f1⊗e1⊗h2), (⊕2, f1⊗e1112⊗e1), (⊕2, f1⊗e1112⊗e1112), (⊕2, f1⊗e1112⊗e11122), (⊕2, f1⊗e1112⊗e112), (⊕2, f1⊗e1112⊗e12), (⊕2, f1⊗e1112⊗e2), (⊕2, f1⊗e1112⊗f1), (⊕2, f1⊗e1112⊗f1112), (⊕2, f1⊗e1112⊗f11122), (⊕2, f1⊗e1112⊗f112), (⊕2, f1⊗e1112⊗f12), (⊕2, f1⊗e1112⊗f2), (⊕2, f1⊗e1112⊗h1), (⊕2, f1⊗e1112⊗h2), (⊕2, f1⊗e11122⊗e1), (⊕2, f1⊗e11122⊗e1112), (⊕2, f1⊗e11122⊗e11122), (⊕2, f1⊗e11122⊗e112), (⊕2, f1⊗e11122⊗e12), (⊕2, f1⊗e11122⊗e2), (⊕2, f1⊗e11122⊗f1), (⊕2, f1⊗e11122⊗f1112), (⊕2, f1⊗e11122⊗f11122), (⊕2, f1⊗e11122⊗f112), (⊕2, f1⊗e11122⊗f12), (⊕2, f1⊗e11122⊗f2), (⊕2, f1⊗e11122⊗h1), (⊕2, f1⊗e11122⊗h2), (⊕2, f1⊗e112⊗e1), (⊕2, f1⊗e112⊗e1112), (⊕2, f1⊗e112⊗e11122), (⊕2, f1⊗e112⊗e112), (⊕2, f1⊗e112⊗e12), (⊕2, f1⊗e112⊗e2), (⊕2, f1⊗e112⊗f1), (⊕2, f1⊗e112⊗f1112), (⊕2, f1⊗e112⊗f11122), (⊕2, f1⊗e112⊗f112), (⊕2, f1⊗e112⊗f12), (⊕2, f1⊗e112⊗f2), (⊕2, f1⊗e112⊗h1), (⊕2, f1⊗e112⊗h2), (⊕2, f1⊗e12⊗e1), (⊕2, f1⊗e12⊗e1112), (⊕2, f1⊗e12⊗e11122), (⊕2, f1⊗e12⊗e112), (⊕2, f1⊗e12⊗e12), (⊕2, f1⊗e12⊗e2), (⊕2, f1⊗e12⊗f1), (⊕2, f1⊗e12⊗f1112), (⊕2, f1⊗e12⊗f11122), (⊕2, f1⊗e12⊗f112), (⊕2, f1⊗e12⊗f12), (⊕2, f1⊗e12⊗f2), (⊕2, f1⊗e12⊗h1), (⊕2, f1⊗e12⊗h2), (⊕2, f1⊗e2⊗e1), (⊕2, f1⊗e2⊗e1112), (⊕2, f1⊗e2⊗e11122), (⊕2, f1⊗e2⊗e112), (⊕2, f1⊗e2⊗e12), (⊕2, f1⊗e2⊗e2), (⊕2, f1⊗e2⊗f1), (⊕2, f1⊗e2⊗f1112), (⊕2, f1⊗e2⊗f11122), (⊕2, f1⊗e2⊗f112), (⊕2, f1⊗e2⊗f12), (⊕2, f1⊗e2⊗f2), (⊕2, f1⊗e2⊗h1), (⊕2, f1⊗e2⊗h2), (⊕2, f1⊗f1⊗e1), (⊕2, f1⊗f1⊗e1112), (⊕2, f1⊗f1⊗e11122), (⊕2, f1⊗f1⊗e112), (⊕2, f1⊗f1⊗e12), (⊕2, f1⊗f1⊗e2), (⊕2, f1⊗f1⊗f1), (⊕2, f1⊗f1⊗f1112), (⊕2, f1⊗f1⊗f11122), (⊕2, f1⊗f1⊗f112), (⊕2, f1⊗f1⊗f12), (⊕2, f1⊗f1⊗f2), (⊕2, f1⊗f1⊗h1), (⊕2, f1⊗f1⊗h2), (⊕2, f1⊗f1112⊗e1), (⊕2, f1⊗f1112⊗e1112), (⊕2, f1⊗f1112⊗e11122), (⊕2, f1⊗f1112⊗e112), (⊕2, f1⊗f1112⊗e12), (⊕2, f1⊗f1112⊗e2), (⊕2, f1⊗f1112⊗f1), (⊕2, f1⊗f1112⊗f1112), (⊕2, f1⊗f1112⊗f11122), (⊕2, f1⊗f1112⊗f112), (⊕2, f1⊗f1112⊗f12), (⊕2, f1⊗f1112⊗f2), (⊕2, f1⊗f1112⊗h1), (⊕2, f1⊗f1112⊗h2), (⊕2, f1⊗f11122⊗e1), (⊕2, f1⊗f11122⊗e1112), (⊕2, f1⊗f11122⊗e11122), (⊕2, f1⊗f11122⊗e112), (⊕2, f1⊗f11122⊗e12), (⊕2, f1⊗f11122⊗e2), (⊕2, f1⊗f11122⊗f1), (⊕2, f1⊗f11122⊗f1112), (⊕2, f1⊗f11122⊗f11122), (⊕2, f1⊗f11122⊗f112), (⊕2, f1⊗f11122⊗f12), (⊕2, f1⊗f11122⊗f2), (⊕2, f1⊗f11122⊗h1), (⊕2, f1⊗f11122⊗h2), (⊕2, f1⊗f112⊗e1), (⊕2, f1⊗f112⊗e1112), (⊕2, f1⊗f112⊗e11122), (⊕2, f1⊗f112⊗e112), (⊕2, f1⊗f112⊗e12), (⊕2, f1⊗f112⊗e2), (⊕2, f1⊗f112⊗f1), (⊕2, f1⊗f112⊗f1112), (⊕2, f1⊗f112⊗f11122), (⊕2, f1⊗f112⊗f112), (⊕2, f1⊗f112⊗f12), (⊕2, f1⊗f112⊗f2), (⊕2, f1⊗f112⊗h1), (⊕2, f1⊗f112⊗h2), (⊕2, f1⊗f12⊗e1), (⊕2, f1⊗f12⊗e1112), (⊕2, f1⊗f12⊗e11122), (⊕2, f1⊗f12⊗e112), (⊕2, f1⊗f12⊗e12), (⊕2, f1⊗f12⊗e2), (⊕2, f1⊗f12⊗f1), (⊕2, f1⊗f12⊗f1112), (⊕2, f1⊗f12⊗f11122), (⊕2, f1⊗f12⊗f112), (⊕2, f1⊗f12⊗f12), (⊕2, f1⊗f12⊗f2), (⊕2, f1⊗f12⊗h1), (⊕2, f1⊗f12⊗h2), (⊕2, f1⊗f2⊗e1), (⊕2, f1⊗f2⊗e1112), (⊕2, f1⊗f2⊗e11122), (⊕2, f1⊗f2⊗e112), (⊕2, f1⊗f2⊗e12), (⊕2, f1⊗f2⊗e2), (⊕2, f1⊗f2⊗f1), (⊕2, f1⊗f2⊗f1112), (⊕2, f1⊗f2⊗f11122), (⊕2, f1⊗f2⊗f112), (⊕2, f1⊗f2⊗f12), (⊕2, f1⊗f2⊗f2), (⊕2, f1⊗f2⊗h1), (⊕2, f1⊗f2⊗h2), (⊕2, f1⊗h1⊗e1), (⊕2, f1⊗h1⊗e1112), (⊕2, f1⊗h1⊗e11122), (⊕2, f1⊗h1⊗e112), (⊕2, f1⊗h1⊗e12), (⊕2, f1⊗h1⊗e2), (⊕2, f1⊗h1⊗f1), (⊕2, f1⊗h1⊗f1112), (⊕2, f1⊗h1⊗f11122), (⊕2, f1⊗h1⊗f112), (⊕2, f1⊗h1⊗f12), (⊕2, f1⊗h1⊗f2), (⊕2, f1⊗h1⊗h1), (⊕2, f1⊗h1⊗h2), (⊕2, f1⊗h2⊗e1), (⊕2, f1⊗h2⊗e1112), (⊕2, f1⊗h2⊗e11122), (⊕2, f1⊗h2⊗e112), (⊕2, f1⊗h2⊗e12), (⊕2, f1⊗h2⊗e2), (⊕2, f1⊗h2⊗f1), (⊕2, f1⊗h2⊗f1112), (⊕2, f1⊗h2⊗f11122), (⊕2, f1⊗h2⊗f112), (⊕2, f1⊗h2⊗f12), (⊕2, f1⊗h2⊗f2), (⊕2, f1⊗h2⊗h1), (⊕2, f1⊗h2⊗h2), (⊕2, f1112⊗e1⊗e1), (⊕2, f1112⊗e1⊗e1112), (⊕2, f1112⊗e1⊗e11122), (⊕2, f1112⊗e1⊗e112), (⊕2, f1112⊗e1⊗e12), (⊕2, f1112⊗e1⊗e2), (⊕2, f1112⊗e1⊗f1), (⊕2, f1112⊗e1⊗f1112), (⊕2, f1112⊗e1⊗f11122), (⊕2, f1112⊗e1⊗f112), (⊕2, f1112⊗e1⊗f12), (⊕2, f1112⊗e1⊗f2), (⊕2, f1112⊗e1⊗h1), (⊕2, f1112⊗e1⊗h2), (⊕2, f1112⊗e1112⊗e1), (⊕2, f1112⊗e1112⊗e1112), (⊕2, f1112⊗e1112⊗e11122), (⊕2, f1112⊗e1112⊗e112), (⊕2, f1112⊗e1112⊗e12), (⊕2, f1112⊗e1112⊗e2), (⊕2, f1112⊗e1112⊗f1), (⊕2, f1112⊗e1112⊗f1112), (⊕2, f1112⊗e1112⊗f11122), (⊕2, f1112⊗e1112⊗f112), (⊕2, f1112⊗e1112⊗f12), (⊕2, f1112⊗e1112⊗f2), (⊕2, f1112⊗e1112⊗h1), (⊕2, f1112⊗e1112⊗h2), (⊕2, f1112⊗e11122⊗e1), (⊕2, f1112⊗e11122⊗e1112), (⊕2, f1112⊗e11122⊗e11122), (⊕2, f1112⊗e11122⊗e112), (⊕2, f1112⊗e11122⊗e12), (⊕2, f1112⊗e11122⊗e2), (⊕2, f1112⊗e11122⊗f1), (⊕2, f1112⊗e11122⊗f1112), (⊕2, f1112⊗e11122⊗f11122), (⊕2, f1112⊗e11122⊗f112), (⊕2, f1112⊗e11122⊗f12), (⊕2, f1112⊗e11122⊗f2), (⊕2, f1112⊗e11122⊗h1), (⊕2, f1112⊗e11122⊗h2), (⊕2, f1112⊗e112⊗e1), (⊕2, f1112⊗e112⊗e1112), (⊕2, f1112⊗e112⊗e11122), (⊕2, f1112⊗e112⊗e112), (⊕2, f1112⊗e112⊗e12), (⊕2, f1112⊗e112⊗e2), (⊕2, f1112⊗e112⊗f1), (⊕2, f1112⊗e112⊗f1112), (⊕2, f1112⊗e112⊗f11122), (⊕2, f1112⊗e112⊗f112), (⊕2, f1112⊗e112⊗f12), (⊕2, f1112⊗e112⊗f2), (⊕2, f1112⊗e112⊗h1), (⊕2, f1112⊗e112⊗h2), (⊕2, f1112⊗e12⊗e1), (⊕2, f1112⊗e12⊗e1112), (⊕2, f1112⊗e12⊗e11122), (⊕2, f1112⊗e12⊗e112), (⊕2, f1112⊗e12⊗e12), (⊕2, f1112⊗e12⊗e2), (⊕2, f1112⊗e12⊗f1), (⊕2, f1112⊗e12⊗f1112), (⊕2, f1112⊗e12⊗f11122), (⊕2, f1112⊗e12⊗f112), (⊕2, f1112⊗e12⊗f12), (⊕2, f1112⊗e12⊗f2), (⊕2, f1112⊗e12⊗h1), (⊕2, f1112⊗e12⊗h2), (⊕2, f1112⊗e2⊗e1), (⊕2, f1112⊗e2⊗e1112), (⊕2, f1112⊗e2⊗e11122), (⊕2, f1112⊗e2⊗e112), (⊕2, f1112⊗e2⊗e12), (⊕2, f1112⊗e2⊗e2), (⊕2, f1112⊗e2⊗f1), (⊕2, f1112⊗e2⊗f1112), (⊕2, f1112⊗e2⊗f11122), (⊕2, f1112⊗e2⊗f112), (⊕2, f1112⊗e2⊗f12), (⊕2, f1112⊗e2⊗f2), (⊕2, f1112⊗e2⊗h1), (⊕2, f1112⊗e2⊗h2), (⊕2, f1112⊗f1⊗e1), (⊕2, f1112⊗f1⊗e1112), (⊕2, f1112⊗f1⊗e11122), (⊕2, f1112⊗f1⊗e112), (⊕2, f1112⊗f1⊗e12), (⊕2, f1112⊗f1⊗e2), (⊕2, f1112⊗f1⊗f1), (⊕2, f1112⊗f1⊗f1112), (⊕2, f1112⊗f1⊗f11122), (⊕2, f1112⊗f1⊗f112), (⊕2, f1112⊗f1⊗f12), (⊕2, f1112⊗f1⊗f2), (⊕2, f1112⊗f1⊗h1), (⊕2, f1112⊗f1⊗h2), (⊕2, f1112⊗f1112⊗e1), (⊕2, f1112⊗f1112⊗e1112), (⊕2, f1112⊗f1112⊗e11122), (⊕2, f1112⊗f1112⊗e112), (⊕2, f1112⊗f1112⊗e12), (⊕2, f1112⊗f1112⊗e2), (⊕2, f1112⊗f1112⊗f1), (⊕2, f1112⊗f1112⊗f1112), (⊕2, f1112⊗f1112⊗f11122), (⊕2, f1112⊗f1112⊗f112), (⊕2, f1112⊗f1112⊗f12), (⊕2, f1112⊗f1112⊗f2), (⊕2, f1112⊗f1112⊗h1), (⊕2, f1112⊗f1112⊗h2), (⊕2, f1112⊗f11122⊗e1), (⊕2, f1112⊗f11122⊗e1112), (⊕2, f1112⊗f11122⊗e11122), (⊕2, f1112⊗f11122⊗e112), (⊕2, f1112⊗f11122⊗e12), (⊕2, f1112⊗f11122⊗e2), (⊕2, f1112⊗f11122⊗f1), (⊕2, f1112⊗f11122⊗f1112), (⊕2, f1112⊗f11122⊗f11122), (⊕2, f1112⊗f11122⊗f112), (⊕2, f1112⊗f11122⊗f12), (⊕2, f1112⊗f11122⊗f2), (⊕2, f1112⊗f11122⊗h1), (⊕2, f1112⊗f11122⊗h2), (⊕2, f1112⊗f112⊗e1), (⊕2, f1112⊗f112⊗e1112), (⊕2, f1112⊗f112⊗e11122), (⊕2, f1112⊗f112⊗e112), (⊕2, f1112⊗f112⊗e12), (⊕2, f1112⊗f112⊗e2), (⊕2, f1112⊗f112⊗f1), (⊕2, f1112⊗f112⊗f1112), (⊕2, f1112⊗f112⊗f11122), (⊕2, f1112⊗f112⊗f112), (⊕2, f1112⊗f112⊗f12), (⊕2, f1112⊗f112⊗f2), (⊕2, f1112⊗f112⊗h1), (⊕2, f1112⊗f112⊗h2), (⊕2, f1112⊗f12⊗e1), (⊕2, f1112⊗f12⊗e1112), (⊕2, f1112⊗f12⊗e11122), (⊕2, f1112⊗f12⊗e112), (⊕2, f1112⊗f12⊗e12), (⊕2, f1112⊗f12⊗e2), (⊕2, f1112⊗f12⊗f1), (⊕2, f1112⊗f12⊗f1112), (⊕2, f1112⊗f12⊗f11122), (⊕2, f1112⊗f12⊗f112), (⊕2, f1112⊗f12⊗f12), (⊕2, f1112⊗f12⊗f2), (⊕2, f1112⊗f12⊗h1), (⊕2, f1112⊗f12⊗h2), (⊕2, f1112⊗f2⊗e1), (⊕2, f1112⊗f2⊗e1112), (⊕2, f1112⊗f2⊗e11122), (⊕2, f1112⊗f2⊗e112), (⊕2, f1112⊗f2⊗e12), (⊕2, f1112⊗f2⊗e2), (⊕2, f1112⊗f2⊗f1), (⊕2, f1112⊗f2⊗f1112), (⊕2, f1112⊗f2⊗f11122), (⊕2, f1112⊗f2⊗f112), (⊕2, f1112⊗f2⊗f12), (⊕2, f1112⊗f2⊗f2), (⊕2, f1112⊗f2⊗h1), (⊕2, f1112⊗f2⊗h2), (⊕2, f1112⊗h1⊗e1), (⊕2, f1112⊗h1⊗e1112), (⊕2, f1112⊗h1⊗e11122), (⊕2, f1112⊗h1⊗e112), (⊕2, f1112⊗h1⊗e12), (⊕2, f1112⊗h1⊗e2), (⊕2, f1112⊗h1⊗f1), (⊕2, f1112⊗h1⊗f1112), (⊕2, f1112⊗h1⊗f11122), (⊕2, f1112⊗h1⊗f112), (⊕2, f1112⊗h1⊗f12), (⊕2, f1112⊗h1⊗f2), (⊕2, f1112⊗h1⊗h1), (⊕2, f1112⊗h1⊗h2), (⊕2, f1112⊗h2⊗e1), (⊕2, f1112⊗h2⊗e1112), (⊕2, f1112⊗h2⊗e11122), (⊕2, f1112⊗h2⊗e112), (⊕2, f1112⊗h2⊗e12), (⊕2, f1112⊗h2⊗e2), (⊕2, f1112⊗h2⊗f1), (⊕2, f1112⊗h2⊗f1112), (⊕2, f1112⊗h2⊗f11122), (⊕2, f1112⊗h2⊗f112), (⊕2, f1112⊗h2⊗f12), (⊕2, f1112⊗h2⊗f2), (⊕2, f1112⊗h2⊗h1), (⊕2, f1112⊗h2⊗h2), (⊕2, f11122⊗e1⊗e1), (⊕2, f11122⊗e1⊗e1112), (⊕2, f11122⊗e1⊗e11122), (⊕2, f11122⊗e1⊗e112), (⊕2, f11122⊗e1⊗e12), (⊕2, f11122⊗e1⊗e2), (⊕2, f11122⊗e1⊗f1), (⊕2, f11122⊗e1⊗f1112), (⊕2, f11122⊗e1⊗f11122), (⊕2, f11122⊗e1⊗f112), (⊕2, f11122⊗e1⊗f12), (⊕2, f11122⊗e1⊗f2), (⊕2, f11122⊗e1⊗h1), (⊕2, f11122⊗e1⊗h2), (⊕2, f11122⊗e1112⊗e1), (⊕2, f11122⊗e1112⊗e1112), (⊕2, f11122⊗e1112⊗e11122), (⊕2, f11122⊗e1112⊗e112), (⊕2, f11122⊗e1112⊗e12), (⊕2, f11122⊗e1112⊗e2), (⊕2, f11122⊗e1112⊗f1), (⊕2, f11122⊗e1112⊗f1112), (⊕2, f11122⊗e1112⊗f11122), (⊕2, f11122⊗e1112⊗f112), (⊕2, f11122⊗e1112⊗f12), (⊕2, f11122⊗e1112⊗f2), (⊕2, f11122⊗e1112⊗h1), (⊕2, f11122⊗e1112⊗h2), (⊕2, f11122⊗e11122⊗e1), (⊕2, f11122⊗e11122⊗e1112), (⊕2, f11122⊗e11122⊗e11122), (⊕2, f11122⊗e11122⊗e112), (⊕2, f11122⊗e11122⊗e12), (⊕2, f11122⊗e11122⊗e2), (⊕2, f11122⊗e11122⊗f1), (⊕2, f11122⊗e11122⊗f1112), (⊕2, f11122⊗e11122⊗f11122), (⊕2, f11122⊗e11122⊗f112), (⊕2, f11122⊗e11122⊗f12), (⊕2, f11122⊗e11122⊗f2), (⊕2, f11122⊗e11122⊗h1), (⊕2, f11122⊗e11122⊗h2), (⊕2, f11122⊗e112⊗e1), (⊕2, f11122⊗e112⊗e1112), (⊕2, f11122⊗e112⊗e11122), (⊕2, f11122⊗e112⊗e112), (⊕2, f11122⊗e112⊗e12), (⊕2, f11122⊗e112⊗e2), (⊕2, f11122⊗e112⊗f1), (⊕2, f11122⊗e112⊗f1112), (⊕2, f11122⊗e112⊗f11122), (⊕2, f11122⊗e112⊗f112), (⊕2, f11122⊗e112⊗f12), (⊕2, f11122⊗e112⊗f2), (⊕2, f11122⊗e112⊗h1), (⊕2, f11122⊗e112⊗h2), (⊕2, f11122⊗e12⊗e1), (⊕2, f11122⊗e12⊗e1112), (⊕2, f11122⊗e12⊗e11122), (⊕2, f11122⊗e12⊗e112), (⊕2, f11122⊗e12⊗e12), (⊕2, f11122⊗e12⊗e2), (⊕2, f11122⊗e12⊗f1), (⊕2, f11122⊗e12⊗f1112), (⊕2, f11122⊗e12⊗f11122), (⊕2, f11122⊗e12⊗f112), (⊕2, f11122⊗e12⊗f12), (⊕2, f11122⊗e12⊗f2), (⊕2, f11122⊗e12⊗h1), (⊕2, f11122⊗e12⊗h2), (⊕2, f11122⊗e2⊗e1), (⊕2, f11122⊗e2⊗e1112), (⊕2, f11122⊗e2⊗e11122), (⊕2, f11122⊗e2⊗e112), (⊕2, f11122⊗e2⊗e12), (⊕2, f11122⊗e2⊗e2), (⊕2, f11122⊗e2⊗f1), (⊕2, f11122⊗e2⊗f1112), (⊕2, f11122⊗e2⊗f11122), (⊕2, f11122⊗e2⊗f112), (⊕2, f11122⊗e2⊗f12), (⊕2, f11122⊗e2⊗f2), (⊕2, f11122⊗e2⊗h1), (⊕2, f11122⊗e2⊗h2), (⊕2, f11122⊗f1⊗e1), (⊕2, f11122⊗f1⊗e1112), (⊕2, f11122⊗f1⊗e11122), (⊕2, f11122⊗f1⊗e112), (⊕2, f11122⊗f1⊗e12), (⊕2, f11122⊗f1⊗e2), (⊕2, f11122⊗f1⊗f1), (⊕2, f11122⊗f1⊗f1112), (⊕2, f11122⊗f1⊗f11122), (⊕2, f11122⊗f1⊗f112), (⊕2, f11122⊗f1⊗f12), (⊕2, f11122⊗f1⊗f2), (⊕2, f11122⊗f1⊗h1), (⊕2, f11122⊗f1⊗h2), (⊕2, f11122⊗f1112⊗e1), (⊕2, f11122⊗f1112⊗e1112), (⊕2, f11122⊗f1112⊗e11122), (⊕2, f11122⊗f1112⊗e112), (⊕2, f11122⊗f1112⊗e12), (⊕2, f11122⊗f1112⊗e2), (⊕2, f11122⊗f1112⊗f1), (⊕2, f11122⊗f1112⊗f1112), (⊕2, f11122⊗f1112⊗f11122), (⊕2, f11122⊗f1112⊗f112), (⊕2, f11122⊗f1112⊗f12), (⊕2, f11122⊗f1112⊗f2), (⊕2, f11122⊗f1112⊗h1), (⊕2, f11122⊗f1112⊗h2), (⊕2, f11122⊗f11122⊗e1), (⊕2, f11122⊗f11122⊗e1112), (⊕2, f11122⊗f11122⊗e11122), (⊕2, f11122⊗f11122⊗e112), (⊕2, f11122⊗f11122⊗e12), (⊕2, f11122⊗f11122⊗e2), (⊕2, f11122⊗f11122⊗f1), (⊕2, f11122⊗f11122⊗f1112), (⊕2, f11122⊗f11122⊗f11122), (⊕2, f11122⊗f11122⊗f112), (⊕2, f11122⊗f11122⊗f12), (⊕2, f11122⊗f11122⊗f2), (⊕2, f11122⊗f11122⊗h1), (⊕2, f11122⊗f11122⊗h2), (⊕2, f11122⊗f112⊗e1), (⊕2, f11122⊗f112⊗e1112), (⊕2, f11122⊗f112⊗e11122), (⊕2, f11122⊗f112⊗e112), (⊕2, f11122⊗f112⊗e12), (⊕2, f11122⊗f112⊗e2), (⊕2, f11122⊗f112⊗f1), (⊕2, f11122⊗f112⊗f1112), (⊕2, f11122⊗f112⊗f11122), (⊕2, f11122⊗f112⊗f112), (⊕2, f11122⊗f112⊗f12), (⊕2, f11122⊗f112⊗f2), (⊕2, f11122⊗f112⊗h1), (⊕2, f11122⊗f112⊗h2), (⊕2, f11122⊗f12⊗e1), (⊕2, f11122⊗f12⊗e1112), (⊕2, f11122⊗f12⊗e11122), (⊕2, f11122⊗f12⊗e112), (⊕2, f11122⊗f12⊗e12), (⊕2, f11122⊗f12⊗e2), (⊕2, f11122⊗f12⊗f1), (⊕2, f11122⊗f12⊗f1112), (⊕2, f11122⊗f12⊗f11122), (⊕2, f11122⊗f12⊗f112), (⊕2, f11122⊗f12⊗f12), (⊕2, f11122⊗f12⊗f2), (⊕2, f11122⊗f12⊗h1), (⊕2, f11122⊗f12⊗h2), (⊕2, f11122⊗f2⊗e1), (⊕2, f11122⊗f2⊗e1112), (⊕2, f11122⊗f2⊗e11122), (⊕2, f11122⊗f2⊗e112), (⊕2, f11122⊗f2⊗e12), (⊕2, f11122⊗f2⊗e2), (⊕2, f11122⊗f2⊗f1), (⊕2, f11122⊗f2⊗f1112), (⊕2, f11122⊗f2⊗f11122), (⊕2, f11122⊗f2⊗f112), (⊕2, f11122⊗f2⊗f12), (⊕2, f11122⊗f2⊗f2), (⊕2, f11122⊗f2⊗h1), (⊕2, f11122⊗f2⊗h2), (⊕2, f11122⊗h1⊗e1), (⊕2, f11122⊗h1⊗e1112), (⊕2, f11122⊗h1⊗e11122), (⊕2, f11122⊗h1⊗e112), (⊕2, f11122⊗h1⊗e12), (⊕2, f11122⊗h1⊗e2), (⊕2, f11122⊗h1⊗f1), (⊕2, f11122⊗h1⊗f1112), (⊕2, f11122⊗h1⊗f11122), (⊕2, f11122⊗h1⊗f112), (⊕2, f11122⊗h1⊗f12), (⊕2, f11122⊗h1⊗f2), (⊕2, f11122⊗h1⊗h1), (⊕2, f11122⊗h1⊗h2), (⊕2, f11122⊗h2⊗e1), (⊕2, f11122⊗h2⊗e1112), (⊕2, f11122⊗h2⊗e11122), (⊕2, f11122⊗h2⊗e112), (⊕2, f11122⊗h2⊗e12), (⊕2, f11122⊗h2⊗e2), (⊕2, f11122⊗h2⊗f1), (⊕2, f11122⊗h2⊗f1112), (⊕2, f11122⊗h2⊗f11122), (⊕2, f11122⊗h2⊗f112), (⊕2, f11122⊗h2⊗f12), (⊕2, f11122⊗h2⊗f2), (⊕2, f11122⊗h2⊗h1), (⊕2, f11122⊗h2⊗h2), (⊕2, f112⊗e1⊗e1), (⊕2, f112⊗e1⊗e1112), (⊕2, f112⊗e1⊗e11122), (⊕2, f112⊗e1⊗e112), (⊕2, f112⊗e1⊗e12), (⊕2, f112⊗e1⊗e2), (⊕2, f112⊗e1⊗f1), (⊕2, f112⊗e1⊗f1112), (⊕2, f112⊗e1⊗f11122), (⊕2, f112⊗e1⊗f112), (⊕2, f112⊗e1⊗f12), (⊕2, f112⊗e1⊗f2), (⊕2, f112⊗e1⊗h1), (⊕2, f112⊗e1⊗h2), (⊕2, f112⊗e1112⊗e1), (⊕2, f112⊗e1112⊗e1112), (⊕2, f112⊗e1112⊗e11122), (⊕2, f112⊗e1112⊗e112), (⊕2, f112⊗e1112⊗e12), (⊕2, f112⊗e1112⊗e2), (⊕2, f112⊗e1112⊗f1), (⊕2, f112⊗e1112⊗f1112), (⊕2, f112⊗e1112⊗f11122), (⊕2, f112⊗e1112⊗f112), (⊕2, f112⊗e1112⊗f12), (⊕2, f112⊗e1112⊗f2), (⊕2, f112⊗e1112⊗h1), (⊕2, f112⊗e1112⊗h2), (⊕2, f112⊗e11122⊗e1), (⊕2, f112⊗e11122⊗e1112), (⊕2, f112⊗e11122⊗e11122), (⊕2, f112⊗e11122⊗e112), (⊕2, f112⊗e11122⊗e12), (⊕2, f112⊗e11122⊗e2), (⊕2, f112⊗e11122⊗f1), (⊕2, f112⊗e11122⊗f1112), (⊕2, f112⊗e11122⊗f11122), (⊕2, f112⊗e11122⊗f112), (⊕2, f112⊗e11122⊗f12), (⊕2, f112⊗e11122⊗f2), (⊕2, f112⊗e11122⊗h1), (⊕2, f112⊗e11122⊗h2), (⊕2, f112⊗e112⊗e1), (⊕2, f112⊗e112⊗e1112), (⊕2, f112⊗e112⊗e11122), (⊕2, f112⊗e112⊗e112), (⊕2, f112⊗e112⊗e12), (⊕2, f112⊗e112⊗e2), (⊕2, f112⊗e112⊗f1), (⊕2, f112⊗e112⊗f1112), (⊕2, f112⊗e112⊗f11122), (⊕2, f112⊗e112⊗f112), (⊕2, f112⊗e112⊗f12), (⊕2, f112⊗e112⊗f2), (⊕2, f112⊗e112⊗h1), (⊕2, f112⊗e112⊗h2), (⊕2, f112⊗e12⊗e1), (⊕2, f112⊗e12⊗e1112), (⊕2, f112⊗e12⊗e11122), (⊕2, f112⊗e12⊗e112), (⊕2, f112⊗e12⊗e12), (⊕2, f112⊗e12⊗e2), (⊕2, f112⊗e12⊗f1), (⊕2, f112⊗e12⊗f1112), (⊕2, f112⊗e12⊗f11122), (⊕2, f112⊗e12⊗f112), (⊕2, f112⊗e12⊗f12), (⊕2, f112⊗e12⊗f2), (⊕2, f112⊗e12⊗h1), (⊕2, f112⊗e12⊗h2), (⊕2, f112⊗e2⊗e1), (⊕2, f112⊗e2⊗e1112), (⊕2, f112⊗e2⊗e11122), (⊕2, f112⊗e2⊗e112), (⊕2, f112⊗e2⊗e12), (⊕2, f112⊗e2⊗e2), (⊕2, f112⊗e2⊗f1), (⊕2, f112⊗e2⊗f1112), (⊕2, f112⊗e2⊗f11122), (⊕2, f112⊗e2⊗f112), (⊕2, f112⊗e2⊗f12), (⊕2, f112⊗e2⊗f2), (⊕2, f112⊗e2⊗h1), (⊕2, f112⊗e2⊗h2), (⊕2, f112⊗f1⊗e1), (⊕2, f112⊗f1⊗e1112), (⊕2, f112⊗f1⊗e11122), (⊕2, f112⊗f1⊗e112), (⊕2, f112⊗f1⊗e12), (⊕2, f112⊗f1⊗e2), (⊕2, f112⊗f1⊗f1), (⊕2, f112⊗f1⊗f1112), (⊕2, f112⊗f1⊗f11122), (⊕2, f112⊗f1⊗f112), (⊕2, f112⊗f1⊗f12), (⊕2, f112⊗f1⊗f2), (⊕2, f112⊗f1⊗h1), (⊕2, f112⊗f1⊗h2), (⊕2, f112⊗f1112⊗e1), (⊕2, f112⊗f1112⊗e1112), (⊕2, f112⊗f1112⊗e11122), (⊕2, f112⊗f1112⊗e112), (⊕2, f112⊗f1112⊗e12), (⊕2, f112⊗f1112⊗e2), (⊕2, f112⊗f1112⊗f1), (⊕2, f112⊗f1112⊗f1112), (⊕2, f112⊗f1112⊗f11122), (⊕2, f112⊗f1112⊗f112), (⊕2, f112⊗f1112⊗f12), (⊕2, f112⊗f1112⊗f2), (⊕2, f112⊗f1112⊗h1), (⊕2, f112⊗f1112⊗h2), (⊕2, f112⊗f11122⊗e1), (⊕2, f112⊗f11122⊗e1112), (⊕2, f112⊗f11122⊗e11122), (⊕2, f112⊗f11122⊗e112), (⊕2, f112⊗f11122⊗e12), (⊕2, f112⊗f11122⊗e2), (⊕2, f112⊗f11122⊗f1), (⊕2, f112⊗f11122⊗f1112), (⊕2, f112⊗f11122⊗f11122), (⊕2, f112⊗f11122⊗f112), (⊕2, f112⊗f11122⊗f12), (⊕2, f112⊗f11122⊗f2), (⊕2, f112⊗f11122⊗h1), (⊕2, f112⊗f11122⊗h2), (⊕2, f112⊗f112⊗e1), (⊕2, f112⊗f112⊗e1112), (⊕2, f112⊗f112⊗e11122), (⊕2, f112⊗f112⊗e112), (⊕2, f112⊗f112⊗e12), (⊕2, f112⊗f112⊗e2), (⊕2, f112⊗f112⊗f1), (⊕2, f112⊗f112⊗f1112), (⊕2, f112⊗f112⊗f11122), (⊕2, f112⊗f112⊗f112), (⊕2, f112⊗f112⊗f12), (⊕2, f112⊗f112⊗f2), (⊕2, f112⊗f112⊗h1), (⊕2, f112⊗f112⊗h2), (⊕2, f112⊗f12⊗e1), (⊕2, f112⊗f12⊗e1112), (⊕2, f112⊗f12⊗e11122), (⊕2, f112⊗f12⊗e112), (⊕2, f112⊗f12⊗e12), (⊕2, f112⊗f12⊗e2), (⊕2, f112⊗f12⊗f1), (⊕2, f112⊗f12⊗f1112), (⊕2, f112⊗f12⊗f11122), (⊕2, f112⊗f12⊗f112), (⊕2, f112⊗f12⊗f12), (⊕2, f112⊗f12⊗f2), (⊕2, f112⊗f12⊗h1), (⊕2, f112⊗f12⊗h2), (⊕2, f112⊗f2⊗e1), (⊕2, f112⊗f2⊗e1112), (⊕2, f112⊗f2⊗e11122), (⊕2, f112⊗f2⊗e112), (⊕2, f112⊗f2⊗e12), (⊕2, f112⊗f2⊗e2), (⊕2, f112⊗f2⊗f1), (⊕2, f112⊗f2⊗f1112), (⊕2, f112⊗f2⊗f11122), (⊕2, f112⊗f2⊗f112), (⊕2, f112⊗f2⊗f12), (⊕2, f112⊗f2⊗f2), (⊕2, f112⊗f2⊗h1), (⊕2, f112⊗f2⊗h2), (⊕2, f112⊗h1⊗e1), (⊕2, f112⊗h1⊗e1112), (⊕2, f112⊗h1⊗e11122), (⊕2, f112⊗h1⊗e112), (⊕2, f112⊗h1⊗e12), (⊕2, f112⊗h1⊗e2), (⊕2, f112⊗h1⊗f1), (⊕2, f112⊗h1⊗f1112), (⊕2, f112⊗h1⊗f11122), (⊕2, f112⊗h1⊗f112), (⊕2, f112⊗h1⊗f12), (⊕2, f112⊗h1⊗f2), (⊕2, f112⊗h1⊗h1), (⊕2, f112⊗h1⊗h2), (⊕2, f112⊗h2⊗e1), (⊕2, f112⊗h2⊗e1112), (⊕2, f112⊗h2⊗e11122), (⊕2, f112⊗h2⊗e112), (⊕2, f112⊗h2⊗e12), (⊕2, f112⊗h2⊗e2), (⊕2, f112⊗h2⊗f1), (⊕2, f112⊗h2⊗f1112), (⊕2, f112⊗h2⊗f11122), (⊕2, f112⊗h2⊗f112), (⊕2, f112⊗h2⊗f12), (⊕2, f112⊗h2⊗f2), (⊕2, f112⊗h2⊗h1), (⊕2, f112⊗h2⊗h2), (⊕2, f12⊗e1⊗e1), (⊕2, f12⊗e1⊗e1112), (⊕2, f12⊗e1⊗e11122), (⊕2, f12⊗e1⊗e112), (⊕2, f12⊗e1⊗e12), (⊕2, f12⊗e1⊗e2), (⊕2, f12⊗e1⊗f1), (⊕2, f12⊗e1⊗f1112), (⊕2, f12⊗e1⊗f11122), (⊕2, f12⊗e1⊗f112), (⊕2, f12⊗e1⊗f12), (⊕2, f12⊗e1⊗f2), (⊕2, f12⊗e1⊗h1), (⊕2, f12⊗e1⊗h2), (⊕2, f12⊗e1112⊗e1), (⊕2, f12⊗e1112⊗e1112), (⊕2, f12⊗e1112⊗e11122), (⊕2, f12⊗e1112⊗e112), (⊕2, f12⊗e1112⊗e12), (⊕2, f12⊗e1112⊗e2), (⊕2, f12⊗e1112⊗f1), (⊕2, f12⊗e1112⊗f1112), (⊕2, f12⊗e1112⊗f11122), (⊕2, f12⊗e1112⊗f112), (⊕2, f12⊗e1112⊗f12), (⊕2, f12⊗e1112⊗f2), (⊕2, f12⊗e1112⊗h1), (⊕2, f12⊗e1112⊗h2), (⊕2, f12⊗e11122⊗e1), (⊕2, f12⊗e11122⊗e1112), (⊕2, f12⊗e11122⊗e11122), (⊕2, f12⊗e11122⊗e112), (⊕2, f12⊗e11122⊗e12), (⊕2, f12⊗e11122⊗e2), (⊕2, f12⊗e11122⊗f1), (⊕2, f12⊗e11122⊗f1112), (⊕2, f12⊗e11122⊗f11122), (⊕2, f12⊗e11122⊗f112), (⊕2, f12⊗e11122⊗f12), (⊕2, f12⊗e11122⊗f2), (⊕2, f12⊗e11122⊗h1), (⊕2, f12⊗e11122⊗h2), (⊕2, f12⊗e112⊗e1), (⊕2, f12⊗e112⊗e1112), (⊕2, f12⊗e112⊗e11122), (⊕2, f12⊗e112⊗e112), (⊕2, f12⊗e112⊗e12), (⊕2, f12⊗e112⊗e2), (⊕2, f12⊗e112⊗f1), (⊕2, f12⊗e112⊗f1112), (⊕2, f12⊗e112⊗f11122), (⊕2, f12⊗e112⊗f112), (⊕2, f12⊗e112⊗f12), (⊕2, f12⊗e112⊗f2), (⊕2, f12⊗e112⊗h1), (⊕2, f12⊗e112⊗h2), (⊕2, f12⊗e12⊗e1), (⊕2, f12⊗e12⊗e1112), (⊕2, f12⊗e12⊗e11122), (⊕2, f12⊗e12⊗e112), (⊕2, f12⊗e12⊗e12), (⊕2, f12⊗e12⊗e2), (⊕2, f12⊗e12⊗f1), (⊕2, f12⊗e12⊗f1112), (⊕2, f12⊗e12⊗f11122), (⊕2, f12⊗e12⊗f112), (⊕2, f12⊗e12⊗f12), (⊕2, f12⊗e12⊗f2), (⊕2, f12⊗e12⊗h1), (⊕2, f12⊗e12⊗h2), (⊕2, f12⊗e2⊗e1), (⊕2, f12⊗e2⊗e1112), (⊕2, f12⊗e2⊗e11122), (⊕2, f12⊗e2⊗e112), (⊕2, f12⊗e2⊗e12), (⊕2, f12⊗e2⊗e2), (⊕2, f12⊗e2⊗f1), (⊕2, f12⊗e2⊗f1112), (⊕2, f12⊗e2⊗f11122), (⊕2, f12⊗e2⊗f112), (⊕2, f12⊗e2⊗f12), (⊕2, f12⊗e2⊗f2), (⊕2, f12⊗e2⊗h1), (⊕2, f12⊗e2⊗h2), (⊕2, f12⊗f1⊗e1), (⊕2, f12⊗f1⊗e1112), (⊕2, f12⊗f1⊗e11122), (⊕2, f12⊗f1⊗e112), (⊕2, f12⊗f1⊗e12), (⊕2, f12⊗f1⊗e2), (⊕2, f12⊗f1⊗f1), (⊕2, f12⊗f1⊗f1112), (⊕2, f12⊗f1⊗f11122), (⊕2, f12⊗f1⊗f112), (⊕2, f12⊗f1⊗f12), (⊕2, f12⊗f1⊗f2), (⊕2, f12⊗f1⊗h1), (⊕2, f12⊗f1⊗h2), (⊕2, f12⊗f1112⊗e1), (⊕2, f12⊗f1112⊗e1112), (⊕2, f12⊗f1112⊗e11122), (⊕2, f12⊗f1112⊗e112), (⊕2, f12⊗f1112⊗e12), (⊕2, f12⊗f1112⊗e2), (⊕2, f12⊗f1112⊗f1), (⊕2, f12⊗f1112⊗f1112), (⊕2, f12⊗f1112⊗f11122), (⊕2, f12⊗f1112⊗f112), (⊕2, f12⊗f1112⊗f12), (⊕2, f12⊗f1112⊗f2), (⊕2, f12⊗f1112⊗h1), (⊕2, f12⊗f1112⊗h2), (⊕2, f12⊗f11122⊗e1), (⊕2, f12⊗f11122⊗e1112), (⊕2, f12⊗f11122⊗e11122), (⊕2, f12⊗f11122⊗e112), (⊕2, f12⊗f11122⊗e12), (⊕2, f12⊗f11122⊗e2), (⊕2, f12⊗f11122⊗f1), (⊕2, f12⊗f11122⊗f1112), (⊕2, f12⊗f11122⊗f11122), (⊕2, f12⊗f11122⊗f112), (⊕2, f12⊗f11122⊗f12), (⊕2, f12⊗f11122⊗f2), (⊕2, f12⊗f11122⊗h1), (⊕2, f12⊗f11122⊗h2), (⊕2, f12⊗f112⊗e1), (⊕2, f12⊗f112⊗e1112), (⊕2, f12⊗f112⊗e11122), (⊕2, f12⊗f112⊗e112), (⊕2, f12⊗f112⊗e12), (⊕2, f12⊗f112⊗e2), (⊕2, f12⊗f112⊗f1), (⊕2, f12⊗f112⊗f1112), (⊕2, f12⊗f112⊗f11122), (⊕2, f12⊗f112⊗f112), (⊕2, f12⊗f112⊗f12), (⊕2, f12⊗f112⊗f2), (⊕2, f12⊗f112⊗h1), (⊕2, f12⊗f112⊗h2), (⊕2, f12⊗f12⊗e1), (⊕2, f12⊗f12⊗e1112), (⊕2, f12⊗f12⊗e11122), (⊕2, f12⊗f12⊗e112), (⊕2, f12⊗f12⊗e12), (⊕2, f12⊗f12⊗e2), (⊕2, f12⊗f12⊗f1), (⊕2, f12⊗f12⊗f1112), (⊕2, f12⊗f12⊗f11122), (⊕2, f12⊗f12⊗f112), (⊕2, f12⊗f12⊗f12), (⊕2, f12⊗f12⊗f2), (⊕2, f12⊗f12⊗h1), (⊕2, f12⊗f12⊗h2), (⊕2, f12⊗f2⊗e1), (⊕2, f12⊗f2⊗e1112), (⊕2, f12⊗f2⊗e11122), (⊕2, f12⊗f2⊗e112), (⊕2, f12⊗f2⊗e12), (⊕2, f12⊗f2⊗e2), (⊕2, f12⊗f2⊗f1), (⊕2, f12⊗f2⊗f1112), (⊕2, f12⊗f2⊗f11122), (⊕2, f12⊗f2⊗f112), (⊕2, f12⊗f2⊗f12), (⊕2, f12⊗f2⊗f2), (⊕2, f12⊗f2⊗h1), (⊕2, f12⊗f2⊗h2), (⊕2, f12⊗h1⊗e1), (⊕2, f12⊗h1⊗e1112), (⊕2, f12⊗h1⊗e11122), (⊕2, f12⊗h1⊗e112), (⊕2, f12⊗h1⊗e12), (⊕2, f12⊗h1⊗e2), (⊕2, f12⊗h1⊗f1), (⊕2, f12⊗h1⊗f1112), (⊕2, f12⊗h1⊗f11122), (⊕2, f12⊗h1⊗f112), (⊕2, f12⊗h1⊗f12), (⊕2, f12⊗h1⊗f2), (⊕2, f12⊗h1⊗h1), (⊕2, f12⊗h1⊗h2), (⊕2, f12⊗h2⊗e1), (⊕2, f12⊗h2⊗e1112), (⊕2, f12⊗h2⊗e11122), (⊕2, f12⊗h2⊗e112), (⊕2, f12⊗h2⊗e12), (⊕2, f12⊗h2⊗e2), (⊕2, f12⊗h2⊗f1), (⊕2, f12⊗h2⊗f1112), (⊕2, f12⊗h2⊗f11122), (⊕2, f12⊗h2⊗f112), (⊕2, f12⊗h2⊗f12), (⊕2, f12⊗h2⊗f2), (⊕2, f12⊗h2⊗h1), (⊕2, f12⊗h2⊗h2), (⊕2, f2⊗e1⊗e1), (⊕2, f2⊗e1⊗e1112), (⊕2, f2⊗e1⊗e11122), (⊕2, f2⊗e1⊗e112), (⊕2, f2⊗e1⊗e12), (⊕2, f2⊗e1⊗e2), (⊕2, f2⊗e1⊗f1), (⊕2, f2⊗e1⊗f1112), (⊕2, f2⊗e1⊗f11122), (⊕2, f2⊗e1⊗f112), (⊕2, f2⊗e1⊗f12), (⊕2, f2⊗e1⊗f2), (⊕2, f2⊗e1⊗h1), (⊕2, f2⊗e1⊗h2), (⊕2, f2⊗e1112⊗e1), (⊕2, f2⊗e1112⊗e1112), (⊕2, f2⊗e1112⊗e11122), (⊕2, f2⊗e1112⊗e112), (⊕2, f2⊗e1112⊗e12), (⊕2, f2⊗e1112⊗e2), (⊕2, f2⊗e1112⊗f1), (⊕2, f2⊗e1112⊗f1112), (⊕2, f2⊗e1112⊗f11122), (⊕2, f2⊗e1112⊗f112), (⊕2, f2⊗e1112⊗f12), (⊕2, f2⊗e1112⊗f2), (⊕2, f2⊗e1112⊗h1), (⊕2, f2⊗e1112⊗h2), (⊕2, f2⊗e11122⊗e1), (⊕2, f2⊗e11122⊗e1112), (⊕2, f2⊗e11122⊗e11122), (⊕2, f2⊗e11122⊗e112), (⊕2, f2⊗e11122⊗e12), (⊕2, f2⊗e11122⊗e2), (⊕2, f2⊗e11122⊗f1), (⊕2, f2⊗e11122⊗f1112), (⊕2, f2⊗e11122⊗f11122), (⊕2, f2⊗e11122⊗f112), (⊕2, f2⊗e11122⊗f12), (⊕2, f2⊗e11122⊗f2), (⊕2, f2⊗e11122⊗h1), (⊕2, f2⊗e11122⊗h2), (⊕2, f2⊗e112⊗e1), (⊕2, f2⊗e112⊗e1112), (⊕2, f2⊗e112⊗e11122), (⊕2, f2⊗e112⊗e112), (⊕2, f2⊗e112⊗e12), (⊕2, f2⊗e112⊗e2), (⊕2, f2⊗e112⊗f1), (⊕2, f2⊗e112⊗f1112), (⊕2, f2⊗e112⊗f11122), (⊕2, f2⊗e112⊗f112), (⊕2, f2⊗e112⊗f12), (⊕2, f2⊗e112⊗f2), (⊕2, f2⊗e112⊗h1), (⊕2, f2⊗e112⊗h2), (⊕2, f2⊗e12⊗e1), (⊕2, f2⊗e12⊗e1112), (⊕2, f2⊗e12⊗e11122), (⊕2, f2⊗e12⊗e112), (⊕2, f2⊗e12⊗e12), (⊕2, f2⊗e12⊗e2), (⊕2, f2⊗e12⊗f1), (⊕2, f2⊗e12⊗f1112), (⊕2, f2⊗e12⊗f11122), (⊕2, f2⊗e12⊗f112), (⊕2, f2⊗e12⊗f12), (⊕2, f2⊗e12⊗f2), (⊕2, f2⊗e12⊗h1), (⊕2, f2⊗e12⊗h2), (⊕2, f2⊗e2⊗e1), (⊕2, f2⊗e2⊗e1112), (⊕2, f2⊗e2⊗e11122), (⊕2, f2⊗e2⊗e112), (⊕2, f2⊗e2⊗e12), (⊕2, f2⊗e2⊗e2), (⊕2, f2⊗e2⊗f1), (⊕2, f2⊗e2⊗f1112), (⊕2, f2⊗e2⊗f11122), (⊕2, f2⊗e2⊗f112), (⊕2, f2⊗e2⊗f12), (⊕2, f2⊗e2⊗f2), (⊕2, f2⊗e2⊗h1), (⊕2, f2⊗e2⊗h2), (⊕2, f2⊗f1⊗e1), (⊕2, f2⊗f1⊗e1112), (⊕2, f2⊗f1⊗e11122), (⊕2, f2⊗f1⊗e112), (⊕2, f2⊗f1⊗e12), (⊕2, f2⊗f1⊗e2), (⊕2, f2⊗f1⊗f1), (⊕2, f2⊗f1⊗f1112), (⊕2, f2⊗f1⊗f11122), (⊕2, f2⊗f1⊗f112), (⊕2, f2⊗f1⊗f12), (⊕2, f2⊗f1⊗f2), (⊕2, f2⊗f1⊗h1), (⊕2, f2⊗f1⊗h2), (⊕2, f2⊗f1112⊗e1), (⊕2, f2⊗f1112⊗e1112), (⊕2, f2⊗f1112⊗e11122), (⊕2, f2⊗f1112⊗e112), (⊕2, f2⊗f1112⊗e12), (⊕2, f2⊗f1112⊗e2), (⊕2, f2⊗f1112⊗f1), (⊕2, f2⊗f1112⊗f1112), (⊕2, f2⊗f1112⊗f11122), (⊕2, f2⊗f1112⊗f112), (⊕2, f2⊗f1112⊗f12), (⊕2, f2⊗f1112⊗f2), (⊕2, f2⊗f1112⊗h1), (⊕2, f2⊗f1112⊗h2), (⊕2, f2⊗f11122⊗e1), (⊕2, f2⊗f11122⊗e1112), (⊕2, f2⊗f11122⊗e11122), (⊕2, f2⊗f11122⊗e112), (⊕2, f2⊗f11122⊗e12), (⊕2, f2⊗f11122⊗e2), (⊕2, f2⊗f11122⊗f1), (⊕2, f2⊗f11122⊗f1112), (⊕2, f2⊗f11122⊗f11122), (⊕2, f2⊗f11122⊗f112), (⊕2, f2⊗f11122⊗f12), (⊕2, f2⊗f11122⊗f2), (⊕2, f2⊗f11122⊗h1), (⊕2, f2⊗f11122⊗h2), (⊕2, f2⊗f112⊗e1), (⊕2, f2⊗f112⊗e1112), (⊕2, f2⊗f112⊗e11122), (⊕2, f2⊗f112⊗e112), (⊕2, f2⊗f112⊗e12), (⊕2, f2⊗f112⊗e2), (⊕2, f2⊗f112⊗f1), (⊕2, f2⊗f112⊗f1112), (⊕2, f2⊗f112⊗f11122), (⊕2, f2⊗f112⊗f112), (⊕2, f2⊗f112⊗f12), (⊕2, f2⊗f112⊗f2), (⊕2, f2⊗f112⊗h1), (⊕2, f2⊗f112⊗h2), (⊕2, f2⊗f12⊗e1), (⊕2, f2⊗f12⊗e1112), (⊕2, f2⊗f12⊗e11122), (⊕2, f2⊗f12⊗e112), (⊕2, f2⊗f12⊗e12), (⊕2, f2⊗f12⊗e2), (⊕2, f2⊗f12⊗f1), (⊕2, f2⊗f12⊗f1112), (⊕2, f2⊗f12⊗f11122), (⊕2, f2⊗f12⊗f112), (⊕2, f2⊗f12⊗f12), (⊕2, f2⊗f12⊗f2), (⊕2, f2⊗f12⊗h1), (⊕2, f2⊗f12⊗h2), (⊕2, f2⊗f2⊗e1), (⊕2, f2⊗f2⊗e1112), (⊕2, f2⊗f2⊗e11122), (⊕2, f2⊗f2⊗e112), (⊕2, f2⊗f2⊗e12), (⊕2, f2⊗f2⊗e2), (⊕2, f2⊗f2⊗f1), (⊕2, f2⊗f2⊗f1112), (⊕2, f2⊗f2⊗f11122), (⊕2, f2⊗f2⊗f112), (⊕2, f2⊗f2⊗f12), (⊕2, f2⊗f2⊗f2), (⊕2, f2⊗f2⊗h1), (⊕2, f2⊗f2⊗h2), (⊕2, f2⊗h1⊗e1), (⊕2, f2⊗h1⊗e1112), (⊕2, f2⊗h1⊗e11122), (⊕2, f2⊗h1⊗e112), (⊕2, f2⊗h1⊗e12), (⊕2, f2⊗h1⊗e2), (⊕2, f2⊗h1⊗f1), (⊕2, f2⊗h1⊗f1112), (⊕2, f2⊗h1⊗f11122), (⊕2, f2⊗h1⊗f112), (⊕2, f2⊗h1⊗f12), (⊕2, f2⊗h1⊗f2), (⊕2, f2⊗h1⊗h1), (⊕2, f2⊗h1⊗h2), (⊕2, f2⊗h2⊗e1), (⊕2, f2⊗h2⊗e1112), (⊕2, f2⊗h2⊗e11122), (⊕2, f2⊗h2⊗e112), (⊕2, f2⊗h2⊗e12), (⊕2, f2⊗h2⊗e2), (⊕2, f2⊗h2⊗f1), (⊕2, f2⊗h2⊗f1112), (⊕2, f2⊗h2⊗f11122), (⊕2, f2⊗h2⊗f112), (⊕2, f2⊗h2⊗f12), (⊕2, f2⊗h2⊗f2), (⊕2, f2⊗h2⊗h1), (⊕2, f2⊗h2⊗h2), (⊕2, h1⊗e1⊗e1), (⊕2, h1⊗e1⊗e1112), (⊕2, h1⊗e1⊗e11122), (⊕2, h1⊗e1⊗e112), (⊕2, h1⊗e1⊗e12), (⊕2, h1⊗e1⊗e2), (⊕2, h1⊗e1⊗f1), (⊕2, h1⊗e1⊗f1112), (⊕2, h1⊗e1⊗f11122), (⊕2, h1⊗e1⊗f112), (⊕2, h1⊗e1⊗f12), (⊕2, h1⊗e1⊗f2), (⊕2, h1⊗e1⊗h1), (⊕2, h1⊗e1⊗h2), (⊕2, h1⊗e1112⊗e1), (⊕2, h1⊗e1112⊗e1112), (⊕2, h1⊗e1112⊗e11122), (⊕2, h1⊗e1112⊗e112), (⊕2, h1⊗e1112⊗e12), (⊕2, h1⊗e1112⊗e2), (⊕2, h1⊗e1112⊗f1), (⊕2, h1⊗e1112⊗f1112), (⊕2, h1⊗e1112⊗f11122), (⊕2, h1⊗e1112⊗f112), (⊕2, h1⊗e1112⊗f12), (⊕2, h1⊗e1112⊗f2), (⊕2, h1⊗e1112⊗h1), (⊕2, h1⊗e1112⊗h2), (⊕2, h1⊗e11122⊗e1), (⊕2, h1⊗e11122⊗e1112), (⊕2, h1⊗e11122⊗e11122), (⊕2, h1⊗e11122⊗e112), (⊕2, h1⊗e11122⊗e12), (⊕2, h1⊗e11122⊗e2), (⊕2, h1⊗e11122⊗f1), (⊕2, h1⊗e11122⊗f1112), (⊕2, h1⊗e11122⊗f11122), (⊕2, h1⊗e11122⊗f112), (⊕2, h1⊗e11122⊗f12), (⊕2, h1⊗e11122⊗f2), (⊕2, h1⊗e11122⊗h1), (⊕2, h1⊗e11122⊗h2), (⊕2, h1⊗e112⊗e1), (⊕2, h1⊗e112⊗e1112), (⊕2, h1⊗e112⊗e11122), (⊕2, h1⊗e112⊗e112), (⊕2, h1⊗e112⊗e12), (⊕2, h1⊗e112⊗e2), (⊕2, h1⊗e112⊗f1), (⊕2, h1⊗e112⊗f1112), (⊕2, h1⊗e112⊗f11122), (⊕2, h1⊗e112⊗f112), (⊕2, h1⊗e112⊗f12), (⊕2, h1⊗e112⊗f2), (⊕2, h1⊗e112⊗h1), (⊕2, h1⊗e112⊗h2), (⊕2, h1⊗e12⊗e1), (⊕2, h1⊗e12⊗e1112), (⊕2, h1⊗e12⊗e11122), (⊕2, h1⊗e12⊗e112), (⊕2, h1⊗e12⊗e12), (⊕2, h1⊗e12⊗e2), (⊕2, h1⊗e12⊗f1), (⊕2, h1⊗e12⊗f1112), (⊕2, h1⊗e12⊗f11122), (⊕2, h1⊗e12⊗f112), (⊕2, h1⊗e12⊗f12), (⊕2, h1⊗e12⊗f2), (⊕2, h1⊗e12⊗h1), (⊕2, h1⊗e12⊗h2), (⊕2, h1⊗e2⊗e1), (⊕2, h1⊗e2⊗e1112), (⊕2, h1⊗e2⊗e11122), (⊕2, h1⊗e2⊗e112), (⊕2, h1⊗e2⊗e12), (⊕2, h1⊗e2⊗e2), (⊕2, h1⊗e2⊗f1), (⊕2, h1⊗e2⊗f1112), (⊕2, h1⊗e2⊗f11122), (⊕2, h1⊗e2⊗f112), (⊕2, h1⊗e2⊗f12), (⊕2, h1⊗e2⊗f2), (⊕2, h1⊗e2⊗h1), (⊕2, h1⊗e2⊗h2), (⊕2, h1⊗f1⊗e1), (⊕2, h1⊗f1⊗e1112), (⊕2, h1⊗f1⊗e11122), (⊕2, h1⊗f1⊗e112), (⊕2, h1⊗f1⊗e12), (⊕2, h1⊗f1⊗e2), (⊕2, h1⊗f1⊗f1), (⊕2, h1⊗f1⊗f1112), (⊕2, h1⊗f1⊗f11122), (⊕2, h1⊗f1⊗f112), (⊕2, h1⊗f1⊗f12), (⊕2, h1⊗f1⊗f2), (⊕2, h1⊗f1⊗h1), (⊕2, h1⊗f1⊗h2), (⊕2, h1⊗f1112⊗e1), (⊕2, h1⊗f1112⊗e1112), (⊕2, h1⊗f1112⊗e11122), (⊕2, h1⊗f1112⊗e112), (⊕2, h1⊗f1112⊗e12), (⊕2, h1⊗f1112⊗e2), (⊕2, h1⊗f1112⊗f1), (⊕2, h1⊗f1112⊗f1112), (⊕2, h1⊗f1112⊗f11122), (⊕2, h1⊗f1112⊗f112), (⊕2, h1⊗f1112⊗f12), (⊕2, h1⊗f1112⊗f2), (⊕2, h1⊗f1112⊗h1), (⊕2, h1⊗f1112⊗h2), (⊕2, h1⊗f11122⊗e1), (⊕2, h1⊗f11122⊗e1112), (⊕2, h1⊗f11122⊗e11122), (⊕2, h1⊗f11122⊗e112), (⊕2, h1⊗f11122⊗e12), (⊕2, h1⊗f11122⊗e2), (⊕2, h1⊗f11122⊗f1), (⊕2, h1⊗f11122⊗f1112), (⊕2, h1⊗f11122⊗f11122), (⊕2, h1⊗f11122⊗f112), (⊕2, h1⊗f11122⊗f12), (⊕2, h1⊗f11122⊗f2), (⊕2, h1⊗f11122⊗h1), (⊕2, h1⊗f11122⊗h2), (⊕2, h1⊗f112⊗e1), (⊕2, h1⊗f112⊗e1112), (⊕2, h1⊗f112⊗e11122), (⊕2, h1⊗f112⊗e112), (⊕2, h1⊗f112⊗e12), (⊕2, h1⊗f112⊗e2), (⊕2, h1⊗f112⊗f1), (⊕2, h1⊗f112⊗f1112), (⊕2, h1⊗f112⊗f11122), (⊕2, h1⊗f112⊗f112), (⊕2, h1⊗f112⊗f12), (⊕2, h1⊗f112⊗f2), (⊕2, h1⊗f112⊗h1), (⊕2, h1⊗f112⊗h2), (⊕2, h1⊗f12⊗e1), (⊕2, h1⊗f12⊗e1112), (⊕2, h1⊗f12⊗e11122), (⊕2, h1⊗f12⊗e112), (⊕2, h1⊗f12⊗e12), (⊕2, h1⊗f12⊗e2), (⊕2, h1⊗f12⊗f1), (⊕2, h1⊗f12⊗f1112), (⊕2, h1⊗f12⊗f11122), (⊕2, h1⊗f12⊗f112), (⊕2, h1⊗f12⊗f12), (⊕2, h1⊗f12⊗f2), (⊕2, h1⊗f12⊗h1), (⊕2, h1⊗f12⊗h2), (⊕2, h1⊗f2⊗e1), (⊕2, h1⊗f2⊗e1112), (⊕2, h1⊗f2⊗e11122), (⊕2, h1⊗f2⊗e112), (⊕2, h1⊗f2⊗e12), (⊕2, h1⊗f2⊗e2), (⊕2, h1⊗f2⊗f1), (⊕2, h1⊗f2⊗f1112), (⊕2, h1⊗f2⊗f11122), (⊕2, h1⊗f2⊗f112), (⊕2, h1⊗f2⊗f12), (⊕2, h1⊗f2⊗f2), (⊕2, h1⊗f2⊗h1), (⊕2, h1⊗f2⊗h2), (⊕2, h1⊗h1⊗e1), (⊕2, h1⊗h1⊗e1112), (⊕2, h1⊗h1⊗e11122), (⊕2, h1⊗h1⊗e112), (⊕2, h1⊗h1⊗e12), (⊕2, h1⊗h1⊗e2), (⊕2, h1⊗h1⊗f1), (⊕2, h1⊗h1⊗f1112), (⊕2, h1⊗h1⊗f11122), (⊕2, h1⊗h1⊗f112), (⊕2, h1⊗h1⊗f12), (⊕2, h1⊗h1⊗f2), (⊕2, h1⊗h1⊗h1), (⊕2, h1⊗h1⊗h2), (⊕2, h1⊗h2⊗e1), (⊕2, h1⊗h2⊗e1112), (⊕2, h1⊗h2⊗e11122), (⊕2, h1⊗h2⊗e112), (⊕2, h1⊗h2⊗e12), (⊕2, h1⊗h2⊗e2), (⊕2, h1⊗h2⊗f1), (⊕2, h1⊗h2⊗f1112), (⊕2, h1⊗h2⊗f11122), (⊕2, h1⊗h2⊗f112), (⊕2, h1⊗h2⊗f12), (⊕2, h1⊗h2⊗f2), (⊕2, h1⊗h2⊗h1), (⊕2, h1⊗h2⊗h2), (⊕2, h2⊗e1⊗e1), (⊕2, h2⊗e1⊗e1112), (⊕2, h2⊗e1⊗e11122), (⊕2, h2⊗e1⊗e112), (⊕2, h2⊗e1⊗e12), (⊕2, h2⊗e1⊗e2), (⊕2, h2⊗e1⊗f1), (⊕2, h2⊗e1⊗f1112), (⊕2, h2⊗e1⊗f11122), (⊕2, h2⊗e1⊗f112), (⊕2, h2⊗e1⊗f12), (⊕2, h2⊗e1⊗f2), (⊕2, h2⊗e1⊗h1), (⊕2, h2⊗e1⊗h2), (⊕2, h2⊗e1112⊗e1), (⊕2, h2⊗e1112⊗e1112), (⊕2, h2⊗e1112⊗e11122), (⊕2, h2⊗e1112⊗e112), (⊕2, h2⊗e1112⊗e12), (⊕2, h2⊗e1112⊗e2), (⊕2, h2⊗e1112⊗f1), (⊕2, h2⊗e1112⊗f1112), (⊕2, h2⊗e1112⊗f11122), (⊕2, h2⊗e1112⊗f112), (⊕2, h2⊗e1112⊗f12), (⊕2, h2⊗e1112⊗f2), (⊕2, h2⊗e1112⊗h1), (⊕2, h2⊗e1112⊗h2), (⊕2, h2⊗e11122⊗e1), (⊕2, h2⊗e11122⊗e1112), (⊕2, h2⊗e11122⊗e11122), (⊕2, h2⊗e11122⊗e112), (⊕2, h2⊗e11122⊗e12), (⊕2, h2⊗e11122⊗e2), (⊕2, h2⊗e11122⊗f1), (⊕2, h2⊗e11122⊗f1112), (⊕2, h2⊗e11122⊗f11122), (⊕2, h2⊗e11122⊗f112), (⊕2, h2⊗e11122⊗f12), (⊕2, h2⊗e11122⊗f2), (⊕2, h2⊗e11122⊗h1), (⊕2, h2⊗e11122⊗h2), (⊕2, h2⊗e112⊗e1), (⊕2, h2⊗e112⊗e1112), (⊕2, h2⊗e112⊗e11122), (⊕2, h2⊗e112⊗e112), (⊕2, h2⊗e112⊗e12), (⊕2, h2⊗e112⊗e2), (⊕2, h2⊗e112⊗f1), (⊕2, h2⊗e112⊗f1112), (⊕2, h2⊗e112⊗f11122), (⊕2, h2⊗e112⊗f112), (⊕2, h2⊗e112⊗f12), (⊕2, h2⊗e112⊗f2), (⊕2, h2⊗e112⊗h1), (⊕2, h2⊗e112⊗h2), (⊕2, h2⊗e12⊗e1), (⊕2, h2⊗e12⊗e1112), (⊕2, h2⊗e12⊗e11122), (⊕2, h2⊗e12⊗e112), (⊕2, h2⊗e12⊗e12), (⊕2, h2⊗e12⊗e2), (⊕2, h2⊗e12⊗f1), (⊕2, h2⊗e12⊗f1112), (⊕2, h2⊗e12⊗f11122), (⊕2, h2⊗e12⊗f112), (⊕2, h2⊗e12⊗f12), (⊕2, h2⊗e12⊗f2), (⊕2, h2⊗e12⊗h1), (⊕2, h2⊗e12⊗h2), (⊕2, h2⊗e2⊗e1), (⊕2, h2⊗e2⊗e1112), (⊕2, h2⊗e2⊗e11122), (⊕2, h2⊗e2⊗e112), (⊕2, h2⊗e2⊗e12), (⊕2, h2⊗e2⊗e2), (⊕2, h2⊗e2⊗f1), (⊕2, h2⊗e2⊗f1112), (⊕2, h2⊗e2⊗f11122), (⊕2, h2⊗e2⊗f112), (⊕2, h2⊗e2⊗f12), (⊕2, h2⊗e2⊗f2), (⊕2, h2⊗e2⊗h1), (⊕2, h2⊗e2⊗h2), (⊕2, h2⊗f1⊗e1), (⊕2, h2⊗f1⊗e1112), (⊕2, h2⊗f1⊗e11122), (⊕2, h2⊗f1⊗e112), (⊕2, h2⊗f1⊗e12), (⊕2, h2⊗f1⊗e2), (⊕2, h2⊗f1⊗f1), (⊕2, h2⊗f1⊗f1112), (⊕2, h2⊗f1⊗f11122), (⊕2, h2⊗f1⊗f112), (⊕2, h2⊗f1⊗f12), (⊕2, h2⊗f1⊗f2), (⊕2, h2⊗f1⊗h1), (⊕2, h2⊗f1⊗h2), (⊕2, h2⊗f1112⊗e1), (⊕2, h2⊗f1112⊗e1112), (⊕2, h2⊗f1112⊗e11122), (⊕2, h2⊗f1112⊗e112), (⊕2, h2⊗f1112⊗e12), (⊕2, h2⊗f1112⊗e2), (⊕2, h2⊗f1112⊗f1), (⊕2, h2⊗f1112⊗f1112), (⊕2, h2⊗f1112⊗f11122), (⊕2, h2⊗f1112⊗f112), (⊕2, h2⊗f1112⊗f12), (⊕2, h2⊗f1112⊗f2), (⊕2, h2⊗f1112⊗h1), (⊕2, h2⊗f1112⊗h2), (⊕2, h2⊗f11122⊗e1), (⊕2, h2⊗f11122⊗e1112), (⊕2, h2⊗f11122⊗e11122), (⊕2, h2⊗f11122⊗e112), (⊕2, h2⊗f11122⊗e12), (⊕2, h2⊗f11122⊗e2), (⊕2, h2⊗f11122⊗f1), (⊕2, h2⊗f11122⊗f1112), (⊕2, h2⊗f11122⊗f11122), (⊕2, h2⊗f11122⊗f112), (⊕2, h2⊗f11122⊗f12), (⊕2, h2⊗f11122⊗f2), (⊕2, h2⊗f11122⊗h1), (⊕2, h2⊗f11122⊗h2), (⊕2, h2⊗f112⊗e1), (⊕2, h2⊗f112⊗e1112), (⊕2, h2⊗f112⊗e11122), (⊕2, h2⊗f112⊗e112), (⊕2, h2⊗f112⊗e12), (⊕2, h2⊗f112⊗e2), (⊕2, h2⊗f112⊗f1), (⊕2, h2⊗f112⊗f1112), (⊕2, h2⊗f112⊗f11122), (⊕2, h2⊗f112⊗f112), (⊕2, h2⊗f112⊗f12), (⊕2, h2⊗f112⊗f2), (⊕2, h2⊗f112⊗h1), (⊕2, h2⊗f112⊗h2), (⊕2, h2⊗f12⊗e1), (⊕2, h2⊗f12⊗e1112), (⊕2, h2⊗f12⊗e11122), (⊕2, h2⊗f12⊗e112), (⊕2, h2⊗f12⊗e12), (⊕2, h2⊗f12⊗e2), (⊕2, h2⊗f12⊗f1), (⊕2, h2⊗f12⊗f1112), (⊕2, h2⊗f12⊗f11122), (⊕2, h2⊗f12⊗f112), (⊕2, h2⊗f12⊗f12), (⊕2, h2⊗f12⊗f2), (⊕2, h2⊗f12⊗h1), (⊕2, h2⊗f12⊗h2), (⊕2, h2⊗f2⊗e1), (⊕2, h2⊗f2⊗e1112), (⊕2, h2⊗f2⊗e11122), (⊕2, h2⊗f2⊗e112), (⊕2, h2⊗f2⊗e12), (⊕2, h2⊗f2⊗e2), (⊕2, h2⊗f2⊗f1), (⊕2, h2⊗f2⊗f1112), (⊕2, h2⊗f2⊗f11122), (⊕2, h2⊗f2⊗f112), (⊕2, h2⊗f2⊗f12), (⊕2, h2⊗f2⊗f2), (⊕2, h2⊗f2⊗h1), (⊕2, h2⊗f2⊗h2), (⊕2, h2⊗h1⊗e1), (⊕2, h2⊗h1⊗e1112), (⊕2, h2⊗h1⊗e11122), (⊕2, h2⊗h1⊗e112), (⊕2, h2⊗h1⊗e12), (⊕2, h2⊗h1⊗e2), (⊕2, h2⊗h1⊗f1), (⊕2, h2⊗h1⊗f1112), (⊕2, h2⊗h1⊗f11122), (⊕2, h2⊗h1⊗f112), (⊕2, h2⊗h1⊗f12), (⊕2, h2⊗h1⊗f2), (⊕2, h2⊗h1⊗h1), (⊕2, h2⊗h1⊗h2), (⊕2, h2⊗h2⊗e1), (⊕2, h2⊗h2⊗e1112), (⊕2, h2⊗h2⊗e11122), (⊕2, h2⊗h2⊗e112), (⊕2, h2⊗h2⊗e12), (⊕2, h2⊗h2⊗e2), (⊕2, h2⊗h2⊗f1), (⊕2, h2⊗h2⊗f1112), (⊕2, h2⊗h2⊗f11122), (⊕2, h2⊗h2⊗f112), (⊕2, h2⊗h2⊗f12), (⊕2, h2⊗h2⊗f2), (⊕2, h2⊗h2⊗h1), (⊕2, h2⊗h2⊗h2)} over Rational Field"
      ]
     },
     "execution_count": 116,
     "metadata": {},
     "output_type": "execute_result"
    }
   ],
   "source": [
    "LieAlgebraModule.direct_sum(ap,sp,tp)"
   ]
  },
  {
   "cell_type": "markdown",
   "metadata": {},
   "source": [
    "Next steps:\n",
    "- Act with PBW on this stuff\n",
    "- write documentation for all the functions\n",
    "- Make it a standalone module\n",
    "- Make a LieAlgebraModuleFactory class where we keep stuff like adjoint action, and the root basis stuff. I think I saw such a class elsewhere, let's see what the purpose of it is in the documentation\n",
    "- compute dot regular weights\n",
    "- take quotients by subspaces\n",
    "- attach it to BGG complex, compute (co)kernel dimensions"
   ]
  },
  {
   "cell_type": "code",
   "execution_count": null,
   "metadata": {},
   "outputs": [],
   "source": []
  }
 ],
 "metadata": {
  "kernelspec": {
   "display_name": "SageMath 8.6",
   "language": "",
   "name": "sagemath"
  },
  "language_info": {
   "codemirror_mode": {
    "name": "ipython",
    "version": 2
   },
   "file_extension": ".py",
   "mimetype": "text/x-python",
   "name": "python",
   "nbconvert_exporter": "python",
   "pygments_lexer": "ipython2",
   "version": "2.7.15"
  }
 },
 "nbformat": 4,
 "nbformat_minor": 2
}
