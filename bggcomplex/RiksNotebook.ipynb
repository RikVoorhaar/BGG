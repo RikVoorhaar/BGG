{
 "cells": [
  {
   "cell_type": "code",
   "execution_count": 1,
   "metadata": {},
   "outputs": [],
   "source": [
    "from bggcomplex import *\n",
    "from lie_algebra_module import *\n",
    "import numpy as np\n",
    "from collections import Counter"
   ]
  },
  {
   "cell_type": "code",
   "execution_count": null,
   "metadata": {},
   "outputs": [],
   "source": []
  },
  {
   "cell_type": "code",
   "execution_count": 2,
   "metadata": {},
   "outputs": [],
   "source": [
    "BGG = BGGComplex(\"G2\")\n",
    "BGG.find_cycles();"
   ]
  },
  {
   "cell_type": "code",
   "execution_count": 3,
   "metadata": {},
   "outputs": [],
   "source": [
    "Solver = BGGMapSolver(BGG,BGG.zero_root)"
   ]
  },
  {
   "cell_type": "code",
   "execution_count": 4,
   "metadata": {},
   "outputs": [],
   "source": [
    "Solver.solve(parallel=False);"
   ]
  },
  {
   "cell_type": "code",
   "execution_count": 5,
   "metadata": {
    "scrolled": true
   },
   "outputs": [
    {
     "name": "stdout",
     "output_type": "stream",
     "text": [
      "{'index': 0.002064943313598633, 'vect': 0.005892753601074219, 'basis': 0.002888202667236328, 'mult': 0.01994919776916504, 'linalg': 0.07541108131408691}\n"
     ]
    }
   ],
   "source": [
    "print(Solver.timer)"
   ]
  },
  {
   "cell_type": "code",
   "execution_count": 6,
   "metadata": {},
   "outputs": [
    {
     "name": "stdout",
     "output_type": "stream",
     "text": [
      "checked 32 cycles, with no problems found!\n"
     ]
    }
   ],
   "source": [
    "Solver.check_maps()"
   ]
  },
  {
   "cell_type": "code",
   "execution_count": 7,
   "metadata": {},
   "outputs": [],
   "source": [
    "BGG.compute_signs()"
   ]
  },
  {
   "cell_type": "code",
   "execution_count": 8,
   "metadata": {
    "scrolled": true
   },
   "outputs": [
    {
     "data": {
      "image/png": "[encoded data removed]",
      "text/plain": [
       "Graphics object consisting of 21 graphics primitives"
      ]
     },
     "execution_count": 8,
     "metadata": {},
     "output_type": "execute_result"
    }
   ],
   "source": [
    "BGG.plot_graph().plot()"
   ]
  },
  {
   "cell_type": "code",
   "execution_count": 9,
   "metadata": {},
   "outputs": [
    {
     "data": {
      "text/plain": [
       "Finite family {1: (0, 1, -1), 2: (1, -2, 1)}"
      ]
     },
     "execution_count": 9,
     "metadata": {},
     "output_type": "execute_result"
    }
   ],
   "source": [
    "roots=BGG.W.domain().simple_roots()\n",
    "roots"
   ]
  },
  {
   "cell_type": "code",
   "execution_count": 10,
   "metadata": {},
   "outputs": [],
   "source": [
    "dom = BGG.W.domain()\n",
    "cr= dom.coroot_lattice()"
   ]
  },
  {
   "cell_type": "code",
   "execution_count": 11,
   "metadata": {},
   "outputs": [
    {
     "data": {
      "text/plain": [
       "Finite family {1: (1, 0, -1), 2: (2, -1, -1)}"
      ]
     },
     "execution_count": 11,
     "metadata": {},
     "output_type": "execute_result"
    }
   ],
   "source": [
    "fun=dom.fundamental_weights_from_simple_roots()\n",
    "fun"
   ]
  },
  {
   "cell_type": "code",
   "execution_count": 12,
   "metadata": {},
   "outputs": [
    {
     "data": {
      "text/plain": [
       "Finite family {1: (0, 1, -1), 2: (1/3, -2/3, 1/3)}"
      ]
     },
     "execution_count": 12,
     "metadata": {},
     "output_type": "execute_result"
    }
   ],
   "source": [
    "dom.simple_coroots()"
   ]
  },
  {
   "cell_type": "code",
   "execution_count": 13,
   "metadata": {},
   "outputs": [
    {
     "data": {
      "text/plain": [
       "[[2, 1], [3, 2]]"
      ]
     },
     "execution_count": 13,
     "metadata": {},
     "output_type": "execute_result"
    }
   ],
   "source": [
    "[BGG._weight_to_tuple(r) for r in fun.values()]"
   ]
  },
  {
   "cell_type": "code",
   "execution_count": 14,
   "metadata": {},
   "outputs": [
    {
     "data": {
      "text/plain": [
       "Finite family {1: (0, 1, -1), 2: (1/3, -2/3, 1/3)}"
      ]
     },
     "execution_count": 14,
     "metadata": {},
     "output_type": "execute_result"
    }
   ],
   "source": [
    "dom = BGG.W.domain()\n",
    "dom.simple_coroots()"
   ]
  },
  {
   "cell_type": "code",
   "execution_count": 15,
   "metadata": {},
   "outputs": [
    {
     "data": {
      "text/plain": [
       "Finite family {1: (0, 1, -1), 2: (1, -2, 1)}"
      ]
     },
     "execution_count": 15,
     "metadata": {},
     "output_type": "execute_result"
    }
   ],
   "source": [
    "dom.simple_roots()"
   ]
  },
  {
   "cell_type": "code",
   "execution_count": 16,
   "metadata": {},
   "outputs": [
    {
     "data": {
      "text/plain": [
       "(1, -1, 0)"
      ]
     },
     "execution_count": 16,
     "metadata": {},
     "output_type": "execute_result"
    }
   ],
   "source": [
    "BGG._tuple_to_weight([1,1,1/2])"
   ]
  },
  {
   "cell_type": "code",
   "execution_count": 17,
   "metadata": {},
   "outputs": [],
   "source": [
    "mu=fun[1]"
   ]
  },
  {
   "cell_type": "code",
   "execution_count": 18,
   "metadata": {},
   "outputs": [],
   "source": [
    "mu = BGG.zero_root"
   ]
  },
  {
   "cell_type": "code",
   "execution_count": 19,
   "metadata": {},
   "outputs": [
    {
     "data": {
      "text/plain": [
       "[(0, 0, 0),\n",
       " (-5, 4, 1),\n",
       " (-4, -1, 5),\n",
       " (-1, 2, -1),\n",
       " (-6, 3, 3),\n",
       " (-2, -2, 4),\n",
       " (0, -1, 1),\n",
       " (-5, 0, 5),\n",
       " (-4, 4, 0),\n",
       " (-1, -2, 3),\n",
       " (-6, 2, 4),\n",
       " (-2, 3, -1)]"
      ]
     },
     "execution_count": 19,
     "metadata": {},
     "output_type": "execute_result"
    }
   ],
   "source": [
    "[BGG._tuple_to_weight(BGG.dot_action(w,mu))-mu for w in BGG.W]"
   ]
  },
  {
   "cell_type": "code",
   "execution_count": 20,
   "metadata": {},
   "outputs": [],
   "source": [
    "def is_dot_regular(mu):\n",
    "    stab_counter = 0\n",
    "    for w in BGG.W:\n",
    "        if w.action(mu+BGG.rho)-BGG.rho==mu:\n",
    "            stab_counter+=1\n",
    "    if stab_counter<=1:\n",
    "        return True\n",
    "    else:\n",
    "        return False"
   ]
  },
  {
   "cell_type": "code",
   "execution_count": 21,
   "metadata": {},
   "outputs": [
    {
     "data": {
      "text/plain": [
       "True"
      ]
     },
     "execution_count": 21,
     "metadata": {},
     "output_type": "execute_result"
    }
   ],
   "source": [
    "(BGG.rho-fun[1]).is_dominant()"
   ]
  },
  {
   "cell_type": "code",
   "execution_count": 22,
   "metadata": {},
   "outputs": [],
   "source": [
    "#mu=(5*BGG.simple_roots[1]+6*BGG.simple_roots[2]+5*BGG.simple_roots[3])\n",
    "#print(mu.is_dominant())\n",
    "#print(BGG.is_dot_regular(mu))"
   ]
  },
  {
   "cell_type": "code",
   "execution_count": 23,
   "metadata": {},
   "outputs": [],
   "source": [
    "#BGG.make_dominant(mu)"
   ]
  },
  {
   "cell_type": "markdown",
   "metadata": {},
   "source": [
    "We want to implement the $U(\\mathfrak g)$ action on the module\n",
    "$$\n",
    "    M_i^j=\\bigoplus{}_{r=0}^{j+\\frac k2}\\left(\\left(\\bigodot{}^{j+\\frac k2-r}\\mathfrak u \\right)\\otimes\\left(\\bigwedge^r\\mathfrak g\\right)\\otimes\\left(\\bigwedge{}^{j+\\frac k2}\\mathfrak n \\right) \\right)\n",
    "$$\n",
    "For this we need two things, one is finding a basis of this module, and second we define the action on it. Unfortunately I can't find a good out of the box implementation for either of these, so we are going to have to do it ourselves. Ideally we can use this to extend sage a little bit. \n",
    "\n",
    "Sagemath has a class FreeModuleTensor, it can deal with alternating and symmetric tensors. But it specifically says it can not deal with tensor products of different modules, whereas that is precisely what we need. We should investigate how this class work, and extend it with this functionality. Besides, that module seems to focus on doing stuff without a specific basis. We want to do everything in a basis, because the whole point is to compute a basis. \n",
    "\n",
    "We should make an instance of CombinatorialFreeModule"
   ]
  },
  {
   "cell_type": "code",
   "execution_count": 24,
   "metadata": {
    "scrolled": true
   },
   "outputs": [
    {
     "data": {
      "text/plain": [
       "{((1, -3), (2, -2)): -3*alpha[1] - 2*alpha[2],\n",
       " ((1, -3), (2, -1)): -3*alpha[1] - alpha[2],\n",
       " ((1, -2), (2, -1)): -2*alpha[1] - alpha[2],\n",
       " ((1, -1),): -alpha[1],\n",
       " ((1, -1), (2, -1)): -alpha[1] - alpha[2],\n",
       " ((1, 1),): alphacheck[1],\n",
       " ((1, 1), (2, 1)): alpha[1] + alpha[2],\n",
       " ((1, 2), (2, 1)): 2*alpha[1] + alpha[2],\n",
       " ((1, 3), (2, 1)): 3*alpha[1] + alpha[2],\n",
       " ((1, 3), (2, 2)): 3*alpha[1] + 2*alpha[2],\n",
       " ((2, -1),): -alpha[2],\n",
       " ((2, 1),): alphacheck[2]}"
      ]
     },
     "execution_count": 24,
     "metadata": {},
     "output_type": "execute_result"
    }
   ],
   "source": [
    "{tuple(a):a for a in BGG.LA.basis().keys()}"
   ]
  },
  {
   "cell_type": "code",
   "execution_count": 25,
   "metadata": {
    "scrolled": true
   },
   "outputs": [
    {
     "data": {
      "text/plain": [
       "[(0, 1, -1),\n",
       " (1, -2, 1),\n",
       " (1, -1, 0),\n",
       " (1, 0, -1),\n",
       " (1, 1, -2),\n",
       " (2, -1, -1),\n",
       " (0, -1, 1),\n",
       " (-1, 2, -1),\n",
       " (-1, 1, 0),\n",
       " (-1, 0, 1),\n",
       " (-1, -1, 2),\n",
       " (-2, 1, 1)]"
      ]
     },
     "execution_count": 25,
     "metadata": {},
     "output_type": "execute_result"
    }
   ],
   "source": [
    " BGG.W.domain().roots()"
   ]
  },
  {
   "cell_type": "code",
   "execution_count": 26,
   "metadata": {},
   "outputs": [
    {
     "data": {
      "text/plain": [
       "{'e1': alpha[1],\n",
       " 'e1112': 3*alpha[1] + alpha[2],\n",
       " 'e11122': 3*alpha[1] + 2*alpha[2],\n",
       " 'e112': 2*alpha[1] + alpha[2],\n",
       " 'e12': alpha[1] + alpha[2],\n",
       " 'e2': alpha[2],\n",
       " 'f1': -alpha[1],\n",
       " 'f1112': -3*alpha[1] - alpha[2],\n",
       " 'f11122': -3*alpha[1] - 2*alpha[2],\n",
       " 'f112': -2*alpha[1] - alpha[2],\n",
       " 'f12': -alpha[1] - alpha[2],\n",
       " 'f2': -alpha[2],\n",
       " 'h1': alphacheck[1],\n",
       " 'h2': alphacheck[2]}"
      ]
     },
     "execution_count": 26,
     "metadata": {},
     "output_type": "execute_result"
    }
   ],
   "source": [
    "def root_dict_to_string(root_dict):\n",
    "    return ''.join(''.join([str(k)]*abs(v)) for k,v in root_dict.items())\n",
    "\n",
    "string_to_root = {}\n",
    "for i,b in dict(BGG.lattice.alphacheck()).items():\n",
    "    string_to_root['h%d'%i]=b\n",
    "for a in BGG.lattice.negative_roots():\n",
    "    key = 'f'+root_dict_to_string(a.monomial_coefficients())\n",
    "    string_to_root[key]=a \n",
    "for a in BGG.lattice.positive_roots():\n",
    "    key = 'e'+root_dict_to_string(a.monomial_coefficients())\n",
    "    string_to_root[key]=a  \n",
    "\n",
    "root_to_string = {r:i for i,r in string_to_root.items()}\n",
    "string_to_root"
   ]
  },
  {
   "cell_type": "code",
   "execution_count": 27,
   "metadata": {},
   "outputs": [
    {
     "data": {
      "text/plain": [
       "{alphacheck[1]: '6',\n",
       " alphacheck[2]: '7',\n",
       " -3*alpha[1] - 2*alpha[2]: '13',\n",
       " -3*alpha[1] - alpha[2]: '12',\n",
       " -2*alpha[1] - alpha[2]: '11',\n",
       " -alpha[1]: '9',\n",
       " -alpha[1] - alpha[2]: '10',\n",
       " alpha[1]: '1',\n",
       " alpha[1] + alpha[2]: '2',\n",
       " 2*alpha[1] + alpha[2]: '3',\n",
       " 3*alpha[1] + alpha[2]: '4',\n",
       " 3*alpha[1] + 2*alpha[2]: '5',\n",
       " -alpha[2]: '8',\n",
       " alpha[2]: '0'}"
      ]
     },
     "execution_count": 27,
     "metadata": {},
     "output_type": "execute_result"
    }
   ],
   "source": [
    "gbasis_dict = {str(i):r for i,r in enumerate(BGG.LA.basis().keys())}\n",
    "root_to_index = {r:i for i,r in gbasis_dict.items()}\n",
    "root_to_index"
   ]
  },
  {
   "cell_type": "code",
   "execution_count": 28,
   "metadata": {},
   "outputs": [
    {
     "data": {
      "text/plain": [
       "[(0, 1, -1), (1, -2, 1), (1, -1, 0), (1, 0, -1), (1, 1, -2), (2, -1, -1)]"
      ]
     },
     "execution_count": 28,
     "metadata": {},
     "output_type": "execute_result"
    }
   ],
   "source": [
    "dom = BGG.W.domain()\n",
    "dom.positive_roots()"
   ]
  },
  {
   "cell_type": "markdown",
   "metadata": {},
   "source": [
    "# Lie algebra modules"
   ]
  },
  {
   "cell_type": "code",
   "execution_count": 29,
   "metadata": {},
   "outputs": [],
   "source": [
    "factory = LieAlgebraModuleFactory(BGG.LA)\n",
    "M1=factory.construct_module(subalgebra='n')\n",
    "M2=factory.construct_module(subalgebra='b')\n",
    "M3 = M1.alternating_power(3)"
   ]
  },
  {
   "cell_type": "code",
   "execution_count": 30,
   "metadata": {},
   "outputs": [
    {
     "data": {
      "text/plain": [
       "Free module generated by {f1∧f1112∧f11122, f1∧f1112∧f112, f1∧f1112∧f12, f1∧f1112∧f2, f1∧f11122∧f112, f1∧f11122∧f12, f1∧f11122∧f2, f1∧f112∧f12, f1∧f112∧f2, f1∧f12∧f2, f1112∧f11122∧f112, f1112∧f11122∧f12, f1112∧f11122∧f2, f1112∧f112∧f12, f1112∧f112∧f2, f1112∧f12∧f2, f11122∧f112∧f12, f11122∧f112∧f2, f11122∧f12∧f2, f112∧f12∧f2, f1⊙f1⊙f1, f1⊙f1⊙f1112, f1⊙f1⊙f11122, f1⊙f1⊙f112, f1⊙f1⊙f12, f1⊙f1⊙f2, f1⊙f1⊙h1, f1⊙f1⊙h2, f1⊙f1112⊙f1112, f1⊙f1112⊙f11122, f1⊙f1112⊙f112, f1⊙f1112⊙f12, f1⊙f1112⊙f2, f1⊙f1112⊙h1, f1⊙f1112⊙h2, f1⊙f11122⊙f11122, f1⊙f11122⊙f112, f1⊙f11122⊙f12, f1⊙f11122⊙f2, f1⊙f11122⊙h1, f1⊙f11122⊙h2, f1⊙f112⊙f112, f1⊙f112⊙f12, f1⊙f112⊙f2, f1⊙f112⊙h1, f1⊙f112⊙h2, f1⊙f12⊙f12, f1⊙f12⊙f2, f1⊙f12⊙h1, f1⊙f12⊙h2, f1⊙f2⊙f2, f1⊙f2⊙h1, f1⊙f2⊙h2, f1⊙h1⊙h1, f1⊙h1⊙h2, f1⊙h2⊙h2, f1112⊙f1112⊙f1112, f1112⊙f1112⊙f11122, f1112⊙f1112⊙f112, f1112⊙f1112⊙f12, f1112⊙f1112⊙f2, f1112⊙f1112⊙h1, f1112⊙f1112⊙h2, f1112⊙f11122⊙f11122, f1112⊙f11122⊙f112, f1112⊙f11122⊙f12, f1112⊙f11122⊙f2, f1112⊙f11122⊙h1, f1112⊙f11122⊙h2, f1112⊙f112⊙f112, f1112⊙f112⊙f12, f1112⊙f112⊙f2, f1112⊙f112⊙h1, f1112⊙f112⊙h2, f1112⊙f12⊙f12, f1112⊙f12⊙f2, f1112⊙f12⊙h1, f1112⊙f12⊙h2, f1112⊙f2⊙f2, f1112⊙f2⊙h1, f1112⊙f2⊙h2, f1112⊙h1⊙h1, f1112⊙h1⊙h2, f1112⊙h2⊙h2, f11122⊙f11122⊙f11122, f11122⊙f11122⊙f112, f11122⊙f11122⊙f12, f11122⊙f11122⊙f2, f11122⊙f11122⊙h1, f11122⊙f11122⊙h2, f11122⊙f112⊙f112, f11122⊙f112⊙f12, f11122⊙f112⊙f2, f11122⊙f112⊙h1, f11122⊙f112⊙h2, f11122⊙f12⊙f12, f11122⊙f12⊙f2, f11122⊙f12⊙h1, f11122⊙f12⊙h2, f11122⊙f2⊙f2, f11122⊙f2⊙h1, f11122⊙f2⊙h2, f11122⊙h1⊙h1, f11122⊙h1⊙h2, f11122⊙h2⊙h2, f112⊙f112⊙f112, f112⊙f112⊙f12, f112⊙f112⊙f2, f112⊙f112⊙h1, f112⊙f112⊙h2, f112⊙f12⊙f12, f112⊙f12⊙f2, f112⊙f12⊙h1, f112⊙f12⊙h2, f112⊙f2⊙f2, f112⊙f2⊙h1, f112⊙f2⊙h2, f112⊙h1⊙h1, f112⊙h1⊙h2, f112⊙h2⊙h2, f12⊙f12⊙f12, f12⊙f12⊙f2, f12⊙f12⊙h1, f12⊙f12⊙h2, f12⊙f2⊙f2, f12⊙f2⊙h1, f12⊙f2⊙h2, f12⊙h1⊙h1, f12⊙h1⊙h2, f12⊙h2⊙h2, f2⊙f2⊙f2, f2⊙f2⊙h1, f2⊙f2⊙h2, f2⊙h1⊙h1, f2⊙h1⊙h2, f2⊙h2⊙h2, h1⊙h1⊙h1, h1⊙h1⊙h2, h1⊙h2⊙h2, h2⊙h2⊙h2} over Rational Field"
      ]
     },
     "execution_count": 30,
     "metadata": {},
     "output_type": "execute_result"
    }
   ],
   "source": [
    "LieAlgebraModule.direct_sum(M1.alternating_power(3),M2.symmetric_power(3))"
   ]
  },
  {
   "cell_type": "markdown",
   "metadata": {},
   "source": [
    "Next steps:\n",
    "- compute phi (there is a slight discrepency between this phi and the one in Mathematica. might be because here we choose a more reasonable basis)\n",
    "- construct M\n",
    "- construct submodule T\n",
    "- take quotients by subspaces\n",
    "- compute dot regular weights\n",
    "- attach it to BGG complex, compute (co)kernel dimensions"
   ]
  },
  {
   "cell_type": "code",
   "execution_count": 31,
   "metadata": {},
   "outputs": [],
   "source": [
    "maps = BGG.compute_maps(BGG.zero_root)"
   ]
  },
  {
   "cell_type": "markdown",
   "metadata": {},
   "source": [
    "### Definition of coadjoint action\n",
    "\n",
    "We have a pairing $\\langle\\,\\,,\\,\\rangle$ on $\\mathfrak g$. We also have a map on the root space, ${}^*$ sending:\n",
    "$e_I \\leftrightarrow f_I$, $h_i\\leftrightarrow h_i$. Then the coadjoint action, corestricted to a subalgebra $\\mathfrak i<\\mathfrak g$ with basis $\\{\\alpha_i\\}$,\n",
    "$$\n",
    " \\left.\\mathrm{ad}^*\\right|_{\\mathfrak{i}}(X)(m) =- \\sum_i\\langle m,\\,[X,\\alpha_i^*] \\rangle\\alpha_i\n",
    "$$\n",
    "The pairing is defined by $\\langle e_I,f_I\\rangle=\\delta_{i,j}$ and $\\langle h_i,h_j\\rangle=\\delta_{i,j}$. We also define\n",
    "$$\n",
    "\\varphi:\\mathfrak b\\to\\mathfrak n\\otimes\\mathfrak u,\\quad \\varphi(m)=\\sum_I f_I\\otimes \\left.\\mathrm{ad}^*\\right|_{\\mathfrak{u}}(m)(e_I)\n",
    "$$"
   ]
  },
  {
   "cell_type": "code",
   "execution_count": 32,
   "metadata": {},
   "outputs": [
    {
     "data": {
      "text/plain": [
       "Counter({'e12': 1, 'e1': 1, 'h1': -1})"
      ]
     },
     "execution_count": 32,
     "metadata": {},
     "output_type": "execute_result"
    }
   ],
   "source": [
    "factory.adjoint_action(factory.lie_algebra.an_element(),\"e1\")"
   ]
  },
  {
   "cell_type": "code",
   "execution_count": null,
   "metadata": {},
   "outputs": [],
   "source": []
  },
  {
   "cell_type": "code",
   "execution_count": 33,
   "metadata": {},
   "outputs": [],
   "source": [
    "b_module=factory.construct_module(subalgebra='b',action='adjoint')\n",
    "n_module=factory.construct_module(subalgebra='n',action='adjoint')\n",
    "u_module=factory.construct_module(subalgebra='u',action='coadjoint')\n",
    "nu_module=n_module.tensor_product(u_module)"
   ]
  },
  {
   "cell_type": "code",
   "execution_count": 34,
   "metadata": {},
   "outputs": [],
   "source": [
    "def phi(m):\n",
    "    out=dict()\n",
    "    for e in u_module.basis_keys:\n",
    "        f_i=factory.dual_root_dict[e]\n",
    "        coad_e_i=u_module.action(m,u_module.basis()[e])\n",
    "        for e_j,c in coad_e_i.monomial_coefficients().items():\n",
    "            out[TensorProduct(f_i,e_j)]=c\n",
    "    return out"
   ]
  },
  {
   "cell_type": "code",
   "execution_count": 35,
   "metadata": {},
   "outputs": [
    {
     "data": {
      "text/plain": [
       "[{f11122⊗e112: 3, f112⊗e1: 2},\n",
       " {f1112⊗e1: 3, f11122⊗e12: -3},\n",
       " {f1112⊗e112: -3, f112⊗e12: -2, f12⊗e2: -1},\n",
       " {f12⊗e1: 1, f11122⊗e1112: -1},\n",
       " {f1⊗e1: -1,\n",
       "  f1112⊗e1112: -1,\n",
       "  f11122⊗e11122: 1,\n",
       "  f12⊗e12: 1,\n",
       "  f2⊗e2: 2},\n",
       " {f11122⊗e2: 1},\n",
       " {f1⊗e1: 2, f1112⊗e1112: 3, f112⊗e112: 1, f12⊗e12: -1, f2⊗e2: -3}]"
      ]
     },
     "execution_count": 35,
     "metadata": {},
     "output_type": "execute_result"
    }
   ],
   "source": [
    "phi_image=[fm for fm in [phi(m)for m in b_module.lie_algebra_basis] if len(fm)>0]\n",
    "phi_image"
   ]
  },
  {
   "cell_type": "code",
   "execution_count": 36,
   "metadata": {},
   "outputs": [
    {
     "data": {
      "text/plain": [
       "{'e1': 'f1',\n",
       " 'e1112': 'f1112',\n",
       " 'e11122': 'f11122',\n",
       " 'e112': 'f112',\n",
       " 'e12': 'f12',\n",
       " 'e2': 'f2',\n",
       " 'f1': 'e1',\n",
       " 'f1112': 'e1112',\n",
       " 'f11122': 'e11122',\n",
       " 'f112': 'e112',\n",
       " 'f12': 'e12',\n",
       " 'f2': 'e2',\n",
       " 'h1': 'h1',\n",
       " 'h2': 'h2'}"
      ]
     },
     "execution_count": 36,
     "metadata": {},
     "output_type": "execute_result"
    }
   ],
   "source": [
    "factory.dual_root_dict"
   ]
  },
  {
   "cell_type": "markdown",
   "metadata": {},
   "source": [
    "## The module M\n",
    "\n",
    "Recall:\n",
    "$$\n",
    "    M_j^k=\\bigoplus{}_{r=0}^{j+\\frac k2}\\left(\\left(\\bigodot{}^{j+\\frac k2-r}\\mathfrak u \\right)\\otimes\\left(\\bigwedge^r\\mathfrak g\\right)\\otimes\\left(\\bigwedge{}^{j-r}\\mathfrak n \\right) \\right)\n",
    "$$"
   ]
  },
  {
   "cell_type": "code",
   "execution_count": 93,
   "metadata": {},
   "outputs": [],
   "source": [
    "modules = dict()\n",
    "modules['g']=factory.construct_module(subalgebra='g',action='adjoint')\n",
    "modules['n']=factory.construct_module(subalgebra='n',action='adjoint')\n",
    "modules['u']=factory.construct_module(subalgebra='u',action='coadjoint')\n",
    "modules['b']=factory.construct_module(subalgebra='b',action='adjoint')\n",
    "\n",
    "def _M_r(j,k,r): \n",
    "    u_part = modules['u'].symmetric_power(j+k/2-r)\n",
    "    g_part = modules['g'].alternating_power(r)\n",
    "    n_part = modules['n'].alternating_power(j-r)\n",
    "    return LieAlgebraModule.tensor_product(u_part,g_part,n_part);\n",
    "def M_module(j,k):\n",
    "    return [((j+k/2-r,r,j-r), _M_r(j,k,r)) for r in range(j+k/2+1)]\n",
    "\n",
    "def b_insert(Mjk):\n",
    "    new_basis=[]\n",
    "    for (num_u,num_g,num_n),module in Mjk:\n",
    "        index = num_g+1\n",
    "        basis=module.basis_keys\n",
    "        for b in factory.basis['b']:\n",
    "            for m in basis:\n",
    "                if num_g==0:\n",
    "                    new_basis.append(DirectSum(index,m.replace(1,b)))\n",
    "                elif num_g==1:\n",
    "                    new_key=AlternatingProduct(b,m[1]).sort()\n",
    "                    if new_key.parity()!=0:\n",
    "                        new_basis.append(DirectSum(index,m.replace(1,new_key)))\n",
    "                else:\n",
    "                    new_key=m[1].insert(b)\n",
    "                    if new_key.parity()!=0:\n",
    "                        new_basis.append(DirectSum(index,m.replace(1,new_key))) \n",
    "#         if num_g==0:\n",
    "#             if num_n==0 or num_u==0:\n",
    "#                 for b in factory.basis['b']:\n",
    "#                     for m in basis:\n",
    "#                         new_basis.append(DirectSum(index,TensorProduct(m,b)))\n",
    "#             else:\n",
    "#                 for b in factory.basis['b']:\n",
    "#                     for m in basis:\n",
    "#                         new_basis.append(DirectSum(index,m.insert(0,b)))\n",
    "#         else:\n",
    "#             if num_u==0:\n",
    "#                 insertion_index = 0\n",
    "#             else:\n",
    "#                 insertion_index=1\n",
    "#             if num_g==1:\n",
    "#                 for b in factory.basis['b']:\n",
    "#                     for m in basis:\n",
    "#                         keys = list(m.keys)\n",
    "#                         new_key=AlternatingProduct(b,m.keys[insertion_index]).sort()\n",
    "#                         if new_key.parity()!=0:\n",
    "#                             new_basis.append(DirectSum(index,m.replace(insertion_index,new_key)))\n",
    "#             else:\n",
    "#                 for b in factory.basis['b']:\n",
    "#                     for m in basis:\n",
    "#                         new_key = m.keys[insertion_index].insert(b).sort()\n",
    "#                         if new_key.parity()!=0:\n",
    "#                             new_basis.append(DirectSum(index,m.replace(insertion_index,new_key)))\n",
    "    return new_basis\n",
    "\n",
    "def phi_insert(Mjk):\n",
    "    new_basis=[]\n",
    "    for (num_u,num_g,num_n),module in Mjk:\n",
    "        basis=module.basis_keys\n",
    "        for m in basis[:]:\n",
    "            for phi_dict in phi_image:\n",
    "                new_dict=dict()\n",
    "                for (key2,key1),coeff in phi_dict.items():\n",
    "                    if num_u==0:\n",
    "                        new_key = key1\n",
    "                    elif num_u==1:\n",
    "                        new_key = SymmetricProduct(key1,m[0])\n",
    "                    else:\n",
    "                        new_key = m[0].insert(key1)\n",
    "                    new_m = m.replace(0,new_key)\n",
    "                    \n",
    "                    if num_n==0:\n",
    "                        new_key = key2\n",
    "                    elif num_n==1:\n",
    "                        new_key = AlternatingProduct(key2,m[-1]).sort()\n",
    "                    else:\n",
    "                        new_key = m[-1].insert(key2).sort()\n",
    "                    if num_n==0 or new_key.parity()!=0:\n",
    "                        new_m = new_m.replace(-1,new_key)\n",
    "                        new_dict[new_m]=coeff\n",
    "#                     if num_u==0:\n",
    "#                         key_u=key1\n",
    "#                     elif num_u==1:\n",
    "#                         key_u=SymmetricProduct(key1,m[0])\n",
    "#                     else:\n",
    "#                         key_u=m[0].insert(key1)\n",
    "\n",
    "#                     if num_n==0:\n",
    "#                         key_n==1\n",
    "#                     elif num_n==1:\n",
    "#                         key_n=AlternatingProduct(key2,m[-1]).sort()\n",
    "#                     else:\n",
    "#                         key_n=m[-1].insert(key2)\n",
    "\n",
    "#                     if key_n.parity()!=0:\n",
    "#                         if num_u==0 and num_n==0:\n",
    "#                             new_key = TensorProduct(key_u,m,key_n)\n",
    "#                         elif num_u==0:\n",
    "#                             new_key = m.insert(0,key_u)\n",
    "#                             new_key = new_key.replace(-1,key_n)\n",
    "#                         elif num_n==0:\n",
    "#                             new_key = m.insert(-1,key_n)\n",
    "#                             new_key = new_key.replace(0,key_u)\n",
    "#                         else:\n",
    "#                             new_key=m.replace(0,key_u)\n",
    "#                             new_key=m.replace(-1,key_n)\n",
    "#                         new_dict[new_key]=coeff\n",
    "                if len(new_dict)>0:\n",
    "                    new_dict = {DirectSum(num_g,k):v for k,v in new_dict.items()}\n",
    "                    new_basis.append(new_dict)\n",
    "    return new_basis\n",
    "                    \n",
    "def T_spanning_set(j,k):\n",
    "    Mjk = M_module(j-1,k)\n",
    "    T_span = phi_insert(Mjk)\n",
    "    T_span += [{b:1} for b in b_insert(Mjk)]\n",
    "    return T_span"
   ]
  },
  {
   "cell_type": "code",
   "execution_count": 94,
   "metadata": {},
   "outputs": [
    {
     "name": "stdout",
     "output_type": "stream",
     "text": [
      "[(1, 0, 2), (0, 1, 1)]\n"
     ]
    }
   ],
   "source": [
    "Mjk=M_module(2,-2)\n",
    "print([(num_u,num_g,num_n) for (num_u,num_g,num_n),_ in Mjk])"
   ]
  },
  {
   "cell_type": "code",
   "execution_count": 96,
   "metadata": {},
   "outputs": [],
   "source": [
    "Tjk=T_spanning_set(3,-2)\n",
    "Mjk=LieAlgebraModule.direct_sum(*[m for _,m in M_module(3,-2)])"
   ]
  },
  {
   "cell_type": "markdown",
   "metadata": {},
   "source": [
    "We can now compute a basis of $T_j^k$. Next we want a basis of the orthocomplement $E_j^k = M_j^k/T_j^k$. We do this by adding the basis of $T_j^k$ to identity matrix of $M_j^k$ on the top, then row reduce (over the integers) and pick the bottom right part. This gives a section $E_j^k\\to M_j^k$. The differential on $E_j^k$ is then defined by $E_j^k\\to M_j^k\\to M_j^{k+1} \\to E_j^{k+1}$, where the middle map is the differential, and the last map is the transpose of the section we just defined."
   ]
  },
  {
   "cell_type": "code",
   "execution_count": 97,
   "metadata": {},
   "outputs": [],
   "source": [
    "for t_dict in Tjk:\n",
    "    for t in t_dict.keys():\n",
    "        if t not in Mjk.basis_keys:\n",
    "            print(t)\n",
    "            "
   ]
  },
  {
   "cell_type": "code",
   "execution_count": 98,
   "metadata": {},
   "outputs": [
    {
     "data": {
      "text/plain": [
       "{e1⊙e1⊗1⊗f1∧f1112∧f11122, e1⊙e1⊗1⊗f1∧f1112∧f112, e1⊙e1⊗1⊗f1∧f1112∧f12, e1⊙e1⊗1⊗f1∧f1112∧f2, e1⊙e1⊗1⊗f1∧f11122∧f112, e1⊙e1⊗1⊗f1∧f11122∧f12, e1⊙e1⊗1⊗f1∧f11122∧f2, e1⊙e1⊗1⊗f1∧f112∧f12, e1⊙e1⊗1⊗f1∧f112∧f2, e1⊙e1⊗1⊗f1∧f12∧f2, e1⊙e1⊗1⊗f1112∧f11122∧f112, e1⊙e1⊗1⊗f1112∧f11122∧f12, e1⊙e1⊗1⊗f1112∧f11122∧f2, e1⊙e1⊗1⊗f1112∧f112∧f12, e1⊙e1⊗1⊗f1112∧f112∧f2, e1⊙e1⊗1⊗f1112∧f12∧f2, e1⊙e1⊗1⊗f11122∧f112∧f12, e1⊙e1⊗1⊗f11122∧f112∧f2, e1⊙e1⊗1⊗f11122∧f12∧f2, e1⊙e1⊗1⊗f112∧f12∧f2, e1⊙e1112⊗1⊗f1∧f1112∧f11122, e1⊙e1112⊗1⊗f1∧f1112∧f112, e1⊙e1112⊗1⊗f1∧f1112∧f12, e1⊙e1112⊗1⊗f1∧f1112∧f2, e1⊙e1112⊗1⊗f1∧f11122∧f112, e1⊙e1112⊗1⊗f1∧f11122∧f12, e1⊙e1112⊗1⊗f1∧f11122∧f2, e1⊙e1112⊗1⊗f1∧f112∧f12, e1⊙e1112⊗1⊗f1∧f112∧f2, e1⊙e1112⊗1⊗f1∧f12∧f2, e1⊙e1112⊗1⊗f1112∧f11122∧f112, e1⊙e1112⊗1⊗f1112∧f11122∧f12, e1⊙e1112⊗1⊗f1112∧f11122∧f2, e1⊙e1112⊗1⊗f1112∧f112∧f12, e1⊙e1112⊗1⊗f1112∧f112∧f2, e1⊙e1112⊗1⊗f1112∧f12∧f2, e1⊙e1112⊗1⊗f11122∧f112∧f12, e1⊙e1112⊗1⊗f11122∧f112∧f2, e1⊙e1112⊗1⊗f11122∧f12∧f2, e1⊙e1112⊗1⊗f112∧f12∧f2, e1⊙e11122⊗1⊗f1∧f1112∧f11122, e1⊙e11122⊗1⊗f1∧f1112∧f112, e1⊙e11122⊗1⊗f1∧f1112∧f12, e1⊙e11122⊗1⊗f1∧f1112∧f2, e1⊙e11122⊗1⊗f1∧f11122∧f112, e1⊙e11122⊗1⊗f1∧f11122∧f12, e1⊙e11122⊗1⊗f1∧f11122∧f2, e1⊙e11122⊗1⊗f1∧f112∧f12, e1⊙e11122⊗1⊗f1∧f112∧f2, e1⊙e11122⊗1⊗f1∧f12∧f2, e1⊙e11122⊗1⊗f1112∧f11122∧f112, e1⊙e11122⊗1⊗f1112∧f11122∧f12, e1⊙e11122⊗1⊗f1112∧f11122∧f2, e1⊙e11122⊗1⊗f1112∧f112∧f12, e1⊙e11122⊗1⊗f1112∧f112∧f2, e1⊙e11122⊗1⊗f1112∧f12∧f2, e1⊙e11122⊗1⊗f11122∧f112∧f12, e1⊙e11122⊗1⊗f11122∧f112∧f2, e1⊙e11122⊗1⊗f11122∧f12∧f2, e1⊙e11122⊗1⊗f112∧f12∧f2, e1⊙e112⊗1⊗f1∧f1112∧f11122, e1⊙e112⊗1⊗f1∧f1112∧f112, e1⊙e112⊗1⊗f1∧f1112∧f12, e1⊙e112⊗1⊗f1∧f1112∧f2, e1⊙e112⊗1⊗f1∧f11122∧f112, e1⊙e112⊗1⊗f1∧f11122∧f12, e1⊙e112⊗1⊗f1∧f11122∧f2, e1⊙e112⊗1⊗f1∧f112∧f12, e1⊙e112⊗1⊗f1∧f112∧f2, e1⊙e112⊗1⊗f1∧f12∧f2, e1⊙e112⊗1⊗f1112∧f11122∧f112, e1⊙e112⊗1⊗f1112∧f11122∧f12, e1⊙e112⊗1⊗f1112∧f11122∧f2, e1⊙e112⊗1⊗f1112∧f112∧f12, e1⊙e112⊗1⊗f1112∧f112∧f2, e1⊙e112⊗1⊗f1112∧f12∧f2, e1⊙e112⊗1⊗f11122∧f112∧f12, e1⊙e112⊗1⊗f11122∧f112∧f2, e1⊙e112⊗1⊗f11122∧f12∧f2, e1⊙e112⊗1⊗f112∧f12∧f2, e1⊙e12⊗1⊗f1∧f1112∧f11122, e1⊙e12⊗1⊗f1∧f1112∧f112, e1⊙e12⊗1⊗f1∧f1112∧f12, e1⊙e12⊗1⊗f1∧f1112∧f2, e1⊙e12⊗1⊗f1∧f11122∧f112, e1⊙e12⊗1⊗f1∧f11122∧f12, e1⊙e12⊗1⊗f1∧f11122∧f2, e1⊙e12⊗1⊗f1∧f112∧f12, e1⊙e12⊗1⊗f1∧f112∧f2, e1⊙e12⊗1⊗f1∧f12∧f2, e1⊙e12⊗1⊗f1112∧f11122∧f112, e1⊙e12⊗1⊗f1112∧f11122∧f12, e1⊙e12⊗1⊗f1112∧f11122∧f2, e1⊙e12⊗1⊗f1112∧f112∧f12, e1⊙e12⊗1⊗f1112∧f112∧f2, e1⊙e12⊗1⊗f1112∧f12∧f2, e1⊙e12⊗1⊗f11122∧f112∧f12, e1⊙e12⊗1⊗f11122∧f112∧f2, e1⊙e12⊗1⊗f11122∧f12∧f2, e1⊙e12⊗1⊗f112∧f12∧f2, e1⊙e2⊗1⊗f1∧f1112∧f11122, e1⊙e2⊗1⊗f1∧f1112∧f112, e1⊙e2⊗1⊗f1∧f1112∧f12, e1⊙e2⊗1⊗f1∧f1112∧f2, e1⊙e2⊗1⊗f1∧f11122∧f112, e1⊙e2⊗1⊗f1∧f11122∧f12, e1⊙e2⊗1⊗f1∧f11122∧f2, e1⊙e2⊗1⊗f1∧f112∧f12, e1⊙e2⊗1⊗f1∧f112∧f2, e1⊙e2⊗1⊗f1∧f12∧f2, e1⊙e2⊗1⊗f1112∧f11122∧f112, e1⊙e2⊗1⊗f1112∧f11122∧f12, e1⊙e2⊗1⊗f1112∧f11122∧f2, e1⊙e2⊗1⊗f1112∧f112∧f12, e1⊙e2⊗1⊗f1112∧f112∧f2, e1⊙e2⊗1⊗f1112∧f12∧f2, e1⊙e2⊗1⊗f11122∧f112∧f12, e1⊙e2⊗1⊗f11122∧f112∧f2, e1⊙e2⊗1⊗f11122∧f12∧f2, e1⊙e2⊗1⊗f112∧f12∧f2, e1112⊙e1112⊗1⊗f1∧f1112∧f11122, e1112⊙e1112⊗1⊗f1∧f1112∧f112, e1112⊙e1112⊗1⊗f1∧f1112∧f12, e1112⊙e1112⊗1⊗f1∧f1112∧f2, e1112⊙e1112⊗1⊗f1∧f11122∧f112, e1112⊙e1112⊗1⊗f1∧f11122∧f12, e1112⊙e1112⊗1⊗f1∧f11122∧f2, e1112⊙e1112⊗1⊗f1∧f112∧f12, e1112⊙e1112⊗1⊗f1∧f112∧f2, e1112⊙e1112⊗1⊗f1∧f12∧f2, e1112⊙e1112⊗1⊗f1112∧f11122∧f112, e1112⊙e1112⊗1⊗f1112∧f11122∧f12, e1112⊙e1112⊗1⊗f1112∧f11122∧f2, e1112⊙e1112⊗1⊗f1112∧f112∧f12, e1112⊙e1112⊗1⊗f1112∧f112∧f2, e1112⊙e1112⊗1⊗f1112∧f12∧f2, e1112⊙e1112⊗1⊗f11122∧f112∧f12, e1112⊙e1112⊗1⊗f11122∧f112∧f2, e1112⊙e1112⊗1⊗f11122∧f12∧f2, e1112⊙e1112⊗1⊗f112∧f12∧f2, e1112⊙e11122⊗1⊗f1∧f1112∧f11122, e1112⊙e11122⊗1⊗f1∧f1112∧f112, e1112⊙e11122⊗1⊗f1∧f1112∧f12, e1112⊙e11122⊗1⊗f1∧f1112∧f2, e1112⊙e11122⊗1⊗f1∧f11122∧f112, e1112⊙e11122⊗1⊗f1∧f11122∧f12, e1112⊙e11122⊗1⊗f1∧f11122∧f2, e1112⊙e11122⊗1⊗f1∧f112∧f12, e1112⊙e11122⊗1⊗f1∧f112∧f2, e1112⊙e11122⊗1⊗f1∧f12∧f2, e1112⊙e11122⊗1⊗f1112∧f11122∧f112, e1112⊙e11122⊗1⊗f1112∧f11122∧f12, e1112⊙e11122⊗1⊗f1112∧f11122∧f2, e1112⊙e11122⊗1⊗f1112∧f112∧f12, e1112⊙e11122⊗1⊗f1112∧f112∧f2, e1112⊙e11122⊗1⊗f1112∧f12∧f2, e1112⊙e11122⊗1⊗f11122∧f112∧f12, e1112⊙e11122⊗1⊗f11122∧f112∧f2, e1112⊙e11122⊗1⊗f11122∧f12∧f2, e1112⊙e11122⊗1⊗f112∧f12∧f2, e1112⊙e112⊗1⊗f1∧f1112∧f11122, e1112⊙e112⊗1⊗f1∧f1112∧f112, e1112⊙e112⊗1⊗f1∧f1112∧f12, e1112⊙e112⊗1⊗f1∧f1112∧f2, e1112⊙e112⊗1⊗f1∧f11122∧f112, e1112⊙e112⊗1⊗f1∧f11122∧f12, e1112⊙e112⊗1⊗f1∧f11122∧f2, e1112⊙e112⊗1⊗f1∧f112∧f12, e1112⊙e112⊗1⊗f1∧f112∧f2, e1112⊙e112⊗1⊗f1∧f12∧f2, e1112⊙e112⊗1⊗f1112∧f11122∧f112, e1112⊙e112⊗1⊗f1112∧f11122∧f12, e1112⊙e112⊗1⊗f1112∧f11122∧f2, e1112⊙e112⊗1⊗f1112∧f112∧f12, e1112⊙e112⊗1⊗f1112∧f112∧f2, e1112⊙e112⊗1⊗f1112∧f12∧f2, e1112⊙e112⊗1⊗f11122∧f112∧f12, e1112⊙e112⊗1⊗f11122∧f112∧f2, e1112⊙e112⊗1⊗f11122∧f12∧f2, e1112⊙e112⊗1⊗f112∧f12∧f2, e1112⊙e12⊗1⊗f1∧f1112∧f11122, e1112⊙e12⊗1⊗f1∧f1112∧f112, e1112⊙e12⊗1⊗f1∧f1112∧f12, e1112⊙e12⊗1⊗f1∧f1112∧f2, e1112⊙e12⊗1⊗f1∧f11122∧f112, e1112⊙e12⊗1⊗f1∧f11122∧f12, e1112⊙e12⊗1⊗f1∧f11122∧f2, e1112⊙e12⊗1⊗f1∧f112∧f12, e1112⊙e12⊗1⊗f1∧f112∧f2, e1112⊙e12⊗1⊗f1∧f12∧f2, e1112⊙e12⊗1⊗f1112∧f11122∧f112, e1112⊙e12⊗1⊗f1112∧f11122∧f12, e1112⊙e12⊗1⊗f1112∧f11122∧f2, e1112⊙e12⊗1⊗f1112∧f112∧f12, e1112⊙e12⊗1⊗f1112∧f112∧f2, e1112⊙e12⊗1⊗f1112∧f12∧f2, e1112⊙e12⊗1⊗f11122∧f112∧f12, e1112⊙e12⊗1⊗f11122∧f112∧f2, e1112⊙e12⊗1⊗f11122∧f12∧f2, e1112⊙e12⊗1⊗f112∧f12∧f2, e1112⊙e2⊗1⊗f1∧f1112∧f11122, e1112⊙e2⊗1⊗f1∧f1112∧f112, e1112⊙e2⊗1⊗f1∧f1112∧f12, e1112⊙e2⊗1⊗f1∧f1112∧f2, e1112⊙e2⊗1⊗f1∧f11122∧f112, e1112⊙e2⊗1⊗f1∧f11122∧f12, e1112⊙e2⊗1⊗f1∧f11122∧f2, e1112⊙e2⊗1⊗f1∧f112∧f12, e1112⊙e2⊗1⊗f1∧f112∧f2, e1112⊙e2⊗1⊗f1∧f12∧f2, e1112⊙e2⊗1⊗f1112∧f11122∧f112, e1112⊙e2⊗1⊗f1112∧f11122∧f12, e1112⊙e2⊗1⊗f1112∧f11122∧f2, e1112⊙e2⊗1⊗f1112∧f112∧f12, e1112⊙e2⊗1⊗f1112∧f112∧f2, e1112⊙e2⊗1⊗f1112∧f12∧f2, e1112⊙e2⊗1⊗f11122∧f112∧f12, e1112⊙e2⊗1⊗f11122∧f112∧f2, e1112⊙e2⊗1⊗f11122∧f12∧f2, e1112⊙e2⊗1⊗f112∧f12∧f2, e11122⊙e11122⊗1⊗f1∧f1112∧f11122, e11122⊙e11122⊗1⊗f1∧f1112∧f112, e11122⊙e11122⊗1⊗f1∧f1112∧f12, e11122⊙e11122⊗1⊗f1∧f1112∧f2, e11122⊙e11122⊗1⊗f1∧f11122∧f112, e11122⊙e11122⊗1⊗f1∧f11122∧f12, e11122⊙e11122⊗1⊗f1∧f11122∧f2, e11122⊙e11122⊗1⊗f1∧f112∧f12, e11122⊙e11122⊗1⊗f1∧f112∧f2, e11122⊙e11122⊗1⊗f1∧f12∧f2, e11122⊙e11122⊗1⊗f1112∧f11122∧f112, e11122⊙e11122⊗1⊗f1112∧f11122∧f12, e11122⊙e11122⊗1⊗f1112∧f11122∧f2, e11122⊙e11122⊗1⊗f1112∧f112∧f12, e11122⊙e11122⊗1⊗f1112∧f112∧f2, e11122⊙e11122⊗1⊗f1112∧f12∧f2, e11122⊙e11122⊗1⊗f11122∧f112∧f12, e11122⊙e11122⊗1⊗f11122∧f112∧f2, e11122⊙e11122⊗1⊗f11122∧f12∧f2, e11122⊙e11122⊗1⊗f112∧f12∧f2, e11122⊙e112⊗1⊗f1∧f1112∧f11122, e11122⊙e112⊗1⊗f1∧f1112∧f112, e11122⊙e112⊗1⊗f1∧f1112∧f12, e11122⊙e112⊗1⊗f1∧f1112∧f2, e11122⊙e112⊗1⊗f1∧f11122∧f112, e11122⊙e112⊗1⊗f1∧f11122∧f12, e11122⊙e112⊗1⊗f1∧f11122∧f2, e11122⊙e112⊗1⊗f1∧f112∧f12, e11122⊙e112⊗1⊗f1∧f112∧f2, e11122⊙e112⊗1⊗f1∧f12∧f2, e11122⊙e112⊗1⊗f1112∧f11122∧f112, e11122⊙e112⊗1⊗f1112∧f11122∧f12, e11122⊙e112⊗1⊗f1112∧f11122∧f2, e11122⊙e112⊗1⊗f1112∧f112∧f12, e11122⊙e112⊗1⊗f1112∧f112∧f2, e11122⊙e112⊗1⊗f1112∧f12∧f2, e11122⊙e112⊗1⊗f11122∧f112∧f12, e11122⊙e112⊗1⊗f11122∧f112∧f2, e11122⊙e112⊗1⊗f11122∧f12∧f2, e11122⊙e112⊗1⊗f112∧f12∧f2, e11122⊙e12⊗1⊗f1∧f1112∧f11122, e11122⊙e12⊗1⊗f1∧f1112∧f112, e11122⊙e12⊗1⊗f1∧f1112∧f12, e11122⊙e12⊗1⊗f1∧f1112∧f2, e11122⊙e12⊗1⊗f1∧f11122∧f112, e11122⊙e12⊗1⊗f1∧f11122∧f12, e11122⊙e12⊗1⊗f1∧f11122∧f2, e11122⊙e12⊗1⊗f1∧f112∧f12, e11122⊙e12⊗1⊗f1∧f112∧f2, e11122⊙e12⊗1⊗f1∧f12∧f2, e11122⊙e12⊗1⊗f1112∧f11122∧f112, e11122⊙e12⊗1⊗f1112∧f11122∧f12, e11122⊙e12⊗1⊗f1112∧f11122∧f2, e11122⊙e12⊗1⊗f1112∧f112∧f12, e11122⊙e12⊗1⊗f1112∧f112∧f2, e11122⊙e12⊗1⊗f1112∧f12∧f2, e11122⊙e12⊗1⊗f11122∧f112∧f12, e11122⊙e12⊗1⊗f11122∧f112∧f2, e11122⊙e12⊗1⊗f11122∧f12∧f2, e11122⊙e12⊗1⊗f112∧f12∧f2, e11122⊙e2⊗1⊗f1∧f1112∧f11122, e11122⊙e2⊗1⊗f1∧f1112∧f112, e11122⊙e2⊗1⊗f1∧f1112∧f12, e11122⊙e2⊗1⊗f1∧f1112∧f2, e11122⊙e2⊗1⊗f1∧f11122∧f112, e11122⊙e2⊗1⊗f1∧f11122∧f12, e11122⊙e2⊗1⊗f1∧f11122∧f2, e11122⊙e2⊗1⊗f1∧f112∧f12, e11122⊙e2⊗1⊗f1∧f112∧f2, e11122⊙e2⊗1⊗f1∧f12∧f2, e11122⊙e2⊗1⊗f1112∧f11122∧f112, e11122⊙e2⊗1⊗f1112∧f11122∧f12, e11122⊙e2⊗1⊗f1112∧f11122∧f2, e11122⊙e2⊗1⊗f1112∧f112∧f12, e11122⊙e2⊗1⊗f1112∧f112∧f2, e11122⊙e2⊗1⊗f1112∧f12∧f2, e11122⊙e2⊗1⊗f11122∧f112∧f12, e11122⊙e2⊗1⊗f11122∧f112∧f2, e11122⊙e2⊗1⊗f11122∧f12∧f2, e11122⊙e2⊗1⊗f112∧f12∧f2, e112⊙e112⊗1⊗f1∧f1112∧f11122, e112⊙e112⊗1⊗f1∧f1112∧f112, e112⊙e112⊗1⊗f1∧f1112∧f12, e112⊙e112⊗1⊗f1∧f1112∧f2, e112⊙e112⊗1⊗f1∧f11122∧f112, e112⊙e112⊗1⊗f1∧f11122∧f12, e112⊙e112⊗1⊗f1∧f11122∧f2, e112⊙e112⊗1⊗f1∧f112∧f12, e112⊙e112⊗1⊗f1∧f112∧f2, e112⊙e112⊗1⊗f1∧f12∧f2, e112⊙e112⊗1⊗f1112∧f11122∧f112, e112⊙e112⊗1⊗f1112∧f11122∧f12, e112⊙e112⊗1⊗f1112∧f11122∧f2, e112⊙e112⊗1⊗f1112∧f112∧f12, e112⊙e112⊗1⊗f1112∧f112∧f2, e112⊙e112⊗1⊗f1112∧f12∧f2, e112⊙e112⊗1⊗f11122∧f112∧f12, e112⊙e112⊗1⊗f11122∧f112∧f2, e112⊙e112⊗1⊗f11122∧f12∧f2, e112⊙e112⊗1⊗f112∧f12∧f2, e112⊙e12⊗1⊗f1∧f1112∧f11122, e112⊙e12⊗1⊗f1∧f1112∧f112, e112⊙e12⊗1⊗f1∧f1112∧f12, e112⊙e12⊗1⊗f1∧f1112∧f2, e112⊙e12⊗1⊗f1∧f11122∧f112, e112⊙e12⊗1⊗f1∧f11122∧f12, e112⊙e12⊗1⊗f1∧f11122∧f2, e112⊙e12⊗1⊗f1∧f112∧f12, e112⊙e12⊗1⊗f1∧f112∧f2, e112⊙e12⊗1⊗f1∧f12∧f2, e112⊙e12⊗1⊗f1112∧f11122∧f112, e112⊙e12⊗1⊗f1112∧f11122∧f12, e112⊙e12⊗1⊗f1112∧f11122∧f2, e112⊙e12⊗1⊗f1112∧f112∧f12, e112⊙e12⊗1⊗f1112∧f112∧f2, e112⊙e12⊗1⊗f1112∧f12∧f2, e112⊙e12⊗1⊗f11122∧f112∧f12, e112⊙e12⊗1⊗f11122∧f112∧f2, e112⊙e12⊗1⊗f11122∧f12∧f2, e112⊙e12⊗1⊗f112∧f12∧f2, e112⊙e2⊗1⊗f1∧f1112∧f11122, e112⊙e2⊗1⊗f1∧f1112∧f112, e112⊙e2⊗1⊗f1∧f1112∧f12, e112⊙e2⊗1⊗f1∧f1112∧f2, e112⊙e2⊗1⊗f1∧f11122∧f112, e112⊙e2⊗1⊗f1∧f11122∧f12, e112⊙e2⊗1⊗f1∧f11122∧f2, e112⊙e2⊗1⊗f1∧f112∧f12, e112⊙e2⊗1⊗f1∧f112∧f2, e112⊙e2⊗1⊗f1∧f12∧f2, e112⊙e2⊗1⊗f1112∧f11122∧f112, e112⊙e2⊗1⊗f1112∧f11122∧f12, e112⊙e2⊗1⊗f1112∧f11122∧f2, e112⊙e2⊗1⊗f1112∧f112∧f12, e112⊙e2⊗1⊗f1112∧f112∧f2, e112⊙e2⊗1⊗f1112∧f12∧f2, e112⊙e2⊗1⊗f11122∧f112∧f12, e112⊙e2⊗1⊗f11122∧f112∧f2, e112⊙e2⊗1⊗f11122∧f12∧f2, e112⊙e2⊗1⊗f112∧f12∧f2, e12⊙e12⊗1⊗f1∧f1112∧f11122, e12⊙e12⊗1⊗f1∧f1112∧f112, e12⊙e12⊗1⊗f1∧f1112∧f12, e12⊙e12⊗1⊗f1∧f1112∧f2, e12⊙e12⊗1⊗f1∧f11122∧f112, e12⊙e12⊗1⊗f1∧f11122∧f12, e12⊙e12⊗1⊗f1∧f11122∧f2, e12⊙e12⊗1⊗f1∧f112∧f12, e12⊙e12⊗1⊗f1∧f112∧f2, e12⊙e12⊗1⊗f1∧f12∧f2, e12⊙e12⊗1⊗f1112∧f11122∧f112, e12⊙e12⊗1⊗f1112∧f11122∧f12, e12⊙e12⊗1⊗f1112∧f11122∧f2, e12⊙e12⊗1⊗f1112∧f112∧f12, e12⊙e12⊗1⊗f1112∧f112∧f2, e12⊙e12⊗1⊗f1112∧f12∧f2, e12⊙e12⊗1⊗f11122∧f112∧f12, e12⊙e12⊗1⊗f11122∧f112∧f2, e12⊙e12⊗1⊗f11122∧f12∧f2, e12⊙e12⊗1⊗f112∧f12∧f2, e12⊙e2⊗1⊗f1∧f1112∧f11122, e12⊙e2⊗1⊗f1∧f1112∧f112, e12⊙e2⊗1⊗f1∧f1112∧f12, e12⊙e2⊗1⊗f1∧f1112∧f2, e12⊙e2⊗1⊗f1∧f11122∧f112, e12⊙e2⊗1⊗f1∧f11122∧f12, e12⊙e2⊗1⊗f1∧f11122∧f2, e12⊙e2⊗1⊗f1∧f112∧f12, e12⊙e2⊗1⊗f1∧f112∧f2, e12⊙e2⊗1⊗f1∧f12∧f2, e12⊙e2⊗1⊗f1112∧f11122∧f112, e12⊙e2⊗1⊗f1112∧f11122∧f12, e12⊙e2⊗1⊗f1112∧f11122∧f2, e12⊙e2⊗1⊗f1112∧f112∧f12, e12⊙e2⊗1⊗f1112∧f112∧f2, e12⊙e2⊗1⊗f1112∧f12∧f2, e12⊙e2⊗1⊗f11122∧f112∧f12, e12⊙e2⊗1⊗f11122∧f112∧f2, e12⊙e2⊗1⊗f11122∧f12∧f2, e12⊙e2⊗1⊗f112∧f12∧f2, e2⊙e2⊗1⊗f1∧f1112∧f11122, e2⊙e2⊗1⊗f1∧f1112∧f112, e2⊙e2⊗1⊗f1∧f1112∧f12, e2⊙e2⊗1⊗f1∧f1112∧f2, e2⊙e2⊗1⊗f1∧f11122∧f112, e2⊙e2⊗1⊗f1∧f11122∧f12, e2⊙e2⊗1⊗f1∧f11122∧f2, e2⊙e2⊗1⊗f1∧f112∧f12, e2⊙e2⊗1⊗f1∧f112∧f2, e2⊙e2⊗1⊗f1∧f12∧f2, e2⊙e2⊗1⊗f1112∧f11122∧f112, e2⊙e2⊗1⊗f1112∧f11122∧f12, e2⊙e2⊗1⊗f1112∧f11122∧f2, e2⊙e2⊗1⊗f1112∧f112∧f12, e2⊙e2⊗1⊗f1112∧f112∧f2, e2⊙e2⊗1⊗f1112∧f12∧f2, e2⊙e2⊗1⊗f11122∧f112∧f12, e2⊙e2⊗1⊗f11122∧f112∧f2, e2⊙e2⊗1⊗f11122∧f12∧f2, e2⊙e2⊗1⊗f112∧f12∧f2, e1⊗e1⊗f1∧f1112, e1⊗e1⊗f1∧f11122, e1⊗e1⊗f1∧f112, e1⊗e1⊗f1∧f12, e1⊗e1⊗f1∧f2, e1⊗e1⊗f1112∧f11122, e1⊗e1⊗f1112∧f112, e1⊗e1⊗f1112∧f12, e1⊗e1⊗f1112∧f2, e1⊗e1⊗f11122∧f112, e1⊗e1⊗f11122∧f12, e1⊗e1⊗f11122∧f2, e1⊗e1⊗f112∧f12, e1⊗e1⊗f112∧f2, e1⊗e1⊗f12∧f2, e1⊗e1112⊗f1∧f1112, e1⊗e1112⊗f1∧f11122, e1⊗e1112⊗f1∧f112, e1⊗e1112⊗f1∧f12, e1⊗e1112⊗f1∧f2, e1⊗e1112⊗f1112∧f11122, e1⊗e1112⊗f1112∧f112, e1⊗e1112⊗f1112∧f12, e1⊗e1112⊗f1112∧f2, e1⊗e1112⊗f11122∧f112, e1⊗e1112⊗f11122∧f12, e1⊗e1112⊗f11122∧f2, e1⊗e1112⊗f112∧f12, e1⊗e1112⊗f112∧f2, e1⊗e1112⊗f12∧f2, e1⊗e11122⊗f1∧f1112, e1⊗e11122⊗f1∧f11122, e1⊗e11122⊗f1∧f112, e1⊗e11122⊗f1∧f12, e1⊗e11122⊗f1∧f2, e1⊗e11122⊗f1112∧f11122, e1⊗e11122⊗f1112∧f112, e1⊗e11122⊗f1112∧f12, e1⊗e11122⊗f1112∧f2, e1⊗e11122⊗f11122∧f112, e1⊗e11122⊗f11122∧f12, e1⊗e11122⊗f11122∧f2, e1⊗e11122⊗f112∧f12, e1⊗e11122⊗f112∧f2, e1⊗e11122⊗f12∧f2, e1⊗e112⊗f1∧f1112, e1⊗e112⊗f1∧f11122, e1⊗e112⊗f1∧f112, e1⊗e112⊗f1∧f12, e1⊗e112⊗f1∧f2, e1⊗e112⊗f1112∧f11122, e1⊗e112⊗f1112∧f112, e1⊗e112⊗f1112∧f12, e1⊗e112⊗f1112∧f2, e1⊗e112⊗f11122∧f112, e1⊗e112⊗f11122∧f12, e1⊗e112⊗f11122∧f2, e1⊗e112⊗f112∧f12, e1⊗e112⊗f112∧f2, e1⊗e112⊗f12∧f2, e1⊗e12⊗f1∧f1112, e1⊗e12⊗f1∧f11122, e1⊗e12⊗f1∧f112, e1⊗e12⊗f1∧f12, e1⊗e12⊗f1∧f2, e1⊗e12⊗f1112∧f11122, e1⊗e12⊗f1112∧f112, e1⊗e12⊗f1112∧f12, e1⊗e12⊗f1112∧f2, e1⊗e12⊗f11122∧f112, e1⊗e12⊗f11122∧f12, e1⊗e12⊗f11122∧f2, e1⊗e12⊗f112∧f12, e1⊗e12⊗f112∧f2, e1⊗e12⊗f12∧f2, e1⊗e2⊗f1∧f1112, e1⊗e2⊗f1∧f11122, e1⊗e2⊗f1∧f112, e1⊗e2⊗f1∧f12, e1⊗e2⊗f1∧f2, e1⊗e2⊗f1112∧f11122, e1⊗e2⊗f1112∧f112, e1⊗e2⊗f1112∧f12, e1⊗e2⊗f1112∧f2, e1⊗e2⊗f11122∧f112, e1⊗e2⊗f11122∧f12, e1⊗e2⊗f11122∧f2, e1⊗e2⊗f112∧f12, e1⊗e2⊗f112∧f2, e1⊗e2⊗f12∧f2, e1⊗f1⊗f1∧f1112, e1⊗f1⊗f1∧f11122, e1⊗f1⊗f1∧f112, e1⊗f1⊗f1∧f12, e1⊗f1⊗f1∧f2, e1⊗f1⊗f1112∧f11122, e1⊗f1⊗f1112∧f112, e1⊗f1⊗f1112∧f12, e1⊗f1⊗f1112∧f2, e1⊗f1⊗f11122∧f112, e1⊗f1⊗f11122∧f12, e1⊗f1⊗f11122∧f2, e1⊗f1⊗f112∧f12, e1⊗f1⊗f112∧f2, e1⊗f1⊗f12∧f2, e1⊗f1112⊗f1∧f1112, e1⊗f1112⊗f1∧f11122, e1⊗f1112⊗f1∧f112, e1⊗f1112⊗f1∧f12, e1⊗f1112⊗f1∧f2, e1⊗f1112⊗f1112∧f11122, e1⊗f1112⊗f1112∧f112, e1⊗f1112⊗f1112∧f12, e1⊗f1112⊗f1112∧f2, e1⊗f1112⊗f11122∧f112, e1⊗f1112⊗f11122∧f12, e1⊗f1112⊗f11122∧f2, e1⊗f1112⊗f112∧f12, e1⊗f1112⊗f112∧f2, e1⊗f1112⊗f12∧f2, e1⊗f11122⊗f1∧f1112, e1⊗f11122⊗f1∧f11122, e1⊗f11122⊗f1∧f112, e1⊗f11122⊗f1∧f12, e1⊗f11122⊗f1∧f2, e1⊗f11122⊗f1112∧f11122, e1⊗f11122⊗f1112∧f112, e1⊗f11122⊗f1112∧f12, e1⊗f11122⊗f1112∧f2, e1⊗f11122⊗f11122∧f112, e1⊗f11122⊗f11122∧f12, e1⊗f11122⊗f11122∧f2, e1⊗f11122⊗f112∧f12, e1⊗f11122⊗f112∧f2, e1⊗f11122⊗f12∧f2, e1⊗f112⊗f1∧f1112, e1⊗f112⊗f1∧f11122, e1⊗f112⊗f1∧f112, e1⊗f112⊗f1∧f12, e1⊗f112⊗f1∧f2, e1⊗f112⊗f1112∧f11122, e1⊗f112⊗f1112∧f112, e1⊗f112⊗f1112∧f12, e1⊗f112⊗f1112∧f2, e1⊗f112⊗f11122∧f112, e1⊗f112⊗f11122∧f12, e1⊗f112⊗f11122∧f2, e1⊗f112⊗f112∧f12, e1⊗f112⊗f112∧f2, e1⊗f112⊗f12∧f2, e1⊗f12⊗f1∧f1112, e1⊗f12⊗f1∧f11122, e1⊗f12⊗f1∧f112, e1⊗f12⊗f1∧f12, e1⊗f12⊗f1∧f2, e1⊗f12⊗f1112∧f11122, e1⊗f12⊗f1112∧f112, e1⊗f12⊗f1112∧f12, e1⊗f12⊗f1112∧f2, e1⊗f12⊗f11122∧f112, e1⊗f12⊗f11122∧f12, e1⊗f12⊗f11122∧f2, e1⊗f12⊗f112∧f12, e1⊗f12⊗f112∧f2, e1⊗f12⊗f12∧f2, e1⊗f2⊗f1∧f1112, e1⊗f2⊗f1∧f11122, e1⊗f2⊗f1∧f112, e1⊗f2⊗f1∧f12, e1⊗f2⊗f1∧f2, e1⊗f2⊗f1112∧f11122, e1⊗f2⊗f1112∧f112, e1⊗f2⊗f1112∧f12, e1⊗f2⊗f1112∧f2, e1⊗f2⊗f11122∧f112, e1⊗f2⊗f11122∧f12, e1⊗f2⊗f11122∧f2, e1⊗f2⊗f112∧f12, e1⊗f2⊗f112∧f2, e1⊗f2⊗f12∧f2, e1⊗h1⊗f1∧f1112, e1⊗h1⊗f1∧f11122, e1⊗h1⊗f1∧f112, e1⊗h1⊗f1∧f12, e1⊗h1⊗f1∧f2, e1⊗h1⊗f1112∧f11122, e1⊗h1⊗f1112∧f112, e1⊗h1⊗f1112∧f12, e1⊗h1⊗f1112∧f2, e1⊗h1⊗f11122∧f112, e1⊗h1⊗f11122∧f12, e1⊗h1⊗f11122∧f2, e1⊗h1⊗f112∧f12, e1⊗h1⊗f112∧f2, e1⊗h1⊗f12∧f2, e1⊗h2⊗f1∧f1112, e1⊗h2⊗f1∧f11122, e1⊗h2⊗f1∧f112, e1⊗h2⊗f1∧f12, e1⊗h2⊗f1∧f2, e1⊗h2⊗f1112∧f11122, e1⊗h2⊗f1112∧f112, e1⊗h2⊗f1112∧f12, e1⊗h2⊗f1112∧f2, e1⊗h2⊗f11122∧f112, e1⊗h2⊗f11122∧f12, e1⊗h2⊗f11122∧f2, e1⊗h2⊗f112∧f12, e1⊗h2⊗f112∧f2, e1⊗h2⊗f12∧f2, e1112⊗e1⊗f1∧f1112, e1112⊗e1⊗f1∧f11122, e1112⊗e1⊗f1∧f112, e1112⊗e1⊗f1∧f12, e1112⊗e1⊗f1∧f2, e1112⊗e1⊗f1112∧f11122, e1112⊗e1⊗f1112∧f112, e1112⊗e1⊗f1112∧f12, e1112⊗e1⊗f1112∧f2, e1112⊗e1⊗f11122∧f112, e1112⊗e1⊗f11122∧f12, e1112⊗e1⊗f11122∧f2, e1112⊗e1⊗f112∧f12, e1112⊗e1⊗f112∧f2, e1112⊗e1⊗f12∧f2, e1112⊗e1112⊗f1∧f1112, e1112⊗e1112⊗f1∧f11122, e1112⊗e1112⊗f1∧f112, e1112⊗e1112⊗f1∧f12, e1112⊗e1112⊗f1∧f2, e1112⊗e1112⊗f1112∧f11122, e1112⊗e1112⊗f1112∧f112, e1112⊗e1112⊗f1112∧f12, e1112⊗e1112⊗f1112∧f2, e1112⊗e1112⊗f11122∧f112, e1112⊗e1112⊗f11122∧f12, e1112⊗e1112⊗f11122∧f2, e1112⊗e1112⊗f112∧f12, e1112⊗e1112⊗f112∧f2, e1112⊗e1112⊗f12∧f2, e1112⊗e11122⊗f1∧f1112, e1112⊗e11122⊗f1∧f11122, e1112⊗e11122⊗f1∧f112, e1112⊗e11122⊗f1∧f12, e1112⊗e11122⊗f1∧f2, e1112⊗e11122⊗f1112∧f11122, e1112⊗e11122⊗f1112∧f112, e1112⊗e11122⊗f1112∧f12, e1112⊗e11122⊗f1112∧f2, e1112⊗e11122⊗f11122∧f112, e1112⊗e11122⊗f11122∧f12, e1112⊗e11122⊗f11122∧f2, e1112⊗e11122⊗f112∧f12, e1112⊗e11122⊗f112∧f2, e1112⊗e11122⊗f12∧f2, e1112⊗e112⊗f1∧f1112, e1112⊗e112⊗f1∧f11122, e1112⊗e112⊗f1∧f112, e1112⊗e112⊗f1∧f12, e1112⊗e112⊗f1∧f2, e1112⊗e112⊗f1112∧f11122, e1112⊗e112⊗f1112∧f112, e1112⊗e112⊗f1112∧f12, e1112⊗e112⊗f1112∧f2, e1112⊗e112⊗f11122∧f112, e1112⊗e112⊗f11122∧f12, e1112⊗e112⊗f11122∧f2, e1112⊗e112⊗f112∧f12, e1112⊗e112⊗f112∧f2, e1112⊗e112⊗f12∧f2, e1112⊗e12⊗f1∧f1112, e1112⊗e12⊗f1∧f11122, e1112⊗e12⊗f1∧f112, e1112⊗e12⊗f1∧f12, e1112⊗e12⊗f1∧f2, e1112⊗e12⊗f1112∧f11122, e1112⊗e12⊗f1112∧f112, e1112⊗e12⊗f1112∧f12, e1112⊗e12⊗f1112∧f2, e1112⊗e12⊗f11122∧f112, e1112⊗e12⊗f11122∧f12, e1112⊗e12⊗f11122∧f2, e1112⊗e12⊗f112∧f12, e1112⊗e12⊗f112∧f2, e1112⊗e12⊗f12∧f2, e1112⊗e2⊗f1∧f1112, e1112⊗e2⊗f1∧f11122, e1112⊗e2⊗f1∧f112, e1112⊗e2⊗f1∧f12, e1112⊗e2⊗f1∧f2, e1112⊗e2⊗f1112∧f11122, e1112⊗e2⊗f1112∧f112, e1112⊗e2⊗f1112∧f12, e1112⊗e2⊗f1112∧f2, e1112⊗e2⊗f11122∧f112, e1112⊗e2⊗f11122∧f12, e1112⊗e2⊗f11122∧f2, e1112⊗e2⊗f112∧f12, e1112⊗e2⊗f112∧f2, e1112⊗e2⊗f12∧f2, e1112⊗f1⊗f1∧f1112, e1112⊗f1⊗f1∧f11122, e1112⊗f1⊗f1∧f112, e1112⊗f1⊗f1∧f12, e1112⊗f1⊗f1∧f2, e1112⊗f1⊗f1112∧f11122, e1112⊗f1⊗f1112∧f112, e1112⊗f1⊗f1112∧f12, e1112⊗f1⊗f1112∧f2, e1112⊗f1⊗f11122∧f112, e1112⊗f1⊗f11122∧f12, e1112⊗f1⊗f11122∧f2, e1112⊗f1⊗f112∧f12, e1112⊗f1⊗f112∧f2, e1112⊗f1⊗f12∧f2, e1112⊗f1112⊗f1∧f1112, e1112⊗f1112⊗f1∧f11122, e1112⊗f1112⊗f1∧f112, e1112⊗f1112⊗f1∧f12, e1112⊗f1112⊗f1∧f2, e1112⊗f1112⊗f1112∧f11122, e1112⊗f1112⊗f1112∧f112, e1112⊗f1112⊗f1112∧f12, e1112⊗f1112⊗f1112∧f2, e1112⊗f1112⊗f11122∧f112, e1112⊗f1112⊗f11122∧f12, e1112⊗f1112⊗f11122∧f2, e1112⊗f1112⊗f112∧f12, e1112⊗f1112⊗f112∧f2, e1112⊗f1112⊗f12∧f2, e1112⊗f11122⊗f1∧f1112, e1112⊗f11122⊗f1∧f11122, e1112⊗f11122⊗f1∧f112, e1112⊗f11122⊗f1∧f12, e1112⊗f11122⊗f1∧f2, e1112⊗f11122⊗f1112∧f11122, e1112⊗f11122⊗f1112∧f112, e1112⊗f11122⊗f1112∧f12, e1112⊗f11122⊗f1112∧f2, e1112⊗f11122⊗f11122∧f112, e1112⊗f11122⊗f11122∧f12, e1112⊗f11122⊗f11122∧f2, e1112⊗f11122⊗f112∧f12, e1112⊗f11122⊗f112∧f2, e1112⊗f11122⊗f12∧f2, e1112⊗f112⊗f1∧f1112, e1112⊗f112⊗f1∧f11122, e1112⊗f112⊗f1∧f112, e1112⊗f112⊗f1∧f12, e1112⊗f112⊗f1∧f2, e1112⊗f112⊗f1112∧f11122, e1112⊗f112⊗f1112∧f112, e1112⊗f112⊗f1112∧f12, e1112⊗f112⊗f1112∧f2, e1112⊗f112⊗f11122∧f112, e1112⊗f112⊗f11122∧f12, e1112⊗f112⊗f11122∧f2, e1112⊗f112⊗f112∧f12, e1112⊗f112⊗f112∧f2, e1112⊗f112⊗f12∧f2, e1112⊗f12⊗f1∧f1112, e1112⊗f12⊗f1∧f11122, e1112⊗f12⊗f1∧f112, e1112⊗f12⊗f1∧f12, e1112⊗f12⊗f1∧f2, e1112⊗f12⊗f1112∧f11122, e1112⊗f12⊗f1112∧f112, e1112⊗f12⊗f1112∧f12, e1112⊗f12⊗f1112∧f2, e1112⊗f12⊗f11122∧f112, e1112⊗f12⊗f11122∧f12, e1112⊗f12⊗f11122∧f2, e1112⊗f12⊗f112∧f12, e1112⊗f12⊗f112∧f2, e1112⊗f12⊗f12∧f2, e1112⊗f2⊗f1∧f1112, e1112⊗f2⊗f1∧f11122, e1112⊗f2⊗f1∧f112, e1112⊗f2⊗f1∧f12, e1112⊗f2⊗f1∧f2, e1112⊗f2⊗f1112∧f11122, e1112⊗f2⊗f1112∧f112, e1112⊗f2⊗f1112∧f12, e1112⊗f2⊗f1112∧f2, e1112⊗f2⊗f11122∧f112, e1112⊗f2⊗f11122∧f12, e1112⊗f2⊗f11122∧f2, e1112⊗f2⊗f112∧f12, e1112⊗f2⊗f112∧f2, e1112⊗f2⊗f12∧f2, e1112⊗h1⊗f1∧f1112, e1112⊗h1⊗f1∧f11122, e1112⊗h1⊗f1∧f112, e1112⊗h1⊗f1∧f12, e1112⊗h1⊗f1∧f2, e1112⊗h1⊗f1112∧f11122, e1112⊗h1⊗f1112∧f112, e1112⊗h1⊗f1112∧f12, e1112⊗h1⊗f1112∧f2, e1112⊗h1⊗f11122∧f112, e1112⊗h1⊗f11122∧f12, e1112⊗h1⊗f11122∧f2, e1112⊗h1⊗f112∧f12, e1112⊗h1⊗f112∧f2, e1112⊗h1⊗f12∧f2, e1112⊗h2⊗f1∧f1112, e1112⊗h2⊗f1∧f11122, e1112⊗h2⊗f1∧f112, e1112⊗h2⊗f1∧f12, e1112⊗h2⊗f1∧f2, e1112⊗h2⊗f1112∧f11122, e1112⊗h2⊗f1112∧f112, e1112⊗h2⊗f1112∧f12, e1112⊗h2⊗f1112∧f2, e1112⊗h2⊗f11122∧f112, e1112⊗h2⊗f11122∧f12, e1112⊗h2⊗f11122∧f2, e1112⊗h2⊗f112∧f12, e1112⊗h2⊗f112∧f2, e1112⊗h2⊗f12∧f2, e11122⊗e1⊗f1∧f1112, e11122⊗e1⊗f1∧f11122, e11122⊗e1⊗f1∧f112, e11122⊗e1⊗f1∧f12, e11122⊗e1⊗f1∧f2, e11122⊗e1⊗f1112∧f11122, e11122⊗e1⊗f1112∧f112, e11122⊗e1⊗f1112∧f12, e11122⊗e1⊗f1112∧f2, e11122⊗e1⊗f11122∧f112, e11122⊗e1⊗f11122∧f12, e11122⊗e1⊗f11122∧f2, e11122⊗e1⊗f112∧f12, e11122⊗e1⊗f112∧f2, e11122⊗e1⊗f12∧f2, e11122⊗e1112⊗f1∧f1112, e11122⊗e1112⊗f1∧f11122, e11122⊗e1112⊗f1∧f112, e11122⊗e1112⊗f1∧f12, e11122⊗e1112⊗f1∧f2, e11122⊗e1112⊗f1112∧f11122, e11122⊗e1112⊗f1112∧f112, e11122⊗e1112⊗f1112∧f12, e11122⊗e1112⊗f1112∧f2, e11122⊗e1112⊗f11122∧f112, e11122⊗e1112⊗f11122∧f12, e11122⊗e1112⊗f11122∧f2, e11122⊗e1112⊗f112∧f12, e11122⊗e1112⊗f112∧f2, e11122⊗e1112⊗f12∧f2, e11122⊗e11122⊗f1∧f1112, e11122⊗e11122⊗f1∧f11122, e11122⊗e11122⊗f1∧f112, e11122⊗e11122⊗f1∧f12, e11122⊗e11122⊗f1∧f2, e11122⊗e11122⊗f1112∧f11122, e11122⊗e11122⊗f1112∧f112, e11122⊗e11122⊗f1112∧f12, e11122⊗e11122⊗f1112∧f2, e11122⊗e11122⊗f11122∧f112, e11122⊗e11122⊗f11122∧f12, e11122⊗e11122⊗f11122∧f2, e11122⊗e11122⊗f112∧f12, e11122⊗e11122⊗f112∧f2, e11122⊗e11122⊗f12∧f2, e11122⊗e112⊗f1∧f1112, e11122⊗e112⊗f1∧f11122, e11122⊗e112⊗f1∧f112, e11122⊗e112⊗f1∧f12, e11122⊗e112⊗f1∧f2, e11122⊗e112⊗f1112∧f11122, e11122⊗e112⊗f1112∧f112, e11122⊗e112⊗f1112∧f12, e11122⊗e112⊗f1112∧f2, e11122⊗e112⊗f11122∧f112, e11122⊗e112⊗f11122∧f12, e11122⊗e112⊗f11122∧f2, e11122⊗e112⊗f112∧f12, e11122⊗e112⊗f112∧f2, e11122⊗e112⊗f12∧f2, e11122⊗e12⊗f1∧f1112, e11122⊗e12⊗f1∧f11122, e11122⊗e12⊗f1∧f112, e11122⊗e12⊗f1∧f12, e11122⊗e12⊗f1∧f2, e11122⊗e12⊗f1112∧f11122, e11122⊗e12⊗f1112∧f112, e11122⊗e12⊗f1112∧f12, e11122⊗e12⊗f1112∧f2, e11122⊗e12⊗f11122∧f112, e11122⊗e12⊗f11122∧f12, e11122⊗e12⊗f11122∧f2, e11122⊗e12⊗f112∧f12, e11122⊗e12⊗f112∧f2, e11122⊗e12⊗f12∧f2, e11122⊗e2⊗f1∧f1112, e11122⊗e2⊗f1∧f11122, e11122⊗e2⊗f1∧f112, e11122⊗e2⊗f1∧f12, e11122⊗e2⊗f1∧f2, e11122⊗e2⊗f1112∧f11122, e11122⊗e2⊗f1112∧f112, e11122⊗e2⊗f1112∧f12, e11122⊗e2⊗f1112∧f2, e11122⊗e2⊗f11122∧f112, e11122⊗e2⊗f11122∧f12, e11122⊗e2⊗f11122∧f2, e11122⊗e2⊗f112∧f12, e11122⊗e2⊗f112∧f2, e11122⊗e2⊗f12∧f2, e11122⊗f1⊗f1∧f1112, e11122⊗f1⊗f1∧f11122, e11122⊗f1⊗f1∧f112, e11122⊗f1⊗f1∧f12, e11122⊗f1⊗f1∧f2, e11122⊗f1⊗f1112∧f11122, e11122⊗f1⊗f1112∧f112, e11122⊗f1⊗f1112∧f12, e11122⊗f1⊗f1112∧f2, e11122⊗f1⊗f11122∧f112, e11122⊗f1⊗f11122∧f12, e11122⊗f1⊗f11122∧f2, e11122⊗f1⊗f112∧f12, e11122⊗f1⊗f112∧f2, e11122⊗f1⊗f12∧f2, e11122⊗f1112⊗f1∧f1112, e11122⊗f1112⊗f1∧f11122, e11122⊗f1112⊗f1∧f112, e11122⊗f1112⊗f1∧f12, e11122⊗f1112⊗f1∧f2, e11122⊗f1112⊗f1112∧f11122, e11122⊗f1112⊗f1112∧f112, e11122⊗f1112⊗f1112∧f12, e11122⊗f1112⊗f1112∧f2, e11122⊗f1112⊗f11122∧f112, e11122⊗f1112⊗f11122∧f12, e11122⊗f1112⊗f11122∧f2, e11122⊗f1112⊗f112∧f12, e11122⊗f1112⊗f112∧f2, e11122⊗f1112⊗f12∧f2, e11122⊗f11122⊗f1∧f1112, e11122⊗f11122⊗f1∧f11122, e11122⊗f11122⊗f1∧f112, e11122⊗f11122⊗f1∧f12, e11122⊗f11122⊗f1∧f2, e11122⊗f11122⊗f1112∧f11122, e11122⊗f11122⊗f1112∧f112, e11122⊗f11122⊗f1112∧f12, e11122⊗f11122⊗f1112∧f2, e11122⊗f11122⊗f11122∧f112, e11122⊗f11122⊗f11122∧f12, e11122⊗f11122⊗f11122∧f2, e11122⊗f11122⊗f112∧f12, e11122⊗f11122⊗f112∧f2, e11122⊗f11122⊗f12∧f2, e11122⊗f112⊗f1∧f1112, e11122⊗f112⊗f1∧f11122, e11122⊗f112⊗f1∧f112, e11122⊗f112⊗f1∧f12, e11122⊗f112⊗f1∧f2, e11122⊗f112⊗f1112∧f11122, e11122⊗f112⊗f1112∧f112, e11122⊗f112⊗f1112∧f12, e11122⊗f112⊗f1112∧f2, e11122⊗f112⊗f11122∧f112, e11122⊗f112⊗f11122∧f12, e11122⊗f112⊗f11122∧f2, e11122⊗f112⊗f112∧f12, e11122⊗f112⊗f112∧f2, e11122⊗f112⊗f12∧f2, e11122⊗f12⊗f1∧f1112, e11122⊗f12⊗f1∧f11122, e11122⊗f12⊗f1∧f112, e11122⊗f12⊗f1∧f12, e11122⊗f12⊗f1∧f2, e11122⊗f12⊗f1112∧f11122, e11122⊗f12⊗f1112∧f112, e11122⊗f12⊗f1112∧f12, e11122⊗f12⊗f1112∧f2, e11122⊗f12⊗f11122∧f112, e11122⊗f12⊗f11122∧f12, e11122⊗f12⊗f11122∧f2, e11122⊗f12⊗f112∧f12, e11122⊗f12⊗f112∧f2, e11122⊗f12⊗f12∧f2, e11122⊗f2⊗f1∧f1112, e11122⊗f2⊗f1∧f11122, e11122⊗f2⊗f1∧f112, e11122⊗f2⊗f1∧f12, e11122⊗f2⊗f1∧f2, e11122⊗f2⊗f1112∧f11122, e11122⊗f2⊗f1112∧f112, e11122⊗f2⊗f1112∧f12, e11122⊗f2⊗f1112∧f2, e11122⊗f2⊗f11122∧f112, e11122⊗f2⊗f11122∧f12, e11122⊗f2⊗f11122∧f2, e11122⊗f2⊗f112∧f12, e11122⊗f2⊗f112∧f2, e11122⊗f2⊗f12∧f2, e11122⊗h1⊗f1∧f1112, e11122⊗h1⊗f1∧f11122, e11122⊗h1⊗f1∧f112, e11122⊗h1⊗f1∧f12, e11122⊗h1⊗f1∧f2, e11122⊗h1⊗f1112∧f11122, e11122⊗h1⊗f1112∧f112, e11122⊗h1⊗f1112∧f12, e11122⊗h1⊗f1112∧f2, e11122⊗h1⊗f11122∧f112, e11122⊗h1⊗f11122∧f12, e11122⊗h1⊗f11122∧f2, e11122⊗h1⊗f112∧f12, e11122⊗h1⊗f112∧f2, e11122⊗h1⊗f12∧f2, e11122⊗h2⊗f1∧f1112, e11122⊗h2⊗f1∧f11122, e11122⊗h2⊗f1∧f112, e11122⊗h2⊗f1∧f12, e11122⊗h2⊗f1∧f2, e11122⊗h2⊗f1112∧f11122, e11122⊗h2⊗f1112∧f112, e11122⊗h2⊗f1112∧f12, e11122⊗h2⊗f1112∧f2, e11122⊗h2⊗f11122∧f112, e11122⊗h2⊗f11122∧f12, e11122⊗h2⊗f11122∧f2, e11122⊗h2⊗f112∧f12, e11122⊗h2⊗f112∧f2, e11122⊗h2⊗f12∧f2, e112⊗e1⊗f1∧f1112, e112⊗e1⊗f1∧f11122, e112⊗e1⊗f1∧f112, e112⊗e1⊗f1∧f12, e112⊗e1⊗f1∧f2, e112⊗e1⊗f1112∧f11122, e112⊗e1⊗f1112∧f112, e112⊗e1⊗f1112∧f12, e112⊗e1⊗f1112∧f2, e112⊗e1⊗f11122∧f112, e112⊗e1⊗f11122∧f12, e112⊗e1⊗f11122∧f2, e112⊗e1⊗f112∧f12, e112⊗e1⊗f112∧f2, e112⊗e1⊗f12∧f2, e112⊗e1112⊗f1∧f1112, e112⊗e1112⊗f1∧f11122, e112⊗e1112⊗f1∧f112, e112⊗e1112⊗f1∧f12, e112⊗e1112⊗f1∧f2, e112⊗e1112⊗f1112∧f11122, e112⊗e1112⊗f1112∧f112, e112⊗e1112⊗f1112∧f12, e112⊗e1112⊗f1112∧f2, e112⊗e1112⊗f11122∧f112, e112⊗e1112⊗f11122∧f12, e112⊗e1112⊗f11122∧f2, e112⊗e1112⊗f112∧f12, e112⊗e1112⊗f112∧f2, e112⊗e1112⊗f12∧f2, e112⊗e11122⊗f1∧f1112, e112⊗e11122⊗f1∧f11122, e112⊗e11122⊗f1∧f112, e112⊗e11122⊗f1∧f12, e112⊗e11122⊗f1∧f2, e112⊗e11122⊗f1112∧f11122, e112⊗e11122⊗f1112∧f112, e112⊗e11122⊗f1112∧f12, e112⊗e11122⊗f1112∧f2, e112⊗e11122⊗f11122∧f112, e112⊗e11122⊗f11122∧f12, e112⊗e11122⊗f11122∧f2, e112⊗e11122⊗f112∧f12, e112⊗e11122⊗f112∧f2, e112⊗e11122⊗f12∧f2, e112⊗e112⊗f1∧f1112, e112⊗e112⊗f1∧f11122, e112⊗e112⊗f1∧f112, e112⊗e112⊗f1∧f12, e112⊗e112⊗f1∧f2, e112⊗e112⊗f1112∧f11122, e112⊗e112⊗f1112∧f112, e112⊗e112⊗f1112∧f12, e112⊗e112⊗f1112∧f2, e112⊗e112⊗f11122∧f112, e112⊗e112⊗f11122∧f12, e112⊗e112⊗f11122∧f2, e112⊗e112⊗f112∧f12, e112⊗e112⊗f112∧f2, e112⊗e112⊗f12∧f2, e112⊗e12⊗f1∧f1112, e112⊗e12⊗f1∧f11122, e112⊗e12⊗f1∧f112, e112⊗e12⊗f1∧f12, e112⊗e12⊗f1∧f2, e112⊗e12⊗f1112∧f11122, e112⊗e12⊗f1112∧f112, e112⊗e12⊗f1112∧f12, e112⊗e12⊗f1112∧f2, e112⊗e12⊗f11122∧f112, e112⊗e12⊗f11122∧f12, e112⊗e12⊗f11122∧f2, e112⊗e12⊗f112∧f12, e112⊗e12⊗f112∧f2, e112⊗e12⊗f12∧f2, e112⊗e2⊗f1∧f1112, e112⊗e2⊗f1∧f11122, e112⊗e2⊗f1∧f112, e112⊗e2⊗f1∧f12, e112⊗e2⊗f1∧f2, e112⊗e2⊗f1112∧f11122, e112⊗e2⊗f1112∧f112, e112⊗e2⊗f1112∧f12, e112⊗e2⊗f1112∧f2, e112⊗e2⊗f11122∧f112, e112⊗e2⊗f11122∧f12, e112⊗e2⊗f11122∧f2, e112⊗e2⊗f112∧f12, e112⊗e2⊗f112∧f2, e112⊗e2⊗f12∧f2, e112⊗f1⊗f1∧f1112, e112⊗f1⊗f1∧f11122, e112⊗f1⊗f1∧f112, e112⊗f1⊗f1∧f12, e112⊗f1⊗f1∧f2, e112⊗f1⊗f1112∧f11122, e112⊗f1⊗f1112∧f112, e112⊗f1⊗f1112∧f12, e112⊗f1⊗f1112∧f2, e112⊗f1⊗f11122∧f112, e112⊗f1⊗f11122∧f12, e112⊗f1⊗f11122∧f2, e112⊗f1⊗f112∧f12, e112⊗f1⊗f112∧f2, e112⊗f1⊗f12∧f2, e112⊗f1112⊗f1∧f1112, e112⊗f1112⊗f1∧f11122, e112⊗f1112⊗f1∧f112, e112⊗f1112⊗f1∧f12, e112⊗f1112⊗f1∧f2, e112⊗f1112⊗f1112∧f11122, e112⊗f1112⊗f1112∧f112, e112⊗f1112⊗f1112∧f12, e112⊗f1112⊗f1112∧f2, e112⊗f1112⊗f11122∧f112, e112⊗f1112⊗f11122∧f12, e112⊗f1112⊗f11122∧f2, e112⊗f1112⊗f112∧f12, e112⊗f1112⊗f112∧f2, e112⊗f1112⊗f12∧f2, e112⊗f11122⊗f1∧f1112, e112⊗f11122⊗f1∧f11122, e112⊗f11122⊗f1∧f112, e112⊗f11122⊗f1∧f12, e112⊗f11122⊗f1∧f2, e112⊗f11122⊗f1112∧f11122, e112⊗f11122⊗f1112∧f112, e112⊗f11122⊗f1112∧f12, e112⊗f11122⊗f1112∧f2, e112⊗f11122⊗f11122∧f112, e112⊗f11122⊗f11122∧f12, e112⊗f11122⊗f11122∧f2, e112⊗f11122⊗f112∧f12, e112⊗f11122⊗f112∧f2, e112⊗f11122⊗f12∧f2, e112⊗f112⊗f1∧f1112, e112⊗f112⊗f1∧f11122, e112⊗f112⊗f1∧f112, e112⊗f112⊗f1∧f12, e112⊗f112⊗f1∧f2, e112⊗f112⊗f1112∧f11122, e112⊗f112⊗f1112∧f112, e112⊗f112⊗f1112∧f12, e112⊗f112⊗f1112∧f2, e112⊗f112⊗f11122∧f112, e112⊗f112⊗f11122∧f12, e112⊗f112⊗f11122∧f2, e112⊗f112⊗f112∧f12, e112⊗f112⊗f112∧f2, e112⊗f112⊗f12∧f2, e112⊗f12⊗f1∧f1112, e112⊗f12⊗f1∧f11122, e112⊗f12⊗f1∧f112, e112⊗f12⊗f1∧f12, e112⊗f12⊗f1∧f2, e112⊗f12⊗f1112∧f11122, e112⊗f12⊗f1112∧f112, e112⊗f12⊗f1112∧f12, e112⊗f12⊗f1112∧f2, e112⊗f12⊗f11122∧f112, e112⊗f12⊗f11122∧f12, e112⊗f12⊗f11122∧f2, e112⊗f12⊗f112∧f12, e112⊗f12⊗f112∧f2, e112⊗f12⊗f12∧f2, e112⊗f2⊗f1∧f1112, e112⊗f2⊗f1∧f11122, e112⊗f2⊗f1∧f112, e112⊗f2⊗f1∧f12, e112⊗f2⊗f1∧f2, e112⊗f2⊗f1112∧f11122, e112⊗f2⊗f1112∧f112, e112⊗f2⊗f1112∧f12, e112⊗f2⊗f1112∧f2, e112⊗f2⊗f11122∧f112, e112⊗f2⊗f11122∧f12, e112⊗f2⊗f11122∧f2, e112⊗f2⊗f112∧f12, e112⊗f2⊗f112∧f2, e112⊗f2⊗f12∧f2, e112⊗h1⊗f1∧f1112, e112⊗h1⊗f1∧f11122, e112⊗h1⊗f1∧f112, e112⊗h1⊗f1∧f12, e112⊗h1⊗f1∧f2, e112⊗h1⊗f1112∧f11122, e112⊗h1⊗f1112∧f112, e112⊗h1⊗f1112∧f12, e112⊗h1⊗f1112∧f2, e112⊗h1⊗f11122∧f112, e112⊗h1⊗f11122∧f12, e112⊗h1⊗f11122∧f2, e112⊗h1⊗f112∧f12, e112⊗h1⊗f112∧f2, e112⊗h1⊗f12∧f2, e112⊗h2⊗f1∧f1112, e112⊗h2⊗f1∧f11122, e112⊗h2⊗f1∧f112, e112⊗h2⊗f1∧f12, e112⊗h2⊗f1∧f2, e112⊗h2⊗f1112∧f11122, e112⊗h2⊗f1112∧f112, e112⊗h2⊗f1112∧f12, e112⊗h2⊗f1112∧f2, e112⊗h2⊗f11122∧f112, e112⊗h2⊗f11122∧f12, e112⊗h2⊗f11122∧f2, e112⊗h2⊗f112∧f12, e112⊗h2⊗f112∧f2, e112⊗h2⊗f12∧f2, e12⊗e1⊗f1∧f1112, e12⊗e1⊗f1∧f11122, e12⊗e1⊗f1∧f112, e12⊗e1⊗f1∧f12, e12⊗e1⊗f1∧f2, e12⊗e1⊗f1112∧f11122, e12⊗e1⊗f1112∧f112, e12⊗e1⊗f1112∧f12, e12⊗e1⊗f1112∧f2, e12⊗e1⊗f11122∧f112, e12⊗e1⊗f11122∧f12, e12⊗e1⊗f11122∧f2, e12⊗e1⊗f112∧f12, e12⊗e1⊗f112∧f2, e12⊗e1⊗f12∧f2, e12⊗e1112⊗f1∧f1112, e12⊗e1112⊗f1∧f11122, e12⊗e1112⊗f1∧f112, e12⊗e1112⊗f1∧f12, e12⊗e1112⊗f1∧f2, e12⊗e1112⊗f1112∧f11122, e12⊗e1112⊗f1112∧f112, e12⊗e1112⊗f1112∧f12, e12⊗e1112⊗f1112∧f2, e12⊗e1112⊗f11122∧f112, e12⊗e1112⊗f11122∧f12, e12⊗e1112⊗f11122∧f2, e12⊗e1112⊗f112∧f12, e12⊗e1112⊗f112∧f2, e12⊗e1112⊗f12∧f2, e12⊗e11122⊗f1∧f1112, e12⊗e11122⊗f1∧f11122, e12⊗e11122⊗f1∧f112, e12⊗e11122⊗f1∧f12, e12⊗e11122⊗f1∧f2, e12⊗e11122⊗f1112∧f11122, e12⊗e11122⊗f1112∧f112, e12⊗e11122⊗f1112∧f12, e12⊗e11122⊗f1112∧f2, e12⊗e11122⊗f11122∧f112, e12⊗e11122⊗f11122∧f12, e12⊗e11122⊗f11122∧f2, e12⊗e11122⊗f112∧f12, e12⊗e11122⊗f112∧f2, e12⊗e11122⊗f12∧f2, e12⊗e112⊗f1∧f1112, e12⊗e112⊗f1∧f11122, e12⊗e112⊗f1∧f112, e12⊗e112⊗f1∧f12, e12⊗e112⊗f1∧f2, e12⊗e112⊗f1112∧f11122, e12⊗e112⊗f1112∧f112, e12⊗e112⊗f1112∧f12, e12⊗e112⊗f1112∧f2, e12⊗e112⊗f11122∧f112, e12⊗e112⊗f11122∧f12, e12⊗e112⊗f11122∧f2, e12⊗e112⊗f112∧f12, e12⊗e112⊗f112∧f2, e12⊗e112⊗f12∧f2, e12⊗e12⊗f1∧f1112, e12⊗e12⊗f1∧f11122, e12⊗e12⊗f1∧f112, e12⊗e12⊗f1∧f12, e12⊗e12⊗f1∧f2, e12⊗e12⊗f1112∧f11122, e12⊗e12⊗f1112∧f112, e12⊗e12⊗f1112∧f12, e12⊗e12⊗f1112∧f2, e12⊗e12⊗f11122∧f112, e12⊗e12⊗f11122∧f12, e12⊗e12⊗f11122∧f2, e12⊗e12⊗f112∧f12, e12⊗e12⊗f112∧f2, e12⊗e12⊗f12∧f2, e12⊗e2⊗f1∧f1112, e12⊗e2⊗f1∧f11122, e12⊗e2⊗f1∧f112, e12⊗e2⊗f1∧f12, e12⊗e2⊗f1∧f2, e12⊗e2⊗f1112∧f11122, e12⊗e2⊗f1112∧f112, e12⊗e2⊗f1112∧f12, e12⊗e2⊗f1112∧f2, e12⊗e2⊗f11122∧f112, e12⊗e2⊗f11122∧f12, e12⊗e2⊗f11122∧f2, e12⊗e2⊗f112∧f12, e12⊗e2⊗f112∧f2, e12⊗e2⊗f12∧f2, e12⊗f1⊗f1∧f1112, e12⊗f1⊗f1∧f11122, e12⊗f1⊗f1∧f112, e12⊗f1⊗f1∧f12, e12⊗f1⊗f1∧f2, e12⊗f1⊗f1112∧f11122, e12⊗f1⊗f1112∧f112, e12⊗f1⊗f1112∧f12, e12⊗f1⊗f1112∧f2, e12⊗f1⊗f11122∧f112, e12⊗f1⊗f11122∧f12, e12⊗f1⊗f11122∧f2, e12⊗f1⊗f112∧f12, e12⊗f1⊗f112∧f2, e12⊗f1⊗f12∧f2, e12⊗f1112⊗f1∧f1112, e12⊗f1112⊗f1∧f11122, e12⊗f1112⊗f1∧f112, e12⊗f1112⊗f1∧f12, e12⊗f1112⊗f1∧f2, e12⊗f1112⊗f1112∧f11122, e12⊗f1112⊗f1112∧f112, e12⊗f1112⊗f1112∧f12, e12⊗f1112⊗f1112∧f2, e12⊗f1112⊗f11122∧f112, e12⊗f1112⊗f11122∧f12, e12⊗f1112⊗f11122∧f2, e12⊗f1112⊗f112∧f12, e12⊗f1112⊗f112∧f2, e12⊗f1112⊗f12∧f2, e12⊗f11122⊗f1∧f1112, e12⊗f11122⊗f1∧f11122, e12⊗f11122⊗f1∧f112, e12⊗f11122⊗f1∧f12, e12⊗f11122⊗f1∧f2, e12⊗f11122⊗f1112∧f11122, e12⊗f11122⊗f1112∧f112, e12⊗f11122⊗f1112∧f12, e12⊗f11122⊗f1112∧f2, e12⊗f11122⊗f11122∧f112, e12⊗f11122⊗f11122∧f12, e12⊗f11122⊗f11122∧f2, e12⊗f11122⊗f112∧f12, e12⊗f11122⊗f112∧f2, e12⊗f11122⊗f12∧f2, e12⊗f112⊗f1∧f1112, e12⊗f112⊗f1∧f11122, e12⊗f112⊗f1∧f112, e12⊗f112⊗f1∧f12, e12⊗f112⊗f1∧f2, e12⊗f112⊗f1112∧f11122, e12⊗f112⊗f1112∧f112, e12⊗f112⊗f1112∧f12, e12⊗f112⊗f1112∧f2, e12⊗f112⊗f11122∧f112, e12⊗f112⊗f11122∧f12, e12⊗f112⊗f11122∧f2, e12⊗f112⊗f112∧f12, e12⊗f112⊗f112∧f2, e12⊗f112⊗f12∧f2, e12⊗f12⊗f1∧f1112, e12⊗f12⊗f1∧f11122, e12⊗f12⊗f1∧f112, e12⊗f12⊗f1∧f12, e12⊗f12⊗f1∧f2, e12⊗f12⊗f1112∧f11122, e12⊗f12⊗f1112∧f112, e12⊗f12⊗f1112∧f12, e12⊗f12⊗f1112∧f2, e12⊗f12⊗f11122∧f112, e12⊗f12⊗f11122∧f12, e12⊗f12⊗f11122∧f2, e12⊗f12⊗f112∧f12, e12⊗f12⊗f112∧f2, e12⊗f12⊗f12∧f2, e12⊗f2⊗f1∧f1112, e12⊗f2⊗f1∧f11122, e12⊗f2⊗f1∧f112, e12⊗f2⊗f1∧f12, e12⊗f2⊗f1∧f2, e12⊗f2⊗f1112∧f11122, e12⊗f2⊗f1112∧f112, e12⊗f2⊗f1112∧f12, e12⊗f2⊗f1112∧f2, e12⊗f2⊗f11122∧f112, e12⊗f2⊗f11122∧f12, e12⊗f2⊗f11122∧f2, e12⊗f2⊗f112∧f12, e12⊗f2⊗f112∧f2, e12⊗f2⊗f12∧f2, e12⊗h1⊗f1∧f1112, e12⊗h1⊗f1∧f11122, e12⊗h1⊗f1∧f112, e12⊗h1⊗f1∧f12, e12⊗h1⊗f1∧f2, e12⊗h1⊗f1112∧f11122, e12⊗h1⊗f1112∧f112, e12⊗h1⊗f1112∧f12, e12⊗h1⊗f1112∧f2, e12⊗h1⊗f11122∧f112, e12⊗h1⊗f11122∧f12, e12⊗h1⊗f11122∧f2, e12⊗h1⊗f112∧f12, e12⊗h1⊗f112∧f2, e12⊗h1⊗f12∧f2, e12⊗h2⊗f1∧f1112, e12⊗h2⊗f1∧f11122, e12⊗h2⊗f1∧f112, e12⊗h2⊗f1∧f12, e12⊗h2⊗f1∧f2, e12⊗h2⊗f1112∧f11122, e12⊗h2⊗f1112∧f112, e12⊗h2⊗f1112∧f12, e12⊗h2⊗f1112∧f2, e12⊗h2⊗f11122∧f112, e12⊗h2⊗f11122∧f12, e12⊗h2⊗f11122∧f2, e12⊗h2⊗f112∧f12, e12⊗h2⊗f112∧f2, e12⊗h2⊗f12∧f2, e2⊗e1⊗f1∧f1112, e2⊗e1⊗f1∧f11122, e2⊗e1⊗f1∧f112, e2⊗e1⊗f1∧f12, e2⊗e1⊗f1∧f2, e2⊗e1⊗f1112∧f11122, e2⊗e1⊗f1112∧f112, e2⊗e1⊗f1112∧f12, e2⊗e1⊗f1112∧f2, e2⊗e1⊗f11122∧f112, e2⊗e1⊗f11122∧f12, e2⊗e1⊗f11122∧f2, e2⊗e1⊗f112∧f12, e2⊗e1⊗f112∧f2, e2⊗e1⊗f12∧f2, e2⊗e1112⊗f1∧f1112, e2⊗e1112⊗f1∧f11122, e2⊗e1112⊗f1∧f112, e2⊗e1112⊗f1∧f12, e2⊗e1112⊗f1∧f2, e2⊗e1112⊗f1112∧f11122, e2⊗e1112⊗f1112∧f112, e2⊗e1112⊗f1112∧f12, e2⊗e1112⊗f1112∧f2, e2⊗e1112⊗f11122∧f112, e2⊗e1112⊗f11122∧f12, e2⊗e1112⊗f11122∧f2, e2⊗e1112⊗f112∧f12, e2⊗e1112⊗f112∧f2, e2⊗e1112⊗f12∧f2, e2⊗e11122⊗f1∧f1112, e2⊗e11122⊗f1∧f11122, e2⊗e11122⊗f1∧f112, e2⊗e11122⊗f1∧f12, e2⊗e11122⊗f1∧f2, e2⊗e11122⊗f1112∧f11122, e2⊗e11122⊗f1112∧f112, e2⊗e11122⊗f1112∧f12, e2⊗e11122⊗f1112∧f2, e2⊗e11122⊗f11122∧f112, e2⊗e11122⊗f11122∧f12, e2⊗e11122⊗f11122∧f2, e2⊗e11122⊗f112∧f12, e2⊗e11122⊗f112∧f2, e2⊗e11122⊗f12∧f2, e2⊗e112⊗f1∧f1112, e2⊗e112⊗f1∧f11122, e2⊗e112⊗f1∧f112, e2⊗e112⊗f1∧f12, e2⊗e112⊗f1∧f2, e2⊗e112⊗f1112∧f11122, e2⊗e112⊗f1112∧f112, e2⊗e112⊗f1112∧f12, e2⊗e112⊗f1112∧f2, e2⊗e112⊗f11122∧f112, e2⊗e112⊗f11122∧f12, e2⊗e112⊗f11122∧f2, e2⊗e112⊗f112∧f12, e2⊗e112⊗f112∧f2, e2⊗e112⊗f12∧f2, e2⊗e12⊗f1∧f1112, e2⊗e12⊗f1∧f11122, e2⊗e12⊗f1∧f112, e2⊗e12⊗f1∧f12, e2⊗e12⊗f1∧f2, e2⊗e12⊗f1112∧f11122, e2⊗e12⊗f1112∧f112, e2⊗e12⊗f1112∧f12, e2⊗e12⊗f1112∧f2, e2⊗e12⊗f11122∧f112, e2⊗e12⊗f11122∧f12, e2⊗e12⊗f11122∧f2, e2⊗e12⊗f112∧f12, e2⊗e12⊗f112∧f2, e2⊗e12⊗f12∧f2, e2⊗e2⊗f1∧f1112, e2⊗e2⊗f1∧f11122, e2⊗e2⊗f1∧f112, e2⊗e2⊗f1∧f12, e2⊗e2⊗f1∧f2, e2⊗e2⊗f1112∧f11122, e2⊗e2⊗f1112∧f112, e2⊗e2⊗f1112∧f12, e2⊗e2⊗f1112∧f2, e2⊗e2⊗f11122∧f112, e2⊗e2⊗f11122∧f12, e2⊗e2⊗f11122∧f2, e2⊗e2⊗f112∧f12, e2⊗e2⊗f112∧f2, e2⊗e2⊗f12∧f2, e2⊗f1⊗f1∧f1112, e2⊗f1⊗f1∧f11122, e2⊗f1⊗f1∧f112, e2⊗f1⊗f1∧f12, e2⊗f1⊗f1∧f2, e2⊗f1⊗f1112∧f11122, e2⊗f1⊗f1112∧f112, e2⊗f1⊗f1112∧f12, e2⊗f1⊗f1112∧f2, e2⊗f1⊗f11122∧f112, e2⊗f1⊗f11122∧f12, e2⊗f1⊗f11122∧f2, e2⊗f1⊗f112∧f12, e2⊗f1⊗f112∧f2, e2⊗f1⊗f12∧f2, e2⊗f1112⊗f1∧f1112, e2⊗f1112⊗f1∧f11122, e2⊗f1112⊗f1∧f112, e2⊗f1112⊗f1∧f12, e2⊗f1112⊗f1∧f2, e2⊗f1112⊗f1112∧f11122, e2⊗f1112⊗f1112∧f112, e2⊗f1112⊗f1112∧f12, e2⊗f1112⊗f1112∧f2, e2⊗f1112⊗f11122∧f112, e2⊗f1112⊗f11122∧f12, e2⊗f1112⊗f11122∧f2, e2⊗f1112⊗f112∧f12, e2⊗f1112⊗f112∧f2, e2⊗f1112⊗f12∧f2, e2⊗f11122⊗f1∧f1112, e2⊗f11122⊗f1∧f11122, e2⊗f11122⊗f1∧f112, e2⊗f11122⊗f1∧f12, e2⊗f11122⊗f1∧f2, e2⊗f11122⊗f1112∧f11122, e2⊗f11122⊗f1112∧f112, e2⊗f11122⊗f1112∧f12, e2⊗f11122⊗f1112∧f2, e2⊗f11122⊗f11122∧f112, e2⊗f11122⊗f11122∧f12, e2⊗f11122⊗f11122∧f2, e2⊗f11122⊗f112∧f12, e2⊗f11122⊗f112∧f2, e2⊗f11122⊗f12∧f2, e2⊗f112⊗f1∧f1112, e2⊗f112⊗f1∧f11122, e2⊗f112⊗f1∧f112, e2⊗f112⊗f1∧f12, e2⊗f112⊗f1∧f2, e2⊗f112⊗f1112∧f11122, e2⊗f112⊗f1112∧f112, e2⊗f112⊗f1112∧f12, e2⊗f112⊗f1112∧f2, e2⊗f112⊗f11122∧f112, e2⊗f112⊗f11122∧f12, e2⊗f112⊗f11122∧f2, e2⊗f112⊗f112∧f12, e2⊗f112⊗f112∧f2, e2⊗f112⊗f12∧f2, e2⊗f12⊗f1∧f1112, e2⊗f12⊗f1∧f11122, e2⊗f12⊗f1∧f112, e2⊗f12⊗f1∧f12, e2⊗f12⊗f1∧f2, e2⊗f12⊗f1112∧f11122, e2⊗f12⊗f1112∧f112, e2⊗f12⊗f1112∧f12, e2⊗f12⊗f1112∧f2, e2⊗f12⊗f11122∧f112, e2⊗f12⊗f11122∧f12, e2⊗f12⊗f11122∧f2, e2⊗f12⊗f112∧f12, e2⊗f12⊗f112∧f2, e2⊗f12⊗f12∧f2, e2⊗f2⊗f1∧f1112, e2⊗f2⊗f1∧f11122, e2⊗f2⊗f1∧f112, e2⊗f2⊗f1∧f12, e2⊗f2⊗f1∧f2, e2⊗f2⊗f1112∧f11122, e2⊗f2⊗f1112∧f112, e2⊗f2⊗f1112∧f12, e2⊗f2⊗f1112∧f2, e2⊗f2⊗f11122∧f112, e2⊗f2⊗f11122∧f12, e2⊗f2⊗f11122∧f2, e2⊗f2⊗f112∧f12, e2⊗f2⊗f112∧f2, e2⊗f2⊗f12∧f2, e2⊗h1⊗f1∧f1112, e2⊗h1⊗f1∧f11122, e2⊗h1⊗f1∧f112, e2⊗h1⊗f1∧f12, e2⊗h1⊗f1∧f2, e2⊗h1⊗f1112∧f11122, e2⊗h1⊗f1112∧f112, e2⊗h1⊗f1112∧f12, e2⊗h1⊗f1112∧f2, e2⊗h1⊗f11122∧f112, e2⊗h1⊗f11122∧f12, e2⊗h1⊗f11122∧f2, e2⊗h1⊗f112∧f12, e2⊗h1⊗f112∧f2, e2⊗h1⊗f12∧f2, e2⊗h2⊗f1∧f1112, e2⊗h2⊗f1∧f11122, e2⊗h2⊗f1∧f112, e2⊗h2⊗f1∧f12, e2⊗h2⊗f1∧f2, e2⊗h2⊗f1112∧f11122, e2⊗h2⊗f1112∧f112, e2⊗h2⊗f1112∧f12, e2⊗h2⊗f1112∧f2, e2⊗h2⊗f11122∧f112, e2⊗h2⊗f11122∧f12, e2⊗h2⊗f11122∧f2, e2⊗h2⊗f112∧f12, e2⊗h2⊗f112∧f2, e2⊗h2⊗f12∧f2, 1⊗e1∧e1112⊗f1, 1⊗e1∧e1112⊗f1112, 1⊗e1∧e1112⊗f11122, 1⊗e1∧e1112⊗f112, 1⊗e1∧e1112⊗f12, 1⊗e1∧e1112⊗f2, 1⊗e1∧e11122⊗f1, 1⊗e1∧e11122⊗f1112, 1⊗e1∧e11122⊗f11122, 1⊗e1∧e11122⊗f112, 1⊗e1∧e11122⊗f12, 1⊗e1∧e11122⊗f2, 1⊗e1∧e112⊗f1, 1⊗e1∧e112⊗f1112, 1⊗e1∧e112⊗f11122, 1⊗e1∧e112⊗f112, 1⊗e1∧e112⊗f12, 1⊗e1∧e112⊗f2, 1⊗e1∧e12⊗f1, 1⊗e1∧e12⊗f1112, 1⊗e1∧e12⊗f11122, 1⊗e1∧e12⊗f112, 1⊗e1∧e12⊗f12, 1⊗e1∧e12⊗f2, 1⊗e1∧e2⊗f1, 1⊗e1∧e2⊗f1112, 1⊗e1∧e2⊗f11122, 1⊗e1∧e2⊗f112, 1⊗e1∧e2⊗f12, 1⊗e1∧e2⊗f2, 1⊗e1∧f1⊗f1, 1⊗e1∧f1⊗f1112, 1⊗e1∧f1⊗f11122, 1⊗e1∧f1⊗f112, 1⊗e1∧f1⊗f12, 1⊗e1∧f1⊗f2, 1⊗e1∧f1112⊗f1, 1⊗e1∧f1112⊗f1112, 1⊗e1∧f1112⊗f11122, 1⊗e1∧f1112⊗f112, 1⊗e1∧f1112⊗f12, 1⊗e1∧f1112⊗f2, 1⊗e1∧f11122⊗f1, 1⊗e1∧f11122⊗f1112, 1⊗e1∧f11122⊗f11122, 1⊗e1∧f11122⊗f112, 1⊗e1∧f11122⊗f12, 1⊗e1∧f11122⊗f2, 1⊗e1∧f112⊗f1, 1⊗e1∧f112⊗f1112, 1⊗e1∧f112⊗f11122, 1⊗e1∧f112⊗f112, 1⊗e1∧f112⊗f12, 1⊗e1∧f112⊗f2, 1⊗e1∧f12⊗f1, 1⊗e1∧f12⊗f1112, 1⊗e1∧f12⊗f11122, 1⊗e1∧f12⊗f112, 1⊗e1∧f12⊗f12, 1⊗e1∧f12⊗f2, 1⊗e1∧f2⊗f1, 1⊗e1∧f2⊗f1112, 1⊗e1∧f2⊗f11122, 1⊗e1∧f2⊗f112, 1⊗e1∧f2⊗f12, 1⊗e1∧f2⊗f2, 1⊗e1∧h1⊗f1, 1⊗e1∧h1⊗f1112, 1⊗e1∧h1⊗f11122, 1⊗e1∧h1⊗f112, 1⊗e1∧h1⊗f12, 1⊗e1∧h1⊗f2, 1⊗e1∧h2⊗f1, 1⊗e1∧h2⊗f1112, 1⊗e1∧h2⊗f11122, 1⊗e1∧h2⊗f112, 1⊗e1∧h2⊗f12, 1⊗e1∧h2⊗f2, 1⊗e1112∧e11122⊗f1, 1⊗e1112∧e11122⊗f1112, 1⊗e1112∧e11122⊗f11122, 1⊗e1112∧e11122⊗f112, 1⊗e1112∧e11122⊗f12, 1⊗e1112∧e11122⊗f2, 1⊗e1112∧e112⊗f1, 1⊗e1112∧e112⊗f1112, 1⊗e1112∧e112⊗f11122, 1⊗e1112∧e112⊗f112, 1⊗e1112∧e112⊗f12, 1⊗e1112∧e112⊗f2, 1⊗e1112∧e12⊗f1, 1⊗e1112∧e12⊗f1112, 1⊗e1112∧e12⊗f11122, 1⊗e1112∧e12⊗f112, 1⊗e1112∧e12⊗f12, 1⊗e1112∧e12⊗f2, 1⊗e1112∧e2⊗f1, 1⊗e1112∧e2⊗f1112, 1⊗e1112∧e2⊗f11122, 1⊗e1112∧e2⊗f112, 1⊗e1112∧e2⊗f12, 1⊗e1112∧e2⊗f2, 1⊗e1112∧f1⊗f1, 1⊗e1112∧f1⊗f1112, 1⊗e1112∧f1⊗f11122, 1⊗e1112∧f1⊗f112, 1⊗e1112∧f1⊗f12, 1⊗e1112∧f1⊗f2, 1⊗e1112∧f1112⊗f1, 1⊗e1112∧f1112⊗f1112, 1⊗e1112∧f1112⊗f11122, 1⊗e1112∧f1112⊗f112, 1⊗e1112∧f1112⊗f12, 1⊗e1112∧f1112⊗f2, 1⊗e1112∧f11122⊗f1, 1⊗e1112∧f11122⊗f1112, 1⊗e1112∧f11122⊗f11122, 1⊗e1112∧f11122⊗f112, 1⊗e1112∧f11122⊗f12, 1⊗e1112∧f11122⊗f2, 1⊗e1112∧f112⊗f1, 1⊗e1112∧f112⊗f1112, 1⊗e1112∧f112⊗f11122, 1⊗e1112∧f112⊗f112, 1⊗e1112∧f112⊗f12, 1⊗e1112∧f112⊗f2, 1⊗e1112∧f12⊗f1, 1⊗e1112∧f12⊗f1112, 1⊗e1112∧f12⊗f11122, 1⊗e1112∧f12⊗f112, 1⊗e1112∧f12⊗f12, 1⊗e1112∧f12⊗f2, 1⊗e1112∧f2⊗f1, 1⊗e1112∧f2⊗f1112, 1⊗e1112∧f2⊗f11122, 1⊗e1112∧f2⊗f112, 1⊗e1112∧f2⊗f12, 1⊗e1112∧f2⊗f2, 1⊗e1112∧h1⊗f1, 1⊗e1112∧h1⊗f1112, 1⊗e1112∧h1⊗f11122, 1⊗e1112∧h1⊗f112, 1⊗e1112∧h1⊗f12, 1⊗e1112∧h1⊗f2, 1⊗e1112∧h2⊗f1, 1⊗e1112∧h2⊗f1112, 1⊗e1112∧h2⊗f11122, 1⊗e1112∧h2⊗f112, 1⊗e1112∧h2⊗f12, 1⊗e1112∧h2⊗f2, 1⊗e11122∧e112⊗f1, 1⊗e11122∧e112⊗f1112, 1⊗e11122∧e112⊗f11122, 1⊗e11122∧e112⊗f112, 1⊗e11122∧e112⊗f12, 1⊗e11122∧e112⊗f2, 1⊗e11122∧e12⊗f1, 1⊗e11122∧e12⊗f1112, 1⊗e11122∧e12⊗f11122, 1⊗e11122∧e12⊗f112, 1⊗e11122∧e12⊗f12, 1⊗e11122∧e12⊗f2, 1⊗e11122∧e2⊗f1, 1⊗e11122∧e2⊗f1112, 1⊗e11122∧e2⊗f11122, 1⊗e11122∧e2⊗f112, 1⊗e11122∧e2⊗f12, 1⊗e11122∧e2⊗f2, 1⊗e11122∧f1⊗f1, 1⊗e11122∧f1⊗f1112, 1⊗e11122∧f1⊗f11122, 1⊗e11122∧f1⊗f112, 1⊗e11122∧f1⊗f12, 1⊗e11122∧f1⊗f2, 1⊗e11122∧f1112⊗f1, 1⊗e11122∧f1112⊗f1112, 1⊗e11122∧f1112⊗f11122, 1⊗e11122∧f1112⊗f112, 1⊗e11122∧f1112⊗f12, 1⊗e11122∧f1112⊗f2, 1⊗e11122∧f11122⊗f1, 1⊗e11122∧f11122⊗f1112, 1⊗e11122∧f11122⊗f11122, 1⊗e11122∧f11122⊗f112, 1⊗e11122∧f11122⊗f12, 1⊗e11122∧f11122⊗f2, 1⊗e11122∧f112⊗f1, 1⊗e11122∧f112⊗f1112, 1⊗e11122∧f112⊗f11122, 1⊗e11122∧f112⊗f112, 1⊗e11122∧f112⊗f12, 1⊗e11122∧f112⊗f2, 1⊗e11122∧f12⊗f1, 1⊗e11122∧f12⊗f1112, 1⊗e11122∧f12⊗f11122, 1⊗e11122∧f12⊗f112, 1⊗e11122∧f12⊗f12, 1⊗e11122∧f12⊗f2, 1⊗e11122∧f2⊗f1, 1⊗e11122∧f2⊗f1112, 1⊗e11122∧f2⊗f11122, 1⊗e11122∧f2⊗f112, 1⊗e11122∧f2⊗f12, 1⊗e11122∧f2⊗f2, 1⊗e11122∧h1⊗f1, 1⊗e11122∧h1⊗f1112, 1⊗e11122∧h1⊗f11122, 1⊗e11122∧h1⊗f112, 1⊗e11122∧h1⊗f12, 1⊗e11122∧h1⊗f2, 1⊗e11122∧h2⊗f1, 1⊗e11122∧h2⊗f1112, 1⊗e11122∧h2⊗f11122, 1⊗e11122∧h2⊗f112, 1⊗e11122∧h2⊗f12, 1⊗e11122∧h2⊗f2, 1⊗e112∧e12⊗f1, 1⊗e112∧e12⊗f1112, 1⊗e112∧e12⊗f11122, 1⊗e112∧e12⊗f112, 1⊗e112∧e12⊗f12, 1⊗e112∧e12⊗f2, 1⊗e112∧e2⊗f1, 1⊗e112∧e2⊗f1112, 1⊗e112∧e2⊗f11122, 1⊗e112∧e2⊗f112, 1⊗e112∧e2⊗f12, 1⊗e112∧e2⊗f2, 1⊗e112∧f1⊗f1, 1⊗e112∧f1⊗f1112, 1⊗e112∧f1⊗f11122, 1⊗e112∧f1⊗f112, 1⊗e112∧f1⊗f12, 1⊗e112∧f1⊗f2, 1⊗e112∧f1112⊗f1, 1⊗e112∧f1112⊗f1112, 1⊗e112∧f1112⊗f11122, 1⊗e112∧f1112⊗f112, 1⊗e112∧f1112⊗f12, 1⊗e112∧f1112⊗f2, 1⊗e112∧f11122⊗f1, 1⊗e112∧f11122⊗f1112, 1⊗e112∧f11122⊗f11122, 1⊗e112∧f11122⊗f112, 1⊗e112∧f11122⊗f12, 1⊗e112∧f11122⊗f2, 1⊗e112∧f112⊗f1, 1⊗e112∧f112⊗f1112, 1⊗e112∧f112⊗f11122, 1⊗e112∧f112⊗f112, 1⊗e112∧f112⊗f12, 1⊗e112∧f112⊗f2, 1⊗e112∧f12⊗f1, 1⊗e112∧f12⊗f1112, 1⊗e112∧f12⊗f11122, 1⊗e112∧f12⊗f112, 1⊗e112∧f12⊗f12, 1⊗e112∧f12⊗f2, 1⊗e112∧f2⊗f1, 1⊗e112∧f2⊗f1112, 1⊗e112∧f2⊗f11122, 1⊗e112∧f2⊗f112, 1⊗e112∧f2⊗f12, 1⊗e112∧f2⊗f2, 1⊗e112∧h1⊗f1, 1⊗e112∧h1⊗f1112, 1⊗e112∧h1⊗f11122, 1⊗e112∧h1⊗f112, 1⊗e112∧h1⊗f12, 1⊗e112∧h1⊗f2, 1⊗e112∧h2⊗f1, 1⊗e112∧h2⊗f1112, 1⊗e112∧h2⊗f11122, 1⊗e112∧h2⊗f112, 1⊗e112∧h2⊗f12, 1⊗e112∧h2⊗f2, 1⊗e12∧e2⊗f1, 1⊗e12∧e2⊗f1112, 1⊗e12∧e2⊗f11122, 1⊗e12∧e2⊗f112, 1⊗e12∧e2⊗f12, 1⊗e12∧e2⊗f2, 1⊗e12∧f1⊗f1, 1⊗e12∧f1⊗f1112, 1⊗e12∧f1⊗f11122, 1⊗e12∧f1⊗f112, 1⊗e12∧f1⊗f12, 1⊗e12∧f1⊗f2, 1⊗e12∧f1112⊗f1, 1⊗e12∧f1112⊗f1112, 1⊗e12∧f1112⊗f11122, 1⊗e12∧f1112⊗f112, 1⊗e12∧f1112⊗f12, 1⊗e12∧f1112⊗f2, 1⊗e12∧f11122⊗f1, 1⊗e12∧f11122⊗f1112, 1⊗e12∧f11122⊗f11122, 1⊗e12∧f11122⊗f112, 1⊗e12∧f11122⊗f12, 1⊗e12∧f11122⊗f2, 1⊗e12∧f112⊗f1, 1⊗e12∧f112⊗f1112, 1⊗e12∧f112⊗f11122, 1⊗e12∧f112⊗f112, 1⊗e12∧f112⊗f12, 1⊗e12∧f112⊗f2, 1⊗e12∧f12⊗f1, 1⊗e12∧f12⊗f1112, 1⊗e12∧f12⊗f11122, 1⊗e12∧f12⊗f112, 1⊗e12∧f12⊗f12, 1⊗e12∧f12⊗f2, 1⊗e12∧f2⊗f1, 1⊗e12∧f2⊗f1112, 1⊗e12∧f2⊗f11122, 1⊗e12∧f2⊗f112, 1⊗e12∧f2⊗f12, 1⊗e12∧f2⊗f2, 1⊗e12∧h1⊗f1, 1⊗e12∧h1⊗f1112, 1⊗e12∧h1⊗f11122, 1⊗e12∧h1⊗f112, 1⊗e12∧h1⊗f12, 1⊗e12∧h1⊗f2, 1⊗e12∧h2⊗f1, 1⊗e12∧h2⊗f1112, 1⊗e12∧h2⊗f11122, 1⊗e12∧h2⊗f112, 1⊗e12∧h2⊗f12, 1⊗e12∧h2⊗f2, 1⊗e2∧f1⊗f1, 1⊗e2∧f1⊗f1112, 1⊗e2∧f1⊗f11122, 1⊗e2∧f1⊗f112, 1⊗e2∧f1⊗f12, 1⊗e2∧f1⊗f2, 1⊗e2∧f1112⊗f1, 1⊗e2∧f1112⊗f1112, 1⊗e2∧f1112⊗f11122, 1⊗e2∧f1112⊗f112, 1⊗e2∧f1112⊗f12, 1⊗e2∧f1112⊗f2, 1⊗e2∧f11122⊗f1, 1⊗e2∧f11122⊗f1112, 1⊗e2∧f11122⊗f11122, 1⊗e2∧f11122⊗f112, 1⊗e2∧f11122⊗f12, 1⊗e2∧f11122⊗f2, 1⊗e2∧f112⊗f1, 1⊗e2∧f112⊗f1112, 1⊗e2∧f112⊗f11122, 1⊗e2∧f112⊗f112, 1⊗e2∧f112⊗f12, 1⊗e2∧f112⊗f2, 1⊗e2∧f12⊗f1, 1⊗e2∧f12⊗f1112, 1⊗e2∧f12⊗f11122, 1⊗e2∧f12⊗f112, 1⊗e2∧f12⊗f12, 1⊗e2∧f12⊗f2, 1⊗e2∧f2⊗f1, 1⊗e2∧f2⊗f1112, 1⊗e2∧f2⊗f11122, 1⊗e2∧f2⊗f112, 1⊗e2∧f2⊗f12, 1⊗e2∧f2⊗f2, 1⊗e2∧h1⊗f1, 1⊗e2∧h1⊗f1112, 1⊗e2∧h1⊗f11122, 1⊗e2∧h1⊗f112, 1⊗e2∧h1⊗f12, 1⊗e2∧h1⊗f2, 1⊗e2∧h2⊗f1, 1⊗e2∧h2⊗f1112, 1⊗e2∧h2⊗f11122, 1⊗e2∧h2⊗f112, 1⊗e2∧h2⊗f12, 1⊗e2∧h2⊗f2, 1⊗f1∧f1112⊗f1, 1⊗f1∧f1112⊗f1112, 1⊗f1∧f1112⊗f11122, 1⊗f1∧f1112⊗f112, 1⊗f1∧f1112⊗f12, 1⊗f1∧f1112⊗f2, 1⊗f1∧f11122⊗f1, 1⊗f1∧f11122⊗f1112, 1⊗f1∧f11122⊗f11122, 1⊗f1∧f11122⊗f112, 1⊗f1∧f11122⊗f12, 1⊗f1∧f11122⊗f2, 1⊗f1∧f112⊗f1, 1⊗f1∧f112⊗f1112, 1⊗f1∧f112⊗f11122, 1⊗f1∧f112⊗f112, 1⊗f1∧f112⊗f12, 1⊗f1∧f112⊗f2, 1⊗f1∧f12⊗f1, 1⊗f1∧f12⊗f1112, 1⊗f1∧f12⊗f11122, 1⊗f1∧f12⊗f112, 1⊗f1∧f12⊗f12, 1⊗f1∧f12⊗f2, 1⊗f1∧f2⊗f1, 1⊗f1∧f2⊗f1112, 1⊗f1∧f2⊗f11122, 1⊗f1∧f2⊗f112, 1⊗f1∧f2⊗f12, 1⊗f1∧f2⊗f2, 1⊗f1∧h1⊗f1, 1⊗f1∧h1⊗f1112, 1⊗f1∧h1⊗f11122, 1⊗f1∧h1⊗f112, 1⊗f1∧h1⊗f12, 1⊗f1∧h1⊗f2, 1⊗f1∧h2⊗f1, 1⊗f1∧h2⊗f1112, 1⊗f1∧h2⊗f11122, 1⊗f1∧h2⊗f112, 1⊗f1∧h2⊗f12, 1⊗f1∧h2⊗f2, 1⊗f1112∧f11122⊗f1, 1⊗f1112∧f11122⊗f1112, 1⊗f1112∧f11122⊗f11122, 1⊗f1112∧f11122⊗f112, 1⊗f1112∧f11122⊗f12, 1⊗f1112∧f11122⊗f2, 1⊗f1112∧f112⊗f1, 1⊗f1112∧f112⊗f1112, 1⊗f1112∧f112⊗f11122, 1⊗f1112∧f112⊗f112, 1⊗f1112∧f112⊗f12, 1⊗f1112∧f112⊗f2, 1⊗f1112∧f12⊗f1, 1⊗f1112∧f12⊗f1112, 1⊗f1112∧f12⊗f11122, 1⊗f1112∧f12⊗f112, 1⊗f1112∧f12⊗f12, 1⊗f1112∧f12⊗f2, 1⊗f1112∧f2⊗f1, 1⊗f1112∧f2⊗f1112, 1⊗f1112∧f2⊗f11122, 1⊗f1112∧f2⊗f112, 1⊗f1112∧f2⊗f12, 1⊗f1112∧f2⊗f2, 1⊗f1112∧h1⊗f1, 1⊗f1112∧h1⊗f1112, 1⊗f1112∧h1⊗f11122, 1⊗f1112∧h1⊗f112, 1⊗f1112∧h1⊗f12, 1⊗f1112∧h1⊗f2, 1⊗f1112∧h2⊗f1, 1⊗f1112∧h2⊗f1112, 1⊗f1112∧h2⊗f11122, 1⊗f1112∧h2⊗f112, 1⊗f1112∧h2⊗f12, 1⊗f1112∧h2⊗f2, 1⊗f11122∧f112⊗f1, 1⊗f11122∧f112⊗f1112, 1⊗f11122∧f112⊗f11122, 1⊗f11122∧f112⊗f112, 1⊗f11122∧f112⊗f12, 1⊗f11122∧f112⊗f2, 1⊗f11122∧f12⊗f1, 1⊗f11122∧f12⊗f1112, 1⊗f11122∧f12⊗f11122, 1⊗f11122∧f12⊗f112, 1⊗f11122∧f12⊗f12, 1⊗f11122∧f12⊗f2, 1⊗f11122∧f2⊗f1, 1⊗f11122∧f2⊗f1112, 1⊗f11122∧f2⊗f11122, 1⊗f11122∧f2⊗f112, 1⊗f11122∧f2⊗f12, 1⊗f11122∧f2⊗f2, 1⊗f11122∧h1⊗f1, 1⊗f11122∧h1⊗f1112, 1⊗f11122∧h1⊗f11122, 1⊗f11122∧h1⊗f112, 1⊗f11122∧h1⊗f12, 1⊗f11122∧h1⊗f2, 1⊗f11122∧h2⊗f1, 1⊗f11122∧h2⊗f1112, 1⊗f11122∧h2⊗f11122, 1⊗f11122∧h2⊗f112, 1⊗f11122∧h2⊗f12, 1⊗f11122∧h2⊗f2, 1⊗f112∧f12⊗f1, 1⊗f112∧f12⊗f1112, 1⊗f112∧f12⊗f11122, 1⊗f112∧f12⊗f112, 1⊗f112∧f12⊗f12, 1⊗f112∧f12⊗f2, 1⊗f112∧f2⊗f1, 1⊗f112∧f2⊗f1112, 1⊗f112∧f2⊗f11122, 1⊗f112∧f2⊗f112, 1⊗f112∧f2⊗f12, 1⊗f112∧f2⊗f2, 1⊗f112∧h1⊗f1, 1⊗f112∧h1⊗f1112, 1⊗f112∧h1⊗f11122, 1⊗f112∧h1⊗f112, 1⊗f112∧h1⊗f12, 1⊗f112∧h1⊗f2, 1⊗f112∧h2⊗f1, 1⊗f112∧h2⊗f1112, 1⊗f112∧h2⊗f11122, 1⊗f112∧h2⊗f112, 1⊗f112∧h2⊗f12, 1⊗f112∧h2⊗f2, 1⊗f12∧f2⊗f1, 1⊗f12∧f2⊗f1112, 1⊗f12∧f2⊗f11122, 1⊗f12∧f2⊗f112, 1⊗f12∧f2⊗f12, 1⊗f12∧f2⊗f2, 1⊗f12∧h1⊗f1, 1⊗f12∧h1⊗f1112, 1⊗f12∧h1⊗f11122, 1⊗f12∧h1⊗f112, 1⊗f12∧h1⊗f12, 1⊗f12∧h1⊗f2, 1⊗f12∧h2⊗f1, 1⊗f12∧h2⊗f1112, 1⊗f12∧h2⊗f11122, 1⊗f12∧h2⊗f112, 1⊗f12∧h2⊗f12, 1⊗f12∧h2⊗f2, 1⊗f2∧h1⊗f1, 1⊗f2∧h1⊗f1112, 1⊗f2∧h1⊗f11122, 1⊗f2∧h1⊗f112, 1⊗f2∧h1⊗f12, 1⊗f2∧h1⊗f2, 1⊗f2∧h2⊗f1, 1⊗f2∧h2⊗f1112, 1⊗f2∧h2⊗f11122, 1⊗f2∧h2⊗f112, 1⊗f2∧h2⊗f12, 1⊗f2∧h2⊗f2, 1⊗h1∧h2⊗f1, 1⊗h1∧h2⊗f1112, 1⊗h1∧h2⊗f11122, 1⊗h1∧h2⊗f112, 1⊗h1∧h2⊗f12, 1⊗h1∧h2⊗f2}"
      ]
     },
     "execution_count": 98,
     "metadata": {},
     "output_type": "execute_result"
    }
   ],
   "source": [
    "Mjk.basis_keys"
   ]
  },
  {
   "cell_type": "markdown",
   "metadata": {},
   "source": [
    "This doesn't work because while Tjk preserves jk, it doesn't preserve r. We should see if we get intersections if we just take the join instead of the direct sum. If so, we will have to manually insert 1's, and make it a bit more complicated, but whatever."
   ]
  },
  {
   "cell_type": "code",
   "execution_count": 111,
   "metadata": {},
   "outputs": [
    {
     "name": "stdout",
     "output_type": "stream",
     "text": [
      "e1⊙e1⊗1⊗f1∧f1112∧f11122\n",
      "[e1⊙e1, 1, f1∧f1112∧f11122]\n",
      "['e1', 'e1']\n"
     ]
    },
    {
     "data": {
      "text/plain": [
       "'e1'"
      ]
     },
     "execution_count": 111,
     "metadata": {},
     "output_type": "execute_result"
    }
   ],
   "source": [
    "elt=Mjk.basis_keys.an_element()\n",
    "print(elt)\n",
    "elts=elt.key.keys\n",
    "print(elts)\n",
    "elts=elts[0].keys\n",
    "print(elts)\n",
    "elts[0]"
   ]
  },
  {
   "cell_type": "code",
   "execution_count": 113,
   "metadata": {},
   "outputs": [
    {
     "data": {
      "text/plain": [
       "{'e1': alpha[1],\n",
       " 'e1112': 3*alpha[1] + alpha[2],\n",
       " 'e11122': 3*alpha[1] + 2*alpha[2],\n",
       " 'e112': 2*alpha[1] + alpha[2],\n",
       " 'e12': alpha[1] + alpha[2],\n",
       " 'e2': alpha[2],\n",
       " 'f1': -alpha[1],\n",
       " 'f1112': -3*alpha[1] - alpha[2],\n",
       " 'f11122': -3*alpha[1] - 2*alpha[2],\n",
       " 'f112': -2*alpha[1] - alpha[2],\n",
       " 'f12': -alpha[1] - alpha[2],\n",
       " 'f2': -alpha[2],\n",
       " 'h1': alphacheck[1],\n",
       " 'h2': alphacheck[2]}"
      ]
     },
     "execution_count": 113,
     "metadata": {},
     "output_type": "execute_result"
    }
   ],
   "source": [
    "factory.string_to_root"
   ]
  },
  {
   "cell_type": "code",
   "execution_count": 125,
   "metadata": {},
   "outputs": [
    {
     "data": {
      "text/plain": [
       "-5*alpha[1] - 3*alpha[2]"
      ]
     },
     "execution_count": 125,
     "metadata": {},
     "output_type": "execute_result"
    }
   ],
   "source": [
    "def get_weight(obj):\n",
    "    if isinstance(obj,(TensorProduct,SymmetricProduct,AlternatingProduct)):\n",
    "        return sum(get_weight(k) for k in obj.keys)\n",
    "    elif isinstance(obj,DirectSum):\n",
    "        return get_weight(obj.key)\n",
    "    elif isinstance(obj,str):\n",
    "        return factory.string_to_root[obj]\n",
    "    else:\n",
    "        return 0\n",
    "get_weight(Mjk.basis_keys.an_element())"
   ]
  },
  {
   "cell_type": "code",
   "execution_count": null,
   "metadata": {},
   "outputs": [],
   "source": []
  }
 ],
 "metadata": {
  "kernelspec": {
   "display_name": "SageMath 8.6",
   "language": "",
   "name": "sagemath"
  },
  "language_info": {
   "codemirror_mode": {
    "name": "ipython",
    "version": 2
   },
   "file_extension": ".py",
   "mimetype": "text/x-python",
   "name": "python",
   "nbconvert_exporter": "python",
   "pygments_lexer": "ipython2",
   "version": "2.7.15"
  }
 },
 "nbformat": 4,
 "nbformat_minor": 2
}
