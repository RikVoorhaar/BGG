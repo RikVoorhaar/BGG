{
 "cells": [
  {
   "cell_type": "code",
   "execution_count": 1,
   "metadata": {},
   "outputs": [],
   "source": [
    "from bggcomplex import BGGComplex\n",
    "from fast_module import FastLieAlgebraCompositeModule, FastModuleFactory, BGGCohomology\n",
    "import numpy as np\n",
    "%load_ext cython"
   ]
  },
  {
   "cell_type": "code",
   "execution_count": 3,
   "metadata": {},
   "outputs": [],
   "source": [
    "d='A2'\n",
    "BGG = BGGComplex(d)\n",
    "f_factory = FastModuleFactory(BGG.LA)\n",
    "component_dic = {'b':f_factory.build_component('b','ad'),'u':f_factory.build_component('g','ad')}\n",
    "components = [[(\"b\",2,'sym')],[('b',2,'wedge')]]\n",
    "\n",
    "module = FastLieAlgebraCompositeModule(f_factory.weight_dic, components, component_dic)\n",
    "\n",
    "cohom = BGGCohomology(BGG, module)"
   ]
  },
  {
   "cell_type": "code",
   "execution_count": 4,
   "metadata": {},
   "outputs": [
    {
     "data": {
      "text/plain": [
       "{0: array([-1, -1], dtype=int32),\n",
       " 1: array([-1,  0], dtype=int32),\n",
       " 2: array([ 0, -1], dtype=int32),\n",
       " 3: array([0, 0], dtype=int32),\n",
       " 4: array([0, 0], dtype=int32),\n",
       " 5: array([1, 1], dtype=int32),\n",
       " 6: array([0, 1], dtype=int32),\n",
       " 7: array([1, 0], dtype=int32)}"
      ]
     },
     "execution_count": 4,
     "metadata": {},
     "output_type": "execute_result"
    }
   ],
   "source": [
    "module.weight_dic"
   ]
  },
  {
   "cell_type": "code",
   "execution_count": 5,
   "metadata": {},
   "outputs": [
    {
     "data": {
      "text/plain": [
       "{(-2, -2): [(0, array([[0, 0]], dtype=int32))],\n",
       " (-2, -1): [(0, array([[0, 1]], dtype=int32)),\n",
       "  (1, array([[0, 1]], dtype=int32))],\n",
       " (-2, 0): [(0, array([[1, 1]], dtype=int32))],\n",
       " (-1, -2): [(0, array([[0, 2]], dtype=int32)),\n",
       "  (1, array([[0, 2]], dtype=int32))],\n",
       " (-1, -1): [(0, array([[0, 3],\n",
       "          [0, 4],\n",
       "          [1, 2]], dtype=int32)), (1, array([[0, 3],\n",
       "          [0, 4],\n",
       "          [1, 2]], dtype=int32))],\n",
       " (-1, 0): [(0, array([[1, 3],\n",
       "          [1, 4]], dtype=int32)), (1, array([[1, 3],\n",
       "          [1, 4]], dtype=int32))],\n",
       " (0, -2): [(0, array([[2, 2]], dtype=int32))],\n",
       " (0, -1): [(0, array([[2, 3],\n",
       "          [2, 4]], dtype=int32)), (1, array([[2, 3],\n",
       "          [2, 4]], dtype=int32))],\n",
       " (0, 0): [(0, array([[3, 3],\n",
       "          [3, 4],\n",
       "          [4, 4]], dtype=int32)), (1, array([[3, 4]], dtype=int32))]}"
      ]
     },
     "execution_count": 5,
     "metadata": {},
     "output_type": "execute_result"
    }
   ],
   "source": [
    "module.weight_components"
   ]
  },
  {
   "cell_type": "code",
   "execution_count": 6,
   "metadata": {},
   "outputs": [
    {
     "data": {
      "text/plain": [
       "{0: E[-alpha[1] - alpha[2]],\n",
       " 1: E[-alpha[1]],\n",
       " 2: E[-alpha[2]],\n",
       " 3: h2,\n",
       " 4: h1,\n",
       " 5: E[alpha[1] + alpha[2]],\n",
       " 6: E[alpha[2]],\n",
       " 7: E[alpha[1]]}"
      ]
     },
     "execution_count": 6,
     "metadata": {},
     "output_type": "execute_result"
    }
   ],
   "source": [
    "f_factory.index_to_lie_algebra"
   ]
  },
  {
   "cell_type": "code",
   "execution_count": 7,
   "metadata": {},
   "outputs": [
    {
     "data": {
      "text/plain": [
       "{(-2, -2): [(0, array([[0, 0]], dtype=int32))],\n",
       " (-2, -1): [(0, array([[0, 1]], dtype=int32)),\n",
       "  (1, array([[0, 1]], dtype=int32))],\n",
       " (-2, 0): [(0, array([[1, 1]], dtype=int32))],\n",
       " (-1, -2): [(0, array([[0, 2]], dtype=int32)),\n",
       "  (1, array([[0, 2]], dtype=int32))],\n",
       " (-1, -1): [(0, array([[0, 3],\n",
       "          [0, 4],\n",
       "          [1, 2]], dtype=int32)), (1, array([[0, 3],\n",
       "          [0, 4],\n",
       "          [1, 2]], dtype=int32))],\n",
       " (-1, 0): [(0, array([[1, 3],\n",
       "          [1, 4]], dtype=int32)), (1, array([[1, 3],\n",
       "          [1, 4]], dtype=int32))],\n",
       " (0, -2): [(0, array([[2, 2]], dtype=int32))],\n",
       " (0, -1): [(0, array([[2, 3],\n",
       "          [2, 4]], dtype=int32)), (1, array([[2, 3],\n",
       "          [2, 4]], dtype=int32))],\n",
       " (0, 0): [(0, array([[3, 3],\n",
       "          [3, 4],\n",
       "          [4, 4]], dtype=int32)), (1, array([[3, 4]], dtype=int32))]}"
      ]
     },
     "execution_count": 7,
     "metadata": {},
     "output_type": "execute_result"
    }
   ],
   "source": [
    "module.weight_components"
   ]
  },
  {
   "cell_type": "code",
   "execution_count": 8,
   "metadata": {},
   "outputs": [],
   "source": [
    "def get_action_tensor(action_mat):\n",
    "    max_ind = 0 \n",
    "    for _,j in action_mat.keys():\n",
    "        if j > max_ind: \n",
    "            max_ind = j\n",
    "    max_ind+=1\n",
    "\n",
    "    dim_n = len(f_factory.basis['n'])\n",
    "\n",
    "    extra_rows = [0]*max_ind\n",
    "    for (_,j), v in action_mat.items():\n",
    "        if len(v)>1:\n",
    "            extra_rows[j]+=len(v)-1\n",
    "    n_extra_rows = max(extra_rows)\n",
    "\n",
    "    action_tensor = np.zeros((dim_n+n_extra_rows, max_ind, 3),np.int64)\n",
    "    s_values = np.zeros(max_ind,np.int64)+dim_n\n",
    "    for (i,j), v in action_mat.items():\n",
    "        l = len(v)\n",
    "        if l == 1:\n",
    "            k,C_ijk = v.items()[0]\n",
    "            action_tensor[i,j] = (-1, k, C_ijk)\n",
    "        else: # l>0\n",
    "            s= s_values[j]\n",
    "            s_values[j]+=1\n",
    "            k,C_ijk = v.items()[0]\n",
    "            action_tensor[i,j] = (s, k, C_ijk)\n",
    "            count = 0\n",
    "            for k,C_ijk in v.items()[1:]:\n",
    "                count+=1\n",
    "                if count>=l-1:\n",
    "                    action_tensor[s,j] = (-1,k, C_ijk)\n",
    "                else:\n",
    "                    action_tensor[s,j] = (s+1,k,C_ijk)\n",
    "                s= s_values[j]\n",
    "                s_values[j]+=1\n",
    "    return action_tensor"
   ]
  },
  {
   "cell_type": "code",
   "execution_count": 9,
   "metadata": {},
   "outputs": [],
   "source": [
    "action_tensor_dic = dict()\n",
    "for key,mod in module.component_dic.items():\n",
    "    action_tensor_dic[key] = get_action_tensor(mod.action)\n",
    "module.action_tensor_dic = action_tensor_dic"
   ]
  },
  {
   "cell_type": "code",
   "execution_count": 10,
   "metadata": {},
   "outputs": [
    {
     "data": {
      "text/plain": [
       "array([[[ 0,  0,  0],\n",
       "        [ 0,  0,  0],\n",
       "        [ 0,  0,  0],\n",
       "        [-1,  0,  1],\n",
       "        [-1,  0,  1]],\n",
       "\n",
       "       [[ 0,  0,  0],\n",
       "        [ 0,  0,  0],\n",
       "        [-1,  0,  1],\n",
       "        [-1,  1, -1],\n",
       "        [-1,  1,  2]],\n",
       "\n",
       "       [[ 0,  0,  0],\n",
       "        [-1,  0, -1],\n",
       "        [ 0,  0,  0],\n",
       "        [-1,  2,  2],\n",
       "        [-1,  2, -1]]])"
      ]
     },
     "execution_count": 10,
     "metadata": {},
     "output_type": "execute_result"
    }
   ],
   "source": [
    "module.action_tensor_dic['b']"
   ]
  },
  {
   "cell_type": "code",
   "execution_count": 11,
   "metadata": {},
   "outputs": [
    {
     "data": {
      "text/plain": [
       "[[('b', 2, 'sym')], [('b', 2, 'wedge')]]"
      ]
     },
     "execution_count": 11,
     "metadata": {},
     "output_type": "execute_result"
    }
   ],
   "source": [
    "module.components"
   ]
  },
  {
   "cell_type": "code",
   "execution_count": 12,
   "metadata": {},
   "outputs": [],
   "source": [
    "%%cython\n",
    "#cython: language_level = 2 \n",
    "import numpy as np\n",
    "cimport numpy as np\n",
    "\n",
    "from sage.matrix.constructor import matrix\n",
    "from sage.rings.integer_ring import ZZ\n",
    "\n",
    "cdef compute_action(acting_element, action_source, module):\n",
    "    action_image = np.zeros_like(action_source)\n",
    "    type_list = module.type_lists[0]\n",
    "    cdef image_row = 0\n",
    "    cdef max_rows = len(action_image)\n",
    "\n",
    "    cdef int row,j\n",
    "    for col,mod_type in enumerate(type_list):\n",
    "        action_tensor = module.action_tensor_dic[mod_type]\n",
    "        for row in range(len(action_source)):\n",
    "            j = action_source[row,col]\n",
    "            s,k,Cijk = action_tensor[acting_element,j]\n",
    "            while s!=0:\n",
    "                new_row = action_source[row].copy()\n",
    "                new_row[col] = k\n",
    "                new_row[-1]*=Cijk\n",
    "                action_image[image_row] = new_row\n",
    "                if s==-1:\n",
    "                    s=0\n",
    "                else:\n",
    "                    s,k,Cijk = action_tensor[s,j]\n",
    "                image_row+=1\n",
    "                if image_row>=max_rows: # double size of image matrix if we run out of space\n",
    "                    action_image = np.concatenate([action_image,np.zeros_like(action_image)])\n",
    "                    max_rows = len(action_image)\n",
    "    return action_image[:image_row]\n",
    "\n",
    "cdef check_equal(long [:] row1,long [:] row2,int num_cols):\n",
    "    cdef int i\n",
    "    for i in range(num_cols):\n",
    "        if row1[i]!=row2[i]:\n",
    "            return False\n",
    "    else:\n",
    "        return True\n",
    "    \n",
    "cdef col_nonzero(long [:] col, int num_rows):\n",
    "    \"\"\"return non-zero indices of a column. np.nonzero doesn't seem to work well with memoryviews.\"\"\"\n",
    "\n",
    "    indices = np.zeros(num_rows,np.int32)\n",
    "    cdef int i\n",
    "    cdef int j = 0\n",
    "    for i in range(num_rows):\n",
    "        if col[i]!=0:\n",
    "            indices[j]=i\n",
    "            j+=1\n",
    "    return indices[:j]\n",
    "\n",
    "cdef merge_sorted_image(long [:,:] action_image):\n",
    "    merged_image = np.zeros_like(action_image)\n",
    "    \n",
    "    cdef long[:] old_row\n",
    "    cdef long[:] row\n",
    "    old_row = np.zeros_like(action_image[0])-1\n",
    "    \n",
    "    cdef int row_number = -1\n",
    "    cdef int num_cols = action_image.shape[1]-1\n",
    "    cdef int num_rows = action_image.shape[0]\n",
    "    \n",
    "    cdef int i\n",
    "    for i in range(num_rows):\n",
    "        row = action_image[i]\n",
    "        if row[-1]!=0:\n",
    "            if check_equal(row,old_row,num_cols):\n",
    "                merged_image[row_number,-1] += row[-1]\n",
    "            else:\n",
    "                row_number+=1\n",
    "                merged_image[row_number]=row\n",
    "                old_row = row\n",
    "    row_number+=1\n",
    "    non_zero_inds = col_nonzero(merged_image[:row_number,-1],row_number)\n",
    "    return merged_image[non_zero_inds,:]\n",
    "    \n",
    "def sort_merge(action_image):\n",
    "    action_image = action_image[np.lexsort(np.transpose(action_image[:,:-1]))]\n",
    "    return merge_sorted_image(action_image)\n",
    "\n",
    "cdef permutation_sign(long [:] row,int num_cols):\n",
    "    cdef int sign = 1\n",
    "    cdef int i,j\n",
    "    for i in range(num_cols):\n",
    "        for j in range(i+1,num_cols):\n",
    "            if row[i]==row[j]:\n",
    "                return 0\n",
    "            elif row[i]>row[j]:\n",
    "                sign*=-1\n",
    "    return sign\n",
    "\n",
    "cdef sort_cols(module, action_image,comp_num):\n",
    "    cdef int col_min = 0\n",
    "    cdef int num_rows = len(action_image)\n",
    "    cdef int i\n",
    "    cdef long[:] row\n",
    "    \n",
    "    for _,cols,mod_type in module.components[comp_num]:\n",
    "        if cols>1: # List with one item is always sorted\n",
    "            if mod_type == 'wedge':\n",
    "                for i in range(num_rows):\n",
    "                    row = action_image[i,col_min:col_min+cols]\n",
    "                    action_image[i,-1]*=permutation_sign(row,cols)\n",
    "            action_image[:,col_min:col_min+cols] = np.sort(action_image[:,col_min:col_min+cols])\n",
    "        col_min+=cols\n",
    "        \n",
    "cpdef action_on_basis(pbw_elt,wmbase,module,factory,comp_num):\n",
    "    num_cols = wmbase.shape[1]\n",
    "    action_list = []\n",
    "    action_source = np.zeros((wmbase.shape[0], num_cols+2),np.int64)\n",
    "    action_source[:,:num_cols] = wmbase\n",
    "    action_source[:,num_cols] = np.arange(len(wmbase))\n",
    "    action_source[:,-1] = 1\n",
    "    for monomial,coefficient in pbw_elt.monomial_coefficients().items():\n",
    "        action_image = action_source.copy()\n",
    "        action_image[:,-1]*=coefficient\n",
    "        for term in monomial.to_word_list()[::-1]:\n",
    "            index = factory.root_to_index[term]\n",
    "            action_image = compute_action(index, action_image,module)\n",
    "        action_list.append(action_image)\n",
    "    action_image = np.concatenate(action_list)\n",
    "    sort_cols(module,action_image,comp_num)\n",
    "    return sort_merge(action_image)\n",
    "\n",
    "\n",
    "\n",
    "def compute_diff(cohom,mu,i):\n",
    "    BGG = cohom.BGG\n",
    "    module = cohom.weight_module\n",
    "    factory =  module.component_dic.values()[0].factory\n",
    "    \n",
    "    vertex_weights = cohom.weight_set.get_vertex_weights(mu)\n",
    "    maps = BGG.compute_maps(BGG.weight_to_alpha_sum(BGG._tuple_to_weight(mu)),check=True)\n",
    "    column = BGG.column[i]\n",
    "    delta_i_arrows = [(w, [arrow for arrow in BGG.arrows if arrow[0] == w]) for w in column]\n",
    "\n",
    "    source_dim = 0\n",
    "    for w in column:\n",
    "        initial_vertex = vertex_weights[w]\n",
    "        if initial_vertex in cohom.weights:\n",
    "            source_dim += cohom.weight_module.dimensions[initial_vertex]\n",
    "\n",
    "    offset = 0\n",
    "    total_diff_list = []\n",
    "    for comp_num in range(len(module.components)):\n",
    "        total_diff=[]\n",
    "        for w, arrows in delta_i_arrows:\n",
    "            initial_vertex = vertex_weights[w]\n",
    "            if initial_vertex in cohom.weights: # Ensure weight component isn't empty\n",
    "                action_images = []\n",
    "                max_ind = 0\n",
    "                for a in arrows:\n",
    "                    sign = BGG.signs[a]\n",
    "                    weight_comp = module.weight_components[initial_vertex][comp_num][-1]\n",
    "                    action_images.append(action_on_basis(maps[a]*sign,weight_comp,module,factory,comp_num))\n",
    "                    max_ind = max(max_ind,action_images[-1][-1,-2])\n",
    "                sub_diff = np.concatenate(action_images)\n",
    "                sub_diff[:,-2]+=offset\n",
    "                offset+=max_ind+1\n",
    "                total_diff.append(sub_diff)\n",
    "        total_diff = np.concatenate(total_diff)\n",
    "        total_diff = total_diff[np.lexsort(np.transpose(total_diff[:,:-2]))]\n",
    "        total_diff_list.append(total_diff)\n",
    "        \n",
    "    total_length = sum(len(diff) for diff in total_diff_list)\n",
    "    diff_entries = np.zeros((total_length,3),np.int64)\n",
    "    j = -1\n",
    "    offset=0\n",
    "    for total_diff in total_diff_list:\n",
    "        prev_row = np.zeros_like(total_diff[0,:-2])-1\n",
    "        for i in range(len(total_diff)):\n",
    "            row_num = i+offset\n",
    "            row = total_diff[i,:-2]\n",
    "            if np.any(np.not_equal(row,prev_row)):\n",
    "                j+=1\n",
    "                prev_row = row\n",
    "            diff_entries[row_num,0] = j\n",
    "            diff_entries[row_num,1:] = total_diff[i,-2:]\n",
    "        offset+=len(total_diff)\n",
    "    j+=1\n",
    "\n",
    "    d_dense = matrix(ZZ,j,max(diff_entries[:,1])+1)\n",
    "    for i in range(len(diff_entries)):\n",
    "        d_dense[diff_entries[i,0],diff_entries[i,1]] = diff_entries[i,2]\n",
    "        \n",
    "    return d_dense"
   ]
  },
  {
   "cell_type": "code",
   "execution_count": 13,
   "metadata": {},
   "outputs": [
    {
     "ename": "ImportError",
     "evalue": "Building module cohomology failed: [\"CompileError: command 'gcc' failed with exit status 1\\n\"]",
     "output_type": "error",
     "traceback": [
      "\u001b[0;31m---------------------------------------------------------------------------\u001b[0m",
      "\u001b[0;31mImportError\u001b[0m                               Traceback (most recent call last)",
      "\u001b[0;32m<ipython-input-13-38ba10c7fa86>\u001b[0m in \u001b[0;36m<module>\u001b[0;34m()\u001b[0m\n\u001b[1;32m      1\u001b[0m \u001b[0;32mimport\u001b[0m \u001b[0mpyximport\u001b[0m\u001b[0;34m\u001b[0m\u001b[0m\n\u001b[1;32m      2\u001b[0m \u001b[0mpyximport\u001b[0m\u001b[0;34m.\u001b[0m\u001b[0minstall\u001b[0m\u001b[0;34m(\u001b[0m\u001b[0mlanguage_level\u001b[0m\u001b[0;34m=\u001b[0m\u001b[0;36m2\u001b[0m\u001b[0;34m,\u001b[0m\u001b[0;34m)\u001b[0m\u001b[0;34m\u001b[0m\u001b[0m\n\u001b[0;32m----> 3\u001b[0;31m \u001b[0;32mimport\u001b[0m \u001b[0mcohomology\u001b[0m\u001b[0;34m\u001b[0m\u001b[0m\n\u001b[0m",
      "\u001b[0;32m/opt/sagemath-8.6/local/lib/python2.7/site-packages/pyximport/pyximport.py\u001b[0m in \u001b[0;36mload_module\u001b[0;34m(self, fullname)\u001b[0m\n\u001b[1;32m    460\u001b[0m                                  \u001b[0mself\u001b[0m\u001b[0;34m.\u001b[0m\u001b[0mpyxbuild_dir\u001b[0m\u001b[0;34m,\u001b[0m\u001b[0;34m\u001b[0m\u001b[0m\n\u001b[1;32m    461\u001b[0m                                  \u001b[0mbuild_inplace\u001b[0m\u001b[0;34m=\u001b[0m\u001b[0mself\u001b[0m\u001b[0;34m.\u001b[0m\u001b[0minplace\u001b[0m\u001b[0;34m,\u001b[0m\u001b[0;34m\u001b[0m\u001b[0m\n\u001b[0;32m--> 462\u001b[0;31m                                  language_level=self.language_level)\n\u001b[0m\u001b[1;32m    463\u001b[0m         \u001b[0;32mreturn\u001b[0m \u001b[0mmodule\u001b[0m\u001b[0;34m\u001b[0m\u001b[0m\n\u001b[1;32m    464\u001b[0m \u001b[0;34m\u001b[0m\u001b[0m\n",
      "\u001b[0;32m/opt/sagemath-8.6/local/lib/python2.7/site-packages/pyximport/pyximport.py\u001b[0m in \u001b[0;36mload_module\u001b[0;34m(name, pyxfilename, pyxbuild_dir, is_package, build_inplace, language_level, so_path)\u001b[0m\n\u001b[1;32m    231\u001b[0m                 \u001b[0;32mraise\u001b[0m \u001b[0mexc\u001b[0m\u001b[0;34m.\u001b[0m\u001b[0mwith_traceback\u001b[0m\u001b[0;34m(\u001b[0m\u001b[0mtb\u001b[0m\u001b[0;34m)\u001b[0m\u001b[0;34m\u001b[0m\u001b[0m\n\u001b[1;32m    232\u001b[0m             \u001b[0;32melse\u001b[0m\u001b[0;34m:\u001b[0m\u001b[0;34m\u001b[0m\u001b[0m\n\u001b[0;32m--> 233\u001b[0;31m                 \u001b[0;32mexec\u001b[0m\u001b[0;34m(\u001b[0m\u001b[0;34m\"raise exc, None, tb\"\u001b[0m\u001b[0;34m,\u001b[0m \u001b[0;34m{\u001b[0m\u001b[0;34m'exc'\u001b[0m\u001b[0;34m:\u001b[0m \u001b[0mexc\u001b[0m\u001b[0;34m,\u001b[0m \u001b[0;34m'tb'\u001b[0m\u001b[0;34m:\u001b[0m \u001b[0mtb\u001b[0m\u001b[0;34m}\u001b[0m\u001b[0;34m)\u001b[0m\u001b[0;34m\u001b[0m\u001b[0m\n\u001b[0m\u001b[1;32m    234\u001b[0m     \u001b[0;32mreturn\u001b[0m \u001b[0mmod\u001b[0m\u001b[0;34m\u001b[0m\u001b[0m\n\u001b[1;32m    235\u001b[0m \u001b[0;34m\u001b[0m\u001b[0m\n",
      "\u001b[0;32m/opt/sagemath-8.6/local/lib/python2.7/site-packages/pyximport/pyximport.py\u001b[0m in \u001b[0;36mload_module\u001b[0;34m(name, pyxfilename, pyxbuild_dir, is_package, build_inplace, language_level, so_path)\u001b[0m\n\u001b[1;32m    213\u001b[0m                 \u001b[0mmodule_name\u001b[0m \u001b[0;34m=\u001b[0m \u001b[0mname\u001b[0m\u001b[0;34m\u001b[0m\u001b[0m\n\u001b[1;32m    214\u001b[0m             so_path = build_module(module_name, pyxfilename, pyxbuild_dir,\n\u001b[0;32m--> 215\u001b[0;31m                                    inplace=build_inplace, language_level=language_level)\n\u001b[0m\u001b[1;32m    216\u001b[0m         \u001b[0mmod\u001b[0m \u001b[0;34m=\u001b[0m \u001b[0mimp\u001b[0m\u001b[0;34m.\u001b[0m\u001b[0mload_dynamic\u001b[0m\u001b[0;34m(\u001b[0m\u001b[0mname\u001b[0m\u001b[0;34m,\u001b[0m \u001b[0mso_path\u001b[0m\u001b[0;34m)\u001b[0m\u001b[0;34m\u001b[0m\u001b[0m\n\u001b[1;32m    217\u001b[0m         \u001b[0;32mif\u001b[0m \u001b[0mis_package\u001b[0m \u001b[0;32mand\u001b[0m \u001b[0;32mnot\u001b[0m \u001b[0mhasattr\u001b[0m\u001b[0;34m(\u001b[0m\u001b[0mmod\u001b[0m\u001b[0;34m,\u001b[0m \u001b[0;34m'__path__'\u001b[0m\u001b[0;34m)\u001b[0m\u001b[0;34m:\u001b[0m\u001b[0;34m\u001b[0m\u001b[0m\n",
      "\u001b[0;32m/opt/sagemath-8.6/local/lib/python2.7/site-packages/pyximport/pyximport.py\u001b[0m in \u001b[0;36mbuild_module\u001b[0;34m(name, pyxfilename, pyxbuild_dir, inplace, language_level)\u001b[0m\n\u001b[1;32m    189\u001b[0m                                   \u001b[0msetup_args\u001b[0m\u001b[0;34m=\u001b[0m\u001b[0msargs\u001b[0m\u001b[0;34m,\u001b[0m\u001b[0;34m\u001b[0m\u001b[0m\n\u001b[1;32m    190\u001b[0m                                   \u001b[0minplace\u001b[0m\u001b[0;34m=\u001b[0m\u001b[0minplace\u001b[0m\u001b[0;34m,\u001b[0m\u001b[0;34m\u001b[0m\u001b[0m\n\u001b[0;32m--> 191\u001b[0;31m                                   reload_support=pyxargs.reload_support)\n\u001b[0m\u001b[1;32m    192\u001b[0m     \u001b[0;32massert\u001b[0m \u001b[0mos\u001b[0m\u001b[0;34m.\u001b[0m\u001b[0mpath\u001b[0m\u001b[0;34m.\u001b[0m\u001b[0mexists\u001b[0m\u001b[0;34m(\u001b[0m\u001b[0mso_path\u001b[0m\u001b[0;34m)\u001b[0m\u001b[0;34m,\u001b[0m \u001b[0;34m\"Cannot find: %s\"\u001b[0m \u001b[0;34m%\u001b[0m \u001b[0mso_path\u001b[0m\u001b[0;34m\u001b[0m\u001b[0m\n\u001b[1;32m    193\u001b[0m \u001b[0;34m\u001b[0m\u001b[0m\n",
      "\u001b[0;32m/opt/sagemath-8.6/local/lib/python2.7/site-packages/pyximport/pyxbuild.py\u001b[0m in \u001b[0;36mpyx_to_dll\u001b[0;34m(filename, ext, force_rebuild, build_in_temp, pyxbuild_dir, setup_args, reload_support, inplace)\u001b[0m\n\u001b[1;32m    100\u001b[0m     \u001b[0;32mtry\u001b[0m\u001b[0;34m:\u001b[0m\u001b[0;34m\u001b[0m\u001b[0m\n\u001b[1;32m    101\u001b[0m         \u001b[0mobj_build_ext\u001b[0m \u001b[0;34m=\u001b[0m \u001b[0mdist\u001b[0m\u001b[0;34m.\u001b[0m\u001b[0mget_command_obj\u001b[0m\u001b[0;34m(\u001b[0m\u001b[0;34m\"build_ext\"\u001b[0m\u001b[0;34m)\u001b[0m\u001b[0;34m\u001b[0m\u001b[0m\n\u001b[0;32m--> 102\u001b[0;31m         \u001b[0mdist\u001b[0m\u001b[0;34m.\u001b[0m\u001b[0mrun_commands\u001b[0m\u001b[0;34m(\u001b[0m\u001b[0;34m)\u001b[0m\u001b[0;34m\u001b[0m\u001b[0m\n\u001b[0m\u001b[1;32m    103\u001b[0m         \u001b[0mso_path\u001b[0m \u001b[0;34m=\u001b[0m \u001b[0mobj_build_ext\u001b[0m\u001b[0;34m.\u001b[0m\u001b[0mget_outputs\u001b[0m\u001b[0;34m(\u001b[0m\u001b[0;34m)\u001b[0m\u001b[0;34m[\u001b[0m\u001b[0;36m0\u001b[0m\u001b[0;34m]\u001b[0m\u001b[0;34m\u001b[0m\u001b[0m\n\u001b[1;32m    104\u001b[0m         \u001b[0;32mif\u001b[0m \u001b[0mobj_build_ext\u001b[0m\u001b[0;34m.\u001b[0m\u001b[0minplace\u001b[0m\u001b[0;34m:\u001b[0m\u001b[0;34m\u001b[0m\u001b[0m\n",
      "\u001b[0;32m/opt/sagemath-8.6/local/lib/python2.7/distutils/dist.pyc\u001b[0m in \u001b[0;36mrun_commands\u001b[0;34m(self)\u001b[0m\n\u001b[1;32m    951\u001b[0m         \"\"\"\n\u001b[1;32m    952\u001b[0m         \u001b[0;32mfor\u001b[0m \u001b[0mcmd\u001b[0m \u001b[0;32min\u001b[0m \u001b[0mself\u001b[0m\u001b[0;34m.\u001b[0m\u001b[0mcommands\u001b[0m\u001b[0;34m:\u001b[0m\u001b[0;34m\u001b[0m\u001b[0m\n\u001b[0;32m--> 953\u001b[0;31m             \u001b[0mself\u001b[0m\u001b[0;34m.\u001b[0m\u001b[0mrun_command\u001b[0m\u001b[0;34m(\u001b[0m\u001b[0mcmd\u001b[0m\u001b[0;34m)\u001b[0m\u001b[0;34m\u001b[0m\u001b[0m\n\u001b[0m\u001b[1;32m    954\u001b[0m \u001b[0;34m\u001b[0m\u001b[0m\n\u001b[1;32m    955\u001b[0m     \u001b[0;31m# -- Methods that operate on its Commands --------------------------\u001b[0m\u001b[0;34m\u001b[0m\u001b[0;34m\u001b[0m\u001b[0m\n",
      "\u001b[0;32m/opt/sagemath-8.6/local/lib/python2.7/distutils/dist.pyc\u001b[0m in \u001b[0;36mrun_command\u001b[0;34m(self, command)\u001b[0m\n\u001b[1;32m    970\u001b[0m         \u001b[0mcmd_obj\u001b[0m \u001b[0;34m=\u001b[0m \u001b[0mself\u001b[0m\u001b[0;34m.\u001b[0m\u001b[0mget_command_obj\u001b[0m\u001b[0;34m(\u001b[0m\u001b[0mcommand\u001b[0m\u001b[0;34m)\u001b[0m\u001b[0;34m\u001b[0m\u001b[0m\n\u001b[1;32m    971\u001b[0m         \u001b[0mcmd_obj\u001b[0m\u001b[0;34m.\u001b[0m\u001b[0mensure_finalized\u001b[0m\u001b[0;34m(\u001b[0m\u001b[0;34m)\u001b[0m\u001b[0;34m\u001b[0m\u001b[0m\n\u001b[0;32m--> 972\u001b[0;31m         \u001b[0mcmd_obj\u001b[0m\u001b[0;34m.\u001b[0m\u001b[0mrun\u001b[0m\u001b[0;34m(\u001b[0m\u001b[0;34m)\u001b[0m\u001b[0;34m\u001b[0m\u001b[0m\n\u001b[0m\u001b[1;32m    973\u001b[0m         \u001b[0mself\u001b[0m\u001b[0;34m.\u001b[0m\u001b[0mhave_run\u001b[0m\u001b[0;34m[\u001b[0m\u001b[0mcommand\u001b[0m\u001b[0;34m]\u001b[0m \u001b[0;34m=\u001b[0m \u001b[0;36m1\u001b[0m\u001b[0;34m\u001b[0m\u001b[0m\n\u001b[1;32m    974\u001b[0m \u001b[0;34m\u001b[0m\u001b[0m\n",
      "\u001b[0;32m/opt/sagemath-8.6/local/lib/python2.7/site-packages/Cython/Distutils/old_build_ext.py\u001b[0m in \u001b[0;36mrun\u001b[0;34m(self)\u001b[0m\n\u001b[1;32m    184\u001b[0m             \u001b[0moptimization\u001b[0m\u001b[0;34m.\u001b[0m\u001b[0mdisable_optimization\u001b[0m\u001b[0;34m(\u001b[0m\u001b[0;34m)\u001b[0m\u001b[0;34m\u001b[0m\u001b[0m\n\u001b[1;32m    185\u001b[0m \u001b[0;34m\u001b[0m\u001b[0m\n\u001b[0;32m--> 186\u001b[0;31m         \u001b[0m_build_ext\u001b[0m\u001b[0;34m.\u001b[0m\u001b[0mbuild_ext\u001b[0m\u001b[0;34m.\u001b[0m\u001b[0mrun\u001b[0m\u001b[0;34m(\u001b[0m\u001b[0mself\u001b[0m\u001b[0;34m)\u001b[0m\u001b[0;34m\u001b[0m\u001b[0m\n\u001b[0m\u001b[1;32m    187\u001b[0m \u001b[0;34m\u001b[0m\u001b[0m\n\u001b[1;32m    188\u001b[0m     \u001b[0;32mdef\u001b[0m \u001b[0mbuild_extensions\u001b[0m\u001b[0;34m(\u001b[0m\u001b[0mself\u001b[0m\u001b[0;34m)\u001b[0m\u001b[0;34m:\u001b[0m\u001b[0;34m\u001b[0m\u001b[0m\n",
      "\u001b[0;32m/opt/sagemath-8.6/local/lib/python2.7/distutils/command/build_ext.pyc\u001b[0m in \u001b[0;36mrun\u001b[0;34m(self)\u001b[0m\n\u001b[1;32m    338\u001b[0m \u001b[0;34m\u001b[0m\u001b[0m\n\u001b[1;32m    339\u001b[0m         \u001b[0;31m# Now actually compile and link everything.\u001b[0m\u001b[0;34m\u001b[0m\u001b[0;34m\u001b[0m\u001b[0m\n\u001b[0;32m--> 340\u001b[0;31m         \u001b[0mself\u001b[0m\u001b[0;34m.\u001b[0m\u001b[0mbuild_extensions\u001b[0m\u001b[0;34m(\u001b[0m\u001b[0;34m)\u001b[0m\u001b[0;34m\u001b[0m\u001b[0m\n\u001b[0m\u001b[1;32m    341\u001b[0m \u001b[0;34m\u001b[0m\u001b[0m\n\u001b[1;32m    342\u001b[0m     \u001b[0;32mdef\u001b[0m \u001b[0mcheck_extensions_list\u001b[0m\u001b[0;34m(\u001b[0m\u001b[0mself\u001b[0m\u001b[0;34m,\u001b[0m \u001b[0mextensions\u001b[0m\u001b[0;34m)\u001b[0m\u001b[0;34m:\u001b[0m\u001b[0;34m\u001b[0m\u001b[0m\n",
      "\u001b[0;32m/opt/sagemath-8.6/local/lib/python2.7/site-packages/Cython/Distutils/old_build_ext.py\u001b[0m in \u001b[0;36mbuild_extensions\u001b[0;34m(self)\u001b[0m\n\u001b[1;32m    192\u001b[0m         \u001b[0;32mfor\u001b[0m \u001b[0mext\u001b[0m \u001b[0;32min\u001b[0m \u001b[0mself\u001b[0m\u001b[0;34m.\u001b[0m\u001b[0mextensions\u001b[0m\u001b[0;34m:\u001b[0m\u001b[0;34m\u001b[0m\u001b[0m\n\u001b[1;32m    193\u001b[0m             \u001b[0mext\u001b[0m\u001b[0;34m.\u001b[0m\u001b[0msources\u001b[0m \u001b[0;34m=\u001b[0m \u001b[0mself\u001b[0m\u001b[0;34m.\u001b[0m\u001b[0mcython_sources\u001b[0m\u001b[0;34m(\u001b[0m\u001b[0mext\u001b[0m\u001b[0;34m.\u001b[0m\u001b[0msources\u001b[0m\u001b[0;34m,\u001b[0m \u001b[0mext\u001b[0m\u001b[0;34m)\u001b[0m\u001b[0;34m\u001b[0m\u001b[0m\n\u001b[0;32m--> 194\u001b[0;31m             \u001b[0mself\u001b[0m\u001b[0;34m.\u001b[0m\u001b[0mbuild_extension\u001b[0m\u001b[0;34m(\u001b[0m\u001b[0mext\u001b[0m\u001b[0;34m)\u001b[0m\u001b[0;34m\u001b[0m\u001b[0m\n\u001b[0m\u001b[1;32m    195\u001b[0m \u001b[0;34m\u001b[0m\u001b[0m\n\u001b[1;32m    196\u001b[0m     \u001b[0;32mdef\u001b[0m \u001b[0mcython_sources\u001b[0m\u001b[0;34m(\u001b[0m\u001b[0mself\u001b[0m\u001b[0;34m,\u001b[0m \u001b[0msources\u001b[0m\u001b[0;34m,\u001b[0m \u001b[0mextension\u001b[0m\u001b[0;34m)\u001b[0m\u001b[0;34m:\u001b[0m\u001b[0;34m\u001b[0m\u001b[0m\n",
      "\u001b[0;32m/opt/sagemath-8.6/local/lib/python2.7/distutils/command/build_ext.pyc\u001b[0m in \u001b[0;36mbuild_extension\u001b[0;34m(self, ext)\u001b[0m\n\u001b[1;32m    497\u001b[0m                                          \u001b[0mdebug\u001b[0m\u001b[0;34m=\u001b[0m\u001b[0mself\u001b[0m\u001b[0;34m.\u001b[0m\u001b[0mdebug\u001b[0m\u001b[0;34m,\u001b[0m\u001b[0;34m\u001b[0m\u001b[0m\n\u001b[1;32m    498\u001b[0m                                          \u001b[0mextra_postargs\u001b[0m\u001b[0;34m=\u001b[0m\u001b[0mextra_args\u001b[0m\u001b[0;34m,\u001b[0m\u001b[0;34m\u001b[0m\u001b[0m\n\u001b[0;32m--> 499\u001b[0;31m                                          depends=ext.depends)\n\u001b[0m\u001b[1;32m    500\u001b[0m \u001b[0;34m\u001b[0m\u001b[0m\n\u001b[1;32m    501\u001b[0m         \u001b[0;31m# XXX -- this is a Vile HACK!\u001b[0m\u001b[0;34m\u001b[0m\u001b[0;34m\u001b[0m\u001b[0m\n",
      "\u001b[0;32m/opt/sagemath-8.6/local/lib/python2.7/distutils/ccompiler.pyc\u001b[0m in \u001b[0;36mcompile\u001b[0;34m(self, sources, output_dir, macros, include_dirs, debug, extra_preargs, extra_postargs, depends)\u001b[0m\n\u001b[1;32m    572\u001b[0m             \u001b[0;32mexcept\u001b[0m \u001b[0mKeyError\u001b[0m\u001b[0;34m:\u001b[0m\u001b[0;34m\u001b[0m\u001b[0m\n\u001b[1;32m    573\u001b[0m                 \u001b[0;32mcontinue\u001b[0m\u001b[0;34m\u001b[0m\u001b[0m\n\u001b[0;32m--> 574\u001b[0;31m             \u001b[0mself\u001b[0m\u001b[0;34m.\u001b[0m\u001b[0m_compile\u001b[0m\u001b[0;34m(\u001b[0m\u001b[0mobj\u001b[0m\u001b[0;34m,\u001b[0m \u001b[0msrc\u001b[0m\u001b[0;34m,\u001b[0m \u001b[0mext\u001b[0m\u001b[0;34m,\u001b[0m \u001b[0mcc_args\u001b[0m\u001b[0;34m,\u001b[0m \u001b[0mextra_postargs\u001b[0m\u001b[0;34m,\u001b[0m \u001b[0mpp_opts\u001b[0m\u001b[0;34m)\u001b[0m\u001b[0;34m\u001b[0m\u001b[0m\n\u001b[0m\u001b[1;32m    575\u001b[0m \u001b[0;34m\u001b[0m\u001b[0m\n\u001b[1;32m    576\u001b[0m         \u001b[0;31m# Return *all* object filenames, not just the ones we just built.\u001b[0m\u001b[0;34m\u001b[0m\u001b[0;34m\u001b[0m\u001b[0m\n",
      "\u001b[0;32m/opt/sagemath-8.6/local/lib/python2.7/distutils/unixccompiler.py\u001b[0m in \u001b[0;36m_compile\u001b[0;34m(self, obj, src, ext, cc_args, extra_postargs, pp_opts)\u001b[0m\n\u001b[1;32m    124\u001b[0m                        extra_postargs)\n\u001b[1;32m    125\u001b[0m         \u001b[0;32mexcept\u001b[0m \u001b[0mDistutilsExecError\u001b[0m\u001b[0;34m,\u001b[0m \u001b[0mmsg\u001b[0m\u001b[0;34m:\u001b[0m\u001b[0;34m\u001b[0m\u001b[0m\n\u001b[0;32m--> 126\u001b[0;31m             \u001b[0;32mraise\u001b[0m \u001b[0mCompileError\u001b[0m\u001b[0;34m,\u001b[0m \u001b[0mmsg\u001b[0m\u001b[0;34m\u001b[0m\u001b[0m\n\u001b[0m\u001b[1;32m    127\u001b[0m \u001b[0;34m\u001b[0m\u001b[0m\n\u001b[1;32m    128\u001b[0m     def create_static_lib(self, objects, output_libname,\n",
      "\u001b[0;31mImportError\u001b[0m: Building module cohomology failed: [\"CompileError: command 'gcc' failed with exit status 1\\n\"]"
     ]
    }
   ],
   "source": [
    "import pyximport\n",
    "pyximport.install(language_level=2,)\n",
    "import cohomology"
   ]
  },
  {
   "cell_type": "code",
   "execution_count": null,
   "metadata": {
    "scrolled": true
   },
   "outputs": [],
   "source": [
    "compute_diff(cohom,mu,i)"
   ]
  }
 ],
 "metadata": {
  "kernelspec": {
   "display_name": "Python 2",
   "language": "python",
   "name": "python2"
  },
  "language_info": {
   "codemirror_mode": {
    "name": "ipython",
    "version": 2
   },
   "file_extension": ".py",
   "mimetype": "text/x-python",
   "name": "python",
   "nbconvert_exporter": "python",
   "pygments_lexer": "ipython2",
   "version": "2.7.15"
  }
 },
 "nbformat": 4,
 "nbformat_minor": 2
}
