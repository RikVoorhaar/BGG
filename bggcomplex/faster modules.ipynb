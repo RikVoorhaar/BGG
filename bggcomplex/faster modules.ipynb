{
 "cells": [
  {
   "cell_type": "code",
   "execution_count": 1,
   "metadata": {},
   "outputs": [],
   "source": [
    "from bggcomplex import BGGComplex\n",
    "from fast_module import FastLieAlgebraCompositeModule, FastModuleFactory, BGGCohomology\n",
    "import numpy as np\n",
    "%load_ext cython"
   ]
  },
  {
   "cell_type": "code",
   "execution_count": 4,
   "metadata": {},
   "outputs": [],
   "source": [
    "d='A4'\n",
    "BGG = BGGComplex(d)\n",
    "f_factory = FastModuleFactory(BGG.LA)\n",
    "component_dic = {'b':f_factory.build_component('b','ad'),'u':f_factory.build_component('u','coad')}\n"
   ]
  },
  {
   "cell_type": "code",
   "execution_count": 10,
   "metadata": {},
   "outputs": [
    {
     "data": {
      "text/latex": [
       "$$\\mathrm H^{0}=L\\left( 3\\alpha_{1}+ 3\\alpha_{2}+ 2\\alpha_{3}+\\alpha_{4}\\right)\\oplus L\\left(\\alpha_{1}+ 2\\alpha_{2}+ 3\\alpha_{3}+ 3\\alpha_{4}\\right)\\oplus L\\left( 3\\alpha_{1}+ 3\\alpha_{2}+ 3\\alpha_{3}+ 3\\alpha_{4}\\right)\\oplus L\\left( 3\\alpha_{1}+ 3\\alpha_{2}+ 3\\alpha_{3}+ 2\\alpha_{4}\\right)^{2}\\oplus L\\left( 2\\alpha_{1}+ 3\\alpha_{2}+ 2\\alpha_{3}+\\alpha_{4}\\right)^{2}\\oplus L\\left(\\alpha_{1}+ 2\\alpha_{2}+ 3\\alpha_{3}+ 2\\alpha_{4}\\right)^{2}\\oplus L\\left( 2\\alpha_{1}+ 3\\alpha_{2}+ 3\\alpha_{3}+ 3\\alpha_{4}\\right)^{2}\\oplus L\\left( 2\\alpha_{1}+ 3\\alpha_{2}+ 3\\alpha_{3}+ 2\\alpha_{4}\\right)^{4}\\oplus L\\left( 2\\alpha_{1}+ 2\\alpha_{2}+ 2\\alpha_{3}+ 2\\alpha_{4}\\right)^{6}\\oplus L\\left( 2\\alpha_{1}+ 2\\alpha_{2}+ 2\\alpha_{3}+\\alpha_{4}\\right)^{6}\\oplus L\\left(\\alpha_{1}+\\alpha_{2}+\\alpha_{3}+\\alpha_{4}\\right)^{6}\\oplus L\\left(\\alpha_{1}+ 2\\alpha_{2}+ 2\\alpha_{3}+\\alpha_{4}\\right)^{6}\\oplus L\\left(\\alpha_{1}+ 2\\alpha_{2}+ 2\\alpha_{3}+ 2\\alpha_{4}\\right)^{6}$$"
      ],
      "text/plain": [
       "<IPython.core.display.Math object>"
      ]
     },
     "metadata": {},
     "output_type": "display_data"
    }
   ],
   "source": [
    "components = [[(\"u\",1,'wedge'),(\"u\",1,'wedge'),(\"u\",1,'wedge')]]\n",
    "\n",
    "module = FastLieAlgebraCompositeModule(f_factory, components, component_dic)\n",
    "\n",
    "cohom = BGGCohomology(BGG, module)\n",
    "for i in range(10):\n",
    "    cohom.cohomology_LaTeX(i,only_non_zero=True)"
   ]
  },
  {
   "cell_type": "code",
   "execution_count": 52,
   "metadata": {},
   "outputs": [
    {
     "data": {
      "text/plain": [
       "array([[[ 0,  0,  0],\n",
       "        [ 0,  0,  0],\n",
       "        [ 0,  0,  0],\n",
       "        [ 0,  0,  0],\n",
       "        [ 0,  0,  0],\n",
       "        [ 0,  0,  0]],\n",
       "\n",
       "       [[ 0,  0,  0],\n",
       "        [ 0,  0,  0],\n",
       "        [ 0,  0,  0],\n",
       "        [ 0,  0,  0],\n",
       "        [ 0,  0,  0],\n",
       "        [-1,  6, -1]],\n",
       "\n",
       "       [[ 0,  0,  0],\n",
       "        [ 0,  0,  0],\n",
       "        [ 0,  0,  0],\n",
       "        [ 0,  0,  0],\n",
       "        [ 0,  0,  0],\n",
       "        [-1,  7,  1]]])"
      ]
     },
     "execution_count": 52,
     "metadata": {},
     "output_type": "execute_result"
    }
   ],
   "source": [
    "module.action_tensor_dic['u']"
   ]
  },
  {
   "cell_type": "code",
   "execution_count": 16,
   "metadata": {},
   "outputs": [
    {
     "data": {
      "text/plain": [
       "0"
      ]
     },
     "execution_count": 16,
     "metadata": {},
     "output_type": "execute_result"
    }
   ],
   "source": [
    "from sage.matrix.constructor import matrix\n",
    "from sage.rings.integer_ring import ZZ\n",
    "\n",
    "matrix(ZZ,3,0).rank()"
   ]
  },
  {
   "cell_type": "code",
   "execution_count": 3,
   "metadata": {},
   "outputs": [
    {
     "data": {
      "text/plain": [
       "{0: array([-1, -1], dtype=int32),\n",
       " 1: array([-1,  0], dtype=int32),\n",
       " 2: array([ 0, -1], dtype=int32),\n",
       " 3: array([0, 0], dtype=int32),\n",
       " 4: array([0, 0], dtype=int32),\n",
       " 5: array([1, 1], dtype=int32),\n",
       " 6: array([0, 1], dtype=int32),\n",
       " 7: array([1, 0], dtype=int32)}"
      ]
     },
     "execution_count": 3,
     "metadata": {},
     "output_type": "execute_result"
    }
   ],
   "source": [
    "module.weight_dic"
   ]
  },
  {
   "cell_type": "code",
   "execution_count": 4,
   "metadata": {},
   "outputs": [
    {
     "data": {
      "text/plain": [
       "{(-2, -2): [(0, array([[0, 0]], dtype=int32))],\n",
       " (-2, -1): [(0, array([[0, 1]], dtype=int32)),\n",
       "  (1, array([[0, 1]], dtype=int32))],\n",
       " (-2, 0): [(0, array([[1, 1]], dtype=int32))],\n",
       " (-1, -2): [(0, array([[0, 2]], dtype=int32)),\n",
       "  (1, array([[0, 2]], dtype=int32))],\n",
       " (-1, -1): [(0, array([[0, 3],\n",
       "          [0, 4],\n",
       "          [1, 2]], dtype=int32)), (1, array([[0, 3],\n",
       "          [0, 4],\n",
       "          [1, 2]], dtype=int32))],\n",
       " (-1, 0): [(0, array([[1, 3],\n",
       "          [1, 4]], dtype=int32)), (1, array([[1, 3],\n",
       "          [1, 4]], dtype=int32))],\n",
       " (0, -2): [(0, array([[2, 2]], dtype=int32))],\n",
       " (0, -1): [(0, array([[2, 3],\n",
       "          [2, 4]], dtype=int32)), (1, array([[2, 3],\n",
       "          [2, 4]], dtype=int32))],\n",
       " (0, 0): [(0, array([[3, 3],\n",
       "          [3, 4],\n",
       "          [4, 4]], dtype=int32)), (1, array([[3, 4]], dtype=int32))]}"
      ]
     },
     "execution_count": 4,
     "metadata": {},
     "output_type": "execute_result"
    }
   ],
   "source": [
    "module.weight_components"
   ]
  },
  {
   "cell_type": "code",
   "execution_count": 55,
   "metadata": {},
   "outputs": [
    {
     "data": {
      "text/plain": [
       "{0: E[-alpha[1] - alpha[2]],\n",
       " 1: E[-alpha[1]],\n",
       " 2: E[-alpha[2]],\n",
       " 3: h2,\n",
       " 4: h1,\n",
       " 5: E[alpha[1] + alpha[2]],\n",
       " 6: E[alpha[2]],\n",
       " 7: E[alpha[1]]}"
      ]
     },
     "execution_count": 55,
     "metadata": {},
     "output_type": "execute_result"
    }
   ],
   "source": [
    "f_factory.index_to_lie_algebra"
   ]
  },
  {
   "cell_type": "code",
   "execution_count": 58,
   "metadata": {},
   "outputs": [
    {
     "data": {
      "text/plain": [
       "[5, 6, 7]"
      ]
     },
     "execution_count": 58,
     "metadata": {},
     "output_type": "execute_result"
    }
   ],
   "source": [
    "comp = module.component_dic['u']\n",
    "comp.basis"
   ]
  },
  {
   "cell_type": "code",
   "execution_count": 7,
   "metadata": {},
   "outputs": [],
   "source": [
    "def get_action_tensor(action_mat):\n",
    "    max_ind = 0 \n",
    "    for _,j in action_mat.keys():\n",
    "        if j > max_ind: \n",
    "            max_ind = j\n",
    "    max_ind+=1\n",
    "\n",
    "    dim_n = len(f_factory.basis['n'])\n",
    "\n",
    "    extra_rows = [0]*max_ind\n",
    "    for (_,j), v in action_mat.items():\n",
    "        if len(v)>1:\n",
    "            extra_rows[j]+=len(v)-1\n",
    "    n_extra_rows = max(extra_rows)\n",
    "\n",
    "    action_tensor = np.zeros((dim_n+n_extra_rows, max_ind, 3),np.int64)\n",
    "    s_values = np.zeros(max_ind,np.int64)+dim_n\n",
    "    for (i,j), v in action_mat.items():\n",
    "        l = len(v)\n",
    "        if l == 1:\n",
    "            k,C_ijk = v.items()[0]\n",
    "            action_tensor[i,j] = (-1, k, C_ijk)\n",
    "        else: # l>0\n",
    "            s= s_values[j]\n",
    "            s_values[j]+=1\n",
    "            k,C_ijk = v.items()[0]\n",
    "            action_tensor[i,j] = (s, k, C_ijk)\n",
    "            count = 0\n",
    "            for k,C_ijk in v.items()[1:]:\n",
    "                count+=1\n",
    "                if count>=l-1:\n",
    "                    action_tensor[s,j] = (-1,k, C_ijk)\n",
    "                else:\n",
    "                    action_tensor[s,j] = (s+1,k,C_ijk)\n",
    "                s= s_values[j]\n",
    "                s_values[j]+=1\n",
    "    return action_tensor"
   ]
  },
  {
   "cell_type": "code",
   "execution_count": 8,
   "metadata": {},
   "outputs": [],
   "source": [
    "action_tensor_dic = dict()\n",
    "for key,mod in module.component_dic.items():\n",
    "    action_tensor_dic[key] = get_action_tensor(mod.action)\n",
    "module.action_tensor_dic = action_tensor_dic"
   ]
  },
  {
   "cell_type": "code",
   "execution_count": 9,
   "metadata": {},
   "outputs": [
    {
     "data": {
      "text/plain": [
       "array([[[ 0,  0,  0],\n",
       "        [ 0,  0,  0],\n",
       "        [ 0,  0,  0],\n",
       "        [-1,  0,  1],\n",
       "        [-1,  0,  1]],\n",
       "\n",
       "       [[ 0,  0,  0],\n",
       "        [ 0,  0,  0],\n",
       "        [-1,  0,  1],\n",
       "        [-1,  1, -1],\n",
       "        [-1,  1,  2]],\n",
       "\n",
       "       [[ 0,  0,  0],\n",
       "        [-1,  0, -1],\n",
       "        [ 0,  0,  0],\n",
       "        [-1,  2,  2],\n",
       "        [-1,  2, -1]]])"
      ]
     },
     "execution_count": 9,
     "metadata": {},
     "output_type": "execute_result"
    }
   ],
   "source": [
    "module.action_tensor_dic['b']"
   ]
  },
  {
   "cell_type": "code",
   "execution_count": 10,
   "metadata": {},
   "outputs": [
    {
     "data": {
      "text/plain": [
       "[[('b', 2, 'sym')], [('b', 2, 'wedge')]]"
      ]
     },
     "execution_count": 10,
     "metadata": {},
     "output_type": "execute_result"
    }
   ],
   "source": [
    "module.components"
   ]
  },
  {
   "cell_type": "code",
   "execution_count": 3,
   "metadata": {},
   "outputs": [],
   "source": [
    "%%cython\n",
    "#cython: language_level = 2 \n",
    "import numpy as np\n",
    "#cimport numpy as np\n",
    "\n",
    "from sage.matrix.constructor import matrix\n",
    "from sage.rings.integer_ring import ZZ\n",
    "\n",
    "cdef compute_action(acting_element, action_source, module):\n",
    "    action_image = np.zeros_like(action_source)\n",
    "    type_list = module.type_lists[0]\n",
    "    cdef image_row = 0\n",
    "    cdef max_rows = len(action_image)\n",
    "\n",
    "    cdef int row,j\n",
    "    for col,mod_type in enumerate(type_list):\n",
    "        action_tensor = module.action_tensor_dic[mod_type]\n",
    "        for row in range(len(action_source)):\n",
    "            j = action_source[row,col]\n",
    "            s,k,Cijk = action_tensor[acting_element,j]\n",
    "            while s!=0:\n",
    "                new_row = action_source[row].copy()\n",
    "                new_row[col] = k\n",
    "                new_row[-1]*=Cijk\n",
    "                action_image[image_row] = new_row\n",
    "                if s==-1:\n",
    "                    s=0\n",
    "                else:\n",
    "                    s,k,Cijk = action_tensor[s,j]\n",
    "                image_row+=1\n",
    "                if image_row>=max_rows: # double size of image matrix if we run out of space\n",
    "                    action_image = np.concatenate([action_image,np.zeros_like(action_image)])\n",
    "                    max_rows = len(action_image)\n",
    "    return action_image[:image_row]\n",
    "\n",
    "cdef check_equal(long [:] row1,long [:] row2,int num_cols):\n",
    "    cdef int i\n",
    "    for i in range(num_cols):\n",
    "        if row1[i]!=row2[i]:\n",
    "            return False\n",
    "    else:\n",
    "        return True\n",
    "    \n",
    "cdef col_nonzero(long [:] col, int num_rows):\n",
    "    \"\"\"return non-zero indices of a column. np.nonzero doesn't seem to work well with memoryviews.\"\"\"\n",
    "\n",
    "    indices = np.zeros(num_rows,np.int32)\n",
    "    cdef int i\n",
    "    cdef int j = 0\n",
    "    for i in range(num_rows):\n",
    "        if col[i]!=0:\n",
    "            indices[j]=i\n",
    "            j+=1\n",
    "    return indices[:j]\n",
    "\n",
    "cdef merge_sorted_image(long [:,:] action_image):\n",
    "    merged_image = np.zeros_like(action_image)\n",
    "    \n",
    "    cdef long[:] old_row\n",
    "    cdef long[:] row\n",
    "    old_row = np.zeros_like(action_image[0])-1\n",
    "    \n",
    "    cdef int row_number = -1\n",
    "    cdef int num_cols = action_image.shape[1]-1\n",
    "    cdef int num_rows = action_image.shape[0]\n",
    "    \n",
    "    cdef int i\n",
    "    for i in range(num_rows):\n",
    "        row = action_image[i]\n",
    "        if row[-1]!=0:\n",
    "            if check_equal(row,old_row,num_cols):\n",
    "                merged_image[row_number,-1] += row[-1]\n",
    "            else:\n",
    "                row_number+=1\n",
    "                merged_image[row_number]=row\n",
    "                old_row = row\n",
    "    row_number+=1\n",
    "    non_zero_inds = col_nonzero(merged_image[:row_number,-1],row_number)\n",
    "    return merged_image[non_zero_inds,:]\n",
    "    \n",
    "def sort_merge(action_image):\n",
    "    action_image = action_image[np.lexsort(np.transpose(action_image[:,:-1]))]\n",
    "    return merge_sorted_image(action_image)\n",
    "\n",
    "cdef permutation_sign(long [:] row,int num_cols):\n",
    "    cdef int sign = 1\n",
    "    cdef int i,j\n",
    "    for i in range(num_cols):\n",
    "        for j in range(i+1,num_cols):\n",
    "            if row[i]==row[j]:\n",
    "                return 0\n",
    "            elif row[i]>row[j]:\n",
    "                sign*=-1\n",
    "    return sign\n",
    "\n",
    "cdef sort_cols(module, action_image,comp_num):\n",
    "    cdef int col_min = 0\n",
    "    cdef int num_rows = len(action_image)\n",
    "    cdef int i\n",
    "    cdef long[:] row\n",
    "    \n",
    "    for _,cols,mod_type in module.components[comp_num]:\n",
    "        if cols>1: # List with one item is always sorted\n",
    "            if mod_type == 'wedge':\n",
    "                for i in range(num_rows):\n",
    "                    row = action_image[i,col_min:col_min+cols]\n",
    "                    action_image[i,-1]*=permutation_sign(row,cols)\n",
    "            action_image[:,col_min:col_min+cols] = np.sort(action_image[:,col_min:col_min+cols])\n",
    "        col_min+=cols\n",
    "        \n",
    "cpdef action_on_basis(pbw_elt,wmbase,module,factory,comp_num):\n",
    "    num_cols = wmbase.shape[1]\n",
    "    action_list = []\n",
    "    action_source = np.zeros((wmbase.shape[0], num_cols+2),np.int64)\n",
    "    action_source[:,:num_cols] = wmbase\n",
    "    action_source[:,num_cols] = np.arange(len(wmbase))\n",
    "    action_source[:,-1] = 1\n",
    "    for monomial,coefficient in pbw_elt.monomial_coefficients().items():\n",
    "        action_image = action_source.copy()\n",
    "        action_image[:,-1]*=coefficient\n",
    "        for term in monomial.to_word_list()[::-1]:\n",
    "            index = factory.root_to_index[term]\n",
    "            action_image = compute_action(index, action_image,module)\n",
    "        action_list.append(action_image)\n",
    "    action_image = np.concatenate(action_list)\n",
    "    sort_cols(module,action_image,comp_num)\n",
    "    return sort_merge(action_image)\n",
    "\n",
    "\n",
    "\n",
    "def compute_diff(cohom,mu,i):\n",
    "    BGG = cohom.BGG\n",
    "    module = cohom.weight_module\n",
    "    factory =  module.component_dic.values()[0].factory\n",
    "    \n",
    "    vertex_weights = cohom.weight_set.get_vertex_weights(mu)\n",
    "    maps = BGG.compute_maps(BGG.weight_to_alpha_sum(BGG._tuple_to_weight(mu)),check=True)\n",
    "    column = BGG.column[i]\n",
    "    delta_i_arrows = [(w, [arrow for arrow in BGG.arrows if arrow[0] == w]) for w in column]\n",
    "\n",
    "    source_dim = 0\n",
    "    for w in column:\n",
    "        initial_vertex = vertex_weights[w]\n",
    "        if initial_vertex in cohom.weights:\n",
    "            source_dim += cohom.weight_module.dimensions[initial_vertex]\n",
    "\n",
    "    offset = 0\n",
    "    total_diff_list = []\n",
    "    for comp_num in range(len(module.components)):\n",
    "        total_diff=[]\n",
    "        for w, arrows in delta_i_arrows:\n",
    "            initial_vertex = vertex_weights[w]\n",
    "            if initial_vertex in cohom.weights: # Ensure weight component isn't empty\n",
    "                action_images = []\n",
    "                max_ind = 0\n",
    "                for a in arrows:\n",
    "                    sign = BGG.signs[a]\n",
    "                    weight_comp = module.weight_components[initial_vertex][comp_num][-1]\n",
    "                    action_images.append(action_on_basis(maps[a]*sign,weight_comp,module,factory,comp_num))\n",
    "                    max_ind = max(max_ind,action_images[-1][-1,-2])\n",
    "                sub_diff = np.concatenate(action_images)\n",
    "                sub_diff[:,-2]+=offset\n",
    "                offset+=max_ind+1\n",
    "                total_diff.append(sub_diff)\n",
    "        total_diff = np.concatenate(total_diff)\n",
    "        total_diff = total_diff[np.lexsort(np.transpose(total_diff[:,:-2]))]\n",
    "        total_diff_list.append(total_diff)\n",
    "        \n",
    "    total_length = sum(len(diff) for diff in total_diff_list)\n",
    "    diff_entries = np.zeros((total_length,3),np.int64)\n",
    "    j = -1\n",
    "    offset=0\n",
    "    for total_diff in total_diff_list:\n",
    "        prev_row = np.zeros_like(total_diff[0,:-2])-1\n",
    "        for i in range(len(total_diff)):\n",
    "            row_num = i+offset\n",
    "            row = total_diff[i,:-2]\n",
    "            if np.any(np.not_equal(row,prev_row)):\n",
    "                j+=1\n",
    "                prev_row = row\n",
    "            diff_entries[row_num,0] = j\n",
    "            diff_entries[row_num,1:] = total_diff[i,-2:]\n",
    "        offset+=len(total_diff)\n",
    "    j+=1\n",
    "\n",
    "    d_dense = matrix(ZZ,j,max(diff_entries[:,1])+1)\n",
    "    for i in range(len(diff_entries)):\n",
    "        d_dense[diff_entries[i,0],diff_entries[i,1]] = diff_entries[i,2]\n",
    "        \n",
    "    return d_dense"
   ]
  },
  {
   "cell_type": "code",
   "execution_count": 11,
   "metadata": {},
   "outputs": [],
   "source": [
    "import pyximport\n",
    "pyximport.install(language_level=2,)\n",
    "import cohomology"
   ]
  },
  {
   "cell_type": "code",
   "execution_count": 14,
   "metadata": {
    "scrolled": true
   },
   "outputs": [
    {
     "data": {
      "text/plain": [
       "[-2  2  0  0]\n",
       "[-4  1  0  0]\n",
       "[ 0 -1  4  0]\n",
       "[ 0 -2  2  0]\n",
       "[ 0  0  0 -2]\n",
       "[ 0  0  0 -1]\n",
       "[ 0  0  0 -1]\n",
       "[ 0  0  0 -2]"
      ]
     },
     "execution_count": 14,
     "metadata": {},
     "output_type": "execute_result"
    }
   ],
   "source": [
    "cohomology.compute_diff(cohom,(0,0),0)"
   ]
  },
  {
   "cell_type": "code",
   "execution_count": 2,
   "metadata": {},
   "outputs": [],
   "source": [
    "import pyximport\n",
    "pyximport.install(language_level=2,)\n",
    "import test_cython"
   ]
  },
  {
   "cell_type": "code",
   "execution_count": null,
   "metadata": {},
   "outputs": [],
   "source": []
  }
 ],
 "metadata": {
  "kernelspec": {
   "display_name": "Python 2",
   "language": "python",
   "name": "python2"
  },
  "language_info": {
   "codemirror_mode": {
    "name": "ipython",
    "version": 2
   },
   "file_extension": ".py",
   "mimetype": "text/x-python",
   "name": "python",
   "nbconvert_exporter": "python",
   "pygments_lexer": "ipython2",
   "version": "2.7.15"
  }
 },
 "nbformat": 4,
 "nbformat_minor": 2
}
