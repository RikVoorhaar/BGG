{
 "cells": [
  {
   "cell_type": "code",
   "execution_count": 1,
   "metadata": {},
   "outputs": [],
   "source": [
    "from bggcomplex import BGGComplex\n",
    "from fast_module import FastLieAlgebraCompositeModule, FastModuleFactory, BGGCohomology\n",
    "import numpy as np\n",
    "%load_ext cython"
   ]
  },
  {
   "cell_type": "code",
   "execution_count": 2,
   "metadata": {},
   "outputs": [
    {
     "data": {
      "text/latex": [
       "$$\\mathrm H^{2}(A2/B, \\mathfrak n\\otimes \\mathfrak n)=\\mathbb{C}^{3}$$"
      ],
      "text/plain": [
       "<IPython.core.display.Math object>"
      ]
     },
     "metadata": {},
     "output_type": "display_data"
    },
    {
     "data": {
      "text/latex": [
       "$$\\mathrm H^{2}(A3/B, \\mathfrak n\\otimes \\mathfrak n)=\\mathbb{C}^{8}$$"
      ],
      "text/plain": [
       "<IPython.core.display.Math object>"
      ]
     },
     "metadata": {},
     "output_type": "display_data"
    },
    {
     "data": {
      "text/latex": [
       "$$\\mathrm H^{2}(B2/B, \\mathfrak n\\otimes \\mathfrak n)=\\mathbb{C}^{3}$$"
      ],
      "text/plain": [
       "<IPython.core.display.Math object>"
      ]
     },
     "metadata": {},
     "output_type": "display_data"
    },
    {
     "data": {
      "text/latex": [
       "$$\\mathrm H^{2}(G2/B, \\mathfrak n\\otimes \\mathfrak n)=L\\left( 2\\alpha_{1}+\\alpha_{2}\\right)\\oplus \\mathbb{C}^{3}$$"
      ],
      "text/plain": [
       "<IPython.core.display.Math object>"
      ]
     },
     "metadata": {},
     "output_type": "display_data"
    },
    {
     "data": {
      "text/latex": [
       "$$\\mathrm H^{2}(A4/B, \\mathfrak n\\otimes \\mathfrak n)=\\mathbb{C}^{15}$$"
      ],
      "text/plain": [
       "<IPython.core.display.Math object>"
      ]
     },
     "metadata": {},
     "output_type": "display_data"
    },
    {
     "data": {
      "text/latex": [
       "$$\\mathrm H^{2}(B3/B, \\mathfrak n\\otimes \\mathfrak n)=\\mathbb{C}^{8}$$"
      ],
      "text/plain": [
       "<IPython.core.display.Math object>"
      ]
     },
     "metadata": {},
     "output_type": "display_data"
    },
    {
     "data": {
      "text/latex": [
       "$$\\mathrm H^{2}(C3/B, \\mathfrak n\\otimes \\mathfrak n)=\\mathbb{C}^{8}$$"
      ],
      "text/plain": [
       "<IPython.core.display.Math object>"
      ]
     },
     "metadata": {},
     "output_type": "display_data"
    }
   ],
   "source": [
    "for d in ['A1','A2','A3','B2','G2','A4','B3','C3']:\n",
    "    BGG = BGGComplex(d)\n",
    "    f_factory = FastModuleFactory(BGG.LA)\n",
    "    component_dic = {'b':f_factory.build_component('b','ad'),'u':f_factory.build_component('u','coad')\n",
    "                     ,'b+':f_factory.build_component('b+','coad'),'n':f_factory.build_component('n','ad')}\n",
    "    components = [[(\"n\",1,'wedge'),(\"n\",1,'wedge')]]\n",
    "\n",
    "    module = FastLieAlgebraCompositeModule(f_factory, components, component_dic)\n",
    "\n",
    "    cohom = BGGCohomology(BGG, module)\n",
    "    for i in range(10):\n",
    "        cohom.cohomology_LaTeX(i,only_non_zero=True,complex_string=d+r'/B, \\mathfrak n\\otimes \\mathfrak n')"
   ]
  },
  {
   "cell_type": "code",
   "execution_count": 30,
   "metadata": {},
   "outputs": [
    {
     "data": {
      "text/plain": [
       "14"
      ]
     },
     "execution_count": 30,
     "metadata": {},
     "output_type": "execute_result"
    }
   ],
   "source": [
    "len(component_dic['b'].basis)"
   ]
  },
  {
   "cell_type": "code",
   "execution_count": 40,
   "metadata": {},
   "outputs": [
    {
     "data": {
      "text/latex": [
       "$$\\mathrm H^{0}(A4/B, \\wedge^2\\mathfrak b)=L\\left( 2\\alpha_{1}+ 2\\alpha_{2}+ 2\\alpha_{3}+\\alpha_{4}\\right)\\oplus L\\left(\\alpha_{1}+\\alpha_{2}+\\alpha_{3}+\\alpha_{4}\\right)\\oplus L\\left(\\alpha_{1}+ 2\\alpha_{2}+ 2\\alpha_{3}+ 2\\alpha_{4}\\right)$$"
      ],
      "text/plain": [
       "<IPython.core.display.Math object>"
      ]
     },
     "metadata": {},
     "output_type": "display_data"
    }
   ],
   "source": [
    "d='A4'\n",
    "BGG = BGGComplex(d)\n",
    "f_factory = FastModuleFactory(BGG.LA)\n",
    "component_dic = {'b':f_factory.build_component('b','ad'),'u':f_factory.build_component('u','coad')\n",
    "                 ,'b+':f_factory.build_component('b+','coad'),'n':f_factory.build_component('n','ad')}\n",
    "components = [[(\"u\",2,'wedge')]]\n",
    "\n",
    "module = FastLieAlgebraCompositeModule(f_factory, components, component_dic)\n",
    "\n",
    "cohom = BGGCohomology(BGG, module)\n",
    "for i in range(10):\n",
    "    cohom.cohomology_LaTeX(i,only_non_zero=True,complex_string=d+r'/B, \\wedge^2\\mathfrak u')"
   ]
  },
  {
   "cell_type": "code",
   "execution_count": 66,
   "metadata": {},
   "outputs": [],
   "source": [
    "\n",
    "\n",
    "weight_mat = np.array([s[1] for s in sorted(module.weight_dic.items(), key=lambda t: t[0])], dtype=np.int64)\n",
    "\n",
    "tot_weight = np.sum(weight_mat[d_sum_comp],axis=1)\n",
    "argsort = np.lexsort(np.transpose(tot_weight))\n",
    "split_dic = {}\n",
    "last_weight = tot_weight[0]\n",
    "current_inds = []\n",
    "for i in argsort:\n",
    "    if np.all(np.equal(tot_weight[i],last_weight)):\n",
    "        current_inds.append(i)\n",
    "    else:\n",
    "        split_dic[tuple(last_weight)]=d_sum_comp[current_inds]\n",
    "        current_inds=[i]\n",
    "        last_weight=tot_weight[i]\n",
    "return split_dic"
   ]
  },
  {
   "cell_type": "code",
   "execution_count": 78,
   "metadata": {},
   "outputs": [],
   "source": []
  },
  {
   "cell_type": "code",
   "execution_count": 79,
   "metadata": {},
   "outputs": [
    {
     "data": {
      "text/plain": [
       "{(0, 0, 1, 1): array([[16, 19]], dtype=int32),\n",
       " (0, 0, 1, 2): array([[10, 19]], dtype=int32),\n",
       " (0, 0, 2, 1): array([[10, 16]], dtype=int32),\n",
       " (0, 1, 0, 1): array([[19, 20]], dtype=int32),\n",
       " (0, 1, 1, 0): array([[16, 20]], dtype=int32),\n",
       " (0, 1, 1, 1): array([[10, 20],\n",
       "        [12, 19]], dtype=int32),\n",
       " (0, 1, 1, 2): array([[18, 19]], dtype=int32),\n",
       " (0, 1, 2, 0): array([[12, 16]], dtype=int32),\n",
       " (0, 1, 2, 1): array([[10, 12],\n",
       "        [16, 18]], dtype=int32),\n",
       " (0, 1, 2, 2): array([[10, 18]], dtype=int32),\n",
       " (0, 2, 1, 0): array([[12, 20]], dtype=int32),\n",
       " (0, 2, 1, 1): array([[18, 20]], dtype=int32),\n",
       " (0, 2, 2, 1): array([[12, 18]], dtype=int32),\n",
       " (1, 0, 0, 1): array([[15, 19]], dtype=int32),\n",
       " (1, 0, 1, 0): array([[15, 16]], dtype=int32),\n",
       " (1, 0, 1, 1): array([[10, 15]], dtype=int32),\n",
       " (1, 1, 0, 0): array([[15, 20]], dtype=int32),\n",
       " (1, 1, 0, 1): array([[19, 23]], dtype=int32),\n",
       " (1, 1, 1, 0): array([[12, 15],\n",
       "        [16, 23]], dtype=int32),\n",
       " (1, 1, 1, 1): array([[10, 23],\n",
       "        [11, 19],\n",
       "        [15, 18]], dtype=int32),\n",
       " (1, 1, 1, 2): array([[14, 19]], dtype=int32),\n",
       " (1, 1, 2, 0): array([[11, 16]], dtype=int32),\n",
       " (1, 1, 2, 1): array([[10, 11],\n",
       "        [14, 16]], dtype=int32),\n",
       " (1, 1, 2, 2): array([[10, 14]], dtype=int32),\n",
       " (1, 2, 0, 0): array([[20, 23]], dtype=int32),\n",
       " (1, 2, 1, 0): array([[11, 20],\n",
       "        [12, 23]], dtype=int32),\n",
       " (1, 2, 1, 1): array([[14, 20],\n",
       "        [18, 23]], dtype=int32),\n",
       " (1, 2, 2, 0): array([[11, 12]], dtype=int32),\n",
       " (1, 2, 2, 1): array([[11, 18],\n",
       "        [12, 14]], dtype=int32),\n",
       " (2, 1, 0, 0): array([[15, 23]], dtype=int32),\n",
       " (2, 1, 1, 0): array([[11, 15]], dtype=int32),\n",
       " (2, 1, 1, 1): array([[14, 15]], dtype=int32),\n",
       " (2, 2, 1, 0): array([[11, 23]], dtype=int32),\n",
       " (2, 2, 1, 1): array([[14, 23]], dtype=int32),\n",
       " (2, 2, 2, 1): array([[11, 14]], dtype=int32)}"
      ]
     },
     "execution_count": 79,
     "metadata": {},
     "output_type": "execute_result"
    }
   ],
   "source": [
    "split_dic"
   ]
  },
  {
   "cell_type": "code",
   "execution_count": 80,
   "metadata": {},
   "outputs": [
    {
     "data": {
      "text/plain": [
       "{(0, 0, 1, 1): array([[16, 19]], dtype=int32),\n",
       " (0, 0, 1, 2): array([[10, 19]], dtype=int32),\n",
       " (0, 0, 2, 1): array([[10, 16]], dtype=int32),\n",
       " (0, 1, 0, 1): array([[19, 20]], dtype=int32),\n",
       " (0, 1, 1, 0): array([[16, 20]], dtype=int32),\n",
       " (0, 1, 1, 1): array([[10, 20],\n",
       "        [12, 19]], dtype=int32),\n",
       " (0, 1, 1, 2): array([[18, 19]], dtype=int32),\n",
       " (0, 1, 2, 0): array([[12, 16]], dtype=int32),\n",
       " (0, 1, 2, 1): array([[10, 12],\n",
       "        [16, 18]], dtype=int32),\n",
       " (0, 1, 2, 2): array([[10, 18]], dtype=int32),\n",
       " (0, 2, 1, 0): array([[12, 20]], dtype=int32),\n",
       " (0, 2, 1, 1): array([[18, 20]], dtype=int32),\n",
       " (0, 2, 2, 1): array([[12, 18]], dtype=int32),\n",
       " (1, 0, 0, 1): array([[15, 19]], dtype=int32),\n",
       " (1, 0, 1, 0): array([[15, 16]], dtype=int32),\n",
       " (1, 0, 1, 1): array([[10, 15]], dtype=int32),\n",
       " (1, 1, 0, 0): array([[15, 20]], dtype=int32),\n",
       " (1, 1, 0, 1): array([[19, 23]], dtype=int32),\n",
       " (1, 1, 1, 0): array([[12, 15],\n",
       "        [16, 23]], dtype=int32),\n",
       " (1, 1, 1, 1): array([[10, 23],\n",
       "        [11, 19],\n",
       "        [15, 18]], dtype=int32),\n",
       " (1, 1, 1, 2): array([[14, 19]], dtype=int32),\n",
       " (1, 1, 2, 0): array([[11, 16]], dtype=int32),\n",
       " (1, 1, 2, 1): array([[10, 11],\n",
       "        [14, 16]], dtype=int32),\n",
       " (1, 1, 2, 2): array([[10, 14]], dtype=int32),\n",
       " (1, 2, 0, 0): array([[20, 23]], dtype=int32),\n",
       " (1, 2, 1, 0): array([[11, 20],\n",
       "        [12, 23]], dtype=int32),\n",
       " (1, 2, 1, 1): array([[14, 20],\n",
       "        [18, 23]], dtype=int32),\n",
       " (1, 2, 2, 0): array([[11, 12]], dtype=int32),\n",
       " (1, 2, 2, 1): array([[11, 18],\n",
       "        [12, 14]], dtype=int32),\n",
       " (1, 2, 2, 2): array([[14, 18]], dtype=int32),\n",
       " (2, 1, 0, 0): array([[15, 23]], dtype=int32),\n",
       " (2, 1, 1, 0): array([[11, 15]], dtype=int32),\n",
       " (2, 1, 1, 1): array([[14, 15]], dtype=int32),\n",
       " (2, 2, 1, 0): array([[11, 23]], dtype=int32),\n",
       " (2, 2, 1, 1): array([[14, 23]], dtype=int32),\n",
       " (2, 2, 2, 1): array([[11, 14]], dtype=int32)}"
      ]
     },
     "execution_count": 80,
     "metadata": {},
     "output_type": "execute_result"
    }
   ],
   "source": [
    "module.compute_weight_components(d_sum_comp)"
   ]
  }
 ],
 "metadata": {
  "kernelspec": {
   "display_name": "Python 2",
   "language": "python",
   "name": "python2"
  },
  "language_info": {
   "codemirror_mode": {
    "name": "ipython",
    "version": 2
   },
   "file_extension": ".py",
   "mimetype": "text/x-python",
   "name": "python",
   "nbconvert_exporter": "python",
   "pygments_lexer": "ipython2",
   "version": "2.7.15"
  }
 },
 "nbformat": 4,
 "nbformat_minor": 2
}
