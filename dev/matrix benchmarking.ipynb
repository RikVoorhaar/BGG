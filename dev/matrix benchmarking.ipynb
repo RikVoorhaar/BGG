{
 "cells": [
  {
   "cell_type": "code",
   "execution_count": null,
   "metadata": {
    "scrolled": true
   },
   "outputs": [
    {
     "data": {
      "application/vnd.jupyter.widget-view+json": {
       "model_id": "4f720df531814ff98478bb6b405de12f",
       "version_major": 2,
       "version_minor": 0
      },
      "text/plain": [
       "HBox(children=(FloatProgress(value=0.0, max=30.0), HTML(value='')))"
      ]
     },
     "metadata": {},
     "output_type": "display_data"
    },
    {
     "data": {
      "application/vnd.jupyter.widget-view+json": {
       "model_id": "715acb2907a24aa3bcd8ea5fb020320b",
       "version_major": 2,
       "version_minor": 0
      },
      "text/plain": [
       "HBox(children=(FloatProgress(value=1.0, bar_style='info', max=1.0), HTML(value='')))"
      ]
     },
     "metadata": {},
     "output_type": "display_data"
    },
    {
     "data": {
      "application/vnd.jupyter.widget-view+json": {
       "model_id": "14ae638f9689426a9b465eb84a86026c",
       "version_major": 2,
       "version_minor": 0
      },
      "text/plain": [
       "HBox(children=(FloatProgress(value=1.0, bar_style='info', max=1.0), HTML(value='')))"
      ]
     },
     "metadata": {},
     "output_type": "display_data"
    }
   ],
   "source": [
    "import sys\n",
    "sys.path.append('../bggcomplex')\n",
    "\n",
    "from fast_module import BGGCohomology\n",
    "from bggcomplex import BGGComplex\n",
    "from quantum_center_module_v2 import *\n",
    "from tqdm.auto import tqdm\n",
    "\n",
    "# the parameters we actually want to change\n",
    "BGG = BGGComplex('B3')\n",
    "subset=[]\n",
    "s = 0\n",
    "\n",
    "# compute only half of the table, extend by symmetry\n",
    "half_only = True\n",
    "extend_half = half_only\n",
    "\n",
    "# Display in full form\n",
    "compact = False\n",
    "\n",
    "ab_dic = dict()\n",
    "with tqdm(all_abijk(BGG,s=s,subset=subset,half_only=half_only)) as inner_pbar:\n",
    "    with tqdm(leave=None) as outer_pbar:\n",
    "        map_pbar = tqdm()\n",
    "        for a,b,i,j,k in inner_pbar:\n",
    "            if a!=b:\n",
    "                inner_pbar.set_description('i+j= %d, j-i = %d'%(a,b))\n",
    "                coker = Tijk_basis(BGG, i,j,k,subset=subset,pbar=outer_pbar,kernel_benchmark=True,ker_method='fast')\n",
    "                outer_pbar.set_description('Initializing cohomology')\n",
    "                cohom = BGGCohomology(BGG, Mijk(BGG,i,j,k,subset=subset), \n",
    "                                      coker=coker,pbars = [outer_pbar,map_pbar])\n",
    "                outer_pbar.set_description('Computing cohomology')\n",
    "                cohom_string = cohom.cohomology_LaTeX(i=i,only_strings=True,compact=compact)\n",
    "                ab_dic[(a,b)]=cohom_string\n",
    "display_ab_dic(ab_dic,extend_half = extend_half)"
   ]
  },
  {
   "cell_type": "code",
   "execution_count": null,
   "metadata": {},
   "outputs": [],
   "source": [
    "tijk1 = Tijk_basis(BGG, 4,6,-10,subset=subset,pbar=outer_pbar,kernel_benchmark=True,ker_method='slow')\n",
    "tijk2 = Tijk_basis(BGG, 4,6,-10,subset=subset,pbar=outer_pbar,kernel_benchmark=True,ker_method='fast')\n",
    "for k in tijk1.keys():\n",
    "    if tijk1[k].nrows()==0:\n",
    "        print(k,tijk1[k].nrows()-tijk2[k].nrows(),tijk1[k].ncols()-tijk2[k].ncols())"
   ]
  },
  {
   "cell_type": "code",
   "execution_count": null,
   "metadata": {},
   "outputs": [],
   "source": [
    "tijk2[-12,-6].nrows()"
   ]
  },
  {
   "cell_type": "code",
   "execution_count": null,
   "metadata": {},
   "outputs": [],
   "source": [
    "import csv\n",
    "import os \n",
    "import numpy as np\n",
    "mat_path = os.path.join('mat_benchmark','mat','(-6, -3)_10.csv')\n",
    "mat = np.genfromtxt(mat_path, delimiter=',')\n",
    "mat = Matrix(mat,ring=ZZ)\n",
    "print(mat.nrows(),mat.ncols(),len(mat.nonzero_positions()))\n",
    "\n",
    "%time mat.right_kernel().basis_matrix()"
   ]
  },
  {
   "cell_type": "code",
   "execution_count": null,
   "metadata": {},
   "outputs": [],
   "source": [
    "ker = mat.__pari__().matker(flag=1).mattranspose().sage()"
   ]
  },
  {
   "cell_type": "code",
   "execution_count": null,
   "metadata": {},
   "outputs": [],
   "source": []
  }
 ],
 "metadata": {
  "kernelspec": {
   "display_name": "SageMath 9.0",
   "language": "sage",
   "name": "sagemath"
  },
  "language_info": {
   "codemirror_mode": {
    "name": "ipython",
    "version": 3
   },
   "file_extension": ".py",
   "mimetype": "text/x-python",
   "name": "python",
   "nbconvert_exporter": "python",
   "pygments_lexer": "ipython3",
   "version": "3.7.3"
  }
 },
 "nbformat": 4,
 "nbformat_minor": 2
}
