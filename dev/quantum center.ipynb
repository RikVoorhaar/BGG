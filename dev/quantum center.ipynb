{
 "cells": [
  {
   "cell_type": "code",
   "execution_count": 1,
   "metadata": {},
   "outputs": [],
   "source": [
    "import sys\n",
    "sys.path.append('../bggcomplex')\n",
    "\n",
    "from bggcomplex import BGGComplex\n",
    "from fast_module import FastLieAlgebraCompositeModule, FastModuleFactory, BGGCohomology, WeightSet\n",
    "from IPython.display import display, Math, Latex\n",
    "import cohomology\n",
    "from tqdm.notebook import tqdm\n",
    "import numpy as np"
   ]
  },
  {
   "cell_type": "markdown",
   "metadata": {},
   "source": [
    "## Quantum center"
   ]
  },
  {
   "cell_type": "code",
   "execution_count": 2,
   "metadata": {},
   "outputs": [],
   "source": [
    "def Mijk(BGG,i,j,k,subset=[]):\n",
    "    factory = FastModuleFactory(BGG.LA)\n",
    "\n",
    "    component_dic = {'u':factory.build_component('u','coad',subset=subset),\n",
    "                    'g':factory.build_component('g','ad',subset=subset),\n",
    "                     'n':factory.build_component('n','ad',subset=subset)}\n",
    "    \n",
    "    dim_n = len(factory.parabolic_n_basis(subset))\n",
    "    \n",
    "    components = []\n",
    "    for r in range(j+k//2+1):\n",
    "        if (j-r<=dim_n) and (j-r>=0):\n",
    "            components.append([('u',j+k//2-r,'sym'),('g',r,'wedge'),('n',j-r,'wedge')])\n",
    "\n",
    "    module = FastLieAlgebraCompositeModule(factory,components,component_dic)\n",
    "    \n",
    "    return module"
   ]
  },
  {
   "cell_type": "code",
   "execution_count": 3,
   "metadata": {},
   "outputs": [],
   "source": [
    "def sort_sign(A):\n",
    "    num_cols = A.shape[1]\n",
    "    if num_cols>1:\n",
    "        signs=(-1)**(sum([(A[:,0]<A[:,i]) for i in range(1,num_cols)]))\n",
    "        mask=sum([(A[:,0]==A[:,i]) for i in range(1,num_cols)])==0\n",
    "        return (np.sort(A),signs,mask)\n",
    "    else:\n",
    "        return (A,np.ones(len(A),dtype=int),np.ones(len(A),dtype=bool))"
   ]
  },
  {
   "cell_type": "code",
   "execution_count": 4,
   "metadata": {
    "scrolled": true
   },
   "outputs": [],
   "source": [
    "def compute_phi(BGG,subset=[]):\n",
    "    factory = FastModuleFactory(BGG.LA)\n",
    "    \n",
    "    component_dic = {'u':factory.build_component('u','coad',subset=subset)}\n",
    "    components_phi = [[('u',1,'wedge')]]\n",
    "    \n",
    "    module_phi = FastLieAlgebraCompositeModule(factory,components_phi,component_dic)\n",
    "    \n",
    "    b_basis = factory.parabolic_p_basis(subset)\n",
    "    u_basis = factory.parabolic_u_basis(subset)\n",
    "    coad_dic = factory.coadjoint_action_tensor(b_basis,u_basis)\n",
    "    \n",
    "    phi_image = {b:[] for b in b_basis}\n",
    "    for (b,u),n_dic in coad_dic.items():\n",
    "        n,coeff = n_dic.items()[0]\n",
    "        phi_image[b].append(np.array([factory.dual_root_dict[u],n,coeff]))\n",
    "    \n",
    "    for b in phi_image.keys():\n",
    "        img = phi_image[b]\n",
    "        if len(img)>0:\n",
    "            phi_image[b]=np.vstack(img)\n",
    "        else:\n",
    "            phi_image[b]=[]\n",
    "    return phi_image"
   ]
  },
  {
   "cell_type": "code",
   "execution_count": 5,
   "metadata": {},
   "outputs": [],
   "source": [
    "def compute_phi(BGG,subset= []):\n",
    "    factory = FastModuleFactory(BGG.LA)\n",
    "\n",
    "    component_dic = {'n':factory.build_component('n','ad',subset=subset)}\n",
    "    components_phi = [[('n',1,'wedge')]]\n",
    "\n",
    "    module_phi = FastLieAlgebraCompositeModule(factory,components_phi,component_dic)\n",
    "\n",
    "    b_basis = factory.parabolic_p_basis(subset)\n",
    "    n_basis = factory.parabolic_n_basis(subset)\n",
    "    ad_dic = factory.adjoint_action_tensor(b_basis,n_basis)\n",
    "\n",
    "    phi_image = {b:[] for b in b_basis}\n",
    "    for (b,n),u_dic in ad_dic.items():\n",
    "        u,coeff = u_dic.items()[0]\n",
    "        phi_image[b].append(np.array([u,factory.dual_root_dict[n],coeff]))\n",
    "\n",
    "    for b in phi_image.keys():\n",
    "        img = phi_image[b]\n",
    "        if len(img)>0:\n",
    "            phi_image[b]=np.vstack(img)\n",
    "        else:\n",
    "            phi_image[b]=[]\n",
    "    return phi_image"
   ]
  },
  {
   "cell_type": "code",
   "execution_count": 6,
   "metadata": {},
   "outputs": [],
   "source": [
    "def Tijk_basis(BGG,i,j,k,subset=[],pbar=None):\n",
    "    factory = FastModuleFactory(BGG.LA)\n",
    "        \n",
    "    if pbar is not None:\n",
    "        pbar.reset()\n",
    "        pbar.set_description('Creating modules')\n",
    "    wc_mod = Mijk(BGG,i,j,k,subset=subset)\n",
    "    wc_rel = Mijk(BGG,i,j-1,k,subset=subset)\n",
    "    \n",
    "    coker_dic = dict()\n",
    "    mu_source_counters = dict()\n",
    "    \n",
    "    phi_image = compute_phi(BGG,subset=subset)\n",
    "    #phi_image = {i:[] for i,_ in phi_image.items()}        \n",
    "\n",
    "    if pbar is not None:\n",
    "        pbar.set_description('Computing modules')    \n",
    "    \n",
    "    for mu, components in wc_rel.weight_components.items():\n",
    "\n",
    "        for b, n_tensor_u in phi_image.items():\n",
    "            new_mu = tuple(mu+factory.weight_dic[b])\n",
    "            if new_mu not in mu_source_counters:\n",
    "                mu_source_counters[new_mu]=0\n",
    "            sparse_relations = []\n",
    "            for comp_num, basis in components:\n",
    "                r = wc_rel.components[comp_num][1][1]\n",
    "                t_un_insert = None\n",
    "                t_g_insert = None\n",
    "                for c, comp_list in enumerate(wc_mod.components):\n",
    "                    if comp_list[1][1] == r:\n",
    "                        t_un_insert = c\n",
    "                    if comp_list[1][1] == r+1:\n",
    "                        t_g_insert = c\n",
    "\n",
    "                num_rows = len(basis)\n",
    "                num_u,num_g,num_n = (j-1+k//2-r,r,j-1-r)\n",
    "\n",
    "                basis_enum = np.arange(mu_source_counters[new_mu],mu_source_counters[new_mu]+num_rows,dtype=int).reshape((-1,1))\n",
    "                mu_source_counters[new_mu]+=num_rows\n",
    "\n",
    "\n",
    "                # Insert g\n",
    "                if t_g_insert is not None:\n",
    "                    new_basis = np.hstack([basis_enum,basis[:,:num_u],b*np.ones(shape=(num_rows,1),dtype=int),basis[:,num_u:]])\n",
    "                    sort_basis, signs, mask = sort_sign(new_basis[:,num_u+1:num_u+num_g+2])\n",
    "                    new_basis[:,num_u+1:num_u+num_g+2] = sort_basis\n",
    "                    new_basis = new_basis[mask]\n",
    "                    basis_g = np.zeros(shape=(len(new_basis),3), dtype=int)\n",
    "                    for row_num, (row, sign) in enumerate(zip(new_basis, signs[mask])):\n",
    "                        source = row[0]\n",
    "                        target = wc_mod.weight_comp_index_numbers[new_mu][tuple(list(row[1:])+[t_g_insert])]\n",
    "                        basis_g[row_num] = [source,target,-sign]\n",
    "                    if len(basis_g)>0:\n",
    "                        sparse_relations.append(basis_g)\n",
    "\n",
    "                # Insert n_tensor_u\n",
    "                if t_un_insert is not None:\n",
    "                    for n,u,coeff in n_tensor_u:\n",
    "                        n_column = n*np.ones(shape=(num_rows,1),dtype=int)\n",
    "                        u_column = u*np.ones(shape=(num_rows,1),dtype=int)\n",
    "                        new_basis = np.hstack([basis_enum,u_column,basis[:,:num_u+num_g],n_column,basis[:,num_u+num_g:]])\n",
    "                        new_basis[:,1:num_u+2]=np.sort(new_basis[:,1:num_u+2])\n",
    "                        sort_basis, signs, mask = sort_sign(new_basis[:,num_u+num_g+2:])\n",
    "                        new_basis[:,num_u+num_g+2:]=sort_basis\n",
    "                        signs=coeff*signs[mask]\n",
    "                        new_basis = new_basis[mask]\n",
    "                        basis_un = np.zeros(shape=(len(new_basis),3), dtype=int)\n",
    "                        for row_num, (row, sign) in enumerate(zip(new_basis, signs)):\n",
    "                            source = row[0]\n",
    "                            target = wc_mod.weight_comp_index_numbers[new_mu][tuple(list(row[1:])+[t_un_insert])]\n",
    "                            basis_un[row_num] = [source,target,sign]\n",
    "                        if len(basis_un)>0:\n",
    "                            sparse_relations.append(basis_un)\n",
    "            if len(sparse_relations)>0:\n",
    "                if new_mu not in coker_dic:\n",
    "                    coker_dic[new_mu]=[]\n",
    "                coker_dic[new_mu]+=sparse_relations\n",
    "    coker_dic = {mu:cohomology.sort_merge(np.concatenate(rels)) for mu,rels in coker_dic.items()}\n",
    "\n",
    "    T=dict()\n",
    "    total_rels = len(coker_dic)\n",
    "    if pbar is not None:\n",
    "        pbar.reset(total=total_rels)\n",
    "        pbar.set_description('Computing kernels')\n",
    "        \n",
    "    for mu,rels in coker_dic.items():\n",
    "        source_dim = mu_source_counters[mu]\n",
    "        target_dim = wc_mod.dimensions[mu]\n",
    "        sparse_dic = dict()\n",
    "        for source,target,coeff in rels:\n",
    "            sparse_dic[(source,target)]=coeff\n",
    "        \n",
    "        if pbar is not None:\n",
    "            pbar.update()\n",
    "        \n",
    "        M = matrix(ZZ,sparse_dic,nrows = source_dim, ncols = target_dim, sparse=True)\n",
    "        T[mu]=M.right_kernel().basis_matrix()\n",
    "    return T"
   ]
  },
  {
   "cell_type": "code",
   "execution_count": 13,
   "metadata": {},
   "outputs": [],
   "source": [
    "def all_abijk(BGG,s=0,subset=[],half_only=False):\n",
    "    dim_n = len(FastModuleFactory(BGG.LA).parabolic_n_basis(subset))\n",
    "    output = []\n",
    "    s_mod = s%2\n",
    "    a_max = dim_n+(1+s_mod)%2\n",
    "    for a_iterator in range(a_max):\n",
    "        a = 2*a_iterator+s_mod\n",
    "        #for b in range(max(0,s-2*a),a+1):\n",
    "        for b in range(a+1):\n",
    "            if (a+b) % 2 == 0:\n",
    "                output.append((a,b,(a-b)//2,(a+b)//2,s-a))\n",
    "    if half_only:\n",
    "        new_out = []\n",
    "        max_a = max(s[0] for s in output)\n",
    "        for a,b,i,j,k in output:\n",
    "            if a+b<=max_a+1:\n",
    "                new_out.append((a,b,i,j,k))\n",
    "        return sorted(new_out,key=lambda s: (s[0]+s[1],s[0],s[1]))\n",
    "    else:\n",
    "        return output\n",
    "\n",
    "def display_ab_dic(ab_dic,extend_half = False):\n",
    "    if extend_half:\n",
    "        max_a = max(a for a,b in ab_dic.keys())\n",
    "        max_a = max_a + (max_a%2)\n",
    "        for (a,b),v in ab_dic.items():\n",
    "            ab_dic[(max_a-b,max_a-a)] = v\n",
    "    a_set = set()\n",
    "    b_set = set()\n",
    "    for a,b in ab_dic.keys():\n",
    "        a_set.add(a)\n",
    "        b_set.add(b)\n",
    "    a_set = sorted(a_set)\n",
    "    b_set = sorted(b_set)\n",
    "    column_string = r'{r|' + ' '.join('l'*len(a_set))+r'}'\n",
    "    rows = list()\n",
    "    for a in a_set:\n",
    "        row_strings = [r'{\\scriptstyle i+j='+str(a)+r'}']\n",
    "        for b in b_set:\n",
    "            if (a,b) in ab_dic:\n",
    "                row_strings.append(ab_dic[(a,b)])\n",
    "            else:\n",
    "                row_strings.append('')\n",
    "        rows.append(r'&'.join(row_strings))\n",
    "    rows.append(r'\\hline h^{i,j}&'+ '&'.join([r'{\\scriptstyle j-i='+str(b)+r'}' for b in b_set]))\n",
    "    all_strings = r'\\\\'.join(rows)\n",
    "    display(Math(r'\\begin{array}'+column_string+all_strings+r'\\end{array}'))"
   ]
  },
  {
   "cell_type": "code",
   "execution_count": 14,
   "metadata": {
    "scrolled": true
   },
   "outputs": [
    {
     "name": "stdout",
     "output_type": "stream",
     "text": [
      "a=4, b=0, k=-2\n",
      "\n"
     ]
    },
    {
     "data": {
      "text/plain": [
       "0"
      ]
     },
     "execution_count": 14,
     "metadata": {},
     "output_type": "execute_result"
    }
   ],
   "source": [
    "BGG = BGGComplex('A2')\n",
    "s = 2\n",
    "i = 2\n",
    "j = 2\n",
    "k = s-i-j\n",
    "print('a=%d, b=%d, k=%d\\n'%(i+j,j-i,k))\n",
    "\n",
    "subset = []\n",
    "cohom = BGGCohomology(BGG, Mijk(BGG,i,j,k,subset=subset), coker=Tijk_basis(BGG, i,j,k,subset=subset))\n",
    "diff, dimspace = cohomology.compute_diff(cohom,(1,1),i)\n",
    "cohom.cohomology_component((1,1),i)"
   ]
  },
  {
   "cell_type": "code",
   "execution_count": 16,
   "metadata": {
    "scrolled": false
   },
   "outputs": [
    {
     "name": "stdout",
     "output_type": "stream",
     "text": [
      "s=0\n",
      "--------------------\n"
     ]
    },
    {
     "data": {
      "application/vnd.jupyter.widget-view+json": {
       "model_id": "0c4bed86de014a809679989f4df27478",
       "version_major": 2,
       "version_minor": 0
      },
      "text/plain": [
       "HBox(children=(IntProgress(value=0, max=6), HTML(value=u'')))"
      ]
     },
     "metadata": {},
     "output_type": "display_data"
    },
    {
     "data": {
      "application/vnd.jupyter.widget-view+json": {
       "model_id": "",
       "version_major": 2,
       "version_minor": 0
      },
      "text/plain": [
       "HBox(children=(IntProgress(value=1, bar_style=u'info', max=1), HTML(value=u'')))"
      ]
     },
     "metadata": {},
     "output_type": "display_data"
    },
    {
     "name": "stdout",
     "output_type": "stream",
     "text": [
      "\n"
     ]
    },
    {
     "data": {
      "text/latex": [
       "$$\\begin{array}{r|l l l l}{\\scriptstyle i+j=0}&\\mathbb{C}&&&\\\\{\\scriptstyle i+j=2}&\\mathbb{C}^{2}&\\mathbb{C}&&\\\\{\\scriptstyle i+j=4}&\\mathbb{C}^{2}&\\mathbb{C}^{3}&\\mathbb{C}&\\\\{\\scriptstyle i+j=6}&\\mathbb{C}&\\mathbb{C}^{2}&\\mathbb{C}^{2}&\\mathbb{C}\\\\\\hline h^{i,j}&{\\scriptstyle j-i=0}&{\\scriptstyle j-i=2}&{\\scriptstyle j-i=4}&{\\scriptstyle j-i=6}\\end{array}$$"
      ],
      "text/plain": [
       "<IPython.core.display.Math object>"
      ]
     },
     "metadata": {},
     "output_type": "display_data"
    },
    {
     "name": "stdout",
     "output_type": "stream",
     "text": [
      "s=1\n",
      "--------------------\n"
     ]
    },
    {
     "data": {
      "application/vnd.jupyter.widget-view+json": {
       "model_id": "7cf2950dba9c46ed8c06ad2b60fe3d80",
       "version_major": 2,
       "version_minor": 0
      },
      "text/plain": [
       "HBox(children=(IntProgress(value=0, max=4), HTML(value=u'')))"
      ]
     },
     "metadata": {},
     "output_type": "display_data"
    },
    {
     "data": {
      "application/vnd.jupyter.widget-view+json": {
       "model_id": "",
       "version_major": 2,
       "version_minor": 0
      },
      "text/plain": [
       "HBox(children=(IntProgress(value=1, bar_style=u'info', max=1), HTML(value=u'')))"
      ]
     },
     "metadata": {},
     "output_type": "display_data"
    },
    {
     "name": "stdout",
     "output_type": "stream",
     "text": [
      "\n"
     ]
    },
    {
     "data": {
      "text/latex": [
       "$$\\begin{array}{r|l l l}{\\scriptstyle i+j=1}&\\mathbb{C}L_{1,1}&&\\\\{\\scriptstyle i+j=3}&\\mathbb{C}^{3}L_{1,1}^{2}&\\mathbb{C}L_{1,1}&\\\\{\\scriptstyle i+j=5}&\\mathbb{C}^{2}&\\mathbb{C}^{3}L_{1,1}^{2}&\\mathbb{C}L_{1,1}\\\\\\hline h^{i,j}&{\\scriptstyle j-i=1}&{\\scriptstyle j-i=3}&{\\scriptstyle j-i=5}\\end{array}$$"
      ],
      "text/plain": [
       "<IPython.core.display.Math object>"
      ]
     },
     "metadata": {},
     "output_type": "display_data"
    },
    {
     "name": "stdout",
     "output_type": "stream",
     "text": [
      "s=2\n",
      "--------------------\n"
     ]
    },
    {
     "data": {
      "application/vnd.jupyter.widget-view+json": {
       "model_id": "9f2eea7d854b48bb8ccf42302184ec60",
       "version_major": 2,
       "version_minor": 0
      },
      "text/plain": [
       "HBox(children=(IntProgress(value=0, max=6), HTML(value=u'')))"
      ]
     },
     "metadata": {},
     "output_type": "display_data"
    },
    {
     "data": {
      "application/vnd.jupyter.widget-view+json": {
       "model_id": "",
       "version_major": 2,
       "version_minor": 0
      },
      "text/plain": [
       "HBox(children=(IntProgress(value=1, bar_style=u'info', max=1), HTML(value=u'')))"
      ]
     },
     "metadata": {},
     "output_type": "display_data"
    },
    {
     "name": "stdout",
     "output_type": "stream",
     "text": [
      "\n"
     ]
    },
    {
     "data": {
      "text/latex": [
       "$$\\begin{array}{r|l l l l}{\\scriptstyle i+j=0}&L_{1,1}&&&\\\\{\\scriptstyle i+j=2}&L_{1,1}^{2}&\\mathbb{C}L_{1,1}^{3}L_{2,1}L_{1,2}&&\\\\{\\scriptstyle i+j=4}&0&\\mathbb{C}L_{1,1}^{4}L_{2,1}^{2}L_{1,2}^{2}&\\mathbb{C}L_{1,1}^{3}L_{2,1}L_{1,2}&\\\\{\\scriptstyle i+j=6}&0&0&L_{1,1}^{2}&L_{1,1}\\\\\\hline h^{i,j}&{\\scriptstyle j-i=0}&{\\scriptstyle j-i=2}&{\\scriptstyle j-i=4}&{\\scriptstyle j-i=6}\\end{array}$$"
      ],
      "text/plain": [
       "<IPython.core.display.Math object>"
      ]
     },
     "metadata": {},
     "output_type": "display_data"
    },
    {
     "name": "stdout",
     "output_type": "stream",
     "text": [
      "s=3\n",
      "--------------------\n"
     ]
    },
    {
     "data": {
      "application/vnd.jupyter.widget-view+json": {
       "model_id": "6a9edf7c3f00456cb0a01db644084c8f",
       "version_major": 2,
       "version_minor": 0
      },
      "text/plain": [
       "HBox(children=(IntProgress(value=0, max=4), HTML(value=u'')))"
      ]
     },
     "metadata": {},
     "output_type": "display_data"
    },
    {
     "data": {
      "application/vnd.jupyter.widget-view+json": {
       "model_id": "",
       "version_major": 2,
       "version_minor": 0
      },
      "text/plain": [
       "HBox(children=(IntProgress(value=1, bar_style=u'info', max=1), HTML(value=u'')))"
      ]
     },
     "metadata": {},
     "output_type": "display_data"
    },
    {
     "name": "stdout",
     "output_type": "stream",
     "text": [
      "\n"
     ]
    },
    {
     "data": {
      "text/latex": [
       "$$\\begin{array}{r|l l l}{\\scriptstyle i+j=1}&\\mathbb{C}L_{1,1}^{3}L_{2,1}L_{1,2}L_{2,2}&&\\\\{\\scriptstyle i+j=3}&L_{1,1}^{2}L_{2,1}^{2}L_{1,2}^{2}L_{2,2}^{2}&\\mathbb{C}^{3}L_{1,1}^{5}L_{2,1}^{3}L_{1,2}^{3}L_{2,2}^{2}&\\\\{\\scriptstyle i+j=5}&0&L_{1,1}^{2}L_{2,1}^{2}L_{1,2}^{2}L_{2,2}^{2}&\\mathbb{C}L_{1,1}^{3}L_{2,1}L_{1,2}L_{2,2}\\\\\\hline h^{i,j}&{\\scriptstyle j-i=1}&{\\scriptstyle j-i=3}&{\\scriptstyle j-i=5}\\end{array}$$"
      ],
      "text/plain": [
       "<IPython.core.display.Math object>"
      ]
     },
     "metadata": {},
     "output_type": "display_data"
    },
    {
     "name": "stdout",
     "output_type": "stream",
     "text": [
      "s=4\n",
      "--------------------\n"
     ]
    },
    {
     "data": {
      "application/vnd.jupyter.widget-view+json": {
       "model_id": "35e831f083e047a4be796746139a0e69",
       "version_major": 2,
       "version_minor": 0
      },
      "text/plain": [
       "HBox(children=(IntProgress(value=0, max=6), HTML(value=u'')))"
      ]
     },
     "metadata": {},
     "output_type": "display_data"
    },
    {
     "data": {
      "application/vnd.jupyter.widget-view+json": {
       "model_id": "",
       "version_major": 2,
       "version_minor": 0
      },
      "text/plain": [
       "HBox(children=(IntProgress(value=1, bar_style=u'info', max=1), HTML(value=u'')))"
      ]
     },
     "metadata": {},
     "output_type": "display_data"
    },
    {
     "name": "stdout",
     "output_type": "stream",
     "text": [
      "\n"
     ]
    },
    {
     "data": {
      "text/latex": [
       "$$\\begin{array}{r|l l l l}{\\scriptstyle i+j=0}&L_{1,1}L_{2,2}&&&\\\\{\\scriptstyle i+j=2}&L_{2,2}^{2}&\\mathbb{C}^{2}L_{1,1}^{6}L_{2,1}^{3}L_{1,2}^{3}L_{2,2}^{5}L_{3,2}L_{2,3}&&\\\\{\\scriptstyle i+j=4}&0&L_{2,1}^{2}L_{1,2}^{2}L_{2,2}^{4}L_{3,2}^{2}L_{2,3}^{2}&\\mathbb{C}^{2}L_{1,1}^{6}L_{2,1}^{3}L_{1,2}^{3}L_{2,2}^{5}L_{3,2}L_{2,3}&\\\\{\\scriptstyle i+j=6}&0&0&L_{2,2}^{2}&L_{1,1}L_{2,2}\\\\\\hline h^{i,j}&{\\scriptstyle j-i=0}&{\\scriptstyle j-i=2}&{\\scriptstyle j-i=4}&{\\scriptstyle j-i=6}\\end{array}$$"
      ],
      "text/plain": [
       "<IPython.core.display.Math object>"
      ]
     },
     "metadata": {},
     "output_type": "display_data"
    },
    {
     "name": "stdout",
     "output_type": "stream",
     "text": [
      "s=5\n",
      "--------------------\n"
     ]
    },
    {
     "data": {
      "application/vnd.jupyter.widget-view+json": {
       "model_id": "c443f78319924839900d536ef7f07e6e",
       "version_major": 2,
       "version_minor": 0
      },
      "text/plain": [
       "HBox(children=(IntProgress(value=0, max=4), HTML(value=u'')))"
      ]
     },
     "metadata": {},
     "output_type": "display_data"
    },
    {
     "data": {
      "application/vnd.jupyter.widget-view+json": {
       "model_id": "",
       "version_major": 2,
       "version_minor": 0
      },
      "text/plain": [
       "HBox(children=(IntProgress(value=1, bar_style=u'info', max=1), HTML(value=u'')))"
      ]
     },
     "metadata": {},
     "output_type": "display_data"
    },
    {
     "name": "stdout",
     "output_type": "stream",
     "text": [
      "\n"
     ]
    },
    {
     "data": {
      "text/latex": [
       "$$\\begin{array}{r|l l l}{\\scriptstyle i+j=1}&L_{1,1}^{3}L_{2,1}^{2}L_{1,2}^{2}L_{2,2}^{4}L_{3,2}L_{2,3}L_{3,3}&&\\\\{\\scriptstyle i+j=3}&L_{2,2}^{2}L_{3,2}^{2}L_{2,3}^{2}L_{3,3}^{2}&\\mathbb{C}L_{1,1}^{8}L_{2,1}^{5}L_{1,2}^{5}L_{2,2}^{9}L_{3,2}^{4}L_{2,3}^{4}L_{3,3}^{2}&\\\\{\\scriptstyle i+j=5}&0&L_{2,2}^{2}L_{3,2}^{2}L_{2,3}^{2}L_{3,3}^{2}&L_{1,1}^{3}L_{2,1}^{2}L_{1,2}^{2}L_{2,2}^{4}L_{3,2}L_{2,3}L_{3,3}\\\\\\hline h^{i,j}&{\\scriptstyle j-i=1}&{\\scriptstyle j-i=3}&{\\scriptstyle j-i=5}\\end{array}$$"
      ],
      "text/plain": [
       "<IPython.core.display.Math object>"
      ]
     },
     "metadata": {},
     "output_type": "display_data"
    },
    {
     "name": "stdout",
     "output_type": "stream",
     "text": [
      "s=6\n",
      "--------------------\n"
     ]
    },
    {
     "data": {
      "application/vnd.jupyter.widget-view+json": {
       "model_id": "deb9e6bce5474b85ac2e4e5256b0edbc",
       "version_major": 2,
       "version_minor": 0
      },
      "text/plain": [
       "HBox(children=(IntProgress(value=0, max=6), HTML(value=u'')))"
      ]
     },
     "metadata": {},
     "output_type": "display_data"
    },
    {
     "data": {
      "application/vnd.jupyter.widget-view+json": {
       "model_id": "",
       "version_major": 2,
       "version_minor": 0
      },
      "text/plain": [
       "HBox(children=(IntProgress(value=1, bar_style=u'info', max=1), HTML(value=u'')))"
      ]
     },
     "metadata": {},
     "output_type": "display_data"
    },
    {
     "name": "stdout",
     "output_type": "stream",
     "text": [
      "\n"
     ]
    },
    {
     "data": {
      "text/latex": [
       "$$\\begin{array}{r|l l l l}{\\scriptstyle i+j=0}&L_{2,1}L_{1,2}L_{2,2}L_{3,3}&&&\\\\{\\scriptstyle i+j=2}&L_{3,3}^{2}&L_{1,1}^{5}L_{2,1}^{5}L_{1,2}^{5}L_{2,2}^{9}L_{3,2}^{5}L_{2,3}^{5}L_{3,3}^{5}L_{4,3}L_{3,4}&&\\\\{\\scriptstyle i+j=4}&0&L_{3,2}^{2}L_{2,3}^{2}L_{3,3}^{4}L_{4,3}^{2}L_{3,4}^{2}&L_{1,1}^{5}L_{2,1}^{5}L_{1,2}^{5}L_{2,2}^{9}L_{3,2}^{5}L_{2,3}^{5}L_{3,3}^{5}L_{4,3}L_{3,4}&\\\\{\\scriptstyle i+j=6}&0&0&L_{3,3}^{2}&L_{2,1}L_{1,2}L_{2,2}L_{3,3}\\\\\\hline h^{i,j}&{\\scriptstyle j-i=0}&{\\scriptstyle j-i=2}&{\\scriptstyle j-i=4}&{\\scriptstyle j-i=6}\\end{array}$$"
      ],
      "text/plain": [
       "<IPython.core.display.Math object>"
      ]
     },
     "metadata": {},
     "output_type": "display_data"
    },
    {
     "name": "stdout",
     "output_type": "stream",
     "text": [
      "s=7\n",
      "--------------------\n"
     ]
    },
    {
     "data": {
      "application/vnd.jupyter.widget-view+json": {
       "model_id": "129cd468065c4f48b00d527d0b87073c",
       "version_major": 2,
       "version_minor": 0
      },
      "text/plain": [
       "HBox(children=(IntProgress(value=0, max=4), HTML(value=u'')))"
      ]
     },
     "metadata": {},
     "output_type": "display_data"
    },
    {
     "data": {
      "application/vnd.jupyter.widget-view+json": {
       "model_id": "",
       "version_major": 2,
       "version_minor": 0
      },
      "text/plain": [
       "HBox(children=(IntProgress(value=1, bar_style=u'info', max=1), HTML(value=u'')))"
      ]
     },
     "metadata": {},
     "output_type": "display_data"
    },
    {
     "name": "stdout",
     "output_type": "stream",
     "text": [
      "\n"
     ]
    },
    {
     "data": {
      "text/latex": [
       "$$\\begin{array}{r|l l l}{\\scriptstyle i+j=1}&L_{1,1}L_{2,1}^{2}L_{1,2}^{2}L_{2,2}^{5}L_{3,2}^{3}L_{2,3}^{3}L_{3,3}^{4}L_{4,3}L_{3,4}L_{4,4}&&\\\\{\\scriptstyle i+j=3}&L_{3,3}^{2}L_{4,3}^{2}L_{3,4}^{2}L_{4,4}^{2}&L_{1,1}^{5}L_{2,1}^{5}L_{1,2}^{5}L_{2,2}^{13}L_{3,2}^{9}L_{2,3}^{9}L_{4,2}L_{3,3}^{10}L_{2,4}L_{4,3}^{4}L_{3,4}^{4}L_{4,4}^{2}&\\\\{\\scriptstyle i+j=5}&0&L_{3,3}^{2}L_{4,3}^{2}L_{3,4}^{2}L_{4,4}^{2}&L_{1,1}L_{2,1}^{2}L_{1,2}^{2}L_{2,2}^{5}L_{3,2}^{3}L_{2,3}^{3}L_{3,3}^{4}L_{4,3}L_{3,4}L_{4,4}\\\\\\hline h^{i,j}&{\\scriptstyle j-i=1}&{\\scriptstyle j-i=3}&{\\scriptstyle j-i=5}\\end{array}$$"
      ],
      "text/plain": [
       "<IPython.core.display.Math object>"
      ]
     },
     "metadata": {},
     "output_type": "display_data"
    },
    {
     "name": "stdout",
     "output_type": "stream",
     "text": [
      "s=8\n",
      "--------------------\n"
     ]
    },
    {
     "data": {
      "application/vnd.jupyter.widget-view+json": {
       "model_id": "bb4ea7b7975040309c95d56d05d1f38b",
       "version_major": 2,
       "version_minor": 0
      },
      "text/plain": [
       "HBox(children=(IntProgress(value=0, max=6), HTML(value=u'')))"
      ]
     },
     "metadata": {},
     "output_type": "display_data"
    },
    {
     "data": {
      "application/vnd.jupyter.widget-view+json": {
       "model_id": "",
       "version_major": 2,
       "version_minor": 0
      },
      "text/plain": [
       "HBox(children=(IntProgress(value=1, bar_style=u'info', max=1), HTML(value=u'')))"
      ]
     },
     "metadata": {},
     "output_type": "display_data"
    },
    {
     "name": "stdout",
     "output_type": "stream",
     "text": [
      "\n"
     ]
    },
    {
     "data": {
      "text/latex": [
       "$$\\begin{array}{r|l l l l}{\\scriptstyle i+j=0}&L_{2,2}L_{3,2}L_{2,3}L_{3,3}L_{4,4}&&&\\\\{\\scriptstyle i+j=2}&L_{4,4}^{2}&L_{1,1}^{2}L_{2,1}^{3}L_{1,2}^{3}L_{2,2}^{10}L_{3,2}^{8}L_{2,3}^{8}L_{4,2}^{2}L_{3,3}^{11}L_{2,4}^{2}L_{4,3}^{5}L_{3,4}^{5}L_{4,4}^{5}L_{5,4}L_{4,5}&&\\\\{\\scriptstyle i+j=4}&0&L_{4,3}^{2}L_{3,4}^{2}L_{4,4}^{4}L_{5,4}^{2}L_{4,5}^{2}&L_{1,1}^{2}L_{2,1}^{3}L_{1,2}^{3}L_{2,2}^{10}L_{3,2}^{8}L_{2,3}^{8}L_{4,2}^{2}L_{3,3}^{11}L_{2,4}^{2}L_{4,3}^{5}L_{3,4}^{5}L_{4,4}^{5}L_{5,4}L_{4,5}&\\\\{\\scriptstyle i+j=6}&0&0&L_{4,4}^{2}&L_{2,2}L_{3,2}L_{2,3}L_{3,3}L_{4,4}\\\\\\hline h^{i,j}&{\\scriptstyle j-i=0}&{\\scriptstyle j-i=2}&{\\scriptstyle j-i=4}&{\\scriptstyle j-i=6}\\end{array}$$"
      ],
      "text/plain": [
       "<IPython.core.display.Math object>"
      ]
     },
     "metadata": {},
     "output_type": "display_data"
    },
    {
     "name": "stdout",
     "output_type": "stream",
     "text": [
      "s=9\n",
      "--------------------\n"
     ]
    },
    {
     "data": {
      "application/vnd.jupyter.widget-view+json": {
       "model_id": "5d0f9957322e48b3941f600ae63182a2",
       "version_major": 2,
       "version_minor": 0
      },
      "text/plain": [
       "HBox(children=(IntProgress(value=0, max=4), HTML(value=u'')))"
      ]
     },
     "metadata": {},
     "output_type": "display_data"
    },
    {
     "data": {
      "application/vnd.jupyter.widget-view+json": {
       "model_id": "",
       "version_major": 2,
       "version_minor": 0
      },
      "text/plain": [
       "HBox(children=(IntProgress(value=1, bar_style=u'info', max=1), HTML(value=u'')))"
      ]
     },
     "metadata": {},
     "output_type": "display_data"
    },
    {
     "name": "stdout",
     "output_type": "stream",
     "text": [
      "\n"
     ]
    },
    {
     "data": {
      "text/latex": [
       "$$\\begin{array}{r|l l l}{\\scriptstyle i+j=1}&L_{2,1}L_{1,2}L_{2,2}^{3}L_{3,2}^{4}L_{2,3}^{4}L_{4,2}L_{3,3}^{6}L_{2,4}L_{4,3}^{3}L_{3,4}^{3}L_{4,4}^{4}L_{5,4}L_{4,5}L_{5,5}&&\\\\{\\scriptstyle i+j=3}&L_{4,4}^{2}L_{5,4}^{2}L_{4,5}^{2}L_{5,5}^{2}&L_{1,1}L_{2,1}^{4}L_{1,2}^{4}L_{2,2}^{10}L_{3,2}^{10}L_{2,3}^{10}L_{4,2}^{4}L_{3,3}^{17}L_{2,4}^{4}L_{4,3}^{10}L_{3,4}^{10}L_{5,3}L_{4,4}^{10}L_{3,5}L_{5,4}^{4}L_{4,5}^{4}L_{5,5}^{2}&\\\\{\\scriptstyle i+j=5}&0&L_{4,4}^{2}L_{5,4}^{2}L_{4,5}^{2}L_{5,5}^{2}&L_{2,1}L_{1,2}L_{2,2}^{3}L_{3,2}^{4}L_{2,3}^{4}L_{4,2}L_{3,3}^{6}L_{2,4}L_{4,3}^{3}L_{3,4}^{3}L_{4,4}^{4}L_{5,4}L_{4,5}L_{5,5}\\\\\\hline h^{i,j}&{\\scriptstyle j-i=1}&{\\scriptstyle j-i=3}&{\\scriptstyle j-i=5}\\end{array}$$"
      ],
      "text/plain": [
       "<IPython.core.display.Math object>"
      ]
     },
     "metadata": {},
     "output_type": "display_data"
    },
    {
     "name": "stdout",
     "output_type": "stream",
     "text": [
      "s=10\n",
      "--------------------\n"
     ]
    },
    {
     "data": {
      "application/vnd.jupyter.widget-view+json": {
       "model_id": "dfa4a8da62e34c61b0dafcc79c3b3165",
       "version_major": 2,
       "version_minor": 0
      },
      "text/plain": [
       "HBox(children=(IntProgress(value=0, max=6), HTML(value=u'')))"
      ]
     },
     "metadata": {},
     "output_type": "display_data"
    },
    {
     "data": {
      "application/vnd.jupyter.widget-view+json": {
       "model_id": "",
       "version_major": 2,
       "version_minor": 0
      },
      "text/plain": [
       "HBox(children=(IntProgress(value=1, bar_style=u'info', max=1), HTML(value=u'')))"
      ]
     },
     "metadata": {},
     "output_type": "display_data"
    },
    {
     "name": "stdout",
     "output_type": "stream",
     "text": [
      "\n"
     ]
    },
    {
     "data": {
      "text/latex": [
       "$$\\begin{array}{r|l l l l}{\\scriptstyle i+j=0}&L_{3,2}L_{2,3}L_{3,3}L_{4,3}L_{3,4}L_{4,4}L_{5,5}&&&\\\\{\\scriptstyle i+j=2}&L_{5,5}^{2}&L_{2,1}^{2}L_{1,2}^{2}L_{2,2}^{5}L_{3,2}^{8}L_{2,3}^{8}L_{4,2}^{3}L_{3,3}^{13}L_{2,4}^{3}L_{4,3}^{10}L_{3,4}^{10}L_{5,3}^{2}L_{4,4}^{11}L_{3,5}^{2}L_{5,4}^{5}L_{4,5}^{5}L_{5,5}^{5}L_{6,5}L_{5,6}&&\\\\{\\scriptstyle i+j=4}&0&L_{5,4}^{2}L_{4,5}^{2}L_{5,5}^{4}L_{6,5}^{2}L_{5,6}^{2}&L_{2,1}^{2}L_{1,2}^{2}L_{2,2}^{5}L_{3,2}^{8}L_{2,3}^{8}L_{4,2}^{3}L_{3,3}^{13}L_{2,4}^{3}L_{4,3}^{10}L_{3,4}^{10}L_{5,3}^{2}L_{4,4}^{11}L_{3,5}^{2}L_{5,4}^{5}L_{4,5}^{5}L_{5,5}^{5}L_{6,5}L_{5,6}&\\\\{\\scriptstyle i+j=6}&0&0&L_{5,5}^{2}&L_{3,2}L_{2,3}L_{3,3}L_{4,3}L_{3,4}L_{4,4}L_{5,5}\\\\\\hline h^{i,j}&{\\scriptstyle j-i=0}&{\\scriptstyle j-i=2}&{\\scriptstyle j-i=4}&{\\scriptstyle j-i=6}\\end{array}$$"
      ],
      "text/plain": [
       "<IPython.core.display.Math object>"
      ]
     },
     "metadata": {},
     "output_type": "display_data"
    },
    {
     "name": "stdout",
     "output_type": "stream",
     "text": [
      "s=11\n",
      "--------------------\n"
     ]
    },
    {
     "data": {
      "application/vnd.jupyter.widget-view+json": {
       "model_id": "297fc57ca62a459b97cce96535dad53e",
       "version_major": 2,
       "version_minor": 0
      },
      "text/plain": [
       "HBox(children=(IntProgress(value=0, max=4), HTML(value=u'')))"
      ]
     },
     "metadata": {},
     "output_type": "display_data"
    },
    {
     "data": {
      "application/vnd.jupyter.widget-view+json": {
       "model_id": "",
       "version_major": 2,
       "version_minor": 0
      },
      "text/plain": [
       "HBox(children=(IntProgress(value=1, bar_style=u'info', max=1), HTML(value=u'')))"
      ]
     },
     "metadata": {},
     "output_type": "display_data"
    },
    {
     "name": "stdout",
     "output_type": "stream",
     "text": [
      "\n"
     ]
    },
    {
     "data": {
      "text/latex": [
       "$$\\begin{array}{r|l l l}{\\scriptstyle i+j=1}&L_{2,2}L_{3,2}^{3}L_{2,3}^{3}L_{4,2}^{2}L_{3,3}^{5}L_{2,4}^{2}L_{4,3}^{5}L_{3,4}^{5}L_{5,3}L_{4,4}^{6}L_{3,5}L_{5,4}^{3}L_{4,5}^{3}L_{5,5}^{4}L_{6,5}L_{5,6}L_{6,6}&&\\\\{\\scriptstyle i+j=3}&L_{5,5}^{2}L_{6,5}^{2}L_{5,6}^{2}L_{6,6}^{2}&L_{2,1}L_{1,2}L_{2,2}^{5}L_{3,2}^{9}L_{2,3}^{9}L_{4,2}^{5}L_{3,3}^{15}L_{2,4}^{5}L_{4,3}^{14}L_{3,4}^{14}L_{5,3}^{5}L_{4,4}^{18}L_{3,5}^{5}L_{5,4}^{10}L_{4,5}^{10}L_{6,4}L_{5,5}^{10}L_{4,6}L_{6,5}^{4}L_{5,6}^{4}L_{6,6}^{2}&\\\\{\\scriptstyle i+j=5}&0&L_{5,5}^{2}L_{6,5}^{2}L_{5,6}^{2}L_{6,6}^{2}&L_{2,2}L_{3,2}^{3}L_{2,3}^{3}L_{4,2}^{2}L_{3,3}^{5}L_{2,4}^{2}L_{4,3}^{5}L_{3,4}^{5}L_{5,3}L_{4,4}^{6}L_{3,5}L_{5,4}^{3}L_{4,5}^{3}L_{5,5}^{4}L_{6,5}L_{5,6}L_{6,6}\\\\\\hline h^{i,j}&{\\scriptstyle j-i=1}&{\\scriptstyle j-i=3}&{\\scriptstyle j-i=5}\\end{array}$$"
      ],
      "text/plain": [
       "<IPython.core.display.Math object>"
      ]
     },
     "metadata": {},
     "output_type": "display_data"
    },
    {
     "name": "stdout",
     "output_type": "stream",
     "text": [
      "s=12\n",
      "--------------------\n"
     ]
    },
    {
     "data": {
      "application/vnd.jupyter.widget-view+json": {
       "model_id": "ec927b13be3c488aabba3122e616af71",
       "version_major": 2,
       "version_minor": 0
      },
      "text/plain": [
       "HBox(children=(IntProgress(value=0, max=6), HTML(value=u'')))"
      ]
     },
     "metadata": {},
     "output_type": "display_data"
    },
    {
     "data": {
      "application/vnd.jupyter.widget-view+json": {
       "model_id": "",
       "version_major": 2,
       "version_minor": 0
      },
      "text/plain": [
       "HBox(children=(IntProgress(value=1, bar_style=u'info', max=1), HTML(value=u'')))"
      ]
     },
     "metadata": {},
     "output_type": "display_data"
    },
    {
     "name": "stdout",
     "output_type": "stream",
     "text": [
      "\n"
     ]
    },
    {
     "data": {
      "text/latex": [
       "$$\\begin{array}{r|l l l l}{\\scriptstyle i+j=0}&L_{4,2}L_{3,3}L_{2,4}L_{4,3}L_{3,4}L_{4,4}L_{5,4}L_{4,5}L_{5,5}L_{6,6}&&&\\\\{\\scriptstyle i+j=2}&L_{6,6}^{2}&L_{2,2}^{2}L_{3,2}^{5}L_{2,3}^{5}L_{4,2}^{5}L_{3,3}^{10}L_{2,4}^{5}L_{4,3}^{11}L_{3,4}^{11}L_{5,3}^{5}L_{4,4}^{15}L_{3,5}^{5}L_{5,4}^{10}L_{4,5}^{10}L_{6,4}^{2}L_{5,5}^{11}L_{4,6}^{2}L_{6,5}^{5}L_{5,6}^{5}L_{6,6}^{5}L_{7,6}L_{6,7}&&\\\\{\\scriptstyle i+j=4}&0&L_{6,5}^{2}L_{5,6}^{2}L_{6,6}^{4}L_{7,6}^{2}L_{6,7}^{2}&L_{2,2}^{2}L_{3,2}^{5}L_{2,3}^{5}L_{4,2}^{5}L_{3,3}^{10}L_{2,4}^{5}L_{4,3}^{11}L_{3,4}^{11}L_{5,3}^{5}L_{4,4}^{15}L_{3,5}^{5}L_{5,4}^{10}L_{4,5}^{10}L_{6,4}^{2}L_{5,5}^{11}L_{4,6}^{2}L_{6,5}^{5}L_{5,6}^{5}L_{6,6}^{5}L_{7,6}L_{6,7}&\\\\{\\scriptstyle i+j=6}&0&0&L_{6,6}^{2}&L_{4,2}L_{3,3}L_{2,4}L_{4,3}L_{3,4}L_{4,4}L_{5,4}L_{4,5}L_{5,5}L_{6,6}\\\\\\hline h^{i,j}&{\\scriptstyle j-i=0}&{\\scriptstyle j-i=2}&{\\scriptstyle j-i=4}&{\\scriptstyle j-i=6}\\end{array}$$"
      ],
      "text/plain": [
       "<IPython.core.display.Math object>"
      ]
     },
     "metadata": {},
     "output_type": "display_data"
    },
    {
     "name": "stdout",
     "output_type": "stream",
     "text": [
      "s=13\n",
      "--------------------\n"
     ]
    },
    {
     "data": {
      "application/vnd.jupyter.widget-view+json": {
       "model_id": "67601c6dc4e840e9ba86c29f5e8db7a0",
       "version_major": 2,
       "version_minor": 0
      },
      "text/plain": [
       "HBox(children=(IntProgress(value=0, max=4), HTML(value=u'')))"
      ]
     },
     "metadata": {},
     "output_type": "display_data"
    },
    {
     "data": {
      "application/vnd.jupyter.widget-view+json": {
       "model_id": "",
       "version_major": 2,
       "version_minor": 0
      },
      "text/plain": [
       "HBox(children=(IntProgress(value=1, bar_style=u'info', max=1), HTML(value=u'')))"
      ]
     },
     "metadata": {},
     "output_type": "display_data"
    },
    {
     "name": "stdout",
     "output_type": "stream",
     "text": [
      "\n"
     ]
    },
    {
     "data": {
      "text/latex": [
       "$$\\begin{array}{r|l l l}{\\scriptstyle i+j=1}&L_{3,2}L_{2,3}L_{4,2}^{2}L_{3,3}^{3}L_{2,4}^{2}L_{4,3}^{5}L_{3,4}^{5}L_{5,3}^{3}L_{4,4}^{6}L_{3,5}^{3}L_{5,4}^{5}L_{4,5}^{5}L_{6,4}L_{5,5}^{6}L_{4,6}L_{6,5}^{3}L_{5,6}^{3}L_{6,6}^{4}L_{7,6}L_{6,7}L_{7,7}&&\\\\{\\scriptstyle i+j=3}&L_{6,6}^{2}L_{7,6}^{2}L_{6,7}^{2}L_{7,7}^{2}&L_{2,2}L_{3,2}^{5}L_{2,3}^{5}L_{4,2}^{5}L_{3,3}^{10}L_{2,4}^{5}L_{4,3}^{14}L_{3,4}^{14}L_{5,3}^{9}L_{4,4}^{19}L_{3,5}^{9}L_{6,3}L_{5,4}^{15}L_{4,5}^{15}L_{3,6}L_{6,4}^{5}L_{5,5}^{18}L_{4,6}^{5}L_{6,5}^{10}L_{5,6}^{10}L_{7,5}L_{6,6}^{10}L_{5,7}L_{7,6}^{4}L_{6,7}^{4}L_{7,7}^{2}&\\\\{\\scriptstyle i+j=5}&0&L_{6,6}^{2}L_{7,6}^{2}L_{6,7}^{2}L_{7,7}^{2}&L_{3,2}L_{2,3}L_{4,2}^{2}L_{3,3}^{3}L_{2,4}^{2}L_{4,3}^{5}L_{3,4}^{5}L_{5,3}^{3}L_{4,4}^{6}L_{3,5}^{3}L_{5,4}^{5}L_{4,5}^{5}L_{6,4}L_{5,5}^{6}L_{4,6}L_{6,5}^{3}L_{5,6}^{3}L_{6,6}^{4}L_{7,6}L_{6,7}L_{7,7}\\\\\\hline h^{i,j}&{\\scriptstyle j-i=1}&{\\scriptstyle j-i=3}&{\\scriptstyle j-i=5}\\end{array}$$"
      ],
      "text/plain": [
       "<IPython.core.display.Math object>"
      ]
     },
     "metadata": {},
     "output_type": "display_data"
    },
    {
     "name": "stdout",
     "output_type": "stream",
     "text": [
      "s=14\n",
      "--------------------\n"
     ]
    },
    {
     "data": {
      "application/vnd.jupyter.widget-view+json": {
       "model_id": "eb3cd6e00237464e80ab9a034f0a4a15",
       "version_major": 2,
       "version_minor": 0
      },
      "text/plain": [
       "HBox(children=(IntProgress(value=0, max=6), HTML(value=u'')))"
      ]
     },
     "metadata": {},
     "output_type": "display_data"
    },
    {
     "data": {
      "application/vnd.jupyter.widget-view+json": {
       "model_id": "",
       "version_major": 2,
       "version_minor": 0
      },
      "text/plain": [
       "HBox(children=(IntProgress(value=1, bar_style=u'info', max=1), HTML(value=u'')))"
      ]
     },
     "metadata": {},
     "output_type": "display_data"
    },
    {
     "name": "stdout",
     "output_type": "stream",
     "text": [
      "\n"
     ]
    },
    {
     "data": {
      "text/latex": [
       "$$\\begin{array}{r|l l l l}{\\scriptstyle i+j=0}&L_{4,3}L_{3,4}L_{5,3}L_{4,4}L_{3,5}L_{5,4}L_{4,5}L_{5,5}L_{6,5}L_{5,6}L_{6,6}L_{7,7}&&&\\\\{\\scriptstyle i+j=2}&L_{7,7}^{2}&L_{3,2}^{2}L_{2,3}^{2}L_{4,2}^{3}L_{3,3}^{5}L_{2,4}^{3}L_{4,3}^{10}L_{3,4}^{10}L_{5,3}^{8}L_{4,4}^{13}L_{3,5}^{8}L_{6,3}^{2}L_{5,4}^{13}L_{4,5}^{13}L_{3,6}^{2}L_{6,4}^{5}L_{5,5}^{15}L_{4,6}^{5}L_{6,5}^{10}L_{5,6}^{10}L_{7,5}^{2}L_{6,6}^{11}L_{5,7}^{2}L_{7,6}^{5}L_{6,7}^{5}L_{7,7}^{5}L_{8,7}L_{7,8}&&\\\\{\\scriptstyle i+j=4}&0&L_{7,6}^{2}L_{6,7}^{2}L_{7,7}^{4}L_{8,7}^{2}L_{7,8}^{2}&L_{3,2}^{2}L_{2,3}^{2}L_{4,2}^{3}L_{3,3}^{5}L_{2,4}^{3}L_{4,3}^{10}L_{3,4}^{10}L_{5,3}^{8}L_{4,4}^{13}L_{3,5}^{8}L_{6,3}^{2}L_{5,4}^{13}L_{4,5}^{13}L_{3,6}^{2}L_{6,4}^{5}L_{5,5}^{15}L_{4,6}^{5}L_{6,5}^{10}L_{5,6}^{10}L_{7,5}^{2}L_{6,6}^{11}L_{5,7}^{2}L_{7,6}^{5}L_{6,7}^{5}L_{7,7}^{5}L_{8,7}L_{7,8}&\\\\{\\scriptstyle i+j=6}&0&0&L_{7,7}^{2}&L_{4,3}L_{3,4}L_{5,3}L_{4,4}L_{3,5}L_{5,4}L_{4,5}L_{5,5}L_{6,5}L_{5,6}L_{6,6}L_{7,7}\\\\\\hline h^{i,j}&{\\scriptstyle j-i=0}&{\\scriptstyle j-i=2}&{\\scriptstyle j-i=4}&{\\scriptstyle j-i=6}\\end{array}$$"
      ],
      "text/plain": [
       "<IPython.core.display.Math object>"
      ]
     },
     "metadata": {},
     "output_type": "display_data"
    },
    {
     "name": "stdout",
     "output_type": "stream",
     "text": [
      "s=15\n",
      "--------------------\n"
     ]
    },
    {
     "data": {
      "application/vnd.jupyter.widget-view+json": {
       "model_id": "5ea137744dca4bf986a2657b5c7358f0",
       "version_major": 2,
       "version_minor": 0
      },
      "text/plain": [
       "HBox(children=(IntProgress(value=0, max=4), HTML(value=u'')))"
      ]
     },
     "metadata": {},
     "output_type": "display_data"
    },
    {
     "data": {
      "application/vnd.jupyter.widget-view+json": {
       "model_id": "",
       "version_major": 2,
       "version_minor": 0
      },
      "text/plain": [
       "HBox(children=(IntProgress(value=1, bar_style=u'info', max=1), HTML(value=u'')))"
      ]
     },
     "metadata": {},
     "output_type": "display_data"
    },
    {
     "name": "stdout",
     "output_type": "stream",
     "text": [
      "\n"
     ]
    },
    {
     "ename": "KeyboardInterrupt",
     "evalue": "",
     "output_type": "error",
     "traceback": [
      "\u001b[0;31m---------------------------------------------------------------------------\u001b[0m",
      "\u001b[0;31mKeyboardInterrupt\u001b[0m                         Traceback (most recent call last)",
      "\u001b[0;32m<ipython-input-16-e4073f14a5a6>\u001b[0m in \u001b[0;36m<module>\u001b[0;34m()\u001b[0m\n\u001b[1;32m     15\u001b[0m                                       coker=coker)\n\u001b[1;32m     16\u001b[0m                 \u001b[0mouter_pbar\u001b[0m\u001b[0;34m.\u001b[0m\u001b[0mset_description\u001b[0m\u001b[0;34m(\u001b[0m\u001b[0;34m'Computing cohomology'\u001b[0m\u001b[0;34m)\u001b[0m\u001b[0;34m\u001b[0m\u001b[0m\n\u001b[0;32m---> 17\u001b[0;31m                 \u001b[0mcohom_string\u001b[0m \u001b[0;34m=\u001b[0m \u001b[0mcohom\u001b[0m\u001b[0;34m.\u001b[0m\u001b[0mcohomology_LaTeX\u001b[0m\u001b[0;34m(\u001b[0m\u001b[0mi\u001b[0m\u001b[0;34m=\u001b[0m\u001b[0mi\u001b[0m\u001b[0;34m,\u001b[0m\u001b[0monly_strings\u001b[0m\u001b[0;34m=\u001b[0m\u001b[0mTrue\u001b[0m\u001b[0;34m,\u001b[0m\u001b[0mcompact\u001b[0m\u001b[0;34m=\u001b[0m\u001b[0mTrue\u001b[0m\u001b[0;34m)\u001b[0m\u001b[0;34m\u001b[0m\u001b[0m\n\u001b[0m\u001b[1;32m     18\u001b[0m                 \u001b[0mab_dic\u001b[0m\u001b[0;34m[\u001b[0m\u001b[0;34m(\u001b[0m\u001b[0ma\u001b[0m\u001b[0;34m,\u001b[0m\u001b[0mb\u001b[0m\u001b[0;34m)\u001b[0m\u001b[0;34m]\u001b[0m\u001b[0;34m=\u001b[0m\u001b[0mcohom_string\u001b[0m\u001b[0;34m\u001b[0m\u001b[0m\n\u001b[1;32m     19\u001b[0m     \u001b[0mdisplay_ab_dic\u001b[0m\u001b[0;34m(\u001b[0m\u001b[0mab_dic\u001b[0m\u001b[0;34m,\u001b[0m\u001b[0mextend_half\u001b[0m \u001b[0;34m=\u001b[0m \u001b[0mTrue\u001b[0m\u001b[0;34m)\u001b[0m\u001b[0;34m\u001b[0m\u001b[0m\n",
      "\u001b[0;32m/home/sage/Documents/GitHub/BGG/bggcomplex/fast_module.py\u001b[0m in \u001b[0;36mcohomology_LaTeX\u001b[0;34m(self, i, complex_string, only_non_zero, print_betti, print_modules, only_strings, compact)\u001b[0m\n\u001b[1;32m   1035\u001b[0m                     \u001b[0;32mreturn\u001b[0m \u001b[0mNone\u001b[0m\u001b[0;34m\u001b[0m\u001b[0m\n\u001b[1;32m   1036\u001b[0m         \u001b[0;32melse\u001b[0m\u001b[0;34m:\u001b[0m\u001b[0;34m\u001b[0m\u001b[0m\n\u001b[0;32m-> 1037\u001b[0;31m             \u001b[0mcohom_i\u001b[0m \u001b[0;34m=\u001b[0m \u001b[0mself\u001b[0m\u001b[0;34m.\u001b[0m\u001b[0mcohomology\u001b[0m\u001b[0;34m(\u001b[0m\u001b[0mi\u001b[0m\u001b[0;34m)\u001b[0m\u001b[0;34m\u001b[0m\u001b[0m\n\u001b[0m\u001b[1;32m   1038\u001b[0m             \u001b[0;32mif\u001b[0m \u001b[0mlen\u001b[0m\u001b[0;34m(\u001b[0m\u001b[0mcohom_i\u001b[0m\u001b[0;34m)\u001b[0m\u001b[0;34m==\u001b[0m\u001b[0;36m0\u001b[0m\u001b[0;34m:\u001b[0m \u001b[0;31m#particular i, and zero cohomology:\u001b[0m\u001b[0;34m\u001b[0m\u001b[0m\n\u001b[1;32m   1039\u001b[0m                 \u001b[0;32mif\u001b[0m \u001b[0monly_strings\u001b[0m\u001b[0;34m:\u001b[0m\u001b[0;34m\u001b[0m\u001b[0m\n",
      "\u001b[0;32m/home/sage/Documents/GitHub/BGG/bggcomplex/fast_module.py\u001b[0m in \u001b[0;36mcohomology\u001b[0;34m(self, i)\u001b[0m\n\u001b[1;32m    987\u001b[0m         \u001b[0;31m# For non-isolated weights, multiplicity is computed through the BGG differential\u001b[0m\u001b[0;34m\u001b[0m\u001b[0;34m\u001b[0m\u001b[0m\n\u001b[1;32m    988\u001b[0m         \u001b[0;32mfor\u001b[0m \u001b[0mw\u001b[0m \u001b[0;32min\u001b[0m \u001b[0mdominant_non_trivial\u001b[0m\u001b[0;34m:\u001b[0m\u001b[0;34m\u001b[0m\u001b[0m\n\u001b[0;32m--> 989\u001b[0;31m             \u001b[0mcohom_dim\u001b[0m \u001b[0;34m=\u001b[0m \u001b[0mself\u001b[0m\u001b[0;34m.\u001b[0m\u001b[0mcohomology_component\u001b[0m\u001b[0;34m(\u001b[0m\u001b[0mw\u001b[0m\u001b[0;34m,\u001b[0m \u001b[0mi\u001b[0m\u001b[0;34m)\u001b[0m\u001b[0;34m\u001b[0m\u001b[0m\n\u001b[0m\u001b[1;32m    990\u001b[0m             \u001b[0;32mif\u001b[0m \u001b[0mcohom_dim\u001b[0m \u001b[0;34m>\u001b[0m \u001b[0;36m0\u001b[0m\u001b[0;34m:\u001b[0m\u001b[0;34m\u001b[0m\u001b[0m\n\u001b[1;32m    991\u001b[0m                 \u001b[0mcohomology\u001b[0m\u001b[0;34m[\u001b[0m\u001b[0mw\u001b[0m\u001b[0;34m]\u001b[0m \u001b[0;34m+=\u001b[0m \u001b[0mcohom_dim\u001b[0m\u001b[0;34m\u001b[0m\u001b[0m\n",
      "\u001b[0;32m/home/sage/Documents/GitHub/BGG/bggcomplex/fast_module.py\u001b[0m in \u001b[0;36mcohomology_component\u001b[0;34m(self, mu, i)\u001b[0m\n\u001b[1;32m    943\u001b[0m \u001b[0;34m\u001b[0m\u001b[0m\n\u001b[1;32m    944\u001b[0m         \u001b[0md_i\u001b[0m\u001b[0;34m,\u001b[0m \u001b[0mchain_dim\u001b[0m \u001b[0;34m=\u001b[0m \u001b[0mcohomology\u001b[0m\u001b[0;34m.\u001b[0m\u001b[0mcompute_diff\u001b[0m\u001b[0;34m(\u001b[0m\u001b[0mself\u001b[0m\u001b[0;34m,\u001b[0m\u001b[0mmu\u001b[0m\u001b[0;34m,\u001b[0m\u001b[0mi\u001b[0m\u001b[0;34m)\u001b[0m\u001b[0;34m\u001b[0m\u001b[0m\n\u001b[0;32m--> 945\u001b[0;31m         \u001b[0md_i_minus_1\u001b[0m\u001b[0;34m,\u001b[0m \u001b[0m_\u001b[0m \u001b[0;34m=\u001b[0m \u001b[0mcohomology\u001b[0m\u001b[0;34m.\u001b[0m\u001b[0mcompute_diff\u001b[0m\u001b[0;34m(\u001b[0m\u001b[0mself\u001b[0m\u001b[0;34m,\u001b[0m\u001b[0mmu\u001b[0m\u001b[0;34m,\u001b[0m\u001b[0mi\u001b[0m\u001b[0;34m-\u001b[0m\u001b[0;36m1\u001b[0m\u001b[0;34m)\u001b[0m\u001b[0;34m\u001b[0m\u001b[0m\n\u001b[0m\u001b[1;32m    946\u001b[0m \u001b[0;34m\u001b[0m\u001b[0m\n\u001b[1;32m    947\u001b[0m         \u001b[0mrank_1\u001b[0m \u001b[0;34m=\u001b[0m \u001b[0md_i\u001b[0m\u001b[0;34m.\u001b[0m\u001b[0mrank\u001b[0m\u001b[0;34m(\u001b[0m\u001b[0;34m)\u001b[0m\u001b[0;34m\u001b[0m\u001b[0m\n",
      "\u001b[0;32m/home/sage/Documents/GitHub/BGG/bggcomplex/cohomology.pyx\u001b[0m in \u001b[0;36mcohomology.compute_diff\u001b[0;34m()\u001b[0m\n\u001b[1;32m    227\u001b[0m                     \u001b[0;31m# compute the action of the PBW element\u001b[0m\u001b[0;34m\u001b[0m\u001b[0;34m\u001b[0m\u001b[0m\n\u001b[1;32m    228\u001b[0m                     \u001b[0;31m# map is multiplied by sign. Need to convert sign to Rational to avoid errors in newer sage version\u001b[0m\u001b[0;34m\u001b[0m\u001b[0;34m\u001b[0m\u001b[0m\n\u001b[0;32m--> 229\u001b[0;31m                     \u001b[0mbasis_action\u001b[0m \u001b[0;34m=\u001b[0m \u001b[0maction_on_basis\u001b[0m\u001b[0;34m(\u001b[0m\u001b[0mmaps\u001b[0m\u001b[0;34m[\u001b[0m\u001b[0ma\u001b[0m\u001b[0;34m]\u001b[0m\u001b[0;34m*\u001b[0m\u001b[0mRational\u001b[0m\u001b[0;34m(\u001b[0m\u001b[0msign\u001b[0m\u001b[0;34m)\u001b[0m\u001b[0;34m,\u001b[0m\u001b[0mweight_comp\u001b[0m\u001b[0;34m,\u001b[0m\u001b[0mmodule\u001b[0m\u001b[0;34m,\u001b[0m\u001b[0mfactory\u001b[0m\u001b[0;34m,\u001b[0m\u001b[0mcomp_num\u001b[0m\u001b[0;34m)\u001b[0m\u001b[0;34m\u001b[0m\u001b[0m\n\u001b[0m\u001b[1;32m    230\u001b[0m \u001b[0;34m\u001b[0m\u001b[0m\n\u001b[1;32m    231\u001b[0m                     \u001b[0mbasis_action\u001b[0m\u001b[0;34m[\u001b[0m\u001b[0;34m:\u001b[0m\u001b[0;34m,\u001b[0m\u001b[0;34m-\u001b[0m\u001b[0;36m2\u001b[0m\u001b[0;34m]\u001b[0m \u001b[0;34m+=\u001b[0m \u001b[0mcomp_offset_s\u001b[0m \u001b[0;31m# update source\u001b[0m\u001b[0;34m\u001b[0m\u001b[0m\n",
      "\u001b[0;32m/home/sage/Documents/GitHub/BGG/bggcomplex/cohomology.pyx\u001b[0m in \u001b[0;36mcohomology.action_on_basis\u001b[0;34m()\u001b[0m\n\u001b[1;32m    145\u001b[0m         \u001b[0;32mfor\u001b[0m \u001b[0mterm\u001b[0m \u001b[0;32min\u001b[0m \u001b[0mmonomial\u001b[0m\u001b[0;34m.\u001b[0m\u001b[0mto_word_list\u001b[0m\u001b[0;34m(\u001b[0m\u001b[0;34m)\u001b[0m\u001b[0;34m[\u001b[0m\u001b[0;34m:\u001b[0m\u001b[0;34m:\u001b[0m\u001b[0;34m-\u001b[0m\u001b[0;36m1\u001b[0m\u001b[0;34m]\u001b[0m\u001b[0;34m:\u001b[0m \u001b[0;31m# Right action, so we take terms of the monomial in inverse order\u001b[0m\u001b[0;34m\u001b[0m\u001b[0m\n\u001b[1;32m    146\u001b[0m             \u001b[0mindex\u001b[0m \u001b[0;34m=\u001b[0m \u001b[0mfactory\u001b[0m\u001b[0;34m.\u001b[0m\u001b[0mroot_to_index\u001b[0m\u001b[0;34m[\u001b[0m\u001b[0mterm\u001b[0m\u001b[0;34m]\u001b[0m \u001b[0;31m# get the index of the term\u001b[0m\u001b[0;34m\u001b[0m\u001b[0m\n\u001b[0;32m--> 147\u001b[0;31m             \u001b[0maction_image\u001b[0m \u001b[0;34m=\u001b[0m \u001b[0mcompute_action\u001b[0m\u001b[0;34m(\u001b[0m\u001b[0mindex\u001b[0m\u001b[0;34m,\u001b[0m \u001b[0maction_image\u001b[0m\u001b[0;34m,\u001b[0m \u001b[0mmodule\u001b[0m\u001b[0;34m,\u001b[0m \u001b[0mcomp_num\u001b[0m\u001b[0;34m)\u001b[0m \u001b[0;31m# compute the action\u001b[0m\u001b[0;34m\u001b[0m\u001b[0m\n\u001b[0m\u001b[1;32m    148\u001b[0m         \u001b[0maction_list\u001b[0m\u001b[0;34m.\u001b[0m\u001b[0mappend\u001b[0m\u001b[0;34m(\u001b[0m\u001b[0maction_image\u001b[0m\u001b[0;34m)\u001b[0m\u001b[0;34m\u001b[0m\u001b[0m\n\u001b[1;32m    149\u001b[0m     \u001b[0maction_image\u001b[0m \u001b[0;34m=\u001b[0m \u001b[0mnp\u001b[0m\u001b[0;34m.\u001b[0m\u001b[0mconcatenate\u001b[0m\u001b[0;34m(\u001b[0m\u001b[0maction_list\u001b[0m\u001b[0;34m)\u001b[0m \u001b[0;31m# concatenate and merge is equivalent to summing the results.\u001b[0m\u001b[0;34m\u001b[0m\u001b[0m\n",
      "\u001b[0;32m/home/sage/Documents/GitHub/BGG/bggcomplex/cohomology.pyx\u001b[0m in \u001b[0;36mcohomology.compute_action\u001b[0;34m()\u001b[0m\n\u001b[1;32m     41\u001b[0m                 \u001b[0mimage_row\u001b[0m\u001b[0;34m+=\u001b[0m\u001b[0;36m1\u001b[0m\u001b[0;34m\u001b[0m\u001b[0m\n\u001b[1;32m     42\u001b[0m                 \u001b[0;32mif\u001b[0m \u001b[0mimage_row\u001b[0m\u001b[0;34m>=\u001b[0m\u001b[0mmax_rows\u001b[0m\u001b[0;34m:\u001b[0m \u001b[0;31m# double size of image matrix if we run out of space\u001b[0m\u001b[0;34m\u001b[0m\u001b[0m\n\u001b[0;32m---> 43\u001b[0;31m                     \u001b[0maction_image\u001b[0m \u001b[0;34m=\u001b[0m \u001b[0mnp\u001b[0m\u001b[0;34m.\u001b[0m\u001b[0mconcatenate\u001b[0m\u001b[0;34m(\u001b[0m\u001b[0;34m[\u001b[0m\u001b[0maction_image\u001b[0m\u001b[0;34m,\u001b[0m\u001b[0mnp\u001b[0m\u001b[0;34m.\u001b[0m\u001b[0mzeros_like\u001b[0m\u001b[0;34m(\u001b[0m\u001b[0maction_image\u001b[0m\u001b[0;34m)\u001b[0m\u001b[0;34m]\u001b[0m\u001b[0;34m)\u001b[0m\u001b[0;34m\u001b[0m\u001b[0m\n\u001b[0m\u001b[1;32m     44\u001b[0m                     \u001b[0mmax_rows\u001b[0m \u001b[0;34m=\u001b[0m \u001b[0mlen\u001b[0m\u001b[0;34m(\u001b[0m\u001b[0maction_image\u001b[0m\u001b[0;34m)\u001b[0m\u001b[0;34m\u001b[0m\u001b[0m\n\u001b[1;32m     45\u001b[0m     \u001b[0;32mreturn\u001b[0m \u001b[0maction_image\u001b[0m\u001b[0;34m[\u001b[0m\u001b[0;34m:\u001b[0m\u001b[0mimage_row\u001b[0m\u001b[0;34m]\u001b[0m \u001b[0;31m# Only return non-zero rows\u001b[0m\u001b[0;34m\u001b[0m\u001b[0m\n",
      "\u001b[0;32m/opt/sagemath-8.9/local/lib/python2.7/site-packages/numpy/core/numeric.pyc\u001b[0m in \u001b[0;36mzeros_like\u001b[0;34m(a, dtype, order, subok)\u001b[0m\n\u001b[1;32m    110\u001b[0m \u001b[0;34m\u001b[0m\u001b[0m\n\u001b[1;32m    111\u001b[0m \u001b[0;34m\u001b[0m\u001b[0m\n\u001b[0;32m--> 112\u001b[0;31m \u001b[0;34m@\u001b[0m\u001b[0marray_function_dispatch\u001b[0m\u001b[0;34m(\u001b[0m\u001b[0m_zeros_like_dispatcher\u001b[0m\u001b[0;34m)\u001b[0m\u001b[0;34m\u001b[0m\u001b[0m\n\u001b[0m\u001b[1;32m    113\u001b[0m \u001b[0;32mdef\u001b[0m \u001b[0mzeros_like\u001b[0m\u001b[0;34m(\u001b[0m\u001b[0ma\u001b[0m\u001b[0;34m,\u001b[0m \u001b[0mdtype\u001b[0m\u001b[0;34m=\u001b[0m\u001b[0mNone\u001b[0m\u001b[0;34m,\u001b[0m \u001b[0morder\u001b[0m\u001b[0;34m=\u001b[0m\u001b[0;34m'K'\u001b[0m\u001b[0;34m,\u001b[0m \u001b[0msubok\u001b[0m\u001b[0;34m=\u001b[0m\u001b[0mTrue\u001b[0m\u001b[0;34m)\u001b[0m\u001b[0;34m:\u001b[0m\u001b[0;34m\u001b[0m\u001b[0m\n\u001b[1;32m    114\u001b[0m     \"\"\"\n",
      "\u001b[0;32msrc/cysignals/signals.pyx\u001b[0m in \u001b[0;36mcysignals.signals.python_check_interrupt\u001b[0;34m()\u001b[0m\n",
      "\u001b[0;31mKeyboardInterrupt\u001b[0m: "
     ]
    }
   ],
   "source": [
    "BGG = BGGComplex('A2')\n",
    "\n",
    "for s in range(20):\n",
    "    print('s=%d'%s)\n",
    "    print('-'*20)\n",
    "    ab_dic = dict()\n",
    "    subset=[]\n",
    "    with tqdm(all_abijk(BGG,s=s,subset=subset,half_only=True)) as inner_pbar:\n",
    "        with tqdm(leave=None) as outer_pbar:\n",
    "            for a,b,i,j,k in inner_pbar:\n",
    "                inner_pbar.set_description('i+j= %d, j-i = %d'%(a,b))\n",
    "                coker = Tijk_basis(BGG, i,j,k,subset=subset,pbar=outer_pbar)\n",
    "                outer_pbar.set_description('Initializing cohomology')\n",
    "                cohom = BGGCohomology(BGG, Mijk(BGG,i,j,k,subset=subset), \n",
    "                                      coker=coker)\n",
    "                outer_pbar.set_description('Computing cohomology')\n",
    "                cohom_string = cohom.cohomology_LaTeX(i=i,only_strings=True,compact=True)\n",
    "                ab_dic[(a,b)]=cohom_string\n",
    "    display_ab_dic(ab_dic,extend_half = True)"
   ]
  },
  {
   "cell_type": "code",
   "execution_count": null,
   "metadata": {},
   "outputs": [],
   "source": []
  }
 ],
 "metadata": {
  "kernelspec": {
   "display_name": "SageMath 8.9",
   "language": "sage",
   "name": "sagemath"
  }
 },
 "nbformat": 4,
 "nbformat_minor": 2
}
