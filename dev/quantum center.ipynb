{
 "cells": [
  {
   "cell_type": "code",
   "execution_count": 1,
   "metadata": {},
   "outputs": [],
   "source": [
    "import sys\n",
    "sys.path.append('../bggcomplex')\n",
    "\n",
    "from bggcomplex import BGGComplex\n",
    "from fast_module import FastLieAlgebraCompositeModule, FastModuleFactory, BGGCohomology, WeightSet\n",
    "from IPython.display import display, Math, Latex\n",
    "import cohomology\n",
    "import numpy as np"
   ]
  },
  {
   "cell_type": "markdown",
   "metadata": {},
   "source": [
    "## Quantum center"
   ]
  },
  {
   "cell_type": "code",
   "execution_count": 2,
   "metadata": {},
   "outputs": [],
   "source": [
    "def Mijk(BGG,i,j,k,subset=[]):\n",
    "    factory = FastModuleFactory(BGG.LA)\n",
    "\n",
    "    component_dic = {'u':factory.build_component('u','coad',subset=subset),\n",
    "                    'g':factory.build_component('g','ad',subset=subset),\n",
    "                     'n':factory.build_component('n','ad',subset=subset)}\n",
    "    \n",
    "    dim_n = len(factory.parabolic_n_basis(subset))\n",
    "    \n",
    "    components = []\n",
    "    for r in range(j+k//2+1):\n",
    "        if (j-r<=dim_n):\n",
    "            components.append([('u',j+k//2-r,'sym'),('g',r,'wedge'),('n',j-r,'wedge')])\n",
    "\n",
    "    module = FastLieAlgebraCompositeModule(factory,components,component_dic)\n",
    "    \n",
    "    return module"
   ]
  },
  {
   "cell_type": "code",
   "execution_count": 3,
   "metadata": {},
   "outputs": [],
   "source": [
    "def sort_sign(A):\n",
    "    num_cols = A.shape[1]\n",
    "    if num_cols>1:\n",
    "        signs=(-1)**(sum([(A[:,0]<A[:,i]) for i in range(1,num_cols)]))\n",
    "        mask=sum([(A[:,0]==A[:,i]) for i in range(1,num_cols)])==0\n",
    "        return (np.sort(A),signs,mask)\n",
    "    else:\n",
    "        return (A,np.ones(len(A),dtype=int),np.ones(len(A),dtype=bool))"
   ]
  },
  {
   "cell_type": "code",
   "execution_count": 4,
   "metadata": {
    "scrolled": true
   },
   "outputs": [],
   "source": [
    "def compute_phi(BGG,subset=[]):\n",
    "    factory = FastModuleFactory(BGG.LA)\n",
    "    \n",
    "    component_dic = {'u':factory.build_component('u','coad',subset=subset)}\n",
    "    components_phi = [[('u',1,'wedge')]]\n",
    "    \n",
    "    module_phi = FastLieAlgebraCompositeModule(factory,components_phi,component_dic)\n",
    "    \n",
    "    b_basis = factory.parabolic_p_basis(subset)\n",
    "    u_basis = factory.parabolic_u_basis(subset)\n",
    "    coad_dic = factory.coadjoint_action_tensor(b_basis,u_basis)\n",
    "    \n",
    "    phi_image = {b:[] for b in b_basis}\n",
    "    for (b,u),n_dic in coad_dic.items():\n",
    "        n,coeff = n_dic.items()[0]\n",
    "        phi_image[b].append(np.array([factory.dual_root_dict[u],n,coeff]))\n",
    "    \n",
    "    for b in phi_image.keys():\n",
    "        img = phi_image[b]\n",
    "        if len(img)>0:\n",
    "            phi_image[b]=np.vstack(img)\n",
    "        else:\n",
    "            phi_image[b]=[]\n",
    "    return phi_image"
   ]
  },
  {
   "cell_type": "code",
   "execution_count": 5,
   "metadata": {},
   "outputs": [],
   "source": [
    "def Tijk_basis(BGG,i,j,k,subset=[]):\n",
    "    factory = FastModuleFactory(BGG.LA)\n",
    "    wc_mod = Mijk(BGG,i,j,k,subset=subset)\n",
    "    wc_rel = Mijk(BGG,i,j-1,k,subset=subset)\n",
    "    \n",
    "    coker_dic = dict()\n",
    "    mu_source_counters = dict()\n",
    "    \n",
    "    phi_image = compute_phi(BGG,subset=subset)\n",
    "    #phi_image = {i:[] for i,_ in phi_image.items()}\n",
    "    \n",
    "    for mu, components in wc_rel.weight_components.items():\n",
    "\n",
    "        for b, n_tensor_u in phi_image.items():\n",
    "            new_mu = tuple(mu+factory.weight_dic[b])\n",
    "            if new_mu not in mu_source_counters:\n",
    "                mu_source_counters[new_mu]=0\n",
    "            sparse_relations = []\n",
    "            for comp_num, basis in components:\n",
    "                r = wc_rel.components[comp_num][1][1]\n",
    "                t_un_insert = None\n",
    "                t_g_insert = None\n",
    "                for c, comp_list in enumerate(wc_mod.components):\n",
    "                    if comp_list[1][1] == r:\n",
    "                        t_un_insert = c\n",
    "                    if comp_list[1][1] == r+1:\n",
    "                        t_g_insert = c\n",
    "\n",
    "                num_rows = len(basis)\n",
    "                num_u,num_g,num_n = (j-1+k//2-r,r,j-1-r)\n",
    "\n",
    "                basis_enum = np.arange(mu_source_counters[new_mu],mu_source_counters[new_mu]+num_rows,dtype=int).reshape((-1,1))\n",
    "                mu_source_counters[new_mu]+=num_rows\n",
    "\n",
    "\n",
    "                # Insert g\n",
    "                if t_g_insert is not None:\n",
    "                    new_basis = np.hstack([basis_enum,basis[:,:num_u],b*np.ones(shape=(num_rows,1),dtype=int),basis[:,num_u:]])\n",
    "                    sort_basis, signs, mask = sort_sign(new_basis[:,num_u+1:num_u+num_g+2])\n",
    "                    new_basis[:,num_u+1:num_u+num_g+2] = sort_basis\n",
    "                    new_basis = new_basis[mask]\n",
    "                    basis_g = np.zeros(shape=(len(new_basis),3), dtype=int)\n",
    "                    for row_num, (row, sign) in enumerate(zip(new_basis, signs[mask])):\n",
    "                        source = row[0]\n",
    "                        target = wc_mod.weight_comp_index_numbers[new_mu][tuple(list(row[1:])+[t_g_insert])]\n",
    "                        basis_g[row_num] = [source,target,-sign]\n",
    "                    if len(basis_g)>0:\n",
    "                        sparse_relations.append(basis_g)\n",
    "\n",
    "                # Insert n_tensor_u\n",
    "                if t_un_insert is not None:\n",
    "                    for n,u,coeff in n_tensor_u:\n",
    "                        n_column = n*np.ones(shape=(num_rows,1),dtype=int)\n",
    "                        u_column = u*np.ones(shape=(num_rows,1),dtype=int)\n",
    "                        new_basis = np.hstack([basis_enum,u_column,basis[:,:num_u+num_g],n_column,basis[:,num_u+num_g:]])\n",
    "                        new_basis[:,1:num_u+2]=np.sort(new_basis[:,1:num_u+2])\n",
    "                        sort_basis, signs, mask = sort_sign(new_basis[:,num_u+num_g+2:])\n",
    "                        new_basis[:,num_u+num_g+2:]=sort_basis\n",
    "                        signs=coeff*signs[mask]\n",
    "                        new_basis = new_basis[mask]\n",
    "                        basis_un = np.zeros(shape=(len(new_basis),3), dtype=int)\n",
    "                        for row_num, (row, sign) in enumerate(zip(new_basis, signs)):\n",
    "                            source = row[0]\n",
    "                            target = wc_mod.weight_comp_index_numbers[new_mu][tuple(list(row[1:])+[t_un_insert])]\n",
    "                            basis_un[row_num] = [source,target,sign]\n",
    "                        if len(basis_un)>0:\n",
    "                            sparse_relations.append(basis_un)\n",
    "            if len(sparse_relations)>0:\n",
    "                if new_mu not in coker_dic:\n",
    "                    coker_dic[new_mu]=[]\n",
    "                coker_dic[new_mu]+=sparse_relations\n",
    "    coker_dic = {mu:cohomology.sort_merge(np.concatenate(rels)) for mu,rels in coker_dic.items()}\n",
    "\n",
    "    T=dict()\n",
    "    for mu,rels in coker_dic.items():\n",
    "        source_dim = mu_source_counters[mu]\n",
    "        target_dim = wc_mod.dimensions[mu]\n",
    "        sparse_dic = dict()\n",
    "        for source,target,coeff in rels:\n",
    "            sparse_dic[(source,target)]=coeff\n",
    "\n",
    "        M = matrix(ZZ,sparse_dic,nrows = source_dim, ncols = target_dim, sparse=True)\n",
    "        T[mu]=M.right_kernel().basis_matrix()\n",
    "    return T"
   ]
  },
  {
   "cell_type": "code",
   "execution_count": 6,
   "metadata": {},
   "outputs": [],
   "source": [
    "def all_abijk(BGG,s=0,subset=[],half_only=True):\n",
    "    dim_n = len(FastModuleFactory(BGG.LA).parabolic_n_basis(subset))\n",
    "    output = []\n",
    "    s_mod = s%2\n",
    "    a_max = dim_n+(1+s_mod)%2\n",
    "    for a_iterator in range(a_max):\n",
    "        a = 2*a_iterator+s_mod\n",
    "        for b in range(max(0,s-2*a),a+1):\n",
    "            if (a+b) % 2 == 0:\n",
    "                output.append((a,b,(a-b)//2,(a+b)//2,s-a))\n",
    "    if half_only:\n",
    "        new_out = []\n",
    "        max_a = max(s[0] for s in output)\n",
    "        for a,b,i,j,k in output:\n",
    "            if a+b<=max_a:\n",
    "                new_out.append((a,b,i,j,k))\n",
    "        return sorted(new_out,key=lambda s: (s[0]+s[1],s[0],s[1]))\n",
    "    else:\n",
    "        return output\n",
    "\n",
    "def display_ab_dic(ab_dic):\n",
    "    a_set = set()\n",
    "    b_set = set()\n",
    "    for a,b in ab_dic.keys():\n",
    "        a_set.add(a)\n",
    "        b_set.add(b)\n",
    "    a_set = sorted(a_set)\n",
    "    b_set = sorted(b_set)\n",
    "    column_string = r'{r|' + ' '.join('l'*len(a_set))+r'}'\n",
    "    rows = list()\n",
    "    for a in a_set:\n",
    "        row_strings = [r'{\\scriptstyle i+j='+str(a)+r'}']\n",
    "        for b in b_set:\n",
    "            if (a,b) in ab_dic:\n",
    "                row_strings.append(ab_dic[(a,b)])\n",
    "            else:\n",
    "                row_strings.append('')\n",
    "        rows.append(r'&'.join(row_strings))\n",
    "    rows.append(r'\\hline h^{i,j}&'+ '&'.join([r'{\\scriptstyle j-i='+str(b)+r'}' for b in b_set]))\n",
    "    all_strings = r'\\\\'.join(rows)\n",
    "    display(Math(r'\\begin{array}'+column_string+all_strings+r'\\end{array}'))"
   ]
  },
  {
   "cell_type": "code",
   "execution_count": null,
   "metadata": {
    "scrolled": true
   },
   "outputs": [
    {
     "data": {
      "application/vnd.jupyter.widget-view+json": {
       "model_id": "2841f0e653ae4e4f9b49ab638373eea8",
       "version_major": 2,
       "version_minor": 0
      },
      "text/plain": [
       "HBox(children=(IntProgress(value=0, max=16), HTML(value=u'')))"
      ]
     },
     "metadata": {},
     "output_type": "display_data"
    }
   ],
   "source": [
    "from tqdm.notebook import tqdm\n",
    "BGG = BGGComplex('G2')\n",
    "ab_dic = dict()\n",
    "\n",
    "subset=[]\n",
    "\n",
    "with tqdm(all_abijk(BGG,s=0,subset=subset)) as pbar:\n",
    "    for a,b,i,j,k in pbar:\n",
    "        pbar.set_description('i+j= %d, j-i = %d'%(a,b))\n",
    "        cohom = BGGCohomology(BGG, Mijk(BGG,i,j,k,subset=subset), coker=Tijk_basis(BGG, i,j,k,subset=subset))\n",
    "        cohom_string = cohom.cohomology_LaTeX(i=i,only_strings=True)\n",
    "        ab_dic[(a,b)]=cohom_string\n",
    "\n",
    "display_ab_dic(ab_dic)"
   ]
  },
  {
   "cell_type": "code",
   "execution_count": 8,
   "metadata": {
    "scrolled": false
   },
   "outputs": [
    {
     "name": "stdout",
     "output_type": "stream",
     "text": [
      "a=4, b=4, k=-4\n",
      "\n"
     ]
    }
   ],
   "source": [
    "BGG = BGGComplex('B2')\n",
    "s = 0\n",
    "i = 0\n",
    "j = 4\n",
    "k = s-i-j\n",
    "print('a=%d, b=%d, k=%d\\n'%(i+j,j-i,k))\n",
    "\n",
    "subset = []\n",
    "cohom = BGGCohomology(BGG, Mijk(BGG,i,j,k,subset=subset), coker=Tijk_basis(BGG, i,j,k,subset=subset))\n",
    "diff, dimspace = cohomology.compute_diff(cohom,(0,0),0)"
   ]
  },
  {
   "cell_type": "code",
   "execution_count": 9,
   "metadata": {},
   "outputs": [
    {
     "data": {
      "text/plain": [
       "[  0   0   0   0   0   0   0   0   5   0  10   0   0  -8   4   0   0   0   0]\n",
       "[  5   5   0   0   0   0   0   0   5 -10   0  10   0   0   0   0   0   0   0]\n",
       "[  0   0   0   0   0   0   0   0   0  -2   0   0   2   0   0   0   0   0   0]\n",
       "[  0   0   5   0   5   0   0   0   0   0   5   5   0  -1  -2   0   0   0   0]\n",
       "[  0   0   0   2   0   2   0   0   0   0   0  -4  -4   0  -2   0   0   0   0]\n",
       "[  0   0  -2   0  -2   0   0   0   4   0   6  -2   0 -18  10   0   0   0   0]\n",
       "[  0   0   0   0   0   0   1   0   0   0   0   0   0   0   0  -2   0   0   0]\n",
       "[  0   0  -1   0  -1   0   0   0   0   0   0   0   0   0   0   1   1   0   0]\n",
       "[  0   0   0   0   0   0  -1   0   0   0   0   0   0   2   0   0   0   1   0]\n",
       "[  0   0   0   0   0  -1   0  -1   0   0   0   0   0   0   0   0  -2   0   0]\n",
       "[  0   0   0   0   0   0   0   0   2   0   0   0   0   0   2   0   0  -2  -2]\n",
       "[  0   0   0  -1   0   0   0   1   0   2   0   0   0   0   0   0   0   0   1]"
      ]
     },
     "execution_count": 9,
     "metadata": {},
     "output_type": "execute_result"
    }
   ],
   "source": [
    "diff.transpose()"
   ]
  },
  {
   "cell_type": "code",
   "execution_count": 10,
   "metadata": {},
   "outputs": [
    {
     "data": {
      "text/plain": [
       "19"
      ]
     },
     "execution_count": 10,
     "metadata": {},
     "output_type": "execute_result"
    }
   ],
   "source": [
    "diff.nrows()"
   ]
  },
  {
   "cell_type": "code",
   "execution_count": 11,
   "metadata": {},
   "outputs": [
    {
     "data": {
      "text/plain": [
       "[(1, array([[6, 6, 0, 1, 3],\n",
       "         [6, 7, 0, 2, 3],\n",
       "         [6, 8, 1, 2, 3],\n",
       "         [7, 6, 0, 2, 3],\n",
       "         [7, 7, 1, 2, 3],\n",
       "         [8, 6, 1, 2, 3]], dtype=int32)), (2, array([[3, 6, 2, 3],\n",
       "         [4, 6, 1, 3],\n",
       "         [4, 7, 2, 3],\n",
       "         [5, 6, 1, 3],\n",
       "         [5, 7, 2, 3],\n",
       "         [6, 7, 0, 1],\n",
       "         [6, 8, 0, 2],\n",
       "         [6, 9, 0, 3],\n",
       "         [7, 8, 1, 2],\n",
       "         [7, 9, 1, 3],\n",
       "         [8, 9, 2, 3]], dtype=int32))]"
      ]
     },
     "execution_count": 11,
     "metadata": {},
     "output_type": "execute_result"
    }
   ],
   "source": [
    "module = Mijk(BGG,0,4,-4)\n",
    "module.weight_components[(0,0)]"
   ]
  },
  {
   "cell_type": "code",
   "execution_count": 12,
   "metadata": {},
   "outputs": [
    {
     "data": {
      "text/plain": [
       "6"
      ]
     },
     "execution_count": 12,
     "metadata": {},
     "output_type": "execute_result"
    }
   ],
   "source": [
    "module.dimensions_components[0][(0,0)]\n",
    "module.dimensions_components[1][(0,0)]"
   ]
  },
  {
   "cell_type": "code",
   "execution_count": 13,
   "metadata": {},
   "outputs": [
    {
     "data": {
      "text/plain": [
       "{(3, 6, 2, 3, 2): 6,\n",
       " (4, 6, 1, 3, 2): 7,\n",
       " (4, 7, 2, 3, 2): 8,\n",
       " (5, 6, 1, 3, 2): 9,\n",
       " (5, 7, 2, 3, 2): 10,\n",
       " (6, 6, 0, 1, 3, 1): 0,\n",
       " (6, 7, 0, 1, 2): 11,\n",
       " (6, 7, 0, 2, 3, 1): 1,\n",
       " (6, 8, 0, 2, 2): 12,\n",
       " (6, 8, 1, 2, 3, 1): 2,\n",
       " (6, 9, 0, 3, 2): 13,\n",
       " (7, 6, 0, 2, 3, 1): 3,\n",
       " (7, 7, 1, 2, 3, 1): 4,\n",
       " (7, 8, 1, 2, 2): 14,\n",
       " (7, 9, 1, 3, 2): 15,\n",
       " (8, 6, 1, 2, 3, 1): 5,\n",
       " (8, 9, 2, 3, 2): 16}"
      ]
     },
     "execution_count": 13,
     "metadata": {},
     "output_type": "execute_result"
    }
   ],
   "source": [
    "module.weight_comp_index_numbers[(0,0)]"
   ]
  },
  {
   "cell_type": "code",
   "execution_count": 14,
   "metadata": {},
   "outputs": [
    {
     "data": {
      "text/plain": [
       "{0: array([-1, -2], dtype=int32),\n",
       " 1: array([-1, -1], dtype=int32),\n",
       " 2: array([-1,  0], dtype=int32),\n",
       " 3: array([ 0, -1], dtype=int32),\n",
       " 4: array([0, 0], dtype=int32),\n",
       " 5: array([0, 0], dtype=int32),\n",
       " 6: array([1, 2], dtype=int32),\n",
       " 7: array([1, 1], dtype=int32),\n",
       " 8: array([1, 0], dtype=int32),\n",
       " 9: array([0, 1], dtype=int32)}"
      ]
     },
     "execution_count": 14,
     "metadata": {},
     "output_type": "execute_result"
    }
   ],
   "source": [
    "BGG = BGGComplex('B2')\n",
    "factory = FastModuleFactory(BGG.LA)\n",
    "factory.weight_dic"
   ]
  },
  {
   "cell_type": "code",
   "execution_count": 15,
   "metadata": {},
   "outputs": [
    {
     "data": {
      "text/plain": [
       "{0: [],\n",
       " 1: array([[0, 9, 2]]),\n",
       " 2: array([[ 1,  9, -1]]),\n",
       " 3: array([[ 0,  7, -2],\n",
       "        [ 1,  8,  1]]),\n",
       " 4: array([[ 3,  9,  2],\n",
       "        [ 0,  6,  2],\n",
       "        [ 2,  8, -2]]),\n",
       " 5: array([[ 3,  9, -1],\n",
       "        [ 1,  7,  1],\n",
       "        [ 2,  8,  2]])}"
      ]
     },
     "execution_count": 15,
     "metadata": {},
     "output_type": "execute_result"
    }
   ],
   "source": [
    "compute_phi(BGG)"
   ]
  },
  {
   "cell_type": "code",
   "execution_count": 16,
   "metadata": {},
   "outputs": [
    {
     "data": {
      "text/plain": [
       "{(1, 6, 2, 3, 2): 9,\n",
       " (2, 6, 1, 3, 2): 10,\n",
       " (2, 7, 2, 3, 2): 11,\n",
       " (3, 6, 1, 2, 2): 12,\n",
       " (4, 6, 0, 2, 2): 13,\n",
       " (4, 7, 1, 2, 2): 14,\n",
       " (4, 9, 2, 3, 2): 15,\n",
       " (5, 6, 0, 2, 2): 16,\n",
       " (5, 7, 1, 2, 2): 17,\n",
       " (5, 9, 2, 3, 2): 18,\n",
       " (6, 4, 1, 2, 3, 1): 1,\n",
       " (6, 5, 1, 2, 3, 1): 2,\n",
       " (6, 6, 0, 1, 2, 3, 0): 0,\n",
       " (6, 7, 0, 1, 2, 1): 3,\n",
       " (6, 9, 0, 1, 2): 19,\n",
       " (6, 9, 0, 2, 3, 1): 4,\n",
       " (7, 6, 0, 1, 2, 1): 5,\n",
       " (7, 9, 0, 2, 2): 20,\n",
       " (7, 9, 1, 2, 3, 1): 6,\n",
       " (8, 9, 1, 2, 2): 21,\n",
       " (9, 6, 0, 2, 3, 1): 7,\n",
       " (9, 7, 1, 2, 3, 1): 8}"
      ]
     },
     "execution_count": 16,
     "metadata": {},
     "output_type": "execute_result"
    }
   ],
   "source": [
    "module.weight_comp_index_numbers[(-1,0)]"
   ]
  },
  {
   "cell_type": "code",
   "execution_count": 17,
   "metadata": {},
   "outputs": [
    {
     "data": {
      "text/plain": [
       "[ 1  0  0  0  0  0  0 -2  0  0  0  0  0  0  0  0  0]\n",
       "[ 0  1  0  0  0  0  0  0 -2  0  0  0  0  0  0  0  0]\n",
       "[ 0  0  1  0  0  0  0  0  0  0  0  0  0  0  0  0  0]\n",
       "[ 0  0  0  1  0  0  2  0  0  0  0  0  0  0  0  0  0]\n",
       "[ 0  0  0  0  1  0  0  0  0  0 -1  0  0  0  0  0  0]\n",
       "[ 0  0  0  0  0  1 -1 -2  0  2  0  0  0  0  0  0  0]\n",
       "[ 0  0  0  0  0  0  0  0  0  0  0  1  0  0  0  0  0]\n",
       "[ 0  0  0  0  0  0  0  0  0  0  0  0  1  0  0  0  0]\n",
       "[ 0  0  0  0  0  0  0  0  0  0  0  0  0  1  0  0  0]\n",
       "[ 0  0  0  0  0  0  0  0  0  0  0  0  0  0  1  0  0]\n",
       "[ 0  0  0  0  0  0  0  0  0  0  0  0  0  0  0  1  0]\n",
       "[ 0  0  0  0  0  0  0  0  0  0  0  0  0  0  0  0  1]"
      ]
     },
     "execution_count": 17,
     "metadata": {},
     "output_type": "execute_result"
    }
   ],
   "source": [
    "cohom.coker[(0,0)]"
   ]
  },
  {
   "cell_type": "code",
   "execution_count": 18,
   "metadata": {},
   "outputs": [
    {
     "data": {
      "text/plain": [
       "{0: 'f_{122}',\n",
       " 1: 'f_{12}',\n",
       " 2: 'f_{1}',\n",
       " 3: 'f_{2}',\n",
       " 4: 'h_{2}',\n",
       " 5: 'h_{1}',\n",
       " 6: 'e_{122}',\n",
       " 7: 'e_{12}',\n",
       " 8: 'e_{1}',\n",
       " 9: 'e_{2}'}"
      ]
     },
     "execution_count": 18,
     "metadata": {},
     "output_type": "execute_result"
    }
   ],
   "source": [
    "module.factory.root_latex_dic"
   ]
  },
  {
   "cell_type": "code",
   "execution_count": 19,
   "metadata": {},
   "outputs": [
    {
     "data": {
      "text/plain": [
       "{(-4, -6): {2: {0: 'f_{122}\\\\wedge f_{12}\\\\otimes f_{122}\\\\wedge f_{12}'}},\n",
       " (-4,\n",
       "  -5): {2: {0: 'f_{122}\\\\wedge f_{12}\\\\otimes f_{122}\\\\wedge f_{1}',\n",
       "   1: 'f_{122}\\\\wedge f_{1}\\\\otimes f_{122}\\\\wedge f_{12}'}},\n",
       " (-4,\n",
       "  -4): {1: {0: 'e_{2}\\\\otimes f_{122}\\\\otimes f_{122}\\\\wedge f_{12}\\\\wedge f_{1}'}, 2: {0: 'f_{122}\\\\wedge f_{12}\\\\otimes f_{12}\\\\wedge f_{1}',\n",
       "   1: 'f_{122}\\\\wedge f_{1}\\\\otimes f_{122}\\\\wedge f_{1}',\n",
       "   2: 'f_{12}\\\\wedge f_{1}\\\\otimes f_{122}\\\\wedge f_{12}'}},\n",
       " (-4,\n",
       "  -3): {1: {0: 'e_{2}\\\\otimes f_{12}\\\\otimes f_{122}\\\\wedge f_{12}\\\\wedge f_{1}'}, 2: {0: 'f_{122}\\\\wedge f_{1}\\\\otimes f_{12}\\\\wedge f_{1}',\n",
       "   1: 'f_{12}\\\\wedge f_{1}\\\\otimes f_{122}\\\\wedge f_{1}'}},\n",
       " (-4,\n",
       "  -2): {1: {0: 'e_{2}\\\\otimes f_{1}\\\\otimes f_{122}\\\\wedge f_{12}\\\\wedge f_{1}'}, 2: {0: 'f_{12}\\\\wedge f_{1}\\\\otimes f_{12}\\\\wedge f_{1}'}},\n",
       " (-3,\n",
       "  -6): {2: {0: 'f_{122}\\\\wedge f_{12}\\\\otimes f_{122}\\\\wedge f_{2}',\n",
       "   1: 'f_{122}\\\\wedge f_{2}\\\\otimes f_{122}\\\\wedge f_{12}'}},\n",
       " (-3,\n",
       "  -5): {1: {0: 'e_{1}\\\\otimes f_{122}\\\\otimes f_{122}\\\\wedge f_{12}\\\\wedge f_{1}',\n",
       "   1: 'e_{2}\\\\otimes f_{122}\\\\otimes f_{122}\\\\wedge f_{12}\\\\wedge f_{2}'}, 2: {0: 'f_{122}\\\\wedge f_{12}\\\\otimes f_{12}\\\\wedge f_{2}',\n",
       "   1: 'f_{122}\\\\wedge f_{1}\\\\otimes f_{122}\\\\wedge f_{2}',\n",
       "   2: 'f_{122}\\\\wedge f_{2}\\\\otimes f_{122}\\\\wedge f_{1}',\n",
       "   3: 'f_{122}\\\\wedge h_{2}\\\\otimes f_{122}\\\\wedge f_{12}',\n",
       "   4: 'f_{122}\\\\wedge h_{1}\\\\otimes f_{122}\\\\wedge f_{12}',\n",
       "   5: 'f_{12}\\\\wedge f_{2}\\\\otimes f_{122}\\\\wedge f_{12}'}},\n",
       " (-3,\n",
       "  -4): {1: {0: 'e_{12}\\\\otimes f_{122}\\\\otimes f_{122}\\\\wedge f_{12}\\\\wedge f_{1}',\n",
       "   1: 'e_{1}\\\\otimes f_{12}\\\\otimes f_{122}\\\\wedge f_{12}\\\\wedge f_{1}',\n",
       "   2: 'e_{2}\\\\otimes f_{122}\\\\otimes f_{122}\\\\wedge f_{1}\\\\wedge f_{2}',\n",
       "   3: 'e_{2}\\\\otimes f_{12}\\\\otimes f_{122}\\\\wedge f_{12}\\\\wedge f_{2}'}, 2: {0: 'f_{122}\\\\wedge f_{12}\\\\otimes f_{1}\\\\wedge f_{2}',\n",
       "   1: 'f_{122}\\\\wedge f_{1}\\\\otimes f_{12}\\\\wedge f_{2}',\n",
       "   2: 'f_{122}\\\\wedge f_{2}\\\\otimes f_{12}\\\\wedge f_{1}',\n",
       "   3: 'f_{122}\\\\wedge h_{2}\\\\otimes f_{122}\\\\wedge f_{1}',\n",
       "   4: 'f_{122}\\\\wedge h_{1}\\\\otimes f_{122}\\\\wedge f_{1}',\n",
       "   5: 'f_{122}\\\\wedge e_{2}\\\\otimes f_{122}\\\\wedge f_{12}',\n",
       "   6: 'f_{12}\\\\wedge f_{1}\\\\otimes f_{122}\\\\wedge f_{2}',\n",
       "   7: 'f_{12}\\\\wedge f_{2}\\\\otimes f_{122}\\\\wedge f_{1}',\n",
       "   8: 'f_{12}\\\\wedge h_{2}\\\\otimes f_{122}\\\\wedge f_{12}',\n",
       "   9: 'f_{12}\\\\wedge h_{1}\\\\otimes f_{122}\\\\wedge f_{12}',\n",
       "   10: 'f_{1}\\\\wedge f_{2}\\\\otimes f_{122}\\\\wedge f_{12}'}},\n",
       " (-3,\n",
       "  -3): {1: {0: 'e_{122}\\\\otimes f_{122}\\\\otimes f_{122}\\\\wedge f_{12}\\\\wedge f_{1}',\n",
       "   1: 'e_{12}\\\\otimes f_{12}\\\\otimes f_{122}\\\\wedge f_{12}\\\\wedge f_{1}',\n",
       "   2: 'e_{1}\\\\otimes f_{1}\\\\otimes f_{122}\\\\wedge f_{12}\\\\wedge f_{1}',\n",
       "   3: 'e_{2}\\\\otimes f_{122}\\\\otimes f_{12}\\\\wedge f_{1}\\\\wedge f_{2}',\n",
       "   4: 'e_{2}\\\\otimes f_{12}\\\\otimes f_{122}\\\\wedge f_{1}\\\\wedge f_{2}',\n",
       "   5: 'e_{2}\\\\otimes f_{1}\\\\otimes f_{122}\\\\wedge f_{12}\\\\wedge f_{2}',\n",
       "   6: 'e_{2}\\\\otimes f_{2}\\\\otimes f_{122}\\\\wedge f_{12}\\\\wedge f_{1}'}, 2: {0: 'f_{122}\\\\wedge f_{1}\\\\otimes f_{1}\\\\wedge f_{2}',\n",
       "   1: 'f_{122}\\\\wedge h_{2}\\\\otimes f_{12}\\\\wedge f_{1}',\n",
       "   2: 'f_{122}\\\\wedge h_{1}\\\\otimes f_{12}\\\\wedge f_{1}',\n",
       "   3: 'f_{122}\\\\wedge e_{2}\\\\otimes f_{122}\\\\wedge f_{1}',\n",
       "   4: 'f_{12}\\\\wedge f_{1}\\\\otimes f_{12}\\\\wedge f_{2}',\n",
       "   5: 'f_{12}\\\\wedge f_{2}\\\\otimes f_{12}\\\\wedge f_{1}',\n",
       "   6: 'f_{12}\\\\wedge h_{2}\\\\otimes f_{122}\\\\wedge f_{1}',\n",
       "   7: 'f_{12}\\\\wedge h_{1}\\\\otimes f_{122}\\\\wedge f_{1}',\n",
       "   8: 'f_{12}\\\\wedge e_{2}\\\\otimes f_{122}\\\\wedge f_{12}',\n",
       "   9: 'f_{1}\\\\wedge f_{2}\\\\otimes f_{122}\\\\wedge f_{1}',\n",
       "   10: 'f_{1}\\\\wedge h_{2}\\\\otimes f_{122}\\\\wedge f_{12}',\n",
       "   11: 'f_{1}\\\\wedge h_{1}\\\\otimes f_{122}\\\\wedge f_{12}'}},\n",
       " (-3,\n",
       "  -2): {0: {0: 'e_{2}\\\\odot e_{2}\\\\otimes f_{122}\\\\wedge f_{12}\\\\wedge f_{1}\\\\wedge f_{2}'}, 1: {0: 'e_{122}\\\\otimes f_{12}\\\\otimes f_{122}\\\\wedge f_{12}\\\\wedge f_{1}',\n",
       "   1: 'e_{12}\\\\otimes f_{1}\\\\otimes f_{122}\\\\wedge f_{12}\\\\wedge f_{1}',\n",
       "   2: 'e_{2}\\\\otimes f_{12}\\\\otimes f_{12}\\\\wedge f_{1}\\\\wedge f_{2}',\n",
       "   3: 'e_{2}\\\\otimes f_{1}\\\\otimes f_{122}\\\\wedge f_{1}\\\\wedge f_{2}',\n",
       "   4: 'e_{2}\\\\otimes h_{2}\\\\otimes f_{122}\\\\wedge f_{12}\\\\wedge f_{1}',\n",
       "   5: 'e_{2}\\\\otimes h_{1}\\\\otimes f_{122}\\\\wedge f_{12}\\\\wedge f_{1}'}, 2: {0: 'f_{122}\\\\wedge e_{2}\\\\otimes f_{12}\\\\wedge f_{1}',\n",
       "   1: 'f_{12}\\\\wedge f_{1}\\\\otimes f_{1}\\\\wedge f_{2}',\n",
       "   2: 'f_{12}\\\\wedge h_{2}\\\\otimes f_{12}\\\\wedge f_{1}',\n",
       "   3: 'f_{12}\\\\wedge h_{1}\\\\otimes f_{12}\\\\wedge f_{1}',\n",
       "   4: 'f_{12}\\\\wedge e_{2}\\\\otimes f_{122}\\\\wedge f_{1}',\n",
       "   5: 'f_{1}\\\\wedge f_{2}\\\\otimes f_{12}\\\\wedge f_{1}',\n",
       "   6: 'f_{1}\\\\wedge h_{2}\\\\otimes f_{122}\\\\wedge f_{1}',\n",
       "   7: 'f_{1}\\\\wedge h_{1}\\\\otimes f_{122}\\\\wedge f_{1}',\n",
       "   8: 'f_{1}\\\\wedge e_{2}\\\\otimes f_{122}\\\\wedge f_{12}'}},\n",
       " (-3,\n",
       "  -1): {1: {0: 'e_{122}\\\\otimes f_{1}\\\\otimes f_{122}\\\\wedge f_{12}\\\\wedge f_{1}',\n",
       "   1: 'e_{2}\\\\otimes f_{1}\\\\otimes f_{12}\\\\wedge f_{1}\\\\wedge f_{2}',\n",
       "   2: 'e_{2}\\\\otimes e_{2}\\\\otimes f_{122}\\\\wedge f_{12}\\\\wedge f_{1}'}, 2: {0: 'f_{12}\\\\wedge e_{2}\\\\otimes f_{12}\\\\wedge f_{1}',\n",
       "   1: 'f_{1}\\\\wedge h_{2}\\\\otimes f_{12}\\\\wedge f_{1}',\n",
       "   2: 'f_{1}\\\\wedge h_{1}\\\\otimes f_{12}\\\\wedge f_{1}',\n",
       "   3: 'f_{1}\\\\wedge e_{2}\\\\otimes f_{122}\\\\wedge f_{1}'}},\n",
       " (-3, 0): {2: {0: 'f_{1}\\\\wedge e_{2}\\\\otimes f_{12}\\\\wedge f_{1}'}},\n",
       " (-2,\n",
       "  -6): {1: {0: 'e_{1}\\\\otimes f_{122}\\\\otimes f_{122}\\\\wedge f_{12}\\\\wedge f_{2}'}, 2: {0: 'f_{122}\\\\wedge f_{2}\\\\otimes f_{122}\\\\wedge f_{2}'}},\n",
       " (-2,\n",
       "  -5): {1: {0: 'e_{12}\\\\otimes f_{122}\\\\otimes f_{122}\\\\wedge f_{12}\\\\wedge f_{2}',\n",
       "   1: 'e_{1}\\\\otimes f_{122}\\\\otimes f_{122}\\\\wedge f_{1}\\\\wedge f_{2}',\n",
       "   2: 'e_{1}\\\\otimes f_{12}\\\\otimes f_{122}\\\\wedge f_{12}\\\\wedge f_{2}'}, 2: {0: 'f_{122}\\\\wedge f_{2}\\\\otimes f_{12}\\\\wedge f_{2}',\n",
       "   1: 'f_{122}\\\\wedge h_{2}\\\\otimes f_{122}\\\\wedge f_{2}',\n",
       "   2: 'f_{122}\\\\wedge h_{1}\\\\otimes f_{122}\\\\wedge f_{2}',\n",
       "   3: 'f_{122}\\\\wedge e_{1}\\\\otimes f_{122}\\\\wedge f_{12}',\n",
       "   4: 'f_{12}\\\\wedge f_{2}\\\\otimes f_{122}\\\\wedge f_{2}'}},\n",
       " (-2,\n",
       "  -4): {1: {0: 'e_{122}\\\\otimes f_{122}\\\\otimes f_{122}\\\\wedge f_{12}\\\\wedge f_{2}',\n",
       "   1: 'e_{12}\\\\otimes f_{122}\\\\otimes f_{122}\\\\wedge f_{1}\\\\wedge f_{2}',\n",
       "   2: 'e_{12}\\\\otimes f_{12}\\\\otimes f_{122}\\\\wedge f_{12}\\\\wedge f_{2}',\n",
       "   3: 'e_{1}\\\\otimes f_{122}\\\\otimes f_{12}\\\\wedge f_{1}\\\\wedge f_{2}',\n",
       "   4: 'e_{1}\\\\otimes f_{12}\\\\otimes f_{122}\\\\wedge f_{1}\\\\wedge f_{2}',\n",
       "   5: 'e_{1}\\\\otimes f_{1}\\\\otimes f_{122}\\\\wedge f_{12}\\\\wedge f_{2}',\n",
       "   6: 'e_{1}\\\\otimes f_{2}\\\\otimes f_{122}\\\\wedge f_{12}\\\\wedge f_{1}',\n",
       "   7: 'e_{2}\\\\otimes f_{2}\\\\otimes f_{122}\\\\wedge f_{12}\\\\wedge f_{2}'}, 2: {0: 'f_{122}\\\\wedge f_{2}\\\\otimes f_{1}\\\\wedge f_{2}',\n",
       "   1: 'f_{122}\\\\wedge h_{2}\\\\otimes f_{12}\\\\wedge f_{2}',\n",
       "   2: 'f_{122}\\\\wedge h_{1}\\\\otimes f_{12}\\\\wedge f_{2}',\n",
       "   3: 'f_{122}\\\\wedge e_{12}\\\\otimes f_{122}\\\\wedge f_{12}',\n",
       "   4: 'f_{122}\\\\wedge e_{1}\\\\otimes f_{122}\\\\wedge f_{1}',\n",
       "   5: 'f_{122}\\\\wedge e_{2}\\\\otimes f_{122}\\\\wedge f_{2}',\n",
       "   6: 'f_{12}\\\\wedge f_{2}\\\\otimes f_{12}\\\\wedge f_{2}',\n",
       "   7: 'f_{12}\\\\wedge h_{2}\\\\otimes f_{122}\\\\wedge f_{2}',\n",
       "   8: 'f_{12}\\\\wedge h_{1}\\\\otimes f_{122}\\\\wedge f_{2}',\n",
       "   9: 'f_{12}\\\\wedge e_{1}\\\\otimes f_{122}\\\\wedge f_{12}',\n",
       "   10: 'f_{1}\\\\wedge f_{2}\\\\otimes f_{122}\\\\wedge f_{2}',\n",
       "   11: 'f_{2}\\\\wedge h_{2}\\\\otimes f_{122}\\\\wedge f_{12}',\n",
       "   12: 'f_{2}\\\\wedge h_{1}\\\\otimes f_{122}\\\\wedge f_{12}'}},\n",
       " (-2,\n",
       "  -3): {0: {0: 'e_{1}\\\\odot e_{2}\\\\otimes f_{122}\\\\wedge f_{12}\\\\wedge f_{1}\\\\wedge f_{2}'}, 1: {0: 'e_{122}\\\\otimes f_{122}\\\\otimes f_{122}\\\\wedge f_{1}\\\\wedge f_{2}',\n",
       "   1: 'e_{122}\\\\otimes f_{12}\\\\otimes f_{122}\\\\wedge f_{12}\\\\wedge f_{2}',\n",
       "   2: 'e_{12}\\\\otimes f_{122}\\\\otimes f_{12}\\\\wedge f_{1}\\\\wedge f_{2}',\n",
       "   3: 'e_{12}\\\\otimes f_{12}\\\\otimes f_{122}\\\\wedge f_{1}\\\\wedge f_{2}',\n",
       "   4: 'e_{12}\\\\otimes f_{1}\\\\otimes f_{122}\\\\wedge f_{12}\\\\wedge f_{2}',\n",
       "   5: 'e_{12}\\\\otimes f_{2}\\\\otimes f_{122}\\\\wedge f_{12}\\\\wedge f_{1}',\n",
       "   6: 'e_{1}\\\\otimes f_{12}\\\\otimes f_{12}\\\\wedge f_{1}\\\\wedge f_{2}',\n",
       "   7: 'e_{1}\\\\otimes f_{1}\\\\otimes f_{122}\\\\wedge f_{1}\\\\wedge f_{2}',\n",
       "   8: 'e_{1}\\\\otimes h_{2}\\\\otimes f_{122}\\\\wedge f_{12}\\\\wedge f_{1}',\n",
       "   9: 'e_{1}\\\\otimes h_{1}\\\\otimes f_{122}\\\\wedge f_{12}\\\\wedge f_{1}',\n",
       "   10: 'e_{2}\\\\otimes f_{2}\\\\otimes f_{122}\\\\wedge f_{1}\\\\wedge f_{2}',\n",
       "   11: 'e_{2}\\\\otimes h_{2}\\\\otimes f_{122}\\\\wedge f_{12}\\\\wedge f_{2}',\n",
       "   12: 'e_{2}\\\\otimes h_{1}\\\\otimes f_{122}\\\\wedge f_{12}\\\\wedge f_{2}'}, 2: {0: 'f_{122}\\\\wedge h_{2}\\\\otimes f_{1}\\\\wedge f_{2}',\n",
       "   1: 'f_{122}\\\\wedge h_{1}\\\\otimes f_{1}\\\\wedge f_{2}',\n",
       "   2: 'f_{122}\\\\wedge e_{122}\\\\otimes f_{122}\\\\wedge f_{12}',\n",
       "   3: 'f_{122}\\\\wedge e_{12}\\\\otimes f_{122}\\\\wedge f_{1}',\n",
       "   4: 'f_{122}\\\\wedge e_{1}\\\\otimes f_{12}\\\\wedge f_{1}',\n",
       "   5: 'f_{122}\\\\wedge e_{2}\\\\otimes f_{12}\\\\wedge f_{2}',\n",
       "   6: 'f_{12}\\\\wedge f_{2}\\\\otimes f_{1}\\\\wedge f_{2}',\n",
       "   7: 'f_{12}\\\\wedge h_{2}\\\\otimes f_{12}\\\\wedge f_{2}',\n",
       "   8: 'f_{12}\\\\wedge h_{1}\\\\otimes f_{12}\\\\wedge f_{2}',\n",
       "   9: 'f_{12}\\\\wedge e_{12}\\\\otimes f_{122}\\\\wedge f_{12}',\n",
       "   10: 'f_{12}\\\\wedge e_{1}\\\\otimes f_{122}\\\\wedge f_{1}',\n",
       "   11: 'f_{12}\\\\wedge e_{2}\\\\otimes f_{122}\\\\wedge f_{2}',\n",
       "   12: 'f_{1}\\\\wedge f_{2}\\\\otimes f_{12}\\\\wedge f_{2}',\n",
       "   13: 'f_{1}\\\\wedge h_{2}\\\\otimes f_{122}\\\\wedge f_{2}',\n",
       "   14: 'f_{1}\\\\wedge h_{1}\\\\otimes f_{122}\\\\wedge f_{2}',\n",
       "   15: 'f_{1}\\\\wedge e_{1}\\\\otimes f_{122}\\\\wedge f_{12}',\n",
       "   16: 'f_{2}\\\\wedge h_{2}\\\\otimes f_{122}\\\\wedge f_{1}',\n",
       "   17: 'f_{2}\\\\wedge h_{1}\\\\otimes f_{122}\\\\wedge f_{1}',\n",
       "   18: 'f_{2}\\\\wedge e_{2}\\\\otimes f_{122}\\\\wedge f_{12}',\n",
       "   19: 'h_{2}\\\\wedge h_{1}\\\\otimes f_{122}\\\\wedge f_{12}'}},\n",
       " (-2,\n",
       "  -2): {0: {0: 'e_{12}\\\\odot e_{2}\\\\otimes f_{122}\\\\wedge f_{12}\\\\wedge f_{1}\\\\wedge f_{2}'}, 1: {0: 'e_{122}\\\\otimes f_{122}\\\\otimes f_{12}\\\\wedge f_{1}\\\\wedge f_{2}',\n",
       "   1: 'e_{122}\\\\otimes f_{12}\\\\otimes f_{122}\\\\wedge f_{1}\\\\wedge f_{2}',\n",
       "   2: 'e_{122}\\\\otimes f_{1}\\\\otimes f_{122}\\\\wedge f_{12}\\\\wedge f_{2}',\n",
       "   3: 'e_{122}\\\\otimes f_{2}\\\\otimes f_{122}\\\\wedge f_{12}\\\\wedge f_{1}',\n",
       "   4: 'e_{12}\\\\otimes f_{12}\\\\otimes f_{12}\\\\wedge f_{1}\\\\wedge f_{2}',\n",
       "   5: 'e_{12}\\\\otimes f_{1}\\\\otimes f_{122}\\\\wedge f_{1}\\\\wedge f_{2}',\n",
       "   6: 'e_{12}\\\\otimes h_{2}\\\\otimes f_{122}\\\\wedge f_{12}\\\\wedge f_{1}',\n",
       "   7: 'e_{12}\\\\otimes h_{1}\\\\otimes f_{122}\\\\wedge f_{12}\\\\wedge f_{1}',\n",
       "   8: 'e_{1}\\\\otimes f_{1}\\\\otimes f_{12}\\\\wedge f_{1}\\\\wedge f_{2}',\n",
       "   9: 'e_{1}\\\\otimes e_{2}\\\\otimes f_{122}\\\\wedge f_{12}\\\\wedge f_{1}',\n",
       "   10: 'e_{2}\\\\otimes f_{2}\\\\otimes f_{12}\\\\wedge f_{1}\\\\wedge f_{2}',\n",
       "   11: 'e_{2}\\\\otimes h_{2}\\\\otimes f_{122}\\\\wedge f_{1}\\\\wedge f_{2}',\n",
       "   12: 'e_{2}\\\\otimes h_{1}\\\\otimes f_{122}\\\\wedge f_{1}\\\\wedge f_{2}',\n",
       "   13: 'e_{2}\\\\otimes e_{1}\\\\otimes f_{122}\\\\wedge f_{12}\\\\wedge f_{1}',\n",
       "   14: 'e_{2}\\\\otimes e_{2}\\\\otimes f_{122}\\\\wedge f_{12}\\\\wedge f_{2}'}, 2: {0: 'f_{122}\\\\wedge e_{122}\\\\otimes f_{122}\\\\wedge f_{1}',\n",
       "   1: 'f_{122}\\\\wedge e_{12}\\\\otimes f_{12}\\\\wedge f_{1}',\n",
       "   2: 'f_{122}\\\\wedge e_{2}\\\\otimes f_{1}\\\\wedge f_{2}',\n",
       "   3: 'f_{12}\\\\wedge h_{2}\\\\otimes f_{1}\\\\wedge f_{2}',\n",
       "   4: 'f_{12}\\\\wedge h_{1}\\\\otimes f_{1}\\\\wedge f_{2}',\n",
       "   5: 'f_{12}\\\\wedge e_{122}\\\\otimes f_{122}\\\\wedge f_{12}',\n",
       "   6: 'f_{12}\\\\wedge e_{12}\\\\otimes f_{122}\\\\wedge f_{1}',\n",
       "   7: 'f_{12}\\\\wedge e_{1}\\\\otimes f_{12}\\\\wedge f_{1}',\n",
       "   8: 'f_{12}\\\\wedge e_{2}\\\\otimes f_{12}\\\\wedge f_{2}',\n",
       "   9: 'f_{1}\\\\wedge f_{2}\\\\otimes f_{1}\\\\wedge f_{2}',\n",
       "   10: 'f_{1}\\\\wedge h_{2}\\\\otimes f_{12}\\\\wedge f_{2}',\n",
       "   11: 'f_{1}\\\\wedge h_{1}\\\\otimes f_{12}\\\\wedge f_{2}',\n",
       "   12: 'f_{1}\\\\wedge e_{12}\\\\otimes f_{122}\\\\wedge f_{12}',\n",
       "   13: 'f_{1}\\\\wedge e_{1}\\\\otimes f_{122}\\\\wedge f_{1}',\n",
       "   14: 'f_{1}\\\\wedge e_{2}\\\\otimes f_{122}\\\\wedge f_{2}',\n",
       "   15: 'f_{2}\\\\wedge h_{2}\\\\otimes f_{12}\\\\wedge f_{1}',\n",
       "   16: 'f_{2}\\\\wedge h_{1}\\\\otimes f_{12}\\\\wedge f_{1}',\n",
       "   17: 'f_{2}\\\\wedge e_{2}\\\\otimes f_{122}\\\\wedge f_{1}',\n",
       "   18: 'h_{2}\\\\wedge h_{1}\\\\otimes f_{122}\\\\wedge f_{1}',\n",
       "   19: 'h_{2}\\\\wedge e_{2}\\\\otimes f_{122}\\\\wedge f_{12}',\n",
       "   20: 'h_{1}\\\\wedge e_{2}\\\\otimes f_{122}\\\\wedge f_{12}'}},\n",
       " (-2,\n",
       "  -1): {0: {0: 'e_{122}\\\\odot e_{2}\\\\otimes f_{122}\\\\wedge f_{12}\\\\wedge f_{1}\\\\wedge f_{2}'}, 1: {0: 'e_{122}\\\\otimes f_{12}\\\\otimes f_{12}\\\\wedge f_{1}\\\\wedge f_{2}',\n",
       "   1: 'e_{122}\\\\otimes f_{1}\\\\otimes f_{122}\\\\wedge f_{1}\\\\wedge f_{2}',\n",
       "   2: 'e_{122}\\\\otimes h_{2}\\\\otimes f_{122}\\\\wedge f_{12}\\\\wedge f_{1}',\n",
       "   3: 'e_{122}\\\\otimes h_{1}\\\\otimes f_{122}\\\\wedge f_{12}\\\\wedge f_{1}',\n",
       "   4: 'e_{12}\\\\otimes f_{1}\\\\otimes f_{12}\\\\wedge f_{1}\\\\wedge f_{2}',\n",
       "   5: 'e_{12}\\\\otimes e_{2}\\\\otimes f_{122}\\\\wedge f_{12}\\\\wedge f_{1}',\n",
       "   6: 'e_{2}\\\\otimes h_{2}\\\\otimes f_{12}\\\\wedge f_{1}\\\\wedge f_{2}',\n",
       "   7: 'e_{2}\\\\otimes h_{1}\\\\otimes f_{12}\\\\wedge f_{1}\\\\wedge f_{2}',\n",
       "   8: 'e_{2}\\\\otimes e_{12}\\\\otimes f_{122}\\\\wedge f_{12}\\\\wedge f_{1}',\n",
       "   9: 'e_{2}\\\\otimes e_{2}\\\\otimes f_{122}\\\\wedge f_{1}\\\\wedge f_{2}'}, 2: {0: 'f_{122}\\\\wedge e_{122}\\\\otimes f_{12}\\\\wedge f_{1}',\n",
       "   1: 'f_{12}\\\\wedge e_{122}\\\\otimes f_{122}\\\\wedge f_{1}',\n",
       "   2: 'f_{12}\\\\wedge e_{12}\\\\otimes f_{12}\\\\wedge f_{1}',\n",
       "   3: 'f_{12}\\\\wedge e_{2}\\\\otimes f_{1}\\\\wedge f_{2}',\n",
       "   4: 'f_{1}\\\\wedge h_{2}\\\\otimes f_{1}\\\\wedge f_{2}',\n",
       "   5: 'f_{1}\\\\wedge h_{1}\\\\otimes f_{1}\\\\wedge f_{2}',\n",
       "   6: 'f_{1}\\\\wedge e_{122}\\\\otimes f_{122}\\\\wedge f_{12}',\n",
       "   7: 'f_{1}\\\\wedge e_{12}\\\\otimes f_{122}\\\\wedge f_{1}',\n",
       "   8: 'f_{1}\\\\wedge e_{1}\\\\otimes f_{12}\\\\wedge f_{1}',\n",
       "   9: 'f_{1}\\\\wedge e_{2}\\\\otimes f_{12}\\\\wedge f_{2}',\n",
       "   10: 'f_{2}\\\\wedge e_{2}\\\\otimes f_{12}\\\\wedge f_{1}',\n",
       "   11: 'h_{2}\\\\wedge h_{1}\\\\otimes f_{12}\\\\wedge f_{1}',\n",
       "   12: 'h_{2}\\\\wedge e_{2}\\\\otimes f_{122}\\\\wedge f_{1}',\n",
       "   13: 'h_{1}\\\\wedge e_{2}\\\\otimes f_{122}\\\\wedge f_{1}'}},\n",
       " (-2,\n",
       "  0): {1: {0: 'e_{122}\\\\otimes f_{1}\\\\otimes f_{12}\\\\wedge f_{1}\\\\wedge f_{2}',\n",
       "   1: 'e_{122}\\\\otimes e_{2}\\\\otimes f_{122}\\\\wedge f_{12}\\\\wedge f_{1}',\n",
       "   2: 'e_{2}\\\\otimes e_{122}\\\\otimes f_{122}\\\\wedge f_{12}\\\\wedge f_{1}',\n",
       "   3: 'e_{2}\\\\otimes e_{2}\\\\otimes f_{12}\\\\wedge f_{1}\\\\wedge f_{2}'}, 2: {0: 'f_{12}\\\\wedge e_{122}\\\\otimes f_{12}\\\\wedge f_{1}',\n",
       "   1: 'f_{1}\\\\wedge e_{122}\\\\otimes f_{122}\\\\wedge f_{1}',\n",
       "   2: 'f_{1}\\\\wedge e_{12}\\\\otimes f_{12}\\\\wedge f_{1}',\n",
       "   3: 'f_{1}\\\\wedge e_{2}\\\\otimes f_{1}\\\\wedge f_{2}',\n",
       "   4: 'h_{2}\\\\wedge e_{2}\\\\otimes f_{12}\\\\wedge f_{1}',\n",
       "   5: 'h_{1}\\\\wedge e_{2}\\\\otimes f_{12}\\\\wedge f_{1}'}},\n",
       " (-2, 1): {2: {0: 'f_{1}\\\\wedge e_{122}\\\\otimes f_{12}\\\\wedge f_{1}'}},\n",
       " (-1,\n",
       "  -5): {1: {0: 'e_{1}\\\\otimes f_{2}\\\\otimes f_{122}\\\\wedge f_{12}\\\\wedge f_{2}'}, 2: {0: 'f_{122}\\\\wedge e_{1}\\\\otimes f_{122}\\\\wedge f_{2}'}},\n",
       " (-1,\n",
       "  -4): {0: {0: 'e_{1}\\\\odot e_{1}\\\\otimes f_{122}\\\\wedge f_{12}\\\\wedge f_{1}\\\\wedge f_{2}'}, 1: {0: 'e_{12}\\\\otimes f_{2}\\\\otimes f_{122}\\\\wedge f_{12}\\\\wedge f_{2}',\n",
       "   1: 'e_{1}\\\\otimes f_{2}\\\\otimes f_{122}\\\\wedge f_{1}\\\\wedge f_{2}',\n",
       "   2: 'e_{1}\\\\otimes h_{2}\\\\otimes f_{122}\\\\wedge f_{12}\\\\wedge f_{2}',\n",
       "   3: 'e_{1}\\\\otimes h_{1}\\\\otimes f_{122}\\\\wedge f_{12}\\\\wedge f_{2}'}, 2: {0: 'f_{122}\\\\wedge e_{12}\\\\otimes f_{122}\\\\wedge f_{2}',\n",
       "   1: 'f_{122}\\\\wedge e_{1}\\\\otimes f_{12}\\\\wedge f_{2}',\n",
       "   2: 'f_{12}\\\\wedge e_{1}\\\\otimes f_{122}\\\\wedge f_{2}',\n",
       "   3: 'f_{2}\\\\wedge h_{2}\\\\otimes f_{122}\\\\wedge f_{2}',\n",
       "   4: 'f_{2}\\\\wedge h_{1}\\\\otimes f_{122}\\\\wedge f_{2}',\n",
       "   5: 'f_{2}\\\\wedge e_{1}\\\\otimes f_{122}\\\\wedge f_{12}'}},\n",
       " (-1,\n",
       "  -3): {0: {0: 'e_{12}\\\\odot e_{1}\\\\otimes f_{122}\\\\wedge f_{12}\\\\wedge f_{1}\\\\wedge f_{2}'}, 1: {0: 'e_{122}\\\\otimes f_{2}\\\\otimes f_{122}\\\\wedge f_{12}\\\\wedge f_{2}',\n",
       "   1: 'e_{12}\\\\otimes f_{2}\\\\otimes f_{122}\\\\wedge f_{1}\\\\wedge f_{2}',\n",
       "   2: 'e_{12}\\\\otimes h_{2}\\\\otimes f_{122}\\\\wedge f_{12}\\\\wedge f_{2}',\n",
       "   3: 'e_{12}\\\\otimes h_{1}\\\\otimes f_{122}\\\\wedge f_{12}\\\\wedge f_{2}',\n",
       "   4: 'e_{1}\\\\otimes f_{2}\\\\otimes f_{12}\\\\wedge f_{1}\\\\wedge f_{2}',\n",
       "   5: 'e_{1}\\\\otimes h_{2}\\\\otimes f_{122}\\\\wedge f_{1}\\\\wedge f_{2}',\n",
       "   6: 'e_{1}\\\\otimes h_{1}\\\\otimes f_{122}\\\\wedge f_{1}\\\\wedge f_{2}',\n",
       "   7: 'e_{1}\\\\otimes e_{1}\\\\otimes f_{122}\\\\wedge f_{12}\\\\wedge f_{1}',\n",
       "   8: 'e_{1}\\\\otimes e_{2}\\\\otimes f_{122}\\\\wedge f_{12}\\\\wedge f_{2}',\n",
       "   9: 'e_{2}\\\\otimes e_{1}\\\\otimes f_{122}\\\\wedge f_{12}\\\\wedge f_{2}'}, 2: {0: 'f_{122}\\\\wedge e_{122}\\\\otimes f_{122}\\\\wedge f_{2}',\n",
       "   1: 'f_{122}\\\\wedge e_{12}\\\\otimes f_{12}\\\\wedge f_{2}',\n",
       "   2: 'f_{122}\\\\wedge e_{1}\\\\otimes f_{1}\\\\wedge f_{2}',\n",
       "   3: 'f_{12}\\\\wedge e_{12}\\\\otimes f_{122}\\\\wedge f_{2}',\n",
       "   4: 'f_{12}\\\\wedge e_{1}\\\\otimes f_{12}\\\\wedge f_{2}',\n",
       "   5: 'f_{1}\\\\wedge e_{1}\\\\otimes f_{122}\\\\wedge f_{2}',\n",
       "   6: 'f_{2}\\\\wedge h_{2}\\\\otimes f_{12}\\\\wedge f_{2}',\n",
       "   7: 'f_{2}\\\\wedge h_{1}\\\\otimes f_{12}\\\\wedge f_{2}',\n",
       "   8: 'f_{2}\\\\wedge e_{12}\\\\otimes f_{122}\\\\wedge f_{12}',\n",
       "   9: 'f_{2}\\\\wedge e_{1}\\\\otimes f_{122}\\\\wedge f_{1}',\n",
       "   10: 'f_{2}\\\\wedge e_{2}\\\\otimes f_{122}\\\\wedge f_{2}',\n",
       "   11: 'h_{2}\\\\wedge h_{1}\\\\otimes f_{122}\\\\wedge f_{2}',\n",
       "   12: 'h_{2}\\\\wedge e_{1}\\\\otimes f_{122}\\\\wedge f_{12}',\n",
       "   13: 'h_{1}\\\\wedge e_{1}\\\\otimes f_{122}\\\\wedge f_{12}'}},\n",
       " (-1,\n",
       "  -2): {0: {0: 'e_{122}\\\\odot e_{1}\\\\otimes f_{122}\\\\wedge f_{12}\\\\wedge f_{1}\\\\wedge f_{2}',\n",
       "   1: 'e_{12}\\\\odot e_{12}\\\\otimes f_{122}\\\\wedge f_{12}\\\\wedge f_{1}\\\\wedge f_{2}'}, 1: {0: 'e_{122}\\\\otimes f_{2}\\\\otimes f_{122}\\\\wedge f_{1}\\\\wedge f_{2}',\n",
       "   1: 'e_{122}\\\\otimes h_{2}\\\\otimes f_{122}\\\\wedge f_{12}\\\\wedge f_{2}',\n",
       "   2: 'e_{122}\\\\otimes h_{1}\\\\otimes f_{122}\\\\wedge f_{12}\\\\wedge f_{2}',\n",
       "   3: 'e_{12}\\\\otimes f_{2}\\\\otimes f_{12}\\\\wedge f_{1}\\\\wedge f_{2}',\n",
       "   4: 'e_{12}\\\\otimes h_{2}\\\\otimes f_{122}\\\\wedge f_{1}\\\\wedge f_{2}',\n",
       "   5: 'e_{12}\\\\otimes h_{1}\\\\otimes f_{122}\\\\wedge f_{1}\\\\wedge f_{2}',\n",
       "   6: 'e_{12}\\\\otimes e_{1}\\\\otimes f_{122}\\\\wedge f_{12}\\\\wedge f_{1}',\n",
       "   7: 'e_{12}\\\\otimes e_{2}\\\\otimes f_{122}\\\\wedge f_{12}\\\\wedge f_{2}',\n",
       "   8: 'e_{1}\\\\otimes h_{2}\\\\otimes f_{12}\\\\wedge f_{1}\\\\wedge f_{2}',\n",
       "   9: 'e_{1}\\\\otimes h_{1}\\\\otimes f_{12}\\\\wedge f_{1}\\\\wedge f_{2}',\n",
       "   10: 'e_{1}\\\\otimes e_{12}\\\\otimes f_{122}\\\\wedge f_{12}\\\\wedge f_{1}',\n",
       "   11: 'e_{1}\\\\otimes e_{2}\\\\otimes f_{122}\\\\wedge f_{1}\\\\wedge f_{2}',\n",
       "   12: 'e_{2}\\\\otimes e_{12}\\\\otimes f_{122}\\\\wedge f_{12}\\\\wedge f_{2}',\n",
       "   13: 'e_{2}\\\\otimes e_{1}\\\\otimes f_{122}\\\\wedge f_{1}\\\\wedge f_{2}'}, 2: {0: 'f_{122}\\\\wedge e_{122}\\\\otimes f_{12}\\\\wedge f_{2}',\n",
       "   1: 'f_{122}\\\\wedge e_{12}\\\\otimes f_{1}\\\\wedge f_{2}',\n",
       "   2: 'f_{12}\\\\wedge e_{122}\\\\otimes f_{122}\\\\wedge f_{2}',\n",
       "   3: 'f_{12}\\\\wedge e_{12}\\\\otimes f_{12}\\\\wedge f_{2}',\n",
       "   4: 'f_{12}\\\\wedge e_{1}\\\\otimes f_{1}\\\\wedge f_{2}',\n",
       "   5: 'f_{1}\\\\wedge e_{12}\\\\otimes f_{122}\\\\wedge f_{2}',\n",
       "   6: 'f_{1}\\\\wedge e_{1}\\\\otimes f_{12}\\\\wedge f_{2}',\n",
       "   7: 'f_{2}\\\\wedge h_{2}\\\\otimes f_{1}\\\\wedge f_{2}',\n",
       "   8: 'f_{2}\\\\wedge h_{1}\\\\otimes f_{1}\\\\wedge f_{2}',\n",
       "   9: 'f_{2}\\\\wedge e_{122}\\\\otimes f_{122}\\\\wedge f_{12}',\n",
       "   10: 'f_{2}\\\\wedge e_{12}\\\\otimes f_{122}\\\\wedge f_{1}',\n",
       "   11: 'f_{2}\\\\wedge e_{1}\\\\otimes f_{12}\\\\wedge f_{1}',\n",
       "   12: 'f_{2}\\\\wedge e_{2}\\\\otimes f_{12}\\\\wedge f_{2}',\n",
       "   13: 'h_{2}\\\\wedge h_{1}\\\\otimes f_{12}\\\\wedge f_{2}',\n",
       "   14: 'h_{2}\\\\wedge e_{12}\\\\otimes f_{122}\\\\wedge f_{12}',\n",
       "   15: 'h_{2}\\\\wedge e_{1}\\\\otimes f_{122}\\\\wedge f_{1}',\n",
       "   16: 'h_{2}\\\\wedge e_{2}\\\\otimes f_{122}\\\\wedge f_{2}',\n",
       "   17: 'h_{1}\\\\wedge e_{12}\\\\otimes f_{122}\\\\wedge f_{12}',\n",
       "   18: 'h_{1}\\\\wedge e_{1}\\\\otimes f_{122}\\\\wedge f_{1}',\n",
       "   19: 'h_{1}\\\\wedge e_{2}\\\\otimes f_{122}\\\\wedge f_{2}',\n",
       "   20: 'e_{1}\\\\wedge e_{2}\\\\otimes f_{122}\\\\wedge f_{12}'}},\n",
       " (-1,\n",
       "  -1): {0: {0: 'e_{122}\\\\odot e_{12}\\\\otimes f_{122}\\\\wedge f_{12}\\\\wedge f_{1}\\\\wedge f_{2}'}, 1: {0: 'e_{122}\\\\otimes f_{2}\\\\otimes f_{12}\\\\wedge f_{1}\\\\wedge f_{2}',\n",
       "   1: 'e_{122}\\\\otimes h_{2}\\\\otimes f_{122}\\\\wedge f_{1}\\\\wedge f_{2}',\n",
       "   2: 'e_{122}\\\\otimes h_{1}\\\\otimes f_{122}\\\\wedge f_{1}\\\\wedge f_{2}',\n",
       "   3: 'e_{122}\\\\otimes e_{1}\\\\otimes f_{122}\\\\wedge f_{12}\\\\wedge f_{1}',\n",
       "   4: 'e_{122}\\\\otimes e_{2}\\\\otimes f_{122}\\\\wedge f_{12}\\\\wedge f_{2}',\n",
       "   5: 'e_{12}\\\\otimes h_{2}\\\\otimes f_{12}\\\\wedge f_{1}\\\\wedge f_{2}',\n",
       "   6: 'e_{12}\\\\otimes h_{1}\\\\otimes f_{12}\\\\wedge f_{1}\\\\wedge f_{2}',\n",
       "   7: 'e_{12}\\\\otimes e_{12}\\\\otimes f_{122}\\\\wedge f_{12}\\\\wedge f_{1}',\n",
       "   8: 'e_{12}\\\\otimes e_{2}\\\\otimes f_{122}\\\\wedge f_{1}\\\\wedge f_{2}',\n",
       "   9: 'e_{1}\\\\otimes e_{122}\\\\otimes f_{122}\\\\wedge f_{12}\\\\wedge f_{1}',\n",
       "   10: 'e_{1}\\\\otimes e_{2}\\\\otimes f_{12}\\\\wedge f_{1}\\\\wedge f_{2}',\n",
       "   11: 'e_{2}\\\\otimes e_{122}\\\\otimes f_{122}\\\\wedge f_{12}\\\\wedge f_{2}',\n",
       "   12: 'e_{2}\\\\otimes e_{12}\\\\otimes f_{122}\\\\wedge f_{1}\\\\wedge f_{2}',\n",
       "   13: 'e_{2}\\\\otimes e_{1}\\\\otimes f_{12}\\\\wedge f_{1}\\\\wedge f_{2}'}, 2: {0: 'f_{122}\\\\wedge e_{122}\\\\otimes f_{1}\\\\wedge f_{2}',\n",
       "   1: 'f_{12}\\\\wedge e_{122}\\\\otimes f_{12}\\\\wedge f_{2}',\n",
       "   2: 'f_{12}\\\\wedge e_{12}\\\\otimes f_{1}\\\\wedge f_{2}',\n",
       "   3: 'f_{1}\\\\wedge e_{122}\\\\otimes f_{122}\\\\wedge f_{2}',\n",
       "   4: 'f_{1}\\\\wedge e_{12}\\\\otimes f_{12}\\\\wedge f_{2}',\n",
       "   5: 'f_{1}\\\\wedge e_{1}\\\\otimes f_{1}\\\\wedge f_{2}',\n",
       "   6: 'f_{2}\\\\wedge e_{122}\\\\otimes f_{122}\\\\wedge f_{1}',\n",
       "   7: 'f_{2}\\\\wedge e_{12}\\\\otimes f_{12}\\\\wedge f_{1}',\n",
       "   8: 'f_{2}\\\\wedge e_{2}\\\\otimes f_{1}\\\\wedge f_{2}',\n",
       "   9: 'h_{2}\\\\wedge h_{1}\\\\otimes f_{1}\\\\wedge f_{2}',\n",
       "   10: 'h_{2}\\\\wedge e_{122}\\\\otimes f_{122}\\\\wedge f_{12}',\n",
       "   11: 'h_{2}\\\\wedge e_{12}\\\\otimes f_{122}\\\\wedge f_{1}',\n",
       "   12: 'h_{2}\\\\wedge e_{1}\\\\otimes f_{12}\\\\wedge f_{1}',\n",
       "   13: 'h_{2}\\\\wedge e_{2}\\\\otimes f_{12}\\\\wedge f_{2}',\n",
       "   14: 'h_{1}\\\\wedge e_{122}\\\\otimes f_{122}\\\\wedge f_{12}',\n",
       "   15: 'h_{1}\\\\wedge e_{12}\\\\otimes f_{122}\\\\wedge f_{1}',\n",
       "   16: 'h_{1}\\\\wedge e_{1}\\\\otimes f_{12}\\\\wedge f_{1}',\n",
       "   17: 'h_{1}\\\\wedge e_{2}\\\\otimes f_{12}\\\\wedge f_{2}',\n",
       "   18: 'e_{12}\\\\wedge e_{2}\\\\otimes f_{122}\\\\wedge f_{12}',\n",
       "   19: 'e_{1}\\\\wedge e_{2}\\\\otimes f_{122}\\\\wedge f_{1}'}},\n",
       " (-1,\n",
       "  0): {0: {0: 'e_{122}\\\\odot e_{122}\\\\otimes f_{122}\\\\wedge f_{12}\\\\wedge f_{1}\\\\wedge f_{2}'}, 1: {0: 'e_{122}\\\\otimes h_{2}\\\\otimes f_{12}\\\\wedge f_{1}\\\\wedge f_{2}',\n",
       "   1: 'e_{122}\\\\otimes h_{1}\\\\otimes f_{12}\\\\wedge f_{1}\\\\wedge f_{2}',\n",
       "   2: 'e_{122}\\\\otimes e_{12}\\\\otimes f_{122}\\\\wedge f_{12}\\\\wedge f_{1}',\n",
       "   3: 'e_{122}\\\\otimes e_{2}\\\\otimes f_{122}\\\\wedge f_{1}\\\\wedge f_{2}',\n",
       "   4: 'e_{12}\\\\otimes e_{122}\\\\otimes f_{122}\\\\wedge f_{12}\\\\wedge f_{1}',\n",
       "   5: 'e_{12}\\\\otimes e_{2}\\\\otimes f_{12}\\\\wedge f_{1}\\\\wedge f_{2}',\n",
       "   6: 'e_{2}\\\\otimes e_{122}\\\\otimes f_{122}\\\\wedge f_{1}\\\\wedge f_{2}',\n",
       "   7: 'e_{2}\\\\otimes e_{12}\\\\otimes f_{12}\\\\wedge f_{1}\\\\wedge f_{2}'}, 2: {0: 'f_{12}\\\\wedge e_{122}\\\\otimes f_{1}\\\\wedge f_{2}',\n",
       "   1: 'f_{1}\\\\wedge e_{122}\\\\otimes f_{12}\\\\wedge f_{2}',\n",
       "   2: 'f_{1}\\\\wedge e_{12}\\\\otimes f_{1}\\\\wedge f_{2}',\n",
       "   3: 'f_{2}\\\\wedge e_{122}\\\\otimes f_{12}\\\\wedge f_{1}',\n",
       "   4: 'h_{2}\\\\wedge e_{122}\\\\otimes f_{122}\\\\wedge f_{1}',\n",
       "   5: 'h_{2}\\\\wedge e_{12}\\\\otimes f_{12}\\\\wedge f_{1}',\n",
       "   6: 'h_{2}\\\\wedge e_{2}\\\\otimes f_{1}\\\\wedge f_{2}',\n",
       "   7: 'h_{1}\\\\wedge e_{122}\\\\otimes f_{122}\\\\wedge f_{1}',\n",
       "   8: 'h_{1}\\\\wedge e_{12}\\\\otimes f_{12}\\\\wedge f_{1}',\n",
       "   9: 'h_{1}\\\\wedge e_{2}\\\\otimes f_{1}\\\\wedge f_{2}',\n",
       "   10: 'e_{122}\\\\wedge e_{2}\\\\otimes f_{122}\\\\wedge f_{12}',\n",
       "   11: 'e_{12}\\\\wedge e_{2}\\\\otimes f_{122}\\\\wedge f_{1}',\n",
       "   12: 'e_{1}\\\\wedge e_{2}\\\\otimes f_{12}\\\\wedge f_{1}'}},\n",
       " (-1,\n",
       "  1): {1: {0: 'e_{122}\\\\otimes e_{122}\\\\otimes f_{122}\\\\wedge f_{12}\\\\wedge f_{1}',\n",
       "   1: 'e_{122}\\\\otimes e_{2}\\\\otimes f_{12}\\\\wedge f_{1}\\\\wedge f_{2}',\n",
       "   2: 'e_{2}\\\\otimes e_{122}\\\\otimes f_{12}\\\\wedge f_{1}\\\\wedge f_{2}'}, 2: {0: 'f_{1}\\\\wedge e_{122}\\\\otimes f_{1}\\\\wedge f_{2}',\n",
       "   1: 'h_{2}\\\\wedge e_{122}\\\\otimes f_{12}\\\\wedge f_{1}',\n",
       "   2: 'h_{1}\\\\wedge e_{122}\\\\otimes f_{12}\\\\wedge f_{1}',\n",
       "   3: 'e_{122}\\\\wedge e_{2}\\\\otimes f_{122}\\\\wedge f_{1}',\n",
       "   4: 'e_{12}\\\\wedge e_{2}\\\\otimes f_{12}\\\\wedge f_{1}'}},\n",
       " (-1, 2): {2: {0: 'e_{122}\\\\wedge e_{2}\\\\otimes f_{12}\\\\wedge f_{1}'}},\n",
       " (0,\n",
       "  -4): {1: {0: 'e_{1}\\\\otimes e_{1}\\\\otimes f_{122}\\\\wedge f_{12}\\\\wedge f_{2}'}, 2: {0: 'f_{2}\\\\wedge e_{1}\\\\otimes f_{122}\\\\wedge f_{2}'}},\n",
       " (0,\n",
       "  -3): {1: {0: 'e_{12}\\\\otimes e_{1}\\\\otimes f_{122}\\\\wedge f_{12}\\\\wedge f_{2}',\n",
       "   1: 'e_{1}\\\\otimes e_{12}\\\\otimes f_{122}\\\\wedge f_{12}\\\\wedge f_{2}',\n",
       "   2: 'e_{1}\\\\otimes e_{1}\\\\otimes f_{122}\\\\wedge f_{1}\\\\wedge f_{2}'}, 2: {0: 'f_{2}\\\\wedge e_{12}\\\\otimes f_{122}\\\\wedge f_{2}',\n",
       "   1: 'f_{2}\\\\wedge e_{1}\\\\otimes f_{12}\\\\wedge f_{2}',\n",
       "   2: 'h_{2}\\\\wedge e_{1}\\\\otimes f_{122}\\\\wedge f_{2}',\n",
       "   3: 'h_{1}\\\\wedge e_{1}\\\\otimes f_{122}\\\\wedge f_{2}'}},\n",
       " (0,\n",
       "  -2): {1: {0: 'e_{122}\\\\otimes e_{1}\\\\otimes f_{122}\\\\wedge f_{12}\\\\wedge f_{2}',\n",
       "   1: 'e_{12}\\\\otimes e_{12}\\\\otimes f_{122}\\\\wedge f_{12}\\\\wedge f_{2}',\n",
       "   2: 'e_{12}\\\\otimes e_{1}\\\\otimes f_{122}\\\\wedge f_{1}\\\\wedge f_{2}',\n",
       "   3: 'e_{1}\\\\otimes e_{122}\\\\otimes f_{122}\\\\wedge f_{12}\\\\wedge f_{2}',\n",
       "   4: 'e_{1}\\\\otimes e_{12}\\\\otimes f_{122}\\\\wedge f_{1}\\\\wedge f_{2}',\n",
       "   5: 'e_{1}\\\\otimes e_{1}\\\\otimes f_{12}\\\\wedge f_{1}\\\\wedge f_{2}'}, 2: {0: 'f_{2}\\\\wedge e_{122}\\\\otimes f_{122}\\\\wedge f_{2}',\n",
       "   1: 'f_{2}\\\\wedge e_{12}\\\\otimes f_{12}\\\\wedge f_{2}',\n",
       "   2: 'f_{2}\\\\wedge e_{1}\\\\otimes f_{1}\\\\wedge f_{2}',\n",
       "   3: 'h_{2}\\\\wedge e_{12}\\\\otimes f_{122}\\\\wedge f_{2}',\n",
       "   4: 'h_{2}\\\\wedge e_{1}\\\\otimes f_{12}\\\\wedge f_{2}',\n",
       "   5: 'h_{1}\\\\wedge e_{12}\\\\otimes f_{122}\\\\wedge f_{2}',\n",
       "   6: 'h_{1}\\\\wedge e_{1}\\\\otimes f_{12}\\\\wedge f_{2}',\n",
       "   7: 'e_{12}\\\\wedge e_{1}\\\\otimes f_{122}\\\\wedge f_{12}',\n",
       "   8: 'e_{1}\\\\wedge e_{2}\\\\otimes f_{122}\\\\wedge f_{2}'}},\n",
       " (0,\n",
       "  -1): {1: {0: 'e_{122}\\\\otimes e_{12}\\\\otimes f_{122}\\\\wedge f_{12}\\\\wedge f_{2}',\n",
       "   1: 'e_{122}\\\\otimes e_{1}\\\\otimes f_{122}\\\\wedge f_{1}\\\\wedge f_{2}',\n",
       "   2: 'e_{12}\\\\otimes e_{122}\\\\otimes f_{122}\\\\wedge f_{12}\\\\wedge f_{2}',\n",
       "   3: 'e_{12}\\\\otimes e_{12}\\\\otimes f_{122}\\\\wedge f_{1}\\\\wedge f_{2}',\n",
       "   4: 'e_{12}\\\\otimes e_{1}\\\\otimes f_{12}\\\\wedge f_{1}\\\\wedge f_{2}',\n",
       "   5: 'e_{1}\\\\otimes e_{122}\\\\otimes f_{122}\\\\wedge f_{1}\\\\wedge f_{2}',\n",
       "   6: 'e_{1}\\\\otimes e_{12}\\\\otimes f_{12}\\\\wedge f_{1}\\\\wedge f_{2}'}, 2: {0: 'f_{2}\\\\wedge e_{122}\\\\otimes f_{12}\\\\wedge f_{2}',\n",
       "   1: 'f_{2}\\\\wedge e_{12}\\\\otimes f_{1}\\\\wedge f_{2}',\n",
       "   2: 'h_{2}\\\\wedge e_{122}\\\\otimes f_{122}\\\\wedge f_{2}',\n",
       "   3: 'h_{2}\\\\wedge e_{12}\\\\otimes f_{12}\\\\wedge f_{2}',\n",
       "   4: 'h_{2}\\\\wedge e_{1}\\\\otimes f_{1}\\\\wedge f_{2}',\n",
       "   5: 'h_{1}\\\\wedge e_{122}\\\\otimes f_{122}\\\\wedge f_{2}',\n",
       "   6: 'h_{1}\\\\wedge e_{12}\\\\otimes f_{12}\\\\wedge f_{2}',\n",
       "   7: 'h_{1}\\\\wedge e_{1}\\\\otimes f_{1}\\\\wedge f_{2}',\n",
       "   8: 'e_{122}\\\\wedge e_{1}\\\\otimes f_{122}\\\\wedge f_{12}',\n",
       "   9: 'e_{12}\\\\wedge e_{1}\\\\otimes f_{122}\\\\wedge f_{1}',\n",
       "   10: 'e_{12}\\\\wedge e_{2}\\\\otimes f_{122}\\\\wedge f_{2}',\n",
       "   11: 'e_{1}\\\\wedge e_{2}\\\\otimes f_{12}\\\\wedge f_{2}'}},\n",
       " (0,\n",
       "  0): {1: {0: 'e_{122}\\\\otimes e_{122}\\\\otimes f_{122}\\\\wedge f_{12}\\\\wedge f_{2}',\n",
       "   1: 'e_{122}\\\\otimes e_{12}\\\\otimes f_{122}\\\\wedge f_{1}\\\\wedge f_{2}',\n",
       "   2: 'e_{122}\\\\otimes e_{1}\\\\otimes f_{12}\\\\wedge f_{1}\\\\wedge f_{2}',\n",
       "   3: 'e_{12}\\\\otimes e_{122}\\\\otimes f_{122}\\\\wedge f_{1}\\\\wedge f_{2}',\n",
       "   4: 'e_{12}\\\\otimes e_{12}\\\\otimes f_{12}\\\\wedge f_{1}\\\\wedge f_{2}',\n",
       "   5: 'e_{1}\\\\otimes e_{122}\\\\otimes f_{12}\\\\wedge f_{1}\\\\wedge f_{2}'}, 2: {0: 'f_{2}\\\\wedge e_{122}\\\\otimes f_{1}\\\\wedge f_{2}',\n",
       "   1: 'h_{2}\\\\wedge e_{122}\\\\otimes f_{12}\\\\wedge f_{2}',\n",
       "   2: 'h_{2}\\\\wedge e_{12}\\\\otimes f_{1}\\\\wedge f_{2}',\n",
       "   3: 'h_{1}\\\\wedge e_{122}\\\\otimes f_{12}\\\\wedge f_{2}',\n",
       "   4: 'h_{1}\\\\wedge e_{12}\\\\otimes f_{1}\\\\wedge f_{2}',\n",
       "   5: 'e_{122}\\\\wedge e_{12}\\\\otimes f_{122}\\\\wedge f_{12}',\n",
       "   6: 'e_{122}\\\\wedge e_{1}\\\\otimes f_{122}\\\\wedge f_{1}',\n",
       "   7: 'e_{122}\\\\wedge e_{2}\\\\otimes f_{122}\\\\wedge f_{2}',\n",
       "   8: 'e_{12}\\\\wedge e_{1}\\\\otimes f_{12}\\\\wedge f_{1}',\n",
       "   9: 'e_{12}\\\\wedge e_{2}\\\\otimes f_{12}\\\\wedge f_{2}',\n",
       "   10: 'e_{1}\\\\wedge e_{2}\\\\otimes f_{1}\\\\wedge f_{2}'}},\n",
       " (0,\n",
       "  1): {1: {0: 'e_{122}\\\\otimes e_{122}\\\\otimes f_{122}\\\\wedge f_{1}\\\\wedge f_{2}',\n",
       "   1: 'e_{122}\\\\otimes e_{12}\\\\otimes f_{12}\\\\wedge f_{1}\\\\wedge f_{2}',\n",
       "   2: 'e_{12}\\\\otimes e_{122}\\\\otimes f_{12}\\\\wedge f_{1}\\\\wedge f_{2}'}, 2: {0: 'h_{2}\\\\wedge e_{122}\\\\otimes f_{1}\\\\wedge f_{2}',\n",
       "   1: 'h_{1}\\\\wedge e_{122}\\\\otimes f_{1}\\\\wedge f_{2}',\n",
       "   2: 'e_{122}\\\\wedge e_{12}\\\\otimes f_{122}\\\\wedge f_{1}',\n",
       "   3: 'e_{122}\\\\wedge e_{1}\\\\otimes f_{12}\\\\wedge f_{1}',\n",
       "   4: 'e_{122}\\\\wedge e_{2}\\\\otimes f_{12}\\\\wedge f_{2}',\n",
       "   5: 'e_{12}\\\\wedge e_{2}\\\\otimes f_{1}\\\\wedge f_{2}'}},\n",
       " (0,\n",
       "  2): {1: {0: 'e_{122}\\\\otimes e_{122}\\\\otimes f_{12}\\\\wedge f_{1}\\\\wedge f_{2}'}, 2: {0: 'e_{122}\\\\wedge e_{12}\\\\otimes f_{12}\\\\wedge f_{1}',\n",
       "   1: 'e_{122}\\\\wedge e_{2}\\\\otimes f_{1}\\\\wedge f_{2}'}},\n",
       " (1, -2): {2: {0: 'e_{12}\\\\wedge e_{1}\\\\otimes f_{122}\\\\wedge f_{2}'}},\n",
       " (1,\n",
       "  -1): {2: {0: 'e_{122}\\\\wedge e_{1}\\\\otimes f_{122}\\\\wedge f_{2}',\n",
       "   1: 'e_{12}\\\\wedge e_{1}\\\\otimes f_{12}\\\\wedge f_{2}'}},\n",
       " (1,\n",
       "  0): {2: {0: 'e_{122}\\\\wedge e_{12}\\\\otimes f_{122}\\\\wedge f_{2}',\n",
       "   1: 'e_{122}\\\\wedge e_{1}\\\\otimes f_{12}\\\\wedge f_{2}',\n",
       "   2: 'e_{12}\\\\wedge e_{1}\\\\otimes f_{1}\\\\wedge f_{2}'}},\n",
       " (1,\n",
       "  1): {2: {0: 'e_{122}\\\\wedge e_{12}\\\\otimes f_{12}\\\\wedge f_{2}',\n",
       "   1: 'e_{122}\\\\wedge e_{1}\\\\otimes f_{1}\\\\wedge f_{2}'}},\n",
       " (1, 2): {2: {0: 'e_{122}\\\\wedge e_{12}\\\\otimes f_{1}\\\\wedge f_{2}'}}}"
      ]
     },
     "execution_count": 19,
     "metadata": {},
     "output_type": "execute_result"
    }
   ],
   "source": [
    "module.latex_basis_dic"
   ]
  },
  {
   "cell_type": "code",
   "execution_count": 20,
   "metadata": {},
   "outputs": [
    {
     "data": {
      "text/plain": [
       "{(-4, -6): {(0, 1, 0, 1, 2): 0},\n",
       " (-4, -5): {(0, 1, 0, 2, 2): 0, (0, 2, 0, 1, 2): 1},\n",
       " (-4, -4): {(0, 1, 1, 2, 2): 0,\n",
       "  (0, 2, 0, 2, 2): 1,\n",
       "  (1, 2, 0, 1, 2): 2,\n",
       "  (9, 0, 0, 1, 2, 1): 0},\n",
       " (-4, -3): {(0, 2, 1, 2, 2): 0, (1, 2, 0, 2, 2): 1, (9, 1, 0, 1, 2, 1): 0},\n",
       " (-4, -2): {(1, 2, 1, 2, 2): 0, (9, 2, 0, 1, 2, 1): 0},\n",
       " (-3, -6): {(0, 1, 0, 3, 2): 0, (0, 3, 0, 1, 2): 1},\n",
       " (-3, -5): {(0, 1, 1, 3, 2): 0,\n",
       "  (0, 2, 0, 3, 2): 1,\n",
       "  (0, 3, 0, 2, 2): 2,\n",
       "  (0, 4, 0, 1, 2): 3,\n",
       "  (0, 5, 0, 1, 2): 4,\n",
       "  (1, 3, 0, 1, 2): 5,\n",
       "  (8, 0, 0, 1, 2, 1): 0,\n",
       "  (9, 0, 0, 1, 3, 1): 1},\n",
       " (-3, -4): {(0, 1, 2, 3, 2): 0,\n",
       "  (0, 2, 1, 3, 2): 1,\n",
       "  (0, 3, 1, 2, 2): 2,\n",
       "  (0, 4, 0, 2, 2): 3,\n",
       "  (0, 5, 0, 2, 2): 4,\n",
       "  (0, 9, 0, 1, 2): 5,\n",
       "  (1, 2, 0, 3, 2): 6,\n",
       "  (1, 3, 0, 2, 2): 7,\n",
       "  (1, 4, 0, 1, 2): 8,\n",
       "  (1, 5, 0, 1, 2): 9,\n",
       "  (2, 3, 0, 1, 2): 10,\n",
       "  (7, 0, 0, 1, 2, 1): 0,\n",
       "  (8, 1, 0, 1, 2, 1): 1,\n",
       "  (9, 0, 0, 2, 3, 1): 2,\n",
       "  (9, 1, 0, 1, 3, 1): 3},\n",
       " (-3, -3): {(0, 2, 2, 3, 2): 0,\n",
       "  (0, 4, 1, 2, 2): 1,\n",
       "  (0, 5, 1, 2, 2): 2,\n",
       "  (0, 9, 0, 2, 2): 3,\n",
       "  (1, 2, 1, 3, 2): 4,\n",
       "  (1, 3, 1, 2, 2): 5,\n",
       "  (1, 4, 0, 2, 2): 6,\n",
       "  (1, 5, 0, 2, 2): 7,\n",
       "  (1, 9, 0, 1, 2): 8,\n",
       "  (2, 3, 0, 2, 2): 9,\n",
       "  (2, 4, 0, 1, 2): 10,\n",
       "  (2, 5, 0, 1, 2): 11,\n",
       "  (6, 0, 0, 1, 2, 1): 0,\n",
       "  (7, 1, 0, 1, 2, 1): 1,\n",
       "  (8, 2, 0, 1, 2, 1): 2,\n",
       "  (9, 0, 1, 2, 3, 1): 3,\n",
       "  (9, 1, 0, 2, 3, 1): 4,\n",
       "  (9, 2, 0, 1, 3, 1): 5,\n",
       "  (9, 3, 0, 1, 2, 1): 6},\n",
       " (-3, -2): {(0, 9, 1, 2, 2): 0,\n",
       "  (1, 2, 2, 3, 2): 1,\n",
       "  (1, 4, 1, 2, 2): 2,\n",
       "  (1, 5, 1, 2, 2): 3,\n",
       "  (1, 9, 0, 2, 2): 4,\n",
       "  (2, 3, 1, 2, 2): 5,\n",
       "  (2, 4, 0, 2, 2): 6,\n",
       "  (2, 5, 0, 2, 2): 7,\n",
       "  (2, 9, 0, 1, 2): 8,\n",
       "  (6, 1, 0, 1, 2, 1): 0,\n",
       "  (7, 2, 0, 1, 2, 1): 1,\n",
       "  (9, 1, 1, 2, 3, 1): 2,\n",
       "  (9, 2, 0, 2, 3, 1): 3,\n",
       "  (9, 4, 0, 1, 2, 1): 4,\n",
       "  (9, 5, 0, 1, 2, 1): 5,\n",
       "  (9, 9, 0, 1, 2, 3, 0): 0},\n",
       " (-3, -1): {(1, 9, 1, 2, 2): 0,\n",
       "  (2, 4, 1, 2, 2): 1,\n",
       "  (2, 5, 1, 2, 2): 2,\n",
       "  (2, 9, 0, 2, 2): 3,\n",
       "  (6, 2, 0, 1, 2, 1): 0,\n",
       "  (9, 2, 1, 2, 3, 1): 1,\n",
       "  (9, 9, 0, 1, 2, 1): 2},\n",
       " (-3, 0): {(2, 9, 1, 2, 2): 0},\n",
       " (-2, -6): {(0, 3, 0, 3, 2): 0, (8, 0, 0, 1, 3, 1): 0},\n",
       " (-2, -5): {(0, 3, 1, 3, 2): 0,\n",
       "  (0, 4, 0, 3, 2): 1,\n",
       "  (0, 5, 0, 3, 2): 2,\n",
       "  (0, 8, 0, 1, 2): 3,\n",
       "  (1, 3, 0, 3, 2): 4,\n",
       "  (7, 0, 0, 1, 3, 1): 0,\n",
       "  (8, 0, 0, 2, 3, 1): 1,\n",
       "  (8, 1, 0, 1, 3, 1): 2},\n",
       " (-2, -4): {(0, 3, 2, 3, 2): 0,\n",
       "  (0, 4, 1, 3, 2): 1,\n",
       "  (0, 5, 1, 3, 2): 2,\n",
       "  (0, 7, 0, 1, 2): 3,\n",
       "  (0, 8, 0, 2, 2): 4,\n",
       "  (0, 9, 0, 3, 2): 5,\n",
       "  (1, 3, 1, 3, 2): 6,\n",
       "  (1, 4, 0, 3, 2): 7,\n",
       "  (1, 5, 0, 3, 2): 8,\n",
       "  (1, 8, 0, 1, 2): 9,\n",
       "  (2, 3, 0, 3, 2): 10,\n",
       "  (3, 4, 0, 1, 2): 11,\n",
       "  (3, 5, 0, 1, 2): 12,\n",
       "  (6, 0, 0, 1, 3, 1): 0,\n",
       "  (7, 0, 0, 2, 3, 1): 1,\n",
       "  (7, 1, 0, 1, 3, 1): 2,\n",
       "  (8, 0, 1, 2, 3, 1): 3,\n",
       "  (8, 1, 0, 2, 3, 1): 4,\n",
       "  (8, 2, 0, 1, 3, 1): 5,\n",
       "  (8, 3, 0, 1, 2, 1): 6,\n",
       "  (9, 3, 0, 1, 3, 1): 7},\n",
       " (-2, -3): {(0, 4, 2, 3, 2): 0,\n",
       "  (0, 5, 2, 3, 2): 1,\n",
       "  (0, 6, 0, 1, 2): 2,\n",
       "  (0, 7, 0, 2, 2): 3,\n",
       "  (0, 8, 1, 2, 2): 4,\n",
       "  (0, 9, 1, 3, 2): 5,\n",
       "  (1, 3, 2, 3, 2): 6,\n",
       "  (1, 4, 1, 3, 2): 7,\n",
       "  (1, 5, 1, 3, 2): 8,\n",
       "  (1, 7, 0, 1, 2): 9,\n",
       "  (1, 8, 0, 2, 2): 10,\n",
       "  (1, 9, 0, 3, 2): 11,\n",
       "  (2, 3, 1, 3, 2): 12,\n",
       "  (2, 4, 0, 3, 2): 13,\n",
       "  (2, 5, 0, 3, 2): 14,\n",
       "  (2, 8, 0, 1, 2): 15,\n",
       "  (3, 4, 0, 2, 2): 16,\n",
       "  (3, 5, 0, 2, 2): 17,\n",
       "  (3, 9, 0, 1, 2): 18,\n",
       "  (4, 5, 0, 1, 2): 19,\n",
       "  (6, 0, 0, 2, 3, 1): 0,\n",
       "  (6, 1, 0, 1, 3, 1): 1,\n",
       "  (7, 0, 1, 2, 3, 1): 2,\n",
       "  (7, 1, 0, 2, 3, 1): 3,\n",
       "  (7, 2, 0, 1, 3, 1): 4,\n",
       "  (7, 3, 0, 1, 2, 1): 5,\n",
       "  (8, 1, 1, 2, 3, 1): 6,\n",
       "  (8, 2, 0, 2, 3, 1): 7,\n",
       "  (8, 4, 0, 1, 2, 1): 8,\n",
       "  (8, 5, 0, 1, 2, 1): 9,\n",
       "  (8, 9, 0, 1, 2, 3, 0): 0,\n",
       "  (9, 3, 0, 2, 3, 1): 10,\n",
       "  (9, 4, 0, 1, 3, 1): 11,\n",
       "  (9, 5, 0, 1, 3, 1): 12},\n",
       " (-2, -2): {(0, 6, 0, 2, 2): 0,\n",
       "  (0, 7, 1, 2, 2): 1,\n",
       "  (0, 9, 2, 3, 2): 2,\n",
       "  (1, 4, 2, 3, 2): 3,\n",
       "  (1, 5, 2, 3, 2): 4,\n",
       "  (1, 6, 0, 1, 2): 5,\n",
       "  (1, 7, 0, 2, 2): 6,\n",
       "  (1, 8, 1, 2, 2): 7,\n",
       "  (1, 9, 1, 3, 2): 8,\n",
       "  (2, 3, 2, 3, 2): 9,\n",
       "  (2, 4, 1, 3, 2): 10,\n",
       "  (2, 5, 1, 3, 2): 11,\n",
       "  (2, 7, 0, 1, 2): 12,\n",
       "  (2, 8, 0, 2, 2): 13,\n",
       "  (2, 9, 0, 3, 2): 14,\n",
       "  (3, 4, 1, 2, 2): 15,\n",
       "  (3, 5, 1, 2, 2): 16,\n",
       "  (3, 9, 0, 2, 2): 17,\n",
       "  (4, 5, 0, 2, 2): 18,\n",
       "  (4, 9, 0, 1, 2): 19,\n",
       "  (5, 9, 0, 1, 2): 20,\n",
       "  (6, 0, 1, 2, 3, 1): 0,\n",
       "  (6, 1, 0, 2, 3, 1): 1,\n",
       "  (6, 2, 0, 1, 3, 1): 2,\n",
       "  (6, 3, 0, 1, 2, 1): 3,\n",
       "  (7, 1, 1, 2, 3, 1): 4,\n",
       "  (7, 2, 0, 2, 3, 1): 5,\n",
       "  (7, 4, 0, 1, 2, 1): 6,\n",
       "  (7, 5, 0, 1, 2, 1): 7,\n",
       "  (7, 9, 0, 1, 2, 3, 0): 0,\n",
       "  (8, 2, 1, 2, 3, 1): 8,\n",
       "  (8, 9, 0, 1, 2, 1): 9,\n",
       "  (9, 3, 1, 2, 3, 1): 10,\n",
       "  (9, 4, 0, 2, 3, 1): 11,\n",
       "  (9, 5, 0, 2, 3, 1): 12,\n",
       "  (9, 8, 0, 1, 2, 1): 13,\n",
       "  (9, 9, 0, 1, 3, 1): 14},\n",
       " (-2, -1): {(0, 6, 1, 2, 2): 0,\n",
       "  (1, 6, 0, 2, 2): 1,\n",
       "  (1, 7, 1, 2, 2): 2,\n",
       "  (1, 9, 2, 3, 2): 3,\n",
       "  (2, 4, 2, 3, 2): 4,\n",
       "  (2, 5, 2, 3, 2): 5,\n",
       "  (2, 6, 0, 1, 2): 6,\n",
       "  (2, 7, 0, 2, 2): 7,\n",
       "  (2, 8, 1, 2, 2): 8,\n",
       "  (2, 9, 1, 3, 2): 9,\n",
       "  (3, 9, 1, 2, 2): 10,\n",
       "  (4, 5, 1, 2, 2): 11,\n",
       "  (4, 9, 0, 2, 2): 12,\n",
       "  (5, 9, 0, 2, 2): 13,\n",
       "  (6, 1, 1, 2, 3, 1): 0,\n",
       "  (6, 2, 0, 2, 3, 1): 1,\n",
       "  (6, 4, 0, 1, 2, 1): 2,\n",
       "  (6, 5, 0, 1, 2, 1): 3,\n",
       "  (6, 9, 0, 1, 2, 3, 0): 0,\n",
       "  (7, 2, 1, 2, 3, 1): 4,\n",
       "  (7, 9, 0, 1, 2, 1): 5,\n",
       "  (9, 4, 1, 2, 3, 1): 6,\n",
       "  (9, 5, 1, 2, 3, 1): 7,\n",
       "  (9, 7, 0, 1, 2, 1): 8,\n",
       "  (9, 9, 0, 2, 3, 1): 9},\n",
       " (-2, 0): {(1, 6, 1, 2, 2): 0,\n",
       "  (2, 6, 0, 2, 2): 1,\n",
       "  (2, 7, 1, 2, 2): 2,\n",
       "  (2, 9, 2, 3, 2): 3,\n",
       "  (4, 9, 1, 2, 2): 4,\n",
       "  (5, 9, 1, 2, 2): 5,\n",
       "  (6, 2, 1, 2, 3, 1): 0,\n",
       "  (6, 9, 0, 1, 2, 1): 1,\n",
       "  (9, 6, 0, 1, 2, 1): 2,\n",
       "  (9, 9, 1, 2, 3, 1): 3},\n",
       " (-2, 1): {(2, 6, 1, 2, 2): 0},\n",
       " (-1, -5): {(0, 8, 0, 3, 2): 0, (8, 3, 0, 1, 3, 1): 0},\n",
       " (-1, -4): {(0, 7, 0, 3, 2): 0,\n",
       "  (0, 8, 1, 3, 2): 1,\n",
       "  (1, 8, 0, 3, 2): 2,\n",
       "  (3, 4, 0, 3, 2): 3,\n",
       "  (3, 5, 0, 3, 2): 4,\n",
       "  (3, 8, 0, 1, 2): 5,\n",
       "  (7, 3, 0, 1, 3, 1): 0,\n",
       "  (8, 3, 0, 2, 3, 1): 1,\n",
       "  (8, 4, 0, 1, 3, 1): 2,\n",
       "  (8, 5, 0, 1, 3, 1): 3,\n",
       "  (8, 8, 0, 1, 2, 3, 0): 0},\n",
       " (-1, -3): {(0, 6, 0, 3, 2): 0,\n",
       "  (0, 7, 1, 3, 2): 1,\n",
       "  (0, 8, 2, 3, 2): 2,\n",
       "  (1, 7, 0, 3, 2): 3,\n",
       "  (1, 8, 1, 3, 2): 4,\n",
       "  (2, 8, 0, 3, 2): 5,\n",
       "  (3, 4, 1, 3, 2): 6,\n",
       "  (3, 5, 1, 3, 2): 7,\n",
       "  (3, 7, 0, 1, 2): 8,\n",
       "  (3, 8, 0, 2, 2): 9,\n",
       "  (3, 9, 0, 3, 2): 10,\n",
       "  (4, 5, 0, 3, 2): 11,\n",
       "  (4, 8, 0, 1, 2): 12,\n",
       "  (5, 8, 0, 1, 2): 13,\n",
       "  (6, 3, 0, 1, 3, 1): 0,\n",
       "  (7, 3, 0, 2, 3, 1): 1,\n",
       "  (7, 4, 0, 1, 3, 1): 2,\n",
       "  (7, 5, 0, 1, 3, 1): 3,\n",
       "  (7, 8, 0, 1, 2, 3, 0): 0,\n",
       "  (8, 3, 1, 2, 3, 1): 4,\n",
       "  (8, 4, 0, 2, 3, 1): 5,\n",
       "  (8, 5, 0, 2, 3, 1): 6,\n",
       "  (8, 8, 0, 1, 2, 1): 7,\n",
       "  (8, 9, 0, 1, 3, 1): 8,\n",
       "  (9, 8, 0, 1, 3, 1): 9},\n",
       " (-1, -2): {(0, 6, 1, 3, 2): 0,\n",
       "  (0, 7, 2, 3, 2): 1,\n",
       "  (1, 6, 0, 3, 2): 2,\n",
       "  (1, 7, 1, 3, 2): 3,\n",
       "  (1, 8, 2, 3, 2): 4,\n",
       "  (2, 7, 0, 3, 2): 5,\n",
       "  (2, 8, 1, 3, 2): 6,\n",
       "  (3, 4, 2, 3, 2): 7,\n",
       "  (3, 5, 2, 3, 2): 8,\n",
       "  (3, 6, 0, 1, 2): 9,\n",
       "  (3, 7, 0, 2, 2): 10,\n",
       "  (3, 8, 1, 2, 2): 11,\n",
       "  (3, 9, 1, 3, 2): 12,\n",
       "  (4, 5, 1, 3, 2): 13,\n",
       "  (4, 7, 0, 1, 2): 14,\n",
       "  (4, 8, 0, 2, 2): 15,\n",
       "  (4, 9, 0, 3, 2): 16,\n",
       "  (5, 7, 0, 1, 2): 17,\n",
       "  (5, 8, 0, 2, 2): 18,\n",
       "  (5, 9, 0, 3, 2): 19,\n",
       "  (6, 3, 0, 2, 3, 1): 0,\n",
       "  (6, 4, 0, 1, 3, 1): 1,\n",
       "  (6, 5, 0, 1, 3, 1): 2,\n",
       "  (6, 8, 0, 1, 2, 3, 0): 0,\n",
       "  (7, 3, 1, 2, 3, 1): 3,\n",
       "  (7, 4, 0, 2, 3, 1): 4,\n",
       "  (7, 5, 0, 2, 3, 1): 5,\n",
       "  (7, 7, 0, 1, 2, 3, 0): 1,\n",
       "  (7, 8, 0, 1, 2, 1): 6,\n",
       "  (7, 9, 0, 1, 3, 1): 7,\n",
       "  (8, 4, 1, 2, 3, 1): 8,\n",
       "  (8, 5, 1, 2, 3, 1): 9,\n",
       "  (8, 7, 0, 1, 2, 1): 10,\n",
       "  (8, 9, 0, 1, 2): 20,\n",
       "  (8, 9, 0, 2, 3, 1): 11,\n",
       "  (9, 7, 0, 1, 3, 1): 12,\n",
       "  (9, 8, 0, 2, 3, 1): 13},\n",
       " (-1, -1): {(0, 6, 2, 3, 2): 0,\n",
       "  (1, 6, 1, 3, 2): 1,\n",
       "  (1, 7, 2, 3, 2): 2,\n",
       "  (2, 6, 0, 3, 2): 3,\n",
       "  (2, 7, 1, 3, 2): 4,\n",
       "  (2, 8, 2, 3, 2): 5,\n",
       "  (3, 6, 0, 2, 2): 6,\n",
       "  (3, 7, 1, 2, 2): 7,\n",
       "  (3, 9, 2, 3, 2): 8,\n",
       "  (4, 5, 2, 3, 2): 9,\n",
       "  (4, 6, 0, 1, 2): 10,\n",
       "  (4, 7, 0, 2, 2): 11,\n",
       "  (4, 8, 1, 2, 2): 12,\n",
       "  (4, 9, 1, 3, 2): 13,\n",
       "  (5, 6, 0, 1, 2): 14,\n",
       "  (5, 7, 0, 2, 2): 15,\n",
       "  (5, 8, 1, 2, 2): 16,\n",
       "  (5, 9, 1, 3, 2): 17,\n",
       "  (6, 3, 1, 2, 3, 1): 0,\n",
       "  (6, 4, 0, 2, 3, 1): 1,\n",
       "  (6, 5, 0, 2, 3, 1): 2,\n",
       "  (6, 7, 0, 1, 2, 3, 0): 0,\n",
       "  (6, 8, 0, 1, 2, 1): 3,\n",
       "  (6, 9, 0, 1, 3, 1): 4,\n",
       "  (7, 4, 1, 2, 3, 1): 5,\n",
       "  (7, 5, 1, 2, 3, 1): 6,\n",
       "  (7, 7, 0, 1, 2, 1): 7,\n",
       "  (7, 9, 0, 1, 2): 18,\n",
       "  (7, 9, 0, 2, 3, 1): 8,\n",
       "  (8, 6, 0, 1, 2, 1): 9,\n",
       "  (8, 9, 0, 2, 2): 19,\n",
       "  (8, 9, 1, 2, 3, 1): 10,\n",
       "  (9, 6, 0, 1, 3, 1): 11,\n",
       "  (9, 7, 0, 2, 3, 1): 12,\n",
       "  (9, 8, 1, 2, 3, 1): 13},\n",
       " (-1, 0): {(1, 6, 2, 3, 2): 0,\n",
       "  (2, 6, 1, 3, 2): 1,\n",
       "  (2, 7, 2, 3, 2): 2,\n",
       "  (3, 6, 1, 2, 2): 3,\n",
       "  (4, 6, 0, 2, 2): 4,\n",
       "  (4, 7, 1, 2, 2): 5,\n",
       "  (4, 9, 2, 3, 2): 6,\n",
       "  (5, 6, 0, 2, 2): 7,\n",
       "  (5, 7, 1, 2, 2): 8,\n",
       "  (5, 9, 2, 3, 2): 9,\n",
       "  (6, 4, 1, 2, 3, 1): 0,\n",
       "  (6, 5, 1, 2, 3, 1): 1,\n",
       "  (6, 6, 0, 1, 2, 3, 0): 0,\n",
       "  (6, 7, 0, 1, 2, 1): 2,\n",
       "  (6, 9, 0, 1, 2): 10,\n",
       "  (6, 9, 0, 2, 3, 1): 3,\n",
       "  (7, 6, 0, 1, 2, 1): 4,\n",
       "  (7, 9, 0, 2, 2): 11,\n",
       "  (7, 9, 1, 2, 3, 1): 5,\n",
       "  (8, 9, 1, 2, 2): 12,\n",
       "  (9, 6, 0, 2, 3, 1): 6,\n",
       "  (9, 7, 1, 2, 3, 1): 7},\n",
       " (-1, 1): {(2, 6, 2, 3, 2): 0,\n",
       "  (4, 6, 1, 2, 2): 1,\n",
       "  (5, 6, 1, 2, 2): 2,\n",
       "  (6, 6, 0, 1, 2, 1): 0,\n",
       "  (6, 9, 0, 2, 2): 3,\n",
       "  (6, 9, 1, 2, 3, 1): 1,\n",
       "  (7, 9, 1, 2, 2): 4,\n",
       "  (9, 6, 1, 2, 3, 1): 2},\n",
       " (-1, 2): {(6, 9, 1, 2, 2): 0},\n",
       " (0, -4): {(3, 8, 0, 3, 2): 0, (8, 8, 0, 1, 3, 1): 0},\n",
       " (0, -3): {(3, 7, 0, 3, 2): 0,\n",
       "  (3, 8, 1, 3, 2): 1,\n",
       "  (4, 8, 0, 3, 2): 2,\n",
       "  (5, 8, 0, 3, 2): 3,\n",
       "  (7, 8, 0, 1, 3, 1): 0,\n",
       "  (8, 7, 0, 1, 3, 1): 1,\n",
       "  (8, 8, 0, 2, 3, 1): 2},\n",
       " (0, -2): {(3, 6, 0, 3, 2): 0,\n",
       "  (3, 7, 1, 3, 2): 1,\n",
       "  (3, 8, 2, 3, 2): 2,\n",
       "  (4, 7, 0, 3, 2): 3,\n",
       "  (4, 8, 1, 3, 2): 4,\n",
       "  (5, 7, 0, 3, 2): 5,\n",
       "  (5, 8, 1, 3, 2): 6,\n",
       "  (6, 8, 0, 1, 3, 1): 0,\n",
       "  (7, 7, 0, 1, 3, 1): 1,\n",
       "  (7, 8, 0, 1, 2): 7,\n",
       "  (7, 8, 0, 2, 3, 1): 2,\n",
       "  (8, 6, 0, 1, 3, 1): 3,\n",
       "  (8, 7, 0, 2, 3, 1): 4,\n",
       "  (8, 8, 1, 2, 3, 1): 5,\n",
       "  (8, 9, 0, 3, 2): 8},\n",
       " (0, -1): {(3, 6, 1, 3, 2): 0,\n",
       "  (3, 7, 2, 3, 2): 1,\n",
       "  (4, 6, 0, 3, 2): 2,\n",
       "  (4, 7, 1, 3, 2): 3,\n",
       "  (4, 8, 2, 3, 2): 4,\n",
       "  (5, 6, 0, 3, 2): 5,\n",
       "  (5, 7, 1, 3, 2): 6,\n",
       "  (5, 8, 2, 3, 2): 7,\n",
       "  (6, 7, 0, 1, 3, 1): 0,\n",
       "  (6, 8, 0, 1, 2): 8,\n",
       "  (6, 8, 0, 2, 3, 1): 1,\n",
       "  (7, 6, 0, 1, 3, 1): 2,\n",
       "  (7, 7, 0, 2, 3, 1): 3,\n",
       "  (7, 8, 0, 2, 2): 9,\n",
       "  (7, 8, 1, 2, 3, 1): 4,\n",
       "  (7, 9, 0, 3, 2): 10,\n",
       "  (8, 6, 0, 2, 3, 1): 5,\n",
       "  (8, 7, 1, 2, 3, 1): 6,\n",
       "  (8, 9, 1, 3, 2): 11},\n",
       " (0, 0): {(3, 6, 2, 3, 2): 0,\n",
       "  (4, 6, 1, 3, 2): 1,\n",
       "  (4, 7, 2, 3, 2): 2,\n",
       "  (5, 6, 1, 3, 2): 3,\n",
       "  (5, 7, 2, 3, 2): 4,\n",
       "  (6, 6, 0, 1, 3, 1): 0,\n",
       "  (6, 7, 0, 1, 2): 5,\n",
       "  (6, 7, 0, 2, 3, 1): 1,\n",
       "  (6, 8, 0, 2, 2): 6,\n",
       "  (6, 8, 1, 2, 3, 1): 2,\n",
       "  (6, 9, 0, 3, 2): 7,\n",
       "  (7, 6, 0, 2, 3, 1): 3,\n",
       "  (7, 7, 1, 2, 3, 1): 4,\n",
       "  (7, 8, 1, 2, 2): 8,\n",
       "  (7, 9, 1, 3, 2): 9,\n",
       "  (8, 6, 1, 2, 3, 1): 5,\n",
       "  (8, 9, 2, 3, 2): 10},\n",
       " (0, 1): {(4, 6, 2, 3, 2): 0,\n",
       "  (5, 6, 2, 3, 2): 1,\n",
       "  (6, 6, 0, 2, 3, 1): 0,\n",
       "  (6, 7, 0, 2, 2): 2,\n",
       "  (6, 7, 1, 2, 3, 1): 1,\n",
       "  (6, 8, 1, 2, 2): 3,\n",
       "  (6, 9, 1, 3, 2): 4,\n",
       "  (7, 6, 1, 2, 3, 1): 2,\n",
       "  (7, 9, 2, 3, 2): 5},\n",
       " (0, 2): {(6, 6, 1, 2, 3, 1): 0, (6, 7, 1, 2, 2): 0, (6, 9, 2, 3, 2): 1},\n",
       " (1, -2): {(7, 8, 0, 3, 2): 0},\n",
       " (1, -1): {(6, 8, 0, 3, 2): 0, (7, 8, 1, 3, 2): 1},\n",
       " (1, 0): {(6, 7, 0, 3, 2): 0, (6, 8, 1, 3, 2): 1, (7, 8, 2, 3, 2): 2},\n",
       " (1, 1): {(6, 7, 1, 3, 2): 0, (6, 8, 2, 3, 2): 1},\n",
       " (1, 2): {(6, 7, 2, 3, 2): 0}}"
      ]
     },
     "execution_count": 20,
     "metadata": {},
     "output_type": "execute_result"
    }
   ],
   "source": [
    "module.weight_comp_direct_sum_index_numbers"
   ]
  },
  {
   "cell_type": "code",
   "execution_count": 21,
   "metadata": {
    "scrolled": false
   },
   "outputs": [
    {
     "data": {
      "text/latex": [
       "$$(0)e_{122}\\odot e_{122}\\otimes f_{122}\\wedge f_{12}\\wedge f_{1}\\wedge f_{2}\\mapsto \\,(0)$$"
      ],
      "text/plain": [
       "<IPython.core.display.Math object>"
      ]
     },
     "metadata": {},
     "output_type": "display_data"
    },
    {
     "data": {
      "text/latex": [
       "$$(1)e_{122}\\otimes h_{2}\\otimes f_{12}\\wedge f_{1}\\wedge f_{2}\\mapsto \\,-2(0)$$"
      ],
      "text/plain": [
       "<IPython.core.display.Math object>"
      ]
     },
     "metadata": {},
     "output_type": "display_data"
    },
    {
     "data": {
      "text/latex": [
       "$$(2)e_{122}\\otimes h_{1}\\otimes f_{12}\\wedge f_{1}\\wedge f_{2}\\mapsto \\,$$"
      ],
      "text/plain": [
       "<IPython.core.display.Math object>"
      ]
     },
     "metadata": {},
     "output_type": "display_data"
    },
    {
     "data": {
      "text/latex": [
       "$$(3)e_{122}\\otimes e_{12}\\otimes f_{122}\\wedge f_{12}\\wedge f_{1}\\mapsto \\,(1)$$"
      ],
      "text/plain": [
       "<IPython.core.display.Math object>"
      ]
     },
     "metadata": {},
     "output_type": "display_data"
    },
    {
     "data": {
      "text/latex": [
       "$$(4)e_{122}\\otimes e_{2}\\otimes f_{122}\\wedge f_{1}\\wedge f_{2}\\mapsto \\,(2)$$"
      ],
      "text/plain": [
       "<IPython.core.display.Math object>"
      ]
     },
     "metadata": {},
     "output_type": "display_data"
    },
    {
     "data": {
      "text/latex": [
       "$$(5)e_{12}\\otimes e_{122}\\otimes f_{122}\\wedge f_{12}\\wedge f_{1}\\mapsto \\,(3)$$"
      ],
      "text/plain": [
       "<IPython.core.display.Math object>"
      ]
     },
     "metadata": {},
     "output_type": "display_data"
    },
    {
     "data": {
      "text/latex": [
       "$$(6)e_{12}\\otimes e_{2}\\otimes f_{12}\\wedge f_{1}\\wedge f_{2}\\mapsto \\,(4)$$"
      ],
      "text/plain": [
       "<IPython.core.display.Math object>"
      ]
     },
     "metadata": {},
     "output_type": "display_data"
    },
    {
     "data": {
      "text/latex": [
       "$$(7)e_{2}\\otimes e_{122}\\otimes f_{122}\\wedge f_{1}\\wedge f_{2}\\mapsto \\,(5)$$"
      ],
      "text/plain": [
       "<IPython.core.display.Math object>"
      ]
     },
     "metadata": {},
     "output_type": "display_data"
    },
    {
     "data": {
      "text/latex": [
       "$$(8)e_{2}\\otimes e_{12}\\otimes f_{12}\\wedge f_{1}\\wedge f_{2}\\mapsto \\,(6)$$"
      ],
      "text/plain": [
       "<IPython.core.display.Math object>"
      ]
     },
     "metadata": {},
     "output_type": "display_data"
    },
    {
     "data": {
      "text/latex": [
       "$$(9)f_{12}\\wedge e_{122}\\otimes f_{1}\\wedge f_{2}\\mapsto \\,-2(5)$$"
      ],
      "text/plain": [
       "<IPython.core.display.Math object>"
      ]
     },
     "metadata": {},
     "output_type": "display_data"
    },
    {
     "data": {
      "text/latex": [
       "$$(10)f_{1}\\wedge e_{122}\\otimes f_{12}\\wedge f_{2}\\mapsto \\,$$"
      ],
      "text/plain": [
       "<IPython.core.display.Math object>"
      ]
     },
     "metadata": {},
     "output_type": "display_data"
    },
    {
     "data": {
      "text/latex": [
       "$$(11)f_{1}\\wedge e_{12}\\otimes f_{1}\\wedge f_{2}\\mapsto \\,(6)$$"
      ],
      "text/plain": [
       "<IPython.core.display.Math object>"
      ]
     },
     "metadata": {},
     "output_type": "display_data"
    },
    {
     "data": {
      "text/latex": [
       "$$(12)f_{2}\\wedge e_{122}\\otimes f_{12}\\wedge f_{1}\\mapsto \\,2(3)$$"
      ],
      "text/plain": [
       "<IPython.core.display.Math object>"
      ]
     },
     "metadata": {},
     "output_type": "display_data"
    },
    {
     "data": {
      "text/latex": [
       "$$(13)h_{2}\\wedge e_{122}\\otimes f_{122}\\wedge f_{1}\\mapsto \\,-2(5)$$"
      ],
      "text/plain": [
       "<IPython.core.display.Math object>"
      ]
     },
     "metadata": {},
     "output_type": "display_data"
    },
    {
     "data": {
      "text/latex": [
       "$$(14)h_{2}\\wedge e_{12}\\otimes f_{12}\\wedge f_{1}\\mapsto \\,-2(1)-2(6)$$"
      ],
      "text/plain": [
       "<IPython.core.display.Math object>"
      ]
     },
     "metadata": {},
     "output_type": "display_data"
    },
    {
     "data": {
      "text/latex": [
       "$$(15)h_{2}\\wedge e_{2}\\otimes f_{1}\\wedge f_{2}\\mapsto \\,-2(2)$$"
      ],
      "text/plain": [
       "<IPython.core.display.Math object>"
      ]
     },
     "metadata": {},
     "output_type": "display_data"
    },
    {
     "data": {
      "text/latex": [
       "$$(16)h_{1}\\wedge e_{122}\\otimes f_{122}\\wedge f_{1}\\mapsto \\,(3)+(5)$$"
      ],
      "text/plain": [
       "<IPython.core.display.Math object>"
      ]
     },
     "metadata": {},
     "output_type": "display_data"
    },
    {
     "data": {
      "text/latex": [
       "$$(17)h_{1}\\wedge e_{12}\\otimes f_{12}\\wedge f_{1}\\mapsto \\,(6)$$"
      ],
      "text/plain": [
       "<IPython.core.display.Math object>"
      ]
     },
     "metadata": {},
     "output_type": "display_data"
    },
    {
     "data": {
      "text/latex": [
       "$$(18)h_{1}\\wedge e_{2}\\otimes f_{1}\\wedge f_{2}\\mapsto \\,-(4)$$"
      ],
      "text/plain": [
       "<IPython.core.display.Math object>"
      ]
     },
     "metadata": {},
     "output_type": "display_data"
    },
    {
     "data": {
      "text/latex": [
       "$$(19)e_{122}\\wedge e_{2}\\otimes f_{122}\\wedge f_{12}\\mapsto \\,(7)$$"
      ],
      "text/plain": [
       "<IPython.core.display.Math object>"
      ]
     },
     "metadata": {},
     "output_type": "display_data"
    },
    {
     "data": {
      "text/latex": [
       "$$(20)e_{12}\\wedge e_{2}\\otimes f_{122}\\wedge f_{1}\\mapsto \\,(8)$$"
      ],
      "text/plain": [
       "<IPython.core.display.Math object>"
      ]
     },
     "metadata": {},
     "output_type": "display_data"
    },
    {
     "data": {
      "text/latex": [
       "$$(21)e_{1}\\wedge e_{2}\\otimes f_{12}\\wedge f_{1}\\mapsto \\,(9)$$"
      ],
      "text/plain": [
       "<IPython.core.display.Math object>"
      ]
     },
     "metadata": {},
     "output_type": "display_data"
    }
   ],
   "source": [
    "mu = (0,-1)\n",
    "\n",
    "cohom.display_coker((-1,0),transpose=True)"
   ]
  },
  {
   "cell_type": "code",
   "execution_count": 22,
   "metadata": {
    "scrolled": false
   },
   "outputs": [
    {
     "data": {
      "text/latex": [
       "$$0\\colon \\,e_{122}\\otimes e_{122}\\otimes f_{122}\\wedge f_{12}\\wedge f_{2}\\mapsto -2(2)e_{12}\\otimes e_{122}\\otimes f_{122}\\wedge f_{12}\\wedge f_{2}-(0)e_{122}\\otimes e_{12}\\otimes f_{122}\\wedge f_{12}\\wedge f_{2}$$"
      ],
      "text/plain": [
       "<IPython.core.display.Math object>"
      ]
     },
     "metadata": {},
     "output_type": "display_data"
    },
    {
     "data": {
      "text/latex": [
       "$$1\\colon \\,e_{122}\\otimes e_{12}\\otimes f_{122}\\wedge f_{1}\\wedge f_{2}\\mapsto -(0)e_{122}\\otimes e_{12}\\otimes f_{122}\\wedge f_{12}\\wedge f_{2}-2(3)e_{12}\\otimes e_{12}\\otimes f_{122}\\wedge f_{1}\\wedge f_{2}+2(1)e_{122}\\otimes e_{1}\\otimes f_{122}\\wedge f_{1}\\wedge f_{2}$$"
      ],
      "text/plain": [
       "<IPython.core.display.Math object>"
      ]
     },
     "metadata": {},
     "output_type": "display_data"
    },
    {
     "data": {
      "text/latex": [
       "$$2\\colon \\,e_{122}\\otimes e_{1}\\otimes f_{12}\\wedge f_{1}\\wedge f_{2}\\mapsto 2(1)e_{122}\\otimes e_{1}\\otimes f_{122}\\wedge f_{1}\\wedge f_{2}-2(4)e_{12}\\otimes e_{1}\\otimes f_{12}\\wedge f_{1}\\wedge f_{2}$$"
      ],
      "text/plain": [
       "<IPython.core.display.Math object>"
      ]
     },
     "metadata": {},
     "output_type": "display_data"
    },
    {
     "data": {
      "text/latex": [
       "$$3\\colon \\,e_{12}\\otimes e_{122}\\otimes f_{122}\\wedge f_{1}\\wedge f_{2}\\mapsto -(2)e_{12}\\otimes e_{122}\\otimes f_{122}\\wedge f_{12}\\wedge f_{2}+(5)e_{1}\\otimes e_{122}\\otimes f_{122}\\wedge f_{1}\\wedge f_{2}-(3)e_{12}\\otimes e_{12}\\otimes f_{122}\\wedge f_{1}\\wedge f_{2}$$"
      ],
      "text/plain": [
       "<IPython.core.display.Math object>"
      ]
     },
     "metadata": {},
     "output_type": "display_data"
    },
    {
     "data": {
      "text/latex": [
       "$$4\\colon \\,e_{12}\\otimes e_{12}\\otimes f_{12}\\wedge f_{1}\\wedge f_{2}\\mapsto 2(3)e_{12}\\otimes e_{12}\\otimes f_{122}\\wedge f_{1}\\wedge f_{2}+(6)e_{1}\\otimes e_{12}\\otimes f_{12}\\wedge f_{1}\\wedge f_{2}+2(4)e_{12}\\otimes e_{1}\\otimes f_{12}\\wedge f_{1}\\wedge f_{2}$$"
      ],
      "text/plain": [
       "<IPython.core.display.Math object>"
      ]
     },
     "metadata": {},
     "output_type": "display_data"
    },
    {
     "data": {
      "text/latex": [
       "$$5\\colon \\,e_{1}\\otimes e_{122}\\otimes f_{12}\\wedge f_{1}\\wedge f_{2}\\mapsto 2(5)e_{1}\\otimes e_{122}\\otimes f_{122}\\wedge f_{1}\\wedge f_{2}-(6)e_{1}\\otimes e_{12}\\otimes f_{12}\\wedge f_{1}\\wedge f_{2}$$"
      ],
      "text/plain": [
       "<IPython.core.display.Math object>"
      ]
     },
     "metadata": {},
     "output_type": "display_data"
    },
    {
     "data": {
      "text/latex": [
       "$$6\\colon \\,e_{122}\\otimes e_{122}\\otimes f_{122}\\wedge f_{12}\\wedge f_{2}\\mapsto -(7)f_{2}\\wedge e_{122}\\otimes f_{12}\\wedge f_{2}-(8)f_{2}\\wedge e_{12}\\otimes f_{1}\\wedge f_{2}$$"
      ],
      "text/plain": [
       "<IPython.core.display.Math object>"
      ]
     },
     "metadata": {},
     "output_type": "display_data"
    },
    {
     "data": {
      "text/latex": [
       "$$7\\colon \\,e_{122}\\otimes e_{12}\\otimes f_{122}\\wedge f_{1}\\wedge f_{2}\\mapsto 2(9)h_{2}\\wedge e_{122}\\otimes f_{122}\\wedge f_{2}+2(7)f_{2}\\wedge e_{122}\\otimes f_{12}\\wedge f_{2}-(10)h_{2}\\wedge e_{12}\\otimes f_{12}\\wedge f_{2}$$"
      ],
      "text/plain": [
       "<IPython.core.display.Math object>"
      ]
     },
     "metadata": {},
     "output_type": "display_data"
    },
    {
     "data": {
      "text/latex": [
       "$$8\\colon \\,e_{122}\\otimes e_{1}\\otimes f_{12}\\wedge f_{1}\\wedge f_{2}\\mapsto -(10)h_{2}\\wedge e_{12}\\otimes f_{12}\\wedge f_{2}+2(8)f_{2}\\wedge e_{12}\\otimes f_{1}\\wedge f_{2}+2(11)h_{2}\\wedge e_{1}\\otimes f_{1}\\wedge f_{2}$$"
      ],
      "text/plain": [
       "<IPython.core.display.Math object>"
      ]
     },
     "metadata": {},
     "output_type": "display_data"
    },
    {
     "data": {
      "text/latex": [
       "$$9\\colon \\,e_{12}\\otimes e_{122}\\otimes f_{122}\\wedge f_{1}\\wedge f_{2}\\mapsto 2(12)h_{1}\\wedge e_{122}\\otimes f_{122}\\wedge f_{2}-(7)f_{2}\\wedge e_{122}\\otimes f_{12}\\wedge f_{2}-(13)h_{1}\\wedge e_{12}\\otimes f_{12}\\wedge f_{2}$$"
      ],
      "text/plain": [
       "<IPython.core.display.Math object>"
      ]
     },
     "metadata": {},
     "output_type": "display_data"
    },
    {
     "data": {
      "text/latex": [
       "$$10\\colon \\,e_{12}\\otimes e_{12}\\otimes f_{12}\\wedge f_{1}\\wedge f_{2}\\mapsto -(13)h_{1}\\wedge e_{12}\\otimes f_{12}\\wedge f_{2}-(8)f_{2}\\wedge e_{12}\\otimes f_{1}\\wedge f_{2}+2(14)h_{1}\\wedge e_{1}\\otimes f_{1}\\wedge f_{2}$$"
      ],
      "text/plain": [
       "<IPython.core.display.Math object>"
      ]
     },
     "metadata": {},
     "output_type": "display_data"
    },
    {
     "data": {
      "text/latex": [
       "$$11\\colon \\,e_{1}\\otimes e_{122}\\otimes f_{12}\\wedge f_{1}\\wedge f_{2}\\mapsto 2(15)e_{122}\\wedge e_{1}\\otimes f_{122}\\wedge f_{12}$$"
      ],
      "text/plain": [
       "<IPython.core.display.Math object>"
      ]
     },
     "metadata": {},
     "output_type": "display_data"
    },
    {
     "data": {
      "text/latex": [
       "$$12\\colon \\,f_{2}\\wedge e_{122}\\otimes f_{1}\\wedge f_{2}\\mapsto -(15)e_{122}\\wedge e_{1}\\otimes f_{122}\\wedge f_{12}-(16)e_{12}\\wedge e_{1}\\otimes f_{122}\\wedge f_{1}$$"
      ],
      "text/plain": [
       "<IPython.core.display.Math object>"
      ]
     },
     "metadata": {},
     "output_type": "display_data"
    },
    {
     "data": {
      "text/latex": [
       "$$13\\colon \\,h_{2}\\wedge e_{122}\\otimes f_{12}\\wedge f_{2}\\mapsto (9)h_{2}\\wedge e_{122}\\otimes f_{122}\\wedge f_{2}-(17)e_{12}\\wedge e_{2}\\otimes f_{122}\\wedge f_{2}$$"
      ],
      "text/plain": [
       "<IPython.core.display.Math object>"
      ]
     },
     "metadata": {},
     "output_type": "display_data"
    },
    {
     "data": {
      "text/latex": [
       "$$14\\colon \\,h_{2}\\wedge e_{12}\\otimes f_{1}\\wedge f_{2}\\mapsto 2(16)e_{12}\\wedge e_{1}\\otimes f_{122}\\wedge f_{1}$$"
      ],
      "text/plain": [
       "<IPython.core.display.Math object>"
      ]
     },
     "metadata": {},
     "output_type": "display_data"
    },
    {
     "data": {
      "text/latex": [
       "$$15\\colon \\,h_{1}\\wedge e_{122}\\otimes f_{12}\\wedge f_{2}\\mapsto 2(17)e_{12}\\wedge e_{2}\\otimes f_{122}\\wedge f_{2}+(10)h_{2}\\wedge e_{12}\\otimes f_{12}\\wedge f_{2}+2(18)e_{1}\\wedge e_{2}\\otimes f_{12}\\wedge f_{2}$$"
      ],
      "text/plain": [
       "<IPython.core.display.Math object>"
      ]
     },
     "metadata": {},
     "output_type": "display_data"
    },
    {
     "data": {
      "text/latex": [
       "$$16\\colon \\,h_{1}\\wedge e_{12}\\otimes f_{1}\\wedge f_{2}\\mapsto -(18)e_{1}\\wedge e_{2}\\otimes f_{12}\\wedge f_{2}+(11)h_{2}\\wedge e_{1}\\otimes f_{1}\\wedge f_{2}$$"
      ],
      "text/plain": [
       "<IPython.core.display.Math object>"
      ]
     },
     "metadata": {},
     "output_type": "display_data"
    }
   ],
   "source": [
    "arrow = ('','2')\n",
    "dominant_weight = (0,0)\n",
    "\n",
    "module.display_action(BGG,arrow,dominant_weight)"
   ]
  },
  {
   "cell_type": "code",
   "execution_count": null,
   "metadata": {},
   "outputs": [],
   "source": []
  }
 ],
 "metadata": {
  "kernelspec": {
   "display_name": "SageMath 8.9",
   "language": "sage",
   "name": "sagemath"
  },
  "language_info": {
   "codemirror_mode": {
    "name": "ipython",
    "version": 2
   },
   "file_extension": ".py",
   "mimetype": "text/x-python",
   "name": "python",
   "nbconvert_exporter": "python",
   "pygments_lexer": "ipython2",
   "version": "2.7.15"
  }
 },
 "nbformat": 4,
 "nbformat_minor": 2
}
