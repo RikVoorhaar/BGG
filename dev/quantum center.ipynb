{
 "cells": [
  {
   "cell_type": "code",
   "execution_count": 1,
   "metadata": {},
   "outputs": [],
   "source": [
    "import sys\n",
    "sys.path.append('../bggcomplex')\n",
    "\n",
    "from bggcomplex import BGGComplex\n",
    "from fast_module import FastLieAlgebraCompositeModule, FastModuleFactory, BGGCohomology, WeightSet\n",
    "from IPython.display import display, Math, Latex\n",
    "import cohomology\n",
    "import numpy as np"
   ]
  },
  {
   "cell_type": "markdown",
   "metadata": {},
   "source": [
    "## Quantum center"
   ]
  },
  {
   "cell_type": "code",
   "execution_count": 2,
   "metadata": {},
   "outputs": [],
   "source": [
    "def Mijk(BGG,i,j,k,subset=[]):\n",
    "    factory = FastModuleFactory(BGG.LA)\n",
    "\n",
    "    component_dic = {'u':factory.build_component('u','coad',subset=subset),\n",
    "                    'g':factory.build_component('g','ad',subset=subset),\n",
    "                     'n':factory.build_component('n','ad',subset=subset)}\n",
    "    \n",
    "    dim_n = len(factory.parabolic_n_basis(subset))\n",
    "    \n",
    "    components = []\n",
    "    for r in range(j+k//2+1):\n",
    "        if (j-r<=dim_n):\n",
    "            components.append([('u',j+k//2-r,'sym'),('g',r,'wedge'),('n',j-r,'wedge')])\n",
    "\n",
    "    module = FastLieAlgebraCompositeModule(factory,components,component_dic)\n",
    "    \n",
    "    return module"
   ]
  },
  {
   "cell_type": "code",
   "execution_count": 3,
   "metadata": {},
   "outputs": [],
   "source": [
    "def sort_sign(A):\n",
    "    num_cols = A.shape[1]\n",
    "    if num_cols>1:\n",
    "        signs=(-1)**(sum([(A[:,0]<A[:,i]) for i in range(1,num_cols)]))\n",
    "        mask=sum([(A[:,0]==A[:,i]) for i in range(1,num_cols)])==0\n",
    "        return (np.sort(A),signs,mask)\n",
    "    else:\n",
    "        return (A,np.ones(len(A),dtype=int),np.ones(len(A),dtype=bool))"
   ]
  },
  {
   "cell_type": "code",
   "execution_count": 4,
   "metadata": {
    "scrolled": true
   },
   "outputs": [],
   "source": [
    "def compute_phi(BGG,subset=[]):\n",
    "    factory = FastModuleFactory(BGG.LA)\n",
    "    \n",
    "    component_dic = {'u':factory.build_component('u','coad',subset=subset)}\n",
    "    components_phi = [[('u',1,'wedge')]]\n",
    "    \n",
    "    module_phi = FastLieAlgebraCompositeModule(factory,components_phi,component_dic)\n",
    "    \n",
    "    b_basis = factory.parabolic_p_basis(subset)\n",
    "    u_basis = factory.parabolic_u_basis(subset)\n",
    "    coad_dic = factory.coadjoint_action_tensor(b_basis,u_basis)\n",
    "    \n",
    "    phi_image = {b:[] for b in b_basis}\n",
    "    for (b,u),n_dic in coad_dic.items():\n",
    "        n,coeff = n_dic.items()[0]\n",
    "        phi_image[b].append(np.array([factory.dual_root_dict[u],n,coeff]))\n",
    "    \n",
    "    for b in phi_image.keys():\n",
    "        img = phi_image[b]\n",
    "        if len(img)>0:\n",
    "            phi_image[b]=np.vstack(img)\n",
    "        else:\n",
    "            phi_image[b]=[]\n",
    "    return phi_image"
   ]
  },
  {
   "cell_type": "code",
   "execution_count": 5,
   "metadata": {},
   "outputs": [],
   "source": [
    "def Tijk_basis(BGG,i,j,k,subset=[]):\n",
    "    factory = FastModuleFactory(BGG.LA)\n",
    "    wc_mod = Mijk(BGG,i,j,k,subset=subset)\n",
    "    wc_rel = Mijk(BGG,i,j-1,k,subset=subset)\n",
    "    \n",
    "    coker_dic = dict()\n",
    "    mu_source_counters = dict()\n",
    "    \n",
    "    phi_image = compute_phi(BGG,subset=subset)\n",
    "    #phi_image = {i:[] for i,_ in phi_image.items()}\n",
    "    \n",
    "    for mu, components in wc_rel.weight_components.items():\n",
    "\n",
    "        for b, n_tensor_u in phi_image.items():\n",
    "            new_mu = tuple(mu+factory.weight_dic[b])\n",
    "            if new_mu not in mu_source_counters:\n",
    "                mu_source_counters[new_mu]=0\n",
    "            sparse_relations = []\n",
    "            for comp_num, basis in components:\n",
    "                r = wc_rel.components[comp_num][1][1]\n",
    "                t_un_insert = None\n",
    "                t_g_insert = None\n",
    "                for c, comp_list in enumerate(wc_mod.components):\n",
    "                    if comp_list[1][1] == r:\n",
    "                        t_un_insert = c\n",
    "                    if comp_list[1][1] == r+1:\n",
    "                        t_g_insert = c\n",
    "\n",
    "                num_rows = len(basis)\n",
    "                num_u,num_g,num_n = (j-1+k//2-r,r,j-1-r)\n",
    "\n",
    "                basis_enum = np.arange(mu_source_counters[new_mu],mu_source_counters[new_mu]+num_rows,dtype=int).reshape((-1,1))\n",
    "                mu_source_counters[new_mu]+=num_rows\n",
    "\n",
    "\n",
    "                # Insert g\n",
    "                if t_g_insert is not None:\n",
    "                    new_basis = np.hstack([basis_enum,basis[:,:num_u],b*np.ones(shape=(num_rows,1),dtype=int),basis[:,num_u:]])\n",
    "                    sort_basis, signs, mask = sort_sign(new_basis[:,num_u+1:num_u+num_g+2])\n",
    "                    new_basis[:,num_u+1:num_u+num_g+2] = sort_basis\n",
    "                    new_basis = new_basis[mask]\n",
    "                    basis_g = np.zeros(shape=(len(new_basis),3), dtype=int)\n",
    "                    for row_num, (row, sign) in enumerate(zip(new_basis, signs[mask])):\n",
    "                        source = row[0]\n",
    "                        target = wc_mod.weight_comp_index_numbers[new_mu][tuple(list(row[1:])+[t_g_insert])]\n",
    "                        basis_g[row_num] = [source,target,-sign]\n",
    "                    if len(basis_g)>0:\n",
    "                        sparse_relations.append(basis_g)\n",
    "\n",
    "                # Insert n_tensor_u\n",
    "                if t_un_insert is not None:\n",
    "                    for n,u,coeff in n_tensor_u:\n",
    "                        n_column = n*np.ones(shape=(num_rows,1),dtype=int)\n",
    "                        u_column = u*np.ones(shape=(num_rows,1),dtype=int)\n",
    "                        new_basis = np.hstack([basis_enum,u_column,basis[:,:num_u+num_g],n_column,basis[:,num_u+num_g:]])\n",
    "                        new_basis[:,1:num_u+2]=np.sort(new_basis[:,1:num_u+2])\n",
    "                        sort_basis, signs, mask = sort_sign(new_basis[:,num_u+num_g+2:])\n",
    "                        new_basis[:,num_u+num_g+2:]=sort_basis\n",
    "                        signs=coeff*signs[mask]\n",
    "                        new_basis = new_basis[mask]\n",
    "                        basis_un = np.zeros(shape=(len(new_basis),3), dtype=int)\n",
    "                        for row_num, (row, sign) in enumerate(zip(new_basis, signs)):\n",
    "                            source = row[0]\n",
    "                            target = wc_mod.weight_comp_index_numbers[new_mu][tuple(list(row[1:])+[t_un_insert])]\n",
    "                            basis_un[row_num] = [source,target,sign]\n",
    "                        if len(basis_un)>0:\n",
    "                            sparse_relations.append(basis_un)\n",
    "            if len(sparse_relations)>0:\n",
    "                if new_mu not in coker_dic:\n",
    "                    coker_dic[new_mu]=[]\n",
    "                coker_dic[new_mu]+=sparse_relations\n",
    "    coker_dic = {mu:cohomology.sort_merge(np.concatenate(rels)) for mu,rels in coker_dic.items()}\n",
    "\n",
    "    T=dict()\n",
    "    for mu,rels in coker_dic.items():\n",
    "        source_dim = mu_source_counters[mu]\n",
    "        target_dim = wc_mod.dimensions[mu]\n",
    "        sparse_dic = dict()\n",
    "        for source,target,coeff in rels:\n",
    "            sparse_dic[(source,target)]=coeff\n",
    "\n",
    "        M = matrix(ZZ,sparse_dic,nrows = source_dim, ncols = target_dim, sparse=True)\n",
    "        T[mu]=M.right_kernel().basis_matrix()\n",
    "    return T"
   ]
  },
  {
   "cell_type": "code",
   "execution_count": 6,
   "metadata": {},
   "outputs": [],
   "source": [
    "def all_abijk(BGG,s=0,subset=[],half_only=True):\n",
    "    dim_n = len(FastModuleFactory(BGG.LA).parabolic_n_basis(subset))\n",
    "    output = []\n",
    "    s_mod = s%2\n",
    "    a_max = dim_n+(1+s_mod)%2\n",
    "    for a_iterator in range(a_max):\n",
    "        a = 2*a_iterator+s_mod\n",
    "        for b in range(max(0,s-2*a),a+1):\n",
    "            if (a+b) % 2 == 0:\n",
    "                output.append((a,b,(a-b)//2,(a+b)//2,s-a))\n",
    "    if half_only:\n",
    "        new_out = []\n",
    "        max_a = max(s[0] for s in output)\n",
    "        for a,b,i,j,k in output:\n",
    "            if a+b<=max_a:\n",
    "                new_out.append((a,b,i,j,k))\n",
    "        return sorted(new_out,key=lambda s: (s[0]+s[1],s[0],s[1]))\n",
    "    else:\n",
    "        return output\n",
    "\n",
    "def display_ab_dic(ab_dic):\n",
    "    a_set = set()\n",
    "    b_set = set()\n",
    "    for a,b in ab_dic.keys():\n",
    "        a_set.add(a)\n",
    "        b_set.add(b)\n",
    "    a_set = sorted(a_set)\n",
    "    b_set = sorted(b_set)\n",
    "    column_string = r'{r|' + ' '.join('l'*len(a_set))+r'}'\n",
    "    rows = list()\n",
    "    for a in a_set:\n",
    "        row_strings = [r'{\\scriptstyle i+j='+str(a)+r'}']\n",
    "        for b in b_set:\n",
    "            if (a,b) in ab_dic:\n",
    "                row_strings.append(ab_dic[(a,b)])\n",
    "            else:\n",
    "                row_strings.append('')\n",
    "        rows.append(r'&'.join(row_strings))\n",
    "    rows.append(r'\\hline h^{i,j}&'+ '&'.join([r'{\\scriptstyle j-i='+str(b)+r'}' for b in b_set]))\n",
    "    all_strings = r'\\\\'.join(rows)\n",
    "    display(Math(r'\\begin{array}'+column_string+all_strings+r'\\end{array}'))"
   ]
  },
  {
   "cell_type": "code",
   "execution_count": 7,
   "metadata": {
    "scrolled": true
   },
   "outputs": [
    {
     "data": {
      "application/vnd.jupyter.widget-view+json": {
       "model_id": "f505b437499f4f309948fcd4b1fe3ff0",
       "version_major": 2,
       "version_minor": 0
      },
      "text/plain": [
       "HBox(children=(IntProgress(value=0, max=6), HTML(value=u'')))"
      ]
     },
     "metadata": {},
     "output_type": "display_data"
    },
    {
     "name": "stdout",
     "output_type": "stream",
     "text": [
      "((-1, 0, 0), 1)\n",
      "[[11  0  0  1]\n",
      " [11  0  1 -1]]\n",
      "\n",
      "\n",
      "[[ 0  0  1]\n",
      " [ 0  1 -1]]\n",
      "((0, -1, 0), 1)\n",
      "[[14  2  1 -1]\n",
      " [14  2  2  1]]\n",
      "\n",
      "\n",
      "[[ 3  1 -1]\n",
      " [ 3  2  1]]\n",
      "((0, 0, -1), 1)\n",
      "[[10  0  0  1]\n",
      " [13  2  1 -1]\n",
      " [ 6  5  2  1]]\n",
      "\n",
      "\n",
      "[[ 1  0  1]\n",
      " [ 2  1  1]\n",
      " [ 1  2 -1]\n",
      " [ 2  2 -1]]\n",
      "\n",
      "\n",
      "total diff\n",
      "[array([[ 0,  0,  1],\n",
      "       [ 0,  1, -1],\n",
      "       [ 3,  1, -1],\n",
      "       [ 3,  2,  1],\n",
      "       [ 1,  0,  1],\n",
      "       [ 2,  1,  1],\n",
      "       [ 1,  2, -1],\n",
      "       [ 2,  2, -1]])]\n",
      "\n",
      "\n",
      "total diff\n",
      "[]\n",
      "((-1, 0, -1), 1)\n",
      "[[11  0  5  0 -1]\n",
      " [11  0  5  1  1]]\n",
      "\n",
      "\n",
      "[[ 1  0 -1]\n",
      " [ 1  1  1]]\n",
      "((0, -2, -1), 1)\n",
      "[]\n",
      "\n",
      "\n",
      "((0, -1, -2), 1)\n",
      "[[10  0  2  0 -1]\n",
      " [12  0  5  0  1]\n",
      " [ 6  2  5  1  2]\n",
      " [ 7  2  5  1  1]]\n",
      "\n",
      "\n",
      "[[ 0  0 -2]\n",
      " [ 0  1  2]]\n",
      "\n",
      "\n",
      "total diff\n",
      "[array([[ 1,  0, -1],\n",
      "       [ 1,  1,  1],\n",
      "       [ 0,  0, -2],\n",
      "       [ 0,  1,  2]])]\n",
      "\n",
      "\n",
      "total diff\n",
      "[]\n",
      "\n"
     ]
    },
    {
     "data": {
      "text/latex": [
       "$$\\begin{array}{r|l l l l}{\\scriptstyle i+j=0}&\\mathbb{C}&\\\\{\\scriptstyle i+j=2}&\\mathbb{C}&\\mathbb{C}\\\\{\\scriptstyle i+j=4}&\\mathbb{C}&\\mathbb{C}\\\\{\\scriptstyle i+j=6}&\\mathbb{C}&\\\\\\hline h^{i,j}&{\\scriptstyle j-i=0}&{\\scriptstyle j-i=2}\\end{array}$$"
      ],
      "text/plain": [
       "<IPython.core.display.Math object>"
      ]
     },
     "metadata": {},
     "output_type": "display_data"
    }
   ],
   "source": [
    "from tqdm.notebook import tqdm\n",
    "BGG = BGGComplex('A3')\n",
    "ab_dic = dict()\n",
    "\n",
    "subset=[1,2]\n",
    "\n",
    "with tqdm(all_abijk(BGG,s=0,subset=subset)) as pbar:\n",
    "    for a,b,i,j,k in pbar:\n",
    "        pbar.set_description('i+j= %d, j-i = %d'%(a,b))\n",
    "        cohom = BGGCohomology(BGG, Mijk(BGG,i,j,k,subset=subset), coker=Tijk_basis(BGG, i,j,k,subset=subset))\n",
    "        cohom_string = cohom.cohomology_LaTeX(i=i,only_strings=True)\n",
    "        ab_dic[(a,b)]=cohom_string\n",
    "\n",
    "display_ab_dic(ab_dic)"
   ]
  },
  {
   "cell_type": "code",
   "execution_count": 8,
   "metadata": {
    "scrolled": false
   },
   "outputs": [
    {
     "name": "stdout",
     "output_type": "stream",
     "text": [
      "a=4, b=4, k=-4\n",
      "\n",
      "((-1, 0), 1)\n",
      "[[6 7 0 1 2 1 1]\n",
      " [6 9 0 2 3 1 1]\n",
      " [6 5 1 2 3 2 1]\n",
      " [7 6 0 1 2 3 1]\n",
      " [9 6 0 2 3 3 1]\n",
      " [9 7 1 2 3 4 1]\n",
      " [7 9 1 2 3 4 1]]\n",
      "\n",
      "\n",
      "[[1 1 1]\n",
      " [2 1 1]\n",
      " [3 3 1]\n",
      " [5 3 1]\n",
      " [4 4 1]\n",
      " [6 4 1]]\n",
      "((-1, 0), 2)\n",
      "[[ 3  6  1  2  6  1]\n",
      " [ 1  6  2  3  6 -1]\n",
      " [ 2  6  1  3  7  2]\n",
      " [ 4  7  1  2  8  1]\n",
      " [ 2  7  2  3  8  2]\n",
      " [ 4  9  2  3  8  1]\n",
      " [ 2  6  1  3  9 -2]\n",
      " [ 5  7  1  2 10  1]\n",
      " [ 2  7  2  3 10 -2]\n",
      " [ 5  9  2  3 10  1]\n",
      " [ 6  9  0  1 11  1]\n",
      " [ 5  6  0  2 12 -1]\n",
      " [ 6  9  0  1 13 -1]\n",
      " [ 5  7  1  2 14 -1]\n",
      " [ 8  9  1  2 14 -1]\n",
      " [ 8  9  1  2 16  1]\n",
      " [ 5  9  2  3 16  1]]\n",
      "\n",
      "\n",
      "[[ 1  1  4]\n",
      " [ 2  1  4]\n",
      " [ 3  3  4]\n",
      " [ 5  3  4]\n",
      " [ 4  4  1]\n",
      " [ 6  4  1]\n",
      " [ 3  5 -2]\n",
      " [ 5  5 -2]\n",
      " [ 7  6  1]\n",
      " [ 3  7 -1]\n",
      " [ 5  7 -1]\n",
      " [ 7  8 -1]\n",
      " [ 6  9 -1]\n",
      " [ 9  9 -1]\n",
      " [ 4 11 -1]\n",
      " [ 9 11  1]]\n",
      "((0, -1), 1)\n",
      "[[ 7  6  0  1  3  0  2]\n",
      " [ 6  7  0  1  3  0  1]\n",
      " [ 6  7  0  1  3  1  1]\n",
      " [ 7  7  0  2  3  1  2]\n",
      " [ 6  8  0  2  3  1 -2]\n",
      " [ 6  8  0  2  3  2 -2]\n",
      " [ 7  8  1  2  3  2  2]\n",
      " [ 7  6  0  1  3  3  1]\n",
      " [ 8  6  0  2  3  3 -1]\n",
      " [ 7  7  0  2  3  3  1]\n",
      " [ 7  7  0  2  3  4 -2]\n",
      " [ 8  7  1  2  3  4 -1]\n",
      " [ 7  8  1  2  3  4 -2]\n",
      " [ 8  6  0  2  3  5 -2]\n",
      " [ 8  7  1  2  3  5  1]]\n",
      "\n",
      "\n",
      "[[10  0  1]\n",
      " [12  0  2]\n",
      " [10  1  1]\n",
      " [11  1 -2]\n",
      " [13  1  2]\n",
      " [11  2 -2]\n",
      " [14  2  2]\n",
      " [12  3  1]\n",
      " [13  3  1]\n",
      " [15  3 -1]\n",
      " [13  4 -2]\n",
      " [14  4 -2]\n",
      " [16  4 -1]\n",
      " [15  5 -2]\n",
      " [16  5  1]]\n",
      "((0, -1), 2)\n",
      "[[ 3  6  1  3  6  1]\n",
      " [ 3  7  2  3  6  1]\n",
      " [ 4  6  0  3  7 -2]\n",
      " [ 3  6  1  3  7 -2]\n",
      " [ 4  7  1  3  7  1]\n",
      " [ 4  7  1  3  8  1]\n",
      " [ 3  7  2  3  8 -2]\n",
      " [ 4  8  2  3  8 -2]\n",
      " [ 5  6  0  3  9 -2]\n",
      " [ 3  6  1  3  9  1]\n",
      " [ 5  7  1  3  9  1]\n",
      " [ 5  7  1  3 10  1]\n",
      " [ 3  7  2  3 10  1]\n",
      " [ 5  8  2  3 10 -2]\n",
      " [ 6  8  0  1 11 -2]\n",
      " [ 6  8  0  1 12  1]\n",
      " [ 7  8  0  2 12  1]\n",
      " [ 4  6  0  3 13 -1]\n",
      " [ 7  9  0  3 13  1]\n",
      " [ 7  8  0  2 14 -2]\n",
      " [ 7  9  0  3 15 -2]\n",
      " [ 4  7  1  3 15 -1]\n",
      " [ 8  9  1  3 15 -2]\n",
      " [ 8  9  1  3 16  1]\n",
      " [ 4  8  2  3 16 -1]]\n",
      "\n",
      "\n",
      "[[ 10   0   4]\n",
      " [ 12   0   8]\n",
      " [ 15   0  -8]\n",
      " [ 16   0   4]\n",
      " [ 10   1   4]\n",
      " [ 11   1  -8]\n",
      " [ 13   1   8]\n",
      " [ 12   3   4]\n",
      " [ 13   3   4]\n",
      " [ 16   3  -2]\n",
      " [ 13   4  -2]\n",
      " [ 14   4  -2]\n",
      " [ 16   4  -1]\n",
      " [ 10   5   4]\n",
      " [ 12   5   6]\n",
      " [ 13   5  -2]\n",
      " [ 15   5 -16]\n",
      " [ 16   5   9]\n",
      " [ 17   6  -2]\n",
      " [ 17   7   1]\n",
      " [ 18   7   1]\n",
      " [ 15   8   2]\n",
      " [ 19   8   1]\n",
      " [ 18   9  -2]\n",
      " [ 10  10   2]\n",
      " [ 16  10   2]\n",
      " [ 19  10  -2]\n",
      " [ 20  10  -2]\n",
      " [ 11  11   2]\n",
      " [ 20  11   1]]\n",
      "\n",
      "\n",
      "total diff\n",
      "[array([[  1,   1,   1],\n",
      "       [  2,   1,   1],\n",
      "       [  3,   3,   1],\n",
      "       [  5,   3,   1],\n",
      "       [  4,   4,   1],\n",
      "       [  6,   4,   1],\n",
      "       [  1,   1,   4],\n",
      "       [  2,   1,   4],\n",
      "       [  3,   3,   4],\n",
      "       [  5,   3,   4],\n",
      "       [  4,   4,   1],\n",
      "       [  6,   4,   1],\n",
      "       [  3,   5,  -2],\n",
      "       [  5,   5,  -2],\n",
      "       [  7,   6,   1],\n",
      "       [  3,   7,  -1],\n",
      "       [  5,   7,  -1],\n",
      "       [  7,   8,  -1],\n",
      "       [  6,   9,  -1],\n",
      "       [  9,   9,  -1],\n",
      "       [  4,  11,  -1],\n",
      "       [  9,  11,   1],\n",
      "       [ 10,   0,   1],\n",
      "       [ 12,   0,   2],\n",
      "       [ 10,   1,   1],\n",
      "       [ 11,   1,  -2],\n",
      "       [ 13,   1,   2],\n",
      "       [ 11,   2,  -2],\n",
      "       [ 14,   2,   2],\n",
      "       [ 12,   3,   1],\n",
      "       [ 13,   3,   1],\n",
      "       [ 15,   3,  -1],\n",
      "       [ 13,   4,  -2],\n",
      "       [ 14,   4,  -2],\n",
      "       [ 16,   4,  -1],\n",
      "       [ 15,   5,  -2],\n",
      "       [ 16,   5,   1],\n",
      "       [ 10,   0,   4],\n",
      "       [ 12,   0,   8],\n",
      "       [ 15,   0,  -8],\n",
      "       [ 16,   0,   4],\n",
      "       [ 10,   1,   4],\n",
      "       [ 11,   1,  -8],\n",
      "       [ 13,   1,   8],\n",
      "       [ 12,   3,   4],\n",
      "       [ 13,   3,   4],\n",
      "       [ 16,   3,  -2],\n",
      "       [ 13,   4,  -2],\n",
      "       [ 14,   4,  -2],\n",
      "       [ 16,   4,  -1],\n",
      "       [ 10,   5,   4],\n",
      "       [ 12,   5,   6],\n",
      "       [ 13,   5,  -2],\n",
      "       [ 15,   5, -16],\n",
      "       [ 16,   5,   9],\n",
      "       [ 17,   6,  -2],\n",
      "       [ 17,   7,   1],\n",
      "       [ 18,   7,   1],\n",
      "       [ 15,   8,   2],\n",
      "       [ 19,   8,   1],\n",
      "       [ 18,   9,  -2],\n",
      "       [ 10,  10,   2],\n",
      "       [ 16,  10,   2],\n",
      "       [ 19,  10,  -2],\n",
      "       [ 20,  10,  -2],\n",
      "       [ 11,  11,   2],\n",
      "       [ 20,  11,   1]])]\n"
     ]
    }
   ],
   "source": [
    "BGG = BGGComplex('B2')\n",
    "s = 0\n",
    "i = 0\n",
    "j = 4\n",
    "k = s-i-j\n",
    "print('a=%d, b=%d, k=%d\\n'%(i+j,j-i,k))\n",
    "\n",
    "subset = []\n",
    "cohom = BGGCohomology(BGG, Mijk(BGG,i,j,k,subset=subset), coker=Tijk_basis(BGG, i,j,k,subset=subset))\n",
    "diff, dimspace = cohomology.compute_diff(cohom,(0,0),0)"
   ]
  },
  {
   "cell_type": "code",
   "execution_count": null,
   "metadata": {},
   "outputs": [],
   "source": []
  },
  {
   "cell_type": "code",
   "execution_count": 9,
   "metadata": {},
   "outputs": [
    {
     "data": {
      "text/plain": [
       "[  0   0   0   0   0   0   0   0   4   0   8   0   0  -8   4   0   0   0   0]\n",
       "[  4   4   0   0   0   0   0   0   4  -8   0   8   0   0   0   0   0   0   0]\n",
       "[  0   0   0   0   0   0   0   0   0  -2   0   0   2   0   0   0   0   0   0]\n",
       "[  0   0   4   0   4   0   0   0   0   0   4   4   0  -1  -2   0   0   0   0]\n",
       "[  0   0   0   1   0   1   0   0   0   0   0  -2  -2   0  -1   0   0   0   0]\n",
       "[  0   0  -2   0  -2   0   0   0   4   0   6  -2   0 -16   9   0   0   0   0]\n",
       "[  0   0   0   0   0   0   1   0   0   0   0   0   0   0   0  -2   0   0   0]\n",
       "[  0   0  -1   0  -1   0   0   0   0   0   0   0   0   0   0   1   1   0   0]\n",
       "[  0   0   0   0   0   0  -1   0   0   0   0   0   0   2   0   0   0   1   0]\n",
       "[  0   0   0   0   0  -1   0  -1   0   0   0   0   0   0   0   0  -2   0   0]\n",
       "[  0   0   0   0   0   0   0   0   2   0   0   0   0   0   2   0   0  -2  -2]\n",
       "[  0   0   0  -1   0   0   0   1   0   2   0   0   0   0   0   0   0   0   1]"
      ]
     },
     "execution_count": 9,
     "metadata": {},
     "output_type": "execute_result"
    }
   ],
   "source": [
    "diff.transpose()"
   ]
  },
  {
   "cell_type": "code",
   "execution_count": 10,
   "metadata": {},
   "outputs": [
    {
     "data": {
      "text/plain": [
       "19"
      ]
     },
     "execution_count": 10,
     "metadata": {},
     "output_type": "execute_result"
    }
   ],
   "source": [
    "diff.nrows()"
   ]
  },
  {
   "cell_type": "code",
   "execution_count": 12,
   "metadata": {},
   "outputs": [
    {
     "data": {
      "text/plain": [
       "[(1, array([[6, 6, 0, 1, 3],\n",
       "         [6, 7, 0, 2, 3],\n",
       "         [6, 8, 1, 2, 3],\n",
       "         [7, 6, 0, 2, 3],\n",
       "         [7, 7, 1, 2, 3],\n",
       "         [8, 6, 1, 2, 3]], dtype=int32)), (2, array([[3, 6, 2, 3],\n",
       "         [4, 6, 1, 3],\n",
       "         [4, 7, 2, 3],\n",
       "         [5, 6, 1, 3],\n",
       "         [5, 7, 2, 3],\n",
       "         [6, 7, 0, 1],\n",
       "         [6, 8, 0, 2],\n",
       "         [6, 9, 0, 3],\n",
       "         [7, 8, 1, 2],\n",
       "         [7, 9, 1, 3],\n",
       "         [8, 9, 2, 3]], dtype=int32))]"
      ]
     },
     "execution_count": 12,
     "metadata": {},
     "output_type": "execute_result"
    }
   ],
   "source": [
    "module = Mijk(BGG,0,4,-4)\n",
    "module.weight_components[(0,0)]"
   ]
  },
  {
   "cell_type": "code",
   "execution_count": 13,
   "metadata": {},
   "outputs": [
    {
     "data": {
      "text/plain": [
       "6"
      ]
     },
     "execution_count": 13,
     "metadata": {},
     "output_type": "execute_result"
    }
   ],
   "source": [
    "module.dimensions_components[0][(0,0)]\n",
    "module.dimensions_components[1][(0,0)]"
   ]
  },
  {
   "cell_type": "code",
   "execution_count": 14,
   "metadata": {},
   "outputs": [
    {
     "data": {
      "text/plain": [
       "{(3, 6, 2, 3, 2): 6,\n",
       " (4, 6, 1, 3, 2): 7,\n",
       " (4, 7, 2, 3, 2): 8,\n",
       " (5, 6, 1, 3, 2): 9,\n",
       " (5, 7, 2, 3, 2): 10,\n",
       " (6, 6, 0, 1, 3, 1): 0,\n",
       " (6, 7, 0, 1, 2): 11,\n",
       " (6, 7, 0, 2, 3, 1): 1,\n",
       " (6, 8, 0, 2, 2): 12,\n",
       " (6, 8, 1, 2, 3, 1): 2,\n",
       " (6, 9, 0, 3, 2): 13,\n",
       " (7, 6, 0, 2, 3, 1): 3,\n",
       " (7, 7, 1, 2, 3, 1): 4,\n",
       " (7, 8, 1, 2, 2): 14,\n",
       " (7, 9, 1, 3, 2): 15,\n",
       " (8, 6, 1, 2, 3, 1): 5,\n",
       " (8, 9, 2, 3, 2): 16}"
      ]
     },
     "execution_count": 14,
     "metadata": {},
     "output_type": "execute_result"
    }
   ],
   "source": [
    "module.weight_comp_index_numbers[(0,0)]"
   ]
  },
  {
   "cell_type": "code",
   "execution_count": 15,
   "metadata": {},
   "outputs": [
    {
     "data": {
      "text/plain": [
       "{0: array([-1, -2], dtype=int32),\n",
       " 1: array([-1, -1], dtype=int32),\n",
       " 2: array([-1,  0], dtype=int32),\n",
       " 3: array([ 0, -1], dtype=int32),\n",
       " 4: array([0, 0], dtype=int32),\n",
       " 5: array([0, 0], dtype=int32),\n",
       " 6: array([1, 2], dtype=int32),\n",
       " 7: array([1, 1], dtype=int32),\n",
       " 8: array([1, 0], dtype=int32),\n",
       " 9: array([0, 1], dtype=int32)}"
      ]
     },
     "execution_count": 15,
     "metadata": {},
     "output_type": "execute_result"
    }
   ],
   "source": [
    "BGG = BGGComplex('B2')\n",
    "factory = FastModuleFactory(BGG.LA)\n",
    "factory.weight_dic"
   ]
  },
  {
   "cell_type": "code",
   "execution_count": 16,
   "metadata": {},
   "outputs": [
    {
     "data": {
      "text/plain": [
       "{0: [],\n",
       " 1: array([[0, 9, 2]]),\n",
       " 2: array([[ 1,  9, -1]]),\n",
       " 3: array([[ 0,  7, -2],\n",
       "        [ 1,  8,  1]]),\n",
       " 4: array([[ 3,  9,  2],\n",
       "        [ 0,  6,  2],\n",
       "        [ 2,  8, -2]]),\n",
       " 5: array([[ 3,  9, -1],\n",
       "        [ 1,  7,  1],\n",
       "        [ 2,  8,  2]])}"
      ]
     },
     "execution_count": 16,
     "metadata": {},
     "output_type": "execute_result"
    }
   ],
   "source": [
    "compute_phi(BGG)"
   ]
  },
  {
   "cell_type": "code",
   "execution_count": 17,
   "metadata": {
    "scrolled": true
   },
   "outputs": [
    {
     "data": {
      "text/plain": [
       "{(-3, -5): [(1, array([[0, 0, 1]], dtype=int32))],\n",
       " (-3, -4): [(1, array([[0, 0, 2],\n",
       "          [1, 0, 1]], dtype=int32))],\n",
       " (-3, -3): [(1, array([[0, 1, 2],\n",
       "          [1, 0, 2],\n",
       "          [2, 0, 1]], dtype=int32))],\n",
       " (-3, -2): [(0, array([[9, 0, 1, 2]], dtype=int32)), (1, array([[1, 1, 2],\n",
       "          [2, 0, 2]], dtype=int32))],\n",
       " (-3, -1): [(1, array([[2, 1, 2]], dtype=int32))],\n",
       " (-2, -5): [(1, array([[0, 0, 3]], dtype=int32))],\n",
       " (-2, -4): [(1, array([[0, 1, 3],\n",
       "          [1, 0, 3],\n",
       "          [3, 0, 1]], dtype=int32))],\n",
       " (-2, -3): [(0, array([[8, 0, 1, 2],\n",
       "          [9, 0, 1, 3]], dtype=int32)), (1, array([[0, 2, 3],\n",
       "          [1, 1, 3],\n",
       "          [2, 0, 3],\n",
       "          [3, 0, 2],\n",
       "          [4, 0, 1],\n",
       "          [5, 0, 1]], dtype=int32))],\n",
       " (-2, -2): [(0, array([[7, 0, 1, 2],\n",
       "          [9, 0, 2, 3]], dtype=int32)), (1, array([[1, 2, 3],\n",
       "          [2, 1, 3],\n",
       "          [3, 1, 2],\n",
       "          [4, 0, 2],\n",
       "          [5, 0, 2],\n",
       "          [9, 0, 1]], dtype=int32))],\n",
       " (-2, -1): [(0, array([[6, 0, 1, 2],\n",
       "          [9, 1, 2, 3]], dtype=int32)), (1, array([[2, 2, 3],\n",
       "          [4, 1, 2],\n",
       "          [5, 1, 2],\n",
       "          [9, 0, 2]], dtype=int32))],\n",
       " (-2, 0): [(1, array([[9, 1, 2]], dtype=int32))],\n",
       " (-1, -4): [(0, array([[8, 0, 1, 3]], dtype=int32)),\n",
       "  (1, array([[3, 0, 3]], dtype=int32))],\n",
       " (-1, -3): [(0, array([[7, 0, 1, 3],\n",
       "          [8, 0, 2, 3]], dtype=int32)), (1, array([[3, 1, 3],\n",
       "          [4, 0, 3],\n",
       "          [5, 0, 3],\n",
       "          [8, 0, 1]], dtype=int32))],\n",
       " (-1, -2): [(0, array([[6, 0, 1, 3],\n",
       "          [7, 0, 2, 3],\n",
       "          [8, 1, 2, 3]], dtype=int32)), (1, array([[3, 2, 3],\n",
       "          [4, 1, 3],\n",
       "          [5, 1, 3],\n",
       "          [7, 0, 1],\n",
       "          [8, 0, 2],\n",
       "          [9, 0, 3]], dtype=int32))],\n",
       " (-1, -1): [(0, array([[6, 0, 2, 3],\n",
       "          [7, 1, 2, 3]], dtype=int32)), (1, array([[4, 2, 3],\n",
       "          [5, 2, 3],\n",
       "          [6, 0, 1],\n",
       "          [7, 0, 2],\n",
       "          [8, 1, 2],\n",
       "          [9, 1, 3]], dtype=int32))],\n",
       " (-1, 0): [(0, array([[6, 1, 2, 3]], dtype=int32)), (1, array([[6, 0, 2],\n",
       "          [7, 1, 2],\n",
       "          [9, 2, 3]], dtype=int32))],\n",
       " (-1, 1): [(1, array([[6, 1, 2]], dtype=int32))],\n",
       " (0, -3): [(1, array([[8, 0, 3]], dtype=int32))],\n",
       " (0, -2): [(1, array([[7, 0, 3],\n",
       "          [8, 1, 3]], dtype=int32))],\n",
       " (0, -1): [(1, array([[6, 0, 3],\n",
       "          [7, 1, 3],\n",
       "          [8, 2, 3]], dtype=int32))],\n",
       " (0, 0): [(1, array([[6, 1, 3],\n",
       "          [7, 2, 3]], dtype=int32))],\n",
       " (0, 1): [(1, array([[6, 2, 3]], dtype=int32))]}"
      ]
     },
     "execution_count": 17,
     "metadata": {},
     "output_type": "execute_result"
    }
   ],
   "source": [
    "Mijk(BGG,0,3,-4).weight_components"
   ]
  },
  {
   "cell_type": "code",
   "execution_count": 18,
   "metadata": {},
   "outputs": [
    {
     "data": {
      "text/plain": [
       "{(1, 6, 2, 3, 2): 9,\n",
       " (2, 6, 1, 3, 2): 10,\n",
       " (2, 7, 2, 3, 2): 11,\n",
       " (3, 6, 1, 2, 2): 12,\n",
       " (4, 6, 0, 2, 2): 13,\n",
       " (4, 7, 1, 2, 2): 14,\n",
       " (4, 9, 2, 3, 2): 15,\n",
       " (5, 6, 0, 2, 2): 16,\n",
       " (5, 7, 1, 2, 2): 17,\n",
       " (5, 9, 2, 3, 2): 18,\n",
       " (6, 4, 1, 2, 3, 1): 1,\n",
       " (6, 5, 1, 2, 3, 1): 2,\n",
       " (6, 6, 0, 1, 2, 3, 0): 0,\n",
       " (6, 7, 0, 1, 2, 1): 3,\n",
       " (6, 9, 0, 1, 2): 19,\n",
       " (6, 9, 0, 2, 3, 1): 4,\n",
       " (7, 6, 0, 1, 2, 1): 5,\n",
       " (7, 9, 0, 2, 2): 20,\n",
       " (7, 9, 1, 2, 3, 1): 6,\n",
       " (8, 9, 1, 2, 2): 21,\n",
       " (9, 6, 0, 2, 3, 1): 7,\n",
       " (9, 7, 1, 2, 3, 1): 8}"
      ]
     },
     "execution_count": 18,
     "metadata": {},
     "output_type": "execute_result"
    }
   ],
   "source": [
    "module.weight_comp_index_numbers[(-1,0)]"
   ]
  },
  {
   "cell_type": "code",
   "execution_count": 22,
   "metadata": {},
   "outputs": [
    {
     "data": {
      "text/plain": [
       "[ 1  0  0  0  0  0  0 -2  0  0  0  0  0  0  0  0  0]\n",
       "[ 0  1  0  0  0  0  0  0 -2  0  0  0  0  0  0  0  0]\n",
       "[ 0  0  1  0  0  0  0  0  0  0  0  0  0  0  0  0  0]\n",
       "[ 0  0  0  1  0  0  2  0  0  0  0  0  0  0  0  0  0]\n",
       "[ 0  0  0  0  1  0  0  0  0  0 -1  0  0  0  0  0  0]\n",
       "[ 0  0  0  0  0  1 -1 -2  0  2  0  0  0  0  0  0  0]\n",
       "[ 0  0  0  0  0  0  0  0  0  0  0  1  0  0  0  0  0]\n",
       "[ 0  0  0  0  0  0  0  0  0  0  0  0  1  0  0  0  0]\n",
       "[ 0  0  0  0  0  0  0  0  0  0  0  0  0  1  0  0  0]\n",
       "[ 0  0  0  0  0  0  0  0  0  0  0  0  0  0  1  0  0]\n",
       "[ 0  0  0  0  0  0  0  0  0  0  0  0  0  0  0  1  0]\n",
       "[ 0  0  0  0  0  0  0  0  0  0  0  0  0  0  0  0  1]"
      ]
     },
     "execution_count": 22,
     "metadata": {},
     "output_type": "execute_result"
    }
   ],
   "source": [
    "cohom.coker[(0,0)]"
   ]
  }
 ],
 "metadata": {
  "kernelspec": {
   "display_name": "SageMath 8.9",
   "language": "sage",
   "name": "sagemath"
  },
  "language_info": {
   "codemirror_mode": {
    "name": "ipython",
    "version": 2
   },
   "file_extension": ".py",
   "mimetype": "text/x-python",
   "name": "python",
   "nbconvert_exporter": "python",
   "pygments_lexer": "ipython2",
   "version": "2.7.15"
  }
 },
 "nbformat": 4,
 "nbformat_minor": 2
}
