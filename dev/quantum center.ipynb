{
 "cells": [
  {
   "cell_type": "code",
   "execution_count": 10,
   "metadata": {},
   "outputs": [],
   "source": [
    "import sys\n",
    "sys.path.append('../bggcomplex')\n",
    "\n",
    "from bggcomplex import BGGComplex\n",
    "from fast_module import FastLieAlgebraCompositeModule, FastModuleFactory, BGGCohomology, WeightSet\n",
    "from IPython.display import display, Math, Latex\n",
    "import cohomology\n",
    "import numpy as np"
   ]
  },
  {
   "cell_type": "markdown",
   "metadata": {},
   "source": [
    "## Quantum center"
   ]
  },
  {
   "cell_type": "code",
   "execution_count": 11,
   "metadata": {},
   "outputs": [],
   "source": [
    "def Mijk(BGG,i,j,k,subset=[]):\n",
    "    factory = FastModuleFactory(BGG.LA)\n",
    "\n",
    "    component_dic = {'u':factory.build_component('u','coad',subset=subset),\n",
    "                    'g':factory.build_component('g','ad',subset=subset),\n",
    "                     'n':factory.build_component('n','ad',subset=subset)}\n",
    "    \n",
    "    dim_n = len(factory.parabolic_n_basis(subset))\n",
    "    \n",
    "    components = []\n",
    "    for r in range(j+k//2+1):\n",
    "        if (j-r<=dim_n):\n",
    "            components.append([('u',j+k//2-r,'sym'),('g',r,'wedge'),('n',j-r,'wedge')])\n",
    "\n",
    "    module = FastLieAlgebraCompositeModule(factory,components,component_dic)\n",
    "    \n",
    "    return module"
   ]
  },
  {
   "cell_type": "code",
   "execution_count": 12,
   "metadata": {},
   "outputs": [],
   "source": [
    "def sort_sign(A):\n",
    "    num_cols = A.shape[1]\n",
    "    if num_cols>1:\n",
    "        signs=(-1)**(sum([(A[:,0]<A[:,i]) for i in range(1,num_cols)]))\n",
    "        mask=sum([(A[:,0]==A[:,i]) for i in range(1,num_cols)])==0\n",
    "        return (np.sort(A),signs,mask)\n",
    "    else:\n",
    "        return (A,np.ones(len(A),dtype=int),np.ones(len(A),dtype=bool))"
   ]
  },
  {
   "cell_type": "code",
   "execution_count": 13,
   "metadata": {
    "scrolled": true
   },
   "outputs": [],
   "source": [
    "def compute_phi(BGG,subset=[]):\n",
    "    factory = FastModuleFactory(BGG.LA)\n",
    "    \n",
    "    component_dic = {'u':factory.build_component('u','coad',subset=subset)}\n",
    "    components_phi = [[('u',1,'wedge')]]\n",
    "    \n",
    "    module_phi = FastLieAlgebraCompositeModule(factory,components_phi,component_dic)\n",
    "    \n",
    "    b_basis = factory.parabolic_p_basis(subset)\n",
    "    u_basis = factory.parabolic_u_basis(subset)\n",
    "    coad_dic = factory.coadjoint_action_tensor(b_basis,u_basis)\n",
    "    \n",
    "    phi_image = {b:[] for b in b_basis}\n",
    "    for (b,u),n_dic in coad_dic.items():\n",
    "        n,coeff = n_dic.items()[0]\n",
    "        phi_image[b].append(np.array([factory.dual_root_dict[u],n,coeff]))\n",
    "    \n",
    "    for b in phi_image.keys():\n",
    "        img = phi_image[b]\n",
    "        if len(img)>0:\n",
    "            phi_image[b]=np.vstack(img)\n",
    "        else:\n",
    "            phi_image[b]=[]\n",
    "    return phi_image"
   ]
  },
  {
   "cell_type": "code",
   "execution_count": 24,
   "metadata": {},
   "outputs": [],
   "source": [
    "def Tijk_basis(BGG,i,j,k,subset=[]):\n",
    "    factory = FastModuleFactory(BGG.LA)\n",
    "    wc_mod = Mijk(BGG,i,j,k,subset=subset)\n",
    "    wc_rel = Mijk(BGG,i,j-1,k,subset=subset)\n",
    "    \n",
    "    coker_dic = dict()\n",
    "    mu_source_counters = dict()\n",
    "    \n",
    "    phi_image = compute_phi(BGG,subset=subset)\n",
    "    #phi_image = {i:[] for i,_ in phi_image.items()}\n",
    "    \n",
    "    for mu, components in wc_rel.weight_components.items():\n",
    "\n",
    "        for b, n_tensor_u in phi_image.items():\n",
    "            new_mu = tuple(mu+factory.weight_dic[b])\n",
    "            if new_mu not in mu_source_counters:\n",
    "                mu_source_counters[new_mu]=0\n",
    "            sparse_relations = []\n",
    "            for comp_num, basis in components:\n",
    "                r = wc_rel.components[comp_num][1][1]\n",
    "                t_un_insert = None\n",
    "                t_g_insert = None\n",
    "                for c, comp_list in enumerate(wc_mod.components):\n",
    "                    if comp_list[1][1] == r:\n",
    "                        t_un_insert = c\n",
    "                    if comp_list[1][1] == r+1:\n",
    "                        t_g_insert = c\n",
    "\n",
    "                num_rows = len(basis)\n",
    "                num_u,num_g,num_n = (j-1+k//2-r,r,j-1-r)\n",
    "\n",
    "                basis_enum = np.arange(mu_source_counters[new_mu],mu_source_counters[new_mu]+num_rows,dtype=int).reshape((-1,1))\n",
    "                mu_source_counters[new_mu]+=num_rows\n",
    "\n",
    "\n",
    "                # Insert g\n",
    "                if t_g_insert is not None:\n",
    "                    new_basis = np.hstack([basis_enum,basis[:,:num_u],b*np.ones(shape=(num_rows,1),dtype=int),basis[:,num_u:]])\n",
    "                    sort_basis, signs, mask = sort_sign(new_basis[:,num_u+1:num_u+num_g+2])\n",
    "                    new_basis[:,num_u+1:num_u+num_g+2] = sort_basis\n",
    "                    new_basis = new_basis[mask]\n",
    "                    basis_g = np.zeros(shape=(len(new_basis),3), dtype=int)\n",
    "                    for row_num, (row, sign) in enumerate(zip(new_basis, signs[mask])):\n",
    "                        source = row[0]\n",
    "                        target = wc_mod.weight_comp_index_numbers[new_mu][tuple(list(row[1:])+[t_g_insert])]\n",
    "                        basis_g[row_num] = [source,target,-sign]\n",
    "                    if len(basis_g)>0:\n",
    "                        sparse_relations.append(basis_g)\n",
    "\n",
    "                # Insert n_tensor_u\n",
    "                if t_un_insert is not None:\n",
    "                    for n,u,coeff in n_tensor_u:\n",
    "                        n_column = n*np.ones(shape=(num_rows,1),dtype=int)\n",
    "                        u_column = u*np.ones(shape=(num_rows,1),dtype=int)\n",
    "                        new_basis = np.hstack([basis_enum,u_column,basis[:,:num_u+num_g],n_column,basis[:,num_u+num_g:]])\n",
    "                        new_basis[:,1:num_u+2]=np.sort(new_basis[:,1:num_u+2])\n",
    "                        sort_basis, signs, mask = sort_sign(new_basis[:,num_u+num_g+2:])\n",
    "                        new_basis[:,num_u+num_g+2:]=sort_basis\n",
    "                        signs=coeff*signs[mask]\n",
    "                        new_basis = new_basis[mask]\n",
    "                        basis_un = np.zeros(shape=(len(new_basis),3), dtype=int)\n",
    "                        for row_num, (row, sign) in enumerate(zip(new_basis, signs)):\n",
    "                            source = row[0]\n",
    "                            target = wc_mod.weight_comp_index_numbers[new_mu][tuple(list(row[1:])+[t_un_insert])]\n",
    "                            basis_un[row_num] = [source,target,sign]\n",
    "                        if len(basis_un)>0:\n",
    "                            sparse_relations.append(basis_un)\n",
    "            if len(sparse_relations)>0:\n",
    "                if new_mu not in coker_dic:\n",
    "                    coker_dic[new_mu]=[]\n",
    "                coker_dic[new_mu]+=sparse_relations\n",
    "    coker_dic = {mu:cohomology.sort_merge(np.concatenate(rels)) for mu,rels in coker_dic.items()}\n",
    "\n",
    "    T=dict()\n",
    "    with tqdm(coker_dic.items()) as pbar:\n",
    "        for mu,rels in pbar:\n",
    "            source_dim = mu_source_counters[mu]\n",
    "            target_dim = wc_mod.dimensions[mu]\n",
    "            sparse_dic = dict()\n",
    "            for source,target,coeff in rels:\n",
    "                sparse_dic[(source,target)]=coeff\n",
    "            pbar.set_description(str((source_dim,target_dim)))\n",
    "            M = matrix(ZZ,sparse_dic,nrows = source_dim, ncols = target_dim, sparse=True)\n",
    "            T[mu]=M.right_kernel().basis_matrix()\n",
    "    return T"
   ]
  },
  {
   "cell_type": "code",
   "execution_count": 25,
   "metadata": {},
   "outputs": [],
   "source": [
    "def all_abijk(BGG,s=0,subset=[],half_only=True):\n",
    "    dim_n = len(FastModuleFactory(BGG.LA).parabolic_n_basis(subset))\n",
    "    output = []\n",
    "    s_mod = s%2\n",
    "    a_max = dim_n+(1+s_mod)%2\n",
    "    for a_iterator in range(a_max):\n",
    "        a = 2*a_iterator+s_mod\n",
    "        for b in range(max(0,s-2*a),a+1):\n",
    "            if (a+b) % 2 == 0:\n",
    "                output.append((a,b,(a-b)//2,(a+b)//2,s-a))\n",
    "    if half_only:\n",
    "        new_out = []\n",
    "        max_a = max(s[0] for s in output)\n",
    "        for a,b,i,j,k in output:\n",
    "            if a+b<=max_a:\n",
    "                new_out.append((a,b,i,j,k))\n",
    "        return sorted(new_out,key=lambda s: (s[0]+s[1],s[0],s[1]))\n",
    "    else:\n",
    "        return output\n",
    "\n",
    "def display_ab_dic(ab_dic):\n",
    "    a_set = set()\n",
    "    b_set = set()\n",
    "    for a,b in ab_dic.keys():\n",
    "        a_set.add(a)\n",
    "        b_set.add(b)\n",
    "    a_set = sorted(a_set)\n",
    "    b_set = sorted(b_set)\n",
    "    column_string = r'{r|' + ' '.join('l'*len(a_set))+r'}'\n",
    "    rows = list()\n",
    "    for a in a_set:\n",
    "        row_strings = [r'{\\scriptstyle i+j='+str(a)+r'}']\n",
    "        for b in b_set:\n",
    "            if (a,b) in ab_dic:\n",
    "                row_strings.append(ab_dic[(a,b)])\n",
    "            else:\n",
    "                row_strings.append('')\n",
    "        rows.append(r'&'.join(row_strings))\n",
    "    rows.append(r'\\hline h^{i,j}&'+ '&'.join([r'{\\scriptstyle j-i='+str(b)+r'}' for b in b_set]))\n",
    "    all_strings = r'\\\\'.join(rows)\n",
    "    display(Math(r'\\begin{array}'+column_string+all_strings+r'\\end{array}'))"
   ]
  },
  {
   "cell_type": "code",
   "execution_count": 26,
   "metadata": {
    "scrolled": false
   },
   "outputs": [
    {
     "name": "stdout",
     "output_type": "stream",
     "text": [
      "a=6, b=4, k=-6\n",
      "\n"
     ]
    },
    {
     "data": {
      "application/vnd.jupyter.widget-view+json": {
       "model_id": "7815ac98ca5746c99311426f378bad53",
       "version_major": 2,
       "version_minor": 0
      },
      "text/plain": [
       "HBox(children=(IntProgress(value=0, max=374), HTML(value=u'')))"
      ]
     },
     "metadata": {},
     "output_type": "display_data"
    },
    {
     "name": "stdout",
     "output_type": "stream",
     "text": [
      "\n"
     ]
    },
    {
     "ename": "KeyboardInterrupt",
     "evalue": "",
     "output_type": "error",
     "traceback": [
      "\u001b[0;31m---------------------------------------------------------------------------\u001b[0m",
      "\u001b[0;31mKeyboardInterrupt\u001b[0m                         Traceback (most recent call last)",
      "\u001b[0;32m<ipython-input-26-20211a5307e7>\u001b[0m in \u001b[0;36m<module>\u001b[0;34m()\u001b[0m\n\u001b[1;32m      7\u001b[0m \u001b[0;34m\u001b[0m\u001b[0m\n\u001b[1;32m      8\u001b[0m \u001b[0msubset\u001b[0m \u001b[0;34m=\u001b[0m \u001b[0;34m[\u001b[0m\u001b[0;34m]\u001b[0m\u001b[0;34m\u001b[0m\u001b[0m\n\u001b[0;32m----> 9\u001b[0;31m \u001b[0mcohom\u001b[0m \u001b[0;34m=\u001b[0m \u001b[0mBGGCohomology\u001b[0m\u001b[0;34m(\u001b[0m\u001b[0mBGG\u001b[0m\u001b[0;34m,\u001b[0m \u001b[0mMijk\u001b[0m\u001b[0;34m(\u001b[0m\u001b[0mBGG\u001b[0m\u001b[0;34m,\u001b[0m\u001b[0mi\u001b[0m\u001b[0;34m,\u001b[0m\u001b[0mj\u001b[0m\u001b[0;34m,\u001b[0m\u001b[0mk\u001b[0m\u001b[0;34m,\u001b[0m\u001b[0msubset\u001b[0m\u001b[0;34m=\u001b[0m\u001b[0msubset\u001b[0m\u001b[0;34m)\u001b[0m\u001b[0;34m,\u001b[0m \u001b[0mcoker\u001b[0m\u001b[0;34m=\u001b[0m\u001b[0mTijk_basis\u001b[0m\u001b[0;34m(\u001b[0m\u001b[0mBGG\u001b[0m\u001b[0;34m,\u001b[0m \u001b[0mi\u001b[0m\u001b[0;34m,\u001b[0m\u001b[0mj\u001b[0m\u001b[0;34m,\u001b[0m\u001b[0mk\u001b[0m\u001b[0;34m,\u001b[0m\u001b[0msubset\u001b[0m\u001b[0;34m=\u001b[0m\u001b[0msubset\u001b[0m\u001b[0;34m)\u001b[0m\u001b[0;34m)\u001b[0m\u001b[0;34m\u001b[0m\u001b[0m\n\u001b[0m\u001b[1;32m     10\u001b[0m \u001b[0mdiff\u001b[0m\u001b[0;34m,\u001b[0m \u001b[0mdimspace\u001b[0m \u001b[0;34m=\u001b[0m \u001b[0mcohomology\u001b[0m\u001b[0;34m.\u001b[0m\u001b[0mcompute_diff\u001b[0m\u001b[0;34m(\u001b[0m\u001b[0mcohom\u001b[0m\u001b[0;34m,\u001b[0m\u001b[0;34m(\u001b[0m\u001b[0mInteger\u001b[0m\u001b[0;34m(\u001b[0m\u001b[0;36m0\u001b[0m\u001b[0;34m)\u001b[0m\u001b[0;34m,\u001b[0m\u001b[0mInteger\u001b[0m\u001b[0;34m(\u001b[0m\u001b[0;36m0\u001b[0m\u001b[0;34m)\u001b[0m\u001b[0;34m)\u001b[0m\u001b[0;34m,\u001b[0m\u001b[0mInteger\u001b[0m\u001b[0;34m(\u001b[0m\u001b[0;36m0\u001b[0m\u001b[0;34m)\u001b[0m\u001b[0;34m)\u001b[0m\u001b[0;34m\u001b[0m\u001b[0m\n",
      "\u001b[0;32m<ipython-input-24-31ae6f13398b>\u001b[0m in \u001b[0;36mTijk_basis\u001b[0;34m(BGG, i, j, k, subset)\u001b[0m\n\u001b[1;32m     82\u001b[0m             \u001b[0mpbar\u001b[0m\u001b[0;34m.\u001b[0m\u001b[0mset_description\u001b[0m\u001b[0;34m(\u001b[0m\u001b[0mstr\u001b[0m\u001b[0;34m(\u001b[0m\u001b[0;34m(\u001b[0m\u001b[0msource_dim\u001b[0m\u001b[0;34m,\u001b[0m\u001b[0mtarget_dim\u001b[0m\u001b[0;34m)\u001b[0m\u001b[0;34m)\u001b[0m\u001b[0;34m)\u001b[0m\u001b[0;34m\u001b[0m\u001b[0m\n\u001b[1;32m     83\u001b[0m             \u001b[0mM\u001b[0m \u001b[0;34m=\u001b[0m \u001b[0mmatrix\u001b[0m\u001b[0;34m(\u001b[0m\u001b[0mQQ\u001b[0m\u001b[0;34m,\u001b[0m\u001b[0msparse_dic\u001b[0m\u001b[0;34m,\u001b[0m\u001b[0mnrows\u001b[0m \u001b[0;34m=\u001b[0m \u001b[0msource_dim\u001b[0m\u001b[0;34m,\u001b[0m \u001b[0mncols\u001b[0m \u001b[0;34m=\u001b[0m \u001b[0mtarget_dim\u001b[0m\u001b[0;34m,\u001b[0m \u001b[0msparse\u001b[0m\u001b[0;34m=\u001b[0m\u001b[0mTrue\u001b[0m\u001b[0;34m)\u001b[0m\u001b[0;34m\u001b[0m\u001b[0m\n\u001b[0;32m---> 84\u001b[0;31m             \u001b[0mT\u001b[0m\u001b[0;34m[\u001b[0m\u001b[0mmu\u001b[0m\u001b[0;34m]\u001b[0m\u001b[0;34m=\u001b[0m\u001b[0mM\u001b[0m\u001b[0;34m.\u001b[0m\u001b[0mright_kernel\u001b[0m\u001b[0;34m(\u001b[0m\u001b[0;34m)\u001b[0m\u001b[0;34m.\u001b[0m\u001b[0mbasis_matrix\u001b[0m\u001b[0;34m(\u001b[0m\u001b[0;34m)\u001b[0m\u001b[0;34m\u001b[0m\u001b[0m\n\u001b[0m\u001b[1;32m     85\u001b[0m     \u001b[0;32mreturn\u001b[0m \u001b[0mT\u001b[0m\u001b[0;34m\u001b[0m\u001b[0m\n",
      "\u001b[0;32m/opt/sagemath-8.6/local/lib/python2.7/site-packages/sage/matrix/matrix2.pyx\u001b[0m in \u001b[0;36msage.matrix.matrix2.Matrix.right_kernel (build/cythonized/sage/matrix/matrix2.c:29197)\u001b[0;34m()\u001b[0m\n\u001b[1;32m   4192\u001b[0m \u001b[0;34m\u001b[0m\u001b[0m\n\u001b[1;32m   4193\u001b[0m         \u001b[0;31m# Go get the kernel matrix, this is where it all happens\u001b[0m\u001b[0;34m\u001b[0m\u001b[0;34m\u001b[0m\u001b[0m\n\u001b[0;32m-> 4194\u001b[0;31m         \u001b[0mM\u001b[0m \u001b[0;34m=\u001b[0m \u001b[0mself\u001b[0m\u001b[0;34m.\u001b[0m\u001b[0mright_kernel_matrix\u001b[0m\u001b[0;34m(\u001b[0m\u001b[0;34m*\u001b[0m\u001b[0margs\u001b[0m\u001b[0;34m,\u001b[0m \u001b[0;34m**\u001b[0m\u001b[0mkwds\u001b[0m\u001b[0;34m)\u001b[0m\u001b[0;34m\u001b[0m\u001b[0m\n\u001b[0m\u001b[1;32m   4195\u001b[0m \u001b[0;34m\u001b[0m\u001b[0m\n\u001b[1;32m   4196\u001b[0m         \u001b[0mambient\u001b[0m \u001b[0;34m=\u001b[0m \u001b[0mR\u001b[0m\u001b[0;34m**\u001b[0m\u001b[0mself\u001b[0m\u001b[0;34m.\u001b[0m\u001b[0mncols\u001b[0m\u001b[0;34m(\u001b[0m\u001b[0;34m)\u001b[0m\u001b[0;34m\u001b[0m\u001b[0m\n",
      "\u001b[0;32m/opt/sagemath-8.6/local/lib/python2.7/site-packages/sage/matrix/matrix2.pyx\u001b[0m in \u001b[0;36msage.matrix.matrix2.Matrix.right_kernel_matrix (build/cythonized/sage/matrix/matrix2.c:27823)\u001b[0;34m()\u001b[0m\n\u001b[1;32m   3796\u001b[0m         \u001b[0;32mif\u001b[0m \u001b[0mM\u001b[0m \u001b[0;32mis\u001b[0m \u001b[0mNone\u001b[0m\u001b[0;34m:\u001b[0m\u001b[0;34m\u001b[0m\u001b[0m\n\u001b[1;32m   3797\u001b[0m             \u001b[0;32mtry\u001b[0m\u001b[0;34m:\u001b[0m\u001b[0;34m\u001b[0m\u001b[0m\n\u001b[0;32m-> 3798\u001b[0;31m                 \u001b[0mformat\u001b[0m\u001b[0;34m,\u001b[0m \u001b[0mM\u001b[0m \u001b[0;34m=\u001b[0m \u001b[0mself\u001b[0m\u001b[0;34m.\u001b[0m\u001b[0m_right_kernel_matrix\u001b[0m\u001b[0;34m(\u001b[0m\u001b[0malgorithm\u001b[0m\u001b[0;34m=\u001b[0m\u001b[0malgorithm\u001b[0m\u001b[0;34m,\u001b[0m \u001b[0mproof\u001b[0m\u001b[0;34m=\u001b[0m\u001b[0mproof\u001b[0m\u001b[0;34m)\u001b[0m\u001b[0;34m\u001b[0m\u001b[0m\n\u001b[0m\u001b[1;32m   3799\u001b[0m             \u001b[0;32mexcept\u001b[0m \u001b[0mAttributeError\u001b[0m\u001b[0;34m:\u001b[0m\u001b[0;34m\u001b[0m\u001b[0m\n\u001b[1;32m   3800\u001b[0m                 \u001b[0;32mpass\u001b[0m\u001b[0;34m\u001b[0m\u001b[0m\n",
      "\u001b[0;32m/opt/sagemath-8.6/local/lib/python2.7/site-packages/sage/matrix/matrix_rational_sparse.pyx\u001b[0m in \u001b[0;36msage.matrix.matrix_rational_sparse.Matrix_rational_sparse._right_kernel_matrix (build/cythonized/sage/matrix/matrix_rational_sparse.c:8711)\u001b[0;34m()\u001b[0m\n\u001b[1;32m    778\u001b[0m             \u001b[0;34m[\u001b[0m\u001b[0;36m0\u001b[0m \u001b[0;36m0\u001b[0m \u001b[0;36m1\u001b[0m\u001b[0;34m]\u001b[0m\u001b[0;34m\u001b[0m\u001b[0m\n\u001b[1;32m    779\u001b[0m         \"\"\"\n\u001b[0;32m--> 780\u001b[0;31m         \u001b[0;32mreturn\u001b[0m \u001b[0mself\u001b[0m\u001b[0;34m.\u001b[0m\u001b[0mdense_matrix\u001b[0m\u001b[0;34m(\u001b[0m\u001b[0;34m)\u001b[0m\u001b[0;34m.\u001b[0m\u001b[0m_right_kernel_matrix\u001b[0m\u001b[0;34m(\u001b[0m\u001b[0;34m)\u001b[0m\u001b[0;34m\u001b[0m\u001b[0m\n\u001b[0m\u001b[1;32m    781\u001b[0m \u001b[0;34m\u001b[0m\u001b[0m\n\u001b[1;32m    782\u001b[0m \u001b[0;34m\u001b[0m\u001b[0m\n",
      "\u001b[0;32m/opt/sagemath-8.6/local/lib/python2.7/site-packages/sage/matrix/matrix_rational_dense.pyx\u001b[0m in \u001b[0;36msage.matrix.matrix_rational_dense.Matrix_rational_dense._right_kernel_matrix (build/cythonized/sage/matrix/matrix_rational_dense.c:13775)\u001b[0;34m()\u001b[0m\n\u001b[1;32m   1404\u001b[0m         \u001b[0;32melse\u001b[0m\u001b[0;34m:\u001b[0m\u001b[0;34m\u001b[0m\u001b[0m\n\u001b[1;32m   1405\u001b[0m             \u001b[0mA\u001b[0m\u001b[0;34m,\u001b[0m \u001b[0m_\u001b[0m \u001b[0;34m=\u001b[0m \u001b[0mself\u001b[0m\u001b[0;34m.\u001b[0m\u001b[0m_clear_denom\u001b[0m\u001b[0;34m(\u001b[0m\u001b[0;34m)\u001b[0m\u001b[0;34m\u001b[0m\u001b[0m\n\u001b[0;32m-> 1406\u001b[0;31m             \u001b[0mK\u001b[0m \u001b[0;34m=\u001b[0m \u001b[0mA\u001b[0m\u001b[0;34m.\u001b[0m\u001b[0m_rational_kernel_iml\u001b[0m\u001b[0;34m(\u001b[0m\u001b[0;34m)\u001b[0m\u001b[0;34m.\u001b[0m\u001b[0mtranspose\u001b[0m\u001b[0;34m(\u001b[0m\u001b[0;34m)\u001b[0m\u001b[0;34m.\u001b[0m\u001b[0mchange_ring\u001b[0m\u001b[0;34m(\u001b[0m\u001b[0mQQ\u001b[0m\u001b[0;34m)\u001b[0m\u001b[0;34m\u001b[0m\u001b[0m\n\u001b[0m\u001b[1;32m   1407\u001b[0m         \u001b[0mverbose\u001b[0m\u001b[0;34m(\u001b[0m\u001b[0;34m\"done computing right kernel matrix over the rationals for %sx%s matrix\"\u001b[0m \u001b[0;34m%\u001b[0m \u001b[0;34m(\u001b[0m\u001b[0mself\u001b[0m\u001b[0;34m.\u001b[0m\u001b[0mnrows\u001b[0m\u001b[0;34m(\u001b[0m\u001b[0;34m)\u001b[0m\u001b[0;34m,\u001b[0m \u001b[0mself\u001b[0m\u001b[0;34m.\u001b[0m\u001b[0mncols\u001b[0m\u001b[0;34m(\u001b[0m\u001b[0;34m)\u001b[0m\u001b[0;34m)\u001b[0m\u001b[0;34m,\u001b[0m\u001b[0mlevel\u001b[0m\u001b[0;34m=\u001b[0m\u001b[0;36m1\u001b[0m\u001b[0;34m,\u001b[0m \u001b[0mt\u001b[0m\u001b[0;34m=\u001b[0m\u001b[0mtm\u001b[0m\u001b[0;34m)\u001b[0m\u001b[0;34m\u001b[0m\u001b[0m\n\u001b[1;32m   1408\u001b[0m         \u001b[0;32mreturn\u001b[0m \u001b[0;34m'computed-iml-rational'\u001b[0m\u001b[0;34m,\u001b[0m \u001b[0mK\u001b[0m\u001b[0;34m\u001b[0m\u001b[0m\n",
      "\u001b[0;32m/opt/sagemath-8.6/local/lib/python2.7/site-packages/sage/matrix/matrix_integer_dense.pyx\u001b[0m in \u001b[0;36msage.matrix.matrix_integer_dense.Matrix_integer_dense._rational_kernel_iml (build/cythonized/sage/matrix/matrix_integer_dense.c:31808)\u001b[0;34m()\u001b[0m\n\u001b[1;32m   3894\u001b[0m         \u001b[0mtime\u001b[0m \u001b[0;34m=\u001b[0m \u001b[0mverbose\u001b[0m\u001b[0;34m(\u001b[0m\u001b[0;34m'computing null space of %s x %s matrix using IML'\u001b[0m\u001b[0;34m%\u001b[0m\u001b[0;34m(\u001b[0m\u001b[0mself\u001b[0m\u001b[0;34m.\u001b[0m\u001b[0m_nrows\u001b[0m\u001b[0;34m,\u001b[0m \u001b[0mself\u001b[0m\u001b[0;34m.\u001b[0m\u001b[0m_ncols\u001b[0m\u001b[0;34m)\u001b[0m\u001b[0;34m)\u001b[0m\u001b[0;34m\u001b[0m\u001b[0m\n\u001b[1;32m   3895\u001b[0m         \u001b[0mcdef\u001b[0m \u001b[0mmpz_t\u001b[0m \u001b[0;34m*\u001b[0m \u001b[0mm\u001b[0m \u001b[0;34m=\u001b[0m \u001b[0mfmpz_mat_to_mpz_array\u001b[0m\u001b[0;34m(\u001b[0m\u001b[0mself\u001b[0m\u001b[0;34m.\u001b[0m\u001b[0m_matrix\u001b[0m\u001b[0;34m)\u001b[0m\u001b[0;34m\u001b[0m\u001b[0m\n\u001b[0;32m-> 3896\u001b[0;31m         \u001b[0msig_on\u001b[0m\u001b[0;34m(\u001b[0m\u001b[0;34m)\u001b[0m\u001b[0;34m\u001b[0m\u001b[0m\n\u001b[0m\u001b[1;32m   3897\u001b[0m         \u001b[0mdim\u001b[0m \u001b[0;34m=\u001b[0m \u001b[0mnullspaceMP\u001b[0m\u001b[0;34m(\u001b[0m\u001b[0mself\u001b[0m\u001b[0;34m.\u001b[0m\u001b[0m_nrows\u001b[0m\u001b[0;34m,\u001b[0m \u001b[0mself\u001b[0m\u001b[0;34m.\u001b[0m\u001b[0m_ncols\u001b[0m\u001b[0;34m,\u001b[0m \u001b[0mm\u001b[0m\u001b[0;34m,\u001b[0m \u001b[0;34m&\u001b[0m\u001b[0mmp_N\u001b[0m\u001b[0;34m)\u001b[0m\u001b[0;34m\u001b[0m\u001b[0m\n\u001b[1;32m   3898\u001b[0m         \u001b[0msig_off\u001b[0m\u001b[0;34m(\u001b[0m\u001b[0;34m)\u001b[0m\u001b[0;34m\u001b[0m\u001b[0m\n",
      "\u001b[0;31mKeyboardInterrupt\u001b[0m: "
     ]
    }
   ],
   "source": [
    "BGG = BGGComplex('B2')\n",
    "s = 0\n",
    "i = 1\n",
    "j = 3\n",
    "k = s-i-j\n",
    "print('a=%d, b=%d, k=%d\\n'%(i+j,j-i,k))\n",
    "\n",
    "subset = []\n",
    "cohom = BGGCohomology(BGG, Mijk(BGG,i,j,k,subset=subset), coker=Tijk_basis(BGG, i,j,k,subset=subset))\n",
    "diff, dimspace = cohomology.compute_diff(cohom,(0,0),0)"
   ]
  },
  {
   "cell_type": "code",
   "execution_count": 33,
   "metadata": {
    "scrolled": false
   },
   "outputs": [
    {
     "data": {
      "application/vnd.jupyter.widget-view+json": {
       "model_id": "33830d2686704a7eaeab8b1da5918054",
       "version_major": 2,
       "version_minor": 0
      },
      "text/plain": [
       "HBox(children=(IntProgress(value=0, max=6), HTML(value=u'')))"
      ]
     },
     "metadata": {},
     "output_type": "display_data"
    },
    {
     "data": {
      "application/vnd.jupyter.widget-view+json": {
       "model_id": "6d37b20f515a48d1aeddb78ddc319b3a",
       "version_major": 2,
       "version_minor": 0
      },
      "text/plain": [
       "HBox(children=(IntProgress(value=0, max=4), HTML(value=u'')))"
      ]
     },
     "metadata": {},
     "output_type": "display_data"
    },
    {
     "name": "stdout",
     "output_type": "stream",
     "text": [
      "\n"
     ]
    },
    {
     "data": {
      "application/vnd.jupyter.widget-view+json": {
       "model_id": "cf49faed30284a909e95962cd70bf2d1",
       "version_major": 2,
       "version_minor": 0
      },
      "text/plain": [
       "HBox(children=(IntProgress(value=0, max=8), HTML(value=u'')))"
      ]
     },
     "metadata": {},
     "output_type": "display_data"
    },
    {
     "name": "stdout",
     "output_type": "stream",
     "text": [
      "\n"
     ]
    },
    {
     "data": {
      "application/vnd.jupyter.widget-view+json": {
       "model_id": "53406ed94df94098a3517a0607fba018",
       "version_major": 2,
       "version_minor": 0
      },
      "text/plain": [
       "HBox(children=(IntProgress(value=0, max=21), HTML(value=u'')))"
      ]
     },
     "metadata": {},
     "output_type": "display_data"
    },
    {
     "name": "stdout",
     "output_type": "stream",
     "text": [
      "\n"
     ]
    },
    {
     "data": {
      "application/vnd.jupyter.widget-view+json": {
       "model_id": "53a9fecaa3d54888a1a78068551a8dc5",
       "version_major": 2,
       "version_minor": 0
      },
      "text/plain": [
       "HBox(children=(IntProgress(value=0, max=8), HTML(value=u'')))"
      ]
     },
     "metadata": {},
     "output_type": "display_data"
    },
    {
     "name": "stdout",
     "output_type": "stream",
     "text": [
      "\n"
     ]
    },
    {
     "data": {
      "application/vnd.jupyter.widget-view+json": {
       "model_id": "b4354a1f89a64e169c2878df0744d2a9",
       "version_major": 2,
       "version_minor": 0
      },
      "text/plain": [
       "HBox(children=(IntProgress(value=0, max=18), HTML(value=u'')))"
      ]
     },
     "metadata": {},
     "output_type": "display_data"
    },
    {
     "name": "stdout",
     "output_type": "stream",
     "text": [
      "\n"
     ]
    },
    {
     "data": {
      "application/vnd.jupyter.widget-view+json": {
       "model_id": "c7dd23a3df79440d99534f3400a41a01",
       "version_major": 2,
       "version_minor": 0
      },
      "text/plain": [
       "HBox(children=(IntProgress(value=0, max=28), HTML(value=u'')))"
      ]
     },
     "metadata": {},
     "output_type": "display_data"
    },
    {
     "name": "stdout",
     "output_type": "stream",
     "text": [
      "\n",
      "\n"
     ]
    },
    {
     "data": {
      "text/latex": [
       "$$\\begin{array}{r|l l l}{\\scriptstyle i+j=1}&\\mathbb{C}\\oplus L\\left(\\alpha_{1}+\\alpha_{2}\\right)&&\\\\{\\scriptstyle i+j=3}&\\mathbb{C}^{3}\\oplus L\\left(\\alpha_{1}+\\alpha_{2}\\right)^{2}&\\mathbb{C}\\oplus L\\left(\\alpha_{1}+\\alpha_{2}\\right)&\\\\{\\scriptstyle i+j=5}&\\mathbb{C}^{2}\\oplus L\\left(\\alpha_{1}+\\alpha_{2}\\right)^{2}&\\mathbb{C}^{3}\\oplus L\\left(\\alpha_{1}+\\alpha_{2}\\right)^{2}&\\mathbb{C}\\oplus L\\left(\\alpha_{1}+\\alpha_{2}\\right)\\\\\\hline h^{i,j}&{\\scriptstyle j-i=1}&{\\scriptstyle j-i=3}&{\\scriptstyle j-i=5}\\end{array}$$"
      ],
      "text/plain": [
       "<IPython.core.display.Math object>"
      ]
     },
     "metadata": {},
     "output_type": "display_data"
    }
   ],
   "source": [
    "from tqdm.notebook import tqdm\n",
    "BGG = BGGComplex('A2')\n",
    "ab_dic = dict()\n",
    "\n",
    "subset=[]\n",
    "\n",
    "with tqdm(all_abijk(BGG,s=1,subset=subset,half_only=False)) as pbar:\n",
    "    for a,b,i,j,k in pbar:\n",
    "        pbar.set_description('i+j= %d, j-i = %d'%(a,b))\n",
    "        cohom = BGGCohomology(BGG, Mijk(BGG,i,j,k,subset=subset), coker=Tijk_basis(BGG, i,j,k,subset=subset))\n",
    "        cohom_string = cohom.cohomology_LaTeX(i=i,only_strings=True)\n",
    "        ab_dic[(a,b)]=cohom_string\n",
    "\n",
    "display_ab_dic(ab_dic)"
   ]
  }
 ],
 "metadata": {
  "kernelspec": {
   "display_name": "SageMath 8.6",
   "language": "",
   "name": "sagemath"
  },
  "language_info": {
   "codemirror_mode": {
    "name": "ipython",
    "version": 2
   },
   "file_extension": ".py",
   "mimetype": "text/x-python",
   "name": "python",
   "nbconvert_exporter": "python",
   "pygments_lexer": "ipython2",
   "version": "2.7.15"
  }
 },
 "nbformat": 4,
 "nbformat_minor": 2
}
