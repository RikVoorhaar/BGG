{
 "cells": [
  {
   "cell_type": "code",
   "execution_count": 10,
   "metadata": {},
   "outputs": [],
   "source": [
    "import sys\n",
    "sys.path.append('../bggcomplex')\n",
    "\n",
    "from bggcomplex import BGGComplex\n",
    "from fast_module import FastLieAlgebraCompositeModule, FastModuleFactory, BGGCohomology, WeightSet\n",
    "from IPython.display import display, Math, Latex\n",
    "import cohomology\n",
    "import numpy as np"
   ]
  },
  {
   "cell_type": "markdown",
   "metadata": {},
   "source": [
    "## Quantum center"
   ]
  },
  {
   "cell_type": "code",
   "execution_count": 11,
   "metadata": {},
   "outputs": [
    {
     "data": {
      "text/plain": [
       "[1, 2, 3, 5]"
      ]
     },
     "execution_count": 11,
     "metadata": {},
     "output_type": "execute_result"
    }
   ],
   "source": [
    "BGG = BGGComplex('A3')\n",
    "factory = FastModuleFactory(BGG.LA)\n",
    "factory.parabolic_n_basis([1,3])"
   ]
  },
  {
   "cell_type": "code",
   "execution_count": 12,
   "metadata": {},
   "outputs": [],
   "source": [
    "def Mijk(BGG,i,j,k,subset=[]):\n",
    "    factory = FastModuleFactory(BGG.LA)\n",
    "\n",
    "    component_dic = {'b':factory.build_component('b','coad',subset=subset),'u':factory.build_component('u','coad',subset=subset),\n",
    "                    'g':factory.build_component('g','ad',subset=subset),'n':factory.build_component('n','ad',subset=subset)}\n",
    "    \n",
    "    dim_n = len(factory.parabolic_n_basis(subset))\n",
    "    \n",
    "    components = []\n",
    "    for r in range(j+k//2+1):\n",
    "        if (j-r<=dim_n):\n",
    "            components.append([('u',j+k//2-r,'sym'),('g',r,'wedge'),('n',j-r,'wedge')])\n",
    "\n",
    "    module = FastLieAlgebraCompositeModule(factory,components,component_dic)\n",
    "    \n",
    "    return module"
   ]
  },
  {
   "cell_type": "code",
   "execution_count": 13,
   "metadata": {},
   "outputs": [],
   "source": [
    "def sort_sign(A):\n",
    "    num_cols = A.shape[1]\n",
    "    if num_cols>1:\n",
    "        signs=(-1)**(sum([(A[:,0]<A[:,i]) for i in range(1,num_cols)])%2)\n",
    "        mask=sum([(A[:,0]==A[:,i]) for i in range(1,num_cols)])==0\n",
    "        return (np.sort(A),signs,mask)\n",
    "    else:\n",
    "        return (A,np.ones(len(A),dtype=int),np.ones(len(A),dtype=bool))"
   ]
  },
  {
   "cell_type": "code",
   "execution_count": 14,
   "metadata": {
    "scrolled": true
   },
   "outputs": [],
   "source": [
    "def compute_phi(BGG,subset=[]):\n",
    "    factory = FastModuleFactory(BGG.LA)\n",
    "    \n",
    "    component_dic = {'u':factory.build_component('u','coad',subset=subset)}\n",
    "    components_phi = [[('u',1,'wedge')]]\n",
    "    \n",
    "    module_phi = FastLieAlgebraCompositeModule(factory,components_phi,component_dic)\n",
    "    \n",
    "    b_basis = factory.parabolic_p_basis(subset)\n",
    "    u_basis = factory.parabolic_u_basis(subset)\n",
    "    coad_dic = factory.coadjoint_action_tensor(b_basis,u_basis)\n",
    "    \n",
    "    phi_image = {b:[] for b in b_basis}\n",
    "    for (b,u),n_dic in coad_dic.items():\n",
    "        n,coeff = n_dic.items()[0]\n",
    "        phi_image[b].append(np.array([factory.dual_root_dict[u],n,coeff]))\n",
    "    \n",
    "    for b in phi_image.keys():\n",
    "        img = phi_image[b]\n",
    "        if len(img)>0:\n",
    "            phi_image[b]=np.vstack(img)\n",
    "        else:\n",
    "            phi_image[b]=[]\n",
    "    return phi_image"
   ]
  },
  {
   "cell_type": "code",
   "execution_count": 15,
   "metadata": {},
   "outputs": [],
   "source": [
    "def Tijk_basis(BGG,i,j,k,subset=[]):\n",
    "    factory = FastModuleFactory(BGG.LA)\n",
    "    wc_mod = Mijk(BGG,i,j,k,subset=subset)\n",
    "    wc_rel = Mijk(BGG,i,j-1,k,subset=subset)\n",
    "    \n",
    "    coker_dic = dict()\n",
    "    mu_source_counters = dict()\n",
    "    \n",
    "    phi_image = compute_phi(BGG,subset=subset)\n",
    "    \n",
    "    for mu, components in wc_rel.weight_components.items():\n",
    "\n",
    "        for b, n_tensor_u in phi_image.items():\n",
    "            new_mu = tuple(mu+factory.weight_dic[b])\n",
    "            if new_mu not in mu_source_counters:\n",
    "                mu_source_counters[new_mu]=0\n",
    "            sparse_relations = []\n",
    "            for comp_num, basis in components:\n",
    "                r = wc_rel.components[comp_num][1][1]\n",
    "                t_un_insert = None\n",
    "                t_g_insert = None\n",
    "                for c, comp_list in enumerate(wc_mod.components):\n",
    "                    if comp_list[1][1] == r:\n",
    "                        t_un_insert = c\n",
    "                    if comp_list[1][1] == r+1:\n",
    "                        t_g_insert = c\n",
    "\n",
    "                num_rows = len(basis)\n",
    "                num_u,num_g,num_n = (j-1+k//2-r,r,j-1-r)\n",
    "\n",
    "                basis_enum = np.arange(mu_source_counters[new_mu],mu_source_counters[new_mu]+num_rows,dtype=int).reshape((-1,1))\n",
    "                mu_source_counters[new_mu]+=num_rows\n",
    "\n",
    "\n",
    "                # Insert g\n",
    "                if t_g_insert is not None:\n",
    "                    new_basis = np.hstack([basis_enum,basis[:,:num_u],b*np.ones(shape=(num_rows,1),dtype=int),basis[:,num_u:]])\n",
    "                    sort_basis, signs, mask = sort_sign(new_basis[:,num_u+1:num_u+num_g+2])\n",
    "                    new_basis[:,num_u+1:num_u+num_g+2] = sort_basis\n",
    "                    new_basis = new_basis[mask]\n",
    "                    basis_g = np.zeros(shape=(len(new_basis),3), dtype=int)\n",
    "                    for row_num, (row, sign) in enumerate(zip(new_basis, signs[mask])):\n",
    "                        source = row[0]\n",
    "\n",
    "                        target = wc_mod.weight_comp_index_numbers[new_mu][tuple(list(row[1:])+[t_g_insert])]\n",
    "                        basis_g[row_num] = [source,target,sign]\n",
    "                    if len(basis_g)>0:\n",
    "                        sparse_relations.append(basis_g)\n",
    "\n",
    "                # Insert n_tensor_u\n",
    "                if t_un_insert is not None:\n",
    "                    for n,u,coeff in n_tensor_u:\n",
    "                        n_column = n*np.ones(shape=(num_rows,1),dtype=int)\n",
    "                        u_column = u*np.ones(shape=(num_rows,1),dtype=int)\n",
    "                        new_basis = np.hstack([basis_enum,u_column,basis[:,:num_u+num_g],n_column,basis[:,num_u+num_g:]])\n",
    "                        new_basis[:,1:num_u+2]=np.sort(new_basis[:,1:num_u+2])\n",
    "                        sort_basis, signs, mask = sort_sign(new_basis[:,num_u+num_g+2:])\n",
    "                        new_basis[:,num_u+num_g+2:]=sort_basis\n",
    "                        signs=coeff*signs[mask]\n",
    "                        new_basis = new_basis[mask]\n",
    "                        basis_un = np.zeros(shape=(len(new_basis),3), dtype=int)\n",
    "                        for row_num, (row, sign) in enumerate(zip(new_basis, signs)):\n",
    "                            source = row[0]\n",
    "                            target = wc_mod.weight_comp_index_numbers[new_mu][tuple(list(row[1:])+[t_un_insert])]\n",
    "                            basis_un[row_num] = [source,target,sign]\n",
    "                        if len(basis_un)>0:\n",
    "                            sparse_relations.append(basis_un)\n",
    "            if len(sparse_relations)>0:\n",
    "                if new_mu not in coker_dic:\n",
    "                    coker_dic[new_mu]=[]\n",
    "                coker_dic[new_mu]+=sparse_relations\n",
    "    coker_dic = {mu:cohomology.sort_merge(np.concatenate(rels)) for mu,rels in coker_dic.items()}\n",
    "\n",
    "    T=dict()\n",
    "    for mu,rels in coker_dic.items():\n",
    "        source_dim = mu_source_counters[mu]\n",
    "        target_dim = wc_mod.dimensions[mu]\n",
    "        sparse_dic = dict()\n",
    "        for source,target,coeff in rels:\n",
    "            sparse_dic[(source,target)]=coeff\n",
    "\n",
    "        M = matrix(ZZ,sparse_dic,nrows = source_dim, ncols = target_dim, sparse=True)\n",
    "        T[mu]=M.transpose().kernel().basis_matrix()\n",
    "    return T"
   ]
  },
  {
   "cell_type": "code",
   "execution_count": 16,
   "metadata": {},
   "outputs": [
    {
     "name": "stdout",
     "output_type": "stream",
     "text": [
      "(6, 0, -6)\n"
     ]
    },
    {
     "data": {
      "text/latex": [
       "$$\\mathrm H^{3}=\\mathbb{C}^{2}$$"
      ],
      "text/plain": [
       "<IPython.core.display.Math object>"
      ]
     },
     "metadata": {},
     "output_type": "display_data"
    }
   ],
   "source": [
    "BGG = BGGComplex('B2')\n",
    "s = 0\n",
    "i = 3\n",
    "j = 3\n",
    "k = s-i-j\n",
    "print(i+j,j-i,k)\n",
    "subset = []\n",
    "cohom = BGGCohomology(BGG, Mijk(BGG,i,j,k,subset=subset), coker=Tijk_basis(BGG, i,j,k,subset=subset))\n",
    "cohom.cohomology_LaTeX(i=i)"
   ]
  },
  {
   "cell_type": "code",
   "execution_count": 17,
   "metadata": {},
   "outputs": [],
   "source": [
    "def all_abijk(BGG,s=0,subset=[]):\n",
    "    dim_n = len(FastModuleFactory(BGG.LA).parabolic_n_basis(subset))\n",
    "    output = []\n",
    "    s_mod = s%2\n",
    "    a_max = dim_n+(1+s_mod)%2\n",
    "    for a_iterator in range(a_max):\n",
    "        a = 2*a_iterator+s_mod\n",
    "        for b in range(max(0,s-2*a),a+1):\n",
    "            if (a+b) % 2 == 0:\n",
    "                output.append((a,b,(a-b)//2,(a+b)//2,s-a))\n",
    "    return output\n",
    "\n",
    "def display_ab_dic(ab_dic):\n",
    "    a_set = set()\n",
    "    b_set = set()\n",
    "    for a,b in ab_dic.keys():\n",
    "        a_set.add(a)\n",
    "        b_set.add(b)\n",
    "    a_set = sorted(a_set)\n",
    "    b_set = sorted(b_set)\n",
    "    column_string = r'{r|' + ' '.join('l'*len(a_set))+r'}'\n",
    "    rows = list()\n",
    "    for a in a_set:\n",
    "        row_strings = [r'{\\scriptstyle i+j='+str(a)+r'}']\n",
    "        for b in b_set:\n",
    "            if (a,b) in ab_dic:\n",
    "                row_strings.append(ab_dic[(a,b)])\n",
    "            else:\n",
    "                row_strings.append('')\n",
    "        rows.append(r'&'.join(row_strings))\n",
    "    rows.append(r'\\hline h^{i,j}&'+ '&'.join([r'{\\scriptstyle j-i='+str(b)+r'}' for b in b_set]))\n",
    "    all_strings = r'\\\\'.join(rows)\n",
    "    display(Math(r'\\begin{array}'+column_string+all_strings+r'\\end{array}'))"
   ]
  },
  {
   "cell_type": "code",
   "execution_count": null,
   "metadata": {},
   "outputs": [],
   "source": [
    "BGG = BGGComplex('G2')\n",
    "ab_dic = dict()\n",
    "\n",
    "for a,b,i,j,k in all_abijk(BGG,s=0,subset=[]):\n",
    "    cohom = BGGCohomology(BGG, Mijk(BGG,i,j,k,subset=subset), coker=Tijk_basis(BGG, i,j,k,subset=subset))\n",
    "    cohom_string = cohom.cohomology_LaTeX(i=i,only_strings=True)\n",
    "    if cohom_string is None:\n",
    "        print(a,b,i,j,k)\n",
    "    ab_dic[(a,b)]=cohom_string\n",
    "\n",
    "display_ab_dic(ab_dic)"
   ]
  },
  {
   "cell_type": "code",
   "execution_count": null,
   "metadata": {},
   "outputs": [],
   "source": []
  }
 ],
 "metadata": {
  "kernelspec": {
   "display_name": "SageMath 8.9",
   "language": "sage",
   "name": "sagemath"
  },
  "language_info": {
   "codemirror_mode": {
    "name": "ipython",
    "version": 2
   },
   "file_extension": ".py",
   "mimetype": "text/x-python",
   "name": "python",
   "nbconvert_exporter": "python",
   "pygments_lexer": "ipython2",
   "version": "2.7.15"
  }
 },
 "nbformat": 4,
 "nbformat_minor": 2
}
