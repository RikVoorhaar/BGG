{
 "cells": [
  {
   "cell_type": "code",
   "execution_count": 1,
   "metadata": {},
   "outputs": [],
   "source": [
    "import sys\n",
    "sys.path.append('../bggcomplex')\n",
    "\n",
    "from bggcomplex import BGGComplex\n",
    "from fast_module import FastLieAlgebraCompositeModule, FastModuleFactory, BGGCohomology, WeightSet\n",
    "import cohomology\n",
    "import numpy as np"
   ]
  },
  {
   "cell_type": "code",
   "execution_count": 2,
   "metadata": {},
   "outputs": [
    {
     "data": {
      "text/latex": [
       "$$\\mathrm H^{1}=L\\left(\\alpha_{1}+ 2\\alpha_{2}\\right)^{2}$$"
      ],
      "text/plain": [
       "<IPython.core.display.Math object>"
      ]
     },
     "metadata": {},
     "output_type": "display_data"
    },
    {
     "data": {
      "text/latex": [
       "$$\\mathrm H^{2}=\\mathbb{C}^{2}\\oplus L\\left(\\alpha_{1}+\\alpha_{2}\\right)\\oplus L\\left(\\alpha_{1}+ 2\\alpha_{2}\\right)^{3}\\oplus L\\left( 2\\alpha_{1}+ 2\\alpha_{2}\\right)\\oplus L\\left( 2\\alpha_{1}+ 3\\alpha_{2}\\right)^{2}\\oplus L\\left( 2\\alpha_{1}+ 4\\alpha_{2}\\right)$$"
      ],
      "text/plain": [
       "<IPython.core.display.Math object>"
      ]
     },
     "metadata": {},
     "output_type": "display_data"
    }
   ],
   "source": [
    "BGG = BGGComplex('B2')\n",
    "factory = FastModuleFactory(BGG.LA)\n",
    "\n",
    "component_dic = {'b':factory.build_component('b','coad',subset=[]),'g':factory.build_component('g','coad',subset=[])\n",
    "                ,'u':factory.build_component('u','coad',subset=[]),'n':factory.build_component('n','coad',subset=[])}\n",
    "\n",
    "components = [[('u', 2, 'sym'), ('n', 3, 'wedge')],\n",
    " [('u', 1, 'sym'), ('g', 1, 'wedge'), ('n', 2, 'wedge')]]\n",
    "module = FastLieAlgebraCompositeModule(factory,components,component_dic)\n",
    "cohom = BGGCohomology(BGG, module)\n",
    "cohom.cohomology_LaTeX()"
   ]
  },
  {
   "cell_type": "code",
   "execution_count": 3,
   "metadata": {},
   "outputs": [
    {
     "data": {
      "text/latex": [
       "$$\\mathrm H^{0}=\\mathbb{C}\\oplus L\\left(\\alpha_{1}+\\alpha_{2}\\right)\\oplus L\\left(\\alpha_{1}+ 2\\alpha_{2}\\right)\\oplus L\\left( 2\\alpha_{1}+ 2\\alpha_{2}\\right)\\oplus L\\left( 2\\alpha_{1}+ 3\\alpha_{2}\\right)\\oplus L\\left( 2\\alpha_{1}+ 4\\alpha_{2}\\right)$$"
      ],
      "text/plain": [
       "<IPython.core.display.Math object>"
      ]
     },
     "metadata": {},
     "output_type": "display_data"
    },
    {
     "name": "stdout",
     "output_type": "stream",
     "text": [
      "----------\n"
     ]
    },
    {
     "data": {
      "text/latex": [
       "$$\\mathrm H^{0}=\\mathbb{C}^{2}\\oplus L\\left(\\alpha_{1}+\\alpha_{2}\\right)^{2}\\oplus L\\left(\\alpha_{1}+ 2\\alpha_{2}\\right)^{2}\\oplus L\\left( 2\\alpha_{1}+ 2\\alpha_{2}\\right)^{2}\\oplus L\\left( 2\\alpha_{1}+ 3\\alpha_{2}\\right)^{2}\\oplus L\\left( 2\\alpha_{1}+ 4\\alpha_{2}\\right)^{2}$$"
      ],
      "text/plain": [
       "<IPython.core.display.Math object>"
      ]
     },
     "metadata": {},
     "output_type": "display_data"
    }
   ],
   "source": [
    "BGG = BGGComplex('B2')\n",
    "factory = FastModuleFactory(BGG.LA)\n",
    "\n",
    "\n",
    "component_dic = {'b':factory.build_component('g','coad',subset=[])}\n",
    "\n",
    "components = [[('b',2,'wedge')],[('b',2,'sym')]]\n",
    "module = FastLieAlgebraCompositeModule(factory,components,component_dic)\n",
    "cohom = BGGCohomology(BGG, module)\n",
    "cohom.cohomology_LaTeX()\n",
    "print('-'*10)\n",
    "\n",
    "components = [[('b',1,'wedge')]*2]*2\n",
    "module = FastLieAlgebraCompositeModule(factory,components,component_dic)\n",
    "cohom = BGGCohomology(BGG, module)\n",
    "cohom.cohomology_LaTeX()"
   ]
  },
  {
   "cell_type": "code",
   "execution_count": 4,
   "metadata": {},
   "outputs": [],
   "source": [
    "BGG = BGGComplex('G2')\n",
    "factory = FastModuleFactory(BGG.LA)\n",
    "\n",
    "component_dic = {'b':factory.build_component('g','coad',subset=[])}"
   ]
  },
  {
   "cell_type": "code",
   "execution_count": 5,
   "metadata": {},
   "outputs": [],
   "source": [
    "components1 = [[(\"b\",2,'wedge')]]\n",
    "module1 = FastLieAlgebraCompositeModule(factory,components1,component_dic)\n",
    "\n",
    "components2 = [[(\"b\",1,'wedge')]*2]*2\n",
    "module2 = FastLieAlgebraCompositeModule(factory,components2,component_dic)\n",
    "\n",
    "components3 = [[(\"b\",2,'sym')]]\n",
    "module3 = FastLieAlgebraCompositeModule(factory,components3,component_dic)\n",
    "\n",
    "module2.weight_components;"
   ]
  },
  {
   "cell_type": "code",
   "execution_count": 6,
   "metadata": {
    "scrolled": true
   },
   "outputs": [
    {
     "data": {
      "text/plain": [
       "{(-6, -3): [1 1 0 0]\n",
       " [0 0 1 1], (-5, -3): [1 1 0 0]\n",
       " [0 0 1 1], (-5, -2): [1 1 0 0]\n",
       " [0 0 1 1], (-4, -3): [1 1 0 0]\n",
       " [0 0 1 1], (-4, -2): [1 0 0 0 1 0 0 0 0 0]\n",
       " [0 1 0 1 0 0 0 0 0 0]\n",
       " [0 0 1 0 0 0 0 0 0 0]\n",
       " [0 0 0 0 0 1 0 0 0 1]\n",
       " [0 0 0 0 0 0 1 0 1 0]\n",
       " [0 0 0 0 0 0 0 1 0 0], (-4, -1): [1 1 0 0]\n",
       " [0 0 1 1], (-3, -3): [1 1 0 0]\n",
       " [0 0 1 1], (-3, -2): [1 0 0 0 0 0 1 0 0 0 0 0 0 0 0 0]\n",
       " [0 1 0 0 0 0 0 1 0 0 0 0 0 0 0 0]\n",
       " [0 0 1 0 0 1 0 0 0 0 0 0 0 0 0 0]\n",
       " [0 0 0 1 1 0 0 0 0 0 0 0 0 0 0 0]\n",
       " [0 0 0 0 0 0 0 0 1 0 0 0 0 0 1 0]\n",
       " [0 0 0 0 0 0 0 0 0 1 0 0 0 0 0 1]\n",
       " [0 0 0 0 0 0 0 0 0 0 1 0 0 1 0 0]\n",
       " [0 0 0 0 0 0 0 0 0 0 0 1 1 0 0 0], (-3, -1): [1 0 0 0 0 0 0 1 0 0 0 0 0 0 0 0]\n",
       " [0 1 0 0 0 1 0 0 0 0 0 0 0 0 0 0]\n",
       " [0 0 1 0 0 0 1 0 0 0 0 0 0 0 0 0]\n",
       " [0 0 0 1 1 0 0 0 0 0 0 0 0 0 0 0]\n",
       " [0 0 0 0 0 0 0 0 1 0 0 0 0 0 0 1]\n",
       " [0 0 0 0 0 0 0 0 0 1 0 0 0 1 0 0]\n",
       " [0 0 0 0 0 0 0 0 0 0 1 0 0 0 1 0]\n",
       " [0 0 0 0 0 0 0 0 0 0 0 1 1 0 0 0], (-3, 0): [1 1 0 0]\n",
       " [0 0 1 1], (-2, -2): [1 0 0 0 1 0 0 0 0 0]\n",
       " [0 1 0 1 0 0 0 0 0 0]\n",
       " [0 0 1 0 0 0 0 0 0 0]\n",
       " [0 0 0 0 0 1 0 0 0 1]\n",
       " [0 0 0 0 0 0 1 0 1 0]\n",
       " [0 0 0 0 0 0 0 1 0 0], (-2, -1): [1 0 0 0 0 0 0 0 1 0 0 0 0 0 0 0 0 0 0 0]\n",
       " [0 1 0 0 0 0 0 0 0 1 0 0 0 0 0 0 0 0 0 0]\n",
       " [0 0 1 0 0 0 1 0 0 0 0 0 0 0 0 0 0 0 0 0]\n",
       " [0 0 0 1 0 0 0 1 0 0 0 0 0 0 0 0 0 0 0 0]\n",
       " [0 0 0 0 1 1 0 0 0 0 0 0 0 0 0 0 0 0 0 0]\n",
       " [0 0 0 0 0 0 0 0 0 0 1 0 0 0 0 0 0 0 1 0]\n",
       " [0 0 0 0 0 0 0 0 0 0 0 1 0 0 0 0 0 0 0 1]\n",
       " [0 0 0 0 0 0 0 0 0 0 0 0 1 0 0 0 1 0 0 0]\n",
       " [0 0 0 0 0 0 0 0 0 0 0 0 0 1 0 0 0 1 0 0]\n",
       " [0 0 0 0 0 0 0 0 0 0 0 0 0 0 1 1 0 0 0 0], (-2, 0): [1 0 0 1 0 0 0 0 0 0]\n",
       " [0 1 0 0 1 0 0 0 0 0]\n",
       " [0 0 1 0 0 0 0 0 0 0]\n",
       " [0 0 0 0 0 1 0 0 1 0]\n",
       " [0 0 0 0 0 0 1 0 0 1]\n",
       " [0 0 0 0 0 0 0 1 0 0], (-1, -2): [1 1 0 0]\n",
       " [0 0 1 1], (-1, -1): [1 0 0 0 0 0 0 0 0 1 0 0 0 0 0 0 0 0 0 0]\n",
       " [0 1 0 0 0 0 0 0 1 0 0 0 0 0 0 0 0 0 0 0]\n",
       " [0 0 1 0 0 0 1 0 0 0 0 0 0 0 0 0 0 0 0 0]\n",
       " [0 0 0 1 0 0 0 1 0 0 0 0 0 0 0 0 0 0 0 0]\n",
       " [0 0 0 0 1 1 0 0 0 0 0 0 0 0 0 0 0 0 0 0]\n",
       " [0 0 0 0 0 0 0 0 0 0 1 0 0 0 0 0 0 0 0 1]\n",
       " [0 0 0 0 0 0 0 0 0 0 0 1 0 0 0 0 0 0 1 0]\n",
       " [0 0 0 0 0 0 0 0 0 0 0 0 1 0 0 0 1 0 0 0]\n",
       " [0 0 0 0 0 0 0 0 0 0 0 0 0 1 0 0 0 1 0 0]\n",
       " [0 0 0 0 0 0 0 0 0 0 0 0 0 0 1 1 0 0 0 0], (-1,\n",
       "  0): [1 0 0 0 0 0 0 0 0 1 0 0 0 0 0 0 0 0 0 0]\n",
       " [0 1 0 0 0 0 0 1 0 0 0 0 0 0 0 0 0 0 0 0]\n",
       " [0 0 1 0 0 0 0 0 1 0 0 0 0 0 0 0 0 0 0 0]\n",
       " [0 0 0 1 0 1 0 0 0 0 0 0 0 0 0 0 0 0 0 0]\n",
       " [0 0 0 0 1 0 1 0 0 0 0 0 0 0 0 0 0 0 0 0]\n",
       " [0 0 0 0 0 0 0 0 0 0 1 0 0 0 0 0 0 0 0 1]\n",
       " [0 0 0 0 0 0 0 0 0 0 0 1 0 0 0 0 0 1 0 0]\n",
       " [0 0 0 0 0 0 0 0 0 0 0 0 1 0 0 0 0 0 1 0]\n",
       " [0 0 0 0 0 0 0 0 0 0 0 0 0 1 0 1 0 0 0 0]\n",
       " [0 0 0 0 0 0 0 0 0 0 0 0 0 0 1 0 1 0 0 0], (-1, 1): [1 1 0 0]\n",
       " [0 0 1 1], (0, -1): [1 0 0 0 0 0 0 1 0 0 0 0 0 0 0 0]\n",
       " [0 1 0 0 0 0 1 0 0 0 0 0 0 0 0 0]\n",
       " [0 0 1 0 1 0 0 0 0 0 0 0 0 0 0 0]\n",
       " [0 0 0 1 0 1 0 0 0 0 0 0 0 0 0 0]\n",
       " [0 0 0 0 0 0 0 0 1 0 0 0 0 0 0 1]\n",
       " [0 0 0 0 0 0 0 0 0 1 0 0 0 0 1 0]\n",
       " [0 0 0 0 0 0 0 0 0 0 1 0 1 0 0 0]\n",
       " [0 0 0 0 0 0 0 0 0 0 0 1 0 1 0 0], (0,\n",
       "  0): [1 0 0 0 0 0 0 0 0 0 0 0 0 0 1 0 0 0 0 0 0 0 0 0 0 0 0 0 0 0 0 0]\n",
       " [0 1 0 0 0 0 0 0 0 0 0 0 0 0 0 1 0 0 0 0 0 0 0 0 0 0 0 0 0 0 0 0]\n",
       " [0 0 1 0 0 0 0 0 0 0 0 0 0 1 0 0 0 0 0 0 0 0 0 0 0 0 0 0 0 0 0 0]\n",
       " [0 0 0 1 0 0 0 0 0 0 1 0 0 0 0 0 0 0 0 0 0 0 0 0 0 0 0 0 0 0 0 0]\n",
       " [0 0 0 0 1 0 0 0 0 0 0 0 1 0 0 0 0 0 0 0 0 0 0 0 0 0 0 0 0 0 0 0]\n",
       " [0 0 0 0 0 1 0 0 0 0 0 1 0 0 0 0 0 0 0 0 0 0 0 0 0 0 0 0 0 0 0 0]\n",
       " [0 0 0 0 0 0 1 0 0 0 0 0 0 0 0 0 0 0 0 0 0 0 0 0 0 0 0 0 0 0 0 0]\n",
       " [0 0 0 0 0 0 0 1 1 0 0 0 0 0 0 0 0 0 0 0 0 0 0 0 0 0 0 0 0 0 0 0]\n",
       " [0 0 0 0 0 0 0 0 0 1 0 0 0 0 0 0 0 0 0 0 0 0 0 0 0 0 0 0 0 0 0 0]\n",
       " [0 0 0 0 0 0 0 0 0 0 0 0 0 0 0 0 1 0 0 0 0 0 0 0 0 0 0 0 0 0 1 0]\n",
       " [0 0 0 0 0 0 0 0 0 0 0 0 0 0 0 0 0 1 0 0 0 0 0 0 0 0 0 0 0 0 0 1]\n",
       " [0 0 0 0 0 0 0 0 0 0 0 0 0 0 0 0 0 0 1 0 0 0 0 0 0 0 0 0 0 1 0 0]\n",
       " [0 0 0 0 0 0 0 0 0 0 0 0 0 0 0 0 0 0 0 1 0 0 0 0 0 0 1 0 0 0 0 0]\n",
       " [0 0 0 0 0 0 0 0 0 0 0 0 0 0 0 0 0 0 0 0 1 0 0 0 0 0 0 0 1 0 0 0]\n",
       " [0 0 0 0 0 0 0 0 0 0 0 0 0 0 0 0 0 0 0 0 0 1 0 0 0 0 0 1 0 0 0 0]\n",
       " [0 0 0 0 0 0 0 0 0 0 0 0 0 0 0 0 0 0 0 0 0 0 1 0 0 0 0 0 0 0 0 0]\n",
       " [0 0 0 0 0 0 0 0 0 0 0 0 0 0 0 0 0 0 0 0 0 0 0 1 1 0 0 0 0 0 0 0]\n",
       " [0 0 0 0 0 0 0 0 0 0 0 0 0 0 0 0 0 0 0 0 0 0 0 0 0 1 0 0 0 0 0 0], (0,\n",
       "  1): [1 0 0 0 0 0 0 1 0 0 0 0 0 0 0 0]\n",
       " [0 1 0 0 1 0 0 0 0 0 0 0 0 0 0 0]\n",
       " [0 0 1 0 0 1 0 0 0 0 0 0 0 0 0 0]\n",
       " [0 0 0 1 0 0 1 0 0 0 0 0 0 0 0 0]\n",
       " [0 0 0 0 0 0 0 0 1 0 0 0 0 0 0 1]\n",
       " [0 0 0 0 0 0 0 0 0 1 0 0 1 0 0 0]\n",
       " [0 0 0 0 0 0 0 0 0 0 1 0 0 1 0 0]\n",
       " [0 0 0 0 0 0 0 0 0 0 0 1 0 0 1 0], (1, -1): [1 1 0 0]\n",
       " [0 0 1 1], (1, 0): [1 0 0 0 0 0 0 0 0 1 0 0 0 0 0 0 0 0 0 0]\n",
       " [0 1 0 0 0 0 0 0 1 0 0 0 0 0 0 0 0 0 0 0]\n",
       " [0 0 1 0 0 1 0 0 0 0 0 0 0 0 0 0 0 0 0 0]\n",
       " [0 0 0 1 0 0 1 0 0 0 0 0 0 0 0 0 0 0 0 0]\n",
       " [0 0 0 0 1 0 0 1 0 0 0 0 0 0 0 0 0 0 0 0]\n",
       " [0 0 0 0 0 0 0 0 0 0 1 0 0 0 0 0 0 0 0 1]\n",
       " [0 0 0 0 0 0 0 0 0 0 0 1 0 0 0 0 0 0 1 0]\n",
       " [0 0 0 0 0 0 0 0 0 0 0 0 1 0 0 1 0 0 0 0]\n",
       " [0 0 0 0 0 0 0 0 0 0 0 0 0 1 0 0 1 0 0 0]\n",
       " [0 0 0 0 0 0 0 0 0 0 0 0 0 0 1 0 0 1 0 0], (1,\n",
       "  1): [1 0 0 0 0 0 0 0 0 1 0 0 0 0 0 0 0 0 0 0]\n",
       " [0 1 0 0 0 0 0 0 1 0 0 0 0 0 0 0 0 0 0 0]\n",
       " [0 0 1 0 1 0 0 0 0 0 0 0 0 0 0 0 0 0 0 0]\n",
       " [0 0 0 1 0 1 0 0 0 0 0 0 0 0 0 0 0 0 0 0]\n",
       " [0 0 0 0 0 0 1 1 0 0 0 0 0 0 0 0 0 0 0 0]\n",
       " [0 0 0 0 0 0 0 0 0 0 1 0 0 0 0 0 0 0 0 1]\n",
       " [0 0 0 0 0 0 0 0 0 0 0 1 0 0 0 0 0 0 1 0]\n",
       " [0 0 0 0 0 0 0 0 0 0 0 0 1 0 1 0 0 0 0 0]\n",
       " [0 0 0 0 0 0 0 0 0 0 0 0 0 1 0 1 0 0 0 0]\n",
       " [0 0 0 0 0 0 0 0 0 0 0 0 0 0 0 0 1 1 0 0], (1, 2): [1 1 0 0]\n",
       " [0 0 1 1], (2, 0): [1 0 0 0 1 0 0 0 0 0]\n",
       " [0 1 0 1 0 0 0 0 0 0]\n",
       " [0 0 1 0 0 0 0 0 0 0]\n",
       " [0 0 0 0 0 1 0 0 0 1]\n",
       " [0 0 0 0 0 0 1 0 1 0]\n",
       " [0 0 0 0 0 0 0 1 0 0], (2, 1): [1 0 0 0 0 0 0 0 1 0 0 0 0 0 0 0 0 0 0 0]\n",
       " [0 1 0 0 0 0 0 0 0 1 0 0 0 0 0 0 0 0 0 0]\n",
       " [0 0 1 0 0 0 1 0 0 0 0 0 0 0 0 0 0 0 0 0]\n",
       " [0 0 0 1 0 0 0 1 0 0 0 0 0 0 0 0 0 0 0 0]\n",
       " [0 0 0 0 1 1 0 0 0 0 0 0 0 0 0 0 0 0 0 0]\n",
       " [0 0 0 0 0 0 0 0 0 0 1 0 0 0 0 0 0 0 1 0]\n",
       " [0 0 0 0 0 0 0 0 0 0 0 1 0 0 0 0 0 0 0 1]\n",
       " [0 0 0 0 0 0 0 0 0 0 0 0 1 0 0 0 1 0 0 0]\n",
       " [0 0 0 0 0 0 0 0 0 0 0 0 0 1 0 0 0 1 0 0]\n",
       " [0 0 0 0 0 0 0 0 0 0 0 0 0 0 1 1 0 0 0 0], (2, 2): [1 0 0 0 1 0 0 0 0 0]\n",
       " [0 1 0 0 0 0 0 0 0 0]\n",
       " [0 0 1 1 0 0 0 0 0 0]\n",
       " [0 0 0 0 0 1 0 0 0 1]\n",
       " [0 0 0 0 0 0 1 0 0 0]\n",
       " [0 0 0 0 0 0 0 1 1 0], (3, 0): [1 1 0 0]\n",
       " [0 0 1 1], (3, 1): [1 0 0 0 0 1 0 0 0 0 0 0 0 0 0 0]\n",
       " [0 1 0 0 0 0 1 0 0 0 0 0 0 0 0 0]\n",
       " [0 0 1 0 0 0 0 1 0 0 0 0 0 0 0 0]\n",
       " [0 0 0 1 1 0 0 0 0 0 0 0 0 0 0 0]\n",
       " [0 0 0 0 0 0 0 0 1 0 0 0 0 1 0 0]\n",
       " [0 0 0 0 0 0 0 0 0 1 0 0 0 0 1 0]\n",
       " [0 0 0 0 0 0 0 0 0 0 1 0 0 0 0 1]\n",
       " [0 0 0 0 0 0 0 0 0 0 0 1 1 0 0 0], (3, 2): [1 0 0 0 0 1 0 0 0 0 0 0 0 0 0 0]\n",
       " [0 1 0 0 0 0 1 0 0 0 0 0 0 0 0 0]\n",
       " [0 0 1 0 1 0 0 0 0 0 0 0 0 0 0 0]\n",
       " [0 0 0 1 0 0 0 1 0 0 0 0 0 0 0 0]\n",
       " [0 0 0 0 0 0 0 0 1 0 0 0 0 1 0 0]\n",
       " [0 0 0 0 0 0 0 0 0 1 0 0 0 0 1 0]\n",
       " [0 0 0 0 0 0 0 0 0 0 1 0 1 0 0 0]\n",
       " [0 0 0 0 0 0 0 0 0 0 0 1 0 0 0 1], (3, 3): [1 1 0 0]\n",
       " [0 0 1 1], (4, 1): [1 1 0 0]\n",
       " [0 0 1 1], (4, 2): [1 0 0 0 1 0 0 0 0 0]\n",
       " [0 1 0 1 0 0 0 0 0 0]\n",
       " [0 0 1 0 0 0 0 0 0 0]\n",
       " [0 0 0 0 0 1 0 0 0 1]\n",
       " [0 0 0 0 0 0 1 0 1 0]\n",
       " [0 0 0 0 0 0 0 1 0 0], (4, 3): [1 1 0 0]\n",
       " [0 0 1 1], (5, 2): [1 1 0 0]\n",
       " [0 0 1 1], (5, 3): [1 1 0 0]\n",
       " [0 0 1 1], (6, 3): [1 1 0 0]\n",
       " [0 0 1 1]}"
      ]
     },
     "execution_count": 6,
     "metadata": {},
     "output_type": "execute_result"
    }
   ],
   "source": [
    "from sympy.utilities.iterables import multiset_permutations\n",
    "from sympy.combinatorics.permutations import Permutation\n",
    "T = dict()\n",
    "for mu in module1.weight_components.keys():\n",
    "    comp = module1.weight_components[mu][0][1]\n",
    "    sparse_mat = dict()\n",
    "    for wedge_index, wedge_row in enumerate(comp):\n",
    "        perms = list(multiset_permutations(wedge_row))\n",
    "        perms_standard = list(multiset_permutations(range(len(wedge_row))))\n",
    "        signs = [Permutation(p).signature() for p in perms_standard]\n",
    "        perm_dic={tuple(p):s for p,s in zip(perms,signs)}\n",
    "\n",
    "\n",
    "        comp2 = module2.weight_components[mu][0][1]\n",
    "        for j,row in enumerate(comp2):\n",
    "            if tuple(row) in perm_dic:\n",
    "                sparse_mat[(wedge_index,j)]= perm_dic[tuple(row)]\n",
    "    M = matrix(ZZ,sparse_mat,nrows = len(comp), ncols = len(comp2), sparse=True)\n",
    "    T[mu]=M.transpose().kernel().basis_matrix()\n",
    "    L = np.array(T[mu])\n",
    "    zero = np.zeros_like(L)\n",
    "    T[mu] = Matrix(np.vstack([\n",
    "        np.hstack([L,zero]),\n",
    "        np.hstack([zero,L])\n",
    "    ]))\n",
    "T"
   ]
  },
  {
   "cell_type": "code",
   "execution_count": 7,
   "metadata": {
    "scrolled": false
   },
   "outputs": [
    {
     "data": {
      "text/latex": [
       "$$\\mathrm H^{0}=\\mathbb{C}^{2}\\oplus L\\left( 4\\alpha_{1}+ 2\\alpha_{2}\\right)^{2}\\oplus L\\left( 6\\alpha_{1}+ 4\\alpha_{2}\\right)^{2}$$"
      ],
      "text/plain": [
       "<IPython.core.display.Math object>"
      ]
     },
     "metadata": {},
     "output_type": "display_data"
    }
   ],
   "source": [
    "cohom = BGGCohomology(BGG, module2, coker=T)\n",
    "cohom.cohomology_LaTeX()"
   ]
  },
  {
   "cell_type": "code",
   "execution_count": 8,
   "metadata": {},
   "outputs": [
    {
     "data": {
      "text/latex": [
       "$$\\mathrm H^{0}=\\mathbb{C}\\oplus L\\left( 4\\alpha_{1}+ 2\\alpha_{2}\\right)\\oplus L\\left( 6\\alpha_{1}+ 4\\alpha_{2}\\right)$$"
      ],
      "text/plain": [
       "<IPython.core.display.Math object>"
      ]
     },
     "metadata": {},
     "output_type": "display_data"
    }
   ],
   "source": [
    "cohom = BGGCohomology(BGG, module3)\n",
    "cohom.cohomology_LaTeX()"
   ]
  },
  {
   "cell_type": "markdown",
   "metadata": {},
   "source": [
    "## Quantum center"
   ]
  },
  {
   "cell_type": "code",
   "execution_count": 9,
   "metadata": {},
   "outputs": [
    {
     "data": {
      "text/plain": [
       "6"
      ]
     },
     "execution_count": 9,
     "metadata": {},
     "output_type": "execute_result"
    }
   ],
   "source": [
    "len(factory.basis['u'])"
   ]
  },
  {
   "cell_type": "code",
   "execution_count": 15,
   "metadata": {},
   "outputs": [],
   "source": [
    "s = 1\n",
    "i = 0\n",
    "j = 3\n",
    "k = s-i-j\n",
    "\n",
    "BGG = BGGComplex('A3')\n",
    "def Mijk(BGG,i,j,k):\n",
    "    factory = FastModuleFactory(BGG.LA)\n",
    "\n",
    "    component_dic = {'b':factory.build_component('b','coad',subset=[]),'u':factory.build_component('u','coad',subset=[]),\n",
    "                    'g':factory.build_component('g','coad',subset=[]),'n':factory.build_component('n','coad',subset=[])}\n",
    "    \n",
    "    dim_u = len(factory.basis['u'])\n",
    "    dim_n = len(factory.basis['n'])\n",
    "    dim_g = len(factory.g_basis)\n",
    "    \n",
    "    components = []\n",
    "    for r in range(j+k//2+1):\n",
    "        if (j-r<=dim_n):\n",
    "            components.append([('u',j+k//2-r,'sym'),('g',r,'wedge'),('n',j-r,'wedge')])\n",
    "\n",
    "    module = FastLieAlgebraCompositeModule(factory,components,component_dic)\n",
    "    \n",
    "    return module"
   ]
  },
  {
   "cell_type": "code",
   "execution_count": 16,
   "metadata": {},
   "outputs": [
    {
     "data": {
      "text/plain": [
       "(array([[3, 3],\n",
       "        [2, 3],\n",
       "        [3, 3]]), array([ 1, -1,  1]), array([False,  True, False]))"
      ]
     },
     "execution_count": 16,
     "metadata": {},
     "output_type": "execute_result"
    }
   ],
   "source": [
    "def sort_sign(A):\n",
    "    num_cols = A.shape[1]\n",
    "    if num_cols>1:\n",
    "        signs=(-1)**(sum([(A[:,0]<A[:,i]) for i in range(1,num_cols)])%2)\n",
    "        mask=sum([(A[:,0]==A[:,i]) for i in range(1,num_cols)])==0\n",
    "        return (np.sort(A),signs,mask)\n",
    "    else:\n",
    "        return (A,np.ones(len(A),dtype=int),np.ones(len(A),dtype=bool))\n",
    "sort_sign(np.array([[3,3],[2,3],[3,3]]))"
   ]
  },
  {
   "cell_type": "markdown",
   "metadata": {},
   "source": [
    "right, but this completely disregards the presence of phi... it's not the direct sum of maps from g tensor stuff and u+n tensor stuff, but rather from b tensor stuff, under the map phi!"
   ]
  },
  {
   "cell_type": "markdown",
   "metadata": {},
   "source": [
    "coker_dic = dict()\n",
    "for r in range(j-1+k//2+1):\n",
    "    coker_dic[r+1]=dict()\n",
    "    num_u = j-1+k//2-r\n",
    "    total_num = 2*j+k//2-r-1\n",
    "    col_permution = range(1,num_u+1)+[0]+range(num_u+1,total_num)\n",
    "    for mu,comp in module_g.weight_components.items():\n",
    "        for comp_num, basis in comp:\n",
    "            if comp_num==r:\n",
    "                new_basis = basis[:,col_permution]\n",
    "                g_sort, signs, mask = sort_sign(new_basis[:,num_u:num_u+1+r])\n",
    "                new_basis[:,num_u:num_u+1+r] = g_sort\n",
    "                new_basis = new_basis[mask]\n",
    "\n",
    "                if len(new_basis)>0:\n",
    "                    for m,b in module.weight_components[mu]:\n",
    "                        if m == r+1:\n",
    "                            target_dic = {tuple(row):i for i,row in enumerate(b)}\n",
    "                            coker_dic[r+1][mu]= [(target_dic[tuple(row)],sign) \n",
    "                                                 for row, sign in zip(new_basis,signs) if sign!=0]"
   ]
  },
  {
   "cell_type": "markdown",
   "metadata": {},
   "source": [
    "### def of phi\n",
    "\n",
    "So we have $\\phi\\colon\\mathfrak b\\to \\operatorname{End}(\\mathfrak u)\\cong \\mathfrak n\\otimes \\mathfrak u$ given by the coadjoint action. We write this as a dict\n",
    ">element of b -> [[element of n, element of u, coefficient],...] \n",
    "\n",
    "This then also gives the map $\\mathfrak b\\to \\mathfrak g\\oplus\\mathfrak n\\otimes\\mathfrak u$"
   ]
  },
  {
   "cell_type": "code",
   "execution_count": 17,
   "metadata": {
    "scrolled": true
   },
   "outputs": [],
   "source": [
    "def compute_phi(BGG):\n",
    "    factory = FastModuleFactory(BGG.LA)\n",
    "    \n",
    "    component_dic = {'u':factory.build_component('u','coad',subset=[])}\n",
    "    components_phi = [[('u',1,'wedge')]]\n",
    "    \n",
    "    module_phi = FastLieAlgebraCompositeModule(factory,components_phi,component_dic)\n",
    "    \n",
    "    b_basis = factory.parabolic_p_basis(None)\n",
    "    u_basis = factory.parabolic_u_basis(None)\n",
    "    coad_dic = factory.coadjoint_action_tensor(b_basis,u_basis)\n",
    "    \n",
    "    phi_image = {b:[] for b in b_basis}\n",
    "    for (b,u),n_dic in coad_dic.items():\n",
    "        n,coeff = n_dic.items()[0]\n",
    "        phi_image[b].append(np.array([factory.dual_root_dict[u],n,coeff]))\n",
    "    \n",
    "    for b in phi_image.keys():\n",
    "        img = phi_image[b]\n",
    "        if len(img)>0:\n",
    "            phi_image[b]=np.vstack(img)\n",
    "        else:\n",
    "            phi_image[b]=[]\n",
    "    return phi_image"
   ]
  },
  {
   "cell_type": "code",
   "execution_count": null,
   "metadata": {},
   "outputs": [],
   "source": []
  },
  {
   "cell_type": "code",
   "execution_count": 18,
   "metadata": {},
   "outputs": [],
   "source": [
    "\n",
    "def Tijk_basis(BGG,i,j,k):\n",
    "    factory = FastModuleFactory(BGG.LA)\n",
    "    wc_mod = Mijk(BGG,i,j,k)\n",
    "    wc_rel = Mijk(BGG,i,j-1,k)\n",
    "    \n",
    "    coker_dic = dict()\n",
    "    mu_source_counters = dict()\n",
    "    \n",
    "    phi_image = compute_phi(BGG)\n",
    "    \n",
    "    for mu, components in wc_rel.weight_components.items():\n",
    "\n",
    "        for b, n_tensor_u in phi_image.items():\n",
    "            new_mu = tuple(mu+factory.weight_dic[b])\n",
    "            if new_mu not in mu_source_counters:\n",
    "                mu_source_counters[new_mu]=0\n",
    "            sparse_relations = []\n",
    "            for comp_num, basis in components:\n",
    "                r = wc_rel.components[comp_num][1][1]\n",
    "                t_un_insert = None\n",
    "                t_g_insert = None\n",
    "                for c, comp_list in enumerate(wc_mod.components):\n",
    "                    if comp_list[1][1] == r:\n",
    "                        t_un_insert = c\n",
    "                    if comp_list[1][1] == r+1:\n",
    "                        t_g_insert = c\n",
    "\n",
    "                num_rows = len(basis)\n",
    "                num_u,num_g,num_n = (j-1+k//2-r,r,j-1-r)\n",
    "\n",
    "                basis_enum = np.arange(mu_source_counters[new_mu],mu_source_counters[new_mu]+num_rows,dtype=int).reshape((-1,1))\n",
    "                mu_source_counters[new_mu]+=num_rows\n",
    "\n",
    "\n",
    "                # Insert g\n",
    "                if t_g_insert is not None:\n",
    "                    new_basis = np.hstack([basis_enum,basis[:,:num_u],b*np.ones(shape=(num_rows,1),dtype=int),basis[:,num_u:]])\n",
    "                    sort_basis, signs, mask = sort_sign(new_basis[:,num_u+1:num_u+num_g+2])\n",
    "                    new_basis[:,num_u+1:num_u+num_g+2] = sort_basis\n",
    "                    new_basis = new_basis[mask]\n",
    "                    basis_g = np.zeros(shape=(len(new_basis),3), dtype=int)\n",
    "                    for row_num, (row, sign) in enumerate(zip(new_basis, signs[mask])):\n",
    "                        source = row[0]\n",
    "\n",
    "                        target = wc_mod.weight_comp_index_numbers[new_mu][tuple(list(row[1:])+[t_g_insert])]\n",
    "                        basis_g[row_num] = [source,target,sign]\n",
    "                    if len(basis_g)>0:\n",
    "                        sparse_relations.append(basis_g)\n",
    "\n",
    "                # Insert n_tensor_u\n",
    "                if t_un_insert is not None:\n",
    "                    for n,u,coeff in n_tensor_u:\n",
    "                        n_column = n*np.ones(shape=(num_rows,1),dtype=int)\n",
    "                        u_column = u*np.ones(shape=(num_rows,1),dtype=int)\n",
    "                        new_basis = np.hstack([basis_enum,u_column,basis[:,:num_u+num_g],n_column,basis[:,num_u+num_g:]])\n",
    "                        new_basis[:,1:num_u+2]=np.sort(new_basis[:,1:num_u+2])\n",
    "                        sort_basis, signs, mask = sort_sign(new_basis[:,num_u+num_g+2:])\n",
    "                        new_basis[:,num_u+num_g+2:]=sort_basis\n",
    "                        signs=coeff*signs[mask]\n",
    "                        new_basis = new_basis[mask]\n",
    "                        basis_un = np.zeros(shape=(len(new_basis),3), dtype=int)\n",
    "                        for row_num, (row, sign) in enumerate(zip(new_basis, signs)):\n",
    "                            source = row[0]\n",
    "                            target = wc_mod.weight_comp_index_numbers[new_mu][tuple(list(row[1:])+[t_un_insert])]\n",
    "                            basis_un[row_num] = [source,target,sign]\n",
    "                        if len(basis_un)>0:\n",
    "                            sparse_relations.append(basis_un)\n",
    "            if len(sparse_relations)>0:\n",
    "                if new_mu not in coker_dic:\n",
    "                    coker_dic[new_mu]=[]\n",
    "                coker_dic[new_mu]+=sparse_relations\n",
    "    coker_dic = {mu:cohomology.sort_merge(np.concatenate(rels)) for mu,rels in coker_dic.items()}\n",
    "\n",
    "    T=dict()\n",
    "    for mu,rels in coker_dic.items():\n",
    "        source_dim = mu_source_counters[mu]\n",
    "        target_dim = wc_mod.dimensions[mu]\n",
    "        sparse_dic = dict()\n",
    "        for source,target,coeff in rels:\n",
    "            sparse_dic[(source,target)]=coeff\n",
    "\n",
    "        M = matrix(ZZ,sparse_dic,nrows = source_dim, ncols = target_dim, sparse=True)\n",
    "        T[mu]=M.transpose().kernel().basis_matrix()\n",
    "    return T"
   ]
  },
  {
   "cell_type": "markdown",
   "metadata": {},
   "source": [
    "problem in the algorithm:\n",
    "the source basis of cohomology computation is still assumed to be that of direct sum decomposition, but this is not actually the case. \n",
    "\n",
    "solution:\n",
    "we build two dictionaries. One sending an index + direct_sum_component_number to an index of the entire weight component.\n",
    "The other sends a row+direct_sum_component_number to the index of the weight component. This dictionary is already used in two instances. \n",
    "Then we only do the direct sum source/target component shifting when there is no cokernel\n",
    "\n",
    "Moreover the current method of using the maximum is not desirable either for `comp_offset_s`. If we have multiple arrows with same source, but different maximum indices at some particular step, then this might break stuff. Instead we need to take the dimension of the weight space as increment of the offset. "
   ]
  },
  {
   "cell_type": "code",
   "execution_count": 19,
   "metadata": {},
   "outputs": [
    {
     "data": {
      "text/plain": [
       "0"
      ]
     },
     "execution_count": 19,
     "metadata": {},
     "output_type": "execute_result"
    }
   ],
   "source": [
    "Mijk(BGG,i,j,k).components[0][1][1]"
   ]
  },
  {
   "cell_type": "code",
   "execution_count": 20,
   "metadata": {
    "scrolled": false
   },
   "outputs": [
    {
     "data": {
      "text/plain": [
       "[[('u', 2, 'sym'), ('g', 0, 'wedge'), ('n', 3, 'wedge')],\n",
       " [('u', 1, 'sym'), ('g', 1, 'wedge'), ('n', 2, 'wedge')],\n",
       " [('u', 0, 'sym'), ('g', 2, 'wedge'), ('n', 1, 'wedge')]]"
      ]
     },
     "metadata": {},
     "output_type": "display_data"
    },
    {
     "data": {
      "text/plain": [
       "[[('u', 1, 'sym'), ('g', 0, 'wedge'), ('n', 2, 'wedge')],\n",
       " [('u', 0, 'sym'), ('g', 1, 'wedge'), ('n', 1, 'wedge')]]"
      ]
     },
     "metadata": {},
     "output_type": "display_data"
    }
   ],
   "source": [
    "display(Mijk(BGG,i,j,k).components)\n",
    "display(Mijk(BGG,i,j-1,k).components)"
   ]
  },
  {
   "cell_type": "code",
   "execution_count": 21,
   "metadata": {},
   "outputs": [
    {
     "data": {
      "text/plain": [
       "{(-3, -3, -2): 1,\n",
       " (-3, -3, -1): 2,\n",
       " (-3, -3, 0): 1,\n",
       " (-3, -2, -2): 2,\n",
       " (-3, -2, -1): 6,\n",
       " (-3, -2, 0): 5,\n",
       " (-3, -2, 1): 2,\n",
       " (-3, -1, -2): 1,\n",
       " (-3, -1, -1): 5,\n",
       " (-3, -1, 0): 7,\n",
       " (-3, -1, 1): 3,\n",
       " (-3, 0, -1): 2,\n",
       " (-3, 0, 0): 3,\n",
       " (-3, 0, 1): 2,\n",
       " (-2, -3, -3): 1,\n",
       " (-2, -3, -2): 6,\n",
       " (-2, -3, -1): 9,\n",
       " (-2, -3, 0): 6,\n",
       " (-2, -3, 1): 2,\n",
       " (-2, -2, -3): 2,\n",
       " (-2, -2, -2): 17,\n",
       " (-2, -2, -1): 34,\n",
       " (-2, -2, 0): 30,\n",
       " (-2, -2, 1): 9,\n",
       " (-2, -2, 2): 1,\n",
       " (-2, -1, -3): 1,\n",
       " (-2, -1, -2): 13,\n",
       " (-2, -1, -1): 42,\n",
       " (-2, -1, 0): 48,\n",
       " (-2, -1, 1): 20,\n",
       " (-2, -1, 2): 2,\n",
       " (-2, 0, -2): 5,\n",
       " (-2, 0, -1): 21,\n",
       " (-2, 0, 0): 34,\n",
       " (-2, 0, 1): 18,\n",
       " (-2, 0, 2): 3,\n",
       " (-2, 1, -2): 1,\n",
       " (-2, 1, -1): 4,\n",
       " (-2, 1, 0): 7,\n",
       " (-2, 1, 1): 5,\n",
       " (-2, 1, 2): 1,\n",
       " (-1, -3, -3): 2,\n",
       " (-1, -3, -2): 9,\n",
       " (-1, -3, -1): 13,\n",
       " (-1, -3, 0): 8,\n",
       " (-1, -3, 1): 2,\n",
       " (-1, -2, -3): 6,\n",
       " (-1, -2, -2): 34,\n",
       " (-1, -2, -1): 66,\n",
       " (-1, -2, 0): 49,\n",
       " (-1, -2, 1): 15,\n",
       " (-1, -2, 2): 1,\n",
       " (-1, -1, -3): 5,\n",
       " (-1, -1, -2): 42,\n",
       " (-1, -1, -1): 103,\n",
       " (-1, -1, 0): 101,\n",
       " (-1, -1, 1): 39,\n",
       " (-1, -1, 2): 4,\n",
       " (-1, 0, -3): 2,\n",
       " (-1, 0, -2): 21,\n",
       " (-1, 0, -1): 71,\n",
       " (-1, 0, 0): 88,\n",
       " (-1, 0, 1): 47,\n",
       " (-1, 0, 2): 7,\n",
       " (-1, 1, -2): 4,\n",
       " (-1, 1, -1): 18,\n",
       " (-1, 1, 0): 30,\n",
       " (-1, 1, 1): 20,\n",
       " (-1, 1, 2): 4,\n",
       " (-1, 2, -1): 1,\n",
       " (-1, 2, 0): 2,\n",
       " (-1, 2, 1): 2,\n",
       " (0, -3, -3): 1,\n",
       " (0, -3, -2): 6,\n",
       " (0, -3, -1): 8,\n",
       " (0, -3, 0): 3,\n",
       " (0, -2, -3): 5,\n",
       " (0, -2, -2): 30,\n",
       " (0, -2, -1): 49,\n",
       " (0, -2, 0): 33,\n",
       " (0, -2, 1): 6,\n",
       " (0, -1, -3): 7,\n",
       " (0, -1, -2): 48,\n",
       " (0, -1, -1): 101,\n",
       " (0, -1, 0): 87,\n",
       " (0, -1, 1): 29,\n",
       " (0, -1, 2): 2,\n",
       " (0, 0, -3): 3,\n",
       " (0, 0, -2): 34,\n",
       " (0, 0, -1): 88,\n",
       " (0, 0, 0): 99,\n",
       " (0, 0, 1): 45,\n",
       " (0, 0, 2): 7,\n",
       " (0, 1, -2): 7,\n",
       " (0, 1, -1): 30,\n",
       " (0, 1, 0): 44,\n",
       " (0, 1, 1): 26,\n",
       " (0, 1, 2): 5,\n",
       " (0, 2, -1): 2,\n",
       " (0, 2, 0): 6,\n",
       " (0, 2, 1): 4,\n",
       " (0, 2, 2): 1,\n",
       " (1, -3, -2): 2,\n",
       " (1, -3, -1): 2,\n",
       " (1, -2, -3): 2,\n",
       " (1, -2, -2): 9,\n",
       " (1, -2, -1): 15,\n",
       " (1, -2, 0): 6,\n",
       " (1, -1, -3): 3,\n",
       " (1, -1, -2): 20,\n",
       " (1, -1, -1): 39,\n",
       " (1, -1, 0): 29,\n",
       " (1, -1, 1): 7,\n",
       " (1, 0, -3): 2,\n",
       " (1, 0, -2): 18,\n",
       " (1, 0, -1): 47,\n",
       " (1, 0, 0): 45,\n",
       " (1, 0, 1): 19,\n",
       " (1, 0, 2): 2,\n",
       " (1, 1, -2): 5,\n",
       " (1, 1, -1): 20,\n",
       " (1, 1, 0): 26,\n",
       " (1, 1, 1): 13,\n",
       " (1, 1, 2): 2,\n",
       " (1, 2, -1): 2,\n",
       " (1, 2, 0): 4,\n",
       " (1, 2, 1): 3,\n",
       " (2, -2, -2): 1,\n",
       " (2, -2, -1): 1,\n",
       " (2, -1, -2): 2,\n",
       " (2, -1, -1): 4,\n",
       " (2, -1, 0): 2,\n",
       " (2, 0, -2): 3,\n",
       " (2, 0, -1): 7,\n",
       " (2, 0, 0): 7,\n",
       " (2, 0, 1): 2,\n",
       " (2, 1, -2): 1,\n",
       " (2, 1, -1): 4,\n",
       " (2, 1, 0): 5,\n",
       " (2, 1, 1): 2,\n",
       " (2, 2, 0): 1}"
      ]
     },
     "execution_count": 21,
     "metadata": {},
     "output_type": "execute_result"
    }
   ],
   "source": [
    "Mijk(BGG,i,j,k).dimensions"
   ]
  },
  {
   "cell_type": "code",
   "execution_count": 22,
   "metadata": {},
   "outputs": [
    {
     "data": {
      "text/plain": [
       "{(-3, -3, -2): [],\n",
       " (-3, -3, -1): [],\n",
       " (-3, -3, 0): [],\n",
       " (-3, -2, -2): [],\n",
       " (-3, -2, -1): [],\n",
       " (-3, -2, 0): [],\n",
       " (-3, -2, 1): [ 1 -1],\n",
       " (-3, -1, -2): [],\n",
       " (-3, -1, -1): [],\n",
       " (-3, -1, 0): [ 1  0  0  0 -1 -1  1],\n",
       " (-3, -1, 1): [ 1 -1 -1],\n",
       " (-3, 0, -1): [ 1 -1],\n",
       " (-3, 0, 0): [ 1 -1 -1],\n",
       " (-3, 0, 1): [ 1 -1],\n",
       " (-2, -3, -3): [],\n",
       " (-2, -3, -2): [],\n",
       " (-2, -3, -1): [],\n",
       " (-2, -3, 0): [ 1 -1  0  1  0  1],\n",
       " (-2, -3, 1): [ 1 -1],\n",
       " (-2, -2, -3): [],\n",
       " (-2, -2, -2): [],\n",
       " (-2,\n",
       "  -2,\n",
       "  -1): [ 1  0  0  0  0  0  0 -1  0  0 -1  0  0 -1  0  1  0  0  0  0  0  1  1  0  0 -1  0  0  0  0  0  0  0  0],\n",
       " (-2,\n",
       "  -2,\n",
       "  0): [ 1  0  0  0  0  0 -1  0  1  0 -1  0  0  0  0  0  0 -1  1 -1  0  0  0  1  0 -1  1  0 -1  0]\n",
       " [ 0  1  0  0  0  0  0  0  0  0  0  0  0 -1  0 -1  0  0  0  0  0  0  0  0 -1  0  0  0  0  0]\n",
       " [ 0  0  1  0  0  0  0  0  0  0  0  0  0  0 -1  0  0 -1  0  2  0  0  0  0  0 -1  0  0  2  0]\n",
       " [ 0  0  0  1  0  0  0  0  0  0  0  1  0  0  0  0  0  2 -1 -1 -1  0 -1  0  0  2 -1  0 -1  0]\n",
       " [ 0  0  0  0  1  0  0  0  0  0  0  0  1  0  0  1  0  1 -2  0  0 -1  0  0  1  1 -2  0  0  0],\n",
       " (-2, -2, 1): [ 1  0  0 -1 -1  0  0  0  0]\n",
       " [ 0  1  0  0  0  0 -1  0  0]\n",
       " [ 0  0  1  0  0 -1  0  0  0]\n",
       " [ 0  0  0  0  0  0  0  1  1],\n",
       " (-2, -1, -3): [],\n",
       " (-2, -1, -2): [ 1  0  0 -1  0  0 -1  0  0 -1  0  0  0],\n",
       " (-2,\n",
       "  -1,\n",
       "  -1): [ 1  0  0  0  0  0 -1  0  0 -1  0  0  0  0  0  0  0  0 -1  0  0  0  0  0  0 -1  1 -1  0  0  0 -1 -1  1 -1  0  0  0  0  0  0  0]\n",
       " [ 0  1  0  0  0  0  0  0  0  0  0  0  0  0  0  0  1  0  0  0  0 -1  0 -1  0  0  0  0  0  0  0  0  0  0  0  1  0  0  0  0  0  0]\n",
       " [ 0  0  1  0  0  0  0  0  0  0  0  0  0  0  0  1  0  0  0  0  0  0 -1  0  0 -1  0  2  0  0 -1  0 -1  0  2  0  0  0  0  0  0  0]\n",
       " [ 0  0  0  1  0  0  0  0  0  0  0  0  0  0  0  0  0  0  0  1  0  0  0  0  0  2 -1 -1  0  0  0  0  2 -1 -1  0  0  0  0  0  0  0]\n",
       " [ 0  0  0  0  1  0  0  0  0  0  0  0  0  0  0  0  0  0  0  0  1  0  0  1  0  1 -2  0 -1 -1  0  0  1 -2  0  0  0  0  0  0  0  0],\n",
       " (-2,\n",
       "  -1,\n",
       "  0): [ 1  0  0  0  0  0  0  0  0  0  0  0 -1  0  0  0  0  0  0 -1  1 -1  0  0  0  0  0  0  0  0  0  0  0  0  0  0  0 -1  1  0 -1  0  0  0  0  0  0  0]\n",
       " [ 0  1  0  0  0  0  0  0  0  0  0  0  0  0  0 -1  0 -1  0  0  0  0  0 -1  0  0  0  1 -1  1  0  0  0  0  0  0 -1  0  0  0  0  1 -1  0  1  0  0  0]\n",
       " [ 0  0  1  0  0  0  0  0  0  0  0  0  0  0  0  0 -1  0  0 -1  0  2  0  0 -1  0  0  0  0  0  0  0  0  0  0  0  0 -1  0  0  2  0  0  0  0  0  0  0]\n",
       " [ 0  0  0  1  0  0  0  0  0  0  0  0  0  1  0  0  0  0  0  2 -1 -1  0  0  0  0  0  0  0  0  0 -1  0  0  0  0  0  2 -1  0 -1  0  0  0  0  0  0  0]\n",
       " [ 0  0  0  0  1  0  0  0  0  0  0  0  0  0  1  0  0  1  0  1 -2  0  0  0  0  0  0  0  0  0  0  0  0  0  0 -1  1  1 -2  0  0  0  0  0  0  0  0  0]\n",
       " [ 0  0  0  0  0  1  0  0  0  0  0  0  0  0  0  0  0  0  0  0  0  0 -1  0  0  0  1  1  1 -1  0  0  0  0  0  0  0  0  0  0  0  1  1  0 -1  0  0  0]\n",
       " [ 0  0  0  0  0  0  1  0  0  0  0  0  0  0  0  0  0  0  0  0  0  0  0  0  0 -1  0 -1  0  2  0  0  0  0  0  0  0  0  0  0  0 -1  0  0  2  0  0  0]\n",
       " [ 0  0  0  0  0  0  0  1  0  0  0  0  0  0  0  0  0  0  0  0  0  0  0  1  0  0  1  0  0  0  0  0  0 -1  0  0  1  0  0  0  0  0  0  0  0  0  0  0]\n",
       " [ 0  0  0  0  0  0  0  0  1  0  0  0  0  0  0  0  0  0  0  0  0  0  0  0  0  0  0  2 -1 -1  0  0 -1  0  0  0  0  0  0  0  0  2 -1  0 -1  0  0  0]\n",
       " [ 0  0  0  0  0  0  0  0  0  0  0  0  0  0  0  0  0  0  0  0  0  0  0  0  0  0  0  0  0  0  1  0  0  0  0  0  0  0  0  0  0  0  0  0  0  1  0  0]\n",
       " [ 0  0  0  0  0  0  0  0  0  0  0  0  0  0  0  0  0  0  0  0  0  0  0  0  0  0  0  0  0  0  0  0  0  0  1  0  0  0  0  1  0  0  0  0  0  0  0  0],\n",
       " (-2, -1, 1): [ 1  0  0  0  0  0 -1  0  0  0  0  0  0 -1  0  0 -1  0  0  0]\n",
       " [ 0  1  0  0  0  0  0 -1  0  0  0  0  0  0  0  0  0  0  0  0]\n",
       " [ 0  0  1  0  0  0  0  0  0 -1  0  0  1 -1  0  0  1  0  0  0]\n",
       " [ 0  0  0  1  0  0  0  0 -1  0  0 -1  0  0  0  0  0  0  0  0]\n",
       " [ 0  0  0  0  1  0  0  0  0  0  0  0  1  0  0  0 -2  0  0  0]\n",
       " [ 0  0  0  0  0  1  0  0  0  0  0 -1 -2  1  0  0  1  0  0  0]\n",
       " [ 0  0  0  0  0  0  0  0  0  0  1  0  0  0  0  0  0  1  0  0]\n",
       " [ 0  0  0  0  0  0  0  0  0  0  0  0  0  0  1  0  0  0  1  0]\n",
       " [ 0  0  0  0  0  0  0  0  0  0  0  0  0  0  0  1  0  0  0  1],\n",
       " (-2, 0, -2): [1 0 0 1 0]\n",
       " [0 1 1 0 0],\n",
       " (-2, 0, -1): [ 1  0  0  0  0  0  0  1  0  0 -1  0  0  0  1 -1  1  0  1  0  0]\n",
       " [ 0  1  0  0  0  0  1  0  0  0  0 -1  0  0  0  0  0  0  0  0  0]\n",
       " [ 0  0  1  0  0  0  0  0  0 -1  0  0  0  1  1  1 -1  0 -1  0  0]\n",
       " [ 0  0  0  1  0  0  0  0  0  0  0  0 -1  0 -1  0  2  0  0  0  0]\n",
       " [ 0  0  0  0  1  0  0  0  0  0  1  0  0  1  0  0  0  0 -1  0  0]\n",
       " [ 0  0  0  0  0  1  0  0  0  0  0  0  0  0  2 -1 -1  0  0  0  0]\n",
       " [ 0  0  0  0  0  0  0  0  0  0  0  0  0  0  0  0  0  1  0  1  0],\n",
       " (-2,\n",
       "  0,\n",
       "  0): [ 1  0  0  0  0  0  0  0  0 -1  0  0  0  0  0  0  0  0  0  0  0  0  0 -1  0  0 -1  0  1  0  1  0  0  0]\n",
       " [ 0  1  0  0  0  0  0  0  0  0 -1  0  0  0  1 -1  1  0  0  0  0  0  0  0  0  0  0  1 -1  0  1  0  0  0]\n",
       " [ 0  0  1  0  0  0  0  0  0  0  0 -1  0  0  0  0  0  0  0  0  0  0  0  0  0  0  0  0  0  0  0  0  0  0]\n",
       " [ 0  0  0  1  0  0  0  0  0  0  0  0  0  1  1  1 -1  0 -1  0  0  0  0  0  0  0  0  1  1  0 -1  0  0  0]\n",
       " [ 0  0  0  0  1  0  0  0  0  0  0  0 -1  0 -1  0  2  0  0 -1  0  0  0  0  0  0  0 -1  0  0  2  0  0  0]\n",
       " [ 0  0  0  0  0  1  0  0  0  0  1  0  0  1  0  0  0  0  0  0  0  0  1 -1  0  0  1 -1  1  0 -1  0  0  0]\n",
       " [ 0  0  0  0  0  0  1  0  0  0  0  0  0  0  2 -1 -1  0  0  0  0 -1  0  0  0  0  0  2 -1  0 -1  0  0  0]\n",
       " [ 0  0  0  0  0  0  0  1  0  0  0  0  0  0  0  0  0  0  0 -1  0  0  1  0  0  0 -2 -1  0  0  2  0  0  0]\n",
       " [ 0  0  0  0  0  0  0  0  1  0  0  0  0  0  0  0  0  0  0  0  0 -1 -2  1  0  0  1  2 -1  0 -1  0  0  0]\n",
       " [ 0  0  0  0  0  0  0  0  0  0  0  0  0  0  0  0  0  1  0  0  0  0  0  0  0  0  0  0  0  0  0  1  0  0]\n",
       " [ 0  0  0  0  0  0  0  0  0  0  0  0  0  0  0  0  0  0  0  0  1  0  0  0  0  0  0  0  0  0  0  0  1  0]\n",
       " [ 0  0  0  0  0  0  0  0  0  0  0  0  0  0  0  0  0  0  0  0  0  0  0  0  1  0  0  0  0  1  0  0  0  0]\n",
       " [ 0  0  0  0  0  0  0  0  0  0  0  0  0  0  0  0  0  0  0  0  0  0  0  0  0  1  0  0  0  0  0  0  0  0],\n",
       " (-2, 0, 1): [ 1  0  0  0  0 -1  0  0 -1  0  0 -1  0  0  0  0  0  0]\n",
       " [ 0  1  0  0  0  0  0  1 -1  0  0  1  0  0  0  0  0  0]\n",
       " [ 0  0  1  0  0  0 -1  0  0  0  0  0  0  0  0  0  0  0]\n",
       " [ 0  0  0  1  0  0  0  1  0  0  0 -2  0  0  0  0  0  0]\n",
       " [ 0  0  0  0  1  0 -1 -2  1  0  0  1  0  0  0  0  0  0]\n",
       " [ 0  0  0  0  0  0  0  0  0  1  0  0  0  0  0  1  0  0]\n",
       " [ 0  0  0  0  0  0  0  0  0  0  1  0  0  0  0  0  1  0]\n",
       " [ 0  0  0  0  0  0  0  0  0  0  0  0  1  0  0  0  0  1]\n",
       " [ 0  0  0  0  0  0  0  0  0  0  0  0  0  1  0  0  0  0]\n",
       " [ 0  0  0  0  0  0  0  0  0  0  0  0  0  0  1  0 -1  0],\n",
       " (-2, 1, -1): [ 1  0 -1  0]\n",
       " [ 0  1 -1  0]\n",
       " [ 0  0  0  1],\n",
       " (-2, 1, 0): [ 1  0 -1  0  0  0  0]\n",
       " [ 0  1 -1  0  0  0  0]\n",
       " [ 0  0  0  1  0  0  1]\n",
       " [ 0  0  0  0  1  0  0]\n",
       " [ 0  0  0  0  0  1 -1],\n",
       " (-2, 1, 1): [ 1  0  0  0  0]\n",
       " [ 0  1  0  0  1]\n",
       " [ 0  0  1  0  0]\n",
       " [ 0  0  0  1 -1],\n",
       " (-1, -3, -3): [],\n",
       " (-1, -3, -2): [],\n",
       " (-1, -3, -1): [ 1  1  0  1  0 -1  0  1  0  0 -1  1  0],\n",
       " (-1, -3, 0): [ 1  0  0 -1  0  1  0  1]\n",
       " [ 0  1  1  0  0 -1 -1 -1],\n",
       " (-1, -3, 1): [1 1],\n",
       " (-1, -2, -3): [],\n",
       " (-1,\n",
       "  -2,\n",
       "  -2): [ 1  0  0  0  0  0  0  0  0  0  1  0  1  0 -1  0  0 -1  0  0 -1  0  1  0  0  0  0  1  0  0  0  0  0  0],\n",
       " (-1, -2, -1): 8 x 66 dense matrix over Integer Ring,\n",
       " (-1,\n",
       "  -2,\n",
       "  0): [ 1  0  0  0  0  0  0  0  0 -1  0  1  0  0  0  0  0  0  0  0  0  0  0  0  0  0 -1  0  0 -1  0  0  0  0  0  0  0  0  0  0  0  0  0  0  0 -1  0 -1  0]\n",
       " [ 0  1  0  0  0  0  0  0  0  0  0  0  0  0 -1  0  1  0 -1  0  0  0  0  0  0 -1  0  1  0  0 -1  0  0  0  0  0  0  1  0 -1  1  0 -1  0  0  0  0  0  0]\n",
       " [ 0  0  1  0  0  0  0  0  0  0  0  0  0  1  0  0 -1  0  0  0  0  0  0  0  0  0  0  0  0  0  0  0  0 -1  0  0  0 -1  0  0  0  0  0  0  0  0  0  0  0]\n",
       " [ 0  0  0  1  0  0  0  0  0  0  0  0  0  0  0  0  0 -1  0  0  0  0  0  1  0 -1  0 -1  0  0  1  0  0  0  0  0  0  0  0 -1 -1  0  1  0  0  0  0  0  0]\n",
       " [ 0  0  0  0  1  0  0  0  0  0  0  0  0  0  0  0  0  0  0  0  0  0  1  0  1  0  0  0  0 -2  0  0  0  0  0  0  0  0  0  0  0  0  0  0  1  0  0 -2  0]\n",
       " [ 0  0  0  0  0  1  0  0  0  0  0  0  0  0  0  0  0  0  0  0 -1  0  0  0  0 -1  0  0  0  0  2  0  0  0  0  0  0  0  0 -1  0  0  2  0  0  0  0  0  0]\n",
       " [ 0  0  0  0  0  0  1  0  0  0  0  0  0  0  0  0  0  0 -1  0  0  0  0 -1 -2  0  1  0  0  1  0  0  1  0  0  0  0  1  0  0  0  0  0  0 -2  1  0  1  0]\n",
       " [ 0  0  0  0  0  0  0  1  0  0  0  0  0  0  0  0  0  0  0  0  0 -1  0  0  1  0 -2  0  0  0  0  0  0  0  0 -1  0  0  0  0  0  0  0  0  1 -2  0  0  0]\n",
       " [ 0  0  0  0  0  0  0  0  1  0  0  0  0  0  0  0  0  0  0  1  0  0  0  0  0  1  0 -2  0  0  0  0  0  0 -1  0  0  0  0  1 -2  0  0  0  0  0  0  0  0]\n",
       " [ 0  0  0  0  0  0  0  0  0  0  0  0  0  0  0  0  0  0  0  0  0  0  0  0  0  0  0  0  1  0  0  0  0  0  0  0  0  0  0  0  0  1  0  0  0  0  1  0  0]\n",
       " [ 0  0  0  0  0  0  0  0  0  0  0  0  0  0  0  0  0  0  0  0  0  0  0  0  0  0  0  0  0  0  0  1  0  0  0  0  0  0  0  0  0  0  0  1  0  0  0  0  0]\n",
       " [ 0  0  0  0  0  0  0  0  0  0  0  0  0  0  0  0  0  0  0  0  0  0  0  0  0  0  0  0  0  0  0  0  0  0  0  0  1  0 -1  0  0  0  0  0  0  0 -1  0  0],\n",
       " (-1, -2, 1): [ 1  0  0  0  0 -1  0  0  0 -1  0  0 -1  0  0]\n",
       " [ 0  1  0  0  0  0  1  0 -1  1  0  0 -1  0  0]\n",
       " [ 0  0  1  0  0  0  0 -1  0  0  0  0  0  0  0]\n",
       " [ 0  0  0  1  0  0  0  0  1  0  0  0 -2  0  0]\n",
       " [ 0  0  0  0  1  0  0  1  1 -2  0  0  0  0  0]\n",
       " [ 0  0  0  0  0  0  0  0  0  0  1  0  0  0  1]\n",
       " [ 0  0  0  0  0  0  0  0  0  0  0  1  0  1  0],\n",
       " (-1, -1, -3): [],\n",
       " (-1,\n",
       "  -1,\n",
       "  -2): [ 1  0  0  0  0  0  0  0  0 -1  0  0 -1  0  0  0  0  0  0  0  1  0  0  1  1 -1  0  0  0  0 -1  0  0  0 -1 -1  1  0  0  0  0  0]\n",
       " [ 0  1  0  0  0  0  0  0  0  0  0  0  0  0  0 -1  0  0 -1  1  0  0  0 -1  0  2  0  0  0  0  0  0  0 -1  1  0 -2  0  0  0  0  0]\n",
       " [ 0  0  1  0  0  0  0  0  0  0  0  0  0  0  0  0  0  0  0  0  0 -1  0  2 -1 -1  0  0  0  0  0  0  0  0 -2  1  1  0  0  0  0  0]\n",
       " [ 0  0  0  1  0  0  0  0  0  0  0  0  0  0  0  0  1  0  0  0  0  0  0  1 -2  0  0  1  0  0  0 -1  0  0 -1  2  0  0  0  0  0  0]\n",
       " [ 0  0  0  0  1  0  0  0  0  0  0  0  0  0  0  0  0  1  0 -1  0  0  0  0  0  0  1  0  0  1  0  0  0  0  0  0  0  0  0  0  0  0],\n",
       " (-1, -1, -1): 20 x 103 dense matrix over Integer Ring,\n",
       " (-1, -1, 0): 32 x 101 dense matrix over Integer Ring,\n",
       " (-1, -1, 1): 21 x 39 dense matrix over Integer Ring,\n",
       " (-1, 0, -3): [ 1 -1],\n",
       " (-1, 0, -2): [ 1  0  0  0  0  0 -1  0  0  0 -1  0  0  0 -1  1 -1  0 -1  0  0]\n",
       " [ 0  1  0  0  0  0  0  0  1  0  0  0  1  0  0  0  0  0  0  0  0]\n",
       " [ 0  0  1  0  0  0  0  1  0  0  0  0  0  1 -1 -1  1  0  1  0  0]\n",
       " [ 0  0  0  1  0  0  0  0  0  0 -1  0  0 -1  0  0  0  0 -1  0  0]\n",
       " [ 0  0  0  0  1  0  0  0  0  0  0  0  0  0 -2  1  1  0  0  0  0]\n",
       " [ 0  0  0  0  0  1  0  0  0  0  0  1  0  0  1 -2  0  0  0  0  0]\n",
       " [ 0  0  0  0  0  0  0  0  0  0  0  0  0  0  0  0  0  1  0 -1  0],\n",
       " (-1, 0, -1): 26 x 71 dense matrix over Integer Ring,\n",
       " (-1, 0, 0): 40 x 88 dense matrix over Integer Ring,\n",
       " (-1, 0, 1): 30 x 47 dense matrix over Integer Ring,\n",
       " (-1, 1, -2): [1 0 1 0]\n",
       " [0 1 1 0]\n",
       " [0 0 0 1],\n",
       " (-1, 1, -1): [ 1  0  0  0  0  0  0  0  0  0 -1  0  0 -1  0  0  0  0]\n",
       " [ 0  1  0  0  0  1  0 -1  0  0  0  0  0  0  0  0  0  0]\n",
       " [ 0  0  1  0  0  1  0  0  0  1 -1  0  0  1  0  0  0  0]\n",
       " [ 0  0  0  1  0  0  0 -1  0  1  1  0  0 -1  0  0  0  0]\n",
       " [ 0  0  0  0  1  0  0  0  0  2 -1  0  0 -1  0  0  0  0]\n",
       " [ 0  0  0  0  0  0  1  0  0  0  0  0  0  0  0  0  1  0]\n",
       " [ 0  0  0  0  0  0  0  0  1  0  0  0  0  0  0  0  0 -1]\n",
       " [ 0  0  0  0  0  0  0  0  0  0  0  1  0  0  0  0  0  0]\n",
       " [ 0  0  0  0  0  0  0  0  0  0  0  0  1  0  0  0  0  0]\n",
       " [ 0  0  0  0  0  0  0  0  0  0  0  0  0  0  1  0  0  1]\n",
       " [ 0  0  0  0  0  0  0  0  0  0  0  0  0  0  0  1  1  0],\n",
       " (-1, 1, 0): 20 x 30 dense matrix over Integer Ring,\n",
       " (-1, 1, 1): [ 1  0  0  0  0  0  0  0  0  0  0  0  0  0  0  0  0  0  0  0]\n",
       " [ 0  1  0  0  0  0  0  0  0  0  0  0  0  0  0  0  0  0  0  0]\n",
       " [ 0  0  1  0  0  0  0  0  0  0  0  0  0  0  0  0  1 -1  0  0]\n",
       " [ 0  0  0  1  0  0  0  0  0  0  0  0  0  0  0  0  0  0  0  0]\n",
       " [ 0  0  0  0  1  0  0  0  0  0  0  0  0  0  1  0  0  0  0  0]\n",
       " [ 0  0  0  0  0  1  0  0  0  0  0  0  0  0  0  1 -1 -1  0  0]\n",
       " [ 0  0  0  0  0  0  1  0  0  0  0  0  0  0  0  0  0  0  0  0]\n",
       " [ 0  0  0  0  0  0  0  1  0  0  0  0  0  0  0  0  0  0  0  0]\n",
       " [ 0  0  0  0  0  0  0  0  1  0  0  0  0  0  0  0  0  0  0  0]\n",
       " [ 0  0  0  0  0  0  0  0  0  1  0  0  0  0  0  0  0  0  0  0]\n",
       " [ 0  0  0  0  0  0  0  0  0  0  1  0  0  0  0  1  1  1  0  0]\n",
       " [ 0  0  0  0  0  0  0  0  0  0  0  1  0  0  0 -1  0 -2  0  0]\n",
       " [ 0  0  0  0  0  0  0  0  0  0  0  0  1  0 -1  0  0  0  0  0]\n",
       " [ 0  0  0  0  0  0  0  0  0  0  0  0  0  1  0  2 -1  1  0  0]\n",
       " [ 0  0  0  0  0  0  0  0  0  0  0  0  0  0  0  0  0  0  1  0]\n",
       " [ 0  0  0  0  0  0  0  0  0  0  0  0  0  0  0  0  0  0  0  1],\n",
       " (0, -3, -3): [],\n",
       " (0, -3, -2): [ 1  1  0  1  0 -1],\n",
       " (0, -3, -1): [ 1  0  1  0 -1  0  1 -1]\n",
       " [ 0  1  0  1  0  0 -1  1],\n",
       " (0, -3, 0): [1 1 1],\n",
       " (0, -2, -3): [],\n",
       " (0,\n",
       "  -2,\n",
       "  -2): [ 1  0  0  0  0  0  1  0  1  0  0  0  0  0  0  0  1  0  0  1  1 -1  0  0 -1 -1  1  0  1  0]\n",
       " [ 0  1  0  0  0  0  0  0  0  0  1  0  0  0 -1  1  0  0  0 -1  0  2 -1  0  1  0 -2  0  0  0]\n",
       " [ 0  0  1  0  0  0  0  0  0  0  0  1  0  0  0  0  0 -1  0  2 -1 -1  0  1 -2  1  1  0  0  0]\n",
       " [ 0  0  0  1  0  0  0  0  0  0  0  0  1  0  0  0  0  0  0  1 -2  0  0  0 -1  2  0  0  0  0]\n",
       " [ 0  0  0  0  1  0  0  0  0  0  0  0  0  1  0 -1  0  0  0  0  0  0  1  0  0  0  0  0  0  0],\n",
       " (0,\n",
       "  -2,\n",
       "  -1): [ 1  0  0  0  0  0  0  0  0  1  0  1  0  0  0  0  0  0  0  0  0  0  0  0  0  0  0  0  0  0  0 -1  0  0 -1  0  0  0  0  0  0  0  0  0  0 -1 -1  0  0]\n",
       " [ 0  1  0  0  0  0  0  0  0  0  0  0  0  1  0  0  0  0  0  0  0  0  0 -1  0  0  0  0  0  0 -1  0  1  0  0 -1  0  1 -1  0  1  0  0  0  0  0  0  0  0]\n",
       " [ 0  0  1  0  0  0  0  0  0  0  0  0  0  0  0 -1  0  1  0  0  1  0  0  0  0  0  0  0  0  0  0  0  0  0  0  0  0  0  0  0  0  0  0  1  0  0  0  0  0]\n",
       " [ 0  0  0  1  0  0  0  0  0  0  0  0  0  0  1  0  0 -1  0  0  0  0  0  0  0  0  0  0  1  0 -1  0 -1  0  0  1  0  1  1  0 -1  0  0 -1  0  0  0  0  0]\n",
       " [ 0  0  0  0  1  0  0  0  0  0  0  0  0  0  0  0  0  0  0  1  0  0  0  0  0  0  0  1  0  1  0  0  0  0 -2  0  0  0  0  0  0  0  0  0  1  0 -2  0  0]\n",
       " [ 0  0  0  0  0  1  0  0  0  0  0  0  0  0  0  0  0  0  1  0  0  0  0  0  0 -1  0  0  0  0 -1  0  0  0  0  2  0  1  0  0 -2  0  0  0  0  0  0  0  0]\n",
       " [ 0  0  0  0  0  0  1  0  0  0  0  0  0  0  0  0  0  0  0  0  0  0  1 -1  0  0  0  0 -1 -2  0  1  0  0  1  0  0  0  0  0  0  0  0  1 -2  1  1  0  0]\n",
       " [ 0  0  0  0  0  0  0  1  0  0  0  0  0  0  0  0  0  0  0  0  0  0  0  0  0  0 -1  0  0  1  0 -2  0  0  0  0  0  0  0  0  0  0  0  0  1 -2  0  0  0]\n",
       " [ 0  0  0  0  0  0  0  0  1  0  0  0  0  0  0  0  0  0  0  0  0  0  0  0  1  0  0  0  0  0  1  0 -2  0  0  0  0 -1  2  0  0  0  0  0  0  0  0  0  0]\n",
       " [ 0  0  0  0  0  0  0  0  0  0  0  0  0  0  0  0  0  0  0  0  0  1  0  0  0  0  0  0  0  0  0  0  0  0  0  0  0  0  0  0  0  0  1  0  0  0  0  1  0]\n",
       " [ 0  0  0  0  0  0  0  0  0  0  0  0  0  0  0  0  0  0  0  0  0  0  0  0  0  0  0  0  0  0  0  0  0  1  0  0  0  0  0 -1  0  0  0  0  0  0  0  0  0]\n",
       " [ 0  0  0  0  0  0  0  0  0  0  0  0  0  0  0  0  0  0  0  0  0  0  0  0  0  0  0  0  0  0  0  0  0  0  0  0  1  0  0  0  0 -1  0  0  0  0  0 -1  0],\n",
       " (0,\n",
       "  -2,\n",
       "  0): [ 1  0  0  0  0  0  0  0  0 -1  0  1  0  0  0  0 -1 -1  0  0  0  0  0  0  0  0  0  0  0 -1  0 -1  0]\n",
       " [ 0  1  0  0  0  0  0  0  1  0  0 -1  0  0  0  0  0  0  0  0  0  0 -1  0  0 -1  0  0  0  1  0  1  0]\n",
       " [ 0  0  1  0  0  0  0  0  0  0  0  0  1  0  0  0  0  0  0  0  0 -1  1  0  0 -1  0  0  1 -1  0  1  0]\n",
       " [ 0  0  0  1  0  0  0  0  0  0  0  0  0  1  0  1  1 -1  0  0  0  0  0  0  0  0  0  0  1  1  0 -1  0]\n",
       " [ 0  0  0  0  1  0  0  0  0  0  0  0  0  0  1  1  0 -2  0  0  0  0  0  0  0  0  0  0  1  0  0 -2  0]\n",
       " [ 0  0  0  0  0  1  0  0  0  0  0  0  0  0  0  1 -2  0  0  0 -1  0  0  0  0  0  0  0  1 -2  0  0  0]\n",
       " [ 0  0  0  0  0  0  1  0  0  0  0  0  0  0 -1  0  0  0  0  0  0  1  0  0  0 -2  0  0 -1  0  0  2  0]\n",
       " [ 0  0  0  0  0  0  0  1  0  0  0  0  0  0  0  0  0  0  0  0  1  1 -2  0  0  0  0  0 -1  2  0  0  0]\n",
       " [ 0  0  0  0  0  0  0  0  0  0  0  0  0  0  0  0  0  0  1  0  0  0  0  0  0  0  0  0  0  0  0  0  1]\n",
       " [ 0  0  0  0  0  0  0  0  0  0  0  0  0  0  0  0  0  0  0  1  0  0  0  0  0  0  0  1  0  0  0  0  0]\n",
       " [ 0  0  0  0  0  0  0  0  0  0  0  0  0  0  0  0  0  0  0  0  0  0  0  1  0  0  0  0  0  0  1  0  0]\n",
       " [ 0  0  0  0  0  0  0  0  0  0  0  0  0  0  0  0  0  0  0  0  0  0  0  0  1  0 -1  0  0  0  0  0  0],\n",
       " (0, -2, 1): [ 1  1  0  0  0  0]\n",
       " [ 0  0  1  0  0  1]\n",
       " [ 0  0  0  1  0  0]\n",
       " [ 0  0  0  0  1 -1],\n",
       " (0, -1, -3): [ 1  0  0  0  1 -1  1],\n",
       " (0,\n",
       "  -1,\n",
       "  -2): [ 1  0  0  0  0  0  0  0  0  0  0  0  1  0  0  0  0  0  0  0  0  0  0  0  0  0  0  0 -1  0  0  0 -1  1 -1  0  1 -1  0  1  0  0  0  0  0  0  0  0]\n",
       " [ 0  1  0  0  0  0  0  0  0  0  0  0  0  0  0  0  0  1  0  0  1  1 -1  0  0  0  0  0  0  0  0  0  0  0  0  0  0  0  0  0  0  0 -1 -1  1  0  0  0]\n",
       " [ 0  0  1  0  0  0  0  0  0  0  0  0  0  0  0 -1  1  0  0  0 -1  0  2  1  0  0  0  0  0  0  0  0  0  0  0  0  0  0  0  0  0  1  1  0 -2  0  0  0]\n",
       " [ 0  0  0  1  0  0  0  0  0  0  0  0  0  0  0  0  0  0 -1  0  2 -1 -1  0  0  0  1  0  0  0  0  0  0  0  0  0  0  0  0  0  0  0 -2  1  1  0  0  0]\n",
       " [ 0  0  0  0  1  0  0  0  0  0  0  0  0  1  0  0  0  0  0  0  1 -2  0  0  0  0  0  0  0  0  1  0  0  0  0  0  0  0  0  0  0  0 -1  2  0  0  0  0]\n",
       " [ 0  0  0  0  0  1  0  0  0  0  0  0  0  0  1  0 -1  0  0  0  0  0  0  0  0  0  0  0  0  0  0  1 -1 -1  1  0  1  1  0 -1  0 -1  0  0  0  0  0  0]\n",
       " [ 0  0  0  0  0  0  1  0  0  0  0  0  0  0  0  0  0  0  0  0  0  0  0  0  0  1  0  0 -1  0  0 -1  0  0  0  0  0  0  0  0  0  1  0  0  0  0  0  0]\n",
       " [ 0  0  0  0  0  0  0  1  0  0  0  0  0  0  0  0  0  0  0  0  0  0  0  0  1  0  0  0  0  0  0  0 -2  1  1  0  2 -1  0 -1  0  0  0  0  0  0  0  0]\n",
       " [ 0  0  0  0  0  0  0  0  1  0  0  0  0  0  0  0  0  0  0  0  0  0  0  0  0  0  0  0  0  1  0  0  1 -2  0  0 -1  2  0  0  0  0  0  0  0  0  0  0]\n",
       " [ 0  0  0  0  0  0  0  0  0  0  0  0  0  0  0  0  0  0  0  0  0  0  0  0  0  0  0  1  0  0  0  0  0  0  0  0  0  0  0  0  0  0  0  0  0 -1  0  0]\n",
       " [ 0  0  0  0  0  0  0  0  0  0  0  0  0  0  0  0  0  0  0  0  0  0  0  0  0  0  0  0  0  0  0  0  0  0  0  1  0  0  0  0 -1  0  0  0  0  0  0  0],\n",
       " (0, -1, -1): 32 x 101 dense matrix over Integer Ring,\n",
       " (0, -1, 0): 39 x 87 dense matrix over Integer Ring,\n",
       " (0,\n",
       "  -1,\n",
       "  1): [ 1  0  0  0  0  0  0 -1  0  0 -1  0  0  0  0  0  0  0  0  0  0  0  0  0  0  0  0  0  0]\n",
       " [ 0  1  0  0  0  0 -1  1  0  0 -1  0  0  0  0  0  0  0  0  0  0  0  0  0  0  0  0  0  0]\n",
       " [ 0  0  1  0  0 -1  0  0  0  0  0  0  0  0  0  0  0  0  0  0  0  0  0  0  0  0  0  0  0]\n",
       " [ 0  0  0  1  0  0  1  0  0  0 -2  0  0  0  0  0  0  0  0  0  0  0  0  0  0  0  0  0  0]\n",
       " [ 0  0  0  0  1  1  1 -2  0  0  0  0  0  0  0  0  0  0  0  0  0  0  0  0  0  0  0  0  0]\n",
       " [ 0  0  0  0  0  0  0  0  1  0  0  0  0  0  0  0  0  0  0  0  0  0  0  0  0  0  0  0  0]\n",
       " [ 0  0  0  0  0  0  0  0  0  1  0  0  0  0  0  0  0  0  0  0  0  0  0  0  0  0  1 -1  0]\n",
       " [ 0  0  0  0  0  0  0  0  0  0  0  1  0  0  0  0  0  0  0  0  0  0  0  0  0 -1  1  1  0]\n",
       " [ 0  0  0  0  0  0  0  0  0  0  0  0  1  0  0  0  0  0  0  0  0  0  0  0  0  0  0  0  0]\n",
       " [ 0  0  0  0  0  0  0  0  0  0  0  0  0  1  0  0  0  0  0  0  0  0  0  0  0 -1 -1 -1  0]\n",
       " [ 0  0  0  0  0  0  0  0  0  0  0  0  0  0  1  0  0  0  0  0  0  0  0  1  0  0  0  0  0]\n",
       " [ 0  0  0  0  0  0  0  0  0  0  0  0  0  0  0  1  0  0  0  0  0  0  1  0  0  0  0  0  0]\n",
       " [ 0  0  0  0  0  0  0  0  0  0  0  0  0  0  0  0  1  0  0  0  0  0  0  0  1  0  0  0  0]\n",
       " [ 0  0  0  0  0  0  0  0  0  0  0  0  0  0  0  0  0  1  0  0  0  0  0  0  0  0  0  0  0]\n",
       " [ 0  0  0  0  0  0  0  0  0  0  0  0  0  0  0  0  0  0  1  0  0  0  0  0  0 -1  0 -2  0]\n",
       " [ 0  0  0  0  0  0  0  0  0  0  0  0  0  0  0  0  0  0  0  1  0  0  0  0  0  0  0  0  0]\n",
       " [ 0  0  0  0  0  0  0  0  0  0  0  0  0  0  0  0  0  0  0  0  1  0  0  0 -1  0  0  0  0]\n",
       " [ 0  0  0  0  0  0  0  0  0  0  0  0  0  0  0  0  0  0  0  0  0  1  0  0  0  1 -2  0  0]\n",
       " [ 0  0  0  0  0  0  0  0  0  0  0  0  0  0  0  0  0  0  0  0  0  0  0  0  0  0  0  0  1],\n",
       " (0, 0, -3): [ 1 -1  1],\n",
       " (0,\n",
       "  0,\n",
       "  -2): [ 1  0  0  0  0  0  0  0  0 -1  0  0  0  0  0  0  0  0  0  0  0 -1  0 -1  0  0  0  0  0  1  0  1  0  0]\n",
       " [ 0  1  0  0  0  0  0  0  0  0  1 -1  0  0  0 -1  1 -1  0  0  0  0  0  0  0  0  0  0  1 -1  0  1  0  0]\n",
       " [ 0  0  1  0  0  0  0  0  0  0  0  0  0  1  0  0  0  0  0  0  0  0  0  0  0  0  0  0  0  0  0  0  0  0]\n",
       " [ 0  0  0  1  0  0  0  0  0  0  0  0  0  0  1 -1 -1  1  0  0  0  0  0  0  0  0  0  0  1  1  0 -1  0  0]\n",
       " [ 0  0  0  0  1  0  0  0  0  0  0 -1  0  0 -1  0  0  0  0  0  1  1  0 -1  0  0  0  0 -1 -1  0  1  0  0]\n",
       " [ 0  0  0  0  0  1  0  0  0  0  0  0  0  0  0 -2  1  1  0  1  0  0  0  0  0  0  0  0  2 -1  0 -1  0  0]\n",
       " [ 0  0  0  0  0  0  1  0  0  0  0  0  1  0  0  1 -2  0  0  0  0  0  0  0  0  1  0  0 -1  2  0  0  0  0]\n",
       " [ 0  0  0  0  0  0  0  1  0  0  0  0  0  0  0  0  0  0  0 -1  2 -1  0 -1  0  0  0  0 -2  1  0  1  0  0]\n",
       " [ 0  0  0  0  0  0  0  0  1  0  0  0  0  0  0  0  0  0  0  0  1 -2  0  0  0  1  0  0 -1  2  0  0  0  0]\n",
       " [ 0  0  0  0  0  0  0  0  0  0  0  0  0  0  0  0  0  0  1  0  0  0  0  0  0  0  0  0  0  0  0  0 -1  0]\n",
       " [ 0  0  0  0  0  0  0  0  0  0  0  0  0  0  0  0  0  0  0  0  0  0  1  0  0  0  0  0  0  0 -1  0  0  0]\n",
       " [ 0  0  0  0  0  0  0  0  0  0  0  0  0  0  0  0  0  0  0  0  0  0  0  0  1  0  0  0  0  0  0  0  0  0]\n",
       " [ 0  0  0  0  0  0  0  0  0  0  0  0  0  0  0  0  0  0  0  0  0  0  0  0  0  0  1 -1  0  0  0  0  0  0],\n",
       " (0, 0, -1): 40 x 88 dense matrix over Integer Ring,\n",
       " (0, 0, 0): 58 x 99 dense matrix over Integer Ring,\n",
       " (0, 0, 1): 34 x 45 dense matrix over Integer Ring,\n",
       " (0, 1, -2): [ 1  0  1  0  0  0  0]\n",
       " [ 0  1  1  0  0  0  0]\n",
       " [ 0  0  0  1  0  0 -1]\n",
       " [ 0  0  0  0  1  0  0]\n",
       " [ 0  0  0  0  0  1 -1],\n",
       " (0, 1, -1): 20 x 30 dense matrix over Integer Ring,\n",
       " (0, 1, 0): 33 x 44 dense matrix over Integer Ring,\n",
       " (0, 1, 1): 23 x 26 dense matrix over Integer Ring,\n",
       " (1, -3, -2): [1 1],\n",
       " (1, -3, -1): [1 1],\n",
       " (1, -2, -3): [1 1],\n",
       " (1, -2, -2): [ 1  0  0  1  0  0  1  0  0]\n",
       " [ 0  1  0  0  0  1  0  0  0]\n",
       " [ 0  0  1  0  1  0  0  0  0]\n",
       " [ 0  0  0  0  0  0  0  1 -1],\n",
       " (1, -2, -1): [ 1  0  0  0  0  1  0  0  0 -1 -1  0  0  0  0]\n",
       " [ 0  1  0  0  0  0  1  0  1  1 -1  0  0  0  0]\n",
       " [ 0  0  1  0  0  0  0  1  1  0 -2  0  0  0  0]\n",
       " [ 0  0  0  1  0  0  0  0  1 -2  0  0  0  0  0]\n",
       " [ 0  0  0  0  1  0  0 -1  0  0  0  0  0  0  0]\n",
       " [ 0  0  0  0  0  0  0  0  0  0  0  1  0  0  1]\n",
       " [ 0  0  0  0  0  0  0  0  0  0  0  0  1 -1  0],\n",
       " (1, -2, 0): [ 1  1  0  0  0  0]\n",
       " [ 0  0  1  0  0  1]\n",
       " [ 0  0  0  1  0  0]\n",
       " [ 0  0  0  0  1 -1],\n",
       " (1, -1, -3): [1 1 1],\n",
       " (1, -1, -2): [ 1  0  0  0  0  0  1  0  0  0  0  0  0 -1  0 -1  0  0  0  0]\n",
       " [ 0  1  0  0  0  0  0  0  0  1  0  0  0  0  0  0  0  0  0  0]\n",
       " [ 0  0  1  0  0  0  0  0  1  0  0  0  1  1  0 -1  0  0  0  0]\n",
       " [ 0  0  0  1  0  0  0  1  0  0  0  1  0  0  0  0  0  0  0  0]\n",
       " [ 0  0  0  0  1  0  0  0  0  0  0 -1  2 -1  0 -1  0  0  0  0]\n",
       " [ 0  0  0  0  0  1  0  0  0  0  0  0  1 -2  0  0  0  0  0  0]\n",
       " [ 0  0  0  0  0  0  0  0  0  0  1  0  0  0  0  0  0  0  0 -1]\n",
       " [ 0  0  0  0  0  0  0  0  0  0  0  0  0  0  1  0  0 -1  0  0]\n",
       " [ 0  0  0  0  0  0  0  0  0  0  0  0  0  0  0  0  1  0 -1  0],\n",
       " (1, -1, -1): 21 x 39 dense matrix over Integer Ring,\n",
       " (1,\n",
       "  -1,\n",
       "  0): [ 1  0  0  0  0  0  0 -1 -1  0  0  0  0  0  0  0  0  0  0  0  0  0  0  0  0  0  0  0  0]\n",
       " [ 0  1  0  0  0  0  1  1 -1  0  0  0  0  0  0  0  0  0  0  0  0  0  0  0  0  0  0  0  0]\n",
       " [ 0  0  1  0  0  1  1  0 -2  0  0  0  0  0  0  0  0  0  0  0  0  0  0  0  0  0  0  0  0]\n",
       " [ 0  0  0  1  0  0  1 -2  0  0  0  0  0  0  0  0  0  0  0  0  0  0  0  0  0  0  0  0  0]\n",
       " [ 0  0  0  0  1 -1  0  0  0  0  0  0  0  0  0  0  0  0  0  0  0  0  0  0  0  0  0  0  0]\n",
       " [ 0  0  0  0  0  0  0  0  0  1  0  0  0  0  0  0  0  0  0  0  0  0  0  0  0  0  0  0  0]\n",
       " [ 0  0  0  0  0  0  0  0  0  0  1  0  0  0  0  0  0  0  0  0  0  0  0  0  0  0  1  0  1]\n",
       " [ 0  0  0  0  0  0  0  0  0  0  0  1  0  0  0  0  0  0  0  0  0  0  0  0  0 -1  1  0 -1]\n",
       " [ 0  0  0  0  0  0  0  0  0  0  0  0  1  0  0  0  0  0  0  0  0  0  0  0  0  0  0  0  0]\n",
       " [ 0  0  0  0  0  0  0  0  0  0  0  0  0  1  0  0  0  0  0  0  0  0  0  0  0 -1 -1  0  1]\n",
       " [ 0  0  0  0  0  0  0  0  0  0  0  0  0  0  1  0  0  0  0  0  0  0  0  0  1  0  0  0  0]\n",
       " [ 0  0  0  0  0  0  0  0  0  0  0  0  0  0  0  1  0  0  0  0  0  0  0  0  0 -1  0  0  2]\n",
       " [ 0  0  0  0  0  0  0  0  0  0  0  0  0  0  0  0  1  0  0  0  0  0  0  1  0  0  0  0  0]\n",
       " [ 0  0  0  0  0  0  0  0  0  0  0  0  0  0  0  0  0  1  0  0  0  0 -1  0  0  0  0  0  0]\n",
       " [ 0  0  0  0  0  0  0  0  0  0  0  0  0  0  0  0  0  0  1  0  0  0  0  0  0  0  0  0  0]\n",
       " [ 0  0  0  0  0  0  0  0  0  0  0  0  0  0  0  0  0  0  0  1  0  0  0  0 -1  0  0  0  0]\n",
       " [ 0  0  0  0  0  0  0  0  0  0  0  0  0  0  0  0  0  0  0  0  1  0  0  0  0  0  0  0  0]\n",
       " [ 0  0  0  0  0  0  0  0  0  0  0  0  0  0  0  0  0  0  0  0  0  1  0  0  0  1 -2  0  0]\n",
       " [ 0  0  0  0  0  0  0  0  0  0  0  0  0  0  0  0  0  0  0  0  0  0  0  0  0  0  0  1  0],\n",
       " (1, -1, 1): [ 1  0  0  0  0  0  0]\n",
       " [ 0  1  0  0  0  0  0]\n",
       " [ 0  0  1  0  0  0  0]\n",
       " [ 0  0  0  1  0  1  0]\n",
       " [ 0  0  0  0  1 -1  0]\n",
       " [ 0  0  0  0  0  0  1],\n",
       " (1, 0, -3): [1 1],\n",
       " (1, 0, -2): [ 1  0  0  0  0  1  0  0 -1  0 -1  0  0  0  0  0  0  0]\n",
       " [ 0  1  0  0  0  0  0  1  1  0 -1  0  0  0  0  0  0  0]\n",
       " [ 0  0  1  0  0  0  1  0  0  0  0  0  0  0  0  0  0  0]\n",
       " [ 0  0  0  1  0  0 -1  2 -1  0 -1  0  0  0  0  0  0  0]\n",
       " [ 0  0  0  0  1  0  0  1 -2  0  0  0  0  0  0  0  0  0]\n",
       " [ 0  0  0  0  0  0  0  0  0  1  0  0  0  0  0  0 -1  0]\n",
       " [ 0  0  0  0  0  0  0  0  0  0  0  1  0  0  0  0  0 -1]\n",
       " [ 0  0  0  0  0  0  0  0  0  0  0  0  1  0  0  0  0 -1]\n",
       " [ 0  0  0  0  0  0  0  0  0  0  0  0  0  1  0 -1  0  0]\n",
       " [ 0  0  0  0  0  0  0  0  0  0  0  0  0  0  1  0  0  0],\n",
       " (1, 0, -1): 30 x 47 dense matrix over Integer Ring,\n",
       " (1, 0, 0): 34 x 45 dense matrix over Integer Ring,\n",
       " (1, 0, 1): [ 1  0  0  0  0  0  0  0  0  0  0  0  0  0  0  0  0  0  0]\n",
       " [ 0  1  0  0  0  0  0  0  0  0  0  0  0  0  0  0  0  0  0]\n",
       " [ 0  0  1  0  0  0  0  0  0  0  0  0  0  0  0  0  0  0  0]\n",
       " [ 0  0  0  1  0  0  0  0  0  0  0  0  0  1  0 -1  0  0  0]\n",
       " [ 0  0  0  0  1  0  0  0  0  0  0  0  0  0  0  0  0  0  0]\n",
       " [ 0  0  0  0  0  1  0  0  0  0  0  0  0  0  0  0  0  0  0]\n",
       " [ 0  0  0  0  0  0  1  0  0  0  0  0  0  0  0  0  0  0  0]\n",
       " [ 0  0  0  0  0  0  0  1  0  0  0  0  0  0  0  0  0  0  0]\n",
       " [ 0  0  0  0  0  0  0  0  1  0  0  0 -1  1  0  1  0  0  0]\n",
       " [ 0  0  0  0  0  0  0  0  0  1  0  0 -1 -1  0 -1  0  0  0]\n",
       " [ 0  0  0  0  0  0  0  0  0  0  1  0 -1  0  0 -2  0  0  0]\n",
       " [ 0  0  0  0  0  0  0  0  0  0  0  1  1 -2  0  0  0  0  0]\n",
       " [ 0  0  0  0  0  0  0  0  0  0  0  0  0  0  1  0  0  0  0]\n",
       " [ 0  0  0  0  0  0  0  0  0  0  0  0  0  0  0  0  1  0  0]\n",
       " [ 0  0  0  0  0  0  0  0  0  0  0  0  0  0  0  0  0  1  0]\n",
       " [ 0  0  0  0  0  0  0  0  0  0  0  0  0  0  0  0  0  0  1],\n",
       " (1, 1, -2): [ 1  0  0  0  0]\n",
       " [ 0  1  0  0 -1]\n",
       " [ 0  0  1  0  0]\n",
       " [ 0  0  0  1 -1],\n",
       " (1, 1, -1): [ 1  0  0  0  0  0  0  0  0  0  0  0  0  0  0  0  0  0  0  0]\n",
       " [ 0  1  0  0  0  0  0  0  0  0  0  0  0  0  0  0  0  0  0  0]\n",
       " [ 0  0  1  0  0  0  0  0  0  0  0  0  0  0  0  0  1 -1  0  0]\n",
       " [ 0  0  0  1  0  0  0  0  0  0  0  0  0  0  0  0  0  0  0  0]\n",
       " [ 0  0  0  0  1  0  0  0  0  0  0  0  0  0  0 -1  1  1  0  0]\n",
       " [ 0  0  0  0  0  1  0  0  0  0  0  0  0  0 -1  0  0  0  0  0]\n",
       " [ 0  0  0  0  0  0  1  0  0  0  0  0  0  0  0  0  0  0  0  0]\n",
       " [ 0  0  0  0  0  0  0  1  0  0  0  0  0  0  0  0  0  0  0  0]\n",
       " [ 0  0  0  0  0  0  0  0  1  0  0  0  0  0  0 -1 -1 -1  0  0]\n",
       " [ 0  0  0  0  0  0  0  0  0  1  0  0  0  0  0  0  0  0  0  0]\n",
       " [ 0  0  0  0  0  0  0  0  0  0  1  0  0  0  0  0  0  0  0  0]\n",
       " [ 0  0  0  0  0  0  0  0  0  0  0  1  0  0 -1  0  0  0  0  0]\n",
       " [ 0  0  0  0  0  0  0  0  0  0  0  0  1  0  0 -2  1 -1  0  0]\n",
       " [ 0  0  0  0  0  0  0  0  0  0  0  0  0  1  0  1 -2  0  0  0]\n",
       " [ 0  0  0  0  0  0  0  0  0  0  0  0  0  0  0  0  0  0  1  0]\n",
       " [ 0  0  0  0  0  0  0  0  0  0  0  0  0  0  0  0  0  0  0  1],\n",
       " (1, 1, 0): 23 x 26 dense matrix over Integer Ring}"
      ]
     },
     "execution_count": 22,
     "metadata": {},
     "output_type": "execute_result"
    }
   ],
   "source": [
    "Tijk_basis(BGG, i,j,k)"
   ]
  },
  {
   "cell_type": "code",
   "execution_count": 25,
   "metadata": {},
   "outputs": [
    {
     "name": "stdout",
     "output_type": "stream",
     "text": [
      "(2, 2, -2)\n"
     ]
    },
    {
     "data": {
      "text/plain": [
       "[[('u', 1, 'sym'), ('g', 0, 'wedge'), ('n', 2, 'wedge')],\n",
       " [('u', 0, 'sym'), ('g', 1, 'wedge'), ('n', 1, 'wedge')]]"
      ]
     },
     "metadata": {},
     "output_type": "display_data"
    },
    {
     "data": {
      "text/latex": [
       "$$\\mathrm H^{1}=\\mathbb{C}^{2}\\oplus L\\left(\\alpha_{1}+\\alpha_{2}\\right)^{2}$$"
      ],
      "text/plain": [
       "<IPython.core.display.Math object>"
      ]
     },
     "metadata": {},
     "output_type": "display_data"
    }
   ],
   "source": [
    "BGG = BGGComplex('A2')\n",
    "s = 0\n",
    "i = 0\n",
    "j = 2\n",
    "k = s-i-j\n",
    "print(i+j,j-i,k)\n",
    "display(Mijk(BGG,i,j,k).components)\n",
    "cohom = BGGCohomology(BGG, Mijk(BGG,i,j,k), coker=Tijk_basis(BGG, i,j,k))\n",
    "cohom.cohomology_LaTeX()"
   ]
  },
  {
   "cell_type": "code",
   "execution_count": 26,
   "metadata": {},
   "outputs": [
    {
     "data": {
      "text/plain": [
       "{0: array([-1, -1], dtype=int32),\n",
       " 1: array([-1,  0], dtype=int32),\n",
       " 2: array([ 0, -1], dtype=int32),\n",
       " 3: array([0, 0], dtype=int32),\n",
       " 4: array([0, 0], dtype=int32),\n",
       " 5: array([1, 1], dtype=int32),\n",
       " 6: array([0, 1], dtype=int32),\n",
       " 7: array([1, 0], dtype=int32)}"
      ]
     },
     "execution_count": 26,
     "metadata": {},
     "output_type": "execute_result"
    }
   ],
   "source": [
    "BGG = BGGComplex('A2')\n",
    "factory = FastModuleFactory(BGG.LA)\n",
    "factory.weight_dic"
   ]
  },
  {
   "cell_type": "code",
   "execution_count": 27,
   "metadata": {
    "scrolled": true
   },
   "outputs": [
    {
     "name": "stdout",
     "output_type": "stream",
     "text": [
      "(0, 1)\n",
      "----------\n",
      "(1, array([[5, 1]], dtype=int32))\n",
      "\n",
      "\n",
      "(-1, 1)\n",
      "----------\n",
      "(1, array([[6, 1]], dtype=int32))\n",
      "\n",
      "\n",
      "(0, 0)\n",
      "----------\n",
      "(0, array([[5, 1, 2]], dtype=int32))\n",
      "(1, array([[5, 0],\n",
      "       [6, 2],\n",
      "       [7, 1]], dtype=int32))\n",
      "\n",
      "\n",
      "(-2, 0)\n",
      "----------\n",
      "(0, array([[6, 0, 1]], dtype=int32))\n",
      "(1, array([[1, 1]], dtype=int32))\n",
      "\n",
      "\n",
      "(-1, -2)\n",
      "----------\n",
      "(1, array([[0, 2],\n",
      "       [2, 0]], dtype=int32))\n",
      "\n",
      "\n",
      "(-1, -1)\n",
      "----------\n",
      "(0, array([[6, 0, 2],\n",
      "       [7, 0, 1]], dtype=int32))\n",
      "(1, array([[1, 2],\n",
      "       [2, 1],\n",
      "       [3, 0],\n",
      "       [4, 0]], dtype=int32))\n",
      "\n",
      "\n",
      "(-2, -2)\n",
      "----------\n",
      "(1, array([[0, 0]], dtype=int32))\n",
      "\n",
      "\n",
      "(-2, -1)\n",
      "----------\n",
      "(1, array([[0, 1],\n",
      "       [1, 0]], dtype=int32))\n",
      "\n",
      "\n",
      "(0, -2)\n",
      "----------\n",
      "(0, array([[7, 0, 2]], dtype=int32))\n",
      "(1, array([[2, 2]], dtype=int32))\n",
      "\n",
      "\n",
      "(0, -1)\n",
      "----------\n",
      "(0, array([[5, 0, 2],\n",
      "       [7, 1, 2]], dtype=int32))\n",
      "(1, array([[3, 2],\n",
      "       [4, 2],\n",
      "       [7, 0]], dtype=int32))\n",
      "\n",
      "\n",
      "(1, 0)\n",
      "----------\n",
      "(1, array([[5, 2]], dtype=int32))\n",
      "\n",
      "\n",
      "(1, -1)\n",
      "----------\n",
      "(1, array([[7, 2]], dtype=int32))\n",
      "\n",
      "\n",
      "(-1, 0)\n",
      "----------\n",
      "(0, array([[5, 0, 1],\n",
      "       [6, 1, 2]], dtype=int32))\n",
      "(1, array([[3, 1],\n",
      "       [4, 1],\n",
      "       [6, 0]], dtype=int32))\n",
      "\n",
      "\n"
     ]
    }
   ],
   "source": [
    "module =  Mijk(BGG,0,2,-2)\n",
    "for mu, cl in module.weight_components.items():\n",
    "    print(mu)\n",
    "    print('-'*10)\n",
    "    for c in cl:\n",
    "        print(c)\n",
    "    print('\\n')"
   ]
  },
  {
   "cell_type": "code",
   "execution_count": 28,
   "metadata": {},
   "outputs": [
    {
     "data": {
      "text/latex": [
       "$$\\to1,\\,\\,\\,f_{1}$$"
      ],
      "text/plain": [
       "<IPython.core.display.Math object>"
      ]
     },
     "metadata": {},
     "output_type": "display_data"
    },
    {
     "data": {
      "text/latex": [
       "$$\\to2,\\,\\,\\,f_{2}$$"
      ],
      "text/plain": [
       "<IPython.core.display.Math object>"
      ]
     },
     "metadata": {},
     "output_type": "display_data"
    },
    {
     "data": {
      "text/latex": [
       "$$1\\to12,\\,\\,2\\,f_{12} +\\,f_{1}\\,f_{2}$$"
      ],
      "text/plain": [
       "<IPython.core.display.Math object>"
      ]
     },
     "metadata": {},
     "output_type": "display_data"
    },
    {
     "data": {
      "text/latex": [
       "$$1\\to21,\\,\\,\\,f_{2}^{2}$$"
      ],
      "text/plain": [
       "<IPython.core.display.Math object>"
      ]
     },
     "metadata": {},
     "output_type": "display_data"
    },
    {
     "data": {
      "text/latex": [
       "$$2\\to12,\\,\\,\\,f_{1}^{2}$$"
      ],
      "text/plain": [
       "<IPython.core.display.Math object>"
      ]
     },
     "metadata": {},
     "output_type": "display_data"
    },
    {
     "data": {
      "text/latex": [
       "$$2\\to21,\\,\\,-\\,f_{12} +\\,f_{1}\\,f_{2}$$"
      ],
      "text/plain": [
       "<IPython.core.display.Math object>"
      ]
     },
     "metadata": {},
     "output_type": "display_data"
    },
    {
     "data": {
      "text/latex": [
       "$$12\\to121,\\,\\,\\,f_{2}$$"
      ],
      "text/plain": [
       "<IPython.core.display.Math object>"
      ]
     },
     "metadata": {},
     "output_type": "display_data"
    },
    {
     "data": {
      "text/latex": [
       "$$21\\to121,\\,\\,\\,f_{1}$$"
      ],
      "text/plain": [
       "<IPython.core.display.Math object>"
      ]
     },
     "metadata": {},
     "output_type": "display_data"
    }
   ],
   "source": [
    "BGG.display_maps((0,0))"
   ]
  },
  {
   "cell_type": "code",
   "execution_count": 29,
   "metadata": {},
   "outputs": [
    {
     "data": {
      "text/plain": [
       "{'': (0, 0),\n",
       " '1': (-1, 0),\n",
       " '12': (-2, -1),\n",
       " '121': (-2, -2),\n",
       " '2': (0, -1),\n",
       " '21': (-1, -2)}"
      ]
     },
     "execution_count": 29,
     "metadata": {},
     "output_type": "execute_result"
    }
   ],
   "source": [
    "cohom = BGGCohomology(BGG, Mijk(BGG,i,j,k))\n",
    "cohom.weight_set.get_vertex_weights((0,0))"
   ]
  },
  {
   "cell_type": "code",
   "execution_count": 30,
   "metadata": {},
   "outputs": [
    {
     "data": {
      "text/plain": [
       "[[('u', 0, 'sym'), ('g', 0, 'wedge'), ('n', 1, 'wedge')]]"
      ]
     },
     "execution_count": 30,
     "metadata": {},
     "output_type": "execute_result"
    }
   ],
   "source": [
    "Mijk(BGG,0,1,-2).components"
   ]
  },
  {
   "cell_type": "code",
   "execution_count": 31,
   "metadata": {},
   "outputs": [
    {
     "name": "stdout",
     "output_type": "stream",
     "text": [
      "(0, -2)\n",
      "----------\n",
      "[[2 2]]\n",
      "\n",
      "\n",
      "(-2, 0)\n",
      "----------\n",
      "[[1 1]]\n",
      "\n",
      "\n",
      "(-2, -2)\n",
      "----------\n",
      "[[0 0]]\n",
      "\n",
      "\n",
      "(-1, -1)\n",
      "----------\n",
      "[[1 2]\n",
      " [2 1]\n",
      " [3 0]\n",
      " [4 0]]\n",
      "\n",
      "\n",
      "(-1, -2)\n",
      "----------\n",
      "[[0 2]\n",
      " [2 0]]\n",
      "\n",
      "\n",
      "(-2, -1)\n",
      "----------\n",
      "[[0 1]\n",
      " [1 0]]\n",
      "\n",
      "\n",
      "(0, -1)\n",
      "----------\n",
      "[[3 2]\n",
      " [4 2]]\n",
      "\n",
      "\n",
      "(-1, 0)\n",
      "----------\n",
      "[[3 1]\n",
      " [4 1]]\n",
      "\n",
      "\n"
     ]
    }
   ],
   "source": [
    "component_dic = {'b':factory.build_component('b','coad',subset=[]),'g':factory.build_component('g','coad',subset=[])\n",
    "                ,'u':factory.build_component('u','coad',subset=[]),'n':factory.build_component('n','coad',subset=[])}\n",
    "\n",
    "components = [[('b',1,'sym'),('n',1,'wedge')]]\n",
    "\n",
    "module = FastLieAlgebraCompositeModule(factory,components,component_dic)\n",
    "module.weight_components\n",
    "for mu, cl in module.weight_components.items():\n",
    "    print(mu)\n",
    "    print('-'*10)\n",
    "    print(cl[0][1])\n",
    "    print('\\n')"
   ]
  },
  {
   "cell_type": "code",
   "execution_count": 32,
   "metadata": {},
   "outputs": [
    {
     "data": {
      "text/plain": [
       "{0: [],\n",
       " 1: array([[ 0,  6, -1]]),\n",
       " 2: array([[0, 7, 1]]),\n",
       " 3: array([[ 2,  6,  2],\n",
       "        [ 1,  7, -1],\n",
       "        [ 0,  5,  1]]),\n",
       " 4: array([[ 1,  7,  2],\n",
       "        [ 2,  6, -1],\n",
       "        [ 0,  5,  1]])}"
      ]
     },
     "execution_count": 32,
     "metadata": {},
     "output_type": "execute_result"
    }
   ],
   "source": [
    "compute_phi(BGG)"
   ]
  },
  {
   "cell_type": "code",
   "execution_count": 33,
   "metadata": {},
   "outputs": [],
   "source": [
    "coadu=factory.coadjoint_action_tensor(factory.basis['b'],factory.basis['u'])\n",
    "coadn=factory.coadjoint_action_tensor(factory.basis['b'],factory.basis['n'])\n",
    "coadg=factory.coadjoint_action_tensor(factory.basis['b'],factory.g_basis)"
   ]
  },
  {
   "cell_type": "code",
   "execution_count": 34,
   "metadata": {},
   "outputs": [
    {
     "data": {
      "text/plain": [
       "{}"
      ]
     },
     "execution_count": 34,
     "metadata": {},
     "output_type": "execute_result"
    }
   ],
   "source": [
    "coadg[(2,7)]"
   ]
  },
  {
   "cell_type": "code",
   "execution_count": null,
   "metadata": {},
   "outputs": [],
   "source": []
  }
 ],
 "metadata": {
  "kernelspec": {
   "display_name": "SageMath 8.9",
   "language": "sage",
   "name": "sagemath"
  },
  "language_info": {
   "codemirror_mode": {
    "name": "ipython",
    "version": 2
   },
   "file_extension": ".py",
   "mimetype": "text/x-python",
   "name": "python",
   "nbconvert_exporter": "python",
   "pygments_lexer": "ipython2",
   "version": "2.7.15"
  }
 },
 "nbformat": 4,
 "nbformat_minor": 2
}
