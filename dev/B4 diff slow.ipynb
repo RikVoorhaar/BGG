{
 "cells": [
  {
   "cell_type": "code",
   "execution_count": 7,
   "metadata": {},
   "outputs": [],
   "source": [
    "import sys\n",
    "sys.path.append('../bggcomplex')\n",
    "\n",
    "from bggcomplex import BGGComplex\n",
    "from fast_module import FastLieAlgebraCompositeModule, FastModuleFactory, BGGCohomology\n",
    "from tqdm.auto import tqdm\n",
    "from compute_maps import BGGMapSolver\n",
    "import numpy as np"
   ]
  },
  {
   "cell_type": "code",
   "execution_count": 2,
   "metadata": {},
   "outputs": [
    {
     "name": "stdout",
     "output_type": "stream",
     "text": [
      "dim of u is 12 for root system B4\n"
     ]
    },
    {
     "data": {
      "application/vnd.jupyter.widget-view+json": {
       "model_id": "",
       "version_major": 2,
       "version_minor": 0
      },
      "text/plain": [
       "HBox(children=(IntProgress(value=0, max=13), HTML(value=u'')))"
      ]
     },
     "metadata": {},
     "output_type": "display_data"
    },
    {
     "data": {
      "application/vnd.jupyter.widget-view+json": {
       "model_id": "",
       "version_major": 2,
       "version_minor": 0
      },
      "text/plain": [
       "HBox(children=(IntProgress(value=1, bar_style=u'info', max=1), HTML(value=u'')))"
      ]
     },
     "metadata": {},
     "output_type": "display_data"
    },
    {
     "data": {
      "application/vnd.jupyter.widget-view+json": {
       "model_id": "",
       "version_major": 2,
       "version_minor": 0
      },
      "text/plain": [
       "HBox(children=(IntProgress(value=1, bar_style=u'info', max=1), HTML(value=u'')))"
      ]
     },
     "metadata": {},
     "output_type": "display_data"
    }
   ],
   "source": [
    "d='B4'\n",
    "BGG = BGGComplex(d)\n",
    "factory = FastModuleFactory(BGG.LA)\n",
    "component_dic = {'u':factory.build_component('u','coad',subset=[1,2,4])}\n",
    "u_dim = len(component_dic['u'].basis)\n",
    "print('dim of u is %d for root system %s' % (u_dim, d))\n",
    "\n",
    "pbar1 = tqdm(range(u_dim+1))\n",
    "pbar2 = tqdm()\n",
    "pbar3 = tqdm()\n",
    "for k in [1]:\n",
    "    components = [[('u',k,'wedge')]]\n",
    "    module = FastLieAlgebraCompositeModule(factory,components,component_dic)\n",
    "\n",
    "    cohom = BGGCohomology(BGG, module,pbars=[pbar2,pbar3])\n",
    "\n",
    "    #cohom.cohomology_LaTeX(complex_string=r'X_{'+d+r'},\\wedge^{'+str(k)+'}T_X',i=0)"
   ]
  },
  {
   "cell_type": "code",
   "execution_count": 4,
   "metadata": {},
   "outputs": [
    {
     "data": {
      "text/plain": [
       "[((1, 1, 1, 0), (1, 1, 1, 1), 1),\n",
       " ((1, 2, 2, 2), (1, 2, 2, 2), 0),\n",
       " ((1, 1, 1, 1), (1, 1, 1, 1), 0)]"
      ]
     },
     "execution_count": 4,
     "metadata": {},
     "output_type": "execute_result"
    }
   ],
   "source": [
    "cohom.regular_weights"
   ]
  },
  {
   "cell_type": "code",
   "execution_count": 10,
   "metadata": {},
   "outputs": [
    {
     "name": "stdout",
     "output_type": "stream",
     "text": [
      " "
     ]
    }
   ],
   "source": [
    "%%prun\n",
    "mu = (1,1,1,1)\n",
    "mu_alpha = BGG.weight_to_alpha_sum(BGG._tuple_to_weight(mu))\n",
    "solver = BGGMapSolver(BGG,mu_alpha)\n",
    "solver.solve(column=0)\n",
    "#BGG.compute_maps(mu_alpha,column=1)"
   ]
  }
 ],
 "metadata": {
  "kernelspec": {
   "display_name": "SageMath 8.9",
   "language": "sage",
   "name": "sagemath"
  },
  "language_info": {
   "codemirror_mode": {
    "name": "ipython",
    "version": 2
   },
   "file_extension": ".py",
   "mimetype": "text/x-python",
   "name": "python",
   "nbconvert_exporter": "python",
   "pygments_lexer": "ipython2",
   "version": "2.7.15"
  }
 },
 "nbformat": 4,
 "nbformat_minor": 2
}
