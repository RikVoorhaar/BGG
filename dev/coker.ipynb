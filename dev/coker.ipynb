{
 "cells": [
  {
   "cell_type": "code",
   "execution_count": 1,
   "metadata": {},
   "outputs": [],
   "source": [
    "import sys\n",
    "sys.path.append('../bggcomplex')\n",
    "\n",
    "from bggcomplex import BGGComplex\n",
    "from fast_module import FastLieAlgebraCompositeModule, FastModuleFactory, BGGCohomology, WeightSet\n",
    "import cohomology\n",
    "import numpy as np"
   ]
  },
  {
   "cell_type": "code",
   "execution_count": 2,
   "metadata": {},
   "outputs": [],
   "source": [
    "BGG = BGGComplex('A2')\n",
    "factory = FastModuleFactory(BGG.LA)\n",
    "\n",
    "component_dic = {'b':factory.build_component('u','coad',subset=[])}"
   ]
  },
  {
   "cell_type": "code",
   "execution_count": 3,
   "metadata": {},
   "outputs": [
    {
     "data": {
      "text/plain": [
       "{(0, 3): [(0, array([[6, 6, 6]], dtype=int32))], (1, 2): [(0, array([[6, 6, 7],\n",
       "          [6, 7, 6],\n",
       "          [7, 6, 6]], dtype=int32))], (1, 3): [(0, array([[5, 6, 6],\n",
       "          [6, 5, 6],\n",
       "          [6, 6, 5]], dtype=int32))], (2, 1): [(0, array([[6, 7, 7],\n",
       "          [7, 6, 7],\n",
       "          [7, 7, 6]], dtype=int32))], (2, 2): [(0, array([[5, 6, 7],\n",
       "          [5, 7, 6],\n",
       "          [6, 5, 7],\n",
       "          [6, 7, 5],\n",
       "          [7, 5, 6],\n",
       "          [7, 6, 5]], dtype=int32))], (2, 3): [(0, array([[5, 5, 6],\n",
       "          [5, 6, 5],\n",
       "          [6, 5, 5]], dtype=int32))], (3,\n",
       "  0): [(0, array([[7, 7, 7]], dtype=int32))], (3, 1): [(0, array([[5, 7, 7],\n",
       "          [7, 5, 7],\n",
       "          [7, 7, 5]], dtype=int32))], (3, 2): [(0, array([[5, 5, 7],\n",
       "          [5, 7, 5],\n",
       "          [7, 5, 5]], dtype=int32))], (3,\n",
       "  3): [(0, array([[5, 5, 5]], dtype=int32))]}"
      ]
     },
     "execution_count": 3,
     "metadata": {},
     "output_type": "execute_result"
    }
   ],
   "source": [
    "components1 = [[(\"b\",3,'wedge')]]\n",
    "module1 = FastLieAlgebraCompositeModule(factory,components1,component_dic)\n",
    "\n",
    "components2 = [[(\"b\",1,'wedge')]*3]\n",
    "module2 = FastLieAlgebraCompositeModule(factory,components2,component_dic)\n",
    "\n",
    "module2.weight_components"
   ]
  },
  {
   "cell_type": "code",
   "execution_count": 4,
   "metadata": {},
   "outputs": [
    {
     "data": {
      "text/plain": [
       "{(2, 2): [ 1  0  0  0  0  1]\n",
       " [ 0  1  0  0  0 -1]\n",
       " [ 0  0  1  0  0 -1]\n",
       " [ 0  0  0  1  0  1]\n",
       " [ 0  0  0  0  1  1]}"
      ]
     },
     "execution_count": 4,
     "metadata": {},
     "output_type": "execute_result"
    }
   ],
   "source": [
    "from sympy.utilities.iterables import multiset_permutations\n",
    "from sympy.combinatorics.permutations import Permutation\n",
    "T = dict()\n",
    "for mu in module1.weight_components.keys():\n",
    "    comp = module1.weight_components[mu][0][1]\n",
    "    sparse_mat = dict()\n",
    "    for wedge_index, wedge_row in enumerate(comp):\n",
    "        perms = list(multiset_permutations(wedge_row))\n",
    "        perms_standard = list(multiset_permutations(range(len(wedge_row))))\n",
    "        signs = [Permutation(p).signature() for p in perms_standard]\n",
    "        perm_dic={tuple(p):s for p,s in zip(perms,signs)}\n",
    "\n",
    "\n",
    "        comp2 = module2.weight_components[mu][0][1]\n",
    "        for j,row in enumerate(comp2):\n",
    "            if tuple(row) in perm_dic:\n",
    "                sparse_mat[(wedge_index,j)]= perm_dic[tuple(row)]\n",
    "    M = matrix(ZZ,sparse_mat,nrows = len(comp), ncols = len(comp2), sparse=True)\n",
    "    T[mu]=M.transpose().kernel().basis_matrix()\n",
    "T"
   ]
  },
  {
   "cell_type": "code",
   "execution_count": 5,
   "metadata": {},
   "outputs": [
    {
     "data": {
      "text/plain": [
       "{(2, 2): [(0, array([[5, 6, 7]], dtype=int32))]}"
      ]
     },
     "execution_count": 5,
     "metadata": {},
     "output_type": "execute_result"
    }
   ],
   "source": [
    "module1.weight_components"
   ]
  },
  {
   "cell_type": "code",
   "execution_count": 9,
   "metadata": {
    "scrolled": true
   },
   "outputs": [],
   "source": [
    "cohom = BGGCohomology(BGG, module2,coker=T)"
   ]
  },
  {
   "cell_type": "code",
   "execution_count": 10,
   "metadata": {
    "scrolled": true
   },
   "outputs": [
    {
     "data": {
      "text/latex": [
       "$$\\mathrm H^{0}=L\\left( 2\\alpha_{1}+\\alpha_{2}\\right)^{3}\\oplus L\\left(\\alpha_{1}+ 2\\alpha_{2}\\right)^{3}\\oplus L\\left( 2\\alpha_{1}+ 2\\alpha_{2}\\right)^{6}\\oplus L\\left( 3\\alpha_{1}+ 2\\alpha_{2}\\right)^{2}\\oplus L\\left( 2\\alpha_{1}+ 3\\alpha_{2}\\right)^{2}\\oplus L\\left( 3\\alpha_{1}+ 3\\alpha_{2}\\right)$$"
      ],
      "text/plain": [
       "<IPython.core.display.Math object>"
      ]
     },
     "metadata": {},
     "output_type": "display_data"
    }
   ],
   "source": [
    "cohom.cohomology_LaTeX(print_betti=False)"
   ]
  },
  {
   "cell_type": "markdown",
   "metadata": {},
   "source": [
    "## Quantum center"
   ]
  },
  {
   "cell_type": "code",
   "execution_count": null,
   "metadata": {},
   "outputs": [],
   "source": []
  }
 ],
 "metadata": {
  "kernelspec": {
   "display_name": "SageMath 8.6",
   "language": "",
   "name": "sagemath"
  },
  "language_info": {
   "codemirror_mode": {
    "name": "ipython",
    "version": 2
   },
   "file_extension": ".py",
   "mimetype": "text/x-python",
   "name": "python",
   "nbconvert_exporter": "python",
   "pygments_lexer": "ipython2",
   "version": "2.7.15"
  }
 },
 "nbformat": 4,
 "nbformat_minor": 2
}
