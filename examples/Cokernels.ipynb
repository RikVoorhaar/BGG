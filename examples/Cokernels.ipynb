{
 "cells": [
  {
   "cell_type": "code",
   "execution_count": 2,
   "metadata": {},
   "outputs": [
    {
     "ename": "ModuleNotFoundError",
     "evalue": "No module named 'cohomology'",
     "output_type": "error",
     "traceback": [
      "\u001b[0;31m---------------------------------------------------------------------------\u001b[0m",
      "\u001b[0;31mModuleNotFoundError\u001b[0m                       Traceback (most recent call last)",
      "\u001b[0;32m<ipython-input-2-ee471cc70dd3>\u001b[0m in \u001b[0;36m<module>\u001b[0;34m()\u001b[0m\n\u001b[1;32m      2\u001b[0m \u001b[0msys\u001b[0m\u001b[0;34m.\u001b[0m\u001b[0mpath\u001b[0m\u001b[0;34m.\u001b[0m\u001b[0mappend\u001b[0m\u001b[0;34m(\u001b[0m\u001b[0;34m'../bggcomplex'\u001b[0m\u001b[0;34m)\u001b[0m\u001b[0;34m\u001b[0m\u001b[0;34m\u001b[0m\u001b[0m\n\u001b[1;32m      3\u001b[0m \u001b[0;34m\u001b[0m\u001b[0m\n\u001b[0;32m----> 4\u001b[0;31m \u001b[0;32mfrom\u001b[0m \u001b[0mbggcomplex\u001b[0m \u001b[0;32mimport\u001b[0m \u001b[0mBGGComplex\u001b[0m\u001b[0;34m\u001b[0m\u001b[0;34m\u001b[0m\u001b[0m\n\u001b[0m\u001b[1;32m      5\u001b[0m \u001b[0;32mfrom\u001b[0m \u001b[0mfast_module\u001b[0m \u001b[0;32mimport\u001b[0m \u001b[0mFastLieAlgebraCompositeModule\u001b[0m\u001b[0;34m,\u001b[0m \u001b[0mFastModuleFactory\u001b[0m\u001b[0;34m,\u001b[0m \u001b[0mBGGCohomology\u001b[0m\u001b[0;34m,\u001b[0m \u001b[0mWeightSet\u001b[0m\u001b[0;34m\u001b[0m\u001b[0;34m\u001b[0m\u001b[0m\n\u001b[1;32m      6\u001b[0m \u001b[0;32mimport\u001b[0m \u001b[0mnumpy\u001b[0m \u001b[0;32mas\u001b[0m \u001b[0mnp\u001b[0m\u001b[0;34m\u001b[0m\u001b[0;34m\u001b[0m\u001b[0m\n",
      "\u001b[0;32m/cygdrive/c/Git/BGG/bggcomplex/bggcomplex.py\u001b[0m in \u001b[0;36m<module>\u001b[0;34m()\u001b[0m\n\u001b[1;32m     28\u001b[0m \u001b[0;32mfrom\u001b[0m \u001b[0mpbw\u001b[0m \u001b[0;32mimport\u001b[0m \u001b[0mPoincareBirkhoffWittBasis\u001b[0m\u001b[0;34m\u001b[0m\u001b[0;34m\u001b[0m\u001b[0m\n\u001b[1;32m     29\u001b[0m \u001b[0;34m\u001b[0m\u001b[0m\n\u001b[0;32m---> 30\u001b[0;31m \u001b[0;32mfrom\u001b[0m \u001b[0mfast_module\u001b[0m \u001b[0;32mimport\u001b[0m \u001b[0mWeightSet\u001b[0m\u001b[0;34m\u001b[0m\u001b[0;34m\u001b[0m\u001b[0m\n\u001b[0m\u001b[1;32m     31\u001b[0m \u001b[0;34m\u001b[0m\u001b[0m\n\u001b[1;32m     32\u001b[0m \u001b[0;32mfrom\u001b[0m \u001b[0mcollections\u001b[0m \u001b[0;32mimport\u001b[0m \u001b[0mdefaultdict\u001b[0m\u001b[0;34m\u001b[0m\u001b[0;34m\u001b[0m\u001b[0m\n",
      "\u001b[0;32m/cygdrive/c/Git/BGG/bggcomplex/fast_module.py\u001b[0m in \u001b[0;36m<module>\u001b[0;34m()\u001b[0m\n\u001b[1;32m     15\u001b[0m \u001b[0;32mimport\u001b[0m \u001b[0mnumpy\u001b[0m \u001b[0;32mas\u001b[0m \u001b[0mnp\u001b[0m\u001b[0;34m\u001b[0m\u001b[0;34m\u001b[0m\u001b[0m\n\u001b[1;32m     16\u001b[0m \u001b[0;34m\u001b[0m\u001b[0m\n\u001b[0;32m---> 17\u001b[0;31m \u001b[0;32mimport\u001b[0m \u001b[0mcohomology\u001b[0m\u001b[0;34m\u001b[0m\u001b[0;34m\u001b[0m\u001b[0m\n\u001b[0m\u001b[1;32m     18\u001b[0m \u001b[0;34m\u001b[0m\u001b[0m\n\u001b[1;32m     19\u001b[0m \u001b[0mINT_PRECISION\u001b[0m \u001b[0;34m=\u001b[0m \u001b[0mnp\u001b[0m\u001b[0;34m.\u001b[0m\u001b[0mint32\u001b[0m\u001b[0;34m\u001b[0m\u001b[0;34m\u001b[0m\u001b[0m\n",
      "\u001b[0;31mModuleNotFoundError\u001b[0m: No module named 'cohomology'"
     ]
    }
   ],
   "source": [
    "import sys\n",
    "sys.path.append('../bggcomplex')\n",
    "\n",
    "from bggcomplex import BGGComplex\n",
    "from fast_module import FastLieAlgebraCompositeModule, FastModuleFactory, BGGCohomology, WeightSet\n",
    "import numpy as np"
   ]
  },
  {
   "cell_type": "markdown",
   "metadata": {},
   "source": [
    "This notebook will explain how to do computations with quotients of modules, given by cokernels of some maps. This is fairly technical in practice.\n",
    "\n",
    "As an example consider the following exact sequence\n",
    "$$\n",
    "0\\to\\wedge^2\\mathfrak b\\to\\mathfrak b\\otimes\\mathfrak b\\to\\operatorname{Sym}^2\\mathfrak b\\to 0\n",
    "$$\n",
    "Here $\\mathfrak b$ plays no particular role, and there is a such an exact sequence for any module. This sequence tells us in particular that\n",
    "$$\n",
    "\\operatorname{Sym}^2\\mathfrak b \\cong \\operatorname{coker}\\left(\\wedge^2\\mathfrak b\\to\\mathfrak b\\otimes\\mathfrak b\\right)\n",
    "$$\n",
    "Let's start by defining the three modules $\\wedge^2\\mathfrak b,\\,\\mathfrak b\\otimes\\mathfrak b,\\,\\operatorname{Sym}^2\\mathfrak b$. We pick the root system $G2$, but it also serves no particular role."
   ]
  },
  {
   "cell_type": "code",
   "execution_count": null,
   "metadata": {},
   "outputs": [],
   "source": [
    "BGG = BGGComplex('G2')\n",
    "factory = FastModuleFactory(BGG.LA)\n",
    "\n",
    "component_dic = {'b':factory.build_component('b','coad',subset=[])}\n",
    "\n",
    "wedge_components = [[(\"b\",2,'wedge')]]\n",
    "wedge_module = FastLieAlgebraCompositeModule(factory,wedge_components,component_dic)\n",
    "\n",
    "tensor_components = [[(\"b\",1,'wedge'),('b',1,'wedge')]]\n",
    "tensor_module = FastLieAlgebraCompositeModule(factory,tensor_components,component_dic)\n",
    "\n",
    "sym_components = [[(\"b\",2,'sym')]]\n",
    "sym_module = FastLieAlgebraCompositeModule(factory,sym_components,component_dic)"
   ]
  },
  {
   "cell_type": "markdown",
   "metadata": {},
   "source": [
    "Let's start by first computing the cohomology of the three modules. Note that since the exact sequence splits, we see that $H^\\bullet(\\mathfrak b\\otimes\\mathfrak b) = H^\\bullet(\\wedge^2\\mathfrak b)\\oplus H^\\bullet(\\operatorname{Sym}^2\\mathfrak b)$, so this is not a particularly useful example."
   ]
  },
  {
   "cell_type": "code",
   "execution_count": null,
   "metadata": {},
   "outputs": [],
   "source": [
    "BGGCohomology(BGG, wedge_module).cohomology_LaTeX(complex_string = r'\\wedge^2\\mathfrak b')\n",
    "print('-'*10)\n",
    "\n",
    "BGGCohomology(BGG, tensor_module).cohomology_LaTeX(complex_string = r'\\mathfrak b\\otimes\\mathfrak b')\n",
    "print('-'*10)\n",
    "\n",
    "BGGCohomology(BGG, sym_module).cohomology_LaTeX(complex_string = r'\\operatorname{Sym}^2\\mathfrak b')"
   ]
  },
  {
   "cell_type": "markdown",
   "metadata": {},
   "source": [
    "Now let us define the cokernel of the map $\\wedge^2\\mathfrak b\\to\\mathfrak b\\otimes\\mathfrak b$. Since this is a map of modules, we can consider each weight component seperately. In a basis the map is defined by $f_i\\wedge f_j\\mapsto f_i\\otimes f_j - f_j\\otimes f_i$. To turn this into a matrix we use the basis of both modules, and then we simple compute the cokernel of this matrix."
   ]
  },
  {
   "cell_type": "code",
   "execution_count": null,
   "metadata": {},
   "outputs": [],
   "source": [
    "# Store cokernel in a dictionary\n",
    "# each key is a weight, each entry is a matrix encoding the basis of the cokernel\n",
    "T = dict()\n",
    "\n",
    "\n",
    "for mu in wedge_module.weight_components.keys():\n",
    "    # Basis of the weight component mu of the wedge module\n",
    "    wedge_basis = wedge_module.weight_components[mu][0][1]\n",
    "    \n",
    "    # Build the matrix as a sparse matrix\n",
    "    sparse_mat = dict()\n",
    "    \n",
    "    for wedge_index, wedge_row in enumerate(wedge_basis):\n",
    "        a,b = wedge_row # each row consists of two indices\n",
    "        \n",
    "        # dictionary sending tuples of (a,b,0) to their index in the basis of tensor product module\n",
    "        target_dic = tensor_module.weight_comp_index_numbers[mu]\n",
    "        \n",
    "        # look up index of a\\otimes b and b\\otimes a, and assign respective signs +1, -1\n",
    "        index_1 = target_dic[(a,b,0)]\n",
    "        index_2 = target_dic[(b,a,0)]\n",
    "        sparse_mat[(wedge_index,index_1)] = 1\n",
    "        sparse_mat[(wedge_index,index_2)] = -1\n",
    "        \n",
    "    # Build a matrix from these relations\n",
    "    M = matrix(ZZ,sparse_mat,nrows = wedge_module.dimensions[mu], ncols = tensor_module.dimensions[mu], sparse=True)\n",
    "    \n",
    "    # Cokernel is kernel of transpose\n",
    "    T[mu]=M.transpose().kernel().basis_matrix()"
   ]
  },
  {
   "cell_type": "markdown",
   "metadata": {},
   "source": [
    "Then to compute the cohomology of the cokernel, we insantiate the cohomology of the module $\\mathfrak b\\otimes\\mathfrak b$ and give the cokernel as optional argument. "
   ]
  },
  {
   "cell_type": "code",
   "execution_count": null,
   "metadata": {},
   "outputs": [],
   "source": [
    "complex_string = r'\\operatorname{coker}\\left(\\wedge^2\\mathfrak b\\to\\mathfrak b\\otimes\\mathfrak b\\right)'\n",
    "BGGCohomology(BGG, tensor_module, coker=T).cohomology_LaTeX(complex_string = complex_string)"
   ]
  },
  {
   "cell_type": "markdown",
   "metadata": {},
   "source": [
    "This method can be used to compute the BGG cohomology for much more complicated modules, but in general defining this cokernel can be technically involved. "
   ]
  },
  {
   "cell_type": "code",
   "execution_count": null,
   "metadata": {},
   "outputs": [],
   "source": []
  }
 ],
 "metadata": {
  "kernelspec": {
   "display_name": "SageMath 9.0",
   "language": "sage",
   "name": "sagemath"
  }
 },
 "nbformat": 4,
 "nbformat_minor": 2
}
