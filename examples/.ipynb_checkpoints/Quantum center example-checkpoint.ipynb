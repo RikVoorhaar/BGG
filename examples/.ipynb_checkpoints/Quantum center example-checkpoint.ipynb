{
 "cells": [
  {
   "cell_type": "markdown",
   "metadata": {},
   "source": [
    "## Center of small quantum group\n",
    "\n",
    "This Jupyter notebook shows how to use this program to compute the center of the small quantum group. This is under devolpment, but otherwise fully functional. We think that in the future this will be much faster, at which point this notebook will become more detailed."
   ]
  },
  {
   "cell_type": "code",
   "execution_count": 1,
   "metadata": {},
   "outputs": [],
   "source": [
    "# Importing the necessary modules.\n",
    "\n",
    "import sys\n",
    "sys.path.append('../bggcomplex')\n",
    "\n",
    "from bggcomplex import BGGComplex\n",
    "from quantum_center_module import QuantumFactory"
   ]
  },
  {
   "cell_type": "code",
   "execution_count": 2,
   "metadata": {},
   "outputs": [],
   "source": [
    "BGG = BGGComplex('G2')"
   ]
  },
  {
   "cell_type": "code",
   "execution_count": 3,
   "metadata": {},
   "outputs": [
    {
     "name": "stdout",
     "output_type": "stream",
     "text": [
      "The set of simple roots is: [1, 2]\n"
     ]
    }
   ],
   "source": [
    "print('The set of simple roots is: %s' % range(1,len(BGG.simple_roots)+1))"
   ]
  },
  {
   "cell_type": "code",
   "execution_count": 4,
   "metadata": {},
   "outputs": [],
   "source": [
    "q_factory = QuantumFactory(BGG,simple_root_subset=set([1]))"
   ]
  },
  {
   "cell_type": "code",
   "execution_count": 5,
   "metadata": {},
   "outputs": [
    {
     "name": "stdout",
     "output_type": "stream",
     "text": [
      "(2, 0)\n",
      "made a weight module of size: 5, with 0 relations)\n",
      "(2, 0, [(0, 1)])\n",
      "(4, 0)\n",
      "made a weight module of size: 10, with 0 relations)\n",
      "(4, 0, [(0, 1)])\n",
      "(6, 0)\n",
      "made a weight module of size: 10, with 0 relations)\n",
      "(6, 0, [(0, 1)])\n",
      "(8, 0)\n",
      "made a weight module of size: 5, with 0 relations)\n",
      "(8, 0, [(0, 1)])\n",
      "(10, 0)\n",
      "made a weight module of size: 1, with 0 relations)\n",
      "(10, 0, [(0, 1)])\n",
      "(4, 2)\n",
      "made a weight module of size: 190, with 90 relations)\n",
      "(4, 2, [(0, 1)])\n",
      "(6, 2)\n",
      "made a weight module of size: 165, with 90 relations)\n",
      "(6, 2, [(2*alpha[1] + alpha[2], 1), (0, 1)])\n",
      "(8, 2)\n",
      "made a weight module of size: 75, with 45 relations)\n",
      "(8, 2, [(2*alpha[1] + alpha[2], 1), (0, 1)])\n",
      "(6, 4)\n",
      "made a weight module of size: 1275, with 1449 relations)\n",
      "(6, 4, [])\n"
     ]
    },
    {
     "data": {
      "text/plain": [
       "{(2, 0): [(0, 1)],\n",
       " (4, 0): [(0, 1)],\n",
       " (4, 2): [(0, 1)],\n",
       " (6, 0): [(0, 1)],\n",
       " (6, 2): [(2*alpha[1] + alpha[2], 1), (0, 1)],\n",
       " (6, 4): [],\n",
       " (8, 0): [(0, 1)],\n",
       " (8, 2): [(2*alpha[1] + alpha[2], 1), (0, 1)],\n",
       " (10, 0): [(0, 1)]}"
      ]
     },
     "execution_count": 5,
     "metadata": {},
     "output_type": "execute_result"
    }
   ],
   "source": [
    "q_factory.compute_cohomology_block()"
   ]
  }
 ],
 "metadata": {
  "kernelspec": {
   "display_name": "SageMath 8.6",
   "language": "",
   "name": "sagemath"
  },
  "language_info": {
   "codemirror_mode": {
    "name": "ipython",
    "version": 2
   },
   "file_extension": ".py",
   "mimetype": "text/x-python",
   "name": "python",
   "nbconvert_exporter": "python",
   "pygments_lexer": "ipython2",
   "version": "2.7.15"
  }
 },
 "nbformat": 4,
 "nbformat_minor": 2
}
