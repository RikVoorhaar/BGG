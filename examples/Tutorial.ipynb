{
 "cells": [
  {
   "cell_type": "markdown",
   "metadata": {},
   "source": [
    "This notebook will show how to compute the BGG cohomology of a module. \n",
    "\n",
    "First we import the necessary classes from the `bggcomplex` package. To do this we need to add the path to `bggcomplex` to the system path."
   ]
  },
  {
   "cell_type": "code",
   "execution_count": 14,
   "metadata": {},
   "outputs": [],
   "source": [
    "import sys\n",
    "sys.path.append('../bggcomplex')\n",
    "\n",
    "from bggcomplex import BGGComplex\n",
    "from fast_module import FastLieAlgebraCompositeModule, FastModuleFactory, BGGCohomology"
   ]
  },
  {
   "cell_type": "markdown",
   "metadata": {},
   "source": [
    "Next we create an instance of `BGGComplex`. The argument of this class is a string describing a root system. In this case we chose $\\mathrm A_3$. For now the following root systems are small enough so that we can actually do computatons with them. This list may expand as the implementation is improved.\n",
    "- $\\mathrm A_n$ for $n\\leq 4$\n",
    "- $\\mathrm B_n,\\, \\mathrm C_n,\\,\\mathrm D_n,\\,$ for $n\\leq 3$\n",
    "- $\\mathrm G_2$"
   ]
  },
  {
   "cell_type": "code",
   "execution_count": 15,
   "metadata": {},
   "outputs": [],
   "source": [
    "BGG = BGGComplex('A3')"
   ]
  },
  {
   "cell_type": "markdown",
   "metadata": {},
   "source": [
    "Next we instantiate a `FastModuleFactory`, which takes a Lie algebra $\\mathfrak g$ as input. This should be the same Lie algebra as that of the BGG complex, and so we pass `BGG.LA`. "
   ]
  },
  {
   "cell_type": "code",
   "execution_count": 16,
   "metadata": {},
   "outputs": [],
   "source": [
    "factory = FastModuleFactory(BGG.LA)"
   ]
  },
  {
   "cell_type": "markdown",
   "metadata": {},
   "source": [
    "Let's say we want to work with the module $\\wedge^3 \\mathfrak u$ with the coadjoint action.\n",
    "\n",
    "We want to build this module out of smaller 'building blocks'. In this case the only 'building block' we need is the module $\\mathfrak u\\subset \\mathfrak g$, which has an $\\mathfrak n$-action by the coadjoint action. Therefore we call `factory.build_component('u','coad')`. We store the resulting module in a dictionary `component_dic` which will be later passed to `factory`."
   ]
  },
  {
   "cell_type": "code",
   "execution_count": 17,
   "metadata": {},
   "outputs": [],
   "source": [
    "component_dic = {'u':factory.build_component('u','coad')}"
   ]
  },
  {
   "cell_type": "markdown",
   "metadata": {},
   "source": [
    "Next we instantiate a `FastLieAlgebraCompositeModule` with three arguments. The first is a `FastModuleFactory` instance, the second is the structure of the module in terms of some building blocks, and finally is a dictionary describing the building blocks. \n",
    "\n",
    "In this case the structure of $\\wedge^3\\mathfrak u$ is encoded as `[[(\"u\",3,'wedge')]]`. The outer list is a list of direct sum components, the inner list a tensor components. The inner list is a list of 3-tuples. The first entry is a key of `component_dic` describing which building block to use, the second is a tensor power, and the third argument describes whether to use $\\wedge^n$ (`'wedge'`) or $\\mathrm{Sym}^n$ (`'sym'`).\n",
    "\n",
    "For example $(\\mathfrak u\\otimes\\mathfrak u)\\oplus (\\mathrm{Sym}^3\\mathfrak u)$ would be encoded instead by `[[(\"u\",1,'wedge'),(\"u\",1,'wedge')],[('u',3,'sym')]] `. Note that $\\wedge^1$ and $\\mathrm{Sym}^1$ are equivalent."
   ]
  },
  {
   "cell_type": "code",
   "execution_count": 18,
   "metadata": {},
   "outputs": [],
   "source": [
    "components = [[(\"u\",3,'wedge')]]\n",
    "\n",
    "module = FastLieAlgebraCompositeModule(factory, components, component_dic)"
   ]
  },
  {
   "cell_type": "markdown",
   "metadata": {},
   "source": [
    "Finally to compute the cohomology we create an instance of `BGGCohomology`, which takes as argument a `BGGComplex` and a `FastLieAlgebraCompositeModule`.\n",
    "\n",
    "Then to compute the cohomology in degree $i$ we call `BGGCohomology.cohomology`. If we are using a jupyter notebook like now, we can instead call `BGGCohomology.cohomology_LaTeX`, which gives a bit more structured output. This function has as optional argument `complex_string`, which describes what will be shown between the brackets of $\\mathrm H^i(\\ldots)=$."
   ]
  },
  {
   "cell_type": "code",
   "execution_count": 19,
   "metadata": {
    "scrolled": true
   },
   "outputs": [
    {
     "data": {
      "text/latex": [
       "$$\\mathrm H^{0}(\\wedge^3\\mathfrak u)=L\\left(\\alpha_{1}+\\alpha_{2}+\\alpha_{3}\\right)\\oplus L\\left(\\alpha_{1}+ 2\\alpha_{2}+\\alpha_{3}\\right)^{2}\\oplus L\\left( 2\\alpha_{1}+ 2\\alpha_{2}+\\alpha_{3}\\right)\\oplus L\\left(\\alpha_{1}+ 2\\alpha_{2}+ 2\\alpha_{3}\\right)\\oplus L\\left( 3\\alpha_{1}+ 2\\alpha_{2}+\\alpha_{3}\\right)\\oplus L\\left( 2\\alpha_{1}+ 2\\alpha_{2}+ 2\\alpha_{3}\\right)\\oplus L\\left(\\alpha_{1}+ 2\\alpha_{2}+ 3\\alpha_{3}\\right)\\oplus L\\left( 2\\alpha_{1}+ 3\\alpha_{2}+ 2\\alpha_{3}\\right)$$"
      ],
      "text/plain": [
       "<IPython.core.display.Math object>"
      ]
     },
     "metadata": {},
     "output_type": "display_data"
    },
    {
     "data": {
      "text/latex": [
       "$$\\mathrm H^{0}(\\wedge^3\\mathfrak u)=L\\left(\\alpha_{1}+\\alpha_{2}+\\alpha_{3}\\right)\\oplus L\\left(\\alpha_{1}+ 2\\alpha_{2}+\\alpha_{3}\\right)^{2}\\oplus L\\left( 2\\alpha_{1}+ 2\\alpha_{2}+\\alpha_{3}\\right)\\oplus L\\left(\\alpha_{1}+ 2\\alpha_{2}+ 2\\alpha_{3}\\right)\\oplus L\\left( 3\\alpha_{1}+ 2\\alpha_{2}+\\alpha_{3}\\right)\\oplus L\\left( 2\\alpha_{1}+ 2\\alpha_{2}+ 2\\alpha_{3}\\right)\\oplus L\\left(\\alpha_{1}+ 2\\alpha_{2}+ 3\\alpha_{3}\\right)\\oplus L\\left( 2\\alpha_{1}+ 3\\alpha_{2}+ 2\\alpha_{3}\\right)$$"
      ],
      "text/plain": [
       "<IPython.core.display.Math object>"
      ]
     },
     "metadata": {},
     "output_type": "display_data"
    }
   ],
   "source": [
    "cohom = BGGCohomology(BGG, module)\n",
    "\n",
    "cohom.cohomology_LaTeX(complex_string=r'\\wedge^3\\mathfrak u')"
   ]
  },
  {
   "cell_type": "markdown",
   "metadata": {},
   "source": [
    "The right hand side indicates which highest weight representations occur in the cohomology, and with which multiplicity. N.B. the powers $L(\\dots)^n$ indicate direct sum power (not tensor powers)."
   ]
  },
  {
   "cell_type": "markdown",
   "metadata": {},
   "source": [
    "In addition to $\\mathfrak u\\subset \\mathfrak g$ there are a number of additional modules. We list all the options currently supported here:\n",
    "- `'g'`, $\\mathfrak g$, the entire Lie algebra.\n",
    "- `'n'`, $\\mathfrak n$, the subalgbera spanned by the $f_I$\n",
    "- `'u'`, $\\mathfrak u$, the subalgebra spanned by the $e_I$\n",
    "- `'p'`, $\\mathfrak p$, the parabolic subalgebra (need to specify a subset of simple roots)\n",
    "- `'h'`, $\\mathfrak h$, the torus spanned by the $h_i$\n",
    "- `'b+'`, $\\mathfrak b^+ = \\mathfrak u\\oplus \\mathfrak h$, the positive Borel subalgebra\n",
    "- `'b'`, $\\mathfrak b = \\mathfrak n\\oplus \\mathfrak h$, the (negative) Borel subalgebra\n",
    "\n",
    "Most of them have a parabolic counterpart. To obtain these we supply an additional `subset` option, indicating the subset of the roots to remove. For example we can take `factory.build_component('u','coad',subset=[1,2])` which is spanned by the $e_I$ such that $I\\nsubseteq \\{\\alpha_1,\\alpha_2\\}$."
   ]
  }
 ],
 "metadata": {
  "kernelspec": {
   "display_name": "SageMath 9.0",
   "language": "sage",
   "name": "sagemath"
  },
  "language_info": {
   "codemirror_mode": {
    "name": "ipython",
    "version": 3
   },
   "file_extension": ".py",
   "mimetype": "text/x-python",
   "name": "python",
   "nbconvert_exporter": "python",
   "pygments_lexer": "ipython3",
   "version": "3.7.3"
  }
 },
 "nbformat": 4,
 "nbformat_minor": 2
}
