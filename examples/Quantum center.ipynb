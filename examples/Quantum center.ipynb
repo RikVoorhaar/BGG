{
 "cells": [
  {
   "cell_type": "markdown",
   "metadata": {},
   "source": [
    "# Tutorial: center of the small Quantum group\n",
    "\n",
    "## Introduction\n",
    "\n",
    "This notebook will show how to compute the center of the small quantum group, as described in the two papers by Annach Lachowska and You Qi:\n",
    "\n",
    "https://arxiv.org/abs/1604.07380v3\n",
    "\n",
    "https://arxiv.org/abs/1703.02457v3\n",
    "\n",
    "Let $G$ be a complex simple Lie group, and let $P$ be a parabolic subgroup. Then we consider the cotangent bundle of the associated partial flag variety:\n",
    "$$\n",
    "    \\tilde{\\mathcal N}_P :=T^*(G/P)\n",
    "$$\n",
    "\n",
    "We are then interested in computing\n",
    "$$HH^s(\\tilde{\\mathcal N}_P)\\cong \\bigoplus_{i+j+k=s}H^i(\\tilde{\\mathcal N}_P,\\wedge^jT\\tilde{\\mathcal N}_P)^k$$\n",
    "\n",
    "This can be computed by using the BGG resolution. We define the following module:\n",
    "$$M_j^k = \\bigoplus_r \\operatorname{Sym}^{j-r+k/2}\\mathfrak u_P\\otimes \\wedge^r\\mathfrak g\\otimes \\wedge^{j-r}\\mathfrak n_P$$\n",
    "\n",
    "Let $\\Delta\\colon\\mathfrak p\\to \\mathfrak g\\oplus \\mathfrak u_P\\otimes\\mathfrak n_P$ be given by the inclusion in the first component and in the second component by the adjoint action (after identifying $\\operatorname{End}(\\mathfrak n_P)$ with $\\mathfrak u_P\\otimes \\mathfrak n_P$). Then $\\Delta$ induces a map $M_{j-1}^k\\to M_j^k$. We define the module\n",
    "\n",
    "$$E_j^k = M_j^k\\big/\\Delta(M_{j-1}^k)$$\n",
    "\n",
    "Then the cohomology of the BGG resolution of $E_j^k$ in degree $i$ with respect to a dominant weight $\\mu$ computes the multiplicity of $\\mu$ of $H^i(\\tilde{\\mathcal N}_P,\\wedge^jT\\tilde{\\mathcal N}_P)^k$."
   ]
  },
  {
   "cell_type": "markdown",
   "metadata": {},
   "source": [
    "## Example"
   ]
  },
  {
   "cell_type": "markdown",
   "metadata": {},
   "source": [
    "We begin by loading the required packages. Change `sys.path.append('../bggcomplex')` as required. The `module quantum_center_module_v2` has additional dependency `tqdm` (recent versions), you can install it by running the following command in a cell:\n",
    "\n",
    "    !pip install tqdm -U"
   ]
  },
  {
   "cell_type": "code",
   "execution_count": 5,
   "metadata": {
    "scrolled": true
   },
   "outputs": [],
   "source": [
    "from bggcohomology.la_modules import BGGCohomology\n",
    "from bggcohomology.bggcomplex import BGGComplex\n",
    "from bggcohomology.quantum_center import *\n",
    "from tqdm.auto import tqdm"
   ]
  },
  {
   "cell_type": "markdown",
   "metadata": {},
   "source": [
    "Now let us compute a simple example and set $G=A2$. We will compute $H^0(\\tilde{\\mathcal N}_0,\\wedge^2T\\tilde{\\mathcal N}_0)^{-2}$. Here the subscript $0$ indicates the principal block. The principal block corresponds to the parameter `subset=[]`. The other parameters are `s,i,j,k`, and they satisfy `i+j+k=s` and `j>=i`.\n",
    "\n",
    "If we want to change the parabolic subalgebra $P$ then we can change `subset` to e.g. `subset=[1]` for \n",
    "$$\\mathfrak p = \\mathfrak b\\oplus\\mathbb C\\langle e_1\\rangle=\\mathbb C\\langle e_1,f_1,f_2,f_{12} \\rangle,\\qquad \\mathfrak u_P = \\mathbb C\\langle e_{12},e_2\\rangle,\\qquad \\mathfrak n_P = \\mathbb C\\langle f_{12},f_2\\rangle$$"
   ]
  },
  {
   "cell_type": "code",
   "execution_count": 6,
   "metadata": {
    "scrolled": true
   },
   "outputs": [
    {
     "name": "stdout",
     "output_type": "stream",
     "text": [
      "i+j=2, j-i=2, k=-2\n",
      "\n"
     ]
    },
    {
     "data": {
      "text/latex": [
       "$$\\mathrm H^{0}(\\tilde{\\mathcal N}_0,\\wedge^2T\\tilde{\\mathcal N}_0)^{-2})=\\mathbb{C}$$"
      ],
      "text/plain": [
       "<IPython.core.display.Math object>"
      ]
     },
     "metadata": {},
     "output_type": "display_data"
    }
   ],
   "source": [
    "BGG = BGGComplex('A2')\n",
    "s = 0\n",
    "i = 0\n",
    "j = 2\n",
    "k = s-i-j\n",
    "print('i+j=%d, j-i=%d, k=%d\\n'%(i+j,j-i,k))\n",
    "\n",
    "subset = []\n",
    "cohom = BGGCohomology(BGG, Mjk(BGG,j,k,subset=subset), coker=Eijk_basis(BGG,j,k,subset=subset))\n",
    "cohom.cohomology_LaTeX(i=i,complex_string=r'\\tilde{\\mathcal N}_0,\\wedge^2T\\tilde{\\mathcal N}_0)^{-2}')"
   ]
  },
  {
   "cell_type": "markdown",
   "metadata": {},
   "source": [
    "## Bigraded tables\n",
    "The program can also produce bigraded tables. We decompose impose a bigrading on the total cohomology $HH^s(\\tilde{\\mathcal N}_P)$ by $a=i+j$ and $b = j-i$. Since the computation can take a while a progress bar is provided. \n",
    "\n",
    "Due to the $\\mathfrak{sl}_2$ symmetry in the bigraded table, we only actually need to compute half of it. We can choose to either compute the whole table, or only half if it through the `half_only` parameter, and extend by symmetry. It's default value is `False`. \n",
    "\n",
    "The bigraded table can be rendered in LaTeX through the `display_ab_dic` function, which takes an additional parameter `extend_half` which computes the second half of the table from the first half through symmetry considerations. The produced LaTeX code can easily be copied. The code below also saves the tables to a LaTeX document. \n",
    "\n",
    "The parameter `compact` determines how the weight decomposition of the cohomology is displayed. E.g. with `compact=False` it would display $\\mathbb C\\oplus L(\\alpha_1+\\alpha_2)^2$ and with `compact=True` it gives $\\mathbb C L_{1,1}^2$."
   ]
  },
  {
   "cell_type": "code",
   "execution_count": 10,
   "metadata": {
    "scrolled": false
   },
   "outputs": [
    {
     "name": "stdout",
     "output_type": "stream",
     "text": [
      "PARI stack size set to 1000000 bytes, maximum size set to 12500008960\n"
     ]
    },
    {
     "data": {
      "application/vnd.jupyter.widget-view+json": {
       "model_id": "2d4be72d45cb48989b678d4827dedca2",
       "version_major": 2,
       "version_minor": 0
      },
      "text/plain": [
       "HBox(children=(FloatProgress(value=0.0, max=16.0), HTML(value='')))"
      ]
     },
     "metadata": {},
     "output_type": "display_data"
    },
    {
     "data": {
      "application/vnd.jupyter.widget-view+json": {
       "model_id": "",
       "version_major": 2,
       "version_minor": 0
      },
      "text/plain": [
       "HBox(children=(FloatProgress(value=1.0, bar_style='info', max=1.0), HTML(value='')))"
      ]
     },
     "metadata": {},
     "output_type": "display_data"
    },
    {
     "data": {
      "application/vnd.jupyter.widget-view+json": {
       "model_id": "872cbc4e4963468badcdafc5029045e7",
       "version_major": 2,
       "version_minor": 0
      },
      "text/plain": [
       "HBox(children=(FloatProgress(value=1.0, bar_style='info', max=1.0), HTML(value='')))"
      ]
     },
     "metadata": {},
     "output_type": "display_data"
    },
    {
     "name": "stdout",
     "output_type": "stream",
     "text": [
      "\n",
      "--------------------------------------------------\n",
      "type G2, table for s=0:\n"
     ]
    },
    {
     "data": {
      "text/latex": [
       "$$\\begin{array}{r|l l l l l l l}\n",
       "\t{\\scriptstyle i+j=0}&\\mathbb{C}&&&&&&\\\\\n",
       "\t{\\scriptstyle i+j=2}&\\mathbb{C}^{2}&\\mathbb{C}&&&&&\\\\\n",
       "\t{\\scriptstyle i+j=4}&\\mathbb{C}^{2}&\\mathbb{C}^{2}&\\mathbb{C}&&&&\\\\\n",
       "\t{\\scriptstyle i+j=6}&\\mathbb{C}^{2}&\\mathbb{C}^{2}&\\mathbb{C}^{2}&\\mathbb{C}&&&\\\\\n",
       "\t{\\scriptstyle i+j=8}&\\mathbb{C}^{2}&\\mathbb{C}^{2}L_{2,1}^{2}&\\mathbb{C}^{2}L_{2,1}&\\mathbb{C}^{2}&\\mathbb{C}&&\\\\\n",
       "\t{\\scriptstyle i+j=10}&\\mathbb{C}^{2}&\\mathbb{C}^{3}L_{2,1}&\\mathbb{C}^{2}L_{2,1}^{2}&\\mathbb{C}^{2}&\\mathbb{C}^{2}&\\mathbb{C}&\\\\\n",
       "\t{\\scriptstyle i+j=12}&\\mathbb{C}&\\mathbb{C}^{2}&\\mathbb{C}^{2}&\\mathbb{C}^{2}&\\mathbb{C}^{2}&\\mathbb{C}^{2}&\\mathbb{C}\\\\\n",
       "\t\\hline h^{i,j}&{\\scriptstyle j-i=0}&{\\scriptstyle j-i=2}&{\\scriptstyle j-i=4}&{\\scriptstyle j-i=6}&{\\scriptstyle j-i=8}&{\\scriptstyle j-i=10}&{\\scriptstyle j-i=12}\n",
       "\\end{array}$$"
      ],
      "text/plain": [
       "<IPython.core.display.Math object>"
      ]
     },
     "metadata": {},
     "output_type": "display_data"
    },
    {
     "data": {
      "text/latex": [
       "$$\\begin{array}{r|l l l l l l l}\n",
       "\t{\\scriptstyle i+j=0}&1&&&&&&\\\\\n",
       "\t{\\scriptstyle i+j=2}&2&1&&&&&\\\\\n",
       "\t{\\scriptstyle i+j=4}&2&2&1&&&&\\\\\n",
       "\t{\\scriptstyle i+j=6}&2&2&2&1&&&\\\\\n",
       "\t{\\scriptstyle i+j=8}&2&16&9&2&1&&\\\\\n",
       "\t{\\scriptstyle i+j=10}&2&10&16&2&2&1&\\\\\n",
       "\t{\\scriptstyle i+j=12}&1&2&2&2&2&2&1\\\\\n",
       "\t\\hline h^{i,j}&{\\scriptstyle j-i=0}&{\\scriptstyle j-i=2}&{\\scriptstyle j-i=4}&{\\scriptstyle j-i=6}&{\\scriptstyle j-i=8}&{\\scriptstyle j-i=10}&{\\scriptstyle j-i=12}\n",
       "\\end{array}$$"
      ],
      "text/plain": [
       "<IPython.core.display.Math object>"
      ]
     },
     "metadata": {},
     "output_type": "display_data"
    },
    {
     "data": {
      "text/latex": [
       "$$\\begin{array}{rll}\n",
       "\t\\text{module}&\\text{multiplicity}&\\text{dimension} \\\\ \\hline \\text{all}&&91 \\\\\n",
       "\t\\mathbb{C}&49&1\\\\\n",
       "\tL\\left( 2\\alpha_{1}+\\alpha_{2}\\right)&6&7\n",
       "\\end{array}$$"
      ],
      "text/plain": [
       "<IPython.core.display.Math object>"
      ]
     },
     "metadata": {},
     "output_type": "display_data"
    }
   ],
   "source": [
    "import pickle\n",
    "import os\n",
    "import itertools\n",
    "os.makedirs('pickles', exist_ok=True)\n",
    "os.makedirs('tables', exist_ok=True)\n",
    "\n",
    "# Only compute cohomology for particular highest weight module\n",
    "mu = None\n",
    "#mu=(0,0)\n",
    "\n",
    "# the parameters we actually want to change\n",
    "diagram = 'G2'\n",
    "BGG = BGGComplex(diagram)\n",
    "subset=[]\n",
    "\n",
    "# compute only half of the table, extend by symmetry\n",
    "half_only = True\n",
    "extend_half = half_only\n",
    "\n",
    "# Exclude the top-left to bottom-right diagonal. If s=0, these should all be the trivial rep.\n",
    "exclude_diagonal = True\n",
    "\n",
    "# Display in full form\n",
    "compact = True\n",
    "\n",
    "# Load results if already computed\n",
    "load_pickle = False\n",
    "\n",
    "# Increase max memory size of the pari stack to 25GB\n",
    "# Set this as high as possible.\n",
    "pari.allocatemem(10^6,25*10^9)\n",
    "\n",
    "for s in itertools.count():\n",
    "    picklefile = os.path.join('pickles',f'{diagram}-s{s}-{subset}.pkl')\n",
    "    if load_pickle and os.path.isfile(picklefile):\n",
    "        previous_cohom = pickle.load(open(picklefile, 'rb'))\n",
    "    else:\n",
    "        previous_cohom = None\n",
    "    texfile = os.path.join('tables',f'{diagram}-s{s}-{subset}.tex')\n",
    "    cohom_dic = dict()\n",
    "    with tqdm(all_abijk(BGG,s=s,subset=subset,half_only=half_only)) as inner_pbar:\n",
    "        with tqdm(leave=None) as outer_pbar:\n",
    "            map_pbar = tqdm()\n",
    "            for a,b,i,j,k in inner_pbar:\n",
    "                if previous_cohom is not None and (a,b) in previous_cohom:\n",
    "                    cohom_dic[(a,b)]=previous_cohom[(a,b)]\n",
    "                    inner_pbar.update()\n",
    "                    continue\n",
    "                if exclude_diagonal and s==0 and (a==b):\n",
    "                    cohom_dic[(a,b)]=[((0,)*BGG.rank,1)]\n",
    "                    inner_pbar.update()\n",
    "                    continue\n",
    "                inner_pbar.set_description('i+j= %d, j-i = %d'%(a,b))\n",
    "                coker = Eijk_basis(BGG,j,k,subset=subset,pbar=outer_pbar)\n",
    "                outer_pbar.set_description('Initializing cohomology')\n",
    "                cohom = BGGCohomology(BGG, Mjk(BGG,j,k,subset=subset), \n",
    "                                      coker=coker,pbars = [outer_pbar,map_pbar])\n",
    "                outer_pbar.set_description('Computing cohomology')\n",
    "                cohom_list = cohom.cohomology(i, mu=mu)\n",
    "                cohom_dic[(a,b)] = cohom_list\n",
    "                with open(picklefile, 'wb') as f:\n",
    "                    pickle.dump(cohom_dic,f)   \n",
    "    print('-'*50)\n",
    "    print(f'type {diagram}, table for s={s}:')\n",
    "    cohom = BGGCohomology(BGG)\n",
    "    cohom_dic = extend_from_symmetry(cohom_dic)\n",
    "    latex_dic = {k:cohom.cohom_to_latex(c, compact=compact) for k,c in cohom_dic.items()}\n",
    "    betti_dic = {k:cohom.betti_number(c) for k,c in cohom_dic.items()}\n",
    "    tab1 = display_bigraded_table(latex_dic)\n",
    "    tab2 = display_bigraded_table(betti_dic)\n",
    "    tab3 = display_cohomology_stats(cohom_dic, BGG)\n",
    "    with open(texfile, 'w') as f:\n",
    "        f.write(prepare_texfile([tab1,tab2,tab3],title=f'type {diagram}, s={s}, subset={subset}'))\n",
    "    break"
   ]
  },
  {
   "cell_type": "code",
   "execution_count": 12,
   "metadata": {},
   "outputs": [
    {
     "data": {
      "text/plain": [
       "{(-11, -8): 8,\n",
       " (-11, -7): 35,\n",
       " (-10, -7): 33,\n",
       " (-9, -7): 24,\n",
       " (-9, -6): 81,\n",
       " (-8, -7): 10,\n",
       " (-8, -6): 58,\n",
       " (-12, -7): 31,\n",
       " (-12, -6): 36,\n",
       " (-11, -6): 57,\n",
       " (-10, -6): 77,\n",
       " (-10, -5): 75,\n",
       " (-9, -5): 108,\n",
       " (-8, -5): 112,\n",
       " (-7, -6): 32,\n",
       " (-7, -5): 96,\n",
       " (-6, -6): 13,\n",
       " (-6, -5): 59,\n",
       " (-13, -6): 14,\n",
       " (-13, -5): 4,\n",
       " (-12, -5): 16,\n",
       " (-11, -5): 37,\n",
       " (-11, -4): 7,\n",
       " (-10, -4): 28,\n",
       " (-9, -4): 58,\n",
       " (-8, -4): 86,\n",
       " (-7, -4): 108,\n",
       " (-6, -4): 96,\n",
       " (-5, -5): 22,\n",
       " (-5, -4): 60,\n",
       " (-4, -5): 6,\n",
       " (-4, -4): 29,\n",
       " (-8, -3): 23,\n",
       " (-7, -3): 47,\n",
       " (-6, -3): 59,\n",
       " (-5, -3): 57,\n",
       " (-4, -3): 44,\n",
       " (-5, -2): 18,\n",
       " (-4, -2): 23,\n",
       " (-15, -9): 1,\n",
       " (-15, -8): 3,\n",
       " (-14, -8): 5,\n",
       " (-13, -8): 8,\n",
       " (-13, -7): 17,\n",
       " (-12, -8): 10,\n",
       " (-14, -9): 1,\n",
       " (-13, -9): 1,\n",
       " (-10, -8): 4,\n",
       " (-12, -9): 1,\n",
       " (-9, -8): 2,\n",
       " (-15, -7): 3,\n",
       " (-14, -7): 7,\n",
       " (-7, -7): 3,\n",
       " (-6, -7): 1,\n",
       " (-15, -6): 1,\n",
       " (-14, -6): 3,\n",
       " (-5, -6): 2,\n",
       " (-3, -5): 1,\n",
       " (-3, -4): 8,\n",
       " (-12, -4): 1,\n",
       " (-10, -3): 2,\n",
       " (-9, -3): 9,\n",
       " (-3, -3): 20,\n",
       " (-2, -4): 1,\n",
       " (-2, -3): 6,\n",
       " (-8, -2): 1,\n",
       " (-7, -2): 6,\n",
       " (-6, -2): 12,\n",
       " (-3, -2): 16,\n",
       " (-2, -2): 9,\n",
       " (-1, -3): 1,\n",
       " (-1, -2): 3,\n",
       " (-5, -1): 1,\n",
       " (-4, -1): 3,\n",
       " (-3, -1): 3,\n",
       " (-2, -1): 3,\n",
       " (-1, -1): 2}"
      ]
     },
     "execution_count": 12,
     "metadata": {},
     "output_type": "execute_result"
    }
   ],
   "source": [
    "coker.source_dims"
   ]
  },
  {
   "cell_type": "code",
   "execution_count": null,
   "metadata": {},
   "outputs": [],
   "source": []
  }
 ],
 "metadata": {
  "kernelspec": {
   "display_name": "SageMath 9.0",
   "language": "sage",
   "name": "sagemath"
  }
 },
 "nbformat": 4,
 "nbformat_minor": 2
}