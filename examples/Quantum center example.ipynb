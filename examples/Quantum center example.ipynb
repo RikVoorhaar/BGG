{
 "cells": [
  {
   "cell_type": "markdown",
   "metadata": {},
   "source": [
    "# Center of the small Quantum group\n",
    "\n",
    "## Introduction\n",
    "\n",
    "This notebook will show how to compute the center of the small quantum group, as described in the two papers by Annach Lachowska and You Qi:\n",
    "\n",
    "https://arxiv.org/abs/1604.07380v3\n",
    "\n",
    "https://arxiv.org/abs/1703.02457v3\n",
    "\n",
    "Let $G$ be a complex simple Lie group, and let $P$ be a parabolic subgroup. Then we consider the cotangent bundle of the associated partial flag variety:\n",
    "$$\n",
    "    \\tilde{\\mathcal N}_P :=T^*(G/P)\n",
    "$$\n",
    "We are then interested in computing\n",
    "$$HH^s(\\tilde{\\mathcal N}_P)\\cong \\bigoplus_{i+j+k=s}H^i(\\tilde{\\mathcal N}_P,\\wedge^jT\\tilde{\\mathcal N}_P)^k$$\n",
    "This can be computed by using the BGG resolution. We define the following module:\n",
    "\n",
    "$$M_j^k = \\bigoplus_r \\operatorname{Sym}^{j-r+k/2}\\mathfrak u_P\\otimes \\wedge^r\\mathfrak g\\otimes \\wedge^{j-r}\\mathfrak n_P$$\n",
    "\n",
    "Let $\\Delta\\colon\\mathfrak p\\to \\mathfrak g\\oplus \\mathfrak u_P\\otimes\\mathfrak n_P$ be given by the inclusion in the first component and in the second component by the adjoint action (after identifying $\\operatorname{End}(\\mathfrak n_P)$ with $\\mathfrak u_P\\otimes \\mathfrak n_P$). Then $\\Delta$ induces a map $M_{j-1}^k\\to M_j^k$. We define the module\n",
    "\n",
    "$$E_j^k = M_j^k\\big/\\Delta(M_{j-1}^k)$$\n",
    "\n",
    "Then the cohomology of the BGG resolution of $E_j^k$ in degree $i$ with respect to a dominant weight $\\mu$ computes the multiplicity of $\\mu$ of $H^i(\\tilde{\\mathcal N}_P,\\wedge^jT\\tilde{\\mathcal N}_P)^k$."
   ]
  },
  {
   "cell_type": "markdown",
   "metadata": {},
   "source": [
    "## Example"
   ]
  },
  {
   "cell_type": "markdown",
   "metadata": {},
   "source": [
    "We begin by loading the required packages. Change `sys.path.append('../bggcomplex')` as required. The `module quantum_center_module_v2` has additional dependency `tqdm` (recent versions), you can install it by running the following command in a cell:\n",
    "\n",
    "    !pip install tqdm -U"
   ]
  },
  {
   "cell_type": "code",
   "execution_count": 1,
   "metadata": {
    "scrolled": true
   },
   "outputs": [],
   "source": [
    "import sys\n",
    "sys.path.append('../bggcomplex')\n",
    "\n",
    "from fast_module import BGGCohomology\n",
    "from bggcomplex import BGGComplex\n",
    "from quantum_center_module_v2 import *\n",
    "from tqdm.auto import tqdm"
   ]
  },
  {
   "cell_type": "markdown",
   "metadata": {},
   "source": [
    "Now let us compute a simple example and set $G=A2$. We will compute $H^0(\\tilde{\\mathcal N}_0,\\wedge^2T\\tilde{\\mathcal N}_0)^{-2}$. Here the subscript $0$ indicates the principal block. The principal block corresponds to the parameter `subset=[]`. The other parameters are `s,i,j,k`, and they satisfy `i+j+k=s` and `j>=i`.\n",
    "\n",
    "If we want to change the parabolic subalgebra $P$ then we can change `subset` to e.g. `subset=[1]` for \n",
    "$$\\mathfrak p = \\mathfrak b\\oplus\\mathbb C\\langle e_1\\rangle=\\mathbb C\\langle e_1,f_1,f_2,f_{12} \\rangle,\\qquad \\mathfrak u_P = \\mathbb C\\langle e_{12},e_2\\rangle,\\qquad \\mathfrak n_P = \\mathbb C\\langle f_{12},f_2\\rangle$$"
   ]
  },
  {
   "cell_type": "code",
   "execution_count": 2,
   "metadata": {
    "scrolled": true
   },
   "outputs": [
    {
     "name": "stdout",
     "output_type": "stream",
     "text": [
      "i+j=2, j-i=2, k=-2\n",
      "\n"
     ]
    },
    {
     "data": {
      "text/latex": [
       "$$\\mathrm H^{0}(\\tilde{\\mathcal N}_0,\\wedge^2T\\tilde{\\mathcal N}_0)^{-2})=\\mathbb{C}$$"
      ],
      "text/plain": [
       "<IPython.core.display.Math object>"
      ]
     },
     "metadata": {},
     "output_type": "display_data"
    }
   ],
   "source": [
    "BGG = BGGComplex('A2')\n",
    "s = 0\n",
    "i = 0\n",
    "j = 2\n",
    "k = s-i-j\n",
    "print('i+j=%d, j-i=%d, k=%d\\n'%(i+j,j-i,k))\n",
    "\n",
    "subset = []\n",
    "cohom = BGGCohomology(BGG, Mijk(BGG,i,j,k,subset=subset), coker=Tijk_basis(BGG, i,j,k,subset=subset))\n",
    "cohom.cohomology_LaTeX(i=i,complex_string=r'\\tilde{\\mathcal N}_0,\\wedge^2T\\tilde{\\mathcal N}_0)^{-2}')"
   ]
  },
  {
   "cell_type": "markdown",
   "metadata": {},
   "source": [
    "## Bigraded tables\n",
    "The program can also produce bigraded tables. We decompose impose a bigrading on the total cohomology $HH^s(\\tilde{\\mathcal N}_P)$ by $a=i+j$ and $b = j-i$. Since the computation can take a while a loading bar is provided. \n",
    "\n",
    "Due to the $\\mathfrak{sl}_2$ symmetry in the bigraded table, we only actually need to compute half of it. We can choose to either compute the whole table, or only half if it through the `half_only` parameter. It's default value is `False`. \n",
    "\n",
    "The bigraded table can be rendered in LaTeX through the `display_ab_dic` function, which takes an additional parameter `extend_half` which computes the second half of the table from the first half through symmetry considerations. The produced LaTeX code can easily be copied.\n",
    "\n",
    "The parameter `compact` determines how the weight decomposition of the cohomology is displayed. E.g. with `compact=False` it would display $\\mathbb C\\oplus L(\\alpha_1+\\alpha_2)^2$ and with `compact=True` it gives $\\mathbb C L_{1,1}^2$."
   ]
  },
  {
   "cell_type": "code",
   "execution_count": 3,
   "metadata": {
    "scrolled": false
   },
   "outputs": [
    {
     "data": {
      "application/vnd.jupyter.widget-view+json": {
       "model_id": "98ff5b1d908a497d8ea61b22a0a607c8",
       "version_major": 2,
       "version_minor": 0
      },
      "text/plain": [
       "HBox(children=(FloatProgress(value=0.0, max=30.0), HTML(value='')))"
      ]
     },
     "metadata": {},
     "output_type": "display_data"
    },
    {
     "data": {
      "application/vnd.jupyter.widget-view+json": {
       "model_id": "2c62f5bbc93f427b87715aeb04cbac1b",
       "version_major": 2,
       "version_minor": 0
      },
      "text/plain": [
       "HBox(children=(FloatProgress(value=1.0, bar_style='info', max=1.0), HTML(value='')))"
      ]
     },
     "metadata": {},
     "output_type": "display_data"
    },
    {
     "data": {
      "application/vnd.jupyter.widget-view+json": {
       "model_id": "aaabe253984d42bab2d1a4a2f998f9d2",
       "version_major": 2,
       "version_minor": 0
      },
      "text/plain": [
       "HBox(children=(FloatProgress(value=1.0, bar_style='info', max=1.0), HTML(value='')))"
      ]
     },
     "metadata": {},
     "output_type": "display_data"
    },
    {
     "name": "stdout",
     "output_type": "stream",
     "text": [
      "\n"
     ]
    },
    {
     "ename": "PariError",
     "evalue": "the PARI stack overflows (current size: 9851830272; maximum size: 9851830272)\nYou can use pari.allocatemem() to change the stack size and try again",
     "output_type": "error",
     "traceback": [
      "\u001b[0;31m---------------------------------------------------------------------------\u001b[0m",
      "\u001b[0;31mPariError\u001b[0m                                 Traceback (most recent call last)",
      "\u001b[0;32m<ipython-input-3-49136f1570fd>\u001b[0m in \u001b[0;36m<module>\u001b[0;34m()\u001b[0m\n\u001b[1;32m     31\u001b[0m             \u001b[0;32mif\u001b[0m \u001b[0ma\u001b[0m\u001b[0;34m!=\u001b[0m\u001b[0mb\u001b[0m\u001b[0;34m:\u001b[0m\u001b[0;34m\u001b[0m\u001b[0;34m\u001b[0m\u001b[0m\n\u001b[1;32m     32\u001b[0m                 \u001b[0minner_pbar\u001b[0m\u001b[0;34m.\u001b[0m\u001b[0mset_description\u001b[0m\u001b[0;34m(\u001b[0m\u001b[0;34m'i+j= %d, j-i = %d'\u001b[0m\u001b[0;34m%\u001b[0m\u001b[0;34m(\u001b[0m\u001b[0ma\u001b[0m\u001b[0;34m,\u001b[0m\u001b[0mb\u001b[0m\u001b[0;34m)\u001b[0m\u001b[0;34m)\u001b[0m\u001b[0;34m\u001b[0m\u001b[0;34m\u001b[0m\u001b[0m\n\u001b[0;32m---> 33\u001b[0;31m                 \u001b[0mcoker\u001b[0m \u001b[0;34m=\u001b[0m \u001b[0mTijk_basis\u001b[0m\u001b[0;34m(\u001b[0m\u001b[0mBGG\u001b[0m\u001b[0;34m,\u001b[0m \u001b[0mi\u001b[0m\u001b[0;34m,\u001b[0m\u001b[0mj\u001b[0m\u001b[0;34m,\u001b[0m\u001b[0mk\u001b[0m\u001b[0;34m,\u001b[0m\u001b[0msubset\u001b[0m\u001b[0;34m=\u001b[0m\u001b[0msubset\u001b[0m\u001b[0;34m,\u001b[0m\u001b[0mpbar\u001b[0m\u001b[0;34m=\u001b[0m\u001b[0mouter_pbar\u001b[0m\u001b[0;34m)\u001b[0m\u001b[0;34m\u001b[0m\u001b[0;34m\u001b[0m\u001b[0m\n\u001b[0m\u001b[1;32m     34\u001b[0m                 \u001b[0mouter_pbar\u001b[0m\u001b[0;34m.\u001b[0m\u001b[0mset_description\u001b[0m\u001b[0;34m(\u001b[0m\u001b[0;34m'Initializing cohomology'\u001b[0m\u001b[0;34m)\u001b[0m\u001b[0;34m\u001b[0m\u001b[0;34m\u001b[0m\u001b[0m\n\u001b[1;32m     35\u001b[0m                 cohom = BGGCohomology(BGG, Mijk(BGG,i,j,k,subset=subset), \n",
      "\u001b[0;32m/cygdrive/c/Git/BGG/bggcomplex/quantum_center_module_v2.py\u001b[0m in \u001b[0;36mTijk_basis\u001b[0;34m(BGG, i, j, k, subset, pbar, kernel_benchmark, ker_method)\u001b[0m\n\u001b[1;32m    199\u001b[0m         \u001b[0msource_dim\u001b[0m \u001b[0;34m=\u001b[0m \u001b[0mmu_source_counters\u001b[0m\u001b[0;34m[\u001b[0m\u001b[0mmu\u001b[0m\u001b[0;34m]\u001b[0m\u001b[0;34m\u001b[0m\u001b[0;34m\u001b[0m\u001b[0m\n\u001b[1;32m    200\u001b[0m         \u001b[0mtarget_dim\u001b[0m \u001b[0;34m=\u001b[0m \u001b[0mwc_mod\u001b[0m\u001b[0;34m.\u001b[0m\u001b[0mdimensions\u001b[0m\u001b[0;34m[\u001b[0m\u001b[0mmu\u001b[0m\u001b[0;34m]\u001b[0m\u001b[0;34m\u001b[0m\u001b[0;34m\u001b[0m\u001b[0m\n\u001b[0;32m--> 201\u001b[0;31m         \u001b[0mker\u001b[0m \u001b[0;34m=\u001b[0m \u001b[0m_compute_kernel\u001b[0m\u001b[0;34m(\u001b[0m\u001b[0msource_dim\u001b[0m\u001b[0;34m,\u001b[0m\u001b[0mtarget_dim\u001b[0m\u001b[0;34m,\u001b[0m\u001b[0mrels\u001b[0m\u001b[0;34m,\u001b[0m\u001b[0mpbar\u001b[0m\u001b[0;34m)\u001b[0m\u001b[0;34m\u001b[0m\u001b[0;34m\u001b[0m\u001b[0m\n\u001b[0m\u001b[1;32m    202\u001b[0m         \u001b[0mT\u001b[0m\u001b[0;34m[\u001b[0m\u001b[0mmu\u001b[0m\u001b[0;34m]\u001b[0m \u001b[0;34m=\u001b[0m \u001b[0mker\u001b[0m\u001b[0;34m\u001b[0m\u001b[0;34m\u001b[0m\u001b[0m\n\u001b[1;32m    203\u001b[0m \u001b[0;34m\u001b[0m\u001b[0m\n",
      "\u001b[0;32m/cygdrive/c/Git/BGG/bggcomplex/quantum_center_module_v2.py\u001b[0m in \u001b[0;36m_compute_kernel\u001b[0;34m(source_dim, target_dim, rels, pbar)\u001b[0m\n\u001b[1;32m    266\u001b[0m \u001b[0;34m\u001b[0m\u001b[0m\n\u001b[1;32m    267\u001b[0m     \u001b[0;31m# compute the right kernel, store it in a dictionary\u001b[0m\u001b[0;34m\u001b[0m\u001b[0;34m\u001b[0m\u001b[0;34m\u001b[0m\u001b[0m\n\u001b[0;32m--> 268\u001b[0;31m     \u001b[0mker\u001b[0m \u001b[0;34m=\u001b[0m \u001b[0mM\u001b[0m\u001b[0;34m.\u001b[0m\u001b[0m__pari__\u001b[0m\u001b[0;34m(\u001b[0m\u001b[0;34m)\u001b[0m\u001b[0;34m.\u001b[0m\u001b[0mmatker\u001b[0m\u001b[0;34m(\u001b[0m\u001b[0mflag\u001b[0m\u001b[0;34m=\u001b[0m\u001b[0;36m1\u001b[0m\u001b[0;34m)\u001b[0m\u001b[0;34m.\u001b[0m\u001b[0mmattranspose\u001b[0m\u001b[0;34m(\u001b[0m\u001b[0;34m)\u001b[0m\u001b[0;34m.\u001b[0m\u001b[0msage\u001b[0m\u001b[0;34m(\u001b[0m\u001b[0;34m)\u001b[0m\u001b[0;34m\u001b[0m\u001b[0;34m\u001b[0m\u001b[0m\n\u001b[0m\u001b[1;32m    269\u001b[0m     \u001b[0;32mreturn\u001b[0m \u001b[0mker\u001b[0m\u001b[0;34m\u001b[0m\u001b[0;34m\u001b[0m\u001b[0m\n\u001b[1;32m    270\u001b[0m \u001b[0;34m\u001b[0m\u001b[0m\n",
      "\u001b[0;32mcypari2/auto_gen.pxi\u001b[0m in \u001b[0;36mcypari2.gen.Gen_base.matker\u001b[0;34m()\u001b[0m\n",
      "\u001b[0;32mcypari2/handle_error.pyx\u001b[0m in \u001b[0;36mcypari2.handle_error._pari_err_handle\u001b[0;34m()\u001b[0m\n",
      "\u001b[0;31mPariError\u001b[0m: the PARI stack overflows (current size: 9851830272; maximum size: 9851830272)\nYou can use pari.allocatemem() to change the stack size and try again"
     ]
    }
   ],
   "source": [
    "import pickle\n",
    "from os.path import join\n",
    "from os import mkdir\n",
    "\n",
    "try:\n",
    "    mkdir('pickles')\n",
    "except:\n",
    "    pass\n",
    "\n",
    "diagram = 'B3'\n",
    "\n",
    "# the parameters we actually want to change\n",
    "BGG = BGGComplex(diagram)\n",
    "subset=[]\n",
    "s = 0\n",
    "\n",
    "filename = join('pickles','%s-s%d.pkl'%(diagram,s) )\n",
    "\n",
    "# compute only half of the table, extend by symmetry\n",
    "half_only = True\n",
    "extend_half = half_only\n",
    "\n",
    "# Display in full form\n",
    "compact = False\n",
    "\n",
    "ab_dic = dict()\n",
    "with tqdm(all_abijk(BGG,s=s,subset=subset,half_only=half_only)) as inner_pbar:\n",
    "    with tqdm(leave=None) as outer_pbar:\n",
    "        map_pbar = tqdm()\n",
    "        for a,b,i,j,k in inner_pbar:\n",
    "            if a!=b:\n",
    "                inner_pbar.set_description('i+j= %d, j-i = %d'%(a,b))\n",
    "                coker = Tijk_basis(BGG, i,j,k,subset=subset,pbar=outer_pbar)\n",
    "                outer_pbar.set_description('Initializing cohomology')\n",
    "                cohom = BGGCohomology(BGG, Mijk(BGG,i,j,k,subset=subset), \n",
    "                                      coker=coker,pbars = [outer_pbar,map_pbar])\n",
    "                outer_pbar.set_description('Computing cohomology')\n",
    "                cohom_string = cohom.cohomology_LaTeX(i=i,only_strings=True,compact=compact)\n",
    "                ab_dic[(a,b)]=cohom_string\n",
    "                with open(filename, 'wb') as f:\n",
    "                    pickle.dump(ab_dic,f)\n",
    "display_ab_dic(ab_dic,extend_half = extend_half)"
   ]
  }
 ],
 "metadata": {
  "kernelspec": {
   "display_name": "SageMath 9.0",
   "language": "sage",
   "name": "sagemath"
  },
  "language_info": {
   "codemirror_mode": {
    "name": "ipython",
    "version": 3
   },
   "file_extension": ".py",
   "mimetype": "text/x-python",
   "name": "python",
   "nbconvert_exporter": "python",
   "pygments_lexer": "ipython3",
   "version": "3.7.3"
  }
 },
 "nbformat": 4,
 "nbformat_minor": 2
}
