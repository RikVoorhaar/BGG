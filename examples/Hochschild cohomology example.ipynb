{
 "cells": [
  {
   "cell_type": "code",
   "execution_count": 1,
   "metadata": {
    "scrolled": false
   },
   "outputs": [
    {
     "name": "stdout",
     "output_type": "stream",
     "text": [
      "Requirement already satisfied: numpy-indexed in /home/sage/.sage/local/lib/python2.7/site-packages (0.3.5)\r\n",
      "Requirement already satisfied: numpy in /opt/sagemath-8.6/local/lib/python2.7/site-packages (from numpy-indexed) (1.15.4)\r\n",
      "Requirement already satisfied: future in /opt/sagemath-8.6/local/lib/python2.7/site-packages (from numpy-indexed) (0.16.0)\r\n"
     ]
    }
   ],
   "source": [
    "# Currently the package needs numpy-indexed. \n",
    "# This dependency will be removed in the future.\n",
    "# For now, use this command to install it.\n",
    "!pip install numpy-indexed --user"
   ]
  },
  {
   "cell_type": "markdown",
   "metadata": {},
   "source": [
    "This notebook will show how to compute the BGG cohomology of a module. \n",
    "\n",
    "First we import the necessary classes from the `bggcomplex` package. To do this we need to add the path to `bggcomplex` to the system path."
   ]
  },
  {
   "cell_type": "code",
   "execution_count": 2,
   "metadata": {},
   "outputs": [],
   "source": [
    "import sys\n",
    "sys.path.append('../bggcomplex')\n",
    "\n",
    "from bggcomplex import BGGComplex\n",
    "from fast_module import FastLieAlgebraCompositeModule, FastModuleFactory, BGGCohomology"
   ]
  },
  {
   "cell_type": "markdown",
   "metadata": {},
   "source": [
    "Next we create an instance of `BGGComplex`. The argument of this class is a string describing a root system. In this case we chose $\\mathrm A_3$. For now the following root systems are small enough so that we can actually do computatons with them. This list may expand as the implementation is improved.\n",
    "- $\\mathrm A_n$ for $n\\leq 4$\n",
    "- $\\mathrm B_n,\\, \\mathrm C_n,\\,\\mathrm D_n,\\,$ for $n\\leq 3$\n",
    "- $\\mathrm G_2$"
   ]
  },
  {
   "cell_type": "code",
   "execution_count": 3,
   "metadata": {},
   "outputs": [],
   "source": [
    "BGG = BGGComplex('A4')"
   ]
  },
  {
   "cell_type": "markdown",
   "metadata": {},
   "source": [
    "Next we instantiate a `FastModuleFactory`, which takes a Lie algebra $\\mathfrak g$ as input. This should be the same Lie algebra as that of the BGG complex, and so we pass `BGG.LA`. "
   ]
  },
  {
   "cell_type": "code",
   "execution_count": 4,
   "metadata": {},
   "outputs": [],
   "source": [
    "f_factory = FastModuleFactory(BGG.LA)"
   ]
  },
  {
   "cell_type": "markdown",
   "metadata": {},
   "source": [
    "Let's say we want to work with the module $\\wedge^3 \\mathfrak u$ with the coadjoint action.\n",
    "\n",
    "We want to build this module out of smaller 'building blocks'. In this case the only 'building block' we need is the module $\\mathfrak u\\subset \\mathfrak g$, which has an $\\mathfrak n$-action by the coadjoint action. Therefore we call `f_factory.build_component('u','coad')`. We store the resulting module in a dictionary `component_dic` which will be later passed to `f_factory`."
   ]
  },
  {
   "cell_type": "code",
   "execution_count": 5,
   "metadata": {},
   "outputs": [],
   "source": [
    "component_dic = {'u':f_factory.build_component('u','coad')}"
   ]
  },
  {
   "cell_type": "markdown",
   "metadata": {},
   "source": [
    "Next we instantiate a `FastLieAlgebraCompositeModule` with three arguments. The first is a dictionary assigning a weight to each simple root, the second is the structure of the module in terms of some building blocks, and finally is a dictionary describing the building blocks. \n",
    "\n",
    "In this case the structure of $\\wedge^3\\mathfrak u$ is encoded as `[[(\"u\",3,'wedge')]]`. The outer list is a list of direct sum components, the inner list a tensor components. The inner list is a list of 3-tuples. The first entry is a key of `component_dic` describing which building block to use, the second is a tensor power, and the third argument describes whether to use $\\wedge^n$ (`'wedge'`) or $\\mathrm{Sym}^n$ (`'sym'`).\n",
    "\n",
    "For example $(\\mathfrak u\\otimes\\mathfrak u)\\oplus (\\mathrm{Sym}^3\\mathfrak u)$ would be encoded instead by `[[(\"u\",1,'wedge'),(\"u\",1,'wedge')],[('u',3,'sym')]] `. Note that $\\wedge^1$ and $\\mathrm{Sym}^1$ are equivalent."
   ]
  },
  {
   "cell_type": "code",
   "execution_count": 6,
   "metadata": {},
   "outputs": [],
   "source": [
    "components = [[(\"u\",3,'wedge')]]\n",
    "\n",
    "module = FastLieAlgebraCompositeModule(f_factory.weight_dic, components, component_dic)"
   ]
  },
  {
   "cell_type": "markdown",
   "metadata": {},
   "source": [
    "Finally to compute the cohomology we create an instance of `BGGCohomology`, which takes as argument a `BGGComplex` and a `FastLieAlgebraCompositeModule`.\n",
    "\n",
    "Then to compute the cohomology in degree $i$ we call `BGGCohomology.cohomology`. If we are using a jupyter notebook like now, we can instead call `BGGCohomology.cohomology_LaTeX`, which gives a bit more structured output. This function has as optional argument `complex_string`, which describes what will be shown between the brackets of $\\mathrm H^i(\\ldots)=$."
   ]
  },
  {
   "cell_type": "code",
   "execution_count": 7,
   "metadata": {
    "scrolled": true
   },
   "outputs": [
    {
     "data": {
      "text/latex": [
       "$$\\mathrm H^0(\\wedge^3\\mathfrak u)=1 \\cdot\\left(3\\alpha_{1}+3\\alpha_{2}+2\\alpha_{3}+1\\alpha_{4}\\right)+1 \\cdot\\left(2\\alpha_{1}+2\\alpha_{2}+2\\alpha_{3}+2\\alpha_{4}\\right)+1 \\cdot\\left(2\\alpha_{1}+3\\alpha_{2}+3\\alpha_{3}+2\\alpha_{4}\\right)+1 \\cdot\\left(1\\alpha_{1}+1\\alpha_{2}+1\\alpha_{3}+1\\alpha_{4}\\right)+1 \\cdot\\left(1\\alpha_{1}+2\\alpha_{2}+3\\alpha_{3}+3\\alpha_{4}\\right)+1 \\cdot\\left(2\\alpha_{1}+3\\alpha_{2}+2\\alpha_{3}+1\\alpha_{4}\\right)+1 \\cdot\\left(1\\alpha_{1}+2\\alpha_{2}+3\\alpha_{3}+2\\alpha_{4}\\right)+2 \\cdot\\left(1\\alpha_{1}+2\\alpha_{2}+2\\alpha_{3}+1\\alpha_{4}\\right)$$"
      ],
      "text/plain": [
       "<IPython.core.display.Math object>"
      ]
     },
     "metadata": {},
     "output_type": "display_data"
    },
    {
     "name": "stdout",
     "output_type": "stream",
     "text": [
      " "
     ]
    }
   ],
   "source": [
    "%%prun\n",
    "cohom = BGGCohomology(BGG, module)\n",
    "\n",
    "cohom.cohomology_LaTeX(0,complex_string=r'\\wedge^3\\mathfrak u')"
   ]
  },
  {
   "cell_type": "code",
   "execution_count": null,
   "metadata": {},
   "outputs": [],
   "source": []
  }
 ],
 "metadata": {
  "kernelspec": {
   "display_name": "SageMath 8.6",
   "language": "",
   "name": "sagemath"
  },
  "language_info": {
   "codemirror_mode": {
    "name": "ipython",
    "version": 2
   },
   "file_extension": ".py",
   "mimetype": "text/x-python",
   "name": "python",
   "nbconvert_exporter": "python",
   "pygments_lexer": "ipython2",
   "version": "2.7.15"
  }
 },
 "nbformat": 4,
 "nbformat_minor": 2
}
