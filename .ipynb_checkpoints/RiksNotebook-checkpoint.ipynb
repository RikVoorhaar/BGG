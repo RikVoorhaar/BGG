{
 "cells": [
  {
   "cell_type": "code",
   "execution_count": 2,
   "metadata": {},
   "outputs": [],
   "source": [
    "from bggcomplex import *\n",
    "BGG = BGGComplex(\"A3\")"
   ]
  },
  {
   "cell_type": "code",
   "execution_count": 3,
   "metadata": {},
   "outputs": [],
   "source": [
    "vertices = BGG.reduced_words\n",
    "arrows = BGG.arrows"
   ]
  },
  {
   "cell_type": "code",
   "execution_count": 5,
   "metadata": {},
   "outputs": [
    {
     "data": {
      "text/plain": [
       "['',\n",
       " '1',\n",
       " '3',\n",
       " '2',\n",
       " '21',\n",
       " '23',\n",
       " '12',\n",
       " '32',\n",
       " '31',\n",
       " '312',\n",
       " '231',\n",
       " '232',\n",
       " '321',\n",
       " '121',\n",
       " '123',\n",
       " '2321',\n",
       " '3121',\n",
       " '1231',\n",
       " '1232',\n",
       " '2312',\n",
       " '23121',\n",
       " '12312',\n",
       " '12321',\n",
       " '123121']"
      ]
     },
     "execution_count": 5,
     "metadata": {},
     "output_type": "execute_result"
    }
   ],
   "source": [
    "vertices"
   ]
  },
  {
   "cell_type": "code",
   "execution_count": null,
   "metadata": {},
   "outputs": [],
   "source": []
  }
 ],
 "metadata": {
  "kernelspec": {
   "display_name": "SageMath 8.6",
   "language": "",
   "name": "sagemath"
  },
  "language_info": {
   "codemirror_mode": {
    "name": "ipython",
    "version": 2
   },
   "file_extension": ".py",
   "mimetype": "text/x-python",
   "name": "python",
   "nbconvert_exporter": "python",
   "pygments_lexer": "ipython2",
   "version": "2.7.15"
  }
 },
 "nbformat": 4,
 "nbformat_minor": 2
}
