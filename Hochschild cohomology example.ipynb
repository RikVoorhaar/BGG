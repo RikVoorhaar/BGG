{
 "cells": [
  {
   "cell_type": "code",
   "execution_count": null,
   "metadata": {
    "scrolled": false
   },
   "outputs": [],
   "source": [
    "# Currently the package needs numpy-indexed. \n",
    "# This dependency will be removed in the future.\n",
    "# For now, use this command to install it.\n",
    "!pip install numpy-indexed"
   ]
  },
  {
   "cell_type": "markdown",
   "metadata": {},
   "source": [
    "This notebook will show how to compute the BGG cohomology of a module. \n",
    "\n",
    "First we import the necessary classes from the `bggcomplex` package."
   ]
  },
  {
   "cell_type": "code",
   "execution_count": 9,
   "metadata": {},
   "outputs": [],
   "source": [
    "from bggcomplex.bggcomplex import BGGComplex\n",
    "from bggcomplex.fast_module import FastLieAlgebraCompositeModule, FastModuleFactory, BGGCohomology"
   ]
  },
  {
   "cell_type": "markdown",
   "metadata": {},
   "source": [
    "Next we create an instance of `BGGComplex`. The argument of this class is a string describing a root system. In this case we chose $\\mathrm A_3$. For now the following root systems are small enough so that we can actually do computatons with them. This list may expand as the implementation is improved.\n",
    "- $\\mathrm A_n$ for $n\\leq 4$\n",
    "- $\\mathrm B_n,\\, \\mathrm C_n,\\,\\mathrm D_n,\\,$ for $n\\leq 3$\n",
    "- $\\mathrm G_2$"
   ]
  },
  {
   "cell_type": "code",
   "execution_count": 15,
   "metadata": {},
   "outputs": [],
   "source": [
    "BGG = BGGComplex('A3')"
   ]
  },
  {
   "cell_type": "markdown",
   "metadata": {},
   "source": [
    "Next we instantiate a `FastModuleFactory`, which takes a Lie algebra $\\mathfrak g$ as input. This should be the same Lie algebra as that of the BGG complex, and so we pass `BGG.LA`. "
   ]
  },
  {
   "cell_type": "code",
   "execution_count": 16,
   "metadata": {},
   "outputs": [],
   "source": [
    "f_factory = FastModuleFactory(BGG.LA)"
   ]
  },
  {
   "cell_type": "markdown",
   "metadata": {},
   "source": [
    "Let's say we want to work with the module $\\wedge^3 \\mathfrak u$ with the coadjoint action.\n",
    "\n",
    "We want to build this module out of smaller 'building blocks'. In this case the only 'building block' we need is the module $\\mathfrak u\\subset \\mathfrak g$, which has an $\\mathfrak n$-action by the coadjoint action. Therefore we call `f_factory.build_component('u','coad')`. We store the resulting module in a dictionary `component_dic` which will be later passed to `f_factory`."
   ]
  },
  {
   "cell_type": "code",
   "execution_count": 17,
   "metadata": {},
   "outputs": [],
   "source": [
    "component_dic = {'u':f_factory.build_component('u','coad')}"
   ]
  },
  {
   "cell_type": "markdown",
   "metadata": {},
   "source": [
    "Next we instantiate a `FastLieAlgebraCompositeModule` with three arguments. The first is a dictionary assigning a weight to each simple root, the second is the structure of the module in terms of some building blocks, and finally is a dictionary describing the building blocks. \n",
    "\n",
    "In this case the structure of $\\wedge^3\\mathfrak u$ is encoded as `[[(\"u\",3,'wedge')]]`. The outer list is a list of direct sum components, the inner list a tensor components. The inner list is a list of 3-tuples. The first entry is a key of `component_dic` describing which building block to use, the second is a tensor power, and the third argument describes whether to use $\\wedge^n$ (`'wedge'`) or $\\mathrm{Sym}^n$ (`'sym'`).\n",
    "\n",
    "For example $(\\mathfrak u\\otimes\\mathfrak u)\\oplus (\\mathrm{Sym}^3\\mathfrak u)$ would be encoded instead by `[[(\"u\",1,'wedge'),(\"u\",1,'wedge')],[('u',3,'sym')]] `. Note that $\\wedge^1$ and $\\mathrm{Sym}^1$ are equivalent."
   ]
  },
  {
   "cell_type": "code",
   "execution_count": 23,
   "metadata": {},
   "outputs": [],
   "source": [
    "components = [[(\"u\",3,'wedge')]]\n",
    "\n",
    "module = FastLieAlgebraCompositeModule(f_factory.weight_dic, components, component_dic)"
   ]
  },
  {
   "cell_type": "markdown",
   "metadata": {},
   "source": [
    "Finally to compute the cohomology we create an instance of `BGGCohomology`, which takes as argument a `BGGComplex` and a `FastLieAlgebraCompositeModule`.\n",
    "\n",
    "Then to compute the cohomology in degree $i$ we call `BGGCohomology.cohomology`. If we are using a jupyter notebook like now, we can instead call `BGGCohomology.cohomology_LaTeX`, which gives a bit more structured output. This function has as optional argument `complex_string`, which describes what will be shown between the brackets of $\\mathrm H^i(\\ldots)=$."
   ]
  },
  {
   "cell_type": "code",
   "execution_count": 24,
   "metadata": {},
   "outputs": [
    {
     "ename": "IndexError",
     "evalue": "index 7 is out of bounds for axis 0 with size 6",
     "output_type": "error",
     "traceback": [
      "\u001b[0;31m---------------------------------------------------------------------------\u001b[0m",
      "\u001b[0;31mIndexError\u001b[0m                                Traceback (most recent call last)",
      "\u001b[0;32m<ipython-input-24-80de4ecba684>\u001b[0m in \u001b[0;36m<module>\u001b[0;34m()\u001b[0m\n\u001b[1;32m      1\u001b[0m \u001b[0mcohom\u001b[0m \u001b[0;34m=\u001b[0m \u001b[0mBGGCohomology\u001b[0m\u001b[0;34m(\u001b[0m\u001b[0mBGG\u001b[0m\u001b[0;34m,\u001b[0m \u001b[0mmodule\u001b[0m\u001b[0;34m)\u001b[0m\u001b[0;34m\u001b[0m\u001b[0m\n\u001b[1;32m      2\u001b[0m \u001b[0;34m\u001b[0m\u001b[0m\n\u001b[0;32m----> 3\u001b[0;31m \u001b[0mcohom\u001b[0m\u001b[0;34m.\u001b[0m\u001b[0mcohomology_LaTeX\u001b[0m\u001b[0;34m(\u001b[0m\u001b[0mInteger\u001b[0m\u001b[0;34m(\u001b[0m\u001b[0;36m0\u001b[0m\u001b[0;34m)\u001b[0m\u001b[0;34m,\u001b[0m\u001b[0mcomplex_string\u001b[0m\u001b[0;34m=\u001b[0m\u001b[0;34mr'\\wedge^3\\mathfrak u'\u001b[0m\u001b[0;34m)\u001b[0m\u001b[0;34m\u001b[0m\u001b[0m\n\u001b[0m",
      "\u001b[0;32m/cygdrive/c/Git/BGG/bggcomplex/fast_module.pyc\u001b[0m in \u001b[0;36mcohomology_LaTeX\u001b[0;34m(self, i, complex_string, only_non_zero)\u001b[0m\n\u001b[1;32m    687\u001b[0m \u001b[0;34m\u001b[0m\u001b[0m\n\u001b[1;32m    688\u001b[0m         \u001b[0;31m# compute cohomology. If cohomology is trivial and only_non_zero is true, return.\u001b[0m\u001b[0;34m\u001b[0m\u001b[0;34m\u001b[0m\u001b[0m\n\u001b[0;32m--> 689\u001b[0;31m         \u001b[0mcohom\u001b[0m \u001b[0;34m=\u001b[0m \u001b[0mself\u001b[0m\u001b[0;34m.\u001b[0m\u001b[0mcohomology\u001b[0m\u001b[0;34m(\u001b[0m\u001b[0mi\u001b[0m\u001b[0;34m)\u001b[0m\u001b[0;34m\u001b[0m\u001b[0m\n\u001b[0m\u001b[1;32m    690\u001b[0m         \u001b[0;32mif\u001b[0m \u001b[0monly_non_zero\u001b[0m \u001b[0;32mand\u001b[0m \u001b[0mlen\u001b[0m\u001b[0;34m(\u001b[0m\u001b[0mcohom\u001b[0m\u001b[0;34m)\u001b[0m \u001b[0;34m==\u001b[0m \u001b[0;36m0\u001b[0m\u001b[0;34m:\u001b[0m\u001b[0;34m\u001b[0m\u001b[0m\n\u001b[1;32m    691\u001b[0m             \u001b[0;32mreturn\u001b[0m \u001b[0mNone\u001b[0m\u001b[0;34m\u001b[0m\u001b[0m\n",
      "\u001b[0;32m/cygdrive/c/Git/BGG/bggcomplex/fast_module.pyc\u001b[0m in \u001b[0;36mcohomology\u001b[0;34m(self, i)\u001b[0m\n\u001b[1;32m    672\u001b[0m         \u001b[0;31m# For non-isolated weights, multiplicity is computed through the BGG differential\u001b[0m\u001b[0;34m\u001b[0m\u001b[0;34m\u001b[0m\u001b[0m\n\u001b[1;32m    673\u001b[0m         \u001b[0;32mfor\u001b[0m \u001b[0mw\u001b[0m \u001b[0;32min\u001b[0m \u001b[0mdominant_non_trivial\u001b[0m\u001b[0;34m:\u001b[0m\u001b[0;34m\u001b[0m\u001b[0m\n\u001b[0;32m--> 674\u001b[0;31m             \u001b[0mcohom_dim\u001b[0m \u001b[0;34m=\u001b[0m \u001b[0mself\u001b[0m\u001b[0;34m.\u001b[0m\u001b[0mcohomology_component\u001b[0m\u001b[0;34m(\u001b[0m\u001b[0mw\u001b[0m\u001b[0;34m,\u001b[0m \u001b[0mi\u001b[0m\u001b[0;34m)\u001b[0m\u001b[0;34m\u001b[0m\u001b[0m\n\u001b[0m\u001b[1;32m    675\u001b[0m             \u001b[0;32mif\u001b[0m \u001b[0mcohom_dim\u001b[0m \u001b[0;34m>\u001b[0m \u001b[0;36m0\u001b[0m\u001b[0;34m:\u001b[0m\u001b[0;34m\u001b[0m\u001b[0m\n\u001b[1;32m    676\u001b[0m                 \u001b[0mcohomology\u001b[0m\u001b[0;34m[\u001b[0m\u001b[0mw\u001b[0m\u001b[0;34m]\u001b[0m \u001b[0;34m+=\u001b[0m \u001b[0mcohom_dim\u001b[0m\u001b[0;34m\u001b[0m\u001b[0m\n",
      "\u001b[0;32m/cygdrive/c/Git/BGG/bggcomplex/fast_module.pyc\u001b[0m in \u001b[0;36mcohomology_component\u001b[0;34m(self, mu, i)\u001b[0m\n\u001b[1;32m    632\u001b[0m         \u001b[0;34m\"\"\"Compute cohomology BGG_i(mu)\"\"\"\u001b[0m\u001b[0;34m\u001b[0m\u001b[0m\n\u001b[1;32m    633\u001b[0m \u001b[0;34m\u001b[0m\u001b[0m\n\u001b[0;32m--> 634\u001b[0;31m         \u001b[0md_i\u001b[0m\u001b[0;34m,\u001b[0m \u001b[0mchain_dim\u001b[0m \u001b[0;34m=\u001b[0m \u001b[0mself\u001b[0m\u001b[0;34m.\u001b[0m\u001b[0mcompute_differential\u001b[0m\u001b[0;34m(\u001b[0m\u001b[0mmu\u001b[0m\u001b[0;34m,\u001b[0m \u001b[0mi\u001b[0m\u001b[0;34m)\u001b[0m\u001b[0;34m\u001b[0m\u001b[0m\n\u001b[0m\u001b[1;32m    635\u001b[0m         \u001b[0md_i_minus_1\u001b[0m\u001b[0;34m,\u001b[0m \u001b[0m_\u001b[0m \u001b[0;34m=\u001b[0m \u001b[0mself\u001b[0m\u001b[0;34m.\u001b[0m\u001b[0mcompute_differential\u001b[0m\u001b[0;34m(\u001b[0m\u001b[0mmu\u001b[0m\u001b[0;34m,\u001b[0m \u001b[0mi\u001b[0m \u001b[0;34m-\u001b[0m \u001b[0;36m1\u001b[0m\u001b[0;34m)\u001b[0m\u001b[0;34m\u001b[0m\u001b[0m\n\u001b[1;32m    636\u001b[0m         \u001b[0mrank_1\u001b[0m \u001b[0;34m=\u001b[0m \u001b[0md_i\u001b[0m\u001b[0;34m.\u001b[0m\u001b[0mrank\u001b[0m\u001b[0;34m(\u001b[0m\u001b[0;34m)\u001b[0m\u001b[0;34m\u001b[0m\u001b[0m\n",
      "\u001b[0;32m/cygdrive/c/Git/BGG/bggcomplex/fast_module.pyc\u001b[0m in \u001b[0;36mcompute_differential\u001b[0;34m(self, mu, i)\u001b[0m\n\u001b[1;32m    589\u001b[0m                     \u001b[0mself\u001b[0m\u001b[0;34m.\u001b[0m\u001b[0mweight_module\u001b[0m\u001b[0;34m.\u001b[0m\u001b[0mset_pbw_action_matrix\u001b[0m\u001b[0;34m(\u001b[0m\u001b[0mmaps\u001b[0m\u001b[0;34m[\u001b[0m\u001b[0ma\u001b[0m\u001b[0;34m]\u001b[0m\u001b[0;34m)\u001b[0m\u001b[0;34m\u001b[0m\u001b[0m\n\u001b[1;32m    590\u001b[0m                     \u001b[0;32mfor\u001b[0m \u001b[0mweight_comp\u001b[0m \u001b[0;32min\u001b[0m \u001b[0mself\u001b[0m\u001b[0;34m.\u001b[0m\u001b[0mweight_module\u001b[0m\u001b[0;34m.\u001b[0m\u001b[0mweight_components\u001b[0m\u001b[0;34m[\u001b[0m\u001b[0minitial_vertex\u001b[0m\u001b[0;34m]\u001b[0m\u001b[0;34m:\u001b[0m\u001b[0;34m\u001b[0m\u001b[0m\n\u001b[0;32m--> 591\u001b[0;31m                         \u001b[0mkey_pairs\u001b[0m\u001b[0;34m,\u001b[0m \u001b[0mcoefficients\u001b[0m \u001b[0;34m=\u001b[0m \u001b[0mself\u001b[0m\u001b[0;34m.\u001b[0m\u001b[0mweight_module\u001b[0m\u001b[0;34m.\u001b[0m\u001b[0mcompute_pbw_action\u001b[0m\u001b[0;34m(\u001b[0m\u001b[0mweight_comp\u001b[0m\u001b[0;34m)\u001b[0m\u001b[0;34m\u001b[0m\u001b[0m\n\u001b[0m\u001b[1;32m    592\u001b[0m                         \u001b[0;32mif\u001b[0m \u001b[0mlen\u001b[0m\u001b[0;34m(\u001b[0m\u001b[0mkey_pairs\u001b[0m\u001b[0;34m)\u001b[0m \u001b[0;34m>\u001b[0m \u001b[0;36m0\u001b[0m\u001b[0;34m:\u001b[0m\u001b[0;34m\u001b[0m\u001b[0m\n\u001b[1;32m    593\u001b[0m                             \u001b[0moutput\u001b[0m\u001b[0;34m.\u001b[0m\u001b[0mappend\u001b[0m\u001b[0;34m(\u001b[0m\u001b[0;34m(\u001b[0m\u001b[0mkey_pairs\u001b[0m\u001b[0;34m,\u001b[0m \u001b[0msign\u001b[0m \u001b[0;34m*\u001b[0m \u001b[0mcoefficients\u001b[0m\u001b[0;34m)\u001b[0m\u001b[0;34m)\u001b[0m\u001b[0;34m\u001b[0m\u001b[0m\n",
      "\u001b[0;32m/cygdrive/c/Git/BGG/bggcomplex/fast_module.pyc\u001b[0m in \u001b[0;36mcompute_pbw_action\u001b[0;34m(self, weight_comp)\u001b[0m\n\u001b[1;32m    158\u001b[0m         \u001b[0moutput_hashes\u001b[0m \u001b[0;34m=\u001b[0m \u001b[0;34m[\u001b[0m\u001b[0;34m]\u001b[0m\u001b[0;34m\u001b[0m\u001b[0m\n\u001b[1;32m    159\u001b[0m         \u001b[0moutput_coefficients\u001b[0m \u001b[0;34m=\u001b[0m \u001b[0;34m[\u001b[0m\u001b[0;34m]\u001b[0m\u001b[0;34m\u001b[0m\u001b[0m\n\u001b[0;32m--> 160\u001b[0;31m         \u001b[0mhashes\u001b[0m \u001b[0;34m=\u001b[0m \u001b[0mself\u001b[0m\u001b[0;34m.\u001b[0m\u001b[0mget_hash\u001b[0m\u001b[0;34m(\u001b[0m\u001b[0mweight_comp\u001b[0m\u001b[0;34m)\u001b[0m\u001b[0;34m\u001b[0m\u001b[0m\n\u001b[0m\u001b[1;32m    161\u001b[0m \u001b[0;34m\u001b[0m\u001b[0m\n\u001b[1;32m    162\u001b[0m         \u001b[0;32mfor\u001b[0m \u001b[0mcolumn\u001b[0m \u001b[0;32min\u001b[0m \u001b[0mrange\u001b[0m\u001b[0;34m(\u001b[0m\u001b[0mlen\u001b[0m\u001b[0;34m(\u001b[0m\u001b[0mtype_list\u001b[0m\u001b[0;34m)\u001b[0m\u001b[0;34m)\u001b[0m\u001b[0;34m:\u001b[0m\u001b[0;34m\u001b[0m\u001b[0m\n",
      "\u001b[0;32m/cygdrive/c/Git/BGG/bggcomplex/fast_module.pyc\u001b[0m in \u001b[0;36mget_hash\u001b[0;34m(self, weight_component, check_conflict)\u001b[0m\n\u001b[1;32m    131\u001b[0m         \u001b[0mcomp_primes\u001b[0m \u001b[0;34m=\u001b[0m \u001b[0mself\u001b[0m\u001b[0;34m.\u001b[0m\u001b[0mcomponent_primes\u001b[0m\u001b[0;34m[\u001b[0m\u001b[0mindex\u001b[0m\u001b[0;34m]\u001b[0m\u001b[0;34m\u001b[0m\u001b[0m\n\u001b[1;32m    132\u001b[0m \u001b[0;34m\u001b[0m\u001b[0m\n\u001b[0;32m--> 133\u001b[0;31m         \u001b[0mhashes\u001b[0m \u001b[0;34m=\u001b[0m \u001b[0mcomp_primes\u001b[0m \u001b[0;34m*\u001b[0m \u001b[0mself\u001b[0m\u001b[0;34m.\u001b[0m\u001b[0mpow_array\u001b[0m\u001b[0;34m[\u001b[0m\u001b[0mvector_list\u001b[0m\u001b[0;34m]\u001b[0m\u001b[0;34m\u001b[0m\u001b[0m\n\u001b[0m\u001b[1;32m    134\u001b[0m         \u001b[0mhashes\u001b[0m \u001b[0;34m=\u001b[0m \u001b[0mnp\u001b[0m\u001b[0;34m.\u001b[0m\u001b[0msum\u001b[0m\u001b[0;34m(\u001b[0m\u001b[0mhashes\u001b[0m\u001b[0;34m,\u001b[0m \u001b[0maxis\u001b[0m\u001b[0;34m=\u001b[0m\u001b[0;36m1\u001b[0m\u001b[0;34m)\u001b[0m\u001b[0;34m\u001b[0m\u001b[0m\n\u001b[1;32m    135\u001b[0m \u001b[0;34m\u001b[0m\u001b[0m\n",
      "\u001b[0;31mIndexError\u001b[0m: index 7 is out of bounds for axis 0 with size 6"
     ]
    }
   ],
   "source": [
    "cohom = BGGCohomology(BGG, module)\n",
    "\n",
    "cohom.cohomology_LaTeX(0,complex_string=r'\\wedge^3\\mathfrak u')"
   ]
  },
  {
   "cell_type": "code",
   "execution_count": null,
   "metadata": {},
   "outputs": [],
   "source": []
  }
 ],
 "metadata": {
  "kernelspec": {
   "display_name": "SageMath 8.6",
   "language": "",
   "name": "sagemath"
  },
  "language_info": {
   "codemirror_mode": {
    "name": "ipython",
    "version": 2
   },
   "file_extension": ".py",
   "mimetype": "text/x-python",
   "name": "python",
   "nbconvert_exporter": "python",
   "pygments_lexer": "ipython2",
   "version": "2.7.15"
  }
 },
 "nbformat": 4,
 "nbformat_minor": 2
}
