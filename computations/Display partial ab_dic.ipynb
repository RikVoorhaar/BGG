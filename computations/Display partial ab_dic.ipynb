{
 "cells": [
  {
   "cell_type": "code",
   "execution_count": 1,
   "metadata": {},
   "outputs": [],
   "source": [
    "import pickle\n",
    "from os.path import join\n",
    "import sys\n",
    "sys.path.append('../bggcomplex')\n",
    "\n",
    "from bggcomplex import BGGComplex\n",
    "from quantum_center_module_v2 import all_abijk,display_ab_dic"
   ]
  },
  {
   "cell_type": "markdown",
   "metadata": {},
   "source": []
  },
  {
   "cell_type": "code",
   "execution_count": 8,
   "metadata": {
    "scrolled": false
   },
   "outputs": [
    {
     "data": {
      "text/latex": [
       "$$\\begin{array}{r|l l l l l l l l l l}{\\scriptstyle i+j=0}&\\mathbb{C}&&&&&&&&&\\\\{\\scriptstyle i+j=2}&\\mathbb{C}^{3}&\\mathbb{C}&&&&&&&&\\\\{\\scriptstyle i+j=4}&\\mathbb{C}^{5}&\\mathbb{C}^{3}&\\mathbb{C}&&&&&&&\\\\{\\scriptstyle i+j=6}&\\mathbb{C}^{7}&\\mathbb{C}^{6}&\\mathbb{C}^{3}&\\mathbb{C}&&&&&&\\\\{\\scriptstyle i+j=8}&\\mathbb{C}^{8}&\\mathbb{C}^{10}&\\mathbb{C}^{6}&\\mathbb{C}^{3}&\\mathbb{C}&&&&&\\\\{\\scriptstyle i+j=10}&\\mathbb{C}^{8}&\\mathbb{C}^{14}\\oplus L\\left(\\alpha_{1}+\\alpha_{2}+\\alpha_{3}\\right)&\\mathbb{C}^{10}&\\mathbb{C}^{6}&?&\\mathbb{C}&&&&\\\\{\\scriptstyle i+j=12}&\\mathbb{C}^{7}&\\mathbb{C}^{15}\\oplus L\\left(\\alpha_{1}+\\alpha_{2}+\\alpha_{3}\\right)^{3}&\\mathbb{C}^{14}\\oplus L\\left(\\alpha_{1}+\\alpha_{2}+\\alpha_{3}\\right)^{4}&\\mathbb{C}^{10}\\oplus L\\left(\\alpha_{1}+\\alpha_{2}+\\alpha_{3}\\right)&\\mathbb{C}^{6}&\\mathbb{C}^{3}&\\mathbb{C}&&&\\\\{\\scriptstyle i+j=14}&\\mathbb{C}^{5}&\\mathbb{C}^{12}\\oplus L\\left(\\alpha_{1}+\\alpha_{2}+\\alpha_{3}\\right)^{2}&\\mathbb{C}^{15}\\oplus L\\left(\\alpha_{1}+\\alpha_{2}+\\alpha_{3}\\right)^{6}\\oplus L\\left(\\alpha_{1}+ 2\\alpha_{2}+ 2\\alpha_{3}\\right)&\\mathbb{C}^{14}\\oplus L\\left(\\alpha_{1}+\\alpha_{2}+\\alpha_{3}\\right)^{4}&\\mathbb{C}^{10}&\\mathbb{C}^{6}&\\mathbb{C}^{3}&\\mathbb{C}&&\\\\{\\scriptstyle i+j=16}&\\mathbb{C}^{3}&\\mathbb{C}^{8}&\\mathbb{C}^{12}\\oplus L\\left(\\alpha_{1}+\\alpha_{2}+\\alpha_{3}\\right)^{2}&\\mathbb{C}^{15}\\oplus L\\left(\\alpha_{1}+\\alpha_{2}+\\alpha_{3}\\right)^{3}&\\mathbb{C}^{14}\\oplus L\\left(\\alpha_{1}+\\alpha_{2}+\\alpha_{3}\\right)&\\mathbb{C}^{10}&\\mathbb{C}^{6}&\\mathbb{C}^{3}&\\mathbb{C}&\\\\{\\scriptstyle i+j=18}&\\mathbb{C}&\\mathbb{C}^{3}&\\mathbb{C}^{5}&\\mathbb{C}^{7}&\\mathbb{C}^{8}&\\mathbb{C}^{8}&\\mathbb{C}^{7}&\\mathbb{C}^{5}&\\mathbb{C}^{3}&\\mathbb{C}\\\\\\hline h^{i,j}&{\\scriptstyle j-i=0}&{\\scriptstyle j-i=2}&{\\scriptstyle j-i=4}&{\\scriptstyle j-i=6}&{\\scriptstyle j-i=8}&{\\scriptstyle j-i=10}&{\\scriptstyle j-i=12}&{\\scriptstyle j-i=14}&{\\scriptstyle j-i=16}&{\\scriptstyle j-i=18}\\end{array}$$"
      ],
      "text/plain": [
       "<IPython.core.display.Math object>"
      ]
     },
     "metadata": {},
     "output_type": "display_data"
    }
   ],
   "source": [
    "diagram = 'B3'\n",
    "\n",
    "# the parameters we actually want to change\n",
    "BGG = BGGComplex(diagram)\n",
    "subset=[]\n",
    "s = 0\n",
    "abijk = all_abijk(BGG,s=s,subset=subset,half_only=True)\n",
    "\n",
    "filename = join('pickles','%s-s%d.pkl'%(diagram,s) )\n",
    "with open(filename, 'rb') as f:\n",
    "    ab_dic = pickle.load(f)\n",
    "\n",
    "for a,b,_,_,_ in abijk:\n",
    "    if (a,b) not in ab_dic:\n",
    "        if a==b:\n",
    "            ab_dic[(a,b)] = '\\\\mathbb{C}'\n",
    "        else:\n",
    "            ab_dic[(a,b)] = '?'\n",
    "display_ab_dic(ab_dic,extend_half = True)"
   ]
  },
  {
   "cell_type": "code",
   "execution_count": null,
   "metadata": {},
   "outputs": [],
   "source": []
  }
 ],
 "metadata": {
  "kernelspec": {
   "display_name": "SageMath 9.0",
   "language": "sage",
   "name": "sagemath"
  },
  "language_info": {
   "codemirror_mode": {
    "name": "ipython",
    "version": 3
   },
   "file_extension": ".py",
   "mimetype": "text/x-python",
   "name": "python",
   "nbconvert_exporter": "python",
   "pygments_lexer": "ipython3",
   "version": "3.7.3"
  }
 },
 "nbformat": 4,
 "nbformat_minor": 2
}
