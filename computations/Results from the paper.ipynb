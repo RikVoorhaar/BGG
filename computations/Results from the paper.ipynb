{
 "cells": [
  {
   "cell_type": "code",
   "execution_count": 2,
   "metadata": {},
   "outputs": [],
   "source": [
    "import sys\n",
    "sys.path.append('../bggcomplex')\n",
    "\n",
    "from bggcomplex import BGGComplex\n",
    "from fast_module import FastLieAlgebraCompositeModule, FastModuleFactory, BGGCohomology\n",
    "import numpy as np"
   ]
  },
  {
   "cell_type": "code",
   "execution_count": 9,
   "metadata": {
    "scrolled": true
   },
   "outputs": [
    {
     "data": {
      "text/latex": [
       "$$\\mathrm H^{0}(X,\\wedge^{1}T_X)=L\\left( 2\\alpha_{1}+\\alpha_{2}\\right)$$"
      ],
      "text/plain": [
       "<IPython.core.display.Math object>"
      ]
     },
     "metadata": {},
     "output_type": "display_data"
    },
    {
     "data": {
      "text/latex": [
       "$$\\mathrm H^{0}(X,\\wedge^{2}T_X)=L\\left( 4\\alpha_{1}+ 2\\alpha_{2}\\right)\\oplus L\\left( 3\\alpha_{1}+ 2\\alpha_{2}\\right)\\oplus L\\left( 2\\alpha_{1}+\\alpha_{2}\\right)\\oplus L\\left( 5\\alpha_{1}+ 3\\alpha_{2}\\right)$$"
      ],
      "text/plain": [
       "<IPython.core.display.Math object>"
      ]
     },
     "metadata": {},
     "output_type": "display_data"
    },
    {
     "data": {
      "text/latex": [
       "$$\\mathrm H^{0}(X,\\wedge^{3}T_X)=L\\left( 7\\alpha_{1}+ 4\\alpha_{2}\\right)\\oplus L\\left( 6\\alpha_{1}+ 4\\alpha_{2}\\right)\\oplus L\\left( 5\\alpha_{1}+ 3\\alpha_{2}\\right)\\oplus L\\left( 6\\alpha_{1}+ 3\\alpha_{2}\\right)\\oplus L\\left( 4\\alpha_{1}+ 2\\alpha_{2}\\right)$$"
      ],
      "text/plain": [
       "<IPython.core.display.Math object>"
      ]
     },
     "metadata": {},
     "output_type": "display_data"
    }
   ],
   "source": [
    "BGG = BGGComplex('G2')\n",
    "factory = FastModuleFactory(BGG.LA)\n",
    "component_dic = {'u':factory.build_component('u','coad',subset=[2])}\n",
    "for k in range(4):\n",
    "    components = [[('u',k,'wedge')]]\n",
    "    module = FastLieAlgebraCompositeModule(factory,components,component_dic)\n",
    "\n",
    "    cohom = BGGCohomology(BGG, module)\n",
    "\n",
    "    for i in range(10):\n",
    "        cohom.cohomology_LaTeX(i,only_non_zero=True,complex_string=r'X,\\wedge^{'+str(k)+'}T_X')"
   ]
  },
  {
   "cell_type": "code",
   "execution_count": 3,
   "metadata": {},
   "outputs": [],
   "source": [
    "BGG = BGGComplex('G2')\n",
    "f_factory = FastModuleFactory(BGG.LA)\n",
    "component_dic = {'b':f_factory.build_component('b','ad'),'u':f_factory.build_component('u','coad',subset=[1])\n",
    "                 ,'b+':f_factory.build_component('b+','coad'),'n':f_factory.build_component('n','ad')}\n",
    "components = [[(\"u\",1,'wedge')]]\n",
    "\n",
    "module = FastLieAlgebraCompositeModule(f_factory, components, component_dic)\n",
    "\n",
    "cohom = BGGCohomology(BGG, module)\n",
    "for i in range(10):\n",
    "    cohom.cohomology_LaTeX(i,only_non_zero=True,complex_string=r'X_1/B, \\wedge^1 \\mathfrak u')"
   ]
  },
  {
   "cell_type": "code",
   "execution_count": 16,
   "metadata": {},
   "outputs": [
    {
     "data": {
      "text/plain": [
       "{'': (2, 1),\n",
       " '1': (0, 1),\n",
       " '12': (-3, 0),\n",
       " '121': (-7, -2),\n",
       " '1212': (-10, -4),\n",
       " '12121': (-12, -6),\n",
       " '2': (2, 0),\n",
       " '21': (0, -2),\n",
       " '212': (-3, -4),\n",
       " '2121': (-7, -6),\n",
       " '21212': (-10, -7),\n",
       " '212121': (-12, -7)}"
      ]
     },
     "execution_count": 16,
     "metadata": {},
     "output_type": "execute_result"
    }
   ],
   "source": [
    "cohom.weight_set.get_vertex_weights((2,1))"
   ]
  },
  {
   "cell_type": "code",
   "execution_count": 10,
   "metadata": {},
   "outputs": [
    {
     "data": {
      "text/plain": [
       "{(0, 1): [(0, array([[9]], dtype=int32))],\n",
       " (1, 1): [(0, array([[8]], dtype=int32))],\n",
       " (2, 1): [(0, array([[11]], dtype=int32))],\n",
       " (3, 1): [(0, array([[13]], dtype=int32))]}"
      ]
     },
     "execution_count": 10,
     "metadata": {},
     "output_type": "execute_result"
    }
   ],
   "source": [
    "module.weight_components"
   ]
  },
  {
   "cell_type": "code",
   "execution_count": 20,
   "metadata": {},
   "outputs": [
    {
     "data": {
      "text/plain": [
       "array([[0, 0, 0],\n",
       "       [0, 0, 0],\n",
       "       [0, 0, 0],\n",
       "       [0, 0, 0],\n",
       "       [0, 0, 0],\n",
       "       [0, 0, 0]])"
      ]
     },
     "execution_count": 20,
     "metadata": {},
     "output_type": "execute_result"
    }
   ],
   "source": [
    "module.action_tensor_dic['u'][:,11]"
   ]
  },
  {
   "cell_type": "code",
   "execution_count": null,
   "metadata": {},
   "outputs": [],
   "source": []
  }
 ],
 "metadata": {
  "kernelspec": {
   "display_name": "SageMath 8.6",
   "language": "",
   "name": "sagemath"
  },
  "language_info": {
   "codemirror_mode": {
    "name": "ipython",
    "version": 2
   },
   "file_extension": ".py",
   "mimetype": "text/x-python",
   "name": "python",
   "nbconvert_exporter": "python",
   "pygments_lexer": "ipython2",
   "version": "2.7.15"
  }
 },
 "nbformat": 4,
 "nbformat_minor": 2
}
