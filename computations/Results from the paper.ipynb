{
 "cells": [
  {
   "cell_type": "code",
   "execution_count": 3,
   "metadata": {},
   "outputs": [],
   "source": [
    "import sys\n",
    "sys.path.append('../bggcomplex')\n",
    "\n",
    "from bggcomplex import BGGComplex\n",
    "from fast_module import FastLieAlgebraCompositeModule, FastModuleFactory, BGGCohomology\n",
    "import numpy as np"
   ]
  },
  {
   "cell_type": "code",
   "execution_count": 22,
   "metadata": {
    "scrolled": true
   },
   "outputs": [
    {
     "data": {
      "text/latex": [
       "$$\\mathrm H^{0}(X,\\wedge^{0}T_X)=\\mathbb{C}$$"
      ],
      "text/plain": [
       "<IPython.core.display.Math object>"
      ]
     },
     "metadata": {},
     "output_type": "display_data"
    },
    {
     "data": {
      "text/latex": [
       "$$\\mathrm H^{0}(X,\\wedge^{1}T_X)=L\\left(\\alpha_{1}+\\alpha_{2}+\\alpha_{3}+\\alpha_{4}\\right)$$"
      ],
      "text/plain": [
       "<IPython.core.display.Math object>"
      ]
     },
     "metadata": {},
     "output_type": "display_data"
    },
    {
     "data": {
      "text/latex": [
       "$$\\mathrm H^{0}(X,\\wedge^{2}T_X)=L\\left( 2\\alpha_{1}+ 2\\alpha_{2}+ 2\\alpha_{3}+\\alpha_{4}\\right)\\oplus L\\left(\\alpha_{1}+\\alpha_{2}+\\alpha_{3}+\\alpha_{4}\\right)\\oplus L\\left(\\alpha_{1}+ 2\\alpha_{2}+ 2\\alpha_{3}+ 2\\alpha_{4}\\right)$$"
      ],
      "text/plain": [
       "<IPython.core.display.Math object>"
      ]
     },
     "metadata": {},
     "output_type": "display_data"
    },
    {
     "data": {
      "text/latex": [
       "$$\\mathrm H^{0}(X,\\wedge^{3}T_X)=L\\left( 3\\alpha_{1}+ 3\\alpha_{2}+ 2\\alpha_{3}+\\alpha_{4}\\right)\\oplus L\\left( 2\\alpha_{1}+ 2\\alpha_{2}+ 2\\alpha_{3}+ 2\\alpha_{4}\\right)\\oplus L\\left( 2\\alpha_{1}+ 3\\alpha_{2}+ 3\\alpha_{3}+ 2\\alpha_{4}\\right)\\oplus L\\left( 2\\alpha_{1}+ 2\\alpha_{2}+ 2\\alpha_{3}+\\alpha_{4}\\right)\\oplus L\\left(\\alpha_{1}+ 2\\alpha_{2}+ 2\\alpha_{3}+\\alpha_{4}\\right)\\oplus L\\left(\\alpha_{1}+\\alpha_{2}+\\alpha_{3}+\\alpha_{4}\\right)\\oplus L\\left(\\alpha_{1}+ 2\\alpha_{2}+ 3\\alpha_{3}+ 3\\alpha_{4}\\right)\\oplus L\\left(\\alpha_{1}+ 2\\alpha_{2}+ 2\\alpha_{3}+ 2\\alpha_{4}\\right)$$"
      ],
      "text/plain": [
       "<IPython.core.display.Math object>"
      ]
     },
     "metadata": {},
     "output_type": "display_data"
    },
    {
     "data": {
      "text/latex": [
       "$$\\mathrm H^{0}(X,\\wedge^{4}T_X)=L\\left( 3\\alpha_{1}+ 3\\alpha_{2}+ 2\\alpha_{3}+\\alpha_{4}\\right)\\oplus L\\left(\\alpha_{1}+ 2\\alpha_{2}+ 3\\alpha_{3}+ 4\\alpha_{4}\\right)\\oplus L\\left( 2\\alpha_{1}+ 4\\alpha_{2}+ 4\\alpha_{3}+ 2\\alpha_{4}\\right)\\oplus L\\left( 2\\alpha_{1}+ 3\\alpha_{2}+ 4\\alpha_{3}+ 3\\alpha_{4}\\right)\\oplus L\\left( 2\\alpha_{1}+ 2\\alpha_{2}+ 2\\alpha_{3}+\\alpha_{4}\\right)\\oplus L\\left(\\alpha_{1}+\\alpha_{2}+\\alpha_{3}+\\alpha_{4}\\right)\\oplus L\\left(\\alpha_{1}+ 2\\alpha_{2}+ 3\\alpha_{3}+ 3\\alpha_{4}\\right)\\oplus L\\left( 3\\alpha_{1}+ 3\\alpha_{2}+ 3\\alpha_{3}+ 2\\alpha_{4}\\right)\\oplus L\\left(\\alpha_{1}+ 2\\alpha_{2}+ 2\\alpha_{3}+ 2\\alpha_{4}\\right)\\oplus L\\left( 4\\alpha_{1}+ 3\\alpha_{2}+ 2\\alpha_{3}+\\alpha_{4}\\right)\\oplus L\\left( 2\\alpha_{1}+ 3\\alpha_{2}+ 3\\alpha_{3}+ 3\\alpha_{4}\\right)\\oplus L\\left( 3\\alpha_{1}+ 4\\alpha_{2}+ 3\\alpha_{3}+ 2\\alpha_{4}\\right)\\oplus L\\left( 2\\alpha_{1}+ 2\\alpha_{2}+ 2\\alpha_{3}+ 2\\alpha_{4}\\right)^{2}\\oplus L\\left(\\alpha_{1}+ 2\\alpha_{2}+ 3\\alpha_{3}+ 2\\alpha_{4}\\right)^{2}\\oplus L\\left( 2\\alpha_{1}+ 3\\alpha_{2}+ 3\\alpha_{3}+ 2\\alpha_{4}\\right)^{2}\\oplus L\\left( 2\\alpha_{1}+ 3\\alpha_{2}+ 2\\alpha_{3}+\\alpha_{4}\\right)^{2}\\oplus L\\left(\\alpha_{1}+ 2\\alpha_{2}+ 2\\alpha_{3}+\\alpha_{4}\\right)^{3}$$"
      ],
      "text/plain": [
       "<IPython.core.display.Math object>"
      ]
     },
     "metadata": {},
     "output_type": "display_data"
    },
    {
     "data": {
      "text/latex": [
       "$$\\mathrm H^{0}(X,\\wedge^{5}T_X)=L\\left( 2\\alpha_{1}+ 4\\alpha_{2}+ 5\\alpha_{3}+ 3\\alpha_{4}\\right)\\oplus L\\left( 4\\alpha_{1}+ 4\\alpha_{2}+ 3\\alpha_{3}+ 2\\alpha_{4}\\right)\\oplus L\\left( 3\\alpha_{1}+ 4\\alpha_{2}+ 4\\alpha_{3}+ 2\\alpha_{4}\\right)\\oplus L\\left( 3\\alpha_{1}+ 3\\alpha_{2}+ 3\\alpha_{3}+ 3\\alpha_{4}\\right)\\oplus L\\left( 3\\alpha_{1}+ 3\\alpha_{2}+ 2\\alpha_{3}+\\alpha_{4}\\right)\\oplus L\\left(\\alpha_{1}+ 2\\alpha_{2}+ 2\\alpha_{3}+\\alpha_{4}\\right)\\oplus L\\left(\\alpha_{1}+ 2\\alpha_{2}+ 3\\alpha_{3}+ 3\\alpha_{4}\\right)\\oplus L\\left( 3\\alpha_{1}+ 5\\alpha_{2}+ 4\\alpha_{3}+ 2\\alpha_{4}\\right)\\oplus L\\left( 3\\alpha_{1}+ 4\\alpha_{2}+ 4\\alpha_{3}+ 3\\alpha_{4}\\right)\\oplus L\\left( 2\\alpha_{1}+ 4\\alpha_{2}+ 4\\alpha_{3}+ 3\\alpha_{4}\\right)\\oplus L\\left( 2\\alpha_{1}+ 4\\alpha_{2}+ 4\\alpha_{3}+ 2\\alpha_{4}\\right)\\oplus L\\left( 2\\alpha_{1}+ 3\\alpha_{2}+ 4\\alpha_{3}+ 4\\alpha_{4}\\right)\\oplus L\\left( 3\\alpha_{1}+ 4\\alpha_{2}+ 3\\alpha_{3}+ 2\\alpha_{4}\\right)^{2}\\oplus L\\left( 2\\alpha_{1}+ 3\\alpha_{2}+ 4\\alpha_{3}+ 3\\alpha_{4}\\right)^{2}\\oplus L\\left( 2\\alpha_{1}+ 2\\alpha_{2}+ 2\\alpha_{3}+ 2\\alpha_{4}\\right)^{2}\\oplus L\\left( 2\\alpha_{1}+ 3\\alpha_{2}+ 2\\alpha_{3}+\\alpha_{4}\\right)^{2}\\oplus L\\left(\\alpha_{1}+ 2\\alpha_{2}+ 3\\alpha_{3}+ 2\\alpha_{4}\\right)^{2}\\oplus L\\left( 2\\alpha_{1}+ 4\\alpha_{2}+ 3\\alpha_{3}+ 2\\alpha_{4}\\right)^{2}\\oplus L\\left( 2\\alpha_{1}+ 3\\alpha_{2}+ 3\\alpha_{3}+ 3\\alpha_{4}\\right)^{2}\\oplus L\\left( 3\\alpha_{1}+ 3\\alpha_{2}+ 3\\alpha_{3}+ 2\\alpha_{4}\\right)^{2}\\oplus L\\left( 2\\alpha_{1}+ 3\\alpha_{2}+ 4\\alpha_{3}+ 2\\alpha_{4}\\right)^{2}\\oplus L\\left( 2\\alpha_{1}+ 2\\alpha_{2}+ 2\\alpha_{3}+\\alpha_{4}\\right)^{3}\\oplus L\\left(\\alpha_{1}+ 2\\alpha_{2}+ 2\\alpha_{3}+ 2\\alpha_{4}\\right)^{3}\\oplus L\\left( 2\\alpha_{1}+ 3\\alpha_{2}+ 3\\alpha_{3}+ 2\\alpha_{4}\\right)^{6}$$"
      ],
      "text/plain": [
       "<IPython.core.display.Math object>"
      ]
     },
     "metadata": {},
     "output_type": "display_data"
    }
   ],
   "source": [
    "BGG = BGGComplex('A4')\n",
    "factory = FastModuleFactory(BGG.LA)\n",
    "component_dic = {'u':factory.build_component('u','coad',subset=[])}\n",
    "for k in range(6):\n",
    "    components = [[('u',k,'wedge')]]\n",
    "    module = FastLieAlgebraCompositeModule(factory,components,component_dic)\n",
    "\n",
    "    cohom = BGGCohomology(BGG, module)\n",
    "\n",
    "    for i in range(10):\n",
    "        cohom.cohomology_LaTeX(i,only_non_zero=True,complex_string=r'X,\\wedge^{'+str(k)+'}T_X')"
   ]
  },
  {
   "cell_type": "code",
   "execution_count": null,
   "metadata": {},
   "outputs": [],
   "source": []
  },
  {
   "cell_type": "code",
   "execution_count": null,
   "metadata": {},
   "outputs": [],
   "source": [
    "BGG = BGGComplex(d)\n",
    "f_factory = FastModuleFactory(BGG.LA)\n",
    "component_dic = {'b':f_factory.build_component('b','ad'),'u':f_factory.build_component('u','coad')\n",
    "                 ,'b+':f_factory.build_component('b+','coad'),'n':f_factory.build_component('n','ad')}\n",
    "components = [[(\"n\",1,'wedge'),(\"n\",1,'wedge')]]\n",
    "\n",
    "module = FastLieAlgebraCompositeModule(f_factory, components, component_dic)\n",
    "\n",
    "cohom = BGGCohomology(BGG, module)\n",
    "for i in range(10):\n",
    "    cohom.cohomology_LaTeX(i,only_non_zero=True,complex_string=d+r'/B, \\mathfrak n\\otimes \\mathfrak n')"
   ]
  }
 ],
 "metadata": {
  "kernelspec": {
   "display_name": "SageMath 8.6",
   "language": "",
   "name": "sagemath"
  },
  "language_info": {
   "codemirror_mode": {
    "name": "ipython",
    "version": 2
   },
   "file_extension": ".py",
   "mimetype": "text/x-python",
   "name": "python",
   "nbconvert_exporter": "python",
   "pygments_lexer": "ipython2",
   "version": "2.7.15"
  }
 },
 "nbformat": 4,
 "nbformat_minor": 2
}
