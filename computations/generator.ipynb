{
 "cells": [
  {
   "cell_type": "code",
   "execution_count": 6,
   "metadata": {},
   "outputs": [],
   "source": [
    "import re\n",
    "import numpy as np\n",
    "import subprocess\n",
    "import os\n",
    "import time\n",
    "import shutil\n",
    "\n",
    "TP_NUM = 12\n",
    "deadline = '19/05/2020'\n",
    "\n",
    "texfile = 'tp%d.tex'%TP_NUM\n",
    "\n",
    "\n",
    "with open(texfile,'r',encoding='utf-8') as f:\n",
    "    s = f.read()"
   ]
  },
  {
   "cell_type": "code",
   "execution_count": 7,
   "metadata": {},
   "outputs": [],
   "source": [
    "preamble, analyse, algebre = s.split('\\\\section')\n",
    "questions_analyse = analyse.split('\\\\item')[1:-1]\n",
    "questions_algebre = algebre.split('\\\\item')[1:-1]"
   ]
  },
  {
   "cell_type": "code",
   "execution_count": 8,
   "metadata": {
    "scrolled": true
   },
   "outputs": [],
   "source": [
    "def trymkdir(dir):\n",
    "    try:\n",
    "        os.mkdir(dir)\n",
    "    except OSError:\n",
    "        pass\n",
    "\n",
    "def generate_doc(q1,q2,name):\n",
    "    document = r\"\"\"\\documentclass[a4,12pt]{article}\n",
    "    \\usepackage[margin=1in]{geometry}\n",
    "    \\usepackage{amssymb,amsmath}\n",
    "    \\begin{document}\n",
    "    \\title{Exercices TP \\#%d pour %s}\n",
    "    \\maketitle\n",
    "    À rendre au plus tard le mardi %s avant minuit.  Veulliez envoyer vos solutions au format PDF, avec titre \\texttt{nom\\_prénom.pdf}.\n",
    "    \n",
    "    \\section{Analyse} \n",
    "    %s\n",
    "    \\section{Algèbre} \n",
    "    %s\n",
    "    \\end{document}\"\"\" % (TP_NUM, name, deadline, q1, q2)\n",
    "    filename = '%s.tex'%name\n",
    "    os.makedirs('temp',exist_ok=True)\n",
    "    os.makedirs('tp%d'%TP_NUM,exist_ok=True)\n",
    "    with open(os.path.join('temp',filename),'w',encoding='utf-8') as f:\n",
    "        f.write(document)\n",
    "    out=subprocess.run([\"pdflatex\",filename],cwd='temp',capture_output=True)\n",
    "    pdffilename = '%s.pdf'%name\n",
    "    os.replace(os.path.join('temp',pdffilename),os.path.join('tp%d'%TP_NUM,pdffilename))\n",
    "    shutil.rmtree('temp',ignore_errors=False)\n",
    "\n"
   ]
  },
  {
   "cell_type": "code",
   "execution_count": 9,
   "metadata": {},
   "outputs": [],
   "source": [
    "arina_students = [\"Eva Akre\",\"Vaisaka Singarajah\",\"Mathieu Corboz\",\"Sonya\",\"Loris Sonno\"]\n",
    "rik_students = [\"Florence Fermaud\", \"Andrei-Doru Gheorghiu\", \"Martin Chikov\", \"Daniel Vasconcelos\"]"
   ]
  },
  {
   "cell_type": "code",
   "execution_count": 10,
   "metadata": {},
   "outputs": [],
   "source": [
    "alg_nums = np.random.choice(5,size=5,replace=False)\n",
    "ana_nums = np.random.choice(5,size=5,replace=False)\n",
    "\n",
    "\n",
    "for i,student in enumerate(arina_students):\n",
    "    generate_doc(questions_analyse[ana_nums[i]],questions_algebre[alg_nums[i]],student)\n",
    "    \n",
    "alg_nums = np.random.choice(5,size=4,replace=False)\n",
    "ana_nums = np.random.choice(5,size=4,replace=False)\n",
    "\n",
    "for i,student in enumerate(rik_students):\n",
    "    generate_doc(questions_analyse[ana_nums[i]],questions_algebre[alg_nums[i]],student)"
   ]
  },
  {
   "cell_type": "code",
   "execution_count": null,
   "metadata": {},
   "outputs": [],
   "source": []
  }
 ],
 "metadata": {
  "kernelspec": {
   "display_name": "Python 3",
   "language": "python",
   "name": "python3"
  },
  "language_info": {
   "codemirror_mode": {
    "name": "ipython",
    "version": 3
   },
   "file_extension": ".py",
   "mimetype": "text/x-python",
   "name": "python",
   "nbconvert_exporter": "python",
   "pygments_lexer": "ipython3",
   "version": "3.7.3"
  }
 },
 "nbformat": 4,
 "nbformat_minor": 2
}
