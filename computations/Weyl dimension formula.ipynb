{
 "cells": [
  {
   "cell_type": "code",
   "execution_count": 1,
   "metadata": {},
   "outputs": [],
   "source": [
    "import sys\n",
    "sys.path.append('../bggcomplex')\n",
    "\n",
    "from bggcomplex import BGGComplex\n",
    "from fast_module import FastLieAlgebraCompositeModule, FastModuleFactory, BGGCohomology\n",
    "import numpy as np"
   ]
  },
  {
   "cell_type": "code",
   "execution_count": 16,
   "metadata": {},
   "outputs": [
    {
     "name": "stdout",
     "output_type": "stream",
     "text": [
      "dim of u is 6 for root system G2\n"
     ]
    },
    {
     "data": {
      "text/latex": [
       "$$\\mathrm H^{0}(X_{G2},\\wedge^{0}T_X)=\\mathbb{C}$$"
      ],
      "text/plain": [
       "<IPython.core.display.Math object>"
      ]
     },
     "metadata": {},
     "output_type": "display_data"
    },
    {
     "data": {
      "text/latex": [
       "$$\\mathrm b^{0}(X_{G2},\\wedge^{0}T_X)=1$$"
      ],
      "text/plain": [
       "<IPython.core.display.Math object>"
      ]
     },
     "metadata": {},
     "output_type": "display_data"
    },
    {
     "data": {
      "text/latex": [
       "$$\\mathrm H^{0}(X_{G2},\\wedge^{1}T_X)=L\\left( 3\\alpha_{1}+ 2\\alpha_{2}\\right)$$"
      ],
      "text/plain": [
       "<IPython.core.display.Math object>"
      ]
     },
     "metadata": {},
     "output_type": "display_data"
    },
    {
     "data": {
      "text/latex": [
       "$$\\mathrm b^{0}(X_{G2},\\wedge^{1}T_X)=14$$"
      ],
      "text/plain": [
       "<IPython.core.display.Math object>"
      ]
     },
     "metadata": {},
     "output_type": "display_data"
    },
    {
     "data": {
      "text/latex": [
       "$$\\mathrm H^{0}(X_{G2},\\wedge^{2}T_X)=L\\left( 2\\alpha_{1}+\\alpha_{2}\\right)\\oplus L\\left( 3\\alpha_{1}+ 2\\alpha_{2}\\right)\\oplus L\\left( 6\\alpha_{1}+ 3\\alpha_{2}\\right)$$"
      ],
      "text/plain": [
       "<IPython.core.display.Math object>"
      ]
     },
     "metadata": {},
     "output_type": "display_data"
    },
    {
     "data": {
      "text/latex": [
       "$$\\mathrm b^{0}(X_{G2},\\wedge^{2}T_X)=98$$"
      ],
      "text/plain": [
       "<IPython.core.display.Math object>"
      ]
     },
     "metadata": {},
     "output_type": "display_data"
    },
    {
     "data": {
      "text/latex": [
       "$$\\mathrm H^{0}(X_{G2},\\wedge^{3}T_X)=L\\left( 4\\alpha_{1}+ 2\\alpha_{2}\\right)^{2}\\oplus L\\left( 5\\alpha_{1}+ 3\\alpha_{2}\\right)\\oplus L\\left( 6\\alpha_{1}+ 3\\alpha_{2}\\right)\\oplus L\\left( 6\\alpha_{1}+ 4\\alpha_{2}\\right)\\oplus L\\left( 8\\alpha_{1}+ 4\\alpha_{2}\\right)$$"
      ],
      "text/plain": [
       "<IPython.core.display.Math object>"
      ]
     },
     "metadata": {},
     "output_type": "display_data"
    },
    {
     "data": {
      "text/latex": [
       "$$\\mathrm b^{0}(X_{G2},\\wedge^{3}T_X)=454$$"
      ],
      "text/plain": [
       "<IPython.core.display.Math object>"
      ]
     },
     "metadata": {},
     "output_type": "display_data"
    },
    {
     "data": {
      "text/latex": [
       "$$\\mathrm H^{0}(X_{G2},\\wedge^{4}T_X)=L\\left( 5\\alpha_{1}+ 3\\alpha_{2}\\right)\\oplus L\\left( 6\\alpha_{1}+ 3\\alpha_{2}\\right)\\oplus L\\left( 6\\alpha_{1}+ 4\\alpha_{2}\\right)\\oplus L\\left( 7\\alpha_{1}+ 4\\alpha_{2}\\right)^{2}\\oplus L\\left( 8\\alpha_{1}+ 4\\alpha_{2}\\right)\\oplus L\\left( 9\\alpha_{1}+ 5\\alpha_{2}\\right)$$"
      ],
      "text/plain": [
       "<IPython.core.display.Math object>"
      ]
     },
     "metadata": {},
     "output_type": "display_data"
    },
    {
     "data": {
      "text/latex": [
       "$$\\mathrm b^{0}(X_{G2},\\wedge^{4}T_X)=1226$$"
      ],
      "text/plain": [
       "<IPython.core.display.Math object>"
      ]
     },
     "metadata": {},
     "output_type": "display_data"
    },
    {
     "data": {
      "text/latex": [
       "$$\\mathrm H^{0}(X_{G2},\\wedge^{5}T_X)=L\\left( 7\\alpha_{1}+ 4\\alpha_{2}\\right)\\oplus L\\left( 8\\alpha_{1}+ 5\\alpha_{2}\\right)\\oplus L\\left( 9\\alpha_{1}+ 5\\alpha_{2}\\right)\\oplus L\\left( 10\\alpha_{1}+ 5\\alpha_{2}\\right)\\oplus L\\left( 9\\alpha_{1}+ 6\\alpha_{2}\\right)$$"
      ],
      "text/plain": [
       "<IPython.core.display.Math object>"
      ]
     },
     "metadata": {},
     "output_type": "display_data"
    },
    {
     "data": {
      "text/latex": [
       "$$\\mathrm b^{0}(X_{G2},\\wedge^{5}T_X)=1574$$"
      ],
      "text/plain": [
       "<IPython.core.display.Math object>"
      ]
     },
     "metadata": {},
     "output_type": "display_data"
    },
    {
     "data": {
      "text/latex": [
       "$$\\mathrm H^{0}(X_{G2},\\wedge^{6}T_X)=L\\left( 10\\alpha_{1}+ 6\\alpha_{2}\\right)$$"
      ],
      "text/plain": [
       "<IPython.core.display.Math object>"
      ]
     },
     "metadata": {},
     "output_type": "display_data"
    },
    {
     "data": {
      "text/latex": [
       "$$\\mathrm b^{0}(X_{G2},\\wedge^{6}T_X)=729$$"
      ],
      "text/plain": [
       "<IPython.core.display.Math object>"
      ]
     },
     "metadata": {},
     "output_type": "display_data"
    }
   ],
   "source": [
    "d = 'G2'\n",
    "BGG = BGGComplex(d)\n",
    "factory = FastModuleFactory(BGG.LA)\n",
    "component_dic = {'u':factory.build_component('u','coad',subset=[])}\n",
    "u_dim = len(component_dic['u'].basis)\n",
    "print('dim of u is %d for root system %s' % (u_dim, d))\n",
    "for k in range(u_dim+1):\n",
    "    components = [[('u',k,'wedge')]]\n",
    "    module = FastLieAlgebraCompositeModule(factory,components,component_dic)\n",
    "\n",
    "    cohom = BGGCohomology(BGG, module)\n",
    "\n",
    "    cohom.cohomology_LaTeX(complex_string=r'X_{'+d+r'},\\wedge^{'+str(k)+'}T_X')"
   ]
  },
  {
   "cell_type": "code",
   "execution_count": 3,
   "metadata": {},
   "outputs": [
    {
     "data": {
      "text/plain": [
       "[((1, 1, 1), 1),\n",
       " ((1, 2, 1), 2),\n",
       " ((2, 2, 1), 1),\n",
       " ((1, 2, 2), 1),\n",
       " ((3, 2, 1), 1),\n",
       " ((2, 2, 2), 1),\n",
       " ((1, 2, 3), 1),\n",
       " ((2, 3, 2), 1)]"
      ]
     },
     "execution_count": 3,
     "metadata": {},
     "output_type": "execute_result"
    }
   ],
   "source": [
    "sorted(cohom.cohomology(0),key=lambda t:(sum(t[0]),t[0][::-1]))"
   ]
  },
  {
   "cell_type": "code",
   "execution_count": 4,
   "metadata": {},
   "outputs": [
    {
     "data": {
      "text/plain": [
       "(1, 0, 0, -1)"
      ]
     },
     "execution_count": 4,
     "metadata": {},
     "output_type": "execute_result"
    }
   ],
   "source": [
    "mu = [1,1,1]\n",
    "ws = cohom.weight_set\n",
    "mu = ws.tuple_to_weight(mu)\n",
    "mu"
   ]
  },
  {
   "cell_type": "code",
   "execution_count": 5,
   "metadata": {},
   "outputs": [
    {
     "data": {
      "text/plain": [
       "(4, 2, 1, -1)"
      ]
     },
     "execution_count": 5,
     "metadata": {},
     "output_type": "execute_result"
    }
   ],
   "source": [
    "mu+ws.rho"
   ]
  },
  {
   "cell_type": "code",
   "execution_count": 6,
   "metadata": {},
   "outputs": [
    {
     "data": {
      "text/plain": [
       "15"
      ]
     },
     "execution_count": 6,
     "metadata": {},
     "output_type": "execute_result"
    }
   ],
   "source": [
    "pos_roots = [ws.tuple_to_weight(w) for w in BGG.neg_roots]\n",
    "numerator = 1\n",
    "denomenator = 1\n",
    "for alpha in pos_roots:\n",
    "    numerator*=(mu+ws.rho).dot_product(alpha)\n",
    "    denomenator*=(ws.rho.dot_product(alpha))\n",
    "dim = numerator/denomenator\n",
    "dim"
   ]
  },
  {
   "cell_type": "code",
   "execution_count": 7,
   "metadata": {},
   "outputs": [
    {
     "data": {
      "text/plain": [
       "sage.combinat.root_system.type_A.AmbientSpace_with_category.element_class"
      ]
     },
     "execution_count": 7,
     "metadata": {},
     "output_type": "execute_result"
    }
   ],
   "source": [
    "type(cohom.weight_set.rho)"
   ]
  },
  {
   "cell_type": "code",
   "execution_count": 8,
   "metadata": {},
   "outputs": [
    {
     "data": {
      "text/plain": [
       "[array([0, 0, 1]),\n",
       " array([0, 1, 0]),\n",
       " array([1, 0, 0]),\n",
       " array([0, 1, 1]),\n",
       " array([1, 1, 0]),\n",
       " array([1, 1, 1])]"
      ]
     },
     "execution_count": 8,
     "metadata": {},
     "output_type": "execute_result"
    }
   ],
   "source": [
    "BGG.neg_roots"
   ]
  },
  {
   "cell_type": "code",
   "execution_count": null,
   "metadata": {},
   "outputs": [],
   "source": []
  }
 ],
 "metadata": {
  "kernelspec": {
   "display_name": "Python 2",
   "language": "python",
   "name": "python2"
  },
  "language_info": {
   "codemirror_mode": {
    "name": "ipython",
    "version": 2
   },
   "file_extension": ".py",
   "mimetype": "text/x-python",
   "name": "python",
   "nbconvert_exporter": "python",
   "pygments_lexer": "ipython2",
   "version": "2.7.15"
  }
 },
 "nbformat": 4,
 "nbformat_minor": 2
}
