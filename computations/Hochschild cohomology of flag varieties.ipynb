{
 "cells": [
  {
   "cell_type": "code",
   "execution_count": 5,
   "metadata": {},
   "outputs": [],
   "source": [
    "import sys\n",
    "sys.path.append('../bggcomplex')\n",
    "\n",
    "from bggcomplex import BGGComplex\n",
    "from fast_module import FastLieAlgebraCompositeModule, FastModuleFactory, BGGCohomology\n",
    "from tqdm.auto import tqdm\n",
    "import numpy as np"
   ]
  },
  {
   "cell_type": "markdown",
   "metadata": {},
   "source": [
    "We will compute the Hochschild cohomology of flag varieties of different types. We will use the fact that \n",
    "$$H^i(X,\\wedge^j T_X) = H^i(BGG_\\bullet(\\wedge^j \\mathfrak u))$$\n",
    "Here we compute the Hochschild cohomology in the non-parabolic case for a number of diagrams."
   ]
  },
  {
   "cell_type": "code",
   "execution_count": null,
   "metadata": {},
   "outputs": [
    {
     "name": "stdout",
     "output_type": "stream",
     "text": [
      "dim of u is 12 for root system B4\n"
     ]
    },
    {
     "data": {
      "application/vnd.jupyter.widget-view+json": {
       "model_id": "2a70589111154673be11f0cdc8272ccc",
       "version_major": 2,
       "version_minor": 0
      },
      "text/plain": [
       "HBox(children=(IntProgress(value=0, max=13), HTML(value=u'')))"
      ]
     },
     "metadata": {},
     "output_type": "display_data"
    },
    {
     "data": {
      "application/vnd.jupyter.widget-view+json": {
       "model_id": "4d983a8a08e94e9d974e6d55e66c7090",
       "version_major": 2,
       "version_minor": 0
      },
      "text/plain": [
       "HBox(children=(IntProgress(value=1, bar_style=u'info', max=1), HTML(value=u'')))"
      ]
     },
     "metadata": {},
     "output_type": "display_data"
    },
    {
     "data": {
      "application/vnd.jupyter.widget-view+json": {
       "model_id": "e4d0db892b804c42ae591ee43dcdbbf3",
       "version_major": 2,
       "version_minor": 0
      },
      "text/plain": [
       "HBox(children=(IntProgress(value=1, bar_style=u'info', max=1), HTML(value=u'')))"
      ]
     },
     "metadata": {},
     "output_type": "display_data"
    },
    {
     "data": {
      "text/latex": [
       "$$\\mathrm H^{0}(X_{B4},\\wedge^{0}T_X)=\\mathbb{C}$$"
      ],
      "text/plain": [
       "<IPython.core.display.Math object>"
      ]
     },
     "metadata": {},
     "output_type": "display_data"
    }
   ],
   "source": [
    "d='B4'\n",
    "BGG = BGGComplex(d)\n",
    "factory = FastModuleFactory(BGG.LA)\n",
    "component_dic = {'u':factory.build_component('u','coad',subset=[1,2,4])}\n",
    "u_dim = len(component_dic['u'].basis)\n",
    "print('dim of u is %d for root system %s' % (u_dim, d))\n",
    "\n",
    "pbar1 = tqdm(range(u_dim+1))\n",
    "pbar2 = tqdm()\n",
    "pbar3 = tqdm()\n",
    "for k in range(u_dim+1):\n",
    "    components = [[('u',k,'wedge')]]\n",
    "    module = FastLieAlgebraCompositeModule(factory,components,component_dic)\n",
    "\n",
    "    cohom = BGGCohomology(BGG, module,pbars=[pbar2,pbar3])\n",
    "\n",
    "    cohom.cohomology_LaTeX(complex_string=r'X_{'+d+r'},\\wedge^{'+str(k)+'}T_X',i=0)"
   ]
  },
  {
   "cell_type": "code",
   "execution_count": 4,
   "metadata": {
    "scrolled": true
   },
   "outputs": [
    {
     "name": "stdout",
     "output_type": "stream",
     "text": [
      "dim of u is 3 for root system A2\n"
     ]
    },
    {
     "data": {
      "application/vnd.jupyter.widget-view+json": {
       "model_id": "1e6ccb4ed4c04e91940adfad67693509",
       "version_major": 2,
       "version_minor": 0
      },
      "text/plain": [
       "HBox(children=(IntProgress(value=0, max=4), HTML(value=u'')))"
      ]
     },
     "metadata": {},
     "output_type": "display_data"
    },
    {
     "data": {
      "application/vnd.jupyter.widget-view+json": {
       "model_id": "21664d62806a4aadb974ced250745875",
       "version_major": 2,
       "version_minor": 0
      },
      "text/plain": [
       "HBox(children=(IntProgress(value=1, bar_style=u'info', max=1), HTML(value=u'')))"
      ]
     },
     "metadata": {},
     "output_type": "display_data"
    },
    {
     "data": {
      "application/vnd.jupyter.widget-view+json": {
       "model_id": "ef8ce49bc50742bcba3b9bbec95ce4d8",
       "version_major": 2,
       "version_minor": 0
      },
      "text/plain": [
       "HBox(children=(IntProgress(value=1, bar_style=u'info', max=1), HTML(value=u'')))"
      ]
     },
     "metadata": {},
     "output_type": "display_data"
    },
    {
     "data": {
      "text/latex": [
       "$$\\mathrm H^{0}(X_{A2},\\wedge^{0}T_X)=\\mathbb{C}$$"
      ],
      "text/plain": [
       "<IPython.core.display.Math object>"
      ]
     },
     "metadata": {},
     "output_type": "display_data"
    },
    {
     "data": {
      "text/latex": [
       "$$\\mathrm H^{0}(X_{A2},\\wedge^{1}T_X)=L\\left(\\alpha_{1}+\\alpha_{2}\\right)$$"
      ],
      "text/plain": [
       "<IPython.core.display.Math object>"
      ]
     },
     "metadata": {},
     "output_type": "display_data"
    },
    {
     "data": {
      "text/latex": [
       "$$\\mathrm H^{0}(X_{A2},\\wedge^{2}T_X)=L\\left(\\alpha_{1}+\\alpha_{2}\\right)\\oplus L\\left( 2\\alpha_{1}+\\alpha_{2}\\right)\\oplus L\\left(\\alpha_{1}+ 2\\alpha_{2}\\right)$$"
      ],
      "text/plain": [
       "<IPython.core.display.Math object>"
      ]
     },
     "metadata": {},
     "output_type": "display_data"
    },
    {
     "data": {
      "text/latex": [
       "$$\\mathrm H^{0}(X_{A2},\\wedge^{3}T_X)=L\\left( 2\\alpha_{1}+ 2\\alpha_{2}\\right)$$"
      ],
      "text/plain": [
       "<IPython.core.display.Math object>"
      ]
     },
     "metadata": {},
     "output_type": "display_data"
    },
    {
     "name": "stdout",
     "output_type": "stream",
     "text": [
      "dim of u is 6 for root system A3\n"
     ]
    },
    {
     "data": {
      "application/vnd.jupyter.widget-view+json": {
       "model_id": "2f5bf03ff7044cc68959a53ea17b6fa6",
       "version_major": 2,
       "version_minor": 0
      },
      "text/plain": [
       "HBox(children=(IntProgress(value=0, max=7), HTML(value=u'')))"
      ]
     },
     "metadata": {},
     "output_type": "display_data"
    },
    {
     "data": {
      "application/vnd.jupyter.widget-view+json": {
       "model_id": "ee0dcc6b5206437b82b19465829e50df",
       "version_major": 2,
       "version_minor": 0
      },
      "text/plain": [
       "HBox(children=(IntProgress(value=1, bar_style=u'info', max=1), HTML(value=u'')))"
      ]
     },
     "metadata": {},
     "output_type": "display_data"
    },
    {
     "data": {
      "application/vnd.jupyter.widget-view+json": {
       "model_id": "0318430a7f794b2591e21fa3a718daaf",
       "version_major": 2,
       "version_minor": 0
      },
      "text/plain": [
       "HBox(children=(IntProgress(value=1, bar_style=u'info', max=1), HTML(value=u'')))"
      ]
     },
     "metadata": {},
     "output_type": "display_data"
    },
    {
     "data": {
      "text/latex": [
       "$$\\mathrm H^{0}(X_{A3},\\wedge^{0}T_X)=\\mathbb{C}$$"
      ],
      "text/plain": [
       "<IPython.core.display.Math object>"
      ]
     },
     "metadata": {},
     "output_type": "display_data"
    },
    {
     "data": {
      "text/latex": [
       "$$\\mathrm H^{0}(X_{A3},\\wedge^{1}T_X)=L\\left(\\alpha_{1}+\\alpha_{2}+\\alpha_{3}\\right)$$"
      ],
      "text/plain": [
       "<IPython.core.display.Math object>"
      ]
     },
     "metadata": {},
     "output_type": "display_data"
    },
    {
     "data": {
      "text/latex": [
       "$$\\mathrm H^{0}(X_{A3},\\wedge^{2}T_X)=L\\left(\\alpha_{1}+\\alpha_{2}+\\alpha_{3}\\right)\\oplus L\\left( 2\\alpha_{1}+ 2\\alpha_{2}+\\alpha_{3}\\right)\\oplus L\\left(\\alpha_{1}+ 2\\alpha_{2}+ 2\\alpha_{3}\\right)$$"
      ],
      "text/plain": [
       "<IPython.core.display.Math object>"
      ]
     },
     "metadata": {},
     "output_type": "display_data"
    },
    {
     "name": "stderr",
     "output_type": "stream",
     "text": [
      "\n",
      "KeyboardInterrupt\n",
      "\n"
     ]
    }
   ],
   "source": [
    "for d in ['A2','A3','G2','B2','A4','B3','C3']:\n",
    "\n",
    "    BGG = BGGComplex(d)\n",
    "    factory = FastModuleFactory(BGG.LA)\n",
    "    component_dic = {'u':factory.build_component('u','coad',subset=[])}\n",
    "    u_dim = len(component_dic['u'].basis)\n",
    "    print('dim of u is %d for root system %s' % (u_dim, d))\n",
    "    \n",
    "    pbar1 = tqdm(range(u_dim+1))\n",
    "    pbar2 = tqdm()\n",
    "    pbar3 = tqdm()\n",
    "    for k in range(u_dim+1):\n",
    "        components = [[('u',k,'wedge')]]\n",
    "        module = FastLieAlgebraCompositeModule(factory,components,component_dic)\n",
    "\n",
    "        cohom = BGGCohomology(BGG, module,pbars=[pbar2,pbar3])\n",
    "\n",
    "        cohom.cohomology_LaTeX(complex_string=r'X_{'+d+r'},\\wedge^{'+str(k)+'}T_X')"
   ]
  },
  {
   "cell_type": "markdown",
   "metadata": {},
   "source": [
    "### G2 in the parabolic case\n",
    "Now for $G2$ we do some computations in the parabolic case. "
   ]
  },
  {
   "cell_type": "code",
   "execution_count": null,
   "metadata": {
    "scrolled": true
   },
   "outputs": [],
   "source": [
    "subset_list = [[],[1],[2]]\n",
    "subscript_list = [r'',r'\\alpha_1',r'\\alpha_2']\n",
    "d = 'G2'\n",
    "BGG = BGGComplex(d)\n",
    "for subset,subscript in zip(subset_list,subscript_list):\n",
    "    factory = FastModuleFactory(BGG.LA)\n",
    "    component_dic = {'u':factory.build_component('u','coad',subset=subset)}\n",
    "    u_dim = len(component_dic['u'].basis)\n",
    "    print('dim of u is %d for root system %s' % (u_dim, d))\n",
    "    pbar1 = tqdm(range(u_dim+1))\n",
    "    pbar2 = tqdm()\n",
    "    pbar3 = tqdm()\n",
    "    for k in pbar1:\n",
    "        components = [[('u',k,'wedge')]]\n",
    "        module = FastLieAlgebraCompositeModule(factory,components,component_dic)\n",
    "\n",
    "        cohom = BGGCohomology(BGG, module,pbars=[pbar2,pbar3])\n",
    "\n",
    "        cohom.cohomology_LaTeX(complex_string=r'X_{'+subscript+r'},\\wedge^{'+str(k)+'}T_X',print_betti=True)"
   ]
  },
  {
   "cell_type": "markdown",
   "metadata": {},
   "source": [
    "### A4 in the parabolic case\n",
    "Now for $A4$ we do some computations in the parabolic case. "
   ]
  },
  {
   "cell_type": "code",
   "execution_count": null,
   "metadata": {
    "scrolled": true
   },
   "outputs": [],
   "source": [
    "from itertools import combinations, chain\n",
    "roots = [1,2,3,4]\n",
    "subsets = list(chain.from_iterable(combinations(roots,i) for i in range(len(roots))))\n",
    "d = 'A4'\n",
    "BGG = BGGComplex(d)\n",
    "for subset in subsets:\n",
    "    factory = FastModuleFactory(BGG.LA)\n",
    "    component_dic = {'u':factory.build_component('u','coad',subset=subset)}\n",
    "    u_dim = len(component_dic['u'].basis)\n",
    "    print('dim of u is %d for root system %s and subset %s' % (u_dim, d, subset))\n",
    "    pbar1 = tqdm(range(u_dim+1))\n",
    "    pbar2 = tqdm()\n",
    "    pbar3 = tqdm()\n",
    "    for k in pbar1:\n",
    "        components = [[('u',k,'wedge')]]\n",
    "        module = FastLieAlgebraCompositeModule(factory,components,component_dic)\n",
    "\n",
    "        cohom = BGGCohomology(BGG, module,pbars=[pbar2,pbar3])\n",
    "        subset_string = ''.join(str(s) for s in subset)\n",
    "        cohom.cohomology_LaTeX(complex_string=r'X_{'+subset_string+r'},\\wedge^{'+str(k)+'}T_X',print_betti=True)"
   ]
  },
  {
   "cell_type": "markdown",
   "metadata": {},
   "source": [
    "## A3 parabolic"
   ]
  },
  {
   "cell_type": "code",
   "execution_count": null,
   "metadata": {
    "scrolled": true
   },
   "outputs": [],
   "source": [
    "from itertools import combinations, chain\n",
    "roots = [1,2,3]\n",
    "subsets = list(chain.from_iterable(combinations(roots,i) for i in range(len(roots))))\n",
    "d = 'A3'\n",
    "BGG = BGGComplex(d)\n",
    "for subset in subsets:\n",
    "    factory = FastModuleFactory(BGG.LA)\n",
    "    component_dic = {'u':factory.build_component('u','coad',subset=subset)}\n",
    "    u_dim = len(component_dic['u'].basis)\n",
    "    print('dim of u is %d for root system %s and subset %s' % (u_dim, d, subset))\n",
    "    for k in range(u_dim+1):\n",
    "        components = [[('u',k,'wedge')]]\n",
    "        module = FastLieAlgebraCompositeModule(factory,components,component_dic)\n",
    "\n",
    "        cohom = BGGCohomology(BGG, module,pbars=[pbar2,pbar3])\n",
    "        subset_string = ''.join(str(s) for s in subset)\n",
    "        cohom.cohomology_LaTeX(complex_string=r'X_{'+subset_string+r'},\\wedge^{'+str(k)+'}T_X',print_betti=True)"
   ]
  },
  {
   "cell_type": "markdown",
   "metadata": {},
   "source": [
    "## B2 parabolic"
   ]
  },
  {
   "cell_type": "code",
   "execution_count": null,
   "metadata": {},
   "outputs": [],
   "source": [
    "from itertools import combinations, chain\n",
    "roots = [1,2]\n",
    "subsets = list(chain.from_iterable(combinations(roots,i) for i in range(len(roots))))\n",
    "d = 'B2'\n",
    "BGG = BGGComplex(d)\n",
    "for subset in subsets:\n",
    "    factory = FastModuleFactory(BGG.LA)\n",
    "    component_dic = {'u':factory.build_component('u','coad',subset=subset)}\n",
    "    u_dim = len(component_dic['u'].basis)\n",
    "    print('dim of u is %d for root system %s and subset %s' % (u_dim, d, subset))\n",
    "    pbar1 = tqdm(range(u_dim+1))\n",
    "    pbar2 = tqdm()\n",
    "    pbar3 = tqdm()\n",
    "    for k in pbar1:\n",
    "        components = [[('u',k,'wedge')]]\n",
    "        module = FastLieAlgebraCompositeModule(factory,components,component_dic)\n",
    "\n",
    "        cohom = BGGCohomology(BGG, module,pbars=[pbar2,pbar3])\n",
    "        subset_string = ''.join(str(s) for s in subset)\n",
    "        cohom.cohomology_LaTeX(complex_string=r'X_{'+subset_string+r'},\\wedge^{'+str(k)+'}T_X',print_betti=True)"
   ]
  },
  {
   "cell_type": "markdown",
   "metadata": {},
   "source": [
    "## B3 parabolic"
   ]
  },
  {
   "cell_type": "code",
   "execution_count": null,
   "metadata": {
    "scrolled": true
   },
   "outputs": [],
   "source": [
    "from itertools import combinations, chain\n",
    "roots = [1,2,3]\n",
    "subsets = list(chain.from_iterable(combinations(roots,i) for i in range(len(roots))))\n",
    "d = 'B3'\n",
    "BGG = BGGComplex(d)\n",
    "for subset in subsets:\n",
    "    factory = FastModuleFactory(BGG.LA)\n",
    "    component_dic = {'u':factory.build_component('u','coad',subset=subset)}\n",
    "    u_dim = len(component_dic['u'].basis)\n",
    "    print('dim of u is %d for root system %s and subset %s' % (u_dim, d, subset))\n",
    "    pbar1 = tqdm(range(u_dim+1))\n",
    "    pbar2 = tqdm()\n",
    "    pbar3 = tqdm()\n",
    "    for k in pbar1:\n",
    "        components = [[('u',k,'wedge')]]\n",
    "        module = FastLieAlgebraCompositeModule(factory,components,component_dic)\n",
    "\n",
    "        cohom = BGGCohomology(BGG, module,pbars=[pbar2,pbar3])\n",
    "        subset_string = ''.join(str(s) for s in subset)\n",
    "        cohom.cohomology_LaTeX(complex_string=r'X_{'+subset_string+r'},\\wedge^{'+str(k)+'}T_X',print_betti=True)"
   ]
  },
  {
   "cell_type": "markdown",
   "metadata": {},
   "source": [
    "## C3 Parabolic"
   ]
  },
  {
   "cell_type": "code",
   "execution_count": null,
   "metadata": {},
   "outputs": [],
   "source": [
    "from itertools import combinations, chain\n",
    "roots = [1,2,3]\n",
    "subsets = list(chain.from_iterable(combinations(roots,i) for i in range(len(roots))))\n",
    "d = 'C3'\n",
    "BGG = BGGComplex(d)\n",
    "for subset in subsets:\n",
    "    factory = FastModuleFactory(BGG.LA)\n",
    "    component_dic = {'u':factory.build_component('u','coad',subset=subset)}\n",
    "    u_dim = len(component_dic['u'].basis)\n",
    "    print('dim of u is %d for root system %s and subset %s' % (u_dim, d, subset))\n",
    "    pbar1 = tqdm(range(u_dim+1))\n",
    "    pbar2 = tqdm()\n",
    "    pbar3 = tqdm()\n",
    "    for k in pbar1:\n",
    "        components = [[('u',k,'wedge')]]\n",
    "        module = FastLieAlgebraCompositeModule(factory,components,component_dic)\n",
    "\n",
    "        cohom = BGGCohomology(BGG, module,pbars=[pbar2,pbar3])\n",
    "        subset_string = ''.join(str(s) for s in subset)\n",
    "        cohom.cohomology_LaTeX(complex_string=r'X_{'+subset_string+r'},\\wedge^{'+str(k)+'}T_X',print_betti=True)"
   ]
  }
 ],
 "metadata": {
  "kernelspec": {
   "display_name": "SageMath 8.9",
   "language": "sage",
   "name": "sagemath"
  }
 },
 "nbformat": 4,
 "nbformat_minor": 2
}
