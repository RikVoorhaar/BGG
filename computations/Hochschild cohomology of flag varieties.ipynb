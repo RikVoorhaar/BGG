{
 "cells": [
  {
   "cell_type": "code",
   "execution_count": 1,
   "metadata": {},
   "outputs": [],
   "source": [
    "import sys\n",
    "sys.path.append('../bggcomplex')\n",
    "\n",
    "from bggcomplex import BGGComplex\n",
    "from fast_module import FastLieAlgebraCompositeModule, FastModuleFactory, BGGCohomology\n",
    "import numpy as np"
   ]
  },
  {
   "cell_type": "markdown",
   "metadata": {},
   "source": [
    "We will compute the Hochschild cohomology of flag varieties of different types. We will use the fact that \n",
    "$$H^i(X,\\wedge^j T_X) = H^i(BGG_\\bullet(\\wedge^j \\mathfrak u))$$\n",
    "Here we compute the Hochschild cohomology in the non-parabolic case for a number of diagrams."
   ]
  },
  {
   "cell_type": "code",
   "execution_count": null,
   "metadata": {
    "scrolled": true
   },
   "outputs": [
    {
     "data": {
      "text/latex": [
       "$$\\mathrm H^{0}(X_{A2},\\wedge^{0}T_X)=\\mathbb{C}$$"
      ],
      "text/plain": [
       "<IPython.core.display.Math object>"
      ]
     },
     "metadata": {},
     "output_type": "display_data"
    },
    {
     "data": {
      "text/latex": [
       "$$\\mathrm H^{0}(X_{A2},\\wedge^{1}T_X)=L\\left(\\alpha_{1}+\\alpha_{2}\\right)$$"
      ],
      "text/plain": [
       "<IPython.core.display.Math object>"
      ]
     },
     "metadata": {},
     "output_type": "display_data"
    },
    {
     "data": {
      "text/latex": [
       "$$\\mathrm H^{0}(X_{A2},\\wedge^{2}T_X)=L\\left(\\alpha_{1}+ 2\\alpha_{2}\\right)\\oplus L\\left(\\alpha_{1}+\\alpha_{2}\\right)\\oplus L\\left( 2\\alpha_{1}+\\alpha_{2}\\right)$$"
      ],
      "text/plain": [
       "<IPython.core.display.Math object>"
      ]
     },
     "metadata": {},
     "output_type": "display_data"
    },
    {
     "data": {
      "text/latex": [
       "$$\\mathrm H^{0}(X_{A2},\\wedge^{3}T_X)=L\\left( 2\\alpha_{1}+ 2\\alpha_{2}\\right)$$"
      ],
      "text/plain": [
       "<IPython.core.display.Math object>"
      ]
     },
     "metadata": {},
     "output_type": "display_data"
    },
    {
     "data": {
      "text/latex": [
       "$$\\mathrm H^{0}(X_{A3},\\wedge^{0}T_X)=\\mathbb{C}$$"
      ],
      "text/plain": [
       "<IPython.core.display.Math object>"
      ]
     },
     "metadata": {},
     "output_type": "display_data"
    },
    {
     "data": {
      "text/latex": [
       "$$\\mathrm H^{0}(X_{A3},\\wedge^{1}T_X)=L\\left(\\alpha_{1}+\\alpha_{2}+\\alpha_{3}\\right)$$"
      ],
      "text/plain": [
       "<IPython.core.display.Math object>"
      ]
     },
     "metadata": {},
     "output_type": "display_data"
    },
    {
     "data": {
      "text/latex": [
       "$$\\mathrm H^{0}(X_{A3},\\wedge^{2}T_X)=L\\left( 2\\alpha_{1}+ 2\\alpha_{2}+\\alpha_{3}\\right)\\oplus L\\left(\\alpha_{1}+ 2\\alpha_{2}+ 2\\alpha_{3}\\right)\\oplus L\\left(\\alpha_{1}+\\alpha_{2}+\\alpha_{3}\\right)$$"
      ],
      "text/plain": [
       "<IPython.core.display.Math object>"
      ]
     },
     "metadata": {},
     "output_type": "display_data"
    },
    {
     "data": {
      "text/latex": [
       "$$\\mathrm H^{0}(X_{A3},\\wedge^{3}T_X)=L\\left( 2\\alpha_{1}+ 2\\alpha_{2}+ 2\\alpha_{3}\\right)\\oplus L\\left( 2\\alpha_{1}+ 3\\alpha_{2}+ 2\\alpha_{3}\\right)\\oplus L\\left( 3\\alpha_{1}+ 2\\alpha_{2}+\\alpha_{3}\\right)\\oplus L\\left( 2\\alpha_{1}+ 2\\alpha_{2}+\\alpha_{3}\\right)\\oplus L\\left(\\alpha_{1}+ 2\\alpha_{2}+ 3\\alpha_{3}\\right)\\oplus L\\left(\\alpha_{1}+ 2\\alpha_{2}+ 2\\alpha_{3}\\right)\\oplus L\\left(\\alpha_{1}+\\alpha_{2}+\\alpha_{3}\\right)\\oplus L\\left(\\alpha_{1}+ 2\\alpha_{2}+\\alpha_{3}\\right)^{2}$$"
      ],
      "text/plain": [
       "<IPython.core.display.Math object>"
      ]
     },
     "metadata": {},
     "output_type": "display_data"
    },
    {
     "data": {
      "text/latex": [
       "$$\\mathrm H^{0}(X_{A3},\\wedge^{4}T_X)=L\\left( 3\\alpha_{1}+ 3\\alpha_{2}+ 2\\alpha_{3}\\right)\\oplus L\\left( 2\\alpha_{1}+ 2\\alpha_{2}+\\alpha_{3}\\right)\\oplus L\\left( 2\\alpha_{1}+ 3\\alpha_{2}+ 3\\alpha_{3}\\right)\\oplus L\\left( 2\\alpha_{1}+ 4\\alpha_{2}+ 2\\alpha_{3}\\right)\\oplus L\\left(\\alpha_{1}+ 2\\alpha_{2}+ 2\\alpha_{3}\\right)\\oplus L\\left( 2\\alpha_{1}+ 2\\alpha_{2}+ 2\\alpha_{3}\\right)^{2}\\oplus L\\left( 2\\alpha_{1}+ 3\\alpha_{2}+ 2\\alpha_{3}\\right)^{2}$$"
      ],
      "text/plain": [
       "<IPython.core.display.Math object>"
      ]
     },
     "metadata": {},
     "output_type": "display_data"
    },
    {
     "data": {
      "text/latex": [
       "$$\\mathrm H^{0}(X_{A3},\\wedge^{5}T_X)=L\\left( 3\\alpha_{1}+ 3\\alpha_{2}+ 3\\alpha_{3}\\right)\\oplus L\\left( 2\\alpha_{1}+ 3\\alpha_{2}+ 2\\alpha_{3}\\right)\\oplus L\\left( 3\\alpha_{1}+ 3\\alpha_{2}+ 2\\alpha_{3}\\right)\\oplus L\\left( 2\\alpha_{1}+ 4\\alpha_{2}+ 3\\alpha_{3}\\right)\\oplus L\\left( 2\\alpha_{1}+ 3\\alpha_{2}+ 3\\alpha_{3}\\right)\\oplus L\\left( 3\\alpha_{1}+ 4\\alpha_{2}+ 2\\alpha_{3}\\right)$$"
      ],
      "text/plain": [
       "<IPython.core.display.Math object>"
      ]
     },
     "metadata": {},
     "output_type": "display_data"
    },
    {
     "data": {
      "text/latex": [
       "$$\\mathrm H^{0}(X_{A3},\\wedge^{6}T_X)=L\\left( 3\\alpha_{1}+ 4\\alpha_{2}+ 3\\alpha_{3}\\right)$$"
      ],
      "text/plain": [
       "<IPython.core.display.Math object>"
      ]
     },
     "metadata": {},
     "output_type": "display_data"
    },
    {
     "data": {
      "text/latex": [
       "$$\\mathrm H^{0}(X_{G2},\\wedge^{0}T_X)=\\mathbb{C}$$"
      ],
      "text/plain": [
       "<IPython.core.display.Math object>"
      ]
     },
     "metadata": {},
     "output_type": "display_data"
    },
    {
     "data": {
      "text/latex": [
       "$$\\mathrm H^{0}(X_{G2},\\wedge^{1}T_X)=L\\left( 3\\alpha_{1}+ 2\\alpha_{2}\\right)$$"
      ],
      "text/plain": [
       "<IPython.core.display.Math object>"
      ]
     },
     "metadata": {},
     "output_type": "display_data"
    },
    {
     "data": {
      "text/latex": [
       "$$\\mathrm H^{0}(X_{G2},\\wedge^{2}T_X)=L\\left( 6\\alpha_{1}+ 3\\alpha_{2}\\right)\\oplus L\\left( 3\\alpha_{1}+ 2\\alpha_{2}\\right)\\oplus L\\left( 2\\alpha_{1}+\\alpha_{2}\\right)$$"
      ],
      "text/plain": [
       "<IPython.core.display.Math object>"
      ]
     },
     "metadata": {},
     "output_type": "display_data"
    },
    {
     "data": {
      "text/latex": [
       "$$\\mathrm H^{0}(X_{G2},\\wedge^{3}T_X)=L\\left( 6\\alpha_{1}+ 3\\alpha_{2}\\right)\\oplus L\\left( 6\\alpha_{1}+ 4\\alpha_{2}\\right)\\oplus L\\left( 5\\alpha_{1}+ 3\\alpha_{2}\\right)\\oplus L\\left( 8\\alpha_{1}+ 4\\alpha_{2}\\right)\\oplus L\\left( 4\\alpha_{1}+ 2\\alpha_{2}\\right)^{2}$$"
      ],
      "text/plain": [
       "<IPython.core.display.Math object>"
      ]
     },
     "metadata": {},
     "output_type": "display_data"
    },
    {
     "data": {
      "text/latex": [
       "$$\\mathrm H^{0}(X_{G2},\\wedge^{4}T_X)=L\\left( 6\\alpha_{1}+ 4\\alpha_{2}\\right)\\oplus L\\left( 6\\alpha_{1}+ 3\\alpha_{2}\\right)\\oplus L\\left( 9\\alpha_{1}+ 5\\alpha_{2}\\right)\\oplus L\\left( 8\\alpha_{1}+ 4\\alpha_{2}\\right)\\oplus L\\left( 5\\alpha_{1}+ 3\\alpha_{2}\\right)\\oplus L\\left( 7\\alpha_{1}+ 4\\alpha_{2}\\right)^{2}$$"
      ],
      "text/plain": [
       "<IPython.core.display.Math object>"
      ]
     },
     "metadata": {},
     "output_type": "display_data"
    },
    {
     "data": {
      "text/latex": [
       "$$\\mathrm H^{0}(X_{G2},\\wedge^{5}T_X)=L\\left( 7\\alpha_{1}+ 4\\alpha_{2}\\right)\\oplus L\\left( 9\\alpha_{1}+ 5\\alpha_{2}\\right)\\oplus L\\left( 10\\alpha_{1}+ 5\\alpha_{2}\\right)\\oplus L\\left( 9\\alpha_{1}+ 6\\alpha_{2}\\right)\\oplus L\\left( 8\\alpha_{1}+ 5\\alpha_{2}\\right)$$"
      ],
      "text/plain": [
       "<IPython.core.display.Math object>"
      ]
     },
     "metadata": {},
     "output_type": "display_data"
    },
    {
     "data": {
      "text/latex": [
       "$$\\mathrm H^{0}(X_{G2},\\wedge^{6}T_X)=L\\left( 10\\alpha_{1}+ 6\\alpha_{2}\\right)$$"
      ],
      "text/plain": [
       "<IPython.core.display.Math object>"
      ]
     },
     "metadata": {},
     "output_type": "display_data"
    },
    {
     "data": {
      "text/latex": [
       "$$\\mathrm H^{0}(X_{B2},\\wedge^{0}T_X)=\\mathbb{C}$$"
      ],
      "text/plain": [
       "<IPython.core.display.Math object>"
      ]
     },
     "metadata": {},
     "output_type": "display_data"
    },
    {
     "data": {
      "text/latex": [
       "$$\\mathrm H^{0}(X_{B2},\\wedge^{1}T_X)=L\\left(\\alpha_{1}+ 2\\alpha_{2}\\right)$$"
      ],
      "text/plain": [
       "<IPython.core.display.Math object>"
      ]
     },
     "metadata": {},
     "output_type": "display_data"
    },
    {
     "data": {
      "text/latex": [
       "$$\\mathrm H^{0}(X_{B2},\\wedge^{2}T_X)=L\\left(\\alpha_{1}+ 2\\alpha_{2}\\right)\\oplus L\\left( 2\\alpha_{1}+ 3\\alpha_{2}\\right)\\oplus L\\left(\\alpha_{1}+\\alpha_{2}\\right)$$"
      ],
      "text/plain": [
       "<IPython.core.display.Math object>"
      ]
     },
     "metadata": {},
     "output_type": "display_data"
    },
    {
     "data": {
      "text/latex": [
       "$$\\mathrm H^{0}(X_{B2},\\wedge^{3}T_X)=L\\left( 3\\alpha_{1}+ 3\\alpha_{2}\\right)\\oplus L\\left( 2\\alpha_{1}+ 3\\alpha_{2}\\right)\\oplus L\\left( 2\\alpha_{1}+ 4\\alpha_{2}\\right)\\oplus L\\left( 2\\alpha_{1}+ 2\\alpha_{2}\\right)$$"
      ],
      "text/plain": [
       "<IPython.core.display.Math object>"
      ]
     },
     "metadata": {},
     "output_type": "display_data"
    },
    {
     "data": {
      "text/latex": [
       "$$\\mathrm H^{0}(X_{B2},\\wedge^{4}T_X)=L\\left( 3\\alpha_{1}+ 4\\alpha_{2}\\right)$$"
      ],
      "text/plain": [
       "<IPython.core.display.Math object>"
      ]
     },
     "metadata": {},
     "output_type": "display_data"
    },
    {
     "data": {
      "text/latex": [
       "$$\\mathrm H^{0}(X_{A4},\\wedge^{0}T_X)=\\mathbb{C}$$"
      ],
      "text/plain": [
       "<IPython.core.display.Math object>"
      ]
     },
     "metadata": {},
     "output_type": "display_data"
    },
    {
     "data": {
      "text/latex": [
       "$$\\mathrm H^{0}(X_{A4},\\wedge^{1}T_X)=L\\left(\\alpha_{1}+\\alpha_{2}+\\alpha_{3}+\\alpha_{4}\\right)$$"
      ],
      "text/plain": [
       "<IPython.core.display.Math object>"
      ]
     },
     "metadata": {},
     "output_type": "display_data"
    },
    {
     "data": {
      "text/latex": [
       "$$\\mathrm H^{0}(X_{A4},\\wedge^{2}T_X)=L\\left( 2\\alpha_{1}+ 2\\alpha_{2}+ 2\\alpha_{3}+\\alpha_{4}\\right)\\oplus L\\left(\\alpha_{1}+\\alpha_{2}+\\alpha_{3}+\\alpha_{4}\\right)\\oplus L\\left(\\alpha_{1}+ 2\\alpha_{2}+ 2\\alpha_{3}+ 2\\alpha_{4}\\right)$$"
      ],
      "text/plain": [
       "<IPython.core.display.Math object>"
      ]
     },
     "metadata": {},
     "output_type": "display_data"
    },
    {
     "data": {
      "text/latex": [
       "$$\\mathrm H^{0}(X_{A4},\\wedge^{3}T_X)=L\\left( 3\\alpha_{1}+ 3\\alpha_{2}+ 2\\alpha_{3}+\\alpha_{4}\\right)\\oplus L\\left( 2\\alpha_{1}+ 2\\alpha_{2}+ 2\\alpha_{3}+ 2\\alpha_{4}\\right)\\oplus L\\left( 2\\alpha_{1}+ 3\\alpha_{2}+ 3\\alpha_{3}+ 2\\alpha_{4}\\right)\\oplus L\\left( 2\\alpha_{1}+ 2\\alpha_{2}+ 2\\alpha_{3}+\\alpha_{4}\\right)\\oplus L\\left(\\alpha_{1}+ 2\\alpha_{2}+ 2\\alpha_{3}+\\alpha_{4}\\right)\\oplus L\\left(\\alpha_{1}+\\alpha_{2}+\\alpha_{3}+\\alpha_{4}\\right)\\oplus L\\left(\\alpha_{1}+ 2\\alpha_{2}+ 3\\alpha_{3}+ 3\\alpha_{4}\\right)\\oplus L\\left(\\alpha_{1}+ 2\\alpha_{2}+ 2\\alpha_{3}+ 2\\alpha_{4}\\right)$$"
      ],
      "text/plain": [
       "<IPython.core.display.Math object>"
      ]
     },
     "metadata": {},
     "output_type": "display_data"
    },
    {
     "data": {
      "text/latex": [
       "$$\\mathrm H^{0}(X_{A4},\\wedge^{4}T_X)=L\\left( 3\\alpha_{1}+ 3\\alpha_{2}+ 2\\alpha_{3}+\\alpha_{4}\\right)\\oplus L\\left(\\alpha_{1}+ 2\\alpha_{2}+ 3\\alpha_{3}+ 4\\alpha_{4}\\right)\\oplus L\\left( 2\\alpha_{1}+ 4\\alpha_{2}+ 4\\alpha_{3}+ 2\\alpha_{4}\\right)\\oplus L\\left( 2\\alpha_{1}+ 3\\alpha_{2}+ 4\\alpha_{3}+ 3\\alpha_{4}\\right)\\oplus L\\left( 2\\alpha_{1}+ 2\\alpha_{2}+ 2\\alpha_{3}+\\alpha_{4}\\right)\\oplus L\\left(\\alpha_{1}+\\alpha_{2}+\\alpha_{3}+\\alpha_{4}\\right)\\oplus L\\left(\\alpha_{1}+ 2\\alpha_{2}+ 3\\alpha_{3}+ 3\\alpha_{4}\\right)\\oplus L\\left( 3\\alpha_{1}+ 3\\alpha_{2}+ 3\\alpha_{3}+ 2\\alpha_{4}\\right)\\oplus L\\left(\\alpha_{1}+ 2\\alpha_{2}+ 2\\alpha_{3}+ 2\\alpha_{4}\\right)\\oplus L\\left( 4\\alpha_{1}+ 3\\alpha_{2}+ 2\\alpha_{3}+\\alpha_{4}\\right)\\oplus L\\left( 2\\alpha_{1}+ 3\\alpha_{2}+ 3\\alpha_{3}+ 3\\alpha_{4}\\right)\\oplus L\\left( 3\\alpha_{1}+ 4\\alpha_{2}+ 3\\alpha_{3}+ 2\\alpha_{4}\\right)\\oplus L\\left( 2\\alpha_{1}+ 2\\alpha_{2}+ 2\\alpha_{3}+ 2\\alpha_{4}\\right)^{2}\\oplus L\\left(\\alpha_{1}+ 2\\alpha_{2}+ 3\\alpha_{3}+ 2\\alpha_{4}\\right)^{2}\\oplus L\\left( 2\\alpha_{1}+ 3\\alpha_{2}+ 3\\alpha_{3}+ 2\\alpha_{4}\\right)^{2}\\oplus L\\left( 2\\alpha_{1}+ 3\\alpha_{2}+ 2\\alpha_{3}+\\alpha_{4}\\right)^{2}\\oplus L\\left(\\alpha_{1}+ 2\\alpha_{2}+ 2\\alpha_{3}+\\alpha_{4}\\right)^{3}$$"
      ],
      "text/plain": [
       "<IPython.core.display.Math object>"
      ]
     },
     "metadata": {},
     "output_type": "display_data"
    },
    {
     "data": {
      "text/latex": [
       "$$\\mathrm H^{0}(X_{A4},\\wedge^{5}T_X)=L\\left( 2\\alpha_{1}+ 4\\alpha_{2}+ 5\\alpha_{3}+ 3\\alpha_{4}\\right)\\oplus L\\left( 4\\alpha_{1}+ 4\\alpha_{2}+ 3\\alpha_{3}+ 2\\alpha_{4}\\right)\\oplus L\\left( 3\\alpha_{1}+ 4\\alpha_{2}+ 4\\alpha_{3}+ 2\\alpha_{4}\\right)\\oplus L\\left( 3\\alpha_{1}+ 3\\alpha_{2}+ 3\\alpha_{3}+ 3\\alpha_{4}\\right)\\oplus L\\left( 3\\alpha_{1}+ 3\\alpha_{2}+ 2\\alpha_{3}+\\alpha_{4}\\right)\\oplus L\\left(\\alpha_{1}+ 2\\alpha_{2}+ 2\\alpha_{3}+\\alpha_{4}\\right)\\oplus L\\left(\\alpha_{1}+ 2\\alpha_{2}+ 3\\alpha_{3}+ 3\\alpha_{4}\\right)\\oplus L\\left( 3\\alpha_{1}+ 5\\alpha_{2}+ 4\\alpha_{3}+ 2\\alpha_{4}\\right)\\oplus L\\left( 3\\alpha_{1}+ 4\\alpha_{2}+ 4\\alpha_{3}+ 3\\alpha_{4}\\right)\\oplus L\\left( 2\\alpha_{1}+ 4\\alpha_{2}+ 4\\alpha_{3}+ 3\\alpha_{4}\\right)\\oplus L\\left( 2\\alpha_{1}+ 4\\alpha_{2}+ 4\\alpha_{3}+ 2\\alpha_{4}\\right)\\oplus L\\left( 2\\alpha_{1}+ 3\\alpha_{2}+ 4\\alpha_{3}+ 4\\alpha_{4}\\right)\\oplus L\\left( 3\\alpha_{1}+ 4\\alpha_{2}+ 3\\alpha_{3}+ 2\\alpha_{4}\\right)^{2}\\oplus L\\left( 2\\alpha_{1}+ 3\\alpha_{2}+ 4\\alpha_{3}+ 3\\alpha_{4}\\right)^{2}\\oplus L\\left( 2\\alpha_{1}+ 2\\alpha_{2}+ 2\\alpha_{3}+ 2\\alpha_{4}\\right)^{2}\\oplus L\\left( 2\\alpha_{1}+ 3\\alpha_{2}+ 2\\alpha_{3}+\\alpha_{4}\\right)^{2}\\oplus L\\left(\\alpha_{1}+ 2\\alpha_{2}+ 3\\alpha_{3}+ 2\\alpha_{4}\\right)^{2}\\oplus L\\left( 2\\alpha_{1}+ 4\\alpha_{2}+ 3\\alpha_{3}+ 2\\alpha_{4}\\right)^{2}\\oplus L\\left( 2\\alpha_{1}+ 3\\alpha_{2}+ 3\\alpha_{3}+ 3\\alpha_{4}\\right)^{2}\\oplus L\\left( 3\\alpha_{1}+ 3\\alpha_{2}+ 3\\alpha_{3}+ 2\\alpha_{4}\\right)^{2}\\oplus L\\left( 2\\alpha_{1}+ 3\\alpha_{2}+ 4\\alpha_{3}+ 2\\alpha_{4}\\right)^{2}\\oplus L\\left( 2\\alpha_{1}+ 2\\alpha_{2}+ 2\\alpha_{3}+\\alpha_{4}\\right)^{3}\\oplus L\\left(\\alpha_{1}+ 2\\alpha_{2}+ 2\\alpha_{3}+ 2\\alpha_{4}\\right)^{3}\\oplus L\\left( 2\\alpha_{1}+ 3\\alpha_{2}+ 3\\alpha_{3}+ 2\\alpha_{4}\\right)^{6}$$"
      ],
      "text/plain": [
       "<IPython.core.display.Math object>"
      ]
     },
     "metadata": {},
     "output_type": "display_data"
    },
    {
     "data": {
      "text/latex": [
       "$$\\mathrm H^{0}(X_{A4},\\wedge^{6}T_X)=L\\left( 3\\alpha_{1}+ 4\\alpha_{2}+ 4\\alpha_{3}+ 4\\alpha_{4}\\right)\\oplus L\\left( 4\\alpha_{1}+ 4\\alpha_{2}+ 3\\alpha_{3}+ 2\\alpha_{4}\\right)\\oplus L\\left( 3\\alpha_{1}+ 5\\alpha_{2}+ 4\\alpha_{3}+ 3\\alpha_{4}\\right)\\oplus L\\left( 3\\alpha_{1}+ 3\\alpha_{2}+ 2\\alpha_{3}+\\alpha_{4}\\right)\\oplus L\\left( 2\\alpha_{1}+ 4\\alpha_{2}+ 6\\alpha_{3}+ 3\\alpha_{4}\\right)\\oplus L\\left( 2\\alpha_{1}+ 2\\alpha_{2}+ 2\\alpha_{3}+ 2\\alpha_{4}\\right)\\oplus L\\left(\\alpha_{1}+ 2\\alpha_{2}+ 3\\alpha_{3}+ 3\\alpha_{4}\\right)\\oplus L\\left( 4\\alpha_{1}+ 4\\alpha_{2}+ 4\\alpha_{3}+ 3\\alpha_{4}\\right)\\oplus L\\left( 4\\alpha_{1}+ 5\\alpha_{2}+ 4\\alpha_{3}+ 2\\alpha_{4}\\right)\\oplus L\\left( 2\\alpha_{1}+ 3\\alpha_{2}+ 2\\alpha_{3}+\\alpha_{4}\\right)\\oplus L\\left(\\alpha_{1}+ 2\\alpha_{2}+ 3\\alpha_{3}+ 2\\alpha_{4}\\right)\\oplus L\\left( 3\\alpha_{1}+ 5\\alpha_{2}+ 5\\alpha_{3}+ 3\\alpha_{4}\\right)\\oplus L\\left( 2\\alpha_{1}+ 4\\alpha_{2}+ 5\\alpha_{3}+ 4\\alpha_{4}\\right)\\oplus L\\left( 3\\alpha_{1}+ 6\\alpha_{2}+ 4\\alpha_{3}+ 2\\alpha_{4}\\right)\\oplus L\\left( 3\\alpha_{1}+ 4\\alpha_{2}+ 5\\alpha_{3}+ 3\\alpha_{4}\\right)\\oplus L\\left( 2\\alpha_{1}+ 3\\alpha_{2}+ 4\\alpha_{3}+ 4\\alpha_{4}\\right)\\oplus L\\left( 2\\alpha_{1}+ 4\\alpha_{2}+ 5\\alpha_{3}+ 3\\alpha_{4}\\right)^{2}\\oplus L\\left( 3\\alpha_{1}+ 3\\alpha_{2}+ 3\\alpha_{3}+ 3\\alpha_{4}\\right)^{2}\\oplus L\\left( 3\\alpha_{1}+ 5\\alpha_{2}+ 4\\alpha_{3}+ 2\\alpha_{4}\\right)^{2}\\oplus L\\left( 2\\alpha_{1}+ 4\\alpha_{2}+ 4\\alpha_{3}+ 2\\alpha_{4}\\right)^{2}\\oplus L\\left( 3\\alpha_{1}+ 4\\alpha_{2}+ 3\\alpha_{3}+ 2\\alpha_{4}\\right)^{3}\\oplus L\\left( 2\\alpha_{1}+ 3\\alpha_{2}+ 4\\alpha_{3}+ 3\\alpha_{4}\\right)^{3}\\oplus L\\left( 3\\alpha_{1}+ 4\\alpha_{2}+ 4\\alpha_{3}+ 3\\alpha_{4}\\right)^{3}\\oplus L\\left( 2\\alpha_{1}+ 4\\alpha_{2}+ 3\\alpha_{3}+ 2\\alpha_{4}\\right)^{3}\\oplus L\\left( 2\\alpha_{1}+ 3\\alpha_{2}+ 4\\alpha_{3}+ 2\\alpha_{4}\\right)^{3}\\oplus L\\left( 3\\alpha_{1}+ 4\\alpha_{2}+ 4\\alpha_{3}+ 2\\alpha_{4}\\right)^{4}\\oplus L\\left( 2\\alpha_{1}+ 4\\alpha_{2}+ 4\\alpha_{3}+ 3\\alpha_{4}\\right)^{4}\\oplus L\\left( 2\\alpha_{1}+ 3\\alpha_{2}+ 3\\alpha_{3}+ 3\\alpha_{4}\\right)^{4}\\oplus L\\left( 3\\alpha_{1}+ 3\\alpha_{2}+ 3\\alpha_{3}+ 2\\alpha_{4}\\right)^{4}\\oplus L\\left( 2\\alpha_{1}+ 3\\alpha_{2}+ 3\\alpha_{3}+ 2\\alpha_{4}\\right)^{6}$$"
      ],
      "text/plain": [
       "<IPython.core.display.Math object>"
      ]
     },
     "metadata": {},
     "output_type": "display_data"
    },
    {
     "data": {
      "text/latex": [
       "$$\\mathrm H^{0}(X_{A4},\\wedge^{7}T_X)=L\\left( 2\\alpha_{1}+ 3\\alpha_{2}+ 3\\alpha_{3}+ 2\\alpha_{4}\\right)\\oplus L\\left( 3\\alpha_{1}+ 4\\alpha_{2}+ 4\\alpha_{3}+ 4\\alpha_{4}\\right)\\oplus L\\left( 4\\alpha_{1}+ 4\\alpha_{2}+ 3\\alpha_{3}+ 2\\alpha_{4}\\right)\\oplus L\\left( 4\\alpha_{1}+ 5\\alpha_{2}+ 5\\alpha_{3}+ 3\\alpha_{4}\\right)\\oplus L\\left( 3\\alpha_{1}+ 3\\alpha_{2}+ 3\\alpha_{3}+ 3\\alpha_{4}\\right)\\oplus L\\left( 3\\alpha_{1}+ 5\\alpha_{2}+ 6\\alpha_{3}+ 3\\alpha_{4}\\right)\\oplus L\\left( 4\\alpha_{1}+ 4\\alpha_{2}+ 4\\alpha_{3}+ 3\\alpha_{4}\\right)\\oplus L\\left( 4\\alpha_{1}+ 6\\alpha_{2}+ 4\\alpha_{3}+ 2\\alpha_{4}\\right)\\oplus L\\left( 4\\alpha_{1}+ 5\\alpha_{2}+ 4\\alpha_{3}+ 2\\alpha_{4}\\right)\\oplus L\\left( 2\\alpha_{1}+ 4\\alpha_{2}+ 6\\alpha_{3}+ 4\\alpha_{4}\\right)\\oplus L\\left( 3\\alpha_{1}+ 4\\alpha_{2}+ 5\\alpha_{3}+ 4\\alpha_{4}\\right)\\oplus L\\left( 3\\alpha_{1}+ 6\\alpha_{2}+ 5\\alpha_{3}+ 3\\alpha_{4}\\right)\\oplus L\\left( 4\\alpha_{1}+ 4\\alpha_{2}+ 4\\alpha_{3}+ 4\\alpha_{4}\\right)\\oplus L\\left( 2\\alpha_{1}+ 4\\alpha_{2}+ 3\\alpha_{3}+ 2\\alpha_{4}\\right)\\oplus L\\left( 2\\alpha_{1}+ 3\\alpha_{2}+ 3\\alpha_{3}+ 3\\alpha_{4}\\right)\\oplus L\\left( 4\\alpha_{1}+ 5\\alpha_{2}+ 4\\alpha_{3}+ 3\\alpha_{4}\\right)\\oplus L\\left( 2\\alpha_{1}+ 4\\alpha_{2}+ 5\\alpha_{3}+ 4\\alpha_{4}\\right)\\oplus L\\left( 2\\alpha_{1}+ 3\\alpha_{2}+ 4\\alpha_{3}+ 4\\alpha_{4}\\right)\\oplus L\\left( 3\\alpha_{1}+ 3\\alpha_{2}+ 3\\alpha_{3}+ 2\\alpha_{4}\\right)\\oplus L\\left( 2\\alpha_{1}+ 3\\alpha_{2}+ 4\\alpha_{3}+ 2\\alpha_{4}\\right)\\oplus L\\left( 3\\alpha_{1}+ 5\\alpha_{2}+ 5\\alpha_{3}+ 4\\alpha_{4}\\right)\\oplus L\\left( 2\\alpha_{1}+ 4\\alpha_{2}+ 5\\alpha_{3}+ 3\\alpha_{4}\\right)^{2}\\oplus L\\left( 2\\alpha_{1}+ 4\\alpha_{2}+ 4\\alpha_{3}+ 4\\alpha_{4}\\right)^{2}\\oplus L\\left( 3\\alpha_{1}+ 5\\alpha_{2}+ 4\\alpha_{3}+ 2\\alpha_{4}\\right)^{2}\\oplus L\\left( 4\\alpha_{1}+ 4\\alpha_{2}+ 4\\alpha_{3}+ 2\\alpha_{4}\\right)^{2}\\oplus L\\left( 3\\alpha_{1}+ 5\\alpha_{2}+ 4\\alpha_{3}+ 3\\alpha_{4}\\right)^{3}\\oplus L\\left( 3\\alpha_{1}+ 4\\alpha_{2}+ 4\\alpha_{3}+ 2\\alpha_{4}\\right)^{3}\\oplus L\\left( 3\\alpha_{1}+ 4\\alpha_{2}+ 3\\alpha_{3}+ 2\\alpha_{4}\\right)^{3}\\oplus L\\left( 2\\alpha_{1}+ 3\\alpha_{2}+ 4\\alpha_{3}+ 3\\alpha_{4}\\right)^{3}\\oplus L\\left( 2\\alpha_{1}+ 4\\alpha_{2}+ 4\\alpha_{3}+ 3\\alpha_{4}\\right)^{3}\\oplus L\\left( 3\\alpha_{1}+ 5\\alpha_{2}+ 5\\alpha_{3}+ 3\\alpha_{4}\\right)^{3}\\oplus L\\left( 2\\alpha_{1}+ 4\\alpha_{2}+ 4\\alpha_{3}+ 2\\alpha_{4}\\right)^{3}\\oplus L\\left( 3\\alpha_{1}+ 4\\alpha_{2}+ 5\\alpha_{3}+ 3\\alpha_{4}\\right)^{3}\\oplus L\\left( 3\\alpha_{1}+ 4\\alpha_{2}+ 4\\alpha_{3}+ 3\\alpha_{4}\\right)^{6}$$"
      ],
      "text/plain": [
       "<IPython.core.display.Math object>"
      ]
     },
     "metadata": {},
     "output_type": "display_data"
    },
    {
     "data": {
      "text/latex": [
       "$$\\mathrm H^{0}(X_{A4},\\wedge^{8}T_X)=L\\left( 4\\alpha_{1}+ 5\\alpha_{2}+ 6\\alpha_{3}+ 3\\alpha_{4}\\right)\\oplus L\\left( 3\\alpha_{1}+ 4\\alpha_{2}+ 4\\alpha_{3}+ 4\\alpha_{4}\\right)\\oplus L\\left( 2\\alpha_{1}+ 4\\alpha_{2}+ 5\\alpha_{3}+ 3\\alpha_{4}\\right)\\oplus L\\left( 3\\alpha_{1}+ 4\\alpha_{2}+ 4\\alpha_{3}+ 2\\alpha_{4}\\right)\\oplus L\\left( 3\\alpha_{1}+ 5\\alpha_{2}+ 6\\alpha_{3}+ 3\\alpha_{4}\\right)\\oplus L\\left( 3\\alpha_{1}+ 5\\alpha_{2}+ 6\\alpha_{3}+ 4\\alpha_{4}\\right)\\oplus L\\left( 3\\alpha_{1}+ 5\\alpha_{2}+ 4\\alpha_{3}+ 2\\alpha_{4}\\right)\\oplus L\\left( 4\\alpha_{1}+ 5\\alpha_{2}+ 5\\alpha_{3}+ 4\\alpha_{4}\\right)\\oplus L\\left( 4\\alpha_{1}+ 4\\alpha_{2}+ 4\\alpha_{3}+ 3\\alpha_{4}\\right)\\oplus L\\left( 2\\alpha_{1}+ 4\\alpha_{2}+ 4\\alpha_{3}+ 3\\alpha_{4}\\right)\\oplus L\\left( 4\\alpha_{1}+ 5\\alpha_{2}+ 4\\alpha_{3}+ 2\\alpha_{4}\\right)\\oplus L\\left( 3\\alpha_{1}+ 6\\alpha_{2}+ 5\\alpha_{3}+ 3\\alpha_{4}\\right)\\oplus L\\left( 4\\alpha_{1}+ 6\\alpha_{2}+ 5\\alpha_{3}+ 3\\alpha_{4}\\right)\\oplus L\\left( 2\\alpha_{1}+ 4\\alpha_{2}+ 5\\alpha_{3}+ 4\\alpha_{4}\\right)\\oplus L\\left( 3\\alpha_{1}+ 6\\alpha_{2}+ 5\\alpha_{3}+ 4\\alpha_{4}\\right)\\oplus L\\left( 3\\alpha_{1}+ 6\\alpha_{2}+ 6\\alpha_{3}+ 3\\alpha_{4}\\right)\\oplus L\\left( 3\\alpha_{1}+ 5\\alpha_{2}+ 4\\alpha_{3}+ 3\\alpha_{4}\\right)^{2}\\oplus L\\left( 4\\alpha_{1}+ 5\\alpha_{2}+ 5\\alpha_{3}+ 3\\alpha_{4}\\right)^{2}\\oplus L\\left( 3\\alpha_{1}+ 4\\alpha_{2}+ 4\\alpha_{3}+ 3\\alpha_{4}\\right)^{2}\\oplus L\\left( 3\\alpha_{1}+ 4\\alpha_{2}+ 5\\alpha_{3}+ 4\\alpha_{4}\\right)^{2}\\oplus L\\left( 4\\alpha_{1}+ 5\\alpha_{2}+ 4\\alpha_{3}+ 3\\alpha_{4}\\right)^{2}\\oplus L\\left( 3\\alpha_{1}+ 4\\alpha_{2}+ 5\\alpha_{3}+ 3\\alpha_{4}\\right)^{2}\\oplus L\\left( 3\\alpha_{1}+ 5\\alpha_{2}+ 5\\alpha_{3}+ 4\\alpha_{4}\\right)^{2}\\oplus L\\left( 3\\alpha_{1}+ 5\\alpha_{2}+ 5\\alpha_{3}+ 3\\alpha_{4}\\right)^{3}$$"
      ],
      "text/plain": [
       "<IPython.core.display.Math object>"
      ]
     },
     "metadata": {},
     "output_type": "display_data"
    },
    {
     "data": {
      "text/latex": [
       "$$\\mathrm H^{0}(X_{A4},\\wedge^{9}T_X)=L\\left( 3\\alpha_{1}+ 5\\alpha_{2}+ 5\\alpha_{3}+ 4\\alpha_{4}\\right)\\oplus L\\left( 4\\alpha_{1}+ 6\\alpha_{2}+ 5\\alpha_{3}+ 3\\alpha_{4}\\right)\\oplus L\\left( 4\\alpha_{1}+ 6\\alpha_{2}+ 5\\alpha_{3}+ 4\\alpha_{4}\\right)\\oplus L\\left( 4\\alpha_{1}+ 5\\alpha_{2}+ 5\\alpha_{3}+ 3\\alpha_{4}\\right)\\oplus L\\left( 3\\alpha_{1}+ 6\\alpha_{2}+ 6\\alpha_{3}+ 4\\alpha_{4}\\right)\\oplus L\\left( 3\\alpha_{1}+ 5\\alpha_{2}+ 5\\alpha_{3}+ 3\\alpha_{4}\\right)\\oplus L\\left( 4\\alpha_{1}+ 5\\alpha_{2}+ 6\\alpha_{3}+ 4\\alpha_{4}\\right)\\oplus L\\left( 4\\alpha_{1}+ 5\\alpha_{2}+ 5\\alpha_{3}+ 4\\alpha_{4}\\right)\\oplus L\\left( 4\\alpha_{1}+ 6\\alpha_{2}+ 6\\alpha_{3}+ 3\\alpha_{4}\\right)\\oplus L\\left( 3\\alpha_{1}+ 5\\alpha_{2}+ 6\\alpha_{3}+ 4\\alpha_{4}\\right)$$"
      ],
      "text/plain": [
       "<IPython.core.display.Math object>"
      ]
     },
     "metadata": {},
     "output_type": "display_data"
    },
    {
     "data": {
      "text/latex": [
       "$$\\mathrm H^{0}(X_{A4},\\wedge^{10}T_X)=L\\left( 4\\alpha_{1}+ 6\\alpha_{2}+ 6\\alpha_{3}+ 4\\alpha_{4}\\right)$$"
      ],
      "text/plain": [
       "<IPython.core.display.Math object>"
      ]
     },
     "metadata": {},
     "output_type": "display_data"
    },
    {
     "data": {
      "text/latex": [
       "$$\\mathrm H^{0}(X_{B3},\\wedge^{0}T_X)=\\mathbb{C}$$"
      ],
      "text/plain": [
       "<IPython.core.display.Math object>"
      ]
     },
     "metadata": {},
     "output_type": "display_data"
    },
    {
     "data": {
      "text/latex": [
       "$$\\mathrm H^{0}(X_{B3},\\wedge^{1}T_X)=L\\left(\\alpha_{1}+ 2\\alpha_{2}+ 2\\alpha_{3}\\right)$$"
      ],
      "text/plain": [
       "<IPython.core.display.Math object>"
      ]
     },
     "metadata": {},
     "output_type": "display_data"
    },
    {
     "data": {
      "text/latex": [
       "$$\\mathrm H^{0}(X_{B3},\\wedge^{2}T_X)=L\\left(\\alpha_{1}+ 2\\alpha_{2}+ 2\\alpha_{3}\\right)\\oplus L\\left( 2\\alpha_{1}+ 3\\alpha_{2}+ 4\\alpha_{3}\\right)$$"
      ],
      "text/plain": [
       "<IPython.core.display.Math object>"
      ]
     },
     "metadata": {},
     "output_type": "display_data"
    },
    {
     "data": {
      "text/latex": [
       "$$\\mathrm H^{0}(X_{B3},\\wedge^{3}T_X)=L\\left( 2\\alpha_{1}+ 2\\alpha_{2}+ 2\\alpha_{3}\\right)\\oplus L\\left( 2\\alpha_{1}+ 4\\alpha_{2}+ 6\\alpha_{3}\\right)\\oplus L\\left( 2\\alpha_{1}+ 4\\alpha_{2}+ 4\\alpha_{3}\\right)\\oplus L\\left( 3\\alpha_{1}+ 4\\alpha_{2}+ 5\\alpha_{3}\\right)\\oplus L\\left(\\alpha_{1}+\\alpha_{2}+\\alpha_{3}\\right)\\oplus L\\left( 2\\alpha_{1}+ 3\\alpha_{2}+ 4\\alpha_{3}\\right)\\oplus L\\left(\\alpha_{1}+ 2\\alpha_{2}+ 3\\alpha_{3}\\right)^{2}$$"
      ],
      "text/plain": [
       "<IPython.core.display.Math object>"
      ]
     },
     "metadata": {},
     "output_type": "display_data"
    },
    {
     "data": {
      "text/latex": [
       "$$\\mathrm H^{0}(X_{B3},\\wedge^{4}T_X)=L\\left( 3\\alpha_{1}+ 3\\alpha_{2}+ 3\\alpha_{3}\\right)\\oplus L\\left( 2\\alpha_{1}+ 2\\alpha_{2}+ 2\\alpha_{3}\\right)\\oplus L\\left(\\alpha_{1}+ 2\\alpha_{2}+ 2\\alpha_{3}\\right)\\oplus L\\left( 2\\alpha_{1}+ 4\\alpha_{2}+ 6\\alpha_{3}\\right)\\oplus L\\left( 3\\alpha_{1}+ 5\\alpha_{2}+ 7\\alpha_{3}\\right)\\oplus L\\left(\\alpha_{1}+ 2\\alpha_{2}+ 3\\alpha_{3}\\right)\\oplus L\\left( 3\\alpha_{1}+ 4\\alpha_{2}+ 4\\alpha_{3}\\right)\\oplus L\\left( 4\\alpha_{1}+ 5\\alpha_{2}+ 5\\alpha_{3}\\right)\\oplus L\\left( 3\\alpha_{1}+ 4\\alpha_{2}+ 5\\alpha_{3}\\right)\\oplus L\\left( 2\\alpha_{1}+ 4\\alpha_{2}+ 4\\alpha_{3}\\right)\\oplus L\\left( 3\\alpha_{1}+ 5\\alpha_{2}+ 6\\alpha_{3}\\right)\\oplus L\\left( 2\\alpha_{1}+ 4\\alpha_{2}+ 5\\alpha_{3}\\right)^{2}\\oplus L\\left( 2\\alpha_{1}+ 3\\alpha_{2}+ 4\\alpha_{3}\\right)^{2}\\oplus L\\left( 2\\alpha_{1}+ 3\\alpha_{2}+ 3\\alpha_{3}\\right)^{3}$$"
      ],
      "text/plain": [
       "<IPython.core.display.Math object>"
      ]
     },
     "metadata": {},
     "output_type": "display_data"
    },
    {
     "data": {
      "text/latex": [
       "$$\\mathrm H^{0}(X_{B3},\\wedge^{5}T_X)=L\\left( 3\\alpha_{1}+ 3\\alpha_{2}+ 3\\alpha_{3}\\right)\\oplus L\\left( 2\\alpha_{1}+ 3\\alpha_{2}+ 3\\alpha_{3}\\right)\\oplus L\\left( 4\\alpha_{1}+ 5\\alpha_{2}+ 6\\alpha_{3}\\right)\\oplus L\\left( 2\\alpha_{1}+ 4\\alpha_{2}+ 6\\alpha_{3}\\right)\\oplus L\\left( 3\\alpha_{1}+ 6\\alpha_{2}+ 6\\alpha_{3}\\right)\\oplus L\\left( 5\\alpha_{1}+ 5\\alpha_{2}+ 5\\alpha_{3}\\right)\\oplus L\\left( 3\\alpha_{1}+ 6\\alpha_{2}+ 8\\alpha_{3}\\right)\\oplus L\\left( 4\\alpha_{1}+ 6\\alpha_{2}+ 7\\alpha_{3}\\right)\\oplus L\\left( 2\\alpha_{1}+ 4\\alpha_{2}+ 4\\alpha_{3}\\right)\\oplus L\\left( 4\\alpha_{1}+ 5\\alpha_{2}+ 5\\alpha_{3}\\right)\\oplus L\\left( 3\\alpha_{1}+ 5\\alpha_{2}+ 5\\alpha_{3}\\right)^{2}\\oplus L\\left( 3\\alpha_{1}+ 5\\alpha_{2}+ 7\\alpha_{3}\\right)^{2}\\oplus L\\left( 3\\alpha_{1}+ 5\\alpha_{2}+ 6\\alpha_{3}\\right)^{3}\\oplus L\\left( 3\\alpha_{1}+ 4\\alpha_{2}+ 4\\alpha_{3}\\right)^{3}\\oplus L\\left( 3\\alpha_{1}+ 4\\alpha_{2}+ 5\\alpha_{3}\\right)^{3}\\oplus L\\left( 2\\alpha_{1}+ 3\\alpha_{2}+ 4\\alpha_{3}\\right)^{3}\\oplus L\\left( 2\\alpha_{1}+ 4\\alpha_{2}+ 5\\alpha_{3}\\right)^{4}$$"
      ],
      "text/plain": [
       "<IPython.core.display.Math object>"
      ]
     },
     "metadata": {},
     "output_type": "display_data"
    },
    {
     "data": {
      "text/latex": [
       "$$\\mathrm H^{0}(X_{B3},\\wedge^{6}T_X)=L\\left( 5\\alpha_{1}+ 6\\alpha_{2}+ 7\\alpha_{3}\\right)\\oplus L\\left( 2\\alpha_{1}+ 4\\alpha_{2}+ 6\\alpha_{3}\\right)\\oplus L\\left( 3\\alpha_{1}+ 6\\alpha_{2}+ 6\\alpha_{3}\\right)\\oplus L\\left( 4\\alpha_{1}+ 4\\alpha_{2}+ 4\\alpha_{3}\\right)\\oplus L\\left( 4\\alpha_{1}+ 6\\alpha_{2}+ 8\\alpha_{3}\\right)\\oplus L\\left( 3\\alpha_{1}+ 4\\alpha_{2}+ 4\\alpha_{3}\\right)\\oplus L\\left( 3\\alpha_{1}+ 6\\alpha_{2}+ 8\\alpha_{3}\\right)\\oplus L\\left( 2\\alpha_{1}+ 4\\alpha_{2}+ 5\\alpha_{3}\\right)\\oplus L\\left( 4\\alpha_{1}+ 7\\alpha_{2}+ 8\\alpha_{3}\\right)\\oplus L\\left( 3\\alpha_{1}+ 6\\alpha_{2}+ 9\\alpha_{3}\\right)\\oplus L\\left( 2\\alpha_{1}+ 4\\alpha_{2}+ 4\\alpha_{3}\\right)\\oplus L\\left( 4\\alpha_{1}+ 5\\alpha_{2}+ 5\\alpha_{3}\\right)\\oplus L\\left( 3\\alpha_{1}+ 5\\alpha_{2}+ 7\\alpha_{3}\\right)^{2}\\oplus L\\left( 3\\alpha_{1}+ 5\\alpha_{2}+ 5\\alpha_{3}\\right)^{2}\\oplus L\\left( 4\\alpha_{1}+ 6\\alpha_{2}+ 6\\alpha_{3}\\right)^{2}\\oplus L\\left( 4\\alpha_{1}+ 6\\alpha_{2}+ 7\\alpha_{3}\\right)^{2}\\oplus L\\left( 4\\alpha_{1}+ 5\\alpha_{2}+ 6\\alpha_{3}\\right)^{3}\\oplus L\\left( 3\\alpha_{1}+ 6\\alpha_{2}+ 7\\alpha_{3}\\right)^{3}\\oplus L\\left( 3\\alpha_{1}+ 4\\alpha_{2}+ 5\\alpha_{3}\\right)^{3}\\oplus L\\left( 3\\alpha_{1}+ 5\\alpha_{2}+ 6\\alpha_{3}\\right)^{5}$$"
      ],
      "text/plain": [
       "<IPython.core.display.Math object>"
      ]
     },
     "metadata": {},
     "output_type": "display_data"
    },
    {
     "data": {
      "text/latex": [
       "$$\\mathrm H^{0}(X_{B3},\\wedge^{7}T_X)=L\\left( 5\\alpha_{1}+ 6\\alpha_{2}+ 7\\alpha_{3}\\right)\\oplus L\\left( 4\\alpha_{1}+ 7\\alpha_{2}+ 7\\alpha_{3}\\right)\\oplus L\\left( 3\\alpha_{1}+ 5\\alpha_{2}+ 6\\alpha_{3}\\right)\\oplus L\\left( 4\\alpha_{1}+ 8\\alpha_{2}+ 8\\alpha_{3}\\right)\\oplus L\\left( 4\\alpha_{1}+ 5\\alpha_{2}+ 6\\alpha_{3}\\right)\\oplus L\\left( 3\\alpha_{1}+ 5\\alpha_{2}+ 7\\alpha_{3}\\right)\\oplus L\\left( 3\\alpha_{1}+ 6\\alpha_{2}+ 6\\alpha_{3}\\right)\\oplus L\\left( 5\\alpha_{1}+ 7\\alpha_{2}+ 8\\alpha_{3}\\right)\\oplus L\\left( 3\\alpha_{1}+ 6\\alpha_{2}+ 8\\alpha_{3}\\right)\\oplus L\\left( 4\\alpha_{1}+ 5\\alpha_{2}+ 5\\alpha_{3}\\right)\\oplus L\\left( 5\\alpha_{1}+ 6\\alpha_{2}+ 6\\alpha_{3}\\right)\\oplus L\\left( 3\\alpha_{1}+ 5\\alpha_{2}+ 5\\alpha_{3}\\right)\\oplus L\\left( 4\\alpha_{1}+ 7\\alpha_{2}+ 9\\alpha_{3}\\right)\\oplus L\\left( 4\\alpha_{1}+ 6\\alpha_{2}+ 6\\alpha_{3}\\right)^{2}\\oplus L\\left( 4\\alpha_{1}+ 6\\alpha_{2}+ 8\\alpha_{3}\\right)^{2}\\oplus L\\left( 4\\alpha_{1}+ 7\\alpha_{2}+ 8\\alpha_{3}\\right)^{2}\\oplus L\\left( 3\\alpha_{1}+ 6\\alpha_{2}+ 7\\alpha_{3}\\right)^{2}\\oplus L\\left( 4\\alpha_{1}+ 6\\alpha_{2}+ 7\\alpha_{3}\\right)^{3}$$"
      ],
      "text/plain": [
       "<IPython.core.display.Math object>"
      ]
     },
     "metadata": {},
     "output_type": "display_data"
    },
    {
     "data": {
      "text/latex": [
       "$$\\mathrm H^{0}(X_{B3},\\wedge^{8}T_X)=L\\left( 4\\alpha_{1}+ 8\\alpha_{2}+ 9\\alpha_{3}\\right)\\oplus L\\left( 4\\alpha_{1}+ 6\\alpha_{2}+ 7\\alpha_{3}\\right)\\oplus L\\left( 5\\alpha_{1}+ 7\\alpha_{2}+ 9\\alpha_{3}\\right)\\oplus L\\left( 5\\alpha_{1}+ 7\\alpha_{2}+ 8\\alpha_{3}\\right)\\oplus L\\left( 4\\alpha_{1}+ 7\\alpha_{2}+ 7\\alpha_{3}\\right)\\oplus L\\left( 4\\alpha_{1}+ 7\\alpha_{2}+ 8\\alpha_{3}\\right)\\oplus L\\left( 5\\alpha_{1}+ 7\\alpha_{2}+ 7\\alpha_{3}\\right)\\oplus L\\left( 5\\alpha_{1}+ 8\\alpha_{2}+ 8\\alpha_{3}\\right)\\oplus L\\left( 4\\alpha_{1}+ 7\\alpha_{2}+ 9\\alpha_{3}\\right)$$"
      ],
      "text/plain": [
       "<IPython.core.display.Math object>"
      ]
     },
     "metadata": {},
     "output_type": "display_data"
    },
    {
     "data": {
      "text/latex": [
       "$$\\mathrm H^{0}(X_{B3},\\wedge^{9}T_X)=L\\left( 5\\alpha_{1}+ 8\\alpha_{2}+ 9\\alpha_{3}\\right)$$"
      ],
      "text/plain": [
       "<IPython.core.display.Math object>"
      ]
     },
     "metadata": {},
     "output_type": "display_data"
    },
    {
     "data": {
      "text/latex": [
       "$$\\mathrm H^{0}(X_{C3},\\wedge^{0}T_X)=\\mathbb{C}$$"
      ],
      "text/plain": [
       "<IPython.core.display.Math object>"
      ]
     },
     "metadata": {},
     "output_type": "display_data"
    },
    {
     "data": {
      "text/latex": [
       "$$\\mathrm H^{0}(X_{C3},\\wedge^{1}T_X)=L\\left( 2\\alpha_{1}+ 2\\alpha_{2}+\\alpha_{3}\\right)$$"
      ],
      "text/plain": [
       "<IPython.core.display.Math object>"
      ]
     },
     "metadata": {},
     "output_type": "display_data"
    },
    {
     "data": {
      "text/latex": [
       "$$\\mathrm H^{0}(X_{C3},\\wedge^{2}T_X)=L\\left( 2\\alpha_{1}+ 2\\alpha_{2}+\\alpha_{3}\\right)\\oplus L\\left( 3\\alpha_{1}+ 4\\alpha_{2}+ 2\\alpha_{3}\\right)$$"
      ],
      "text/plain": [
       "<IPython.core.display.Math object>"
      ]
     },
     "metadata": {},
     "output_type": "display_data"
    }
   ],
   "source": [
    "for d in ['A2','A3','G2','B2','A4','B3','C3']:\n",
    "    BGG = BGGComplex(d)\n",
    "    factory = FastModuleFactory(BGG.LA)\n",
    "    component_dic = {'u':factory.build_component('u','coad',subset=[])}\n",
    "    u_dim = len(component_dic['u'].basis)\n",
    "    print('dim of u is %d for root system %s' % (u_dim, d))\n",
    "    for k in range(u_dim+1):\n",
    "        components = [[('u',k,'wedge')]]\n",
    "        module = FastLieAlgebraCompositeModule(factory,components,component_dic)\n",
    "\n",
    "        cohom = BGGCohomology(BGG, module)\n",
    "\n",
    "        cohom.cohomology_LaTeX(complex_string=r'X_{'+d+r'},\\wedge^{'+str(k)+'}T_X')"
   ]
  },
  {
   "cell_type": "markdown",
   "metadata": {},
   "source": [
    "### G2 in the parabolic case\n",
    "Now for $G2$ we do some computations in the parabolic case. "
   ]
  },
  {
   "cell_type": "code",
   "execution_count": 5,
   "metadata": {
    "scrolled": true
   },
   "outputs": [
    {
     "name": "stdout",
     "output_type": "stream",
     "text": [
      "dim of u is 6 for root system G2\n"
     ]
    },
    {
     "data": {
      "text/latex": [
       "$$\\mathrm b^{0}(X_{},\\wedge^{0}T_X)=1$$"
      ],
      "text/plain": [
       "<IPython.core.display.Math object>"
      ]
     },
     "metadata": {},
     "output_type": "display_data"
    },
    {
     "data": {
      "text/latex": [
       "$$\\mathrm b^{0}(X_{},\\wedge^{1}T_X)=14$$"
      ],
      "text/plain": [
       "<IPython.core.display.Math object>"
      ]
     },
     "metadata": {},
     "output_type": "display_data"
    },
    {
     "data": {
      "text/latex": [
       "$$\\mathrm b^{0}(X_{},\\wedge^{2}T_X)=98$$"
      ],
      "text/plain": [
       "<IPython.core.display.Math object>"
      ]
     },
     "metadata": {},
     "output_type": "display_data"
    },
    {
     "data": {
      "text/latex": [
       "$$\\mathrm b^{0}(X_{},\\wedge^{3}T_X)=454$$"
      ],
      "text/plain": [
       "<IPython.core.display.Math object>"
      ]
     },
     "metadata": {},
     "output_type": "display_data"
    },
    {
     "data": {
      "text/latex": [
       "$$\\mathrm b^{0}(X_{},\\wedge^{4}T_X)=1226$$"
      ],
      "text/plain": [
       "<IPython.core.display.Math object>"
      ]
     },
     "metadata": {},
     "output_type": "display_data"
    },
    {
     "data": {
      "text/latex": [
       "$$\\mathrm b^{0}(X_{},\\wedge^{5}T_X)=1574$$"
      ],
      "text/plain": [
       "<IPython.core.display.Math object>"
      ]
     },
     "metadata": {},
     "output_type": "display_data"
    },
    {
     "data": {
      "text/latex": [
       "$$\\mathrm b^{0}(X_{},\\wedge^{6}T_X)=729$$"
      ],
      "text/plain": [
       "<IPython.core.display.Math object>"
      ]
     },
     "metadata": {},
     "output_type": "display_data"
    },
    {
     "name": "stdout",
     "output_type": "stream",
     "text": [
      "dim of u is 5 for root system G2\n"
     ]
    },
    {
     "data": {
      "text/latex": [
       "$$\\mathrm b^{0}(X_{\\alpha_1},\\wedge^{0}T_X)=1$$"
      ],
      "text/plain": [
       "<IPython.core.display.Math object>"
      ]
     },
     "metadata": {},
     "output_type": "display_data"
    },
    {
     "data": {
      "text/latex": [
       "$$\\mathrm b^{0}(X_{\\alpha_1},\\wedge^{1}T_X)=14$$"
      ],
      "text/plain": [
       "<IPython.core.display.Math object>"
      ]
     },
     "metadata": {},
     "output_type": "display_data"
    },
    {
     "data": {
      "text/latex": [
       "$$\\mathrm b^{0}(X_{\\alpha_1},\\wedge^{2}T_X)=91$$"
      ],
      "text/plain": [
       "<IPython.core.display.Math object>"
      ]
     },
     "metadata": {},
     "output_type": "display_data"
    },
    {
     "data": {
      "text/latex": [
       "$$\\mathrm b^{0}(X_{\\alpha_1},\\wedge^{3}T_X)=336$$"
      ],
      "text/plain": [
       "<IPython.core.display.Math object>"
      ]
     },
     "metadata": {},
     "output_type": "display_data"
    },
    {
     "data": {
      "text/latex": [
       "$$\\mathrm b^{0}(X_{\\alpha_1},\\wedge^{4}T_X)=525$$"
      ],
      "text/plain": [
       "<IPython.core.display.Math object>"
      ]
     },
     "metadata": {},
     "output_type": "display_data"
    },
    {
     "data": {
      "text/latex": [
       "$$\\mathrm b^{0}(X_{\\alpha_1},\\wedge^{5}T_X)=273$$"
      ],
      "text/plain": [
       "<IPython.core.display.Math object>"
      ]
     },
     "metadata": {},
     "output_type": "display_data"
    },
    {
     "name": "stdout",
     "output_type": "stream",
     "text": [
      "dim of u is 5 for root system G2\n"
     ]
    },
    {
     "data": {
      "text/latex": [
       "$$\\mathrm b^{0}(X_{\\alpha_2},\\wedge^{0}T_X)=1$$"
      ],
      "text/plain": [
       "<IPython.core.display.Math object>"
      ]
     },
     "metadata": {},
     "output_type": "display_data"
    },
    {
     "data": {
      "text/latex": [
       "$$\\mathrm b^{0}(X_{\\alpha_2},\\wedge^{1}T_X)=21$$"
      ],
      "text/plain": [
       "<IPython.core.display.Math object>"
      ]
     },
     "metadata": {},
     "output_type": "display_data"
    },
    {
     "data": {
      "text/latex": [
       "$$\\mathrm b^{0}(X_{\\alpha_2},\\wedge^{2}T_X)=189$$"
      ],
      "text/plain": [
       "<IPython.core.display.Math object>"
      ]
     },
     "metadata": {},
     "output_type": "display_data"
    },
    {
     "data": {
      "text/latex": [
       "$$\\mathrm b^{0}(X_{\\alpha_2},\\wedge^{3}T_X)=616$$"
      ],
      "text/plain": [
       "<IPython.core.display.Math object>"
      ]
     },
     "metadata": {},
     "output_type": "display_data"
    },
    {
     "data": {
      "text/latex": [
       "$$\\mathrm b^{0}(X_{\\alpha_2},\\wedge^{4}T_X)=819$$"
      ],
      "text/plain": [
       "<IPython.core.display.Math object>"
      ]
     },
     "metadata": {},
     "output_type": "display_data"
    },
    {
     "data": {
      "text/latex": [
       "$$\\mathrm b^{0}(X_{\\alpha_2},\\wedge^{5}T_X)=378$$"
      ],
      "text/plain": [
       "<IPython.core.display.Math object>"
      ]
     },
     "metadata": {},
     "output_type": "display_data"
    }
   ],
   "source": [
    "subset_list = [[],[1],[2]]\n",
    "subscript_list = [r'',r'\\alpha_1',r'\\alpha_2']\n",
    "d = 'G2'\n",
    "BGG = BGGComplex(d)\n",
    "for subset,subscript in zip(subset_list,subscript_list):\n",
    "    factory = FastModuleFactory(BGG.LA)\n",
    "    component_dic = {'u':factory.build_component('u','coad',subset=subset)}\n",
    "    u_dim = len(component_dic['u'].basis)\n",
    "    print('dim of u is %d for root system %s' % (u_dim, d))\n",
    "    for k in range(u_dim+1):\n",
    "        components = [[('u',k,'wedge')]]\n",
    "        module = FastLieAlgebraCompositeModule(factory,components,component_dic)\n",
    "\n",
    "        cohom = BGGCohomology(BGG, module)\n",
    "\n",
    "        cohom.cohomology_LaTeX(complex_string=r'X_{'+subscript+r'},\\wedge^{'+str(k)+'}T_X',print_modules=False)"
   ]
  },
  {
   "cell_type": "markdown",
   "metadata": {},
   "source": [
    "### A4 in the parabolic case\n",
    "Now for $A4$ we do some computations in the parabolic case. "
   ]
  },
  {
   "cell_type": "code",
   "execution_count": 13,
   "metadata": {
    "scrolled": true
   },
   "outputs": [
    {
     "name": "stdout",
     "output_type": "stream",
     "text": [
      "dim of u is 10 for root system A4 and subset ()\n"
     ]
    },
    {
     "data": {
      "text/latex": [
       "$$\\mathrm b^{0}(X_{},\\wedge^{0}T_X)=1$$"
      ],
      "text/plain": [
       "<IPython.core.display.Math object>"
      ]
     },
     "metadata": {},
     "output_type": "display_data"
    },
    {
     "data": {
      "text/latex": [
       "$$\\mathrm b^{0}(X_{},\\wedge^{1}T_X)=24$$"
      ],
      "text/plain": [
       "<IPython.core.display.Math object>"
      ]
     },
     "metadata": {},
     "output_type": "display_data"
    },
    {
     "data": {
      "text/latex": [
       "$$\\mathrm b^{0}(X_{},\\wedge^{2}T_X)=276$$"
      ],
      "text/plain": [
       "<IPython.core.display.Math object>"
      ]
     },
     "metadata": {},
     "output_type": "display_data"
    },
    {
     "data": {
      "text/latex": [
       "$$\\mathrm b^{0}(X_{},\\wedge^{3}T_X)=2023$$"
      ],
      "text/plain": [
       "<IPython.core.display.Math object>"
      ]
     },
     "metadata": {},
     "output_type": "display_data"
    },
    {
     "data": {
      "text/latex": [
       "$$\\mathrm b^{0}(X_{},\\wedge^{4}T_X)=11027$$"
      ],
      "text/plain": [
       "<IPython.core.display.Math object>"
      ]
     },
     "metadata": {},
     "output_type": "display_data"
    },
    {
     "data": {
      "text/latex": [
       "$$\\mathrm b^{0}(X_{},\\wedge^{5}T_X)=45576$$"
      ],
      "text/plain": [
       "<IPython.core.display.Math object>"
      ]
     },
     "metadata": {},
     "output_type": "display_data"
    },
    {
     "data": {
      "text/latex": [
       "$$\\mathrm b^{0}(X_{},\\wedge^{6}T_X)=134773$$"
      ],
      "text/plain": [
       "<IPython.core.display.Math object>"
      ]
     },
     "metadata": {},
     "output_type": "display_data"
    },
    {
     "data": {
      "text/latex": [
       "$$\\mathrm b^{0}(X_{},\\wedge^{7}T_X)=264427$$"
      ],
      "text/plain": [
       "<IPython.core.display.Math object>"
      ]
     },
     "metadata": {},
     "output_type": "display_data"
    },
    {
     "data": {
      "text/latex": [
       "$$\\mathrm b^{0}(X_{},\\wedge^{8}T_X)=319222$$"
      ],
      "text/plain": [
       "<IPython.core.display.Math object>"
      ]
     },
     "metadata": {},
     "output_type": "display_data"
    },
    {
     "data": {
      "text/latex": [
       "$$\\mathrm b^{0}(X_{},\\wedge^{9}T_X)=212178$$"
      ],
      "text/plain": [
       "<IPython.core.display.Math object>"
      ]
     },
     "metadata": {},
     "output_type": "display_data"
    },
    {
     "data": {
      "text/latex": [
       "$$\\mathrm b^{0}(X_{},\\wedge^{10}T_X)=59049$$"
      ],
      "text/plain": [
       "<IPython.core.display.Math object>"
      ]
     },
     "metadata": {},
     "output_type": "display_data"
    },
    {
     "name": "stdout",
     "output_type": "stream",
     "text": [
      "dim of u is 9 for root system A4 and subset (1,)\n"
     ]
    },
    {
     "data": {
      "text/latex": [
       "$$\\mathrm b^{0}(X_{1},\\wedge^{0}T_X)=1$$"
      ],
      "text/plain": [
       "<IPython.core.display.Math object>"
      ]
     },
     "metadata": {},
     "output_type": "display_data"
    },
    {
     "data": {
      "text/latex": [
       "$$\\mathrm b^{0}(X_{1},\\wedge^{1}T_X)=24$$"
      ],
      "text/plain": [
       "<IPython.core.display.Math object>"
      ]
     },
     "metadata": {},
     "output_type": "display_data"
    },
    {
     "data": {
      "text/latex": [
       "$$\\mathrm b^{0}(X_{1},\\wedge^{2}T_X)=276$$"
      ],
      "text/plain": [
       "<IPython.core.display.Math object>"
      ]
     },
     "metadata": {},
     "output_type": "display_data"
    },
    {
     "data": {
      "text/latex": [
       "$$\\mathrm b^{0}(X_{1},\\wedge^{3}T_X)=2023$$"
      ],
      "text/plain": [
       "<IPython.core.display.Math object>"
      ]
     },
     "metadata": {},
     "output_type": "display_data"
    },
    {
     "data": {
      "text/latex": [
       "$$\\mathrm b^{0}(X_{1},\\wedge^{4}T_X)=10403$$"
      ],
      "text/plain": [
       "<IPython.core.display.Math object>"
      ]
     },
     "metadata": {},
     "output_type": "display_data"
    },
    {
     "data": {
      "text/latex": [
       "$$\\mathrm b^{0}(X_{1},\\wedge^{5}T_X)=36648$$"
      ],
      "text/plain": [
       "<IPython.core.display.Math object>"
      ]
     },
     "metadata": {},
     "output_type": "display_data"
    },
    {
     "data": {
      "text/latex": [
       "$$\\mathrm b^{0}(X_{1},\\wedge^{6}T_X)=82252$$"
      ],
      "text/plain": [
       "<IPython.core.display.Math object>"
      ]
     },
     "metadata": {},
     "output_type": "display_data"
    },
    {
     "data": {
      "text/latex": [
       "$$\\mathrm b^{0}(X_{1},\\wedge^{7}T_X)=109723$$"
      ],
      "text/plain": [
       "<IPython.core.display.Math object>"
      ]
     },
     "metadata": {},
     "output_type": "display_data"
    },
    {
     "data": {
      "text/latex": [
       "$$\\mathrm b^{0}(X_{1},\\wedge^{8}T_X)=78526$$"
      ],
      "text/plain": [
       "<IPython.core.display.Math object>"
      ]
     },
     "metadata": {},
     "output_type": "display_data"
    },
    {
     "data": {
      "text/latex": [
       "$$\\mathrm b^{0}(X_{1},\\wedge^{9}T_X)=23100$$"
      ],
      "text/plain": [
       "<IPython.core.display.Math object>"
      ]
     },
     "metadata": {},
     "output_type": "display_data"
    },
    {
     "name": "stdout",
     "output_type": "stream",
     "text": [
      "dim of u is 9 for root system A4 and subset (2,)\n"
     ]
    },
    {
     "data": {
      "text/latex": [
       "$$\\mathrm b^{0}(X_{2},\\wedge^{0}T_X)=1$$"
      ],
      "text/plain": [
       "<IPython.core.display.Math object>"
      ]
     },
     "metadata": {},
     "output_type": "display_data"
    },
    {
     "data": {
      "text/latex": [
       "$$\\mathrm b^{0}(X_{2},\\wedge^{1}T_X)=24$$"
      ],
      "text/plain": [
       "<IPython.core.display.Math object>"
      ]
     },
     "metadata": {},
     "output_type": "display_data"
    },
    {
     "data": {
      "text/latex": [
       "$$\\mathrm b^{0}(X_{2},\\wedge^{2}T_X)=276$$"
      ],
      "text/plain": [
       "<IPython.core.display.Math object>"
      ]
     },
     "metadata": {},
     "output_type": "display_data"
    },
    {
     "data": {
      "text/latex": [
       "$$\\mathrm b^{0}(X_{2},\\wedge^{3}T_X)=2273$$"
      ],
      "text/plain": [
       "<IPython.core.display.Math object>"
      ]
     },
     "metadata": {},
     "output_type": "display_data"
    },
    {
     "data": {
      "text/latex": [
       "$$\\mathrm b^{0}(X_{2},\\wedge^{4}T_X)=12703$$"
      ],
      "text/plain": [
       "<IPython.core.display.Math object>"
      ]
     },
     "metadata": {},
     "output_type": "display_data"
    },
    {
     "data": {
      "text/latex": [
       "$$\\mathrm b^{0}(X_{2},\\wedge^{5}T_X)=45148$$"
      ],
      "text/plain": [
       "<IPython.core.display.Math object>"
      ]
     },
     "metadata": {},
     "output_type": "display_data"
    },
    {
     "data": {
      "text/latex": [
       "$$\\mathrm b^{0}(X_{2},\\wedge^{6}T_X)=98552$$"
      ],
      "text/plain": [
       "<IPython.core.display.Math object>"
      ]
     },
     "metadata": {},
     "output_type": "display_data"
    },
    {
     "data": {
      "text/latex": [
       "$$\\mathrm b^{0}(X_{2},\\wedge^{7}T_X)=126873$$"
      ],
      "text/plain": [
       "<IPython.core.display.Math object>"
      ]
     },
     "metadata": {},
     "output_type": "display_data"
    },
    {
     "data": {
      "text/latex": [
       "$$\\mathrm b^{0}(X_{2},\\wedge^{8}T_X)=87926$$"
      ],
      "text/plain": [
       "<IPython.core.display.Math object>"
      ]
     },
     "metadata": {},
     "output_type": "display_data"
    },
    {
     "data": {
      "text/latex": [
       "$$\\mathrm b^{0}(X_{2},\\wedge^{9}T_X)=25200$$"
      ],
      "text/plain": [
       "<IPython.core.display.Math object>"
      ]
     },
     "metadata": {},
     "output_type": "display_data"
    },
    {
     "name": "stdout",
     "output_type": "stream",
     "text": [
      "dim of u is 9 for root system A4 and subset (3,)\n"
     ]
    },
    {
     "data": {
      "text/latex": [
       "$$\\mathrm b^{0}(X_{3},\\wedge^{0}T_X)=1$$"
      ],
      "text/plain": [
       "<IPython.core.display.Math object>"
      ]
     },
     "metadata": {},
     "output_type": "display_data"
    },
    {
     "data": {
      "text/latex": [
       "$$\\mathrm b^{0}(X_{3},\\wedge^{1}T_X)=24$$"
      ],
      "text/plain": [
       "<IPython.core.display.Math object>"
      ]
     },
     "metadata": {},
     "output_type": "display_data"
    },
    {
     "data": {
      "text/latex": [
       "$$\\mathrm b^{0}(X_{3},\\wedge^{2}T_X)=276$$"
      ],
      "text/plain": [
       "<IPython.core.display.Math object>"
      ]
     },
     "metadata": {},
     "output_type": "display_data"
    },
    {
     "data": {
      "text/latex": [
       "$$\\mathrm b^{0}(X_{3},\\wedge^{3}T_X)=2273$$"
      ],
      "text/plain": [
       "<IPython.core.display.Math object>"
      ]
     },
     "metadata": {},
     "output_type": "display_data"
    },
    {
     "data": {
      "text/latex": [
       "$$\\mathrm b^{0}(X_{3},\\wedge^{4}T_X)=12703$$"
      ],
      "text/plain": [
       "<IPython.core.display.Math object>"
      ]
     },
     "metadata": {},
     "output_type": "display_data"
    },
    {
     "data": {
      "text/latex": [
       "$$\\mathrm b^{0}(X_{3},\\wedge^{5}T_X)=45148$$"
      ],
      "text/plain": [
       "<IPython.core.display.Math object>"
      ]
     },
     "metadata": {},
     "output_type": "display_data"
    },
    {
     "data": {
      "text/latex": [
       "$$\\mathrm b^{0}(X_{3},\\wedge^{6}T_X)=98552$$"
      ],
      "text/plain": [
       "<IPython.core.display.Math object>"
      ]
     },
     "metadata": {},
     "output_type": "display_data"
    },
    {
     "data": {
      "text/latex": [
       "$$\\mathrm b^{0}(X_{3},\\wedge^{7}T_X)=126873$$"
      ],
      "text/plain": [
       "<IPython.core.display.Math object>"
      ]
     },
     "metadata": {},
     "output_type": "display_data"
    },
    {
     "data": {
      "text/latex": [
       "$$\\mathrm b^{0}(X_{3},\\wedge^{8}T_X)=87926$$"
      ],
      "text/plain": [
       "<IPython.core.display.Math object>"
      ]
     },
     "metadata": {},
     "output_type": "display_data"
    },
    {
     "data": {
      "text/latex": [
       "$$\\mathrm b^{0}(X_{3},\\wedge^{9}T_X)=25200$$"
      ],
      "text/plain": [
       "<IPython.core.display.Math object>"
      ]
     },
     "metadata": {},
     "output_type": "display_data"
    },
    {
     "name": "stdout",
     "output_type": "stream",
     "text": [
      "dim of u is 9 for root system A4 and subset (4,)\n"
     ]
    },
    {
     "data": {
      "text/latex": [
       "$$\\mathrm b^{0}(X_{4},\\wedge^{0}T_X)=1$$"
      ],
      "text/plain": [
       "<IPython.core.display.Math object>"
      ]
     },
     "metadata": {},
     "output_type": "display_data"
    },
    {
     "data": {
      "text/latex": [
       "$$\\mathrm b^{0}(X_{4},\\wedge^{1}T_X)=24$$"
      ],
      "text/plain": [
       "<IPython.core.display.Math object>"
      ]
     },
     "metadata": {},
     "output_type": "display_data"
    },
    {
     "data": {
      "text/latex": [
       "$$\\mathrm b^{0}(X_{4},\\wedge^{2}T_X)=276$$"
      ],
      "text/plain": [
       "<IPython.core.display.Math object>"
      ]
     },
     "metadata": {},
     "output_type": "display_data"
    },
    {
     "data": {
      "text/latex": [
       "$$\\mathrm b^{0}(X_{4},\\wedge^{3}T_X)=2023$$"
      ],
      "text/plain": [
       "<IPython.core.display.Math object>"
      ]
     },
     "metadata": {},
     "output_type": "display_data"
    },
    {
     "data": {
      "text/latex": [
       "$$\\mathrm b^{0}(X_{4},\\wedge^{4}T_X)=10403$$"
      ],
      "text/plain": [
       "<IPython.core.display.Math object>"
      ]
     },
     "metadata": {},
     "output_type": "display_data"
    },
    {
     "data": {
      "text/latex": [
       "$$\\mathrm b^{0}(X_{4},\\wedge^{5}T_X)=36648$$"
      ],
      "text/plain": [
       "<IPython.core.display.Math object>"
      ]
     },
     "metadata": {},
     "output_type": "display_data"
    },
    {
     "data": {
      "text/latex": [
       "$$\\mathrm b^{0}(X_{4},\\wedge^{6}T_X)=82252$$"
      ],
      "text/plain": [
       "<IPython.core.display.Math object>"
      ]
     },
     "metadata": {},
     "output_type": "display_data"
    },
    {
     "data": {
      "text/latex": [
       "$$\\mathrm b^{0}(X_{4},\\wedge^{7}T_X)=109723$$"
      ],
      "text/plain": [
       "<IPython.core.display.Math object>"
      ]
     },
     "metadata": {},
     "output_type": "display_data"
    },
    {
     "data": {
      "text/latex": [
       "$$\\mathrm b^{0}(X_{4},\\wedge^{8}T_X)=78526$$"
      ],
      "text/plain": [
       "<IPython.core.display.Math object>"
      ]
     },
     "metadata": {},
     "output_type": "display_data"
    },
    {
     "data": {
      "text/latex": [
       "$$\\mathrm b^{0}(X_{4},\\wedge^{9}T_X)=23100$$"
      ],
      "text/plain": [
       "<IPython.core.display.Math object>"
      ]
     },
     "metadata": {},
     "output_type": "display_data"
    },
    {
     "name": "stdout",
     "output_type": "stream",
     "text": [
      "dim of u is 7 for root system A4 and subset (1, 2)\n"
     ]
    },
    {
     "data": {
      "text/latex": [
       "$$\\mathrm b^{0}(X_{12},\\wedge^{0}T_X)=1$$"
      ],
      "text/plain": [
       "<IPython.core.display.Math object>"
      ]
     },
     "metadata": {},
     "output_type": "display_data"
    },
    {
     "data": {
      "text/latex": [
       "$$\\mathrm b^{0}(X_{12},\\wedge^{1}T_X)=24$$"
      ],
      "text/plain": [
       "<IPython.core.display.Math object>"
      ]
     },
     "metadata": {},
     "output_type": "display_data"
    },
    {
     "data": {
      "text/latex": [
       "$$\\mathrm b^{0}(X_{12},\\wedge^{2}T_X)=276$$"
      ],
      "text/plain": [
       "<IPython.core.display.Math object>"
      ]
     },
     "metadata": {},
     "output_type": "display_data"
    },
    {
     "data": {
      "text/latex": [
       "$$\\mathrm b^{0}(X_{12},\\wedge^{3}T_X)=1649$$"
      ],
      "text/plain": [
       "<IPython.core.display.Math object>"
      ]
     },
     "metadata": {},
     "output_type": "display_data"
    },
    {
     "data": {
      "text/latex": [
       "$$\\mathrm b^{0}(X_{12},\\wedge^{4}T_X)=5476$$"
      ],
      "text/plain": [
       "<IPython.core.display.Math object>"
      ]
     },
     "metadata": {},
     "output_type": "display_data"
    },
    {
     "data": {
      "text/latex": [
       "$$\\mathrm b^{0}(X_{12},\\wedge^{5}T_X)=9875$$"
      ],
      "text/plain": [
       "<IPython.core.display.Math object>"
      ]
     },
     "metadata": {},
     "output_type": "display_data"
    },
    {
     "data": {
      "text/latex": [
       "$$\\mathrm b^{0}(X_{12},\\wedge^{6}T_X)=8925$$"
      ],
      "text/plain": [
       "<IPython.core.display.Math object>"
      ]
     },
     "metadata": {},
     "output_type": "display_data"
    },
    {
     "data": {
      "text/latex": [
       "$$\\mathrm b^{0}(X_{12},\\wedge^{7}T_X)=3150$$"
      ],
      "text/plain": [
       "<IPython.core.display.Math object>"
      ]
     },
     "metadata": {},
     "output_type": "display_data"
    },
    {
     "name": "stdout",
     "output_type": "stream",
     "text": [
      "dim of u is 8 for root system A4 and subset (1, 3)\n"
     ]
    },
    {
     "data": {
      "text/latex": [
       "$$\\mathrm b^{0}(X_{13},\\wedge^{0}T_X)=1$$"
      ],
      "text/plain": [
       "<IPython.core.display.Math object>"
      ]
     },
     "metadata": {},
     "output_type": "display_data"
    },
    {
     "data": {
      "text/latex": [
       "$$\\mathrm b^{0}(X_{13},\\wedge^{1}T_X)=24$$"
      ],
      "text/plain": [
       "<IPython.core.display.Math object>"
      ]
     },
     "metadata": {},
     "output_type": "display_data"
    },
    {
     "data": {
      "text/latex": [
       "$$\\mathrm b^{0}(X_{13},\\wedge^{2}T_X)=276$$"
      ],
      "text/plain": [
       "<IPython.core.display.Math object>"
      ]
     },
     "metadata": {},
     "output_type": "display_data"
    },
    {
     "data": {
      "text/latex": [
       "$$\\mathrm b^{0}(X_{13},\\wedge^{3}T_X)=2174$$"
      ],
      "text/plain": [
       "<IPython.core.display.Math object>"
      ]
     },
     "metadata": {},
     "output_type": "display_data"
    },
    {
     "data": {
      "text/latex": [
       "$$\\mathrm b^{0}(X_{13},\\wedge^{4}T_X)=10326$$"
      ],
      "text/plain": [
       "<IPython.core.display.Math object>"
      ]
     },
     "metadata": {},
     "output_type": "display_data"
    },
    {
     "data": {
      "text/latex": [
       "$$\\mathrm b^{0}(X_{13},\\wedge^{5}T_X)=27675$$"
      ],
      "text/plain": [
       "<IPython.core.display.Math object>"
      ]
     },
     "metadata": {},
     "output_type": "display_data"
    },
    {
     "data": {
      "text/latex": [
       "$$\\mathrm b^{0}(X_{13},\\wedge^{6}T_X)=41000$$"
      ],
      "text/plain": [
       "<IPython.core.display.Math object>"
      ]
     },
     "metadata": {},
     "output_type": "display_data"
    },
    {
     "data": {
      "text/latex": [
       "$$\\mathrm b^{0}(X_{13},\\wedge^{7}T_X)=31325$$"
      ],
      "text/plain": [
       "<IPython.core.display.Math object>"
      ]
     },
     "metadata": {},
     "output_type": "display_data"
    },
    {
     "data": {
      "text/latex": [
       "$$\\mathrm b^{0}(X_{13},\\wedge^{8}T_X)=9625$$"
      ],
      "text/plain": [
       "<IPython.core.display.Math object>"
      ]
     },
     "metadata": {},
     "output_type": "display_data"
    },
    {
     "name": "stdout",
     "output_type": "stream",
     "text": [
      "dim of u is 8 for root system A4 and subset (1, 4)\n"
     ]
    },
    {
     "data": {
      "text/latex": [
       "$$\\mathrm b^{0}(X_{14},\\wedge^{0}T_X)=1$$"
      ],
      "text/plain": [
       "<IPython.core.display.Math object>"
      ]
     },
     "metadata": {},
     "output_type": "display_data"
    },
    {
     "data": {
      "text/latex": [
       "$$\\mathrm b^{0}(X_{14},\\wedge^{1}T_X)=24$$"
      ],
      "text/plain": [
       "<IPython.core.display.Math object>"
      ]
     },
     "metadata": {},
     "output_type": "display_data"
    },
    {
     "data": {
      "text/latex": [
       "$$\\mathrm b^{0}(X_{14},\\wedge^{2}T_X)=276$$"
      ],
      "text/plain": [
       "<IPython.core.display.Math object>"
      ]
     },
     "metadata": {},
     "output_type": "display_data"
    },
    {
     "data": {
      "text/latex": [
       "$$\\mathrm b^{0}(X_{14},\\wedge^{3}T_X)=1999$$"
      ],
      "text/plain": [
       "<IPython.core.display.Math object>"
      ]
     },
     "metadata": {},
     "output_type": "display_data"
    },
    {
     "data": {
      "text/latex": [
       "$$\\mathrm b^{0}(X_{14},\\wedge^{4}T_X)=9151$$"
      ],
      "text/plain": [
       "<IPython.core.display.Math object>"
      ]
     },
     "metadata": {},
     "output_type": "display_data"
    },
    {
     "data": {
      "text/latex": [
       "$$\\mathrm b^{0}(X_{14},\\wedge^{5}T_X)=24575$$"
      ],
      "text/plain": [
       "<IPython.core.display.Math object>"
      ]
     },
     "metadata": {},
     "output_type": "display_data"
    },
    {
     "data": {
      "text/latex": [
       "$$\\mathrm b^{0}(X_{14},\\wedge^{6}T_X)=37000$$"
      ],
      "text/plain": [
       "<IPython.core.display.Math object>"
      ]
     },
     "metadata": {},
     "output_type": "display_data"
    },
    {
     "data": {
      "text/latex": [
       "$$\\mathrm b^{0}(X_{14},\\wedge^{7}T_X)=28800$$"
      ],
      "text/plain": [
       "<IPython.core.display.Math object>"
      ]
     },
     "metadata": {},
     "output_type": "display_data"
    },
    {
     "data": {
      "text/latex": [
       "$$\\mathrm b^{0}(X_{14},\\wedge^{8}T_X)=9000$$"
      ],
      "text/plain": [
       "<IPython.core.display.Math object>"
      ]
     },
     "metadata": {},
     "output_type": "display_data"
    },
    {
     "name": "stdout",
     "output_type": "stream",
     "text": [
      "dim of u is 7 for root system A4 and subset (2, 3)\n"
     ]
    },
    {
     "data": {
      "text/latex": [
       "$$\\mathrm b^{0}(X_{23},\\wedge^{0}T_X)=1$$"
      ],
      "text/plain": [
       "<IPython.core.display.Math object>"
      ]
     },
     "metadata": {},
     "output_type": "display_data"
    },
    {
     "data": {
      "text/latex": [
       "$$\\mathrm b^{0}(X_{23},\\wedge^{1}T_X)=24$$"
      ],
      "text/plain": [
       "<IPython.core.display.Math object>"
      ]
     },
     "metadata": {},
     "output_type": "display_data"
    },
    {
     "data": {
      "text/latex": [
       "$$\\mathrm b^{0}(X_{23},\\wedge^{2}T_X)=351$$"
      ],
      "text/plain": [
       "<IPython.core.display.Math object>"
      ]
     },
     "metadata": {},
     "output_type": "display_data"
    },
    {
     "data": {
      "text/latex": [
       "$$\\mathrm b^{0}(X_{23},\\wedge^{3}T_X)=2274$$"
      ],
      "text/plain": [
       "<IPython.core.display.Math object>"
      ]
     },
     "metadata": {},
     "output_type": "display_data"
    },
    {
     "data": {
      "text/latex": [
       "$$\\mathrm b^{0}(X_{23},\\wedge^{4}T_X)=7426$$"
      ],
      "text/plain": [
       "<IPython.core.display.Math object>"
      ]
     },
     "metadata": {},
     "output_type": "display_data"
    },
    {
     "data": {
      "text/latex": [
       "$$\\mathrm b^{0}(X_{23},\\wedge^{5}T_X)=12725$$"
      ],
      "text/plain": [
       "<IPython.core.display.Math object>"
      ]
     },
     "metadata": {},
     "output_type": "display_data"
    },
    {
     "data": {
      "text/latex": [
       "$$\\mathrm b^{0}(X_{23},\\wedge^{6}T_X)=10900$$"
      ],
      "text/plain": [
       "<IPython.core.display.Math object>"
      ]
     },
     "metadata": {},
     "output_type": "display_data"
    },
    {
     "data": {
      "text/latex": [
       "$$\\mathrm b^{0}(X_{23},\\wedge^{7}T_X)=3675$$"
      ],
      "text/plain": [
       "<IPython.core.display.Math object>"
      ]
     },
     "metadata": {},
     "output_type": "display_data"
    },
    {
     "name": "stdout",
     "output_type": "stream",
     "text": [
      "dim of u is 8 for root system A4 and subset (2, 4)\n"
     ]
    },
    {
     "data": {
      "text/latex": [
       "$$\\mathrm b^{0}(X_{24},\\wedge^{0}T_X)=1$$"
      ],
      "text/plain": [
       "<IPython.core.display.Math object>"
      ]
     },
     "metadata": {},
     "output_type": "display_data"
    },
    {
     "data": {
      "text/latex": [
       "$$\\mathrm b^{0}(X_{24},\\wedge^{1}T_X)=24$$"
      ],
      "text/plain": [
       "<IPython.core.display.Math object>"
      ]
     },
     "metadata": {},
     "output_type": "display_data"
    },
    {
     "data": {
      "text/latex": [
       "$$\\mathrm b^{0}(X_{24},\\wedge^{2}T_X)=276$$"
      ],
      "text/plain": [
       "<IPython.core.display.Math object>"
      ]
     },
     "metadata": {},
     "output_type": "display_data"
    },
    {
     "data": {
      "text/latex": [
       "$$\\mathrm b^{0}(X_{24},\\wedge^{3}T_X)=2174$$"
      ],
      "text/plain": [
       "<IPython.core.display.Math object>"
      ]
     },
     "metadata": {},
     "output_type": "display_data"
    },
    {
     "data": {
      "text/latex": [
       "$$\\mathrm b^{0}(X_{24},\\wedge^{4}T_X)=10326$$"
      ],
      "text/plain": [
       "<IPython.core.display.Math object>"
      ]
     },
     "metadata": {},
     "output_type": "display_data"
    },
    {
     "data": {
      "text/latex": [
       "$$\\mathrm b^{0}(X_{24},\\wedge^{5}T_X)=27675$$"
      ],
      "text/plain": [
       "<IPython.core.display.Math object>"
      ]
     },
     "metadata": {},
     "output_type": "display_data"
    },
    {
     "data": {
      "text/latex": [
       "$$\\mathrm b^{0}(X_{24},\\wedge^{6}T_X)=41000$$"
      ],
      "text/plain": [
       "<IPython.core.display.Math object>"
      ]
     },
     "metadata": {},
     "output_type": "display_data"
    },
    {
     "data": {
      "text/latex": [
       "$$\\mathrm b^{0}(X_{24},\\wedge^{7}T_X)=31325$$"
      ],
      "text/plain": [
       "<IPython.core.display.Math object>"
      ]
     },
     "metadata": {},
     "output_type": "display_data"
    },
    {
     "data": {
      "text/latex": [
       "$$\\mathrm b^{0}(X_{24},\\wedge^{8}T_X)=9625$$"
      ],
      "text/plain": [
       "<IPython.core.display.Math object>"
      ]
     },
     "metadata": {},
     "output_type": "display_data"
    },
    {
     "name": "stdout",
     "output_type": "stream",
     "text": [
      "dim of u is 7 for root system A4 and subset (3, 4)\n"
     ]
    },
    {
     "data": {
      "text/latex": [
       "$$\\mathrm b^{0}(X_{34},\\wedge^{0}T_X)=1$$"
      ],
      "text/plain": [
       "<IPython.core.display.Math object>"
      ]
     },
     "metadata": {},
     "output_type": "display_data"
    },
    {
     "data": {
      "text/latex": [
       "$$\\mathrm b^{0}(X_{34},\\wedge^{1}T_X)=24$$"
      ],
      "text/plain": [
       "<IPython.core.display.Math object>"
      ]
     },
     "metadata": {},
     "output_type": "display_data"
    },
    {
     "data": {
      "text/latex": [
       "$$\\mathrm b^{0}(X_{34},\\wedge^{2}T_X)=276$$"
      ],
      "text/plain": [
       "<IPython.core.display.Math object>"
      ]
     },
     "metadata": {},
     "output_type": "display_data"
    },
    {
     "data": {
      "text/latex": [
       "$$\\mathrm b^{0}(X_{34},\\wedge^{3}T_X)=1649$$"
      ],
      "text/plain": [
       "<IPython.core.display.Math object>"
      ]
     },
     "metadata": {},
     "output_type": "display_data"
    },
    {
     "data": {
      "text/latex": [
       "$$\\mathrm b^{0}(X_{34},\\wedge^{4}T_X)=5476$$"
      ],
      "text/plain": [
       "<IPython.core.display.Math object>"
      ]
     },
     "metadata": {},
     "output_type": "display_data"
    },
    {
     "data": {
      "text/latex": [
       "$$\\mathrm b^{0}(X_{34},\\wedge^{5}T_X)=9875$$"
      ],
      "text/plain": [
       "<IPython.core.display.Math object>"
      ]
     },
     "metadata": {},
     "output_type": "display_data"
    },
    {
     "data": {
      "text/latex": [
       "$$\\mathrm b^{0}(X_{34},\\wedge^{6}T_X)=8925$$"
      ],
      "text/plain": [
       "<IPython.core.display.Math object>"
      ]
     },
     "metadata": {},
     "output_type": "display_data"
    },
    {
     "data": {
      "text/latex": [
       "$$\\mathrm b^{0}(X_{34},\\wedge^{7}T_X)=3150$$"
      ],
      "text/plain": [
       "<IPython.core.display.Math object>"
      ]
     },
     "metadata": {},
     "output_type": "display_data"
    },
    {
     "name": "stdout",
     "output_type": "stream",
     "text": [
      "dim of u is 4 for root system A4 and subset (1, 2, 3)\n"
     ]
    },
    {
     "data": {
      "text/latex": [
       "$$\\mathrm b^{0}(X_{123},\\wedge^{0}T_X)=1$$"
      ],
      "text/plain": [
       "<IPython.core.display.Math object>"
      ]
     },
     "metadata": {},
     "output_type": "display_data"
    },
    {
     "data": {
      "text/latex": [
       "$$\\mathrm b^{0}(X_{123},\\wedge^{1}T_X)=24$$"
      ],
      "text/plain": [
       "<IPython.core.display.Math object>"
      ]
     },
     "metadata": {},
     "output_type": "display_data"
    },
    {
     "data": {
      "text/latex": [
       "$$\\mathrm b^{0}(X_{123},\\wedge^{2}T_X)=126$$"
      ],
      "text/plain": [
       "<IPython.core.display.Math object>"
      ]
     },
     "metadata": {},
     "output_type": "display_data"
    },
    {
     "data": {
      "text/latex": [
       "$$\\mathrm b^{0}(X_{123},\\wedge^{3}T_X)=224$$"
      ],
      "text/plain": [
       "<IPython.core.display.Math object>"
      ]
     },
     "metadata": {},
     "output_type": "display_data"
    },
    {
     "data": {
      "text/latex": [
       "$$\\mathrm b^{0}(X_{123},\\wedge^{4}T_X)=126$$"
      ],
      "text/plain": [
       "<IPython.core.display.Math object>"
      ]
     },
     "metadata": {},
     "output_type": "display_data"
    },
    {
     "name": "stdout",
     "output_type": "stream",
     "text": [
      "dim of u is 6 for root system A4 and subset (1, 2, 4)\n"
     ]
    },
    {
     "data": {
      "text/latex": [
       "$$\\mathrm b^{0}(X_{124},\\wedge^{0}T_X)=1$$"
      ],
      "text/plain": [
       "<IPython.core.display.Math object>"
      ]
     },
     "metadata": {},
     "output_type": "display_data"
    },
    {
     "data": {
      "text/latex": [
       "$$\\mathrm b^{0}(X_{124},\\wedge^{1}T_X)=24$$"
      ],
      "text/plain": [
       "<IPython.core.display.Math object>"
      ]
     },
     "metadata": {},
     "output_type": "display_data"
    },
    {
     "data": {
      "text/latex": [
       "$$\\mathrm b^{0}(X_{124},\\wedge^{2}T_X)=252$$"
      ],
      "text/plain": [
       "<IPython.core.display.Math object>"
      ]
     },
     "metadata": {},
     "output_type": "display_data"
    },
    {
     "data": {
      "text/latex": [
       "$$\\mathrm b^{0}(X_{124},\\wedge^{3}T_X)=1248$$"
      ],
      "text/plain": [
       "<IPython.core.display.Math object>"
      ]
     },
     "metadata": {},
     "output_type": "display_data"
    },
    {
     "data": {
      "text/latex": [
       "$$\\mathrm b^{0}(X_{124},\\wedge^{4}T_X)=2877$$"
      ],
      "text/plain": [
       "<IPython.core.display.Math object>"
      ]
     },
     "metadata": {},
     "output_type": "display_data"
    },
    {
     "data": {
      "text/latex": [
       "$$\\mathrm b^{0}(X_{124},\\wedge^{5}T_X)=3024$$"
      ],
      "text/plain": [
       "<IPython.core.display.Math object>"
      ]
     },
     "metadata": {},
     "output_type": "display_data"
    },
    {
     "data": {
      "text/latex": [
       "$$\\mathrm b^{0}(X_{124},\\wedge^{6}T_X)=1176$$"
      ],
      "text/plain": [
       "<IPython.core.display.Math object>"
      ]
     },
     "metadata": {},
     "output_type": "display_data"
    },
    {
     "name": "stdout",
     "output_type": "stream",
     "text": [
      "dim of u is 6 for root system A4 and subset (1, 3, 4)\n"
     ]
    },
    {
     "data": {
      "text/latex": [
       "$$\\mathrm b^{0}(X_{134},\\wedge^{0}T_X)=1$$"
      ],
      "text/plain": [
       "<IPython.core.display.Math object>"
      ]
     },
     "metadata": {},
     "output_type": "display_data"
    },
    {
     "data": {
      "text/latex": [
       "$$\\mathrm b^{0}(X_{134},\\wedge^{1}T_X)=24$$"
      ],
      "text/plain": [
       "<IPython.core.display.Math object>"
      ]
     },
     "metadata": {},
     "output_type": "display_data"
    },
    {
     "data": {
      "text/latex": [
       "$$\\mathrm b^{0}(X_{134},\\wedge^{2}T_X)=252$$"
      ],
      "text/plain": [
       "<IPython.core.display.Math object>"
      ]
     },
     "metadata": {},
     "output_type": "display_data"
    },
    {
     "data": {
      "text/latex": [
       "$$\\mathrm b^{0}(X_{134},\\wedge^{3}T_X)=1248$$"
      ],
      "text/plain": [
       "<IPython.core.display.Math object>"
      ]
     },
     "metadata": {},
     "output_type": "display_data"
    },
    {
     "data": {
      "text/latex": [
       "$$\\mathrm b^{0}(X_{134},\\wedge^{4}T_X)=2877$$"
      ],
      "text/plain": [
       "<IPython.core.display.Math object>"
      ]
     },
     "metadata": {},
     "output_type": "display_data"
    },
    {
     "data": {
      "text/latex": [
       "$$\\mathrm b^{0}(X_{134},\\wedge^{5}T_X)=3024$$"
      ],
      "text/plain": [
       "<IPython.core.display.Math object>"
      ]
     },
     "metadata": {},
     "output_type": "display_data"
    },
    {
     "data": {
      "text/latex": [
       "$$\\mathrm b^{0}(X_{134},\\wedge^{6}T_X)=1176$$"
      ],
      "text/plain": [
       "<IPython.core.display.Math object>"
      ]
     },
     "metadata": {},
     "output_type": "display_data"
    },
    {
     "name": "stdout",
     "output_type": "stream",
     "text": [
      "dim of u is 4 for root system A4 and subset (2, 3, 4)\n"
     ]
    },
    {
     "name": "stderr",
     "output_type": "stream",
     "text": [
      "../bggcomplex/fast_module.py:43: UserWarning: Maximum index 23 is much higher than length of module basis 4. \n",
      "                This may cause slowdown\n",
      "  This may cause slowdown\"\"\" % (self.max_index,self.len_basis))\n"
     ]
    },
    {
     "data": {
      "text/latex": [
       "$$\\mathrm b^{0}(X_{234},\\wedge^{0}T_X)=1$$"
      ],
      "text/plain": [
       "<IPython.core.display.Math object>"
      ]
     },
     "metadata": {},
     "output_type": "display_data"
    },
    {
     "data": {
      "text/latex": [
       "$$\\mathrm b^{0}(X_{234},\\wedge^{1}T_X)=24$$"
      ],
      "text/plain": [
       "<IPython.core.display.Math object>"
      ]
     },
     "metadata": {},
     "output_type": "display_data"
    },
    {
     "data": {
      "text/latex": [
       "$$\\mathrm b^{0}(X_{234},\\wedge^{2}T_X)=126$$"
      ],
      "text/plain": [
       "<IPython.core.display.Math object>"
      ]
     },
     "metadata": {},
     "output_type": "display_data"
    },
    {
     "data": {
      "text/latex": [
       "$$\\mathrm b^{0}(X_{234},\\wedge^{3}T_X)=224$$"
      ],
      "text/plain": [
       "<IPython.core.display.Math object>"
      ]
     },
     "metadata": {},
     "output_type": "display_data"
    },
    {
     "data": {
      "text/latex": [
       "$$\\mathrm b^{0}(X_{234},\\wedge^{4}T_X)=126$$"
      ],
      "text/plain": [
       "<IPython.core.display.Math object>"
      ]
     },
     "metadata": {},
     "output_type": "display_data"
    }
   ],
   "source": [
    "from itertools import combinations, chain\n",
    "roots = [1,2,3,4]\n",
    "subsets = list(chain.from_iterable(combinations(roots,i) for i in range(len(roots))))\n",
    "d = 'A4'\n",
    "BGG = BGGComplex(d)\n",
    "for subset in subsets:\n",
    "    factory = FastModuleFactory(BGG.LA)\n",
    "    component_dic = {'u':factory.build_component('u','coad',subset=subset)}\n",
    "    u_dim = len(component_dic['u'].basis)\n",
    "    print('dim of u is %d for root system %s and subset %s' % (u_dim, d, subset))\n",
    "    for k in range(u_dim+1):\n",
    "        components = [[('u',k,'wedge')]]\n",
    "        module = FastLieAlgebraCompositeModule(factory,components,component_dic)\n",
    "\n",
    "        cohom = BGGCohomology(BGG, module)\n",
    "        subset_string = ''.join(str(s) for s in subset)\n",
    "        cohom.cohomology_LaTeX(complex_string=r'X_{'+subset_string+r'},\\wedge^{'+str(k)+'}T_X',print_modules=False)"
   ]
  },
  {
   "cell_type": "markdown",
   "metadata": {},
   "source": [
    "## A3 parabolic"
   ]
  },
  {
   "cell_type": "code",
   "execution_count": 14,
   "metadata": {
    "scrolled": true
   },
   "outputs": [
    {
     "name": "stdout",
     "output_type": "stream",
     "text": [
      "dim of u is 6 for root system A3 and subset ()\n"
     ]
    },
    {
     "data": {
      "text/latex": [
       "$$\\mathrm b^{0}(X_{},\\wedge^{0}T_X)=1$$"
      ],
      "text/plain": [
       "<IPython.core.display.Math object>"
      ]
     },
     "metadata": {},
     "output_type": "display_data"
    },
    {
     "data": {
      "text/latex": [
       "$$\\mathrm b^{0}(X_{},\\wedge^{1}T_X)=15$$"
      ],
      "text/plain": [
       "<IPython.core.display.Math object>"
      ]
     },
     "metadata": {},
     "output_type": "display_data"
    },
    {
     "data": {
      "text/latex": [
       "$$\\mathrm b^{0}(X_{},\\wedge^{2}T_X)=105$$"
      ],
      "text/plain": [
       "<IPython.core.display.Math object>"
      ]
     },
     "metadata": {},
     "output_type": "display_data"
    },
    {
     "data": {
      "text/latex": [
       "$$\\mathrm b^{0}(X_{},\\wedge^{3}T_X)=474$$"
      ],
      "text/plain": [
       "<IPython.core.display.Math object>"
      ]
     },
     "metadata": {},
     "output_type": "display_data"
    },
    {
     "data": {
      "text/latex": [
       "$$\\mathrm b^{0}(X_{},\\wedge^{4}T_X)=1225$$"
      ],
      "text/plain": [
       "<IPython.core.display.Math object>"
      ]
     },
     "metadata": {},
     "output_type": "display_data"
    },
    {
     "data": {
      "text/latex": [
       "$$\\mathrm b^{0}(X_{},\\wedge^{5}T_X)=1547$$"
      ],
      "text/plain": [
       "<IPython.core.display.Math object>"
      ]
     },
     "metadata": {},
     "output_type": "display_data"
    },
    {
     "data": {
      "text/latex": [
       "$$\\mathrm b^{0}(X_{},\\wedge^{6}T_X)=729$$"
      ],
      "text/plain": [
       "<IPython.core.display.Math object>"
      ]
     },
     "metadata": {},
     "output_type": "display_data"
    },
    {
     "name": "stdout",
     "output_type": "stream",
     "text": [
      "dim of u is 5 for root system A3 and subset (1,)\n"
     ]
    },
    {
     "data": {
      "text/latex": [
       "$$\\mathrm b^{0}(X_{1},\\wedge^{0}T_X)=1$$"
      ],
      "text/plain": [
       "<IPython.core.display.Math object>"
      ]
     },
     "metadata": {},
     "output_type": "display_data"
    },
    {
     "data": {
      "text/latex": [
       "$$\\mathrm b^{0}(X_{1},\\wedge^{1}T_X)=15$$"
      ],
      "text/plain": [
       "<IPython.core.display.Math object>"
      ]
     },
     "metadata": {},
     "output_type": "display_data"
    },
    {
     "data": {
      "text/latex": [
       "$$\\mathrm b^{0}(X_{1},\\wedge^{2}T_X)=105$$"
      ],
      "text/plain": [
       "<IPython.core.display.Math object>"
      ]
     },
     "metadata": {},
     "output_type": "display_data"
    },
    {
     "data": {
      "text/latex": [
       "$$\\mathrm b^{0}(X_{1},\\wedge^{3}T_X)=359$$"
      ],
      "text/plain": [
       "<IPython.core.display.Math object>"
      ]
     },
     "metadata": {},
     "output_type": "display_data"
    },
    {
     "data": {
      "text/latex": [
       "$$\\mathrm b^{0}(X_{1},\\wedge^{4}T_X)=536$$"
      ],
      "text/plain": [
       "<IPython.core.display.Math object>"
      ]
     },
     "metadata": {},
     "output_type": "display_data"
    },
    {
     "data": {
      "text/latex": [
       "$$\\mathrm b^{0}(X_{1},\\wedge^{5}T_X)=280$$"
      ],
      "text/plain": [
       "<IPython.core.display.Math object>"
      ]
     },
     "metadata": {},
     "output_type": "display_data"
    },
    {
     "name": "stdout",
     "output_type": "stream",
     "text": [
      "dim of u is 5 for root system A3 and subset (2,)\n"
     ]
    },
    {
     "data": {
      "text/latex": [
       "$$\\mathrm b^{0}(X_{2},\\wedge^{0}T_X)=1$$"
      ],
      "text/plain": [
       "<IPython.core.display.Math object>"
      ]
     },
     "metadata": {},
     "output_type": "display_data"
    },
    {
     "data": {
      "text/latex": [
       "$$\\mathrm b^{0}(X_{2},\\wedge^{1}T_X)=15$$"
      ],
      "text/plain": [
       "<IPython.core.display.Math object>"
      ]
     },
     "metadata": {},
     "output_type": "display_data"
    },
    {
     "data": {
      "text/latex": [
       "$$\\mathrm b^{0}(X_{2},\\wedge^{2}T_X)=125$$"
      ],
      "text/plain": [
       "<IPython.core.display.Math object>"
      ]
     },
     "metadata": {},
     "output_type": "display_data"
    },
    {
     "data": {
      "text/latex": [
       "$$\\mathrm b^{0}(X_{2},\\wedge^{3}T_X)=419$$"
      ],
      "text/plain": [
       "<IPython.core.display.Math object>"
      ]
     },
     "metadata": {},
     "output_type": "display_data"
    },
    {
     "data": {
      "text/latex": [
       "$$\\mathrm b^{0}(X_{2},\\wedge^{4}T_X)=596$$"
      ],
      "text/plain": [
       "<IPython.core.display.Math object>"
      ]
     },
     "metadata": {},
     "output_type": "display_data"
    },
    {
     "data": {
      "text/latex": [
       "$$\\mathrm b^{0}(X_{2},\\wedge^{5}T_X)=300$$"
      ],
      "text/plain": [
       "<IPython.core.display.Math object>"
      ]
     },
     "metadata": {},
     "output_type": "display_data"
    },
    {
     "name": "stdout",
     "output_type": "stream",
     "text": [
      "dim of u is 5 for root system A3 and subset (3,)\n"
     ]
    },
    {
     "data": {
      "text/latex": [
       "$$\\mathrm b^{0}(X_{3},\\wedge^{0}T_X)=1$$"
      ],
      "text/plain": [
       "<IPython.core.display.Math object>"
      ]
     },
     "metadata": {},
     "output_type": "display_data"
    },
    {
     "data": {
      "text/latex": [
       "$$\\mathrm b^{0}(X_{3},\\wedge^{1}T_X)=15$$"
      ],
      "text/plain": [
       "<IPython.core.display.Math object>"
      ]
     },
     "metadata": {},
     "output_type": "display_data"
    },
    {
     "data": {
      "text/latex": [
       "$$\\mathrm b^{0}(X_{3},\\wedge^{2}T_X)=105$$"
      ],
      "text/plain": [
       "<IPython.core.display.Math object>"
      ]
     },
     "metadata": {},
     "output_type": "display_data"
    },
    {
     "data": {
      "text/latex": [
       "$$\\mathrm b^{0}(X_{3},\\wedge^{3}T_X)=359$$"
      ],
      "text/plain": [
       "<IPython.core.display.Math object>"
      ]
     },
     "metadata": {},
     "output_type": "display_data"
    },
    {
     "data": {
      "text/latex": [
       "$$\\mathrm b^{0}(X_{3},\\wedge^{4}T_X)=536$$"
      ],
      "text/plain": [
       "<IPython.core.display.Math object>"
      ]
     },
     "metadata": {},
     "output_type": "display_data"
    },
    {
     "data": {
      "text/latex": [
       "$$\\mathrm b^{0}(X_{3},\\wedge^{5}T_X)=280$$"
      ],
      "text/plain": [
       "<IPython.core.display.Math object>"
      ]
     },
     "metadata": {},
     "output_type": "display_data"
    },
    {
     "name": "stdout",
     "output_type": "stream",
     "text": [
      "dim of u is 3 for root system A3 and subset (1, 2)\n"
     ]
    },
    {
     "data": {
      "text/latex": [
       "$$\\mathrm b^{0}(X_{12},\\wedge^{0}T_X)=1$$"
      ],
      "text/plain": [
       "<IPython.core.display.Math object>"
      ]
     },
     "metadata": {},
     "output_type": "display_data"
    },
    {
     "data": {
      "text/latex": [
       "$$\\mathrm b^{0}(X_{12},\\wedge^{1}T_X)=15$$"
      ],
      "text/plain": [
       "<IPython.core.display.Math object>"
      ]
     },
     "metadata": {},
     "output_type": "display_data"
    },
    {
     "data": {
      "text/latex": [
       "$$\\mathrm b^{0}(X_{12},\\wedge^{2}T_X)=45$$"
      ],
      "text/plain": [
       "<IPython.core.display.Math object>"
      ]
     },
     "metadata": {},
     "output_type": "display_data"
    },
    {
     "data": {
      "text/latex": [
       "$$\\mathrm b^{0}(X_{12},\\wedge^{3}T_X)=35$$"
      ],
      "text/plain": [
       "<IPython.core.display.Math object>"
      ]
     },
     "metadata": {},
     "output_type": "display_data"
    },
    {
     "name": "stdout",
     "output_type": "stream",
     "text": [
      "dim of u is 4 for root system A3 and subset (1, 3)\n"
     ]
    },
    {
     "data": {
      "text/latex": [
       "$$\\mathrm b^{0}(X_{13},\\wedge^{0}T_X)=1$$"
      ],
      "text/plain": [
       "<IPython.core.display.Math object>"
      ]
     },
     "metadata": {},
     "output_type": "display_data"
    },
    {
     "data": {
      "text/latex": [
       "$$\\mathrm b^{0}(X_{13},\\wedge^{1}T_X)=15$$"
      ],
      "text/plain": [
       "<IPython.core.display.Math object>"
      ]
     },
     "metadata": {},
     "output_type": "display_data"
    },
    {
     "data": {
      "text/latex": [
       "$$\\mathrm b^{0}(X_{13},\\wedge^{2}T_X)=90$$"
      ],
      "text/plain": [
       "<IPython.core.display.Math object>"
      ]
     },
     "metadata": {},
     "output_type": "display_data"
    },
    {
     "data": {
      "text/latex": [
       "$$\\mathrm b^{0}(X_{13},\\wedge^{3}T_X)=175$$"
      ],
      "text/plain": [
       "<IPython.core.display.Math object>"
      ]
     },
     "metadata": {},
     "output_type": "display_data"
    },
    {
     "data": {
      "text/latex": [
       "$$\\mathrm b^{0}(X_{13},\\wedge^{4}T_X)=105$$"
      ],
      "text/plain": [
       "<IPython.core.display.Math object>"
      ]
     },
     "metadata": {},
     "output_type": "display_data"
    },
    {
     "name": "stdout",
     "output_type": "stream",
     "text": [
      "dim of u is 3 for root system A3 and subset (2, 3)\n"
     ]
    },
    {
     "data": {
      "text/latex": [
       "$$\\mathrm b^{0}(X_{23},\\wedge^{0}T_X)=1$$"
      ],
      "text/plain": [
       "<IPython.core.display.Math object>"
      ]
     },
     "metadata": {},
     "output_type": "display_data"
    },
    {
     "data": {
      "text/latex": [
       "$$\\mathrm b^{0}(X_{23},\\wedge^{1}T_X)=15$$"
      ],
      "text/plain": [
       "<IPython.core.display.Math object>"
      ]
     },
     "metadata": {},
     "output_type": "display_data"
    },
    {
     "data": {
      "text/latex": [
       "$$\\mathrm b^{0}(X_{23},\\wedge^{2}T_X)=45$$"
      ],
      "text/plain": [
       "<IPython.core.display.Math object>"
      ]
     },
     "metadata": {},
     "output_type": "display_data"
    },
    {
     "data": {
      "text/latex": [
       "$$\\mathrm b^{0}(X_{23},\\wedge^{3}T_X)=35$$"
      ],
      "text/plain": [
       "<IPython.core.display.Math object>"
      ]
     },
     "metadata": {},
     "output_type": "display_data"
    }
   ],
   "source": [
    "from itertools import combinations, chain\n",
    "roots = [1,2,3]\n",
    "subsets = list(chain.from_iterable(combinations(roots,i) for i in range(len(roots))))\n",
    "d = 'A3'\n",
    "BGG = BGGComplex(d)\n",
    "for subset in subsets:\n",
    "    factory = FastModuleFactory(BGG.LA)\n",
    "    component_dic = {'u':factory.build_component('u','coad',subset=subset)}\n",
    "    u_dim = len(component_dic['u'].basis)\n",
    "    print('dim of u is %d for root system %s and subset %s' % (u_dim, d, subset))\n",
    "    for k in range(u_dim+1):\n",
    "        components = [[('u',k,'wedge')]]\n",
    "        module = FastLieAlgebraCompositeModule(factory,components,component_dic)\n",
    "\n",
    "        cohom = BGGCohomology(BGG, module)\n",
    "        subset_string = ''.join(str(s) for s in subset)\n",
    "        cohom.cohomology_LaTeX(complex_string=r'X_{'+subset_string+r'},\\wedge^{'+str(k)+'}T_X',print_modules=False)"
   ]
  },
  {
   "cell_type": "markdown",
   "metadata": {},
   "source": [
    "## B2 parabolic"
   ]
  },
  {
   "cell_type": "code",
   "execution_count": 15,
   "metadata": {},
   "outputs": [
    {
     "name": "stdout",
     "output_type": "stream",
     "text": [
      "dim of u is 4 for root system B2 and subset ()\n"
     ]
    },
    {
     "data": {
      "text/latex": [
       "$$\\mathrm b^{0}(X_{},\\wedge^{0}T_X)=1$$"
      ],
      "text/plain": [
       "<IPython.core.display.Math object>"
      ]
     },
     "metadata": {},
     "output_type": "display_data"
    },
    {
     "data": {
      "text/latex": [
       "$$\\mathrm b^{0}(X_{},\\wedge^{1}T_X)=10$$"
      ],
      "text/plain": [
       "<IPython.core.display.Math object>"
      ]
     },
     "metadata": {},
     "output_type": "display_data"
    },
    {
     "data": {
      "text/latex": [
       "$$\\mathrm b^{0}(X_{},\\wedge^{2}T_X)=50$$"
      ],
      "text/plain": [
       "<IPython.core.display.Math object>"
      ]
     },
     "metadata": {},
     "output_type": "display_data"
    },
    {
     "data": {
      "text/latex": [
       "$$\\mathrm b^{0}(X_{},\\wedge^{3}T_X)=114$$"
      ],
      "text/plain": [
       "<IPython.core.display.Math object>"
      ]
     },
     "metadata": {},
     "output_type": "display_data"
    },
    {
     "data": {
      "text/latex": [
       "$$\\mathrm b^{0}(X_{},\\wedge^{4}T_X)=81$$"
      ],
      "text/plain": [
       "<IPython.core.display.Math object>"
      ]
     },
     "metadata": {},
     "output_type": "display_data"
    },
    {
     "name": "stdout",
     "output_type": "stream",
     "text": [
      "dim of u is 3 for root system B2 and subset (1,)\n"
     ]
    },
    {
     "data": {
      "text/latex": [
       "$$\\mathrm b^{0}(X_{1},\\wedge^{0}T_X)=1$$"
      ],
      "text/plain": [
       "<IPython.core.display.Math object>"
      ]
     },
     "metadata": {},
     "output_type": "display_data"
    },
    {
     "data": {
      "text/latex": [
       "$$\\mathrm b^{0}(X_{1},\\wedge^{1}T_X)=15$$"
      ],
      "text/plain": [
       "<IPython.core.display.Math object>"
      ]
     },
     "metadata": {},
     "output_type": "display_data"
    },
    {
     "data": {
      "text/latex": [
       "$$\\mathrm b^{0}(X_{1},\\wedge^{2}T_X)=45$$"
      ],
      "text/plain": [
       "<IPython.core.display.Math object>"
      ]
     },
     "metadata": {},
     "output_type": "display_data"
    },
    {
     "data": {
      "text/latex": [
       "$$\\mathrm b^{0}(X_{1},\\wedge^{3}T_X)=35$$"
      ],
      "text/plain": [
       "<IPython.core.display.Math object>"
      ]
     },
     "metadata": {},
     "output_type": "display_data"
    },
    {
     "name": "stdout",
     "output_type": "stream",
     "text": [
      "dim of u is 3 for root system B2 and subset (2,)\n"
     ]
    },
    {
     "data": {
      "text/latex": [
       "$$\\mathrm b^{0}(X_{2},\\wedge^{0}T_X)=1$$"
      ],
      "text/plain": [
       "<IPython.core.display.Math object>"
      ]
     },
     "metadata": {},
     "output_type": "display_data"
    },
    {
     "data": {
      "text/latex": [
       "$$\\mathrm b^{0}(X_{2},\\wedge^{1}T_X)=10$$"
      ],
      "text/plain": [
       "<IPython.core.display.Math object>"
      ]
     },
     "metadata": {},
     "output_type": "display_data"
    },
    {
     "data": {
      "text/latex": [
       "$$\\mathrm b^{0}(X_{2},\\wedge^{2}T_X)=35$$"
      ],
      "text/plain": [
       "<IPython.core.display.Math object>"
      ]
     },
     "metadata": {},
     "output_type": "display_data"
    },
    {
     "data": {
      "text/latex": [
       "$$\\mathrm b^{0}(X_{2},\\wedge^{3}T_X)=30$$"
      ],
      "text/plain": [
       "<IPython.core.display.Math object>"
      ]
     },
     "metadata": {},
     "output_type": "display_data"
    }
   ],
   "source": [
    "from itertools import combinations, chain\n",
    "roots = [1,2]\n",
    "subsets = list(chain.from_iterable(combinations(roots,i) for i in range(len(roots))))\n",
    "d = 'B2'\n",
    "BGG = BGGComplex(d)\n",
    "for subset in subsets:\n",
    "    factory = FastModuleFactory(BGG.LA)\n",
    "    component_dic = {'u':factory.build_component('u','coad',subset=subset)}\n",
    "    u_dim = len(component_dic['u'].basis)\n",
    "    print('dim of u is %d for root system %s and subset %s' % (u_dim, d, subset))\n",
    "    for k in range(u_dim+1):\n",
    "        components = [[('u',k,'wedge')]]\n",
    "        module = FastLieAlgebraCompositeModule(factory,components,component_dic)\n",
    "\n",
    "        cohom = BGGCohomology(BGG, module)\n",
    "        subset_string = ''.join(str(s) for s in subset)\n",
    "        cohom.cohomology_LaTeX(complex_string=r'X_{'+subset_string+r'},\\wedge^{'+str(k)+'}T_X',print_modules=False)"
   ]
  },
  {
   "cell_type": "markdown",
   "metadata": {},
   "source": [
    "## B3 parabolic"
   ]
  },
  {
   "cell_type": "code",
   "execution_count": null,
   "metadata": {},
   "outputs": [
    {
     "name": "stdout",
     "output_type": "stream",
     "text": [
      "dim of u is 9 for root system B3 and subset ()\n"
     ]
    },
    {
     "data": {
      "text/latex": [
       "$$\\mathrm b^{0}(X_{},\\wedge^{0}T_X)=1$$"
      ],
      "text/plain": [
       "<IPython.core.display.Math object>"
      ]
     },
     "metadata": {},
     "output_type": "display_data"
    },
    {
     "data": {
      "text/latex": [
       "$$\\mathrm b^{0}(X_{},\\wedge^{1}T_X)=21$$"
      ],
      "text/plain": [
       "<IPython.core.display.Math object>"
      ]
     },
     "metadata": {},
     "output_type": "display_data"
    },
    {
     "data": {
      "text/latex": [
       "$$\\mathrm b^{0}(X_{},\\wedge^{2}T_X)=210$$"
      ],
      "text/plain": [
       "<IPython.core.display.Math object>"
      ]
     },
     "metadata": {},
     "output_type": "display_data"
    }
   ],
   "source": [
    "from itertools import combinations, chain\n",
    "roots = [1,2,3]\n",
    "subsets = list(chain.from_iterable(combinations(roots,i) for i in range(len(roots))))\n",
    "d = 'B3'\n",
    "BGG = BGGComplex(d)\n",
    "for subset in subsets:\n",
    "    factory = FastModuleFactory(BGG.LA)\n",
    "    component_dic = {'u':factory.build_component('u','coad',subset=subset)}\n",
    "    u_dim = len(component_dic['u'].basis)\n",
    "    print('dim of u is %d for root system %s and subset %s' % (u_dim, d, subset))\n",
    "    for k in range(u_dim+1):\n",
    "        components = [[('u',k,'wedge')]]\n",
    "        module = FastLieAlgebraCompositeModule(factory,components,component_dic)\n",
    "\n",
    "        cohom = BGGCohomology(BGG, module)\n",
    "        subset_string = ''.join(str(s) for s in subset)\n",
    "        cohom.cohomology_LaTeX(complex_string=r'X_{'+subset_string+r'},\\wedge^{'+str(k)+'}T_X',print_modules=False)"
   ]
  }
 ],
 "metadata": {
  "kernelspec": {
   "display_name": "SageMath 8.6",
   "language": "",
   "name": "sagemath"
  },
  "language_info": {
   "codemirror_mode": {
    "name": "ipython",
    "version": 2
   },
   "file_extension": ".py",
   "mimetype": "text/x-python",
   "name": "python",
   "nbconvert_exporter": "python",
   "pygments_lexer": "ipython2",
   "version": "2.7.15"
  }
 },
 "nbformat": 4,
 "nbformat_minor": 2
}
