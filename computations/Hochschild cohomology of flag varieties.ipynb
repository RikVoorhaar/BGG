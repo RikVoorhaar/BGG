{
 "cells": [
  {
   "cell_type": "code",
   "execution_count": 2,
   "metadata": {},
   "outputs": [],
   "source": [
    "from bggcohomology.bggcomplex import BGGComplex\n",
    "from bggcohomology.fast_module import FastLieAlgebraCompositeModule, FastModuleFactory, BGGCohomology\n",
    "from tqdm.auto import tqdm\n",
    "import numpy as np"
   ]
  },
  {
   "cell_type": "markdown",
   "metadata": {},
   "source": [
    "We will compute the Hochschild cohomology of flag varieties of different types. We will use the fact that \n",
    "$$H^i(X,\\wedge^j T_X) = H^i(BGG_\\bullet(\\wedge^j \\mathfrak u))$$\n",
    "Here we compute the Hochschild cohomology in the non-parabolic case for a number of diagrams."
   ]
  },
  {
   "cell_type": "code",
   "execution_count": 3,
   "metadata": {
    "scrolled": true
   },
   "outputs": [
    {
     "name": "stdout",
     "output_type": "stream",
     "text": [
      "dim of u is 3 for root system A2\n"
     ]
    },
    {
     "data": {
      "application/vnd.jupyter.widget-view+json": {
       "model_id": "82f1b9c240bb4cd9a6d7b77cc74d2d3b",
       "version_major": 2,
       "version_minor": 0
      },
      "text/plain": [
       "HBox(children=(FloatProgress(value=0.0, max=4.0), HTML(value='')))"
      ]
     },
     "metadata": {},
     "output_type": "display_data"
    },
    {
     "data": {
      "application/vnd.jupyter.widget-view+json": {
       "model_id": "a70aaa297608464982e9bf60735e40d2",
       "version_major": 2,
       "version_minor": 0
      },
      "text/plain": [
       "HBox(children=(FloatProgress(value=1.0, bar_style='info', max=1.0), HTML(value='')))"
      ]
     },
     "metadata": {},
     "output_type": "display_data"
    },
    {
     "data": {
      "application/vnd.jupyter.widget-view+json": {
       "model_id": "2b2a6a18b5e54bd88a831e6810c019da",
       "version_major": 2,
       "version_minor": 0
      },
      "text/plain": [
       "HBox(children=(FloatProgress(value=1.0, bar_style='info', max=1.0), HTML(value='')))"
      ]
     },
     "metadata": {},
     "output_type": "display_data"
    },
    {
     "data": {
      "text/latex": [
       "$$\\mathrm H^{0}(X_{A2},\\wedge^{0}T_X)=\\mathbb{C}$$"
      ],
      "text/plain": [
       "<IPython.core.display.Math object>"
      ]
     },
     "metadata": {},
     "output_type": "display_data"
    },
    {
     "data": {
      "text/latex": [
       "$$\\mathrm H^{0}(X_{A2},\\wedge^{1}T_X)=L\\left(\\alpha_{1}+\\alpha_{2}\\right)$$"
      ],
      "text/plain": [
       "<IPython.core.display.Math object>"
      ]
     },
     "metadata": {},
     "output_type": "display_data"
    },
    {
     "data": {
      "text/latex": [
       "$$\\mathrm H^{0}(X_{A2},\\wedge^{2}T_X)=L\\left(\\alpha_{1}+\\alpha_{2}\\right)\\oplus L\\left( 2\\alpha_{1}+\\alpha_{2}\\right)\\oplus L\\left(\\alpha_{1}+ 2\\alpha_{2}\\right)$$"
      ],
      "text/plain": [
       "<IPython.core.display.Math object>"
      ]
     },
     "metadata": {},
     "output_type": "display_data"
    },
    {
     "data": {
      "text/latex": [
       "$$\\mathrm H^{0}(X_{A2},\\wedge^{3}T_X)=L\\left( 2\\alpha_{1}+ 2\\alpha_{2}\\right)$$"
      ],
      "text/plain": [
       "<IPython.core.display.Math object>"
      ]
     },
     "metadata": {},
     "output_type": "display_data"
    },
    {
     "name": "stdout",
     "output_type": "stream",
     "text": [
      "dim of u is 6 for root system A3\n"
     ]
    },
    {
     "data": {
      "application/vnd.jupyter.widget-view+json": {
       "model_id": "0d5e2f5e8056403f9655b9721e67d470",
       "version_major": 2,
       "version_minor": 0
      },
      "text/plain": [
       "HBox(children=(FloatProgress(value=0.0, max=7.0), HTML(value='')))"
      ]
     },
     "metadata": {},
     "output_type": "display_data"
    },
    {
     "data": {
      "application/vnd.jupyter.widget-view+json": {
       "model_id": "4733a224065a4605b054593d9b39a7c2",
       "version_major": 2,
       "version_minor": 0
      },
      "text/plain": [
       "HBox(children=(FloatProgress(value=1.0, bar_style='info', max=1.0), HTML(value='')))"
      ]
     },
     "metadata": {},
     "output_type": "display_data"
    },
    {
     "data": {
      "application/vnd.jupyter.widget-view+json": {
       "model_id": "7c90be474fb144dda3614eba8272491f",
       "version_major": 2,
       "version_minor": 0
      },
      "text/plain": [
       "HBox(children=(FloatProgress(value=1.0, bar_style='info', max=1.0), HTML(value='')))"
      ]
     },
     "metadata": {},
     "output_type": "display_data"
    },
    {
     "data": {
      "text/latex": [
       "$$\\mathrm H^{0}(X_{A3},\\wedge^{0}T_X)=\\mathbb{C}$$"
      ],
      "text/plain": [
       "<IPython.core.display.Math object>"
      ]
     },
     "metadata": {},
     "output_type": "display_data"
    },
    {
     "data": {
      "text/latex": [
       "$$\\mathrm H^{0}(X_{A3},\\wedge^{1}T_X)=L\\left(\\alpha_{1}+\\alpha_{2}+\\alpha_{3}\\right)$$"
      ],
      "text/plain": [
       "<IPython.core.display.Math object>"
      ]
     },
     "metadata": {},
     "output_type": "display_data"
    },
    {
     "data": {
      "text/latex": [
       "$$\\mathrm H^{0}(X_{A3},\\wedge^{2}T_X)=L\\left(\\alpha_{1}+\\alpha_{2}+\\alpha_{3}\\right)\\oplus L\\left( 2\\alpha_{1}+ 2\\alpha_{2}+\\alpha_{3}\\right)\\oplus L\\left(\\alpha_{1}+ 2\\alpha_{2}+ 2\\alpha_{3}\\right)$$"
      ],
      "text/plain": [
       "<IPython.core.display.Math object>"
      ]
     },
     "metadata": {},
     "output_type": "display_data"
    },
    {
     "data": {
      "text/latex": [
       "$$\\mathrm H^{0}(X_{A3},\\wedge^{3}T_X)=L\\left(\\alpha_{1}+\\alpha_{2}+\\alpha_{3}\\right)\\oplus L\\left(\\alpha_{1}+ 2\\alpha_{2}+\\alpha_{3}\\right)^{2}\\oplus L\\left( 2\\alpha_{1}+ 2\\alpha_{2}+\\alpha_{3}\\right)\\oplus L\\left(\\alpha_{1}+ 2\\alpha_{2}+ 2\\alpha_{3}\\right)\\oplus L\\left( 3\\alpha_{1}+ 2\\alpha_{2}+\\alpha_{3}\\right)\\oplus L\\left( 2\\alpha_{1}+ 2\\alpha_{2}+ 2\\alpha_{3}\\right)\\oplus L\\left(\\alpha_{1}+ 2\\alpha_{2}+ 3\\alpha_{3}\\right)\\oplus L\\left( 2\\alpha_{1}+ 3\\alpha_{2}+ 2\\alpha_{3}\\right)$$"
      ],
      "text/plain": [
       "<IPython.core.display.Math object>"
      ]
     },
     "metadata": {},
     "output_type": "display_data"
    },
    {
     "data": {
      "text/latex": [
       "$$\\mathrm H^{0}(X_{A3},\\wedge^{4}T_X)=L\\left( 2\\alpha_{1}+ 2\\alpha_{2}+\\alpha_{3}\\right)\\oplus L\\left(\\alpha_{1}+ 2\\alpha_{2}+ 2\\alpha_{3}\\right)\\oplus L\\left( 2\\alpha_{1}+ 2\\alpha_{2}+ 2\\alpha_{3}\\right)^{2}\\oplus L\\left( 2\\alpha_{1}+ 3\\alpha_{2}+ 2\\alpha_{3}\\right)^{2}\\oplus L\\left( 3\\alpha_{1}+ 3\\alpha_{2}+ 2\\alpha_{3}\\right)\\oplus L\\left( 2\\alpha_{1}+ 4\\alpha_{2}+ 2\\alpha_{3}\\right)\\oplus L\\left( 2\\alpha_{1}+ 3\\alpha_{2}+ 3\\alpha_{3}\\right)$$"
      ],
      "text/plain": [
       "<IPython.core.display.Math object>"
      ]
     },
     "metadata": {},
     "output_type": "display_data"
    },
    {
     "data": {
      "text/latex": [
       "$$\\mathrm H^{0}(X_{A3},\\wedge^{5}T_X)=L\\left( 2\\alpha_{1}+ 3\\alpha_{2}+ 2\\alpha_{3}\\right)\\oplus L\\left( 3\\alpha_{1}+ 3\\alpha_{2}+ 2\\alpha_{3}\\right)\\oplus L\\left( 2\\alpha_{1}+ 3\\alpha_{2}+ 3\\alpha_{3}\\right)\\oplus L\\left( 3\\alpha_{1}+ 4\\alpha_{2}+ 2\\alpha_{3}\\right)\\oplus L\\left( 3\\alpha_{1}+ 3\\alpha_{2}+ 3\\alpha_{3}\\right)\\oplus L\\left( 2\\alpha_{1}+ 4\\alpha_{2}+ 3\\alpha_{3}\\right)$$"
      ],
      "text/plain": [
       "<IPython.core.display.Math object>"
      ]
     },
     "metadata": {},
     "output_type": "display_data"
    },
    {
     "data": {
      "text/latex": [
       "$$\\mathrm H^{0}(X_{A3},\\wedge^{6}T_X)=L\\left( 3\\alpha_{1}+ 4\\alpha_{2}+ 3\\alpha_{3}\\right)$$"
      ],
      "text/plain": [
       "<IPython.core.display.Math object>"
      ]
     },
     "metadata": {},
     "output_type": "display_data"
    },
    {
     "name": "stdout",
     "output_type": "stream",
     "text": [
      "dim of u is 6 for root system G2\n"
     ]
    },
    {
     "data": {
      "application/vnd.jupyter.widget-view+json": {
       "model_id": "bde2838a7c964e07b9e18d3068f33e48",
       "version_major": 2,
       "version_minor": 0
      },
      "text/plain": [
       "HBox(children=(FloatProgress(value=0.0, max=7.0), HTML(value='')))"
      ]
     },
     "metadata": {},
     "output_type": "display_data"
    },
    {
     "data": {
      "application/vnd.jupyter.widget-view+json": {
       "model_id": "bc633f34898d4145b90512741d5d31f5",
       "version_major": 2,
       "version_minor": 0
      },
      "text/plain": [
       "HBox(children=(FloatProgress(value=1.0, bar_style='info', max=1.0), HTML(value='')))"
      ]
     },
     "metadata": {},
     "output_type": "display_data"
    },
    {
     "data": {
      "application/vnd.jupyter.widget-view+json": {
       "model_id": "a0871f58a6e445df992b437d27075787",
       "version_major": 2,
       "version_minor": 0
      },
      "text/plain": [
       "HBox(children=(FloatProgress(value=1.0, bar_style='info', max=1.0), HTML(value='')))"
      ]
     },
     "metadata": {},
     "output_type": "display_data"
    },
    {
     "data": {
      "text/latex": [
       "$$\\mathrm H^{0}(X_{G2},\\wedge^{0}T_X)=\\mathbb{C}$$"
      ],
      "text/plain": [
       "<IPython.core.display.Math object>"
      ]
     },
     "metadata": {},
     "output_type": "display_data"
    },
    {
     "data": {
      "text/latex": [
       "$$\\mathrm H^{0}(X_{G2},\\wedge^{1}T_X)=L\\left( 3\\alpha_{1}+ 2\\alpha_{2}\\right)$$"
      ],
      "text/plain": [
       "<IPython.core.display.Math object>"
      ]
     },
     "metadata": {},
     "output_type": "display_data"
    },
    {
     "data": {
      "text/latex": [
       "$$\\mathrm H^{0}(X_{G2},\\wedge^{2}T_X)=L\\left( 2\\alpha_{1}+\\alpha_{2}\\right)\\oplus L\\left( 3\\alpha_{1}+ 2\\alpha_{2}\\right)\\oplus L\\left( 6\\alpha_{1}+ 3\\alpha_{2}\\right)$$"
      ],
      "text/plain": [
       "<IPython.core.display.Math object>"
      ]
     },
     "metadata": {},
     "output_type": "display_data"
    },
    {
     "data": {
      "text/latex": [
       "$$\\mathrm H^{0}(X_{G2},\\wedge^{3}T_X)=L\\left( 4\\alpha_{1}+ 2\\alpha_{2}\\right)^{2}\\oplus L\\left( 5\\alpha_{1}+ 3\\alpha_{2}\\right)\\oplus L\\left( 6\\alpha_{1}+ 3\\alpha_{2}\\right)\\oplus L\\left( 6\\alpha_{1}+ 4\\alpha_{2}\\right)\\oplus L\\left( 8\\alpha_{1}+ 4\\alpha_{2}\\right)$$"
      ],
      "text/plain": [
       "<IPython.core.display.Math object>"
      ]
     },
     "metadata": {},
     "output_type": "display_data"
    },
    {
     "data": {
      "text/latex": [
       "$$\\mathrm H^{0}(X_{G2},\\wedge^{4}T_X)=L\\left( 5\\alpha_{1}+ 3\\alpha_{2}\\right)\\oplus L\\left( 6\\alpha_{1}+ 3\\alpha_{2}\\right)\\oplus L\\left( 6\\alpha_{1}+ 4\\alpha_{2}\\right)\\oplus L\\left( 7\\alpha_{1}+ 4\\alpha_{2}\\right)^{2}\\oplus L\\left( 8\\alpha_{1}+ 4\\alpha_{2}\\right)\\oplus L\\left( 9\\alpha_{1}+ 5\\alpha_{2}\\right)$$"
      ],
      "text/plain": [
       "<IPython.core.display.Math object>"
      ]
     },
     "metadata": {},
     "output_type": "display_data"
    },
    {
     "data": {
      "text/latex": [
       "$$\\mathrm H^{0}(X_{G2},\\wedge^{5}T_X)=L\\left( 7\\alpha_{1}+ 4\\alpha_{2}\\right)\\oplus L\\left( 8\\alpha_{1}+ 5\\alpha_{2}\\right)\\oplus L\\left( 9\\alpha_{1}+ 5\\alpha_{2}\\right)\\oplus L\\left( 10\\alpha_{1}+ 5\\alpha_{2}\\right)\\oplus L\\left( 9\\alpha_{1}+ 6\\alpha_{2}\\right)$$"
      ],
      "text/plain": [
       "<IPython.core.display.Math object>"
      ]
     },
     "metadata": {},
     "output_type": "display_data"
    },
    {
     "data": {
      "text/latex": [
       "$$\\mathrm H^{0}(X_{G2},\\wedge^{6}T_X)=L\\left( 10\\alpha_{1}+ 6\\alpha_{2}\\right)$$"
      ],
      "text/plain": [
       "<IPython.core.display.Math object>"
      ]
     },
     "metadata": {},
     "output_type": "display_data"
    },
    {
     "name": "stdout",
     "output_type": "stream",
     "text": [
      "dim of u is 4 for root system B2\n"
     ]
    },
    {
     "data": {
      "application/vnd.jupyter.widget-view+json": {
       "model_id": "3d3876bf6aaf4c9e80134f3b36ed4f60",
       "version_major": 2,
       "version_minor": 0
      },
      "text/plain": [
       "HBox(children=(FloatProgress(value=0.0, max=5.0), HTML(value='')))"
      ]
     },
     "metadata": {},
     "output_type": "display_data"
    },
    {
     "data": {
      "application/vnd.jupyter.widget-view+json": {
       "model_id": "ee208bf8df6a43988e0a56b9aa104a53",
       "version_major": 2,
       "version_minor": 0
      },
      "text/plain": [
       "HBox(children=(FloatProgress(value=1.0, bar_style='info', max=1.0), HTML(value='')))"
      ]
     },
     "metadata": {},
     "output_type": "display_data"
    },
    {
     "data": {
      "application/vnd.jupyter.widget-view+json": {
       "model_id": "4b4db8036a4f4e039ff8b106af8e166f",
       "version_major": 2,
       "version_minor": 0
      },
      "text/plain": [
       "HBox(children=(FloatProgress(value=1.0, bar_style='info', max=1.0), HTML(value='')))"
      ]
     },
     "metadata": {},
     "output_type": "display_data"
    },
    {
     "data": {
      "text/latex": [
       "$$\\mathrm H^{0}(X_{B2},\\wedge^{0}T_X)=\\mathbb{C}$$"
      ],
      "text/plain": [
       "<IPython.core.display.Math object>"
      ]
     },
     "metadata": {},
     "output_type": "display_data"
    },
    {
     "data": {
      "text/latex": [
       "$$\\mathrm H^{0}(X_{B2},\\wedge^{1}T_X)=L\\left(\\alpha_{1}+ 2\\alpha_{2}\\right)$$"
      ],
      "text/plain": [
       "<IPython.core.display.Math object>"
      ]
     },
     "metadata": {},
     "output_type": "display_data"
    },
    {
     "data": {
      "text/latex": [
       "$$\\mathrm H^{0}(X_{B2},\\wedge^{2}T_X)=L\\left(\\alpha_{1}+\\alpha_{2}\\right)\\oplus L\\left(\\alpha_{1}+ 2\\alpha_{2}\\right)\\oplus L\\left( 2\\alpha_{1}+ 3\\alpha_{2}\\right)$$"
      ],
      "text/plain": [
       "<IPython.core.display.Math object>"
      ]
     },
     "metadata": {},
     "output_type": "display_data"
    },
    {
     "data": {
      "text/latex": [
       "$$\\mathrm H^{0}(X_{B2},\\wedge^{3}T_X)=L\\left( 2\\alpha_{1}+ 2\\alpha_{2}\\right)\\oplus L\\left( 2\\alpha_{1}+ 3\\alpha_{2}\\right)\\oplus L\\left( 3\\alpha_{1}+ 3\\alpha_{2}\\right)\\oplus L\\left( 2\\alpha_{1}+ 4\\alpha_{2}\\right)$$"
      ],
      "text/plain": [
       "<IPython.core.display.Math object>"
      ]
     },
     "metadata": {},
     "output_type": "display_data"
    },
    {
     "data": {
      "text/latex": [
       "$$\\mathrm H^{0}(X_{B2},\\wedge^{4}T_X)=L\\left( 3\\alpha_{1}+ 4\\alpha_{2}\\right)$$"
      ],
      "text/plain": [
       "<IPython.core.display.Math object>"
      ]
     },
     "metadata": {},
     "output_type": "display_data"
    },
    {
     "name": "stdout",
     "output_type": "stream",
     "text": [
      "\n",
      "\n",
      "\n",
      "\n",
      "\n",
      "\n",
      "\n",
      "\n",
      "\n",
      "dim of u is 10 for root system A4\n"
     ]
    },
    {
     "data": {
      "application/vnd.jupyter.widget-view+json": {
       "model_id": "4483131c48ef4d5da6e10148b758e315",
       "version_major": 2,
       "version_minor": 0
      },
      "text/plain": [
       "HBox(children=(FloatProgress(value=0.0, max=11.0), HTML(value='')))"
      ]
     },
     "metadata": {},
     "output_type": "display_data"
    },
    {
     "data": {
      "application/vnd.jupyter.widget-view+json": {
       "model_id": "2331e18537c6460ba032f80eacbb5940",
       "version_major": 2,
       "version_minor": 0
      },
      "text/plain": [
       "HBox(children=(FloatProgress(value=1.0, bar_style='info', max=1.0), HTML(value='')))"
      ]
     },
     "metadata": {},
     "output_type": "display_data"
    },
    {
     "data": {
      "application/vnd.jupyter.widget-view+json": {
       "model_id": "f017e13060874ef4bbf97597382b0f76",
       "version_major": 2,
       "version_minor": 0
      },
      "text/plain": [
       "HBox(children=(FloatProgress(value=1.0, bar_style='info', max=1.0), HTML(value='')))"
      ]
     },
     "metadata": {},
     "output_type": "display_data"
    },
    {
     "data": {
      "text/latex": [
       "$$\\mathrm H^{0}(X_{A4},\\wedge^{0}T_X)=\\mathbb{C}$$"
      ],
      "text/plain": [
       "<IPython.core.display.Math object>"
      ]
     },
     "metadata": {},
     "output_type": "display_data"
    },
    {
     "data": {
      "text/latex": [
       "$$\\mathrm H^{0}(X_{A4},\\wedge^{1}T_X)=L\\left(\\alpha_{1}+\\alpha_{2}+\\alpha_{3}+\\alpha_{4}\\right)$$"
      ],
      "text/plain": [
       "<IPython.core.display.Math object>"
      ]
     },
     "metadata": {},
     "output_type": "display_data"
    },
    {
     "data": {
      "text/latex": [
       "$$\\mathrm H^{0}(X_{A4},\\wedge^{2}T_X)=L\\left(\\alpha_{1}+\\alpha_{2}+\\alpha_{3}+\\alpha_{4}\\right)\\oplus L\\left( 2\\alpha_{1}+ 2\\alpha_{2}+ 2\\alpha_{3}+\\alpha_{4}\\right)\\oplus L\\left(\\alpha_{1}+ 2\\alpha_{2}+ 2\\alpha_{3}+ 2\\alpha_{4}\\right)$$"
      ],
      "text/plain": [
       "<IPython.core.display.Math object>"
      ]
     },
     "metadata": {},
     "output_type": "display_data"
    },
    {
     "data": {
      "text/latex": [
       "$$\\mathrm H^{0}(X_{A4},\\wedge^{3}T_X)=L\\left(\\alpha_{1}+\\alpha_{2}+\\alpha_{3}+\\alpha_{4}\\right)\\oplus L\\left(\\alpha_{1}+ 2\\alpha_{2}+ 2\\alpha_{3}+\\alpha_{4}\\right)\\oplus L\\left( 2\\alpha_{1}+ 2\\alpha_{2}+ 2\\alpha_{3}+\\alpha_{4}\\right)\\oplus L\\left(\\alpha_{1}+ 2\\alpha_{2}+ 2\\alpha_{3}+ 2\\alpha_{4}\\right)\\oplus L\\left( 2\\alpha_{1}+ 2\\alpha_{2}+ 2\\alpha_{3}+ 2\\alpha_{4}\\right)\\oplus L\\left( 3\\alpha_{1}+ 3\\alpha_{2}+ 2\\alpha_{3}+\\alpha_{4}\\right)\\oplus L\\left(\\alpha_{1}+ 2\\alpha_{2}+ 3\\alpha_{3}+ 3\\alpha_{4}\\right)\\oplus L\\left( 2\\alpha_{1}+ 3\\alpha_{2}+ 3\\alpha_{3}+ 2\\alpha_{4}\\right)$$"
      ],
      "text/plain": [
       "<IPython.core.display.Math object>"
      ]
     },
     "metadata": {},
     "output_type": "display_data"
    },
    {
     "data": {
      "text/latex": [
       "$$\\mathrm H^{0}(X_{A4},\\wedge^{4}T_X)=L\\left(\\alpha_{1}+\\alpha_{2}+\\alpha_{3}+\\alpha_{4}\\right)\\oplus L\\left(\\alpha_{1}+ 2\\alpha_{2}+ 2\\alpha_{3}+\\alpha_{4}\\right)^{3}\\oplus L\\left( 2\\alpha_{1}+ 2\\alpha_{2}+ 2\\alpha_{3}+\\alpha_{4}\\right)\\oplus L\\left(\\alpha_{1}+ 2\\alpha_{2}+ 2\\alpha_{3}+ 2\\alpha_{4}\\right)\\oplus L\\left( 2\\alpha_{1}+ 3\\alpha_{2}+ 2\\alpha_{3}+\\alpha_{4}\\right)^{2}\\oplus L\\left( 2\\alpha_{1}+ 2\\alpha_{2}+ 2\\alpha_{3}+ 2\\alpha_{4}\\right)^{2}\\oplus L\\left(\\alpha_{1}+ 2\\alpha_{2}+ 3\\alpha_{3}+ 2\\alpha_{4}\\right)^{2}\\oplus L\\left( 3\\alpha_{1}+ 3\\alpha_{2}+ 2\\alpha_{3}+\\alpha_{4}\\right)\\oplus L\\left(\\alpha_{1}+ 2\\alpha_{2}+ 3\\alpha_{3}+ 3\\alpha_{4}\\right)\\oplus L\\left( 4\\alpha_{1}+ 3\\alpha_{2}+ 2\\alpha_{3}+\\alpha_{4}\\right)\\oplus L\\left( 2\\alpha_{1}+ 3\\alpha_{2}+ 3\\alpha_{3}+ 2\\alpha_{4}\\right)^{2}\\oplus L\\left(\\alpha_{1}+ 2\\alpha_{2}+ 3\\alpha_{3}+ 4\\alpha_{4}\\right)\\oplus L\\left( 3\\alpha_{1}+ 3\\alpha_{2}+ 3\\alpha_{3}+ 2\\alpha_{4}\\right)\\oplus L\\left( 2\\alpha_{1}+ 3\\alpha_{2}+ 3\\alpha_{3}+ 3\\alpha_{4}\\right)\\oplus L\\left( 3\\alpha_{1}+ 4\\alpha_{2}+ 3\\alpha_{3}+ 2\\alpha_{4}\\right)\\oplus L\\left( 2\\alpha_{1}+ 4\\alpha_{2}+ 4\\alpha_{3}+ 2\\alpha_{4}\\right)\\oplus L\\left( 2\\alpha_{1}+ 3\\alpha_{2}+ 4\\alpha_{3}+ 3\\alpha_{4}\\right)$$"
      ],
      "text/plain": [
       "<IPython.core.display.Math object>"
      ]
     },
     "metadata": {},
     "output_type": "display_data"
    },
    {
     "name": "stdout",
     "output_type": "stream",
     "text": [
      "\n",
      "\n",
      "\n"
     ]
    },
    {
     "data": {
      "text/latex": [
       "$$\\mathrm H^{0}(X_{A4},\\wedge^{5}T_X)=L\\left(\\alpha_{1}+ 2\\alpha_{2}+ 2\\alpha_{3}+\\alpha_{4}\\right)\\oplus L\\left( 2\\alpha_{1}+ 2\\alpha_{2}+ 2\\alpha_{3}+\\alpha_{4}\\right)^{3}\\oplus L\\left(\\alpha_{1}+ 2\\alpha_{2}+ 2\\alpha_{3}+ 2\\alpha_{4}\\right)^{3}\\oplus L\\left( 2\\alpha_{1}+ 3\\alpha_{2}+ 2\\alpha_{3}+\\alpha_{4}\\right)^{2}\\oplus L\\left( 2\\alpha_{1}+ 2\\alpha_{2}+ 2\\alpha_{3}+ 2\\alpha_{4}\\right)^{2}\\oplus L\\left(\\alpha_{1}+ 2\\alpha_{2}+ 3\\alpha_{3}+ 2\\alpha_{4}\\right)^{2}\\oplus L\\left( 3\\alpha_{1}+ 3\\alpha_{2}+ 2\\alpha_{3}+\\alpha_{4}\\right)\\oplus L\\left(\\alpha_{1}+ 2\\alpha_{2}+ 3\\alpha_{3}+ 3\\alpha_{4}\\right)\\oplus L\\left( 2\\alpha_{1}+ 3\\alpha_{2}+ 3\\alpha_{3}+ 2\\alpha_{4}\\right)^{6}\\oplus L\\left( 3\\alpha_{1}+ 3\\alpha_{2}+ 3\\alpha_{3}+ 2\\alpha_{4}\\right)^{2}\\oplus L\\left( 2\\alpha_{1}+ 4\\alpha_{2}+ 3\\alpha_{3}+ 2\\alpha_{4}\\right)^{2}\\oplus L\\left( 2\\alpha_{1}+ 3\\alpha_{2}+ 4\\alpha_{3}+ 2\\alpha_{4}\\right)^{2}\\oplus L\\left( 2\\alpha_{1}+ 3\\alpha_{2}+ 3\\alpha_{3}+ 3\\alpha_{4}\\right)^{2}\\oplus L\\left( 3\\alpha_{1}+ 4\\alpha_{2}+ 3\\alpha_{3}+ 2\\alpha_{4}\\right)^{2}\\oplus L\\left( 2\\alpha_{1}+ 4\\alpha_{2}+ 4\\alpha_{3}+ 2\\alpha_{4}\\right)\\oplus L\\left( 3\\alpha_{1}+ 3\\alpha_{2}+ 3\\alpha_{3}+ 3\\alpha_{4}\\right)\\oplus L\\left( 2\\alpha_{1}+ 3\\alpha_{2}+ 4\\alpha_{3}+ 3\\alpha_{4}\\right)^{2}\\oplus L\\left( 4\\alpha_{1}+ 4\\alpha_{2}+ 3\\alpha_{3}+ 2\\alpha_{4}\\right)\\oplus L\\left( 3\\alpha_{1}+ 4\\alpha_{2}+ 4\\alpha_{3}+ 2\\alpha_{4}\\right)\\oplus L\\left( 2\\alpha_{1}+ 4\\alpha_{2}+ 4\\alpha_{3}+ 3\\alpha_{4}\\right)\\oplus L\\left( 2\\alpha_{1}+ 3\\alpha_{2}+ 4\\alpha_{3}+ 4\\alpha_{4}\\right)\\oplus L\\left( 3\\alpha_{1}+ 5\\alpha_{2}+ 4\\alpha_{3}+ 2\\alpha_{4}\\right)\\oplus L\\left( 3\\alpha_{1}+ 4\\alpha_{2}+ 4\\alpha_{3}+ 3\\alpha_{4}\\right)\\oplus L\\left( 2\\alpha_{1}+ 4\\alpha_{2}+ 5\\alpha_{3}+ 3\\alpha_{4}\\right)$$"
      ],
      "text/plain": [
       "<IPython.core.display.Math object>"
      ]
     },
     "metadata": {},
     "output_type": "display_data"
    },
    {
     "data": {
      "text/latex": [
       "$$\\mathrm H^{0}(X_{A4},\\wedge^{6}T_X)=L\\left( 2\\alpha_{1}+ 3\\alpha_{2}+ 2\\alpha_{3}+\\alpha_{4}\\right)\\oplus L\\left( 2\\alpha_{1}+ 2\\alpha_{2}+ 2\\alpha_{3}+ 2\\alpha_{4}\\right)\\oplus L\\left(\\alpha_{1}+ 2\\alpha_{2}+ 3\\alpha_{3}+ 2\\alpha_{4}\\right)\\oplus L\\left( 3\\alpha_{1}+ 3\\alpha_{2}+ 2\\alpha_{3}+\\alpha_{4}\\right)\\oplus L\\left(\\alpha_{1}+ 2\\alpha_{2}+ 3\\alpha_{3}+ 3\\alpha_{4}\\right)\\oplus L\\left( 2\\alpha_{1}+ 3\\alpha_{2}+ 3\\alpha_{3}+ 2\\alpha_{4}\\right)^{6}\\oplus L\\left( 3\\alpha_{1}+ 3\\alpha_{2}+ 3\\alpha_{3}+ 2\\alpha_{4}\\right)^{4}\\oplus L\\left( 2\\alpha_{1}+ 4\\alpha_{2}+ 3\\alpha_{3}+ 2\\alpha_{4}\\right)^{3}\\oplus L\\left( 2\\alpha_{1}+ 3\\alpha_{2}+ 4\\alpha_{3}+ 2\\alpha_{4}\\right)^{3}\\oplus L\\left( 2\\alpha_{1}+ 3\\alpha_{2}+ 3\\alpha_{3}+ 3\\alpha_{4}\\right)^{4}\\oplus L\\left( 3\\alpha_{1}+ 4\\alpha_{2}+ 3\\alpha_{3}+ 2\\alpha_{4}\\right)^{3}\\oplus L\\left( 2\\alpha_{1}+ 4\\alpha_{2}+ 4\\alpha_{3}+ 2\\alpha_{4}\\right)^{2}\\oplus L\\left( 3\\alpha_{1}+ 3\\alpha_{2}+ 3\\alpha_{3}+ 3\\alpha_{4}\\right)^{2}\\oplus L\\left( 2\\alpha_{1}+ 3\\alpha_{2}+ 4\\alpha_{3}+ 3\\alpha_{4}\\right)^{3}\\oplus L\\left( 4\\alpha_{1}+ 4\\alpha_{2}+ 3\\alpha_{3}+ 2\\alpha_{4}\\right)\\oplus L\\left( 3\\alpha_{1}+ 4\\alpha_{2}+ 4\\alpha_{3}+ 2\\alpha_{4}\\right)^{4}\\oplus L\\left( 2\\alpha_{1}+ 4\\alpha_{2}+ 4\\alpha_{3}+ 3\\alpha_{4}\\right)^{4}\\oplus L\\left( 2\\alpha_{1}+ 3\\alpha_{2}+ 4\\alpha_{3}+ 4\\alpha_{4}\\right)\\oplus L\\left( 3\\alpha_{1}+ 5\\alpha_{2}+ 4\\alpha_{3}+ 2\\alpha_{4}\\right)^{2}\\oplus L\\left( 3\\alpha_{1}+ 4\\alpha_{2}+ 4\\alpha_{3}+ 3\\alpha_{4}\\right)^{3}\\oplus L\\left( 2\\alpha_{1}+ 4\\alpha_{2}+ 5\\alpha_{3}+ 3\\alpha_{4}\\right)^{2}\\oplus L\\left( 4\\alpha_{1}+ 5\\alpha_{2}+ 4\\alpha_{3}+ 2\\alpha_{4}\\right)\\oplus L\\left( 3\\alpha_{1}+ 6\\alpha_{2}+ 4\\alpha_{3}+ 2\\alpha_{4}\\right)\\oplus L\\left( 4\\alpha_{1}+ 4\\alpha_{2}+ 4\\alpha_{3}+ 3\\alpha_{4}\\right)\\oplus L\\left( 3\\alpha_{1}+ 5\\alpha_{2}+ 4\\alpha_{3}+ 3\\alpha_{4}\\right)\\oplus L\\left( 3\\alpha_{1}+ 4\\alpha_{2}+ 5\\alpha_{3}+ 3\\alpha_{4}\\right)\\oplus L\\left( 2\\alpha_{1}+ 4\\alpha_{2}+ 6\\alpha_{3}+ 3\\alpha_{4}\\right)\\oplus L\\left( 3\\alpha_{1}+ 4\\alpha_{2}+ 4\\alpha_{3}+ 4\\alpha_{4}\\right)\\oplus L\\left( 2\\alpha_{1}+ 4\\alpha_{2}+ 5\\alpha_{3}+ 4\\alpha_{4}\\right)\\oplus L\\left( 3\\alpha_{1}+ 5\\alpha_{2}+ 5\\alpha_{3}+ 3\\alpha_{4}\\right)$$"
      ],
      "text/plain": [
       "<IPython.core.display.Math object>"
      ]
     },
     "metadata": {},
     "output_type": "display_data"
    },
    {
     "data": {
      "text/latex": [
       "$$\\mathrm H^{0}(X_{A4},\\wedge^{7}T_X)=L\\left( 2\\alpha_{1}+ 3\\alpha_{2}+ 3\\alpha_{3}+ 2\\alpha_{4}\\right)\\oplus L\\left( 3\\alpha_{1}+ 3\\alpha_{2}+ 3\\alpha_{3}+ 2\\alpha_{4}\\right)\\oplus L\\left( 2\\alpha_{1}+ 4\\alpha_{2}+ 3\\alpha_{3}+ 2\\alpha_{4}\\right)\\oplus L\\left( 2\\alpha_{1}+ 3\\alpha_{2}+ 4\\alpha_{3}+ 2\\alpha_{4}\\right)\\oplus L\\left( 2\\alpha_{1}+ 3\\alpha_{2}+ 3\\alpha_{3}+ 3\\alpha_{4}\\right)\\oplus L\\left( 3\\alpha_{1}+ 4\\alpha_{2}+ 3\\alpha_{3}+ 2\\alpha_{4}\\right)^{3}\\oplus L\\left( 2\\alpha_{1}+ 4\\alpha_{2}+ 4\\alpha_{3}+ 2\\alpha_{4}\\right)^{3}\\oplus L\\left( 3\\alpha_{1}+ 3\\alpha_{2}+ 3\\alpha_{3}+ 3\\alpha_{4}\\right)\\oplus L\\left( 2\\alpha_{1}+ 3\\alpha_{2}+ 4\\alpha_{3}+ 3\\alpha_{4}\\right)^{3}\\oplus L\\left( 4\\alpha_{1}+ 4\\alpha_{2}+ 3\\alpha_{3}+ 2\\alpha_{4}\\right)\\oplus L\\left( 3\\alpha_{1}+ 4\\alpha_{2}+ 4\\alpha_{3}+ 2\\alpha_{4}\\right)^{3}\\oplus L\\left( 2\\alpha_{1}+ 4\\alpha_{2}+ 4\\alpha_{3}+ 3\\alpha_{4}\\right)^{3}\\oplus L\\left( 2\\alpha_{1}+ 3\\alpha_{2}+ 4\\alpha_{3}+ 4\\alpha_{4}\\right)\\oplus L\\left( 4\\alpha_{1}+ 4\\alpha_{2}+ 4\\alpha_{3}+ 2\\alpha_{4}\\right)^{2}\\oplus L\\left( 3\\alpha_{1}+ 5\\alpha_{2}+ 4\\alpha_{3}+ 2\\alpha_{4}\\right)^{2}\\oplus L\\left( 3\\alpha_{1}+ 4\\alpha_{2}+ 4\\alpha_{3}+ 3\\alpha_{4}\\right)^{6}\\oplus L\\left( 2\\alpha_{1}+ 4\\alpha_{2}+ 5\\alpha_{3}+ 3\\alpha_{4}\\right)^{2}\\oplus L\\left( 2\\alpha_{1}+ 4\\alpha_{2}+ 4\\alpha_{3}+ 4\\alpha_{4}\\right)^{2}\\oplus L\\left( 4\\alpha_{1}+ 5\\alpha_{2}+ 4\\alpha_{3}+ 2\\alpha_{4}\\right)\\oplus L\\left( 4\\alpha_{1}+ 4\\alpha_{2}+ 4\\alpha_{3}+ 3\\alpha_{4}\\right)\\oplus L\\left( 3\\alpha_{1}+ 5\\alpha_{2}+ 4\\alpha_{3}+ 3\\alpha_{4}\\right)^{3}\\oplus L\\left( 3\\alpha_{1}+ 4\\alpha_{2}+ 5\\alpha_{3}+ 3\\alpha_{4}\\right)^{3}\\oplus L\\left( 3\\alpha_{1}+ 4\\alpha_{2}+ 4\\alpha_{3}+ 4\\alpha_{4}\\right)\\oplus L\\left( 2\\alpha_{1}+ 4\\alpha_{2}+ 5\\alpha_{3}+ 4\\alpha_{4}\\right)\\oplus L\\left( 4\\alpha_{1}+ 6\\alpha_{2}+ 4\\alpha_{3}+ 2\\alpha_{4}\\right)\\oplus L\\left( 4\\alpha_{1}+ 5\\alpha_{2}+ 4\\alpha_{3}+ 3\\alpha_{4}\\right)\\oplus L\\left( 3\\alpha_{1}+ 5\\alpha_{2}+ 5\\alpha_{3}+ 3\\alpha_{4}\\right)^{3}\\oplus L\\left( 4\\alpha_{1}+ 4\\alpha_{2}+ 4\\alpha_{3}+ 4\\alpha_{4}\\right)\\oplus L\\left( 3\\alpha_{1}+ 4\\alpha_{2}+ 5\\alpha_{3}+ 4\\alpha_{4}\\right)\\oplus L\\left( 2\\alpha_{1}+ 4\\alpha_{2}+ 6\\alpha_{3}+ 4\\alpha_{4}\\right)\\oplus L\\left( 4\\alpha_{1}+ 5\\alpha_{2}+ 5\\alpha_{3}+ 3\\alpha_{4}\\right)\\oplus L\\left( 3\\alpha_{1}+ 6\\alpha_{2}+ 5\\alpha_{3}+ 3\\alpha_{4}\\right)\\oplus L\\left( 3\\alpha_{1}+ 5\\alpha_{2}+ 6\\alpha_{3}+ 3\\alpha_{4}\\right)\\oplus L\\left( 3\\alpha_{1}+ 5\\alpha_{2}+ 5\\alpha_{3}+ 4\\alpha_{4}\\right)$$"
      ],
      "text/plain": [
       "<IPython.core.display.Math object>"
      ]
     },
     "metadata": {},
     "output_type": "display_data"
    },
    {
     "data": {
      "text/latex": [
       "$$\\mathrm H^{0}(X_{A4},\\wedge^{8}T_X)=L\\left( 3\\alpha_{1}+ 4\\alpha_{2}+ 4\\alpha_{3}+ 2\\alpha_{4}\\right)\\oplus L\\left( 2\\alpha_{1}+ 4\\alpha_{2}+ 4\\alpha_{3}+ 3\\alpha_{4}\\right)\\oplus L\\left( 3\\alpha_{1}+ 5\\alpha_{2}+ 4\\alpha_{3}+ 2\\alpha_{4}\\right)\\oplus L\\left( 3\\alpha_{1}+ 4\\alpha_{2}+ 4\\alpha_{3}+ 3\\alpha_{4}\\right)^{2}\\oplus L\\left( 2\\alpha_{1}+ 4\\alpha_{2}+ 5\\alpha_{3}+ 3\\alpha_{4}\\right)\\oplus L\\left( 4\\alpha_{1}+ 5\\alpha_{2}+ 4\\alpha_{3}+ 2\\alpha_{4}\\right)\\oplus L\\left( 4\\alpha_{1}+ 4\\alpha_{2}+ 4\\alpha_{3}+ 3\\alpha_{4}\\right)\\oplus L\\left( 3\\alpha_{1}+ 5\\alpha_{2}+ 4\\alpha_{3}+ 3\\alpha_{4}\\right)^{2}\\oplus L\\left( 3\\alpha_{1}+ 4\\alpha_{2}+ 5\\alpha_{3}+ 3\\alpha_{4}\\right)^{2}\\oplus L\\left( 3\\alpha_{1}+ 4\\alpha_{2}+ 4\\alpha_{3}+ 4\\alpha_{4}\\right)\\oplus L\\left( 2\\alpha_{1}+ 4\\alpha_{2}+ 5\\alpha_{3}+ 4\\alpha_{4}\\right)\\oplus L\\left( 4\\alpha_{1}+ 5\\alpha_{2}+ 4\\alpha_{3}+ 3\\alpha_{4}\\right)^{2}\\oplus L\\left( 3\\alpha_{1}+ 5\\alpha_{2}+ 5\\alpha_{3}+ 3\\alpha_{4}\\right)^{3}\\oplus L\\left( 3\\alpha_{1}+ 4\\alpha_{2}+ 5\\alpha_{3}+ 4\\alpha_{4}\\right)^{2}\\oplus L\\left( 4\\alpha_{1}+ 5\\alpha_{2}+ 5\\alpha_{3}+ 3\\alpha_{4}\\right)^{2}\\oplus L\\left( 3\\alpha_{1}+ 6\\alpha_{2}+ 5\\alpha_{3}+ 3\\alpha_{4}\\right)\\oplus L\\left( 3\\alpha_{1}+ 5\\alpha_{2}+ 6\\alpha_{3}+ 3\\alpha_{4}\\right)\\oplus L\\left( 3\\alpha_{1}+ 5\\alpha_{2}+ 5\\alpha_{3}+ 4\\alpha_{4}\\right)^{2}\\oplus L\\left( 4\\alpha_{1}+ 6\\alpha_{2}+ 5\\alpha_{3}+ 3\\alpha_{4}\\right)\\oplus L\\left( 4\\alpha_{1}+ 5\\alpha_{2}+ 6\\alpha_{3}+ 3\\alpha_{4}\\right)\\oplus L\\left( 3\\alpha_{1}+ 6\\alpha_{2}+ 6\\alpha_{3}+ 3\\alpha_{4}\\right)\\oplus L\\left( 4\\alpha_{1}+ 5\\alpha_{2}+ 5\\alpha_{3}+ 4\\alpha_{4}\\right)\\oplus L\\left( 3\\alpha_{1}+ 6\\alpha_{2}+ 5\\alpha_{3}+ 4\\alpha_{4}\\right)\\oplus L\\left( 3\\alpha_{1}+ 5\\alpha_{2}+ 6\\alpha_{3}+ 4\\alpha_{4}\\right)$$"
      ],
      "text/plain": [
       "<IPython.core.display.Math object>"
      ]
     },
     "metadata": {},
     "output_type": "display_data"
    },
    {
     "data": {
      "text/latex": [
       "$$\\mathrm H^{0}(X_{A4},\\wedge^{9}T_X)=L\\left( 3\\alpha_{1}+ 5\\alpha_{2}+ 5\\alpha_{3}+ 3\\alpha_{4}\\right)\\oplus L\\left( 4\\alpha_{1}+ 5\\alpha_{2}+ 5\\alpha_{3}+ 3\\alpha_{4}\\right)\\oplus L\\left( 3\\alpha_{1}+ 5\\alpha_{2}+ 5\\alpha_{3}+ 4\\alpha_{4}\\right)\\oplus L\\left( 4\\alpha_{1}+ 6\\alpha_{2}+ 5\\alpha_{3}+ 3\\alpha_{4}\\right)\\oplus L\\left( 4\\alpha_{1}+ 5\\alpha_{2}+ 5\\alpha_{3}+ 4\\alpha_{4}\\right)\\oplus L\\left( 3\\alpha_{1}+ 5\\alpha_{2}+ 6\\alpha_{3}+ 4\\alpha_{4}\\right)\\oplus L\\left( 4\\alpha_{1}+ 6\\alpha_{2}+ 6\\alpha_{3}+ 3\\alpha_{4}\\right)\\oplus L\\left( 4\\alpha_{1}+ 6\\alpha_{2}+ 5\\alpha_{3}+ 4\\alpha_{4}\\right)\\oplus L\\left( 4\\alpha_{1}+ 5\\alpha_{2}+ 6\\alpha_{3}+ 4\\alpha_{4}\\right)\\oplus L\\left( 3\\alpha_{1}+ 6\\alpha_{2}+ 6\\alpha_{3}+ 4\\alpha_{4}\\right)$$"
      ],
      "text/plain": [
       "<IPython.core.display.Math object>"
      ]
     },
     "metadata": {},
     "output_type": "display_data"
    },
    {
     "data": {
      "text/latex": [
       "$$\\mathrm H^{0}(X_{A4},\\wedge^{10}T_X)=L\\left( 4\\alpha_{1}+ 6\\alpha_{2}+ 6\\alpha_{3}+ 4\\alpha_{4}\\right)$$"
      ],
      "text/plain": [
       "<IPython.core.display.Math object>"
      ]
     },
     "metadata": {},
     "output_type": "display_data"
    },
    {
     "name": "stdout",
     "output_type": "stream",
     "text": [
      "dim of u is 9 for root system B3\n"
     ]
    },
    {
     "data": {
      "application/vnd.jupyter.widget-view+json": {
       "model_id": "6c5dd01afc9c4e4a9a9f48bba7fb0095",
       "version_major": 2,
       "version_minor": 0
      },
      "text/plain": [
       "HBox(children=(FloatProgress(value=0.0, max=10.0), HTML(value='')))"
      ]
     },
     "metadata": {},
     "output_type": "display_data"
    },
    {
     "data": {
      "application/vnd.jupyter.widget-view+json": {
       "model_id": "e2ef37ba721741bcbfbc88ebc6711e0c",
       "version_major": 2,
       "version_minor": 0
      },
      "text/plain": [
       "HBox(children=(FloatProgress(value=1.0, bar_style='info', max=1.0), HTML(value='')))"
      ]
     },
     "metadata": {},
     "output_type": "display_data"
    },
    {
     "data": {
      "application/vnd.jupyter.widget-view+json": {
       "model_id": "8aafff447003453c88cc846c61f9267c",
       "version_major": 2,
       "version_minor": 0
      },
      "text/plain": [
       "HBox(children=(FloatProgress(value=1.0, bar_style='info', max=1.0), HTML(value='')))"
      ]
     },
     "metadata": {},
     "output_type": "display_data"
    },
    {
     "data": {
      "text/latex": [
       "$$\\mathrm H^{0}(X_{B3},\\wedge^{0}T_X)=\\mathbb{C}$$"
      ],
      "text/plain": [
       "<IPython.core.display.Math object>"
      ]
     },
     "metadata": {},
     "output_type": "display_data"
    },
    {
     "data": {
      "text/latex": [
       "$$\\mathrm H^{0}(X_{B3},\\wedge^{1}T_X)=L\\left(\\alpha_{1}+ 2\\alpha_{2}+ 2\\alpha_{3}\\right)$$"
      ],
      "text/plain": [
       "<IPython.core.display.Math object>"
      ]
     },
     "metadata": {},
     "output_type": "display_data"
    },
    {
     "data": {
      "text/latex": [
       "$$\\mathrm H^{0}(X_{B3},\\wedge^{2}T_X)=L\\left(\\alpha_{1}+ 2\\alpha_{2}+ 2\\alpha_{3}\\right)\\oplus L\\left( 2\\alpha_{1}+ 3\\alpha_{2}+ 4\\alpha_{3}\\right)$$"
      ],
      "text/plain": [
       "<IPython.core.display.Math object>"
      ]
     },
     "metadata": {},
     "output_type": "display_data"
    },
    {
     "data": {
      "text/latex": [
       "$$\\mathrm H^{0}(X_{B3},\\wedge^{3}T_X)=L\\left(\\alpha_{1}+\\alpha_{2}+\\alpha_{3}\\right)\\oplus L\\left( 2\\alpha_{1}+ 2\\alpha_{2}+ 2\\alpha_{3}\\right)\\oplus L\\left(\\alpha_{1}+ 2\\alpha_{2}+ 3\\alpha_{3}\\right)^{2}\\oplus L\\left( 2\\alpha_{1}+ 3\\alpha_{2}+ 4\\alpha_{3}\\right)\\oplus L\\left( 2\\alpha_{1}+ 4\\alpha_{2}+ 4\\alpha_{3}\\right)\\oplus L\\left( 3\\alpha_{1}+ 4\\alpha_{2}+ 5\\alpha_{3}\\right)\\oplus L\\left( 2\\alpha_{1}+ 4\\alpha_{2}+ 6\\alpha_{3}\\right)$$"
      ],
      "text/plain": [
       "<IPython.core.display.Math object>"
      ]
     },
     "metadata": {},
     "output_type": "display_data"
    },
    {
     "data": {
      "text/latex": [
       "$$\\mathrm H^{0}(X_{B3},\\wedge^{4}T_X)=L\\left(\\alpha_{1}+ 2\\alpha_{2}+ 2\\alpha_{3}\\right)\\oplus L\\left( 2\\alpha_{1}+ 2\\alpha_{2}+ 2\\alpha_{3}\\right)\\oplus L\\left(\\alpha_{1}+ 2\\alpha_{2}+ 3\\alpha_{3}\\right)\\oplus L\\left( 2\\alpha_{1}+ 3\\alpha_{2}+ 3\\alpha_{3}\\right)^{3}\\oplus L\\left( 3\\alpha_{1}+ 3\\alpha_{2}+ 3\\alpha_{3}\\right)\\oplus L\\left( 2\\alpha_{1}+ 3\\alpha_{2}+ 4\\alpha_{3}\\right)^{2}\\oplus L\\left( 2\\alpha_{1}+ 4\\alpha_{2}+ 4\\alpha_{3}\\right)\\oplus L\\left( 3\\alpha_{1}+ 4\\alpha_{2}+ 4\\alpha_{3}\\right)\\oplus L\\left( 2\\alpha_{1}+ 4\\alpha_{2}+ 5\\alpha_{3}\\right)^{2}\\oplus L\\left( 3\\alpha_{1}+ 4\\alpha_{2}+ 5\\alpha_{3}\\right)\\oplus L\\left( 2\\alpha_{1}+ 4\\alpha_{2}+ 6\\alpha_{3}\\right)\\oplus L\\left( 4\\alpha_{1}+ 5\\alpha_{2}+ 5\\alpha_{3}\\right)\\oplus L\\left( 3\\alpha_{1}+ 5\\alpha_{2}+ 6\\alpha_{3}\\right)\\oplus L\\left( 3\\alpha_{1}+ 5\\alpha_{2}+ 7\\alpha_{3}\\right)$$"
      ],
      "text/plain": [
       "<IPython.core.display.Math object>"
      ]
     },
     "metadata": {},
     "output_type": "display_data"
    },
    {
     "data": {
      "text/latex": [
       "$$\\mathrm H^{0}(X_{B3},\\wedge^{5}T_X)=L\\left( 2\\alpha_{1}+ 3\\alpha_{2}+ 3\\alpha_{3}\\right)\\oplus L\\left( 3\\alpha_{1}+ 3\\alpha_{2}+ 3\\alpha_{3}\\right)\\oplus L\\left( 2\\alpha_{1}+ 3\\alpha_{2}+ 4\\alpha_{3}\\right)^{3}\\oplus L\\left( 2\\alpha_{1}+ 4\\alpha_{2}+ 4\\alpha_{3}\\right)\\oplus L\\left( 3\\alpha_{1}+ 4\\alpha_{2}+ 4\\alpha_{3}\\right)^{3}\\oplus L\\left( 2\\alpha_{1}+ 4\\alpha_{2}+ 5\\alpha_{3}\\right)^{4}\\oplus L\\left( 3\\alpha_{1}+ 4\\alpha_{2}+ 5\\alpha_{3}\\right)^{3}\\oplus L\\left( 2\\alpha_{1}+ 4\\alpha_{2}+ 6\\alpha_{3}\\right)\\oplus L\\left( 3\\alpha_{1}+ 5\\alpha_{2}+ 5\\alpha_{3}\\right)^{2}\\oplus L\\left( 4\\alpha_{1}+ 5\\alpha_{2}+ 5\\alpha_{3}\\right)\\oplus L\\left( 3\\alpha_{1}+ 5\\alpha_{2}+ 6\\alpha_{3}\\right)^{3}\\oplus L\\left( 5\\alpha_{1}+ 5\\alpha_{2}+ 5\\alpha_{3}\\right)\\oplus L\\left( 4\\alpha_{1}+ 5\\alpha_{2}+ 6\\alpha_{3}\\right)\\oplus L\\left( 3\\alpha_{1}+ 6\\alpha_{2}+ 6\\alpha_{3}\\right)\\oplus L\\left( 3\\alpha_{1}+ 5\\alpha_{2}+ 7\\alpha_{3}\\right)^{2}\\oplus L\\left( 4\\alpha_{1}+ 6\\alpha_{2}+ 7\\alpha_{3}\\right)\\oplus L\\left( 3\\alpha_{1}+ 6\\alpha_{2}+ 8\\alpha_{3}\\right)$$"
      ],
      "text/plain": [
       "<IPython.core.display.Math object>"
      ]
     },
     "metadata": {},
     "output_type": "display_data"
    },
    {
     "data": {
      "text/latex": [
       "$$\\mathrm H^{0}(X_{B3},\\wedge^{6}T_X)=L\\left( 2\\alpha_{1}+ 4\\alpha_{2}+ 4\\alpha_{3}\\right)\\oplus L\\left( 3\\alpha_{1}+ 4\\alpha_{2}+ 4\\alpha_{3}\\right)\\oplus L\\left( 2\\alpha_{1}+ 4\\alpha_{2}+ 5\\alpha_{3}\\right)\\oplus L\\left( 4\\alpha_{1}+ 4\\alpha_{2}+ 4\\alpha_{3}\\right)\\oplus L\\left( 3\\alpha_{1}+ 4\\alpha_{2}+ 5\\alpha_{3}\\right)^{3}\\oplus L\\left( 2\\alpha_{1}+ 4\\alpha_{2}+ 6\\alpha_{3}\\right)\\oplus L\\left( 3\\alpha_{1}+ 5\\alpha_{2}+ 5\\alpha_{3}\\right)^{2}\\oplus L\\left( 4\\alpha_{1}+ 5\\alpha_{2}+ 5\\alpha_{3}\\right)\\oplus L\\left( 3\\alpha_{1}+ 5\\alpha_{2}+ 6\\alpha_{3}\\right)^{5}\\oplus L\\left( 4\\alpha_{1}+ 5\\alpha_{2}+ 6\\alpha_{3}\\right)^{3}\\oplus L\\left( 3\\alpha_{1}+ 6\\alpha_{2}+ 6\\alpha_{3}\\right)\\oplus L\\left( 3\\alpha_{1}+ 5\\alpha_{2}+ 7\\alpha_{3}\\right)^{2}\\oplus L\\left( 4\\alpha_{1}+ 6\\alpha_{2}+ 6\\alpha_{3}\\right)^{2}\\oplus L\\left( 3\\alpha_{1}+ 6\\alpha_{2}+ 7\\alpha_{3}\\right)^{3}\\oplus L\\left( 4\\alpha_{1}+ 6\\alpha_{2}+ 7\\alpha_{3}\\right)^{2}\\oplus L\\left( 3\\alpha_{1}+ 6\\alpha_{2}+ 8\\alpha_{3}\\right)\\oplus L\\left( 5\\alpha_{1}+ 6\\alpha_{2}+ 7\\alpha_{3}\\right)\\oplus L\\left( 4\\alpha_{1}+ 6\\alpha_{2}+ 8\\alpha_{3}\\right)\\oplus L\\left( 3\\alpha_{1}+ 6\\alpha_{2}+ 9\\alpha_{3}\\right)\\oplus L\\left( 4\\alpha_{1}+ 7\\alpha_{2}+ 8\\alpha_{3}\\right)$$"
      ],
      "text/plain": [
       "<IPython.core.display.Math object>"
      ]
     },
     "metadata": {},
     "output_type": "display_data"
    },
    {
     "data": {
      "text/latex": [
       "$$\\mathrm H^{0}(X_{B3},\\wedge^{7}T_X)=L\\left( 3\\alpha_{1}+ 5\\alpha_{2}+ 5\\alpha_{3}\\right)\\oplus L\\left( 4\\alpha_{1}+ 5\\alpha_{2}+ 5\\alpha_{3}\\right)\\oplus L\\left( 3\\alpha_{1}+ 5\\alpha_{2}+ 6\\alpha_{3}\\right)\\oplus L\\left( 4\\alpha_{1}+ 5\\alpha_{2}+ 6\\alpha_{3}\\right)\\oplus L\\left( 3\\alpha_{1}+ 6\\alpha_{2}+ 6\\alpha_{3}\\right)\\oplus L\\left( 3\\alpha_{1}+ 5\\alpha_{2}+ 7\\alpha_{3}\\right)\\oplus L\\left( 4\\alpha_{1}+ 6\\alpha_{2}+ 6\\alpha_{3}\\right)^{2}\\oplus L\\left( 3\\alpha_{1}+ 6\\alpha_{2}+ 7\\alpha_{3}\\right)^{2}\\oplus L\\left( 5\\alpha_{1}+ 6\\alpha_{2}+ 6\\alpha_{3}\\right)\\oplus L\\left( 4\\alpha_{1}+ 6\\alpha_{2}+ 7\\alpha_{3}\\right)^{3}\\oplus L\\left( 3\\alpha_{1}+ 6\\alpha_{2}+ 8\\alpha_{3}\\right)\\oplus L\\left( 5\\alpha_{1}+ 6\\alpha_{2}+ 7\\alpha_{3}\\right)\\oplus L\\left( 4\\alpha_{1}+ 7\\alpha_{2}+ 7\\alpha_{3}\\right)\\oplus L\\left( 4\\alpha_{1}+ 6\\alpha_{2}+ 8\\alpha_{3}\\right)^{2}\\oplus L\\left( 4\\alpha_{1}+ 7\\alpha_{2}+ 8\\alpha_{3}\\right)^{2}\\oplus L\\left( 5\\alpha_{1}+ 7\\alpha_{2}+ 8\\alpha_{3}\\right)\\oplus L\\left( 4\\alpha_{1}+ 8\\alpha_{2}+ 8\\alpha_{3}\\right)\\oplus L\\left( 4\\alpha_{1}+ 7\\alpha_{2}+ 9\\alpha_{3}\\right)$$"
      ],
      "text/plain": [
       "<IPython.core.display.Math object>"
      ]
     },
     "metadata": {},
     "output_type": "display_data"
    },
    {
     "data": {
      "text/latex": [
       "$$\\mathrm H^{0}(X_{B3},\\wedge^{8}T_X)=L\\left( 4\\alpha_{1}+ 6\\alpha_{2}+ 7\\alpha_{3}\\right)\\oplus L\\left( 4\\alpha_{1}+ 7\\alpha_{2}+ 7\\alpha_{3}\\right)\\oplus L\\left( 5\\alpha_{1}+ 7\\alpha_{2}+ 7\\alpha_{3}\\right)\\oplus L\\left( 4\\alpha_{1}+ 7\\alpha_{2}+ 8\\alpha_{3}\\right)\\oplus L\\left( 5\\alpha_{1}+ 7\\alpha_{2}+ 8\\alpha_{3}\\right)\\oplus L\\left( 4\\alpha_{1}+ 7\\alpha_{2}+ 9\\alpha_{3}\\right)\\oplus L\\left( 5\\alpha_{1}+ 8\\alpha_{2}+ 8\\alpha_{3}\\right)\\oplus L\\left( 5\\alpha_{1}+ 7\\alpha_{2}+ 9\\alpha_{3}\\right)\\oplus L\\left( 4\\alpha_{1}+ 8\\alpha_{2}+ 9\\alpha_{3}\\right)$$"
      ],
      "text/plain": [
       "<IPython.core.display.Math object>"
      ]
     },
     "metadata": {},
     "output_type": "display_data"
    },
    {
     "data": {
      "text/latex": [
       "$$\\mathrm H^{0}(X_{B3},\\wedge^{9}T_X)=L\\left( 5\\alpha_{1}+ 8\\alpha_{2}+ 9\\alpha_{3}\\right)$$"
      ],
      "text/plain": [
       "<IPython.core.display.Math object>"
      ]
     },
     "metadata": {},
     "output_type": "display_data"
    },
    {
     "name": "stdout",
     "output_type": "stream",
     "text": [
      "dim of u is 9 for root system C3\n"
     ]
    },
    {
     "data": {
      "application/vnd.jupyter.widget-view+json": {
       "model_id": "a54b99ae55ca4db8afcb731007784f87",
       "version_major": 2,
       "version_minor": 0
      },
      "text/plain": [
       "HBox(children=(FloatProgress(value=0.0, max=10.0), HTML(value='')))"
      ]
     },
     "metadata": {},
     "output_type": "display_data"
    },
    {
     "data": {
      "application/vnd.jupyter.widget-view+json": {
       "model_id": "226a10037f4d4b9c99faced438930031",
       "version_major": 2,
       "version_minor": 0
      },
      "text/plain": [
       "HBox(children=(FloatProgress(value=1.0, bar_style='info', max=1.0), HTML(value='')))"
      ]
     },
     "metadata": {},
     "output_type": "display_data"
    },
    {
     "data": {
      "application/vnd.jupyter.widget-view+json": {
       "model_id": "bf47fe4f48974d5ead90acac4642e7e5",
       "version_major": 2,
       "version_minor": 0
      },
      "text/plain": [
       "HBox(children=(FloatProgress(value=1.0, bar_style='info', max=1.0), HTML(value='')))"
      ]
     },
     "metadata": {},
     "output_type": "display_data"
    },
    {
     "data": {
      "text/latex": [
       "$$\\mathrm H^{0}(X_{C3},\\wedge^{0}T_X)=\\mathbb{C}$$"
      ],
      "text/plain": [
       "<IPython.core.display.Math object>"
      ]
     },
     "metadata": {},
     "output_type": "display_data"
    },
    {
     "data": {
      "text/latex": [
       "$$\\mathrm H^{0}(X_{C3},\\wedge^{1}T_X)=L\\left( 2\\alpha_{1}+ 2\\alpha_{2}+\\alpha_{3}\\right)$$"
      ],
      "text/plain": [
       "<IPython.core.display.Math object>"
      ]
     },
     "metadata": {},
     "output_type": "display_data"
    },
    {
     "data": {
      "text/latex": [
       "$$\\mathrm H^{0}(X_{C3},\\wedge^{2}T_X)=L\\left( 2\\alpha_{1}+ 2\\alpha_{2}+\\alpha_{3}\\right)\\oplus L\\left( 3\\alpha_{1}+ 4\\alpha_{2}+ 2\\alpha_{3}\\right)$$"
      ],
      "text/plain": [
       "<IPython.core.display.Math object>"
      ]
     },
     "metadata": {},
     "output_type": "display_data"
    },
    {
     "data": {
      "text/latex": [
       "$$\\mathrm H^{0}(X_{C3},\\wedge^{3}T_X)=L\\left(\\alpha_{1}+ 2\\alpha_{2}+\\alpha_{3}\\right)^{2}\\oplus L\\left( 2\\alpha_{1}+ 3\\alpha_{2}+ 2\\alpha_{3}\\right)\\oplus L\\left( 2\\alpha_{1}+ 4\\alpha_{2}+ 2\\alpha_{3}\\right)\\oplus L\\left( 3\\alpha_{1}+ 4\\alpha_{2}+ 2\\alpha_{3}\\right)\\oplus L\\left( 4\\alpha_{1}+ 4\\alpha_{2}+ 2\\alpha_{3}\\right)\\oplus L\\left( 4\\alpha_{1}+ 5\\alpha_{2}+ 3\\alpha_{3}\\right)\\oplus L\\left( 3\\alpha_{1}+ 6\\alpha_{2}+ 3\\alpha_{3}\\right)$$"
      ],
      "text/plain": [
       "<IPython.core.display.Math object>"
      ]
     },
     "metadata": {},
     "output_type": "display_data"
    },
    {
     "data": {
      "text/latex": [
       "$$\\mathrm H^{0}(X_{C3},\\wedge^{4}T_X)=L\\left( 2\\alpha_{1}+ 2\\alpha_{2}+\\alpha_{3}\\right)\\oplus L\\left( 2\\alpha_{1}+ 3\\alpha_{2}+ 2\\alpha_{3}\\right)^{2}\\oplus L\\left( 2\\alpha_{1}+ 4\\alpha_{2}+ 2\\alpha_{3}\\right)^{2}\\oplus L\\left( 3\\alpha_{1}+ 4\\alpha_{2}+ 2\\alpha_{3}\\right)^{3}\\oplus L\\left( 4\\alpha_{1}+ 4\\alpha_{2}+ 2\\alpha_{3}\\right)\\oplus L\\left( 3\\alpha_{1}+ 5\\alpha_{2}+ 3\\alpha_{3}\\right)^{2}\\oplus L\\left( 4\\alpha_{1}+ 5\\alpha_{2}+ 3\\alpha_{3}\\right)\\oplus L\\left( 3\\alpha_{1}+ 6\\alpha_{2}+ 3\\alpha_{3}\\right)\\oplus L\\left( 4\\alpha_{1}+ 6\\alpha_{2}+ 3\\alpha_{3}\\right)\\oplus L\\left( 5\\alpha_{1}+ 6\\alpha_{2}+ 3\\alpha_{3}\\right)\\oplus L\\left( 4\\alpha_{1}+ 7\\alpha_{2}+ 4\\alpha_{3}\\right)$$"
      ],
      "text/plain": [
       "<IPython.core.display.Math object>"
      ]
     },
     "metadata": {},
     "output_type": "display_data"
    },
    {
     "data": {
      "text/latex": [
       "$$\\mathrm H^{0}(X_{C3},\\wedge^{5}T_X)=L\\left( 2\\alpha_{1}+ 3\\alpha_{2}+ 2\\alpha_{3}\\right)\\oplus L\\left( 2\\alpha_{1}+ 4\\alpha_{2}+ 2\\alpha_{3}\\right)\\oplus L\\left( 3\\alpha_{1}+ 4\\alpha_{2}+ 2\\alpha_{3}\\right)^{2}\\oplus L\\left( 2\\alpha_{1}+ 4\\alpha_{2}+ 3\\alpha_{3}\\right)^{2}\\oplus L\\left( 4\\alpha_{1}+ 4\\alpha_{2}+ 2\\alpha_{3}\\right)\\oplus L\\left( 3\\alpha_{1}+ 5\\alpha_{2}+ 3\\alpha_{3}\\right)^{4}\\oplus L\\left( 4\\alpha_{1}+ 5\\alpha_{2}+ 3\\alpha_{3}\\right)^{2}\\oplus L\\left( 3\\alpha_{1}+ 6\\alpha_{2}+ 3\\alpha_{3}\\right)\\oplus L\\left( 4\\alpha_{1}+ 6\\alpha_{2}+ 3\\alpha_{3}\\right)^{5}\\oplus L\\left( 3\\alpha_{1}+ 6\\alpha_{2}+ 4\\alpha_{3}\\right)\\oplus L\\left( 5\\alpha_{1}+ 6\\alpha_{2}+ 3\\alpha_{3}\\right)\\oplus L\\left( 4\\alpha_{1}+ 6\\alpha_{2}+ 4\\alpha_{3}\\right)\\oplus L\\left( 6\\alpha_{1}+ 6\\alpha_{2}+ 3\\alpha_{3}\\right)\\oplus L\\left( 4\\alpha_{1}+ 7\\alpha_{2}+ 4\\alpha_{3}\\right)^{2}\\oplus L\\left( 5\\alpha_{1}+ 7\\alpha_{2}+ 4\\alpha_{3}\\right)\\oplus L\\left( 5\\alpha_{1}+ 8\\alpha_{2}+ 4\\alpha_{3}\\right)\\oplus L\\left( 4\\alpha_{1}+ 8\\alpha_{2}+ 5\\alpha_{3}\\right)$$"
      ],
      "text/plain": [
       "<IPython.core.display.Math object>"
      ]
     },
     "metadata": {},
     "output_type": "display_data"
    },
    {
     "data": {
      "text/latex": [
       "$$\\mathrm H^{0}(X_{C3},\\wedge^{6}T_X)=L\\left( 3\\alpha_{1}+ 5\\alpha_{2}+ 3\\alpha_{3}\\right)^{2}\\oplus L\\left( 4\\alpha_{1}+ 5\\alpha_{2}+ 3\\alpha_{3}\\right)^{2}\\oplus L\\left( 3\\alpha_{1}+ 6\\alpha_{2}+ 3\\alpha_{3}\\right)^{2}\\oplus L\\left( 4\\alpha_{1}+ 6\\alpha_{2}+ 3\\alpha_{3}\\right)^{2}\\oplus L\\left( 3\\alpha_{1}+ 6\\alpha_{2}+ 4\\alpha_{3}\\right)^{2}\\oplus L\\left( 5\\alpha_{1}+ 6\\alpha_{2}+ 3\\alpha_{3}\\right)^{2}\\oplus L\\left( 4\\alpha_{1}+ 6\\alpha_{2}+ 4\\alpha_{3}\\right)^{3}\\oplus L\\left( 4\\alpha_{1}+ 7\\alpha_{2}+ 4\\alpha_{3}\\right)^{4}\\oplus L\\left( 5\\alpha_{1}+ 7\\alpha_{2}+ 4\\alpha_{3}\\right)^{3}\\oplus L\\left( 4\\alpha_{1}+ 8\\alpha_{2}+ 4\\alpha_{3}\\right)^{2}\\oplus L\\left( 4\\alpha_{1}+ 7\\alpha_{2}+ 5\\alpha_{3}\\right)\\oplus L\\left( 5\\alpha_{1}+ 8\\alpha_{2}+ 4\\alpha_{3}\\right)^{2}\\oplus L\\left( 4\\alpha_{1}+ 8\\alpha_{2}+ 5\\alpha_{3}\\right)\\oplus L\\left( 6\\alpha_{1}+ 8\\alpha_{2}+ 4\\alpha_{3}\\right)\\oplus L\\left( 5\\alpha_{1}+ 8\\alpha_{2}+ 5\\alpha_{3}\\right)\\oplus L\\left( 4\\alpha_{1}+ 8\\alpha_{2}+ 6\\alpha_{3}\\right)\\oplus L\\left( 5\\alpha_{1}+ 9\\alpha_{2}+ 5\\alpha_{3}\\right)$$"
      ],
      "text/plain": [
       "<IPython.core.display.Math object>"
      ]
     },
     "metadata": {},
     "output_type": "display_data"
    },
    {
     "data": {
      "text/latex": [
       "$$\\mathrm H^{0}(X_{C3},\\wedge^{7}T_X)=L\\left( 3\\alpha_{1}+ 6\\alpha_{2}+ 4\\alpha_{3}\\right)\\oplus L\\left( 4\\alpha_{1}+ 6\\alpha_{2}+ 4\\alpha_{3}\\right)\\oplus L\\left( 4\\alpha_{1}+ 7\\alpha_{2}+ 4\\alpha_{3}\\right)^{2}\\oplus L\\left( 5\\alpha_{1}+ 7\\alpha_{2}+ 4\\alpha_{3}\\right)^{2}\\oplus L\\left( 4\\alpha_{1}+ 8\\alpha_{2}+ 4\\alpha_{3}\\right)\\oplus L\\left( 4\\alpha_{1}+ 7\\alpha_{2}+ 5\\alpha_{3}\\right)^{2}\\oplus L\\left( 6\\alpha_{1}+ 7\\alpha_{2}+ 4\\alpha_{3}\\right)\\oplus L\\left( 5\\alpha_{1}+ 8\\alpha_{2}+ 4\\alpha_{3}\\right)^{2}\\oplus L\\left( 4\\alpha_{1}+ 8\\alpha_{2}+ 5\\alpha_{3}\\right)\\oplus L\\left( 6\\alpha_{1}+ 8\\alpha_{2}+ 4\\alpha_{3}\\right)\\oplus L\\left( 5\\alpha_{1}+ 8\\alpha_{2}+ 5\\alpha_{3}\\right)^{3}\\oplus L\\left( 5\\alpha_{1}+ 9\\alpha_{2}+ 5\\alpha_{3}\\right)^{2}\\oplus L\\left( 6\\alpha_{1}+ 9\\alpha_{2}+ 5\\alpha_{3}\\right)\\oplus L\\left( 5\\alpha_{1}+ 10\\alpha_{2}+ 5\\alpha_{3}\\right)\\oplus L\\left( 5\\alpha_{1}+ 9\\alpha_{2}+ 6\\alpha_{3}\\right)$$"
      ],
      "text/plain": [
       "<IPython.core.display.Math object>"
      ]
     },
     "metadata": {},
     "output_type": "display_data"
    },
    {
     "data": {
      "text/latex": [
       "$$\\mathrm H^{0}(X_{C3},\\wedge^{8}T_X)=L\\left( 4\\alpha_{1}+ 8\\alpha_{2}+ 5\\alpha_{3}\\right)\\oplus L\\left( 5\\alpha_{1}+ 8\\alpha_{2}+ 5\\alpha_{3}\\right)\\oplus L\\left( 6\\alpha_{1}+ 8\\alpha_{2}+ 5\\alpha_{3}\\right)\\oplus L\\left( 5\\alpha_{1}+ 9\\alpha_{2}+ 5\\alpha_{3}\\right)\\oplus L\\left( 6\\alpha_{1}+ 9\\alpha_{2}+ 5\\alpha_{3}\\right)\\oplus L\\left( 5\\alpha_{1}+ 9\\alpha_{2}+ 6\\alpha_{3}\\right)\\oplus L\\left( 6\\alpha_{1}+ 10\\alpha_{2}+ 5\\alpha_{3}\\right)\\oplus L\\left( 6\\alpha_{1}+ 9\\alpha_{2}+ 6\\alpha_{3}\\right)\\oplus L\\left( 5\\alpha_{1}+ 10\\alpha_{2}+ 6\\alpha_{3}\\right)$$"
      ],
      "text/plain": [
       "<IPython.core.display.Math object>"
      ]
     },
     "metadata": {},
     "output_type": "display_data"
    },
    {
     "data": {
      "text/latex": [
       "$$\\mathrm H^{0}(X_{C3},\\wedge^{9}T_X)=L\\left( 6\\alpha_{1}+ 10\\alpha_{2}+ 6\\alpha_{3}\\right)$$"
      ],
      "text/plain": [
       "<IPython.core.display.Math object>"
      ]
     },
     "metadata": {},
     "output_type": "display_data"
    }
   ],
   "source": [
    "for d in ['A2','A3','G2','B2','A4','B3','C3']:\n",
    "\n",
    "    BGG = BGGComplex(d)\n",
    "    factory = FastModuleFactory(BGG.LA)\n",
    "    component_dic = {'u':factory.build_component('u','coad',subset=[])}\n",
    "    u_dim = len(component_dic['u'].basis)\n",
    "    print('dim of u is %d for root system %s' % (u_dim, d))\n",
    "    \n",
    "    pbar1 = tqdm(range(u_dim+1))\n",
    "    pbar2 = tqdm()\n",
    "    pbar3 = tqdm()\n",
    "    for k in range(u_dim+1):\n",
    "        components = [[('u',k,'wedge')]]\n",
    "        module = FastLieAlgebraCompositeModule(factory,components,component_dic)\n",
    "\n",
    "        cohom = BGGCohomology(BGG, module,pbars=[pbar2,pbar3])\n",
    "\n",
    "        cohom.cohomology_LaTeX(complex_string=r'X_{'+d+r'},\\wedge^{'+str(k)+'}T_X')"
   ]
  },
  {
   "cell_type": "markdown",
   "metadata": {},
   "source": [
    "### G2 in the parabolic case\n",
    "Now for $G2$ we do some computations in the parabolic case. "
   ]
  },
  {
   "cell_type": "code",
   "execution_count": 5,
   "metadata": {
    "scrolled": true
   },
   "outputs": [
    {
     "name": "stdout",
     "output_type": "stream",
     "text": [
      "dim of u is 6 for root system G2\n"
     ]
    },
    {
     "data": {
      "application/vnd.jupyter.widget-view+json": {
       "model_id": "97c8dd66570a428281d4731b093aef21",
       "version_major": 2,
       "version_minor": 0
      },
      "text/plain": [
       "HBox(children=(FloatProgress(value=0.0, max=7.0), HTML(value='')))"
      ]
     },
     "metadata": {},
     "output_type": "display_data"
    },
    {
     "data": {
      "application/vnd.jupyter.widget-view+json": {
       "model_id": "00d9a217e91345c786d4b647ab619c0d",
       "version_major": 2,
       "version_minor": 0
      },
      "text/plain": [
       "HBox(children=(FloatProgress(value=1.0, bar_style='info', max=1.0), HTML(value='')))"
      ]
     },
     "metadata": {},
     "output_type": "display_data"
    },
    {
     "data": {
      "application/vnd.jupyter.widget-view+json": {
       "model_id": "4f07caf90245450580a9ee8310479579",
       "version_major": 2,
       "version_minor": 0
      },
      "text/plain": [
       "HBox(children=(FloatProgress(value=1.0, bar_style='info', max=1.0), HTML(value='')))"
      ]
     },
     "metadata": {},
     "output_type": "display_data"
    },
    {
     "data": {
      "text/latex": [
       "$$\\mathrm H^{0}(X_{},\\wedge^{0}T_X)=\\mathbb{C}$$"
      ],
      "text/plain": [
       "<IPython.core.display.Math object>"
      ]
     },
     "metadata": {},
     "output_type": "display_data"
    },
    {
     "data": {
      "text/latex": [
       "$$\\mathrm b^{0}(X_{},\\wedge^{0}T_X)=1$$"
      ],
      "text/plain": [
       "<IPython.core.display.Math object>"
      ]
     },
     "metadata": {},
     "output_type": "display_data"
    },
    {
     "data": {
      "text/latex": [
       "$$\\mathrm H^{0}(X_{},\\wedge^{1}T_X)=L\\left( 3\\alpha_{1}+ 2\\alpha_{2}\\right)$$"
      ],
      "text/plain": [
       "<IPython.core.display.Math object>"
      ]
     },
     "metadata": {},
     "output_type": "display_data"
    },
    {
     "data": {
      "text/latex": [
       "$$\\mathrm b^{0}(X_{},\\wedge^{1}T_X)=14$$"
      ],
      "text/plain": [
       "<IPython.core.display.Math object>"
      ]
     },
     "metadata": {},
     "output_type": "display_data"
    },
    {
     "data": {
      "text/latex": [
       "$$\\mathrm H^{0}(X_{},\\wedge^{2}T_X)=L\\left( 2\\alpha_{1}+\\alpha_{2}\\right)\\oplus L\\left( 3\\alpha_{1}+ 2\\alpha_{2}\\right)\\oplus L\\left( 6\\alpha_{1}+ 3\\alpha_{2}\\right)$$"
      ],
      "text/plain": [
       "<IPython.core.display.Math object>"
      ]
     },
     "metadata": {},
     "output_type": "display_data"
    },
    {
     "data": {
      "text/latex": [
       "$$\\mathrm b^{0}(X_{},\\wedge^{2}T_X)=98$$"
      ],
      "text/plain": [
       "<IPython.core.display.Math object>"
      ]
     },
     "metadata": {},
     "output_type": "display_data"
    },
    {
     "data": {
      "text/latex": [
       "$$\\mathrm H^{0}(X_{},\\wedge^{3}T_X)=L\\left( 4\\alpha_{1}+ 2\\alpha_{2}\\right)^{2}\\oplus L\\left( 5\\alpha_{1}+ 3\\alpha_{2}\\right)\\oplus L\\left( 6\\alpha_{1}+ 3\\alpha_{2}\\right)\\oplus L\\left( 6\\alpha_{1}+ 4\\alpha_{2}\\right)\\oplus L\\left( 8\\alpha_{1}+ 4\\alpha_{2}\\right)$$"
      ],
      "text/plain": [
       "<IPython.core.display.Math object>"
      ]
     },
     "metadata": {},
     "output_type": "display_data"
    },
    {
     "data": {
      "text/latex": [
       "$$\\mathrm b^{0}(X_{},\\wedge^{3}T_X)=454$$"
      ],
      "text/plain": [
       "<IPython.core.display.Math object>"
      ]
     },
     "metadata": {},
     "output_type": "display_data"
    },
    {
     "data": {
      "text/latex": [
       "$$\\mathrm H^{0}(X_{},\\wedge^{4}T_X)=L\\left( 5\\alpha_{1}+ 3\\alpha_{2}\\right)\\oplus L\\left( 6\\alpha_{1}+ 3\\alpha_{2}\\right)\\oplus L\\left( 6\\alpha_{1}+ 4\\alpha_{2}\\right)\\oplus L\\left( 7\\alpha_{1}+ 4\\alpha_{2}\\right)^{2}\\oplus L\\left( 8\\alpha_{1}+ 4\\alpha_{2}\\right)\\oplus L\\left( 9\\alpha_{1}+ 5\\alpha_{2}\\right)$$"
      ],
      "text/plain": [
       "<IPython.core.display.Math object>"
      ]
     },
     "metadata": {},
     "output_type": "display_data"
    },
    {
     "data": {
      "text/latex": [
       "$$\\mathrm b^{0}(X_{},\\wedge^{4}T_X)=1226$$"
      ],
      "text/plain": [
       "<IPython.core.display.Math object>"
      ]
     },
     "metadata": {},
     "output_type": "display_data"
    },
    {
     "data": {
      "text/latex": [
       "$$\\mathrm H^{0}(X_{},\\wedge^{5}T_X)=L\\left( 7\\alpha_{1}+ 4\\alpha_{2}\\right)\\oplus L\\left( 8\\alpha_{1}+ 5\\alpha_{2}\\right)\\oplus L\\left( 9\\alpha_{1}+ 5\\alpha_{2}\\right)\\oplus L\\left( 10\\alpha_{1}+ 5\\alpha_{2}\\right)\\oplus L\\left( 9\\alpha_{1}+ 6\\alpha_{2}\\right)$$"
      ],
      "text/plain": [
       "<IPython.core.display.Math object>"
      ]
     },
     "metadata": {},
     "output_type": "display_data"
    },
    {
     "data": {
      "text/latex": [
       "$$\\mathrm b^{0}(X_{},\\wedge^{5}T_X)=1574$$"
      ],
      "text/plain": [
       "<IPython.core.display.Math object>"
      ]
     },
     "metadata": {},
     "output_type": "display_data"
    },
    {
     "data": {
      "text/latex": [
       "$$\\mathrm H^{0}(X_{},\\wedge^{6}T_X)=L\\left( 10\\alpha_{1}+ 6\\alpha_{2}\\right)$$"
      ],
      "text/plain": [
       "<IPython.core.display.Math object>"
      ]
     },
     "metadata": {},
     "output_type": "display_data"
    },
    {
     "data": {
      "text/latex": [
       "$$\\mathrm b^{0}(X_{},\\wedge^{6}T_X)=729$$"
      ],
      "text/plain": [
       "<IPython.core.display.Math object>"
      ]
     },
     "metadata": {},
     "output_type": "display_data"
    },
    {
     "name": "stdout",
     "output_type": "stream",
     "text": [
      "\n",
      "dim of u is 5 for root system G2\n"
     ]
    },
    {
     "data": {
      "application/vnd.jupyter.widget-view+json": {
       "model_id": "62d9f5de4ab54c37a1a911450bfaa843",
       "version_major": 2,
       "version_minor": 0
      },
      "text/plain": [
       "HBox(children=(FloatProgress(value=0.0, max=6.0), HTML(value='')))"
      ]
     },
     "metadata": {},
     "output_type": "display_data"
    },
    {
     "data": {
      "application/vnd.jupyter.widget-view+json": {
       "model_id": "ca47d66a22414e2383ca3718b8010d02",
       "version_major": 2,
       "version_minor": 0
      },
      "text/plain": [
       "HBox(children=(FloatProgress(value=1.0, bar_style='info', max=1.0), HTML(value='')))"
      ]
     },
     "metadata": {},
     "output_type": "display_data"
    },
    {
     "data": {
      "application/vnd.jupyter.widget-view+json": {
       "model_id": "c51cad9284124e2c96550b6158f26f28",
       "version_major": 2,
       "version_minor": 0
      },
      "text/plain": [
       "HBox(children=(FloatProgress(value=1.0, bar_style='info', max=1.0), HTML(value='')))"
      ]
     },
     "metadata": {},
     "output_type": "display_data"
    },
    {
     "data": {
      "text/latex": [
       "$$\\mathrm H^{0}(X_{\\alpha_1},\\wedge^{0}T_X)=\\mathbb{C}$$"
      ],
      "text/plain": [
       "<IPython.core.display.Math object>"
      ]
     },
     "metadata": {},
     "output_type": "display_data"
    },
    {
     "data": {
      "text/latex": [
       "$$\\mathrm b^{0}(X_{\\alpha_1},\\wedge^{0}T_X)=1$$"
      ],
      "text/plain": [
       "<IPython.core.display.Math object>"
      ]
     },
     "metadata": {},
     "output_type": "display_data"
    },
    {
     "data": {
      "text/latex": [
       "$$\\mathrm H^{0}(X_{\\alpha_1},\\wedge^{1}T_X)=L\\left( 3\\alpha_{1}+ 2\\alpha_{2}\\right)$$"
      ],
      "text/plain": [
       "<IPython.core.display.Math object>"
      ]
     },
     "metadata": {},
     "output_type": "display_data"
    },
    {
     "data": {
      "text/latex": [
       "$$\\mathrm b^{0}(X_{\\alpha_1},\\wedge^{1}T_X)=14$$"
      ],
      "text/plain": [
       "<IPython.core.display.Math object>"
      ]
     },
     "metadata": {},
     "output_type": "display_data"
    },
    {
     "data": {
      "text/latex": [
       "$$\\mathrm H^{0}(X_{\\alpha_1},\\wedge^{2}T_X)=L\\left( 3\\alpha_{1}+ 2\\alpha_{2}\\right)\\oplus L\\left( 6\\alpha_{1}+ 3\\alpha_{2}\\right)$$"
      ],
      "text/plain": [
       "<IPython.core.display.Math object>"
      ]
     },
     "metadata": {},
     "output_type": "display_data"
    },
    {
     "data": {
      "text/latex": [
       "$$\\mathrm b^{0}(X_{\\alpha_1},\\wedge^{2}T_X)=91$$"
      ],
      "text/plain": [
       "<IPython.core.display.Math object>"
      ]
     },
     "metadata": {},
     "output_type": "display_data"
    },
    {
     "data": {
      "text/latex": [
       "$$\\mathrm H^{0}(X_{\\alpha_1},\\wedge^{3}T_X)=L\\left( 6\\alpha_{1}+ 3\\alpha_{2}\\right)\\oplus L\\left( 6\\alpha_{1}+ 4\\alpha_{2}\\right)\\oplus L\\left( 8\\alpha_{1}+ 4\\alpha_{2}\\right)$$"
      ],
      "text/plain": [
       "<IPython.core.display.Math object>"
      ]
     },
     "metadata": {},
     "output_type": "display_data"
    },
    {
     "data": {
      "text/latex": [
       "$$\\mathrm b^{0}(X_{\\alpha_1},\\wedge^{3}T_X)=336$$"
      ],
      "text/plain": [
       "<IPython.core.display.Math object>"
      ]
     },
     "metadata": {},
     "output_type": "display_data"
    },
    {
     "data": {
      "text/latex": [
       "$$\\mathrm H^{0}(X_{\\alpha_1},\\wedge^{4}T_X)=L\\left( 6\\alpha_{1}+ 4\\alpha_{2}\\right)\\oplus L\\left( 9\\alpha_{1}+ 5\\alpha_{2}\\right)$$"
      ],
      "text/plain": [
       "<IPython.core.display.Math object>"
      ]
     },
     "metadata": {},
     "output_type": "display_data"
    },
    {
     "data": {
      "text/latex": [
       "$$\\mathrm b^{0}(X_{\\alpha_1},\\wedge^{4}T_X)=525$$"
      ],
      "text/plain": [
       "<IPython.core.display.Math object>"
      ]
     },
     "metadata": {},
     "output_type": "display_data"
    },
    {
     "data": {
      "text/latex": [
       "$$\\mathrm H^{0}(X_{\\alpha_1},\\wedge^{5}T_X)=L\\left( 9\\alpha_{1}+ 6\\alpha_{2}\\right)$$"
      ],
      "text/plain": [
       "<IPython.core.display.Math object>"
      ]
     },
     "metadata": {},
     "output_type": "display_data"
    },
    {
     "data": {
      "text/latex": [
       "$$\\mathrm b^{0}(X_{\\alpha_1},\\wedge^{5}T_X)=273$$"
      ],
      "text/plain": [
       "<IPython.core.display.Math object>"
      ]
     },
     "metadata": {},
     "output_type": "display_data"
    },
    {
     "name": "stdout",
     "output_type": "stream",
     "text": [
      "\n",
      "dim of u is 5 for root system G2\n"
     ]
    },
    {
     "data": {
      "application/vnd.jupyter.widget-view+json": {
       "model_id": "114ab949aee4487c8acc3b40db69bd77",
       "version_major": 2,
       "version_minor": 0
      },
      "text/plain": [
       "HBox(children=(FloatProgress(value=0.0, max=6.0), HTML(value='')))"
      ]
     },
     "metadata": {},
     "output_type": "display_data"
    },
    {
     "data": {
      "application/vnd.jupyter.widget-view+json": {
       "model_id": "6550f481ec1e451793a4959a7e4d2a78",
       "version_major": 2,
       "version_minor": 0
      },
      "text/plain": [
       "HBox(children=(FloatProgress(value=1.0, bar_style='info', max=1.0), HTML(value='')))"
      ]
     },
     "metadata": {},
     "output_type": "display_data"
    },
    {
     "data": {
      "application/vnd.jupyter.widget-view+json": {
       "model_id": "2f3aac1c2f874a4d9562bea75367555e",
       "version_major": 2,
       "version_minor": 0
      },
      "text/plain": [
       "HBox(children=(FloatProgress(value=1.0, bar_style='info', max=1.0), HTML(value='')))"
      ]
     },
     "metadata": {},
     "output_type": "display_data"
    },
    {
     "data": {
      "text/latex": [
       "$$\\mathrm H^{0}(X_{\\alpha_2},\\wedge^{0}T_X)=\\mathbb{C}$$"
      ],
      "text/plain": [
       "<IPython.core.display.Math object>"
      ]
     },
     "metadata": {},
     "output_type": "display_data"
    },
    {
     "data": {
      "text/latex": [
       "$$\\mathrm b^{0}(X_{\\alpha_2},\\wedge^{0}T_X)=1$$"
      ],
      "text/plain": [
       "<IPython.core.display.Math object>"
      ]
     },
     "metadata": {},
     "output_type": "display_data"
    },
    {
     "data": {
      "text/latex": [
       "$$\\mathrm H^{0}(X_{\\alpha_2},\\wedge^{1}T_X)=L\\left( 2\\alpha_{1}+\\alpha_{2}\\right)\\oplus L\\left( 3\\alpha_{1}+ 2\\alpha_{2}\\right)$$"
      ],
      "text/plain": [
       "<IPython.core.display.Math object>"
      ]
     },
     "metadata": {},
     "output_type": "display_data"
    },
    {
     "data": {
      "text/latex": [
       "$$\\mathrm b^{0}(X_{\\alpha_2},\\wedge^{1}T_X)=21$$"
      ],
      "text/plain": [
       "<IPython.core.display.Math object>"
      ]
     },
     "metadata": {},
     "output_type": "display_data"
    },
    {
     "data": {
      "text/latex": [
       "$$\\mathrm H^{0}(X_{\\alpha_2},\\wedge^{2}T_X)=L\\left( 2\\alpha_{1}+\\alpha_{2}\\right)\\oplus L\\left( 3\\alpha_{1}+ 2\\alpha_{2}\\right)\\oplus L\\left( 4\\alpha_{1}+ 2\\alpha_{2}\\right)\\oplus L\\left( 5\\alpha_{1}+ 3\\alpha_{2}\\right)\\oplus L\\left( 6\\alpha_{1}+ 3\\alpha_{2}\\right)$$"
      ],
      "text/plain": [
       "<IPython.core.display.Math object>"
      ]
     },
     "metadata": {},
     "output_type": "display_data"
    },
    {
     "data": {
      "text/latex": [
       "$$\\mathrm b^{0}(X_{\\alpha_2},\\wedge^{2}T_X)=189$$"
      ],
      "text/plain": [
       "<IPython.core.display.Math object>"
      ]
     },
     "metadata": {},
     "output_type": "display_data"
    },
    {
     "data": {
      "text/latex": [
       "$$\\mathrm H^{0}(X_{\\alpha_2},\\wedge^{3}T_X)=L\\left( 4\\alpha_{1}+ 2\\alpha_{2}\\right)\\oplus L\\left( 5\\alpha_{1}+ 3\\alpha_{2}\\right)\\oplus L\\left( 6\\alpha_{1}+ 3\\alpha_{2}\\right)\\oplus L\\left( 6\\alpha_{1}+ 4\\alpha_{2}\\right)\\oplus L\\left( 7\\alpha_{1}+ 4\\alpha_{2}\\right)\\oplus L\\left( 8\\alpha_{1}+ 4\\alpha_{2}\\right)$$"
      ],
      "text/plain": [
       "<IPython.core.display.Math object>"
      ]
     },
     "metadata": {},
     "output_type": "display_data"
    },
    {
     "data": {
      "text/latex": [
       "$$\\mathrm b^{0}(X_{\\alpha_2},\\wedge^{3}T_X)=616$$"
      ],
      "text/plain": [
       "<IPython.core.display.Math object>"
      ]
     },
     "metadata": {},
     "output_type": "display_data"
    },
    {
     "data": {
      "text/latex": [
       "$$\\mathrm H^{0}(X_{\\alpha_2},\\wedge^{4}T_X)=L\\left( 7\\alpha_{1}+ 4\\alpha_{2}\\right)\\oplus L\\left( 8\\alpha_{1}+ 4\\alpha_{2}\\right)\\oplus L\\left( 9\\alpha_{1}+ 5\\alpha_{2}\\right)$$"
      ],
      "text/plain": [
       "<IPython.core.display.Math object>"
      ]
     },
     "metadata": {},
     "output_type": "display_data"
    },
    {
     "data": {
      "text/latex": [
       "$$\\mathrm b^{0}(X_{\\alpha_2},\\wedge^{4}T_X)=819$$"
      ],
      "text/plain": [
       "<IPython.core.display.Math object>"
      ]
     },
     "metadata": {},
     "output_type": "display_data"
    },
    {
     "data": {
      "text/latex": [
       "$$\\mathrm H^{0}(X_{\\alpha_2},\\wedge^{5}T_X)=L\\left( 10\\alpha_{1}+ 5\\alpha_{2}\\right)$$"
      ],
      "text/plain": [
       "<IPython.core.display.Math object>"
      ]
     },
     "metadata": {},
     "output_type": "display_data"
    },
    {
     "data": {
      "text/latex": [
       "$$\\mathrm b^{0}(X_{\\alpha_2},\\wedge^{5}T_X)=378$$"
      ],
      "text/plain": [
       "<IPython.core.display.Math object>"
      ]
     },
     "metadata": {},
     "output_type": "display_data"
    },
    {
     "name": "stdout",
     "output_type": "stream",
     "text": [
      "\n"
     ]
    }
   ],
   "source": [
    "subset_list = [[],[1],[2]]\n",
    "subscript_list = [r'',r'\\alpha_1',r'\\alpha_2']\n",
    "d = 'G2'\n",
    "BGG = BGGComplex(d)\n",
    "for subset,subscript in zip(subset_list,subscript_list):\n",
    "    factory = FastModuleFactory(BGG.LA)\n",
    "    component_dic = {'u':factory.build_component('u','coad',subset=subset)}\n",
    "    u_dim = len(component_dic['u'].basis)\n",
    "    print('dim of u is %d for root system %s' % (u_dim, d))\n",
    "    pbar1 = tqdm(range(u_dim+1))\n",
    "    pbar2 = tqdm()\n",
    "    pbar3 = tqdm()\n",
    "    for k in pbar1:\n",
    "        components = [[('u',k,'wedge')]]\n",
    "        module = FastLieAlgebraCompositeModule(factory,components,component_dic)\n",
    "\n",
    "        cohom = BGGCohomology(BGG, module,pbars=[pbar2,pbar3])\n",
    "\n",
    "        cohom.cohomology_LaTeX(complex_string=r'X_{'+subscript+r'},\\wedge^{'+str(k)+'}T_X',print_betti=True)"
   ]
  },
  {
   "cell_type": "markdown",
   "metadata": {},
   "source": [
    "### A4 in the parabolic case\n",
    "Now for $A4$ we do some computations in the parabolic case. "
   ]
  },
  {
   "cell_type": "code",
   "execution_count": 6,
   "metadata": {
    "scrolled": true
   },
   "outputs": [
    {
     "name": "stdout",
     "output_type": "stream",
     "text": [
      "\n",
      "\n",
      "dim of u is 10 for root system A4 and subset ()\n"
     ]
    },
    {
     "data": {
      "application/vnd.jupyter.widget-view+json": {
       "model_id": "dea127c1132346bca543702268d387c3",
       "version_major": 2,
       "version_minor": 0
      },
      "text/plain": [
       "HBox(children=(FloatProgress(value=0.0, max=11.0), HTML(value='')))"
      ]
     },
     "metadata": {},
     "output_type": "display_data"
    },
    {
     "data": {
      "application/vnd.jupyter.widget-view+json": {
       "model_id": "9060ac635dbe4b6ab7cbfd3c45cbb26a",
       "version_major": 2,
       "version_minor": 0
      },
      "text/plain": [
       "HBox(children=(FloatProgress(value=1.0, bar_style='info', max=1.0), HTML(value='')))"
      ]
     },
     "metadata": {},
     "output_type": "display_data"
    },
    {
     "data": {
      "application/vnd.jupyter.widget-view+json": {
       "model_id": "332bf8d5034142a089ce4417ff830d12",
       "version_major": 2,
       "version_minor": 0
      },
      "text/plain": [
       "HBox(children=(FloatProgress(value=1.0, bar_style='info', max=1.0), HTML(value='')))"
      ]
     },
     "metadata": {},
     "output_type": "display_data"
    },
    {
     "data": {
      "text/latex": [
       "$$\\mathrm H^{0}(X_{},\\wedge^{0}T_X)=\\mathbb{C}$$"
      ],
      "text/plain": [
       "<IPython.core.display.Math object>"
      ]
     },
     "metadata": {},
     "output_type": "display_data"
    },
    {
     "data": {
      "text/latex": [
       "$$\\mathrm b^{0}(X_{},\\wedge^{0}T_X)=1$$"
      ],
      "text/plain": [
       "<IPython.core.display.Math object>"
      ]
     },
     "metadata": {},
     "output_type": "display_data"
    },
    {
     "data": {
      "text/latex": [
       "$$\\mathrm H^{0}(X_{},\\wedge^{1}T_X)=L\\left(\\alpha_{1}+\\alpha_{2}+\\alpha_{3}+\\alpha_{4}\\right)$$"
      ],
      "text/plain": [
       "<IPython.core.display.Math object>"
      ]
     },
     "metadata": {},
     "output_type": "display_data"
    },
    {
     "data": {
      "text/latex": [
       "$$\\mathrm b^{0}(X_{},\\wedge^{1}T_X)=24$$"
      ],
      "text/plain": [
       "<IPython.core.display.Math object>"
      ]
     },
     "metadata": {},
     "output_type": "display_data"
    },
    {
     "data": {
      "text/latex": [
       "$$\\mathrm H^{0}(X_{},\\wedge^{2}T_X)=L\\left(\\alpha_{1}+\\alpha_{2}+\\alpha_{3}+\\alpha_{4}\\right)\\oplus L\\left( 2\\alpha_{1}+ 2\\alpha_{2}+ 2\\alpha_{3}+\\alpha_{4}\\right)\\oplus L\\left(\\alpha_{1}+ 2\\alpha_{2}+ 2\\alpha_{3}+ 2\\alpha_{4}\\right)$$"
      ],
      "text/plain": [
       "<IPython.core.display.Math object>"
      ]
     },
     "metadata": {},
     "output_type": "display_data"
    },
    {
     "data": {
      "text/latex": [
       "$$\\mathrm b^{0}(X_{},\\wedge^{2}T_X)=276$$"
      ],
      "text/plain": [
       "<IPython.core.display.Math object>"
      ]
     },
     "metadata": {},
     "output_type": "display_data"
    },
    {
     "data": {
      "text/latex": [
       "$$\\mathrm H^{0}(X_{},\\wedge^{3}T_X)=L\\left(\\alpha_{1}+\\alpha_{2}+\\alpha_{3}+\\alpha_{4}\\right)\\oplus L\\left(\\alpha_{1}+ 2\\alpha_{2}+ 2\\alpha_{3}+\\alpha_{4}\\right)\\oplus L\\left( 2\\alpha_{1}+ 2\\alpha_{2}+ 2\\alpha_{3}+\\alpha_{4}\\right)\\oplus L\\left(\\alpha_{1}+ 2\\alpha_{2}+ 2\\alpha_{3}+ 2\\alpha_{4}\\right)\\oplus L\\left( 2\\alpha_{1}+ 2\\alpha_{2}+ 2\\alpha_{3}+ 2\\alpha_{4}\\right)\\oplus L\\left( 3\\alpha_{1}+ 3\\alpha_{2}+ 2\\alpha_{3}+\\alpha_{4}\\right)\\oplus L\\left(\\alpha_{1}+ 2\\alpha_{2}+ 3\\alpha_{3}+ 3\\alpha_{4}\\right)\\oplus L\\left( 2\\alpha_{1}+ 3\\alpha_{2}+ 3\\alpha_{3}+ 2\\alpha_{4}\\right)$$"
      ],
      "text/plain": [
       "<IPython.core.display.Math object>"
      ]
     },
     "metadata": {},
     "output_type": "display_data"
    },
    {
     "data": {
      "text/latex": [
       "$$\\mathrm b^{0}(X_{},\\wedge^{3}T_X)=2023$$"
      ],
      "text/plain": [
       "<IPython.core.display.Math object>"
      ]
     },
     "metadata": {},
     "output_type": "display_data"
    },
    {
     "name": "stdout",
     "output_type": "stream",
     "text": [
      "\n",
      "\n",
      "\n",
      "\n"
     ]
    },
    {
     "data": {
      "text/latex": [
       "$$\\mathrm H^{0}(X_{},\\wedge^{4}T_X)=L\\left(\\alpha_{1}+\\alpha_{2}+\\alpha_{3}+\\alpha_{4}\\right)\\oplus L\\left(\\alpha_{1}+ 2\\alpha_{2}+ 2\\alpha_{3}+\\alpha_{4}\\right)^{3}\\oplus L\\left( 2\\alpha_{1}+ 2\\alpha_{2}+ 2\\alpha_{3}+\\alpha_{4}\\right)\\oplus L\\left(\\alpha_{1}+ 2\\alpha_{2}+ 2\\alpha_{3}+ 2\\alpha_{4}\\right)\\oplus L\\left( 2\\alpha_{1}+ 3\\alpha_{2}+ 2\\alpha_{3}+\\alpha_{4}\\right)^{2}\\oplus L\\left( 2\\alpha_{1}+ 2\\alpha_{2}+ 2\\alpha_{3}+ 2\\alpha_{4}\\right)^{2}\\oplus L\\left(\\alpha_{1}+ 2\\alpha_{2}+ 3\\alpha_{3}+ 2\\alpha_{4}\\right)^{2}\\oplus L\\left( 3\\alpha_{1}+ 3\\alpha_{2}+ 2\\alpha_{3}+\\alpha_{4}\\right)\\oplus L\\left(\\alpha_{1}+ 2\\alpha_{2}+ 3\\alpha_{3}+ 3\\alpha_{4}\\right)\\oplus L\\left( 4\\alpha_{1}+ 3\\alpha_{2}+ 2\\alpha_{3}+\\alpha_{4}\\right)\\oplus L\\left( 2\\alpha_{1}+ 3\\alpha_{2}+ 3\\alpha_{3}+ 2\\alpha_{4}\\right)^{2}\\oplus L\\left(\\alpha_{1}+ 2\\alpha_{2}+ 3\\alpha_{3}+ 4\\alpha_{4}\\right)\\oplus L\\left( 3\\alpha_{1}+ 3\\alpha_{2}+ 3\\alpha_{3}+ 2\\alpha_{4}\\right)\\oplus L\\left( 2\\alpha_{1}+ 3\\alpha_{2}+ 3\\alpha_{3}+ 3\\alpha_{4}\\right)\\oplus L\\left( 3\\alpha_{1}+ 4\\alpha_{2}+ 3\\alpha_{3}+ 2\\alpha_{4}\\right)\\oplus L\\left( 2\\alpha_{1}+ 4\\alpha_{2}+ 4\\alpha_{3}+ 2\\alpha_{4}\\right)\\oplus L\\left( 2\\alpha_{1}+ 3\\alpha_{2}+ 4\\alpha_{3}+ 3\\alpha_{4}\\right)$$"
      ],
      "text/plain": [
       "<IPython.core.display.Math object>"
      ]
     },
     "metadata": {},
     "output_type": "display_data"
    },
    {
     "data": {
      "text/latex": [
       "$$\\mathrm b^{0}(X_{},\\wedge^{4}T_X)=11027$$"
      ],
      "text/plain": [
       "<IPython.core.display.Math object>"
      ]
     },
     "metadata": {},
     "output_type": "display_data"
    },
    {
     "data": {
      "text/latex": [
       "$$\\mathrm H^{0}(X_{},\\wedge^{5}T_X)=L\\left(\\alpha_{1}+ 2\\alpha_{2}+ 2\\alpha_{3}+\\alpha_{4}\\right)\\oplus L\\left( 2\\alpha_{1}+ 2\\alpha_{2}+ 2\\alpha_{3}+\\alpha_{4}\\right)^{3}\\oplus L\\left(\\alpha_{1}+ 2\\alpha_{2}+ 2\\alpha_{3}+ 2\\alpha_{4}\\right)^{3}\\oplus L\\left( 2\\alpha_{1}+ 3\\alpha_{2}+ 2\\alpha_{3}+\\alpha_{4}\\right)^{2}\\oplus L\\left( 2\\alpha_{1}+ 2\\alpha_{2}+ 2\\alpha_{3}+ 2\\alpha_{4}\\right)^{2}\\oplus L\\left(\\alpha_{1}+ 2\\alpha_{2}+ 3\\alpha_{3}+ 2\\alpha_{4}\\right)^{2}\\oplus L\\left( 3\\alpha_{1}+ 3\\alpha_{2}+ 2\\alpha_{3}+\\alpha_{4}\\right)\\oplus L\\left(\\alpha_{1}+ 2\\alpha_{2}+ 3\\alpha_{3}+ 3\\alpha_{4}\\right)\\oplus L\\left( 2\\alpha_{1}+ 3\\alpha_{2}+ 3\\alpha_{3}+ 2\\alpha_{4}\\right)^{6}\\oplus L\\left( 3\\alpha_{1}+ 3\\alpha_{2}+ 3\\alpha_{3}+ 2\\alpha_{4}\\right)^{2}\\oplus L\\left( 2\\alpha_{1}+ 4\\alpha_{2}+ 3\\alpha_{3}+ 2\\alpha_{4}\\right)^{2}\\oplus L\\left( 2\\alpha_{1}+ 3\\alpha_{2}+ 4\\alpha_{3}+ 2\\alpha_{4}\\right)^{2}\\oplus L\\left( 2\\alpha_{1}+ 3\\alpha_{2}+ 3\\alpha_{3}+ 3\\alpha_{4}\\right)^{2}\\oplus L\\left( 3\\alpha_{1}+ 4\\alpha_{2}+ 3\\alpha_{3}+ 2\\alpha_{4}\\right)^{2}\\oplus L\\left( 2\\alpha_{1}+ 4\\alpha_{2}+ 4\\alpha_{3}+ 2\\alpha_{4}\\right)\\oplus L\\left( 3\\alpha_{1}+ 3\\alpha_{2}+ 3\\alpha_{3}+ 3\\alpha_{4}\\right)\\oplus L\\left( 2\\alpha_{1}+ 3\\alpha_{2}+ 4\\alpha_{3}+ 3\\alpha_{4}\\right)^{2}\\oplus L\\left( 4\\alpha_{1}+ 4\\alpha_{2}+ 3\\alpha_{3}+ 2\\alpha_{4}\\right)\\oplus L\\left( 3\\alpha_{1}+ 4\\alpha_{2}+ 4\\alpha_{3}+ 2\\alpha_{4}\\right)\\oplus L\\left( 2\\alpha_{1}+ 4\\alpha_{2}+ 4\\alpha_{3}+ 3\\alpha_{4}\\right)\\oplus L\\left( 2\\alpha_{1}+ 3\\alpha_{2}+ 4\\alpha_{3}+ 4\\alpha_{4}\\right)\\oplus L\\left( 3\\alpha_{1}+ 5\\alpha_{2}+ 4\\alpha_{3}+ 2\\alpha_{4}\\right)\\oplus L\\left( 3\\alpha_{1}+ 4\\alpha_{2}+ 4\\alpha_{3}+ 3\\alpha_{4}\\right)\\oplus L\\left( 2\\alpha_{1}+ 4\\alpha_{2}+ 5\\alpha_{3}+ 3\\alpha_{4}\\right)$$"
      ],
      "text/plain": [
       "<IPython.core.display.Math object>"
      ]
     },
     "metadata": {},
     "output_type": "display_data"
    },
    {
     "data": {
      "text/latex": [
       "$$\\mathrm b^{0}(X_{},\\wedge^{5}T_X)=45576$$"
      ],
      "text/plain": [
       "<IPython.core.display.Math object>"
      ]
     },
     "metadata": {},
     "output_type": "display_data"
    },
    {
     "data": {
      "text/latex": [
       "$$\\mathrm H^{0}(X_{},\\wedge^{6}T_X)=L\\left( 2\\alpha_{1}+ 3\\alpha_{2}+ 2\\alpha_{3}+\\alpha_{4}\\right)\\oplus L\\left( 2\\alpha_{1}+ 2\\alpha_{2}+ 2\\alpha_{3}+ 2\\alpha_{4}\\right)\\oplus L\\left(\\alpha_{1}+ 2\\alpha_{2}+ 3\\alpha_{3}+ 2\\alpha_{4}\\right)\\oplus L\\left( 3\\alpha_{1}+ 3\\alpha_{2}+ 2\\alpha_{3}+\\alpha_{4}\\right)\\oplus L\\left(\\alpha_{1}+ 2\\alpha_{2}+ 3\\alpha_{3}+ 3\\alpha_{4}\\right)\\oplus L\\left( 2\\alpha_{1}+ 3\\alpha_{2}+ 3\\alpha_{3}+ 2\\alpha_{4}\\right)^{6}\\oplus L\\left( 3\\alpha_{1}+ 3\\alpha_{2}+ 3\\alpha_{3}+ 2\\alpha_{4}\\right)^{4}\\oplus L\\left( 2\\alpha_{1}+ 4\\alpha_{2}+ 3\\alpha_{3}+ 2\\alpha_{4}\\right)^{3}\\oplus L\\left( 2\\alpha_{1}+ 3\\alpha_{2}+ 4\\alpha_{3}+ 2\\alpha_{4}\\right)^{3}\\oplus L\\left( 2\\alpha_{1}+ 3\\alpha_{2}+ 3\\alpha_{3}+ 3\\alpha_{4}\\right)^{4}\\oplus L\\left( 3\\alpha_{1}+ 4\\alpha_{2}+ 3\\alpha_{3}+ 2\\alpha_{4}\\right)^{3}\\oplus L\\left( 2\\alpha_{1}+ 4\\alpha_{2}+ 4\\alpha_{3}+ 2\\alpha_{4}\\right)^{2}\\oplus L\\left( 3\\alpha_{1}+ 3\\alpha_{2}+ 3\\alpha_{3}+ 3\\alpha_{4}\\right)^{2}\\oplus L\\left( 2\\alpha_{1}+ 3\\alpha_{2}+ 4\\alpha_{3}+ 3\\alpha_{4}\\right)^{3}\\oplus L\\left( 4\\alpha_{1}+ 4\\alpha_{2}+ 3\\alpha_{3}+ 2\\alpha_{4}\\right)\\oplus L\\left( 3\\alpha_{1}+ 4\\alpha_{2}+ 4\\alpha_{3}+ 2\\alpha_{4}\\right)^{4}\\oplus L\\left( 2\\alpha_{1}+ 4\\alpha_{2}+ 4\\alpha_{3}+ 3\\alpha_{4}\\right)^{4}\\oplus L\\left( 2\\alpha_{1}+ 3\\alpha_{2}+ 4\\alpha_{3}+ 4\\alpha_{4}\\right)\\oplus L\\left( 3\\alpha_{1}+ 5\\alpha_{2}+ 4\\alpha_{3}+ 2\\alpha_{4}\\right)^{2}\\oplus L\\left( 3\\alpha_{1}+ 4\\alpha_{2}+ 4\\alpha_{3}+ 3\\alpha_{4}\\right)^{3}\\oplus L\\left( 2\\alpha_{1}+ 4\\alpha_{2}+ 5\\alpha_{3}+ 3\\alpha_{4}\\right)^{2}\\oplus L\\left( 4\\alpha_{1}+ 5\\alpha_{2}+ 4\\alpha_{3}+ 2\\alpha_{4}\\right)\\oplus L\\left( 3\\alpha_{1}+ 6\\alpha_{2}+ 4\\alpha_{3}+ 2\\alpha_{4}\\right)\\oplus L\\left( 4\\alpha_{1}+ 4\\alpha_{2}+ 4\\alpha_{3}+ 3\\alpha_{4}\\right)\\oplus L\\left( 3\\alpha_{1}+ 5\\alpha_{2}+ 4\\alpha_{3}+ 3\\alpha_{4}\\right)\\oplus L\\left( 3\\alpha_{1}+ 4\\alpha_{2}+ 5\\alpha_{3}+ 3\\alpha_{4}\\right)\\oplus L\\left( 2\\alpha_{1}+ 4\\alpha_{2}+ 6\\alpha_{3}+ 3\\alpha_{4}\\right)\\oplus L\\left( 3\\alpha_{1}+ 4\\alpha_{2}+ 4\\alpha_{3}+ 4\\alpha_{4}\\right)\\oplus L\\left( 2\\alpha_{1}+ 4\\alpha_{2}+ 5\\alpha_{3}+ 4\\alpha_{4}\\right)\\oplus L\\left( 3\\alpha_{1}+ 5\\alpha_{2}+ 5\\alpha_{3}+ 3\\alpha_{4}\\right)$$"
      ],
      "text/plain": [
       "<IPython.core.display.Math object>"
      ]
     },
     "metadata": {},
     "output_type": "display_data"
    },
    {
     "data": {
      "text/latex": [
       "$$\\mathrm b^{0}(X_{},\\wedge^{6}T_X)=134773$$"
      ],
      "text/plain": [
       "<IPython.core.display.Math object>"
      ]
     },
     "metadata": {},
     "output_type": "display_data"
    },
    {
     "data": {
      "text/latex": [
       "$$\\mathrm H^{0}(X_{},\\wedge^{7}T_X)=L\\left( 2\\alpha_{1}+ 3\\alpha_{2}+ 3\\alpha_{3}+ 2\\alpha_{4}\\right)\\oplus L\\left( 3\\alpha_{1}+ 3\\alpha_{2}+ 3\\alpha_{3}+ 2\\alpha_{4}\\right)\\oplus L\\left( 2\\alpha_{1}+ 4\\alpha_{2}+ 3\\alpha_{3}+ 2\\alpha_{4}\\right)\\oplus L\\left( 2\\alpha_{1}+ 3\\alpha_{2}+ 4\\alpha_{3}+ 2\\alpha_{4}\\right)\\oplus L\\left( 2\\alpha_{1}+ 3\\alpha_{2}+ 3\\alpha_{3}+ 3\\alpha_{4}\\right)\\oplus L\\left( 3\\alpha_{1}+ 4\\alpha_{2}+ 3\\alpha_{3}+ 2\\alpha_{4}\\right)^{3}\\oplus L\\left( 2\\alpha_{1}+ 4\\alpha_{2}+ 4\\alpha_{3}+ 2\\alpha_{4}\\right)^{3}\\oplus L\\left( 3\\alpha_{1}+ 3\\alpha_{2}+ 3\\alpha_{3}+ 3\\alpha_{4}\\right)\\oplus L\\left( 2\\alpha_{1}+ 3\\alpha_{2}+ 4\\alpha_{3}+ 3\\alpha_{4}\\right)^{3}\\oplus L\\left( 4\\alpha_{1}+ 4\\alpha_{2}+ 3\\alpha_{3}+ 2\\alpha_{4}\\right)\\oplus L\\left( 3\\alpha_{1}+ 4\\alpha_{2}+ 4\\alpha_{3}+ 2\\alpha_{4}\\right)^{3}\\oplus L\\left( 2\\alpha_{1}+ 4\\alpha_{2}+ 4\\alpha_{3}+ 3\\alpha_{4}\\right)^{3}\\oplus L\\left( 2\\alpha_{1}+ 3\\alpha_{2}+ 4\\alpha_{3}+ 4\\alpha_{4}\\right)\\oplus L\\left( 4\\alpha_{1}+ 4\\alpha_{2}+ 4\\alpha_{3}+ 2\\alpha_{4}\\right)^{2}\\oplus L\\left( 3\\alpha_{1}+ 5\\alpha_{2}+ 4\\alpha_{3}+ 2\\alpha_{4}\\right)^{2}\\oplus L\\left( 3\\alpha_{1}+ 4\\alpha_{2}+ 4\\alpha_{3}+ 3\\alpha_{4}\\right)^{6}\\oplus L\\left( 2\\alpha_{1}+ 4\\alpha_{2}+ 5\\alpha_{3}+ 3\\alpha_{4}\\right)^{2}\\oplus L\\left( 2\\alpha_{1}+ 4\\alpha_{2}+ 4\\alpha_{3}+ 4\\alpha_{4}\\right)^{2}\\oplus L\\left( 4\\alpha_{1}+ 5\\alpha_{2}+ 4\\alpha_{3}+ 2\\alpha_{4}\\right)\\oplus L\\left( 4\\alpha_{1}+ 4\\alpha_{2}+ 4\\alpha_{3}+ 3\\alpha_{4}\\right)\\oplus L\\left( 3\\alpha_{1}+ 5\\alpha_{2}+ 4\\alpha_{3}+ 3\\alpha_{4}\\right)^{3}\\oplus L\\left( 3\\alpha_{1}+ 4\\alpha_{2}+ 5\\alpha_{3}+ 3\\alpha_{4}\\right)^{3}\\oplus L\\left( 3\\alpha_{1}+ 4\\alpha_{2}+ 4\\alpha_{3}+ 4\\alpha_{4}\\right)\\oplus L\\left( 2\\alpha_{1}+ 4\\alpha_{2}+ 5\\alpha_{3}+ 4\\alpha_{4}\\right)\\oplus L\\left( 4\\alpha_{1}+ 6\\alpha_{2}+ 4\\alpha_{3}+ 2\\alpha_{4}\\right)\\oplus L\\left( 4\\alpha_{1}+ 5\\alpha_{2}+ 4\\alpha_{3}+ 3\\alpha_{4}\\right)\\oplus L\\left( 3\\alpha_{1}+ 5\\alpha_{2}+ 5\\alpha_{3}+ 3\\alpha_{4}\\right)^{3}\\oplus L\\left( 4\\alpha_{1}+ 4\\alpha_{2}+ 4\\alpha_{3}+ 4\\alpha_{4}\\right)\\oplus L\\left( 3\\alpha_{1}+ 4\\alpha_{2}+ 5\\alpha_{3}+ 4\\alpha_{4}\\right)\\oplus L\\left( 2\\alpha_{1}+ 4\\alpha_{2}+ 6\\alpha_{3}+ 4\\alpha_{4}\\right)\\oplus L\\left( 4\\alpha_{1}+ 5\\alpha_{2}+ 5\\alpha_{3}+ 3\\alpha_{4}\\right)\\oplus L\\left( 3\\alpha_{1}+ 6\\alpha_{2}+ 5\\alpha_{3}+ 3\\alpha_{4}\\right)\\oplus L\\left( 3\\alpha_{1}+ 5\\alpha_{2}+ 6\\alpha_{3}+ 3\\alpha_{4}\\right)\\oplus L\\left( 3\\alpha_{1}+ 5\\alpha_{2}+ 5\\alpha_{3}+ 4\\alpha_{4}\\right)$$"
      ],
      "text/plain": [
       "<IPython.core.display.Math object>"
      ]
     },
     "metadata": {},
     "output_type": "display_data"
    },
    {
     "data": {
      "text/latex": [
       "$$\\mathrm b^{0}(X_{},\\wedge^{7}T_X)=264427$$"
      ],
      "text/plain": [
       "<IPython.core.display.Math object>"
      ]
     },
     "metadata": {},
     "output_type": "display_data"
    },
    {
     "data": {
      "text/latex": [
       "$$\\mathrm H^{0}(X_{},\\wedge^{8}T_X)=L\\left( 3\\alpha_{1}+ 4\\alpha_{2}+ 4\\alpha_{3}+ 2\\alpha_{4}\\right)\\oplus L\\left( 2\\alpha_{1}+ 4\\alpha_{2}+ 4\\alpha_{3}+ 3\\alpha_{4}\\right)\\oplus L\\left( 3\\alpha_{1}+ 5\\alpha_{2}+ 4\\alpha_{3}+ 2\\alpha_{4}\\right)\\oplus L\\left( 3\\alpha_{1}+ 4\\alpha_{2}+ 4\\alpha_{3}+ 3\\alpha_{4}\\right)^{2}\\oplus L\\left( 2\\alpha_{1}+ 4\\alpha_{2}+ 5\\alpha_{3}+ 3\\alpha_{4}\\right)\\oplus L\\left( 4\\alpha_{1}+ 5\\alpha_{2}+ 4\\alpha_{3}+ 2\\alpha_{4}\\right)\\oplus L\\left( 4\\alpha_{1}+ 4\\alpha_{2}+ 4\\alpha_{3}+ 3\\alpha_{4}\\right)\\oplus L\\left( 3\\alpha_{1}+ 5\\alpha_{2}+ 4\\alpha_{3}+ 3\\alpha_{4}\\right)^{2}\\oplus L\\left( 3\\alpha_{1}+ 4\\alpha_{2}+ 5\\alpha_{3}+ 3\\alpha_{4}\\right)^{2}\\oplus L\\left( 3\\alpha_{1}+ 4\\alpha_{2}+ 4\\alpha_{3}+ 4\\alpha_{4}\\right)\\oplus L\\left( 2\\alpha_{1}+ 4\\alpha_{2}+ 5\\alpha_{3}+ 4\\alpha_{4}\\right)\\oplus L\\left( 4\\alpha_{1}+ 5\\alpha_{2}+ 4\\alpha_{3}+ 3\\alpha_{4}\\right)^{2}\\oplus L\\left( 3\\alpha_{1}+ 5\\alpha_{2}+ 5\\alpha_{3}+ 3\\alpha_{4}\\right)^{3}\\oplus L\\left( 3\\alpha_{1}+ 4\\alpha_{2}+ 5\\alpha_{3}+ 4\\alpha_{4}\\right)^{2}\\oplus L\\left( 4\\alpha_{1}+ 5\\alpha_{2}+ 5\\alpha_{3}+ 3\\alpha_{4}\\right)^{2}\\oplus L\\left( 3\\alpha_{1}+ 6\\alpha_{2}+ 5\\alpha_{3}+ 3\\alpha_{4}\\right)\\oplus L\\left( 3\\alpha_{1}+ 5\\alpha_{2}+ 6\\alpha_{3}+ 3\\alpha_{4}\\right)\\oplus L\\left( 3\\alpha_{1}+ 5\\alpha_{2}+ 5\\alpha_{3}+ 4\\alpha_{4}\\right)^{2}\\oplus L\\left( 4\\alpha_{1}+ 6\\alpha_{2}+ 5\\alpha_{3}+ 3\\alpha_{4}\\right)\\oplus L\\left( 4\\alpha_{1}+ 5\\alpha_{2}+ 6\\alpha_{3}+ 3\\alpha_{4}\\right)\\oplus L\\left( 3\\alpha_{1}+ 6\\alpha_{2}+ 6\\alpha_{3}+ 3\\alpha_{4}\\right)\\oplus L\\left( 4\\alpha_{1}+ 5\\alpha_{2}+ 5\\alpha_{3}+ 4\\alpha_{4}\\right)\\oplus L\\left( 3\\alpha_{1}+ 6\\alpha_{2}+ 5\\alpha_{3}+ 4\\alpha_{4}\\right)\\oplus L\\left( 3\\alpha_{1}+ 5\\alpha_{2}+ 6\\alpha_{3}+ 4\\alpha_{4}\\right)$$"
      ],
      "text/plain": [
       "<IPython.core.display.Math object>"
      ]
     },
     "metadata": {},
     "output_type": "display_data"
    },
    {
     "data": {
      "text/latex": [
       "$$\\mathrm b^{0}(X_{},\\wedge^{8}T_X)=319222$$"
      ],
      "text/plain": [
       "<IPython.core.display.Math object>"
      ]
     },
     "metadata": {},
     "output_type": "display_data"
    },
    {
     "data": {
      "text/latex": [
       "$$\\mathrm H^{0}(X_{},\\wedge^{9}T_X)=L\\left( 3\\alpha_{1}+ 5\\alpha_{2}+ 5\\alpha_{3}+ 3\\alpha_{4}\\right)\\oplus L\\left( 4\\alpha_{1}+ 5\\alpha_{2}+ 5\\alpha_{3}+ 3\\alpha_{4}\\right)\\oplus L\\left( 3\\alpha_{1}+ 5\\alpha_{2}+ 5\\alpha_{3}+ 4\\alpha_{4}\\right)\\oplus L\\left( 4\\alpha_{1}+ 6\\alpha_{2}+ 5\\alpha_{3}+ 3\\alpha_{4}\\right)\\oplus L\\left( 4\\alpha_{1}+ 5\\alpha_{2}+ 5\\alpha_{3}+ 4\\alpha_{4}\\right)\\oplus L\\left( 3\\alpha_{1}+ 5\\alpha_{2}+ 6\\alpha_{3}+ 4\\alpha_{4}\\right)\\oplus L\\left( 4\\alpha_{1}+ 6\\alpha_{2}+ 6\\alpha_{3}+ 3\\alpha_{4}\\right)\\oplus L\\left( 4\\alpha_{1}+ 6\\alpha_{2}+ 5\\alpha_{3}+ 4\\alpha_{4}\\right)\\oplus L\\left( 4\\alpha_{1}+ 5\\alpha_{2}+ 6\\alpha_{3}+ 4\\alpha_{4}\\right)\\oplus L\\left( 3\\alpha_{1}+ 6\\alpha_{2}+ 6\\alpha_{3}+ 4\\alpha_{4}\\right)$$"
      ],
      "text/plain": [
       "<IPython.core.display.Math object>"
      ]
     },
     "metadata": {},
     "output_type": "display_data"
    },
    {
     "data": {
      "text/latex": [
       "$$\\mathrm b^{0}(X_{},\\wedge^{9}T_X)=212178$$"
      ],
      "text/plain": [
       "<IPython.core.display.Math object>"
      ]
     },
     "metadata": {},
     "output_type": "display_data"
    },
    {
     "data": {
      "text/latex": [
       "$$\\mathrm H^{0}(X_{},\\wedge^{10}T_X)=L\\left( 4\\alpha_{1}+ 6\\alpha_{2}+ 6\\alpha_{3}+ 4\\alpha_{4}\\right)$$"
      ],
      "text/plain": [
       "<IPython.core.display.Math object>"
      ]
     },
     "metadata": {},
     "output_type": "display_data"
    },
    {
     "data": {
      "text/latex": [
       "$$\\mathrm b^{0}(X_{},\\wedge^{10}T_X)=59049$$"
      ],
      "text/plain": [
       "<IPython.core.display.Math object>"
      ]
     },
     "metadata": {},
     "output_type": "display_data"
    },
    {
     "name": "stdout",
     "output_type": "stream",
     "text": [
      "\n",
      "dim of u is 9 for root system A4 and subset (1,)\n"
     ]
    },
    {
     "data": {
      "application/vnd.jupyter.widget-view+json": {
       "model_id": "197fca7dd41648729325ad994e09dcaa",
       "version_major": 2,
       "version_minor": 0
      },
      "text/plain": [
       "HBox(children=(FloatProgress(value=0.0, max=10.0), HTML(value='')))"
      ]
     },
     "metadata": {},
     "output_type": "display_data"
    },
    {
     "data": {
      "application/vnd.jupyter.widget-view+json": {
       "model_id": "f96491ad328a4f27a8de5ae8a292f046",
       "version_major": 2,
       "version_minor": 0
      },
      "text/plain": [
       "HBox(children=(FloatProgress(value=1.0, bar_style='info', max=1.0), HTML(value='')))"
      ]
     },
     "metadata": {},
     "output_type": "display_data"
    },
    {
     "data": {
      "application/vnd.jupyter.widget-view+json": {
       "model_id": "f0b2827020094cf68618871edd7d8dbe",
       "version_major": 2,
       "version_minor": 0
      },
      "text/plain": [
       "HBox(children=(FloatProgress(value=1.0, bar_style='info', max=1.0), HTML(value='')))"
      ]
     },
     "metadata": {},
     "output_type": "display_data"
    },
    {
     "data": {
      "text/latex": [
       "$$\\mathrm H^{0}(X_{1},\\wedge^{0}T_X)=\\mathbb{C}$$"
      ],
      "text/plain": [
       "<IPython.core.display.Math object>"
      ]
     },
     "metadata": {},
     "output_type": "display_data"
    },
    {
     "data": {
      "text/latex": [
       "$$\\mathrm b^{0}(X_{1},\\wedge^{0}T_X)=1$$"
      ],
      "text/plain": [
       "<IPython.core.display.Math object>"
      ]
     },
     "metadata": {},
     "output_type": "display_data"
    },
    {
     "data": {
      "text/latex": [
       "$$\\mathrm H^{0}(X_{1},\\wedge^{1}T_X)=L\\left(\\alpha_{1}+\\alpha_{2}+\\alpha_{3}+\\alpha_{4}\\right)$$"
      ],
      "text/plain": [
       "<IPython.core.display.Math object>"
      ]
     },
     "metadata": {},
     "output_type": "display_data"
    },
    {
     "data": {
      "text/latex": [
       "$$\\mathrm b^{0}(X_{1},\\wedge^{1}T_X)=24$$"
      ],
      "text/plain": [
       "<IPython.core.display.Math object>"
      ]
     },
     "metadata": {},
     "output_type": "display_data"
    },
    {
     "data": {
      "text/latex": [
       "$$\\mathrm H^{0}(X_{1},\\wedge^{2}T_X)=L\\left(\\alpha_{1}+\\alpha_{2}+\\alpha_{3}+\\alpha_{4}\\right)\\oplus L\\left( 2\\alpha_{1}+ 2\\alpha_{2}+ 2\\alpha_{3}+\\alpha_{4}\\right)\\oplus L\\left(\\alpha_{1}+ 2\\alpha_{2}+ 2\\alpha_{3}+ 2\\alpha_{4}\\right)$$"
      ],
      "text/plain": [
       "<IPython.core.display.Math object>"
      ]
     },
     "metadata": {},
     "output_type": "display_data"
    },
    {
     "data": {
      "text/latex": [
       "$$\\mathrm b^{0}(X_{1},\\wedge^{2}T_X)=276$$"
      ],
      "text/plain": [
       "<IPython.core.display.Math object>"
      ]
     },
     "metadata": {},
     "output_type": "display_data"
    },
    {
     "data": {
      "text/latex": [
       "$$\\mathrm H^{0}(X_{1},\\wedge^{3}T_X)=L\\left(\\alpha_{1}+\\alpha_{2}+\\alpha_{3}+\\alpha_{4}\\right)\\oplus L\\left(\\alpha_{1}+ 2\\alpha_{2}+ 2\\alpha_{3}+\\alpha_{4}\\right)\\oplus L\\left( 2\\alpha_{1}+ 2\\alpha_{2}+ 2\\alpha_{3}+\\alpha_{4}\\right)\\oplus L\\left(\\alpha_{1}+ 2\\alpha_{2}+ 2\\alpha_{3}+ 2\\alpha_{4}\\right)\\oplus L\\left( 2\\alpha_{1}+ 2\\alpha_{2}+ 2\\alpha_{3}+ 2\\alpha_{4}\\right)\\oplus L\\left( 3\\alpha_{1}+ 3\\alpha_{2}+ 2\\alpha_{3}+\\alpha_{4}\\right)\\oplus L\\left(\\alpha_{1}+ 2\\alpha_{2}+ 3\\alpha_{3}+ 3\\alpha_{4}\\right)\\oplus L\\left( 2\\alpha_{1}+ 3\\alpha_{2}+ 3\\alpha_{3}+ 2\\alpha_{4}\\right)$$"
      ],
      "text/plain": [
       "<IPython.core.display.Math object>"
      ]
     },
     "metadata": {},
     "output_type": "display_data"
    },
    {
     "data": {
      "text/latex": [
       "$$\\mathrm b^{0}(X_{1},\\wedge^{3}T_X)=2023$$"
      ],
      "text/plain": [
       "<IPython.core.display.Math object>"
      ]
     },
     "metadata": {},
     "output_type": "display_data"
    },
    {
     "data": {
      "text/latex": [
       "$$\\mathrm H^{0}(X_{1},\\wedge^{4}T_X)=L\\left(\\alpha_{1}+ 2\\alpha_{2}+ 2\\alpha_{3}+\\alpha_{4}\\right)^{2}\\oplus L\\left( 2\\alpha_{1}+ 2\\alpha_{2}+ 2\\alpha_{3}+\\alpha_{4}\\right)\\oplus L\\left(\\alpha_{1}+ 2\\alpha_{2}+ 2\\alpha_{3}+ 2\\alpha_{4}\\right)\\oplus L\\left( 2\\alpha_{1}+ 3\\alpha_{2}+ 2\\alpha_{3}+\\alpha_{4}\\right)\\oplus L\\left( 2\\alpha_{1}+ 2\\alpha_{2}+ 2\\alpha_{3}+ 2\\alpha_{4}\\right)^{2}\\oplus L\\left(\\alpha_{1}+ 2\\alpha_{2}+ 3\\alpha_{3}+ 2\\alpha_{4}\\right)^{2}\\oplus L\\left(\\alpha_{1}+ 2\\alpha_{2}+ 3\\alpha_{3}+ 3\\alpha_{4}\\right)\\oplus L\\left( 2\\alpha_{1}+ 3\\alpha_{2}+ 3\\alpha_{3}+ 2\\alpha_{4}\\right)^{2}\\oplus L\\left(\\alpha_{1}+ 2\\alpha_{2}+ 3\\alpha_{3}+ 4\\alpha_{4}\\right)\\oplus L\\left( 3\\alpha_{1}+ 3\\alpha_{2}+ 3\\alpha_{3}+ 2\\alpha_{4}\\right)\\oplus L\\left( 2\\alpha_{1}+ 3\\alpha_{2}+ 3\\alpha_{3}+ 3\\alpha_{4}\\right)\\oplus L\\left( 3\\alpha_{1}+ 4\\alpha_{2}+ 3\\alpha_{3}+ 2\\alpha_{4}\\right)\\oplus L\\left( 2\\alpha_{1}+ 4\\alpha_{2}+ 4\\alpha_{3}+ 2\\alpha_{4}\\right)\\oplus L\\left( 2\\alpha_{1}+ 3\\alpha_{2}+ 4\\alpha_{3}+ 3\\alpha_{4}\\right)$$"
      ],
      "text/plain": [
       "<IPython.core.display.Math object>"
      ]
     },
     "metadata": {},
     "output_type": "display_data"
    },
    {
     "data": {
      "text/latex": [
       "$$\\mathrm b^{0}(X_{1},\\wedge^{4}T_X)=10403$$"
      ],
      "text/plain": [
       "<IPython.core.display.Math object>"
      ]
     },
     "metadata": {},
     "output_type": "display_data"
    },
    {
     "data": {
      "text/latex": [
       "$$\\mathrm H^{0}(X_{1},\\wedge^{5}T_X)=L\\left(\\alpha_{1}+ 2\\alpha_{2}+ 2\\alpha_{3}+ 2\\alpha_{4}\\right)\\oplus L\\left( 2\\alpha_{1}+ 3\\alpha_{2}+ 2\\alpha_{3}+\\alpha_{4}\\right)\\oplus L\\left(\\alpha_{1}+ 2\\alpha_{2}+ 3\\alpha_{3}+ 2\\alpha_{4}\\right)\\oplus L\\left(\\alpha_{1}+ 2\\alpha_{2}+ 3\\alpha_{3}+ 3\\alpha_{4}\\right)\\oplus L\\left( 2\\alpha_{1}+ 3\\alpha_{2}+ 3\\alpha_{3}+ 2\\alpha_{4}\\right)^{4}\\oplus L\\left( 3\\alpha_{1}+ 3\\alpha_{2}+ 3\\alpha_{3}+ 2\\alpha_{4}\\right)\\oplus L\\left( 2\\alpha_{1}+ 4\\alpha_{2}+ 3\\alpha_{3}+ 2\\alpha_{4}\\right)\\oplus L\\left( 2\\alpha_{1}+ 3\\alpha_{2}+ 4\\alpha_{3}+ 2\\alpha_{4}\\right)^{2}\\oplus L\\left( 2\\alpha_{1}+ 3\\alpha_{2}+ 3\\alpha_{3}+ 3\\alpha_{4}\\right)^{2}\\oplus L\\left( 3\\alpha_{1}+ 4\\alpha_{2}+ 3\\alpha_{3}+ 2\\alpha_{4}\\right)\\oplus L\\left( 2\\alpha_{1}+ 4\\alpha_{2}+ 4\\alpha_{3}+ 2\\alpha_{4}\\right)\\oplus L\\left( 3\\alpha_{1}+ 3\\alpha_{2}+ 3\\alpha_{3}+ 3\\alpha_{4}\\right)\\oplus L\\left( 2\\alpha_{1}+ 3\\alpha_{2}+ 4\\alpha_{3}+ 3\\alpha_{4}\\right)^{2}\\oplus L\\left( 3\\alpha_{1}+ 4\\alpha_{2}+ 4\\alpha_{3}+ 2\\alpha_{4}\\right)\\oplus L\\left( 2\\alpha_{1}+ 4\\alpha_{2}+ 4\\alpha_{3}+ 3\\alpha_{4}\\right)\\oplus L\\left( 2\\alpha_{1}+ 3\\alpha_{2}+ 4\\alpha_{3}+ 4\\alpha_{4}\\right)\\oplus L\\left( 3\\alpha_{1}+ 5\\alpha_{2}+ 4\\alpha_{3}+ 2\\alpha_{4}\\right)\\oplus L\\left( 3\\alpha_{1}+ 4\\alpha_{2}+ 4\\alpha_{3}+ 3\\alpha_{4}\\right)\\oplus L\\left( 2\\alpha_{1}+ 4\\alpha_{2}+ 5\\alpha_{3}+ 3\\alpha_{4}\\right)$$"
      ],
      "text/plain": [
       "<IPython.core.display.Math object>"
      ]
     },
     "metadata": {},
     "output_type": "display_data"
    },
    {
     "data": {
      "text/latex": [
       "$$\\mathrm b^{0}(X_{1},\\wedge^{5}T_X)=36648$$"
      ],
      "text/plain": [
       "<IPython.core.display.Math object>"
      ]
     },
     "metadata": {},
     "output_type": "display_data"
    },
    {
     "data": {
      "text/latex": [
       "$$\\mathrm H^{0}(X_{1},\\wedge^{6}T_X)=L\\left( 2\\alpha_{1}+ 3\\alpha_{2}+ 3\\alpha_{3}+ 2\\alpha_{4}\\right)\\oplus L\\left( 2\\alpha_{1}+ 4\\alpha_{2}+ 3\\alpha_{3}+ 2\\alpha_{4}\\right)^{2}\\oplus L\\left( 2\\alpha_{1}+ 3\\alpha_{2}+ 4\\alpha_{3}+ 2\\alpha_{4}\\right)\\oplus L\\left( 2\\alpha_{1}+ 3\\alpha_{2}+ 3\\alpha_{3}+ 3\\alpha_{4}\\right)\\oplus L\\left( 3\\alpha_{1}+ 4\\alpha_{2}+ 3\\alpha_{3}+ 2\\alpha_{4}\\right)\\oplus L\\left( 2\\alpha_{1}+ 4\\alpha_{2}+ 4\\alpha_{3}+ 2\\alpha_{4}\\right)\\oplus L\\left( 2\\alpha_{1}+ 3\\alpha_{2}+ 4\\alpha_{3}+ 3\\alpha_{4}\\right)^{2}\\oplus L\\left( 3\\alpha_{1}+ 4\\alpha_{2}+ 4\\alpha_{3}+ 2\\alpha_{4}\\right)^{2}\\oplus L\\left( 2\\alpha_{1}+ 4\\alpha_{2}+ 4\\alpha_{3}+ 3\\alpha_{4}\\right)^{3}\\oplus L\\left( 2\\alpha_{1}+ 3\\alpha_{2}+ 4\\alpha_{3}+ 4\\alpha_{4}\\right)\\oplus L\\left( 3\\alpha_{1}+ 5\\alpha_{2}+ 4\\alpha_{3}+ 2\\alpha_{4}\\right)\\oplus L\\left( 3\\alpha_{1}+ 4\\alpha_{2}+ 4\\alpha_{3}+ 3\\alpha_{4}\\right)^{2}\\oplus L\\left( 2\\alpha_{1}+ 4\\alpha_{2}+ 5\\alpha_{3}+ 3\\alpha_{4}\\right)^{2}\\oplus L\\left( 3\\alpha_{1}+ 6\\alpha_{2}+ 4\\alpha_{3}+ 2\\alpha_{4}\\right)\\oplus L\\left( 3\\alpha_{1}+ 5\\alpha_{2}+ 4\\alpha_{3}+ 3\\alpha_{4}\\right)\\oplus L\\left( 3\\alpha_{1}+ 4\\alpha_{2}+ 5\\alpha_{3}+ 3\\alpha_{4}\\right)\\oplus L\\left( 2\\alpha_{1}+ 4\\alpha_{2}+ 6\\alpha_{3}+ 3\\alpha_{4}\\right)\\oplus L\\left( 3\\alpha_{1}+ 4\\alpha_{2}+ 4\\alpha_{3}+ 4\\alpha_{4}\\right)\\oplus L\\left( 2\\alpha_{1}+ 4\\alpha_{2}+ 5\\alpha_{3}+ 4\\alpha_{4}\\right)\\oplus L\\left( 3\\alpha_{1}+ 5\\alpha_{2}+ 5\\alpha_{3}+ 3\\alpha_{4}\\right)$$"
      ],
      "text/plain": [
       "<IPython.core.display.Math object>"
      ]
     },
     "metadata": {},
     "output_type": "display_data"
    },
    {
     "data": {
      "text/latex": [
       "$$\\mathrm b^{0}(X_{1},\\wedge^{6}T_X)=82252$$"
      ],
      "text/plain": [
       "<IPython.core.display.Math object>"
      ]
     },
     "metadata": {},
     "output_type": "display_data"
    },
    {
     "data": {
      "text/latex": [
       "$$\\mathrm H^{0}(X_{1},\\wedge^{7}T_X)=L\\left( 2\\alpha_{1}+ 4\\alpha_{2}+ 4\\alpha_{3}+ 2\\alpha_{4}\\right)\\oplus L\\left( 2\\alpha_{1}+ 4\\alpha_{2}+ 4\\alpha_{3}+ 3\\alpha_{4}\\right)\\oplus L\\left( 3\\alpha_{1}+ 5\\alpha_{2}+ 4\\alpha_{3}+ 2\\alpha_{4}\\right)\\oplus L\\left( 3\\alpha_{1}+ 4\\alpha_{2}+ 4\\alpha_{3}+ 3\\alpha_{4}\\right)\\oplus L\\left( 2\\alpha_{1}+ 4\\alpha_{2}+ 5\\alpha_{3}+ 3\\alpha_{4}\\right)\\oplus L\\left( 2\\alpha_{1}+ 4\\alpha_{2}+ 4\\alpha_{3}+ 4\\alpha_{4}\\right)\\oplus L\\left( 3\\alpha_{1}+ 5\\alpha_{2}+ 4\\alpha_{3}+ 3\\alpha_{4}\\right)^{2}\\oplus L\\left( 3\\alpha_{1}+ 4\\alpha_{2}+ 5\\alpha_{3}+ 3\\alpha_{4}\\right)\\oplus L\\left( 2\\alpha_{1}+ 4\\alpha_{2}+ 5\\alpha_{3}+ 4\\alpha_{4}\\right)\\oplus L\\left( 3\\alpha_{1}+ 5\\alpha_{2}+ 5\\alpha_{3}+ 3\\alpha_{4}\\right)^{2}\\oplus L\\left( 3\\alpha_{1}+ 4\\alpha_{2}+ 5\\alpha_{3}+ 4\\alpha_{4}\\right)\\oplus L\\left( 2\\alpha_{1}+ 4\\alpha_{2}+ 6\\alpha_{3}+ 4\\alpha_{4}\\right)\\oplus L\\left( 3\\alpha_{1}+ 6\\alpha_{2}+ 5\\alpha_{3}+ 3\\alpha_{4}\\right)\\oplus L\\left( 3\\alpha_{1}+ 5\\alpha_{2}+ 6\\alpha_{3}+ 3\\alpha_{4}\\right)\\oplus L\\left( 3\\alpha_{1}+ 5\\alpha_{2}+ 5\\alpha_{3}+ 4\\alpha_{4}\\right)$$"
      ],
      "text/plain": [
       "<IPython.core.display.Math object>"
      ]
     },
     "metadata": {},
     "output_type": "display_data"
    },
    {
     "data": {
      "text/latex": [
       "$$\\mathrm b^{0}(X_{1},\\wedge^{7}T_X)=109723$$"
      ],
      "text/plain": [
       "<IPython.core.display.Math object>"
      ]
     },
     "metadata": {},
     "output_type": "display_data"
    },
    {
     "data": {
      "text/latex": [
       "$$\\mathrm H^{0}(X_{1},\\wedge^{8}T_X)=L\\left( 3\\alpha_{1}+ 5\\alpha_{2}+ 5\\alpha_{3}+ 3\\alpha_{4}\\right)\\oplus L\\left( 3\\alpha_{1}+ 6\\alpha_{2}+ 5\\alpha_{3}+ 3\\alpha_{4}\\right)\\oplus L\\left( 3\\alpha_{1}+ 5\\alpha_{2}+ 5\\alpha_{3}+ 4\\alpha_{4}\\right)\\oplus L\\left( 3\\alpha_{1}+ 6\\alpha_{2}+ 6\\alpha_{3}+ 3\\alpha_{4}\\right)\\oplus L\\left( 3\\alpha_{1}+ 6\\alpha_{2}+ 5\\alpha_{3}+ 4\\alpha_{4}\\right)\\oplus L\\left( 3\\alpha_{1}+ 5\\alpha_{2}+ 6\\alpha_{3}+ 4\\alpha_{4}\\right)$$"
      ],
      "text/plain": [
       "<IPython.core.display.Math object>"
      ]
     },
     "metadata": {},
     "output_type": "display_data"
    },
    {
     "data": {
      "text/latex": [
       "$$\\mathrm b^{0}(X_{1},\\wedge^{8}T_X)=78526$$"
      ],
      "text/plain": [
       "<IPython.core.display.Math object>"
      ]
     },
     "metadata": {},
     "output_type": "display_data"
    },
    {
     "data": {
      "text/latex": [
       "$$\\mathrm H^{0}(X_{1},\\wedge^{9}T_X)=L\\left( 3\\alpha_{1}+ 6\\alpha_{2}+ 6\\alpha_{3}+ 4\\alpha_{4}\\right)$$"
      ],
      "text/plain": [
       "<IPython.core.display.Math object>"
      ]
     },
     "metadata": {},
     "output_type": "display_data"
    },
    {
     "data": {
      "text/latex": [
       "$$\\mathrm b^{0}(X_{1},\\wedge^{9}T_X)=23100$$"
      ],
      "text/plain": [
       "<IPython.core.display.Math object>"
      ]
     },
     "metadata": {},
     "output_type": "display_data"
    },
    {
     "name": "stdout",
     "output_type": "stream",
     "text": [
      "\n",
      "dim of u is 9 for root system A4 and subset (2,)\n"
     ]
    },
    {
     "data": {
      "application/vnd.jupyter.widget-view+json": {
       "model_id": "5649f778b61c4c57ba4fb32a2ed3510c",
       "version_major": 2,
       "version_minor": 0
      },
      "text/plain": [
       "HBox(children=(FloatProgress(value=0.0, max=10.0), HTML(value='')))"
      ]
     },
     "metadata": {},
     "output_type": "display_data"
    },
    {
     "data": {
      "application/vnd.jupyter.widget-view+json": {
       "model_id": "71e6e299cb46454080393e8e90254b47",
       "version_major": 2,
       "version_minor": 0
      },
      "text/plain": [
       "HBox(children=(FloatProgress(value=1.0, bar_style='info', max=1.0), HTML(value='')))"
      ]
     },
     "metadata": {},
     "output_type": "display_data"
    },
    {
     "data": {
      "application/vnd.jupyter.widget-view+json": {
       "model_id": "e114275f7b1c4a249dc0917366705a9e",
       "version_major": 2,
       "version_minor": 0
      },
      "text/plain": [
       "HBox(children=(FloatProgress(value=1.0, bar_style='info', max=1.0), HTML(value='')))"
      ]
     },
     "metadata": {},
     "output_type": "display_data"
    },
    {
     "data": {
      "text/latex": [
       "$$\\mathrm H^{0}(X_{2},\\wedge^{0}T_X)=\\mathbb{C}$$"
      ],
      "text/plain": [
       "<IPython.core.display.Math object>"
      ]
     },
     "metadata": {},
     "output_type": "display_data"
    },
    {
     "data": {
      "text/latex": [
       "$$\\mathrm b^{0}(X_{2},\\wedge^{0}T_X)=1$$"
      ],
      "text/plain": [
       "<IPython.core.display.Math object>"
      ]
     },
     "metadata": {},
     "output_type": "display_data"
    },
    {
     "data": {
      "text/latex": [
       "$$\\mathrm H^{0}(X_{2},\\wedge^{1}T_X)=L\\left(\\alpha_{1}+\\alpha_{2}+\\alpha_{3}+\\alpha_{4}\\right)$$"
      ],
      "text/plain": [
       "<IPython.core.display.Math object>"
      ]
     },
     "metadata": {},
     "output_type": "display_data"
    },
    {
     "data": {
      "text/latex": [
       "$$\\mathrm b^{0}(X_{2},\\wedge^{1}T_X)=24$$"
      ],
      "text/plain": [
       "<IPython.core.display.Math object>"
      ]
     },
     "metadata": {},
     "output_type": "display_data"
    },
    {
     "data": {
      "text/latex": [
       "$$\\mathrm H^{0}(X_{2},\\wedge^{2}T_X)=L\\left(\\alpha_{1}+\\alpha_{2}+\\alpha_{3}+\\alpha_{4}\\right)\\oplus L\\left( 2\\alpha_{1}+ 2\\alpha_{2}+ 2\\alpha_{3}+\\alpha_{4}\\right)\\oplus L\\left(\\alpha_{1}+ 2\\alpha_{2}+ 2\\alpha_{3}+ 2\\alpha_{4}\\right)$$"
      ],
      "text/plain": [
       "<IPython.core.display.Math object>"
      ]
     },
     "metadata": {},
     "output_type": "display_data"
    },
    {
     "data": {
      "text/latex": [
       "$$\\mathrm b^{0}(X_{2},\\wedge^{2}T_X)=276$$"
      ],
      "text/plain": [
       "<IPython.core.display.Math object>"
      ]
     },
     "metadata": {},
     "output_type": "display_data"
    },
    {
     "data": {
      "text/latex": [
       "$$\\mathrm H^{0}(X_{2},\\wedge^{3}T_X)=L\\left(\\alpha_{1}+\\alpha_{2}+\\alpha_{3}+\\alpha_{4}\\right)\\oplus L\\left(\\alpha_{1}+ 2\\alpha_{2}+ 2\\alpha_{3}+\\alpha_{4}\\right)^{2}\\oplus L\\left( 2\\alpha_{1}+ 2\\alpha_{2}+ 2\\alpha_{3}+\\alpha_{4}\\right)\\oplus L\\left(\\alpha_{1}+ 2\\alpha_{2}+ 2\\alpha_{3}+ 2\\alpha_{4}\\right)\\oplus L\\left( 2\\alpha_{1}+ 3\\alpha_{2}+ 2\\alpha_{3}+\\alpha_{4}\\right)\\oplus L\\left( 2\\alpha_{1}+ 2\\alpha_{2}+ 2\\alpha_{3}+ 2\\alpha_{4}\\right)\\oplus L\\left( 3\\alpha_{1}+ 3\\alpha_{2}+ 2\\alpha_{3}+\\alpha_{4}\\right)\\oplus L\\left(\\alpha_{1}+ 2\\alpha_{2}+ 3\\alpha_{3}+ 3\\alpha_{4}\\right)\\oplus L\\left( 2\\alpha_{1}+ 3\\alpha_{2}+ 3\\alpha_{3}+ 2\\alpha_{4}\\right)$$"
      ],
      "text/plain": [
       "<IPython.core.display.Math object>"
      ]
     },
     "metadata": {},
     "output_type": "display_data"
    },
    {
     "data": {
      "text/latex": [
       "$$\\mathrm b^{0}(X_{2},\\wedge^{3}T_X)=2273$$"
      ],
      "text/plain": [
       "<IPython.core.display.Math object>"
      ]
     },
     "metadata": {},
     "output_type": "display_data"
    },
    {
     "data": {
      "text/latex": [
       "$$\\mathrm H^{0}(X_{2},\\wedge^{4}T_X)=L\\left(\\alpha_{1}+ 2\\alpha_{2}+ 2\\alpha_{3}+\\alpha_{4}\\right)\\oplus L\\left( 2\\alpha_{1}+ 2\\alpha_{2}+ 2\\alpha_{3}+\\alpha_{4}\\right)\\oplus L\\left(\\alpha_{1}+ 2\\alpha_{2}+ 2\\alpha_{3}+ 2\\alpha_{4}\\right)^{2}\\oplus L\\left( 2\\alpha_{1}+ 3\\alpha_{2}+ 2\\alpha_{3}+\\alpha_{4}\\right)^{2}\\oplus L\\left( 2\\alpha_{1}+ 2\\alpha_{2}+ 2\\alpha_{3}+ 2\\alpha_{4}\\right)^{2}\\oplus L\\left(\\alpha_{1}+ 2\\alpha_{2}+ 3\\alpha_{3}+ 2\\alpha_{4}\\right)^{2}\\oplus L\\left( 3\\alpha_{1}+ 3\\alpha_{2}+ 2\\alpha_{3}+\\alpha_{4}\\right)\\oplus L\\left(\\alpha_{1}+ 2\\alpha_{2}+ 3\\alpha_{3}+ 3\\alpha_{4}\\right)\\oplus L\\left( 4\\alpha_{1}+ 3\\alpha_{2}+ 2\\alpha_{3}+\\alpha_{4}\\right)\\oplus L\\left( 2\\alpha_{1}+ 3\\alpha_{2}+ 3\\alpha_{3}+ 2\\alpha_{4}\\right)^{3}\\oplus L\\left(\\alpha_{1}+ 2\\alpha_{2}+ 3\\alpha_{3}+ 4\\alpha_{4}\\right)\\oplus L\\left( 3\\alpha_{1}+ 3\\alpha_{2}+ 3\\alpha_{3}+ 2\\alpha_{4}\\right)\\oplus L\\left( 2\\alpha_{1}+ 4\\alpha_{2}+ 3\\alpha_{3}+ 2\\alpha_{4}\\right)\\oplus L\\left( 2\\alpha_{1}+ 3\\alpha_{2}+ 3\\alpha_{3}+ 3\\alpha_{4}\\right)\\oplus L\\left( 3\\alpha_{1}+ 4\\alpha_{2}+ 3\\alpha_{3}+ 2\\alpha_{4}\\right)\\oplus L\\left( 2\\alpha_{1}+ 4\\alpha_{2}+ 4\\alpha_{3}+ 2\\alpha_{4}\\right)\\oplus L\\left( 2\\alpha_{1}+ 3\\alpha_{2}+ 4\\alpha_{3}+ 3\\alpha_{4}\\right)$$"
      ],
      "text/plain": [
       "<IPython.core.display.Math object>"
      ]
     },
     "metadata": {},
     "output_type": "display_data"
    },
    {
     "data": {
      "text/latex": [
       "$$\\mathrm b^{0}(X_{2},\\wedge^{4}T_X)=12703$$"
      ],
      "text/plain": [
       "<IPython.core.display.Math object>"
      ]
     },
     "metadata": {},
     "output_type": "display_data"
    },
    {
     "data": {
      "text/latex": [
       "$$\\mathrm H^{0}(X_{2},\\wedge^{5}T_X)=L\\left( 2\\alpha_{1}+ 2\\alpha_{2}+ 2\\alpha_{3}+\\alpha_{4}\\right)\\oplus L\\left( 2\\alpha_{1}+ 2\\alpha_{2}+ 2\\alpha_{3}+ 2\\alpha_{4}\\right)\\oplus L\\left(\\alpha_{1}+ 2\\alpha_{2}+ 3\\alpha_{3}+ 2\\alpha_{4}\\right)\\oplus L\\left( 3\\alpha_{1}+ 3\\alpha_{2}+ 2\\alpha_{3}+\\alpha_{4}\\right)\\oplus L\\left(\\alpha_{1}+ 2\\alpha_{2}+ 3\\alpha_{3}+ 3\\alpha_{4}\\right)\\oplus L\\left( 2\\alpha_{1}+ 3\\alpha_{2}+ 3\\alpha_{3}+ 2\\alpha_{4}\\right)^{4}\\oplus L\\left( 3\\alpha_{1}+ 3\\alpha_{2}+ 3\\alpha_{3}+ 2\\alpha_{4}\\right)^{2}\\oplus L\\left( 2\\alpha_{1}+ 4\\alpha_{2}+ 3\\alpha_{3}+ 2\\alpha_{4}\\right)\\oplus L\\left( 2\\alpha_{1}+ 3\\alpha_{2}+ 4\\alpha_{3}+ 2\\alpha_{4}\\right)^{2}\\oplus L\\left( 2\\alpha_{1}+ 3\\alpha_{2}+ 3\\alpha_{3}+ 3\\alpha_{4}\\right)^{3}\\oplus L\\left( 3\\alpha_{1}+ 4\\alpha_{2}+ 3\\alpha_{3}+ 2\\alpha_{4}\\right)^{2}\\oplus L\\left( 2\\alpha_{1}+ 4\\alpha_{2}+ 4\\alpha_{3}+ 2\\alpha_{4}\\right)\\oplus L\\left( 3\\alpha_{1}+ 3\\alpha_{2}+ 3\\alpha_{3}+ 3\\alpha_{4}\\right)\\oplus L\\left( 2\\alpha_{1}+ 3\\alpha_{2}+ 4\\alpha_{3}+ 3\\alpha_{4}\\right)^{2}\\oplus L\\left( 4\\alpha_{1}+ 4\\alpha_{2}+ 3\\alpha_{3}+ 2\\alpha_{4}\\right)\\oplus L\\left( 3\\alpha_{1}+ 4\\alpha_{2}+ 4\\alpha_{3}+ 2\\alpha_{4}\\right)\\oplus L\\left( 2\\alpha_{1}+ 4\\alpha_{2}+ 4\\alpha_{3}+ 3\\alpha_{4}\\right)^{2}\\oplus L\\left( 2\\alpha_{1}+ 3\\alpha_{2}+ 4\\alpha_{3}+ 4\\alpha_{4}\\right)\\oplus L\\left( 3\\alpha_{1}+ 5\\alpha_{2}+ 4\\alpha_{3}+ 2\\alpha_{4}\\right)\\oplus L\\left( 3\\alpha_{1}+ 4\\alpha_{2}+ 4\\alpha_{3}+ 3\\alpha_{4}\\right)\\oplus L\\left( 2\\alpha_{1}+ 4\\alpha_{2}+ 5\\alpha_{3}+ 3\\alpha_{4}\\right)$$"
      ],
      "text/plain": [
       "<IPython.core.display.Math object>"
      ]
     },
     "metadata": {},
     "output_type": "display_data"
    },
    {
     "data": {
      "text/latex": [
       "$$\\mathrm b^{0}(X_{2},\\wedge^{5}T_X)=45148$$"
      ],
      "text/plain": [
       "<IPython.core.display.Math object>"
      ]
     },
     "metadata": {},
     "output_type": "display_data"
    },
    {
     "data": {
      "text/latex": [
       "$$\\mathrm H^{0}(X_{2},\\wedge^{6}T_X)=L\\left( 2\\alpha_{1}+ 3\\alpha_{2}+ 3\\alpha_{3}+ 2\\alpha_{4}\\right)\\oplus L\\left( 3\\alpha_{1}+ 3\\alpha_{2}+ 3\\alpha_{3}+ 2\\alpha_{4}\\right)^{2}\\oplus L\\left( 2\\alpha_{1}+ 3\\alpha_{2}+ 4\\alpha_{3}+ 2\\alpha_{4}\\right)^{2}\\oplus L\\left( 2\\alpha_{1}+ 3\\alpha_{2}+ 3\\alpha_{3}+ 3\\alpha_{4}\\right)\\oplus L\\left( 3\\alpha_{1}+ 4\\alpha_{2}+ 3\\alpha_{3}+ 2\\alpha_{4}\\right)\\oplus L\\left( 2\\alpha_{1}+ 4\\alpha_{2}+ 4\\alpha_{3}+ 2\\alpha_{4}\\right)\\oplus L\\left( 3\\alpha_{1}+ 3\\alpha_{2}+ 3\\alpha_{3}+ 3\\alpha_{4}\\right)^{2}\\oplus L\\left( 2\\alpha_{1}+ 3\\alpha_{2}+ 4\\alpha_{3}+ 3\\alpha_{4}\\right)^{2}\\oplus L\\left( 4\\alpha_{1}+ 4\\alpha_{2}+ 3\\alpha_{3}+ 2\\alpha_{4}\\right)\\oplus L\\left( 3\\alpha_{1}+ 4\\alpha_{2}+ 4\\alpha_{3}+ 2\\alpha_{4}\\right)^{2}\\oplus L\\left( 2\\alpha_{1}+ 4\\alpha_{2}+ 4\\alpha_{3}+ 3\\alpha_{4}\\right)^{2}\\oplus L\\left( 2\\alpha_{1}+ 3\\alpha_{2}+ 4\\alpha_{3}+ 4\\alpha_{4}\\right)\\oplus L\\left( 3\\alpha_{1}+ 4\\alpha_{2}+ 4\\alpha_{3}+ 3\\alpha_{4}\\right)^{3}\\oplus L\\left( 2\\alpha_{1}+ 4\\alpha_{2}+ 5\\alpha_{3}+ 3\\alpha_{4}\\right)^{2}\\oplus L\\left( 2\\alpha_{1}+ 4\\alpha_{2}+ 4\\alpha_{3}+ 4\\alpha_{4}\\right)\\oplus L\\left( 4\\alpha_{1}+ 5\\alpha_{2}+ 4\\alpha_{3}+ 2\\alpha_{4}\\right)\\oplus L\\left( 4\\alpha_{1}+ 4\\alpha_{2}+ 4\\alpha_{3}+ 3\\alpha_{4}\\right)\\oplus L\\left( 3\\alpha_{1}+ 5\\alpha_{2}+ 4\\alpha_{3}+ 3\\alpha_{4}\\right)\\oplus L\\left( 3\\alpha_{1}+ 4\\alpha_{2}+ 5\\alpha_{3}+ 3\\alpha_{4}\\right)\\oplus L\\left( 2\\alpha_{1}+ 4\\alpha_{2}+ 6\\alpha_{3}+ 3\\alpha_{4}\\right)\\oplus L\\left( 3\\alpha_{1}+ 4\\alpha_{2}+ 4\\alpha_{3}+ 4\\alpha_{4}\\right)\\oplus L\\left( 2\\alpha_{1}+ 4\\alpha_{2}+ 5\\alpha_{3}+ 4\\alpha_{4}\\right)\\oplus L\\left( 3\\alpha_{1}+ 5\\alpha_{2}+ 5\\alpha_{3}+ 3\\alpha_{4}\\right)$$"
      ],
      "text/plain": [
       "<IPython.core.display.Math object>"
      ]
     },
     "metadata": {},
     "output_type": "display_data"
    },
    {
     "data": {
      "text/latex": [
       "$$\\mathrm b^{0}(X_{2},\\wedge^{6}T_X)=98552$$"
      ],
      "text/plain": [
       "<IPython.core.display.Math object>"
      ]
     },
     "metadata": {},
     "output_type": "display_data"
    },
    {
     "data": {
      "text/latex": [
       "$$\\mathrm H^{0}(X_{2},\\wedge^{7}T_X)=L\\left( 2\\alpha_{1}+ 3\\alpha_{2}+ 4\\alpha_{3}+ 3\\alpha_{4}\\right)\\oplus L\\left( 3\\alpha_{1}+ 4\\alpha_{2}+ 4\\alpha_{3}+ 2\\alpha_{4}\\right)\\oplus L\\left( 4\\alpha_{1}+ 4\\alpha_{2}+ 4\\alpha_{3}+ 2\\alpha_{4}\\right)\\oplus L\\left( 3\\alpha_{1}+ 4\\alpha_{2}+ 4\\alpha_{3}+ 3\\alpha_{4}\\right)^{2}\\oplus L\\left( 2\\alpha_{1}+ 4\\alpha_{2}+ 5\\alpha_{3}+ 3\\alpha_{4}\\right)\\oplus L\\left( 4\\alpha_{1}+ 4\\alpha_{2}+ 4\\alpha_{3}+ 3\\alpha_{4}\\right)\\oplus L\\left( 3\\alpha_{1}+ 4\\alpha_{2}+ 5\\alpha_{3}+ 3\\alpha_{4}\\right)^{2}\\oplus L\\left( 3\\alpha_{1}+ 4\\alpha_{2}+ 4\\alpha_{3}+ 4\\alpha_{4}\\right)\\oplus L\\left( 2\\alpha_{1}+ 4\\alpha_{2}+ 5\\alpha_{3}+ 4\\alpha_{4}\\right)\\oplus L\\left( 4\\alpha_{1}+ 5\\alpha_{2}+ 4\\alpha_{3}+ 3\\alpha_{4}\\right)\\oplus L\\left( 3\\alpha_{1}+ 5\\alpha_{2}+ 5\\alpha_{3}+ 3\\alpha_{4}\\right)\\oplus L\\left( 4\\alpha_{1}+ 4\\alpha_{2}+ 4\\alpha_{3}+ 4\\alpha_{4}\\right)\\oplus L\\left( 3\\alpha_{1}+ 4\\alpha_{2}+ 5\\alpha_{3}+ 4\\alpha_{4}\\right)\\oplus L\\left( 2\\alpha_{1}+ 4\\alpha_{2}+ 6\\alpha_{3}+ 4\\alpha_{4}\\right)\\oplus L\\left( 4\\alpha_{1}+ 5\\alpha_{2}+ 5\\alpha_{3}+ 3\\alpha_{4}\\right)\\oplus L\\left( 3\\alpha_{1}+ 5\\alpha_{2}+ 6\\alpha_{3}+ 3\\alpha_{4}\\right)\\oplus L\\left( 3\\alpha_{1}+ 5\\alpha_{2}+ 5\\alpha_{3}+ 4\\alpha_{4}\\right)$$"
      ],
      "text/plain": [
       "<IPython.core.display.Math object>"
      ]
     },
     "metadata": {},
     "output_type": "display_data"
    },
    {
     "data": {
      "text/latex": [
       "$$\\mathrm b^{0}(X_{2},\\wedge^{7}T_X)=126873$$"
      ],
      "text/plain": [
       "<IPython.core.display.Math object>"
      ]
     },
     "metadata": {},
     "output_type": "display_data"
    },
    {
     "data": {
      "text/latex": [
       "$$\\mathrm H^{0}(X_{2},\\wedge^{8}T_X)=L\\left( 3\\alpha_{1}+ 4\\alpha_{2}+ 5\\alpha_{3}+ 3\\alpha_{4}\\right)\\oplus L\\left( 3\\alpha_{1}+ 4\\alpha_{2}+ 5\\alpha_{3}+ 4\\alpha_{4}\\right)\\oplus L\\left( 4\\alpha_{1}+ 5\\alpha_{2}+ 5\\alpha_{3}+ 3\\alpha_{4}\\right)\\oplus L\\left( 4\\alpha_{1}+ 5\\alpha_{2}+ 6\\alpha_{3}+ 3\\alpha_{4}\\right)\\oplus L\\left( 4\\alpha_{1}+ 5\\alpha_{2}+ 5\\alpha_{3}+ 4\\alpha_{4}\\right)\\oplus L\\left( 3\\alpha_{1}+ 5\\alpha_{2}+ 6\\alpha_{3}+ 4\\alpha_{4}\\right)$$"
      ],
      "text/plain": [
       "<IPython.core.display.Math object>"
      ]
     },
     "metadata": {},
     "output_type": "display_data"
    },
    {
     "data": {
      "text/latex": [
       "$$\\mathrm b^{0}(X_{2},\\wedge^{8}T_X)=87926$$"
      ],
      "text/plain": [
       "<IPython.core.display.Math object>"
      ]
     },
     "metadata": {},
     "output_type": "display_data"
    },
    {
     "data": {
      "text/latex": [
       "$$\\mathrm H^{0}(X_{2},\\wedge^{9}T_X)=L\\left( 4\\alpha_{1}+ 5\\alpha_{2}+ 6\\alpha_{3}+ 4\\alpha_{4}\\right)$$"
      ],
      "text/plain": [
       "<IPython.core.display.Math object>"
      ]
     },
     "metadata": {},
     "output_type": "display_data"
    },
    {
     "data": {
      "text/latex": [
       "$$\\mathrm b^{0}(X_{2},\\wedge^{9}T_X)=25200$$"
      ],
      "text/plain": [
       "<IPython.core.display.Math object>"
      ]
     },
     "metadata": {},
     "output_type": "display_data"
    },
    {
     "name": "stdout",
     "output_type": "stream",
     "text": [
      "\n",
      "dim of u is 9 for root system A4 and subset (3,)\n"
     ]
    },
    {
     "data": {
      "application/vnd.jupyter.widget-view+json": {
       "model_id": "b26185ebb4e646aca434aad51a7f911c",
       "version_major": 2,
       "version_minor": 0
      },
      "text/plain": [
       "HBox(children=(FloatProgress(value=0.0, max=10.0), HTML(value='')))"
      ]
     },
     "metadata": {},
     "output_type": "display_data"
    },
    {
     "data": {
      "application/vnd.jupyter.widget-view+json": {
       "model_id": "14ca309ac50b472fa919eba688ca7892",
       "version_major": 2,
       "version_minor": 0
      },
      "text/plain": [
       "HBox(children=(FloatProgress(value=1.0, bar_style='info', max=1.0), HTML(value='')))"
      ]
     },
     "metadata": {},
     "output_type": "display_data"
    },
    {
     "data": {
      "application/vnd.jupyter.widget-view+json": {
       "model_id": "896f50c4a8b04c3c9073d97cbf45db19",
       "version_major": 2,
       "version_minor": 0
      },
      "text/plain": [
       "HBox(children=(FloatProgress(value=1.0, bar_style='info', max=1.0), HTML(value='')))"
      ]
     },
     "metadata": {},
     "output_type": "display_data"
    },
    {
     "data": {
      "text/latex": [
       "$$\\mathrm H^{0}(X_{3},\\wedge^{0}T_X)=\\mathbb{C}$$"
      ],
      "text/plain": [
       "<IPython.core.display.Math object>"
      ]
     },
     "metadata": {},
     "output_type": "display_data"
    },
    {
     "data": {
      "text/latex": [
       "$$\\mathrm b^{0}(X_{3},\\wedge^{0}T_X)=1$$"
      ],
      "text/plain": [
       "<IPython.core.display.Math object>"
      ]
     },
     "metadata": {},
     "output_type": "display_data"
    },
    {
     "data": {
      "text/latex": [
       "$$\\mathrm H^{0}(X_{3},\\wedge^{1}T_X)=L\\left(\\alpha_{1}+\\alpha_{2}+\\alpha_{3}+\\alpha_{4}\\right)$$"
      ],
      "text/plain": [
       "<IPython.core.display.Math object>"
      ]
     },
     "metadata": {},
     "output_type": "display_data"
    },
    {
     "data": {
      "text/latex": [
       "$$\\mathrm b^{0}(X_{3},\\wedge^{1}T_X)=24$$"
      ],
      "text/plain": [
       "<IPython.core.display.Math object>"
      ]
     },
     "metadata": {},
     "output_type": "display_data"
    },
    {
     "data": {
      "text/latex": [
       "$$\\mathrm H^{0}(X_{3},\\wedge^{2}T_X)=L\\left(\\alpha_{1}+\\alpha_{2}+\\alpha_{3}+\\alpha_{4}\\right)\\oplus L\\left( 2\\alpha_{1}+ 2\\alpha_{2}+ 2\\alpha_{3}+\\alpha_{4}\\right)\\oplus L\\left(\\alpha_{1}+ 2\\alpha_{2}+ 2\\alpha_{3}+ 2\\alpha_{4}\\right)$$"
      ],
      "text/plain": [
       "<IPython.core.display.Math object>"
      ]
     },
     "metadata": {},
     "output_type": "display_data"
    },
    {
     "data": {
      "text/latex": [
       "$$\\mathrm b^{0}(X_{3},\\wedge^{2}T_X)=276$$"
      ],
      "text/plain": [
       "<IPython.core.display.Math object>"
      ]
     },
     "metadata": {},
     "output_type": "display_data"
    },
    {
     "data": {
      "text/latex": [
       "$$\\mathrm H^{0}(X_{3},\\wedge^{3}T_X)=L\\left(\\alpha_{1}+\\alpha_{2}+\\alpha_{3}+\\alpha_{4}\\right)\\oplus L\\left(\\alpha_{1}+ 2\\alpha_{2}+ 2\\alpha_{3}+\\alpha_{4}\\right)^{2}\\oplus L\\left( 2\\alpha_{1}+ 2\\alpha_{2}+ 2\\alpha_{3}+\\alpha_{4}\\right)\\oplus L\\left(\\alpha_{1}+ 2\\alpha_{2}+ 2\\alpha_{3}+ 2\\alpha_{4}\\right)\\oplus L\\left( 2\\alpha_{1}+ 2\\alpha_{2}+ 2\\alpha_{3}+ 2\\alpha_{4}\\right)\\oplus L\\left(\\alpha_{1}+ 2\\alpha_{2}+ 3\\alpha_{3}+ 2\\alpha_{4}\\right)\\oplus L\\left( 3\\alpha_{1}+ 3\\alpha_{2}+ 2\\alpha_{3}+\\alpha_{4}\\right)\\oplus L\\left(\\alpha_{1}+ 2\\alpha_{2}+ 3\\alpha_{3}+ 3\\alpha_{4}\\right)\\oplus L\\left( 2\\alpha_{1}+ 3\\alpha_{2}+ 3\\alpha_{3}+ 2\\alpha_{4}\\right)$$"
      ],
      "text/plain": [
       "<IPython.core.display.Math object>"
      ]
     },
     "metadata": {},
     "output_type": "display_data"
    },
    {
     "data": {
      "text/latex": [
       "$$\\mathrm b^{0}(X_{3},\\wedge^{3}T_X)=2273$$"
      ],
      "text/plain": [
       "<IPython.core.display.Math object>"
      ]
     },
     "metadata": {},
     "output_type": "display_data"
    },
    {
     "data": {
      "text/latex": [
       "$$\\mathrm H^{0}(X_{3},\\wedge^{4}T_X)=L\\left(\\alpha_{1}+ 2\\alpha_{2}+ 2\\alpha_{3}+\\alpha_{4}\\right)\\oplus L\\left( 2\\alpha_{1}+ 2\\alpha_{2}+ 2\\alpha_{3}+\\alpha_{4}\\right)^{2}\\oplus L\\left(\\alpha_{1}+ 2\\alpha_{2}+ 2\\alpha_{3}+ 2\\alpha_{4}\\right)\\oplus L\\left( 2\\alpha_{1}+ 3\\alpha_{2}+ 2\\alpha_{3}+\\alpha_{4}\\right)^{2}\\oplus L\\left( 2\\alpha_{1}+ 2\\alpha_{2}+ 2\\alpha_{3}+ 2\\alpha_{4}\\right)^{2}\\oplus L\\left(\\alpha_{1}+ 2\\alpha_{2}+ 3\\alpha_{3}+ 2\\alpha_{4}\\right)^{2}\\oplus L\\left( 3\\alpha_{1}+ 3\\alpha_{2}+ 2\\alpha_{3}+\\alpha_{4}\\right)\\oplus L\\left(\\alpha_{1}+ 2\\alpha_{2}+ 3\\alpha_{3}+ 3\\alpha_{4}\\right)\\oplus L\\left( 4\\alpha_{1}+ 3\\alpha_{2}+ 2\\alpha_{3}+\\alpha_{4}\\right)\\oplus L\\left( 2\\alpha_{1}+ 3\\alpha_{2}+ 3\\alpha_{3}+ 2\\alpha_{4}\\right)^{3}\\oplus L\\left(\\alpha_{1}+ 2\\alpha_{2}+ 3\\alpha_{3}+ 4\\alpha_{4}\\right)\\oplus L\\left( 3\\alpha_{1}+ 3\\alpha_{2}+ 3\\alpha_{3}+ 2\\alpha_{4}\\right)\\oplus L\\left( 2\\alpha_{1}+ 3\\alpha_{2}+ 4\\alpha_{3}+ 2\\alpha_{4}\\right)\\oplus L\\left( 2\\alpha_{1}+ 3\\alpha_{2}+ 3\\alpha_{3}+ 3\\alpha_{4}\\right)\\oplus L\\left( 3\\alpha_{1}+ 4\\alpha_{2}+ 3\\alpha_{3}+ 2\\alpha_{4}\\right)\\oplus L\\left( 2\\alpha_{1}+ 4\\alpha_{2}+ 4\\alpha_{3}+ 2\\alpha_{4}\\right)\\oplus L\\left( 2\\alpha_{1}+ 3\\alpha_{2}+ 4\\alpha_{3}+ 3\\alpha_{4}\\right)$$"
      ],
      "text/plain": [
       "<IPython.core.display.Math object>"
      ]
     },
     "metadata": {},
     "output_type": "display_data"
    },
    {
     "data": {
      "text/latex": [
       "$$\\mathrm b^{0}(X_{3},\\wedge^{4}T_X)=12703$$"
      ],
      "text/plain": [
       "<IPython.core.display.Math object>"
      ]
     },
     "metadata": {},
     "output_type": "display_data"
    },
    {
     "data": {
      "text/latex": [
       "$$\\mathrm H^{0}(X_{3},\\wedge^{5}T_X)=L\\left(\\alpha_{1}+ 2\\alpha_{2}+ 2\\alpha_{3}+ 2\\alpha_{4}\\right)\\oplus L\\left( 2\\alpha_{1}+ 3\\alpha_{2}+ 2\\alpha_{3}+\\alpha_{4}\\right)\\oplus L\\left( 2\\alpha_{1}+ 2\\alpha_{2}+ 2\\alpha_{3}+ 2\\alpha_{4}\\right)\\oplus L\\left( 3\\alpha_{1}+ 3\\alpha_{2}+ 2\\alpha_{3}+\\alpha_{4}\\right)\\oplus L\\left(\\alpha_{1}+ 2\\alpha_{2}+ 3\\alpha_{3}+ 3\\alpha_{4}\\right)\\oplus L\\left( 2\\alpha_{1}+ 3\\alpha_{2}+ 3\\alpha_{3}+ 2\\alpha_{4}\\right)^{4}\\oplus L\\left( 3\\alpha_{1}+ 3\\alpha_{2}+ 3\\alpha_{3}+ 2\\alpha_{4}\\right)^{3}\\oplus L\\left( 2\\alpha_{1}+ 4\\alpha_{2}+ 3\\alpha_{3}+ 2\\alpha_{4}\\right)^{2}\\oplus L\\left( 2\\alpha_{1}+ 3\\alpha_{2}+ 4\\alpha_{3}+ 2\\alpha_{4}\\right)\\oplus L\\left( 2\\alpha_{1}+ 3\\alpha_{2}+ 3\\alpha_{3}+ 3\\alpha_{4}\\right)^{2}\\oplus L\\left( 3\\alpha_{1}+ 4\\alpha_{2}+ 3\\alpha_{3}+ 2\\alpha_{4}\\right)^{2}\\oplus L\\left( 2\\alpha_{1}+ 4\\alpha_{2}+ 4\\alpha_{3}+ 2\\alpha_{4}\\right)\\oplus L\\left( 3\\alpha_{1}+ 3\\alpha_{2}+ 3\\alpha_{3}+ 3\\alpha_{4}\\right)\\oplus L\\left( 2\\alpha_{1}+ 3\\alpha_{2}+ 4\\alpha_{3}+ 3\\alpha_{4}\\right)^{2}\\oplus L\\left( 4\\alpha_{1}+ 4\\alpha_{2}+ 3\\alpha_{3}+ 2\\alpha_{4}\\right)\\oplus L\\left( 3\\alpha_{1}+ 4\\alpha_{2}+ 4\\alpha_{3}+ 2\\alpha_{4}\\right)^{2}\\oplus L\\left( 2\\alpha_{1}+ 4\\alpha_{2}+ 4\\alpha_{3}+ 3\\alpha_{4}\\right)\\oplus L\\left( 2\\alpha_{1}+ 3\\alpha_{2}+ 4\\alpha_{3}+ 4\\alpha_{4}\\right)\\oplus L\\left( 3\\alpha_{1}+ 5\\alpha_{2}+ 4\\alpha_{3}+ 2\\alpha_{4}\\right)\\oplus L\\left( 3\\alpha_{1}+ 4\\alpha_{2}+ 4\\alpha_{3}+ 3\\alpha_{4}\\right)\\oplus L\\left( 2\\alpha_{1}+ 4\\alpha_{2}+ 5\\alpha_{3}+ 3\\alpha_{4}\\right)$$"
      ],
      "text/plain": [
       "<IPython.core.display.Math object>"
      ]
     },
     "metadata": {},
     "output_type": "display_data"
    },
    {
     "data": {
      "text/latex": [
       "$$\\mathrm b^{0}(X_{3},\\wedge^{5}T_X)=45148$$"
      ],
      "text/plain": [
       "<IPython.core.display.Math object>"
      ]
     },
     "metadata": {},
     "output_type": "display_data"
    },
    {
     "data": {
      "text/latex": [
       "$$\\mathrm H^{0}(X_{3},\\wedge^{6}T_X)=L\\left( 2\\alpha_{1}+ 3\\alpha_{2}+ 3\\alpha_{3}+ 2\\alpha_{4}\\right)\\oplus L\\left( 3\\alpha_{1}+ 3\\alpha_{2}+ 3\\alpha_{3}+ 2\\alpha_{4}\\right)\\oplus L\\left( 2\\alpha_{1}+ 4\\alpha_{2}+ 3\\alpha_{3}+ 2\\alpha_{4}\\right)^{2}\\oplus L\\left( 2\\alpha_{1}+ 3\\alpha_{2}+ 3\\alpha_{3}+ 3\\alpha_{4}\\right)^{2}\\oplus L\\left( 3\\alpha_{1}+ 4\\alpha_{2}+ 3\\alpha_{3}+ 2\\alpha_{4}\\right)^{2}\\oplus L\\left( 2\\alpha_{1}+ 4\\alpha_{2}+ 4\\alpha_{3}+ 2\\alpha_{4}\\right)\\oplus L\\left( 3\\alpha_{1}+ 3\\alpha_{2}+ 3\\alpha_{3}+ 3\\alpha_{4}\\right)^{2}\\oplus L\\left( 2\\alpha_{1}+ 3\\alpha_{2}+ 4\\alpha_{3}+ 3\\alpha_{4}\\right)\\oplus L\\left( 4\\alpha_{1}+ 4\\alpha_{2}+ 3\\alpha_{3}+ 2\\alpha_{4}\\right)\\oplus L\\left( 3\\alpha_{1}+ 4\\alpha_{2}+ 4\\alpha_{3}+ 2\\alpha_{4}\\right)^{2}\\oplus L\\left( 2\\alpha_{1}+ 4\\alpha_{2}+ 4\\alpha_{3}+ 3\\alpha_{4}\\right)^{2}\\oplus L\\left( 2\\alpha_{1}+ 3\\alpha_{2}+ 4\\alpha_{3}+ 4\\alpha_{4}\\right)\\oplus L\\left( 4\\alpha_{1}+ 4\\alpha_{2}+ 4\\alpha_{3}+ 2\\alpha_{4}\\right)\\oplus L\\left( 3\\alpha_{1}+ 5\\alpha_{2}+ 4\\alpha_{3}+ 2\\alpha_{4}\\right)^{2}\\oplus L\\left( 3\\alpha_{1}+ 4\\alpha_{2}+ 4\\alpha_{3}+ 3\\alpha_{4}\\right)^{3}\\oplus L\\left( 4\\alpha_{1}+ 5\\alpha_{2}+ 4\\alpha_{3}+ 2\\alpha_{4}\\right)\\oplus L\\left( 3\\alpha_{1}+ 6\\alpha_{2}+ 4\\alpha_{3}+ 2\\alpha_{4}\\right)\\oplus L\\left( 4\\alpha_{1}+ 4\\alpha_{2}+ 4\\alpha_{3}+ 3\\alpha_{4}\\right)\\oplus L\\left( 3\\alpha_{1}+ 5\\alpha_{2}+ 4\\alpha_{3}+ 3\\alpha_{4}\\right)\\oplus L\\left( 3\\alpha_{1}+ 4\\alpha_{2}+ 5\\alpha_{3}+ 3\\alpha_{4}\\right)\\oplus L\\left( 3\\alpha_{1}+ 4\\alpha_{2}+ 4\\alpha_{3}+ 4\\alpha_{4}\\right)\\oplus L\\left( 2\\alpha_{1}+ 4\\alpha_{2}+ 5\\alpha_{3}+ 4\\alpha_{4}\\right)\\oplus L\\left( 3\\alpha_{1}+ 5\\alpha_{2}+ 5\\alpha_{3}+ 3\\alpha_{4}\\right)$$"
      ],
      "text/plain": [
       "<IPython.core.display.Math object>"
      ]
     },
     "metadata": {},
     "output_type": "display_data"
    },
    {
     "data": {
      "text/latex": [
       "$$\\mathrm b^{0}(X_{3},\\wedge^{6}T_X)=98552$$"
      ],
      "text/plain": [
       "<IPython.core.display.Math object>"
      ]
     },
     "metadata": {},
     "output_type": "display_data"
    },
    {
     "data": {
      "text/latex": [
       "$$\\mathrm H^{0}(X_{3},\\wedge^{7}T_X)=L\\left( 3\\alpha_{1}+ 4\\alpha_{2}+ 3\\alpha_{3}+ 2\\alpha_{4}\\right)\\oplus L\\left( 2\\alpha_{1}+ 4\\alpha_{2}+ 4\\alpha_{3}+ 3\\alpha_{4}\\right)\\oplus L\\left( 3\\alpha_{1}+ 5\\alpha_{2}+ 4\\alpha_{3}+ 2\\alpha_{4}\\right)\\oplus L\\left( 3\\alpha_{1}+ 4\\alpha_{2}+ 4\\alpha_{3}+ 3\\alpha_{4}\\right)^{2}\\oplus L\\left( 2\\alpha_{1}+ 4\\alpha_{2}+ 4\\alpha_{3}+ 4\\alpha_{4}\\right)\\oplus L\\left( 4\\alpha_{1}+ 5\\alpha_{2}+ 4\\alpha_{3}+ 2\\alpha_{4}\\right)\\oplus L\\left( 4\\alpha_{1}+ 4\\alpha_{2}+ 4\\alpha_{3}+ 3\\alpha_{4}\\right)\\oplus L\\left( 3\\alpha_{1}+ 5\\alpha_{2}+ 4\\alpha_{3}+ 3\\alpha_{4}\\right)^{2}\\oplus L\\left( 3\\alpha_{1}+ 4\\alpha_{2}+ 4\\alpha_{3}+ 4\\alpha_{4}\\right)\\oplus L\\left( 4\\alpha_{1}+ 6\\alpha_{2}+ 4\\alpha_{3}+ 2\\alpha_{4}\\right)\\oplus L\\left( 4\\alpha_{1}+ 5\\alpha_{2}+ 4\\alpha_{3}+ 3\\alpha_{4}\\right)\\oplus L\\left( 3\\alpha_{1}+ 5\\alpha_{2}+ 5\\alpha_{3}+ 3\\alpha_{4}\\right)\\oplus L\\left( 4\\alpha_{1}+ 4\\alpha_{2}+ 4\\alpha_{3}+ 4\\alpha_{4}\\right)\\oplus L\\left( 3\\alpha_{1}+ 4\\alpha_{2}+ 5\\alpha_{3}+ 4\\alpha_{4}\\right)\\oplus L\\left( 4\\alpha_{1}+ 5\\alpha_{2}+ 5\\alpha_{3}+ 3\\alpha_{4}\\right)\\oplus L\\left( 3\\alpha_{1}+ 6\\alpha_{2}+ 5\\alpha_{3}+ 3\\alpha_{4}\\right)\\oplus L\\left( 3\\alpha_{1}+ 5\\alpha_{2}+ 5\\alpha_{3}+ 4\\alpha_{4}\\right)$$"
      ],
      "text/plain": [
       "<IPython.core.display.Math object>"
      ]
     },
     "metadata": {},
     "output_type": "display_data"
    },
    {
     "data": {
      "text/latex": [
       "$$\\mathrm b^{0}(X_{3},\\wedge^{7}T_X)=126873$$"
      ],
      "text/plain": [
       "<IPython.core.display.Math object>"
      ]
     },
     "metadata": {},
     "output_type": "display_data"
    },
    {
     "data": {
      "text/latex": [
       "$$\\mathrm H^{0}(X_{3},\\wedge^{8}T_X)=L\\left( 3\\alpha_{1}+ 5\\alpha_{2}+ 4\\alpha_{3}+ 3\\alpha_{4}\\right)\\oplus L\\left( 4\\alpha_{1}+ 5\\alpha_{2}+ 4\\alpha_{3}+ 3\\alpha_{4}\\right)\\oplus L\\left( 3\\alpha_{1}+ 5\\alpha_{2}+ 5\\alpha_{3}+ 4\\alpha_{4}\\right)\\oplus L\\left( 4\\alpha_{1}+ 6\\alpha_{2}+ 5\\alpha_{3}+ 3\\alpha_{4}\\right)\\oplus L\\left( 4\\alpha_{1}+ 5\\alpha_{2}+ 5\\alpha_{3}+ 4\\alpha_{4}\\right)\\oplus L\\left( 3\\alpha_{1}+ 6\\alpha_{2}+ 5\\alpha_{3}+ 4\\alpha_{4}\\right)$$"
      ],
      "text/plain": [
       "<IPython.core.display.Math object>"
      ]
     },
     "metadata": {},
     "output_type": "display_data"
    },
    {
     "data": {
      "text/latex": [
       "$$\\mathrm b^{0}(X_{3},\\wedge^{8}T_X)=87926$$"
      ],
      "text/plain": [
       "<IPython.core.display.Math object>"
      ]
     },
     "metadata": {},
     "output_type": "display_data"
    },
    {
     "data": {
      "text/latex": [
       "$$\\mathrm H^{0}(X_{3},\\wedge^{9}T_X)=L\\left( 4\\alpha_{1}+ 6\\alpha_{2}+ 5\\alpha_{3}+ 4\\alpha_{4}\\right)$$"
      ],
      "text/plain": [
       "<IPython.core.display.Math object>"
      ]
     },
     "metadata": {},
     "output_type": "display_data"
    },
    {
     "data": {
      "text/latex": [
       "$$\\mathrm b^{0}(X_{3},\\wedge^{9}T_X)=25200$$"
      ],
      "text/plain": [
       "<IPython.core.display.Math object>"
      ]
     },
     "metadata": {},
     "output_type": "display_data"
    },
    {
     "name": "stdout",
     "output_type": "stream",
     "text": [
      "\n",
      "dim of u is 9 for root system A4 and subset (4,)\n"
     ]
    },
    {
     "data": {
      "application/vnd.jupyter.widget-view+json": {
       "model_id": "9df0851801604f24846501e9b00d3c1f",
       "version_major": 2,
       "version_minor": 0
      },
      "text/plain": [
       "HBox(children=(FloatProgress(value=0.0, max=10.0), HTML(value='')))"
      ]
     },
     "metadata": {},
     "output_type": "display_data"
    },
    {
     "data": {
      "application/vnd.jupyter.widget-view+json": {
       "model_id": "0f81bb64b70d4a81b2cfe279daee8786",
       "version_major": 2,
       "version_minor": 0
      },
      "text/plain": [
       "HBox(children=(FloatProgress(value=1.0, bar_style='info', max=1.0), HTML(value='')))"
      ]
     },
     "metadata": {},
     "output_type": "display_data"
    },
    {
     "data": {
      "application/vnd.jupyter.widget-view+json": {
       "model_id": "2e26b3445cb44c3fb60212890bd1177a",
       "version_major": 2,
       "version_minor": 0
      },
      "text/plain": [
       "HBox(children=(FloatProgress(value=1.0, bar_style='info', max=1.0), HTML(value='')))"
      ]
     },
     "metadata": {},
     "output_type": "display_data"
    },
    {
     "data": {
      "text/latex": [
       "$$\\mathrm H^{0}(X_{4},\\wedge^{0}T_X)=\\mathbb{C}$$"
      ],
      "text/plain": [
       "<IPython.core.display.Math object>"
      ]
     },
     "metadata": {},
     "output_type": "display_data"
    },
    {
     "data": {
      "text/latex": [
       "$$\\mathrm b^{0}(X_{4},\\wedge^{0}T_X)=1$$"
      ],
      "text/plain": [
       "<IPython.core.display.Math object>"
      ]
     },
     "metadata": {},
     "output_type": "display_data"
    },
    {
     "data": {
      "text/latex": [
       "$$\\mathrm H^{0}(X_{4},\\wedge^{1}T_X)=L\\left(\\alpha_{1}+\\alpha_{2}+\\alpha_{3}+\\alpha_{4}\\right)$$"
      ],
      "text/plain": [
       "<IPython.core.display.Math object>"
      ]
     },
     "metadata": {},
     "output_type": "display_data"
    },
    {
     "data": {
      "text/latex": [
       "$$\\mathrm b^{0}(X_{4},\\wedge^{1}T_X)=24$$"
      ],
      "text/plain": [
       "<IPython.core.display.Math object>"
      ]
     },
     "metadata": {},
     "output_type": "display_data"
    },
    {
     "data": {
      "text/latex": [
       "$$\\mathrm H^{0}(X_{4},\\wedge^{2}T_X)=L\\left(\\alpha_{1}+\\alpha_{2}+\\alpha_{3}+\\alpha_{4}\\right)\\oplus L\\left( 2\\alpha_{1}+ 2\\alpha_{2}+ 2\\alpha_{3}+\\alpha_{4}\\right)\\oplus L\\left(\\alpha_{1}+ 2\\alpha_{2}+ 2\\alpha_{3}+ 2\\alpha_{4}\\right)$$"
      ],
      "text/plain": [
       "<IPython.core.display.Math object>"
      ]
     },
     "metadata": {},
     "output_type": "display_data"
    },
    {
     "data": {
      "text/latex": [
       "$$\\mathrm b^{0}(X_{4},\\wedge^{2}T_X)=276$$"
      ],
      "text/plain": [
       "<IPython.core.display.Math object>"
      ]
     },
     "metadata": {},
     "output_type": "display_data"
    },
    {
     "data": {
      "text/latex": [
       "$$\\mathrm H^{0}(X_{4},\\wedge^{3}T_X)=L\\left(\\alpha_{1}+\\alpha_{2}+\\alpha_{3}+\\alpha_{4}\\right)\\oplus L\\left(\\alpha_{1}+ 2\\alpha_{2}+ 2\\alpha_{3}+\\alpha_{4}\\right)\\oplus L\\left( 2\\alpha_{1}+ 2\\alpha_{2}+ 2\\alpha_{3}+\\alpha_{4}\\right)\\oplus L\\left(\\alpha_{1}+ 2\\alpha_{2}+ 2\\alpha_{3}+ 2\\alpha_{4}\\right)\\oplus L\\left( 2\\alpha_{1}+ 2\\alpha_{2}+ 2\\alpha_{3}+ 2\\alpha_{4}\\right)\\oplus L\\left( 3\\alpha_{1}+ 3\\alpha_{2}+ 2\\alpha_{3}+\\alpha_{4}\\right)\\oplus L\\left(\\alpha_{1}+ 2\\alpha_{2}+ 3\\alpha_{3}+ 3\\alpha_{4}\\right)\\oplus L\\left( 2\\alpha_{1}+ 3\\alpha_{2}+ 3\\alpha_{3}+ 2\\alpha_{4}\\right)$$"
      ],
      "text/plain": [
       "<IPython.core.display.Math object>"
      ]
     },
     "metadata": {},
     "output_type": "display_data"
    },
    {
     "data": {
      "text/latex": [
       "$$\\mathrm b^{0}(X_{4},\\wedge^{3}T_X)=2023$$"
      ],
      "text/plain": [
       "<IPython.core.display.Math object>"
      ]
     },
     "metadata": {},
     "output_type": "display_data"
    },
    {
     "data": {
      "text/latex": [
       "$$\\mathrm H^{0}(X_{4},\\wedge^{4}T_X)=L\\left(\\alpha_{1}+ 2\\alpha_{2}+ 2\\alpha_{3}+\\alpha_{4}\\right)^{2}\\oplus L\\left( 2\\alpha_{1}+ 2\\alpha_{2}+ 2\\alpha_{3}+\\alpha_{4}\\right)\\oplus L\\left(\\alpha_{1}+ 2\\alpha_{2}+ 2\\alpha_{3}+ 2\\alpha_{4}\\right)\\oplus L\\left( 2\\alpha_{1}+ 3\\alpha_{2}+ 2\\alpha_{3}+\\alpha_{4}\\right)^{2}\\oplus L\\left( 2\\alpha_{1}+ 2\\alpha_{2}+ 2\\alpha_{3}+ 2\\alpha_{4}\\right)^{2}\\oplus L\\left(\\alpha_{1}+ 2\\alpha_{2}+ 3\\alpha_{3}+ 2\\alpha_{4}\\right)\\oplus L\\left( 3\\alpha_{1}+ 3\\alpha_{2}+ 2\\alpha_{3}+\\alpha_{4}\\right)\\oplus L\\left( 4\\alpha_{1}+ 3\\alpha_{2}+ 2\\alpha_{3}+\\alpha_{4}\\right)\\oplus L\\left( 2\\alpha_{1}+ 3\\alpha_{2}+ 3\\alpha_{3}+ 2\\alpha_{4}\\right)^{2}\\oplus L\\left( 3\\alpha_{1}+ 3\\alpha_{2}+ 3\\alpha_{3}+ 2\\alpha_{4}\\right)\\oplus L\\left( 2\\alpha_{1}+ 3\\alpha_{2}+ 3\\alpha_{3}+ 3\\alpha_{4}\\right)\\oplus L\\left( 3\\alpha_{1}+ 4\\alpha_{2}+ 3\\alpha_{3}+ 2\\alpha_{4}\\right)\\oplus L\\left( 2\\alpha_{1}+ 4\\alpha_{2}+ 4\\alpha_{3}+ 2\\alpha_{4}\\right)\\oplus L\\left( 2\\alpha_{1}+ 3\\alpha_{2}+ 4\\alpha_{3}+ 3\\alpha_{4}\\right)$$"
      ],
      "text/plain": [
       "<IPython.core.display.Math object>"
      ]
     },
     "metadata": {},
     "output_type": "display_data"
    },
    {
     "data": {
      "text/latex": [
       "$$\\mathrm b^{0}(X_{4},\\wedge^{4}T_X)=10403$$"
      ],
      "text/plain": [
       "<IPython.core.display.Math object>"
      ]
     },
     "metadata": {},
     "output_type": "display_data"
    },
    {
     "data": {
      "text/latex": [
       "$$\\mathrm H^{0}(X_{4},\\wedge^{5}T_X)=L\\left( 2\\alpha_{1}+ 2\\alpha_{2}+ 2\\alpha_{3}+\\alpha_{4}\\right)\\oplus L\\left( 2\\alpha_{1}+ 3\\alpha_{2}+ 2\\alpha_{3}+\\alpha_{4}\\right)\\oplus L\\left(\\alpha_{1}+ 2\\alpha_{2}+ 3\\alpha_{3}+ 2\\alpha_{4}\\right)\\oplus L\\left( 3\\alpha_{1}+ 3\\alpha_{2}+ 2\\alpha_{3}+\\alpha_{4}\\right)\\oplus L\\left( 2\\alpha_{1}+ 3\\alpha_{2}+ 3\\alpha_{3}+ 2\\alpha_{4}\\right)^{4}\\oplus L\\left( 3\\alpha_{1}+ 3\\alpha_{2}+ 3\\alpha_{3}+ 2\\alpha_{4}\\right)^{2}\\oplus L\\left( 2\\alpha_{1}+ 4\\alpha_{2}+ 3\\alpha_{3}+ 2\\alpha_{4}\\right)^{2}\\oplus L\\left( 2\\alpha_{1}+ 3\\alpha_{2}+ 4\\alpha_{3}+ 2\\alpha_{4}\\right)\\oplus L\\left( 2\\alpha_{1}+ 3\\alpha_{2}+ 3\\alpha_{3}+ 3\\alpha_{4}\\right)\\oplus L\\left( 3\\alpha_{1}+ 4\\alpha_{2}+ 3\\alpha_{3}+ 2\\alpha_{4}\\right)^{2}\\oplus L\\left( 2\\alpha_{1}+ 4\\alpha_{2}+ 4\\alpha_{3}+ 2\\alpha_{4}\\right)\\oplus L\\left( 3\\alpha_{1}+ 3\\alpha_{2}+ 3\\alpha_{3}+ 3\\alpha_{4}\\right)\\oplus L\\left( 2\\alpha_{1}+ 3\\alpha_{2}+ 4\\alpha_{3}+ 3\\alpha_{4}\\right)\\oplus L\\left( 4\\alpha_{1}+ 4\\alpha_{2}+ 3\\alpha_{3}+ 2\\alpha_{4}\\right)\\oplus L\\left( 3\\alpha_{1}+ 4\\alpha_{2}+ 4\\alpha_{3}+ 2\\alpha_{4}\\right)\\oplus L\\left( 2\\alpha_{1}+ 4\\alpha_{2}+ 4\\alpha_{3}+ 3\\alpha_{4}\\right)\\oplus L\\left( 3\\alpha_{1}+ 5\\alpha_{2}+ 4\\alpha_{3}+ 2\\alpha_{4}\\right)\\oplus L\\left( 3\\alpha_{1}+ 4\\alpha_{2}+ 4\\alpha_{3}+ 3\\alpha_{4}\\right)\\oplus L\\left( 2\\alpha_{1}+ 4\\alpha_{2}+ 5\\alpha_{3}+ 3\\alpha_{4}\\right)$$"
      ],
      "text/plain": [
       "<IPython.core.display.Math object>"
      ]
     },
     "metadata": {},
     "output_type": "display_data"
    },
    {
     "data": {
      "text/latex": [
       "$$\\mathrm b^{0}(X_{4},\\wedge^{5}T_X)=36648$$"
      ],
      "text/plain": [
       "<IPython.core.display.Math object>"
      ]
     },
     "metadata": {},
     "output_type": "display_data"
    },
    {
     "data": {
      "text/latex": [
       "$$\\mathrm H^{0}(X_{4},\\wedge^{6}T_X)=L\\left( 2\\alpha_{1}+ 3\\alpha_{2}+ 3\\alpha_{3}+ 2\\alpha_{4}\\right)\\oplus L\\left( 3\\alpha_{1}+ 3\\alpha_{2}+ 3\\alpha_{3}+ 2\\alpha_{4}\\right)\\oplus L\\left( 2\\alpha_{1}+ 4\\alpha_{2}+ 3\\alpha_{3}+ 2\\alpha_{4}\\right)\\oplus L\\left( 2\\alpha_{1}+ 3\\alpha_{2}+ 4\\alpha_{3}+ 2\\alpha_{4}\\right)^{2}\\oplus L\\left( 3\\alpha_{1}+ 4\\alpha_{2}+ 3\\alpha_{3}+ 2\\alpha_{4}\\right)^{2}\\oplus L\\left( 2\\alpha_{1}+ 4\\alpha_{2}+ 4\\alpha_{3}+ 2\\alpha_{4}\\right)\\oplus L\\left( 2\\alpha_{1}+ 3\\alpha_{2}+ 4\\alpha_{3}+ 3\\alpha_{4}\\right)\\oplus L\\left( 4\\alpha_{1}+ 4\\alpha_{2}+ 3\\alpha_{3}+ 2\\alpha_{4}\\right)\\oplus L\\left( 3\\alpha_{1}+ 4\\alpha_{2}+ 4\\alpha_{3}+ 2\\alpha_{4}\\right)^{3}\\oplus L\\left( 2\\alpha_{1}+ 4\\alpha_{2}+ 4\\alpha_{3}+ 3\\alpha_{4}\\right)^{2}\\oplus L\\left( 3\\alpha_{1}+ 5\\alpha_{2}+ 4\\alpha_{3}+ 2\\alpha_{4}\\right)^{2}\\oplus L\\left( 3\\alpha_{1}+ 4\\alpha_{2}+ 4\\alpha_{3}+ 3\\alpha_{4}\\right)^{2}\\oplus L\\left( 2\\alpha_{1}+ 4\\alpha_{2}+ 5\\alpha_{3}+ 3\\alpha_{4}\\right)\\oplus L\\left( 4\\alpha_{1}+ 5\\alpha_{2}+ 4\\alpha_{3}+ 2\\alpha_{4}\\right)\\oplus L\\left( 3\\alpha_{1}+ 6\\alpha_{2}+ 4\\alpha_{3}+ 2\\alpha_{4}\\right)\\oplus L\\left( 4\\alpha_{1}+ 4\\alpha_{2}+ 4\\alpha_{3}+ 3\\alpha_{4}\\right)\\oplus L\\left( 3\\alpha_{1}+ 5\\alpha_{2}+ 4\\alpha_{3}+ 3\\alpha_{4}\\right)\\oplus L\\left( 3\\alpha_{1}+ 4\\alpha_{2}+ 5\\alpha_{3}+ 3\\alpha_{4}\\right)\\oplus L\\left( 2\\alpha_{1}+ 4\\alpha_{2}+ 6\\alpha_{3}+ 3\\alpha_{4}\\right)\\oplus L\\left( 3\\alpha_{1}+ 5\\alpha_{2}+ 5\\alpha_{3}+ 3\\alpha_{4}\\right)$$"
      ],
      "text/plain": [
       "<IPython.core.display.Math object>"
      ]
     },
     "metadata": {},
     "output_type": "display_data"
    },
    {
     "data": {
      "text/latex": [
       "$$\\mathrm b^{0}(X_{4},\\wedge^{6}T_X)=82252$$"
      ],
      "text/plain": [
       "<IPython.core.display.Math object>"
      ]
     },
     "metadata": {},
     "output_type": "display_data"
    },
    {
     "data": {
      "text/latex": [
       "$$\\mathrm H^{0}(X_{4},\\wedge^{7}T_X)=L\\left( 2\\alpha_{1}+ 4\\alpha_{2}+ 4\\alpha_{3}+ 2\\alpha_{4}\\right)\\oplus L\\left( 3\\alpha_{1}+ 4\\alpha_{2}+ 4\\alpha_{3}+ 2\\alpha_{4}\\right)\\oplus L\\left( 4\\alpha_{1}+ 4\\alpha_{2}+ 4\\alpha_{3}+ 2\\alpha_{4}\\right)\\oplus L\\left( 3\\alpha_{1}+ 5\\alpha_{2}+ 4\\alpha_{3}+ 2\\alpha_{4}\\right)\\oplus L\\left( 3\\alpha_{1}+ 4\\alpha_{2}+ 4\\alpha_{3}+ 3\\alpha_{4}\\right)\\oplus L\\left( 2\\alpha_{1}+ 4\\alpha_{2}+ 5\\alpha_{3}+ 3\\alpha_{4}\\right)\\oplus L\\left( 4\\alpha_{1}+ 5\\alpha_{2}+ 4\\alpha_{3}+ 2\\alpha_{4}\\right)\\oplus L\\left( 3\\alpha_{1}+ 5\\alpha_{2}+ 4\\alpha_{3}+ 3\\alpha_{4}\\right)\\oplus L\\left( 3\\alpha_{1}+ 4\\alpha_{2}+ 5\\alpha_{3}+ 3\\alpha_{4}\\right)^{2}\\oplus L\\left( 4\\alpha_{1}+ 6\\alpha_{2}+ 4\\alpha_{3}+ 2\\alpha_{4}\\right)\\oplus L\\left( 4\\alpha_{1}+ 5\\alpha_{2}+ 4\\alpha_{3}+ 3\\alpha_{4}\\right)\\oplus L\\left( 3\\alpha_{1}+ 5\\alpha_{2}+ 5\\alpha_{3}+ 3\\alpha_{4}\\right)^{2}\\oplus L\\left( 4\\alpha_{1}+ 5\\alpha_{2}+ 5\\alpha_{3}+ 3\\alpha_{4}\\right)\\oplus L\\left( 3\\alpha_{1}+ 6\\alpha_{2}+ 5\\alpha_{3}+ 3\\alpha_{4}\\right)\\oplus L\\left( 3\\alpha_{1}+ 5\\alpha_{2}+ 6\\alpha_{3}+ 3\\alpha_{4}\\right)$$"
      ],
      "text/plain": [
       "<IPython.core.display.Math object>"
      ]
     },
     "metadata": {},
     "output_type": "display_data"
    },
    {
     "data": {
      "text/latex": [
       "$$\\mathrm b^{0}(X_{4},\\wedge^{7}T_X)=109723$$"
      ],
      "text/plain": [
       "<IPython.core.display.Math object>"
      ]
     },
     "metadata": {},
     "output_type": "display_data"
    },
    {
     "data": {
      "text/latex": [
       "$$\\mathrm H^{0}(X_{4},\\wedge^{8}T_X)=L\\left( 3\\alpha_{1}+ 5\\alpha_{2}+ 5\\alpha_{3}+ 3\\alpha_{4}\\right)\\oplus L\\left( 4\\alpha_{1}+ 5\\alpha_{2}+ 5\\alpha_{3}+ 3\\alpha_{4}\\right)\\oplus L\\left( 3\\alpha_{1}+ 5\\alpha_{2}+ 6\\alpha_{3}+ 3\\alpha_{4}\\right)\\oplus L\\left( 4\\alpha_{1}+ 6\\alpha_{2}+ 5\\alpha_{3}+ 3\\alpha_{4}\\right)\\oplus L\\left( 4\\alpha_{1}+ 5\\alpha_{2}+ 6\\alpha_{3}+ 3\\alpha_{4}\\right)\\oplus L\\left( 3\\alpha_{1}+ 6\\alpha_{2}+ 6\\alpha_{3}+ 3\\alpha_{4}\\right)$$"
      ],
      "text/plain": [
       "<IPython.core.display.Math object>"
      ]
     },
     "metadata": {},
     "output_type": "display_data"
    },
    {
     "data": {
      "text/latex": [
       "$$\\mathrm b^{0}(X_{4},\\wedge^{8}T_X)=78526$$"
      ],
      "text/plain": [
       "<IPython.core.display.Math object>"
      ]
     },
     "metadata": {},
     "output_type": "display_data"
    },
    {
     "data": {
      "text/latex": [
       "$$\\mathrm H^{0}(X_{4},\\wedge^{9}T_X)=L\\left( 4\\alpha_{1}+ 6\\alpha_{2}+ 6\\alpha_{3}+ 3\\alpha_{4}\\right)$$"
      ],
      "text/plain": [
       "<IPython.core.display.Math object>"
      ]
     },
     "metadata": {},
     "output_type": "display_data"
    },
    {
     "data": {
      "text/latex": [
       "$$\\mathrm b^{0}(X_{4},\\wedge^{9}T_X)=23100$$"
      ],
      "text/plain": [
       "<IPython.core.display.Math object>"
      ]
     },
     "metadata": {},
     "output_type": "display_data"
    },
    {
     "name": "stdout",
     "output_type": "stream",
     "text": [
      "\n",
      "dim of u is 7 for root system A4 and subset (1, 2)\n"
     ]
    },
    {
     "data": {
      "application/vnd.jupyter.widget-view+json": {
       "model_id": "70e3a107faf34b8e9678c4e6e269a43a",
       "version_major": 2,
       "version_minor": 0
      },
      "text/plain": [
       "HBox(children=(FloatProgress(value=0.0, max=8.0), HTML(value='')))"
      ]
     },
     "metadata": {},
     "output_type": "display_data"
    },
    {
     "data": {
      "application/vnd.jupyter.widget-view+json": {
       "model_id": "8542111d60ac4249b65918d6c1a5f438",
       "version_major": 2,
       "version_minor": 0
      },
      "text/plain": [
       "HBox(children=(FloatProgress(value=1.0, bar_style='info', max=1.0), HTML(value='')))"
      ]
     },
     "metadata": {},
     "output_type": "display_data"
    },
    {
     "data": {
      "application/vnd.jupyter.widget-view+json": {
       "model_id": "cb3402d5322049d9b446feb76962bc1b",
       "version_major": 2,
       "version_minor": 0
      },
      "text/plain": [
       "HBox(children=(FloatProgress(value=1.0, bar_style='info', max=1.0), HTML(value='')))"
      ]
     },
     "metadata": {},
     "output_type": "display_data"
    },
    {
     "data": {
      "text/latex": [
       "$$\\mathrm H^{0}(X_{12},\\wedge^{0}T_X)=\\mathbb{C}$$"
      ],
      "text/plain": [
       "<IPython.core.display.Math object>"
      ]
     },
     "metadata": {},
     "output_type": "display_data"
    },
    {
     "data": {
      "text/latex": [
       "$$\\mathrm b^{0}(X_{12},\\wedge^{0}T_X)=1$$"
      ],
      "text/plain": [
       "<IPython.core.display.Math object>"
      ]
     },
     "metadata": {},
     "output_type": "display_data"
    },
    {
     "data": {
      "text/latex": [
       "$$\\mathrm H^{0}(X_{12},\\wedge^{1}T_X)=L\\left(\\alpha_{1}+\\alpha_{2}+\\alpha_{3}+\\alpha_{4}\\right)$$"
      ],
      "text/plain": [
       "<IPython.core.display.Math object>"
      ]
     },
     "metadata": {},
     "output_type": "display_data"
    },
    {
     "data": {
      "text/latex": [
       "$$\\mathrm b^{0}(X_{12},\\wedge^{1}T_X)=24$$"
      ],
      "text/plain": [
       "<IPython.core.display.Math object>"
      ]
     },
     "metadata": {},
     "output_type": "display_data"
    },
    {
     "data": {
      "text/latex": [
       "$$\\mathrm H^{0}(X_{12},\\wedge^{2}T_X)=L\\left(\\alpha_{1}+\\alpha_{2}+\\alpha_{3}+\\alpha_{4}\\right)\\oplus L\\left( 2\\alpha_{1}+ 2\\alpha_{2}+ 2\\alpha_{3}+\\alpha_{4}\\right)\\oplus L\\left(\\alpha_{1}+ 2\\alpha_{2}+ 2\\alpha_{3}+ 2\\alpha_{4}\\right)$$"
      ],
      "text/plain": [
       "<IPython.core.display.Math object>"
      ]
     },
     "metadata": {},
     "output_type": "display_data"
    },
    {
     "data": {
      "text/latex": [
       "$$\\mathrm b^{0}(X_{12},\\wedge^{2}T_X)=276$$"
      ],
      "text/plain": [
       "<IPython.core.display.Math object>"
      ]
     },
     "metadata": {},
     "output_type": "display_data"
    },
    {
     "data": {
      "text/latex": [
       "$$\\mathrm H^{0}(X_{12},\\wedge^{3}T_X)=L\\left(\\alpha_{1}+ 2\\alpha_{2}+ 2\\alpha_{3}+\\alpha_{4}\\right)\\oplus L\\left(\\alpha_{1}+ 2\\alpha_{2}+ 2\\alpha_{3}+ 2\\alpha_{4}\\right)\\oplus L\\left( 2\\alpha_{1}+ 2\\alpha_{2}+ 2\\alpha_{3}+ 2\\alpha_{4}\\right)\\oplus L\\left(\\alpha_{1}+ 2\\alpha_{2}+ 3\\alpha_{3}+ 3\\alpha_{4}\\right)\\oplus L\\left( 2\\alpha_{1}+ 3\\alpha_{2}+ 3\\alpha_{3}+ 2\\alpha_{4}\\right)$$"
      ],
      "text/plain": [
       "<IPython.core.display.Math object>"
      ]
     },
     "metadata": {},
     "output_type": "display_data"
    },
    {
     "data": {
      "text/latex": [
       "$$\\mathrm b^{0}(X_{12},\\wedge^{3}T_X)=1649$$"
      ],
      "text/plain": [
       "<IPython.core.display.Math object>"
      ]
     },
     "metadata": {},
     "output_type": "display_data"
    },
    {
     "data": {
      "text/latex": [
       "$$\\mathrm H^{0}(X_{12},\\wedge^{4}T_X)=L\\left(\\alpha_{1}+ 2\\alpha_{2}+ 3\\alpha_{3}+ 2\\alpha_{4}\\right)\\oplus L\\left(\\alpha_{1}+ 2\\alpha_{2}+ 3\\alpha_{3}+ 3\\alpha_{4}\\right)\\oplus L\\left( 2\\alpha_{1}+ 3\\alpha_{2}+ 3\\alpha_{3}+ 2\\alpha_{4}\\right)\\oplus L\\left(\\alpha_{1}+ 2\\alpha_{2}+ 3\\alpha_{3}+ 4\\alpha_{4}\\right)\\oplus L\\left( 2\\alpha_{1}+ 3\\alpha_{2}+ 3\\alpha_{3}+ 3\\alpha_{4}\\right)\\oplus L\\left( 2\\alpha_{1}+ 4\\alpha_{2}+ 4\\alpha_{3}+ 2\\alpha_{4}\\right)\\oplus L\\left( 2\\alpha_{1}+ 3\\alpha_{2}+ 4\\alpha_{3}+ 3\\alpha_{4}\\right)$$"
      ],
      "text/plain": [
       "<IPython.core.display.Math object>"
      ]
     },
     "metadata": {},
     "output_type": "display_data"
    },
    {
     "data": {
      "text/latex": [
       "$$\\mathrm b^{0}(X_{12},\\wedge^{4}T_X)=5476$$"
      ],
      "text/plain": [
       "<IPython.core.display.Math object>"
      ]
     },
     "metadata": {},
     "output_type": "display_data"
    },
    {
     "data": {
      "text/latex": [
       "$$\\mathrm H^{0}(X_{12},\\wedge^{5}T_X)=L\\left( 2\\alpha_{1}+ 3\\alpha_{2}+ 4\\alpha_{3}+ 2\\alpha_{4}\\right)\\oplus L\\left( 2\\alpha_{1}+ 3\\alpha_{2}+ 4\\alpha_{3}+ 3\\alpha_{4}\\right)\\oplus L\\left( 2\\alpha_{1}+ 4\\alpha_{2}+ 4\\alpha_{3}+ 3\\alpha_{4}\\right)\\oplus L\\left( 2\\alpha_{1}+ 3\\alpha_{2}+ 4\\alpha_{3}+ 4\\alpha_{4}\\right)\\oplus L\\left( 2\\alpha_{1}+ 4\\alpha_{2}+ 5\\alpha_{3}+ 3\\alpha_{4}\\right)$$"
      ],
      "text/plain": [
       "<IPython.core.display.Math object>"
      ]
     },
     "metadata": {},
     "output_type": "display_data"
    },
    {
     "data": {
      "text/latex": [
       "$$\\mathrm b^{0}(X_{12},\\wedge^{5}T_X)=9875$$"
      ],
      "text/plain": [
       "<IPython.core.display.Math object>"
      ]
     },
     "metadata": {},
     "output_type": "display_data"
    },
    {
     "data": {
      "text/latex": [
       "$$\\mathrm H^{0}(X_{12},\\wedge^{6}T_X)=L\\left( 2\\alpha_{1}+ 4\\alpha_{2}+ 5\\alpha_{3}+ 3\\alpha_{4}\\right)\\oplus L\\left( 2\\alpha_{1}+ 4\\alpha_{2}+ 6\\alpha_{3}+ 3\\alpha_{4}\\right)\\oplus L\\left( 2\\alpha_{1}+ 4\\alpha_{2}+ 5\\alpha_{3}+ 4\\alpha_{4}\\right)$$"
      ],
      "text/plain": [
       "<IPython.core.display.Math object>"
      ]
     },
     "metadata": {},
     "output_type": "display_data"
    },
    {
     "data": {
      "text/latex": [
       "$$\\mathrm b^{0}(X_{12},\\wedge^{6}T_X)=8925$$"
      ],
      "text/plain": [
       "<IPython.core.display.Math object>"
      ]
     },
     "metadata": {},
     "output_type": "display_data"
    },
    {
     "data": {
      "text/latex": [
       "$$\\mathrm H^{0}(X_{12},\\wedge^{7}T_X)=L\\left( 2\\alpha_{1}+ 4\\alpha_{2}+ 6\\alpha_{3}+ 4\\alpha_{4}\\right)$$"
      ],
      "text/plain": [
       "<IPython.core.display.Math object>"
      ]
     },
     "metadata": {},
     "output_type": "display_data"
    },
    {
     "data": {
      "text/latex": [
       "$$\\mathrm b^{0}(X_{12},\\wedge^{7}T_X)=3150$$"
      ],
      "text/plain": [
       "<IPython.core.display.Math object>"
      ]
     },
     "metadata": {},
     "output_type": "display_data"
    },
    {
     "name": "stdout",
     "output_type": "stream",
     "text": [
      "\n",
      "dim of u is 8 for root system A4 and subset (1, 3)\n"
     ]
    },
    {
     "data": {
      "application/vnd.jupyter.widget-view+json": {
       "model_id": "eeac7a2a08884b7c9b4ab21e29e6a923",
       "version_major": 2,
       "version_minor": 0
      },
      "text/plain": [
       "HBox(children=(FloatProgress(value=0.0, max=9.0), HTML(value='')))"
      ]
     },
     "metadata": {},
     "output_type": "display_data"
    },
    {
     "data": {
      "application/vnd.jupyter.widget-view+json": {
       "model_id": "12ed761eb4064811ab020b608ef20cac",
       "version_major": 2,
       "version_minor": 0
      },
      "text/plain": [
       "HBox(children=(FloatProgress(value=1.0, bar_style='info', max=1.0), HTML(value='')))"
      ]
     },
     "metadata": {},
     "output_type": "display_data"
    },
    {
     "data": {
      "application/vnd.jupyter.widget-view+json": {
       "model_id": "33fac41883354744bc17135aecbc8ebc",
       "version_major": 2,
       "version_minor": 0
      },
      "text/plain": [
       "HBox(children=(FloatProgress(value=1.0, bar_style='info', max=1.0), HTML(value='')))"
      ]
     },
     "metadata": {},
     "output_type": "display_data"
    },
    {
     "data": {
      "text/latex": [
       "$$\\mathrm H^{0}(X_{13},\\wedge^{0}T_X)=\\mathbb{C}$$"
      ],
      "text/plain": [
       "<IPython.core.display.Math object>"
      ]
     },
     "metadata": {},
     "output_type": "display_data"
    },
    {
     "data": {
      "text/latex": [
       "$$\\mathrm b^{0}(X_{13},\\wedge^{0}T_X)=1$$"
      ],
      "text/plain": [
       "<IPython.core.display.Math object>"
      ]
     },
     "metadata": {},
     "output_type": "display_data"
    },
    {
     "data": {
      "text/latex": [
       "$$\\mathrm H^{0}(X_{13},\\wedge^{1}T_X)=L\\left(\\alpha_{1}+\\alpha_{2}+\\alpha_{3}+\\alpha_{4}\\right)$$"
      ],
      "text/plain": [
       "<IPython.core.display.Math object>"
      ]
     },
     "metadata": {},
     "output_type": "display_data"
    },
    {
     "data": {
      "text/latex": [
       "$$\\mathrm b^{0}(X_{13},\\wedge^{1}T_X)=24$$"
      ],
      "text/plain": [
       "<IPython.core.display.Math object>"
      ]
     },
     "metadata": {},
     "output_type": "display_data"
    },
    {
     "data": {
      "text/latex": [
       "$$\\mathrm H^{0}(X_{13},\\wedge^{2}T_X)=L\\left(\\alpha_{1}+\\alpha_{2}+\\alpha_{3}+\\alpha_{4}\\right)\\oplus L\\left( 2\\alpha_{1}+ 2\\alpha_{2}+ 2\\alpha_{3}+\\alpha_{4}\\right)\\oplus L\\left(\\alpha_{1}+ 2\\alpha_{2}+ 2\\alpha_{3}+ 2\\alpha_{4}\\right)$$"
      ],
      "text/plain": [
       "<IPython.core.display.Math object>"
      ]
     },
     "metadata": {},
     "output_type": "display_data"
    },
    {
     "data": {
      "text/latex": [
       "$$\\mathrm b^{0}(X_{13},\\wedge^{2}T_X)=276$$"
      ],
      "text/plain": [
       "<IPython.core.display.Math object>"
      ]
     },
     "metadata": {},
     "output_type": "display_data"
    },
    {
     "data": {
      "text/latex": [
       "$$\\mathrm H^{0}(X_{13},\\wedge^{3}T_X)=L\\left(\\alpha_{1}+ 2\\alpha_{2}+ 2\\alpha_{3}+\\alpha_{4}\\right)\\oplus L\\left( 2\\alpha_{1}+ 2\\alpha_{2}+ 2\\alpha_{3}+\\alpha_{4}\\right)\\oplus L\\left(\\alpha_{1}+ 2\\alpha_{2}+ 2\\alpha_{3}+ 2\\alpha_{4}\\right)\\oplus L\\left( 2\\alpha_{1}+ 2\\alpha_{2}+ 2\\alpha_{3}+ 2\\alpha_{4}\\right)\\oplus L\\left(\\alpha_{1}+ 2\\alpha_{2}+ 3\\alpha_{3}+ 2\\alpha_{4}\\right)\\oplus L\\left( 3\\alpha_{1}+ 3\\alpha_{2}+ 2\\alpha_{3}+\\alpha_{4}\\right)\\oplus L\\left(\\alpha_{1}+ 2\\alpha_{2}+ 3\\alpha_{3}+ 3\\alpha_{4}\\right)\\oplus L\\left( 2\\alpha_{1}+ 3\\alpha_{2}+ 3\\alpha_{3}+ 2\\alpha_{4}\\right)$$"
      ],
      "text/plain": [
       "<IPython.core.display.Math object>"
      ]
     },
     "metadata": {},
     "output_type": "display_data"
    },
    {
     "data": {
      "text/latex": [
       "$$\\mathrm b^{0}(X_{13},\\wedge^{3}T_X)=2174$$"
      ],
      "text/plain": [
       "<IPython.core.display.Math object>"
      ]
     },
     "metadata": {},
     "output_type": "display_data"
    },
    {
     "data": {
      "text/latex": [
       "$$\\mathrm H^{0}(X_{13},\\wedge^{4}T_X)=L\\left( 2\\alpha_{1}+ 3\\alpha_{2}+ 2\\alpha_{3}+\\alpha_{4}\\right)\\oplus L\\left( 2\\alpha_{1}+ 2\\alpha_{2}+ 2\\alpha_{3}+ 2\\alpha_{4}\\right)\\oplus L\\left(\\alpha_{1}+ 2\\alpha_{2}+ 3\\alpha_{3}+ 2\\alpha_{4}\\right)\\oplus L\\left(\\alpha_{1}+ 2\\alpha_{2}+ 3\\alpha_{3}+ 3\\alpha_{4}\\right)\\oplus L\\left( 2\\alpha_{1}+ 3\\alpha_{2}+ 3\\alpha_{3}+ 2\\alpha_{4}\\right)^{2}\\oplus L\\left(\\alpha_{1}+ 2\\alpha_{2}+ 3\\alpha_{3}+ 4\\alpha_{4}\\right)\\oplus L\\left( 3\\alpha_{1}+ 3\\alpha_{2}+ 3\\alpha_{3}+ 2\\alpha_{4}\\right)\\oplus L\\left( 2\\alpha_{1}+ 3\\alpha_{2}+ 4\\alpha_{3}+ 2\\alpha_{4}\\right)\\oplus L\\left( 2\\alpha_{1}+ 3\\alpha_{2}+ 3\\alpha_{3}+ 3\\alpha_{4}\\right)\\oplus L\\left( 3\\alpha_{1}+ 4\\alpha_{2}+ 3\\alpha_{3}+ 2\\alpha_{4}\\right)\\oplus L\\left( 2\\alpha_{1}+ 4\\alpha_{2}+ 4\\alpha_{3}+ 2\\alpha_{4}\\right)\\oplus L\\left( 2\\alpha_{1}+ 3\\alpha_{2}+ 4\\alpha_{3}+ 3\\alpha_{4}\\right)$$"
      ],
      "text/plain": [
       "<IPython.core.display.Math object>"
      ]
     },
     "metadata": {},
     "output_type": "display_data"
    },
    {
     "data": {
      "text/latex": [
       "$$\\mathrm b^{0}(X_{13},\\wedge^{4}T_X)=10326$$"
      ],
      "text/plain": [
       "<IPython.core.display.Math object>"
      ]
     },
     "metadata": {},
     "output_type": "display_data"
    },
    {
     "data": {
      "text/latex": [
       "$$\\mathrm H^{0}(X_{13},\\wedge^{5}T_X)=L\\left( 2\\alpha_{1}+ 3\\alpha_{2}+ 3\\alpha_{3}+ 2\\alpha_{4}\\right)\\oplus L\\left( 2\\alpha_{1}+ 4\\alpha_{2}+ 3\\alpha_{3}+ 2\\alpha_{4}\\right)\\oplus L\\left( 2\\alpha_{1}+ 3\\alpha_{2}+ 3\\alpha_{3}+ 3\\alpha_{4}\\right)\\oplus L\\left( 3\\alpha_{1}+ 4\\alpha_{2}+ 3\\alpha_{3}+ 2\\alpha_{4}\\right)\\oplus L\\left( 2\\alpha_{1}+ 4\\alpha_{2}+ 4\\alpha_{3}+ 2\\alpha_{4}\\right)\\oplus L\\left( 3\\alpha_{1}+ 3\\alpha_{2}+ 3\\alpha_{3}+ 3\\alpha_{4}\\right)\\oplus L\\left( 2\\alpha_{1}+ 3\\alpha_{2}+ 4\\alpha_{3}+ 3\\alpha_{4}\\right)\\oplus L\\left( 3\\alpha_{1}+ 4\\alpha_{2}+ 4\\alpha_{3}+ 2\\alpha_{4}\\right)\\oplus L\\left( 2\\alpha_{1}+ 4\\alpha_{2}+ 4\\alpha_{3}+ 3\\alpha_{4}\\right)\\oplus L\\left( 2\\alpha_{1}+ 3\\alpha_{2}+ 4\\alpha_{3}+ 4\\alpha_{4}\\right)\\oplus L\\left( 3\\alpha_{1}+ 5\\alpha_{2}+ 4\\alpha_{3}+ 2\\alpha_{4}\\right)\\oplus L\\left( 3\\alpha_{1}+ 4\\alpha_{2}+ 4\\alpha_{3}+ 3\\alpha_{4}\\right)\\oplus L\\left( 2\\alpha_{1}+ 4\\alpha_{2}+ 5\\alpha_{3}+ 3\\alpha_{4}\\right)$$"
      ],
      "text/plain": [
       "<IPython.core.display.Math object>"
      ]
     },
     "metadata": {},
     "output_type": "display_data"
    },
    {
     "data": {
      "text/latex": [
       "$$\\mathrm b^{0}(X_{13},\\wedge^{5}T_X)=27675$$"
      ],
      "text/plain": [
       "<IPython.core.display.Math object>"
      ]
     },
     "metadata": {},
     "output_type": "display_data"
    },
    {
     "data": {
      "text/latex": [
       "$$\\mathrm H^{0}(X_{13},\\wedge^{6}T_X)=L\\left( 2\\alpha_{1}+ 4\\alpha_{2}+ 3\\alpha_{3}+ 2\\alpha_{4}\\right)\\oplus L\\left( 2\\alpha_{1}+ 4\\alpha_{2}+ 4\\alpha_{3}+ 3\\alpha_{4}\\right)\\oplus L\\left( 3\\alpha_{1}+ 5\\alpha_{2}+ 4\\alpha_{3}+ 2\\alpha_{4}\\right)\\oplus L\\left( 3\\alpha_{1}+ 4\\alpha_{2}+ 4\\alpha_{3}+ 3\\alpha_{4}\\right)\\oplus L\\left( 3\\alpha_{1}+ 6\\alpha_{2}+ 4\\alpha_{3}+ 2\\alpha_{4}\\right)\\oplus L\\left( 3\\alpha_{1}+ 5\\alpha_{2}+ 4\\alpha_{3}+ 3\\alpha_{4}\\right)\\oplus L\\left( 3\\alpha_{1}+ 4\\alpha_{2}+ 4\\alpha_{3}+ 4\\alpha_{4}\\right)\\oplus L\\left( 2\\alpha_{1}+ 4\\alpha_{2}+ 5\\alpha_{3}+ 4\\alpha_{4}\\right)\\oplus L\\left( 3\\alpha_{1}+ 5\\alpha_{2}+ 5\\alpha_{3}+ 3\\alpha_{4}\\right)$$"
      ],
      "text/plain": [
       "<IPython.core.display.Math object>"
      ]
     },
     "metadata": {},
     "output_type": "display_data"
    },
    {
     "data": {
      "text/latex": [
       "$$\\mathrm b^{0}(X_{13},\\wedge^{6}T_X)=41000$$"
      ],
      "text/plain": [
       "<IPython.core.display.Math object>"
      ]
     },
     "metadata": {},
     "output_type": "display_data"
    },
    {
     "name": "stdout",
     "output_type": "stream",
     "text": [
      "\n",
      "\n"
     ]
    },
    {
     "data": {
      "text/latex": [
       "$$\\mathrm H^{0}(X_{13},\\wedge^{7}T_X)=L\\left( 3\\alpha_{1}+ 5\\alpha_{2}+ 4\\alpha_{3}+ 3\\alpha_{4}\\right)\\oplus L\\left( 3\\alpha_{1}+ 6\\alpha_{2}+ 5\\alpha_{3}+ 3\\alpha_{4}\\right)\\oplus L\\left( 3\\alpha_{1}+ 5\\alpha_{2}+ 5\\alpha_{3}+ 4\\alpha_{4}\\right)$$"
      ],
      "text/plain": [
       "<IPython.core.display.Math object>"
      ]
     },
     "metadata": {},
     "output_type": "display_data"
    },
    {
     "data": {
      "text/latex": [
       "$$\\mathrm b^{0}(X_{13},\\wedge^{7}T_X)=31325$$"
      ],
      "text/plain": [
       "<IPython.core.display.Math object>"
      ]
     },
     "metadata": {},
     "output_type": "display_data"
    },
    {
     "data": {
      "text/latex": [
       "$$\\mathrm H^{0}(X_{13},\\wedge^{8}T_X)=L\\left( 3\\alpha_{1}+ 6\\alpha_{2}+ 5\\alpha_{3}+ 4\\alpha_{4}\\right)$$"
      ],
      "text/plain": [
       "<IPython.core.display.Math object>"
      ]
     },
     "metadata": {},
     "output_type": "display_data"
    },
    {
     "data": {
      "text/latex": [
       "$$\\mathrm b^{0}(X_{13},\\wedge^{8}T_X)=9625$$"
      ],
      "text/plain": [
       "<IPython.core.display.Math object>"
      ]
     },
     "metadata": {},
     "output_type": "display_data"
    },
    {
     "name": "stdout",
     "output_type": "stream",
     "text": [
      "\n",
      "dim of u is 8 for root system A4 and subset (1, 4)\n"
     ]
    },
    {
     "data": {
      "application/vnd.jupyter.widget-view+json": {
       "model_id": "3b67aeb6729a47d5b21ddc1b3b0c8557",
       "version_major": 2,
       "version_minor": 0
      },
      "text/plain": [
       "HBox(children=(FloatProgress(value=0.0, max=9.0), HTML(value='')))"
      ]
     },
     "metadata": {},
     "output_type": "display_data"
    },
    {
     "data": {
      "application/vnd.jupyter.widget-view+json": {
       "model_id": "3c363a92829f451fb11d568fe70304a8",
       "version_major": 2,
       "version_minor": 0
      },
      "text/plain": [
       "HBox(children=(FloatProgress(value=1.0, bar_style='info', max=1.0), HTML(value='')))"
      ]
     },
     "metadata": {},
     "output_type": "display_data"
    },
    {
     "data": {
      "application/vnd.jupyter.widget-view+json": {
       "model_id": "5c9abe9c8d764804bf53f88525178412",
       "version_major": 2,
       "version_minor": 0
      },
      "text/plain": [
       "HBox(children=(FloatProgress(value=1.0, bar_style='info', max=1.0), HTML(value='')))"
      ]
     },
     "metadata": {},
     "output_type": "display_data"
    },
    {
     "data": {
      "text/latex": [
       "$$\\mathrm H^{0}(X_{14},\\wedge^{0}T_X)=\\mathbb{C}$$"
      ],
      "text/plain": [
       "<IPython.core.display.Math object>"
      ]
     },
     "metadata": {},
     "output_type": "display_data"
    },
    {
     "data": {
      "text/latex": [
       "$$\\mathrm b^{0}(X_{14},\\wedge^{0}T_X)=1$$"
      ],
      "text/plain": [
       "<IPython.core.display.Math object>"
      ]
     },
     "metadata": {},
     "output_type": "display_data"
    },
    {
     "data": {
      "text/latex": [
       "$$\\mathrm H^{0}(X_{14},\\wedge^{1}T_X)=L\\left(\\alpha_{1}+\\alpha_{2}+\\alpha_{3}+\\alpha_{4}\\right)$$"
      ],
      "text/plain": [
       "<IPython.core.display.Math object>"
      ]
     },
     "metadata": {},
     "output_type": "display_data"
    },
    {
     "data": {
      "text/latex": [
       "$$\\mathrm b^{0}(X_{14},\\wedge^{1}T_X)=24$$"
      ],
      "text/plain": [
       "<IPython.core.display.Math object>"
      ]
     },
     "metadata": {},
     "output_type": "display_data"
    },
    {
     "data": {
      "text/latex": [
       "$$\\mathrm H^{0}(X_{14},\\wedge^{2}T_X)=L\\left(\\alpha_{1}+\\alpha_{2}+\\alpha_{3}+\\alpha_{4}\\right)\\oplus L\\left( 2\\alpha_{1}+ 2\\alpha_{2}+ 2\\alpha_{3}+\\alpha_{4}\\right)\\oplus L\\left(\\alpha_{1}+ 2\\alpha_{2}+ 2\\alpha_{3}+ 2\\alpha_{4}\\right)$$"
      ],
      "text/plain": [
       "<IPython.core.display.Math object>"
      ]
     },
     "metadata": {},
     "output_type": "display_data"
    },
    {
     "data": {
      "text/latex": [
       "$$\\mathrm b^{0}(X_{14},\\wedge^{2}T_X)=276$$"
      ],
      "text/plain": [
       "<IPython.core.display.Math object>"
      ]
     },
     "metadata": {},
     "output_type": "display_data"
    },
    {
     "data": {
      "text/latex": [
       "$$\\mathrm H^{0}(X_{14},\\wedge^{3}T_X)=L\\left(\\alpha_{1}+ 2\\alpha_{2}+ 2\\alpha_{3}+\\alpha_{4}\\right)\\oplus L\\left( 2\\alpha_{1}+ 2\\alpha_{2}+ 2\\alpha_{3}+\\alpha_{4}\\right)\\oplus L\\left(\\alpha_{1}+ 2\\alpha_{2}+ 2\\alpha_{3}+ 2\\alpha_{4}\\right)\\oplus L\\left( 2\\alpha_{1}+ 2\\alpha_{2}+ 2\\alpha_{3}+ 2\\alpha_{4}\\right)\\oplus L\\left( 3\\alpha_{1}+ 3\\alpha_{2}+ 2\\alpha_{3}+\\alpha_{4}\\right)\\oplus L\\left(\\alpha_{1}+ 2\\alpha_{2}+ 3\\alpha_{3}+ 3\\alpha_{4}\\right)\\oplus L\\left( 2\\alpha_{1}+ 3\\alpha_{2}+ 3\\alpha_{3}+ 2\\alpha_{4}\\right)$$"
      ],
      "text/plain": [
       "<IPython.core.display.Math object>"
      ]
     },
     "metadata": {},
     "output_type": "display_data"
    },
    {
     "data": {
      "text/latex": [
       "$$\\mathrm b^{0}(X_{14},\\wedge^{3}T_X)=1999$$"
      ],
      "text/plain": [
       "<IPython.core.display.Math object>"
      ]
     },
     "metadata": {},
     "output_type": "display_data"
    },
    {
     "data": {
      "text/latex": [
       "$$\\mathrm H^{0}(X_{14},\\wedge^{4}T_X)=L\\left(\\alpha_{1}+ 2\\alpha_{2}+ 2\\alpha_{3}+\\alpha_{4}\\right)\\oplus L\\left( 2\\alpha_{1}+ 3\\alpha_{2}+ 2\\alpha_{3}+\\alpha_{4}\\right)\\oplus L\\left(\\alpha_{1}+ 2\\alpha_{2}+ 3\\alpha_{3}+ 2\\alpha_{4}\\right)\\oplus L\\left( 2\\alpha_{1}+ 3\\alpha_{2}+ 3\\alpha_{3}+ 2\\alpha_{4}\\right)^{2}\\oplus L\\left( 3\\alpha_{1}+ 3\\alpha_{2}+ 3\\alpha_{3}+ 2\\alpha_{4}\\right)\\oplus L\\left( 2\\alpha_{1}+ 3\\alpha_{2}+ 3\\alpha_{3}+ 3\\alpha_{4}\\right)\\oplus L\\left( 3\\alpha_{1}+ 4\\alpha_{2}+ 3\\alpha_{3}+ 2\\alpha_{4}\\right)\\oplus L\\left( 2\\alpha_{1}+ 4\\alpha_{2}+ 4\\alpha_{3}+ 2\\alpha_{4}\\right)\\oplus L\\left( 2\\alpha_{1}+ 3\\alpha_{2}+ 4\\alpha_{3}+ 3\\alpha_{4}\\right)$$"
      ],
      "text/plain": [
       "<IPython.core.display.Math object>"
      ]
     },
     "metadata": {},
     "output_type": "display_data"
    },
    {
     "data": {
      "text/latex": [
       "$$\\mathrm b^{0}(X_{14},\\wedge^{4}T_X)=9151$$"
      ],
      "text/plain": [
       "<IPython.core.display.Math object>"
      ]
     },
     "metadata": {},
     "output_type": "display_data"
    },
    {
     "data": {
      "text/latex": [
       "$$\\mathrm H^{0}(X_{14},\\wedge^{5}T_X)=L\\left( 2\\alpha_{1}+ 3\\alpha_{2}+ 3\\alpha_{3}+ 2\\alpha_{4}\\right)\\oplus L\\left( 2\\alpha_{1}+ 4\\alpha_{2}+ 3\\alpha_{3}+ 2\\alpha_{4}\\right)\\oplus L\\left( 2\\alpha_{1}+ 3\\alpha_{2}+ 4\\alpha_{3}+ 2\\alpha_{4}\\right)\\oplus L\\left( 3\\alpha_{1}+ 4\\alpha_{2}+ 3\\alpha_{3}+ 2\\alpha_{4}\\right)\\oplus L\\left( 2\\alpha_{1}+ 4\\alpha_{2}+ 4\\alpha_{3}+ 2\\alpha_{4}\\right)\\oplus L\\left( 2\\alpha_{1}+ 3\\alpha_{2}+ 4\\alpha_{3}+ 3\\alpha_{4}\\right)\\oplus L\\left( 3\\alpha_{1}+ 4\\alpha_{2}+ 4\\alpha_{3}+ 2\\alpha_{4}\\right)\\oplus L\\left( 2\\alpha_{1}+ 4\\alpha_{2}+ 4\\alpha_{3}+ 3\\alpha_{4}\\right)\\oplus L\\left( 3\\alpha_{1}+ 5\\alpha_{2}+ 4\\alpha_{3}+ 2\\alpha_{4}\\right)\\oplus L\\left( 3\\alpha_{1}+ 4\\alpha_{2}+ 4\\alpha_{3}+ 3\\alpha_{4}\\right)\\oplus L\\left( 2\\alpha_{1}+ 4\\alpha_{2}+ 5\\alpha_{3}+ 3\\alpha_{4}\\right)$$"
      ],
      "text/plain": [
       "<IPython.core.display.Math object>"
      ]
     },
     "metadata": {},
     "output_type": "display_data"
    },
    {
     "data": {
      "text/latex": [
       "$$\\mathrm b^{0}(X_{14},\\wedge^{5}T_X)=24575$$"
      ],
      "text/plain": [
       "<IPython.core.display.Math object>"
      ]
     },
     "metadata": {},
     "output_type": "display_data"
    },
    {
     "data": {
      "text/latex": [
       "$$\\mathrm H^{0}(X_{14},\\wedge^{6}T_X)=L\\left( 3\\alpha_{1}+ 4\\alpha_{2}+ 4\\alpha_{3}+ 2\\alpha_{4}\\right)\\oplus L\\left( 2\\alpha_{1}+ 4\\alpha_{2}+ 4\\alpha_{3}+ 3\\alpha_{4}\\right)\\oplus L\\left( 3\\alpha_{1}+ 5\\alpha_{2}+ 4\\alpha_{3}+ 2\\alpha_{4}\\right)\\oplus L\\left( 2\\alpha_{1}+ 4\\alpha_{2}+ 5\\alpha_{3}+ 3\\alpha_{4}\\right)\\oplus L\\left( 3\\alpha_{1}+ 6\\alpha_{2}+ 4\\alpha_{3}+ 2\\alpha_{4}\\right)\\oplus L\\left( 3\\alpha_{1}+ 5\\alpha_{2}+ 4\\alpha_{3}+ 3\\alpha_{4}\\right)\\oplus L\\left( 3\\alpha_{1}+ 4\\alpha_{2}+ 5\\alpha_{3}+ 3\\alpha_{4}\\right)\\oplus L\\left( 2\\alpha_{1}+ 4\\alpha_{2}+ 6\\alpha_{3}+ 3\\alpha_{4}\\right)\\oplus L\\left( 3\\alpha_{1}+ 5\\alpha_{2}+ 5\\alpha_{3}+ 3\\alpha_{4}\\right)$$"
      ],
      "text/plain": [
       "<IPython.core.display.Math object>"
      ]
     },
     "metadata": {},
     "output_type": "display_data"
    },
    {
     "data": {
      "text/latex": [
       "$$\\mathrm b^{0}(X_{14},\\wedge^{6}T_X)=37000$$"
      ],
      "text/plain": [
       "<IPython.core.display.Math object>"
      ]
     },
     "metadata": {},
     "output_type": "display_data"
    },
    {
     "data": {
      "text/latex": [
       "$$\\mathrm H^{0}(X_{14},\\wedge^{7}T_X)=L\\left( 3\\alpha_{1}+ 5\\alpha_{2}+ 5\\alpha_{3}+ 3\\alpha_{4}\\right)\\oplus L\\left( 3\\alpha_{1}+ 6\\alpha_{2}+ 5\\alpha_{3}+ 3\\alpha_{4}\\right)\\oplus L\\left( 3\\alpha_{1}+ 5\\alpha_{2}+ 6\\alpha_{3}+ 3\\alpha_{4}\\right)$$"
      ],
      "text/plain": [
       "<IPython.core.display.Math object>"
      ]
     },
     "metadata": {},
     "output_type": "display_data"
    },
    {
     "data": {
      "text/latex": [
       "$$\\mathrm b^{0}(X_{14},\\wedge^{7}T_X)=28800$$"
      ],
      "text/plain": [
       "<IPython.core.display.Math object>"
      ]
     },
     "metadata": {},
     "output_type": "display_data"
    },
    {
     "data": {
      "text/latex": [
       "$$\\mathrm H^{0}(X_{14},\\wedge^{8}T_X)=L\\left( 3\\alpha_{1}+ 6\\alpha_{2}+ 6\\alpha_{3}+ 3\\alpha_{4}\\right)$$"
      ],
      "text/plain": [
       "<IPython.core.display.Math object>"
      ]
     },
     "metadata": {},
     "output_type": "display_data"
    },
    {
     "data": {
      "text/latex": [
       "$$\\mathrm b^{0}(X_{14},\\wedge^{8}T_X)=9000$$"
      ],
      "text/plain": [
       "<IPython.core.display.Math object>"
      ]
     },
     "metadata": {},
     "output_type": "display_data"
    },
    {
     "name": "stdout",
     "output_type": "stream",
     "text": [
      "\n",
      "dim of u is 7 for root system A4 and subset (2, 3)\n"
     ]
    },
    {
     "data": {
      "application/vnd.jupyter.widget-view+json": {
       "model_id": "0abc7a6453694054a0125ba11b0704f8",
       "version_major": 2,
       "version_minor": 0
      },
      "text/plain": [
       "HBox(children=(FloatProgress(value=0.0, max=8.0), HTML(value='')))"
      ]
     },
     "metadata": {},
     "output_type": "display_data"
    },
    {
     "data": {
      "application/vnd.jupyter.widget-view+json": {
       "model_id": "960f11c8c1894f87993d540c24f107ee",
       "version_major": 2,
       "version_minor": 0
      },
      "text/plain": [
       "HBox(children=(FloatProgress(value=1.0, bar_style='info', max=1.0), HTML(value='')))"
      ]
     },
     "metadata": {},
     "output_type": "display_data"
    },
    {
     "data": {
      "application/vnd.jupyter.widget-view+json": {
       "model_id": "19cdd93ce9614104886206f298b57c3f",
       "version_major": 2,
       "version_minor": 0
      },
      "text/plain": [
       "HBox(children=(FloatProgress(value=1.0, bar_style='info', max=1.0), HTML(value='')))"
      ]
     },
     "metadata": {},
     "output_type": "display_data"
    },
    {
     "data": {
      "text/latex": [
       "$$\\mathrm H^{0}(X_{23},\\wedge^{0}T_X)=\\mathbb{C}$$"
      ],
      "text/plain": [
       "<IPython.core.display.Math object>"
      ]
     },
     "metadata": {},
     "output_type": "display_data"
    },
    {
     "data": {
      "text/latex": [
       "$$\\mathrm b^{0}(X_{23},\\wedge^{0}T_X)=1$$"
      ],
      "text/plain": [
       "<IPython.core.display.Math object>"
      ]
     },
     "metadata": {},
     "output_type": "display_data"
    },
    {
     "data": {
      "text/latex": [
       "$$\\mathrm H^{0}(X_{23},\\wedge^{1}T_X)=L\\left(\\alpha_{1}+\\alpha_{2}+\\alpha_{3}+\\alpha_{4}\\right)$$"
      ],
      "text/plain": [
       "<IPython.core.display.Math object>"
      ]
     },
     "metadata": {},
     "output_type": "display_data"
    },
    {
     "data": {
      "text/latex": [
       "$$\\mathrm b^{0}(X_{23},\\wedge^{1}T_X)=24$$"
      ],
      "text/plain": [
       "<IPython.core.display.Math object>"
      ]
     },
     "metadata": {},
     "output_type": "display_data"
    },
    {
     "data": {
      "text/latex": [
       "$$\\mathrm H^{0}(X_{23},\\wedge^{2}T_X)=L\\left(\\alpha_{1}+\\alpha_{2}+\\alpha_{3}+\\alpha_{4}\\right)\\oplus L\\left(\\alpha_{1}+ 2\\alpha_{2}+ 2\\alpha_{3}+\\alpha_{4}\\right)\\oplus L\\left( 2\\alpha_{1}+ 2\\alpha_{2}+ 2\\alpha_{3}+\\alpha_{4}\\right)\\oplus L\\left(\\alpha_{1}+ 2\\alpha_{2}+ 2\\alpha_{3}+ 2\\alpha_{4}\\right)$$"
      ],
      "text/plain": [
       "<IPython.core.display.Math object>"
      ]
     },
     "metadata": {},
     "output_type": "display_data"
    },
    {
     "data": {
      "text/latex": [
       "$$\\mathrm b^{0}(X_{23},\\wedge^{2}T_X)=351$$"
      ],
      "text/plain": [
       "<IPython.core.display.Math object>"
      ]
     },
     "metadata": {},
     "output_type": "display_data"
    },
    {
     "data": {
      "text/latex": [
       "$$\\mathrm H^{0}(X_{23},\\wedge^{3}T_X)=L\\left( 2\\alpha_{1}+ 2\\alpha_{2}+ 2\\alpha_{3}+\\alpha_{4}\\right)\\oplus L\\left(\\alpha_{1}+ 2\\alpha_{2}+ 2\\alpha_{3}+ 2\\alpha_{4}\\right)\\oplus L\\left( 2\\alpha_{1}+ 3\\alpha_{2}+ 2\\alpha_{3}+\\alpha_{4}\\right)\\oplus L\\left( 2\\alpha_{1}+ 2\\alpha_{2}+ 2\\alpha_{3}+ 2\\alpha_{4}\\right)\\oplus L\\left(\\alpha_{1}+ 2\\alpha_{2}+ 3\\alpha_{3}+ 2\\alpha_{4}\\right)\\oplus L\\left( 3\\alpha_{1}+ 3\\alpha_{2}+ 2\\alpha_{3}+\\alpha_{4}\\right)\\oplus L\\left(\\alpha_{1}+ 2\\alpha_{2}+ 3\\alpha_{3}+ 3\\alpha_{4}\\right)\\oplus L\\left( 2\\alpha_{1}+ 3\\alpha_{2}+ 3\\alpha_{3}+ 2\\alpha_{4}\\right)$$"
      ],
      "text/plain": [
       "<IPython.core.display.Math object>"
      ]
     },
     "metadata": {},
     "output_type": "display_data"
    },
    {
     "data": {
      "text/latex": [
       "$$\\mathrm b^{0}(X_{23},\\wedge^{3}T_X)=2274$$"
      ],
      "text/plain": [
       "<IPython.core.display.Math object>"
      ]
     },
     "metadata": {},
     "output_type": "display_data"
    },
    {
     "data": {
      "text/latex": [
       "$$\\mathrm H^{0}(X_{23},\\wedge^{4}T_X)=L\\left( 2\\alpha_{1}+ 2\\alpha_{2}+ 2\\alpha_{3}+ 2\\alpha_{4}\\right)\\oplus L\\left( 3\\alpha_{1}+ 3\\alpha_{2}+ 2\\alpha_{3}+\\alpha_{4}\\right)\\oplus L\\left(\\alpha_{1}+ 2\\alpha_{2}+ 3\\alpha_{3}+ 3\\alpha_{4}\\right)\\oplus L\\left( 4\\alpha_{1}+ 3\\alpha_{2}+ 2\\alpha_{3}+\\alpha_{4}\\right)\\oplus L\\left( 2\\alpha_{1}+ 3\\alpha_{2}+ 3\\alpha_{3}+ 2\\alpha_{4}\\right)\\oplus L\\left(\\alpha_{1}+ 2\\alpha_{2}+ 3\\alpha_{3}+ 4\\alpha_{4}\\right)\\oplus L\\left( 3\\alpha_{1}+ 3\\alpha_{2}+ 3\\alpha_{3}+ 2\\alpha_{4}\\right)\\oplus L\\left( 2\\alpha_{1}+ 3\\alpha_{2}+ 3\\alpha_{3}+ 3\\alpha_{4}\\right)\\oplus L\\left( 3\\alpha_{1}+ 4\\alpha_{2}+ 3\\alpha_{3}+ 2\\alpha_{4}\\right)\\oplus L\\left( 2\\alpha_{1}+ 3\\alpha_{2}+ 4\\alpha_{3}+ 3\\alpha_{4}\\right)$$"
      ],
      "text/plain": [
       "<IPython.core.display.Math object>"
      ]
     },
     "metadata": {},
     "output_type": "display_data"
    },
    {
     "data": {
      "text/latex": [
       "$$\\mathrm b^{0}(X_{23},\\wedge^{4}T_X)=7426$$"
      ],
      "text/plain": [
       "<IPython.core.display.Math object>"
      ]
     },
     "metadata": {},
     "output_type": "display_data"
    },
    {
     "data": {
      "text/latex": [
       "$$\\mathrm H^{0}(X_{23},\\wedge^{5}T_X)=L\\left( 3\\alpha_{1}+ 3\\alpha_{2}+ 3\\alpha_{3}+ 2\\alpha_{4}\\right)\\oplus L\\left( 2\\alpha_{1}+ 3\\alpha_{2}+ 3\\alpha_{3}+ 3\\alpha_{4}\\right)\\oplus L\\left( 3\\alpha_{1}+ 3\\alpha_{2}+ 3\\alpha_{3}+ 3\\alpha_{4}\\right)\\oplus L\\left( 4\\alpha_{1}+ 4\\alpha_{2}+ 3\\alpha_{3}+ 2\\alpha_{4}\\right)\\oplus L\\left( 2\\alpha_{1}+ 3\\alpha_{2}+ 4\\alpha_{3}+ 4\\alpha_{4}\\right)\\oplus L\\left( 3\\alpha_{1}+ 4\\alpha_{2}+ 4\\alpha_{3}+ 3\\alpha_{4}\\right)$$"
      ],
      "text/plain": [
       "<IPython.core.display.Math object>"
      ]
     },
     "metadata": {},
     "output_type": "display_data"
    },
    {
     "data": {
      "text/latex": [
       "$$\\mathrm b^{0}(X_{23},\\wedge^{5}T_X)=12725$$"
      ],
      "text/plain": [
       "<IPython.core.display.Math object>"
      ]
     },
     "metadata": {},
     "output_type": "display_data"
    },
    {
     "data": {
      "text/latex": [
       "$$\\mathrm H^{0}(X_{23},\\wedge^{6}T_X)=L\\left( 3\\alpha_{1}+ 3\\alpha_{2}+ 3\\alpha_{3}+ 3\\alpha_{4}\\right)\\oplus L\\left( 4\\alpha_{1}+ 4\\alpha_{2}+ 4\\alpha_{3}+ 3\\alpha_{4}\\right)\\oplus L\\left( 3\\alpha_{1}+ 4\\alpha_{2}+ 4\\alpha_{3}+ 4\\alpha_{4}\\right)$$"
      ],
      "text/plain": [
       "<IPython.core.display.Math object>"
      ]
     },
     "metadata": {},
     "output_type": "display_data"
    },
    {
     "data": {
      "text/latex": [
       "$$\\mathrm b^{0}(X_{23},\\wedge^{6}T_X)=10900$$"
      ],
      "text/plain": [
       "<IPython.core.display.Math object>"
      ]
     },
     "metadata": {},
     "output_type": "display_data"
    },
    {
     "data": {
      "text/latex": [
       "$$\\mathrm H^{0}(X_{23},\\wedge^{7}T_X)=L\\left( 4\\alpha_{1}+ 4\\alpha_{2}+ 4\\alpha_{3}+ 4\\alpha_{4}\\right)$$"
      ],
      "text/plain": [
       "<IPython.core.display.Math object>"
      ]
     },
     "metadata": {},
     "output_type": "display_data"
    },
    {
     "data": {
      "text/latex": [
       "$$\\mathrm b^{0}(X_{23},\\wedge^{7}T_X)=3675$$"
      ],
      "text/plain": [
       "<IPython.core.display.Math object>"
      ]
     },
     "metadata": {},
     "output_type": "display_data"
    },
    {
     "name": "stdout",
     "output_type": "stream",
     "text": [
      "\n",
      "dim of u is 8 for root system A4 and subset (2, 4)\n"
     ]
    },
    {
     "data": {
      "application/vnd.jupyter.widget-view+json": {
       "model_id": "72b75e3f88b2409ebbb37cd64bd18c42",
       "version_major": 2,
       "version_minor": 0
      },
      "text/plain": [
       "HBox(children=(FloatProgress(value=0.0, max=9.0), HTML(value='')))"
      ]
     },
     "metadata": {},
     "output_type": "display_data"
    },
    {
     "data": {
      "application/vnd.jupyter.widget-view+json": {
       "model_id": "7e2ba1d8d50548ddbf58fe7f0f836bad",
       "version_major": 2,
       "version_minor": 0
      },
      "text/plain": [
       "HBox(children=(FloatProgress(value=1.0, bar_style='info', max=1.0), HTML(value='')))"
      ]
     },
     "metadata": {},
     "output_type": "display_data"
    },
    {
     "data": {
      "application/vnd.jupyter.widget-view+json": {
       "model_id": "b3df687d75744e5abf3f304b3500227c",
       "version_major": 2,
       "version_minor": 0
      },
      "text/plain": [
       "HBox(children=(FloatProgress(value=1.0, bar_style='info', max=1.0), HTML(value='')))"
      ]
     },
     "metadata": {},
     "output_type": "display_data"
    },
    {
     "data": {
      "text/latex": [
       "$$\\mathrm H^{0}(X_{24},\\wedge^{0}T_X)=\\mathbb{C}$$"
      ],
      "text/plain": [
       "<IPython.core.display.Math object>"
      ]
     },
     "metadata": {},
     "output_type": "display_data"
    },
    {
     "data": {
      "text/latex": [
       "$$\\mathrm b^{0}(X_{24},\\wedge^{0}T_X)=1$$"
      ],
      "text/plain": [
       "<IPython.core.display.Math object>"
      ]
     },
     "metadata": {},
     "output_type": "display_data"
    },
    {
     "data": {
      "text/latex": [
       "$$\\mathrm H^{0}(X_{24},\\wedge^{1}T_X)=L\\left(\\alpha_{1}+\\alpha_{2}+\\alpha_{3}+\\alpha_{4}\\right)$$"
      ],
      "text/plain": [
       "<IPython.core.display.Math object>"
      ]
     },
     "metadata": {},
     "output_type": "display_data"
    },
    {
     "data": {
      "text/latex": [
       "$$\\mathrm b^{0}(X_{24},\\wedge^{1}T_X)=24$$"
      ],
      "text/plain": [
       "<IPython.core.display.Math object>"
      ]
     },
     "metadata": {},
     "output_type": "display_data"
    },
    {
     "data": {
      "text/latex": [
       "$$\\mathrm H^{0}(X_{24},\\wedge^{2}T_X)=L\\left(\\alpha_{1}+\\alpha_{2}+\\alpha_{3}+\\alpha_{4}\\right)\\oplus L\\left( 2\\alpha_{1}+ 2\\alpha_{2}+ 2\\alpha_{3}+\\alpha_{4}\\right)\\oplus L\\left(\\alpha_{1}+ 2\\alpha_{2}+ 2\\alpha_{3}+ 2\\alpha_{4}\\right)$$"
      ],
      "text/plain": [
       "<IPython.core.display.Math object>"
      ]
     },
     "metadata": {},
     "output_type": "display_data"
    },
    {
     "data": {
      "text/latex": [
       "$$\\mathrm b^{0}(X_{24},\\wedge^{2}T_X)=276$$"
      ],
      "text/plain": [
       "<IPython.core.display.Math object>"
      ]
     },
     "metadata": {},
     "output_type": "display_data"
    },
    {
     "data": {
      "text/latex": [
       "$$\\mathrm H^{0}(X_{24},\\wedge^{3}T_X)=L\\left(\\alpha_{1}+ 2\\alpha_{2}+ 2\\alpha_{3}+\\alpha_{4}\\right)\\oplus L\\left( 2\\alpha_{1}+ 2\\alpha_{2}+ 2\\alpha_{3}+\\alpha_{4}\\right)\\oplus L\\left(\\alpha_{1}+ 2\\alpha_{2}+ 2\\alpha_{3}+ 2\\alpha_{4}\\right)\\oplus L\\left( 2\\alpha_{1}+ 3\\alpha_{2}+ 2\\alpha_{3}+\\alpha_{4}\\right)\\oplus L\\left( 2\\alpha_{1}+ 2\\alpha_{2}+ 2\\alpha_{3}+ 2\\alpha_{4}\\right)\\oplus L\\left( 3\\alpha_{1}+ 3\\alpha_{2}+ 2\\alpha_{3}+\\alpha_{4}\\right)\\oplus L\\left(\\alpha_{1}+ 2\\alpha_{2}+ 3\\alpha_{3}+ 3\\alpha_{4}\\right)\\oplus L\\left( 2\\alpha_{1}+ 3\\alpha_{2}+ 3\\alpha_{3}+ 2\\alpha_{4}\\right)$$"
      ],
      "text/plain": [
       "<IPython.core.display.Math object>"
      ]
     },
     "metadata": {},
     "output_type": "display_data"
    },
    {
     "data": {
      "text/latex": [
       "$$\\mathrm b^{0}(X_{24},\\wedge^{3}T_X)=2174$$"
      ],
      "text/plain": [
       "<IPython.core.display.Math object>"
      ]
     },
     "metadata": {},
     "output_type": "display_data"
    },
    {
     "data": {
      "text/latex": [
       "$$\\mathrm H^{0}(X_{24},\\wedge^{4}T_X)=L\\left( 2\\alpha_{1}+ 3\\alpha_{2}+ 2\\alpha_{3}+\\alpha_{4}\\right)\\oplus L\\left( 2\\alpha_{1}+ 2\\alpha_{2}+ 2\\alpha_{3}+ 2\\alpha_{4}\\right)\\oplus L\\left(\\alpha_{1}+ 2\\alpha_{2}+ 3\\alpha_{3}+ 2\\alpha_{4}\\right)\\oplus L\\left( 3\\alpha_{1}+ 3\\alpha_{2}+ 2\\alpha_{3}+\\alpha_{4}\\right)\\oplus L\\left( 4\\alpha_{1}+ 3\\alpha_{2}+ 2\\alpha_{3}+\\alpha_{4}\\right)\\oplus L\\left( 2\\alpha_{1}+ 3\\alpha_{2}+ 3\\alpha_{3}+ 2\\alpha_{4}\\right)^{2}\\oplus L\\left( 3\\alpha_{1}+ 3\\alpha_{2}+ 3\\alpha_{3}+ 2\\alpha_{4}\\right)\\oplus L\\left( 2\\alpha_{1}+ 4\\alpha_{2}+ 3\\alpha_{3}+ 2\\alpha_{4}\\right)\\oplus L\\left( 2\\alpha_{1}+ 3\\alpha_{2}+ 3\\alpha_{3}+ 3\\alpha_{4}\\right)\\oplus L\\left( 3\\alpha_{1}+ 4\\alpha_{2}+ 3\\alpha_{3}+ 2\\alpha_{4}\\right)\\oplus L\\left( 2\\alpha_{1}+ 4\\alpha_{2}+ 4\\alpha_{3}+ 2\\alpha_{4}\\right)\\oplus L\\left( 2\\alpha_{1}+ 3\\alpha_{2}+ 4\\alpha_{3}+ 3\\alpha_{4}\\right)$$"
      ],
      "text/plain": [
       "<IPython.core.display.Math object>"
      ]
     },
     "metadata": {},
     "output_type": "display_data"
    },
    {
     "data": {
      "text/latex": [
       "$$\\mathrm b^{0}(X_{24},\\wedge^{4}T_X)=10326$$"
      ],
      "text/plain": [
       "<IPython.core.display.Math object>"
      ]
     },
     "metadata": {},
     "output_type": "display_data"
    },
    {
     "data": {
      "text/latex": [
       "$$\\mathrm H^{0}(X_{24},\\wedge^{5}T_X)=L\\left( 2\\alpha_{1}+ 3\\alpha_{2}+ 3\\alpha_{3}+ 2\\alpha_{4}\\right)\\oplus L\\left( 3\\alpha_{1}+ 3\\alpha_{2}+ 3\\alpha_{3}+ 2\\alpha_{4}\\right)\\oplus L\\left( 2\\alpha_{1}+ 3\\alpha_{2}+ 4\\alpha_{3}+ 2\\alpha_{4}\\right)\\oplus L\\left( 3\\alpha_{1}+ 4\\alpha_{2}+ 3\\alpha_{3}+ 2\\alpha_{4}\\right)\\oplus L\\left( 2\\alpha_{1}+ 4\\alpha_{2}+ 4\\alpha_{3}+ 2\\alpha_{4}\\right)\\oplus L\\left( 3\\alpha_{1}+ 3\\alpha_{2}+ 3\\alpha_{3}+ 3\\alpha_{4}\\right)\\oplus L\\left( 2\\alpha_{1}+ 3\\alpha_{2}+ 4\\alpha_{3}+ 3\\alpha_{4}\\right)\\oplus L\\left( 4\\alpha_{1}+ 4\\alpha_{2}+ 3\\alpha_{3}+ 2\\alpha_{4}\\right)\\oplus L\\left( 3\\alpha_{1}+ 4\\alpha_{2}+ 4\\alpha_{3}+ 2\\alpha_{4}\\right)\\oplus L\\left( 2\\alpha_{1}+ 4\\alpha_{2}+ 4\\alpha_{3}+ 3\\alpha_{4}\\right)\\oplus L\\left( 3\\alpha_{1}+ 5\\alpha_{2}+ 4\\alpha_{3}+ 2\\alpha_{4}\\right)\\oplus L\\left( 3\\alpha_{1}+ 4\\alpha_{2}+ 4\\alpha_{3}+ 3\\alpha_{4}\\right)\\oplus L\\left( 2\\alpha_{1}+ 4\\alpha_{2}+ 5\\alpha_{3}+ 3\\alpha_{4}\\right)$$"
      ],
      "text/plain": [
       "<IPython.core.display.Math object>"
      ]
     },
     "metadata": {},
     "output_type": "display_data"
    },
    {
     "data": {
      "text/latex": [
       "$$\\mathrm b^{0}(X_{24},\\wedge^{5}T_X)=27675$$"
      ],
      "text/plain": [
       "<IPython.core.display.Math object>"
      ]
     },
     "metadata": {},
     "output_type": "display_data"
    },
    {
     "data": {
      "text/latex": [
       "$$\\mathrm H^{0}(X_{24},\\wedge^{6}T_X)=L\\left( 2\\alpha_{1}+ 3\\alpha_{2}+ 4\\alpha_{3}+ 2\\alpha_{4}\\right)\\oplus L\\left( 3\\alpha_{1}+ 4\\alpha_{2}+ 4\\alpha_{3}+ 2\\alpha_{4}\\right)\\oplus L\\left( 3\\alpha_{1}+ 4\\alpha_{2}+ 4\\alpha_{3}+ 3\\alpha_{4}\\right)\\oplus L\\left( 2\\alpha_{1}+ 4\\alpha_{2}+ 5\\alpha_{3}+ 3\\alpha_{4}\\right)\\oplus L\\left( 4\\alpha_{1}+ 5\\alpha_{2}+ 4\\alpha_{3}+ 2\\alpha_{4}\\right)\\oplus L\\left( 4\\alpha_{1}+ 4\\alpha_{2}+ 4\\alpha_{3}+ 3\\alpha_{4}\\right)\\oplus L\\left( 3\\alpha_{1}+ 4\\alpha_{2}+ 5\\alpha_{3}+ 3\\alpha_{4}\\right)\\oplus L\\left( 2\\alpha_{1}+ 4\\alpha_{2}+ 6\\alpha_{3}+ 3\\alpha_{4}\\right)\\oplus L\\left( 3\\alpha_{1}+ 5\\alpha_{2}+ 5\\alpha_{3}+ 3\\alpha_{4}\\right)$$"
      ],
      "text/plain": [
       "<IPython.core.display.Math object>"
      ]
     },
     "metadata": {},
     "output_type": "display_data"
    },
    {
     "data": {
      "text/latex": [
       "$$\\mathrm b^{0}(X_{24},\\wedge^{6}T_X)=41000$$"
      ],
      "text/plain": [
       "<IPython.core.display.Math object>"
      ]
     },
     "metadata": {},
     "output_type": "display_data"
    },
    {
     "data": {
      "text/latex": [
       "$$\\mathrm H^{0}(X_{24},\\wedge^{7}T_X)=L\\left( 3\\alpha_{1}+ 4\\alpha_{2}+ 5\\alpha_{3}+ 3\\alpha_{4}\\right)\\oplus L\\left( 4\\alpha_{1}+ 5\\alpha_{2}+ 5\\alpha_{3}+ 3\\alpha_{4}\\right)\\oplus L\\left( 3\\alpha_{1}+ 5\\alpha_{2}+ 6\\alpha_{3}+ 3\\alpha_{4}\\right)$$"
      ],
      "text/plain": [
       "<IPython.core.display.Math object>"
      ]
     },
     "metadata": {},
     "output_type": "display_data"
    },
    {
     "data": {
      "text/latex": [
       "$$\\mathrm b^{0}(X_{24},\\wedge^{7}T_X)=31325$$"
      ],
      "text/plain": [
       "<IPython.core.display.Math object>"
      ]
     },
     "metadata": {},
     "output_type": "display_data"
    },
    {
     "data": {
      "text/latex": [
       "$$\\mathrm H^{0}(X_{24},\\wedge^{8}T_X)=L\\left( 4\\alpha_{1}+ 5\\alpha_{2}+ 6\\alpha_{3}+ 3\\alpha_{4}\\right)$$"
      ],
      "text/plain": [
       "<IPython.core.display.Math object>"
      ]
     },
     "metadata": {},
     "output_type": "display_data"
    },
    {
     "data": {
      "text/latex": [
       "$$\\mathrm b^{0}(X_{24},\\wedge^{8}T_X)=9625$$"
      ],
      "text/plain": [
       "<IPython.core.display.Math object>"
      ]
     },
     "metadata": {},
     "output_type": "display_data"
    },
    {
     "name": "stdout",
     "output_type": "stream",
     "text": [
      "\n",
      "dim of u is 7 for root system A4 and subset (3, 4)\n"
     ]
    },
    {
     "data": {
      "application/vnd.jupyter.widget-view+json": {
       "model_id": "d04fea294e8c48819d6e6849dc527448",
       "version_major": 2,
       "version_minor": 0
      },
      "text/plain": [
       "HBox(children=(FloatProgress(value=0.0, max=8.0), HTML(value='')))"
      ]
     },
     "metadata": {},
     "output_type": "display_data"
    },
    {
     "data": {
      "application/vnd.jupyter.widget-view+json": {
       "model_id": "06416e3ff1624fb3b579c5966c429fb9",
       "version_major": 2,
       "version_minor": 0
      },
      "text/plain": [
       "HBox(children=(FloatProgress(value=1.0, bar_style='info', max=1.0), HTML(value='')))"
      ]
     },
     "metadata": {},
     "output_type": "display_data"
    },
    {
     "data": {
      "application/vnd.jupyter.widget-view+json": {
       "model_id": "49181f03affe46968b64f2c69af94e90",
       "version_major": 2,
       "version_minor": 0
      },
      "text/plain": [
       "HBox(children=(FloatProgress(value=1.0, bar_style='info', max=1.0), HTML(value='')))"
      ]
     },
     "metadata": {},
     "output_type": "display_data"
    },
    {
     "data": {
      "text/latex": [
       "$$\\mathrm H^{0}(X_{34},\\wedge^{0}T_X)=\\mathbb{C}$$"
      ],
      "text/plain": [
       "<IPython.core.display.Math object>"
      ]
     },
     "metadata": {},
     "output_type": "display_data"
    },
    {
     "data": {
      "text/latex": [
       "$$\\mathrm b^{0}(X_{34},\\wedge^{0}T_X)=1$$"
      ],
      "text/plain": [
       "<IPython.core.display.Math object>"
      ]
     },
     "metadata": {},
     "output_type": "display_data"
    },
    {
     "data": {
      "text/latex": [
       "$$\\mathrm H^{0}(X_{34},\\wedge^{1}T_X)=L\\left(\\alpha_{1}+\\alpha_{2}+\\alpha_{3}+\\alpha_{4}\\right)$$"
      ],
      "text/plain": [
       "<IPython.core.display.Math object>"
      ]
     },
     "metadata": {},
     "output_type": "display_data"
    },
    {
     "data": {
      "text/latex": [
       "$$\\mathrm b^{0}(X_{34},\\wedge^{1}T_X)=24$$"
      ],
      "text/plain": [
       "<IPython.core.display.Math object>"
      ]
     },
     "metadata": {},
     "output_type": "display_data"
    },
    {
     "data": {
      "text/latex": [
       "$$\\mathrm H^{0}(X_{34},\\wedge^{2}T_X)=L\\left(\\alpha_{1}+\\alpha_{2}+\\alpha_{3}+\\alpha_{4}\\right)\\oplus L\\left( 2\\alpha_{1}+ 2\\alpha_{2}+ 2\\alpha_{3}+\\alpha_{4}\\right)\\oplus L\\left(\\alpha_{1}+ 2\\alpha_{2}+ 2\\alpha_{3}+ 2\\alpha_{4}\\right)$$"
      ],
      "text/plain": [
       "<IPython.core.display.Math object>"
      ]
     },
     "metadata": {},
     "output_type": "display_data"
    },
    {
     "data": {
      "text/latex": [
       "$$\\mathrm b^{0}(X_{34},\\wedge^{2}T_X)=276$$"
      ],
      "text/plain": [
       "<IPython.core.display.Math object>"
      ]
     },
     "metadata": {},
     "output_type": "display_data"
    },
    {
     "data": {
      "text/latex": [
       "$$\\mathrm H^{0}(X_{34},\\wedge^{3}T_X)=L\\left(\\alpha_{1}+ 2\\alpha_{2}+ 2\\alpha_{3}+\\alpha_{4}\\right)\\oplus L\\left( 2\\alpha_{1}+ 2\\alpha_{2}+ 2\\alpha_{3}+\\alpha_{4}\\right)\\oplus L\\left( 2\\alpha_{1}+ 2\\alpha_{2}+ 2\\alpha_{3}+ 2\\alpha_{4}\\right)\\oplus L\\left( 3\\alpha_{1}+ 3\\alpha_{2}+ 2\\alpha_{3}+\\alpha_{4}\\right)\\oplus L\\left( 2\\alpha_{1}+ 3\\alpha_{2}+ 3\\alpha_{3}+ 2\\alpha_{4}\\right)$$"
      ],
      "text/plain": [
       "<IPython.core.display.Math object>"
      ]
     },
     "metadata": {},
     "output_type": "display_data"
    },
    {
     "data": {
      "text/latex": [
       "$$\\mathrm b^{0}(X_{34},\\wedge^{3}T_X)=1649$$"
      ],
      "text/plain": [
       "<IPython.core.display.Math object>"
      ]
     },
     "metadata": {},
     "output_type": "display_data"
    },
    {
     "data": {
      "text/latex": [
       "$$\\mathrm H^{0}(X_{34},\\wedge^{4}T_X)=L\\left( 2\\alpha_{1}+ 3\\alpha_{2}+ 2\\alpha_{3}+\\alpha_{4}\\right)\\oplus L\\left( 3\\alpha_{1}+ 3\\alpha_{2}+ 2\\alpha_{3}+\\alpha_{4}\\right)\\oplus L\\left( 4\\alpha_{1}+ 3\\alpha_{2}+ 2\\alpha_{3}+\\alpha_{4}\\right)\\oplus L\\left( 2\\alpha_{1}+ 3\\alpha_{2}+ 3\\alpha_{3}+ 2\\alpha_{4}\\right)\\oplus L\\left( 3\\alpha_{1}+ 3\\alpha_{2}+ 3\\alpha_{3}+ 2\\alpha_{4}\\right)\\oplus L\\left( 3\\alpha_{1}+ 4\\alpha_{2}+ 3\\alpha_{3}+ 2\\alpha_{4}\\right)\\oplus L\\left( 2\\alpha_{1}+ 4\\alpha_{2}+ 4\\alpha_{3}+ 2\\alpha_{4}\\right)$$"
      ],
      "text/plain": [
       "<IPython.core.display.Math object>"
      ]
     },
     "metadata": {},
     "output_type": "display_data"
    },
    {
     "data": {
      "text/latex": [
       "$$\\mathrm b^{0}(X_{34},\\wedge^{4}T_X)=5476$$"
      ],
      "text/plain": [
       "<IPython.core.display.Math object>"
      ]
     },
     "metadata": {},
     "output_type": "display_data"
    },
    {
     "data": {
      "text/latex": [
       "$$\\mathrm H^{0}(X_{34},\\wedge^{5}T_X)=L\\left( 2\\alpha_{1}+ 4\\alpha_{2}+ 3\\alpha_{3}+ 2\\alpha_{4}\\right)\\oplus L\\left( 3\\alpha_{1}+ 4\\alpha_{2}+ 3\\alpha_{3}+ 2\\alpha_{4}\\right)\\oplus L\\left( 4\\alpha_{1}+ 4\\alpha_{2}+ 3\\alpha_{3}+ 2\\alpha_{4}\\right)\\oplus L\\left( 3\\alpha_{1}+ 4\\alpha_{2}+ 4\\alpha_{3}+ 2\\alpha_{4}\\right)\\oplus L\\left( 3\\alpha_{1}+ 5\\alpha_{2}+ 4\\alpha_{3}+ 2\\alpha_{4}\\right)$$"
      ],
      "text/plain": [
       "<IPython.core.display.Math object>"
      ]
     },
     "metadata": {},
     "output_type": "display_data"
    },
    {
     "data": {
      "text/latex": [
       "$$\\mathrm b^{0}(X_{34},\\wedge^{5}T_X)=9875$$"
      ],
      "text/plain": [
       "<IPython.core.display.Math object>"
      ]
     },
     "metadata": {},
     "output_type": "display_data"
    },
    {
     "data": {
      "text/latex": [
       "$$\\mathrm H^{0}(X_{34},\\wedge^{6}T_X)=L\\left( 3\\alpha_{1}+ 5\\alpha_{2}+ 4\\alpha_{3}+ 2\\alpha_{4}\\right)\\oplus L\\left( 4\\alpha_{1}+ 5\\alpha_{2}+ 4\\alpha_{3}+ 2\\alpha_{4}\\right)\\oplus L\\left( 3\\alpha_{1}+ 6\\alpha_{2}+ 4\\alpha_{3}+ 2\\alpha_{4}\\right)$$"
      ],
      "text/plain": [
       "<IPython.core.display.Math object>"
      ]
     },
     "metadata": {},
     "output_type": "display_data"
    },
    {
     "data": {
      "text/latex": [
       "$$\\mathrm b^{0}(X_{34},\\wedge^{6}T_X)=8925$$"
      ],
      "text/plain": [
       "<IPython.core.display.Math object>"
      ]
     },
     "metadata": {},
     "output_type": "display_data"
    },
    {
     "data": {
      "text/latex": [
       "$$\\mathrm H^{0}(X_{34},\\wedge^{7}T_X)=L\\left( 4\\alpha_{1}+ 6\\alpha_{2}+ 4\\alpha_{3}+ 2\\alpha_{4}\\right)$$"
      ],
      "text/plain": [
       "<IPython.core.display.Math object>"
      ]
     },
     "metadata": {},
     "output_type": "display_data"
    },
    {
     "data": {
      "text/latex": [
       "$$\\mathrm b^{0}(X_{34},\\wedge^{7}T_X)=3150$$"
      ],
      "text/plain": [
       "<IPython.core.display.Math object>"
      ]
     },
     "metadata": {},
     "output_type": "display_data"
    },
    {
     "name": "stdout",
     "output_type": "stream",
     "text": [
      "\n",
      "dim of u is 4 for root system A4 and subset (1, 2, 3)\n"
     ]
    },
    {
     "data": {
      "application/vnd.jupyter.widget-view+json": {
       "model_id": "368615d1c4d6487a9df75ac3c2fe8b3b",
       "version_major": 2,
       "version_minor": 0
      },
      "text/plain": [
       "HBox(children=(FloatProgress(value=0.0, max=5.0), HTML(value='')))"
      ]
     },
     "metadata": {},
     "output_type": "display_data"
    },
    {
     "data": {
      "application/vnd.jupyter.widget-view+json": {
       "model_id": "c1508611f60f4613a55fc46b47c71b94",
       "version_major": 2,
       "version_minor": 0
      },
      "text/plain": [
       "HBox(children=(FloatProgress(value=1.0, bar_style='info', max=1.0), HTML(value='')))"
      ]
     },
     "metadata": {},
     "output_type": "display_data"
    },
    {
     "data": {
      "application/vnd.jupyter.widget-view+json": {
       "model_id": "2dba914a2b4b490393155400b0957fcc",
       "version_major": 2,
       "version_minor": 0
      },
      "text/plain": [
       "HBox(children=(FloatProgress(value=1.0, bar_style='info', max=1.0), HTML(value='')))"
      ]
     },
     "metadata": {},
     "output_type": "display_data"
    },
    {
     "data": {
      "text/latex": [
       "$$\\mathrm H^{0}(X_{123},\\wedge^{0}T_X)=\\mathbb{C}$$"
      ],
      "text/plain": [
       "<IPython.core.display.Math object>"
      ]
     },
     "metadata": {},
     "output_type": "display_data"
    },
    {
     "data": {
      "text/latex": [
       "$$\\mathrm b^{0}(X_{123},\\wedge^{0}T_X)=1$$"
      ],
      "text/plain": [
       "<IPython.core.display.Math object>"
      ]
     },
     "metadata": {},
     "output_type": "display_data"
    },
    {
     "data": {
      "text/latex": [
       "$$\\mathrm H^{0}(X_{123},\\wedge^{1}T_X)=L\\left(\\alpha_{1}+\\alpha_{2}+\\alpha_{3}+\\alpha_{4}\\right)$$"
      ],
      "text/plain": [
       "<IPython.core.display.Math object>"
      ]
     },
     "metadata": {},
     "output_type": "display_data"
    },
    {
     "data": {
      "text/latex": [
       "$$\\mathrm b^{0}(X_{123},\\wedge^{1}T_X)=24$$"
      ],
      "text/plain": [
       "<IPython.core.display.Math object>"
      ]
     },
     "metadata": {},
     "output_type": "display_data"
    },
    {
     "data": {
      "text/latex": [
       "$$\\mathrm H^{0}(X_{123},\\wedge^{2}T_X)=L\\left(\\alpha_{1}+ 2\\alpha_{2}+ 2\\alpha_{3}+ 2\\alpha_{4}\\right)$$"
      ],
      "text/plain": [
       "<IPython.core.display.Math object>"
      ]
     },
     "metadata": {},
     "output_type": "display_data"
    },
    {
     "data": {
      "text/latex": [
       "$$\\mathrm b^{0}(X_{123},\\wedge^{2}T_X)=126$$"
      ],
      "text/plain": [
       "<IPython.core.display.Math object>"
      ]
     },
     "metadata": {},
     "output_type": "display_data"
    },
    {
     "data": {
      "text/latex": [
       "$$\\mathrm H^{0}(X_{123},\\wedge^{3}T_X)=L\\left(\\alpha_{1}+ 2\\alpha_{2}+ 3\\alpha_{3}+ 3\\alpha_{4}\\right)$$"
      ],
      "text/plain": [
       "<IPython.core.display.Math object>"
      ]
     },
     "metadata": {},
     "output_type": "display_data"
    },
    {
     "data": {
      "text/latex": [
       "$$\\mathrm b^{0}(X_{123},\\wedge^{3}T_X)=224$$"
      ],
      "text/plain": [
       "<IPython.core.display.Math object>"
      ]
     },
     "metadata": {},
     "output_type": "display_data"
    },
    {
     "data": {
      "text/latex": [
       "$$\\mathrm H^{0}(X_{123},\\wedge^{4}T_X)=L\\left(\\alpha_{1}+ 2\\alpha_{2}+ 3\\alpha_{3}+ 4\\alpha_{4}\\right)$$"
      ],
      "text/plain": [
       "<IPython.core.display.Math object>"
      ]
     },
     "metadata": {},
     "output_type": "display_data"
    },
    {
     "data": {
      "text/latex": [
       "$$\\mathrm b^{0}(X_{123},\\wedge^{4}T_X)=126$$"
      ],
      "text/plain": [
       "<IPython.core.display.Math object>"
      ]
     },
     "metadata": {},
     "output_type": "display_data"
    },
    {
     "name": "stdout",
     "output_type": "stream",
     "text": [
      "\n",
      "dim of u is 6 for root system A4 and subset (1, 2, 4)\n"
     ]
    },
    {
     "data": {
      "application/vnd.jupyter.widget-view+json": {
       "model_id": "8d3655fda774436485c32253da14fb61",
       "version_major": 2,
       "version_minor": 0
      },
      "text/plain": [
       "HBox(children=(FloatProgress(value=0.0, max=7.0), HTML(value='')))"
      ]
     },
     "metadata": {},
     "output_type": "display_data"
    },
    {
     "data": {
      "application/vnd.jupyter.widget-view+json": {
       "model_id": "248a417342cd4886bfefac7d985f690d",
       "version_major": 2,
       "version_minor": 0
      },
      "text/plain": [
       "HBox(children=(FloatProgress(value=1.0, bar_style='info', max=1.0), HTML(value='')))"
      ]
     },
     "metadata": {},
     "output_type": "display_data"
    },
    {
     "data": {
      "application/vnd.jupyter.widget-view+json": {
       "model_id": "09e2962040954dee8eddddc02b294a27",
       "version_major": 2,
       "version_minor": 0
      },
      "text/plain": [
       "HBox(children=(FloatProgress(value=1.0, bar_style='info', max=1.0), HTML(value='')))"
      ]
     },
     "metadata": {},
     "output_type": "display_data"
    },
    {
     "data": {
      "text/latex": [
       "$$\\mathrm H^{0}(X_{124},\\wedge^{0}T_X)=\\mathbb{C}$$"
      ],
      "text/plain": [
       "<IPython.core.display.Math object>"
      ]
     },
     "metadata": {},
     "output_type": "display_data"
    },
    {
     "data": {
      "text/latex": [
       "$$\\mathrm b^{0}(X_{124},\\wedge^{0}T_X)=1$$"
      ],
      "text/plain": [
       "<IPython.core.display.Math object>"
      ]
     },
     "metadata": {},
     "output_type": "display_data"
    },
    {
     "data": {
      "text/latex": [
       "$$\\mathrm H^{0}(X_{124},\\wedge^{1}T_X)=L\\left(\\alpha_{1}+\\alpha_{2}+\\alpha_{3}+\\alpha_{4}\\right)$$"
      ],
      "text/plain": [
       "<IPython.core.display.Math object>"
      ]
     },
     "metadata": {},
     "output_type": "display_data"
    },
    {
     "data": {
      "text/latex": [
       "$$\\mathrm b^{0}(X_{124},\\wedge^{1}T_X)=24$$"
      ],
      "text/plain": [
       "<IPython.core.display.Math object>"
      ]
     },
     "metadata": {},
     "output_type": "display_data"
    },
    {
     "data": {
      "text/latex": [
       "$$\\mathrm H^{0}(X_{124},\\wedge^{2}T_X)=L\\left( 2\\alpha_{1}+ 2\\alpha_{2}+ 2\\alpha_{3}+\\alpha_{4}\\right)\\oplus L\\left(\\alpha_{1}+ 2\\alpha_{2}+ 2\\alpha_{3}+ 2\\alpha_{4}\\right)$$"
      ],
      "text/plain": [
       "<IPython.core.display.Math object>"
      ]
     },
     "metadata": {},
     "output_type": "display_data"
    },
    {
     "data": {
      "text/latex": [
       "$$\\mathrm b^{0}(X_{124},\\wedge^{2}T_X)=252$$"
      ],
      "text/plain": [
       "<IPython.core.display.Math object>"
      ]
     },
     "metadata": {},
     "output_type": "display_data"
    },
    {
     "data": {
      "text/latex": [
       "$$\\mathrm H^{0}(X_{124},\\wedge^{3}T_X)=L\\left(\\alpha_{1}+ 2\\alpha_{2}+ 3\\alpha_{3}+ 3\\alpha_{4}\\right)\\oplus L\\left( 2\\alpha_{1}+ 3\\alpha_{2}+ 3\\alpha_{3}+ 2\\alpha_{4}\\right)$$"
      ],
      "text/plain": [
       "<IPython.core.display.Math object>"
      ]
     },
     "metadata": {},
     "output_type": "display_data"
    },
    {
     "data": {
      "text/latex": [
       "$$\\mathrm b^{0}(X_{124},\\wedge^{3}T_X)=1248$$"
      ],
      "text/plain": [
       "<IPython.core.display.Math object>"
      ]
     },
     "metadata": {},
     "output_type": "display_data"
    },
    {
     "data": {
      "text/latex": [
       "$$\\mathrm H^{0}(X_{124},\\wedge^{4}T_X)=L\\left( 2\\alpha_{1}+ 4\\alpha_{2}+ 4\\alpha_{3}+ 2\\alpha_{4}\\right)\\oplus L\\left( 2\\alpha_{1}+ 3\\alpha_{2}+ 4\\alpha_{3}+ 3\\alpha_{4}\\right)$$"
      ],
      "text/plain": [
       "<IPython.core.display.Math object>"
      ]
     },
     "metadata": {},
     "output_type": "display_data"
    },
    {
     "data": {
      "text/latex": [
       "$$\\mathrm b^{0}(X_{124},\\wedge^{4}T_X)=2877$$"
      ],
      "text/plain": [
       "<IPython.core.display.Math object>"
      ]
     },
     "metadata": {},
     "output_type": "display_data"
    },
    {
     "data": {
      "text/latex": [
       "$$\\mathrm H^{0}(X_{124},\\wedge^{5}T_X)=L\\left( 2\\alpha_{1}+ 4\\alpha_{2}+ 5\\alpha_{3}+ 3\\alpha_{4}\\right)$$"
      ],
      "text/plain": [
       "<IPython.core.display.Math object>"
      ]
     },
     "metadata": {},
     "output_type": "display_data"
    },
    {
     "data": {
      "text/latex": [
       "$$\\mathrm b^{0}(X_{124},\\wedge^{5}T_X)=3024$$"
      ],
      "text/plain": [
       "<IPython.core.display.Math object>"
      ]
     },
     "metadata": {},
     "output_type": "display_data"
    },
    {
     "data": {
      "text/latex": [
       "$$\\mathrm H^{0}(X_{124},\\wedge^{6}T_X)=L\\left( 2\\alpha_{1}+ 4\\alpha_{2}+ 6\\alpha_{3}+ 3\\alpha_{4}\\right)$$"
      ],
      "text/plain": [
       "<IPython.core.display.Math object>"
      ]
     },
     "metadata": {},
     "output_type": "display_data"
    },
    {
     "data": {
      "text/latex": [
       "$$\\mathrm b^{0}(X_{124},\\wedge^{6}T_X)=1176$$"
      ],
      "text/plain": [
       "<IPython.core.display.Math object>"
      ]
     },
     "metadata": {},
     "output_type": "display_data"
    },
    {
     "name": "stdout",
     "output_type": "stream",
     "text": [
      "\n",
      "dim of u is 6 for root system A4 and subset (1, 3, 4)\n"
     ]
    },
    {
     "data": {
      "application/vnd.jupyter.widget-view+json": {
       "model_id": "664d19de21ce41f3823c2a60091d85b5",
       "version_major": 2,
       "version_minor": 0
      },
      "text/plain": [
       "HBox(children=(FloatProgress(value=0.0, max=7.0), HTML(value='')))"
      ]
     },
     "metadata": {},
     "output_type": "display_data"
    },
    {
     "data": {
      "application/vnd.jupyter.widget-view+json": {
       "model_id": "472eb86eec2a4714af67dae94aa0c564",
       "version_major": 2,
       "version_minor": 0
      },
      "text/plain": [
       "HBox(children=(FloatProgress(value=1.0, bar_style='info', max=1.0), HTML(value='')))"
      ]
     },
     "metadata": {},
     "output_type": "display_data"
    },
    {
     "data": {
      "application/vnd.jupyter.widget-view+json": {
       "model_id": "5a47c3bc9554494980d5d7704ff5b89e",
       "version_major": 2,
       "version_minor": 0
      },
      "text/plain": [
       "HBox(children=(FloatProgress(value=1.0, bar_style='info', max=1.0), HTML(value='')))"
      ]
     },
     "metadata": {},
     "output_type": "display_data"
    },
    {
     "data": {
      "text/latex": [
       "$$\\mathrm H^{0}(X_{134},\\wedge^{0}T_X)=\\mathbb{C}$$"
      ],
      "text/plain": [
       "<IPython.core.display.Math object>"
      ]
     },
     "metadata": {},
     "output_type": "display_data"
    },
    {
     "data": {
      "text/latex": [
       "$$\\mathrm b^{0}(X_{134},\\wedge^{0}T_X)=1$$"
      ],
      "text/plain": [
       "<IPython.core.display.Math object>"
      ]
     },
     "metadata": {},
     "output_type": "display_data"
    },
    {
     "data": {
      "text/latex": [
       "$$\\mathrm H^{0}(X_{134},\\wedge^{1}T_X)=L\\left(\\alpha_{1}+\\alpha_{2}+\\alpha_{3}+\\alpha_{4}\\right)$$"
      ],
      "text/plain": [
       "<IPython.core.display.Math object>"
      ]
     },
     "metadata": {},
     "output_type": "display_data"
    },
    {
     "data": {
      "text/latex": [
       "$$\\mathrm b^{0}(X_{134},\\wedge^{1}T_X)=24$$"
      ],
      "text/plain": [
       "<IPython.core.display.Math object>"
      ]
     },
     "metadata": {},
     "output_type": "display_data"
    },
    {
     "data": {
      "text/latex": [
       "$$\\mathrm H^{0}(X_{134},\\wedge^{2}T_X)=L\\left( 2\\alpha_{1}+ 2\\alpha_{2}+ 2\\alpha_{3}+\\alpha_{4}\\right)\\oplus L\\left(\\alpha_{1}+ 2\\alpha_{2}+ 2\\alpha_{3}+ 2\\alpha_{4}\\right)$$"
      ],
      "text/plain": [
       "<IPython.core.display.Math object>"
      ]
     },
     "metadata": {},
     "output_type": "display_data"
    },
    {
     "data": {
      "text/latex": [
       "$$\\mathrm b^{0}(X_{134},\\wedge^{2}T_X)=252$$"
      ],
      "text/plain": [
       "<IPython.core.display.Math object>"
      ]
     },
     "metadata": {},
     "output_type": "display_data"
    },
    {
     "data": {
      "text/latex": [
       "$$\\mathrm H^{0}(X_{134},\\wedge^{3}T_X)=L\\left( 3\\alpha_{1}+ 3\\alpha_{2}+ 2\\alpha_{3}+\\alpha_{4}\\right)\\oplus L\\left( 2\\alpha_{1}+ 3\\alpha_{2}+ 3\\alpha_{3}+ 2\\alpha_{4}\\right)$$"
      ],
      "text/plain": [
       "<IPython.core.display.Math object>"
      ]
     },
     "metadata": {},
     "output_type": "display_data"
    },
    {
     "data": {
      "text/latex": [
       "$$\\mathrm b^{0}(X_{134},\\wedge^{3}T_X)=1248$$"
      ],
      "text/plain": [
       "<IPython.core.display.Math object>"
      ]
     },
     "metadata": {},
     "output_type": "display_data"
    },
    {
     "name": "stdout",
     "output_type": "stream",
     "text": [
      "\n",
      "\n",
      "\n",
      "\n",
      "\n",
      "\n"
     ]
    },
    {
     "data": {
      "text/latex": [
       "$$\\mathrm H^{0}(X_{134},\\wedge^{4}T_X)=L\\left( 3\\alpha_{1}+ 4\\alpha_{2}+ 3\\alpha_{3}+ 2\\alpha_{4}\\right)\\oplus L\\left( 2\\alpha_{1}+ 4\\alpha_{2}+ 4\\alpha_{3}+ 2\\alpha_{4}\\right)$$"
      ],
      "text/plain": [
       "<IPython.core.display.Math object>"
      ]
     },
     "metadata": {},
     "output_type": "display_data"
    },
    {
     "data": {
      "text/latex": [
       "$$\\mathrm b^{0}(X_{134},\\wedge^{4}T_X)=2877$$"
      ],
      "text/plain": [
       "<IPython.core.display.Math object>"
      ]
     },
     "metadata": {},
     "output_type": "display_data"
    },
    {
     "data": {
      "text/latex": [
       "$$\\mathrm H^{0}(X_{134},\\wedge^{5}T_X)=L\\left( 3\\alpha_{1}+ 5\\alpha_{2}+ 4\\alpha_{3}+ 2\\alpha_{4}\\right)$$"
      ],
      "text/plain": [
       "<IPython.core.display.Math object>"
      ]
     },
     "metadata": {},
     "output_type": "display_data"
    },
    {
     "data": {
      "text/latex": [
       "$$\\mathrm b^{0}(X_{134},\\wedge^{5}T_X)=3024$$"
      ],
      "text/plain": [
       "<IPython.core.display.Math object>"
      ]
     },
     "metadata": {},
     "output_type": "display_data"
    },
    {
     "data": {
      "text/latex": [
       "$$\\mathrm H^{0}(X_{134},\\wedge^{6}T_X)=L\\left( 3\\alpha_{1}+ 6\\alpha_{2}+ 4\\alpha_{3}+ 2\\alpha_{4}\\right)$$"
      ],
      "text/plain": [
       "<IPython.core.display.Math object>"
      ]
     },
     "metadata": {},
     "output_type": "display_data"
    },
    {
     "data": {
      "text/latex": [
       "$$\\mathrm b^{0}(X_{134},\\wedge^{6}T_X)=1176$$"
      ],
      "text/plain": [
       "<IPython.core.display.Math object>"
      ]
     },
     "metadata": {},
     "output_type": "display_data"
    },
    {
     "name": "stdout",
     "output_type": "stream",
     "text": [
      "\n",
      "dim of u is 4 for root system A4 and subset (2, 3, 4)\n"
     ]
    },
    {
     "data": {
      "application/vnd.jupyter.widget-view+json": {
       "model_id": "822e78c1323044cca75509e7d1f2777a",
       "version_major": 2,
       "version_minor": 0
      },
      "text/plain": [
       "HBox(children=(FloatProgress(value=0.0, max=5.0), HTML(value='')))"
      ]
     },
     "metadata": {},
     "output_type": "display_data"
    },
    {
     "data": {
      "application/vnd.jupyter.widget-view+json": {
       "model_id": "978b76752bb34844ac583bc5db7dd4db",
       "version_major": 2,
       "version_minor": 0
      },
      "text/plain": [
       "HBox(children=(FloatProgress(value=1.0, bar_style='info', max=1.0), HTML(value='')))"
      ]
     },
     "metadata": {},
     "output_type": "display_data"
    },
    {
     "data": {
      "application/vnd.jupyter.widget-view+json": {
       "model_id": "f7ca487a245b495d8ccf2a06de06c086",
       "version_major": 2,
       "version_minor": 0
      },
      "text/plain": [
       "HBox(children=(FloatProgress(value=1.0, bar_style='info', max=1.0), HTML(value='')))"
      ]
     },
     "metadata": {},
     "output_type": "display_data"
    },
    {
     "data": {
      "text/latex": [
       "$$\\mathrm H^{0}(X_{234},\\wedge^{0}T_X)=\\mathbb{C}$$"
      ],
      "text/plain": [
       "<IPython.core.display.Math object>"
      ]
     },
     "metadata": {},
     "output_type": "display_data"
    },
    {
     "data": {
      "text/latex": [
       "$$\\mathrm b^{0}(X_{234},\\wedge^{0}T_X)=1$$"
      ],
      "text/plain": [
       "<IPython.core.display.Math object>"
      ]
     },
     "metadata": {},
     "output_type": "display_data"
    },
    {
     "data": {
      "text/latex": [
       "$$\\mathrm H^{0}(X_{234},\\wedge^{1}T_X)=L\\left(\\alpha_{1}+\\alpha_{2}+\\alpha_{3}+\\alpha_{4}\\right)$$"
      ],
      "text/plain": [
       "<IPython.core.display.Math object>"
      ]
     },
     "metadata": {},
     "output_type": "display_data"
    },
    {
     "data": {
      "text/latex": [
       "$$\\mathrm b^{0}(X_{234},\\wedge^{1}T_X)=24$$"
      ],
      "text/plain": [
       "<IPython.core.display.Math object>"
      ]
     },
     "metadata": {},
     "output_type": "display_data"
    },
    {
     "data": {
      "text/latex": [
       "$$\\mathrm H^{0}(X_{234},\\wedge^{2}T_X)=L\\left( 2\\alpha_{1}+ 2\\alpha_{2}+ 2\\alpha_{3}+\\alpha_{4}\\right)$$"
      ],
      "text/plain": [
       "<IPython.core.display.Math object>"
      ]
     },
     "metadata": {},
     "output_type": "display_data"
    },
    {
     "data": {
      "text/latex": [
       "$$\\mathrm b^{0}(X_{234},\\wedge^{2}T_X)=126$$"
      ],
      "text/plain": [
       "<IPython.core.display.Math object>"
      ]
     },
     "metadata": {},
     "output_type": "display_data"
    },
    {
     "data": {
      "text/latex": [
       "$$\\mathrm H^{0}(X_{234},\\wedge^{3}T_X)=L\\left( 3\\alpha_{1}+ 3\\alpha_{2}+ 2\\alpha_{3}+\\alpha_{4}\\right)$$"
      ],
      "text/plain": [
       "<IPython.core.display.Math object>"
      ]
     },
     "metadata": {},
     "output_type": "display_data"
    },
    {
     "data": {
      "text/latex": [
       "$$\\mathrm b^{0}(X_{234},\\wedge^{3}T_X)=224$$"
      ],
      "text/plain": [
       "<IPython.core.display.Math object>"
      ]
     },
     "metadata": {},
     "output_type": "display_data"
    },
    {
     "data": {
      "text/latex": [
       "$$\\mathrm H^{0}(X_{234},\\wedge^{4}T_X)=L\\left( 4\\alpha_{1}+ 3\\alpha_{2}+ 2\\alpha_{3}+\\alpha_{4}\\right)$$"
      ],
      "text/plain": [
       "<IPython.core.display.Math object>"
      ]
     },
     "metadata": {},
     "output_type": "display_data"
    },
    {
     "data": {
      "text/latex": [
       "$$\\mathrm b^{0}(X_{234},\\wedge^{4}T_X)=126$$"
      ],
      "text/plain": [
       "<IPython.core.display.Math object>"
      ]
     },
     "metadata": {},
     "output_type": "display_data"
    },
    {
     "name": "stdout",
     "output_type": "stream",
     "text": [
      "\n"
     ]
    }
   ],
   "source": [
    "from itertools import combinations, chain\n",
    "roots = [1,2,3,4]\n",
    "subsets = list(chain.from_iterable(combinations(roots,i) for i in range(len(roots))))\n",
    "d = 'A4'\n",
    "BGG = BGGComplex(d)\n",
    "for subset in subsets:\n",
    "    factory = FastModuleFactory(BGG.LA)\n",
    "    component_dic = {'u':factory.build_component('u','coad',subset=subset)}\n",
    "    u_dim = len(component_dic['u'].basis)\n",
    "    print('dim of u is %d for root system %s and subset %s' % (u_dim, d, subset))\n",
    "    pbar1 = tqdm(range(u_dim+1))\n",
    "    pbar2 = tqdm()\n",
    "    pbar3 = tqdm()\n",
    "    for k in pbar1:\n",
    "        components = [[('u',k,'wedge')]]\n",
    "        module = FastLieAlgebraCompositeModule(factory,components,component_dic)\n",
    "\n",
    "        cohom = BGGCohomology(BGG, module,pbars=[pbar2,pbar3])\n",
    "        subset_string = ''.join(str(s) for s in subset)\n",
    "        cohom.cohomology_LaTeX(complex_string=r'X_{'+subset_string+r'},\\wedge^{'+str(k)+'}T_X',print_betti=True)"
   ]
  },
  {
   "cell_type": "markdown",
   "metadata": {},
   "source": [
    "## A3 parabolic"
   ]
  },
  {
   "cell_type": "code",
   "execution_count": 7,
   "metadata": {
    "scrolled": true
   },
   "outputs": [
    {
     "name": "stdout",
     "output_type": "stream",
     "text": [
      "dim of u is 6 for root system A3 and subset ()\n"
     ]
    },
    {
     "data": {
      "text/latex": [
       "$$\\mathrm H^{0}(X_{},\\wedge^{0}T_X)=\\mathbb{C}$$"
      ],
      "text/plain": [
       "<IPython.core.display.Math object>"
      ]
     },
     "metadata": {},
     "output_type": "display_data"
    },
    {
     "data": {
      "text/latex": [
       "$$\\mathrm b^{0}(X_{},\\wedge^{0}T_X)=1$$"
      ],
      "text/plain": [
       "<IPython.core.display.Math object>"
      ]
     },
     "metadata": {},
     "output_type": "display_data"
    },
    {
     "data": {
      "text/latex": [
       "$$\\mathrm H^{0}(X_{},\\wedge^{1}T_X)=L\\left(\\alpha_{1}+\\alpha_{2}+\\alpha_{3}\\right)$$"
      ],
      "text/plain": [
       "<IPython.core.display.Math object>"
      ]
     },
     "metadata": {},
     "output_type": "display_data"
    },
    {
     "data": {
      "text/latex": [
       "$$\\mathrm b^{0}(X_{},\\wedge^{1}T_X)=15$$"
      ],
      "text/plain": [
       "<IPython.core.display.Math object>"
      ]
     },
     "metadata": {},
     "output_type": "display_data"
    },
    {
     "data": {
      "text/latex": [
       "$$\\mathrm H^{0}(X_{},\\wedge^{2}T_X)=L\\left(\\alpha_{1}+\\alpha_{2}+\\alpha_{3}\\right)\\oplus L\\left( 2\\alpha_{1}+ 2\\alpha_{2}+\\alpha_{3}\\right)\\oplus L\\left(\\alpha_{1}+ 2\\alpha_{2}+ 2\\alpha_{3}\\right)$$"
      ],
      "text/plain": [
       "<IPython.core.display.Math object>"
      ]
     },
     "metadata": {},
     "output_type": "display_data"
    },
    {
     "data": {
      "text/latex": [
       "$$\\mathrm b^{0}(X_{},\\wedge^{2}T_X)=105$$"
      ],
      "text/plain": [
       "<IPython.core.display.Math object>"
      ]
     },
     "metadata": {},
     "output_type": "display_data"
    },
    {
     "data": {
      "text/latex": [
       "$$\\mathrm H^{0}(X_{},\\wedge^{3}T_X)=L\\left(\\alpha_{1}+\\alpha_{2}+\\alpha_{3}\\right)\\oplus L\\left(\\alpha_{1}+ 2\\alpha_{2}+\\alpha_{3}\\right)^{2}\\oplus L\\left( 2\\alpha_{1}+ 2\\alpha_{2}+\\alpha_{3}\\right)\\oplus L\\left(\\alpha_{1}+ 2\\alpha_{2}+ 2\\alpha_{3}\\right)\\oplus L\\left( 3\\alpha_{1}+ 2\\alpha_{2}+\\alpha_{3}\\right)\\oplus L\\left( 2\\alpha_{1}+ 2\\alpha_{2}+ 2\\alpha_{3}\\right)\\oplus L\\left(\\alpha_{1}+ 2\\alpha_{2}+ 3\\alpha_{3}\\right)\\oplus L\\left( 2\\alpha_{1}+ 3\\alpha_{2}+ 2\\alpha_{3}\\right)$$"
      ],
      "text/plain": [
       "<IPython.core.display.Math object>"
      ]
     },
     "metadata": {},
     "output_type": "display_data"
    },
    {
     "data": {
      "text/latex": [
       "$$\\mathrm b^{0}(X_{},\\wedge^{3}T_X)=474$$"
      ],
      "text/plain": [
       "<IPython.core.display.Math object>"
      ]
     },
     "metadata": {},
     "output_type": "display_data"
    },
    {
     "data": {
      "text/latex": [
       "$$\\mathrm H^{0}(X_{},\\wedge^{4}T_X)=L\\left( 2\\alpha_{1}+ 2\\alpha_{2}+\\alpha_{3}\\right)\\oplus L\\left(\\alpha_{1}+ 2\\alpha_{2}+ 2\\alpha_{3}\\right)\\oplus L\\left( 2\\alpha_{1}+ 2\\alpha_{2}+ 2\\alpha_{3}\\right)^{2}\\oplus L\\left( 2\\alpha_{1}+ 3\\alpha_{2}+ 2\\alpha_{3}\\right)^{2}\\oplus L\\left( 3\\alpha_{1}+ 3\\alpha_{2}+ 2\\alpha_{3}\\right)\\oplus L\\left( 2\\alpha_{1}+ 4\\alpha_{2}+ 2\\alpha_{3}\\right)\\oplus L\\left( 2\\alpha_{1}+ 3\\alpha_{2}+ 3\\alpha_{3}\\right)$$"
      ],
      "text/plain": [
       "<IPython.core.display.Math object>"
      ]
     },
     "metadata": {},
     "output_type": "display_data"
    },
    {
     "data": {
      "text/latex": [
       "$$\\mathrm b^{0}(X_{},\\wedge^{4}T_X)=1225$$"
      ],
      "text/plain": [
       "<IPython.core.display.Math object>"
      ]
     },
     "metadata": {},
     "output_type": "display_data"
    },
    {
     "data": {
      "text/latex": [
       "$$\\mathrm H^{0}(X_{},\\wedge^{5}T_X)=L\\left( 2\\alpha_{1}+ 3\\alpha_{2}+ 2\\alpha_{3}\\right)\\oplus L\\left( 3\\alpha_{1}+ 3\\alpha_{2}+ 2\\alpha_{3}\\right)\\oplus L\\left( 2\\alpha_{1}+ 3\\alpha_{2}+ 3\\alpha_{3}\\right)\\oplus L\\left( 3\\alpha_{1}+ 4\\alpha_{2}+ 2\\alpha_{3}\\right)\\oplus L\\left( 3\\alpha_{1}+ 3\\alpha_{2}+ 3\\alpha_{3}\\right)\\oplus L\\left( 2\\alpha_{1}+ 4\\alpha_{2}+ 3\\alpha_{3}\\right)$$"
      ],
      "text/plain": [
       "<IPython.core.display.Math object>"
      ]
     },
     "metadata": {},
     "output_type": "display_data"
    },
    {
     "data": {
      "text/latex": [
       "$$\\mathrm b^{0}(X_{},\\wedge^{5}T_X)=1547$$"
      ],
      "text/plain": [
       "<IPython.core.display.Math object>"
      ]
     },
     "metadata": {},
     "output_type": "display_data"
    },
    {
     "data": {
      "text/latex": [
       "$$\\mathrm H^{0}(X_{},\\wedge^{6}T_X)=L\\left( 3\\alpha_{1}+ 4\\alpha_{2}+ 3\\alpha_{3}\\right)$$"
      ],
      "text/plain": [
       "<IPython.core.display.Math object>"
      ]
     },
     "metadata": {},
     "output_type": "display_data"
    },
    {
     "data": {
      "text/latex": [
       "$$\\mathrm b^{0}(X_{},\\wedge^{6}T_X)=729$$"
      ],
      "text/plain": [
       "<IPython.core.display.Math object>"
      ]
     },
     "metadata": {},
     "output_type": "display_data"
    },
    {
     "name": "stdout",
     "output_type": "stream",
     "text": [
      "dim of u is 5 for root system A3 and subset (1,)\n"
     ]
    },
    {
     "data": {
      "text/latex": [
       "$$\\mathrm H^{0}(X_{1},\\wedge^{0}T_X)=\\mathbb{C}$$"
      ],
      "text/plain": [
       "<IPython.core.display.Math object>"
      ]
     },
     "metadata": {},
     "output_type": "display_data"
    },
    {
     "data": {
      "text/latex": [
       "$$\\mathrm b^{0}(X_{1},\\wedge^{0}T_X)=1$$"
      ],
      "text/plain": [
       "<IPython.core.display.Math object>"
      ]
     },
     "metadata": {},
     "output_type": "display_data"
    },
    {
     "data": {
      "text/latex": [
       "$$\\mathrm H^{0}(X_{1},\\wedge^{1}T_X)=L\\left(\\alpha_{1}+\\alpha_{2}+\\alpha_{3}\\right)$$"
      ],
      "text/plain": [
       "<IPython.core.display.Math object>"
      ]
     },
     "metadata": {},
     "output_type": "display_data"
    },
    {
     "data": {
      "text/latex": [
       "$$\\mathrm b^{0}(X_{1},\\wedge^{1}T_X)=15$$"
      ],
      "text/plain": [
       "<IPython.core.display.Math object>"
      ]
     },
     "metadata": {},
     "output_type": "display_data"
    },
    {
     "data": {
      "text/latex": [
       "$$\\mathrm H^{0}(X_{1},\\wedge^{2}T_X)=L\\left(\\alpha_{1}+\\alpha_{2}+\\alpha_{3}\\right)\\oplus L\\left( 2\\alpha_{1}+ 2\\alpha_{2}+\\alpha_{3}\\right)\\oplus L\\left(\\alpha_{1}+ 2\\alpha_{2}+ 2\\alpha_{3}\\right)$$"
      ],
      "text/plain": [
       "<IPython.core.display.Math object>"
      ]
     },
     "metadata": {},
     "output_type": "display_data"
    },
    {
     "data": {
      "text/latex": [
       "$$\\mathrm b^{0}(X_{1},\\wedge^{2}T_X)=105$$"
      ],
      "text/plain": [
       "<IPython.core.display.Math object>"
      ]
     },
     "metadata": {},
     "output_type": "display_data"
    },
    {
     "data": {
      "text/latex": [
       "$$\\mathrm H^{0}(X_{1},\\wedge^{3}T_X)=L\\left(\\alpha_{1}+ 2\\alpha_{2}+\\alpha_{3}\\right)\\oplus L\\left(\\alpha_{1}+ 2\\alpha_{2}+ 2\\alpha_{3}\\right)\\oplus L\\left( 2\\alpha_{1}+ 2\\alpha_{2}+ 2\\alpha_{3}\\right)\\oplus L\\left(\\alpha_{1}+ 2\\alpha_{2}+ 3\\alpha_{3}\\right)\\oplus L\\left( 2\\alpha_{1}+ 3\\alpha_{2}+ 2\\alpha_{3}\\right)$$"
      ],
      "text/plain": [
       "<IPython.core.display.Math object>"
      ]
     },
     "metadata": {},
     "output_type": "display_data"
    },
    {
     "data": {
      "text/latex": [
       "$$\\mathrm b^{0}(X_{1},\\wedge^{3}T_X)=359$$"
      ],
      "text/plain": [
       "<IPython.core.display.Math object>"
      ]
     },
     "metadata": {},
     "output_type": "display_data"
    },
    {
     "data": {
      "text/latex": [
       "$$\\mathrm H^{0}(X_{1},\\wedge^{4}T_X)=L\\left( 2\\alpha_{1}+ 3\\alpha_{2}+ 2\\alpha_{3}\\right)\\oplus L\\left( 2\\alpha_{1}+ 4\\alpha_{2}+ 2\\alpha_{3}\\right)\\oplus L\\left( 2\\alpha_{1}+ 3\\alpha_{2}+ 3\\alpha_{3}\\right)$$"
      ],
      "text/plain": [
       "<IPython.core.display.Math object>"
      ]
     },
     "metadata": {},
     "output_type": "display_data"
    },
    {
     "data": {
      "text/latex": [
       "$$\\mathrm b^{0}(X_{1},\\wedge^{4}T_X)=536$$"
      ],
      "text/plain": [
       "<IPython.core.display.Math object>"
      ]
     },
     "metadata": {},
     "output_type": "display_data"
    },
    {
     "data": {
      "text/latex": [
       "$$\\mathrm H^{0}(X_{1},\\wedge^{5}T_X)=L\\left( 2\\alpha_{1}+ 4\\alpha_{2}+ 3\\alpha_{3}\\right)$$"
      ],
      "text/plain": [
       "<IPython.core.display.Math object>"
      ]
     },
     "metadata": {},
     "output_type": "display_data"
    },
    {
     "data": {
      "text/latex": [
       "$$\\mathrm b^{0}(X_{1},\\wedge^{5}T_X)=280$$"
      ],
      "text/plain": [
       "<IPython.core.display.Math object>"
      ]
     },
     "metadata": {},
     "output_type": "display_data"
    },
    {
     "name": "stdout",
     "output_type": "stream",
     "text": [
      "dim of u is 5 for root system A3 and subset (2,)\n"
     ]
    },
    {
     "data": {
      "text/latex": [
       "$$\\mathrm H^{0}(X_{2},\\wedge^{0}T_X)=\\mathbb{C}$$"
      ],
      "text/plain": [
       "<IPython.core.display.Math object>"
      ]
     },
     "metadata": {},
     "output_type": "display_data"
    },
    {
     "data": {
      "text/latex": [
       "$$\\mathrm b^{0}(X_{2},\\wedge^{0}T_X)=1$$"
      ],
      "text/plain": [
       "<IPython.core.display.Math object>"
      ]
     },
     "metadata": {},
     "output_type": "display_data"
    },
    {
     "data": {
      "text/latex": [
       "$$\\mathrm H^{0}(X_{2},\\wedge^{1}T_X)=L\\left(\\alpha_{1}+\\alpha_{2}+\\alpha_{3}\\right)$$"
      ],
      "text/plain": [
       "<IPython.core.display.Math object>"
      ]
     },
     "metadata": {},
     "output_type": "display_data"
    },
    {
     "data": {
      "text/latex": [
       "$$\\mathrm b^{0}(X_{2},\\wedge^{1}T_X)=15$$"
      ],
      "text/plain": [
       "<IPython.core.display.Math object>"
      ]
     },
     "metadata": {},
     "output_type": "display_data"
    },
    {
     "data": {
      "text/latex": [
       "$$\\mathrm H^{0}(X_{2},\\wedge^{2}T_X)=L\\left(\\alpha_{1}+\\alpha_{2}+\\alpha_{3}\\right)\\oplus L\\left(\\alpha_{1}+ 2\\alpha_{2}+\\alpha_{3}\\right)\\oplus L\\left( 2\\alpha_{1}+ 2\\alpha_{2}+\\alpha_{3}\\right)\\oplus L\\left(\\alpha_{1}+ 2\\alpha_{2}+ 2\\alpha_{3}\\right)$$"
      ],
      "text/plain": [
       "<IPython.core.display.Math object>"
      ]
     },
     "metadata": {},
     "output_type": "display_data"
    },
    {
     "data": {
      "text/latex": [
       "$$\\mathrm b^{0}(X_{2},\\wedge^{2}T_X)=125$$"
      ],
      "text/plain": [
       "<IPython.core.display.Math object>"
      ]
     },
     "metadata": {},
     "output_type": "display_data"
    },
    {
     "data": {
      "text/latex": [
       "$$\\mathrm H^{0}(X_{2},\\wedge^{3}T_X)=L\\left( 2\\alpha_{1}+ 2\\alpha_{2}+\\alpha_{3}\\right)\\oplus L\\left(\\alpha_{1}+ 2\\alpha_{2}+ 2\\alpha_{3}\\right)\\oplus L\\left( 3\\alpha_{1}+ 2\\alpha_{2}+\\alpha_{3}\\right)\\oplus L\\left( 2\\alpha_{1}+ 2\\alpha_{2}+ 2\\alpha_{3}\\right)\\oplus L\\left(\\alpha_{1}+ 2\\alpha_{2}+ 3\\alpha_{3}\\right)\\oplus L\\left( 2\\alpha_{1}+ 3\\alpha_{2}+ 2\\alpha_{3}\\right)$$"
      ],
      "text/plain": [
       "<IPython.core.display.Math object>"
      ]
     },
     "metadata": {},
     "output_type": "display_data"
    },
    {
     "data": {
      "text/latex": [
       "$$\\mathrm b^{0}(X_{2},\\wedge^{3}T_X)=419$$"
      ],
      "text/plain": [
       "<IPython.core.display.Math object>"
      ]
     },
     "metadata": {},
     "output_type": "display_data"
    },
    {
     "data": {
      "text/latex": [
       "$$\\mathrm H^{0}(X_{2},\\wedge^{4}T_X)=L\\left( 2\\alpha_{1}+ 2\\alpha_{2}+ 2\\alpha_{3}\\right)\\oplus L\\left( 3\\alpha_{1}+ 3\\alpha_{2}+ 2\\alpha_{3}\\right)\\oplus L\\left( 2\\alpha_{1}+ 3\\alpha_{2}+ 3\\alpha_{3}\\right)$$"
      ],
      "text/plain": [
       "<IPython.core.display.Math object>"
      ]
     },
     "metadata": {},
     "output_type": "display_data"
    },
    {
     "data": {
      "text/latex": [
       "$$\\mathrm b^{0}(X_{2},\\wedge^{4}T_X)=596$$"
      ],
      "text/plain": [
       "<IPython.core.display.Math object>"
      ]
     },
     "metadata": {},
     "output_type": "display_data"
    },
    {
     "data": {
      "text/latex": [
       "$$\\mathrm H^{0}(X_{2},\\wedge^{5}T_X)=L\\left( 3\\alpha_{1}+ 3\\alpha_{2}+ 3\\alpha_{3}\\right)$$"
      ],
      "text/plain": [
       "<IPython.core.display.Math object>"
      ]
     },
     "metadata": {},
     "output_type": "display_data"
    },
    {
     "data": {
      "text/latex": [
       "$$\\mathrm b^{0}(X_{2},\\wedge^{5}T_X)=300$$"
      ],
      "text/plain": [
       "<IPython.core.display.Math object>"
      ]
     },
     "metadata": {},
     "output_type": "display_data"
    },
    {
     "name": "stdout",
     "output_type": "stream",
     "text": [
      "dim of u is 5 for root system A3 and subset (3,)\n"
     ]
    },
    {
     "data": {
      "text/latex": [
       "$$\\mathrm H^{0}(X_{3},\\wedge^{0}T_X)=\\mathbb{C}$$"
      ],
      "text/plain": [
       "<IPython.core.display.Math object>"
      ]
     },
     "metadata": {},
     "output_type": "display_data"
    },
    {
     "data": {
      "text/latex": [
       "$$\\mathrm b^{0}(X_{3},\\wedge^{0}T_X)=1$$"
      ],
      "text/plain": [
       "<IPython.core.display.Math object>"
      ]
     },
     "metadata": {},
     "output_type": "display_data"
    },
    {
     "data": {
      "text/latex": [
       "$$\\mathrm H^{0}(X_{3},\\wedge^{1}T_X)=L\\left(\\alpha_{1}+\\alpha_{2}+\\alpha_{3}\\right)$$"
      ],
      "text/plain": [
       "<IPython.core.display.Math object>"
      ]
     },
     "metadata": {},
     "output_type": "display_data"
    },
    {
     "data": {
      "text/latex": [
       "$$\\mathrm b^{0}(X_{3},\\wedge^{1}T_X)=15$$"
      ],
      "text/plain": [
       "<IPython.core.display.Math object>"
      ]
     },
     "metadata": {},
     "output_type": "display_data"
    },
    {
     "data": {
      "text/latex": [
       "$$\\mathrm H^{0}(X_{3},\\wedge^{2}T_X)=L\\left(\\alpha_{1}+\\alpha_{2}+\\alpha_{3}\\right)\\oplus L\\left( 2\\alpha_{1}+ 2\\alpha_{2}+\\alpha_{3}\\right)\\oplus L\\left(\\alpha_{1}+ 2\\alpha_{2}+ 2\\alpha_{3}\\right)$$"
      ],
      "text/plain": [
       "<IPython.core.display.Math object>"
      ]
     },
     "metadata": {},
     "output_type": "display_data"
    },
    {
     "data": {
      "text/latex": [
       "$$\\mathrm b^{0}(X_{3},\\wedge^{2}T_X)=105$$"
      ],
      "text/plain": [
       "<IPython.core.display.Math object>"
      ]
     },
     "metadata": {},
     "output_type": "display_data"
    },
    {
     "data": {
      "text/latex": [
       "$$\\mathrm H^{0}(X_{3},\\wedge^{3}T_X)=L\\left(\\alpha_{1}+ 2\\alpha_{2}+\\alpha_{3}\\right)\\oplus L\\left( 2\\alpha_{1}+ 2\\alpha_{2}+\\alpha_{3}\\right)\\oplus L\\left( 3\\alpha_{1}+ 2\\alpha_{2}+\\alpha_{3}\\right)\\oplus L\\left( 2\\alpha_{1}+ 2\\alpha_{2}+ 2\\alpha_{3}\\right)\\oplus L\\left( 2\\alpha_{1}+ 3\\alpha_{2}+ 2\\alpha_{3}\\right)$$"
      ],
      "text/plain": [
       "<IPython.core.display.Math object>"
      ]
     },
     "metadata": {},
     "output_type": "display_data"
    },
    {
     "data": {
      "text/latex": [
       "$$\\mathrm b^{0}(X_{3},\\wedge^{3}T_X)=359$$"
      ],
      "text/plain": [
       "<IPython.core.display.Math object>"
      ]
     },
     "metadata": {},
     "output_type": "display_data"
    },
    {
     "data": {
      "text/latex": [
       "$$\\mathrm H^{0}(X_{3},\\wedge^{4}T_X)=L\\left( 2\\alpha_{1}+ 3\\alpha_{2}+ 2\\alpha_{3}\\right)\\oplus L\\left( 3\\alpha_{1}+ 3\\alpha_{2}+ 2\\alpha_{3}\\right)\\oplus L\\left( 2\\alpha_{1}+ 4\\alpha_{2}+ 2\\alpha_{3}\\right)$$"
      ],
      "text/plain": [
       "<IPython.core.display.Math object>"
      ]
     },
     "metadata": {},
     "output_type": "display_data"
    },
    {
     "data": {
      "text/latex": [
       "$$\\mathrm b^{0}(X_{3},\\wedge^{4}T_X)=536$$"
      ],
      "text/plain": [
       "<IPython.core.display.Math object>"
      ]
     },
     "metadata": {},
     "output_type": "display_data"
    },
    {
     "data": {
      "text/latex": [
       "$$\\mathrm H^{0}(X_{3},\\wedge^{5}T_X)=L\\left( 3\\alpha_{1}+ 4\\alpha_{2}+ 2\\alpha_{3}\\right)$$"
      ],
      "text/plain": [
       "<IPython.core.display.Math object>"
      ]
     },
     "metadata": {},
     "output_type": "display_data"
    },
    {
     "data": {
      "text/latex": [
       "$$\\mathrm b^{0}(X_{3},\\wedge^{5}T_X)=280$$"
      ],
      "text/plain": [
       "<IPython.core.display.Math object>"
      ]
     },
     "metadata": {},
     "output_type": "display_data"
    },
    {
     "name": "stdout",
     "output_type": "stream",
     "text": [
      "dim of u is 3 for root system A3 and subset (1, 2)\n"
     ]
    },
    {
     "data": {
      "text/latex": [
       "$$\\mathrm H^{0}(X_{12},\\wedge^{0}T_X)=\\mathbb{C}$$"
      ],
      "text/plain": [
       "<IPython.core.display.Math object>"
      ]
     },
     "metadata": {},
     "output_type": "display_data"
    },
    {
     "data": {
      "text/latex": [
       "$$\\mathrm b^{0}(X_{12},\\wedge^{0}T_X)=1$$"
      ],
      "text/plain": [
       "<IPython.core.display.Math object>"
      ]
     },
     "metadata": {},
     "output_type": "display_data"
    },
    {
     "data": {
      "text/latex": [
       "$$\\mathrm H^{0}(X_{12},\\wedge^{1}T_X)=L\\left(\\alpha_{1}+\\alpha_{2}+\\alpha_{3}\\right)$$"
      ],
      "text/plain": [
       "<IPython.core.display.Math object>"
      ]
     },
     "metadata": {},
     "output_type": "display_data"
    },
    {
     "data": {
      "text/latex": [
       "$$\\mathrm b^{0}(X_{12},\\wedge^{1}T_X)=15$$"
      ],
      "text/plain": [
       "<IPython.core.display.Math object>"
      ]
     },
     "metadata": {},
     "output_type": "display_data"
    },
    {
     "data": {
      "text/latex": [
       "$$\\mathrm H^{0}(X_{12},\\wedge^{2}T_X)=L\\left(\\alpha_{1}+ 2\\alpha_{2}+ 2\\alpha_{3}\\right)$$"
      ],
      "text/plain": [
       "<IPython.core.display.Math object>"
      ]
     },
     "metadata": {},
     "output_type": "display_data"
    },
    {
     "data": {
      "text/latex": [
       "$$\\mathrm b^{0}(X_{12},\\wedge^{2}T_X)=45$$"
      ],
      "text/plain": [
       "<IPython.core.display.Math object>"
      ]
     },
     "metadata": {},
     "output_type": "display_data"
    },
    {
     "data": {
      "text/latex": [
       "$$\\mathrm H^{0}(X_{12},\\wedge^{3}T_X)=L\\left(\\alpha_{1}+ 2\\alpha_{2}+ 3\\alpha_{3}\\right)$$"
      ],
      "text/plain": [
       "<IPython.core.display.Math object>"
      ]
     },
     "metadata": {},
     "output_type": "display_data"
    },
    {
     "data": {
      "text/latex": [
       "$$\\mathrm b^{0}(X_{12},\\wedge^{3}T_X)=35$$"
      ],
      "text/plain": [
       "<IPython.core.display.Math object>"
      ]
     },
     "metadata": {},
     "output_type": "display_data"
    },
    {
     "name": "stdout",
     "output_type": "stream",
     "text": [
      "dim of u is 4 for root system A3 and subset (1, 3)\n"
     ]
    },
    {
     "data": {
      "text/latex": [
       "$$\\mathrm H^{0}(X_{13},\\wedge^{0}T_X)=\\mathbb{C}$$"
      ],
      "text/plain": [
       "<IPython.core.display.Math object>"
      ]
     },
     "metadata": {},
     "output_type": "display_data"
    },
    {
     "data": {
      "text/latex": [
       "$$\\mathrm b^{0}(X_{13},\\wedge^{0}T_X)=1$$"
      ],
      "text/plain": [
       "<IPython.core.display.Math object>"
      ]
     },
     "metadata": {},
     "output_type": "display_data"
    },
    {
     "data": {
      "text/latex": [
       "$$\\mathrm H^{0}(X_{13},\\wedge^{1}T_X)=L\\left(\\alpha_{1}+\\alpha_{2}+\\alpha_{3}\\right)$$"
      ],
      "text/plain": [
       "<IPython.core.display.Math object>"
      ]
     },
     "metadata": {},
     "output_type": "display_data"
    },
    {
     "data": {
      "text/latex": [
       "$$\\mathrm b^{0}(X_{13},\\wedge^{1}T_X)=15$$"
      ],
      "text/plain": [
       "<IPython.core.display.Math object>"
      ]
     },
     "metadata": {},
     "output_type": "display_data"
    },
    {
     "data": {
      "text/latex": [
       "$$\\mathrm H^{0}(X_{13},\\wedge^{2}T_X)=L\\left( 2\\alpha_{1}+ 2\\alpha_{2}+\\alpha_{3}\\right)\\oplus L\\left(\\alpha_{1}+ 2\\alpha_{2}+ 2\\alpha_{3}\\right)$$"
      ],
      "text/plain": [
       "<IPython.core.display.Math object>"
      ]
     },
     "metadata": {},
     "output_type": "display_data"
    },
    {
     "data": {
      "text/latex": [
       "$$\\mathrm b^{0}(X_{13},\\wedge^{2}T_X)=90$$"
      ],
      "text/plain": [
       "<IPython.core.display.Math object>"
      ]
     },
     "metadata": {},
     "output_type": "display_data"
    },
    {
     "data": {
      "text/latex": [
       "$$\\mathrm H^{0}(X_{13},\\wedge^{3}T_X)=L\\left( 2\\alpha_{1}+ 3\\alpha_{2}+ 2\\alpha_{3}\\right)$$"
      ],
      "text/plain": [
       "<IPython.core.display.Math object>"
      ]
     },
     "metadata": {},
     "output_type": "display_data"
    },
    {
     "data": {
      "text/latex": [
       "$$\\mathrm b^{0}(X_{13},\\wedge^{3}T_X)=175$$"
      ],
      "text/plain": [
       "<IPython.core.display.Math object>"
      ]
     },
     "metadata": {},
     "output_type": "display_data"
    },
    {
     "data": {
      "text/latex": [
       "$$\\mathrm H^{0}(X_{13},\\wedge^{4}T_X)=L\\left( 2\\alpha_{1}+ 4\\alpha_{2}+ 2\\alpha_{3}\\right)$$"
      ],
      "text/plain": [
       "<IPython.core.display.Math object>"
      ]
     },
     "metadata": {},
     "output_type": "display_data"
    },
    {
     "data": {
      "text/latex": [
       "$$\\mathrm b^{0}(X_{13},\\wedge^{4}T_X)=105$$"
      ],
      "text/plain": [
       "<IPython.core.display.Math object>"
      ]
     },
     "metadata": {},
     "output_type": "display_data"
    },
    {
     "name": "stdout",
     "output_type": "stream",
     "text": [
      "dim of u is 3 for root system A3 and subset (2, 3)\n"
     ]
    },
    {
     "data": {
      "text/latex": [
       "$$\\mathrm H^{0}(X_{23},\\wedge^{0}T_X)=\\mathbb{C}$$"
      ],
      "text/plain": [
       "<IPython.core.display.Math object>"
      ]
     },
     "metadata": {},
     "output_type": "display_data"
    },
    {
     "data": {
      "text/latex": [
       "$$\\mathrm b^{0}(X_{23},\\wedge^{0}T_X)=1$$"
      ],
      "text/plain": [
       "<IPython.core.display.Math object>"
      ]
     },
     "metadata": {},
     "output_type": "display_data"
    },
    {
     "data": {
      "text/latex": [
       "$$\\mathrm H^{0}(X_{23},\\wedge^{1}T_X)=L\\left(\\alpha_{1}+\\alpha_{2}+\\alpha_{3}\\right)$$"
      ],
      "text/plain": [
       "<IPython.core.display.Math object>"
      ]
     },
     "metadata": {},
     "output_type": "display_data"
    },
    {
     "data": {
      "text/latex": [
       "$$\\mathrm b^{0}(X_{23},\\wedge^{1}T_X)=15$$"
      ],
      "text/plain": [
       "<IPython.core.display.Math object>"
      ]
     },
     "metadata": {},
     "output_type": "display_data"
    },
    {
     "data": {
      "text/latex": [
       "$$\\mathrm H^{0}(X_{23},\\wedge^{2}T_X)=L\\left( 2\\alpha_{1}+ 2\\alpha_{2}+\\alpha_{3}\\right)$$"
      ],
      "text/plain": [
       "<IPython.core.display.Math object>"
      ]
     },
     "metadata": {},
     "output_type": "display_data"
    },
    {
     "data": {
      "text/latex": [
       "$$\\mathrm b^{0}(X_{23},\\wedge^{2}T_X)=45$$"
      ],
      "text/plain": [
       "<IPython.core.display.Math object>"
      ]
     },
     "metadata": {},
     "output_type": "display_data"
    },
    {
     "data": {
      "text/latex": [
       "$$\\mathrm H^{0}(X_{23},\\wedge^{3}T_X)=L\\left( 3\\alpha_{1}+ 2\\alpha_{2}+\\alpha_{3}\\right)$$"
      ],
      "text/plain": [
       "<IPython.core.display.Math object>"
      ]
     },
     "metadata": {},
     "output_type": "display_data"
    },
    {
     "data": {
      "text/latex": [
       "$$\\mathrm b^{0}(X_{23},\\wedge^{3}T_X)=35$$"
      ],
      "text/plain": [
       "<IPython.core.display.Math object>"
      ]
     },
     "metadata": {},
     "output_type": "display_data"
    }
   ],
   "source": [
    "from itertools import combinations, chain\n",
    "roots = [1,2,3]\n",
    "subsets = list(chain.from_iterable(combinations(roots,i) for i in range(len(roots))))\n",
    "d = 'A3'\n",
    "BGG = BGGComplex(d)\n",
    "for subset in subsets:\n",
    "    factory = FastModuleFactory(BGG.LA)\n",
    "    component_dic = {'u':factory.build_component('u','coad',subset=subset)}\n",
    "    u_dim = len(component_dic['u'].basis)\n",
    "    print('dim of u is %d for root system %s and subset %s' % (u_dim, d, subset))\n",
    "    for k in range(u_dim+1):\n",
    "        components = [[('u',k,'wedge')]]\n",
    "        module = FastLieAlgebraCompositeModule(factory,components,component_dic)\n",
    "\n",
    "        cohom = BGGCohomology(BGG, module,pbars=[pbar2,pbar3])\n",
    "        subset_string = ''.join(str(s) for s in subset)\n",
    "        cohom.cohomology_LaTeX(complex_string=r'X_{'+subset_string+r'},\\wedge^{'+str(k)+'}T_X',print_betti=True)"
   ]
  },
  {
   "cell_type": "markdown",
   "metadata": {},
   "source": [
    "## B2 parabolic"
   ]
  },
  {
   "cell_type": "code",
   "execution_count": 8,
   "metadata": {},
   "outputs": [
    {
     "name": "stdout",
     "output_type": "stream",
     "text": [
      "dim of u is 4 for root system B2 and subset ()\n"
     ]
    },
    {
     "data": {
      "application/vnd.jupyter.widget-view+json": {
       "model_id": "74cc4d337feb4a81b0759cacb41d4485",
       "version_major": 2,
       "version_minor": 0
      },
      "text/plain": [
       "HBox(children=(FloatProgress(value=0.0, max=5.0), HTML(value='')))"
      ]
     },
     "metadata": {},
     "output_type": "display_data"
    },
    {
     "data": {
      "application/vnd.jupyter.widget-view+json": {
       "model_id": "4e3a4c9a5db44cc497ed9171d974ccd3",
       "version_major": 2,
       "version_minor": 0
      },
      "text/plain": [
       "HBox(children=(FloatProgress(value=1.0, bar_style='info', max=1.0), HTML(value='')))"
      ]
     },
     "metadata": {},
     "output_type": "display_data"
    },
    {
     "data": {
      "application/vnd.jupyter.widget-view+json": {
       "model_id": "4e10c7b6336a4143b402bf7bd1c40cd6",
       "version_major": 2,
       "version_minor": 0
      },
      "text/plain": [
       "HBox(children=(FloatProgress(value=1.0, bar_style='info', max=1.0), HTML(value='')))"
      ]
     },
     "metadata": {},
     "output_type": "display_data"
    },
    {
     "data": {
      "text/latex": [
       "$$\\mathrm H^{0}(X_{},\\wedge^{0}T_X)=\\mathbb{C}$$"
      ],
      "text/plain": [
       "<IPython.core.display.Math object>"
      ]
     },
     "metadata": {},
     "output_type": "display_data"
    },
    {
     "data": {
      "text/latex": [
       "$$\\mathrm b^{0}(X_{},\\wedge^{0}T_X)=1$$"
      ],
      "text/plain": [
       "<IPython.core.display.Math object>"
      ]
     },
     "metadata": {},
     "output_type": "display_data"
    },
    {
     "data": {
      "text/latex": [
       "$$\\mathrm H^{0}(X_{},\\wedge^{1}T_X)=L\\left(\\alpha_{1}+ 2\\alpha_{2}\\right)$$"
      ],
      "text/plain": [
       "<IPython.core.display.Math object>"
      ]
     },
     "metadata": {},
     "output_type": "display_data"
    },
    {
     "data": {
      "text/latex": [
       "$$\\mathrm b^{0}(X_{},\\wedge^{1}T_X)=10$$"
      ],
      "text/plain": [
       "<IPython.core.display.Math object>"
      ]
     },
     "metadata": {},
     "output_type": "display_data"
    },
    {
     "data": {
      "text/latex": [
       "$$\\mathrm H^{0}(X_{},\\wedge^{2}T_X)=L\\left(\\alpha_{1}+\\alpha_{2}\\right)\\oplus L\\left(\\alpha_{1}+ 2\\alpha_{2}\\right)\\oplus L\\left( 2\\alpha_{1}+ 3\\alpha_{2}\\right)$$"
      ],
      "text/plain": [
       "<IPython.core.display.Math object>"
      ]
     },
     "metadata": {},
     "output_type": "display_data"
    },
    {
     "data": {
      "text/latex": [
       "$$\\mathrm b^{0}(X_{},\\wedge^{2}T_X)=50$$"
      ],
      "text/plain": [
       "<IPython.core.display.Math object>"
      ]
     },
     "metadata": {},
     "output_type": "display_data"
    },
    {
     "data": {
      "text/latex": [
       "$$\\mathrm H^{0}(X_{},\\wedge^{3}T_X)=L\\left( 2\\alpha_{1}+ 2\\alpha_{2}\\right)\\oplus L\\left( 2\\alpha_{1}+ 3\\alpha_{2}\\right)\\oplus L\\left( 3\\alpha_{1}+ 3\\alpha_{2}\\right)\\oplus L\\left( 2\\alpha_{1}+ 4\\alpha_{2}\\right)$$"
      ],
      "text/plain": [
       "<IPython.core.display.Math object>"
      ]
     },
     "metadata": {},
     "output_type": "display_data"
    },
    {
     "data": {
      "text/latex": [
       "$$\\mathrm b^{0}(X_{},\\wedge^{3}T_X)=114$$"
      ],
      "text/plain": [
       "<IPython.core.display.Math object>"
      ]
     },
     "metadata": {},
     "output_type": "display_data"
    },
    {
     "data": {
      "text/latex": [
       "$$\\mathrm H^{0}(X_{},\\wedge^{4}T_X)=L\\left( 3\\alpha_{1}+ 4\\alpha_{2}\\right)$$"
      ],
      "text/plain": [
       "<IPython.core.display.Math object>"
      ]
     },
     "metadata": {},
     "output_type": "display_data"
    },
    {
     "data": {
      "text/latex": [
       "$$\\mathrm b^{0}(X_{},\\wedge^{4}T_X)=81$$"
      ],
      "text/plain": [
       "<IPython.core.display.Math object>"
      ]
     },
     "metadata": {},
     "output_type": "display_data"
    },
    {
     "name": "stdout",
     "output_type": "stream",
     "text": [
      "\n",
      "dim of u is 3 for root system B2 and subset (1,)\n"
     ]
    },
    {
     "data": {
      "application/vnd.jupyter.widget-view+json": {
       "model_id": "5c8c87a658a741129ded9b0abfce6f3d",
       "version_major": 2,
       "version_minor": 0
      },
      "text/plain": [
       "HBox(children=(FloatProgress(value=0.0, max=4.0), HTML(value='')))"
      ]
     },
     "metadata": {},
     "output_type": "display_data"
    },
    {
     "data": {
      "application/vnd.jupyter.widget-view+json": {
       "model_id": "f9ce6fcb55a54891829afab4ed963485",
       "version_major": 2,
       "version_minor": 0
      },
      "text/plain": [
       "HBox(children=(FloatProgress(value=1.0, bar_style='info', max=1.0), HTML(value='')))"
      ]
     },
     "metadata": {},
     "output_type": "display_data"
    },
    {
     "data": {
      "application/vnd.jupyter.widget-view+json": {
       "model_id": "ef9bb7cb8d584199a4f764a05c2881a4",
       "version_major": 2,
       "version_minor": 0
      },
      "text/plain": [
       "HBox(children=(FloatProgress(value=1.0, bar_style='info', max=1.0), HTML(value='')))"
      ]
     },
     "metadata": {},
     "output_type": "display_data"
    },
    {
     "data": {
      "text/latex": [
       "$$\\mathrm H^{0}(X_{1},\\wedge^{0}T_X)=\\mathbb{C}$$"
      ],
      "text/plain": [
       "<IPython.core.display.Math object>"
      ]
     },
     "metadata": {},
     "output_type": "display_data"
    },
    {
     "data": {
      "text/latex": [
       "$$\\mathrm b^{0}(X_{1},\\wedge^{0}T_X)=1$$"
      ],
      "text/plain": [
       "<IPython.core.display.Math object>"
      ]
     },
     "metadata": {},
     "output_type": "display_data"
    },
    {
     "data": {
      "text/latex": [
       "$$\\mathrm H^{0}(X_{1},\\wedge^{1}T_X)=L\\left(\\alpha_{1}+\\alpha_{2}\\right)\\oplus L\\left(\\alpha_{1}+ 2\\alpha_{2}\\right)$$"
      ],
      "text/plain": [
       "<IPython.core.display.Math object>"
      ]
     },
     "metadata": {},
     "output_type": "display_data"
    },
    {
     "data": {
      "text/latex": [
       "$$\\mathrm b^{0}(X_{1},\\wedge^{1}T_X)=15$$"
      ],
      "text/plain": [
       "<IPython.core.display.Math object>"
      ]
     },
     "metadata": {},
     "output_type": "display_data"
    },
    {
     "data": {
      "text/latex": [
       "$$\\mathrm H^{0}(X_{1},\\wedge^{2}T_X)=L\\left(\\alpha_{1}+ 2\\alpha_{2}\\right)\\oplus L\\left( 2\\alpha_{1}+ 3\\alpha_{2}\\right)$$"
      ],
      "text/plain": [
       "<IPython.core.display.Math object>"
      ]
     },
     "metadata": {},
     "output_type": "display_data"
    },
    {
     "data": {
      "text/latex": [
       "$$\\mathrm b^{0}(X_{1},\\wedge^{2}T_X)=45$$"
      ],
      "text/plain": [
       "<IPython.core.display.Math object>"
      ]
     },
     "metadata": {},
     "output_type": "display_data"
    },
    {
     "data": {
      "text/latex": [
       "$$\\mathrm H^{0}(X_{1},\\wedge^{3}T_X)=L\\left( 2\\alpha_{1}+ 4\\alpha_{2}\\right)$$"
      ],
      "text/plain": [
       "<IPython.core.display.Math object>"
      ]
     },
     "metadata": {},
     "output_type": "display_data"
    },
    {
     "data": {
      "text/latex": [
       "$$\\mathrm b^{0}(X_{1},\\wedge^{3}T_X)=35$$"
      ],
      "text/plain": [
       "<IPython.core.display.Math object>"
      ]
     },
     "metadata": {},
     "output_type": "display_data"
    },
    {
     "name": "stdout",
     "output_type": "stream",
     "text": [
      "\n",
      "dim of u is 3 for root system B2 and subset (2,)\n"
     ]
    },
    {
     "data": {
      "application/vnd.jupyter.widget-view+json": {
       "model_id": "d6ed2ee298014eb2ba71550c168b40c0",
       "version_major": 2,
       "version_minor": 0
      },
      "text/plain": [
       "HBox(children=(FloatProgress(value=0.0, max=4.0), HTML(value='')))"
      ]
     },
     "metadata": {},
     "output_type": "display_data"
    },
    {
     "data": {
      "application/vnd.jupyter.widget-view+json": {
       "model_id": "85403471c1c843b78d17bbddbc792055",
       "version_major": 2,
       "version_minor": 0
      },
      "text/plain": [
       "HBox(children=(FloatProgress(value=1.0, bar_style='info', max=1.0), HTML(value='')))"
      ]
     },
     "metadata": {},
     "output_type": "display_data"
    },
    {
     "data": {
      "application/vnd.jupyter.widget-view+json": {
       "model_id": "059d3b2f970c4c4599a2f87bf655e176",
       "version_major": 2,
       "version_minor": 0
      },
      "text/plain": [
       "HBox(children=(FloatProgress(value=1.0, bar_style='info', max=1.0), HTML(value='')))"
      ]
     },
     "metadata": {},
     "output_type": "display_data"
    },
    {
     "data": {
      "text/latex": [
       "$$\\mathrm H^{0}(X_{2},\\wedge^{0}T_X)=\\mathbb{C}$$"
      ],
      "text/plain": [
       "<IPython.core.display.Math object>"
      ]
     },
     "metadata": {},
     "output_type": "display_data"
    },
    {
     "data": {
      "text/latex": [
       "$$\\mathrm b^{0}(X_{2},\\wedge^{0}T_X)=1$$"
      ],
      "text/plain": [
       "<IPython.core.display.Math object>"
      ]
     },
     "metadata": {},
     "output_type": "display_data"
    },
    {
     "data": {
      "text/latex": [
       "$$\\mathrm H^{0}(X_{2},\\wedge^{1}T_X)=L\\left(\\alpha_{1}+ 2\\alpha_{2}\\right)$$"
      ],
      "text/plain": [
       "<IPython.core.display.Math object>"
      ]
     },
     "metadata": {},
     "output_type": "display_data"
    },
    {
     "data": {
      "text/latex": [
       "$$\\mathrm b^{0}(X_{2},\\wedge^{1}T_X)=10$$"
      ],
      "text/plain": [
       "<IPython.core.display.Math object>"
      ]
     },
     "metadata": {},
     "output_type": "display_data"
    },
    {
     "data": {
      "text/latex": [
       "$$\\mathrm H^{0}(X_{2},\\wedge^{2}T_X)=L\\left( 2\\alpha_{1}+ 3\\alpha_{2}\\right)$$"
      ],
      "text/plain": [
       "<IPython.core.display.Math object>"
      ]
     },
     "metadata": {},
     "output_type": "display_data"
    },
    {
     "data": {
      "text/latex": [
       "$$\\mathrm b^{0}(X_{2},\\wedge^{2}T_X)=35$$"
      ],
      "text/plain": [
       "<IPython.core.display.Math object>"
      ]
     },
     "metadata": {},
     "output_type": "display_data"
    },
    {
     "data": {
      "text/latex": [
       "$$\\mathrm H^{0}(X_{2},\\wedge^{3}T_X)=L\\left( 3\\alpha_{1}+ 3\\alpha_{2}\\right)$$"
      ],
      "text/plain": [
       "<IPython.core.display.Math object>"
      ]
     },
     "metadata": {},
     "output_type": "display_data"
    },
    {
     "data": {
      "text/latex": [
       "$$\\mathrm b^{0}(X_{2},\\wedge^{3}T_X)=30$$"
      ],
      "text/plain": [
       "<IPython.core.display.Math object>"
      ]
     },
     "metadata": {},
     "output_type": "display_data"
    },
    {
     "name": "stdout",
     "output_type": "stream",
     "text": [
      "\n"
     ]
    }
   ],
   "source": [
    "from itertools import combinations, chain\n",
    "roots = [1,2]\n",
    "subsets = list(chain.from_iterable(combinations(roots,i) for i in range(len(roots))))\n",
    "d = 'B2'\n",
    "BGG = BGGComplex(d)\n",
    "for subset in subsets:\n",
    "    factory = FastModuleFactory(BGG.LA)\n",
    "    component_dic = {'u':factory.build_component('u','coad',subset=subset)}\n",
    "    u_dim = len(component_dic['u'].basis)\n",
    "    print('dim of u is %d for root system %s and subset %s' % (u_dim, d, subset))\n",
    "    pbar1 = tqdm(range(u_dim+1))\n",
    "    pbar2 = tqdm()\n",
    "    pbar3 = tqdm()\n",
    "    for k in pbar1:\n",
    "        components = [[('u',k,'wedge')]]\n",
    "        module = FastLieAlgebraCompositeModule(factory,components,component_dic)\n",
    "\n",
    "        cohom = BGGCohomology(BGG, module,pbars=[pbar2,pbar3])\n",
    "        subset_string = ''.join(str(s) for s in subset)\n",
    "        cohom.cohomology_LaTeX(complex_string=r'X_{'+subset_string+r'},\\wedge^{'+str(k)+'}T_X',print_betti=True)"
   ]
  },
  {
   "cell_type": "markdown",
   "metadata": {},
   "source": [
    "## B3 parabolic"
   ]
  },
  {
   "cell_type": "code",
   "execution_count": 9,
   "metadata": {
    "scrolled": true
   },
   "outputs": [
    {
     "name": "stdout",
     "output_type": "stream",
     "text": [
      "dim of u is 9 for root system B3 and subset ()\n",
      "\n",
      "\n",
      "\n",
      "\n"
     ]
    },
    {
     "data": {
      "application/vnd.jupyter.widget-view+json": {
       "model_id": "a22fb7930c2c425ea9a64f9f19c4092f",
       "version_major": 2,
       "version_minor": 0
      },
      "text/plain": [
       "HBox(children=(FloatProgress(value=0.0, max=10.0), HTML(value='')))"
      ]
     },
     "metadata": {},
     "output_type": "display_data"
    },
    {
     "data": {
      "application/vnd.jupyter.widget-view+json": {
       "model_id": "86599ed8e1ea44a79ce546331fc44c37",
       "version_major": 2,
       "version_minor": 0
      },
      "text/plain": [
       "HBox(children=(FloatProgress(value=1.0, bar_style='info', max=1.0), HTML(value='')))"
      ]
     },
     "metadata": {},
     "output_type": "display_data"
    },
    {
     "data": {
      "application/vnd.jupyter.widget-view+json": {
       "model_id": "c107100b8c4c4f01aa945c15eae67a6a",
       "version_major": 2,
       "version_minor": 0
      },
      "text/plain": [
       "HBox(children=(FloatProgress(value=1.0, bar_style='info', max=1.0), HTML(value='')))"
      ]
     },
     "metadata": {},
     "output_type": "display_data"
    },
    {
     "data": {
      "text/latex": [
       "$$\\mathrm H^{0}(X_{},\\wedge^{0}T_X)=\\mathbb{C}$$"
      ],
      "text/plain": [
       "<IPython.core.display.Math object>"
      ]
     },
     "metadata": {},
     "output_type": "display_data"
    },
    {
     "data": {
      "text/latex": [
       "$$\\mathrm b^{0}(X_{},\\wedge^{0}T_X)=1$$"
      ],
      "text/plain": [
       "<IPython.core.display.Math object>"
      ]
     },
     "metadata": {},
     "output_type": "display_data"
    },
    {
     "data": {
      "text/latex": [
       "$$\\mathrm H^{0}(X_{},\\wedge^{1}T_X)=L\\left(\\alpha_{1}+ 2\\alpha_{2}+ 2\\alpha_{3}\\right)$$"
      ],
      "text/plain": [
       "<IPython.core.display.Math object>"
      ]
     },
     "metadata": {},
     "output_type": "display_data"
    },
    {
     "data": {
      "text/latex": [
       "$$\\mathrm b^{0}(X_{},\\wedge^{1}T_X)=21$$"
      ],
      "text/plain": [
       "<IPython.core.display.Math object>"
      ]
     },
     "metadata": {},
     "output_type": "display_data"
    },
    {
     "data": {
      "text/latex": [
       "$$\\mathrm H^{0}(X_{},\\wedge^{2}T_X)=L\\left(\\alpha_{1}+ 2\\alpha_{2}+ 2\\alpha_{3}\\right)\\oplus L\\left( 2\\alpha_{1}+ 3\\alpha_{2}+ 4\\alpha_{3}\\right)$$"
      ],
      "text/plain": [
       "<IPython.core.display.Math object>"
      ]
     },
     "metadata": {},
     "output_type": "display_data"
    },
    {
     "data": {
      "text/latex": [
       "$$\\mathrm b^{0}(X_{},\\wedge^{2}T_X)=210$$"
      ],
      "text/plain": [
       "<IPython.core.display.Math object>"
      ]
     },
     "metadata": {},
     "output_type": "display_data"
    },
    {
     "data": {
      "text/latex": [
       "$$\\mathrm H^{0}(X_{},\\wedge^{3}T_X)=L\\left(\\alpha_{1}+\\alpha_{2}+\\alpha_{3}\\right)\\oplus L\\left( 2\\alpha_{1}+ 2\\alpha_{2}+ 2\\alpha_{3}\\right)\\oplus L\\left(\\alpha_{1}+ 2\\alpha_{2}+ 3\\alpha_{3}\\right)^{2}\\oplus L\\left( 2\\alpha_{1}+ 3\\alpha_{2}+ 4\\alpha_{3}\\right)\\oplus L\\left( 2\\alpha_{1}+ 4\\alpha_{2}+ 4\\alpha_{3}\\right)\\oplus L\\left( 3\\alpha_{1}+ 4\\alpha_{2}+ 5\\alpha_{3}\\right)\\oplus L\\left( 2\\alpha_{1}+ 4\\alpha_{2}+ 6\\alpha_{3}\\right)$$"
      ],
      "text/plain": [
       "<IPython.core.display.Math object>"
      ]
     },
     "metadata": {},
     "output_type": "display_data"
    },
    {
     "data": {
      "text/latex": [
       "$$\\mathrm b^{0}(X_{},\\wedge^{3}T_X)=1371$$"
      ],
      "text/plain": [
       "<IPython.core.display.Math object>"
      ]
     },
     "metadata": {},
     "output_type": "display_data"
    },
    {
     "data": {
      "text/latex": [
       "$$\\mathrm H^{0}(X_{},\\wedge^{4}T_X)=L\\left(\\alpha_{1}+ 2\\alpha_{2}+ 2\\alpha_{3}\\right)\\oplus L\\left( 2\\alpha_{1}+ 2\\alpha_{2}+ 2\\alpha_{3}\\right)\\oplus L\\left(\\alpha_{1}+ 2\\alpha_{2}+ 3\\alpha_{3}\\right)\\oplus L\\left( 2\\alpha_{1}+ 3\\alpha_{2}+ 3\\alpha_{3}\\right)^{3}\\oplus L\\left( 3\\alpha_{1}+ 3\\alpha_{2}+ 3\\alpha_{3}\\right)\\oplus L\\left( 2\\alpha_{1}+ 3\\alpha_{2}+ 4\\alpha_{3}\\right)^{2}\\oplus L\\left( 2\\alpha_{1}+ 4\\alpha_{2}+ 4\\alpha_{3}\\right)\\oplus L\\left( 3\\alpha_{1}+ 4\\alpha_{2}+ 4\\alpha_{3}\\right)\\oplus L\\left( 2\\alpha_{1}+ 4\\alpha_{2}+ 5\\alpha_{3}\\right)^{2}\\oplus L\\left( 3\\alpha_{1}+ 4\\alpha_{2}+ 5\\alpha_{3}\\right)\\oplus L\\left( 2\\alpha_{1}+ 4\\alpha_{2}+ 6\\alpha_{3}\\right)\\oplus L\\left( 4\\alpha_{1}+ 5\\alpha_{2}+ 5\\alpha_{3}\\right)\\oplus L\\left( 3\\alpha_{1}+ 5\\alpha_{2}+ 6\\alpha_{3}\\right)\\oplus L\\left( 3\\alpha_{1}+ 5\\alpha_{2}+ 7\\alpha_{3}\\right)$$"
      ],
      "text/plain": [
       "<IPython.core.display.Math object>"
      ]
     },
     "metadata": {},
     "output_type": "display_data"
    },
    {
     "data": {
      "text/latex": [
       "$$\\mathrm b^{0}(X_{},\\wedge^{4}T_X)=6839$$"
      ],
      "text/plain": [
       "<IPython.core.display.Math object>"
      ]
     },
     "metadata": {},
     "output_type": "display_data"
    },
    {
     "data": {
      "text/latex": [
       "$$\\mathrm H^{0}(X_{},\\wedge^{5}T_X)=L\\left( 2\\alpha_{1}+ 3\\alpha_{2}+ 3\\alpha_{3}\\right)\\oplus L\\left( 3\\alpha_{1}+ 3\\alpha_{2}+ 3\\alpha_{3}\\right)\\oplus L\\left( 2\\alpha_{1}+ 3\\alpha_{2}+ 4\\alpha_{3}\\right)^{3}\\oplus L\\left( 2\\alpha_{1}+ 4\\alpha_{2}+ 4\\alpha_{3}\\right)\\oplus L\\left( 3\\alpha_{1}+ 4\\alpha_{2}+ 4\\alpha_{3}\\right)^{3}\\oplus L\\left( 2\\alpha_{1}+ 4\\alpha_{2}+ 5\\alpha_{3}\\right)^{4}\\oplus L\\left( 3\\alpha_{1}+ 4\\alpha_{2}+ 5\\alpha_{3}\\right)^{3}\\oplus L\\left( 2\\alpha_{1}+ 4\\alpha_{2}+ 6\\alpha_{3}\\right)\\oplus L\\left( 3\\alpha_{1}+ 5\\alpha_{2}+ 5\\alpha_{3}\\right)^{2}\\oplus L\\left( 4\\alpha_{1}+ 5\\alpha_{2}+ 5\\alpha_{3}\\right)\\oplus L\\left( 3\\alpha_{1}+ 5\\alpha_{2}+ 6\\alpha_{3}\\right)^{3}\\oplus L\\left( 5\\alpha_{1}+ 5\\alpha_{2}+ 5\\alpha_{3}\\right)\\oplus L\\left( 4\\alpha_{1}+ 5\\alpha_{2}+ 6\\alpha_{3}\\right)\\oplus L\\left( 3\\alpha_{1}+ 6\\alpha_{2}+ 6\\alpha_{3}\\right)\\oplus L\\left( 3\\alpha_{1}+ 5\\alpha_{2}+ 7\\alpha_{3}\\right)^{2}\\oplus L\\left( 4\\alpha_{1}+ 6\\alpha_{2}+ 7\\alpha_{3}\\right)\\oplus L\\left( 3\\alpha_{1}+ 6\\alpha_{2}+ 8\\alpha_{3}\\right)$$"
      ],
      "text/plain": [
       "<IPython.core.display.Math object>"
      ]
     },
     "metadata": {},
     "output_type": "display_data"
    },
    {
     "data": {
      "text/latex": [
       "$$\\mathrm b^{0}(X_{},\\wedge^{5}T_X)=25012$$"
      ],
      "text/plain": [
       "<IPython.core.display.Math object>"
      ]
     },
     "metadata": {},
     "output_type": "display_data"
    },
    {
     "data": {
      "text/latex": [
       "$$\\mathrm H^{0}(X_{},\\wedge^{6}T_X)=L\\left( 2\\alpha_{1}+ 4\\alpha_{2}+ 4\\alpha_{3}\\right)\\oplus L\\left( 3\\alpha_{1}+ 4\\alpha_{2}+ 4\\alpha_{3}\\right)\\oplus L\\left( 2\\alpha_{1}+ 4\\alpha_{2}+ 5\\alpha_{3}\\right)\\oplus L\\left( 4\\alpha_{1}+ 4\\alpha_{2}+ 4\\alpha_{3}\\right)\\oplus L\\left( 3\\alpha_{1}+ 4\\alpha_{2}+ 5\\alpha_{3}\\right)^{3}\\oplus L\\left( 2\\alpha_{1}+ 4\\alpha_{2}+ 6\\alpha_{3}\\right)\\oplus L\\left( 3\\alpha_{1}+ 5\\alpha_{2}+ 5\\alpha_{3}\\right)^{2}\\oplus L\\left( 4\\alpha_{1}+ 5\\alpha_{2}+ 5\\alpha_{3}\\right)\\oplus L\\left( 3\\alpha_{1}+ 5\\alpha_{2}+ 6\\alpha_{3}\\right)^{5}\\oplus L\\left( 4\\alpha_{1}+ 5\\alpha_{2}+ 6\\alpha_{3}\\right)^{3}\\oplus L\\left( 3\\alpha_{1}+ 6\\alpha_{2}+ 6\\alpha_{3}\\right)\\oplus L\\left( 3\\alpha_{1}+ 5\\alpha_{2}+ 7\\alpha_{3}\\right)^{2}\\oplus L\\left( 4\\alpha_{1}+ 6\\alpha_{2}+ 6\\alpha_{3}\\right)^{2}\\oplus L\\left( 3\\alpha_{1}+ 6\\alpha_{2}+ 7\\alpha_{3}\\right)^{3}\\oplus L\\left( 4\\alpha_{1}+ 6\\alpha_{2}+ 7\\alpha_{3}\\right)^{2}\\oplus L\\left( 3\\alpha_{1}+ 6\\alpha_{2}+ 8\\alpha_{3}\\right)\\oplus L\\left( 5\\alpha_{1}+ 6\\alpha_{2}+ 7\\alpha_{3}\\right)\\oplus L\\left( 4\\alpha_{1}+ 6\\alpha_{2}+ 8\\alpha_{3}\\right)\\oplus L\\left( 3\\alpha_{1}+ 6\\alpha_{2}+ 9\\alpha_{3}\\right)\\oplus L\\left( 4\\alpha_{1}+ 7\\alpha_{2}+ 8\\alpha_{3}\\right)$$"
      ],
      "text/plain": [
       "<IPython.core.display.Math object>"
      ]
     },
     "metadata": {},
     "output_type": "display_data"
    },
    {
     "data": {
      "text/latex": [
       "$$\\mathrm b^{0}(X_{},\\wedge^{6}T_X)=59814$$"
      ],
      "text/plain": [
       "<IPython.core.display.Math object>"
      ]
     },
     "metadata": {},
     "output_type": "display_data"
    },
    {
     "data": {
      "text/latex": [
       "$$\\mathrm H^{0}(X_{},\\wedge^{7}T_X)=L\\left( 3\\alpha_{1}+ 5\\alpha_{2}+ 5\\alpha_{3}\\right)\\oplus L\\left( 4\\alpha_{1}+ 5\\alpha_{2}+ 5\\alpha_{3}\\right)\\oplus L\\left( 3\\alpha_{1}+ 5\\alpha_{2}+ 6\\alpha_{3}\\right)\\oplus L\\left( 4\\alpha_{1}+ 5\\alpha_{2}+ 6\\alpha_{3}\\right)\\oplus L\\left( 3\\alpha_{1}+ 6\\alpha_{2}+ 6\\alpha_{3}\\right)\\oplus L\\left( 3\\alpha_{1}+ 5\\alpha_{2}+ 7\\alpha_{3}\\right)\\oplus L\\left( 4\\alpha_{1}+ 6\\alpha_{2}+ 6\\alpha_{3}\\right)^{2}\\oplus L\\left( 3\\alpha_{1}+ 6\\alpha_{2}+ 7\\alpha_{3}\\right)^{2}\\oplus L\\left( 5\\alpha_{1}+ 6\\alpha_{2}+ 6\\alpha_{3}\\right)\\oplus L\\left( 4\\alpha_{1}+ 6\\alpha_{2}+ 7\\alpha_{3}\\right)^{3}\\oplus L\\left( 3\\alpha_{1}+ 6\\alpha_{2}+ 8\\alpha_{3}\\right)\\oplus L\\left( 5\\alpha_{1}+ 6\\alpha_{2}+ 7\\alpha_{3}\\right)\\oplus L\\left( 4\\alpha_{1}+ 7\\alpha_{2}+ 7\\alpha_{3}\\right)\\oplus L\\left( 4\\alpha_{1}+ 6\\alpha_{2}+ 8\\alpha_{3}\\right)^{2}\\oplus L\\left( 4\\alpha_{1}+ 7\\alpha_{2}+ 8\\alpha_{3}\\right)^{2}\\oplus L\\left( 5\\alpha_{1}+ 7\\alpha_{2}+ 8\\alpha_{3}\\right)\\oplus L\\left( 4\\alpha_{1}+ 8\\alpha_{2}+ 8\\alpha_{3}\\right)\\oplus L\\left( 4\\alpha_{1}+ 7\\alpha_{2}+ 9\\alpha_{3}\\right)$$"
      ],
      "text/plain": [
       "<IPython.core.display.Math object>"
      ]
     },
     "metadata": {},
     "output_type": "display_data"
    },
    {
     "data": {
      "text/latex": [
       "$$\\mathrm b^{0}(X_{},\\wedge^{7}T_X)=85009$$"
      ],
      "text/plain": [
       "<IPython.core.display.Math object>"
      ]
     },
     "metadata": {},
     "output_type": "display_data"
    },
    {
     "data": {
      "text/latex": [
       "$$\\mathrm H^{0}(X_{},\\wedge^{8}T_X)=L\\left( 4\\alpha_{1}+ 6\\alpha_{2}+ 7\\alpha_{3}\\right)\\oplus L\\left( 4\\alpha_{1}+ 7\\alpha_{2}+ 7\\alpha_{3}\\right)\\oplus L\\left( 5\\alpha_{1}+ 7\\alpha_{2}+ 7\\alpha_{3}\\right)\\oplus L\\left( 4\\alpha_{1}+ 7\\alpha_{2}+ 8\\alpha_{3}\\right)\\oplus L\\left( 5\\alpha_{1}+ 7\\alpha_{2}+ 8\\alpha_{3}\\right)\\oplus L\\left( 4\\alpha_{1}+ 7\\alpha_{2}+ 9\\alpha_{3}\\right)\\oplus L\\left( 5\\alpha_{1}+ 8\\alpha_{2}+ 8\\alpha_{3}\\right)\\oplus L\\left( 5\\alpha_{1}+ 7\\alpha_{2}+ 9\\alpha_{3}\\right)\\oplus L\\left( 4\\alpha_{1}+ 8\\alpha_{2}+ 9\\alpha_{3}\\right)$$"
      ],
      "text/plain": [
       "<IPython.core.display.Math object>"
      ]
     },
     "metadata": {},
     "output_type": "display_data"
    },
    {
     "data": {
      "text/latex": [
       "$$\\mathrm b^{0}(X_{},\\wedge^{8}T_X)=64184$$"
      ],
      "text/plain": [
       "<IPython.core.display.Math object>"
      ]
     },
     "metadata": {},
     "output_type": "display_data"
    },
    {
     "data": {
      "text/latex": [
       "$$\\mathrm H^{0}(X_{},\\wedge^{9}T_X)=L\\left( 5\\alpha_{1}+ 8\\alpha_{2}+ 9\\alpha_{3}\\right)$$"
      ],
      "text/plain": [
       "<IPython.core.display.Math object>"
      ]
     },
     "metadata": {},
     "output_type": "display_data"
    },
    {
     "data": {
      "text/latex": [
       "$$\\mathrm b^{0}(X_{},\\wedge^{9}T_X)=19683$$"
      ],
      "text/plain": [
       "<IPython.core.display.Math object>"
      ]
     },
     "metadata": {},
     "output_type": "display_data"
    },
    {
     "name": "stdout",
     "output_type": "stream",
     "text": [
      "\n",
      "dim of u is 8 for root system B3 and subset (1,)\n"
     ]
    },
    {
     "data": {
      "application/vnd.jupyter.widget-view+json": {
       "model_id": "195a86e986364b61a55cf5bf5345390b",
       "version_major": 2,
       "version_minor": 0
      },
      "text/plain": [
       "HBox(children=(FloatProgress(value=0.0, max=9.0), HTML(value='')))"
      ]
     },
     "metadata": {},
     "output_type": "display_data"
    },
    {
     "data": {
      "application/vnd.jupyter.widget-view+json": {
       "model_id": "087221dbd2b4441db9ea31b5e5d4b5d2",
       "version_major": 2,
       "version_minor": 0
      },
      "text/plain": [
       "HBox(children=(FloatProgress(value=1.0, bar_style='info', max=1.0), HTML(value='')))"
      ]
     },
     "metadata": {},
     "output_type": "display_data"
    },
    {
     "data": {
      "application/vnd.jupyter.widget-view+json": {
       "model_id": "7cb894880cb5431a8baf98c439dda4e2",
       "version_major": 2,
       "version_minor": 0
      },
      "text/plain": [
       "HBox(children=(FloatProgress(value=1.0, bar_style='info', max=1.0), HTML(value='')))"
      ]
     },
     "metadata": {},
     "output_type": "display_data"
    },
    {
     "data": {
      "text/latex": [
       "$$\\mathrm H^{0}(X_{1},\\wedge^{0}T_X)=\\mathbb{C}$$"
      ],
      "text/plain": [
       "<IPython.core.display.Math object>"
      ]
     },
     "metadata": {},
     "output_type": "display_data"
    },
    {
     "data": {
      "text/latex": [
       "$$\\mathrm b^{0}(X_{1},\\wedge^{0}T_X)=1$$"
      ],
      "text/plain": [
       "<IPython.core.display.Math object>"
      ]
     },
     "metadata": {},
     "output_type": "display_data"
    },
    {
     "data": {
      "text/latex": [
       "$$\\mathrm H^{0}(X_{1},\\wedge^{1}T_X)=L\\left(\\alpha_{1}+ 2\\alpha_{2}+ 2\\alpha_{3}\\right)$$"
      ],
      "text/plain": [
       "<IPython.core.display.Math object>"
      ]
     },
     "metadata": {},
     "output_type": "display_data"
    },
    {
     "data": {
      "text/latex": [
       "$$\\mathrm b^{0}(X_{1},\\wedge^{1}T_X)=21$$"
      ],
      "text/plain": [
       "<IPython.core.display.Math object>"
      ]
     },
     "metadata": {},
     "output_type": "display_data"
    },
    {
     "data": {
      "text/latex": [
       "$$\\mathrm H^{0}(X_{1},\\wedge^{2}T_X)=L\\left(\\alpha_{1}+\\alpha_{2}+\\alpha_{3}\\right)\\oplus L\\left(\\alpha_{1}+ 2\\alpha_{2}+ 2\\alpha_{3}\\right)\\oplus L\\left( 2\\alpha_{1}+ 3\\alpha_{2}+ 4\\alpha_{3}\\right)$$"
      ],
      "text/plain": [
       "<IPython.core.display.Math object>"
      ]
     },
     "metadata": {},
     "output_type": "display_data"
    },
    {
     "data": {
      "text/latex": [
       "$$\\mathrm b^{0}(X_{1},\\wedge^{2}T_X)=217$$"
      ],
      "text/plain": [
       "<IPython.core.display.Math object>"
      ]
     },
     "metadata": {},
     "output_type": "display_data"
    },
    {
     "data": {
      "text/latex": [
       "$$\\mathrm H^{0}(X_{1},\\wedge^{3}T_X)=L\\left( 2\\alpha_{1}+ 2\\alpha_{2}+ 2\\alpha_{3}\\right)\\oplus L\\left(\\alpha_{1}+ 2\\alpha_{2}+ 3\\alpha_{3}\\right)^{2}\\oplus L\\left( 2\\alpha_{1}+ 3\\alpha_{2}+ 3\\alpha_{3}\\right)\\oplus L\\left( 3\\alpha_{1}+ 3\\alpha_{2}+ 3\\alpha_{3}\\right)\\oplus L\\left( 2\\alpha_{1}+ 3\\alpha_{2}+ 4\\alpha_{3}\\right)\\oplus L\\left( 2\\alpha_{1}+ 4\\alpha_{2}+ 4\\alpha_{3}\\right)\\oplus L\\left( 3\\alpha_{1}+ 4\\alpha_{2}+ 5\\alpha_{3}\\right)\\oplus L\\left( 2\\alpha_{1}+ 4\\alpha_{2}+ 6\\alpha_{3}\\right)$$"
      ],
      "text/plain": [
       "<IPython.core.display.Math object>"
      ]
     },
     "metadata": {},
     "output_type": "display_data"
    },
    {
     "data": {
      "text/latex": [
       "$$\\mathrm b^{0}(X_{1},\\wedge^{3}T_X)=1546$$"
      ],
      "text/plain": [
       "<IPython.core.display.Math object>"
      ]
     },
     "metadata": {},
     "output_type": "display_data"
    },
    {
     "data": {
      "text/latex": [
       "$$\\mathrm H^{0}(X_{1},\\wedge^{4}T_X)=L\\left( 2\\alpha_{1}+ 3\\alpha_{2}+ 3\\alpha_{3}\\right)\\oplus L\\left( 2\\alpha_{1}+ 3\\alpha_{2}+ 4\\alpha_{3}\\right)^{2}\\oplus L\\left( 2\\alpha_{1}+ 4\\alpha_{2}+ 4\\alpha_{3}\\right)\\oplus L\\left( 3\\alpha_{1}+ 4\\alpha_{2}+ 4\\alpha_{3}\\right)\\oplus L\\left( 2\\alpha_{1}+ 4\\alpha_{2}+ 5\\alpha_{3}\\right)^{2}\\oplus L\\left( 3\\alpha_{1}+ 4\\alpha_{2}+ 5\\alpha_{3}\\right)^{2}\\oplus L\\left( 2\\alpha_{1}+ 4\\alpha_{2}+ 6\\alpha_{3}\\right)\\oplus L\\left( 4\\alpha_{1}+ 5\\alpha_{2}+ 5\\alpha_{3}\\right)\\oplus L\\left( 3\\alpha_{1}+ 5\\alpha_{2}+ 6\\alpha_{3}\\right)\\oplus L\\left( 3\\alpha_{1}+ 5\\alpha_{2}+ 7\\alpha_{3}\\right)$$"
      ],
      "text/plain": [
       "<IPython.core.display.Math object>"
      ]
     },
     "metadata": {},
     "output_type": "display_data"
    },
    {
     "data": {
      "text/latex": [
       "$$\\mathrm b^{0}(X_{1},\\wedge^{4}T_X)=7085$$"
      ],
      "text/plain": [
       "<IPython.core.display.Math object>"
      ]
     },
     "metadata": {},
     "output_type": "display_data"
    },
    {
     "data": {
      "text/latex": [
       "$$\\mathrm H^{0}(X_{1},\\wedge^{5}T_X)=L\\left( 3\\alpha_{1}+ 4\\alpha_{2}+ 4\\alpha_{3}\\right)\\oplus L\\left( 2\\alpha_{1}+ 4\\alpha_{2}+ 5\\alpha_{3}\\right)^{2}\\oplus L\\left( 3\\alpha_{1}+ 4\\alpha_{2}+ 5\\alpha_{3}\\right)\\oplus L\\left( 2\\alpha_{1}+ 4\\alpha_{2}+ 6\\alpha_{3}\\right)\\oplus L\\left( 3\\alpha_{1}+ 5\\alpha_{2}+ 5\\alpha_{3}\\right)\\oplus L\\left( 3\\alpha_{1}+ 5\\alpha_{2}+ 6\\alpha_{3}\\right)^{3}\\oplus L\\left( 4\\alpha_{1}+ 5\\alpha_{2}+ 6\\alpha_{3}\\right)\\oplus L\\left( 3\\alpha_{1}+ 6\\alpha_{2}+ 6\\alpha_{3}\\right)\\oplus L\\left( 3\\alpha_{1}+ 5\\alpha_{2}+ 7\\alpha_{3}\\right)^{2}\\oplus L\\left( 4\\alpha_{1}+ 6\\alpha_{2}+ 7\\alpha_{3}\\right)\\oplus L\\left( 3\\alpha_{1}+ 6\\alpha_{2}+ 8\\alpha_{3}\\right)$$"
      ],
      "text/plain": [
       "<IPython.core.display.Math object>"
      ]
     },
     "metadata": {},
     "output_type": "display_data"
    },
    {
     "data": {
      "text/latex": [
       "$$\\mathrm b^{0}(X_{1},\\wedge^{5}T_X)=19557$$"
      ],
      "text/plain": [
       "<IPython.core.display.Math object>"
      ]
     },
     "metadata": {},
     "output_type": "display_data"
    },
    {
     "data": {
      "text/latex": [
       "$$\\mathrm H^{0}(X_{1},\\wedge^{6}T_X)=L\\left( 3\\alpha_{1}+ 5\\alpha_{2}+ 5\\alpha_{3}\\right)\\oplus L\\left( 3\\alpha_{1}+ 5\\alpha_{2}+ 6\\alpha_{3}\\right)\\oplus L\\left( 3\\alpha_{1}+ 6\\alpha_{2}+ 6\\alpha_{3}\\right)\\oplus L\\left( 3\\alpha_{1}+ 5\\alpha_{2}+ 7\\alpha_{3}\\right)\\oplus L\\left( 4\\alpha_{1}+ 6\\alpha_{2}+ 6\\alpha_{3}\\right)\\oplus L\\left( 3\\alpha_{1}+ 6\\alpha_{2}+ 7\\alpha_{3}\\right)^{2}\\oplus L\\left( 4\\alpha_{1}+ 6\\alpha_{2}+ 7\\alpha_{3}\\right)\\oplus L\\left( 3\\alpha_{1}+ 6\\alpha_{2}+ 8\\alpha_{3}\\right)\\oplus L\\left( 4\\alpha_{1}+ 6\\alpha_{2}+ 8\\alpha_{3}\\right)\\oplus L\\left( 3\\alpha_{1}+ 6\\alpha_{2}+ 9\\alpha_{3}\\right)\\oplus L\\left( 4\\alpha_{1}+ 7\\alpha_{2}+ 8\\alpha_{3}\\right)$$"
      ],
      "text/plain": [
       "<IPython.core.display.Math object>"
      ]
     },
     "metadata": {},
     "output_type": "display_data"
    },
    {
     "data": {
      "text/latex": [
       "$$\\mathrm b^{0}(X_{1},\\wedge^{6}T_X)=30653$$"
      ],
      "text/plain": [
       "<IPython.core.display.Math object>"
      ]
     },
     "metadata": {},
     "output_type": "display_data"
    },
    {
     "data": {
      "text/latex": [
       "$$\\mathrm H^{0}(X_{1},\\wedge^{7}T_X)=L\\left( 3\\alpha_{1}+ 6\\alpha_{2}+ 7\\alpha_{3}\\right)\\oplus L\\left( 4\\alpha_{1}+ 7\\alpha_{2}+ 7\\alpha_{3}\\right)\\oplus L\\left( 4\\alpha_{1}+ 7\\alpha_{2}+ 8\\alpha_{3}\\right)\\oplus L\\left( 4\\alpha_{1}+ 8\\alpha_{2}+ 8\\alpha_{3}\\right)\\oplus L\\left( 4\\alpha_{1}+ 7\\alpha_{2}+ 9\\alpha_{3}\\right)$$"
      ],
      "text/plain": [
       "<IPython.core.display.Math object>"
      ]
     },
     "metadata": {},
     "output_type": "display_data"
    },
    {
     "data": {
      "text/latex": [
       "$$\\mathrm b^{0}(X_{1},\\wedge^{7}T_X)=24816$$"
      ],
      "text/plain": [
       "<IPython.core.display.Math object>"
      ]
     },
     "metadata": {},
     "output_type": "display_data"
    },
    {
     "data": {
      "text/latex": [
       "$$\\mathrm H^{0}(X_{1},\\wedge^{8}T_X)=L\\left( 4\\alpha_{1}+ 8\\alpha_{2}+ 9\\alpha_{3}\\right)$$"
      ],
      "text/plain": [
       "<IPython.core.display.Math object>"
      ]
     },
     "metadata": {},
     "output_type": "display_data"
    },
    {
     "data": {
      "text/latex": [
       "$$\\mathrm b^{0}(X_{1},\\wedge^{8}T_X)=8008$$"
      ],
      "text/plain": [
       "<IPython.core.display.Math object>"
      ]
     },
     "metadata": {},
     "output_type": "display_data"
    },
    {
     "name": "stdout",
     "output_type": "stream",
     "text": [
      "\n",
      "dim of u is 8 for root system B3 and subset (2,)\n"
     ]
    },
    {
     "data": {
      "application/vnd.jupyter.widget-view+json": {
       "model_id": "f0ed4b903dfe413789f3e2ca098bd454",
       "version_major": 2,
       "version_minor": 0
      },
      "text/plain": [
       "HBox(children=(FloatProgress(value=0.0, max=9.0), HTML(value='')))"
      ]
     },
     "metadata": {},
     "output_type": "display_data"
    },
    {
     "data": {
      "application/vnd.jupyter.widget-view+json": {
       "model_id": "3229bce56a59463ab8873a5e34551b4d",
       "version_major": 2,
       "version_minor": 0
      },
      "text/plain": [
       "HBox(children=(FloatProgress(value=1.0, bar_style='info', max=1.0), HTML(value='')))"
      ]
     },
     "metadata": {},
     "output_type": "display_data"
    },
    {
     "data": {
      "application/vnd.jupyter.widget-view+json": {
       "model_id": "a3fcbabd8c194ae2839aa1bed78fe97b",
       "version_major": 2,
       "version_minor": 0
      },
      "text/plain": [
       "HBox(children=(FloatProgress(value=1.0, bar_style='info', max=1.0), HTML(value='')))"
      ]
     },
     "metadata": {},
     "output_type": "display_data"
    },
    {
     "data": {
      "text/latex": [
       "$$\\mathrm H^{0}(X_{2},\\wedge^{0}T_X)=\\mathbb{C}$$"
      ],
      "text/plain": [
       "<IPython.core.display.Math object>"
      ]
     },
     "metadata": {},
     "output_type": "display_data"
    },
    {
     "data": {
      "text/latex": [
       "$$\\mathrm b^{0}(X_{2},\\wedge^{0}T_X)=1$$"
      ],
      "text/plain": [
       "<IPython.core.display.Math object>"
      ]
     },
     "metadata": {},
     "output_type": "display_data"
    },
    {
     "data": {
      "text/latex": [
       "$$\\mathrm H^{0}(X_{2},\\wedge^{1}T_X)=L\\left(\\alpha_{1}+ 2\\alpha_{2}+ 2\\alpha_{3}\\right)$$"
      ],
      "text/plain": [
       "<IPython.core.display.Math object>"
      ]
     },
     "metadata": {},
     "output_type": "display_data"
    },
    {
     "data": {
      "text/latex": [
       "$$\\mathrm b^{0}(X_{2},\\wedge^{1}T_X)=21$$"
      ],
      "text/plain": [
       "<IPython.core.display.Math object>"
      ]
     },
     "metadata": {},
     "output_type": "display_data"
    },
    {
     "data": {
      "text/latex": [
       "$$\\mathrm H^{0}(X_{2},\\wedge^{2}T_X)=L\\left(\\alpha_{1}+\\alpha_{2}+\\alpha_{3}\\right)\\oplus L\\left(\\alpha_{1}+ 2\\alpha_{2}+ 2\\alpha_{3}\\right)\\oplus L\\left(\\alpha_{1}+ 2\\alpha_{2}+ 3\\alpha_{3}\\right)\\oplus L\\left( 2\\alpha_{1}+ 3\\alpha_{2}+ 4\\alpha_{3}\\right)$$"
      ],
      "text/plain": [
       "<IPython.core.display.Math object>"
      ]
     },
     "metadata": {},
     "output_type": "display_data"
    },
    {
     "data": {
      "text/latex": [
       "$$\\mathrm b^{0}(X_{2},\\wedge^{2}T_X)=252$$"
      ],
      "text/plain": [
       "<IPython.core.display.Math object>"
      ]
     },
     "metadata": {},
     "output_type": "display_data"
    },
    {
     "data": {
      "text/latex": [
       "$$\\mathrm H^{0}(X_{2},\\wedge^{3}T_X)=L\\left(\\alpha_{1}+ 2\\alpha_{2}+ 2\\alpha_{3}\\right)\\oplus L\\left( 2\\alpha_{1}+ 2\\alpha_{2}+ 2\\alpha_{3}\\right)\\oplus L\\left(\\alpha_{1}+ 2\\alpha_{2}+ 3\\alpha_{3}\\right)^{2}\\oplus L\\left( 2\\alpha_{1}+ 3\\alpha_{2}+ 3\\alpha_{3}\\right)^{2}\\oplus L\\left( 2\\alpha_{1}+ 3\\alpha_{2}+ 4\\alpha_{3}\\right)^{2}\\oplus L\\left( 2\\alpha_{1}+ 4\\alpha_{2}+ 4\\alpha_{3}\\right)\\oplus L\\left( 2\\alpha_{1}+ 4\\alpha_{2}+ 5\\alpha_{3}\\right)\\oplus L\\left( 3\\alpha_{1}+ 4\\alpha_{2}+ 5\\alpha_{3}\\right)\\oplus L\\left( 2\\alpha_{1}+ 4\\alpha_{2}+ 6\\alpha_{3}\\right)$$"
      ],
      "text/plain": [
       "<IPython.core.display.Math object>"
      ]
     },
     "metadata": {},
     "output_type": "display_data"
    },
    {
     "data": {
      "text/latex": [
       "$$\\mathrm b^{0}(X_{2},\\wedge^{3}T_X)=2162$$"
      ],
      "text/plain": [
       "<IPython.core.display.Math object>"
      ]
     },
     "metadata": {},
     "output_type": "display_data"
    },
    {
     "data": {
      "text/latex": [
       "$$\\mathrm H^{0}(X_{2},\\wedge^{4}T_X)=L\\left( 2\\alpha_{1}+ 2\\alpha_{2}+ 2\\alpha_{3}\\right)\\oplus L\\left( 2\\alpha_{1}+ 3\\alpha_{2}+ 3\\alpha_{3}\\right)^{2}\\oplus L\\left( 3\\alpha_{1}+ 3\\alpha_{2}+ 3\\alpha_{3}\\right)\\oplus L\\left( 2\\alpha_{1}+ 3\\alpha_{2}+ 4\\alpha_{3}\\right)^{2}\\oplus L\\left( 2\\alpha_{1}+ 4\\alpha_{2}+ 4\\alpha_{3}\\right)^{2}\\oplus L\\left( 3\\alpha_{1}+ 4\\alpha_{2}+ 4\\alpha_{3}\\right)^{2}\\oplus L\\left( 2\\alpha_{1}+ 4\\alpha_{2}+ 5\\alpha_{3}\\right)^{3}\\oplus L\\left( 3\\alpha_{1}+ 4\\alpha_{2}+ 5\\alpha_{3}\\right)^{2}\\oplus L\\left( 2\\alpha_{1}+ 4\\alpha_{2}+ 6\\alpha_{3}\\right)\\oplus L\\left( 3\\alpha_{1}+ 5\\alpha_{2}+ 5\\alpha_{3}\\right)\\oplus L\\left( 4\\alpha_{1}+ 5\\alpha_{2}+ 5\\alpha_{3}\\right)\\oplus L\\left( 3\\alpha_{1}+ 5\\alpha_{2}+ 6\\alpha_{3}\\right)^{2}\\oplus L\\left( 3\\alpha_{1}+ 5\\alpha_{2}+ 7\\alpha_{3}\\right)$$"
      ],
      "text/plain": [
       "<IPython.core.display.Math object>"
      ]
     },
     "metadata": {},
     "output_type": "display_data"
    },
    {
     "data": {
      "text/latex": [
       "$$\\mathrm b^{0}(X_{2},\\wedge^{4}T_X)=10480$$"
      ],
      "text/plain": [
       "<IPython.core.display.Math object>"
      ]
     },
     "metadata": {},
     "output_type": "display_data"
    },
    {
     "data": {
      "text/latex": [
       "$$\\mathrm H^{0}(X_{2},\\wedge^{5}T_X)=L\\left( 3\\alpha_{1}+ 3\\alpha_{2}+ 3\\alpha_{3}\\right)\\oplus L\\left( 2\\alpha_{1}+ 3\\alpha_{2}+ 4\\alpha_{3}\\right)\\oplus L\\left( 3\\alpha_{1}+ 4\\alpha_{2}+ 4\\alpha_{3}\\right)^{2}\\oplus L\\left( 2\\alpha_{1}+ 4\\alpha_{2}+ 5\\alpha_{3}\\right)\\oplus L\\left( 4\\alpha_{1}+ 4\\alpha_{2}+ 4\\alpha_{3}\\right)\\oplus L\\left( 3\\alpha_{1}+ 4\\alpha_{2}+ 5\\alpha_{3}\\right)^{2}\\oplus L\\left( 2\\alpha_{1}+ 4\\alpha_{2}+ 6\\alpha_{3}\\right)\\oplus L\\left( 3\\alpha_{1}+ 5\\alpha_{2}+ 5\\alpha_{3}\\right)^{2}\\oplus L\\left( 4\\alpha_{1}+ 5\\alpha_{2}+ 5\\alpha_{3}\\right)\\oplus L\\left( 3\\alpha_{1}+ 5\\alpha_{2}+ 6\\alpha_{3}\\right)^{3}\\oplus L\\left( 5\\alpha_{1}+ 5\\alpha_{2}+ 5\\alpha_{3}\\right)\\oplus L\\left( 4\\alpha_{1}+ 5\\alpha_{2}+ 6\\alpha_{3}\\right)^{2}\\oplus L\\left( 3\\alpha_{1}+ 6\\alpha_{2}+ 6\\alpha_{3}\\right)\\oplus L\\left( 3\\alpha_{1}+ 5\\alpha_{2}+ 7\\alpha_{3}\\right)^{2}\\oplus L\\left( 4\\alpha_{1}+ 6\\alpha_{2}+ 6\\alpha_{3}\\right)\\oplus L\\left( 3\\alpha_{1}+ 6\\alpha_{2}+ 7\\alpha_{3}\\right)\\oplus L\\left( 4\\alpha_{1}+ 6\\alpha_{2}+ 7\\alpha_{3}\\right)\\oplus L\\left( 3\\alpha_{1}+ 6\\alpha_{2}+ 8\\alpha_{3}\\right)$$"
      ],
      "text/plain": [
       "<IPython.core.display.Math object>"
      ]
     },
     "metadata": {},
     "output_type": "display_data"
    },
    {
     "data": {
      "text/latex": [
       "$$\\mathrm b^{0}(X_{2},\\wedge^{5}T_X)=28013$$"
      ],
      "text/plain": [
       "<IPython.core.display.Math object>"
      ]
     },
     "metadata": {},
     "output_type": "display_data"
    },
    {
     "data": {
      "text/latex": [
       "$$\\mathrm H^{0}(X_{2},\\wedge^{6}T_X)=L\\left( 3\\alpha_{1}+ 4\\alpha_{2}+ 5\\alpha_{3}\\right)\\oplus L\\left( 4\\alpha_{1}+ 5\\alpha_{2}+ 5\\alpha_{3}\\right)\\oplus L\\left( 3\\alpha_{1}+ 5\\alpha_{2}+ 6\\alpha_{3}\\right)\\oplus L\\left( 4\\alpha_{1}+ 5\\alpha_{2}+ 6\\alpha_{3}\\right)^{2}\\oplus L\\left( 3\\alpha_{1}+ 5\\alpha_{2}+ 7\\alpha_{3}\\right)\\oplus L\\left( 4\\alpha_{1}+ 6\\alpha_{2}+ 6\\alpha_{3}\\right)\\oplus L\\left( 3\\alpha_{1}+ 6\\alpha_{2}+ 7\\alpha_{3}\\right)\\oplus L\\left( 5\\alpha_{1}+ 6\\alpha_{2}+ 6\\alpha_{3}\\right)\\oplus L\\left( 4\\alpha_{1}+ 6\\alpha_{2}+ 7\\alpha_{3}\\right)^{2}\\oplus L\\left( 3\\alpha_{1}+ 6\\alpha_{2}+ 8\\alpha_{3}\\right)\\oplus L\\left( 5\\alpha_{1}+ 6\\alpha_{2}+ 7\\alpha_{3}\\right)\\oplus L\\left( 4\\alpha_{1}+ 6\\alpha_{2}+ 8\\alpha_{3}\\right)\\oplus L\\left( 3\\alpha_{1}+ 6\\alpha_{2}+ 9\\alpha_{3}\\right)\\oplus L\\left( 4\\alpha_{1}+ 7\\alpha_{2}+ 8\\alpha_{3}\\right)$$"
      ],
      "text/plain": [
       "<IPython.core.display.Math object>"
      ]
     },
     "metadata": {},
     "output_type": "display_data"
    },
    {
     "data": {
      "text/latex": [
       "$$\\mathrm b^{0}(X_{2},\\wedge^{6}T_X)=41286$$"
      ],
      "text/plain": [
       "<IPython.core.display.Math object>"
      ]
     },
     "metadata": {},
     "output_type": "display_data"
    },
    {
     "data": {
      "text/latex": [
       "$$\\mathrm H^{0}(X_{2},\\wedge^{7}T_X)=L\\left( 4\\alpha_{1}+ 6\\alpha_{2}+ 7\\alpha_{3}\\right)\\oplus L\\left( 5\\alpha_{1}+ 6\\alpha_{2}+ 7\\alpha_{3}\\right)\\oplus L\\left( 4\\alpha_{1}+ 6\\alpha_{2}+ 8\\alpha_{3}\\right)\\oplus L\\left( 5\\alpha_{1}+ 7\\alpha_{2}+ 8\\alpha_{3}\\right)\\oplus L\\left( 4\\alpha_{1}+ 7\\alpha_{2}+ 9\\alpha_{3}\\right)$$"
      ],
      "text/plain": [
       "<IPython.core.display.Math object>"
      ]
     },
     "metadata": {},
     "output_type": "display_data"
    },
    {
     "data": {
      "text/latex": [
       "$$\\mathrm b^{0}(X_{2},\\wedge^{7}T_X)=31424$$"
      ],
      "text/plain": [
       "<IPython.core.display.Math object>"
      ]
     },
     "metadata": {},
     "output_type": "display_data"
    },
    {
     "data": {
      "text/latex": [
       "$$\\mathrm H^{0}(X_{2},\\wedge^{8}T_X)=L\\left( 5\\alpha_{1}+ 7\\alpha_{2}+ 9\\alpha_{3}\\right)$$"
      ],
      "text/plain": [
       "<IPython.core.display.Math object>"
      ]
     },
     "metadata": {},
     "output_type": "display_data"
    },
    {
     "data": {
      "text/latex": [
       "$$\\mathrm b^{0}(X_{2},\\wedge^{8}T_X)=9625$$"
      ],
      "text/plain": [
       "<IPython.core.display.Math object>"
      ]
     },
     "metadata": {},
     "output_type": "display_data"
    },
    {
     "name": "stdout",
     "output_type": "stream",
     "text": [
      "\n",
      "dim of u is 8 for root system B3 and subset (3,)\n"
     ]
    },
    {
     "data": {
      "application/vnd.jupyter.widget-view+json": {
       "model_id": "9207561eb1054143acfe357c578b4527",
       "version_major": 2,
       "version_minor": 0
      },
      "text/plain": [
       "HBox(children=(FloatProgress(value=0.0, max=9.0), HTML(value='')))"
      ]
     },
     "metadata": {},
     "output_type": "display_data"
    },
    {
     "data": {
      "application/vnd.jupyter.widget-view+json": {
       "model_id": "8cea99bc71ae4881b75baff0c10084d5",
       "version_major": 2,
       "version_minor": 0
      },
      "text/plain": [
       "HBox(children=(FloatProgress(value=1.0, bar_style='info', max=1.0), HTML(value='')))"
      ]
     },
     "metadata": {},
     "output_type": "display_data"
    },
    {
     "data": {
      "application/vnd.jupyter.widget-view+json": {
       "model_id": "ea2c02dd6f43472f8766058814dcaebd",
       "version_major": 2,
       "version_minor": 0
      },
      "text/plain": [
       "HBox(children=(FloatProgress(value=1.0, bar_style='info', max=1.0), HTML(value='')))"
      ]
     },
     "metadata": {},
     "output_type": "display_data"
    },
    {
     "data": {
      "text/latex": [
       "$$\\mathrm H^{0}(X_{3},\\wedge^{0}T_X)=\\mathbb{C}$$"
      ],
      "text/plain": [
       "<IPython.core.display.Math object>"
      ]
     },
     "metadata": {},
     "output_type": "display_data"
    },
    {
     "data": {
      "text/latex": [
       "$$\\mathrm b^{0}(X_{3},\\wedge^{0}T_X)=1$$"
      ],
      "text/plain": [
       "<IPython.core.display.Math object>"
      ]
     },
     "metadata": {},
     "output_type": "display_data"
    },
    {
     "name": "stdout",
     "output_type": "stream",
     "text": [
      "\n",
      "\n"
     ]
    },
    {
     "data": {
      "text/latex": [
       "$$\\mathrm H^{0}(X_{3},\\wedge^{1}T_X)=L\\left(\\alpha_{1}+ 2\\alpha_{2}+ 2\\alpha_{3}\\right)$$"
      ],
      "text/plain": [
       "<IPython.core.display.Math object>"
      ]
     },
     "metadata": {},
     "output_type": "display_data"
    },
    {
     "data": {
      "text/latex": [
       "$$\\mathrm b^{0}(X_{3},\\wedge^{1}T_X)=21$$"
      ],
      "text/plain": [
       "<IPython.core.display.Math object>"
      ]
     },
     "metadata": {},
     "output_type": "display_data"
    },
    {
     "data": {
      "text/latex": [
       "$$\\mathrm H^{0}(X_{3},\\wedge^{2}T_X)=L\\left(\\alpha_{1}+ 2\\alpha_{2}+ 2\\alpha_{3}\\right)\\oplus L\\left( 2\\alpha_{1}+ 3\\alpha_{2}+ 4\\alpha_{3}\\right)$$"
      ],
      "text/plain": [
       "<IPython.core.display.Math object>"
      ]
     },
     "metadata": {},
     "output_type": "display_data"
    },
    {
     "data": {
      "text/latex": [
       "$$\\mathrm b^{0}(X_{3},\\wedge^{2}T_X)=210$$"
      ],
      "text/plain": [
       "<IPython.core.display.Math object>"
      ]
     },
     "metadata": {},
     "output_type": "display_data"
    },
    {
     "data": {
      "text/latex": [
       "$$\\mathrm H^{0}(X_{3},\\wedge^{3}T_X)=L\\left( 2\\alpha_{1}+ 2\\alpha_{2}+ 2\\alpha_{3}\\right)\\oplus L\\left(\\alpha_{1}+ 2\\alpha_{2}+ 3\\alpha_{3}\\right)\\oplus L\\left( 2\\alpha_{1}+ 3\\alpha_{2}+ 4\\alpha_{3}\\right)\\oplus L\\left( 2\\alpha_{1}+ 4\\alpha_{2}+ 4\\alpha_{3}\\right)\\oplus L\\left( 3\\alpha_{1}+ 4\\alpha_{2}+ 5\\alpha_{3}\\right)\\oplus L\\left( 2\\alpha_{1}+ 4\\alpha_{2}+ 6\\alpha_{3}\\right)$$"
      ],
      "text/plain": [
       "<IPython.core.display.Math object>"
      ]
     },
     "metadata": {},
     "output_type": "display_data"
    },
    {
     "data": {
      "text/latex": [
       "$$\\mathrm b^{0}(X_{3},\\wedge^{3}T_X)=1329$$"
      ],
      "text/plain": [
       "<IPython.core.display.Math object>"
      ]
     },
     "metadata": {},
     "output_type": "display_data"
    },
    {
     "data": {
      "text/latex": [
       "$$\\mathrm H^{0}(X_{3},\\wedge^{4}T_X)=L\\left( 2\\alpha_{1}+ 3\\alpha_{2}+ 3\\alpha_{3}\\right)\\oplus L\\left( 3\\alpha_{1}+ 3\\alpha_{2}+ 3\\alpha_{3}\\right)\\oplus L\\left( 2\\alpha_{1}+ 3\\alpha_{2}+ 4\\alpha_{3}\\right)\\oplus L\\left( 2\\alpha_{1}+ 4\\alpha_{2}+ 4\\alpha_{3}\\right)\\oplus L\\left( 3\\alpha_{1}+ 4\\alpha_{2}+ 4\\alpha_{3}\\right)\\oplus L\\left( 2\\alpha_{1}+ 4\\alpha_{2}+ 5\\alpha_{3}\\right)\\oplus L\\left( 3\\alpha_{1}+ 4\\alpha_{2}+ 5\\alpha_{3}\\right)\\oplus L\\left( 2\\alpha_{1}+ 4\\alpha_{2}+ 6\\alpha_{3}\\right)\\oplus L\\left( 4\\alpha_{1}+ 5\\alpha_{2}+ 5\\alpha_{3}\\right)\\oplus L\\left( 3\\alpha_{1}+ 5\\alpha_{2}+ 6\\alpha_{3}\\right)\\oplus L\\left( 3\\alpha_{1}+ 5\\alpha_{2}+ 7\\alpha_{3}\\right)$$"
      ],
      "text/plain": [
       "<IPython.core.display.Math object>"
      ]
     },
     "metadata": {},
     "output_type": "display_data"
    },
    {
     "data": {
      "text/latex": [
       "$$\\mathrm b^{0}(X_{3},\\wedge^{4}T_X)=5979$$"
      ],
      "text/plain": [
       "<IPython.core.display.Math object>"
      ]
     },
     "metadata": {},
     "output_type": "display_data"
    },
    {
     "data": {
      "text/latex": [
       "$$\\mathrm H^{0}(X_{3},\\wedge^{5}T_X)=L\\left( 3\\alpha_{1}+ 4\\alpha_{2}+ 4\\alpha_{3}\\right)\\oplus L\\left( 2\\alpha_{1}+ 4\\alpha_{2}+ 5\\alpha_{3}\\right)\\oplus L\\left( 3\\alpha_{1}+ 4\\alpha_{2}+ 5\\alpha_{3}\\right)\\oplus L\\left( 3\\alpha_{1}+ 5\\alpha_{2}+ 5\\alpha_{3}\\right)\\oplus L\\left( 4\\alpha_{1}+ 5\\alpha_{2}+ 5\\alpha_{3}\\right)\\oplus L\\left( 3\\alpha_{1}+ 5\\alpha_{2}+ 6\\alpha_{3}\\right)^{2}\\oplus L\\left( 5\\alpha_{1}+ 5\\alpha_{2}+ 5\\alpha_{3}\\right)\\oplus L\\left( 4\\alpha_{1}+ 5\\alpha_{2}+ 6\\alpha_{3}\\right)\\oplus L\\left( 3\\alpha_{1}+ 6\\alpha_{2}+ 6\\alpha_{3}\\right)\\oplus L\\left( 3\\alpha_{1}+ 5\\alpha_{2}+ 7\\alpha_{3}\\right)\\oplus L\\left( 4\\alpha_{1}+ 6\\alpha_{2}+ 7\\alpha_{3}\\right)\\oplus L\\left( 3\\alpha_{1}+ 6\\alpha_{2}+ 8\\alpha_{3}\\right)$$"
      ],
      "text/plain": [
       "<IPython.core.display.Math object>"
      ]
     },
     "metadata": {},
     "output_type": "display_data"
    },
    {
     "data": {
      "text/latex": [
       "$$\\mathrm b^{0}(X_{3},\\wedge^{5}T_X)=17079$$"
      ],
      "text/plain": [
       "<IPython.core.display.Math object>"
      ]
     },
     "metadata": {},
     "output_type": "display_data"
    },
    {
     "data": {
      "text/latex": [
       "$$\\mathrm H^{0}(X_{3},\\wedge^{6}T_X)=L\\left( 3\\alpha_{1}+ 5\\alpha_{2}+ 6\\alpha_{3}\\right)\\oplus L\\left( 4\\alpha_{1}+ 5\\alpha_{2}+ 6\\alpha_{3}\\right)\\oplus L\\left( 3\\alpha_{1}+ 6\\alpha_{2}+ 6\\alpha_{3}\\right)\\oplus L\\left( 4\\alpha_{1}+ 6\\alpha_{2}+ 6\\alpha_{3}\\right)\\oplus L\\left( 3\\alpha_{1}+ 6\\alpha_{2}+ 7\\alpha_{3}\\right)\\oplus L\\left( 4\\alpha_{1}+ 6\\alpha_{2}+ 7\\alpha_{3}\\right)\\oplus L\\left( 5\\alpha_{1}+ 6\\alpha_{2}+ 7\\alpha_{3}\\right)\\oplus L\\left( 4\\alpha_{1}+ 6\\alpha_{2}+ 8\\alpha_{3}\\right)\\oplus L\\left( 4\\alpha_{1}+ 7\\alpha_{2}+ 8\\alpha_{3}\\right)$$"
      ],
      "text/plain": [
       "<IPython.core.display.Math object>"
      ]
     },
     "metadata": {},
     "output_type": "display_data"
    },
    {
     "data": {
      "text/latex": [
       "$$\\mathrm b^{0}(X_{3},\\wedge^{6}T_X)=27734$$"
      ],
      "text/plain": [
       "<IPython.core.display.Math object>"
      ]
     },
     "metadata": {},
     "output_type": "display_data"
    },
    {
     "data": {
      "text/latex": [
       "$$\\mathrm H^{0}(X_{3},\\wedge^{7}T_X)=L\\left( 4\\alpha_{1}+ 6\\alpha_{2}+ 6\\alpha_{3}\\right)\\oplus L\\left( 4\\alpha_{1}+ 7\\alpha_{2}+ 8\\alpha_{3}\\right)\\oplus L\\left( 5\\alpha_{1}+ 7\\alpha_{2}+ 8\\alpha_{3}\\right)\\oplus L\\left( 4\\alpha_{1}+ 8\\alpha_{2}+ 8\\alpha_{3}\\right)$$"
      ],
      "text/plain": [
       "<IPython.core.display.Math object>"
      ]
     },
     "metadata": {},
     "output_type": "display_data"
    },
    {
     "data": {
      "text/latex": [
       "$$\\mathrm b^{0}(X_{3},\\wedge^{7}T_X)=23031$$"
      ],
      "text/plain": [
       "<IPython.core.display.Math object>"
      ]
     },
     "metadata": {},
     "output_type": "display_data"
    },
    {
     "data": {
      "text/latex": [
       "$$\\mathrm H^{0}(X_{3},\\wedge^{8}T_X)=L\\left( 5\\alpha_{1}+ 8\\alpha_{2}+ 8\\alpha_{3}\\right)$$"
      ],
      "text/plain": [
       "<IPython.core.display.Math object>"
      ]
     },
     "metadata": {},
     "output_type": "display_data"
    },
    {
     "data": {
      "text/latex": [
       "$$\\mathrm b^{0}(X_{3},\\wedge^{8}T_X)=7560$$"
      ],
      "text/plain": [
       "<IPython.core.display.Math object>"
      ]
     },
     "metadata": {},
     "output_type": "display_data"
    },
    {
     "name": "stdout",
     "output_type": "stream",
     "text": [
      "\n",
      "dim of u is 6 for root system B3 and subset (1, 2)\n"
     ]
    },
    {
     "data": {
      "application/vnd.jupyter.widget-view+json": {
       "model_id": "b3c3a9f44e7a4499b5fff57120c1f5d6",
       "version_major": 2,
       "version_minor": 0
      },
      "text/plain": [
       "HBox(children=(FloatProgress(value=0.0, max=7.0), HTML(value='')))"
      ]
     },
     "metadata": {},
     "output_type": "display_data"
    },
    {
     "data": {
      "application/vnd.jupyter.widget-view+json": {
       "model_id": "327cf08723624e33aac13785f1587250",
       "version_major": 2,
       "version_minor": 0
      },
      "text/plain": [
       "HBox(children=(FloatProgress(value=1.0, bar_style='info', max=1.0), HTML(value='')))"
      ]
     },
     "metadata": {},
     "output_type": "display_data"
    },
    {
     "data": {
      "application/vnd.jupyter.widget-view+json": {
       "model_id": "809d4c8c19074052bb0d01a61612e904",
       "version_major": 2,
       "version_minor": 0
      },
      "text/plain": [
       "HBox(children=(FloatProgress(value=1.0, bar_style='info', max=1.0), HTML(value='')))"
      ]
     },
     "metadata": {},
     "output_type": "display_data"
    },
    {
     "data": {
      "text/latex": [
       "$$\\mathrm H^{0}(X_{12},\\wedge^{0}T_X)=\\mathbb{C}$$"
      ],
      "text/plain": [
       "<IPython.core.display.Math object>"
      ]
     },
     "metadata": {},
     "output_type": "display_data"
    },
    {
     "data": {
      "text/latex": [
       "$$\\mathrm b^{0}(X_{12},\\wedge^{0}T_X)=1$$"
      ],
      "text/plain": [
       "<IPython.core.display.Math object>"
      ]
     },
     "metadata": {},
     "output_type": "display_data"
    },
    {
     "data": {
      "text/latex": [
       "$$\\mathrm H^{0}(X_{12},\\wedge^{1}T_X)=L\\left(\\alpha_{1}+\\alpha_{2}+\\alpha_{3}\\right)\\oplus L\\left(\\alpha_{1}+ 2\\alpha_{2}+ 2\\alpha_{3}\\right)$$"
      ],
      "text/plain": [
       "<IPython.core.display.Math object>"
      ]
     },
     "metadata": {},
     "output_type": "display_data"
    },
    {
     "data": {
      "text/latex": [
       "$$\\mathrm b^{0}(X_{12},\\wedge^{1}T_X)=28$$"
      ],
      "text/plain": [
       "<IPython.core.display.Math object>"
      ]
     },
     "metadata": {},
     "output_type": "display_data"
    },
    {
     "data": {
      "text/latex": [
       "$$\\mathrm H^{0}(X_{12},\\wedge^{2}T_X)=L\\left(\\alpha_{1}+ 2\\alpha_{2}+ 2\\alpha_{3}\\right)\\oplus L\\left(\\alpha_{1}+ 2\\alpha_{2}+ 3\\alpha_{3}\\right)\\oplus L\\left( 2\\alpha_{1}+ 3\\alpha_{2}+ 3\\alpha_{3}\\right)\\oplus L\\left( 2\\alpha_{1}+ 3\\alpha_{2}+ 4\\alpha_{3}\\right)$$"
      ],
      "text/plain": [
       "<IPython.core.display.Math object>"
      ]
     },
     "metadata": {},
     "output_type": "display_data"
    },
    {
     "data": {
      "text/latex": [
       "$$\\mathrm b^{0}(X_{12},\\wedge^{2}T_X)=350$$"
      ],
      "text/plain": [
       "<IPython.core.display.Math object>"
      ]
     },
     "metadata": {},
     "output_type": "display_data"
    },
    {
     "data": {
      "text/latex": [
       "$$\\mathrm H^{0}(X_{12},\\wedge^{3}T_X)=L\\left(\\alpha_{1}+ 2\\alpha_{2}+ 3\\alpha_{3}\\right)\\oplus L\\left( 2\\alpha_{1}+ 3\\alpha_{2}+ 4\\alpha_{3}\\right)\\oplus L\\left( 2\\alpha_{1}+ 4\\alpha_{2}+ 4\\alpha_{3}\\right)\\oplus L\\left( 2\\alpha_{1}+ 4\\alpha_{2}+ 5\\alpha_{3}\\right)\\oplus L\\left( 3\\alpha_{1}+ 4\\alpha_{2}+ 5\\alpha_{3}\\right)\\oplus L\\left( 2\\alpha_{1}+ 4\\alpha_{2}+ 6\\alpha_{3}\\right)$$"
      ],
      "text/plain": [
       "<IPython.core.display.Math object>"
      ]
     },
     "metadata": {},
     "output_type": "display_data"
    },
    {
     "data": {
      "text/latex": [
       "$$\\mathrm b^{0}(X_{12},\\wedge^{3}T_X)=1680$$"
      ],
      "text/plain": [
       "<IPython.core.display.Math object>"
      ]
     },
     "metadata": {},
     "output_type": "display_data"
    },
    {
     "data": {
      "text/latex": [
       "$$\\mathrm H^{0}(X_{12},\\wedge^{4}T_X)=L\\left( 2\\alpha_{1}+ 4\\alpha_{2}+ 5\\alpha_{3}\\right)\\oplus L\\left( 2\\alpha_{1}+ 4\\alpha_{2}+ 6\\alpha_{3}\\right)\\oplus L\\left( 3\\alpha_{1}+ 5\\alpha_{2}+ 6\\alpha_{3}\\right)\\oplus L\\left( 3\\alpha_{1}+ 5\\alpha_{2}+ 7\\alpha_{3}\\right)$$"
      ],
      "text/plain": [
       "<IPython.core.display.Math object>"
      ]
     },
     "metadata": {},
     "output_type": "display_data"
    },
    {
     "data": {
      "text/latex": [
       "$$\\mathrm b^{0}(X_{12},\\wedge^{4}T_X)=3675$$"
      ],
      "text/plain": [
       "<IPython.core.display.Math object>"
      ]
     },
     "metadata": {},
     "output_type": "display_data"
    },
    {
     "data": {
      "text/latex": [
       "$$\\mathrm H^{0}(X_{12},\\wedge^{5}T_X)=L\\left( 3\\alpha_{1}+ 5\\alpha_{2}+ 7\\alpha_{3}\\right)\\oplus L\\left( 3\\alpha_{1}+ 6\\alpha_{2}+ 8\\alpha_{3}\\right)$$"
      ],
      "text/plain": [
       "<IPython.core.display.Math object>"
      ]
     },
     "metadata": {},
     "output_type": "display_data"
    },
    {
     "data": {
      "text/latex": [
       "$$\\mathrm b^{0}(X_{12},\\wedge^{5}T_X)=3696$$"
      ],
      "text/plain": [
       "<IPython.core.display.Math object>"
      ]
     },
     "metadata": {},
     "output_type": "display_data"
    },
    {
     "data": {
      "text/latex": [
       "$$\\mathrm H^{0}(X_{12},\\wedge^{6}T_X)=L\\left( 3\\alpha_{1}+ 6\\alpha_{2}+ 9\\alpha_{3}\\right)$$"
      ],
      "text/plain": [
       "<IPython.core.display.Math object>"
      ]
     },
     "metadata": {},
     "output_type": "display_data"
    },
    {
     "data": {
      "text/latex": [
       "$$\\mathrm b^{0}(X_{12},\\wedge^{6}T_X)=1386$$"
      ],
      "text/plain": [
       "<IPython.core.display.Math object>"
      ]
     },
     "metadata": {},
     "output_type": "display_data"
    },
    {
     "name": "stdout",
     "output_type": "stream",
     "text": [
      "\n",
      "dim of u is 7 for root system B3 and subset (1, 3)\n"
     ]
    },
    {
     "data": {
      "application/vnd.jupyter.widget-view+json": {
       "model_id": "1b4e3d5da86f4777b0d5e520c10d0d53",
       "version_major": 2,
       "version_minor": 0
      },
      "text/plain": [
       "HBox(children=(FloatProgress(value=0.0, max=8.0), HTML(value='')))"
      ]
     },
     "metadata": {},
     "output_type": "display_data"
    },
    {
     "data": {
      "application/vnd.jupyter.widget-view+json": {
       "model_id": "8817905109ba4f5783c39151ed269707",
       "version_major": 2,
       "version_minor": 0
      },
      "text/plain": [
       "HBox(children=(FloatProgress(value=1.0, bar_style='info', max=1.0), HTML(value='')))"
      ]
     },
     "metadata": {},
     "output_type": "display_data"
    },
    {
     "data": {
      "application/vnd.jupyter.widget-view+json": {
       "model_id": "cd3fa84e327c4b5a8f6ded68c1f758f0",
       "version_major": 2,
       "version_minor": 0
      },
      "text/plain": [
       "HBox(children=(FloatProgress(value=1.0, bar_style='info', max=1.0), HTML(value='')))"
      ]
     },
     "metadata": {},
     "output_type": "display_data"
    },
    {
     "data": {
      "text/latex": [
       "$$\\mathrm H^{0}(X_{13},\\wedge^{0}T_X)=\\mathbb{C}$$"
      ],
      "text/plain": [
       "<IPython.core.display.Math object>"
      ]
     },
     "metadata": {},
     "output_type": "display_data"
    },
    {
     "data": {
      "text/latex": [
       "$$\\mathrm b^{0}(X_{13},\\wedge^{0}T_X)=1$$"
      ],
      "text/plain": [
       "<IPython.core.display.Math object>"
      ]
     },
     "metadata": {},
     "output_type": "display_data"
    },
    {
     "name": "stdout",
     "output_type": "stream",
     "text": [
      "\n",
      "\n"
     ]
    },
    {
     "data": {
      "text/latex": [
       "$$\\mathrm H^{0}(X_{13},\\wedge^{1}T_X)=L\\left(\\alpha_{1}+ 2\\alpha_{2}+ 2\\alpha_{3}\\right)$$"
      ],
      "text/plain": [
       "<IPython.core.display.Math object>"
      ]
     },
     "metadata": {},
     "output_type": "display_data"
    },
    {
     "data": {
      "text/latex": [
       "$$\\mathrm b^{0}(X_{13},\\wedge^{1}T_X)=21$$"
      ],
      "text/plain": [
       "<IPython.core.display.Math object>"
      ]
     },
     "metadata": {},
     "output_type": "display_data"
    },
    {
     "data": {
      "text/latex": [
       "$$\\mathrm H^{0}(X_{13},\\wedge^{2}T_X)=L\\left(\\alpha_{1}+ 2\\alpha_{2}+ 2\\alpha_{3}\\right)\\oplus L\\left( 2\\alpha_{1}+ 3\\alpha_{2}+ 4\\alpha_{3}\\right)$$"
      ],
      "text/plain": [
       "<IPython.core.display.Math object>"
      ]
     },
     "metadata": {},
     "output_type": "display_data"
    },
    {
     "data": {
      "text/latex": [
       "$$\\mathrm b^{0}(X_{13},\\wedge^{2}T_X)=210$$"
      ],
      "text/plain": [
       "<IPython.core.display.Math object>"
      ]
     },
     "metadata": {},
     "output_type": "display_data"
    },
    {
     "data": {
      "text/latex": [
       "$$\\mathrm H^{0}(X_{13},\\wedge^{3}T_X)=L\\left( 3\\alpha_{1}+ 3\\alpha_{2}+ 3\\alpha_{3}\\right)\\oplus L\\left( 2\\alpha_{1}+ 3\\alpha_{2}+ 4\\alpha_{3}\\right)\\oplus L\\left( 2\\alpha_{1}+ 4\\alpha_{2}+ 4\\alpha_{3}\\right)\\oplus L\\left( 3\\alpha_{1}+ 4\\alpha_{2}+ 5\\alpha_{3}\\right)\\oplus L\\left( 2\\alpha_{1}+ 4\\alpha_{2}+ 6\\alpha_{3}\\right)$$"
      ],
      "text/plain": [
       "<IPython.core.display.Math object>"
      ]
     },
     "metadata": {},
     "output_type": "display_data"
    },
    {
     "data": {
      "text/latex": [
       "$$\\mathrm b^{0}(X_{13},\\wedge^{3}T_X)=1344$$"
      ],
      "text/plain": [
       "<IPython.core.display.Math object>"
      ]
     },
     "metadata": {},
     "output_type": "display_data"
    },
    {
     "data": {
      "text/latex": [
       "$$\\mathrm H^{0}(X_{13},\\wedge^{4}T_X)=L\\left( 2\\alpha_{1}+ 4\\alpha_{2}+ 4\\alpha_{3}\\right)\\oplus L\\left( 3\\alpha_{1}+ 4\\alpha_{2}+ 5\\alpha_{3}\\right)\\oplus L\\left( 2\\alpha_{1}+ 4\\alpha_{2}+ 6\\alpha_{3}\\right)\\oplus L\\left( 4\\alpha_{1}+ 5\\alpha_{2}+ 5\\alpha_{3}\\right)\\oplus L\\left( 3\\alpha_{1}+ 5\\alpha_{2}+ 6\\alpha_{3}\\right)\\oplus L\\left( 3\\alpha_{1}+ 5\\alpha_{2}+ 7\\alpha_{3}\\right)$$"
      ],
      "text/plain": [
       "<IPython.core.display.Math object>"
      ]
     },
     "metadata": {},
     "output_type": "display_data"
    },
    {
     "data": {
      "text/latex": [
       "$$\\mathrm b^{0}(X_{13},\\wedge^{4}T_X)=4900$$"
      ],
      "text/plain": [
       "<IPython.core.display.Math object>"
      ]
     },
     "metadata": {},
     "output_type": "display_data"
    },
    {
     "data": {
      "text/latex": [
       "$$\\mathrm H^{0}(X_{13},\\wedge^{5}T_X)=L\\left( 3\\alpha_{1}+ 5\\alpha_{2}+ 6\\alpha_{3}\\right)\\oplus L\\left( 3\\alpha_{1}+ 6\\alpha_{2}+ 6\\alpha_{3}\\right)\\oplus L\\left( 4\\alpha_{1}+ 6\\alpha_{2}+ 7\\alpha_{3}\\right)\\oplus L\\left( 3\\alpha_{1}+ 6\\alpha_{2}+ 8\\alpha_{3}\\right)$$"
      ],
      "text/plain": [
       "<IPython.core.display.Math object>"
      ]
     },
     "metadata": {},
     "output_type": "display_data"
    },
    {
     "data": {
      "text/latex": [
       "$$\\mathrm b^{0}(X_{13},\\wedge^{5}T_X)=9302$$"
      ],
      "text/plain": [
       "<IPython.core.display.Math object>"
      ]
     },
     "metadata": {},
     "output_type": "display_data"
    },
    {
     "data": {
      "text/latex": [
       "$$\\mathrm H^{0}(X_{13},\\wedge^{6}T_X)=L\\left( 3\\alpha_{1}+ 6\\alpha_{2}+ 6\\alpha_{3}\\right)\\oplus L\\left( 4\\alpha_{1}+ 7\\alpha_{2}+ 8\\alpha_{3}\\right)$$"
      ],
      "text/plain": [
       "<IPython.core.display.Math object>"
      ]
     },
     "metadata": {},
     "output_type": "display_data"
    },
    {
     "data": {
      "text/latex": [
       "$$\\mathrm b^{0}(X_{13},\\wedge^{6}T_X)=8547$$"
      ],
      "text/plain": [
       "<IPython.core.display.Math object>"
      ]
     },
     "metadata": {},
     "output_type": "display_data"
    },
    {
     "data": {
      "text/latex": [
       "$$\\mathrm H^{0}(X_{13},\\wedge^{7}T_X)=L\\left( 4\\alpha_{1}+ 8\\alpha_{2}+ 8\\alpha_{3}\\right)$$"
      ],
      "text/plain": [
       "<IPython.core.display.Math object>"
      ]
     },
     "metadata": {},
     "output_type": "display_data"
    },
    {
     "data": {
      "text/latex": [
       "$$\\mathrm b^{0}(X_{13},\\wedge^{7}T_X)=3003$$"
      ],
      "text/plain": [
       "<IPython.core.display.Math object>"
      ]
     },
     "metadata": {},
     "output_type": "display_data"
    },
    {
     "name": "stdout",
     "output_type": "stream",
     "text": [
      "\n",
      "dim of u is 5 for root system B3 and subset (2, 3)\n"
     ]
    },
    {
     "data": {
      "application/vnd.jupyter.widget-view+json": {
       "model_id": "ed1981150583486ca0834c9233f03384",
       "version_major": 2,
       "version_minor": 0
      },
      "text/plain": [
       "HBox(children=(FloatProgress(value=0.0, max=6.0), HTML(value='')))"
      ]
     },
     "metadata": {},
     "output_type": "display_data"
    },
    {
     "data": {
      "application/vnd.jupyter.widget-view+json": {
       "model_id": "c7c1c0fa864a4b9b861f0af57307cd4b",
       "version_major": 2,
       "version_minor": 0
      },
      "text/plain": [
       "HBox(children=(FloatProgress(value=1.0, bar_style='info', max=1.0), HTML(value='')))"
      ]
     },
     "metadata": {},
     "output_type": "display_data"
    },
    {
     "data": {
      "application/vnd.jupyter.widget-view+json": {
       "model_id": "5398d385167c41278a9778904060791c",
       "version_major": 2,
       "version_minor": 0
      },
      "text/plain": [
       "HBox(children=(FloatProgress(value=1.0, bar_style='info', max=1.0), HTML(value='')))"
      ]
     },
     "metadata": {},
     "output_type": "display_data"
    },
    {
     "data": {
      "text/latex": [
       "$$\\mathrm H^{0}(X_{23},\\wedge^{0}T_X)=\\mathbb{C}$$"
      ],
      "text/plain": [
       "<IPython.core.display.Math object>"
      ]
     },
     "metadata": {},
     "output_type": "display_data"
    },
    {
     "data": {
      "text/latex": [
       "$$\\mathrm b^{0}(X_{23},\\wedge^{0}T_X)=1$$"
      ],
      "text/plain": [
       "<IPython.core.display.Math object>"
      ]
     },
     "metadata": {},
     "output_type": "display_data"
    },
    {
     "data": {
      "text/latex": [
       "$$\\mathrm H^{0}(X_{23},\\wedge^{1}T_X)=L\\left(\\alpha_{1}+ 2\\alpha_{2}+ 2\\alpha_{3}\\right)$$"
      ],
      "text/plain": [
       "<IPython.core.display.Math object>"
      ]
     },
     "metadata": {},
     "output_type": "display_data"
    },
    {
     "data": {
      "text/latex": [
       "$$\\mathrm b^{0}(X_{23},\\wedge^{1}T_X)=21$$"
      ],
      "text/plain": [
       "<IPython.core.display.Math object>"
      ]
     },
     "metadata": {},
     "output_type": "display_data"
    },
    {
     "data": {
      "text/latex": [
       "$$\\mathrm H^{0}(X_{23},\\wedge^{2}T_X)=L\\left( 2\\alpha_{1}+ 3\\alpha_{2}+ 4\\alpha_{3}\\right)$$"
      ],
      "text/plain": [
       "<IPython.core.display.Math object>"
      ]
     },
     "metadata": {},
     "output_type": "display_data"
    },
    {
     "data": {
      "text/latex": [
       "$$\\mathrm b^{0}(X_{23},\\wedge^{2}T_X)=189$$"
      ],
      "text/plain": [
       "<IPython.core.display.Math object>"
      ]
     },
     "metadata": {},
     "output_type": "display_data"
    },
    {
     "data": {
      "text/latex": [
       "$$\\mathrm H^{0}(X_{23},\\wedge^{3}T_X)=L\\left( 3\\alpha_{1}+ 4\\alpha_{2}+ 5\\alpha_{3}\\right)$$"
      ],
      "text/plain": [
       "<IPython.core.display.Math object>"
      ]
     },
     "metadata": {},
     "output_type": "display_data"
    },
    {
     "data": {
      "text/latex": [
       "$$\\mathrm b^{0}(X_{23},\\wedge^{3}T_X)=616$$"
      ],
      "text/plain": [
       "<IPython.core.display.Math object>"
      ]
     },
     "metadata": {},
     "output_type": "display_data"
    },
    {
     "data": {
      "text/latex": [
       "$$\\mathrm H^{0}(X_{23},\\wedge^{4}T_X)=L\\left( 4\\alpha_{1}+ 5\\alpha_{2}+ 5\\alpha_{3}\\right)$$"
      ],
      "text/plain": [
       "<IPython.core.display.Math object>"
      ]
     },
     "metadata": {},
     "output_type": "display_data"
    },
    {
     "data": {
      "text/latex": [
       "$$\\mathrm b^{0}(X_{23},\\wedge^{4}T_X)=819$$"
      ],
      "text/plain": [
       "<IPython.core.display.Math object>"
      ]
     },
     "metadata": {},
     "output_type": "display_data"
    },
    {
     "data": {
      "text/latex": [
       "$$\\mathrm H^{0}(X_{23},\\wedge^{5}T_X)=L\\left( 5\\alpha_{1}+ 5\\alpha_{2}+ 5\\alpha_{3}\\right)$$"
      ],
      "text/plain": [
       "<IPython.core.display.Math object>"
      ]
     },
     "metadata": {},
     "output_type": "display_data"
    },
    {
     "data": {
      "text/latex": [
       "$$\\mathrm b^{0}(X_{23},\\wedge^{5}T_X)=378$$"
      ],
      "text/plain": [
       "<IPython.core.display.Math object>"
      ]
     },
     "metadata": {},
     "output_type": "display_data"
    },
    {
     "name": "stdout",
     "output_type": "stream",
     "text": [
      "\n"
     ]
    }
   ],
   "source": [
    "from itertools import combinations, chain\n",
    "roots = [1,2,3]\n",
    "subsets = list(chain.from_iterable(combinations(roots,i) for i in range(len(roots))))\n",
    "d = 'B3'\n",
    "BGG = BGGComplex(d)\n",
    "for subset in subsets:\n",
    "    factory = FastModuleFactory(BGG.LA)\n",
    "    component_dic = {'u':factory.build_component('u','coad',subset=subset)}\n",
    "    u_dim = len(component_dic['u'].basis)\n",
    "    print('dim of u is %d for root system %s and subset %s' % (u_dim, d, subset))\n",
    "    pbar1 = tqdm(range(u_dim+1))\n",
    "    pbar2 = tqdm()\n",
    "    pbar3 = tqdm()\n",
    "    for k in pbar1:\n",
    "        components = [[('u',k,'wedge')]]\n",
    "        module = FastLieAlgebraCompositeModule(factory,components,component_dic)\n",
    "\n",
    "        cohom = BGGCohomology(BGG, module,pbars=[pbar2,pbar3])\n",
    "        subset_string = ''.join(str(s) for s in subset)\n",
    "        cohom.cohomology_LaTeX(complex_string=r'X_{'+subset_string+r'},\\wedge^{'+str(k)+'}T_X',print_betti=True)"
   ]
  },
  {
   "cell_type": "markdown",
   "metadata": {},
   "source": [
    "## C3 Parabolic"
   ]
  },
  {
   "cell_type": "code",
   "execution_count": null,
   "metadata": {},
   "outputs": [
    {
     "name": "stdout",
     "output_type": "stream",
     "text": [
      "dim of u is 9 for root system C3 and subset ()\n"
     ]
    },
    {
     "data": {
      "application/vnd.jupyter.widget-view+json": {
       "model_id": "1aa5ad0b42824bf9b2e4e32386d3365c",
       "version_major": 2,
       "version_minor": 0
      },
      "text/plain": [
       "HBox(children=(FloatProgress(value=0.0, max=10.0), HTML(value='')))"
      ]
     },
     "metadata": {},
     "output_type": "display_data"
    },
    {
     "data": {
      "application/vnd.jupyter.widget-view+json": {
       "model_id": "3298ab0fd8f444ccb37969e102fb9fb0",
       "version_major": 2,
       "version_minor": 0
      },
      "text/plain": [
       "HBox(children=(FloatProgress(value=1.0, bar_style='info', max=1.0), HTML(value='')))"
      ]
     },
     "metadata": {},
     "output_type": "display_data"
    },
    {
     "data": {
      "application/vnd.jupyter.widget-view+json": {
       "model_id": "463504a1563b4f3697cd10398bef8d12",
       "version_major": 2,
       "version_minor": 0
      },
      "text/plain": [
       "HBox(children=(FloatProgress(value=1.0, bar_style='info', max=1.0), HTML(value='')))"
      ]
     },
     "metadata": {},
     "output_type": "display_data"
    },
    {
     "data": {
      "text/latex": [
       "$$\\mathrm H^{0}(X_{},\\wedge^{0}T_X)=\\mathbb{C}$$"
      ],
      "text/plain": [
       "<IPython.core.display.Math object>"
      ]
     },
     "metadata": {},
     "output_type": "display_data"
    },
    {
     "data": {
      "text/latex": [
       "$$\\mathrm b^{0}(X_{},\\wedge^{0}T_X)=1$$"
      ],
      "text/plain": [
       "<IPython.core.display.Math object>"
      ]
     },
     "metadata": {},
     "output_type": "display_data"
    },
    {
     "data": {
      "text/latex": [
       "$$\\mathrm H^{0}(X_{},\\wedge^{1}T_X)=L\\left( 2\\alpha_{1}+ 2\\alpha_{2}+\\alpha_{3}\\right)$$"
      ],
      "text/plain": [
       "<IPython.core.display.Math object>"
      ]
     },
     "metadata": {},
     "output_type": "display_data"
    },
    {
     "data": {
      "text/latex": [
       "$$\\mathrm b^{0}(X_{},\\wedge^{1}T_X)=21$$"
      ],
      "text/plain": [
       "<IPython.core.display.Math object>"
      ]
     },
     "metadata": {},
     "output_type": "display_data"
    },
    {
     "data": {
      "text/latex": [
       "$$\\mathrm H^{0}(X_{},\\wedge^{2}T_X)=L\\left( 2\\alpha_{1}+ 2\\alpha_{2}+\\alpha_{3}\\right)\\oplus L\\left( 3\\alpha_{1}+ 4\\alpha_{2}+ 2\\alpha_{3}\\right)$$"
      ],
      "text/plain": [
       "<IPython.core.display.Math object>"
      ]
     },
     "metadata": {},
     "output_type": "display_data"
    },
    {
     "data": {
      "text/latex": [
       "$$\\mathrm b^{0}(X_{},\\wedge^{2}T_X)=210$$"
      ],
      "text/plain": [
       "<IPython.core.display.Math object>"
      ]
     },
     "metadata": {},
     "output_type": "display_data"
    },
    {
     "name": "stdout",
     "output_type": "stream",
     "text": [
      "\n",
      "\n",
      "\n",
      "\n"
     ]
    },
    {
     "data": {
      "text/latex": [
       "$$\\mathrm H^{0}(X_{},\\wedge^{3}T_X)=L\\left(\\alpha_{1}+ 2\\alpha_{2}+\\alpha_{3}\\right)^{2}\\oplus L\\left( 2\\alpha_{1}+ 3\\alpha_{2}+ 2\\alpha_{3}\\right)\\oplus L\\left( 2\\alpha_{1}+ 4\\alpha_{2}+ 2\\alpha_{3}\\right)\\oplus L\\left( 3\\alpha_{1}+ 4\\alpha_{2}+ 2\\alpha_{3}\\right)\\oplus L\\left( 4\\alpha_{1}+ 4\\alpha_{2}+ 2\\alpha_{3}\\right)\\oplus L\\left( 4\\alpha_{1}+ 5\\alpha_{2}+ 3\\alpha_{3}\\right)\\oplus L\\left( 3\\alpha_{1}+ 6\\alpha_{2}+ 3\\alpha_{3}\\right)$$"
      ],
      "text/plain": [
       "<IPython.core.display.Math object>"
      ]
     },
     "metadata": {},
     "output_type": "display_data"
    },
    {
     "data": {
      "text/latex": [
       "$$\\mathrm b^{0}(X_{},\\wedge^{3}T_X)=1413$$"
      ],
      "text/plain": [
       "<IPython.core.display.Math object>"
      ]
     },
     "metadata": {},
     "output_type": "display_data"
    }
   ],
   "source": [
    "from itertools import combinations, chain\n",
    "roots = [1,2,3]\n",
    "subsets = list(chain.from_iterable(combinations(roots,i) for i in range(len(roots))))\n",
    "d = 'C3'\n",
    "BGG = BGGComplex(d)\n",
    "for subset in subsets:\n",
    "    factory = FastModuleFactory(BGG.LA)\n",
    "    component_dic = {'u':factory.build_component('u','coad',subset=subset)}\n",
    "    u_dim = len(component_dic['u'].basis)\n",
    "    print('dim of u is %d for root system %s and subset %s' % (u_dim, d, subset))\n",
    "    pbar1 = tqdm(range(u_dim+1))\n",
    "    pbar2 = tqdm()\n",
    "    pbar3 = tqdm()\n",
    "    for k in pbar1:\n",
    "        components = [[('u',k,'wedge')]]\n",
    "        module = FastLieAlgebraCompositeModule(factory,components,component_dic)\n",
    "\n",
    "        cohom = BGGCohomology(BGG, module,pbars=[pbar2,pbar3])\n",
    "        subset_string = ''.join(str(s) for s in subset)\n",
    "        cohom.cohomology_LaTeX(complex_string=r'X_{'+subset_string+r'},\\wedge^{'+str(k)+'}T_X',print_betti=True)"
   ]
  },
  {
   "cell_type": "markdown",
   "metadata": {},
   "source": [
    "# B4 parabolic, degree 1"
   ]
  },
  {
   "cell_type": "code",
   "execution_count": null,
   "metadata": {
    "scrolled": true
   },
   "outputs": [
    {
     "name": "stdout",
     "output_type": "stream",
     "text": [
      "dim of u is 7 for root system B4 and subset (2, 3, 4)\n"
     ]
    },
    {
     "data": {
      "application/vnd.jupyter.widget-view+json": {
       "model_id": "172bccbc35cb45918c086f826dc90a12",
       "version_major": 2,
       "version_minor": 0
      },
      "text/plain": [
       "HBox(children=(FloatProgress(value=0.0, max=8.0), HTML(value='')))"
      ]
     },
     "metadata": {},
     "output_type": "display_data"
    },
    {
     "data": {
      "application/vnd.jupyter.widget-view+json": {
       "model_id": "32b884c8ffa04403956a5155298d6994",
       "version_major": 2,
       "version_minor": 0
      },
      "text/plain": [
       "HBox(children=(FloatProgress(value=1.0, bar_style='info', max=1.0), HTML(value='')))"
      ]
     },
     "metadata": {},
     "output_type": "display_data"
    },
    {
     "name": "stdout",
     "output_type": "stream",
     "text": [
      "\n",
      "\n",
      "dim of u is 11 for root system B4 and subset (1, 3, 4)\n"
     ]
    },
    {
     "data": {
      "application/vnd.jupyter.widget-view+json": {
       "model_id": "af3a44dbc9f649deaa41c8f18d4ef5dd",
       "version_major": 2,
       "version_minor": 0
      },
      "text/plain": [
       "HBox(children=(FloatProgress(value=0.0, max=12.0), HTML(value='')))"
      ]
     },
     "metadata": {},
     "output_type": "display_data"
    },
    {
     "data": {
      "application/vnd.jupyter.widget-view+json": {
       "model_id": "2583740936a64478a53e791b20911a18",
       "version_major": 2,
       "version_minor": 0
      },
      "text/plain": [
       "HBox(children=(FloatProgress(value=1.0, bar_style='info', max=1.0), HTML(value='')))"
      ]
     },
     "metadata": {},
     "output_type": "display_data"
    },
    {
     "name": "stdout",
     "output_type": "stream",
     "text": [
      "\n",
      "\n",
      "dim of u is 12 for root system B4 and subset (1, 2, 4)\n"
     ]
    },
    {
     "data": {
      "application/vnd.jupyter.widget-view+json": {
       "model_id": "0c94f73e319842f4bda007c2628959bc",
       "version_major": 2,
       "version_minor": 0
      },
      "text/plain": [
       "HBox(children=(FloatProgress(value=0.0, max=13.0), HTML(value='')))"
      ]
     },
     "metadata": {},
     "output_type": "display_data"
    },
    {
     "data": {
      "application/vnd.jupyter.widget-view+json": {
       "model_id": "e3df76614e4647fab74bff64762bdbc0",
       "version_major": 2,
       "version_minor": 0
      },
      "text/plain": [
       "HBox(children=(FloatProgress(value=1.0, bar_style='info', max=1.0), HTML(value='')))"
      ]
     },
     "metadata": {},
     "output_type": "display_data"
    },
    {
     "name": "stdout",
     "output_type": "stream",
     "text": [
      "\n",
      "\n",
      "dim of u is 10 for root system B4 and subset (1, 2, 3)\n"
     ]
    },
    {
     "data": {
      "application/vnd.jupyter.widget-view+json": {
       "model_id": "8ef5f2e5c7f94dafa48899a8ddc0c097",
       "version_major": 2,
       "version_minor": 0
      },
      "text/plain": [
       "HBox(children=(FloatProgress(value=0.0, max=11.0), HTML(value='')))"
      ]
     },
     "metadata": {},
     "output_type": "display_data"
    },
    {
     "data": {
      "application/vnd.jupyter.widget-view+json": {
       "model_id": "a8ee6155967d462881e42088d98ef0a2",
       "version_major": 2,
       "version_minor": 0
      },
      "text/plain": [
       "HBox(children=(FloatProgress(value=1.0, bar_style='info', max=1.0), HTML(value='')))"
      ]
     },
     "metadata": {},
     "output_type": "display_data"
    },
    {
     "name": "stdout",
     "output_type": "stream",
     "text": [
      "\n",
      "\n",
      "dim of u is 12 for root system B4 and subset (3, 4)\n"
     ]
    },
    {
     "data": {
      "application/vnd.jupyter.widget-view+json": {
       "model_id": "8d9811d085614446b6a0358932899bee",
       "version_major": 2,
       "version_minor": 0
      },
      "text/plain": [
       "HBox(children=(FloatProgress(value=0.0, max=13.0), HTML(value='')))"
      ]
     },
     "metadata": {},
     "output_type": "display_data"
    },
    {
     "data": {
      "application/vnd.jupyter.widget-view+json": {
       "model_id": "6fbfce77037749b3a3c5ccd93e6fe98e",
       "version_major": 2,
       "version_minor": 0
      },
      "text/plain": [
       "HBox(children=(FloatProgress(value=1.0, bar_style='info', max=1.0), HTML(value='')))"
      ]
     },
     "metadata": {},
     "output_type": "display_data"
    },
    {
     "name": "stdout",
     "output_type": "stream",
     "text": [
      "\n",
      "\n",
      "dim of u is 14 for root system B4 and subset (2, 4)\n"
     ]
    },
    {
     "data": {
      "application/vnd.jupyter.widget-view+json": {
       "model_id": "9739bbd9e45e47a8851b3c5f46f02f3c",
       "version_major": 2,
       "version_minor": 0
      },
      "text/plain": [
       "HBox(children=(FloatProgress(value=0.0, max=15.0), HTML(value='')))"
      ]
     },
     "metadata": {},
     "output_type": "display_data"
    },
    {
     "data": {
      "application/vnd.jupyter.widget-view+json": {
       "model_id": "775de67a4fd54c579c7e734f180fdd08",
       "version_major": 2,
       "version_minor": 0
      },
      "text/plain": [
       "HBox(children=(FloatProgress(value=1.0, bar_style='info', max=1.0), HTML(value='')))"
      ]
     },
     "metadata": {},
     "output_type": "display_data"
    },
    {
     "data": {
      "text/latex": [
       "$$\\mathrm H^{1}(X_{24},\\wedge^{3}T_X)=L\\left( 2\\alpha_{1}+ 3\\alpha_{2}+ 3\\alpha_{3}+ 3\\alpha_{4}\\right)$$"
      ],
      "text/plain": [
       "<IPython.core.display.Math object>"
      ]
     },
     "metadata": {},
     "output_type": "display_data"
    },
    {
     "data": {
      "text/latex": [
       "$$\\mathrm b^{1}(X_{24},\\wedge^{3}T_X)=231$$"
      ],
      "text/plain": [
       "<IPython.core.display.Math object>"
      ]
     },
     "metadata": {},
     "output_type": "display_data"
    },
    {
     "data": {
      "text/latex": [
       "$$\\mathrm H^{1}(X_{24},\\wedge^{4}T_X)=L\\left( 2\\alpha_{1}+ 4\\alpha_{2}+ 5\\alpha_{3}+ 5\\alpha_{4}\\right)\\oplus L\\left( 3\\alpha_{1}+ 5\\alpha_{2}+ 5\\alpha_{3}+ 5\\alpha_{4}\\right)$$"
      ],
      "text/plain": [
       "<IPython.core.display.Math object>"
      ]
     },
     "metadata": {},
     "output_type": "display_data"
    },
    {
     "data": {
      "text/latex": [
       "$$\\mathrm b^{1}(X_{24},\\wedge^{4}T_X)=4224$$"
      ],
      "text/plain": [
       "<IPython.core.display.Math object>"
      ]
     },
     "metadata": {},
     "output_type": "display_data"
    },
    {
     "data": {
      "text/latex": [
       "$$\\mathrm H^{1}(X_{24},\\wedge^{5}T_X)=L\\left( 3\\alpha_{1}+ 6\\alpha_{2}+ 7\\alpha_{3}+ 7\\alpha_{4}\\right)$$"
      ],
      "text/plain": [
       "<IPython.core.display.Math object>"
      ]
     },
     "metadata": {},
     "output_type": "display_data"
    },
    {
     "data": {
      "text/latex": [
       "$$\\mathrm b^{1}(X_{24},\\wedge^{5}T_X)=15444$$"
      ],
      "text/plain": [
       "<IPython.core.display.Math object>"
      ]
     },
     "metadata": {},
     "output_type": "display_data"
    },
    {
     "name": "stdout",
     "output_type": "stream",
     "text": [
      "\n",
      "\n",
      "dim of u is 13 for root system B4 and subset (2, 3)\n"
     ]
    },
    {
     "data": {
      "application/vnd.jupyter.widget-view+json": {
       "model_id": "87a8d99e6b7c434abf2ec4ccf08e540a",
       "version_major": 2,
       "version_minor": 0
      },
      "text/plain": [
       "HBox(children=(FloatProgress(value=0.0, max=14.0), HTML(value='')))"
      ]
     },
     "metadata": {},
     "output_type": "display_data"
    },
    {
     "data": {
      "application/vnd.jupyter.widget-view+json": {
       "model_id": "e2177f0664ec4d6bafdd029035f562ab",
       "version_major": 2,
       "version_minor": 0
      },
      "text/plain": [
       "HBox(children=(FloatProgress(value=1.0, bar_style='info', max=1.0), HTML(value='')))"
      ]
     },
     "metadata": {},
     "output_type": "display_data"
    },
    {
     "name": "stdout",
     "output_type": "stream",
     "text": [
      "\n",
      "\n",
      "dim of u is 14 for root system B4 and subset (1, 4)\n"
     ]
    },
    {
     "data": {
      "application/vnd.jupyter.widget-view+json": {
       "model_id": "701b7f42d0734eef9d1f03a0570a8576",
       "version_major": 2,
       "version_minor": 0
      },
      "text/plain": [
       "HBox(children=(FloatProgress(value=0.0, max=15.0), HTML(value='')))"
      ]
     },
     "metadata": {},
     "output_type": "display_data"
    },
    {
     "data": {
      "application/vnd.jupyter.widget-view+json": {
       "model_id": "a2c57e8ded764397ab1b1d73baf9a326",
       "version_major": 2,
       "version_minor": 0
      },
      "text/plain": [
       "HBox(children=(FloatProgress(value=1.0, bar_style='info', max=1.0), HTML(value='')))"
      ]
     },
     "metadata": {},
     "output_type": "display_data"
    },
    {
     "name": "stdout",
     "output_type": "stream",
     "text": [
      "\n",
      "\n",
      "dim of u is 14 for root system B4 and subset (1, 3)\n"
     ]
    },
    {
     "data": {
      "application/vnd.jupyter.widget-view+json": {
       "model_id": "04413513d94c42f68f27f7e9afc2c6b4",
       "version_major": 2,
       "version_minor": 0
      },
      "text/plain": [
       "HBox(children=(FloatProgress(value=0.0, max=15.0), HTML(value='')))"
      ]
     },
     "metadata": {},
     "output_type": "display_data"
    },
    {
     "data": {
      "application/vnd.jupyter.widget-view+json": {
       "model_id": "6f876e83d58f4cd88e6e16b760ca643e",
       "version_major": 2,
       "version_minor": 0
      },
      "text/plain": [
       "HBox(children=(FloatProgress(value=1.0, bar_style='info', max=1.0), HTML(value='')))"
      ]
     },
     "metadata": {},
     "output_type": "display_data"
    },
    {
     "name": "stdout",
     "output_type": "stream",
     "text": [
      "\n",
      "\n",
      "dim of u is 13 for root system B4 and subset (1, 2)\n"
     ]
    },
    {
     "data": {
      "application/vnd.jupyter.widget-view+json": {
       "model_id": "d9db9e0c085640449ad825957f49a362",
       "version_major": 2,
       "version_minor": 0
      },
      "text/plain": [
       "HBox(children=(FloatProgress(value=0.0, max=14.0), HTML(value='')))"
      ]
     },
     "metadata": {},
     "output_type": "display_data"
    },
    {
     "data": {
      "application/vnd.jupyter.widget-view+json": {
       "model_id": "6f004da5e88f4846a434216b2f8a70c1",
       "version_major": 2,
       "version_minor": 0
      },
      "text/plain": [
       "HBox(children=(FloatProgress(value=1.0, bar_style='info', max=1.0), HTML(value='')))"
      ]
     },
     "metadata": {},
     "output_type": "display_data"
    },
    {
     "name": "stdout",
     "output_type": "stream",
     "text": [
      "\n",
      "\n",
      "dim of u is 15 for root system B4 and subset (4,)\n"
     ]
    },
    {
     "data": {
      "application/vnd.jupyter.widget-view+json": {
       "model_id": "e9587dd7df5c423d93ac126438cc0628",
       "version_major": 2,
       "version_minor": 0
      },
      "text/plain": [
       "HBox(children=(FloatProgress(value=0.0, max=16.0), HTML(value='')))"
      ]
     },
     "metadata": {},
     "output_type": "display_data"
    },
    {
     "data": {
      "application/vnd.jupyter.widget-view+json": {
       "model_id": "50504c82c76643d0ab1e6f791434e256",
       "version_major": 2,
       "version_minor": 0
      },
      "text/plain": [
       "HBox(children=(FloatProgress(value=1.0, bar_style='info', max=1.0), HTML(value='')))"
      ]
     },
     "metadata": {},
     "output_type": "display_data"
    },
    {
     "data": {
      "text/latex": [
       "$$\\mathrm H^{1}(X_{4},\\wedge^{4}T_X)=L\\left( 2\\alpha_{1}+ 3\\alpha_{2}+ 3\\alpha_{3}+ 3\\alpha_{4}\\right)$$"
      ],
      "text/plain": [
       "<IPython.core.display.Math object>"
      ]
     },
     "metadata": {},
     "output_type": "display_data"
    },
    {
     "data": {
      "text/latex": [
       "$$\\mathrm b^{1}(X_{4},\\wedge^{4}T_X)=231$$"
      ],
      "text/plain": [
       "<IPython.core.display.Math object>"
      ]
     },
     "metadata": {},
     "output_type": "display_data"
    },
    {
     "data": {
      "text/latex": [
       "$$\\mathrm H^{1}(X_{4},\\wedge^{5}T_X)=L\\left( 2\\alpha_{1}+ 4\\alpha_{2}+ 5\\alpha_{3}+ 5\\alpha_{4}\\right)\\oplus L\\left( 3\\alpha_{1}+ 5\\alpha_{2}+ 5\\alpha_{3}+ 5\\alpha_{4}\\right)$$"
      ],
      "text/plain": [
       "<IPython.core.display.Math object>"
      ]
     },
     "metadata": {},
     "output_type": "display_data"
    },
    {
     "data": {
      "text/latex": [
       "$$\\mathrm b^{1}(X_{4},\\wedge^{5}T_X)=4224$$"
      ],
      "text/plain": [
       "<IPython.core.display.Math object>"
      ]
     },
     "metadata": {},
     "output_type": "display_data"
    },
    {
     "data": {
      "text/latex": [
       "$$\\mathrm H^{1}(X_{4},\\wedge^{6}T_X)=L\\left( 3\\alpha_{1}+ 6\\alpha_{2}+ 7\\alpha_{3}+ 7\\alpha_{4}\\right)$$"
      ],
      "text/plain": [
       "<IPython.core.display.Math object>"
      ]
     },
     "metadata": {},
     "output_type": "display_data"
    },
    {
     "data": {
      "text/latex": [
       "$$\\mathrm b^{1}(X_{4},\\wedge^{6}T_X)=15444$$"
      ],
      "text/plain": [
       "<IPython.core.display.Math object>"
      ]
     },
     "metadata": {},
     "output_type": "display_data"
    },
    {
     "name": "stdout",
     "output_type": "stream",
     "text": [
      "\n",
      "\n",
      "dim of u is 15 for root system B4 and subset (3,)\n"
     ]
    },
    {
     "data": {
      "application/vnd.jupyter.widget-view+json": {
       "model_id": "34c22ac509e04a328737b722fd9d3cb4",
       "version_major": 2,
       "version_minor": 0
      },
      "text/plain": [
       "HBox(children=(FloatProgress(value=0.0, max=16.0), HTML(value='')))"
      ]
     },
     "metadata": {},
     "output_type": "display_data"
    },
    {
     "data": {
      "application/vnd.jupyter.widget-view+json": {
       "model_id": "5e56e8a552074251bc742f14c4f4cfb0",
       "version_major": 2,
       "version_minor": 0
      },
      "text/plain": [
       "HBox(children=(FloatProgress(value=1.0, bar_style='info', max=1.0), HTML(value='')))"
      ]
     },
     "metadata": {},
     "output_type": "display_data"
    },
    {
     "name": "stdout",
     "output_type": "stream",
     "text": [
      "\n",
      "\n",
      "dim of u is 15 for root system B4 and subset (2,)\n"
     ]
    },
    {
     "data": {
      "application/vnd.jupyter.widget-view+json": {
       "model_id": "d53f93d8129e4ece96116665733c28c5",
       "version_major": 2,
       "version_minor": 0
      },
      "text/plain": [
       "HBox(children=(FloatProgress(value=0.0, max=16.0), HTML(value='')))"
      ]
     },
     "metadata": {},
     "output_type": "display_data"
    },
    {
     "data": {
      "application/vnd.jupyter.widget-view+json": {
       "model_id": "49775e9355974729b599e17770186995",
       "version_major": 2,
       "version_minor": 0
      },
      "text/plain": [
       "HBox(children=(FloatProgress(value=1.0, bar_style='info', max=1.0), HTML(value='')))"
      ]
     },
     "metadata": {},
     "output_type": "display_data"
    },
    {
     "data": {
      "text/latex": [
       "$$\\mathrm H^{1}(X_{2},\\wedge^{3}T_X)=L\\left( 2\\alpha_{1}+ 3\\alpha_{2}+ 3\\alpha_{3}+ 3\\alpha_{4}\\right)$$"
      ],
      "text/plain": [
       "<IPython.core.display.Math object>"
      ]
     },
     "metadata": {},
     "output_type": "display_data"
    },
    {
     "data": {
      "text/latex": [
       "$$\\mathrm b^{1}(X_{2},\\wedge^{3}T_X)=231$$"
      ],
      "text/plain": [
       "<IPython.core.display.Math object>"
      ]
     },
     "metadata": {},
     "output_type": "display_data"
    },
    {
     "data": {
      "text/latex": [
       "$$\\mathrm H^{1}(X_{2},\\wedge^{4}T_X)=L\\left( 2\\alpha_{1}+ 4\\alpha_{2}+ 5\\alpha_{3}+ 5\\alpha_{4}\\right)\\oplus L\\left( 3\\alpha_{1}+ 5\\alpha_{2}+ 5\\alpha_{3}+ 5\\alpha_{4}\\right)$$"
      ],
      "text/plain": [
       "<IPython.core.display.Math object>"
      ]
     },
     "metadata": {},
     "output_type": "display_data"
    },
    {
     "data": {
      "text/latex": [
       "$$\\mathrm b^{1}(X_{2},\\wedge^{4}T_X)=4224$$"
      ],
      "text/plain": [
       "<IPython.core.display.Math object>"
      ]
     },
     "metadata": {},
     "output_type": "display_data"
    },
    {
     "data": {
      "text/latex": [
       "$$\\mathrm H^{1}(X_{2},\\wedge^{5}T_X)=L\\left( 3\\alpha_{1}+ 6\\alpha_{2}+ 7\\alpha_{3}+ 7\\alpha_{4}\\right)$$"
      ],
      "text/plain": [
       "<IPython.core.display.Math object>"
      ]
     },
     "metadata": {},
     "output_type": "display_data"
    },
    {
     "data": {
      "text/latex": [
       "$$\\mathrm b^{1}(X_{2},\\wedge^{5}T_X)=15444$$"
      ],
      "text/plain": [
       "<IPython.core.display.Math object>"
      ]
     },
     "metadata": {},
     "output_type": "display_data"
    },
    {
     "name": "stdout",
     "output_type": "stream",
     "text": [
      "\n",
      "\n",
      "dim of u is 15 for root system B4 and subset (1,)\n"
     ]
    },
    {
     "data": {
      "application/vnd.jupyter.widget-view+json": {
       "model_id": "16613b6546f7428dbde53ba31667683a",
       "version_major": 2,
       "version_minor": 0
      },
      "text/plain": [
       "HBox(children=(FloatProgress(value=0.0, max=16.0), HTML(value='')))"
      ]
     },
     "metadata": {},
     "output_type": "display_data"
    },
    {
     "data": {
      "application/vnd.jupyter.widget-view+json": {
       "model_id": "6d5954b4bb154144a67baa88047d87a6",
       "version_major": 2,
       "version_minor": 0
      },
      "text/plain": [
       "HBox(children=(FloatProgress(value=1.0, bar_style='info', max=1.0), HTML(value='')))"
      ]
     },
     "metadata": {},
     "output_type": "display_data"
    },
    {
     "name": "stdout",
     "output_type": "stream",
     "text": [
      "\n",
      "\n",
      "dim of u is 16 for root system B4 and subset ()\n"
     ]
    },
    {
     "data": {
      "application/vnd.jupyter.widget-view+json": {
       "model_id": "ad017025de2f417bb693ed705a3d06b0",
       "version_major": 2,
       "version_minor": 0
      },
      "text/plain": [
       "HBox(children=(FloatProgress(value=0.0, max=17.0), HTML(value='')))"
      ]
     },
     "metadata": {},
     "output_type": "display_data"
    },
    {
     "data": {
      "application/vnd.jupyter.widget-view+json": {
       "model_id": "2ac49552bb8d49d2a6a9ad5b8337c829",
       "version_major": 2,
       "version_minor": 0
      },
      "text/plain": [
       "HBox(children=(FloatProgress(value=1.0, bar_style='info', max=1.0), HTML(value='')))"
      ]
     },
     "metadata": {},
     "output_type": "display_data"
    },
    {
     "data": {
      "text/latex": [
       "$$\\mathrm H^{1}(X_{},\\wedge^{4}T_X)=L\\left( 2\\alpha_{1}+ 3\\alpha_{2}+ 3\\alpha_{3}+ 3\\alpha_{4}\\right)$$"
      ],
      "text/plain": [
       "<IPython.core.display.Math object>"
      ]
     },
     "metadata": {},
     "output_type": "display_data"
    },
    {
     "data": {
      "text/latex": [
       "$$\\mathrm b^{1}(X_{},\\wedge^{4}T_X)=231$$"
      ],
      "text/plain": [
       "<IPython.core.display.Math object>"
      ]
     },
     "metadata": {},
     "output_type": "display_data"
    },
    {
     "data": {
      "text/latex": [
       "$$\\mathrm H^{1}(X_{},\\wedge^{5}T_X)=L\\left( 2\\alpha_{1}+ 4\\alpha_{2}+ 5\\alpha_{3}+ 5\\alpha_{4}\\right)\\oplus L\\left( 3\\alpha_{1}+ 5\\alpha_{2}+ 5\\alpha_{3}+ 5\\alpha_{4}\\right)$$"
      ],
      "text/plain": [
       "<IPython.core.display.Math object>"
      ]
     },
     "metadata": {},
     "output_type": "display_data"
    },
    {
     "data": {
      "text/latex": [
       "$$\\mathrm b^{1}(X_{},\\wedge^{5}T_X)=4224$$"
      ],
      "text/plain": [
       "<IPython.core.display.Math object>"
      ]
     },
     "metadata": {},
     "output_type": "display_data"
    },
    {
     "data": {
      "text/latex": [
       "$$\\mathrm H^{1}(X_{},\\wedge^{6}T_X)=L\\left( 3\\alpha_{1}+ 6\\alpha_{2}+ 7\\alpha_{3}+ 7\\alpha_{4}\\right)$$"
      ],
      "text/plain": [
       "<IPython.core.display.Math object>"
      ]
     },
     "metadata": {},
     "output_type": "display_data"
    },
    {
     "data": {
      "text/latex": [
       "$$\\mathrm b^{1}(X_{},\\wedge^{6}T_X)=15444$$"
      ],
      "text/plain": [
       "<IPython.core.display.Math object>"
      ]
     },
     "metadata": {},
     "output_type": "display_data"
    }
   ],
   "source": [
    "from itertools import combinations, chain\n",
    "roots = [1,2,3,4]\n",
    "subsets = list(chain.from_iterable(combinations(roots,i) for i in range(len(roots))))\n",
    "d = 'B4'\n",
    "BGG = BGGComplex(d)\n",
    "for subset in subsets[::-1]:\n",
    "    factory = FastModuleFactory(BGG.LA)\n",
    "    component_dic = {'u':factory.build_component('u','coad',subset=subset)}\n",
    "    u_dim = len(component_dic['u'].basis)\n",
    "    print('dim of u is %d for root system %s and subset %s' % (u_dim, d, subset))\n",
    "    pbar1 = tqdm(range(u_dim+1))\n",
    "    pbar2 = tqdm()\n",
    "    pbar3 = None\n",
    "    for k in pbar1:\n",
    "        components = [[('u',k,'wedge')]]\n",
    "        module = FastLieAlgebraCompositeModule(factory,components,component_dic)\n",
    "\n",
    "        cohom = BGGCohomology(BGG, module,pbars=[pbar2,pbar3])\n",
    "        subset_string = ''.join(str(s) for s in subset)\n",
    "        cohom.cohomology_LaTeX(i = 1, complex_string=r'X_{'+subset_string+r'},\\wedge^{'+str(k)+'}T_X',print_betti=True)"
   ]
  },
  {
   "cell_type": "markdown",
   "metadata": {},
   "source": [
    "## C4 parabolic, degree 1"
   ]
  },
  {
   "cell_type": "code",
   "execution_count": 2,
   "metadata": {},
   "outputs": [
    {
     "name": "stdout",
     "output_type": "stream",
     "text": [
      "dim of u is 7 for root system C4 and subset (2, 3, 4)\n"
     ]
    },
    {
     "data": {
      "application/vnd.jupyter.widget-view+json": {
       "model_id": "7693bdf18db94e07b51bf412f212f32c",
       "version_major": 2,
       "version_minor": 0
      },
      "text/plain": [
       "HBox(children=(FloatProgress(value=0.0, max=8.0), HTML(value='')))"
      ]
     },
     "metadata": {},
     "output_type": "display_data"
    },
    {
     "data": {
      "application/vnd.jupyter.widget-view+json": {
       "model_id": "077bdcd477424a00aa07dd2d62bf04bb",
       "version_major": 2,
       "version_minor": 0
      },
      "text/plain": [
       "HBox(children=(FloatProgress(value=1.0, bar_style='info', max=1.0), HTML(value='')))"
      ]
     },
     "metadata": {},
     "output_type": "display_data"
    },
    {
     "name": "stdout",
     "output_type": "stream",
     "text": [
      "\n",
      "dim of u is 11 for root system C4 and subset (1, 3, 4)\n"
     ]
    },
    {
     "data": {
      "application/vnd.jupyter.widget-view+json": {
       "model_id": "a0a4b8481260418d90a99ab9238d8c21",
       "version_major": 2,
       "version_minor": 0
      },
      "text/plain": [
       "HBox(children=(FloatProgress(value=0.0, max=12.0), HTML(value='')))"
      ]
     },
     "metadata": {},
     "output_type": "display_data"
    },
    {
     "data": {
      "application/vnd.jupyter.widget-view+json": {
       "model_id": "02e511c2a0d8455788936e5dada2d57a",
       "version_major": 2,
       "version_minor": 0
      },
      "text/plain": [
       "HBox(children=(FloatProgress(value=1.0, bar_style='info', max=1.0), HTML(value='')))"
      ]
     },
     "metadata": {},
     "output_type": "display_data"
    },
    {
     "name": "stdout",
     "output_type": "stream",
     "text": [
      "\n",
      "\n",
      "dim of u is 12 for root system C4 and subset (1, 2, 4)\n"
     ]
    },
    {
     "data": {
      "application/vnd.jupyter.widget-view+json": {
       "model_id": "9aa334abb5a64448b25840fefd596579",
       "version_major": 2,
       "version_minor": 0
      },
      "text/plain": [
       "HBox(children=(FloatProgress(value=0.0, max=13.0), HTML(value='')))"
      ]
     },
     "metadata": {},
     "output_type": "display_data"
    },
    {
     "data": {
      "application/vnd.jupyter.widget-view+json": {
       "model_id": "930fc81b88db406395a8a0c6ef62c1f3",
       "version_major": 2,
       "version_minor": 0
      },
      "text/plain": [
       "HBox(children=(FloatProgress(value=1.0, bar_style='info', max=1.0), HTML(value='')))"
      ]
     },
     "metadata": {},
     "output_type": "display_data"
    },
    {
     "data": {
      "text/latex": [
       "$$\\mathrm H^{1}(X_{124},\\wedge^{2}T_X)=L\\left(\\alpha_{1}+ 2\\alpha_{2}+ 3\\alpha_{3}+ 2\\alpha_{4}\\right)$$"
      ],
      "text/plain": [
       "<IPython.core.display.Math object>"
      ]
     },
     "metadata": {},
     "output_type": "display_data"
    },
    {
     "data": {
      "text/latex": [
       "$$\\mathrm b^{1}(X_{124},\\wedge^{2}T_X)=42$$"
      ],
      "text/plain": [
       "<IPython.core.display.Math object>"
      ]
     },
     "metadata": {},
     "output_type": "display_data"
    },
    {
     "name": "stdout",
     "output_type": "stream",
     "text": [
      "\n",
      "dim of u is 10 for root system C4 and subset (1, 2, 3)\n"
     ]
    },
    {
     "data": {
      "application/vnd.jupyter.widget-view+json": {
       "model_id": "33eee5d7060f4fd089414e15138ae4a6",
       "version_major": 2,
       "version_minor": 0
      },
      "text/plain": [
       "HBox(children=(FloatProgress(value=0.0, max=11.0), HTML(value='')))"
      ]
     },
     "metadata": {},
     "output_type": "display_data"
    },
    {
     "data": {
      "application/vnd.jupyter.widget-view+json": {
       "model_id": "ad2c18272ea24a10864a89acfbc776fd",
       "version_major": 2,
       "version_minor": 0
      },
      "text/plain": [
       "HBox(children=(FloatProgress(value=1.0, bar_style='info', max=1.0), HTML(value='')))"
      ]
     },
     "metadata": {},
     "output_type": "display_data"
    },
    {
     "name": "stdout",
     "output_type": "stream",
     "text": [
      "\n",
      "dim of u is 12 for root system C4 and subset (3, 4)\n"
     ]
    },
    {
     "data": {
      "application/vnd.jupyter.widget-view+json": {
       "model_id": "f1c024a3abb84ef896891525b48390e6",
       "version_major": 2,
       "version_minor": 0
      },
      "text/plain": [
       "HBox(children=(FloatProgress(value=0.0, max=13.0), HTML(value='')))"
      ]
     },
     "metadata": {},
     "output_type": "display_data"
    },
    {
     "data": {
      "application/vnd.jupyter.widget-view+json": {
       "model_id": "c77af81c84b9494dbea91690d8c0fe06",
       "version_major": 2,
       "version_minor": 0
      },
      "text/plain": [
       "HBox(children=(FloatProgress(value=1.0, bar_style='info', max=1.0), HTML(value='')))"
      ]
     },
     "metadata": {},
     "output_type": "display_data"
    },
    {
     "name": "stdout",
     "output_type": "stream",
     "text": [
      "\n",
      "dim of u is 14 for root system C4 and subset (2, 4)\n"
     ]
    },
    {
     "data": {
      "application/vnd.jupyter.widget-view+json": {
       "model_id": "d95c8816bd6648a29ff1f5c9f56c7daa",
       "version_major": 2,
       "version_minor": 0
      },
      "text/plain": [
       "HBox(children=(FloatProgress(value=0.0, max=15.0), HTML(value='')))"
      ]
     },
     "metadata": {},
     "output_type": "display_data"
    },
    {
     "data": {
      "application/vnd.jupyter.widget-view+json": {
       "model_id": "8904967915914754ad770295a7b3e64d",
       "version_major": 2,
       "version_minor": 0
      },
      "text/plain": [
       "HBox(children=(FloatProgress(value=1.0, bar_style='info', max=1.0), HTML(value='')))"
      ]
     },
     "metadata": {},
     "output_type": "display_data"
    },
    {
     "data": {
      "text/latex": [
       "$$\\mathrm H^{1}(X_{24},\\wedge^{2}T_X)=L\\left(\\alpha_{1}+ 2\\alpha_{2}+ 3\\alpha_{3}+ 2\\alpha_{4}\\right)$$"
      ],
      "text/plain": [
       "<IPython.core.display.Math object>"
      ]
     },
     "metadata": {},
     "output_type": "display_data"
    },
    {
     "data": {
      "text/latex": [
       "$$\\mathrm b^{1}(X_{24},\\wedge^{2}T_X)=42$$"
      ],
      "text/plain": [
       "<IPython.core.display.Math object>"
      ]
     },
     "metadata": {},
     "output_type": "display_data"
    },
    {
     "name": "stdout",
     "output_type": "stream",
     "text": [
      "\n",
      "dim of u is 13 for root system C4 and subset (2, 3)\n"
     ]
    },
    {
     "data": {
      "application/vnd.jupyter.widget-view+json": {
       "model_id": "d9061235a2784ff89e96e09120738ce0",
       "version_major": 2,
       "version_minor": 0
      },
      "text/plain": [
       "HBox(children=(FloatProgress(value=0.0, max=14.0), HTML(value='')))"
      ]
     },
     "metadata": {},
     "output_type": "display_data"
    },
    {
     "data": {
      "application/vnd.jupyter.widget-view+json": {
       "model_id": "ed8ace745d1b4d378c85908b49fd8fe9",
       "version_major": 2,
       "version_minor": 0
      },
      "text/plain": [
       "HBox(children=(FloatProgress(value=1.0, bar_style='info', max=1.0), HTML(value='')))"
      ]
     },
     "metadata": {},
     "output_type": "display_data"
    },
    {
     "name": "stdout",
     "output_type": "stream",
     "text": [
      "\n",
      "dim of u is 14 for root system C4 and subset (1, 4)\n"
     ]
    },
    {
     "data": {
      "application/vnd.jupyter.widget-view+json": {
       "model_id": "8126c87f42dd40499a8199502f0aee52",
       "version_major": 2,
       "version_minor": 0
      },
      "text/plain": [
       "HBox(children=(FloatProgress(value=0.0, max=15.0), HTML(value='')))"
      ]
     },
     "metadata": {},
     "output_type": "display_data"
    },
    {
     "data": {
      "application/vnd.jupyter.widget-view+json": {
       "model_id": "c4a8e7c7a2cc4960b5a9ddb458000e76",
       "version_major": 2,
       "version_minor": 0
      },
      "text/plain": [
       "HBox(children=(FloatProgress(value=1.0, bar_style='info', max=1.0), HTML(value='')))"
      ]
     },
     "metadata": {},
     "output_type": "display_data"
    },
    {
     "data": {
      "text/latex": [
       "$$\\mathrm H^{1}(X_{14},\\wedge^{2}T_X)=L\\left(\\alpha_{1}+ 2\\alpha_{2}+ 3\\alpha_{3}+ 2\\alpha_{4}\\right)$$"
      ],
      "text/plain": [
       "<IPython.core.display.Math object>"
      ]
     },
     "metadata": {},
     "output_type": "display_data"
    },
    {
     "data": {
      "text/latex": [
       "$$\\mathrm b^{1}(X_{14},\\wedge^{2}T_X)=42$$"
      ],
      "text/plain": [
       "<IPython.core.display.Math object>"
      ]
     },
     "metadata": {},
     "output_type": "display_data"
    },
    {
     "name": "stdout",
     "output_type": "stream",
     "text": [
      "\n",
      "dim of u is 14 for root system C4 and subset (1, 3)\n"
     ]
    },
    {
     "data": {
      "application/vnd.jupyter.widget-view+json": {
       "model_id": "6df7a165f4e847cb9020aceb83956d35",
       "version_major": 2,
       "version_minor": 0
      },
      "text/plain": [
       "HBox(children=(FloatProgress(value=0.0, max=15.0), HTML(value='')))"
      ]
     },
     "metadata": {},
     "output_type": "display_data"
    },
    {
     "data": {
      "application/vnd.jupyter.widget-view+json": {
       "model_id": "c9a76256b75a4f28a645c61671ac1a68",
       "version_major": 2,
       "version_minor": 0
      },
      "text/plain": [
       "HBox(children=(FloatProgress(value=1.0, bar_style='info', max=1.0), HTML(value='')))"
      ]
     },
     "metadata": {},
     "output_type": "display_data"
    },
    {
     "name": "stdout",
     "output_type": "stream",
     "text": [
      "\n",
      "dim of u is 13 for root system C4 and subset (1, 2)\n"
     ]
    },
    {
     "data": {
      "application/vnd.jupyter.widget-view+json": {
       "model_id": "cdc0f556d74f44f887e8827db825d9da",
       "version_major": 2,
       "version_minor": 0
      },
      "text/plain": [
       "HBox(children=(FloatProgress(value=0.0, max=14.0), HTML(value='')))"
      ]
     },
     "metadata": {},
     "output_type": "display_data"
    },
    {
     "data": {
      "application/vnd.jupyter.widget-view+json": {
       "model_id": "0b6e69834a014278b326127f113a9499",
       "version_major": 2,
       "version_minor": 0
      },
      "text/plain": [
       "HBox(children=(FloatProgress(value=1.0, bar_style='info', max=1.0), HTML(value='')))"
      ]
     },
     "metadata": {},
     "output_type": "display_data"
    },
    {
     "data": {
      "text/latex": [
       "$$\\mathrm H^{1}(X_{12},\\wedge^{3}T_X)=L\\left(\\alpha_{1}+ 2\\alpha_{2}+ 3\\alpha_{3}+ 2\\alpha_{4}\\right)$$"
      ],
      "text/plain": [
       "<IPython.core.display.Math object>"
      ]
     },
     "metadata": {},
     "output_type": "display_data"
    },
    {
     "data": {
      "text/latex": [
       "$$\\mathrm b^{1}(X_{12},\\wedge^{3}T_X)=42$$"
      ],
      "text/plain": [
       "<IPython.core.display.Math object>"
      ]
     },
     "metadata": {},
     "output_type": "display_data"
    },
    {
     "name": "stdout",
     "output_type": "stream",
     "text": [
      "\n",
      "dim of u is 15 for root system C4 and subset (4,)\n"
     ]
    },
    {
     "data": {
      "application/vnd.jupyter.widget-view+json": {
       "model_id": "669e64c83a3c4739b67c9d7466d0c3aa",
       "version_major": 2,
       "version_minor": 0
      },
      "text/plain": [
       "HBox(children=(FloatProgress(value=0.0, max=16.0), HTML(value='')))"
      ]
     },
     "metadata": {},
     "output_type": "display_data"
    },
    {
     "data": {
      "application/vnd.jupyter.widget-view+json": {
       "model_id": "ee886e367038409ab4ca13ff050583f2",
       "version_major": 2,
       "version_minor": 0
      },
      "text/plain": [
       "HBox(children=(FloatProgress(value=1.0, bar_style='info', max=1.0), HTML(value='')))"
      ]
     },
     "metadata": {},
     "output_type": "display_data"
    },
    {
     "data": {
      "text/latex": [
       "$$\\mathrm H^{1}(X_{4},\\wedge^{2}T_X)=L\\left(\\alpha_{1}+ 2\\alpha_{2}+ 3\\alpha_{3}+ 2\\alpha_{4}\\right)$$"
      ],
      "text/plain": [
       "<IPython.core.display.Math object>"
      ]
     },
     "metadata": {},
     "output_type": "display_data"
    },
    {
     "data": {
      "text/latex": [
       "$$\\mathrm b^{1}(X_{4},\\wedge^{2}T_X)=42$$"
      ],
      "text/plain": [
       "<IPython.core.display.Math object>"
      ]
     },
     "metadata": {},
     "output_type": "display_data"
    },
    {
     "name": "stdout",
     "output_type": "stream",
     "text": [
      "\n",
      "dim of u is 15 for root system C4 and subset (3,)\n"
     ]
    },
    {
     "data": {
      "application/vnd.jupyter.widget-view+json": {
       "model_id": "83996ca2c23b4ff6893dd1f100548fd5",
       "version_major": 2,
       "version_minor": 0
      },
      "text/plain": [
       "HBox(children=(FloatProgress(value=0.0, max=16.0), HTML(value='')))"
      ]
     },
     "metadata": {},
     "output_type": "display_data"
    },
    {
     "data": {
      "application/vnd.jupyter.widget-view+json": {
       "model_id": "6555f87cc0084ee9b002c739ba01b0b1",
       "version_major": 2,
       "version_minor": 0
      },
      "text/plain": [
       "HBox(children=(FloatProgress(value=1.0, bar_style='info', max=1.0), HTML(value='')))"
      ]
     },
     "metadata": {},
     "output_type": "display_data"
    },
    {
     "name": "stdout",
     "output_type": "stream",
     "text": [
      "\n",
      "dim of u is 15 for root system C4 and subset (2,)\n"
     ]
    },
    {
     "data": {
      "application/vnd.jupyter.widget-view+json": {
       "model_id": "834b441400394487a8a9d01fd5f85a69",
       "version_major": 2,
       "version_minor": 0
      },
      "text/plain": [
       "HBox(children=(FloatProgress(value=0.0, max=16.0), HTML(value='')))"
      ]
     },
     "metadata": {},
     "output_type": "display_data"
    },
    {
     "data": {
      "application/vnd.jupyter.widget-view+json": {
       "model_id": "170f76c265c749a9bb9029f66a0415ca",
       "version_major": 2,
       "version_minor": 0
      },
      "text/plain": [
       "HBox(children=(FloatProgress(value=1.0, bar_style='info', max=1.0), HTML(value='')))"
      ]
     },
     "metadata": {},
     "output_type": "display_data"
    },
    {
     "data": {
      "text/latex": [
       "$$\\mathrm H^{1}(X_{2},\\wedge^{3}T_X)=L\\left(\\alpha_{1}+ 2\\alpha_{2}+ 3\\alpha_{3}+ 2\\alpha_{4}\\right)$$"
      ],
      "text/plain": [
       "<IPython.core.display.Math object>"
      ]
     },
     "metadata": {},
     "output_type": "display_data"
    },
    {
     "data": {
      "text/latex": [
       "$$\\mathrm b^{1}(X_{2},\\wedge^{3}T_X)=42$$"
      ],
      "text/plain": [
       "<IPython.core.display.Math object>"
      ]
     },
     "metadata": {},
     "output_type": "display_data"
    },
    {
     "name": "stdout",
     "output_type": "stream",
     "text": [
      "\n",
      "dim of u is 15 for root system C4 and subset (1,)\n"
     ]
    },
    {
     "data": {
      "application/vnd.jupyter.widget-view+json": {
       "model_id": "fc7adc387687408bbc778f526541861f",
       "version_major": 2,
       "version_minor": 0
      },
      "text/plain": [
       "HBox(children=(FloatProgress(value=0.0, max=16.0), HTML(value='')))"
      ]
     },
     "metadata": {},
     "output_type": "display_data"
    },
    {
     "data": {
      "application/vnd.jupyter.widget-view+json": {
       "model_id": "c277ad1af15a4309b257e257403a0bc2",
       "version_major": 2,
       "version_minor": 0
      },
      "text/plain": [
       "HBox(children=(FloatProgress(value=1.0, bar_style='info', max=1.0), HTML(value='')))"
      ]
     },
     "metadata": {},
     "output_type": "display_data"
    },
    {
     "data": {
      "text/latex": [
       "$$\\mathrm H^{1}(X_{1},\\wedge^{3}T_X)=L\\left(\\alpha_{1}+ 2\\alpha_{2}+ 3\\alpha_{3}+ 2\\alpha_{4}\\right)$$"
      ],
      "text/plain": [
       "<IPython.core.display.Math object>"
      ]
     },
     "metadata": {},
     "output_type": "display_data"
    },
    {
     "data": {
      "text/latex": [
       "$$\\mathrm b^{1}(X_{1},\\wedge^{3}T_X)=42$$"
      ],
      "text/plain": [
       "<IPython.core.display.Math object>"
      ]
     },
     "metadata": {},
     "output_type": "display_data"
    },
    {
     "data": {
      "text/latex": [
       "$$\\mathrm H^{1}(X_{1},\\wedge^{4}T_X)=L\\left( 2\\alpha_{1}+ 3\\alpha_{2}+ 4\\alpha_{3}+ 2\\alpha_{4}\\right)$$"
      ],
      "text/plain": [
       "<IPython.core.display.Math object>"
      ]
     },
     "metadata": {},
     "output_type": "display_data"
    },
    {
     "data": {
      "text/latex": [
       "$$\\mathrm b^{1}(X_{1},\\wedge^{4}T_X)=315$$"
      ],
      "text/plain": [
       "<IPython.core.display.Math object>"
      ]
     },
     "metadata": {},
     "output_type": "display_data"
    },
    {
     "name": "stdout",
     "output_type": "stream",
     "text": [
      "\n",
      "dim of u is 16 for root system C4 and subset ()\n"
     ]
    },
    {
     "data": {
      "application/vnd.jupyter.widget-view+json": {
       "model_id": "994387c02eff43d1aa5cb744c75ae24a",
       "version_major": 2,
       "version_minor": 0
      },
      "text/plain": [
       "HBox(children=(FloatProgress(value=0.0, max=17.0), HTML(value='')))"
      ]
     },
     "metadata": {},
     "output_type": "display_data"
    },
    {
     "data": {
      "application/vnd.jupyter.widget-view+json": {
       "model_id": "ddc94e5d34514cddb40f474a67b56d3b",
       "version_major": 2,
       "version_minor": 0
      },
      "text/plain": [
       "HBox(children=(FloatProgress(value=1.0, bar_style='info', max=1.0), HTML(value='')))"
      ]
     },
     "metadata": {},
     "output_type": "display_data"
    },
    {
     "data": {
      "text/latex": [
       "$$\\mathrm H^{1}(X_{},\\wedge^{3}T_X)=L\\left(\\alpha_{1}+ 2\\alpha_{2}+ 3\\alpha_{3}+ 2\\alpha_{4}\\right)$$"
      ],
      "text/plain": [
       "<IPython.core.display.Math object>"
      ]
     },
     "metadata": {},
     "output_type": "display_data"
    },
    {
     "data": {
      "text/latex": [
       "$$\\mathrm b^{1}(X_{},\\wedge^{3}T_X)=42$$"
      ],
      "text/plain": [
       "<IPython.core.display.Math object>"
      ]
     },
     "metadata": {},
     "output_type": "display_data"
    },
    {
     "data": {
      "text/latex": [
       "$$\\mathrm H^{1}(X_{},\\wedge^{4}T_X)=L\\left( 2\\alpha_{1}+ 3\\alpha_{2}+ 4\\alpha_{3}+ 2\\alpha_{4}\\right)$$"
      ],
      "text/plain": [
       "<IPython.core.display.Math object>"
      ]
     },
     "metadata": {},
     "output_type": "display_data"
    },
    {
     "data": {
      "text/latex": [
       "$$\\mathrm b^{1}(X_{},\\wedge^{4}T_X)=315$$"
      ],
      "text/plain": [
       "<IPython.core.display.Math object>"
      ]
     },
     "metadata": {},
     "output_type": "display_data"
    },
    {
     "name": "stdout",
     "output_type": "stream",
     "text": [
      "\n"
     ]
    },
    {
     "ename": "KeyboardInterrupt",
     "evalue": "",
     "output_type": "error",
     "traceback": [
      "\u001b[0;31m---------------------------------------------------------------------------\u001b[0m",
      "\u001b[0;31mKeyboardInterrupt\u001b[0m                         Traceback (most recent call last)",
      "\u001b[0;32m<ipython-input-2-45644a2fca51>\u001b[0m in \u001b[0;36m<module>\u001b[0;34m()\u001b[0m\n\u001b[1;32m     18\u001b[0m         \u001b[0mcohom\u001b[0m \u001b[0;34m=\u001b[0m \u001b[0mBGGCohomology\u001b[0m\u001b[0;34m(\u001b[0m\u001b[0mBGG\u001b[0m\u001b[0;34m,\u001b[0m \u001b[0mmodule\u001b[0m\u001b[0;34m,\u001b[0m\u001b[0mpbars\u001b[0m\u001b[0;34m=\u001b[0m\u001b[0;34m[\u001b[0m\u001b[0mpbar2\u001b[0m\u001b[0;34m,\u001b[0m\u001b[0mpbar3\u001b[0m\u001b[0;34m]\u001b[0m\u001b[0;34m)\u001b[0m\u001b[0;34m\u001b[0m\u001b[0;34m\u001b[0m\u001b[0m\n\u001b[1;32m     19\u001b[0m         \u001b[0msubset_string\u001b[0m \u001b[0;34m=\u001b[0m \u001b[0;34m''\u001b[0m\u001b[0;34m.\u001b[0m\u001b[0mjoin\u001b[0m\u001b[0;34m(\u001b[0m\u001b[0mstr\u001b[0m\u001b[0;34m(\u001b[0m\u001b[0ms\u001b[0m\u001b[0;34m)\u001b[0m \u001b[0;32mfor\u001b[0m \u001b[0ms\u001b[0m \u001b[0;32min\u001b[0m \u001b[0msubset\u001b[0m\u001b[0;34m)\u001b[0m\u001b[0;34m\u001b[0m\u001b[0;34m\u001b[0m\u001b[0m\n\u001b[0;32m---> 20\u001b[0;31m         \u001b[0mcohom\u001b[0m\u001b[0;34m.\u001b[0m\u001b[0mcohomology_LaTeX\u001b[0m\u001b[0;34m(\u001b[0m\u001b[0mi\u001b[0m \u001b[0;34m=\u001b[0m \u001b[0mInteger\u001b[0m\u001b[0;34m(\u001b[0m\u001b[0;36m1\u001b[0m\u001b[0;34m)\u001b[0m\u001b[0;34m,\u001b[0m \u001b[0mcomplex_string\u001b[0m\u001b[0;34m=\u001b[0m\u001b[0;34mr'X_{'\u001b[0m\u001b[0;34m+\u001b[0m\u001b[0msubset_string\u001b[0m\u001b[0;34m+\u001b[0m\u001b[0;34mr'},\\wedge^{'\u001b[0m\u001b[0;34m+\u001b[0m\u001b[0mstr\u001b[0m\u001b[0;34m(\u001b[0m\u001b[0mk\u001b[0m\u001b[0;34m)\u001b[0m\u001b[0;34m+\u001b[0m\u001b[0;34m'}T_X'\u001b[0m\u001b[0;34m,\u001b[0m\u001b[0mprint_betti\u001b[0m\u001b[0;34m=\u001b[0m\u001b[0;32mTrue\u001b[0m\u001b[0;34m)\u001b[0m\u001b[0;34m\u001b[0m\u001b[0;34m\u001b[0m\u001b[0m\n\u001b[0m",
      "\u001b[0;32m/cygdrive/c/Git/BGG/bggcomplex/fast_module.py\u001b[0m in \u001b[0;36mcohomology_LaTeX\u001b[0;34m(self, i, complex_string, only_non_zero, print_betti, print_modules, only_strings, compact, skip_zero)\u001b[0m\n\u001b[1;32m    820\u001b[0m                     \u001b[0mdisplay\u001b[0m\u001b[0;34m(\u001b[0m\u001b[0mMath\u001b[0m\u001b[0;34m(\u001b[0m\u001b[0;34mr'\\mathrm H^\\bullet'\u001b[0m \u001b[0;34m+\u001b[0m \u001b[0mdisplay_string\u001b[0m\u001b[0;34m+\u001b[0m\u001b[0;34m'0'\u001b[0m\u001b[0;34m)\u001b[0m\u001b[0;34m)\u001b[0m\u001b[0;34m\u001b[0m\u001b[0;34m\u001b[0m\u001b[0m\n\u001b[1;32m    821\u001b[0m         \u001b[0;32melse\u001b[0m\u001b[0;34m:\u001b[0m\u001b[0;34m\u001b[0m\u001b[0;34m\u001b[0m\u001b[0m\n\u001b[0;32m--> 822\u001b[0;31m             \u001b[0mcohom_i\u001b[0m \u001b[0;34m=\u001b[0m \u001b[0mself\u001b[0m\u001b[0;34m.\u001b[0m\u001b[0mcohomology\u001b[0m\u001b[0;34m(\u001b[0m\u001b[0mi\u001b[0m\u001b[0;34m)\u001b[0m\u001b[0;34m\u001b[0m\u001b[0;34m\u001b[0m\u001b[0m\n\u001b[0m\u001b[1;32m    823\u001b[0m             \u001b[0;32mif\u001b[0m \u001b[0mlen\u001b[0m\u001b[0;34m(\u001b[0m\u001b[0mcohom_i\u001b[0m\u001b[0;34m)\u001b[0m\u001b[0;34m==\u001b[0m\u001b[0;36m0\u001b[0m \u001b[0;32mand\u001b[0m \u001b[0;32mnot\u001b[0m \u001b[0monly_non_zero\u001b[0m\u001b[0;34m:\u001b[0m \u001b[0;31m#particular i, and zero cohomology:\u001b[0m\u001b[0;34m\u001b[0m\u001b[0;34m\u001b[0m\u001b[0m\n\u001b[1;32m    824\u001b[0m                 \u001b[0;32mif\u001b[0m \u001b[0monly_strings\u001b[0m\u001b[0;34m:\u001b[0m\u001b[0;34m\u001b[0m\u001b[0;34m\u001b[0m\u001b[0m\n",
      "\u001b[0;32m/cygdrive/c/Git/BGG/bggcomplex/fast_module.py\u001b[0m in \u001b[0;36mcohomology\u001b[0;34m(self, i)\u001b[0m\n\u001b[1;32m    765\u001b[0m         \u001b[0;31m# For non-isolated weights, multiplicity is computed through the BGG differential\u001b[0m\u001b[0;34m\u001b[0m\u001b[0;34m\u001b[0m\u001b[0;34m\u001b[0m\u001b[0m\n\u001b[1;32m    766\u001b[0m         \u001b[0;32mfor\u001b[0m \u001b[0mw\u001b[0m \u001b[0;32min\u001b[0m \u001b[0mdominant_non_trivial\u001b[0m\u001b[0;34m:\u001b[0m\u001b[0;34m\u001b[0m\u001b[0;34m\u001b[0m\u001b[0m\n\u001b[0;32m--> 767\u001b[0;31m             \u001b[0mcohom_dim\u001b[0m \u001b[0;34m=\u001b[0m \u001b[0mself\u001b[0m\u001b[0;34m.\u001b[0m\u001b[0mcohomology_component\u001b[0m\u001b[0;34m(\u001b[0m\u001b[0mw\u001b[0m\u001b[0;34m,\u001b[0m \u001b[0mi\u001b[0m\u001b[0;34m)\u001b[0m\u001b[0;34m\u001b[0m\u001b[0;34m\u001b[0m\u001b[0m\n\u001b[0m\u001b[1;32m    768\u001b[0m             \u001b[0;32mif\u001b[0m \u001b[0mself\u001b[0m\u001b[0;34m.\u001b[0m\u001b[0mpbar1\u001b[0m \u001b[0;32mis\u001b[0m \u001b[0;32mnot\u001b[0m \u001b[0;32mNone\u001b[0m\u001b[0;34m:\u001b[0m\u001b[0;34m\u001b[0m\u001b[0;34m\u001b[0m\u001b[0m\n\u001b[1;32m    769\u001b[0m                 \u001b[0mself\u001b[0m\u001b[0;34m.\u001b[0m\u001b[0mpbar1\u001b[0m\u001b[0;34m.\u001b[0m\u001b[0mupdate\u001b[0m\u001b[0;34m(\u001b[0m\u001b[0;34m)\u001b[0m\u001b[0;34m\u001b[0m\u001b[0;34m\u001b[0m\u001b[0m\n",
      "\u001b[0;32m/cygdrive/c/Git/BGG/bggcomplex/fast_module.py\u001b[0m in \u001b[0;36mcohomology_component\u001b[0;34m(self, mu, i)\u001b[0m\n\u001b[1;32m    709\u001b[0m             \u001b[0mself\u001b[0m\u001b[0;34m.\u001b[0m\u001b[0mpbar1\u001b[0m\u001b[0;34m.\u001b[0m\u001b[0mset_description\u001b[0m\u001b[0;34m(\u001b[0m\u001b[0mstr\u001b[0m\u001b[0;34m(\u001b[0m\u001b[0mmu\u001b[0m\u001b[0;34m)\u001b[0m\u001b[0;34m+\u001b[0m\u001b[0;34m', diff'\u001b[0m\u001b[0;34m)\u001b[0m\u001b[0;34m\u001b[0m\u001b[0;34m\u001b[0m\u001b[0m\n\u001b[1;32m    710\u001b[0m         \u001b[0;32mtry\u001b[0m\u001b[0;34m:\u001b[0m\u001b[0;34m\u001b[0m\u001b[0;34m\u001b[0m\u001b[0m\n\u001b[0;32m--> 711\u001b[0;31m             \u001b[0md_i\u001b[0m\u001b[0;34m,\u001b[0m \u001b[0mchain_dim\u001b[0m \u001b[0;34m=\u001b[0m \u001b[0mcohomology\u001b[0m\u001b[0;34m.\u001b[0m\u001b[0mcompute_diff\u001b[0m\u001b[0;34m(\u001b[0m\u001b[0mself\u001b[0m\u001b[0;34m,\u001b[0m\u001b[0mmu\u001b[0m\u001b[0;34m,\u001b[0m\u001b[0mi\u001b[0m\u001b[0;34m)\u001b[0m\u001b[0;34m\u001b[0m\u001b[0;34m\u001b[0m\u001b[0m\n\u001b[0m\u001b[1;32m    712\u001b[0m             \u001b[0md_i_minus_1\u001b[0m\u001b[0;34m,\u001b[0m \u001b[0m_\u001b[0m \u001b[0;34m=\u001b[0m \u001b[0mcohomology\u001b[0m\u001b[0;34m.\u001b[0m\u001b[0mcompute_diff\u001b[0m\u001b[0;34m(\u001b[0m\u001b[0mself\u001b[0m\u001b[0;34m,\u001b[0m\u001b[0mmu\u001b[0m\u001b[0;34m,\u001b[0m\u001b[0mi\u001b[0m\u001b[0;34m-\u001b[0m\u001b[0;36m1\u001b[0m\u001b[0;34m)\u001b[0m\u001b[0;34m\u001b[0m\u001b[0;34m\u001b[0m\u001b[0m\n\u001b[1;32m    713\u001b[0m         \u001b[0;32mexcept\u001b[0m \u001b[0mIndexError\u001b[0m \u001b[0;32mas\u001b[0m \u001b[0merr\u001b[0m\u001b[0;34m:\u001b[0m\u001b[0;34m\u001b[0m\u001b[0;34m\u001b[0m\u001b[0m\n",
      "\u001b[0;32m/cygdrive/c/Git/BGG/bggcomplex/cohomology.pyx\u001b[0m in \u001b[0;36mcohomology.compute_diff\u001b[0;34m()\u001b[0m\n\u001b[1;32m    227\u001b[0m                     \u001b[0;31m# compute the action of the PBW element\u001b[0m\u001b[0;34m\u001b[0m\u001b[0;34m\u001b[0m\u001b[0;34m\u001b[0m\u001b[0m\n\u001b[1;32m    228\u001b[0m                     \u001b[0;31m# map is multiplied by sign. Need to convert sign to Rational to avoid errors in newer sage version\u001b[0m\u001b[0;34m\u001b[0m\u001b[0;34m\u001b[0m\u001b[0;34m\u001b[0m\u001b[0m\n\u001b[0;32m--> 229\u001b[0;31m                     \u001b[0mbasis_action\u001b[0m \u001b[0;34m=\u001b[0m \u001b[0maction_on_basis\u001b[0m\u001b[0;34m(\u001b[0m\u001b[0mmaps\u001b[0m\u001b[0;34m[\u001b[0m\u001b[0ma\u001b[0m\u001b[0;34m]\u001b[0m\u001b[0;34m*\u001b[0m\u001b[0mRational\u001b[0m\u001b[0;34m(\u001b[0m\u001b[0msign\u001b[0m\u001b[0;34m)\u001b[0m\u001b[0;34m,\u001b[0m\u001b[0mweight_comp\u001b[0m\u001b[0;34m,\u001b[0m\u001b[0mmodule\u001b[0m\u001b[0;34m,\u001b[0m\u001b[0mfactory\u001b[0m\u001b[0;34m,\u001b[0m\u001b[0mcomp_num\u001b[0m\u001b[0;34m)\u001b[0m\u001b[0;34m\u001b[0m\u001b[0;34m\u001b[0m\u001b[0m\n\u001b[0m\u001b[1;32m    230\u001b[0m \u001b[0;34m\u001b[0m\u001b[0m\n\u001b[1;32m    231\u001b[0m                     \u001b[0mbasis_action\u001b[0m\u001b[0;34m[\u001b[0m\u001b[0;34m:\u001b[0m\u001b[0;34m,\u001b[0m\u001b[0;34m-\u001b[0m\u001b[0;36m2\u001b[0m\u001b[0;34m]\u001b[0m \u001b[0;34m+=\u001b[0m \u001b[0mcomp_offset_s\u001b[0m \u001b[0;31m# update source\u001b[0m\u001b[0;34m\u001b[0m\u001b[0;34m\u001b[0m\u001b[0m\n",
      "\u001b[0;32m/cygdrive/c/Git/BGG/bggcomplex/cohomology.pyx\u001b[0m in \u001b[0;36mcohomology.action_on_basis\u001b[0;34m()\u001b[0m\n\u001b[1;32m    145\u001b[0m         \u001b[0;32mfor\u001b[0m \u001b[0mterm\u001b[0m \u001b[0;32min\u001b[0m \u001b[0mmonomial\u001b[0m\u001b[0;34m.\u001b[0m\u001b[0mto_word_list\u001b[0m\u001b[0;34m(\u001b[0m\u001b[0;34m)\u001b[0m\u001b[0;34m[\u001b[0m\u001b[0;34m:\u001b[0m\u001b[0;34m:\u001b[0m\u001b[0;34m-\u001b[0m\u001b[0;36m1\u001b[0m\u001b[0;34m]\u001b[0m\u001b[0;34m:\u001b[0m \u001b[0;31m# Right action, so we take terms of the monomial in inverse order\u001b[0m\u001b[0;34m\u001b[0m\u001b[0;34m\u001b[0m\u001b[0m\n\u001b[1;32m    146\u001b[0m             \u001b[0mindex\u001b[0m \u001b[0;34m=\u001b[0m \u001b[0mfactory\u001b[0m\u001b[0;34m.\u001b[0m\u001b[0mroot_to_index\u001b[0m\u001b[0;34m[\u001b[0m\u001b[0mterm\u001b[0m\u001b[0;34m]\u001b[0m \u001b[0;31m# get the index of the term\u001b[0m\u001b[0;34m\u001b[0m\u001b[0;34m\u001b[0m\u001b[0m\n\u001b[0;32m--> 147\u001b[0;31m             \u001b[0maction_image\u001b[0m \u001b[0;34m=\u001b[0m \u001b[0mcompute_action\u001b[0m\u001b[0;34m(\u001b[0m\u001b[0mindex\u001b[0m\u001b[0;34m,\u001b[0m \u001b[0maction_image\u001b[0m\u001b[0;34m,\u001b[0m \u001b[0mmodule\u001b[0m\u001b[0;34m,\u001b[0m \u001b[0mcomp_num\u001b[0m\u001b[0;34m)\u001b[0m \u001b[0;31m# compute the action\u001b[0m\u001b[0;34m\u001b[0m\u001b[0;34m\u001b[0m\u001b[0m\n\u001b[0m\u001b[1;32m    148\u001b[0m         \u001b[0maction_list\u001b[0m\u001b[0;34m.\u001b[0m\u001b[0mappend\u001b[0m\u001b[0;34m(\u001b[0m\u001b[0maction_image\u001b[0m\u001b[0;34m)\u001b[0m\u001b[0;34m\u001b[0m\u001b[0;34m\u001b[0m\u001b[0m\n\u001b[1;32m    149\u001b[0m     \u001b[0maction_image\u001b[0m \u001b[0;34m=\u001b[0m \u001b[0mnp\u001b[0m\u001b[0;34m.\u001b[0m\u001b[0mconcatenate\u001b[0m\u001b[0;34m(\u001b[0m\u001b[0maction_list\u001b[0m\u001b[0;34m)\u001b[0m \u001b[0;31m# concatenate and merge is equivalent to summing the results.\u001b[0m\u001b[0;34m\u001b[0m\u001b[0;34m\u001b[0m\u001b[0m\n",
      "\u001b[0;32m/cygdrive/c/Git/BGG/bggcomplex/cohomology.pyx\u001b[0m in \u001b[0;36mcohomology.compute_action\u001b[0;34m()\u001b[0m\n\u001b[1;32m     17\u001b[0m \u001b[0;34m\u001b[0m\u001b[0m\n\u001b[1;32m     18\u001b[0m     \u001b[0;31m# Initialize array for output\u001b[0m\u001b[0;34m\u001b[0m\u001b[0;34m\u001b[0m\u001b[0;34m\u001b[0m\u001b[0m\n\u001b[0;32m---> 19\u001b[0;31m     \u001b[0maction_image\u001b[0m \u001b[0;34m=\u001b[0m \u001b[0mnp\u001b[0m\u001b[0;34m.\u001b[0m\u001b[0mzeros_like\u001b[0m\u001b[0;34m(\u001b[0m\u001b[0maction_source\u001b[0m\u001b[0;34m)\u001b[0m\u001b[0;34m\u001b[0m\u001b[0;34m\u001b[0m\u001b[0m\n\u001b[0m\u001b[1;32m     20\u001b[0m \u001b[0;34m\u001b[0m\u001b[0m\n\u001b[1;32m     21\u001b[0m     \u001b[0;31m# Get component types. Each type has a different action of the Lie algebra\u001b[0m\u001b[0;34m\u001b[0m\u001b[0;34m\u001b[0m\u001b[0;34m\u001b[0m\u001b[0m\n",
      "\u001b[0;32m/opt/sagemath-9.0/local/lib/python3.7/site-packages/numpy/core/numeric.py\u001b[0m in \u001b[0;36mzeros_like\u001b[0;34m(a, dtype, order, subok)\u001b[0m\n\u001b[1;32m    110\u001b[0m \u001b[0;34m\u001b[0m\u001b[0m\n\u001b[1;32m    111\u001b[0m \u001b[0;34m\u001b[0m\u001b[0m\n\u001b[0;32m--> 112\u001b[0;31m \u001b[0;34m@\u001b[0m\u001b[0marray_function_dispatch\u001b[0m\u001b[0;34m(\u001b[0m\u001b[0m_zeros_like_dispatcher\u001b[0m\u001b[0;34m)\u001b[0m\u001b[0;34m\u001b[0m\u001b[0;34m\u001b[0m\u001b[0m\n\u001b[0m\u001b[1;32m    113\u001b[0m \u001b[0;32mdef\u001b[0m \u001b[0mzeros_like\u001b[0m\u001b[0;34m(\u001b[0m\u001b[0ma\u001b[0m\u001b[0;34m,\u001b[0m \u001b[0mdtype\u001b[0m\u001b[0;34m=\u001b[0m\u001b[0;32mNone\u001b[0m\u001b[0;34m,\u001b[0m \u001b[0morder\u001b[0m\u001b[0;34m=\u001b[0m\u001b[0;34m'K'\u001b[0m\u001b[0;34m,\u001b[0m \u001b[0msubok\u001b[0m\u001b[0;34m=\u001b[0m\u001b[0;32mTrue\u001b[0m\u001b[0;34m)\u001b[0m\u001b[0;34m:\u001b[0m\u001b[0;34m\u001b[0m\u001b[0;34m\u001b[0m\u001b[0m\n\u001b[1;32m    114\u001b[0m     \"\"\"\n",
      "\u001b[0;32msrc/cysignals/signals.pyx\u001b[0m in \u001b[0;36mcysignals.signals.python_check_interrupt\u001b[0;34m()\u001b[0m\n",
      "\u001b[0;31mKeyboardInterrupt\u001b[0m: "
     ]
    }
   ],
   "source": [
    "from itertools import combinations, chain\n",
    "roots = [1,2,3,4]\n",
    "subsets = list(chain.from_iterable(combinations(roots,i) for i in range(len(roots))))\n",
    "d = 'C4'\n",
    "BGG = BGGComplex(d)\n",
    "for subset in subsets[::-1]:\n",
    "    factory = FastModuleFactory(BGG.LA)\n",
    "    component_dic = {'u':factory.build_component('u','coad',subset=subset)}\n",
    "    u_dim = len(component_dic['u'].basis)\n",
    "    print('dim of u is %d for root system %s and subset %s' % (u_dim, d, subset))\n",
    "    pbar1 = tqdm(range(u_dim+1))\n",
    "    pbar2 = tqdm()\n",
    "    pbar3 = None\n",
    "    for k in pbar1:\n",
    "        components = [[('u',k,'wedge')]]\n",
    "        module = FastLieAlgebraCompositeModule(factory,components,component_dic)\n",
    "\n",
    "        cohom = BGGCohomology(BGG, module,pbars=[pbar2,pbar3])\n",
    "        subset_string = ''.join(str(s) for s in subset) \n",
    "        cohom.cohomology_LaTeX(i = 1, complex_string=r'X_{'+subset_string+r'},\\wedge^{'+str(k)+'}T_X',print_betti=True)"
   ]
  },
  {
   "cell_type": "markdown",
   "metadata": {},
   "source": [
    "## D4 parabolic, degree 1"
   ]
  },
  {
   "cell_type": "code",
   "execution_count": 2,
   "metadata": {
    "scrolled": true
   },
   "outputs": [
    {
     "name": "stdout",
     "output_type": "stream",
     "text": [
      "dim of u is 6 for root system D4 and subset (2, 3, 4)\n"
     ]
    },
    {
     "data": {
      "application/vnd.jupyter.widget-view+json": {
       "model_id": "49bde4af508d4a6abca0d599479e8627",
       "version_major": 2,
       "version_minor": 0
      },
      "text/plain": [
       "HBox(children=(FloatProgress(value=0.0, max=7.0), HTML(value='')))"
      ]
     },
     "metadata": {},
     "output_type": "display_data"
    },
    {
     "data": {
      "application/vnd.jupyter.widget-view+json": {
       "model_id": "387042ebe7ae4babb5a4b93674babb8b",
       "version_major": 2,
       "version_minor": 0
      },
      "text/plain": [
       "HBox(children=(FloatProgress(value=1.0, bar_style='info', max=1.0), HTML(value='')))"
      ]
     },
     "metadata": {},
     "output_type": "display_data"
    },
    {
     "name": "stdout",
     "output_type": "stream",
     "text": [
      "\n",
      "dim of u is 9 for root system D4 and subset (1, 3, 4)\n"
     ]
    },
    {
     "data": {
      "application/vnd.jupyter.widget-view+json": {
       "model_id": "81959564700b4b8e96c580697c3c3505",
       "version_major": 2,
       "version_minor": 0
      },
      "text/plain": [
       "HBox(children=(FloatProgress(value=0.0, max=10.0), HTML(value='')))"
      ]
     },
     "metadata": {},
     "output_type": "display_data"
    },
    {
     "data": {
      "application/vnd.jupyter.widget-view+json": {
       "model_id": "4cd2d8834c9844c8990a53691dd49bf2",
       "version_major": 2,
       "version_minor": 0
      },
      "text/plain": [
       "HBox(children=(FloatProgress(value=1.0, bar_style='info', max=1.0), HTML(value='')))"
      ]
     },
     "metadata": {},
     "output_type": "display_data"
    },
    {
     "name": "stdout",
     "output_type": "stream",
     "text": [
      "\n",
      "\n",
      "dim of u is 6 for root system D4 and subset (1, 2, 4)\n"
     ]
    },
    {
     "data": {
      "application/vnd.jupyter.widget-view+json": {
       "model_id": "f57f6072bb7c4579a533a1c2026f04c9",
       "version_major": 2,
       "version_minor": 0
      },
      "text/plain": [
       "HBox(children=(FloatProgress(value=0.0, max=7.0), HTML(value='')))"
      ]
     },
     "metadata": {},
     "output_type": "display_data"
    },
    {
     "data": {
      "application/vnd.jupyter.widget-view+json": {
       "model_id": "3b97bffd9e6f44cc86a7c89c34368d85",
       "version_major": 2,
       "version_minor": 0
      },
      "text/plain": [
       "HBox(children=(FloatProgress(value=1.0, bar_style='info', max=1.0), HTML(value='')))"
      ]
     },
     "metadata": {},
     "output_type": "display_data"
    },
    {
     "name": "stdout",
     "output_type": "stream",
     "text": [
      "\n",
      "dim of u is 6 for root system D4 and subset (1, 2, 3)\n"
     ]
    },
    {
     "data": {
      "application/vnd.jupyter.widget-view+json": {
       "model_id": "ce57ef32f54e44158ece68d27c19f42d",
       "version_major": 2,
       "version_minor": 0
      },
      "text/plain": [
       "HBox(children=(FloatProgress(value=0.0, max=7.0), HTML(value='')))"
      ]
     },
     "metadata": {},
     "output_type": "display_data"
    },
    {
     "data": {
      "application/vnd.jupyter.widget-view+json": {
       "model_id": "11b0ba220cbd4031b6792ec14ffc9412",
       "version_major": 2,
       "version_minor": 0
      },
      "text/plain": [
       "HBox(children=(FloatProgress(value=1.0, bar_style='info', max=1.0), HTML(value='')))"
      ]
     },
     "metadata": {},
     "output_type": "display_data"
    },
    {
     "name": "stdout",
     "output_type": "stream",
     "text": [
      "\n",
      "dim of u is 10 for root system D4 and subset (3, 4)\n"
     ]
    },
    {
     "data": {
      "application/vnd.jupyter.widget-view+json": {
       "model_id": "97967671d45a40cf976e5de502dfae88",
       "version_major": 2,
       "version_minor": 0
      },
      "text/plain": [
       "HBox(children=(FloatProgress(value=0.0, max=11.0), HTML(value='')))"
      ]
     },
     "metadata": {},
     "output_type": "display_data"
    },
    {
     "data": {
      "application/vnd.jupyter.widget-view+json": {
       "model_id": "9129ac882f8a4906a4f55d11f92544e6",
       "version_major": 2,
       "version_minor": 0
      },
      "text/plain": [
       "HBox(children=(FloatProgress(value=1.0, bar_style='info', max=1.0), HTML(value='')))"
      ]
     },
     "metadata": {},
     "output_type": "display_data"
    },
    {
     "name": "stdout",
     "output_type": "stream",
     "text": [
      "\n",
      "dim of u is 9 for root system D4 and subset (2, 4)\n"
     ]
    },
    {
     "data": {
      "application/vnd.jupyter.widget-view+json": {
       "model_id": "7a2c27f507f7451abcab79157b6cff49",
       "version_major": 2,
       "version_minor": 0
      },
      "text/plain": [
       "HBox(children=(FloatProgress(value=0.0, max=10.0), HTML(value='')))"
      ]
     },
     "metadata": {},
     "output_type": "display_data"
    },
    {
     "data": {
      "application/vnd.jupyter.widget-view+json": {
       "model_id": "69b08b68f6ee4f44917cbe2b4e47da07",
       "version_major": 2,
       "version_minor": 0
      },
      "text/plain": [
       "HBox(children=(FloatProgress(value=1.0, bar_style='info', max=1.0), HTML(value='')))"
      ]
     },
     "metadata": {},
     "output_type": "display_data"
    },
    {
     "name": "stdout",
     "output_type": "stream",
     "text": [
      "\n",
      "dim of u is 9 for root system D4 and subset (2, 3)\n"
     ]
    },
    {
     "data": {
      "application/vnd.jupyter.widget-view+json": {
       "model_id": "f2eb5ede6a504d389805d7503fcb5521",
       "version_major": 2,
       "version_minor": 0
      },
      "text/plain": [
       "HBox(children=(FloatProgress(value=0.0, max=10.0), HTML(value='')))"
      ]
     },
     "metadata": {},
     "output_type": "display_data"
    },
    {
     "data": {
      "application/vnd.jupyter.widget-view+json": {
       "model_id": "98c97f69ddc44ae5b2ba3c54d4ff7dd5",
       "version_major": 2,
       "version_minor": 0
      },
      "text/plain": [
       "HBox(children=(FloatProgress(value=1.0, bar_style='info', max=1.0), HTML(value='')))"
      ]
     },
     "metadata": {},
     "output_type": "display_data"
    },
    {
     "name": "stdout",
     "output_type": "stream",
     "text": [
      "\n",
      "dim of u is 10 for root system D4 and subset (1, 4)\n"
     ]
    },
    {
     "data": {
      "application/vnd.jupyter.widget-view+json": {
       "model_id": "1a363495b8e9423880e5dd2b65f6a001",
       "version_major": 2,
       "version_minor": 0
      },
      "text/plain": [
       "HBox(children=(FloatProgress(value=0.0, max=11.0), HTML(value='')))"
      ]
     },
     "metadata": {},
     "output_type": "display_data"
    },
    {
     "data": {
      "application/vnd.jupyter.widget-view+json": {
       "model_id": "f81c493407ee46ad9e780a1365c2f7e8",
       "version_major": 2,
       "version_minor": 0
      },
      "text/plain": [
       "HBox(children=(FloatProgress(value=1.0, bar_style='info', max=1.0), HTML(value='')))"
      ]
     },
     "metadata": {},
     "output_type": "display_data"
    },
    {
     "name": "stdout",
     "output_type": "stream",
     "text": [
      "\n",
      "dim of u is 10 for root system D4 and subset (1, 3)\n"
     ]
    },
    {
     "data": {
      "application/vnd.jupyter.widget-view+json": {
       "model_id": "48b2c542d08f40c59b443f5a90ba3ebd",
       "version_major": 2,
       "version_minor": 0
      },
      "text/plain": [
       "HBox(children=(FloatProgress(value=0.0, max=11.0), HTML(value='')))"
      ]
     },
     "metadata": {},
     "output_type": "display_data"
    },
    {
     "data": {
      "application/vnd.jupyter.widget-view+json": {
       "model_id": "cd301ea3080347439e1c367a51aa727d",
       "version_major": 2,
       "version_minor": 0
      },
      "text/plain": [
       "HBox(children=(FloatProgress(value=1.0, bar_style='info', max=1.0), HTML(value='')))"
      ]
     },
     "metadata": {},
     "output_type": "display_data"
    },
    {
     "name": "stdout",
     "output_type": "stream",
     "text": [
      "\n",
      "dim of u is 9 for root system D4 and subset (1, 2)\n"
     ]
    },
    {
     "data": {
      "application/vnd.jupyter.widget-view+json": {
       "model_id": "aabb13731215435da5c45ffa6424187b",
       "version_major": 2,
       "version_minor": 0
      },
      "text/plain": [
       "HBox(children=(FloatProgress(value=0.0, max=10.0), HTML(value='')))"
      ]
     },
     "metadata": {},
     "output_type": "display_data"
    },
    {
     "data": {
      "application/vnd.jupyter.widget-view+json": {
       "model_id": "95d949d3995241e59323dcb4d9673fab",
       "version_major": 2,
       "version_minor": 0
      },
      "text/plain": [
       "HBox(children=(FloatProgress(value=1.0, bar_style='info', max=1.0), HTML(value='')))"
      ]
     },
     "metadata": {},
     "output_type": "display_data"
    },
    {
     "name": "stdout",
     "output_type": "stream",
     "text": [
      "\n",
      "dim of u is 11 for root system D4 and subset (4,)\n"
     ]
    },
    {
     "data": {
      "application/vnd.jupyter.widget-view+json": {
       "model_id": "807b6ec6d9574503b3b2701b982f8b30",
       "version_major": 2,
       "version_minor": 0
      },
      "text/plain": [
       "HBox(children=(FloatProgress(value=0.0, max=12.0), HTML(value='')))"
      ]
     },
     "metadata": {},
     "output_type": "display_data"
    },
    {
     "data": {
      "application/vnd.jupyter.widget-view+json": {
       "model_id": "3b2ebe976f574ba999f36ee28ff5bc41",
       "version_major": 2,
       "version_minor": 0
      },
      "text/plain": [
       "HBox(children=(FloatProgress(value=1.0, bar_style='info', max=1.0), HTML(value='')))"
      ]
     },
     "metadata": {},
     "output_type": "display_data"
    },
    {
     "name": "stdout",
     "output_type": "stream",
     "text": [
      "\n",
      "dim of u is 11 for root system D4 and subset (3,)\n"
     ]
    },
    {
     "data": {
      "application/vnd.jupyter.widget-view+json": {
       "model_id": "655bbcc722ad44bcb60d1da140d544fe",
       "version_major": 2,
       "version_minor": 0
      },
      "text/plain": [
       "HBox(children=(FloatProgress(value=0.0, max=12.0), HTML(value='')))"
      ]
     },
     "metadata": {},
     "output_type": "display_data"
    },
    {
     "data": {
      "application/vnd.jupyter.widget-view+json": {
       "model_id": "be2f5cc2326b4f81a1fe1016f5fd989e",
       "version_major": 2,
       "version_minor": 0
      },
      "text/plain": [
       "HBox(children=(FloatProgress(value=1.0, bar_style='info', max=1.0), HTML(value='')))"
      ]
     },
     "metadata": {},
     "output_type": "display_data"
    },
    {
     "name": "stdout",
     "output_type": "stream",
     "text": [
      "\n",
      "dim of u is 11 for root system D4 and subset (2,)\n"
     ]
    },
    {
     "data": {
      "application/vnd.jupyter.widget-view+json": {
       "model_id": "1abd4ba723264f2cb6b319ca5e506793",
       "version_major": 2,
       "version_minor": 0
      },
      "text/plain": [
       "HBox(children=(FloatProgress(value=0.0, max=12.0), HTML(value='')))"
      ]
     },
     "metadata": {},
     "output_type": "display_data"
    },
    {
     "data": {
      "application/vnd.jupyter.widget-view+json": {
       "model_id": "8e028ef45af049948d8991da840de819",
       "version_major": 2,
       "version_minor": 0
      },
      "text/plain": [
       "HBox(children=(FloatProgress(value=1.0, bar_style='info', max=1.0), HTML(value='')))"
      ]
     },
     "metadata": {},
     "output_type": "display_data"
    },
    {
     "data": {
      "text/latex": [
       "$$\\mathrm H^{1}(X_{2},\\wedge^{2}T_X)=L\\left(\\alpha_{1}+ 2\\alpha_{2}+\\alpha_{3}+\\alpha_{4}\\right)$$"
      ],
      "text/plain": [
       "<IPython.core.display.Math object>"
      ]
     },
     "metadata": {},
     "output_type": "display_data"
    },
    {
     "data": {
      "text/latex": [
       "$$\\mathrm b^{1}(X_{2},\\wedge^{2}T_X)=28$$"
      ],
      "text/plain": [
       "<IPython.core.display.Math object>"
      ]
     },
     "metadata": {},
     "output_type": "display_data"
    },
    {
     "data": {
      "text/latex": [
       "$$\\mathrm H^{1}(X_{2},\\wedge^{3}T_X)=L\\left( 2\\alpha_{1}+ 4\\alpha_{2}+ 2\\alpha_{3}+ 2\\alpha_{4}\\right)$$"
      ],
      "text/plain": [
       "<IPython.core.display.Math object>"
      ]
     },
     "metadata": {},
     "output_type": "display_data"
    },
    {
     "data": {
      "text/latex": [
       "$$\\mathrm b^{1}(X_{2},\\wedge^{3}T_X)=300$$"
      ],
      "text/plain": [
       "<IPython.core.display.Math object>"
      ]
     },
     "metadata": {},
     "output_type": "display_data"
    },
    {
     "name": "stdout",
     "output_type": "stream",
     "text": [
      "\n",
      "dim of u is 11 for root system D4 and subset (1,)\n"
     ]
    },
    {
     "data": {
      "application/vnd.jupyter.widget-view+json": {
       "model_id": "dab8b6f1de12445cbe581e93206cd5fa",
       "version_major": 2,
       "version_minor": 0
      },
      "text/plain": [
       "HBox(children=(FloatProgress(value=0.0, max=12.0), HTML(value='')))"
      ]
     },
     "metadata": {},
     "output_type": "display_data"
    },
    {
     "data": {
      "application/vnd.jupyter.widget-view+json": {
       "model_id": "0ded916c20a24ea7b82490da614269d4",
       "version_major": 2,
       "version_minor": 0
      },
      "text/plain": [
       "HBox(children=(FloatProgress(value=1.0, bar_style='info', max=1.0), HTML(value='')))"
      ]
     },
     "metadata": {},
     "output_type": "display_data"
    },
    {
     "name": "stdout",
     "output_type": "stream",
     "text": [
      "\n",
      "dim of u is 12 for root system D4 and subset ()\n"
     ]
    },
    {
     "data": {
      "application/vnd.jupyter.widget-view+json": {
       "model_id": "4da508684e7346bab56929de7039bd58",
       "version_major": 2,
       "version_minor": 0
      },
      "text/plain": [
       "HBox(children=(FloatProgress(value=0.0, max=13.0), HTML(value='')))"
      ]
     },
     "metadata": {},
     "output_type": "display_data"
    },
    {
     "data": {
      "application/vnd.jupyter.widget-view+json": {
       "model_id": "a6352f7bcd0d46a6bc614e53826837ed",
       "version_major": 2,
       "version_minor": 0
      },
      "text/plain": [
       "HBox(children=(FloatProgress(value=1.0, bar_style='info', max=1.0), HTML(value='')))"
      ]
     },
     "metadata": {},
     "output_type": "display_data"
    },
    {
     "data": {
      "text/latex": [
       "$$\\mathrm H^{1}(X_{},\\wedge^{3}T_X)=L\\left(\\alpha_{1}+ 2\\alpha_{2}+\\alpha_{3}+\\alpha_{4}\\right)$$"
      ],
      "text/plain": [
       "<IPython.core.display.Math object>"
      ]
     },
     "metadata": {},
     "output_type": "display_data"
    },
    {
     "data": {
      "text/latex": [
       "$$\\mathrm b^{1}(X_{},\\wedge^{3}T_X)=28$$"
      ],
      "text/plain": [
       "<IPython.core.display.Math object>"
      ]
     },
     "metadata": {},
     "output_type": "display_data"
    },
    {
     "data": {
      "text/latex": [
       "$$\\mathrm H^{1}(X_{},\\wedge^{4}T_X)=L\\left( 2\\alpha_{1}+ 4\\alpha_{2}+ 2\\alpha_{3}+ 2\\alpha_{4}\\right)$$"
      ],
      "text/plain": [
       "<IPython.core.display.Math object>"
      ]
     },
     "metadata": {},
     "output_type": "display_data"
    },
    {
     "data": {
      "text/latex": [
       "$$\\mathrm b^{1}(X_{},\\wedge^{4}T_X)=300$$"
      ],
      "text/plain": [
       "<IPython.core.display.Math object>"
      ]
     },
     "metadata": {},
     "output_type": "display_data"
    },
    {
     "name": "stdout",
     "output_type": "stream",
     "text": [
      "\n"
     ]
    }
   ],
   "source": [
    "from itertools import combinations, chain\n",
    "roots = [1,2,3,4]\n",
    "subsets = list(chain.from_iterable(combinations(roots,i) for i in range(len(roots))))\n",
    "d = 'D4'\n",
    "BGG = BGGComplex(d)\n",
    "for subset in subsets[::-1]:\n",
    "    factory = FastModuleFactory(BGG.LA)\n",
    "    component_dic = {'u':factory.build_component('u','coad',subset=subset)}\n",
    "    u_dim = len(component_dic['u'].basis)\n",
    "    print('dim of u is %d for root system %s and subset %s' % (u_dim, d, subset))\n",
    "    pbar1 = tqdm(range(u_dim+1))\n",
    "    pbar2 = tqdm()\n",
    "    pbar3 = None\n",
    "    for k in pbar1:\n",
    "        components = [[('u',k,'wedge')]]\n",
    "        module = FastLieAlgebraCompositeModule(factory,components,component_dic)\n",
    "\n",
    "        cohom = BGGCohomology(BGG, module,pbars=[pbar2,pbar3])\n",
    "        subset_string = ''.join(str(s) for s in subset) \n",
    "        cohom.cohomology_LaTeX(i = 1, complex_string=r'X_{'+subset_string+r'},\\wedge^{'+str(k)+'}T_X',print_betti=True)"
   ]
  },
  {
   "cell_type": "markdown",
   "metadata": {},
   "source": [
    "## A5 parabolic, degree 1"
   ]
  },
  {
   "cell_type": "code",
   "execution_count": 3,
   "metadata": {
    "scrolled": true
   },
   "outputs": [
    {
     "name": "stdout",
     "output_type": "stream",
     "text": [
      "dim of u is 5 for root system A5 and subset (2, 3, 4, 5)\n"
     ]
    },
    {
     "data": {
      "application/vnd.jupyter.widget-view+json": {
       "model_id": "0db5135e9349491fb7dbb287575dc52c",
       "version_major": 2,
       "version_minor": 0
      },
      "text/plain": [
       "HBox(children=(FloatProgress(value=0.0, max=6.0), HTML(value='')))"
      ]
     },
     "metadata": {},
     "output_type": "display_data"
    },
    {
     "data": {
      "application/vnd.jupyter.widget-view+json": {
       "model_id": "ae924e6431da4362a30e0a90a0ec39e1",
       "version_major": 2,
       "version_minor": 0
      },
      "text/plain": [
       "HBox(children=(FloatProgress(value=1.0, bar_style='info', max=1.0), HTML(value='')))"
      ]
     },
     "metadata": {},
     "output_type": "display_data"
    },
    {
     "name": "stdout",
     "output_type": "stream",
     "text": [
      "\n",
      "dim of u is 8 for root system A5 and subset (1, 3, 4, 5)\n"
     ]
    },
    {
     "data": {
      "application/vnd.jupyter.widget-view+json": {
       "model_id": "54e8aa304de4472f9642f3923be4efa9",
       "version_major": 2,
       "version_minor": 0
      },
      "text/plain": [
       "HBox(children=(FloatProgress(value=0.0, max=9.0), HTML(value='')))"
      ]
     },
     "metadata": {},
     "output_type": "display_data"
    },
    {
     "data": {
      "application/vnd.jupyter.widget-view+json": {
       "model_id": "2bcc86ad8e45499fad7a1342c522a865",
       "version_major": 2,
       "version_minor": 0
      },
      "text/plain": [
       "HBox(children=(FloatProgress(value=1.0, bar_style='info', max=1.0), HTML(value='')))"
      ]
     },
     "metadata": {},
     "output_type": "display_data"
    },
    {
     "name": "stdout",
     "output_type": "stream",
     "text": [
      "\n",
      "dim of u is 9 for root system A5 and subset (1, 2, 4, 5)\n"
     ]
    },
    {
     "data": {
      "application/vnd.jupyter.widget-view+json": {
       "model_id": "3035add3b46b4f75867d920dc23f00e3",
       "version_major": 2,
       "version_minor": 0
      },
      "text/plain": [
       "HBox(children=(FloatProgress(value=0.0, max=10.0), HTML(value='')))"
      ]
     },
     "metadata": {},
     "output_type": "display_data"
    },
    {
     "data": {
      "application/vnd.jupyter.widget-view+json": {
       "model_id": "aaa357fb499c4963a0c942e6bce166c4",
       "version_major": 2,
       "version_minor": 0
      },
      "text/plain": [
       "HBox(children=(FloatProgress(value=1.0, bar_style='info', max=1.0), HTML(value='')))"
      ]
     },
     "metadata": {},
     "output_type": "display_data"
    },
    {
     "name": "stdout",
     "output_type": "stream",
     "text": [
      "\n",
      "dim of u is 8 for root system A5 and subset (1, 2, 3, 5)\n"
     ]
    },
    {
     "data": {
      "application/vnd.jupyter.widget-view+json": {
       "model_id": "d2b1bc43ca0c4c7a97ee797563b6e820",
       "version_major": 2,
       "version_minor": 0
      },
      "text/plain": [
       "HBox(children=(FloatProgress(value=0.0, max=9.0), HTML(value='')))"
      ]
     },
     "metadata": {},
     "output_type": "display_data"
    },
    {
     "data": {
      "application/vnd.jupyter.widget-view+json": {
       "model_id": "5eed0bd8334845be8808fdd8cb69b756",
       "version_major": 2,
       "version_minor": 0
      },
      "text/plain": [
       "HBox(children=(FloatProgress(value=1.0, bar_style='info', max=1.0), HTML(value='')))"
      ]
     },
     "metadata": {},
     "output_type": "display_data"
    },
    {
     "name": "stdout",
     "output_type": "stream",
     "text": [
      "\n",
      "dim of u is 5 for root system A5 and subset (1, 2, 3, 4)\n"
     ]
    },
    {
     "data": {
      "application/vnd.jupyter.widget-view+json": {
       "model_id": "bcc0c400caf149bc8bb0a82dca7e6438",
       "version_major": 2,
       "version_minor": 0
      },
      "text/plain": [
       "HBox(children=(FloatProgress(value=0.0, max=6.0), HTML(value='')))"
      ]
     },
     "metadata": {},
     "output_type": "display_data"
    },
    {
     "data": {
      "application/vnd.jupyter.widget-view+json": {
       "model_id": "147b6e0c4f6a4b539ea2c6bfff055e9b",
       "version_major": 2,
       "version_minor": 0
      },
      "text/plain": [
       "HBox(children=(FloatProgress(value=1.0, bar_style='info', max=1.0), HTML(value='')))"
      ]
     },
     "metadata": {},
     "output_type": "display_data"
    },
    {
     "name": "stdout",
     "output_type": "stream",
     "text": [
      "\n",
      "dim of u is 9 for root system A5 and subset (3, 4, 5)\n"
     ]
    },
    {
     "data": {
      "application/vnd.jupyter.widget-view+json": {
       "model_id": "13256033083a4b93af3bf663325258a2",
       "version_major": 2,
       "version_minor": 0
      },
      "text/plain": [
       "HBox(children=(FloatProgress(value=0.0, max=10.0), HTML(value='')))"
      ]
     },
     "metadata": {},
     "output_type": "display_data"
    },
    {
     "data": {
      "application/vnd.jupyter.widget-view+json": {
       "model_id": "1268156a3d4742aba4d8f6f644e50db9",
       "version_major": 2,
       "version_minor": 0
      },
      "text/plain": [
       "HBox(children=(FloatProgress(value=1.0, bar_style='info', max=1.0), HTML(value='')))"
      ]
     },
     "metadata": {},
     "output_type": "display_data"
    },
    {
     "name": "stdout",
     "output_type": "stream",
     "text": [
      "\n",
      "dim of u is 11 for root system A5 and subset (2, 4, 5)\n"
     ]
    },
    {
     "data": {
      "application/vnd.jupyter.widget-view+json": {
       "model_id": "630ee58c6c6e42cf869d57943ebe4860",
       "version_major": 2,
       "version_minor": 0
      },
      "text/plain": [
       "HBox(children=(FloatProgress(value=0.0, max=12.0), HTML(value='')))"
      ]
     },
     "metadata": {},
     "output_type": "display_data"
    },
    {
     "data": {
      "application/vnd.jupyter.widget-view+json": {
       "model_id": "ba2e08849e47495785372599791cee64",
       "version_major": 2,
       "version_minor": 0
      },
      "text/plain": [
       "HBox(children=(FloatProgress(value=1.0, bar_style='info', max=1.0), HTML(value='')))"
      ]
     },
     "metadata": {},
     "output_type": "display_data"
    },
    {
     "name": "stdout",
     "output_type": "stream",
     "text": [
      "\n",
      "dim of u is 11 for root system A5 and subset (2, 3, 5)\n"
     ]
    },
    {
     "data": {
      "application/vnd.jupyter.widget-view+json": {
       "model_id": "82810ae016be48f8937734919c867e84",
       "version_major": 2,
       "version_minor": 0
      },
      "text/plain": [
       "HBox(children=(FloatProgress(value=0.0, max=12.0), HTML(value='')))"
      ]
     },
     "metadata": {},
     "output_type": "display_data"
    },
    {
     "data": {
      "application/vnd.jupyter.widget-view+json": {
       "model_id": "71859e8aa26f484099e63c7616f6768a",
       "version_major": 2,
       "version_minor": 0
      },
      "text/plain": [
       "HBox(children=(FloatProgress(value=1.0, bar_style='info', max=1.0), HTML(value='')))"
      ]
     },
     "metadata": {},
     "output_type": "display_data"
    },
    {
     "name": "stdout",
     "output_type": "stream",
     "text": [
      "\n",
      "dim of u is 9 for root system A5 and subset (2, 3, 4)\n"
     ]
    },
    {
     "data": {
      "application/vnd.jupyter.widget-view+json": {
       "model_id": "4f7e742d606b4767895d3221adecf4a5",
       "version_major": 2,
       "version_minor": 0
      },
      "text/plain": [
       "HBox(children=(FloatProgress(value=0.0, max=10.0), HTML(value='')))"
      ]
     },
     "metadata": {},
     "output_type": "display_data"
    },
    {
     "data": {
      "application/vnd.jupyter.widget-view+json": {
       "model_id": "ef5d3749d83f479dae23324a128796b9",
       "version_major": 2,
       "version_minor": 0
      },
      "text/plain": [
       "HBox(children=(FloatProgress(value=1.0, bar_style='info', max=1.0), HTML(value='')))"
      ]
     },
     "metadata": {},
     "output_type": "display_data"
    },
    {
     "name": "stdout",
     "output_type": "stream",
     "text": [
      "\n",
      "dim of u is 11 for root system A5 and subset (1, 4, 5)\n"
     ]
    },
    {
     "data": {
      "application/vnd.jupyter.widget-view+json": {
       "model_id": "5ac3f1eb318042bca63f8dc9d24949f2",
       "version_major": 2,
       "version_minor": 0
      },
      "text/plain": [
       "HBox(children=(FloatProgress(value=0.0, max=12.0), HTML(value='')))"
      ]
     },
     "metadata": {},
     "output_type": "display_data"
    },
    {
     "data": {
      "application/vnd.jupyter.widget-view+json": {
       "model_id": "71cf7719c19a4d44ad73cddaad7e48d8",
       "version_major": 2,
       "version_minor": 0
      },
      "text/plain": [
       "HBox(children=(FloatProgress(value=1.0, bar_style='info', max=1.0), HTML(value='')))"
      ]
     },
     "metadata": {},
     "output_type": "display_data"
    },
    {
     "name": "stdout",
     "output_type": "stream",
     "text": [
      "\n",
      "dim of u is 12 for root system A5 and subset (1, 3, 5)\n"
     ]
    },
    {
     "data": {
      "application/vnd.jupyter.widget-view+json": {
       "model_id": "ed4f8ba457eb48cdb251fa80cff940d2",
       "version_major": 2,
       "version_minor": 0
      },
      "text/plain": [
       "HBox(children=(FloatProgress(value=0.0, max=13.0), HTML(value='')))"
      ]
     },
     "metadata": {},
     "output_type": "display_data"
    },
    {
     "data": {
      "application/vnd.jupyter.widget-view+json": {
       "model_id": "f4a95e31251643f8b0a87cd668719db1",
       "version_major": 2,
       "version_minor": 0
      },
      "text/plain": [
       "HBox(children=(FloatProgress(value=1.0, bar_style='info', max=1.0), HTML(value='')))"
      ]
     },
     "metadata": {},
     "output_type": "display_data"
    },
    {
     "data": {
      "text/latex": [
       "$$\\mathrm H^{1}(X_{135},\\wedge^{3}T_X)=L\\left(\\alpha_{1}+ 2\\alpha_{2}+ 3\\alpha_{3}+ 2\\alpha_{4}+\\alpha_{5}\\right)$$"
      ],
      "text/plain": [
       "<IPython.core.display.Math object>"
      ]
     },
     "metadata": {},
     "output_type": "display_data"
    },
    {
     "data": {
      "text/latex": [
       "$$\\mathrm b^{1}(X_{135},\\wedge^{3}T_X)=175$$"
      ],
      "text/plain": [
       "<IPython.core.display.Math object>"
      ]
     },
     "metadata": {},
     "output_type": "display_data"
    },
    {
     "name": "stdout",
     "output_type": "stream",
     "text": [
      "\n",
      "dim of u is 11 for root system A5 and subset (1, 3, 4)\n"
     ]
    },
    {
     "data": {
      "application/vnd.jupyter.widget-view+json": {
       "model_id": "fded1f160b5744ed90f1c90035fbef64",
       "version_major": 2,
       "version_minor": 0
      },
      "text/plain": [
       "HBox(children=(FloatProgress(value=0.0, max=12.0), HTML(value='')))"
      ]
     },
     "metadata": {},
     "output_type": "display_data"
    },
    {
     "data": {
      "application/vnd.jupyter.widget-view+json": {
       "model_id": "26b243dbb3274de19a7ef8dcd38de6a7",
       "version_major": 2,
       "version_minor": 0
      },
      "text/plain": [
       "HBox(children=(FloatProgress(value=1.0, bar_style='info', max=1.0), HTML(value='')))"
      ]
     },
     "metadata": {},
     "output_type": "display_data"
    },
    {
     "name": "stdout",
     "output_type": "stream",
     "text": [
      "\n",
      "dim of u is 11 for root system A5 and subset (1, 2, 5)\n"
     ]
    },
    {
     "data": {
      "application/vnd.jupyter.widget-view+json": {
       "model_id": "bdee70707f1d49e5a44a3e51e3199c9c",
       "version_major": 2,
       "version_minor": 0
      },
      "text/plain": [
       "HBox(children=(FloatProgress(value=0.0, max=12.0), HTML(value='')))"
      ]
     },
     "metadata": {},
     "output_type": "display_data"
    },
    {
     "data": {
      "application/vnd.jupyter.widget-view+json": {
       "model_id": "4cd06db665d5478a8e4aefae7cc9ab41",
       "version_major": 2,
       "version_minor": 0
      },
      "text/plain": [
       "HBox(children=(FloatProgress(value=1.0, bar_style='info', max=1.0), HTML(value='')))"
      ]
     },
     "metadata": {},
     "output_type": "display_data"
    },
    {
     "name": "stdout",
     "output_type": "stream",
     "text": [
      "\n",
      "dim of u is 11 for root system A5 and subset (1, 2, 4)\n"
     ]
    },
    {
     "data": {
      "application/vnd.jupyter.widget-view+json": {
       "model_id": "0b023449921b4c53af5461097c45afa2",
       "version_major": 2,
       "version_minor": 0
      },
      "text/plain": [
       "HBox(children=(FloatProgress(value=0.0, max=12.0), HTML(value='')))"
      ]
     },
     "metadata": {},
     "output_type": "display_data"
    },
    {
     "data": {
      "application/vnd.jupyter.widget-view+json": {
       "model_id": "df9e5f6af93240639c61c2693fb51762",
       "version_major": 2,
       "version_minor": 0
      },
      "text/plain": [
       "HBox(children=(FloatProgress(value=1.0, bar_style='info', max=1.0), HTML(value='')))"
      ]
     },
     "metadata": {},
     "output_type": "display_data"
    },
    {
     "name": "stdout",
     "output_type": "stream",
     "text": [
      "\n",
      "dim of u is 9 for root system A5 and subset (1, 2, 3)\n"
     ]
    },
    {
     "data": {
      "application/vnd.jupyter.widget-view+json": {
       "model_id": "a44dc652b491490b86ec8f6a3d653373",
       "version_major": 2,
       "version_minor": 0
      },
      "text/plain": [
       "HBox(children=(FloatProgress(value=0.0, max=10.0), HTML(value='')))"
      ]
     },
     "metadata": {},
     "output_type": "display_data"
    },
    {
     "data": {
      "application/vnd.jupyter.widget-view+json": {
       "model_id": "98cf78bd9dff46599d3885fbce8e4760",
       "version_major": 2,
       "version_minor": 0
      },
      "text/plain": [
       "HBox(children=(FloatProgress(value=1.0, bar_style='info', max=1.0), HTML(value='')))"
      ]
     },
     "metadata": {},
     "output_type": "display_data"
    },
    {
     "name": "stdout",
     "output_type": "stream",
     "text": [
      "\n",
      "dim of u is 12 for root system A5 and subset (4, 5)\n"
     ]
    },
    {
     "data": {
      "application/vnd.jupyter.widget-view+json": {
       "model_id": "2301e140e38e4e358972e17618c82bdf",
       "version_major": 2,
       "version_minor": 0
      },
      "text/plain": [
       "HBox(children=(FloatProgress(value=0.0, max=13.0), HTML(value='')))"
      ]
     },
     "metadata": {},
     "output_type": "display_data"
    },
    {
     "data": {
      "application/vnd.jupyter.widget-view+json": {
       "model_id": "84425048afc9452fae8c079489aa49dc",
       "version_major": 2,
       "version_minor": 0
      },
      "text/plain": [
       "HBox(children=(FloatProgress(value=1.0, bar_style='info', max=1.0), HTML(value='')))"
      ]
     },
     "metadata": {},
     "output_type": "display_data"
    },
    {
     "name": "stdout",
     "output_type": "stream",
     "text": [
      "\n",
      "dim of u is 13 for root system A5 and subset (3, 5)\n"
     ]
    },
    {
     "data": {
      "application/vnd.jupyter.widget-view+json": {
       "model_id": "eb0d6e1ae6a64a0b89f53b64669bb60b",
       "version_major": 2,
       "version_minor": 0
      },
      "text/plain": [
       "HBox(children=(FloatProgress(value=0.0, max=14.0), HTML(value='')))"
      ]
     },
     "metadata": {},
     "output_type": "display_data"
    },
    {
     "data": {
      "application/vnd.jupyter.widget-view+json": {
       "model_id": "04d70a48aae54253a488ae01f1e61db4",
       "version_major": 2,
       "version_minor": 0
      },
      "text/plain": [
       "HBox(children=(FloatProgress(value=1.0, bar_style='info', max=1.0), HTML(value='')))"
      ]
     },
     "metadata": {},
     "output_type": "display_data"
    },
    {
     "data": {
      "text/latex": [
       "$$\\mathrm H^{1}(X_{35},\\wedge^{3}T_X)=L\\left(\\alpha_{1}+ 2\\alpha_{2}+ 3\\alpha_{3}+ 2\\alpha_{4}+\\alpha_{5}\\right)$$"
      ],
      "text/plain": [
       "<IPython.core.display.Math object>"
      ]
     },
     "metadata": {},
     "output_type": "display_data"
    },
    {
     "data": {
      "text/latex": [
       "$$\\mathrm b^{1}(X_{35},\\wedge^{3}T_X)=175$$"
      ],
      "text/plain": [
       "<IPython.core.display.Math object>"
      ]
     },
     "metadata": {},
     "output_type": "display_data"
    },
    {
     "name": "stdout",
     "output_type": "stream",
     "text": [
      "\n",
      "dim of u is 12 for root system A5 and subset (3, 4)\n"
     ]
    },
    {
     "data": {
      "application/vnd.jupyter.widget-view+json": {
       "model_id": "deda26921edc44ce873cc1cc018cf044",
       "version_major": 2,
       "version_minor": 0
      },
      "text/plain": [
       "HBox(children=(FloatProgress(value=0.0, max=13.0), HTML(value='')))"
      ]
     },
     "metadata": {},
     "output_type": "display_data"
    },
    {
     "data": {
      "application/vnd.jupyter.widget-view+json": {
       "model_id": "8fce49eceb5f43eba4477f8606ffa139",
       "version_major": 2,
       "version_minor": 0
      },
      "text/plain": [
       "HBox(children=(FloatProgress(value=1.0, bar_style='info', max=1.0), HTML(value='')))"
      ]
     },
     "metadata": {},
     "output_type": "display_data"
    },
    {
     "name": "stdout",
     "output_type": "stream",
     "text": [
      "\n",
      "dim of u is 13 for root system A5 and subset (2, 5)\n"
     ]
    },
    {
     "data": {
      "application/vnd.jupyter.widget-view+json": {
       "model_id": "beaeac63a4e74d32ac1b646f4b361631",
       "version_major": 2,
       "version_minor": 0
      },
      "text/plain": [
       "HBox(children=(FloatProgress(value=0.0, max=14.0), HTML(value='')))"
      ]
     },
     "metadata": {},
     "output_type": "display_data"
    },
    {
     "data": {
      "application/vnd.jupyter.widget-view+json": {
       "model_id": "b7e8cc39b8214370941cc76ac4677a8d",
       "version_major": 2,
       "version_minor": 0
      },
      "text/plain": [
       "HBox(children=(FloatProgress(value=1.0, bar_style='info', max=1.0), HTML(value='')))"
      ]
     },
     "metadata": {},
     "output_type": "display_data"
    },
    {
     "name": "stdout",
     "output_type": "stream",
     "text": [
      "\n",
      "dim of u is 13 for root system A5 and subset (2, 4)\n"
     ]
    },
    {
     "data": {
      "application/vnd.jupyter.widget-view+json": {
       "model_id": "b3b9a4f094a74429955b64d304267eb2",
       "version_major": 2,
       "version_minor": 0
      },
      "text/plain": [
       "HBox(children=(FloatProgress(value=0.0, max=14.0), HTML(value='')))"
      ]
     },
     "metadata": {},
     "output_type": "display_data"
    },
    {
     "data": {
      "application/vnd.jupyter.widget-view+json": {
       "model_id": "abc23af43ef94f6aa124999e6dd86edd",
       "version_major": 2,
       "version_minor": 0
      },
      "text/plain": [
       "HBox(children=(FloatProgress(value=1.0, bar_style='info', max=1.0), HTML(value='')))"
      ]
     },
     "metadata": {},
     "output_type": "display_data"
    },
    {
     "name": "stdout",
     "output_type": "stream",
     "text": [
      "\n",
      "dim of u is 12 for root system A5 and subset (2, 3)\n"
     ]
    },
    {
     "data": {
      "application/vnd.jupyter.widget-view+json": {
       "model_id": "ac0366bc8e4c42639984e41495ad5442",
       "version_major": 2,
       "version_minor": 0
      },
      "text/plain": [
       "HBox(children=(FloatProgress(value=0.0, max=13.0), HTML(value='')))"
      ]
     },
     "metadata": {},
     "output_type": "display_data"
    },
    {
     "data": {
      "application/vnd.jupyter.widget-view+json": {
       "model_id": "0ddc5efdb8a14ba393496616265efe33",
       "version_major": 2,
       "version_minor": 0
      },
      "text/plain": [
       "HBox(children=(FloatProgress(value=1.0, bar_style='info', max=1.0), HTML(value='')))"
      ]
     },
     "metadata": {},
     "output_type": "display_data"
    },
    {
     "name": "stdout",
     "output_type": "stream",
     "text": [
      "\n",
      "dim of u is 13 for root system A5 and subset (1, 5)\n"
     ]
    },
    {
     "data": {
      "application/vnd.jupyter.widget-view+json": {
       "model_id": "bc6f98e7c3ef4d8ea72eb9a5b6c8e45d",
       "version_major": 2,
       "version_minor": 0
      },
      "text/plain": [
       "HBox(children=(FloatProgress(value=0.0, max=14.0), HTML(value='')))"
      ]
     },
     "metadata": {},
     "output_type": "display_data"
    },
    {
     "data": {
      "application/vnd.jupyter.widget-view+json": {
       "model_id": "3f8db167c76747b985f02a3f0da63a3a",
       "version_major": 2,
       "version_minor": 0
      },
      "text/plain": [
       "HBox(children=(FloatProgress(value=1.0, bar_style='info', max=1.0), HTML(value='')))"
      ]
     },
     "metadata": {},
     "output_type": "display_data"
    },
    {
     "data": {
      "text/latex": [
       "$$\\mathrm H^{1}(X_{15},\\wedge^{4}T_X)=L\\left(\\alpha_{1}+ 2\\alpha_{2}+ 3\\alpha_{3}+ 2\\alpha_{4}+\\alpha_{5}\\right)$$"
      ],
      "text/plain": [
       "<IPython.core.display.Math object>"
      ]
     },
     "metadata": {},
     "output_type": "display_data"
    },
    {
     "data": {
      "text/latex": [
       "$$\\mathrm b^{1}(X_{15},\\wedge^{4}T_X)=175$$"
      ],
      "text/plain": [
       "<IPython.core.display.Math object>"
      ]
     },
     "metadata": {},
     "output_type": "display_data"
    },
    {
     "name": "stdout",
     "output_type": "stream",
     "text": [
      "\n",
      "dim of u is 13 for root system A5 and subset (1, 4)\n"
     ]
    },
    {
     "data": {
      "application/vnd.jupyter.widget-view+json": {
       "model_id": "43acaa0969aa46a099afd22029bedcd1",
       "version_major": 2,
       "version_minor": 0
      },
      "text/plain": [
       "HBox(children=(FloatProgress(value=0.0, max=14.0), HTML(value='')))"
      ]
     },
     "metadata": {},
     "output_type": "display_data"
    },
    {
     "data": {
      "application/vnd.jupyter.widget-view+json": {
       "model_id": "9b696a9181f3481eb13ac165fc9fb22a",
       "version_major": 2,
       "version_minor": 0
      },
      "text/plain": [
       "HBox(children=(FloatProgress(value=1.0, bar_style='info', max=1.0), HTML(value='')))"
      ]
     },
     "metadata": {},
     "output_type": "display_data"
    },
    {
     "name": "stdout",
     "output_type": "stream",
     "text": [
      "\n",
      "dim of u is 13 for root system A5 and subset (1, 3)\n"
     ]
    },
    {
     "data": {
      "application/vnd.jupyter.widget-view+json": {
       "model_id": "c313c99998d84e98b9ef3b997f9c6712",
       "version_major": 2,
       "version_minor": 0
      },
      "text/plain": [
       "HBox(children=(FloatProgress(value=0.0, max=14.0), HTML(value='')))"
      ]
     },
     "metadata": {},
     "output_type": "display_data"
    },
    {
     "data": {
      "application/vnd.jupyter.widget-view+json": {
       "model_id": "f7fafe301c8b4256af4b8b92eaf74e63",
       "version_major": 2,
       "version_minor": 0
      },
      "text/plain": [
       "HBox(children=(FloatProgress(value=1.0, bar_style='info', max=1.0), HTML(value='')))"
      ]
     },
     "metadata": {},
     "output_type": "display_data"
    },
    {
     "data": {
      "text/latex": [
       "$$\\mathrm H^{1}(X_{13},\\wedge^{3}T_X)=L\\left(\\alpha_{1}+ 2\\alpha_{2}+ 3\\alpha_{3}+ 2\\alpha_{4}+\\alpha_{5}\\right)$$"
      ],
      "text/plain": [
       "<IPython.core.display.Math object>"
      ]
     },
     "metadata": {},
     "output_type": "display_data"
    },
    {
     "data": {
      "text/latex": [
       "$$\\mathrm b^{1}(X_{13},\\wedge^{3}T_X)=175$$"
      ],
      "text/plain": [
       "<IPython.core.display.Math object>"
      ]
     },
     "metadata": {},
     "output_type": "display_data"
    },
    {
     "name": "stdout",
     "output_type": "stream",
     "text": [
      "\n",
      "dim of u is 12 for root system A5 and subset (1, 2)\n"
     ]
    },
    {
     "data": {
      "application/vnd.jupyter.widget-view+json": {
       "model_id": "39e6a9ef969548168e70d8c114f225c3",
       "version_major": 2,
       "version_minor": 0
      },
      "text/plain": [
       "HBox(children=(FloatProgress(value=0.0, max=13.0), HTML(value='')))"
      ]
     },
     "metadata": {},
     "output_type": "display_data"
    },
    {
     "data": {
      "application/vnd.jupyter.widget-view+json": {
       "model_id": "206d2c4687f64f32af2e62a6b7385c5e",
       "version_major": 2,
       "version_minor": 0
      },
      "text/plain": [
       "HBox(children=(FloatProgress(value=1.0, bar_style='info', max=1.0), HTML(value='')))"
      ]
     },
     "metadata": {},
     "output_type": "display_data"
    },
    {
     "name": "stdout",
     "output_type": "stream",
     "text": [
      "\n",
      "dim of u is 14 for root system A5 and subset (5,)\n"
     ]
    },
    {
     "data": {
      "application/vnd.jupyter.widget-view+json": {
       "model_id": "5dd4412c47484daa808eecab0d97c7ed",
       "version_major": 2,
       "version_minor": 0
      },
      "text/plain": [
       "HBox(children=(FloatProgress(value=0.0, max=15.0), HTML(value='')))"
      ]
     },
     "metadata": {},
     "output_type": "display_data"
    },
    {
     "data": {
      "application/vnd.jupyter.widget-view+json": {
       "model_id": "8e635e0b993f4a6da8689cb1968f4f71",
       "version_major": 2,
       "version_minor": 0
      },
      "text/plain": [
       "HBox(children=(FloatProgress(value=1.0, bar_style='info', max=1.0), HTML(value='')))"
      ]
     },
     "metadata": {},
     "output_type": "display_data"
    },
    {
     "data": {
      "text/latex": [
       "$$\\mathrm H^{1}(X_{5},\\wedge^{4}T_X)=L\\left(\\alpha_{1}+ 2\\alpha_{2}+ 3\\alpha_{3}+ 2\\alpha_{4}+\\alpha_{5}\\right)$$"
      ],
      "text/plain": [
       "<IPython.core.display.Math object>"
      ]
     },
     "metadata": {},
     "output_type": "display_data"
    },
    {
     "data": {
      "text/latex": [
       "$$\\mathrm b^{1}(X_{5},\\wedge^{4}T_X)=175$$"
      ],
      "text/plain": [
       "<IPython.core.display.Math object>"
      ]
     },
     "metadata": {},
     "output_type": "display_data"
    },
    {
     "name": "stdout",
     "output_type": "stream",
     "text": [
      "\n",
      "dim of u is 14 for root system A5 and subset (4,)\n"
     ]
    },
    {
     "data": {
      "application/vnd.jupyter.widget-view+json": {
       "model_id": "7d71568087034b86b7cd66ef75c943a0",
       "version_major": 2,
       "version_minor": 0
      },
      "text/plain": [
       "HBox(children=(FloatProgress(value=0.0, max=15.0), HTML(value='')))"
      ]
     },
     "metadata": {},
     "output_type": "display_data"
    },
    {
     "data": {
      "application/vnd.jupyter.widget-view+json": {
       "model_id": "71dc067349894047b062388151a0a4d1",
       "version_major": 2,
       "version_minor": 0
      },
      "text/plain": [
       "HBox(children=(FloatProgress(value=1.0, bar_style='info', max=1.0), HTML(value='')))"
      ]
     },
     "metadata": {},
     "output_type": "display_data"
    },
    {
     "name": "stdout",
     "output_type": "stream",
     "text": [
      "\n",
      "dim of u is 14 for root system A5 and subset (3,)\n"
     ]
    },
    {
     "data": {
      "application/vnd.jupyter.widget-view+json": {
       "model_id": "d6869e5e5c5b4ac19e17d6e819f118a6",
       "version_major": 2,
       "version_minor": 0
      },
      "text/plain": [
       "HBox(children=(FloatProgress(value=0.0, max=15.0), HTML(value='')))"
      ]
     },
     "metadata": {},
     "output_type": "display_data"
    },
    {
     "data": {
      "application/vnd.jupyter.widget-view+json": {
       "model_id": "6ee7855fe01d4c1f948d8b7e02858c0a",
       "version_major": 2,
       "version_minor": 0
      },
      "text/plain": [
       "HBox(children=(FloatProgress(value=1.0, bar_style='info', max=1.0), HTML(value='')))"
      ]
     },
     "metadata": {},
     "output_type": "display_data"
    },
    {
     "data": {
      "text/latex": [
       "$$\\mathrm H^{1}(X_{3},\\wedge^{3}T_X)=L\\left(\\alpha_{1}+ 2\\alpha_{2}+ 3\\alpha_{3}+ 2\\alpha_{4}+\\alpha_{5}\\right)$$"
      ],
      "text/plain": [
       "<IPython.core.display.Math object>"
      ]
     },
     "metadata": {},
     "output_type": "display_data"
    },
    {
     "data": {
      "text/latex": [
       "$$\\mathrm b^{1}(X_{3},\\wedge^{3}T_X)=175$$"
      ],
      "text/plain": [
       "<IPython.core.display.Math object>"
      ]
     },
     "metadata": {},
     "output_type": "display_data"
    },
    {
     "name": "stdout",
     "output_type": "stream",
     "text": [
      "\n",
      "dim of u is 14 for root system A5 and subset (2,)\n"
     ]
    },
    {
     "data": {
      "application/vnd.jupyter.widget-view+json": {
       "model_id": "33bb85dd22b9469abc01c00217be9657",
       "version_major": 2,
       "version_minor": 0
      },
      "text/plain": [
       "HBox(children=(FloatProgress(value=0.0, max=15.0), HTML(value='')))"
      ]
     },
     "metadata": {},
     "output_type": "display_data"
    },
    {
     "data": {
      "application/vnd.jupyter.widget-view+json": {
       "model_id": "dfeefc76e8914831aaf00bf98bf63263",
       "version_major": 2,
       "version_minor": 0
      },
      "text/plain": [
       "HBox(children=(FloatProgress(value=1.0, bar_style='info', max=1.0), HTML(value='')))"
      ]
     },
     "metadata": {},
     "output_type": "display_data"
    },
    {
     "name": "stdout",
     "output_type": "stream",
     "text": [
      "\n",
      "dim of u is 14 for root system A5 and subset (1,)\n"
     ]
    },
    {
     "data": {
      "application/vnd.jupyter.widget-view+json": {
       "model_id": "b986faea80f24c62ab3ec36d219895ee",
       "version_major": 2,
       "version_minor": 0
      },
      "text/plain": [
       "HBox(children=(FloatProgress(value=0.0, max=15.0), HTML(value='')))"
      ]
     },
     "metadata": {},
     "output_type": "display_data"
    },
    {
     "data": {
      "application/vnd.jupyter.widget-view+json": {
       "model_id": "2c874d401c4e4322b49add780fe4ea9e",
       "version_major": 2,
       "version_minor": 0
      },
      "text/plain": [
       "HBox(children=(FloatProgress(value=1.0, bar_style='info', max=1.0), HTML(value='')))"
      ]
     },
     "metadata": {},
     "output_type": "display_data"
    },
    {
     "data": {
      "text/latex": [
       "$$\\mathrm H^{1}(X_{1},\\wedge^{4}T_X)=L\\left(\\alpha_{1}+ 2\\alpha_{2}+ 3\\alpha_{3}+ 2\\alpha_{4}+\\alpha_{5}\\right)$$"
      ],
      "text/plain": [
       "<IPython.core.display.Math object>"
      ]
     },
     "metadata": {},
     "output_type": "display_data"
    },
    {
     "data": {
      "text/latex": [
       "$$\\mathrm b^{1}(X_{1},\\wedge^{4}T_X)=175$$"
      ],
      "text/plain": [
       "<IPython.core.display.Math object>"
      ]
     },
     "metadata": {},
     "output_type": "display_data"
    },
    {
     "name": "stdout",
     "output_type": "stream",
     "text": [
      "\n",
      "dim of u is 15 for root system A5 and subset ()\n"
     ]
    },
    {
     "data": {
      "application/vnd.jupyter.widget-view+json": {
       "model_id": "4de2e8247b2a4a9c982911e4f594b252",
       "version_major": 2,
       "version_minor": 0
      },
      "text/plain": [
       "HBox(children=(FloatProgress(value=0.0, max=16.0), HTML(value='')))"
      ]
     },
     "metadata": {},
     "output_type": "display_data"
    },
    {
     "data": {
      "application/vnd.jupyter.widget-view+json": {
       "model_id": "bc47d1b9699f4f47b71dcc472b16ae7f",
       "version_major": 2,
       "version_minor": 0
      },
      "text/plain": [
       "HBox(children=(FloatProgress(value=1.0, bar_style='info', max=1.0), HTML(value='')))"
      ]
     },
     "metadata": {},
     "output_type": "display_data"
    },
    {
     "data": {
      "text/latex": [
       "$$\\mathrm H^{1}(X_{},\\wedge^{4}T_X)=L\\left(\\alpha_{1}+ 2\\alpha_{2}+ 3\\alpha_{3}+ 2\\alpha_{4}+\\alpha_{5}\\right)$$"
      ],
      "text/plain": [
       "<IPython.core.display.Math object>"
      ]
     },
     "metadata": {},
     "output_type": "display_data"
    },
    {
     "data": {
      "text/latex": [
       "$$\\mathrm b^{1}(X_{},\\wedge^{4}T_X)=175$$"
      ],
      "text/plain": [
       "<IPython.core.display.Math object>"
      ]
     },
     "metadata": {},
     "output_type": "display_data"
    },
    {
     "name": "stdout",
     "output_type": "stream",
     "text": [
      "\n"
     ]
    }
   ],
   "source": [
    "from itertools import combinations, chain\n",
    "roots = [1,2,3,4,5]\n",
    "subsets = list(chain.from_iterable(combinations(roots,i) for i in range(len(roots))))\n",
    "d = 'A5'\n",
    "BGG = BGGComplex(d)\n",
    "for subset in subsets[::-1]:\n",
    "    factory = FastModuleFactory(BGG.LA)\n",
    "    component_dic = {'u':factory.build_component('u','coad',subset=subset)}\n",
    "    u_dim = len(component_dic['u'].basis)\n",
    "    print('dim of u is %d for root system %s and subset %s' % (u_dim, d, subset))\n",
    "    pbar1 = tqdm(range(u_dim+1))\n",
    "    pbar2 = tqdm()\n",
    "    pbar3 = None\n",
    "    for k in pbar1:\n",
    "        components = [[('u',k,'wedge')]]\n",
    "        module = FastLieAlgebraCompositeModule(factory,components,component_dic)\n",
    "\n",
    "        cohom = BGGCohomology(BGG, module,pbars=[pbar2,pbar3])\n",
    "        subset_string = ''.join(str(s) for s in subset) \n",
    "        cohom.cohomology_LaTeX(i = 1, complex_string=r'X_{'+subset_string+r'},\\wedge^{'+str(k)+'}T_X',print_betti=True)"
   ]
  },
  {
   "cell_type": "markdown",
   "metadata": {},
   "source": [
    "## F4 parabolic, degree 1\n",
    "Here we run out of memory if we try to compute all of $H^1$, so we just compute $H^1(X,\\wedge^kT_X)$ for $k\\leq 7$. This gives non-trivial $H^1$ for all cases but $X_{23},X_{123},X_{234}$, for which we can try to compute some more groups."
   ]
  },
  {
   "cell_type": "code",
   "execution_count": 2,
   "metadata": {},
   "outputs": [
    {
     "name": "stdout",
     "output_type": "stream",
     "text": [
      "dim of u is 15 for root system F4 and subset (2, 3, 4)\n"
     ]
    },
    {
     "data": {
      "application/vnd.jupyter.widget-view+json": {
       "model_id": "8c4db2cc47344bc587b8f33abba60d30",
       "version_major": 2,
       "version_minor": 0
      },
      "text/plain": [
       "HBox(children=(FloatProgress(value=0.0, max=8.0), HTML(value='')))"
      ]
     },
     "metadata": {},
     "output_type": "display_data"
    },
    {
     "data": {
      "application/vnd.jupyter.widget-view+json": {
       "model_id": "aec8f202412c4834b62c1d54fbccd649",
       "version_major": 2,
       "version_minor": 0
      },
      "text/plain": [
       "HBox(children=(FloatProgress(value=1.0, bar_style='info', max=1.0), HTML(value='')))"
      ]
     },
     "metadata": {},
     "output_type": "display_data"
    },
    {
     "name": "stdout",
     "output_type": "stream",
     "text": [
      "\n",
      "dim of u is 20 for root system F4 and subset (1, 3, 4)\n"
     ]
    },
    {
     "data": {
      "application/vnd.jupyter.widget-view+json": {
       "model_id": "cedb88ad84884fc4b4a284006650dca0",
       "version_major": 2,
       "version_minor": 0
      },
      "text/plain": [
       "HBox(children=(FloatProgress(value=0.0, max=8.0), HTML(value='')))"
      ]
     },
     "metadata": {},
     "output_type": "display_data"
    },
    {
     "data": {
      "application/vnd.jupyter.widget-view+json": {
       "model_id": "f9433a09637a4354bb100f0305dabf9c",
       "version_major": 2,
       "version_minor": 0
      },
      "text/plain": [
       "HBox(children=(FloatProgress(value=1.0, bar_style='info', max=1.0), HTML(value='')))"
      ]
     },
     "metadata": {},
     "output_type": "display_data"
    },
    {
     "data": {
      "text/latex": [
       "$$\\mathrm H^{1}(X_{134},\\wedge^{6}T_X)=L\\left( 5\\alpha_{1}+ 9\\alpha_{2}+ 12\\alpha_{3}+ 6\\alpha_{4}\\right)\\oplus L\\left( 4\\alpha_{1}+ 8\\alpha_{2}+ 12\\alpha_{3}+ 8\\alpha_{4}\\right)\\oplus L\\left( 6\\alpha_{1}+ 10\\alpha_{2}+ 14\\alpha_{3}+ 8\\alpha_{4}\\right)$$"
      ],
      "text/plain": [
       "<IPython.core.display.Math object>"
      ]
     },
     "metadata": {},
     "output_type": "display_data"
    },
    {
     "data": {
      "text/latex": [
       "$$\\mathrm b^{1}(X_{134},\\wedge^{6}T_X)=205530$$"
      ],
      "text/plain": [
       "<IPython.core.display.Math object>"
      ]
     },
     "metadata": {},
     "output_type": "display_data"
    },
    {
     "data": {
      "text/latex": [
       "$$\\mathrm H^{1}(X_{134},\\wedge^{7}T_X)=L\\left( 6\\alpha_{1}+ 9\\alpha_{2}+ 12\\alpha_{3}+ 6\\alpha_{4}\\right)\\oplus L\\left( 5\\alpha_{1}+ 10\\alpha_{2}+ 14\\alpha_{3}+ 8\\alpha_{4}\\right)\\oplus L\\left( 6\\alpha_{1}+ 10\\alpha_{2}+ 14\\alpha_{3}+ 8\\alpha_{4}\\right)\\oplus L\\left( 7\\alpha_{1}+ 12\\alpha_{2}+ 16\\alpha_{3}+ 8\\alpha_{4}\\right)\\oplus L\\left( 6\\alpha_{1}+ 11\\alpha_{2}+ 16\\alpha_{3}+ 10\\alpha_{4}\\right)\\oplus L\\left( 7\\alpha_{1}+ 12\\alpha_{2}+ 17\\alpha_{3}+ 9\\alpha_{4}\\right)\\oplus L\\left( 8\\alpha_{1}+ 13\\alpha_{2}+ 18\\alpha_{3}+ 10\\alpha_{4}\\right)$$"
      ],
      "text/plain": [
       "<IPython.core.display.Math object>"
      ]
     },
     "metadata": {},
     "output_type": "display_data"
    },
    {
     "data": {
      "text/latex": [
       "$$\\mathrm b^{1}(X_{134},\\wedge^{7}T_X)=3896893$$"
      ],
      "text/plain": [
       "<IPython.core.display.Math object>"
      ]
     },
     "metadata": {},
     "output_type": "display_data"
    },
    {
     "name": "stdout",
     "output_type": "stream",
     "text": [
      "\n",
      "dim of u is 20 for root system F4 and subset (1, 2, 4)\n"
     ]
    },
    {
     "data": {
      "application/vnd.jupyter.widget-view+json": {
       "model_id": "2d518486933843a488e76f390651abea",
       "version_major": 2,
       "version_minor": 0
      },
      "text/plain": [
       "HBox(children=(FloatProgress(value=0.0, max=8.0), HTML(value='')))"
      ]
     },
     "metadata": {},
     "output_type": "display_data"
    },
    {
     "data": {
      "application/vnd.jupyter.widget-view+json": {
       "model_id": "f0e9e978411d4e62936d164c40309944",
       "version_major": 2,
       "version_minor": 0
      },
      "text/plain": [
       "HBox(children=(FloatProgress(value=1.0, bar_style='info', max=1.0), HTML(value='')))"
      ]
     },
     "metadata": {},
     "output_type": "display_data"
    },
    {
     "data": {
      "text/latex": [
       "$$\\mathrm H^{1}(X_{124},\\wedge^{4}T_X)=L\\left( 4\\alpha_{1}+ 7\\alpha_{2}+ 10\\alpha_{3}+ 6\\alpha_{4}\\right)$$"
      ],
      "text/plain": [
       "<IPython.core.display.Math object>"
      ]
     },
     "metadata": {},
     "output_type": "display_data"
    },
    {
     "data": {
      "text/latex": [
       "$$\\mathrm b^{1}(X_{124},\\wedge^{4}T_X)=10829$$"
      ],
      "text/plain": [
       "<IPython.core.display.Math object>"
      ]
     },
     "metadata": {},
     "output_type": "display_data"
    },
    {
     "data": {
      "text/latex": [
       "$$\\mathrm H^{1}(X_{124},\\wedge^{5}T_X)=L\\left( 5\\alpha_{1}+ 9\\alpha_{2}+ 12\\alpha_{3}+ 6\\alpha_{4}\\right)\\oplus L\\left( 4\\alpha_{1}+ 8\\alpha_{2}+ 12\\alpha_{3}+ 8\\alpha_{4}\\right)\\oplus L\\left( 5\\alpha_{1}+ 9\\alpha_{2}+ 13\\alpha_{3}+ 7\\alpha_{4}\\right)\\oplus L\\left( 6\\alpha_{1}+ 10\\alpha_{2}+ 14\\alpha_{3}+ 8\\alpha_{4}\\right)$$"
      ],
      "text/plain": [
       "<IPython.core.display.Math object>"
      ]
     },
     "metadata": {},
     "output_type": "display_data"
    },
    {
     "data": {
      "text/latex": [
       "$$\\mathrm b^{1}(X_{124},\\wedge^{5}T_X)=312026$$"
      ],
      "text/plain": [
       "<IPython.core.display.Math object>"
      ]
     },
     "metadata": {},
     "output_type": "display_data"
    },
    {
     "data": {
      "text/latex": [
       "$$\\mathrm H^{1}(X_{124},\\wedge^{6}T_X)=L\\left( 6\\alpha_{1}+ 10\\alpha_{2}+ 14\\alpha_{3}+ 8\\alpha_{4}\\right)\\oplus L\\left( 6\\alpha_{1}+ 11\\alpha_{2}+ 15\\alpha_{3}+ 8\\alpha_{4}\\right)\\oplus L\\left( 7\\alpha_{1}+ 12\\alpha_{2}+ 16\\alpha_{3}+ 8\\alpha_{4}\\right)\\oplus L\\left( 7\\alpha_{1}+ 12\\alpha_{2}+ 17\\alpha_{3}+ 9\\alpha_{4}\\right)$$"
      ],
      "text/plain": [
       "<IPython.core.display.Math object>"
      ]
     },
     "metadata": {},
     "output_type": "display_data"
    },
    {
     "data": {
      "text/latex": [
       "$$\\mathrm b^{1}(X_{124},\\wedge^{6}T_X)=2207127$$"
      ],
      "text/plain": [
       "<IPython.core.display.Math object>"
      ]
     },
     "metadata": {},
     "output_type": "display_data"
    },
    {
     "data": {
      "text/latex": [
       "$$\\mathrm H^{1}(X_{124},\\wedge^{7}T_X)=L\\left( 8\\alpha_{1}+ 13\\alpha_{2}+ 18\\alpha_{3}+ 10\\alpha_{4}\\right)\\oplus L\\left( 8\\alpha_{1}+ 14\\alpha_{2}+ 19\\alpha_{3}+ 10\\alpha_{4}\\right)$$"
      ],
      "text/plain": [
       "<IPython.core.display.Math object>"
      ]
     },
     "metadata": {},
     "output_type": "display_data"
    },
    {
     "data": {
      "text/latex": [
       "$$\\mathrm b^{1}(X_{124},\\wedge^{7}T_X)=5440358$$"
      ],
      "text/plain": [
       "<IPython.core.display.Math object>"
      ]
     },
     "metadata": {},
     "output_type": "display_data"
    },
    {
     "name": "stdout",
     "output_type": "stream",
     "text": [
      "\n",
      "dim of u is 15 for root system F4 and subset (1, 2, 3)\n"
     ]
    },
    {
     "data": {
      "application/vnd.jupyter.widget-view+json": {
       "model_id": "5c847f77b9c14e858c566244855b2622",
       "version_major": 2,
       "version_minor": 0
      },
      "text/plain": [
       "HBox(children=(FloatProgress(value=0.0, max=8.0), HTML(value='')))"
      ]
     },
     "metadata": {},
     "output_type": "display_data"
    },
    {
     "data": {
      "application/vnd.jupyter.widget-view+json": {
       "model_id": "cb985403e3774c728be00c1ee2160aca",
       "version_major": 2,
       "version_minor": 0
      },
      "text/plain": [
       "HBox(children=(FloatProgress(value=1.0, bar_style='info', max=1.0), HTML(value='')))"
      ]
     },
     "metadata": {},
     "output_type": "display_data"
    },
    {
     "name": "stdout",
     "output_type": "stream",
     "text": [
      "\n",
      "dim of u is 21 for root system F4 and subset (3, 4)\n"
     ]
    },
    {
     "data": {
      "application/vnd.jupyter.widget-view+json": {
       "model_id": "0e1c5033229044be846615fc26b06fc0",
       "version_major": 2,
       "version_minor": 0
      },
      "text/plain": [
       "HBox(children=(FloatProgress(value=0.0, max=8.0), HTML(value='')))"
      ]
     },
     "metadata": {},
     "output_type": "display_data"
    },
    {
     "data": {
      "application/vnd.jupyter.widget-view+json": {
       "model_id": "a22c26f7462144e881c2107d7e784680",
       "version_major": 2,
       "version_minor": 0
      },
      "text/plain": [
       "HBox(children=(FloatProgress(value=1.0, bar_style='info', max=1.0), HTML(value='')))"
      ]
     },
     "metadata": {},
     "output_type": "display_data"
    },
    {
     "data": {
      "text/latex": [
       "$$\\mathrm H^{1}(X_{34},\\wedge^{6}T_X)=L\\left( 4\\alpha_{1}+ 6\\alpha_{2}+ 8\\alpha_{3}+ 4\\alpha_{4}\\right)\\oplus L\\left( 4\\alpha_{1}+ 8\\alpha_{2}+ 12\\alpha_{3}+ 8\\alpha_{4}\\right)$$"
      ],
      "text/plain": [
       "<IPython.core.display.Math object>"
      ]
     },
     "metadata": {},
     "output_type": "display_data"
    },
    {
     "data": {
      "text/latex": [
       "$$\\mathrm b^{1}(X_{34},\\wedge^{6}T_X)=17355$$"
      ],
      "text/plain": [
       "<IPython.core.display.Math object>"
      ]
     },
     "metadata": {},
     "output_type": "display_data"
    },
    {
     "data": {
      "text/latex": [
       "$$\\mathrm H^{1}(X_{34},\\wedge^{7}T_X)=L\\left( 5\\alpha_{1}+ 9\\alpha_{2}+ 12\\alpha_{3}+ 6\\alpha_{4}\\right)\\oplus L\\left( 6\\alpha_{1}+ 9\\alpha_{2}+ 12\\alpha_{3}+ 6\\alpha_{4}\\right)\\oplus L\\left( 5\\alpha_{1}+ 10\\alpha_{2}+ 14\\alpha_{3}+ 8\\alpha_{4}\\right)\\oplus L\\left( 6\\alpha_{1}+ 10\\alpha_{2}+ 14\\alpha_{3}+ 8\\alpha_{4}\\right)\\oplus L\\left( 6\\alpha_{1}+ 11\\alpha_{2}+ 16\\alpha_{3}+ 10\\alpha_{4}\\right)$$"
      ],
      "text/plain": [
       "<IPython.core.display.Math object>"
      ]
     },
     "metadata": {},
     "output_type": "display_data"
    },
    {
     "data": {
      "text/latex": [
       "$$\\mathrm b^{1}(X_{34},\\wedge^{7}T_X)=774436$$"
      ],
      "text/plain": [
       "<IPython.core.display.Math object>"
      ]
     },
     "metadata": {},
     "output_type": "display_data"
    },
    {
     "name": "stdout",
     "output_type": "stream",
     "text": [
      "\n",
      "dim of u is 22 for root system F4 and subset (2, 4)\n"
     ]
    },
    {
     "data": {
      "application/vnd.jupyter.widget-view+json": {
       "model_id": "d1daf6b7cd0b44449e3a35955083cea3",
       "version_major": 2,
       "version_minor": 0
      },
      "text/plain": [
       "HBox(children=(FloatProgress(value=0.0, max=8.0), HTML(value='')))"
      ]
     },
     "metadata": {},
     "output_type": "display_data"
    },
    {
     "data": {
      "application/vnd.jupyter.widget-view+json": {
       "model_id": "4b90efdfe22c4337b5ce3ff56d7b57fc",
       "version_major": 2,
       "version_minor": 0
      },
      "text/plain": [
       "HBox(children=(FloatProgress(value=1.0, bar_style='info', max=1.0), HTML(value='')))"
      ]
     },
     "metadata": {},
     "output_type": "display_data"
    },
    {
     "data": {
      "text/latex": [
       "$$\\mathrm H^{1}(X_{24},\\wedge^{2}T_X)=L\\left(\\alpha_{1}+ 2\\alpha_{2}+ 3\\alpha_{3}+ 2\\alpha_{4}\\right)$$"
      ],
      "text/plain": [
       "<IPython.core.display.Math object>"
      ]
     },
     "metadata": {},
     "output_type": "display_data"
    },
    {
     "data": {
      "text/latex": [
       "$$\\mathrm b^{1}(X_{24},\\wedge^{2}T_X)=26$$"
      ],
      "text/plain": [
       "<IPython.core.display.Math object>"
      ]
     },
     "metadata": {},
     "output_type": "display_data"
    },
    {
     "data": {
      "text/latex": [
       "$$\\mathrm H^{1}(X_{24},\\wedge^{3}T_X)=L\\left( 2\\alpha_{1}+ 4\\alpha_{2}+ 6\\alpha_{3}+ 3\\alpha_{4}\\right)\\oplus L\\left( 3\\alpha_{1}+ 5\\alpha_{2}+ 7\\alpha_{3}+ 4\\alpha_{4}\\right)$$"
      ],
      "text/plain": [
       "<IPython.core.display.Math object>"
      ]
     },
     "metadata": {},
     "output_type": "display_data"
    },
    {
     "data": {
      "text/latex": [
       "$$\\mathrm b^{1}(X_{24},\\wedge^{3}T_X)=1326$$"
      ],
      "text/plain": [
       "<IPython.core.display.Math object>"
      ]
     },
     "metadata": {},
     "output_type": "display_data"
    },
    {
     "data": {
      "text/latex": [
       "$$\\mathrm H^{1}(X_{24},\\wedge^{4}T_X)=L\\left( 2\\alpha_{1}+ 4\\alpha_{2}+ 6\\alpha_{3}+ 3\\alpha_{4}\\right)\\oplus L\\left( 3\\alpha_{1}+ 5\\alpha_{2}+ 7\\alpha_{3}+ 4\\alpha_{4}\\right)\\oplus L\\left( 3\\alpha_{1}+ 6\\alpha_{2}+ 9\\alpha_{3}+ 5\\alpha_{4}\\right)\\oplus L\\left( 4\\alpha_{1}+ 7\\alpha_{2}+ 10\\alpha_{3}+ 5\\alpha_{4}\\right)\\oplus L\\left( 4\\alpha_{1}+ 8\\alpha_{2}+ 11\\alpha_{3}+ 6\\alpha_{4}\\right)$$"
      ],
      "text/plain": [
       "<IPython.core.display.Math object>"
      ]
     },
     "metadata": {},
     "output_type": "display_data"
    },
    {
     "data": {
      "text/latex": [
       "$$\\mathrm b^{1}(X_{24},\\wedge^{4}T_X)=33124$$"
      ],
      "text/plain": [
       "<IPython.core.display.Math object>"
      ]
     },
     "metadata": {},
     "output_type": "display_data"
    },
    {
     "data": {
      "text/latex": [
       "$$\\mathrm H^{1}(X_{24},\\wedge^{5}T_X)=L\\left( 3\\alpha_{1}+ 6\\alpha_{2}+ 9\\alpha_{3}+ 5\\alpha_{4}\\right)^{2}\\oplus L\\left( 4\\alpha_{1}+ 7\\alpha_{2}+ 10\\alpha_{3}+ 5\\alpha_{4}\\right)^{2}\\oplus L\\left( 4\\alpha_{1}+ 7\\alpha_{2}+ 10\\alpha_{3}+ 6\\alpha_{4}\\right)\\oplus L\\left( 4\\alpha_{1}+ 8\\alpha_{2}+ 11\\alpha_{3}+ 6\\alpha_{4}\\right)\\oplus L\\left( 5\\alpha_{1}+ 8\\alpha_{2}+ 11\\alpha_{3}+ 6\\alpha_{4}\\right)\\oplus L\\left( 4\\alpha_{1}+ 8\\alpha_{2}+ 12\\alpha_{3}+ 6\\alpha_{4}\\right)\\oplus L\\left( 4\\alpha_{1}+ 8\\alpha_{2}+ 12\\alpha_{3}+ 7\\alpha_{4}\\right)\\oplus L\\left( 4\\alpha_{1}+ 8\\alpha_{2}+ 12\\alpha_{3}+ 8\\alpha_{4}\\right)\\oplus L\\left( 5\\alpha_{1}+ 9\\alpha_{2}+ 13\\alpha_{3}+ 7\\alpha_{4}\\right)\\oplus L\\left( 5\\alpha_{1}+ 10\\alpha_{2}+ 14\\alpha_{3}+ 7\\alpha_{4}\\right)\\oplus L\\left( 5\\alpha_{1}+ 10\\alpha_{2}+ 15\\alpha_{3}+ 8\\alpha_{4}\\right)$$"
      ],
      "text/plain": [
       "<IPython.core.display.Math object>"
      ]
     },
     "metadata": {},
     "output_type": "display_data"
    },
    {
     "data": {
      "text/latex": [
       "$$\\mathrm b^{1}(X_{24},\\wedge^{5}T_X)=563200$$"
      ],
      "text/plain": [
       "<IPython.core.display.Math object>"
      ]
     },
     "metadata": {},
     "output_type": "display_data"
    },
    {
     "data": {
      "text/latex": [
       "$$\\mathrm H^{1}(X_{24},\\wedge^{6}T_X)=L\\left( 4\\alpha_{1}+ 6\\alpha_{2}+ 8\\alpha_{3}+ 4\\alpha_{4}\\right)\\oplus L\\left( 4\\alpha_{1}+ 7\\alpha_{2}+ 10\\alpha_{3}+ 5\\alpha_{4}\\right)\\oplus L\\left( 4\\alpha_{1}+ 7\\alpha_{2}+ 10\\alpha_{3}+ 6\\alpha_{4}\\right)\\oplus L\\left( 5\\alpha_{1}+ 8\\alpha_{2}+ 11\\alpha_{3}+ 6\\alpha_{4}\\right)\\oplus L\\left( 4\\alpha_{1}+ 8\\alpha_{2}+ 12\\alpha_{3}+ 6\\alpha_{4}\\right)^{2}\\oplus L\\left( 4\\alpha_{1}+ 8\\alpha_{2}+ 12\\alpha_{3}+ 7\\alpha_{4}\\right)^{2}\\oplus L\\left( 5\\alpha_{1}+ 9\\alpha_{2}+ 12\\alpha_{3}+ 6\\alpha_{4}\\right)\\oplus L\\left( 4\\alpha_{1}+ 8\\alpha_{2}+ 12\\alpha_{3}+ 8\\alpha_{4}\\right)\\oplus L\\left( 5\\alpha_{1}+ 9\\alpha_{2}+ 13\\alpha_{3}+ 7\\alpha_{4}\\right)^{4}\\oplus L\\left( 5\\alpha_{1}+ 10\\alpha_{2}+ 14\\alpha_{3}+ 7\\alpha_{4}\\right)^{2}\\oplus L\\left( 6\\alpha_{1}+ 10\\alpha_{2}+ 14\\alpha_{3}+ 7\\alpha_{4}\\right)\\oplus L\\left( 5\\alpha_{1}+ 10\\alpha_{2}+ 14\\alpha_{3}+ 8\\alpha_{4}\\right)^{2}\\oplus L\\left( 6\\alpha_{1}+ 10\\alpha_{2}+ 14\\alpha_{3}+ 8\\alpha_{4}\\right)\\oplus L\\left( 5\\alpha_{1}+ 10\\alpha_{2}+ 15\\alpha_{3}+ 8\\alpha_{4}\\right)^{2}\\oplus L\\left( 5\\alpha_{1}+ 10\\alpha_{2}+ 15\\alpha_{3}+ 9\\alpha_{4}\\right)^{2}\\oplus L\\left( 6\\alpha_{1}+ 11\\alpha_{2}+ 15\\alpha_{3}+ 8\\alpha_{4}\\right)\\oplus L\\left( 6\\alpha_{1}+ 11\\alpha_{2}+ 16\\alpha_{3}+ 8\\alpha_{4}\\right)\\oplus L\\left( 6\\alpha_{1}+ 11\\alpha_{2}+ 16\\alpha_{3}+ 9\\alpha_{4}\\right)\\oplus L\\left( 6\\alpha_{1}+ 11\\alpha_{2}+ 16\\alpha_{3}+ 10\\alpha_{4}\\right)\\oplus L\\left( 6\\alpha_{1}+ 12\\alpha_{2}+ 17\\alpha_{3}+ 9\\alpha_{4}\\right)\\oplus L\\left( 6\\alpha_{1}+ 12\\alpha_{2}+ 18\\alpha_{3}+ 9\\alpha_{4}\\right)\\oplus L\\left( 6\\alpha_{1}+ 12\\alpha_{2}+ 18\\alpha_{3}+ 10\\alpha_{4}\\right)$$"
      ],
      "text/plain": [
       "<IPython.core.display.Math object>"
      ]
     },
     "metadata": {},
     "output_type": "display_data"
    },
    {
     "data": {
      "text/latex": [
       "$$\\mathrm b^{1}(X_{24},\\wedge^{6}T_X)=7359145$$"
      ],
      "text/plain": [
       "<IPython.core.display.Math object>"
      ]
     },
     "metadata": {},
     "output_type": "display_data"
    },
    {
     "data": {
      "text/latex": [
       "$$\\mathrm H^{1}(X_{24},\\wedge^{7}T_X)=L\\left( 5\\alpha_{1}+ 9\\alpha_{2}+ 12\\alpha_{3}+ 6\\alpha_{4}\\right)\\oplus L\\left( 6\\alpha_{1}+ 9\\alpha_{2}+ 12\\alpha_{3}+ 6\\alpha_{4}\\right)\\oplus L\\left( 5\\alpha_{1}+ 9\\alpha_{2}+ 13\\alpha_{3}+ 7\\alpha_{4}\\right)\\oplus L\\left( 5\\alpha_{1}+ 10\\alpha_{2}+ 14\\alpha_{3}+ 7\\alpha_{4}\\right)\\oplus L\\left( 6\\alpha_{1}+ 10\\alpha_{2}+ 14\\alpha_{3}+ 7\\alpha_{4}\\right)^{2}\\oplus L\\left( 5\\alpha_{1}+ 10\\alpha_{2}+ 14\\alpha_{3}+ 8\\alpha_{4}\\right)^{3}\\oplus L\\left( 6\\alpha_{1}+ 10\\alpha_{2}+ 14\\alpha_{3}+ 8\\alpha_{4}\\right)^{2}\\oplus L\\left( 5\\alpha_{1}+ 10\\alpha_{2}+ 15\\alpha_{3}+ 8\\alpha_{4}\\right)^{2}\\oplus L\\left( 5\\alpha_{1}+ 10\\alpha_{2}+ 15\\alpha_{3}+ 9\\alpha_{4}\\right)\\oplus L\\left( 6\\alpha_{1}+ 11\\alpha_{2}+ 15\\alpha_{3}+ 8\\alpha_{4}\\right)^{2}\\oplus L\\left( 7\\alpha_{1}+ 11\\alpha_{2}+ 15\\alpha_{3}+ 8\\alpha_{4}\\right)\\oplus L\\left( 6\\alpha_{1}+ 11\\alpha_{2}+ 16\\alpha_{3}+ 8\\alpha_{4}\\right)^{4}\\oplus L\\left( 6\\alpha_{1}+ 11\\alpha_{2}+ 16\\alpha_{3}+ 9\\alpha_{4}\\right)^{4}\\oplus L\\left( 7\\alpha_{1}+ 12\\alpha_{2}+ 16\\alpha_{3}+ 8\\alpha_{4}\\right)\\oplus L\\left( 6\\alpha_{1}+ 11\\alpha_{2}+ 16\\alpha_{3}+ 10\\alpha_{4}\\right)^{2}\\oplus L\\left( 6\\alpha_{1}+ 12\\alpha_{2}+ 17\\alpha_{3}+ 9\\alpha_{4}\\right)^{5}\\oplus L\\left( 7\\alpha_{1}+ 12\\alpha_{2}+ 17\\alpha_{3}+ 9\\alpha_{4}\\right)^{2}\\oplus L\\left( 6\\alpha_{1}+ 12\\alpha_{2}+ 18\\alpha_{3}+ 9\\alpha_{4}\\right)^{2}\\oplus L\\left( 6\\alpha_{1}+ 12\\alpha_{2}+ 17\\alpha_{3}+ 10\\alpha_{4}\\right)^{2}\\oplus L\\left( 6\\alpha_{1}+ 12\\alpha_{2}+ 18\\alpha_{3}+ 10\\alpha_{4}\\right)^{2}\\oplus L\\left( 7\\alpha_{1}+ 13\\alpha_{2}+ 18\\alpha_{3}+ 9\\alpha_{4}\\right)\\oplus L\\left( 6\\alpha_{1}+ 12\\alpha_{2}+ 18\\alpha_{3}+ 11\\alpha_{4}\\right)\\oplus L\\left( 7\\alpha_{1}+ 13\\alpha_{2}+ 18\\alpha_{3}+ 10\\alpha_{4}\\right)^{2}\\oplus L\\left( 7\\alpha_{1}+ 13\\alpha_{2}+ 19\\alpha_{3}+ 10\\alpha_{4}\\right)^{2}\\oplus L\\left( 7\\alpha_{1}+ 13\\alpha_{2}+ 19\\alpha_{3}+ 11\\alpha_{4}\\right)^{2}\\oplus L\\left( 7\\alpha_{1}+ 14\\alpha_{2}+ 20\\alpha_{3}+ 10\\alpha_{4}\\right)\\oplus L\\left( 7\\alpha_{1}+ 14\\alpha_{2}+ 20\\alpha_{3}+ 11\\alpha_{4}\\right)\\oplus L\\left( 7\\alpha_{1}+ 14\\alpha_{2}+ 21\\alpha_{3}+ 11\\alpha_{4}\\right)\\oplus L\\left( 7\\alpha_{1}+ 14\\alpha_{2}+ 20\\alpha_{3}+ 12\\alpha_{4}\\right)$$"
      ],
      "text/plain": [
       "<IPython.core.display.Math object>"
      ]
     },
     "metadata": {},
     "output_type": "display_data"
    },
    {
     "data": {
      "text/latex": [
       "$$\\mathrm b^{1}(X_{24},\\wedge^{7}T_X)=68219918$$"
      ],
      "text/plain": [
       "<IPython.core.display.Math object>"
      ]
     },
     "metadata": {},
     "output_type": "display_data"
    },
    {
     "name": "stdout",
     "output_type": "stream",
     "text": [
      "\n",
      "dim of u is 20 for root system F4 and subset (2, 3)\n"
     ]
    },
    {
     "data": {
      "application/vnd.jupyter.widget-view+json": {
       "model_id": "6d43ca55a0c64dbaa42a87b980a94235",
       "version_major": 2,
       "version_minor": 0
      },
      "text/plain": [
       "HBox(children=(FloatProgress(value=0.0, max=8.0), HTML(value='')))"
      ]
     },
     "metadata": {},
     "output_type": "display_data"
    },
    {
     "data": {
      "application/vnd.jupyter.widget-view+json": {
       "model_id": "8a7c3694203a4d9b96956c72e567191e",
       "version_major": 2,
       "version_minor": 0
      },
      "text/plain": [
       "HBox(children=(FloatProgress(value=1.0, bar_style='info', max=1.0), HTML(value='')))"
      ]
     },
     "metadata": {},
     "output_type": "display_data"
    },
    {
     "name": "stdout",
     "output_type": "stream",
     "text": [
      "\n",
      "dim of u is 22 for root system F4 and subset (1, 4)\n"
     ]
    },
    {
     "data": {
      "application/vnd.jupyter.widget-view+json": {
       "model_id": "657ef59a8adf4d81b68e0783edebb0a7",
       "version_major": 2,
       "version_minor": 0
      },
      "text/plain": [
       "HBox(children=(FloatProgress(value=0.0, max=8.0), HTML(value='')))"
      ]
     },
     "metadata": {},
     "output_type": "display_data"
    },
    {
     "data": {
      "application/vnd.jupyter.widget-view+json": {
       "model_id": "182a55e52f2841388726335d1d245dac",
       "version_major": 2,
       "version_minor": 0
      },
      "text/plain": [
       "HBox(children=(FloatProgress(value=1.0, bar_style='info', max=1.0), HTML(value='')))"
      ]
     },
     "metadata": {},
     "output_type": "display_data"
    },
    {
     "data": {
      "text/latex": [
       "$$\\mathrm H^{1}(X_{14},\\wedge^{6}T_X)=L\\left( 4\\alpha_{1}+ 6\\alpha_{2}+ 8\\alpha_{3}+ 4\\alpha_{4}\\right)\\oplus L\\left( 5\\alpha_{1}+ 9\\alpha_{2}+ 12\\alpha_{3}+ 6\\alpha_{4}\\right)\\oplus L\\left( 4\\alpha_{1}+ 8\\alpha_{2}+ 12\\alpha_{3}+ 8\\alpha_{4}\\right)\\oplus L\\left( 5\\alpha_{1}+ 9\\alpha_{2}+ 13\\alpha_{3}+ 7\\alpha_{4}\\right)\\oplus L\\left( 6\\alpha_{1}+ 10\\alpha_{2}+ 14\\alpha_{3}+ 8\\alpha_{4}\\right)$$"
      ],
      "text/plain": [
       "<IPython.core.display.Math object>"
      ]
     },
     "metadata": {},
     "output_type": "display_data"
    },
    {
     "data": {
      "text/latex": [
       "$$\\mathrm b^{1}(X_{14},\\wedge^{6}T_X)=313079$$"
      ],
      "text/plain": [
       "<IPython.core.display.Math object>"
      ]
     },
     "metadata": {},
     "output_type": "display_data"
    },
    {
     "data": {
      "text/latex": [
       "$$\\mathrm H^{1}(X_{14},\\wedge^{7}T_X)=L\\left( 5\\alpha_{1}+ 9\\alpha_{2}+ 12\\alpha_{3}+ 6\\alpha_{4}\\right)\\oplus L\\left( 6\\alpha_{1}+ 9\\alpha_{2}+ 12\\alpha_{3}+ 6\\alpha_{4}\\right)^{2}\\oplus L\\left( 5\\alpha_{1}+ 9\\alpha_{2}+ 13\\alpha_{3}+ 8\\alpha_{4}\\right)\\oplus L\\left( 6\\alpha_{1}+ 10\\alpha_{2}+ 14\\alpha_{3}+ 7\\alpha_{4}\\right)\\oplus L\\left( 5\\alpha_{1}+ 10\\alpha_{2}+ 14\\alpha_{3}+ 8\\alpha_{4}\\right)\\oplus L\\left( 6\\alpha_{1}+ 10\\alpha_{2}+ 14\\alpha_{3}+ 8\\alpha_{4}\\right)^{2}\\oplus L\\left( 5\\alpha_{1}+ 10\\alpha_{2}+ 15\\alpha_{3}+ 9\\alpha_{4}\\right)\\oplus L\\left( 6\\alpha_{1}+ 11\\alpha_{2}+ 15\\alpha_{3}+ 8\\alpha_{4}\\right)\\oplus L\\left( 6\\alpha_{1}+ 11\\alpha_{2}+ 16\\alpha_{3}+ 8\\alpha_{4}\\right)\\oplus L\\left( 6\\alpha_{1}+ 11\\alpha_{2}+ 16\\alpha_{3}+ 9\\alpha_{4}\\right)\\oplus L\\left( 7\\alpha_{1}+ 12\\alpha_{2}+ 16\\alpha_{3}+ 8\\alpha_{4}\\right)\\oplus L\\left( 6\\alpha_{1}+ 11\\alpha_{2}+ 16\\alpha_{3}+ 10\\alpha_{4}\\right)\\oplus L\\left( 7\\alpha_{1}+ 12\\alpha_{2}+ 17\\alpha_{3}+ 9\\alpha_{4}\\right)^{2}\\oplus L\\left( 8\\alpha_{1}+ 13\\alpha_{2}+ 18\\alpha_{3}+ 10\\alpha_{4}\\right)$$"
      ],
      "text/plain": [
       "<IPython.core.display.Math object>"
      ]
     },
     "metadata": {},
     "output_type": "display_data"
    },
    {
     "data": {
      "text/latex": [
       "$$\\mathrm b^{1}(X_{14},\\wedge^{7}T_X)=7421427$$"
      ],
      "text/plain": [
       "<IPython.core.display.Math object>"
      ]
     },
     "metadata": {},
     "output_type": "display_data"
    },
    {
     "name": "stdout",
     "output_type": "stream",
     "text": [
      "\n",
      "dim of u is 22 for root system F4 and subset (1, 3)\n"
     ]
    },
    {
     "data": {
      "application/vnd.jupyter.widget-view+json": {
       "model_id": "fb985d7fb31e4ad7ad826a967d5af1e3",
       "version_major": 2,
       "version_minor": 0
      },
      "text/plain": [
       "HBox(children=(FloatProgress(value=0.0, max=8.0), HTML(value='')))"
      ]
     },
     "metadata": {},
     "output_type": "display_data"
    },
    {
     "data": {
      "application/vnd.jupyter.widget-view+json": {
       "model_id": "8b22f1286de14b2d9acccfbddfc16a0b",
       "version_major": 2,
       "version_minor": 0
      },
      "text/plain": [
       "HBox(children=(FloatProgress(value=1.0, bar_style='info', max=1.0), HTML(value='')))"
      ]
     },
     "metadata": {},
     "output_type": "display_data"
    },
    {
     "data": {
      "text/latex": [
       "$$\\mathrm H^{1}(X_{13},\\wedge^{6}T_X)=L\\left( 4\\alpha_{1}+ 6\\alpha_{2}+ 8\\alpha_{3}+ 4\\alpha_{4}\\right)\\oplus L\\left( 4\\alpha_{1}+ 7\\alpha_{2}+ 10\\alpha_{3}+ 5\\alpha_{4}\\right)\\oplus L\\left( 5\\alpha_{1}+ 9\\alpha_{2}+ 12\\alpha_{3}+ 6\\alpha_{4}\\right)\\oplus L\\left( 4\\alpha_{1}+ 8\\alpha_{2}+ 12\\alpha_{3}+ 8\\alpha_{4}\\right)\\oplus L\\left( 5\\alpha_{1}+ 9\\alpha_{2}+ 13\\alpha_{3}+ 7\\alpha_{4}\\right)\\oplus L\\left( 6\\alpha_{1}+ 10\\alpha_{2}+ 14\\alpha_{3}+ 8\\alpha_{4}\\right)$$"
      ],
      "text/plain": [
       "<IPython.core.display.Math object>"
      ]
     },
     "metadata": {},
     "output_type": "display_data"
    },
    {
     "data": {
      "text/latex": [
       "$$\\mathrm b^{1}(X_{13},\\wedge^{6}T_X)=321503$$"
      ],
      "text/plain": [
       "<IPython.core.display.Math object>"
      ]
     },
     "metadata": {},
     "output_type": "display_data"
    },
    {
     "data": {
      "text/latex": [
       "$$\\mathrm H^{1}(X_{13},\\wedge^{7}T_X)=L\\left( 5\\alpha_{1}+ 8\\alpha_{2}+ 11\\alpha_{3}+ 6\\alpha_{4}\\right)\\oplus L\\left( 5\\alpha_{1}+ 9\\alpha_{2}+ 12\\alpha_{3}+ 6\\alpha_{4}\\right)\\oplus L\\left( 6\\alpha_{1}+ 9\\alpha_{2}+ 12\\alpha_{3}+ 6\\alpha_{4}\\right)^{2}\\oplus L\\left( 5\\alpha_{1}+ 9\\alpha_{2}+ 13\\alpha_{3}+ 7\\alpha_{4}\\right)\\oplus L\\left( 5\\alpha_{1}+ 9\\alpha_{2}+ 13\\alpha_{3}+ 8\\alpha_{4}\\right)\\oplus L\\left( 5\\alpha_{1}+ 10\\alpha_{2}+ 14\\alpha_{3}+ 7\\alpha_{4}\\right)\\oplus L\\left( 6\\alpha_{1}+ 10\\alpha_{2}+ 14\\alpha_{3}+ 7\\alpha_{4}\\right)^{2}\\oplus L\\left( 5\\alpha_{1}+ 10\\alpha_{2}+ 14\\alpha_{3}+ 8\\alpha_{4}\\right)\\oplus L\\left( 6\\alpha_{1}+ 10\\alpha_{2}+ 14\\alpha_{3}+ 8\\alpha_{4}\\right)^{2}\\oplus L\\left( 5\\alpha_{1}+ 10\\alpha_{2}+ 15\\alpha_{3}+ 9\\alpha_{4}\\right)\\oplus L\\left( 6\\alpha_{1}+ 11\\alpha_{2}+ 15\\alpha_{3}+ 8\\alpha_{4}\\right)\\oplus L\\left( 6\\alpha_{1}+ 11\\alpha_{2}+ 16\\alpha_{3}+ 8\\alpha_{4}\\right)\\oplus L\\left( 6\\alpha_{1}+ 11\\alpha_{2}+ 16\\alpha_{3}+ 9\\alpha_{4}\\right)\\oplus L\\left( 7\\alpha_{1}+ 12\\alpha_{2}+ 16\\alpha_{3}+ 8\\alpha_{4}\\right)\\oplus L\\left( 6\\alpha_{1}+ 11\\alpha_{2}+ 16\\alpha_{3}+ 10\\alpha_{4}\\right)\\oplus L\\left( 7\\alpha_{1}+ 12\\alpha_{2}+ 17\\alpha_{3}+ 9\\alpha_{4}\\right)^{2}\\oplus L\\left( 8\\alpha_{1}+ 13\\alpha_{2}+ 18\\alpha_{3}+ 10\\alpha_{4}\\right)$$"
      ],
      "text/plain": [
       "<IPython.core.display.Math object>"
      ]
     },
     "metadata": {},
     "output_type": "display_data"
    },
    {
     "data": {
      "text/latex": [
       "$$\\mathrm b^{1}(X_{13},\\wedge^{7}T_X)=7772349$$"
      ],
      "text/plain": [
       "<IPython.core.display.Math object>"
      ]
     },
     "metadata": {},
     "output_type": "display_data"
    },
    {
     "name": "stdout",
     "output_type": "stream",
     "text": [
      "\n",
      "dim of u is 21 for root system F4 and subset (1, 2)\n"
     ]
    },
    {
     "data": {
      "application/vnd.jupyter.widget-view+json": {
       "model_id": "441f1e7f889b4ed78ae045d84bafa39e",
       "version_major": 2,
       "version_minor": 0
      },
      "text/plain": [
       "HBox(children=(FloatProgress(value=0.0, max=8.0), HTML(value='')))"
      ]
     },
     "metadata": {},
     "output_type": "display_data"
    },
    {
     "data": {
      "application/vnd.jupyter.widget-view+json": {
       "model_id": "79621adb687941beb938416c7edbce74",
       "version_major": 2,
       "version_minor": 0
      },
      "text/plain": [
       "HBox(children=(FloatProgress(value=1.0, bar_style='info', max=1.0), HTML(value='')))"
      ]
     },
     "metadata": {},
     "output_type": "display_data"
    },
    {
     "data": {
      "text/latex": [
       "$$\\mathrm H^{1}(X_{12},\\wedge^{3}T_X)=L\\left( 2\\alpha_{1}+ 3\\alpha_{2}+ 4\\alpha_{3}+ 2\\alpha_{4}\\right)$$"
      ],
      "text/plain": [
       "<IPython.core.display.Math object>"
      ]
     },
     "metadata": {},
     "output_type": "display_data"
    },
    {
     "data": {
      "text/latex": [
       "$$\\mathrm b^{1}(X_{12},\\wedge^{3}T_X)=52$$"
      ],
      "text/plain": [
       "<IPython.core.display.Math object>"
      ]
     },
     "metadata": {},
     "output_type": "display_data"
    },
    {
     "data": {
      "text/latex": [
       "$$\\mathrm H^{1}(X_{12},\\wedge^{4}T_X)=L\\left( 3\\alpha_{1}+ 6\\alpha_{2}+ 8\\alpha_{3}+ 4\\alpha_{4}\\right)\\oplus L\\left( 4\\alpha_{1}+ 6\\alpha_{2}+ 8\\alpha_{3}+ 4\\alpha_{4}\\right)\\oplus L\\left( 4\\alpha_{1}+ 7\\alpha_{2}+ 10\\alpha_{3}+ 6\\alpha_{4}\\right)$$"
      ],
      "text/plain": [
       "<IPython.core.display.Math object>"
      ]
     },
     "metadata": {},
     "output_type": "display_data"
    },
    {
     "data": {
      "text/latex": [
       "$$\\mathrm b^{1}(X_{12},\\wedge^{4}T_X)=13156$$"
      ],
      "text/plain": [
       "<IPython.core.display.Math object>"
      ]
     },
     "metadata": {},
     "output_type": "display_data"
    },
    {
     "data": {
      "text/latex": [
       "$$\\mathrm H^{1}(X_{12},\\wedge^{5}T_X)=L\\left( 4\\alpha_{1}+ 6\\alpha_{2}+ 8\\alpha_{3}+ 4\\alpha_{4}\\right)\\oplus L\\left( 4\\alpha_{1}+ 8\\alpha_{2}+ 12\\alpha_{3}+ 6\\alpha_{4}\\right)\\oplus L\\left( 5\\alpha_{1}+ 9\\alpha_{2}+ 12\\alpha_{3}+ 6\\alpha_{4}\\right)^{2}\\oplus L\\left( 4\\alpha_{1}+ 8\\alpha_{2}+ 12\\alpha_{3}+ 8\\alpha_{4}\\right)\\oplus L\\left( 5\\alpha_{1}+ 9\\alpha_{2}+ 13\\alpha_{3}+ 7\\alpha_{4}\\right)\\oplus L\\left( 6\\alpha_{1}+ 10\\alpha_{2}+ 14\\alpha_{3}+ 8\\alpha_{4}\\right)$$"
      ],
      "text/plain": [
       "<IPython.core.display.Math object>"
      ]
     },
     "metadata": {},
     "output_type": "display_data"
    },
    {
     "data": {
      "text/latex": [
       "$$\\mathrm b^{1}(X_{12},\\wedge^{5}T_X)=361699$$"
      ],
      "text/plain": [
       "<IPython.core.display.Math object>"
      ]
     },
     "metadata": {},
     "output_type": "display_data"
    },
    {
     "data": {
      "text/latex": [
       "$$\\mathrm H^{1}(X_{12},\\wedge^{6}T_X)=L\\left( 5\\alpha_{1}+ 9\\alpha_{2}+ 12\\alpha_{3}+ 6\\alpha_{4}\\right)\\oplus L\\left( 6\\alpha_{1}+ 9\\alpha_{2}+ 12\\alpha_{3}+ 6\\alpha_{4}\\right)\\oplus L\\left( 6\\alpha_{1}+ 10\\alpha_{2}+ 14\\alpha_{3}+ 8\\alpha_{4}\\right)\\oplus L\\left( 6\\alpha_{1}+ 11\\alpha_{2}+ 15\\alpha_{3}+ 8\\alpha_{4}\\right)\\oplus L\\left( 6\\alpha_{1}+ 11\\alpha_{2}+ 16\\alpha_{3}+ 8\\alpha_{4}\\right)\\oplus L\\left( 7\\alpha_{1}+ 12\\alpha_{2}+ 16\\alpha_{3}+ 8\\alpha_{4}\\right)\\oplus L\\left( 7\\alpha_{1}+ 12\\alpha_{2}+ 17\\alpha_{3}+ 9\\alpha_{4}\\right)$$"
      ],
      "text/plain": [
       "<IPython.core.display.Math object>"
      ]
     },
     "metadata": {},
     "output_type": "display_data"
    },
    {
     "data": {
      "text/latex": [
       "$$\\mathrm b^{1}(X_{12},\\wedge^{6}T_X)=2668822$$"
      ],
      "text/plain": [
       "<IPython.core.display.Math object>"
      ]
     },
     "metadata": {},
     "output_type": "display_data"
    },
    {
     "data": {
      "text/latex": [
       "$$\\mathrm H^{1}(X_{12},\\wedge^{7}T_X)=L\\left( 6\\alpha_{1}+ 9\\alpha_{2}+ 12\\alpha_{3}+ 6\\alpha_{4}\\right)\\oplus L\\left( 7\\alpha_{1}+ 12\\alpha_{2}+ 16\\alpha_{3}+ 8\\alpha_{4}\\right)\\oplus L\\left( 8\\alpha_{1}+ 13\\alpha_{2}+ 18\\alpha_{3}+ 10\\alpha_{4}\\right)\\oplus L\\left( 8\\alpha_{1}+ 14\\alpha_{2}+ 19\\alpha_{3}+ 10\\alpha_{4}\\right)$$"
      ],
      "text/plain": [
       "<IPython.core.display.Math object>"
      ]
     },
     "metadata": {},
     "output_type": "display_data"
    },
    {
     "data": {
      "text/latex": [
       "$$\\mathrm b^{1}(X_{12},\\wedge^{7}T_X)=5792853$$"
      ],
      "text/plain": [
       "<IPython.core.display.Math object>"
      ]
     },
     "metadata": {},
     "output_type": "display_data"
    },
    {
     "name": "stdout",
     "output_type": "stream",
     "text": [
      "\n",
      "dim of u is 23 for root system F4 and subset (4,)\n"
     ]
    },
    {
     "data": {
      "application/vnd.jupyter.widget-view+json": {
       "model_id": "eecb3d4cdcb84c218b81cbdc6c7f1b2d",
       "version_major": 2,
       "version_minor": 0
      },
      "text/plain": [
       "HBox(children=(FloatProgress(value=0.0, max=8.0), HTML(value='')))"
      ]
     },
     "metadata": {},
     "output_type": "display_data"
    },
    {
     "data": {
      "application/vnd.jupyter.widget-view+json": {
       "model_id": "dea4ec56b68a476aa0459356e2cfd3c7",
       "version_major": 2,
       "version_minor": 0
      },
      "text/plain": [
       "HBox(children=(FloatProgress(value=1.0, bar_style='info', max=1.0), HTML(value='')))"
      ]
     },
     "metadata": {},
     "output_type": "display_data"
    },
    {
     "data": {
      "text/latex": [
       "$$\\mathrm H^{1}(X_{4},\\wedge^{3}T_X)=L\\left(\\alpha_{1}+ 2\\alpha_{2}+ 3\\alpha_{3}+ 2\\alpha_{4}\\right)$$"
      ],
      "text/plain": [
       "<IPython.core.display.Math object>"
      ]
     },
     "metadata": {},
     "output_type": "display_data"
    },
    {
     "data": {
      "text/latex": [
       "$$\\mathrm b^{1}(X_{4},\\wedge^{3}T_X)=26$$"
      ],
      "text/plain": [
       "<IPython.core.display.Math object>"
      ]
     },
     "metadata": {},
     "output_type": "display_data"
    },
    {
     "data": {
      "text/latex": [
       "$$\\mathrm H^{1}(X_{4},\\wedge^{4}T_X)=L\\left( 2\\alpha_{1}+ 4\\alpha_{2}+ 6\\alpha_{3}+ 3\\alpha_{4}\\right)\\oplus L\\left( 3\\alpha_{1}+ 5\\alpha_{2}+ 7\\alpha_{3}+ 4\\alpha_{4}\\right)$$"
      ],
      "text/plain": [
       "<IPython.core.display.Math object>"
      ]
     },
     "metadata": {},
     "output_type": "display_data"
    },
    {
     "data": {
      "text/latex": [
       "$$\\mathrm b^{1}(X_{4},\\wedge^{4}T_X)=1326$$"
      ],
      "text/plain": [
       "<IPython.core.display.Math object>"
      ]
     },
     "metadata": {},
     "output_type": "display_data"
    },
    {
     "data": {
      "text/latex": [
       "$$\\mathrm H^{1}(X_{4},\\wedge^{5}T_X)=L\\left( 2\\alpha_{1}+ 4\\alpha_{2}+ 6\\alpha_{3}+ 3\\alpha_{4}\\right)\\oplus L\\left( 3\\alpha_{1}+ 5\\alpha_{2}+ 7\\alpha_{3}+ 4\\alpha_{4}\\right)\\oplus L\\left( 3\\alpha_{1}+ 6\\alpha_{2}+ 9\\alpha_{3}+ 5\\alpha_{4}\\right)\\oplus L\\left( 4\\alpha_{1}+ 7\\alpha_{2}+ 10\\alpha_{3}+ 5\\alpha_{4}\\right)\\oplus L\\left( 4\\alpha_{1}+ 8\\alpha_{2}+ 11\\alpha_{3}+ 6\\alpha_{4}\\right)$$"
      ],
      "text/plain": [
       "<IPython.core.display.Math object>"
      ]
     },
     "metadata": {},
     "output_type": "display_data"
    },
    {
     "data": {
      "text/latex": [
       "$$\\mathrm b^{1}(X_{4},\\wedge^{5}T_X)=33124$$"
      ],
      "text/plain": [
       "<IPython.core.display.Math object>"
      ]
     },
     "metadata": {},
     "output_type": "display_data"
    },
    {
     "data": {
      "text/latex": [
       "$$\\mathrm H^{1}(X_{4},\\wedge^{6}T_X)=L\\left( 3\\alpha_{1}+ 5\\alpha_{2}+ 7\\alpha_{3}+ 4\\alpha_{4}\\right)\\oplus L\\left( 4\\alpha_{1}+ 6\\alpha_{2}+ 8\\alpha_{3}+ 4\\alpha_{4}\\right)\\oplus L\\left( 3\\alpha_{1}+ 6\\alpha_{2}+ 9\\alpha_{3}+ 5\\alpha_{4}\\right)^{2}\\oplus L\\left( 4\\alpha_{1}+ 7\\alpha_{2}+ 10\\alpha_{3}+ 5\\alpha_{4}\\right)^{2}\\oplus L\\left( 4\\alpha_{1}+ 8\\alpha_{2}+ 11\\alpha_{3}+ 6\\alpha_{4}\\right)\\oplus L\\left( 5\\alpha_{1}+ 8\\alpha_{2}+ 11\\alpha_{3}+ 6\\alpha_{4}\\right)\\oplus L\\left( 4\\alpha_{1}+ 8\\alpha_{2}+ 12\\alpha_{3}+ 6\\alpha_{4}\\right)\\oplus L\\left( 4\\alpha_{1}+ 8\\alpha_{2}+ 12\\alpha_{3}+ 7\\alpha_{4}\\right)\\oplus L\\left( 4\\alpha_{1}+ 8\\alpha_{2}+ 12\\alpha_{3}+ 8\\alpha_{4}\\right)\\oplus L\\left( 5\\alpha_{1}+ 9\\alpha_{2}+ 13\\alpha_{3}+ 7\\alpha_{4}\\right)\\oplus L\\left( 5\\alpha_{1}+ 10\\alpha_{2}+ 14\\alpha_{3}+ 7\\alpha_{4}\\right)\\oplus L\\left( 5\\alpha_{1}+ 10\\alpha_{2}+ 15\\alpha_{3}+ 8\\alpha_{4}\\right)$$"
      ],
      "text/plain": [
       "<IPython.core.display.Math object>"
      ]
     },
     "metadata": {},
     "output_type": "display_data"
    },
    {
     "data": {
      "text/latex": [
       "$$\\mathrm b^{1}(X_{4},\\wedge^{6}T_X)=554477$$"
      ],
      "text/plain": [
       "<IPython.core.display.Math object>"
      ]
     },
     "metadata": {},
     "output_type": "display_data"
    },
    {
     "data": {
      "text/latex": [
       "$$\\mathrm H^{1}(X_{4},\\wedge^{7}T_X)=L\\left( 4\\alpha_{1}+ 6\\alpha_{2}+ 8\\alpha_{3}+ 4\\alpha_{4}\\right)\\oplus L\\left( 4\\alpha_{1}+ 7\\alpha_{2}+ 10\\alpha_{3}+ 5\\alpha_{4}\\right)^{2}\\oplus L\\left( 4\\alpha_{1}+ 7\\alpha_{2}+ 10\\alpha_{3}+ 6\\alpha_{4}\\right)^{2}\\oplus L\\left( 4\\alpha_{1}+ 8\\alpha_{2}+ 11\\alpha_{3}+ 6\\alpha_{4}\\right)\\oplus L\\left( 5\\alpha_{1}+ 8\\alpha_{2}+ 11\\alpha_{3}+ 6\\alpha_{4}\\right)^{2}\\oplus L\\left( 4\\alpha_{1}+ 8\\alpha_{2}+ 12\\alpha_{3}+ 6\\alpha_{4}\\right)^{2}\\oplus L\\left( 4\\alpha_{1}+ 8\\alpha_{2}+ 12\\alpha_{3}+ 7\\alpha_{4}\\right)^{2}\\oplus L\\left( 5\\alpha_{1}+ 9\\alpha_{2}+ 12\\alpha_{3}+ 6\\alpha_{4}\\right)\\oplus L\\left( 4\\alpha_{1}+ 8\\alpha_{2}+ 12\\alpha_{3}+ 8\\alpha_{4}\\right)\\oplus L\\left( 6\\alpha_{1}+ 9\\alpha_{2}+ 12\\alpha_{3}+ 6\\alpha_{4}\\right)\\oplus L\\left( 5\\alpha_{1}+ 9\\alpha_{2}+ 13\\alpha_{3}+ 7\\alpha_{4}\\right)^{4}\\oplus L\\left( 5\\alpha_{1}+ 10\\alpha_{2}+ 14\\alpha_{3}+ 7\\alpha_{4}\\right)^{2}\\oplus L\\left( 6\\alpha_{1}+ 10\\alpha_{2}+ 14\\alpha_{3}+ 7\\alpha_{4}\\right)\\oplus L\\left( 5\\alpha_{1}+ 10\\alpha_{2}+ 14\\alpha_{3}+ 8\\alpha_{4}\\right)^{2}\\oplus L\\left( 6\\alpha_{1}+ 10\\alpha_{2}+ 14\\alpha_{3}+ 8\\alpha_{4}\\right)\\oplus L\\left( 5\\alpha_{1}+ 10\\alpha_{2}+ 15\\alpha_{3}+ 8\\alpha_{4}\\right)^{2}\\oplus L\\left( 5\\alpha_{1}+ 10\\alpha_{2}+ 15\\alpha_{3}+ 9\\alpha_{4}\\right)^{2}\\oplus L\\left( 6\\alpha_{1}+ 11\\alpha_{2}+ 15\\alpha_{3}+ 8\\alpha_{4}\\right)\\oplus L\\left( 6\\alpha_{1}+ 11\\alpha_{2}+ 16\\alpha_{3}+ 8\\alpha_{4}\\right)\\oplus L\\left( 6\\alpha_{1}+ 11\\alpha_{2}+ 16\\alpha_{3}+ 9\\alpha_{4}\\right)\\oplus L\\left( 6\\alpha_{1}+ 11\\alpha_{2}+ 16\\alpha_{3}+ 10\\alpha_{4}\\right)\\oplus L\\left( 6\\alpha_{1}+ 12\\alpha_{2}+ 17\\alpha_{3}+ 9\\alpha_{4}\\right)\\oplus L\\left( 6\\alpha_{1}+ 12\\alpha_{2}+ 18\\alpha_{3}+ 9\\alpha_{4}\\right)\\oplus L\\left( 6\\alpha_{1}+ 12\\alpha_{2}+ 18\\alpha_{3}+ 10\\alpha_{4}\\right)$$"
      ],
      "text/plain": [
       "<IPython.core.display.Math object>"
      ]
     },
     "metadata": {},
     "output_type": "display_data"
    },
    {
     "data": {
      "text/latex": [
       "$$\\mathrm b^{1}(X_{4},\\wedge^{7}T_X)=7427953$$"
      ],
      "text/plain": [
       "<IPython.core.display.Math object>"
      ]
     },
     "metadata": {},
     "output_type": "display_data"
    },
    {
     "name": "stdout",
     "output_type": "stream",
     "text": [
      "\n",
      "dim of u is 23 for root system F4 and subset (3,)\n"
     ]
    },
    {
     "data": {
      "application/vnd.jupyter.widget-view+json": {
       "model_id": "b898853cf364477c857e5c78553e9db8",
       "version_major": 2,
       "version_minor": 0
      },
      "text/plain": [
       "HBox(children=(FloatProgress(value=0.0, max=8.0), HTML(value='')))"
      ]
     },
     "metadata": {},
     "output_type": "display_data"
    },
    {
     "data": {
      "application/vnd.jupyter.widget-view+json": {
       "model_id": "9855d8a67e314a03aa10198568a35c73",
       "version_major": 2,
       "version_minor": 0
      },
      "text/plain": [
       "HBox(children=(FloatProgress(value=1.0, bar_style='info', max=1.0), HTML(value='')))"
      ]
     },
     "metadata": {},
     "output_type": "display_data"
    },
    {
     "data": {
      "text/latex": [
       "$$\\mathrm H^{1}(X_{3},\\wedge^{5}T_X)=L\\left( 2\\alpha_{1}+ 4\\alpha_{2}+ 6\\alpha_{3}+ 4\\alpha_{4}\\right)$$"
      ],
      "text/plain": [
       "<IPython.core.display.Math object>"
      ]
     },
     "metadata": {},
     "output_type": "display_data"
    },
    {
     "data": {
      "text/latex": [
       "$$\\mathrm b^{1}(X_{3},\\wedge^{5}T_X)=324$$"
      ],
      "text/plain": [
       "<IPython.core.display.Math object>"
      ]
     },
     "metadata": {},
     "output_type": "display_data"
    },
    {
     "data": {
      "text/latex": [
       "$$\\mathrm H^{1}(X_{3},\\wedge^{6}T_X)=L\\left( 3\\alpha_{1}+ 6\\alpha_{2}+ 8\\alpha_{3}+ 4\\alpha_{4}\\right)\\oplus L\\left( 4\\alpha_{1}+ 6\\alpha_{2}+ 8\\alpha_{3}+ 4\\alpha_{4}\\right)\\oplus L\\left( 3\\alpha_{1}+ 6\\alpha_{2}+ 9\\alpha_{3}+ 5\\alpha_{4}\\right)\\oplus L\\left( 4\\alpha_{1}+ 7\\alpha_{2}+ 10\\alpha_{3}+ 6\\alpha_{4}\\right)\\oplus L\\left( 4\\alpha_{1}+ 8\\alpha_{2}+ 12\\alpha_{3}+ 8\\alpha_{4}\\right)$$"
      ],
      "text/plain": [
       "<IPython.core.display.Math object>"
      ]
     },
     "metadata": {},
     "output_type": "display_data"
    },
    {
     "data": {
      "text/latex": [
       "$$\\mathrm b^{1}(X_{3},\\wedge^{6}T_X)=33554$$"
      ],
      "text/plain": [
       "<IPython.core.display.Math object>"
      ]
     },
     "metadata": {},
     "output_type": "display_data"
    },
    {
     "data": {
      "text/latex": [
       "$$\\mathrm H^{1}(X_{3},\\wedge^{7}T_X)=L\\left( 4\\alpha_{1}+ 6\\alpha_{2}+ 8\\alpha_{3}+ 4\\alpha_{4}\\right)\\oplus L\\left( 4\\alpha_{1}+ 7\\alpha_{2}+ 10\\alpha_{3}+ 5\\alpha_{4}\\right)\\oplus L\\left( 4\\alpha_{1}+ 7\\alpha_{2}+ 10\\alpha_{3}+ 6\\alpha_{4}\\right)^{2}\\oplus L\\left( 4\\alpha_{1}+ 8\\alpha_{2}+ 11\\alpha_{3}+ 6\\alpha_{4}\\right)\\oplus L\\left( 4\\alpha_{1}+ 8\\alpha_{2}+ 12\\alpha_{3}+ 6\\alpha_{4}\\right)\\oplus L\\left( 4\\alpha_{1}+ 8\\alpha_{2}+ 12\\alpha_{3}+ 7\\alpha_{4}\\right)\\oplus L\\left( 5\\alpha_{1}+ 9\\alpha_{2}+ 12\\alpha_{3}+ 6\\alpha_{4}\\right)^{2}\\oplus L\\left( 4\\alpha_{1}+ 8\\alpha_{2}+ 12\\alpha_{3}+ 8\\alpha_{4}\\right)\\oplus L\\left( 6\\alpha_{1}+ 9\\alpha_{2}+ 12\\alpha_{3}+ 6\\alpha_{4}\\right)\\oplus L\\left( 5\\alpha_{1}+ 9\\alpha_{2}+ 13\\alpha_{3}+ 7\\alpha_{4}\\right)^{2}\\oplus L\\left( 5\\alpha_{1}+ 9\\alpha_{2}+ 13\\alpha_{3}+ 8\\alpha_{4}\\right)\\oplus L\\left( 5\\alpha_{1}+ 10\\alpha_{2}+ 14\\alpha_{3}+ 8\\alpha_{4}\\right)^{2}\\oplus L\\left( 6\\alpha_{1}+ 10\\alpha_{2}+ 14\\alpha_{3}+ 8\\alpha_{4}\\right)\\oplus L\\left( 5\\alpha_{1}+ 10\\alpha_{2}+ 15\\alpha_{3}+ 9\\alpha_{4}\\right)\\oplus L\\left( 6\\alpha_{1}+ 11\\alpha_{2}+ 16\\alpha_{3}+ 10\\alpha_{4}\\right)$$"
      ],
      "text/plain": [
       "<IPython.core.display.Math object>"
      ]
     },
     "metadata": {},
     "output_type": "display_data"
    },
    {
     "data": {
      "text/latex": [
       "$$\\mathrm b^{1}(X_{3},\\wedge^{7}T_X)=1586636$$"
      ],
      "text/plain": [
       "<IPython.core.display.Math object>"
      ]
     },
     "metadata": {},
     "output_type": "display_data"
    },
    {
     "name": "stdout",
     "output_type": "stream",
     "text": [
      "\n",
      "dim of u is 23 for root system F4 and subset (2,)\n"
     ]
    },
    {
     "data": {
      "application/vnd.jupyter.widget-view+json": {
       "model_id": "c12bda66952f4dde920a792b5a498674",
       "version_major": 2,
       "version_minor": 0
      },
      "text/plain": [
       "HBox(children=(FloatProgress(value=0.0, max=8.0), HTML(value='')))"
      ]
     },
     "metadata": {},
     "output_type": "display_data"
    },
    {
     "data": {
      "application/vnd.jupyter.widget-view+json": {
       "model_id": "19a7bb0b547348adae23aa763b1b0b9d",
       "version_major": 2,
       "version_minor": 0
      },
      "text/plain": [
       "HBox(children=(FloatProgress(value=1.0, bar_style='info', max=1.0), HTML(value='')))"
      ]
     },
     "metadata": {},
     "output_type": "display_data"
    },
    {
     "data": {
      "text/latex": [
       "$$\\mathrm H^{1}(X_{2},\\wedge^{2}T_X)=L\\left(\\alpha_{1}+ 2\\alpha_{2}+ 3\\alpha_{3}+ 2\\alpha_{4}\\right)$$"
      ],
      "text/plain": [
       "<IPython.core.display.Math object>"
      ]
     },
     "metadata": {},
     "output_type": "display_data"
    },
    {
     "data": {
      "text/latex": [
       "$$\\mathrm b^{1}(X_{2},\\wedge^{2}T_X)=26$$"
      ],
      "text/plain": [
       "<IPython.core.display.Math object>"
      ]
     },
     "metadata": {},
     "output_type": "display_data"
    },
    {
     "data": {
      "text/latex": [
       "$$\\mathrm H^{1}(X_{2},\\wedge^{3}T_X)=L\\left( 2\\alpha_{1}+ 4\\alpha_{2}+ 6\\alpha_{3}+ 3\\alpha_{4}\\right)\\oplus L\\left( 3\\alpha_{1}+ 5\\alpha_{2}+ 7\\alpha_{3}+ 4\\alpha_{4}\\right)$$"
      ],
      "text/plain": [
       "<IPython.core.display.Math object>"
      ]
     },
     "metadata": {},
     "output_type": "display_data"
    },
    {
     "data": {
      "text/latex": [
       "$$\\mathrm b^{1}(X_{2},\\wedge^{3}T_X)=1326$$"
      ],
      "text/plain": [
       "<IPython.core.display.Math object>"
      ]
     },
     "metadata": {},
     "output_type": "display_data"
    },
    {
     "data": {
      "text/latex": [
       "$$\\mathrm H^{1}(X_{2},\\wedge^{4}T_X)=L\\left( 2\\alpha_{1}+ 3\\alpha_{2}+ 4\\alpha_{3}+ 2\\alpha_{4}\\right)\\oplus L\\left( 2\\alpha_{1}+ 4\\alpha_{2}+ 6\\alpha_{3}+ 3\\alpha_{4}\\right)\\oplus L\\left( 2\\alpha_{1}+ 4\\alpha_{2}+ 6\\alpha_{3}+ 4\\alpha_{4}\\right)\\oplus L\\left( 3\\alpha_{1}+ 5\\alpha_{2}+ 7\\alpha_{3}+ 4\\alpha_{4}\\right)\\oplus L\\left( 3\\alpha_{1}+ 6\\alpha_{2}+ 9\\alpha_{3}+ 5\\alpha_{4}\\right)\\oplus L\\left( 4\\alpha_{1}+ 7\\alpha_{2}+ 10\\alpha_{3}+ 5\\alpha_{4}\\right)\\oplus L\\left( 4\\alpha_{1}+ 8\\alpha_{2}+ 11\\alpha_{3}+ 6\\alpha_{4}\\right)$$"
      ],
      "text/plain": [
       "<IPython.core.display.Math object>"
      ]
     },
     "metadata": {},
     "output_type": "display_data"
    },
    {
     "data": {
      "text/latex": [
       "$$\\mathrm b^{1}(X_{2},\\wedge^{4}T_X)=33500$$"
      ],
      "text/plain": [
       "<IPython.core.display.Math object>"
      ]
     },
     "metadata": {},
     "output_type": "display_data"
    },
    {
     "data": {
      "text/latex": [
       "$$\\mathrm H^{1}(X_{2},\\wedge^{5}T_X)=L\\left( 2\\alpha_{1}+ 4\\alpha_{2}+ 6\\alpha_{3}+ 4\\alpha_{4}\\right)\\oplus L\\left( 3\\alpha_{1}+ 5\\alpha_{2}+ 7\\alpha_{3}+ 4\\alpha_{4}\\right)\\oplus L\\left( 3\\alpha_{1}+ 6\\alpha_{2}+ 8\\alpha_{3}+ 4\\alpha_{4}\\right)^{2}\\oplus L\\left( 4\\alpha_{1}+ 6\\alpha_{2}+ 8\\alpha_{3}+ 4\\alpha_{4}\\right)\\oplus L\\left( 3\\alpha_{1}+ 6\\alpha_{2}+ 9\\alpha_{3}+ 5\\alpha_{4}\\right)^{3}\\oplus L\\left( 3\\alpha_{1}+ 6\\alpha_{2}+ 9\\alpha_{3}+ 6\\alpha_{4}\\right)\\oplus L\\left( 4\\alpha_{1}+ 7\\alpha_{2}+ 10\\alpha_{3}+ 5\\alpha_{4}\\right)^{2}\\oplus L\\left( 4\\alpha_{1}+ 7\\alpha_{2}+ 10\\alpha_{3}+ 6\\alpha_{4}\\right)^{2}\\oplus L\\left( 4\\alpha_{1}+ 8\\alpha_{2}+ 11\\alpha_{3}+ 6\\alpha_{4}\\right)\\oplus L\\left( 5\\alpha_{1}+ 8\\alpha_{2}+ 11\\alpha_{3}+ 6\\alpha_{4}\\right)\\oplus L\\left( 4\\alpha_{1}+ 8\\alpha_{2}+ 12\\alpha_{3}+ 6\\alpha_{4}\\right)\\oplus L\\left( 4\\alpha_{1}+ 8\\alpha_{2}+ 12\\alpha_{3}+ 7\\alpha_{4}\\right)\\oplus L\\left( 4\\alpha_{1}+ 8\\alpha_{2}+ 12\\alpha_{3}+ 8\\alpha_{4}\\right)\\oplus L\\left( 5\\alpha_{1}+ 9\\alpha_{2}+ 13\\alpha_{3}+ 7\\alpha_{4}\\right)\\oplus L\\left( 5\\alpha_{1}+ 10\\alpha_{2}+ 14\\alpha_{3}+ 7\\alpha_{4}\\right)\\oplus L\\left( 5\\alpha_{1}+ 10\\alpha_{2}+ 15\\alpha_{3}+ 8\\alpha_{4}\\right)$$"
      ],
      "text/plain": [
       "<IPython.core.display.Math object>"
      ]
     },
     "metadata": {},
     "output_type": "display_data"
    },
    {
     "data": {
      "text/latex": [
       "$$\\mathrm b^{1}(X_{2},\\wedge^{5}T_X)=585755$$"
      ],
      "text/plain": [
       "<IPython.core.display.Math object>"
      ]
     },
     "metadata": {},
     "output_type": "display_data"
    },
    {
     "data": {
      "text/latex": [
       "$$\\mathrm H^{1}(X_{2},\\wedge^{6}T_X)=L\\left( 3\\alpha_{1}+ 6\\alpha_{2}+ 8\\alpha_{3}+ 4\\alpha_{4}\\right)\\oplus L\\left( 4\\alpha_{1}+ 6\\alpha_{2}+ 8\\alpha_{3}+ 4\\alpha_{4}\\right)^{2}\\oplus L\\left( 3\\alpha_{1}+ 6\\alpha_{2}+ 9\\alpha_{3}+ 5\\alpha_{4}\\right)\\oplus L\\left( 4\\alpha_{1}+ 7\\alpha_{2}+ 10\\alpha_{3}+ 5\\alpha_{4}\\right)^{2}\\oplus L\\left( 4\\alpha_{1}+ 7\\alpha_{2}+ 10\\alpha_{3}+ 6\\alpha_{4}\\right)^{4}\\oplus L\\left( 4\\alpha_{1}+ 8\\alpha_{2}+ 11\\alpha_{3}+ 6\\alpha_{4}\\right)^{3}\\oplus L\\left( 5\\alpha_{1}+ 8\\alpha_{2}+ 11\\alpha_{3}+ 6\\alpha_{4}\\right)^{2}\\oplus L\\left( 4\\alpha_{1}+ 8\\alpha_{2}+ 12\\alpha_{3}+ 6\\alpha_{4}\\right)^{4}\\oplus L\\left( 4\\alpha_{1}+ 8\\alpha_{2}+ 12\\alpha_{3}+ 7\\alpha_{4}\\right)^{4}\\oplus L\\left( 5\\alpha_{1}+ 9\\alpha_{2}+ 12\\alpha_{3}+ 6\\alpha_{4}\\right)^{3}\\oplus L\\left( 4\\alpha_{1}+ 8\\alpha_{2}+ 12\\alpha_{3}+ 8\\alpha_{4}\\right)\\oplus L\\left( 5\\alpha_{1}+ 9\\alpha_{2}+ 13\\alpha_{3}+ 7\\alpha_{4}\\right)^{5}\\oplus L\\left( 5\\alpha_{1}+ 9\\alpha_{2}+ 13\\alpha_{3}+ 8\\alpha_{4}\\right)\\oplus L\\left( 5\\alpha_{1}+ 10\\alpha_{2}+ 14\\alpha_{3}+ 7\\alpha_{4}\\right)^{2}\\oplus L\\left( 6\\alpha_{1}+ 10\\alpha_{2}+ 14\\alpha_{3}+ 7\\alpha_{4}\\right)\\oplus L\\left( 5\\alpha_{1}+ 10\\alpha_{2}+ 14\\alpha_{3}+ 8\\alpha_{4}\\right)^{3}\\oplus L\\left( 6\\alpha_{1}+ 10\\alpha_{2}+ 14\\alpha_{3}+ 8\\alpha_{4}\\right)\\oplus L\\left( 5\\alpha_{1}+ 10\\alpha_{2}+ 15\\alpha_{3}+ 8\\alpha_{4}\\right)^{2}\\oplus L\\left( 5\\alpha_{1}+ 10\\alpha_{2}+ 15\\alpha_{3}+ 9\\alpha_{4}\\right)^{2}\\oplus L\\left( 6\\alpha_{1}+ 11\\alpha_{2}+ 15\\alpha_{3}+ 8\\alpha_{4}\\right)\\oplus L\\left( 6\\alpha_{1}+ 11\\alpha_{2}+ 16\\alpha_{3}+ 8\\alpha_{4}\\right)\\oplus L\\left( 6\\alpha_{1}+ 11\\alpha_{2}+ 16\\alpha_{3}+ 9\\alpha_{4}\\right)\\oplus L\\left( 6\\alpha_{1}+ 11\\alpha_{2}+ 16\\alpha_{3}+ 10\\alpha_{4}\\right)\\oplus L\\left( 6\\alpha_{1}+ 12\\alpha_{2}+ 17\\alpha_{3}+ 9\\alpha_{4}\\right)\\oplus L\\left( 6\\alpha_{1}+ 12\\alpha_{2}+ 18\\alpha_{3}+ 9\\alpha_{4}\\right)\\oplus L\\left( 6\\alpha_{1}+ 12\\alpha_{2}+ 18\\alpha_{3}+ 10\\alpha_{4}\\right)$$"
      ],
      "text/plain": [
       "<IPython.core.display.Math object>"
      ]
     },
     "metadata": {},
     "output_type": "display_data"
    },
    {
     "data": {
      "text/latex": [
       "$$\\mathrm b^{1}(X_{2},\\wedge^{6}T_X)=7991580$$"
      ],
      "text/plain": [
       "<IPython.core.display.Math object>"
      ]
     },
     "metadata": {},
     "output_type": "display_data"
    },
    {
     "data": {
      "text/latex": [
       "$$\\mathrm H^{1}(X_{2},\\wedge^{7}T_X)=L\\left( 5\\alpha_{1}+ 8\\alpha_{2}+ 11\\alpha_{3}+ 6\\alpha_{4}\\right)\\oplus L\\left( 4\\alpha_{1}+ 8\\alpha_{2}+ 12\\alpha_{3}+ 6\\alpha_{4}\\right)\\oplus L\\left( 5\\alpha_{1}+ 9\\alpha_{2}+ 12\\alpha_{3}+ 6\\alpha_{4}\\right)^{4}\\oplus L\\left( 6\\alpha_{1}+ 9\\alpha_{2}+ 12\\alpha_{3}+ 6\\alpha_{4}\\right)^{2}\\oplus L\\left( 5\\alpha_{1}+ 9\\alpha_{2}+ 13\\alpha_{3}+ 7\\alpha_{4}\\right)^{6}\\oplus L\\left( 5\\alpha_{1}+ 9\\alpha_{2}+ 13\\alpha_{3}+ 8\\alpha_{4}\\right)^{3}\\oplus L\\left( 5\\alpha_{1}+ 10\\alpha_{2}+ 14\\alpha_{3}+ 7\\alpha_{4}\\right)^{4}\\oplus L\\left( 6\\alpha_{1}+ 10\\alpha_{2}+ 14\\alpha_{3}+ 7\\alpha_{4}\\right)^{3}\\oplus L\\left( 5\\alpha_{1}+ 10\\alpha_{2}+ 14\\alpha_{3}+ 8\\alpha_{4}\\right)^{7}\\oplus L\\left( 6\\alpha_{1}+ 10\\alpha_{2}+ 14\\alpha_{3}+ 8\\alpha_{4}\\right)^{4}\\oplus L\\left( 5\\alpha_{1}+ 10\\alpha_{2}+ 15\\alpha_{3}+ 8\\alpha_{4}\\right)^{6}\\oplus L\\left( 5\\alpha_{1}+ 10\\alpha_{2}+ 15\\alpha_{3}+ 9\\alpha_{4}\\right)^{3}\\oplus L\\left( 6\\alpha_{1}+ 11\\alpha_{2}+ 15\\alpha_{3}+ 8\\alpha_{4}\\right)^{5}\\oplus L\\left( 7\\alpha_{1}+ 11\\alpha_{2}+ 15\\alpha_{3}+ 8\\alpha_{4}\\right)\\oplus L\\left( 6\\alpha_{1}+ 11\\alpha_{2}+ 16\\alpha_{3}+ 8\\alpha_{4}\\right)^{6}\\oplus L\\left( 6\\alpha_{1}+ 12\\alpha_{2}+ 16\\alpha_{3}+ 8\\alpha_{4}\\right)\\oplus L\\left( 6\\alpha_{1}+ 11\\alpha_{2}+ 16\\alpha_{3}+ 9\\alpha_{4}\\right)^{6}\\oplus L\\left( 7\\alpha_{1}+ 12\\alpha_{2}+ 16\\alpha_{3}+ 8\\alpha_{4}\\right)\\oplus L\\left( 6\\alpha_{1}+ 11\\alpha_{2}+ 16\\alpha_{3}+ 10\\alpha_{4}\\right)^{2}\\oplus L\\left( 6\\alpha_{1}+ 12\\alpha_{2}+ 17\\alpha_{3}+ 9\\alpha_{4}\\right)^{6}\\oplus L\\left( 7\\alpha_{1}+ 12\\alpha_{2}+ 17\\alpha_{3}+ 9\\alpha_{4}\\right)^{2}\\oplus L\\left( 6\\alpha_{1}+ 12\\alpha_{2}+ 18\\alpha_{3}+ 9\\alpha_{4}\\right)^{2}\\oplus L\\left( 6\\alpha_{1}+ 12\\alpha_{2}+ 17\\alpha_{3}+ 10\\alpha_{4}\\right)^{3}\\oplus L\\left( 6\\alpha_{1}+ 12\\alpha_{2}+ 18\\alpha_{3}+ 10\\alpha_{4}\\right)^{3}\\oplus L\\left( 7\\alpha_{1}+ 13\\alpha_{2}+ 18\\alpha_{3}+ 9\\alpha_{4}\\right)\\oplus L\\left( 6\\alpha_{1}+ 12\\alpha_{2}+ 18\\alpha_{3}+ 11\\alpha_{4}\\right)\\oplus L\\left( 7\\alpha_{1}+ 13\\alpha_{2}+ 18\\alpha_{3}+ 10\\alpha_{4}\\right)^{2}\\oplus L\\left( 7\\alpha_{1}+ 13\\alpha_{2}+ 19\\alpha_{3}+ 10\\alpha_{4}\\right)^{2}\\oplus L\\left( 7\\alpha_{1}+ 13\\alpha_{2}+ 19\\alpha_{3}+ 11\\alpha_{4}\\right)^{2}\\oplus L\\left( 7\\alpha_{1}+ 14\\alpha_{2}+ 20\\alpha_{3}+ 10\\alpha_{4}\\right)\\oplus L\\left( 7\\alpha_{1}+ 14\\alpha_{2}+ 20\\alpha_{3}+ 11\\alpha_{4}\\right)\\oplus L\\left( 7\\alpha_{1}+ 14\\alpha_{2}+ 21\\alpha_{3}+ 11\\alpha_{4}\\right)\\oplus L\\left( 7\\alpha_{1}+ 14\\alpha_{2}+ 20\\alpha_{3}+ 12\\alpha_{4}\\right)$$"
      ],
      "text/plain": [
       "<IPython.core.display.Math object>"
      ]
     },
     "metadata": {},
     "output_type": "display_data"
    },
    {
     "data": {
      "text/latex": [
       "$$\\mathrm b^{1}(X_{2},\\wedge^{7}T_X)=78963082$$"
      ],
      "text/plain": [
       "<IPython.core.display.Math object>"
      ]
     },
     "metadata": {},
     "output_type": "display_data"
    },
    {
     "name": "stdout",
     "output_type": "stream",
     "text": [
      "\n",
      "dim of u is 23 for root system F4 and subset (1,)\n"
     ]
    },
    {
     "data": {
      "application/vnd.jupyter.widget-view+json": {
       "model_id": "cc1fde66015e4905a2bf7a4db690c0b4",
       "version_major": 2,
       "version_minor": 0
      },
      "text/plain": [
       "HBox(children=(FloatProgress(value=0.0, max=8.0), HTML(value='')))"
      ]
     },
     "metadata": {},
     "output_type": "display_data"
    },
    {
     "data": {
      "application/vnd.jupyter.widget-view+json": {
       "model_id": "e89f9f92bb4e4300b2a1ceeebea505f2",
       "version_major": 2,
       "version_minor": 0
      },
      "text/plain": [
       "HBox(children=(FloatProgress(value=1.0, bar_style='info', max=1.0), HTML(value='')))"
      ]
     },
     "metadata": {},
     "output_type": "display_data"
    },
    {
     "data": {
      "text/latex": [
       "$$\\mathrm H^{1}(X_{1},\\wedge^{4}T_X)=L\\left( 2\\alpha_{1}+ 3\\alpha_{2}+ 4\\alpha_{3}+ 2\\alpha_{4}\\right)$$"
      ],
      "text/plain": [
       "<IPython.core.display.Math object>"
      ]
     },
     "metadata": {},
     "output_type": "display_data"
    },
    {
     "data": {
      "text/latex": [
       "$$\\mathrm b^{1}(X_{1},\\wedge^{4}T_X)=52$$"
      ],
      "text/plain": [
       "<IPython.core.display.Math object>"
      ]
     },
     "metadata": {},
     "output_type": "display_data"
    },
    {
     "data": {
      "text/latex": [
       "$$\\mathrm H^{1}(X_{1},\\wedge^{5}T_X)=L\\left( 2\\alpha_{1}+ 4\\alpha_{2}+ 6\\alpha_{3}+ 4\\alpha_{4}\\right)\\oplus L\\left( 3\\alpha_{1}+ 6\\alpha_{2}+ 8\\alpha_{3}+ 4\\alpha_{4}\\right)\\oplus L\\left( 4\\alpha_{1}+ 6\\alpha_{2}+ 8\\alpha_{3}+ 4\\alpha_{4}\\right)$$"
      ],
      "text/plain": [
       "<IPython.core.display.Math object>"
      ]
     },
     "metadata": {},
     "output_type": "display_data"
    },
    {
     "data": {
      "text/latex": [
       "$$\\mathrm b^{1}(X_{1},\\wedge^{5}T_X)=2651$$"
      ],
      "text/plain": [
       "<IPython.core.display.Math object>"
      ]
     },
     "metadata": {},
     "output_type": "display_data"
    },
    {
     "data": {
      "text/latex": [
       "$$\\mathrm H^{1}(X_{1},\\wedge^{6}T_X)=L\\left( 4\\alpha_{1}+ 6\\alpha_{2}+ 8\\alpha_{3}+ 4\\alpha_{4}\\right)^{2}\\oplus L\\left( 3\\alpha_{1}+ 6\\alpha_{2}+ 9\\alpha_{3}+ 5\\alpha_{4}\\right)\\oplus L\\left( 4\\alpha_{1}+ 7\\alpha_{2}+ 10\\alpha_{3}+ 5\\alpha_{4}\\right)\\oplus L\\left( 4\\alpha_{1}+ 7\\alpha_{2}+ 10\\alpha_{3}+ 6\\alpha_{4}\\right)\\oplus L\\left( 4\\alpha_{1}+ 8\\alpha_{2}+ 12\\alpha_{3}+ 6\\alpha_{4}\\right)\\oplus L\\left( 5\\alpha_{1}+ 9\\alpha_{2}+ 12\\alpha_{3}+ 6\\alpha_{4}\\right)^{2}\\oplus L\\left( 4\\alpha_{1}+ 8\\alpha_{2}+ 12\\alpha_{3}+ 8\\alpha_{4}\\right)\\oplus L\\left( 5\\alpha_{1}+ 9\\alpha_{2}+ 13\\alpha_{3}+ 7\\alpha_{4}\\right)\\oplus L\\left( 6\\alpha_{1}+ 10\\alpha_{2}+ 14\\alpha_{3}+ 8\\alpha_{4}\\right)$$"
      ],
      "text/plain": [
       "<IPython.core.display.Math object>"
      ]
     },
     "metadata": {},
     "output_type": "display_data"
    },
    {
     "data": {
      "text/latex": [
       "$$\\mathrm b^{1}(X_{1},\\wedge^{6}T_X)=386101$$"
      ],
      "text/plain": [
       "<IPython.core.display.Math object>"
      ]
     },
     "metadata": {},
     "output_type": "display_data"
    },
    {
     "data": {
      "text/latex": [
       "$$\\mathrm H^{1}(X_{1},\\wedge^{7}T_X)=L\\left( 4\\alpha_{1}+ 6\\alpha_{2}+ 8\\alpha_{3}+ 4\\alpha_{4}\\right)\\oplus L\\left( 4\\alpha_{1}+ 7\\alpha_{2}+ 10\\alpha_{3}+ 6\\alpha_{4}\\right)\\oplus L\\left( 4\\alpha_{1}+ 8\\alpha_{2}+ 11\\alpha_{3}+ 6\\alpha_{4}\\right)\\oplus L\\left( 5\\alpha_{1}+ 8\\alpha_{2}+ 11\\alpha_{3}+ 6\\alpha_{4}\\right)\\oplus L\\left( 4\\alpha_{1}+ 8\\alpha_{2}+ 12\\alpha_{3}+ 7\\alpha_{4}\\right)\\oplus L\\left( 5\\alpha_{1}+ 9\\alpha_{2}+ 12\\alpha_{3}+ 6\\alpha_{4}\\right)^{2}\\oplus L\\left( 6\\alpha_{1}+ 9\\alpha_{2}+ 12\\alpha_{3}+ 6\\alpha_{4}\\right)^{3}\\oplus L\\left( 5\\alpha_{1}+ 9\\alpha_{2}+ 13\\alpha_{3}+ 7\\alpha_{4}\\right)^{3}\\oplus L\\left( 5\\alpha_{1}+ 9\\alpha_{2}+ 13\\alpha_{3}+ 8\\alpha_{4}\\right)\\oplus L\\left( 5\\alpha_{1}+ 10\\alpha_{2}+ 14\\alpha_{3}+ 7\\alpha_{4}\\right)\\oplus L\\left( 6\\alpha_{1}+ 10\\alpha_{2}+ 14\\alpha_{3}+ 7\\alpha_{4}\\right)^{2}\\oplus L\\left( 5\\alpha_{1}+ 10\\alpha_{2}+ 14\\alpha_{3}+ 8\\alpha_{4}\\right)^{2}\\oplus L\\left( 6\\alpha_{1}+ 10\\alpha_{2}+ 14\\alpha_{3}+ 8\\alpha_{4}\\right)^{2}\\oplus L\\left( 5\\alpha_{1}+ 10\\alpha_{2}+ 15\\alpha_{3}+ 8\\alpha_{4}\\right)\\oplus L\\left( 5\\alpha_{1}+ 10\\alpha_{2}+ 15\\alpha_{3}+ 9\\alpha_{4}\\right)\\oplus L\\left( 6\\alpha_{1}+ 11\\alpha_{2}+ 15\\alpha_{3}+ 8\\alpha_{4}\\right)\\oplus L\\left( 6\\alpha_{1}+ 11\\alpha_{2}+ 16\\alpha_{3}+ 8\\alpha_{4}\\right)^{2}\\oplus L\\left( 6\\alpha_{1}+ 11\\alpha_{2}+ 16\\alpha_{3}+ 9\\alpha_{4}\\right)\\oplus L\\left( 7\\alpha_{1}+ 12\\alpha_{2}+ 16\\alpha_{3}+ 8\\alpha_{4}\\right)\\oplus L\\left( 6\\alpha_{1}+ 11\\alpha_{2}+ 16\\alpha_{3}+ 10\\alpha_{4}\\right)\\oplus L\\left( 7\\alpha_{1}+ 12\\alpha_{2}+ 17\\alpha_{3}+ 9\\alpha_{4}\\right)^{2}\\oplus L\\left( 8\\alpha_{1}+ 13\\alpha_{2}+ 18\\alpha_{3}+ 10\\alpha_{4}\\right)$$"
      ],
      "text/plain": [
       "<IPython.core.display.Math object>"
      ]
     },
     "metadata": {},
     "output_type": "display_data"
    },
    {
     "data": {
      "text/latex": [
       "$$\\mathrm b^{1}(X_{1},\\wedge^{7}T_X)=8878752$$"
      ],
      "text/plain": [
       "<IPython.core.display.Math object>"
      ]
     },
     "metadata": {},
     "output_type": "display_data"
    },
    {
     "name": "stdout",
     "output_type": "stream",
     "text": [
      "\n",
      "dim of u is 24 for root system F4 and subset ()\n"
     ]
    },
    {
     "data": {
      "application/vnd.jupyter.widget-view+json": {
       "model_id": "886ad01153d5459e9b3340d4d76da579",
       "version_major": 2,
       "version_minor": 0
      },
      "text/plain": [
       "HBox(children=(FloatProgress(value=0.0, max=8.0), HTML(value='')))"
      ]
     },
     "metadata": {},
     "output_type": "display_data"
    },
    {
     "data": {
      "application/vnd.jupyter.widget-view+json": {
       "model_id": "2be3e42c3c644859aca98c77a0008768",
       "version_major": 2,
       "version_minor": 0
      },
      "text/plain": [
       "HBox(children=(FloatProgress(value=1.0, bar_style='info', max=1.0), HTML(value='')))"
      ]
     },
     "metadata": {},
     "output_type": "display_data"
    },
    {
     "data": {
      "text/latex": [
       "$$\\mathrm H^{1}(X_{},\\wedge^{3}T_X)=L\\left(\\alpha_{1}+ 2\\alpha_{2}+ 3\\alpha_{3}+ 2\\alpha_{4}\\right)$$"
      ],
      "text/plain": [
       "<IPython.core.display.Math object>"
      ]
     },
     "metadata": {},
     "output_type": "display_data"
    },
    {
     "data": {
      "text/latex": [
       "$$\\mathrm b^{1}(X_{},\\wedge^{3}T_X)=26$$"
      ],
      "text/plain": [
       "<IPython.core.display.Math object>"
      ]
     },
     "metadata": {},
     "output_type": "display_data"
    },
    {
     "data": {
      "text/latex": [
       "$$\\mathrm H^{1}(X_{},\\wedge^{4}T_X)=L\\left( 2\\alpha_{1}+ 4\\alpha_{2}+ 6\\alpha_{3}+ 3\\alpha_{4}\\right)\\oplus L\\left( 3\\alpha_{1}+ 5\\alpha_{2}+ 7\\alpha_{3}+ 4\\alpha_{4}\\right)$$"
      ],
      "text/plain": [
       "<IPython.core.display.Math object>"
      ]
     },
     "metadata": {},
     "output_type": "display_data"
    },
    {
     "data": {
      "text/latex": [
       "$$\\mathrm b^{1}(X_{},\\wedge^{4}T_X)=1326$$"
      ],
      "text/plain": [
       "<IPython.core.display.Math object>"
      ]
     },
     "metadata": {},
     "output_type": "display_data"
    },
    {
     "data": {
      "text/latex": [
       "$$\\mathrm H^{1}(X_{},\\wedge^{5}T_X)=L\\left( 2\\alpha_{1}+ 3\\alpha_{2}+ 4\\alpha_{3}+ 2\\alpha_{4}\\right)\\oplus L\\left( 2\\alpha_{1}+ 4\\alpha_{2}+ 6\\alpha_{3}+ 3\\alpha_{4}\\right)\\oplus L\\left( 2\\alpha_{1}+ 4\\alpha_{2}+ 6\\alpha_{3}+ 4\\alpha_{4}\\right)\\oplus L\\left( 3\\alpha_{1}+ 5\\alpha_{2}+ 7\\alpha_{3}+ 4\\alpha_{4}\\right)\\oplus L\\left( 3\\alpha_{1}+ 6\\alpha_{2}+ 9\\alpha_{3}+ 5\\alpha_{4}\\right)\\oplus L\\left( 4\\alpha_{1}+ 7\\alpha_{2}+ 10\\alpha_{3}+ 5\\alpha_{4}\\right)\\oplus L\\left( 4\\alpha_{1}+ 8\\alpha_{2}+ 11\\alpha_{3}+ 6\\alpha_{4}\\right)$$"
      ],
      "text/plain": [
       "<IPython.core.display.Math object>"
      ]
     },
     "metadata": {},
     "output_type": "display_data"
    },
    {
     "data": {
      "text/latex": [
       "$$\\mathrm b^{1}(X_{},\\wedge^{5}T_X)=33500$$"
      ],
      "text/plain": [
       "<IPython.core.display.Math object>"
      ]
     },
     "metadata": {},
     "output_type": "display_data"
    },
    {
     "data": {
      "text/latex": [
       "$$\\mathrm H^{1}(X_{},\\wedge^{6}T_X)=L\\left( 2\\alpha_{1}+ 4\\alpha_{2}+ 6\\alpha_{3}+ 4\\alpha_{4}\\right)^{2}\\oplus L\\left( 3\\alpha_{1}+ 5\\alpha_{2}+ 7\\alpha_{3}+ 4\\alpha_{4}\\right)\\oplus L\\left( 3\\alpha_{1}+ 6\\alpha_{2}+ 8\\alpha_{3}+ 4\\alpha_{4}\\right)^{2}\\oplus L\\left( 4\\alpha_{1}+ 6\\alpha_{2}+ 8\\alpha_{3}+ 4\\alpha_{4}\\right)^{2}\\oplus L\\left( 3\\alpha_{1}+ 6\\alpha_{2}+ 9\\alpha_{3}+ 5\\alpha_{4}\\right)^{3}\\oplus L\\left( 3\\alpha_{1}+ 6\\alpha_{2}+ 9\\alpha_{3}+ 6\\alpha_{4}\\right)\\oplus L\\left( 4\\alpha_{1}+ 7\\alpha_{2}+ 10\\alpha_{3}+ 5\\alpha_{4}\\right)^{2}\\oplus L\\left( 4\\alpha_{1}+ 7\\alpha_{2}+ 10\\alpha_{3}+ 6\\alpha_{4}\\right)\\oplus L\\left( 4\\alpha_{1}+ 8\\alpha_{2}+ 11\\alpha_{3}+ 6\\alpha_{4}\\right)\\oplus L\\left( 5\\alpha_{1}+ 8\\alpha_{2}+ 11\\alpha_{3}+ 6\\alpha_{4}\\right)\\oplus L\\left( 4\\alpha_{1}+ 8\\alpha_{2}+ 12\\alpha_{3}+ 6\\alpha_{4}\\right)\\oplus L\\left( 4\\alpha_{1}+ 8\\alpha_{2}+ 12\\alpha_{3}+ 7\\alpha_{4}\\right)\\oplus L\\left( 4\\alpha_{1}+ 8\\alpha_{2}+ 12\\alpha_{3}+ 8\\alpha_{4}\\right)\\oplus L\\left( 5\\alpha_{1}+ 9\\alpha_{2}+ 13\\alpha_{3}+ 7\\alpha_{4}\\right)\\oplus L\\left( 5\\alpha_{1}+ 10\\alpha_{2}+ 14\\alpha_{3}+ 7\\alpha_{4}\\right)\\oplus L\\left( 5\\alpha_{1}+ 10\\alpha_{2}+ 15\\alpha_{3}+ 8\\alpha_{4}\\right)$$"
      ],
      "text/plain": [
       "<IPython.core.display.Math object>"
      ]
     },
     "metadata": {},
     "output_type": "display_data"
    },
    {
     "data": {
      "text/latex": [
       "$$\\mathrm b^{1}(X_{},\\wedge^{6}T_X)=576303$$"
      ],
      "text/plain": [
       "<IPython.core.display.Math object>"
      ]
     },
     "metadata": {},
     "output_type": "display_data"
    },
    {
     "data": {
      "text/latex": [
       "$$\\mathrm H^{1}(X_{},\\wedge^{7}T_X)=L\\left( 3\\alpha_{1}+ 5\\alpha_{2}+ 7\\alpha_{3}+ 4\\alpha_{4}\\right)\\oplus L\\left( 3\\alpha_{1}+ 6\\alpha_{2}+ 8\\alpha_{3}+ 4\\alpha_{4}\\right)^{2}\\oplus L\\left( 4\\alpha_{1}+ 6\\alpha_{2}+ 8\\alpha_{3}+ 4\\alpha_{4}\\right)^{2}\\oplus L\\left( 3\\alpha_{1}+ 6\\alpha_{2}+ 9\\alpha_{3}+ 5\\alpha_{4}\\right)^{3}\\oplus L\\left( 3\\alpha_{1}+ 6\\alpha_{2}+ 9\\alpha_{3}+ 6\\alpha_{4}\\right)\\oplus L\\left( 4\\alpha_{1}+ 7\\alpha_{2}+ 10\\alpha_{3}+ 5\\alpha_{4}\\right)^{3}\\oplus L\\left( 4\\alpha_{1}+ 7\\alpha_{2}+ 10\\alpha_{3}+ 6\\alpha_{4}\\right)^{6}\\oplus L\\left( 4\\alpha_{1}+ 8\\alpha_{2}+ 11\\alpha_{3}+ 6\\alpha_{4}\\right)^{3}\\oplus L\\left( 5\\alpha_{1}+ 8\\alpha_{2}+ 11\\alpha_{3}+ 6\\alpha_{4}\\right)^{2}\\oplus L\\left( 4\\alpha_{1}+ 8\\alpha_{2}+ 12\\alpha_{3}+ 6\\alpha_{4}\\right)^{4}\\oplus L\\left( 4\\alpha_{1}+ 8\\alpha_{2}+ 12\\alpha_{3}+ 7\\alpha_{4}\\right)^{4}\\oplus L\\left( 5\\alpha_{1}+ 9\\alpha_{2}+ 12\\alpha_{3}+ 6\\alpha_{4}\\right)^{3}\\oplus L\\left( 4\\alpha_{1}+ 8\\alpha_{2}+ 12\\alpha_{3}+ 8\\alpha_{4}\\right)\\oplus L\\left( 6\\alpha_{1}+ 9\\alpha_{2}+ 12\\alpha_{3}+ 6\\alpha_{4}\\right)\\oplus L\\left( 5\\alpha_{1}+ 9\\alpha_{2}+ 13\\alpha_{3}+ 7\\alpha_{4}\\right)^{5}\\oplus L\\left( 5\\alpha_{1}+ 9\\alpha_{2}+ 13\\alpha_{3}+ 8\\alpha_{4}\\right)\\oplus L\\left( 5\\alpha_{1}+ 10\\alpha_{2}+ 14\\alpha_{3}+ 7\\alpha_{4}\\right)^{2}\\oplus L\\left( 6\\alpha_{1}+ 10\\alpha_{2}+ 14\\alpha_{3}+ 7\\alpha_{4}\\right)\\oplus L\\left( 5\\alpha_{1}+ 10\\alpha_{2}+ 14\\alpha_{3}+ 8\\alpha_{4}\\right)^{3}\\oplus L\\left( 6\\alpha_{1}+ 10\\alpha_{2}+ 14\\alpha_{3}+ 8\\alpha_{4}\\right)\\oplus L\\left( 5\\alpha_{1}+ 10\\alpha_{2}+ 15\\alpha_{3}+ 8\\alpha_{4}\\right)^{2}\\oplus L\\left( 5\\alpha_{1}+ 10\\alpha_{2}+ 15\\alpha_{3}+ 9\\alpha_{4}\\right)^{2}\\oplus L\\left( 6\\alpha_{1}+ 11\\alpha_{2}+ 15\\alpha_{3}+ 8\\alpha_{4}\\right)\\oplus L\\left( 6\\alpha_{1}+ 11\\alpha_{2}+ 16\\alpha_{3}+ 8\\alpha_{4}\\right)\\oplus L\\left( 6\\alpha_{1}+ 11\\alpha_{2}+ 16\\alpha_{3}+ 9\\alpha_{4}\\right)\\oplus L\\left( 6\\alpha_{1}+ 11\\alpha_{2}+ 16\\alpha_{3}+ 10\\alpha_{4}\\right)\\oplus L\\left( 6\\alpha_{1}+ 12\\alpha_{2}+ 17\\alpha_{3}+ 9\\alpha_{4}\\right)\\oplus L\\left( 6\\alpha_{1}+ 12\\alpha_{2}+ 18\\alpha_{3}+ 9\\alpha_{4}\\right)\\oplus L\\left( 6\\alpha_{1}+ 12\\alpha_{2}+ 18\\alpha_{3}+ 10\\alpha_{4}\\right)$$"
      ],
      "text/plain": [
       "<IPython.core.display.Math object>"
      ]
     },
     "metadata": {},
     "output_type": "display_data"
    },
    {
     "data": {
      "text/latex": [
       "$$\\mathrm b^{1}(X_{},\\wedge^{7}T_X)=8047209$$"
      ],
      "text/plain": [
       "<IPython.core.display.Math object>"
      ]
     },
     "metadata": {},
     "output_type": "display_data"
    },
    {
     "name": "stdout",
     "output_type": "stream",
     "text": [
      "\n"
     ]
    }
   ],
   "source": [
    "from itertools import combinations, chain\n",
    "roots = [1,2,3,4]\n",
    "subsets = list(chain.from_iterable(combinations(roots,i) for i in range(len(roots))))\n",
    "d = 'F4'\n",
    "BGG = BGGComplex(d)\n",
    "for subset in subsets[::-1]:\n",
    "    factory = FastModuleFactory(BGG.LA)\n",
    "    component_dic = {'u':factory.build_component('u','coad',subset=subset)}\n",
    "    u_dim = len(component_dic['u'].basis)\n",
    "    print('dim of u is %d for root system %s and subset %s' % (u_dim, d, subset))\n",
    "    pbar1 = tqdm(range(u_dim+1)[:8])\n",
    "    pbar2 = tqdm()\n",
    "    pbar3 = None\n",
    "    for k in pbar1:\n",
    "        components = [[('u',k,'wedge')]]\n",
    "        module = FastLieAlgebraCompositeModule(factory,components,component_dic)\n",
    "\n",
    "        cohom = BGGCohomology(BGG, module,pbars=[pbar2,pbar3])\n",
    "        subset_string = ''.join(str(s) for s in subset) \n",
    "        cohom.cohomology_LaTeX(i = 1, complex_string=r'X_{'+subset_string+r'},\\wedge^{'+str(k)+'}T_X',print_betti=True)"
   ]
  },
  {
   "cell_type": "code",
   "execution_count": 6,
   "metadata": {},
   "outputs": [
    {
     "name": "stdout",
     "output_type": "stream",
     "text": [
      "dim of u is 15 for root system F4 and subset (2, 3, 4)\n"
     ]
    },
    {
     "data": {
      "application/vnd.jupyter.widget-view+json": {
       "model_id": "f53d11cae84b4a03a4fa0030e0de503f",
       "version_major": 2,
       "version_minor": 0
      },
      "text/plain": [
       "HBox(children=(FloatProgress(value=0.0, max=9.0), HTML(value='')))"
      ]
     },
     "metadata": {},
     "output_type": "display_data"
    },
    {
     "data": {
      "application/vnd.jupyter.widget-view+json": {
       "model_id": "423cfa37520c4cc3a30a5adb4a95f082",
       "version_major": 2,
       "version_minor": 0
      },
      "text/plain": [
       "HBox(children=(FloatProgress(value=1.0, bar_style='info', max=1.0), HTML(value='')))"
      ]
     },
     "metadata": {},
     "output_type": "display_data"
    },
    {
     "name": "stdout",
     "output_type": "stream",
     "text": [
      "\n",
      "dim of u is 15 for root system F4 and subset (1, 2, 3)\n"
     ]
    },
    {
     "data": {
      "application/vnd.jupyter.widget-view+json": {
       "model_id": "cf2f9a1ab14542d996cd35fca6b5d0ac",
       "version_major": 2,
       "version_minor": 0
      },
      "text/plain": [
       "HBox(children=(FloatProgress(value=0.0, max=9.0), HTML(value='')))"
      ]
     },
     "metadata": {},
     "output_type": "display_data"
    },
    {
     "data": {
      "application/vnd.jupyter.widget-view+json": {
       "model_id": "572a09541a9f4fb183be679b5ade4c78",
       "version_major": 2,
       "version_minor": 0
      },
      "text/plain": [
       "HBox(children=(FloatProgress(value=1.0, bar_style='info', max=1.0), HTML(value='')))"
      ]
     },
     "metadata": {},
     "output_type": "display_data"
    },
    {
     "name": "stdout",
     "output_type": "stream",
     "text": [
      "\n",
      "dim of u is 20 for root system F4 and subset (2, 3)\n"
     ]
    },
    {
     "data": {
      "application/vnd.jupyter.widget-view+json": {
       "model_id": "bca08d212d3e4cd3b56eb84d729acf46",
       "version_major": 2,
       "version_minor": 0
      },
      "text/plain": [
       "HBox(children=(FloatProgress(value=0.0, max=9.0), HTML(value='')))"
      ]
     },
     "metadata": {},
     "output_type": "display_data"
    },
    {
     "data": {
      "application/vnd.jupyter.widget-view+json": {
       "model_id": "6d11618fc4d6425dba33de70ed1f11a4",
       "version_major": 2,
       "version_minor": 0
      },
      "text/plain": [
       "HBox(children=(FloatProgress(value=1.0, bar_style='info', max=1.0), HTML(value='')))"
      ]
     },
     "metadata": {},
     "output_type": "display_data"
    },
    {
     "name": "stdout",
     "output_type": "stream",
     "text": [
      "\n"
     ]
    }
   ],
   "source": [
    "from itertools import combinations, chain\n",
    "roots = [1,2,3,4]\n",
    "subsets = [(2,3,4),(1,2,3),(2,3)]\n",
    "d = 'F4'\n",
    "BGG = BGGComplex(d)\n",
    "for subset in subsets:\n",
    "    factory = FastModuleFactory(BGG.LA)\n",
    "    component_dic = {'u':factory.build_component('u','coad',subset=subset)}\n",
    "    u_dim = len(component_dic['u'].basis)\n",
    "    print('dim of u is %d for root system %s and subset %s' % (u_dim, d, subset))\n",
    "    pbar1 = tqdm(range(u_dim+1)[:9])\n",
    "    pbar2 = tqdm()\n",
    "    pbar3 = None\n",
    "    for k in pbar1:\n",
    "        components = [[('u',k,'wedge')]]\n",
    "        module = FastLieAlgebraCompositeModule(factory,components,component_dic)\n",
    "\n",
    "        cohom = BGGCohomology(BGG, module,pbars=[pbar2,pbar3])\n",
    "        subset_string = ''.join(str(s) for s in subset) \n",
    "        cohom.cohomology_LaTeX(i = 1, complex_string=r'X_{'+subset_string+r'},\\wedge^{'+str(k)+'}T_X',print_betti=True)"
   ]
  },
  {
   "cell_type": "code",
   "execution_count": null,
   "metadata": {},
   "outputs": [],
   "source": []
  }
 ],
 "metadata": {
  "kernelspec": {
   "display_name": "SageMath 9.0",
   "language": "sage",
   "name": "sagemath"
  },
  "language_info": {
   "codemirror_mode": {
    "name": "ipython",
    "version": 3
   },
   "file_extension": ".py",
   "mimetype": "text/x-python",
   "name": "python",
   "nbconvert_exporter": "python",
   "pygments_lexer": "ipython3",
   "version": "3.7.3"
  }
 },
 "nbformat": 4,
 "nbformat_minor": 2
}
