{
 "cells": [
  {
   "cell_type": "code",
   "execution_count": 1,
   "metadata": {},
   "outputs": [],
   "source": [
    "import sys\n",
    "sys.path.append('../bggcomplex')\n",
    "\n",
    "from bggcomplex import BGGComplex\n",
    "from fast_module import FastLieAlgebraCompositeModule, FastModuleFactory, BGGCohomology\n",
    "import numpy as np"
   ]
  },
  {
   "cell_type": "markdown",
   "metadata": {},
   "source": [
    "We will compute the Hochschild cohomology of flag varieties of different types. We will use the fact that \n",
    "$$H^i(X,\\wedge^j T_X) = H^i(BGG_\\bullet(\\wedge^j \\mathfrak u))$$"
   ]
  },
  {
   "cell_type": "code",
   "execution_count": null,
   "metadata": {
    "scrolled": false
   },
   "outputs": [
    {
     "data": {
      "text/latex": [
       "$$\\mathrm H^{0}(X_{A2},\\wedge^{0}T_X)=\\mathbb{C}$$"
      ],
      "text/plain": [
       "<IPython.core.display.Math object>"
      ]
     },
     "metadata": {},
     "output_type": "display_data"
    },
    {
     "data": {
      "text/latex": [
       "$$\\mathrm H^{0}(X_{A2},\\wedge^{1}T_X)=L\\left(\\alpha_{1}+\\alpha_{2}\\right)$$"
      ],
      "text/plain": [
       "<IPython.core.display.Math object>"
      ]
     },
     "metadata": {},
     "output_type": "display_data"
    },
    {
     "data": {
      "text/latex": [
       "$$\\mathrm H^{0}(X_{A2},\\wedge^{2}T_X)=L\\left(\\alpha_{1}+ 2\\alpha_{2}\\right)\\oplus L\\left(\\alpha_{1}+\\alpha_{2}\\right)\\oplus L\\left( 2\\alpha_{1}+\\alpha_{2}\\right)$$"
      ],
      "text/plain": [
       "<IPython.core.display.Math object>"
      ]
     },
     "metadata": {},
     "output_type": "display_data"
    },
    {
     "data": {
      "text/latex": [
       "$$\\mathrm H^{0}(X_{A2},\\wedge^{3}T_X)=L\\left( 2\\alpha_{1}+ 2\\alpha_{2}\\right)$$"
      ],
      "text/plain": [
       "<IPython.core.display.Math object>"
      ]
     },
     "metadata": {},
     "output_type": "display_data"
    },
    {
     "data": {
      "text/latex": [
       "$$\\mathrm H^{0}(X_{A3},\\wedge^{0}T_X)=\\mathbb{C}$$"
      ],
      "text/plain": [
       "<IPython.core.display.Math object>"
      ]
     },
     "metadata": {},
     "output_type": "display_data"
    },
    {
     "data": {
      "text/latex": [
       "$$\\mathrm H^{0}(X_{A3},\\wedge^{1}T_X)=L\\left(\\alpha_{1}+\\alpha_{2}+\\alpha_{3}\\right)$$"
      ],
      "text/plain": [
       "<IPython.core.display.Math object>"
      ]
     },
     "metadata": {},
     "output_type": "display_data"
    },
    {
     "data": {
      "text/latex": [
       "$$\\mathrm H^{0}(X_{A3},\\wedge^{2}T_X)=L\\left( 2\\alpha_{1}+ 2\\alpha_{2}+\\alpha_{3}\\right)\\oplus L\\left(\\alpha_{1}+ 2\\alpha_{2}+ 2\\alpha_{3}\\right)\\oplus L\\left(\\alpha_{1}+\\alpha_{2}+\\alpha_{3}\\right)$$"
      ],
      "text/plain": [
       "<IPython.core.display.Math object>"
      ]
     },
     "metadata": {},
     "output_type": "display_data"
    },
    {
     "data": {
      "text/latex": [
       "$$\\mathrm H^{0}(X_{A3},\\wedge^{3}T_X)=L\\left( 2\\alpha_{1}+ 2\\alpha_{2}+ 2\\alpha_{3}\\right)\\oplus L\\left( 2\\alpha_{1}+ 3\\alpha_{2}+ 2\\alpha_{3}\\right)\\oplus L\\left( 3\\alpha_{1}+ 2\\alpha_{2}+\\alpha_{3}\\right)\\oplus L\\left( 2\\alpha_{1}+ 2\\alpha_{2}+\\alpha_{3}\\right)\\oplus L\\left(\\alpha_{1}+ 2\\alpha_{2}+ 3\\alpha_{3}\\right)\\oplus L\\left(\\alpha_{1}+ 2\\alpha_{2}+ 2\\alpha_{3}\\right)\\oplus L\\left(\\alpha_{1}+\\alpha_{2}+\\alpha_{3}\\right)\\oplus L\\left(\\alpha_{1}+ 2\\alpha_{2}+\\alpha_{3}\\right)^{2}$$"
      ],
      "text/plain": [
       "<IPython.core.display.Math object>"
      ]
     },
     "metadata": {},
     "output_type": "display_data"
    },
    {
     "data": {
      "text/latex": [
       "$$\\mathrm H^{0}(X_{A3},\\wedge^{4}T_X)=L\\left( 3\\alpha_{1}+ 3\\alpha_{2}+ 2\\alpha_{3}\\right)\\oplus L\\left( 2\\alpha_{1}+ 2\\alpha_{2}+\\alpha_{3}\\right)\\oplus L\\left( 2\\alpha_{1}+ 3\\alpha_{2}+ 3\\alpha_{3}\\right)\\oplus L\\left( 2\\alpha_{1}+ 4\\alpha_{2}+ 2\\alpha_{3}\\right)\\oplus L\\left(\\alpha_{1}+ 2\\alpha_{2}+ 2\\alpha_{3}\\right)\\oplus L\\left( 2\\alpha_{1}+ 2\\alpha_{2}+ 2\\alpha_{3}\\right)^{2}\\oplus L\\left( 2\\alpha_{1}+ 3\\alpha_{2}+ 2\\alpha_{3}\\right)^{2}$$"
      ],
      "text/plain": [
       "<IPython.core.display.Math object>"
      ]
     },
     "metadata": {},
     "output_type": "display_data"
    },
    {
     "data": {
      "text/latex": [
       "$$\\mathrm H^{0}(X_{A3},\\wedge^{5}T_X)=L\\left( 3\\alpha_{1}+ 3\\alpha_{2}+ 3\\alpha_{3}\\right)\\oplus L\\left( 2\\alpha_{1}+ 3\\alpha_{2}+ 2\\alpha_{3}\\right)\\oplus L\\left( 3\\alpha_{1}+ 3\\alpha_{2}+ 2\\alpha_{3}\\right)\\oplus L\\left( 2\\alpha_{1}+ 4\\alpha_{2}+ 3\\alpha_{3}\\right)\\oplus L\\left( 2\\alpha_{1}+ 3\\alpha_{2}+ 3\\alpha_{3}\\right)\\oplus L\\left( 3\\alpha_{1}+ 4\\alpha_{2}+ 2\\alpha_{3}\\right)$$"
      ],
      "text/plain": [
       "<IPython.core.display.Math object>"
      ]
     },
     "metadata": {},
     "output_type": "display_data"
    },
    {
     "data": {
      "text/latex": [
       "$$\\mathrm H^{0}(X_{A3},\\wedge^{6}T_X)=L\\left( 3\\alpha_{1}+ 4\\alpha_{2}+ 3\\alpha_{3}\\right)$$"
      ],
      "text/plain": [
       "<IPython.core.display.Math object>"
      ]
     },
     "metadata": {},
     "output_type": "display_data"
    },
    {
     "data": {
      "text/latex": [
       "$$\\mathrm H^{0}(X_{G2},\\wedge^{0}T_X)=\\mathbb{C}$$"
      ],
      "text/plain": [
       "<IPython.core.display.Math object>"
      ]
     },
     "metadata": {},
     "output_type": "display_data"
    },
    {
     "data": {
      "text/latex": [
       "$$\\mathrm H^{0}(X_{G2},\\wedge^{1}T_X)=L\\left( 3\\alpha_{1}+ 2\\alpha_{2}\\right)$$"
      ],
      "text/plain": [
       "<IPython.core.display.Math object>"
      ]
     },
     "metadata": {},
     "output_type": "display_data"
    },
    {
     "data": {
      "text/latex": [
       "$$\\mathrm H^{0}(X_{G2},\\wedge^{2}T_X)=L\\left( 6\\alpha_{1}+ 3\\alpha_{2}\\right)\\oplus L\\left( 3\\alpha_{1}+ 2\\alpha_{2}\\right)\\oplus L\\left( 2\\alpha_{1}+\\alpha_{2}\\right)$$"
      ],
      "text/plain": [
       "<IPython.core.display.Math object>"
      ]
     },
     "metadata": {},
     "output_type": "display_data"
    },
    {
     "data": {
      "text/latex": [
       "$$\\mathrm H^{0}(X_{G2},\\wedge^{3}T_X)=L\\left( 6\\alpha_{1}+ 3\\alpha_{2}\\right)\\oplus L\\left( 6\\alpha_{1}+ 4\\alpha_{2}\\right)\\oplus L\\left( 5\\alpha_{1}+ 3\\alpha_{2}\\right)\\oplus L\\left( 8\\alpha_{1}+ 4\\alpha_{2}\\right)\\oplus L\\left( 4\\alpha_{1}+ 2\\alpha_{2}\\right)^{2}$$"
      ],
      "text/plain": [
       "<IPython.core.display.Math object>"
      ]
     },
     "metadata": {},
     "output_type": "display_data"
    },
    {
     "data": {
      "text/latex": [
       "$$\\mathrm H^{0}(X_{G2},\\wedge^{4}T_X)=L\\left( 6\\alpha_{1}+ 4\\alpha_{2}\\right)\\oplus L\\left( 6\\alpha_{1}+ 3\\alpha_{2}\\right)\\oplus L\\left( 9\\alpha_{1}+ 5\\alpha_{2}\\right)\\oplus L\\left( 8\\alpha_{1}+ 4\\alpha_{2}\\right)\\oplus L\\left( 5\\alpha_{1}+ 3\\alpha_{2}\\right)\\oplus L\\left( 7\\alpha_{1}+ 4\\alpha_{2}\\right)^{2}$$"
      ],
      "text/plain": [
       "<IPython.core.display.Math object>"
      ]
     },
     "metadata": {},
     "output_type": "display_data"
    },
    {
     "data": {
      "text/latex": [
       "$$\\mathrm H^{0}(X_{G2},\\wedge^{5}T_X)=L\\left( 7\\alpha_{1}+ 4\\alpha_{2}\\right)\\oplus L\\left( 9\\alpha_{1}+ 5\\alpha_{2}\\right)\\oplus L\\left( 10\\alpha_{1}+ 5\\alpha_{2}\\right)\\oplus L\\left( 9\\alpha_{1}+ 6\\alpha_{2}\\right)\\oplus L\\left( 8\\alpha_{1}+ 5\\alpha_{2}\\right)$$"
      ],
      "text/plain": [
       "<IPython.core.display.Math object>"
      ]
     },
     "metadata": {},
     "output_type": "display_data"
    },
    {
     "data": {
      "text/latex": [
       "$$\\mathrm H^{0}(X_{G2},\\wedge^{6}T_X)=L\\left( 10\\alpha_{1}+ 6\\alpha_{2}\\right)$$"
      ],
      "text/plain": [
       "<IPython.core.display.Math object>"
      ]
     },
     "metadata": {},
     "output_type": "display_data"
    },
    {
     "data": {
      "text/latex": [
       "$$\\mathrm H^{0}(X_{B2},\\wedge^{0}T_X)=\\mathbb{C}$$"
      ],
      "text/plain": [
       "<IPython.core.display.Math object>"
      ]
     },
     "metadata": {},
     "output_type": "display_data"
    },
    {
     "data": {
      "text/latex": [
       "$$\\mathrm H^{0}(X_{B2},\\wedge^{1}T_X)=L\\left(\\alpha_{1}+ 2\\alpha_{2}\\right)$$"
      ],
      "text/plain": [
       "<IPython.core.display.Math object>"
      ]
     },
     "metadata": {},
     "output_type": "display_data"
    },
    {
     "data": {
      "text/latex": [
       "$$\\mathrm H^{0}(X_{B2},\\wedge^{2}T_X)=L\\left(\\alpha_{1}+ 2\\alpha_{2}\\right)\\oplus L\\left( 2\\alpha_{1}+ 3\\alpha_{2}\\right)\\oplus L\\left(\\alpha_{1}+\\alpha_{2}\\right)$$"
      ],
      "text/plain": [
       "<IPython.core.display.Math object>"
      ]
     },
     "metadata": {},
     "output_type": "display_data"
    },
    {
     "data": {
      "text/latex": [
       "$$\\mathrm H^{0}(X_{B2},\\wedge^{3}T_X)=L\\left( 3\\alpha_{1}+ 3\\alpha_{2}\\right)\\oplus L\\left( 2\\alpha_{1}+ 3\\alpha_{2}\\right)\\oplus L\\left( 2\\alpha_{1}+ 4\\alpha_{2}\\right)\\oplus L\\left( 2\\alpha_{1}+ 2\\alpha_{2}\\right)$$"
      ],
      "text/plain": [
       "<IPython.core.display.Math object>"
      ]
     },
     "metadata": {},
     "output_type": "display_data"
    },
    {
     "data": {
      "text/latex": [
       "$$\\mathrm H^{0}(X_{B2},\\wedge^{4}T_X)=L\\left( 3\\alpha_{1}+ 4\\alpha_{2}\\right)$$"
      ],
      "text/plain": [
       "<IPython.core.display.Math object>"
      ]
     },
     "metadata": {},
     "output_type": "display_data"
    },
    {
     "data": {
      "text/latex": [
       "$$\\mathrm H^{0}(X_{A4},\\wedge^{0}T_X)=\\mathbb{C}$$"
      ],
      "text/plain": [
       "<IPython.core.display.Math object>"
      ]
     },
     "metadata": {},
     "output_type": "display_data"
    },
    {
     "data": {
      "text/latex": [
       "$$\\mathrm H^{0}(X_{A4},\\wedge^{1}T_X)=L\\left(\\alpha_{1}+\\alpha_{2}+\\alpha_{3}+\\alpha_{4}\\right)$$"
      ],
      "text/plain": [
       "<IPython.core.display.Math object>"
      ]
     },
     "metadata": {},
     "output_type": "display_data"
    },
    {
     "data": {
      "text/latex": [
       "$$\\mathrm H^{0}(X_{A4},\\wedge^{2}T_X)=L\\left( 2\\alpha_{1}+ 2\\alpha_{2}+ 2\\alpha_{3}+\\alpha_{4}\\right)\\oplus L\\left(\\alpha_{1}+\\alpha_{2}+\\alpha_{3}+\\alpha_{4}\\right)\\oplus L\\left(\\alpha_{1}+ 2\\alpha_{2}+ 2\\alpha_{3}+ 2\\alpha_{4}\\right)$$"
      ],
      "text/plain": [
       "<IPython.core.display.Math object>"
      ]
     },
     "metadata": {},
     "output_type": "display_data"
    },
    {
     "data": {
      "text/latex": [
       "$$\\mathrm H^{0}(X_{A4},\\wedge^{3}T_X)=L\\left( 3\\alpha_{1}+ 3\\alpha_{2}+ 2\\alpha_{3}+\\alpha_{4}\\right)\\oplus L\\left( 2\\alpha_{1}+ 2\\alpha_{2}+ 2\\alpha_{3}+ 2\\alpha_{4}\\right)\\oplus L\\left( 2\\alpha_{1}+ 3\\alpha_{2}+ 3\\alpha_{3}+ 2\\alpha_{4}\\right)\\oplus L\\left( 2\\alpha_{1}+ 2\\alpha_{2}+ 2\\alpha_{3}+\\alpha_{4}\\right)\\oplus L\\left(\\alpha_{1}+ 2\\alpha_{2}+ 2\\alpha_{3}+\\alpha_{4}\\right)\\oplus L\\left(\\alpha_{1}+\\alpha_{2}+\\alpha_{3}+\\alpha_{4}\\right)\\oplus L\\left(\\alpha_{1}+ 2\\alpha_{2}+ 3\\alpha_{3}+ 3\\alpha_{4}\\right)\\oplus L\\left(\\alpha_{1}+ 2\\alpha_{2}+ 2\\alpha_{3}+ 2\\alpha_{4}\\right)$$"
      ],
      "text/plain": [
       "<IPython.core.display.Math object>"
      ]
     },
     "metadata": {},
     "output_type": "display_data"
    },
    {
     "data": {
      "text/latex": [
       "$$\\mathrm H^{0}(X_{A4},\\wedge^{4}T_X)=L\\left( 3\\alpha_{1}+ 3\\alpha_{2}+ 2\\alpha_{3}+\\alpha_{4}\\right)\\oplus L\\left(\\alpha_{1}+ 2\\alpha_{2}+ 3\\alpha_{3}+ 4\\alpha_{4}\\right)\\oplus L\\left( 2\\alpha_{1}+ 4\\alpha_{2}+ 4\\alpha_{3}+ 2\\alpha_{4}\\right)\\oplus L\\left( 2\\alpha_{1}+ 3\\alpha_{2}+ 4\\alpha_{3}+ 3\\alpha_{4}\\right)\\oplus L\\left( 2\\alpha_{1}+ 2\\alpha_{2}+ 2\\alpha_{3}+\\alpha_{4}\\right)\\oplus L\\left(\\alpha_{1}+\\alpha_{2}+\\alpha_{3}+\\alpha_{4}\\right)\\oplus L\\left(\\alpha_{1}+ 2\\alpha_{2}+ 3\\alpha_{3}+ 3\\alpha_{4}\\right)\\oplus L\\left( 3\\alpha_{1}+ 3\\alpha_{2}+ 3\\alpha_{3}+ 2\\alpha_{4}\\right)\\oplus L\\left(\\alpha_{1}+ 2\\alpha_{2}+ 2\\alpha_{3}+ 2\\alpha_{4}\\right)\\oplus L\\left( 4\\alpha_{1}+ 3\\alpha_{2}+ 2\\alpha_{3}+\\alpha_{4}\\right)\\oplus L\\left( 2\\alpha_{1}+ 3\\alpha_{2}+ 3\\alpha_{3}+ 3\\alpha_{4}\\right)\\oplus L\\left( 3\\alpha_{1}+ 4\\alpha_{2}+ 3\\alpha_{3}+ 2\\alpha_{4}\\right)\\oplus L\\left( 2\\alpha_{1}+ 2\\alpha_{2}+ 2\\alpha_{3}+ 2\\alpha_{4}\\right)^{2}\\oplus L\\left(\\alpha_{1}+ 2\\alpha_{2}+ 3\\alpha_{3}+ 2\\alpha_{4}\\right)^{2}\\oplus L\\left( 2\\alpha_{1}+ 3\\alpha_{2}+ 3\\alpha_{3}+ 2\\alpha_{4}\\right)^{2}\\oplus L\\left( 2\\alpha_{1}+ 3\\alpha_{2}+ 2\\alpha_{3}+\\alpha_{4}\\right)^{2}\\oplus L\\left(\\alpha_{1}+ 2\\alpha_{2}+ 2\\alpha_{3}+\\alpha_{4}\\right)^{3}$$"
      ],
      "text/plain": [
       "<IPython.core.display.Math object>"
      ]
     },
     "metadata": {},
     "output_type": "display_data"
    },
    {
     "data": {
      "text/latex": [
       "$$\\mathrm H^{0}(X_{A4},\\wedge^{5}T_X)=L\\left( 2\\alpha_{1}+ 4\\alpha_{2}+ 5\\alpha_{3}+ 3\\alpha_{4}\\right)\\oplus L\\left( 4\\alpha_{1}+ 4\\alpha_{2}+ 3\\alpha_{3}+ 2\\alpha_{4}\\right)\\oplus L\\left( 3\\alpha_{1}+ 4\\alpha_{2}+ 4\\alpha_{3}+ 2\\alpha_{4}\\right)\\oplus L\\left( 3\\alpha_{1}+ 3\\alpha_{2}+ 3\\alpha_{3}+ 3\\alpha_{4}\\right)\\oplus L\\left( 3\\alpha_{1}+ 3\\alpha_{2}+ 2\\alpha_{3}+\\alpha_{4}\\right)\\oplus L\\left(\\alpha_{1}+ 2\\alpha_{2}+ 2\\alpha_{3}+\\alpha_{4}\\right)\\oplus L\\left(\\alpha_{1}+ 2\\alpha_{2}+ 3\\alpha_{3}+ 3\\alpha_{4}\\right)\\oplus L\\left( 3\\alpha_{1}+ 5\\alpha_{2}+ 4\\alpha_{3}+ 2\\alpha_{4}\\right)\\oplus L\\left( 3\\alpha_{1}+ 4\\alpha_{2}+ 4\\alpha_{3}+ 3\\alpha_{4}\\right)\\oplus L\\left( 2\\alpha_{1}+ 4\\alpha_{2}+ 4\\alpha_{3}+ 3\\alpha_{4}\\right)\\oplus L\\left( 2\\alpha_{1}+ 4\\alpha_{2}+ 4\\alpha_{3}+ 2\\alpha_{4}\\right)\\oplus L\\left( 2\\alpha_{1}+ 3\\alpha_{2}+ 4\\alpha_{3}+ 4\\alpha_{4}\\right)\\oplus L\\left( 3\\alpha_{1}+ 4\\alpha_{2}+ 3\\alpha_{3}+ 2\\alpha_{4}\\right)^{2}\\oplus L\\left( 2\\alpha_{1}+ 3\\alpha_{2}+ 4\\alpha_{3}+ 3\\alpha_{4}\\right)^{2}\\oplus L\\left( 2\\alpha_{1}+ 2\\alpha_{2}+ 2\\alpha_{3}+ 2\\alpha_{4}\\right)^{2}\\oplus L\\left( 2\\alpha_{1}+ 3\\alpha_{2}+ 2\\alpha_{3}+\\alpha_{4}\\right)^{2}\\oplus L\\left(\\alpha_{1}+ 2\\alpha_{2}+ 3\\alpha_{3}+ 2\\alpha_{4}\\right)^{2}\\oplus L\\left( 2\\alpha_{1}+ 4\\alpha_{2}+ 3\\alpha_{3}+ 2\\alpha_{4}\\right)^{2}\\oplus L\\left( 2\\alpha_{1}+ 3\\alpha_{2}+ 3\\alpha_{3}+ 3\\alpha_{4}\\right)^{2}\\oplus L\\left( 3\\alpha_{1}+ 3\\alpha_{2}+ 3\\alpha_{3}+ 2\\alpha_{4}\\right)^{2}\\oplus L\\left( 2\\alpha_{1}+ 3\\alpha_{2}+ 4\\alpha_{3}+ 2\\alpha_{4}\\right)^{2}\\oplus L\\left( 2\\alpha_{1}+ 2\\alpha_{2}+ 2\\alpha_{3}+\\alpha_{4}\\right)^{3}\\oplus L\\left(\\alpha_{1}+ 2\\alpha_{2}+ 2\\alpha_{3}+ 2\\alpha_{4}\\right)^{3}\\oplus L\\left( 2\\alpha_{1}+ 3\\alpha_{2}+ 3\\alpha_{3}+ 2\\alpha_{4}\\right)^{6}$$"
      ],
      "text/plain": [
       "<IPython.core.display.Math object>"
      ]
     },
     "metadata": {},
     "output_type": "display_data"
    },
    {
     "data": {
      "text/latex": [
       "$$\\mathrm H^{0}(X_{A4},\\wedge^{6}T_X)=L\\left( 3\\alpha_{1}+ 4\\alpha_{2}+ 4\\alpha_{3}+ 4\\alpha_{4}\\right)\\oplus L\\left( 4\\alpha_{1}+ 4\\alpha_{2}+ 3\\alpha_{3}+ 2\\alpha_{4}\\right)\\oplus L\\left( 3\\alpha_{1}+ 5\\alpha_{2}+ 4\\alpha_{3}+ 3\\alpha_{4}\\right)\\oplus L\\left( 3\\alpha_{1}+ 3\\alpha_{2}+ 2\\alpha_{3}+\\alpha_{4}\\right)\\oplus L\\left( 2\\alpha_{1}+ 4\\alpha_{2}+ 6\\alpha_{3}+ 3\\alpha_{4}\\right)\\oplus L\\left( 2\\alpha_{1}+ 2\\alpha_{2}+ 2\\alpha_{3}+ 2\\alpha_{4}\\right)\\oplus L\\left(\\alpha_{1}+ 2\\alpha_{2}+ 3\\alpha_{3}+ 3\\alpha_{4}\\right)\\oplus L\\left( 4\\alpha_{1}+ 4\\alpha_{2}+ 4\\alpha_{3}+ 3\\alpha_{4}\\right)\\oplus L\\left( 4\\alpha_{1}+ 5\\alpha_{2}+ 4\\alpha_{3}+ 2\\alpha_{4}\\right)\\oplus L\\left( 2\\alpha_{1}+ 3\\alpha_{2}+ 2\\alpha_{3}+\\alpha_{4}\\right)\\oplus L\\left(\\alpha_{1}+ 2\\alpha_{2}+ 3\\alpha_{3}+ 2\\alpha_{4}\\right)\\oplus L\\left( 3\\alpha_{1}+ 5\\alpha_{2}+ 5\\alpha_{3}+ 3\\alpha_{4}\\right)\\oplus L\\left( 2\\alpha_{1}+ 4\\alpha_{2}+ 5\\alpha_{3}+ 4\\alpha_{4}\\right)\\oplus L\\left( 3\\alpha_{1}+ 6\\alpha_{2}+ 4\\alpha_{3}+ 2\\alpha_{4}\\right)\\oplus L\\left( 3\\alpha_{1}+ 4\\alpha_{2}+ 5\\alpha_{3}+ 3\\alpha_{4}\\right)\\oplus L\\left( 2\\alpha_{1}+ 3\\alpha_{2}+ 4\\alpha_{3}+ 4\\alpha_{4}\\right)\\oplus L\\left( 2\\alpha_{1}+ 4\\alpha_{2}+ 5\\alpha_{3}+ 3\\alpha_{4}\\right)^{2}\\oplus L\\left( 3\\alpha_{1}+ 3\\alpha_{2}+ 3\\alpha_{3}+ 3\\alpha_{4}\\right)^{2}\\oplus L\\left( 3\\alpha_{1}+ 5\\alpha_{2}+ 4\\alpha_{3}+ 2\\alpha_{4}\\right)^{2}\\oplus L\\left( 2\\alpha_{1}+ 4\\alpha_{2}+ 4\\alpha_{3}+ 2\\alpha_{4}\\right)^{2}\\oplus L\\left( 3\\alpha_{1}+ 4\\alpha_{2}+ 3\\alpha_{3}+ 2\\alpha_{4}\\right)^{3}\\oplus L\\left( 2\\alpha_{1}+ 3\\alpha_{2}+ 4\\alpha_{3}+ 3\\alpha_{4}\\right)^{3}\\oplus L\\left( 3\\alpha_{1}+ 4\\alpha_{2}+ 4\\alpha_{3}+ 3\\alpha_{4}\\right)^{3}\\oplus L\\left( 2\\alpha_{1}+ 4\\alpha_{2}+ 3\\alpha_{3}+ 2\\alpha_{4}\\right)^{3}\\oplus L\\left( 2\\alpha_{1}+ 3\\alpha_{2}+ 4\\alpha_{3}+ 2\\alpha_{4}\\right)^{3}\\oplus L\\left( 3\\alpha_{1}+ 4\\alpha_{2}+ 4\\alpha_{3}+ 2\\alpha_{4}\\right)^{4}\\oplus L\\left( 2\\alpha_{1}+ 4\\alpha_{2}+ 4\\alpha_{3}+ 3\\alpha_{4}\\right)^{4}\\oplus L\\left( 2\\alpha_{1}+ 3\\alpha_{2}+ 3\\alpha_{3}+ 3\\alpha_{4}\\right)^{4}\\oplus L\\left( 3\\alpha_{1}+ 3\\alpha_{2}+ 3\\alpha_{3}+ 2\\alpha_{4}\\right)^{4}\\oplus L\\left( 2\\alpha_{1}+ 3\\alpha_{2}+ 3\\alpha_{3}+ 2\\alpha_{4}\\right)^{6}$$"
      ],
      "text/plain": [
       "<IPython.core.display.Math object>"
      ]
     },
     "metadata": {},
     "output_type": "display_data"
    },
    {
     "data": {
      "text/latex": [
       "$$\\mathrm H^{0}(X_{A4},\\wedge^{7}T_X)=L\\left( 2\\alpha_{1}+ 3\\alpha_{2}+ 3\\alpha_{3}+ 2\\alpha_{4}\\right)\\oplus L\\left( 3\\alpha_{1}+ 4\\alpha_{2}+ 4\\alpha_{3}+ 4\\alpha_{4}\\right)\\oplus L\\left( 4\\alpha_{1}+ 4\\alpha_{2}+ 3\\alpha_{3}+ 2\\alpha_{4}\\right)\\oplus L\\left( 4\\alpha_{1}+ 5\\alpha_{2}+ 5\\alpha_{3}+ 3\\alpha_{4}\\right)\\oplus L\\left( 3\\alpha_{1}+ 3\\alpha_{2}+ 3\\alpha_{3}+ 3\\alpha_{4}\\right)\\oplus L\\left( 3\\alpha_{1}+ 5\\alpha_{2}+ 6\\alpha_{3}+ 3\\alpha_{4}\\right)\\oplus L\\left( 4\\alpha_{1}+ 4\\alpha_{2}+ 4\\alpha_{3}+ 3\\alpha_{4}\\right)\\oplus L\\left( 4\\alpha_{1}+ 6\\alpha_{2}+ 4\\alpha_{3}+ 2\\alpha_{4}\\right)\\oplus L\\left( 4\\alpha_{1}+ 5\\alpha_{2}+ 4\\alpha_{3}+ 2\\alpha_{4}\\right)\\oplus L\\left( 2\\alpha_{1}+ 4\\alpha_{2}+ 6\\alpha_{3}+ 4\\alpha_{4}\\right)\\oplus L\\left( 3\\alpha_{1}+ 4\\alpha_{2}+ 5\\alpha_{3}+ 4\\alpha_{4}\\right)\\oplus L\\left( 3\\alpha_{1}+ 6\\alpha_{2}+ 5\\alpha_{3}+ 3\\alpha_{4}\\right)\\oplus L\\left( 4\\alpha_{1}+ 4\\alpha_{2}+ 4\\alpha_{3}+ 4\\alpha_{4}\\right)\\oplus L\\left( 2\\alpha_{1}+ 4\\alpha_{2}+ 3\\alpha_{3}+ 2\\alpha_{4}\\right)\\oplus L\\left( 2\\alpha_{1}+ 3\\alpha_{2}+ 3\\alpha_{3}+ 3\\alpha_{4}\\right)\\oplus L\\left( 4\\alpha_{1}+ 5\\alpha_{2}+ 4\\alpha_{3}+ 3\\alpha_{4}\\right)\\oplus L\\left( 2\\alpha_{1}+ 4\\alpha_{2}+ 5\\alpha_{3}+ 4\\alpha_{4}\\right)\\oplus L\\left( 2\\alpha_{1}+ 3\\alpha_{2}+ 4\\alpha_{3}+ 4\\alpha_{4}\\right)\\oplus L\\left( 3\\alpha_{1}+ 3\\alpha_{2}+ 3\\alpha_{3}+ 2\\alpha_{4}\\right)\\oplus L\\left( 2\\alpha_{1}+ 3\\alpha_{2}+ 4\\alpha_{3}+ 2\\alpha_{4}\\right)\\oplus L\\left( 3\\alpha_{1}+ 5\\alpha_{2}+ 5\\alpha_{3}+ 4\\alpha_{4}\\right)\\oplus L\\left( 2\\alpha_{1}+ 4\\alpha_{2}+ 5\\alpha_{3}+ 3\\alpha_{4}\\right)^{2}\\oplus L\\left( 2\\alpha_{1}+ 4\\alpha_{2}+ 4\\alpha_{3}+ 4\\alpha_{4}\\right)^{2}\\oplus L\\left( 3\\alpha_{1}+ 5\\alpha_{2}+ 4\\alpha_{3}+ 2\\alpha_{4}\\right)^{2}\\oplus L\\left( 4\\alpha_{1}+ 4\\alpha_{2}+ 4\\alpha_{3}+ 2\\alpha_{4}\\right)^{2}\\oplus L\\left( 3\\alpha_{1}+ 5\\alpha_{2}+ 4\\alpha_{3}+ 3\\alpha_{4}\\right)^{3}\\oplus L\\left( 3\\alpha_{1}+ 4\\alpha_{2}+ 4\\alpha_{3}+ 2\\alpha_{4}\\right)^{3}\\oplus L\\left( 3\\alpha_{1}+ 4\\alpha_{2}+ 3\\alpha_{3}+ 2\\alpha_{4}\\right)^{3}\\oplus L\\left( 2\\alpha_{1}+ 3\\alpha_{2}+ 4\\alpha_{3}+ 3\\alpha_{4}\\right)^{3}\\oplus L\\left( 2\\alpha_{1}+ 4\\alpha_{2}+ 4\\alpha_{3}+ 3\\alpha_{4}\\right)^{3}\\oplus L\\left( 3\\alpha_{1}+ 5\\alpha_{2}+ 5\\alpha_{3}+ 3\\alpha_{4}\\right)^{3}\\oplus L\\left( 2\\alpha_{1}+ 4\\alpha_{2}+ 4\\alpha_{3}+ 2\\alpha_{4}\\right)^{3}\\oplus L\\left( 3\\alpha_{1}+ 4\\alpha_{2}+ 5\\alpha_{3}+ 3\\alpha_{4}\\right)^{3}\\oplus L\\left( 3\\alpha_{1}+ 4\\alpha_{2}+ 4\\alpha_{3}+ 3\\alpha_{4}\\right)^{6}$$"
      ],
      "text/plain": [
       "<IPython.core.display.Math object>"
      ]
     },
     "metadata": {},
     "output_type": "display_data"
    },
    {
     "data": {
      "text/latex": [
       "$$\\mathrm H^{0}(X_{A4},\\wedge^{8}T_X)=L\\left( 4\\alpha_{1}+ 5\\alpha_{2}+ 6\\alpha_{3}+ 3\\alpha_{4}\\right)\\oplus L\\left( 3\\alpha_{1}+ 4\\alpha_{2}+ 4\\alpha_{3}+ 4\\alpha_{4}\\right)\\oplus L\\left( 2\\alpha_{1}+ 4\\alpha_{2}+ 5\\alpha_{3}+ 3\\alpha_{4}\\right)\\oplus L\\left( 3\\alpha_{1}+ 4\\alpha_{2}+ 4\\alpha_{3}+ 2\\alpha_{4}\\right)\\oplus L\\left( 3\\alpha_{1}+ 5\\alpha_{2}+ 6\\alpha_{3}+ 3\\alpha_{4}\\right)\\oplus L\\left( 3\\alpha_{1}+ 5\\alpha_{2}+ 6\\alpha_{3}+ 4\\alpha_{4}\\right)\\oplus L\\left( 3\\alpha_{1}+ 5\\alpha_{2}+ 4\\alpha_{3}+ 2\\alpha_{4}\\right)\\oplus L\\left( 4\\alpha_{1}+ 5\\alpha_{2}+ 5\\alpha_{3}+ 4\\alpha_{4}\\right)\\oplus L\\left( 4\\alpha_{1}+ 4\\alpha_{2}+ 4\\alpha_{3}+ 3\\alpha_{4}\\right)\\oplus L\\left( 2\\alpha_{1}+ 4\\alpha_{2}+ 4\\alpha_{3}+ 3\\alpha_{4}\\right)\\oplus L\\left( 4\\alpha_{1}+ 5\\alpha_{2}+ 4\\alpha_{3}+ 2\\alpha_{4}\\right)\\oplus L\\left( 3\\alpha_{1}+ 6\\alpha_{2}+ 5\\alpha_{3}+ 3\\alpha_{4}\\right)\\oplus L\\left( 4\\alpha_{1}+ 6\\alpha_{2}+ 5\\alpha_{3}+ 3\\alpha_{4}\\right)\\oplus L\\left( 2\\alpha_{1}+ 4\\alpha_{2}+ 5\\alpha_{3}+ 4\\alpha_{4}\\right)\\oplus L\\left( 3\\alpha_{1}+ 6\\alpha_{2}+ 5\\alpha_{3}+ 4\\alpha_{4}\\right)\\oplus L\\left( 3\\alpha_{1}+ 6\\alpha_{2}+ 6\\alpha_{3}+ 3\\alpha_{4}\\right)\\oplus L\\left( 3\\alpha_{1}+ 5\\alpha_{2}+ 4\\alpha_{3}+ 3\\alpha_{4}\\right)^{2}\\oplus L\\left( 4\\alpha_{1}+ 5\\alpha_{2}+ 5\\alpha_{3}+ 3\\alpha_{4}\\right)^{2}\\oplus L\\left( 3\\alpha_{1}+ 4\\alpha_{2}+ 4\\alpha_{3}+ 3\\alpha_{4}\\right)^{2}\\oplus L\\left( 3\\alpha_{1}+ 4\\alpha_{2}+ 5\\alpha_{3}+ 4\\alpha_{4}\\right)^{2}\\oplus L\\left( 4\\alpha_{1}+ 5\\alpha_{2}+ 4\\alpha_{3}+ 3\\alpha_{4}\\right)^{2}\\oplus L\\left( 3\\alpha_{1}+ 4\\alpha_{2}+ 5\\alpha_{3}+ 3\\alpha_{4}\\right)^{2}\\oplus L\\left( 3\\alpha_{1}+ 5\\alpha_{2}+ 5\\alpha_{3}+ 4\\alpha_{4}\\right)^{2}\\oplus L\\left( 3\\alpha_{1}+ 5\\alpha_{2}+ 5\\alpha_{3}+ 3\\alpha_{4}\\right)^{3}$$"
      ],
      "text/plain": [
       "<IPython.core.display.Math object>"
      ]
     },
     "metadata": {},
     "output_type": "display_data"
    },
    {
     "data": {
      "text/latex": [
       "$$\\mathrm H^{0}(X_{A4},\\wedge^{9}T_X)=L\\left( 3\\alpha_{1}+ 5\\alpha_{2}+ 5\\alpha_{3}+ 4\\alpha_{4}\\right)\\oplus L\\left( 4\\alpha_{1}+ 6\\alpha_{2}+ 5\\alpha_{3}+ 3\\alpha_{4}\\right)\\oplus L\\left( 4\\alpha_{1}+ 6\\alpha_{2}+ 5\\alpha_{3}+ 4\\alpha_{4}\\right)\\oplus L\\left( 4\\alpha_{1}+ 5\\alpha_{2}+ 5\\alpha_{3}+ 3\\alpha_{4}\\right)\\oplus L\\left( 3\\alpha_{1}+ 6\\alpha_{2}+ 6\\alpha_{3}+ 4\\alpha_{4}\\right)\\oplus L\\left( 3\\alpha_{1}+ 5\\alpha_{2}+ 5\\alpha_{3}+ 3\\alpha_{4}\\right)\\oplus L\\left( 4\\alpha_{1}+ 5\\alpha_{2}+ 6\\alpha_{3}+ 4\\alpha_{4}\\right)\\oplus L\\left( 4\\alpha_{1}+ 5\\alpha_{2}+ 5\\alpha_{3}+ 4\\alpha_{4}\\right)\\oplus L\\left( 4\\alpha_{1}+ 6\\alpha_{2}+ 6\\alpha_{3}+ 3\\alpha_{4}\\right)\\oplus L\\left( 3\\alpha_{1}+ 5\\alpha_{2}+ 6\\alpha_{3}+ 4\\alpha_{4}\\right)$$"
      ],
      "text/plain": [
       "<IPython.core.display.Math object>"
      ]
     },
     "metadata": {},
     "output_type": "display_data"
    },
    {
     "data": {
      "text/latex": [
       "$$\\mathrm H^{0}(X_{A4},\\wedge^{10}T_X)=L\\left( 4\\alpha_{1}+ 6\\alpha_{2}+ 6\\alpha_{3}+ 4\\alpha_{4}\\right)$$"
      ],
      "text/plain": [
       "<IPython.core.display.Math object>"
      ]
     },
     "metadata": {},
     "output_type": "display_data"
    },
    {
     "data": {
      "text/latex": [
       "$$\\mathrm H^{0}(X_{B3},\\wedge^{0}T_X)=\\mathbb{C}$$"
      ],
      "text/plain": [
       "<IPython.core.display.Math object>"
      ]
     },
     "metadata": {},
     "output_type": "display_data"
    },
    {
     "data": {
      "text/latex": [
       "$$\\mathrm H^{0}(X_{B3},\\wedge^{1}T_X)=L\\left(\\alpha_{1}+ 2\\alpha_{2}+ 2\\alpha_{3}\\right)$$"
      ],
      "text/plain": [
       "<IPython.core.display.Math object>"
      ]
     },
     "metadata": {},
     "output_type": "display_data"
    },
    {
     "data": {
      "text/latex": [
       "$$\\mathrm H^{0}(X_{B3},\\wedge^{2}T_X)=L\\left(\\alpha_{1}+ 2\\alpha_{2}+ 2\\alpha_{3}\\right)\\oplus L\\left( 2\\alpha_{1}+ 3\\alpha_{2}+ 4\\alpha_{3}\\right)$$"
      ],
      "text/plain": [
       "<IPython.core.display.Math object>"
      ]
     },
     "metadata": {},
     "output_type": "display_data"
    },
    {
     "data": {
      "text/latex": [
       "$$\\mathrm H^{0}(X_{B3},\\wedge^{3}T_X)=L\\left( 2\\alpha_{1}+ 2\\alpha_{2}+ 2\\alpha_{3}\\right)\\oplus L\\left( 2\\alpha_{1}+ 4\\alpha_{2}+ 6\\alpha_{3}\\right)\\oplus L\\left( 2\\alpha_{1}+ 4\\alpha_{2}+ 4\\alpha_{3}\\right)\\oplus L\\left( 3\\alpha_{1}+ 4\\alpha_{2}+ 5\\alpha_{3}\\right)\\oplus L\\left(\\alpha_{1}+\\alpha_{2}+\\alpha_{3}\\right)\\oplus L\\left( 2\\alpha_{1}+ 3\\alpha_{2}+ 4\\alpha_{3}\\right)\\oplus L\\left(\\alpha_{1}+ 2\\alpha_{2}+ 3\\alpha_{3}\\right)^{2}$$"
      ],
      "text/plain": [
       "<IPython.core.display.Math object>"
      ]
     },
     "metadata": {},
     "output_type": "display_data"
    },
    {
     "data": {
      "text/latex": [
       "$$\\mathrm H^{0}(X_{B3},\\wedge^{4}T_X)=L\\left( 3\\alpha_{1}+ 3\\alpha_{2}+ 3\\alpha_{3}\\right)\\oplus L\\left( 2\\alpha_{1}+ 2\\alpha_{2}+ 2\\alpha_{3}\\right)\\oplus L\\left(\\alpha_{1}+ 2\\alpha_{2}+ 2\\alpha_{3}\\right)\\oplus L\\left( 2\\alpha_{1}+ 4\\alpha_{2}+ 6\\alpha_{3}\\right)\\oplus L\\left( 3\\alpha_{1}+ 5\\alpha_{2}+ 7\\alpha_{3}\\right)\\oplus L\\left(\\alpha_{1}+ 2\\alpha_{2}+ 3\\alpha_{3}\\right)\\oplus L\\left( 3\\alpha_{1}+ 4\\alpha_{2}+ 4\\alpha_{3}\\right)\\oplus L\\left( 4\\alpha_{1}+ 5\\alpha_{2}+ 5\\alpha_{3}\\right)\\oplus L\\left( 3\\alpha_{1}+ 4\\alpha_{2}+ 5\\alpha_{3}\\right)\\oplus L\\left( 2\\alpha_{1}+ 4\\alpha_{2}+ 4\\alpha_{3}\\right)\\oplus L\\left( 3\\alpha_{1}+ 5\\alpha_{2}+ 6\\alpha_{3}\\right)\\oplus L\\left( 2\\alpha_{1}+ 4\\alpha_{2}+ 5\\alpha_{3}\\right)^{2}\\oplus L\\left( 2\\alpha_{1}+ 3\\alpha_{2}+ 4\\alpha_{3}\\right)^{2}\\oplus L\\left( 2\\alpha_{1}+ 3\\alpha_{2}+ 3\\alpha_{3}\\right)^{3}$$"
      ],
      "text/plain": [
       "<IPython.core.display.Math object>"
      ]
     },
     "metadata": {},
     "output_type": "display_data"
    },
    {
     "data": {
      "text/latex": [
       "$$\\mathrm H^{0}(X_{B3},\\wedge^{5}T_X)=L\\left( 3\\alpha_{1}+ 3\\alpha_{2}+ 3\\alpha_{3}\\right)\\oplus L\\left( 2\\alpha_{1}+ 3\\alpha_{2}+ 3\\alpha_{3}\\right)\\oplus L\\left( 4\\alpha_{1}+ 5\\alpha_{2}+ 6\\alpha_{3}\\right)\\oplus L\\left( 2\\alpha_{1}+ 4\\alpha_{2}+ 6\\alpha_{3}\\right)\\oplus L\\left( 3\\alpha_{1}+ 6\\alpha_{2}+ 6\\alpha_{3}\\right)\\oplus L\\left( 5\\alpha_{1}+ 5\\alpha_{2}+ 5\\alpha_{3}\\right)\\oplus L\\left( 3\\alpha_{1}+ 6\\alpha_{2}+ 8\\alpha_{3}\\right)\\oplus L\\left( 4\\alpha_{1}+ 6\\alpha_{2}+ 7\\alpha_{3}\\right)\\oplus L\\left( 2\\alpha_{1}+ 4\\alpha_{2}+ 4\\alpha_{3}\\right)\\oplus L\\left( 4\\alpha_{1}+ 5\\alpha_{2}+ 5\\alpha_{3}\\right)\\oplus L\\left( 3\\alpha_{1}+ 5\\alpha_{2}+ 5\\alpha_{3}\\right)^{2}\\oplus L\\left( 3\\alpha_{1}+ 5\\alpha_{2}+ 7\\alpha_{3}\\right)^{2}\\oplus L\\left( 3\\alpha_{1}+ 5\\alpha_{2}+ 6\\alpha_{3}\\right)^{3}\\oplus L\\left( 3\\alpha_{1}+ 4\\alpha_{2}+ 4\\alpha_{3}\\right)^{3}\\oplus L\\left( 3\\alpha_{1}+ 4\\alpha_{2}+ 5\\alpha_{3}\\right)^{3}\\oplus L\\left( 2\\alpha_{1}+ 3\\alpha_{2}+ 4\\alpha_{3}\\right)^{3}\\oplus L\\left( 2\\alpha_{1}+ 4\\alpha_{2}+ 5\\alpha_{3}\\right)^{4}$$"
      ],
      "text/plain": [
       "<IPython.core.display.Math object>"
      ]
     },
     "metadata": {},
     "output_type": "display_data"
    },
    {
     "data": {
      "text/latex": [
       "$$\\mathrm H^{0}(X_{B3},\\wedge^{6}T_X)=L\\left( 5\\alpha_{1}+ 6\\alpha_{2}+ 7\\alpha_{3}\\right)\\oplus L\\left( 2\\alpha_{1}+ 4\\alpha_{2}+ 6\\alpha_{3}\\right)\\oplus L\\left( 3\\alpha_{1}+ 6\\alpha_{2}+ 6\\alpha_{3}\\right)\\oplus L\\left( 4\\alpha_{1}+ 4\\alpha_{2}+ 4\\alpha_{3}\\right)\\oplus L\\left( 4\\alpha_{1}+ 6\\alpha_{2}+ 8\\alpha_{3}\\right)\\oplus L\\left( 3\\alpha_{1}+ 4\\alpha_{2}+ 4\\alpha_{3}\\right)\\oplus L\\left( 3\\alpha_{1}+ 6\\alpha_{2}+ 8\\alpha_{3}\\right)\\oplus L\\left( 2\\alpha_{1}+ 4\\alpha_{2}+ 5\\alpha_{3}\\right)\\oplus L\\left( 4\\alpha_{1}+ 7\\alpha_{2}+ 8\\alpha_{3}\\right)\\oplus L\\left( 3\\alpha_{1}+ 6\\alpha_{2}+ 9\\alpha_{3}\\right)\\oplus L\\left( 2\\alpha_{1}+ 4\\alpha_{2}+ 4\\alpha_{3}\\right)\\oplus L\\left( 4\\alpha_{1}+ 5\\alpha_{2}+ 5\\alpha_{3}\\right)\\oplus L\\left( 3\\alpha_{1}+ 5\\alpha_{2}+ 7\\alpha_{3}\\right)^{2}\\oplus L\\left( 3\\alpha_{1}+ 5\\alpha_{2}+ 5\\alpha_{3}\\right)^{2}\\oplus L\\left( 4\\alpha_{1}+ 6\\alpha_{2}+ 6\\alpha_{3}\\right)^{2}\\oplus L\\left( 4\\alpha_{1}+ 6\\alpha_{2}+ 7\\alpha_{3}\\right)^{2}\\oplus L\\left( 4\\alpha_{1}+ 5\\alpha_{2}+ 6\\alpha_{3}\\right)^{3}\\oplus L\\left( 3\\alpha_{1}+ 6\\alpha_{2}+ 7\\alpha_{3}\\right)^{3}\\oplus L\\left( 3\\alpha_{1}+ 4\\alpha_{2}+ 5\\alpha_{3}\\right)^{3}\\oplus L\\left( 3\\alpha_{1}+ 5\\alpha_{2}+ 6\\alpha_{3}\\right)^{5}$$"
      ],
      "text/plain": [
       "<IPython.core.display.Math object>"
      ]
     },
     "metadata": {},
     "output_type": "display_data"
    },
    {
     "data": {
      "text/latex": [
       "$$\\mathrm H^{0}(X_{B3},\\wedge^{7}T_X)=L\\left( 5\\alpha_{1}+ 6\\alpha_{2}+ 7\\alpha_{3}\\right)\\oplus L\\left( 4\\alpha_{1}+ 7\\alpha_{2}+ 7\\alpha_{3}\\right)\\oplus L\\left( 3\\alpha_{1}+ 5\\alpha_{2}+ 6\\alpha_{3}\\right)\\oplus L\\left( 4\\alpha_{1}+ 8\\alpha_{2}+ 8\\alpha_{3}\\right)\\oplus L\\left( 4\\alpha_{1}+ 5\\alpha_{2}+ 6\\alpha_{3}\\right)\\oplus L\\left( 3\\alpha_{1}+ 5\\alpha_{2}+ 7\\alpha_{3}\\right)\\oplus L\\left( 3\\alpha_{1}+ 6\\alpha_{2}+ 6\\alpha_{3}\\right)\\oplus L\\left( 5\\alpha_{1}+ 7\\alpha_{2}+ 8\\alpha_{3}\\right)\\oplus L\\left( 3\\alpha_{1}+ 6\\alpha_{2}+ 8\\alpha_{3}\\right)\\oplus L\\left( 4\\alpha_{1}+ 5\\alpha_{2}+ 5\\alpha_{3}\\right)\\oplus L\\left( 5\\alpha_{1}+ 6\\alpha_{2}+ 6\\alpha_{3}\\right)\\oplus L\\left( 3\\alpha_{1}+ 5\\alpha_{2}+ 5\\alpha_{3}\\right)\\oplus L\\left( 4\\alpha_{1}+ 7\\alpha_{2}+ 9\\alpha_{3}\\right)\\oplus L\\left( 4\\alpha_{1}+ 6\\alpha_{2}+ 6\\alpha_{3}\\right)^{2}\\oplus L\\left( 4\\alpha_{1}+ 6\\alpha_{2}+ 8\\alpha_{3}\\right)^{2}\\oplus L\\left( 4\\alpha_{1}+ 7\\alpha_{2}+ 8\\alpha_{3}\\right)^{2}\\oplus L\\left( 3\\alpha_{1}+ 6\\alpha_{2}+ 7\\alpha_{3}\\right)^{2}\\oplus L\\left( 4\\alpha_{1}+ 6\\alpha_{2}+ 7\\alpha_{3}\\right)^{3}$$"
      ],
      "text/plain": [
       "<IPython.core.display.Math object>"
      ]
     },
     "metadata": {},
     "output_type": "display_data"
    },
    {
     "data": {
      "text/latex": [
       "$$\\mathrm H^{0}(X_{B3},\\wedge^{8}T_X)=L\\left( 4\\alpha_{1}+ 8\\alpha_{2}+ 9\\alpha_{3}\\right)\\oplus L\\left( 4\\alpha_{1}+ 6\\alpha_{2}+ 7\\alpha_{3}\\right)\\oplus L\\left( 5\\alpha_{1}+ 7\\alpha_{2}+ 9\\alpha_{3}\\right)\\oplus L\\left( 5\\alpha_{1}+ 7\\alpha_{2}+ 8\\alpha_{3}\\right)\\oplus L\\left( 4\\alpha_{1}+ 7\\alpha_{2}+ 7\\alpha_{3}\\right)\\oplus L\\left( 4\\alpha_{1}+ 7\\alpha_{2}+ 8\\alpha_{3}\\right)\\oplus L\\left( 5\\alpha_{1}+ 7\\alpha_{2}+ 7\\alpha_{3}\\right)\\oplus L\\left( 5\\alpha_{1}+ 8\\alpha_{2}+ 8\\alpha_{3}\\right)\\oplus L\\left( 4\\alpha_{1}+ 7\\alpha_{2}+ 9\\alpha_{3}\\right)$$"
      ],
      "text/plain": [
       "<IPython.core.display.Math object>"
      ]
     },
     "metadata": {},
     "output_type": "display_data"
    },
    {
     "data": {
      "text/latex": [
       "$$\\mathrm H^{0}(X_{B3},\\wedge^{9}T_X)=L\\left( 5\\alpha_{1}+ 8\\alpha_{2}+ 9\\alpha_{3}\\right)$$"
      ],
      "text/plain": [
       "<IPython.core.display.Math object>"
      ]
     },
     "metadata": {},
     "output_type": "display_data"
    },
    {
     "data": {
      "text/latex": [
       "$$\\mathrm H^{0}(X_{C3},\\wedge^{0}T_X)=\\mathbb{C}$$"
      ],
      "text/plain": [
       "<IPython.core.display.Math object>"
      ]
     },
     "metadata": {},
     "output_type": "display_data"
    },
    {
     "data": {
      "text/latex": [
       "$$\\mathrm H^{0}(X_{C3},\\wedge^{1}T_X)=L\\left( 2\\alpha_{1}+ 2\\alpha_{2}+\\alpha_{3}\\right)$$"
      ],
      "text/plain": [
       "<IPython.core.display.Math object>"
      ]
     },
     "metadata": {},
     "output_type": "display_data"
    },
    {
     "data": {
      "text/latex": [
       "$$\\mathrm H^{0}(X_{C3},\\wedge^{2}T_X)=L\\left( 2\\alpha_{1}+ 2\\alpha_{2}+\\alpha_{3}\\right)\\oplus L\\left( 3\\alpha_{1}+ 4\\alpha_{2}+ 2\\alpha_{3}\\right)$$"
      ],
      "text/plain": [
       "<IPython.core.display.Math object>"
      ]
     },
     "metadata": {},
     "output_type": "display_data"
    }
   ],
   "source": [
    "for d in ['A2','A3','G2','B2','A4','B3','C3']:\n",
    "    BGG = BGGComplex(d)\n",
    "    factory = FastModuleFactory(BGG.LA)\n",
    "    component_dic = {'u':factory.build_component('u','coad',subset=[])}\n",
    "    u_dim = len(component_dic['u'].basis)\n",
    "    print('dim of u is %d for root system %s' % (u_dim, d))\n",
    "    for k in range(u_dim+1):\n",
    "        components = [[('u',k,'wedge')]]\n",
    "        module = FastLieAlgebraCompositeModule(factory,components,component_dic)\n",
    "\n",
    "        cohom = BGGCohomology(BGG, module)\n",
    "\n",
    "        cohom.cohomology_LaTeX(complex_string=r'X_{'+d+r'},\\wedge^{'+str(k)+'}T_X')"
   ]
  },
  {
   "cell_type": "code",
   "execution_count": null,
   "metadata": {},
   "outputs": [],
   "source": []
  }
 ],
 "metadata": {
  "kernelspec": {
   "display_name": "SageMath 8.6",
   "language": "",
   "name": "sagemath"
  },
  "language_info": {
   "codemirror_mode": {
    "name": "ipython",
    "version": 2
   },
   "file_extension": ".py",
   "mimetype": "text/x-python",
   "name": "python",
   "nbconvert_exporter": "python",
   "pygments_lexer": "ipython2",
   "version": "2.7.15"
  }
 },
 "nbformat": 4,
 "nbformat_minor": 2
}
