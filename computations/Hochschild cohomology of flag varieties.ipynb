{
 "cells": [
  {
   "cell_type": "code",
   "execution_count": null,
   "metadata": {
    "vscode": {
     "languageId": "python"
    }
   },
   "outputs": [],
   "source": [
    "from bggcohomology.bggcomplex import BGGComplex\n",
    "from bggcohomology.la_modules import LieAlgebraCompositeModule, ModuleFactory, BGGCohomology\n",
    "from tqdm.auto import tqdm\n",
    "import numpy as np"
   ]
  },
  {
   "cell_type": "markdown",
   "metadata": {},
   "source": [
    "We will compute the Hochschild cohomology of flag varieties of different types. We will use the fact that \n",
    "$$H^i(X,\\wedge^j T_X) = H^i(BGG_\\bullet(\\wedge^j \\mathfrak u))$$\n",
    "Here we compute the Hochschild cohomology in the non-parabolic case for a number of diagrams."
   ]
  },
  {
   "cell_type": "code",
   "execution_count": null,
   "metadata": {
    "scrolled": true,
    "vscode": {
     "languageId": "python"
    }
   },
   "outputs": [],
   "source": [
    "for d in ['A2','A3','G2','B2','A4','B3','C3']:\n",
    "\n",
    "    BGG = BGGComplex(d)\n",
    "    factory = ModuleFactory(BGG.LA)\n",
    "    component_dic = {'u':factory.build_component('u','coad',subset=[])}\n",
    "    u_dim = len(component_dic['u'].basis)\n",
    "    print('dim of u is %d for root system %s' % (u_dim, d))\n",
    "    \n",
    "    pbar1 = tqdm(range(u_dim+1))\n",
    "    pbar2 = tqdm()\n",
    "    pbar3 = tqdm()\n",
    "    for k in range(u_dim+1):\n",
    "        components = [[('u',k,'wedge')]]\n",
    "        module = LieAlgebraCompositeModule(factory,components,component_dic)\n",
    "\n",
    "        cohom = BGGCohomology(BGG, module,pbars=[pbar2,pbar3])\n",
    "\n",
    "        cohom.cohomology_LaTeX(complex_string=r'X_{'+d+r'},\\wedge^{'+str(k)+'}T_X')"
   ]
  },
  {
   "cell_type": "markdown",
   "metadata": {},
   "source": [
    "### G2 in the parabolic case\n",
    "Now for $G2$ we do some computations in the parabolic case. "
   ]
  },
  {
   "cell_type": "code",
   "execution_count": null,
   "metadata": {
    "scrolled": true,
    "vscode": {
     "languageId": "python"
    }
   },
   "outputs": [],
   "source": [
    "subset_list = [[],[1],[2]]\n",
    "subscript_list = [r'',r'\\alpha_1',r'\\alpha_2']\n",
    "d = 'G2'\n",
    "BGG = BGGComplex(d)\n",
    "for subset,subscript in zip(subset_list,subscript_list):\n",
    "    factory = ModuleFactory(BGG.LA)\n",
    "    component_dic = {'u':factory.build_component('u','coad',subset=subset)}\n",
    "    u_dim = len(component_dic['u'].basis)\n",
    "    print('dim of u is %d for root system %s' % (u_dim, d))\n",
    "    pbar1 = tqdm(range(u_dim+1))\n",
    "    pbar2 = tqdm()\n",
    "    pbar3 = tqdm()\n",
    "    for k in pbar1:\n",
    "        components = [[('u',k,'wedge')]]\n",
    "        module = LieAlgebraCompositeModule(factory,components,component_dic)\n",
    "\n",
    "        cohom = BGGCohomology(BGG, module,pbars=[pbar2,pbar3])\n",
    "\n",
    "        cohom.cohomology_LaTeX(complex_string=r'X_{'+subscript+r'},\\wedge^{'+str(k)+'}T_X',print_betti=True)"
   ]
  },
  {
   "cell_type": "markdown",
   "metadata": {},
   "source": [
    "### A4 in the parabolic case\n",
    "Now for $A4$ we do some computations in the parabolic case. "
   ]
  },
  {
   "cell_type": "code",
   "execution_count": null,
   "metadata": {
    "scrolled": true,
    "vscode": {
     "languageId": "python"
    }
   },
   "outputs": [],
   "source": [
    "from itertools import combinations, chain\n",
    "roots = [1,2,3,4]\n",
    "subsets = list(chain.from_iterable(combinations(roots,i) for i in range(len(roots))))\n",
    "d = 'A4'\n",
    "BGG = BGGComplex(d)\n",
    "for subset in subsets:\n",
    "    factory = ModuleFactory(BGG.LA)\n",
    "    component_dic = {'u':factory.build_component('u','coad',subset=subset)}\n",
    "    u_dim = len(component_dic['u'].basis)\n",
    "    print('dim of u is %d for root system %s and subset %s' % (u_dim, d, subset))\n",
    "    pbar1 = tqdm(range(u_dim+1))\n",
    "    pbar2 = tqdm()\n",
    "    pbar3 = tqdm()\n",
    "    for k in pbar1:\n",
    "        components = [[('u',k,'wedge')]]\n",
    "        module = LieAlgebraCompositeModule(factory,components,component_dic)\n",
    "\n",
    "        cohom = BGGCohomology(BGG, module,pbars=[pbar2,pbar3])\n",
    "        subset_string = ''.join(str(s) for s in subset)\n",
    "        cohom.cohomology_LaTeX(complex_string=r'X_{'+subset_string+r'},\\wedge^{'+str(k)+'}T_X',print_betti=True)"
   ]
  },
  {
   "cell_type": "markdown",
   "metadata": {},
   "source": [
    "## A3 parabolic"
   ]
  },
  {
   "cell_type": "code",
   "execution_count": null,
   "metadata": {
    "scrolled": true,
    "vscode": {
     "languageId": "python"
    }
   },
   "outputs": [],
   "source": [
    "from itertools import combinations, chain\n",
    "roots = [1,2,3]\n",
    "subsets = list(chain.from_iterable(combinations(roots,i) for i in range(len(roots))))\n",
    "d = 'A3'\n",
    "BGG = BGGComplex(d)\n",
    "for subset in subsets:\n",
    "    factory = ModuleFactory(BGG.LA)\n",
    "    component_dic = {'u':factory.build_component('u','coad',subset=subset)}\n",
    "    u_dim = len(component_dic['u'].basis)\n",
    "    print('dim of u is %d for root system %s and subset %s' % (u_dim, d, subset))\n",
    "    for k in range(u_dim+1):\n",
    "        components = [[('u',k,'wedge')]]\n",
    "        module = LieAlgebraCompositeModule(factory,components,component_dic)\n",
    "\n",
    "        cohom = BGGCohomology(BGG, module,pbars=[pbar2,pbar3])\n",
    "        subset_string = ''.join(str(s) for s in subset)\n",
    "        cohom.cohomology_LaTeX(complex_string=r'X_{'+subset_string+r'},\\wedge^{'+str(k)+'}T_X',print_betti=True)"
   ]
  },
  {
   "cell_type": "markdown",
   "metadata": {},
   "source": [
    "## B2 parabolic"
   ]
  },
  {
   "cell_type": "code",
   "execution_count": null,
   "metadata": {
    "vscode": {
     "languageId": "python"
    }
   },
   "outputs": [],
   "source": [
    "from itertools import combinations, chain\n",
    "roots = [1,2]\n",
    "subsets = list(chain.from_iterable(combinations(roots,i) for i in range(len(roots))))\n",
    "d = 'B2'\n",
    "BGG = BGGComplex(d)\n",
    "for subset in subsets:\n",
    "    factory = ModuleFactory(BGG.LA)\n",
    "    component_dic = {'u':factory.build_component('u','coad',subset=subset)}\n",
    "    u_dim = len(component_dic['u'].basis)\n",
    "    print('dim of u is %d for root system %s and subset %s' % (u_dim, d, subset))\n",
    "    pbar1 = tqdm(range(u_dim+1))\n",
    "    pbar2 = tqdm()\n",
    "    pbar3 = tqdm()\n",
    "    for k in pbar1:\n",
    "        components = [[('u',k,'wedge')]]\n",
    "        module = LieAlgebraCompositeModule(factory,components,component_dic)\n",
    "\n",
    "        cohom = BGGCohomology(BGG, module,pbars=[pbar2,pbar3])\n",
    "        subset_string = ''.join(str(s) for s in subset)\n",
    "        cohom.cohomology_LaTeX(complex_string=r'X_{'+subset_string+r'},\\wedge^{'+str(k)+'}T_X',print_betti=True)"
   ]
  },
  {
   "cell_type": "markdown",
   "metadata": {},
   "source": [
    "## B3 parabolic"
   ]
  },
  {
   "cell_type": "code",
   "execution_count": null,
   "metadata": {
    "scrolled": true,
    "vscode": {
     "languageId": "python"
    }
   },
   "outputs": [],
   "source": [
    "from itertools import combinations, chain\n",
    "roots = [1,2,3]\n",
    "subsets = list(chain.from_iterable(combinations(roots,i) for i in range(len(roots))))\n",
    "d = 'B3'\n",
    "BGG = BGGComplex(d)\n",
    "for subset in subsets:\n",
    "    factory = ModuleFactory(BGG.LA)\n",
    "    component_dic = {'u':factory.build_component('u','coad',subset=subset)}\n",
    "    u_dim = len(component_dic['u'].basis)\n",
    "    print('dim of u is %d for root system %s and subset %s' % (u_dim, d, subset))\n",
    "    pbar1 = tqdm(range(u_dim+1))\n",
    "    pbar2 = tqdm()\n",
    "    pbar3 = tqdm()\n",
    "    for k in pbar1:\n",
    "        components = [[('u',k,'wedge')]]\n",
    "        module = LieAlgebraCompositeModule(factory,components,component_dic)\n",
    "\n",
    "        cohom = BGGCohomology(BGG, module,pbars=[pbar2,pbar3])\n",
    "        subset_string = ''.join(str(s) for s in subset)\n",
    "        cohom.cohomology_LaTeX(complex_string=r'X_{'+subset_string+r'},\\wedge^{'+str(k)+'}T_X',print_betti=True)"
   ]
  },
  {
   "cell_type": "markdown",
   "metadata": {},
   "source": [
    "## C3 Parabolic"
   ]
  },
  {
   "cell_type": "code",
   "execution_count": null,
   "metadata": {
    "vscode": {
     "languageId": "python"
    }
   },
   "outputs": [],
   "source": [
    "from itertools import combinations, chain\n",
    "roots = [1,2,3]\n",
    "subsets = list(chain.from_iterable(combinations(roots,i) for i in range(len(roots))))\n",
    "d = 'C3'\n",
    "BGG = BGGComplex(d)\n",
    "for subset in subsets:\n",
    "    factory = ModuleFactory(BGG.LA)\n",
    "    component_dic = {'u':factory.build_component('u','coad',subset=subset)}\n",
    "    u_dim = len(component_dic['u'].basis)\n",
    "    print('dim of u is %d for root system %s and subset %s' % (u_dim, d, subset))\n",
    "    pbar1 = tqdm(range(u_dim+1))\n",
    "    pbar2 = tqdm()\n",
    "    pbar3 = tqdm()\n",
    "    for k in pbar1:\n",
    "        components = [[('u',k,'wedge')]]\n",
    "        module = LieAlgebraCompositeModule(factory,components,component_dic)\n",
    "\n",
    "        cohom = BGGCohomology(BGG, module,pbars=[pbar2,pbar3])\n",
    "        subset_string = ''.join(str(s) for s in subset)\n",
    "        cohom.cohomology_LaTeX(complex_string=r'X_{'+subset_string+r'},\\wedge^{'+str(k)+'}T_X',print_betti=True)"
   ]
  },
  {
   "cell_type": "markdown",
   "metadata": {},
   "source": [
    "# B4 parabolic, degree 1"
   ]
  },
  {
   "cell_type": "code",
   "execution_count": null,
   "metadata": {
    "scrolled": true,
    "vscode": {
     "languageId": "python"
    }
   },
   "outputs": [],
   "source": [
    "from itertools import combinations, chain\n",
    "roots = [1,2,3,4]\n",
    "subsets = list(chain.from_iterable(combinations(roots,i) for i in range(len(roots))))\n",
    "d = 'B4'\n",
    "BGG = BGGComplex(d)\n",
    "for subset in subsets[::-1]:\n",
    "    factory = ModuleFactory(BGG.LA)\n",
    "    component_dic = {'u':factory.build_component('u','coad',subset=subset)}\n",
    "    u_dim = len(component_dic['u'].basis)\n",
    "    print('dim of u is %d for root system %s and subset %s' % (u_dim, d, subset))\n",
    "    pbar1 = tqdm(range(u_dim+1))\n",
    "    pbar2 = tqdm()\n",
    "    pbar3 = None\n",
    "    for k in pbar1:\n",
    "        components = [[('u',k,'wedge')]]\n",
    "        module = LieAlgebraCompositeModule(factory,components,component_dic)\n",
    "\n",
    "        cohom = BGGCohomology(BGG, module,pbars=[pbar2,pbar3])\n",
    "        subset_string = ''.join(str(s) for s in subset)\n",
    "        cohom.cohomology_LaTeX(i = 1, complex_string=r'X_{'+subset_string+r'},\\wedge^{'+str(k)+'}T_X',print_betti=True)"
   ]
  },
  {
   "cell_type": "markdown",
   "metadata": {},
   "source": [
    "## C4 parabolic, degree 1"
   ]
  },
  {
   "cell_type": "code",
   "execution_count": null,
   "metadata": {
    "vscode": {
     "languageId": "python"
    }
   },
   "outputs": [],
   "source": [
    "from itertools import combinations, chain\n",
    "roots = [1,2,3,4]\n",
    "subsets = list(chain.from_iterable(combinations(roots,i) for i in range(len(roots))))\n",
    "d = 'C4'\n",
    "BGG = BGGComplex(d)\n",
    "for subset in subsets[::-1]:\n",
    "    factory = ModuleFactory(BGG.LA)\n",
    "    component_dic = {'u':factory.build_component('u','coad',subset=subset)}\n",
    "    u_dim = len(component_dic['u'].basis)\n",
    "    print('dim of u is %d for root system %s and subset %s' % (u_dim, d, subset))\n",
    "    pbar1 = tqdm(range(u_dim+1))\n",
    "    pbar2 = tqdm()\n",
    "    pbar3 = None\n",
    "    for k in pbar1:\n",
    "        components = [[('u',k,'wedge')]]\n",
    "        module = LieAlgebraCompositeModule(factory,components,component_dic)\n",
    "\n",
    "        cohom = BGGCohomology(BGG, module,pbars=[pbar2,pbar3])\n",
    "        subset_string = ''.join(str(s) for s in subset) \n",
    "        cohom.cohomology_LaTeX(i = 1, complex_string=r'X_{'+subset_string+r'},\\wedge^{'+str(k)+'}T_X',print_betti=True)"
   ]
  },
  {
   "cell_type": "markdown",
   "metadata": {},
   "source": [
    "## D4 parabolic, degree 1"
   ]
  },
  {
   "cell_type": "code",
   "execution_count": null,
   "metadata": {
    "scrolled": true,
    "vscode": {
     "languageId": "python"
    }
   },
   "outputs": [],
   "source": [
    "from itertools import combinations, chain\n",
    "roots = [1,2,3,4]\n",
    "subsets = list(chain.from_iterable(combinations(roots,i) for i in range(len(roots))))\n",
    "d = 'D4'\n",
    "BGG = BGGComplex(d)\n",
    "for subset in subsets[::-1]:\n",
    "    factory = ModuleFactory(BGG.LA)\n",
    "    component_dic = {'u':factory.build_component('u','coad',subset=subset)}\n",
    "    u_dim = len(component_dic['u'].basis)\n",
    "    print('dim of u is %d for root system %s and subset %s' % (u_dim, d, subset))\n",
    "    pbar1 = tqdm(range(u_dim+1))\n",
    "    pbar2 = tqdm()\n",
    "    pbar3 = None\n",
    "    for k in pbar1:\n",
    "        components = [[('u',k,'wedge')]]\n",
    "        module = LieAlgebraCompositeModule(factory,components,component_dic)\n",
    "\n",
    "        cohom = BGGCohomology(BGG, module,pbars=[pbar2,pbar3])\n",
    "        subset_string = ''.join(str(s) for s in subset) \n",
    "        cohom.cohomology_LaTeX(i = 1, complex_string=r'X_{'+subset_string+r'},\\wedge^{'+str(k)+'}T_X',print_betti=True)"
   ]
  },
  {
   "cell_type": "markdown",
   "metadata": {},
   "source": [
    "## A5 parabolic, degree 1"
   ]
  },
  {
   "cell_type": "code",
   "execution_count": null,
   "metadata": {
    "scrolled": true,
    "vscode": {
     "languageId": "python"
    }
   },
   "outputs": [],
   "source": [
    "from itertools import combinations, chain\n",
    "roots = [1,2,3,4,5]\n",
    "subsets = list(chain.from_iterable(combinations(roots,i) for i in range(len(roots))))\n",
    "d = 'A5'\n",
    "BGG = BGGComplex(d)\n",
    "for subset in subsets[::-1]:\n",
    "    factory = ModuleFactory(BGG.LA)\n",
    "    component_dic = {'u':factory.build_component('u','coad',subset=subset)}\n",
    "    u_dim = len(component_dic['u'].basis)\n",
    "    print('dim of u is %d for root system %s and subset %s' % (u_dim, d, subset))\n",
    "    pbar1 = tqdm(range(u_dim+1))\n",
    "    pbar2 = tqdm()\n",
    "    pbar3 = None\n",
    "    for k in pbar1:\n",
    "        components = [[('u',k,'wedge')]]\n",
    "        module = LieAlgebraCompositeModule(factory,components,component_dic)\n",
    "\n",
    "        cohom = BGGCohomology(BGG, module,pbars=[pbar2,pbar3])\n",
    "        subset_string = ''.join(str(s) for s in subset) \n",
    "        cohom.cohomology_LaTeX(i = 1, complex_string=r'X_{'+subset_string+r'},\\wedge^{'+str(k)+'}T_X',print_betti=True)"
   ]
  },
  {
   "cell_type": "markdown",
   "metadata": {},
   "source": [
    "## F4 parabolic, degree 1\n",
    "Here we run out of memory if we try to compute all of $H^1$, so we just compute $H^1(X,\\wedge^kT_X)$ for $k\\leq 7$. This gives non-trivial $H^1$ for all cases but $X_{23},X_{123},X_{234}$, for which we can try to compute some more groups."
   ]
  },
  {
   "cell_type": "code",
   "execution_count": null,
   "metadata": {
    "vscode": {
     "languageId": "python"
    }
   },
   "outputs": [],
   "source": [
    "from itertools import combinations, chain\n",
    "roots = [1,2,3,4]\n",
    "subsets = list(chain.from_iterable(combinations(roots,i) for i in range(len(roots))))\n",
    "d = 'F4'\n",
    "BGG = BGGComplex(d)\n",
    "for subset in subsets[::-1]:\n",
    "    factory = ModuleFactory(BGG.LA)\n",
    "    component_dic = {'u':factory.build_component('u','coad',subset=subset)}\n",
    "    u_dim = len(component_dic['u'].basis)\n",
    "    print('dim of u is %d for root system %s and subset %s' % (u_dim, d, subset))\n",
    "    pbar1 = tqdm(range(u_dim+1)[:8])\n",
    "    pbar2 = tqdm()\n",
    "    pbar3 = None\n",
    "    for k in pbar1:\n",
    "        components = [[('u',k,'wedge')]]\n",
    "        module = LieAlgebraCompositeModule(factory,components,component_dic)\n",
    "\n",
    "        cohom = BGGCohomology(BGG, module,pbars=[pbar2,pbar3])\n",
    "        subset_string = ''.join(str(s) for s in subset) \n",
    "        cohom.cohomology_LaTeX(i = 1, complex_string=r'X_{'+subset_string+r'},\\wedge^{'+str(k)+'}T_X',print_betti=True)"
   ]
  },
  {
   "cell_type": "code",
   "execution_count": null,
   "metadata": {
    "vscode": {
     "languageId": "python"
    }
   },
   "outputs": [],
   "source": [
    "from itertools import combinations, chain\n",
    "roots = [1,2,3,4]\n",
    "subsets = [(2,3,4),(1,2,3),(2,3)]\n",
    "d = 'F4'\n",
    "BGG = BGGComplex(d)\n",
    "for subset in subsets:\n",
    "    factory = ModuleFactory(BGG.LA)\n",
    "    component_dic = {'u':factory.build_component('u','coad',subset=subset)}\n",
    "    u_dim = len(component_dic['u'].basis)\n",
    "    print('dim of u is %d for root system %s and subset %s' % (u_dim, d, subset))\n",
    "    pbar1 = tqdm(range(u_dim+1)[:9])\n",
    "    pbar2 = tqdm()\n",
    "    pbar3 = None\n",
    "    for k in pbar1:\n",
    "        components = [[('u',k,'wedge')]]\n",
    "        module = LieAlgebraCompositeModule(factory,components,component_dic)\n",
    "\n",
    "        cohom = BGGCohomology(BGG, module,pbars=[pbar2,pbar3])\n",
    "        subset_string = ''.join(str(s) for s in subset) \n",
    "        cohom.cohomology_LaTeX(i = 1, complex_string=r'X_{'+subset_string+r'},\\wedge^{'+str(k)+'}T_X',print_betti=True)"
   ]
  },
  {
   "cell_type": "code",
   "execution_count": null,
   "metadata": {
    "vscode": {
     "languageId": "python"
    }
   },
   "outputs": [],
   "source": []
  }
 ],
 "metadata": {
  "kernelspec": {
   "display_name": "SageMath 9.6",
   "language": "sage",
   "name": "sagemath"
  },
  "language_info": {
   "codemirror_mode": {
    "name": "ipython",
    "version": 3
   },
   "file_extension": ".py",
   "mimetype": "text/x-python",
   "name": "sage",
   "nbconvert_exporter": "python",
   "pygments_lexer": "ipython3",
   "version": "3.10.5"
  },
  "vscode": {
   "interpreter": {
    "hash": "53e3584a94e8c7d99898d4a2cb47bea56236d638682d6d87741bc73b63e7db14"
   }
  }
 },
 "nbformat": 4,
 "nbformat_minor": 2
}
