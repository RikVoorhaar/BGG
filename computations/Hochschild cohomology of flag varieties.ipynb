{
 "cells": [
  {
   "cell_type": "code",
   "execution_count": 1,
   "metadata": {},
   "outputs": [],
   "source": [
    "import sys\n",
    "sys.path.append('../bggcomplex')\n",
    "\n",
    "from bggcomplex import BGGComplex\n",
    "from fast_module import FastLieAlgebraCompositeModule, FastModuleFactory, BGGCohomology\n",
    "from tqdm.auto import tqdm\n",
    "import numpy as np"
   ]
  },
  {
   "cell_type": "markdown",
   "metadata": {},
   "source": [
    "We will compute the Hochschild cohomology of flag varieties of different types. We will use the fact that \n",
    "$$H^i(X,\\wedge^j T_X) = H^i(BGG_\\bullet(\\wedge^j \\mathfrak u))$$\n",
    "Here we compute the Hochschild cohomology in the non-parabolic case for a number of diagrams."
   ]
  },
  {
   "cell_type": "code",
   "execution_count": 2,
   "metadata": {},
   "outputs": [
    {
     "name": "stdout",
     "output_type": "stream",
     "text": [
      "dim of u is 12 for root system B4\n"
     ]
    },
    {
     "data": {
      "application/vnd.jupyter.widget-view+json": {
       "model_id": "4447906d458f4f1a8e6c1c5722ade234",
       "version_major": 2,
       "version_minor": 0
      },
      "text/plain": [
       "HBox(children=(IntProgress(value=0, max=13), HTML(value=u'')))"
      ]
     },
     "metadata": {},
     "output_type": "display_data"
    },
    {
     "data": {
      "application/vnd.jupyter.widget-view+json": {
       "model_id": "9f2949735f4f4918a505ee614b9a04c8",
       "version_major": 2,
       "version_minor": 0
      },
      "text/plain": [
       "HBox(children=(IntProgress(value=1, bar_style=u'info', max=1), HTML(value=u'')))"
      ]
     },
     "metadata": {},
     "output_type": "display_data"
    },
    {
     "data": {
      "application/vnd.jupyter.widget-view+json": {
       "model_id": "39f50d76d99445a1a6b11ccf576f5b1c",
       "version_major": 2,
       "version_minor": 0
      },
      "text/plain": [
       "HBox(children=(IntProgress(value=1, bar_style=u'info', max=1), HTML(value=u'')))"
      ]
     },
     "metadata": {},
     "output_type": "display_data"
    },
    {
     "data": {
      "text/latex": [
       "$$\\mathrm H^{0}(X_{B4},\\wedge^{0}T_X)=\\mathbb{C}$$"
      ],
      "text/plain": [
       "<IPython.core.display.Math object>"
      ]
     },
     "metadata": {},
     "output_type": "display_data"
    },
    {
     "data": {
      "text/latex": [
       "$$\\mathrm H^{0}(X_{B4},\\wedge^{1}T_X)=L\\left(\\alpha_{1}+ 2\\alpha_{2}+ 2\\alpha_{3}+ 2\\alpha_{4}\\right)$$"
      ],
      "text/plain": [
       "<IPython.core.display.Math object>"
      ]
     },
     "metadata": {},
     "output_type": "display_data"
    },
    {
     "data": {
      "text/latex": [
       "$$\\mathrm H^{0}(X_{B4},\\wedge^{2}T_X)=L\\left(\\alpha_{1}+ 2\\alpha_{2}+ 2\\alpha_{3}+ 2\\alpha_{4}\\right)\\oplus L\\left( 2\\alpha_{1}+ 3\\alpha_{2}+ 4\\alpha_{3}+ 4\\alpha_{4}\\right)$$"
      ],
      "text/plain": [
       "<IPython.core.display.Math object>"
      ]
     },
     "metadata": {},
     "output_type": "display_data"
    },
    {
     "data": {
      "text/latex": [
       "$$\\mathrm H^{0}(X_{B4},\\wedge^{3}T_X)=L\\left(\\alpha_{1}+ 2\\alpha_{2}+ 3\\alpha_{3}+ 4\\alpha_{4}\\right)\\oplus L\\left( 3\\alpha_{1}+ 3\\alpha_{2}+ 3\\alpha_{3}+ 3\\alpha_{4}\\right)\\oplus L\\left( 2\\alpha_{1}+ 3\\alpha_{2}+ 4\\alpha_{3}+ 4\\alpha_{4}\\right)\\oplus L\\left( 2\\alpha_{1}+ 4\\alpha_{2}+ 4\\alpha_{3}+ 4\\alpha_{4}\\right)\\oplus L\\left( 3\\alpha_{1}+ 4\\alpha_{2}+ 5\\alpha_{3}+ 6\\alpha_{4}\\right)\\oplus L\\left( 2\\alpha_{1}+ 4\\alpha_{2}+ 6\\alpha_{3}+ 6\\alpha_{4}\\right)$$"
      ],
      "text/plain": [
       "<IPython.core.display.Math object>"
      ]
     },
     "metadata": {},
     "output_type": "display_data"
    },
    {
     "data": {
      "text/latex": [
       "$$\\mathrm H^{0}(X_{B4},\\wedge^{4}T_X)=L\\left( 2\\alpha_{1}+ 4\\alpha_{2}+ 4\\alpha_{3}+ 4\\alpha_{4}\\right)\\oplus L\\left( 2\\alpha_{1}+ 3\\alpha_{2}+ 4\\alpha_{3}+ 5\\alpha_{4}\\right)\\oplus L\\left( 3\\alpha_{1}+ 4\\alpha_{2}+ 5\\alpha_{3}+ 5\\alpha_{4}\\right)\\oplus L\\left( 2\\alpha_{1}+ 4\\alpha_{2}+ 5\\alpha_{3}+ 6\\alpha_{4}\\right)\\oplus L\\left( 3\\alpha_{1}+ 4\\alpha_{2}+ 5\\alpha_{3}+ 6\\alpha_{4}\\right)\\oplus L\\left( 2\\alpha_{1}+ 4\\alpha_{2}+ 6\\alpha_{3}+ 6\\alpha_{4}\\right)\\oplus L\\left( 4\\alpha_{1}+ 5\\alpha_{2}+ 5\\alpha_{3}+ 5\\alpha_{4}\\right)\\oplus L\\left( 3\\alpha_{1}+ 5\\alpha_{2}+ 6\\alpha_{3}+ 6\\alpha_{4}\\right)\\oplus L\\left( 4\\alpha_{1}+ 5\\alpha_{2}+ 6\\alpha_{3}+ 7\\alpha_{4}\\right)\\oplus L\\left( 3\\alpha_{1}+ 5\\alpha_{2}+ 7\\alpha_{3}+ 8\\alpha_{4}\\right)$$"
      ],
      "text/plain": [
       "<IPython.core.display.Math object>"
      ]
     },
     "metadata": {},
     "output_type": "display_data"
    },
    {
     "data": {
      "text/latex": [
       "$$\\mathrm H^{0}(X_{B4},\\wedge^{5}T_X)=L\\left( 3\\alpha_{1}+ 4\\alpha_{2}+ 5\\alpha_{3}+ 5\\alpha_{4}\\right)\\oplus L\\left( 2\\alpha_{1}+ 4\\alpha_{2}+ 5\\alpha_{3}+ 6\\alpha_{4}\\right)\\oplus L\\left( 2\\alpha_{1}+ 4\\alpha_{2}+ 6\\alpha_{3}+ 7\\alpha_{4}\\right)\\oplus L\\left( 3\\alpha_{1}+ 5\\alpha_{2}+ 6\\alpha_{3}+ 6\\alpha_{4}\\right)\\oplus L\\left( 3\\alpha_{1}+ 6\\alpha_{2}+ 6\\alpha_{3}+ 6\\alpha_{4}\\right)\\oplus L\\left( 3\\alpha_{1}+ 5\\alpha_{2}+ 6\\alpha_{3}+ 7\\alpha_{4}\\right)^{2}\\oplus L\\left( 4\\alpha_{1}+ 5\\alpha_{2}+ 6\\alpha_{3}+ 7\\alpha_{4}\\right)\\oplus L\\left( 3\\alpha_{1}+ 5\\alpha_{2}+ 7\\alpha_{3}+ 8\\alpha_{4}\\right)^{2}\\oplus L\\left( 4\\alpha_{1}+ 6\\alpha_{2}+ 7\\alpha_{3}+ 7\\alpha_{4}\\right)\\oplus L\\left( 5\\alpha_{1}+ 6\\alpha_{2}+ 7\\alpha_{3}+ 7\\alpha_{4}\\right)\\oplus L\\left( 4\\alpha_{1}+ 6\\alpha_{2}+ 7\\alpha_{3}+ 8\\alpha_{4}\\right)\\oplus L\\left( 3\\alpha_{1}+ 6\\alpha_{2}+ 8\\alpha_{3}+ 8\\alpha_{4}\\right)\\oplus L\\left( 4\\alpha_{1}+ 6\\alpha_{2}+ 8\\alpha_{3}+ 9\\alpha_{4}\\right)\\oplus L\\left( 3\\alpha_{1}+ 6\\alpha_{2}+ 8\\alpha_{3}+ 10\\alpha_{4}\\right)$$"
      ],
      "text/plain": [
       "<IPython.core.display.Math object>"
      ]
     },
     "metadata": {},
     "output_type": "display_data"
    },
    {
     "data": {
      "text/latex": [
       "$$\\mathrm H^{0}(X_{B4},\\wedge^{6}T_X)=L\\left( 2\\alpha_{1}+ 4\\alpha_{2}+ 6\\alpha_{3}+ 7\\alpha_{4}\\right)\\oplus L\\left( 3\\alpha_{1}+ 6\\alpha_{2}+ 6\\alpha_{3}+ 6\\alpha_{4}\\right)\\oplus L\\left( 3\\alpha_{1}+ 5\\alpha_{2}+ 6\\alpha_{3}+ 7\\alpha_{4}\\right)\\oplus L\\left( 3\\alpha_{1}+ 5\\alpha_{2}+ 7\\alpha_{3}+ 7\\alpha_{4}\\right)\\oplus L\\left( 3\\alpha_{1}+ 5\\alpha_{2}+ 7\\alpha_{3}+ 8\\alpha_{4}\\right)\\oplus L\\left( 4\\alpha_{1}+ 6\\alpha_{2}+ 7\\alpha_{3}+ 7\\alpha_{4}\\right)\\oplus L\\left( 3\\alpha_{1}+ 6\\alpha_{2}+ 7\\alpha_{3}+ 8\\alpha_{4}\\right)^{2}\\oplus L\\left( 3\\alpha_{1}+ 5\\alpha_{2}+ 7\\alpha_{3}+ 9\\alpha_{4}\\right)^{2}\\oplus L\\left( 4\\alpha_{1}+ 6\\alpha_{2}+ 7\\alpha_{3}+ 8\\alpha_{4}\\right)\\oplus L\\left( 3\\alpha_{1}+ 6\\alpha_{2}+ 8\\alpha_{3}+ 8\\alpha_{4}\\right)\\oplus L\\left( 3\\alpha_{1}+ 6\\alpha_{2}+ 8\\alpha_{3}+ 9\\alpha_{4}\\right)\\oplus L\\left( 4\\alpha_{1}+ 7\\alpha_{2}+ 8\\alpha_{3}+ 8\\alpha_{4}\\right)\\oplus L\\left( 4\\alpha_{1}+ 6\\alpha_{2}+ 8\\alpha_{3}+ 9\\alpha_{4}\\right)^{2}\\oplus L\\left( 3\\alpha_{1}+ 6\\alpha_{2}+ 8\\alpha_{3}+ 10\\alpha_{4}\\right)\\oplus L\\left( 4\\alpha_{1}+ 7\\alpha_{2}+ 8\\alpha_{3}+ 9\\alpha_{4}\\right)\\oplus L\\left( 4\\alpha_{1}+ 6\\alpha_{2}+ 8\\alpha_{3}+ 10\\alpha_{4}\\right)\\oplus L\\left( 3\\alpha_{1}+ 6\\alpha_{2}+ 9\\alpha_{3}+ 10\\alpha_{4}\\right)\\oplus L\\left( 5\\alpha_{1}+ 7\\alpha_{2}+ 8\\alpha_{3}+ 9\\alpha_{4}\\right)\\oplus L\\left( 5\\alpha_{1}+ 7\\alpha_{2}+ 9\\alpha_{3}+ 9\\alpha_{4}\\right)\\oplus L\\left( 4\\alpha_{1}+ 7\\alpha_{2}+ 9\\alpha_{3}+ 10\\alpha_{4}\\right)\\oplus L\\left( 3\\alpha_{1}+ 6\\alpha_{2}+ 9\\alpha_{3}+ 12\\alpha_{4}\\right)\\oplus L\\left( 4\\alpha_{1}+ 7\\alpha_{2}+ 9\\alpha_{3}+ 11\\alpha_{4}\\right)$$"
      ],
      "text/plain": [
       "<IPython.core.display.Math object>"
      ]
     },
     "metadata": {},
     "output_type": "display_data"
    },
    {
     "data": {
      "text/latex": [
       "$$\\mathrm H^{0}(X_{B4},\\wedge^{7}T_X)=L\\left( 3\\alpha_{1}+ 5\\alpha_{2}+ 7\\alpha_{3}+ 7\\alpha_{4}\\right)\\oplus L\\left( 3\\alpha_{1}+ 6\\alpha_{2}+ 7\\alpha_{3}+ 8\\alpha_{4}\\right)\\oplus L\\left( 3\\alpha_{1}+ 5\\alpha_{2}+ 7\\alpha_{3}+ 9\\alpha_{4}\\right)\\oplus L\\left( 3\\alpha_{1}+ 6\\alpha_{2}+ 8\\alpha_{3}+ 9\\alpha_{4}\\right)^{2}\\oplus L\\left( 4\\alpha_{1}+ 7\\alpha_{2}+ 8\\alpha_{3}+ 8\\alpha_{4}\\right)\\oplus L\\left( 4\\alpha_{1}+ 6\\alpha_{2}+ 8\\alpha_{3}+ 9\\alpha_{4}\\right)\\oplus L\\left( 3\\alpha_{1}+ 6\\alpha_{2}+ 8\\alpha_{3}+ 10\\alpha_{4}\\right)\\oplus L\\left( 4\\alpha_{1}+ 8\\alpha_{2}+ 8\\alpha_{3}+ 8\\alpha_{4}\\right)\\oplus L\\left( 4\\alpha_{1}+ 7\\alpha_{2}+ 8\\alpha_{3}+ 9\\alpha_{4}\\right)\\oplus L\\left( 4\\alpha_{1}+ 6\\alpha_{2}+ 8\\alpha_{3}+ 10\\alpha_{4}\\right)\\oplus L\\left( 3\\alpha_{1}+ 6\\alpha_{2}+ 9\\alpha_{3}+ 10\\alpha_{4}\\right)\\oplus L\\left( 4\\alpha_{1}+ 7\\alpha_{2}+ 9\\alpha_{3}+ 9\\alpha_{4}\\right)\\oplus L\\left( 3\\alpha_{1}+ 6\\alpha_{2}+ 9\\alpha_{3}+ 11\\alpha_{4}\\right)\\oplus L\\left( 5\\alpha_{1}+ 7\\alpha_{2}+ 9\\alpha_{3}+ 9\\alpha_{4}\\right)\\oplus L\\left( 4\\alpha_{1}+ 7\\alpha_{2}+ 9\\alpha_{3}+ 10\\alpha_{4}\\right)^{2}\\oplus L\\left( 3\\alpha_{1}+ 6\\alpha_{2}+ 9\\alpha_{3}+ 12\\alpha_{4}\\right)\\oplus L\\left( 4\\alpha_{1}+ 8\\alpha_{2}+ 9\\alpha_{3}+ 10\\alpha_{4}\\right)\\oplus L\\left( 4\\alpha_{1}+ 7\\alpha_{2}+ 9\\alpha_{3}+ 11\\alpha_{4}\\right)^{2}\\oplus L\\left( 5\\alpha_{1}+ 8\\alpha_{2}+ 9\\alpha_{3}+ 10\\alpha_{4}\\right)\\oplus L\\left( 4\\alpha_{1}+ 8\\alpha_{2}+ 10\\alpha_{3}+ 10\\alpha_{4}\\right)\\oplus L\\left( 5\\alpha_{1}+ 7\\alpha_{2}+ 9\\alpha_{3}+ 11\\alpha_{4}\\right)\\oplus L\\left( 4\\alpha_{1}+ 7\\alpha_{2}+ 10\\alpha_{3}+ 11\\alpha_{4}\\right)\\oplus L\\left( 4\\alpha_{1}+ 7\\alpha_{2}+ 10\\alpha_{3}+ 12\\alpha_{4}\\right)\\oplus L\\left( 5\\alpha_{1}+ 8\\alpha_{2}+ 10\\alpha_{3}+ 11\\alpha_{4}\\right)\\oplus L\\left( 4\\alpha_{1}+ 8\\alpha_{2}+ 10\\alpha_{3}+ 12\\alpha_{4}\\right)\\oplus L\\left( 4\\alpha_{1}+ 7\\alpha_{2}+ 10\\alpha_{3}+ 13\\alpha_{4}\\right)$$"
      ],
      "text/plain": [
       "<IPython.core.display.Math object>"
      ]
     },
     "metadata": {},
     "output_type": "display_data"
    },
    {
     "data": {
      "text/latex": [
       "$$\\mathrm H^{0}(X_{B4},\\wedge^{8}T_X)=L\\left( 3\\alpha_{1}+ 6\\alpha_{2}+ 8\\alpha_{3}+ 9\\alpha_{4}\\right)\\oplus L\\left( 3\\alpha_{1}+ 6\\alpha_{2}+ 9\\alpha_{3}+ 9\\alpha_{4}\\right)\\oplus L\\left( 4\\alpha_{1}+ 7\\alpha_{2}+ 9\\alpha_{3}+ 9\\alpha_{4}\\right)\\oplus L\\left( 3\\alpha_{1}+ 6\\alpha_{2}+ 9\\alpha_{3}+ 11\\alpha_{4}\\right)\\oplus L\\left( 4\\alpha_{1}+ 7\\alpha_{2}+ 9\\alpha_{3}+ 10\\alpha_{4}\\right)\\oplus L\\left( 4\\alpha_{1}+ 8\\alpha_{2}+ 9\\alpha_{3}+ 10\\alpha_{4}\\right)\\oplus L\\left( 4\\alpha_{1}+ 7\\alpha_{2}+ 9\\alpha_{3}+ 11\\alpha_{4}\\right)\\oplus L\\left( 4\\alpha_{1}+ 8\\alpha_{2}+ 10\\alpha_{3}+ 10\\alpha_{4}\\right)\\oplus L\\left( 4\\alpha_{1}+ 7\\alpha_{2}+ 10\\alpha_{3}+ 11\\alpha_{4}\\right)^{2}\\oplus L\\left( 4\\alpha_{1}+ 8\\alpha_{2}+ 10\\alpha_{3}+ 11\\alpha_{4}\\right)\\oplus L\\left( 4\\alpha_{1}+ 7\\alpha_{2}+ 10\\alpha_{3}+ 12\\alpha_{4}\\right)\\oplus L\\left( 5\\alpha_{1}+ 9\\alpha_{2}+ 10\\alpha_{3}+ 10\\alpha_{4}\\right)\\oplus L\\left( 5\\alpha_{1}+ 8\\alpha_{2}+ 10\\alpha_{3}+ 11\\alpha_{4}\\right)\\oplus L\\left( 4\\alpha_{1}+ 8\\alpha_{2}+ 10\\alpha_{3}+ 12\\alpha_{4}\\right)\\oplus L\\left( 4\\alpha_{1}+ 7\\alpha_{2}+ 10\\alpha_{3}+ 13\\alpha_{4}\\right)\\oplus L\\left( 5\\alpha_{1}+ 8\\alpha_{2}+ 11\\alpha_{3}+ 11\\alpha_{4}\\right)\\oplus L\\left( 5\\alpha_{1}+ 8\\alpha_{2}+ 10\\alpha_{3}+ 12\\alpha_{4}\\right)\\oplus L\\left( 4\\alpha_{1}+ 8\\alpha_{2}+ 11\\alpha_{3}+ 12\\alpha_{4}\\right)\\oplus L\\left( 4\\alpha_{1}+ 8\\alpha_{2}+ 11\\alpha_{3}+ 13\\alpha_{4}\\right)\\oplus L\\left( 5\\alpha_{1}+ 9\\alpha_{2}+ 11\\alpha_{3}+ 12\\alpha_{4}\\right)\\oplus L\\left( 5\\alpha_{1}+ 8\\alpha_{2}+ 11\\alpha_{3}+ 13\\alpha_{4}\\right)\\oplus L\\left( 4\\alpha_{1}+ 8\\alpha_{2}+ 11\\alpha_{3}+ 14\\alpha_{4}\\right)$$"
      ],
      "text/plain": [
       "<IPython.core.display.Math object>"
      ]
     },
     "metadata": {},
     "output_type": "display_data"
    },
    {
     "data": {
      "text/latex": [
       "$$\\mathrm H^{0}(X_{B4},\\wedge^{9}T_X)=L\\left( 3\\alpha_{1}+ 6\\alpha_{2}+ 9\\alpha_{3}+ 9\\alpha_{4}\\right)\\oplus L\\left( 4\\alpha_{1}+ 7\\alpha_{2}+ 10\\alpha_{3}+ 11\\alpha_{4}\\right)\\oplus L\\left( 4\\alpha_{1}+ 8\\alpha_{2}+ 10\\alpha_{3}+ 11\\alpha_{4}\\right)\\oplus L\\left( 4\\alpha_{1}+ 8\\alpha_{2}+ 11\\alpha_{3}+ 11\\alpha_{4}\\right)\\oplus L\\left( 5\\alpha_{1}+ 8\\alpha_{2}+ 11\\alpha_{3}+ 11\\alpha_{4}\\right)\\oplus L\\left( 4\\alpha_{1}+ 8\\alpha_{2}+ 11\\alpha_{3}+ 12\\alpha_{4}\\right)\\oplus L\\left( 4\\alpha_{1}+ 8\\alpha_{2}+ 11\\alpha_{3}+ 13\\alpha_{4}\\right)\\oplus L\\left( 5\\alpha_{1}+ 9\\alpha_{2}+ 11\\alpha_{3}+ 12\\alpha_{4}\\right)\\oplus L\\left( 5\\alpha_{1}+ 8\\alpha_{2}+ 11\\alpha_{3}+ 13\\alpha_{4}\\right)\\oplus L\\left( 4\\alpha_{1}+ 8\\alpha_{2}+ 12\\alpha_{3}+ 13\\alpha_{4}\\right)\\oplus L\\left( 5\\alpha_{1}+ 10\\alpha_{2}+ 12\\alpha_{3}+ 12\\alpha_{4}\\right)\\oplus L\\left( 5\\alpha_{1}+ 9\\alpha_{2}+ 12\\alpha_{3}+ 13\\alpha_{4}\\right)\\oplus L\\left( 4\\alpha_{1}+ 8\\alpha_{2}+ 12\\alpha_{3}+ 15\\alpha_{4}\\right)\\oplus L\\left( 5\\alpha_{1}+ 9\\alpha_{2}+ 12\\alpha_{3}+ 14\\alpha_{4}\\right)$$"
      ],
      "text/plain": [
       "<IPython.core.display.Math object>"
      ]
     },
     "metadata": {},
     "output_type": "display_data"
    },
    {
     "data": {
      "text/latex": [
       "$$\\mathrm H^{0}(X_{B4},\\wedge^{10}T_X)=L\\left( 4\\alpha_{1}+ 8\\alpha_{2}+ 11\\alpha_{3}+ 11\\alpha_{4}\\right)\\oplus L\\left( 4\\alpha_{1}+ 8\\alpha_{2}+ 12\\alpha_{3}+ 13\\alpha_{4}\\right)\\oplus L\\left( 5\\alpha_{1}+ 9\\alpha_{2}+ 12\\alpha_{3}+ 13\\alpha_{4}\\right)\\oplus L\\left( 5\\alpha_{1}+ 9\\alpha_{2}+ 13\\alpha_{3}+ 13\\alpha_{4}\\right)\\oplus L\\left( 5\\alpha_{1}+ 10\\alpha_{2}+ 13\\alpha_{3}+ 14\\alpha_{4}\\right)\\oplus L\\left( 5\\alpha_{1}+ 9\\alpha_{2}+ 13\\alpha_{3}+ 15\\alpha_{4}\\right)$$"
      ],
      "text/plain": [
       "<IPython.core.display.Math object>"
      ]
     },
     "metadata": {},
     "output_type": "display_data"
    },
    {
     "data": {
      "text/latex": [
       "$$\\mathrm H^{0}(X_{B4},\\wedge^{11}T_X)=L\\left( 5\\alpha_{1}+ 9\\alpha_{2}+ 13\\alpha_{3}+ 13\\alpha_{4}\\right)\\oplus L\\left( 5\\alpha_{1}+ 10\\alpha_{2}+ 14\\alpha_{3}+ 15\\alpha_{4}\\right)$$"
      ],
      "text/plain": [
       "<IPython.core.display.Math object>"
      ]
     },
     "metadata": {},
     "output_type": "display_data"
    },
    {
     "data": {
      "text/latex": [
       "$$\\mathrm H^{0}(X_{B4},\\wedge^{12}T_X)=L\\left( 5\\alpha_{1}+ 10\\alpha_{2}+ 15\\alpha_{3}+ 15\\alpha_{4}\\right)$$"
      ],
      "text/plain": [
       "<IPython.core.display.Math object>"
      ]
     },
     "metadata": {},
     "output_type": "display_data"
    }
   ],
   "source": [
    "d='B4'\n",
    "BGG = BGGComplex(d)\n",
    "factory = FastModuleFactory(BGG.LA)\n",
    "component_dic = {'u':factory.build_component('u','coad',subset=[1,2,4])}\n",
    "u_dim = len(component_dic['u'].basis)\n",
    "print('dim of u is %d for root system %s' % (u_dim, d))\n",
    "\n",
    "pbar1 = tqdm(range(u_dim+1))\n",
    "pbar2 = tqdm()\n",
    "pbar3 = tqdm()\n",
    "for k in range(u_dim+1):\n",
    "    components = [[('u',k,'wedge')]]\n",
    "    module = FastLieAlgebraCompositeModule(factory,components,component_dic)\n",
    "\n",
    "    cohom = BGGCohomology(BGG, module,pbars=[pbar2,pbar3])\n",
    "\n",
    "    cohom.cohomology_LaTeX(complex_string=r'X_{'+d+r'},\\wedge^{'+str(k)+'}T_X',i=0)"
   ]
  },
  {
   "cell_type": "code",
   "execution_count": 3,
   "metadata": {
    "scrolled": true
   },
   "outputs": [
    {
     "name": "stdout",
     "output_type": "stream",
     "text": [
      "dim of u is 3 for root system A2\n"
     ]
    },
    {
     "data": {
      "application/vnd.jupyter.widget-view+json": {
       "model_id": "d9497708e2db4a74b9f4303fea66fc2b",
       "version_major": 2,
       "version_minor": 0
      },
      "text/plain": [
       "HBox(children=(IntProgress(value=0, max=4), HTML(value=u'')))"
      ]
     },
     "metadata": {},
     "output_type": "display_data"
    },
    {
     "data": {
      "application/vnd.jupyter.widget-view+json": {
       "model_id": "995c15fa642847aa993ffeb68584da64",
       "version_major": 2,
       "version_minor": 0
      },
      "text/plain": [
       "HBox(children=(IntProgress(value=1, bar_style=u'info', max=1), HTML(value=u'')))"
      ]
     },
     "metadata": {},
     "output_type": "display_data"
    },
    {
     "data": {
      "application/vnd.jupyter.widget-view+json": {
       "model_id": "3a6e8cb531e54923a392d6c356c4c290",
       "version_major": 2,
       "version_minor": 0
      },
      "text/plain": [
       "HBox(children=(IntProgress(value=1, bar_style=u'info', max=1), HTML(value=u'')))"
      ]
     },
     "metadata": {},
     "output_type": "display_data"
    },
    {
     "data": {
      "text/latex": [
       "$$\\mathrm H^{0}(X_{A2},\\wedge^{0}T_X)=\\mathbb{C}$$"
      ],
      "text/plain": [
       "<IPython.core.display.Math object>"
      ]
     },
     "metadata": {},
     "output_type": "display_data"
    },
    {
     "data": {
      "text/latex": [
       "$$\\mathrm H^{0}(X_{A2},\\wedge^{1}T_X)=L\\left(\\alpha_{1}+\\alpha_{2}\\right)$$"
      ],
      "text/plain": [
       "<IPython.core.display.Math object>"
      ]
     },
     "metadata": {},
     "output_type": "display_data"
    },
    {
     "data": {
      "text/latex": [
       "$$\\mathrm H^{0}(X_{A2},\\wedge^{2}T_X)=L\\left(\\alpha_{1}+\\alpha_{2}\\right)\\oplus L\\left( 2\\alpha_{1}+\\alpha_{2}\\right)\\oplus L\\left(\\alpha_{1}+ 2\\alpha_{2}\\right)$$"
      ],
      "text/plain": [
       "<IPython.core.display.Math object>"
      ]
     },
     "metadata": {},
     "output_type": "display_data"
    },
    {
     "data": {
      "text/latex": [
       "$$\\mathrm H^{0}(X_{A2},\\wedge^{3}T_X)=L\\left( 2\\alpha_{1}+ 2\\alpha_{2}\\right)$$"
      ],
      "text/plain": [
       "<IPython.core.display.Math object>"
      ]
     },
     "metadata": {},
     "output_type": "display_data"
    },
    {
     "name": "stdout",
     "output_type": "stream",
     "text": [
      "dim of u is 6 for root system A3\n"
     ]
    },
    {
     "data": {
      "application/vnd.jupyter.widget-view+json": {
       "model_id": "4effddec802547ac970f920ca85ab7dc",
       "version_major": 2,
       "version_minor": 0
      },
      "text/plain": [
       "HBox(children=(IntProgress(value=0, max=7), HTML(value=u'')))"
      ]
     },
     "metadata": {},
     "output_type": "display_data"
    },
    {
     "data": {
      "application/vnd.jupyter.widget-view+json": {
       "model_id": "513872e254dd4b22845047e26ca12b2d",
       "version_major": 2,
       "version_minor": 0
      },
      "text/plain": [
       "HBox(children=(IntProgress(value=1, bar_style=u'info', max=1), HTML(value=u'')))"
      ]
     },
     "metadata": {},
     "output_type": "display_data"
    },
    {
     "data": {
      "application/vnd.jupyter.widget-view+json": {
       "model_id": "7f7f0f081a324340ac9d83e1b8db6bc6",
       "version_major": 2,
       "version_minor": 0
      },
      "text/plain": [
       "HBox(children=(IntProgress(value=1, bar_style=u'info', max=1), HTML(value=u'')))"
      ]
     },
     "metadata": {},
     "output_type": "display_data"
    },
    {
     "data": {
      "text/latex": [
       "$$\\mathrm H^{0}(X_{A3},\\wedge^{0}T_X)=\\mathbb{C}$$"
      ],
      "text/plain": [
       "<IPython.core.display.Math object>"
      ]
     },
     "metadata": {},
     "output_type": "display_data"
    },
    {
     "data": {
      "text/latex": [
       "$$\\mathrm H^{0}(X_{A3},\\wedge^{1}T_X)=L\\left(\\alpha_{1}+\\alpha_{2}+\\alpha_{3}\\right)$$"
      ],
      "text/plain": [
       "<IPython.core.display.Math object>"
      ]
     },
     "metadata": {},
     "output_type": "display_data"
    },
    {
     "data": {
      "text/latex": [
       "$$\\mathrm H^{0}(X_{A3},\\wedge^{2}T_X)=L\\left(\\alpha_{1}+\\alpha_{2}+\\alpha_{3}\\right)\\oplus L\\left( 2\\alpha_{1}+ 2\\alpha_{2}+\\alpha_{3}\\right)\\oplus L\\left(\\alpha_{1}+ 2\\alpha_{2}+ 2\\alpha_{3}\\right)$$"
      ],
      "text/plain": [
       "<IPython.core.display.Math object>"
      ]
     },
     "metadata": {},
     "output_type": "display_data"
    },
    {
     "data": {
      "text/latex": [
       "$$\\mathrm H^{0}(X_{A3},\\wedge^{3}T_X)=L\\left(\\alpha_{1}+\\alpha_{2}+\\alpha_{3}\\right)\\oplus L\\left(\\alpha_{1}+ 2\\alpha_{2}+\\alpha_{3}\\right)^{2}\\oplus L\\left( 2\\alpha_{1}+ 2\\alpha_{2}+\\alpha_{3}\\right)\\oplus L\\left(\\alpha_{1}+ 2\\alpha_{2}+ 2\\alpha_{3}\\right)\\oplus L\\left( 3\\alpha_{1}+ 2\\alpha_{2}+\\alpha_{3}\\right)\\oplus L\\left( 2\\alpha_{1}+ 2\\alpha_{2}+ 2\\alpha_{3}\\right)\\oplus L\\left(\\alpha_{1}+ 2\\alpha_{2}+ 3\\alpha_{3}\\right)\\oplus L\\left( 2\\alpha_{1}+ 3\\alpha_{2}+ 2\\alpha_{3}\\right)$$"
      ],
      "text/plain": [
       "<IPython.core.display.Math object>"
      ]
     },
     "metadata": {},
     "output_type": "display_data"
    },
    {
     "data": {
      "text/latex": [
       "$$\\mathrm H^{0}(X_{A3},\\wedge^{4}T_X)=L\\left( 2\\alpha_{1}+ 2\\alpha_{2}+\\alpha_{3}\\right)\\oplus L\\left(\\alpha_{1}+ 2\\alpha_{2}+ 2\\alpha_{3}\\right)\\oplus L\\left( 2\\alpha_{1}+ 2\\alpha_{2}+ 2\\alpha_{3}\\right)^{2}\\oplus L\\left( 2\\alpha_{1}+ 3\\alpha_{2}+ 2\\alpha_{3}\\right)^{2}\\oplus L\\left( 3\\alpha_{1}+ 3\\alpha_{2}+ 2\\alpha_{3}\\right)\\oplus L\\left( 2\\alpha_{1}+ 4\\alpha_{2}+ 2\\alpha_{3}\\right)\\oplus L\\left( 2\\alpha_{1}+ 3\\alpha_{2}+ 3\\alpha_{3}\\right)$$"
      ],
      "text/plain": [
       "<IPython.core.display.Math object>"
      ]
     },
     "metadata": {},
     "output_type": "display_data"
    },
    {
     "data": {
      "text/latex": [
       "$$\\mathrm H^{0}(X_{A3},\\wedge^{5}T_X)=L\\left( 2\\alpha_{1}+ 3\\alpha_{2}+ 2\\alpha_{3}\\right)\\oplus L\\left( 3\\alpha_{1}+ 3\\alpha_{2}+ 2\\alpha_{3}\\right)\\oplus L\\left( 2\\alpha_{1}+ 3\\alpha_{2}+ 3\\alpha_{3}\\right)\\oplus L\\left( 3\\alpha_{1}+ 4\\alpha_{2}+ 2\\alpha_{3}\\right)\\oplus L\\left( 3\\alpha_{1}+ 3\\alpha_{2}+ 3\\alpha_{3}\\right)\\oplus L\\left( 2\\alpha_{1}+ 4\\alpha_{2}+ 3\\alpha_{3}\\right)$$"
      ],
      "text/plain": [
       "<IPython.core.display.Math object>"
      ]
     },
     "metadata": {},
     "output_type": "display_data"
    },
    {
     "data": {
      "text/latex": [
       "$$\\mathrm H^{0}(X_{A3},\\wedge^{6}T_X)=L\\left( 3\\alpha_{1}+ 4\\alpha_{2}+ 3\\alpha_{3}\\right)$$"
      ],
      "text/plain": [
       "<IPython.core.display.Math object>"
      ]
     },
     "metadata": {},
     "output_type": "display_data"
    },
    {
     "name": "stdout",
     "output_type": "stream",
     "text": [
      "dim of u is 6 for root system G2\n"
     ]
    },
    {
     "data": {
      "application/vnd.jupyter.widget-view+json": {
       "model_id": "c6b11e0c6a454cc5a88ba03f19500ab6",
       "version_major": 2,
       "version_minor": 0
      },
      "text/plain": [
       "HBox(children=(IntProgress(value=0, max=7), HTML(value=u'')))"
      ]
     },
     "metadata": {},
     "output_type": "display_data"
    },
    {
     "data": {
      "application/vnd.jupyter.widget-view+json": {
       "model_id": "1a0aec9744b043b88e4110f53f086e39",
       "version_major": 2,
       "version_minor": 0
      },
      "text/plain": [
       "HBox(children=(IntProgress(value=1, bar_style=u'info', max=1), HTML(value=u'')))"
      ]
     },
     "metadata": {},
     "output_type": "display_data"
    },
    {
     "data": {
      "application/vnd.jupyter.widget-view+json": {
       "model_id": "0c639f0c062d4e2db23ec1ca56c117fb",
       "version_major": 2,
       "version_minor": 0
      },
      "text/plain": [
       "HBox(children=(IntProgress(value=1, bar_style=u'info', max=1), HTML(value=u'')))"
      ]
     },
     "metadata": {},
     "output_type": "display_data"
    },
    {
     "data": {
      "text/latex": [
       "$$\\mathrm H^{0}(X_{G2},\\wedge^{0}T_X)=\\mathbb{C}$$"
      ],
      "text/plain": [
       "<IPython.core.display.Math object>"
      ]
     },
     "metadata": {},
     "output_type": "display_data"
    },
    {
     "data": {
      "text/latex": [
       "$$\\mathrm H^{0}(X_{G2},\\wedge^{1}T_X)=L\\left( 3\\alpha_{1}+ 2\\alpha_{2}\\right)$$"
      ],
      "text/plain": [
       "<IPython.core.display.Math object>"
      ]
     },
     "metadata": {},
     "output_type": "display_data"
    },
    {
     "data": {
      "text/latex": [
       "$$\\mathrm H^{0}(X_{G2},\\wedge^{2}T_X)=L\\left( 2\\alpha_{1}+\\alpha_{2}\\right)\\oplus L\\left( 3\\alpha_{1}+ 2\\alpha_{2}\\right)\\oplus L\\left( 6\\alpha_{1}+ 3\\alpha_{2}\\right)$$"
      ],
      "text/plain": [
       "<IPython.core.display.Math object>"
      ]
     },
     "metadata": {},
     "output_type": "display_data"
    },
    {
     "data": {
      "text/latex": [
       "$$\\mathrm H^{0}(X_{G2},\\wedge^{3}T_X)=L\\left( 4\\alpha_{1}+ 2\\alpha_{2}\\right)^{2}\\oplus L\\left( 5\\alpha_{1}+ 3\\alpha_{2}\\right)\\oplus L\\left( 6\\alpha_{1}+ 3\\alpha_{2}\\right)\\oplus L\\left( 6\\alpha_{1}+ 4\\alpha_{2}\\right)\\oplus L\\left( 8\\alpha_{1}+ 4\\alpha_{2}\\right)$$"
      ],
      "text/plain": [
       "<IPython.core.display.Math object>"
      ]
     },
     "metadata": {},
     "output_type": "display_data"
    },
    {
     "data": {
      "text/latex": [
       "$$\\mathrm H^{0}(X_{G2},\\wedge^{4}T_X)=L\\left( 5\\alpha_{1}+ 3\\alpha_{2}\\right)\\oplus L\\left( 6\\alpha_{1}+ 3\\alpha_{2}\\right)\\oplus L\\left( 6\\alpha_{1}+ 4\\alpha_{2}\\right)\\oplus L\\left( 7\\alpha_{1}+ 4\\alpha_{2}\\right)^{2}\\oplus L\\left( 8\\alpha_{1}+ 4\\alpha_{2}\\right)\\oplus L\\left( 9\\alpha_{1}+ 5\\alpha_{2}\\right)$$"
      ],
      "text/plain": [
       "<IPython.core.display.Math object>"
      ]
     },
     "metadata": {},
     "output_type": "display_data"
    },
    {
     "data": {
      "text/latex": [
       "$$\\mathrm H^{0}(X_{G2},\\wedge^{5}T_X)=L\\left( 7\\alpha_{1}+ 4\\alpha_{2}\\right)\\oplus L\\left( 8\\alpha_{1}+ 5\\alpha_{2}\\right)\\oplus L\\left( 9\\alpha_{1}+ 5\\alpha_{2}\\right)\\oplus L\\left( 10\\alpha_{1}+ 5\\alpha_{2}\\right)\\oplus L\\left( 9\\alpha_{1}+ 6\\alpha_{2}\\right)$$"
      ],
      "text/plain": [
       "<IPython.core.display.Math object>"
      ]
     },
     "metadata": {},
     "output_type": "display_data"
    },
    {
     "data": {
      "text/latex": [
       "$$\\mathrm H^{0}(X_{G2},\\wedge^{6}T_X)=L\\left( 10\\alpha_{1}+ 6\\alpha_{2}\\right)$$"
      ],
      "text/plain": [
       "<IPython.core.display.Math object>"
      ]
     },
     "metadata": {},
     "output_type": "display_data"
    },
    {
     "name": "stdout",
     "output_type": "stream",
     "text": [
      "dim of u is 4 for root system B2\n"
     ]
    },
    {
     "data": {
      "application/vnd.jupyter.widget-view+json": {
       "model_id": "e60a60cf173745e2945476240698cd29",
       "version_major": 2,
       "version_minor": 0
      },
      "text/plain": [
       "HBox(children=(IntProgress(value=0, max=5), HTML(value=u'')))"
      ]
     },
     "metadata": {},
     "output_type": "display_data"
    },
    {
     "data": {
      "application/vnd.jupyter.widget-view+json": {
       "model_id": "2fd8ede4ea654958a723ed7f2af4aa4f",
       "version_major": 2,
       "version_minor": 0
      },
      "text/plain": [
       "HBox(children=(IntProgress(value=1, bar_style=u'info', max=1), HTML(value=u'')))"
      ]
     },
     "metadata": {},
     "output_type": "display_data"
    },
    {
     "data": {
      "application/vnd.jupyter.widget-view+json": {
       "model_id": "9570334ce0bf489b9ab4e874e8d8b75a",
       "version_major": 2,
       "version_minor": 0
      },
      "text/plain": [
       "HBox(children=(IntProgress(value=1, bar_style=u'info', max=1), HTML(value=u'')))"
      ]
     },
     "metadata": {},
     "output_type": "display_data"
    },
    {
     "data": {
      "text/latex": [
       "$$\\mathrm H^{0}(X_{B2},\\wedge^{0}T_X)=\\mathbb{C}$$"
      ],
      "text/plain": [
       "<IPython.core.display.Math object>"
      ]
     },
     "metadata": {},
     "output_type": "display_data"
    },
    {
     "data": {
      "text/latex": [
       "$$\\mathrm H^{0}(X_{B2},\\wedge^{1}T_X)=L\\left(\\alpha_{1}+ 2\\alpha_{2}\\right)$$"
      ],
      "text/plain": [
       "<IPython.core.display.Math object>"
      ]
     },
     "metadata": {},
     "output_type": "display_data"
    },
    {
     "data": {
      "text/latex": [
       "$$\\mathrm H^{0}(X_{B2},\\wedge^{2}T_X)=L\\left(\\alpha_{1}+\\alpha_{2}\\right)\\oplus L\\left(\\alpha_{1}+ 2\\alpha_{2}\\right)\\oplus L\\left( 2\\alpha_{1}+ 3\\alpha_{2}\\right)$$"
      ],
      "text/plain": [
       "<IPython.core.display.Math object>"
      ]
     },
     "metadata": {},
     "output_type": "display_data"
    },
    {
     "data": {
      "text/latex": [
       "$$\\mathrm H^{0}(X_{B2},\\wedge^{3}T_X)=L\\left( 2\\alpha_{1}+ 2\\alpha_{2}\\right)\\oplus L\\left( 2\\alpha_{1}+ 3\\alpha_{2}\\right)\\oplus L\\left( 3\\alpha_{1}+ 3\\alpha_{2}\\right)\\oplus L\\left( 2\\alpha_{1}+ 4\\alpha_{2}\\right)$$"
      ],
      "text/plain": [
       "<IPython.core.display.Math object>"
      ]
     },
     "metadata": {},
     "output_type": "display_data"
    },
    {
     "data": {
      "text/latex": [
       "$$\\mathrm H^{0}(X_{B2},\\wedge^{4}T_X)=L\\left( 3\\alpha_{1}+ 4\\alpha_{2}\\right)$$"
      ],
      "text/plain": [
       "<IPython.core.display.Math object>"
      ]
     },
     "metadata": {},
     "output_type": "display_data"
    },
    {
     "name": "stdout",
     "output_type": "stream",
     "text": [
      "dim of u is 10 for root system A4\n"
     ]
    },
    {
     "data": {
      "application/vnd.jupyter.widget-view+json": {
       "model_id": "afad8a7b62914c7c86c08f0411204ba8",
       "version_major": 2,
       "version_minor": 0
      },
      "text/plain": [
       "HBox(children=(IntProgress(value=0, max=11), HTML(value=u'')))"
      ]
     },
     "metadata": {},
     "output_type": "display_data"
    },
    {
     "data": {
      "application/vnd.jupyter.widget-view+json": {
       "model_id": "5d280ed4b3b442818fb38a2b745774e6",
       "version_major": 2,
       "version_minor": 0
      },
      "text/plain": [
       "HBox(children=(IntProgress(value=1, bar_style=u'info', max=1), HTML(value=u'')))"
      ]
     },
     "metadata": {},
     "output_type": "display_data"
    },
    {
     "data": {
      "application/vnd.jupyter.widget-view+json": {
       "model_id": "bbd072a722d8408681b9fb83e62590d6",
       "version_major": 2,
       "version_minor": 0
      },
      "text/plain": [
       "HBox(children=(IntProgress(value=1, bar_style=u'info', max=1), HTML(value=u'')))"
      ]
     },
     "metadata": {},
     "output_type": "display_data"
    },
    {
     "data": {
      "text/latex": [
       "$$\\mathrm H^{0}(X_{A4},\\wedge^{0}T_X)=\\mathbb{C}$$"
      ],
      "text/plain": [
       "<IPython.core.display.Math object>"
      ]
     },
     "metadata": {},
     "output_type": "display_data"
    },
    {
     "data": {
      "text/latex": [
       "$$\\mathrm H^{0}(X_{A4},\\wedge^{1}T_X)=L\\left(\\alpha_{1}+\\alpha_{2}+\\alpha_{3}+\\alpha_{4}\\right)$$"
      ],
      "text/plain": [
       "<IPython.core.display.Math object>"
      ]
     },
     "metadata": {},
     "output_type": "display_data"
    },
    {
     "data": {
      "text/latex": [
       "$$\\mathrm H^{0}(X_{A4},\\wedge^{2}T_X)=L\\left(\\alpha_{1}+\\alpha_{2}+\\alpha_{3}+\\alpha_{4}\\right)\\oplus L\\left( 2\\alpha_{1}+ 2\\alpha_{2}+ 2\\alpha_{3}+\\alpha_{4}\\right)\\oplus L\\left(\\alpha_{1}+ 2\\alpha_{2}+ 2\\alpha_{3}+ 2\\alpha_{4}\\right)$$"
      ],
      "text/plain": [
       "<IPython.core.display.Math object>"
      ]
     },
     "metadata": {},
     "output_type": "display_data"
    },
    {
     "data": {
      "text/latex": [
       "$$\\mathrm H^{0}(X_{A4},\\wedge^{3}T_X)=L\\left(\\alpha_{1}+\\alpha_{2}+\\alpha_{3}+\\alpha_{4}\\right)\\oplus L\\left(\\alpha_{1}+ 2\\alpha_{2}+ 2\\alpha_{3}+\\alpha_{4}\\right)\\oplus L\\left( 2\\alpha_{1}+ 2\\alpha_{2}+ 2\\alpha_{3}+\\alpha_{4}\\right)\\oplus L\\left(\\alpha_{1}+ 2\\alpha_{2}+ 2\\alpha_{3}+ 2\\alpha_{4}\\right)\\oplus L\\left( 2\\alpha_{1}+ 2\\alpha_{2}+ 2\\alpha_{3}+ 2\\alpha_{4}\\right)\\oplus L\\left( 3\\alpha_{1}+ 3\\alpha_{2}+ 2\\alpha_{3}+\\alpha_{4}\\right)\\oplus L\\left(\\alpha_{1}+ 2\\alpha_{2}+ 3\\alpha_{3}+ 3\\alpha_{4}\\right)\\oplus L\\left( 2\\alpha_{1}+ 3\\alpha_{2}+ 3\\alpha_{3}+ 2\\alpha_{4}\\right)$$"
      ],
      "text/plain": [
       "<IPython.core.display.Math object>"
      ]
     },
     "metadata": {},
     "output_type": "display_data"
    },
    {
     "data": {
      "text/latex": [
       "$$\\mathrm H^{0}(X_{A4},\\wedge^{4}T_X)=L\\left(\\alpha_{1}+\\alpha_{2}+\\alpha_{3}+\\alpha_{4}\\right)\\oplus L\\left(\\alpha_{1}+ 2\\alpha_{2}+ 2\\alpha_{3}+\\alpha_{4}\\right)^{3}\\oplus L\\left( 2\\alpha_{1}+ 2\\alpha_{2}+ 2\\alpha_{3}+\\alpha_{4}\\right)\\oplus L\\left(\\alpha_{1}+ 2\\alpha_{2}+ 2\\alpha_{3}+ 2\\alpha_{4}\\right)\\oplus L\\left( 2\\alpha_{1}+ 3\\alpha_{2}+ 2\\alpha_{3}+\\alpha_{4}\\right)^{2}\\oplus L\\left( 2\\alpha_{1}+ 2\\alpha_{2}+ 2\\alpha_{3}+ 2\\alpha_{4}\\right)^{2}\\oplus L\\left(\\alpha_{1}+ 2\\alpha_{2}+ 3\\alpha_{3}+ 2\\alpha_{4}\\right)^{2}\\oplus L\\left( 3\\alpha_{1}+ 3\\alpha_{2}+ 2\\alpha_{3}+\\alpha_{4}\\right)\\oplus L\\left(\\alpha_{1}+ 2\\alpha_{2}+ 3\\alpha_{3}+ 3\\alpha_{4}\\right)\\oplus L\\left( 4\\alpha_{1}+ 3\\alpha_{2}+ 2\\alpha_{3}+\\alpha_{4}\\right)\\oplus L\\left( 2\\alpha_{1}+ 3\\alpha_{2}+ 3\\alpha_{3}+ 2\\alpha_{4}\\right)^{2}\\oplus L\\left(\\alpha_{1}+ 2\\alpha_{2}+ 3\\alpha_{3}+ 4\\alpha_{4}\\right)\\oplus L\\left( 3\\alpha_{1}+ 3\\alpha_{2}+ 3\\alpha_{3}+ 2\\alpha_{4}\\right)\\oplus L\\left( 2\\alpha_{1}+ 3\\alpha_{2}+ 3\\alpha_{3}+ 3\\alpha_{4}\\right)\\oplus L\\left( 3\\alpha_{1}+ 4\\alpha_{2}+ 3\\alpha_{3}+ 2\\alpha_{4}\\right)\\oplus L\\left( 2\\alpha_{1}+ 4\\alpha_{2}+ 4\\alpha_{3}+ 2\\alpha_{4}\\right)\\oplus L\\left( 2\\alpha_{1}+ 3\\alpha_{2}+ 4\\alpha_{3}+ 3\\alpha_{4}\\right)$$"
      ],
      "text/plain": [
       "<IPython.core.display.Math object>"
      ]
     },
     "metadata": {},
     "output_type": "display_data"
    },
    {
     "data": {
      "text/latex": [
       "$$\\mathrm H^{0}(X_{A4},\\wedge^{5}T_X)=L\\left(\\alpha_{1}+ 2\\alpha_{2}+ 2\\alpha_{3}+\\alpha_{4}\\right)\\oplus L\\left( 2\\alpha_{1}+ 2\\alpha_{2}+ 2\\alpha_{3}+\\alpha_{4}\\right)^{3}\\oplus L\\left(\\alpha_{1}+ 2\\alpha_{2}+ 2\\alpha_{3}+ 2\\alpha_{4}\\right)^{3}\\oplus L\\left( 2\\alpha_{1}+ 3\\alpha_{2}+ 2\\alpha_{3}+\\alpha_{4}\\right)^{2}\\oplus L\\left( 2\\alpha_{1}+ 2\\alpha_{2}+ 2\\alpha_{3}+ 2\\alpha_{4}\\right)^{2}\\oplus L\\left(\\alpha_{1}+ 2\\alpha_{2}+ 3\\alpha_{3}+ 2\\alpha_{4}\\right)^{2}\\oplus L\\left( 3\\alpha_{1}+ 3\\alpha_{2}+ 2\\alpha_{3}+\\alpha_{4}\\right)\\oplus L\\left(\\alpha_{1}+ 2\\alpha_{2}+ 3\\alpha_{3}+ 3\\alpha_{4}\\right)\\oplus L\\left( 2\\alpha_{1}+ 3\\alpha_{2}+ 3\\alpha_{3}+ 2\\alpha_{4}\\right)^{6}\\oplus L\\left( 3\\alpha_{1}+ 3\\alpha_{2}+ 3\\alpha_{3}+ 2\\alpha_{4}\\right)^{2}\\oplus L\\left( 2\\alpha_{1}+ 4\\alpha_{2}+ 3\\alpha_{3}+ 2\\alpha_{4}\\right)^{2}\\oplus L\\left( 2\\alpha_{1}+ 3\\alpha_{2}+ 4\\alpha_{3}+ 2\\alpha_{4}\\right)^{2}\\oplus L\\left( 2\\alpha_{1}+ 3\\alpha_{2}+ 3\\alpha_{3}+ 3\\alpha_{4}\\right)^{2}\\oplus L\\left( 3\\alpha_{1}+ 4\\alpha_{2}+ 3\\alpha_{3}+ 2\\alpha_{4}\\right)^{2}\\oplus L\\left( 2\\alpha_{1}+ 4\\alpha_{2}+ 4\\alpha_{3}+ 2\\alpha_{4}\\right)\\oplus L\\left( 3\\alpha_{1}+ 3\\alpha_{2}+ 3\\alpha_{3}+ 3\\alpha_{4}\\right)\\oplus L\\left( 2\\alpha_{1}+ 3\\alpha_{2}+ 4\\alpha_{3}+ 3\\alpha_{4}\\right)^{2}\\oplus L\\left( 4\\alpha_{1}+ 4\\alpha_{2}+ 3\\alpha_{3}+ 2\\alpha_{4}\\right)\\oplus L\\left( 3\\alpha_{1}+ 4\\alpha_{2}+ 4\\alpha_{3}+ 2\\alpha_{4}\\right)\\oplus L\\left( 2\\alpha_{1}+ 4\\alpha_{2}+ 4\\alpha_{3}+ 3\\alpha_{4}\\right)\\oplus L\\left( 2\\alpha_{1}+ 3\\alpha_{2}+ 4\\alpha_{3}+ 4\\alpha_{4}\\right)\\oplus L\\left( 3\\alpha_{1}+ 5\\alpha_{2}+ 4\\alpha_{3}+ 2\\alpha_{4}\\right)\\oplus L\\left( 3\\alpha_{1}+ 4\\alpha_{2}+ 4\\alpha_{3}+ 3\\alpha_{4}\\right)\\oplus L\\left( 2\\alpha_{1}+ 4\\alpha_{2}+ 5\\alpha_{3}+ 3\\alpha_{4}\\right)$$"
      ],
      "text/plain": [
       "<IPython.core.display.Math object>"
      ]
     },
     "metadata": {},
     "output_type": "display_data"
    },
    {
     "data": {
      "text/latex": [
       "$$\\mathrm H^{0}(X_{A4},\\wedge^{6}T_X)=L\\left( 2\\alpha_{1}+ 3\\alpha_{2}+ 2\\alpha_{3}+\\alpha_{4}\\right)\\oplus L\\left( 2\\alpha_{1}+ 2\\alpha_{2}+ 2\\alpha_{3}+ 2\\alpha_{4}\\right)\\oplus L\\left(\\alpha_{1}+ 2\\alpha_{2}+ 3\\alpha_{3}+ 2\\alpha_{4}\\right)\\oplus L\\left( 3\\alpha_{1}+ 3\\alpha_{2}+ 2\\alpha_{3}+\\alpha_{4}\\right)\\oplus L\\left(\\alpha_{1}+ 2\\alpha_{2}+ 3\\alpha_{3}+ 3\\alpha_{4}\\right)\\oplus L\\left( 2\\alpha_{1}+ 3\\alpha_{2}+ 3\\alpha_{3}+ 2\\alpha_{4}\\right)^{6}\\oplus L\\left( 3\\alpha_{1}+ 3\\alpha_{2}+ 3\\alpha_{3}+ 2\\alpha_{4}\\right)^{4}\\oplus L\\left( 2\\alpha_{1}+ 4\\alpha_{2}+ 3\\alpha_{3}+ 2\\alpha_{4}\\right)^{3}\\oplus L\\left( 2\\alpha_{1}+ 3\\alpha_{2}+ 4\\alpha_{3}+ 2\\alpha_{4}\\right)^{3}\\oplus L\\left( 2\\alpha_{1}+ 3\\alpha_{2}+ 3\\alpha_{3}+ 3\\alpha_{4}\\right)^{4}\\oplus L\\left( 3\\alpha_{1}+ 4\\alpha_{2}+ 3\\alpha_{3}+ 2\\alpha_{4}\\right)^{3}\\oplus L\\left( 2\\alpha_{1}+ 4\\alpha_{2}+ 4\\alpha_{3}+ 2\\alpha_{4}\\right)^{2}\\oplus L\\left( 3\\alpha_{1}+ 3\\alpha_{2}+ 3\\alpha_{3}+ 3\\alpha_{4}\\right)^{2}\\oplus L\\left( 2\\alpha_{1}+ 3\\alpha_{2}+ 4\\alpha_{3}+ 3\\alpha_{4}\\right)^{3}\\oplus L\\left( 4\\alpha_{1}+ 4\\alpha_{2}+ 3\\alpha_{3}+ 2\\alpha_{4}\\right)\\oplus L\\left( 3\\alpha_{1}+ 4\\alpha_{2}+ 4\\alpha_{3}+ 2\\alpha_{4}\\right)^{4}\\oplus L\\left( 2\\alpha_{1}+ 4\\alpha_{2}+ 4\\alpha_{3}+ 3\\alpha_{4}\\right)^{4}\\oplus L\\left( 2\\alpha_{1}+ 3\\alpha_{2}+ 4\\alpha_{3}+ 4\\alpha_{4}\\right)\\oplus L\\left( 3\\alpha_{1}+ 5\\alpha_{2}+ 4\\alpha_{3}+ 2\\alpha_{4}\\right)^{2}\\oplus L\\left( 3\\alpha_{1}+ 4\\alpha_{2}+ 4\\alpha_{3}+ 3\\alpha_{4}\\right)^{3}\\oplus L\\left( 2\\alpha_{1}+ 4\\alpha_{2}+ 5\\alpha_{3}+ 3\\alpha_{4}\\right)^{2}\\oplus L\\left( 4\\alpha_{1}+ 5\\alpha_{2}+ 4\\alpha_{3}+ 2\\alpha_{4}\\right)\\oplus L\\left( 3\\alpha_{1}+ 6\\alpha_{2}+ 4\\alpha_{3}+ 2\\alpha_{4}\\right)\\oplus L\\left( 4\\alpha_{1}+ 4\\alpha_{2}+ 4\\alpha_{3}+ 3\\alpha_{4}\\right)\\oplus L\\left( 3\\alpha_{1}+ 5\\alpha_{2}+ 4\\alpha_{3}+ 3\\alpha_{4}\\right)\\oplus L\\left( 3\\alpha_{1}+ 4\\alpha_{2}+ 5\\alpha_{3}+ 3\\alpha_{4}\\right)\\oplus L\\left( 2\\alpha_{1}+ 4\\alpha_{2}+ 6\\alpha_{3}+ 3\\alpha_{4}\\right)\\oplus L\\left( 3\\alpha_{1}+ 4\\alpha_{2}+ 4\\alpha_{3}+ 4\\alpha_{4}\\right)\\oplus L\\left( 2\\alpha_{1}+ 4\\alpha_{2}+ 5\\alpha_{3}+ 4\\alpha_{4}\\right)\\oplus L\\left( 3\\alpha_{1}+ 5\\alpha_{2}+ 5\\alpha_{3}+ 3\\alpha_{4}\\right)$$"
      ],
      "text/plain": [
       "<IPython.core.display.Math object>"
      ]
     },
     "metadata": {},
     "output_type": "display_data"
    },
    {
     "data": {
      "text/latex": [
       "$$\\mathrm H^{0}(X_{A4},\\wedge^{7}T_X)=L\\left( 2\\alpha_{1}+ 3\\alpha_{2}+ 3\\alpha_{3}+ 2\\alpha_{4}\\right)\\oplus L\\left( 3\\alpha_{1}+ 3\\alpha_{2}+ 3\\alpha_{3}+ 2\\alpha_{4}\\right)\\oplus L\\left( 2\\alpha_{1}+ 4\\alpha_{2}+ 3\\alpha_{3}+ 2\\alpha_{4}\\right)\\oplus L\\left( 2\\alpha_{1}+ 3\\alpha_{2}+ 4\\alpha_{3}+ 2\\alpha_{4}\\right)\\oplus L\\left( 2\\alpha_{1}+ 3\\alpha_{2}+ 3\\alpha_{3}+ 3\\alpha_{4}\\right)\\oplus L\\left( 3\\alpha_{1}+ 4\\alpha_{2}+ 3\\alpha_{3}+ 2\\alpha_{4}\\right)^{3}\\oplus L\\left( 2\\alpha_{1}+ 4\\alpha_{2}+ 4\\alpha_{3}+ 2\\alpha_{4}\\right)^{3}\\oplus L\\left( 3\\alpha_{1}+ 3\\alpha_{2}+ 3\\alpha_{3}+ 3\\alpha_{4}\\right)\\oplus L\\left( 2\\alpha_{1}+ 3\\alpha_{2}+ 4\\alpha_{3}+ 3\\alpha_{4}\\right)^{3}\\oplus L\\left( 4\\alpha_{1}+ 4\\alpha_{2}+ 3\\alpha_{3}+ 2\\alpha_{4}\\right)\\oplus L\\left( 3\\alpha_{1}+ 4\\alpha_{2}+ 4\\alpha_{3}+ 2\\alpha_{4}\\right)^{3}\\oplus L\\left( 2\\alpha_{1}+ 4\\alpha_{2}+ 4\\alpha_{3}+ 3\\alpha_{4}\\right)^{3}\\oplus L\\left( 2\\alpha_{1}+ 3\\alpha_{2}+ 4\\alpha_{3}+ 4\\alpha_{4}\\right)\\oplus L\\left( 4\\alpha_{1}+ 4\\alpha_{2}+ 4\\alpha_{3}+ 2\\alpha_{4}\\right)^{2}\\oplus L\\left( 3\\alpha_{1}+ 5\\alpha_{2}+ 4\\alpha_{3}+ 2\\alpha_{4}\\right)^{2}\\oplus L\\left( 3\\alpha_{1}+ 4\\alpha_{2}+ 4\\alpha_{3}+ 3\\alpha_{4}\\right)^{6}\\oplus L\\left( 2\\alpha_{1}+ 4\\alpha_{2}+ 5\\alpha_{3}+ 3\\alpha_{4}\\right)^{2}\\oplus L\\left( 2\\alpha_{1}+ 4\\alpha_{2}+ 4\\alpha_{3}+ 4\\alpha_{4}\\right)^{2}\\oplus L\\left( 4\\alpha_{1}+ 5\\alpha_{2}+ 4\\alpha_{3}+ 2\\alpha_{4}\\right)\\oplus L\\left( 4\\alpha_{1}+ 4\\alpha_{2}+ 4\\alpha_{3}+ 3\\alpha_{4}\\right)\\oplus L\\left( 3\\alpha_{1}+ 5\\alpha_{2}+ 4\\alpha_{3}+ 3\\alpha_{4}\\right)^{3}\\oplus L\\left( 3\\alpha_{1}+ 4\\alpha_{2}+ 5\\alpha_{3}+ 3\\alpha_{4}\\right)^{3}\\oplus L\\left( 3\\alpha_{1}+ 4\\alpha_{2}+ 4\\alpha_{3}+ 4\\alpha_{4}\\right)\\oplus L\\left( 2\\alpha_{1}+ 4\\alpha_{2}+ 5\\alpha_{3}+ 4\\alpha_{4}\\right)\\oplus L\\left( 4\\alpha_{1}+ 6\\alpha_{2}+ 4\\alpha_{3}+ 2\\alpha_{4}\\right)\\oplus L\\left( 4\\alpha_{1}+ 5\\alpha_{2}+ 4\\alpha_{3}+ 3\\alpha_{4}\\right)\\oplus L\\left( 3\\alpha_{1}+ 5\\alpha_{2}+ 5\\alpha_{3}+ 3\\alpha_{4}\\right)^{3}\\oplus L\\left( 4\\alpha_{1}+ 4\\alpha_{2}+ 4\\alpha_{3}+ 4\\alpha_{4}\\right)\\oplus L\\left( 3\\alpha_{1}+ 4\\alpha_{2}+ 5\\alpha_{3}+ 4\\alpha_{4}\\right)\\oplus L\\left( 2\\alpha_{1}+ 4\\alpha_{2}+ 6\\alpha_{3}+ 4\\alpha_{4}\\right)\\oplus L\\left( 4\\alpha_{1}+ 5\\alpha_{2}+ 5\\alpha_{3}+ 3\\alpha_{4}\\right)\\oplus L\\left( 3\\alpha_{1}+ 6\\alpha_{2}+ 5\\alpha_{3}+ 3\\alpha_{4}\\right)\\oplus L\\left( 3\\alpha_{1}+ 5\\alpha_{2}+ 6\\alpha_{3}+ 3\\alpha_{4}\\right)\\oplus L\\left( 3\\alpha_{1}+ 5\\alpha_{2}+ 5\\alpha_{3}+ 4\\alpha_{4}\\right)$$"
      ],
      "text/plain": [
       "<IPython.core.display.Math object>"
      ]
     },
     "metadata": {},
     "output_type": "display_data"
    },
    {
     "data": {
      "text/latex": [
       "$$\\mathrm H^{0}(X_{A4},\\wedge^{8}T_X)=L\\left( 3\\alpha_{1}+ 4\\alpha_{2}+ 4\\alpha_{3}+ 2\\alpha_{4}\\right)\\oplus L\\left( 2\\alpha_{1}+ 4\\alpha_{2}+ 4\\alpha_{3}+ 3\\alpha_{4}\\right)\\oplus L\\left( 3\\alpha_{1}+ 5\\alpha_{2}+ 4\\alpha_{3}+ 2\\alpha_{4}\\right)\\oplus L\\left( 3\\alpha_{1}+ 4\\alpha_{2}+ 4\\alpha_{3}+ 3\\alpha_{4}\\right)^{2}\\oplus L\\left( 2\\alpha_{1}+ 4\\alpha_{2}+ 5\\alpha_{3}+ 3\\alpha_{4}\\right)\\oplus L\\left( 4\\alpha_{1}+ 5\\alpha_{2}+ 4\\alpha_{3}+ 2\\alpha_{4}\\right)\\oplus L\\left( 4\\alpha_{1}+ 4\\alpha_{2}+ 4\\alpha_{3}+ 3\\alpha_{4}\\right)\\oplus L\\left( 3\\alpha_{1}+ 5\\alpha_{2}+ 4\\alpha_{3}+ 3\\alpha_{4}\\right)^{2}\\oplus L\\left( 3\\alpha_{1}+ 4\\alpha_{2}+ 5\\alpha_{3}+ 3\\alpha_{4}\\right)^{2}\\oplus L\\left( 3\\alpha_{1}+ 4\\alpha_{2}+ 4\\alpha_{3}+ 4\\alpha_{4}\\right)\\oplus L\\left( 2\\alpha_{1}+ 4\\alpha_{2}+ 5\\alpha_{3}+ 4\\alpha_{4}\\right)\\oplus L\\left( 4\\alpha_{1}+ 5\\alpha_{2}+ 4\\alpha_{3}+ 3\\alpha_{4}\\right)^{2}\\oplus L\\left( 3\\alpha_{1}+ 5\\alpha_{2}+ 5\\alpha_{3}+ 3\\alpha_{4}\\right)^{3}\\oplus L\\left( 3\\alpha_{1}+ 4\\alpha_{2}+ 5\\alpha_{3}+ 4\\alpha_{4}\\right)^{2}\\oplus L\\left( 4\\alpha_{1}+ 5\\alpha_{2}+ 5\\alpha_{3}+ 3\\alpha_{4}\\right)^{2}\\oplus L\\left( 3\\alpha_{1}+ 6\\alpha_{2}+ 5\\alpha_{3}+ 3\\alpha_{4}\\right)\\oplus L\\left( 3\\alpha_{1}+ 5\\alpha_{2}+ 6\\alpha_{3}+ 3\\alpha_{4}\\right)\\oplus L\\left( 3\\alpha_{1}+ 5\\alpha_{2}+ 5\\alpha_{3}+ 4\\alpha_{4}\\right)^{2}\\oplus L\\left( 4\\alpha_{1}+ 6\\alpha_{2}+ 5\\alpha_{3}+ 3\\alpha_{4}\\right)\\oplus L\\left( 4\\alpha_{1}+ 5\\alpha_{2}+ 6\\alpha_{3}+ 3\\alpha_{4}\\right)\\oplus L\\left( 3\\alpha_{1}+ 6\\alpha_{2}+ 6\\alpha_{3}+ 3\\alpha_{4}\\right)\\oplus L\\left( 4\\alpha_{1}+ 5\\alpha_{2}+ 5\\alpha_{3}+ 4\\alpha_{4}\\right)\\oplus L\\left( 3\\alpha_{1}+ 6\\alpha_{2}+ 5\\alpha_{3}+ 4\\alpha_{4}\\right)\\oplus L\\left( 3\\alpha_{1}+ 5\\alpha_{2}+ 6\\alpha_{3}+ 4\\alpha_{4}\\right)$$"
      ],
      "text/plain": [
       "<IPython.core.display.Math object>"
      ]
     },
     "metadata": {},
     "output_type": "display_data"
    },
    {
     "data": {
      "text/latex": [
       "$$\\mathrm H^{0}(X_{A4},\\wedge^{9}T_X)=L\\left( 3\\alpha_{1}+ 5\\alpha_{2}+ 5\\alpha_{3}+ 3\\alpha_{4}\\right)\\oplus L\\left( 4\\alpha_{1}+ 5\\alpha_{2}+ 5\\alpha_{3}+ 3\\alpha_{4}\\right)\\oplus L\\left( 3\\alpha_{1}+ 5\\alpha_{2}+ 5\\alpha_{3}+ 4\\alpha_{4}\\right)\\oplus L\\left( 4\\alpha_{1}+ 6\\alpha_{2}+ 5\\alpha_{3}+ 3\\alpha_{4}\\right)\\oplus L\\left( 4\\alpha_{1}+ 5\\alpha_{2}+ 5\\alpha_{3}+ 4\\alpha_{4}\\right)\\oplus L\\left( 3\\alpha_{1}+ 5\\alpha_{2}+ 6\\alpha_{3}+ 4\\alpha_{4}\\right)\\oplus L\\left( 4\\alpha_{1}+ 6\\alpha_{2}+ 6\\alpha_{3}+ 3\\alpha_{4}\\right)\\oplus L\\left( 4\\alpha_{1}+ 6\\alpha_{2}+ 5\\alpha_{3}+ 4\\alpha_{4}\\right)\\oplus L\\left( 4\\alpha_{1}+ 5\\alpha_{2}+ 6\\alpha_{3}+ 4\\alpha_{4}\\right)\\oplus L\\left( 3\\alpha_{1}+ 6\\alpha_{2}+ 6\\alpha_{3}+ 4\\alpha_{4}\\right)$$"
      ],
      "text/plain": [
       "<IPython.core.display.Math object>"
      ]
     },
     "metadata": {},
     "output_type": "display_data"
    },
    {
     "data": {
      "text/latex": [
       "$$\\mathrm H^{0}(X_{A4},\\wedge^{10}T_X)=L\\left( 4\\alpha_{1}+ 6\\alpha_{2}+ 6\\alpha_{3}+ 4\\alpha_{4}\\right)$$"
      ],
      "text/plain": [
       "<IPython.core.display.Math object>"
      ]
     },
     "metadata": {},
     "output_type": "display_data"
    },
    {
     "name": "stdout",
     "output_type": "stream",
     "text": [
      "dim of u is 9 for root system B3\n"
     ]
    },
    {
     "data": {
      "application/vnd.jupyter.widget-view+json": {
       "model_id": "4ad5a6d6218443c2a12cf0f2c4342e41",
       "version_major": 2,
       "version_minor": 0
      },
      "text/plain": [
       "HBox(children=(IntProgress(value=0, max=10), HTML(value=u'')))"
      ]
     },
     "metadata": {},
     "output_type": "display_data"
    },
    {
     "data": {
      "application/vnd.jupyter.widget-view+json": {
       "model_id": "8ada81281cf84b76a9180957993590e5",
       "version_major": 2,
       "version_minor": 0
      },
      "text/plain": [
       "HBox(children=(IntProgress(value=1, bar_style=u'info', max=1), HTML(value=u'')))"
      ]
     },
     "metadata": {},
     "output_type": "display_data"
    },
    {
     "data": {
      "application/vnd.jupyter.widget-view+json": {
       "model_id": "405bccd2855c4a84a210f977b0590fb8",
       "version_major": 2,
       "version_minor": 0
      },
      "text/plain": [
       "HBox(children=(IntProgress(value=1, bar_style=u'info', max=1), HTML(value=u'')))"
      ]
     },
     "metadata": {},
     "output_type": "display_data"
    },
    {
     "data": {
      "text/latex": [
       "$$\\mathrm H^{0}(X_{B3},\\wedge^{0}T_X)=\\mathbb{C}$$"
      ],
      "text/plain": [
       "<IPython.core.display.Math object>"
      ]
     },
     "metadata": {},
     "output_type": "display_data"
    },
    {
     "data": {
      "text/latex": [
       "$$\\mathrm H^{0}(X_{B3},\\wedge^{1}T_X)=L\\left(\\alpha_{1}+ 2\\alpha_{2}+ 2\\alpha_{3}\\right)$$"
      ],
      "text/plain": [
       "<IPython.core.display.Math object>"
      ]
     },
     "metadata": {},
     "output_type": "display_data"
    },
    {
     "data": {
      "text/latex": [
       "$$\\mathrm H^{0}(X_{B3},\\wedge^{2}T_X)=L\\left(\\alpha_{1}+ 2\\alpha_{2}+ 2\\alpha_{3}\\right)\\oplus L\\left( 2\\alpha_{1}+ 3\\alpha_{2}+ 4\\alpha_{3}\\right)$$"
      ],
      "text/plain": [
       "<IPython.core.display.Math object>"
      ]
     },
     "metadata": {},
     "output_type": "display_data"
    },
    {
     "data": {
      "text/latex": [
       "$$\\mathrm H^{0}(X_{B3},\\wedge^{3}T_X)=L\\left(\\alpha_{1}+\\alpha_{2}+\\alpha_{3}\\right)\\oplus L\\left( 2\\alpha_{1}+ 2\\alpha_{2}+ 2\\alpha_{3}\\right)\\oplus L\\left(\\alpha_{1}+ 2\\alpha_{2}+ 3\\alpha_{3}\\right)^{2}\\oplus L\\left( 2\\alpha_{1}+ 3\\alpha_{2}+ 4\\alpha_{3}\\right)\\oplus L\\left( 2\\alpha_{1}+ 4\\alpha_{2}+ 4\\alpha_{3}\\right)\\oplus L\\left( 3\\alpha_{1}+ 4\\alpha_{2}+ 5\\alpha_{3}\\right)\\oplus L\\left( 2\\alpha_{1}+ 4\\alpha_{2}+ 6\\alpha_{3}\\right)$$"
      ],
      "text/plain": [
       "<IPython.core.display.Math object>"
      ]
     },
     "metadata": {},
     "output_type": "display_data"
    },
    {
     "data": {
      "text/latex": [
       "$$\\mathrm H^{0}(X_{B3},\\wedge^{4}T_X)=L\\left(\\alpha_{1}+ 2\\alpha_{2}+ 2\\alpha_{3}\\right)\\oplus L\\left( 2\\alpha_{1}+ 2\\alpha_{2}+ 2\\alpha_{3}\\right)\\oplus L\\left(\\alpha_{1}+ 2\\alpha_{2}+ 3\\alpha_{3}\\right)\\oplus L\\left( 2\\alpha_{1}+ 3\\alpha_{2}+ 3\\alpha_{3}\\right)^{3}\\oplus L\\left( 3\\alpha_{1}+ 3\\alpha_{2}+ 3\\alpha_{3}\\right)\\oplus L\\left( 2\\alpha_{1}+ 3\\alpha_{2}+ 4\\alpha_{3}\\right)^{2}\\oplus L\\left( 2\\alpha_{1}+ 4\\alpha_{2}+ 4\\alpha_{3}\\right)\\oplus L\\left( 3\\alpha_{1}+ 4\\alpha_{2}+ 4\\alpha_{3}\\right)\\oplus L\\left( 2\\alpha_{1}+ 4\\alpha_{2}+ 5\\alpha_{3}\\right)^{2}\\oplus L\\left( 3\\alpha_{1}+ 4\\alpha_{2}+ 5\\alpha_{3}\\right)\\oplus L\\left( 2\\alpha_{1}+ 4\\alpha_{2}+ 6\\alpha_{3}\\right)\\oplus L\\left( 4\\alpha_{1}+ 5\\alpha_{2}+ 5\\alpha_{3}\\right)\\oplus L\\left( 3\\alpha_{1}+ 5\\alpha_{2}+ 6\\alpha_{3}\\right)\\oplus L\\left( 3\\alpha_{1}+ 5\\alpha_{2}+ 7\\alpha_{3}\\right)$$"
      ],
      "text/plain": [
       "<IPython.core.display.Math object>"
      ]
     },
     "metadata": {},
     "output_type": "display_data"
    },
    {
     "data": {
      "text/latex": [
       "$$\\mathrm H^{0}(X_{B3},\\wedge^{5}T_X)=L\\left( 2\\alpha_{1}+ 3\\alpha_{2}+ 3\\alpha_{3}\\right)\\oplus L\\left( 3\\alpha_{1}+ 3\\alpha_{2}+ 3\\alpha_{3}\\right)\\oplus L\\left( 2\\alpha_{1}+ 3\\alpha_{2}+ 4\\alpha_{3}\\right)^{3}\\oplus L\\left( 2\\alpha_{1}+ 4\\alpha_{2}+ 4\\alpha_{3}\\right)\\oplus L\\left( 3\\alpha_{1}+ 4\\alpha_{2}+ 4\\alpha_{3}\\right)^{3}\\oplus L\\left( 2\\alpha_{1}+ 4\\alpha_{2}+ 5\\alpha_{3}\\right)^{4}\\oplus L\\left( 3\\alpha_{1}+ 4\\alpha_{2}+ 5\\alpha_{3}\\right)^{3}\\oplus L\\left( 2\\alpha_{1}+ 4\\alpha_{2}+ 6\\alpha_{3}\\right)\\oplus L\\left( 3\\alpha_{1}+ 5\\alpha_{2}+ 5\\alpha_{3}\\right)^{2}\\oplus L\\left( 4\\alpha_{1}+ 5\\alpha_{2}+ 5\\alpha_{3}\\right)\\oplus L\\left( 3\\alpha_{1}+ 5\\alpha_{2}+ 6\\alpha_{3}\\right)^{3}\\oplus L\\left( 5\\alpha_{1}+ 5\\alpha_{2}+ 5\\alpha_{3}\\right)\\oplus L\\left( 4\\alpha_{1}+ 5\\alpha_{2}+ 6\\alpha_{3}\\right)\\oplus L\\left( 3\\alpha_{1}+ 6\\alpha_{2}+ 6\\alpha_{3}\\right)\\oplus L\\left( 3\\alpha_{1}+ 5\\alpha_{2}+ 7\\alpha_{3}\\right)^{2}\\oplus L\\left( 4\\alpha_{1}+ 6\\alpha_{2}+ 7\\alpha_{3}\\right)\\oplus L\\left( 3\\alpha_{1}+ 6\\alpha_{2}+ 8\\alpha_{3}\\right)$$"
      ],
      "text/plain": [
       "<IPython.core.display.Math object>"
      ]
     },
     "metadata": {},
     "output_type": "display_data"
    },
    {
     "data": {
      "text/latex": [
       "$$\\mathrm H^{0}(X_{B3},\\wedge^{6}T_X)=L\\left( 2\\alpha_{1}+ 4\\alpha_{2}+ 4\\alpha_{3}\\right)\\oplus L\\left( 3\\alpha_{1}+ 4\\alpha_{2}+ 4\\alpha_{3}\\right)\\oplus L\\left( 2\\alpha_{1}+ 4\\alpha_{2}+ 5\\alpha_{3}\\right)\\oplus L\\left( 4\\alpha_{1}+ 4\\alpha_{2}+ 4\\alpha_{3}\\right)\\oplus L\\left( 3\\alpha_{1}+ 4\\alpha_{2}+ 5\\alpha_{3}\\right)^{3}\\oplus L\\left( 2\\alpha_{1}+ 4\\alpha_{2}+ 6\\alpha_{3}\\right)\\oplus L\\left( 3\\alpha_{1}+ 5\\alpha_{2}+ 5\\alpha_{3}\\right)^{2}\\oplus L\\left( 4\\alpha_{1}+ 5\\alpha_{2}+ 5\\alpha_{3}\\right)\\oplus L\\left( 3\\alpha_{1}+ 5\\alpha_{2}+ 6\\alpha_{3}\\right)^{5}\\oplus L\\left( 4\\alpha_{1}+ 5\\alpha_{2}+ 6\\alpha_{3}\\right)^{3}\\oplus L\\left( 3\\alpha_{1}+ 6\\alpha_{2}+ 6\\alpha_{3}\\right)\\oplus L\\left( 3\\alpha_{1}+ 5\\alpha_{2}+ 7\\alpha_{3}\\right)^{2}\\oplus L\\left( 4\\alpha_{1}+ 6\\alpha_{2}+ 6\\alpha_{3}\\right)^{2}\\oplus L\\left( 3\\alpha_{1}+ 6\\alpha_{2}+ 7\\alpha_{3}\\right)^{3}\\oplus L\\left( 4\\alpha_{1}+ 6\\alpha_{2}+ 7\\alpha_{3}\\right)^{2}\\oplus L\\left( 3\\alpha_{1}+ 6\\alpha_{2}+ 8\\alpha_{3}\\right)\\oplus L\\left( 5\\alpha_{1}+ 6\\alpha_{2}+ 7\\alpha_{3}\\right)\\oplus L\\left( 4\\alpha_{1}+ 6\\alpha_{2}+ 8\\alpha_{3}\\right)\\oplus L\\left( 3\\alpha_{1}+ 6\\alpha_{2}+ 9\\alpha_{3}\\right)\\oplus L\\left( 4\\alpha_{1}+ 7\\alpha_{2}+ 8\\alpha_{3}\\right)$$"
      ],
      "text/plain": [
       "<IPython.core.display.Math object>"
      ]
     },
     "metadata": {},
     "output_type": "display_data"
    },
    {
     "data": {
      "text/latex": [
       "$$\\mathrm H^{0}(X_{B3},\\wedge^{7}T_X)=L\\left( 3\\alpha_{1}+ 5\\alpha_{2}+ 5\\alpha_{3}\\right)\\oplus L\\left( 4\\alpha_{1}+ 5\\alpha_{2}+ 5\\alpha_{3}\\right)\\oplus L\\left( 3\\alpha_{1}+ 5\\alpha_{2}+ 6\\alpha_{3}\\right)\\oplus L\\left( 4\\alpha_{1}+ 5\\alpha_{2}+ 6\\alpha_{3}\\right)\\oplus L\\left( 3\\alpha_{1}+ 6\\alpha_{2}+ 6\\alpha_{3}\\right)\\oplus L\\left( 3\\alpha_{1}+ 5\\alpha_{2}+ 7\\alpha_{3}\\right)\\oplus L\\left( 4\\alpha_{1}+ 6\\alpha_{2}+ 6\\alpha_{3}\\right)^{2}\\oplus L\\left( 3\\alpha_{1}+ 6\\alpha_{2}+ 7\\alpha_{3}\\right)^{2}\\oplus L\\left( 5\\alpha_{1}+ 6\\alpha_{2}+ 6\\alpha_{3}\\right)\\oplus L\\left( 4\\alpha_{1}+ 6\\alpha_{2}+ 7\\alpha_{3}\\right)^{3}\\oplus L\\left( 3\\alpha_{1}+ 6\\alpha_{2}+ 8\\alpha_{3}\\right)\\oplus L\\left( 5\\alpha_{1}+ 6\\alpha_{2}+ 7\\alpha_{3}\\right)\\oplus L\\left( 4\\alpha_{1}+ 7\\alpha_{2}+ 7\\alpha_{3}\\right)\\oplus L\\left( 4\\alpha_{1}+ 6\\alpha_{2}+ 8\\alpha_{3}\\right)^{2}\\oplus L\\left( 4\\alpha_{1}+ 7\\alpha_{2}+ 8\\alpha_{3}\\right)^{2}\\oplus L\\left( 5\\alpha_{1}+ 7\\alpha_{2}+ 8\\alpha_{3}\\right)\\oplus L\\left( 4\\alpha_{1}+ 8\\alpha_{2}+ 8\\alpha_{3}\\right)\\oplus L\\left( 4\\alpha_{1}+ 7\\alpha_{2}+ 9\\alpha_{3}\\right)$$"
      ],
      "text/plain": [
       "<IPython.core.display.Math object>"
      ]
     },
     "metadata": {},
     "output_type": "display_data"
    },
    {
     "data": {
      "text/latex": [
       "$$\\mathrm H^{0}(X_{B3},\\wedge^{8}T_X)=L\\left( 4\\alpha_{1}+ 6\\alpha_{2}+ 7\\alpha_{3}\\right)\\oplus L\\left( 4\\alpha_{1}+ 7\\alpha_{2}+ 7\\alpha_{3}\\right)\\oplus L\\left( 5\\alpha_{1}+ 7\\alpha_{2}+ 7\\alpha_{3}\\right)\\oplus L\\left( 4\\alpha_{1}+ 7\\alpha_{2}+ 8\\alpha_{3}\\right)\\oplus L\\left( 5\\alpha_{1}+ 7\\alpha_{2}+ 8\\alpha_{3}\\right)\\oplus L\\left( 4\\alpha_{1}+ 7\\alpha_{2}+ 9\\alpha_{3}\\right)\\oplus L\\left( 5\\alpha_{1}+ 8\\alpha_{2}+ 8\\alpha_{3}\\right)\\oplus L\\left( 5\\alpha_{1}+ 7\\alpha_{2}+ 9\\alpha_{3}\\right)\\oplus L\\left( 4\\alpha_{1}+ 8\\alpha_{2}+ 9\\alpha_{3}\\right)$$"
      ],
      "text/plain": [
       "<IPython.core.display.Math object>"
      ]
     },
     "metadata": {},
     "output_type": "display_data"
    },
    {
     "data": {
      "text/latex": [
       "$$\\mathrm H^{0}(X_{B3},\\wedge^{9}T_X)=L\\left( 5\\alpha_{1}+ 8\\alpha_{2}+ 9\\alpha_{3}\\right)$$"
      ],
      "text/plain": [
       "<IPython.core.display.Math object>"
      ]
     },
     "metadata": {},
     "output_type": "display_data"
    },
    {
     "name": "stdout",
     "output_type": "stream",
     "text": [
      "dim of u is 9 for root system C3\n"
     ]
    },
    {
     "data": {
      "application/vnd.jupyter.widget-view+json": {
       "model_id": "6dc2ed6d4f9244638ef869d8e9e7f5d4",
       "version_major": 2,
       "version_minor": 0
      },
      "text/plain": [
       "HBox(children=(IntProgress(value=0, max=10), HTML(value=u'')))"
      ]
     },
     "metadata": {},
     "output_type": "display_data"
    },
    {
     "data": {
      "application/vnd.jupyter.widget-view+json": {
       "model_id": "b3945c22e60045bfb9399d0c6244824f",
       "version_major": 2,
       "version_minor": 0
      },
      "text/plain": [
       "HBox(children=(IntProgress(value=1, bar_style=u'info', max=1), HTML(value=u'')))"
      ]
     },
     "metadata": {},
     "output_type": "display_data"
    },
    {
     "data": {
      "application/vnd.jupyter.widget-view+json": {
       "model_id": "be40e9da77bb4c36bb4bf67cf6a26da3",
       "version_major": 2,
       "version_minor": 0
      },
      "text/plain": [
       "HBox(children=(IntProgress(value=1, bar_style=u'info', max=1), HTML(value=u'')))"
      ]
     },
     "metadata": {},
     "output_type": "display_data"
    },
    {
     "data": {
      "text/latex": [
       "$$\\mathrm H^{0}(X_{C3},\\wedge^{0}T_X)=\\mathbb{C}$$"
      ],
      "text/plain": [
       "<IPython.core.display.Math object>"
      ]
     },
     "metadata": {},
     "output_type": "display_data"
    },
    {
     "data": {
      "text/latex": [
       "$$\\mathrm H^{0}(X_{C3},\\wedge^{1}T_X)=L\\left( 2\\alpha_{1}+ 2\\alpha_{2}+\\alpha_{3}\\right)$$"
      ],
      "text/plain": [
       "<IPython.core.display.Math object>"
      ]
     },
     "metadata": {},
     "output_type": "display_data"
    },
    {
     "data": {
      "text/latex": [
       "$$\\mathrm H^{0}(X_{C3},\\wedge^{2}T_X)=L\\left( 2\\alpha_{1}+ 2\\alpha_{2}+\\alpha_{3}\\right)\\oplus L\\left( 3\\alpha_{1}+ 4\\alpha_{2}+ 2\\alpha_{3}\\right)$$"
      ],
      "text/plain": [
       "<IPython.core.display.Math object>"
      ]
     },
     "metadata": {},
     "output_type": "display_data"
    },
    {
     "data": {
      "text/latex": [
       "$$\\mathrm H^{0}(X_{C3},\\wedge^{3}T_X)=L\\left(\\alpha_{1}+ 2\\alpha_{2}+\\alpha_{3}\\right)^{2}\\oplus L\\left( 2\\alpha_{1}+ 3\\alpha_{2}+ 2\\alpha_{3}\\right)\\oplus L\\left( 2\\alpha_{1}+ 4\\alpha_{2}+ 2\\alpha_{3}\\right)\\oplus L\\left( 3\\alpha_{1}+ 4\\alpha_{2}+ 2\\alpha_{3}\\right)\\oplus L\\left( 4\\alpha_{1}+ 4\\alpha_{2}+ 2\\alpha_{3}\\right)\\oplus L\\left( 4\\alpha_{1}+ 5\\alpha_{2}+ 3\\alpha_{3}\\right)\\oplus L\\left( 3\\alpha_{1}+ 6\\alpha_{2}+ 3\\alpha_{3}\\right)$$"
      ],
      "text/plain": [
       "<IPython.core.display.Math object>"
      ]
     },
     "metadata": {},
     "output_type": "display_data"
    },
    {
     "data": {
      "text/latex": [
       "$$\\mathrm H^{0}(X_{C3},\\wedge^{4}T_X)=L\\left( 2\\alpha_{1}+ 2\\alpha_{2}+\\alpha_{3}\\right)\\oplus L\\left( 2\\alpha_{1}+ 3\\alpha_{2}+ 2\\alpha_{3}\\right)^{2}\\oplus L\\left( 2\\alpha_{1}+ 4\\alpha_{2}+ 2\\alpha_{3}\\right)^{2}\\oplus L\\left( 3\\alpha_{1}+ 4\\alpha_{2}+ 2\\alpha_{3}\\right)^{3}\\oplus L\\left( 4\\alpha_{1}+ 4\\alpha_{2}+ 2\\alpha_{3}\\right)\\oplus L\\left( 3\\alpha_{1}+ 5\\alpha_{2}+ 3\\alpha_{3}\\right)^{2}\\oplus L\\left( 4\\alpha_{1}+ 5\\alpha_{2}+ 3\\alpha_{3}\\right)\\oplus L\\left( 3\\alpha_{1}+ 6\\alpha_{2}+ 3\\alpha_{3}\\right)\\oplus L\\left( 4\\alpha_{1}+ 6\\alpha_{2}+ 3\\alpha_{3}\\right)\\oplus L\\left( 5\\alpha_{1}+ 6\\alpha_{2}+ 3\\alpha_{3}\\right)\\oplus L\\left( 4\\alpha_{1}+ 7\\alpha_{2}+ 4\\alpha_{3}\\right)$$"
      ],
      "text/plain": [
       "<IPython.core.display.Math object>"
      ]
     },
     "metadata": {},
     "output_type": "display_data"
    },
    {
     "data": {
      "text/latex": [
       "$$\\mathrm H^{0}(X_{C3},\\wedge^{5}T_X)=L\\left( 2\\alpha_{1}+ 3\\alpha_{2}+ 2\\alpha_{3}\\right)\\oplus L\\left( 2\\alpha_{1}+ 4\\alpha_{2}+ 2\\alpha_{3}\\right)\\oplus L\\left( 3\\alpha_{1}+ 4\\alpha_{2}+ 2\\alpha_{3}\\right)^{2}\\oplus L\\left( 2\\alpha_{1}+ 4\\alpha_{2}+ 3\\alpha_{3}\\right)^{2}\\oplus L\\left( 4\\alpha_{1}+ 4\\alpha_{2}+ 2\\alpha_{3}\\right)\\oplus L\\left( 3\\alpha_{1}+ 5\\alpha_{2}+ 3\\alpha_{3}\\right)^{4}\\oplus L\\left( 4\\alpha_{1}+ 5\\alpha_{2}+ 3\\alpha_{3}\\right)^{2}\\oplus L\\left( 3\\alpha_{1}+ 6\\alpha_{2}+ 3\\alpha_{3}\\right)\\oplus L\\left( 4\\alpha_{1}+ 6\\alpha_{2}+ 3\\alpha_{3}\\right)^{5}\\oplus L\\left( 3\\alpha_{1}+ 6\\alpha_{2}+ 4\\alpha_{3}\\right)\\oplus L\\left( 5\\alpha_{1}+ 6\\alpha_{2}+ 3\\alpha_{3}\\right)\\oplus L\\left( 4\\alpha_{1}+ 6\\alpha_{2}+ 4\\alpha_{3}\\right)\\oplus L\\left( 6\\alpha_{1}+ 6\\alpha_{2}+ 3\\alpha_{3}\\right)\\oplus L\\left( 4\\alpha_{1}+ 7\\alpha_{2}+ 4\\alpha_{3}\\right)^{2}\\oplus L\\left( 5\\alpha_{1}+ 7\\alpha_{2}+ 4\\alpha_{3}\\right)\\oplus L\\left( 5\\alpha_{1}+ 8\\alpha_{2}+ 4\\alpha_{3}\\right)\\oplus L\\left( 4\\alpha_{1}+ 8\\alpha_{2}+ 5\\alpha_{3}\\right)$$"
      ],
      "text/plain": [
       "<IPython.core.display.Math object>"
      ]
     },
     "metadata": {},
     "output_type": "display_data"
    },
    {
     "data": {
      "text/latex": [
       "$$\\mathrm H^{0}(X_{C3},\\wedge^{6}T_X)=L\\left( 3\\alpha_{1}+ 5\\alpha_{2}+ 3\\alpha_{3}\\right)^{2}\\oplus L\\left( 4\\alpha_{1}+ 5\\alpha_{2}+ 3\\alpha_{3}\\right)^{2}\\oplus L\\left( 3\\alpha_{1}+ 6\\alpha_{2}+ 3\\alpha_{3}\\right)^{2}\\oplus L\\left( 4\\alpha_{1}+ 6\\alpha_{2}+ 3\\alpha_{3}\\right)^{2}\\oplus L\\left( 3\\alpha_{1}+ 6\\alpha_{2}+ 4\\alpha_{3}\\right)^{2}\\oplus L\\left( 5\\alpha_{1}+ 6\\alpha_{2}+ 3\\alpha_{3}\\right)^{2}\\oplus L\\left( 4\\alpha_{1}+ 6\\alpha_{2}+ 4\\alpha_{3}\\right)^{3}\\oplus L\\left( 4\\alpha_{1}+ 7\\alpha_{2}+ 4\\alpha_{3}\\right)^{4}\\oplus L\\left( 5\\alpha_{1}+ 7\\alpha_{2}+ 4\\alpha_{3}\\right)^{3}\\oplus L\\left( 4\\alpha_{1}+ 8\\alpha_{2}+ 4\\alpha_{3}\\right)^{2}\\oplus L\\left( 4\\alpha_{1}+ 7\\alpha_{2}+ 5\\alpha_{3}\\right)\\oplus L\\left( 5\\alpha_{1}+ 8\\alpha_{2}+ 4\\alpha_{3}\\right)^{2}\\oplus L\\left( 4\\alpha_{1}+ 8\\alpha_{2}+ 5\\alpha_{3}\\right)\\oplus L\\left( 6\\alpha_{1}+ 8\\alpha_{2}+ 4\\alpha_{3}\\right)\\oplus L\\left( 5\\alpha_{1}+ 8\\alpha_{2}+ 5\\alpha_{3}\\right)\\oplus L\\left( 4\\alpha_{1}+ 8\\alpha_{2}+ 6\\alpha_{3}\\right)\\oplus L\\left( 5\\alpha_{1}+ 9\\alpha_{2}+ 5\\alpha_{3}\\right)$$"
      ],
      "text/plain": [
       "<IPython.core.display.Math object>"
      ]
     },
     "metadata": {},
     "output_type": "display_data"
    },
    {
     "data": {
      "text/latex": [
       "$$\\mathrm H^{0}(X_{C3},\\wedge^{7}T_X)=L\\left( 3\\alpha_{1}+ 6\\alpha_{2}+ 4\\alpha_{3}\\right)\\oplus L\\left( 4\\alpha_{1}+ 6\\alpha_{2}+ 4\\alpha_{3}\\right)\\oplus L\\left( 4\\alpha_{1}+ 7\\alpha_{2}+ 4\\alpha_{3}\\right)^{2}\\oplus L\\left( 5\\alpha_{1}+ 7\\alpha_{2}+ 4\\alpha_{3}\\right)^{2}\\oplus L\\left( 4\\alpha_{1}+ 8\\alpha_{2}+ 4\\alpha_{3}\\right)\\oplus L\\left( 4\\alpha_{1}+ 7\\alpha_{2}+ 5\\alpha_{3}\\right)^{2}\\oplus L\\left( 6\\alpha_{1}+ 7\\alpha_{2}+ 4\\alpha_{3}\\right)\\oplus L\\left( 5\\alpha_{1}+ 8\\alpha_{2}+ 4\\alpha_{3}\\right)^{2}\\oplus L\\left( 4\\alpha_{1}+ 8\\alpha_{2}+ 5\\alpha_{3}\\right)\\oplus L\\left( 6\\alpha_{1}+ 8\\alpha_{2}+ 4\\alpha_{3}\\right)\\oplus L\\left( 5\\alpha_{1}+ 8\\alpha_{2}+ 5\\alpha_{3}\\right)^{3}\\oplus L\\left( 5\\alpha_{1}+ 9\\alpha_{2}+ 5\\alpha_{3}\\right)^{2}\\oplus L\\left( 6\\alpha_{1}+ 9\\alpha_{2}+ 5\\alpha_{3}\\right)\\oplus L\\left( 5\\alpha_{1}+ 10\\alpha_{2}+ 5\\alpha_{3}\\right)\\oplus L\\left( 5\\alpha_{1}+ 9\\alpha_{2}+ 6\\alpha_{3}\\right)$$"
      ],
      "text/plain": [
       "<IPython.core.display.Math object>"
      ]
     },
     "metadata": {},
     "output_type": "display_data"
    },
    {
     "data": {
      "text/latex": [
       "$$\\mathrm H^{0}(X_{C3},\\wedge^{8}T_X)=L\\left( 4\\alpha_{1}+ 8\\alpha_{2}+ 5\\alpha_{3}\\right)\\oplus L\\left( 5\\alpha_{1}+ 8\\alpha_{2}+ 5\\alpha_{3}\\right)\\oplus L\\left( 6\\alpha_{1}+ 8\\alpha_{2}+ 5\\alpha_{3}\\right)\\oplus L\\left( 5\\alpha_{1}+ 9\\alpha_{2}+ 5\\alpha_{3}\\right)\\oplus L\\left( 6\\alpha_{1}+ 9\\alpha_{2}+ 5\\alpha_{3}\\right)\\oplus L\\left( 5\\alpha_{1}+ 9\\alpha_{2}+ 6\\alpha_{3}\\right)\\oplus L\\left( 6\\alpha_{1}+ 10\\alpha_{2}+ 5\\alpha_{3}\\right)\\oplus L\\left( 6\\alpha_{1}+ 9\\alpha_{2}+ 6\\alpha_{3}\\right)\\oplus L\\left( 5\\alpha_{1}+ 10\\alpha_{2}+ 6\\alpha_{3}\\right)$$"
      ],
      "text/plain": [
       "<IPython.core.display.Math object>"
      ]
     },
     "metadata": {},
     "output_type": "display_data"
    },
    {
     "data": {
      "text/latex": [
       "$$\\mathrm H^{0}(X_{C3},\\wedge^{9}T_X)=L\\left( 6\\alpha_{1}+ 10\\alpha_{2}+ 6\\alpha_{3}\\right)$$"
      ],
      "text/plain": [
       "<IPython.core.display.Math object>"
      ]
     },
     "metadata": {},
     "output_type": "display_data"
    }
   ],
   "source": [
    "for d in ['A2','A3','G2','B2','A4','B3','C3']:\n",
    "\n",
    "    BGG = BGGComplex(d)\n",
    "    factory = FastModuleFactory(BGG.LA)\n",
    "    component_dic = {'u':factory.build_component('u','coad',subset=[])}\n",
    "    u_dim = len(component_dic['u'].basis)\n",
    "    print('dim of u is %d for root system %s' % (u_dim, d))\n",
    "    \n",
    "    pbar1 = tqdm(range(u_dim+1))\n",
    "    pbar2 = tqdm()\n",
    "    pbar3 = tqdm()\n",
    "    for k in range(u_dim+1):\n",
    "        components = [[('u',k,'wedge')]]\n",
    "        module = FastLieAlgebraCompositeModule(factory,components,component_dic)\n",
    "\n",
    "        cohom = BGGCohomology(BGG, module,pbars=[pbar2,pbar3])\n",
    "\n",
    "        cohom.cohomology_LaTeX(complex_string=r'X_{'+d+r'},\\wedge^{'+str(k)+'}T_X')"
   ]
  },
  {
   "cell_type": "markdown",
   "metadata": {},
   "source": [
    "### G2 in the parabolic case\n",
    "Now for $G2$ we do some computations in the parabolic case. "
   ]
  },
  {
   "cell_type": "code",
   "execution_count": 4,
   "metadata": {
    "scrolled": true
   },
   "outputs": [
    {
     "name": "stdout",
     "output_type": "stream",
     "text": [
      "dim of u is 6 for root system G2\n"
     ]
    },
    {
     "data": {
      "application/vnd.jupyter.widget-view+json": {
       "model_id": "cceafdb6556842a2896cb88f9a743185",
       "version_major": 2,
       "version_minor": 0
      },
      "text/plain": [
       "HBox(children=(IntProgress(value=0, max=7), HTML(value=u'')))"
      ]
     },
     "metadata": {},
     "output_type": "display_data"
    },
    {
     "data": {
      "application/vnd.jupyter.widget-view+json": {
       "model_id": "987f64ccdc9141c690820dcf39b47fc1",
       "version_major": 2,
       "version_minor": 0
      },
      "text/plain": [
       "HBox(children=(IntProgress(value=1, bar_style=u'info', max=1), HTML(value=u'')))"
      ]
     },
     "metadata": {},
     "output_type": "display_data"
    },
    {
     "data": {
      "application/vnd.jupyter.widget-view+json": {
       "model_id": "0c2de0f5ea964cd38eb0230f0b73247d",
       "version_major": 2,
       "version_minor": 0
      },
      "text/plain": [
       "HBox(children=(IntProgress(value=1, bar_style=u'info', max=1), HTML(value=u'')))"
      ]
     },
     "metadata": {},
     "output_type": "display_data"
    },
    {
     "data": {
      "text/latex": [
       "$$\\mathrm H^{0}(X_{},\\wedge^{0}T_X)=\\mathbb{C}$$"
      ],
      "text/plain": [
       "<IPython.core.display.Math object>"
      ]
     },
     "metadata": {},
     "output_type": "display_data"
    },
    {
     "data": {
      "text/latex": [
       "$$\\mathrm b^{0}(X_{},\\wedge^{0}T_X)=1$$"
      ],
      "text/plain": [
       "<IPython.core.display.Math object>"
      ]
     },
     "metadata": {},
     "output_type": "display_data"
    },
    {
     "data": {
      "text/latex": [
       "$$\\mathrm H^{0}(X_{},\\wedge^{1}T_X)=L\\left( 3\\alpha_{1}+ 2\\alpha_{2}\\right)$$"
      ],
      "text/plain": [
       "<IPython.core.display.Math object>"
      ]
     },
     "metadata": {},
     "output_type": "display_data"
    },
    {
     "data": {
      "text/latex": [
       "$$\\mathrm b^{0}(X_{},\\wedge^{1}T_X)=14$$"
      ],
      "text/plain": [
       "<IPython.core.display.Math object>"
      ]
     },
     "metadata": {},
     "output_type": "display_data"
    },
    {
     "data": {
      "text/latex": [
       "$$\\mathrm H^{0}(X_{},\\wedge^{2}T_X)=L\\left( 2\\alpha_{1}+\\alpha_{2}\\right)\\oplus L\\left( 3\\alpha_{1}+ 2\\alpha_{2}\\right)\\oplus L\\left( 6\\alpha_{1}+ 3\\alpha_{2}\\right)$$"
      ],
      "text/plain": [
       "<IPython.core.display.Math object>"
      ]
     },
     "metadata": {},
     "output_type": "display_data"
    },
    {
     "data": {
      "text/latex": [
       "$$\\mathrm b^{0}(X_{},\\wedge^{2}T_X)=98$$"
      ],
      "text/plain": [
       "<IPython.core.display.Math object>"
      ]
     },
     "metadata": {},
     "output_type": "display_data"
    },
    {
     "data": {
      "text/latex": [
       "$$\\mathrm H^{0}(X_{},\\wedge^{3}T_X)=L\\left( 4\\alpha_{1}+ 2\\alpha_{2}\\right)^{2}\\oplus L\\left( 5\\alpha_{1}+ 3\\alpha_{2}\\right)\\oplus L\\left( 6\\alpha_{1}+ 3\\alpha_{2}\\right)\\oplus L\\left( 6\\alpha_{1}+ 4\\alpha_{2}\\right)\\oplus L\\left( 8\\alpha_{1}+ 4\\alpha_{2}\\right)$$"
      ],
      "text/plain": [
       "<IPython.core.display.Math object>"
      ]
     },
     "metadata": {},
     "output_type": "display_data"
    },
    {
     "data": {
      "text/latex": [
       "$$\\mathrm b^{0}(X_{},\\wedge^{3}T_X)=454$$"
      ],
      "text/plain": [
       "<IPython.core.display.Math object>"
      ]
     },
     "metadata": {},
     "output_type": "display_data"
    },
    {
     "data": {
      "text/latex": [
       "$$\\mathrm H^{0}(X_{},\\wedge^{4}T_X)=L\\left( 5\\alpha_{1}+ 3\\alpha_{2}\\right)\\oplus L\\left( 6\\alpha_{1}+ 3\\alpha_{2}\\right)\\oplus L\\left( 6\\alpha_{1}+ 4\\alpha_{2}\\right)\\oplus L\\left( 7\\alpha_{1}+ 4\\alpha_{2}\\right)^{2}\\oplus L\\left( 8\\alpha_{1}+ 4\\alpha_{2}\\right)\\oplus L\\left( 9\\alpha_{1}+ 5\\alpha_{2}\\right)$$"
      ],
      "text/plain": [
       "<IPython.core.display.Math object>"
      ]
     },
     "metadata": {},
     "output_type": "display_data"
    },
    {
     "data": {
      "text/latex": [
       "$$\\mathrm b^{0}(X_{},\\wedge^{4}T_X)=1226$$"
      ],
      "text/plain": [
       "<IPython.core.display.Math object>"
      ]
     },
     "metadata": {},
     "output_type": "display_data"
    },
    {
     "data": {
      "text/latex": [
       "$$\\mathrm H^{0}(X_{},\\wedge^{5}T_X)=L\\left( 7\\alpha_{1}+ 4\\alpha_{2}\\right)\\oplus L\\left( 8\\alpha_{1}+ 5\\alpha_{2}\\right)\\oplus L\\left( 9\\alpha_{1}+ 5\\alpha_{2}\\right)\\oplus L\\left( 10\\alpha_{1}+ 5\\alpha_{2}\\right)\\oplus L\\left( 9\\alpha_{1}+ 6\\alpha_{2}\\right)$$"
      ],
      "text/plain": [
       "<IPython.core.display.Math object>"
      ]
     },
     "metadata": {},
     "output_type": "display_data"
    },
    {
     "data": {
      "text/latex": [
       "$$\\mathrm b^{0}(X_{},\\wedge^{5}T_X)=1574$$"
      ],
      "text/plain": [
       "<IPython.core.display.Math object>"
      ]
     },
     "metadata": {},
     "output_type": "display_data"
    },
    {
     "data": {
      "text/latex": [
       "$$\\mathrm H^{0}(X_{},\\wedge^{6}T_X)=L\\left( 10\\alpha_{1}+ 6\\alpha_{2}\\right)$$"
      ],
      "text/plain": [
       "<IPython.core.display.Math object>"
      ]
     },
     "metadata": {},
     "output_type": "display_data"
    },
    {
     "data": {
      "text/latex": [
       "$$\\mathrm b^{0}(X_{},\\wedge^{6}T_X)=729$$"
      ],
      "text/plain": [
       "<IPython.core.display.Math object>"
      ]
     },
     "metadata": {},
     "output_type": "display_data"
    },
    {
     "name": "stdout",
     "output_type": "stream",
     "text": [
      "\n",
      "dim of u is 5 for root system G2\n"
     ]
    },
    {
     "data": {
      "application/vnd.jupyter.widget-view+json": {
       "model_id": "bf23007a199344b4bb4e0f2a5e389d82",
       "version_major": 2,
       "version_minor": 0
      },
      "text/plain": [
       "HBox(children=(IntProgress(value=0, max=6), HTML(value=u'')))"
      ]
     },
     "metadata": {},
     "output_type": "display_data"
    },
    {
     "data": {
      "application/vnd.jupyter.widget-view+json": {
       "model_id": "9991c41054cf4086b48f672c5e617bd3",
       "version_major": 2,
       "version_minor": 0
      },
      "text/plain": [
       "HBox(children=(IntProgress(value=1, bar_style=u'info', max=1), HTML(value=u'')))"
      ]
     },
     "metadata": {},
     "output_type": "display_data"
    },
    {
     "data": {
      "application/vnd.jupyter.widget-view+json": {
       "model_id": "2eb554ce52c04e51bffe90e8dc4b840e",
       "version_major": 2,
       "version_minor": 0
      },
      "text/plain": [
       "HBox(children=(IntProgress(value=1, bar_style=u'info', max=1), HTML(value=u'')))"
      ]
     },
     "metadata": {},
     "output_type": "display_data"
    },
    {
     "data": {
      "text/latex": [
       "$$\\mathrm H^{0}(X_{\\alpha_1},\\wedge^{0}T_X)=\\mathbb{C}$$"
      ],
      "text/plain": [
       "<IPython.core.display.Math object>"
      ]
     },
     "metadata": {},
     "output_type": "display_data"
    },
    {
     "data": {
      "text/latex": [
       "$$\\mathrm b^{0}(X_{\\alpha_1},\\wedge^{0}T_X)=1$$"
      ],
      "text/plain": [
       "<IPython.core.display.Math object>"
      ]
     },
     "metadata": {},
     "output_type": "display_data"
    },
    {
     "data": {
      "text/latex": [
       "$$\\mathrm H^{0}(X_{\\alpha_1},\\wedge^{1}T_X)=L\\left( 3\\alpha_{1}+ 2\\alpha_{2}\\right)$$"
      ],
      "text/plain": [
       "<IPython.core.display.Math object>"
      ]
     },
     "metadata": {},
     "output_type": "display_data"
    },
    {
     "data": {
      "text/latex": [
       "$$\\mathrm b^{0}(X_{\\alpha_1},\\wedge^{1}T_X)=14$$"
      ],
      "text/plain": [
       "<IPython.core.display.Math object>"
      ]
     },
     "metadata": {},
     "output_type": "display_data"
    },
    {
     "data": {
      "text/latex": [
       "$$\\mathrm H^{0}(X_{\\alpha_1},\\wedge^{2}T_X)=L\\left( 3\\alpha_{1}+ 2\\alpha_{2}\\right)\\oplus L\\left( 6\\alpha_{1}+ 3\\alpha_{2}\\right)$$"
      ],
      "text/plain": [
       "<IPython.core.display.Math object>"
      ]
     },
     "metadata": {},
     "output_type": "display_data"
    },
    {
     "data": {
      "text/latex": [
       "$$\\mathrm b^{0}(X_{\\alpha_1},\\wedge^{2}T_X)=91$$"
      ],
      "text/plain": [
       "<IPython.core.display.Math object>"
      ]
     },
     "metadata": {},
     "output_type": "display_data"
    },
    {
     "data": {
      "text/latex": [
       "$$\\mathrm H^{0}(X_{\\alpha_1},\\wedge^{3}T_X)=L\\left( 6\\alpha_{1}+ 3\\alpha_{2}\\right)\\oplus L\\left( 6\\alpha_{1}+ 4\\alpha_{2}\\right)\\oplus L\\left( 8\\alpha_{1}+ 4\\alpha_{2}\\right)$$"
      ],
      "text/plain": [
       "<IPython.core.display.Math object>"
      ]
     },
     "metadata": {},
     "output_type": "display_data"
    },
    {
     "data": {
      "text/latex": [
       "$$\\mathrm b^{0}(X_{\\alpha_1},\\wedge^{3}T_X)=336$$"
      ],
      "text/plain": [
       "<IPython.core.display.Math object>"
      ]
     },
     "metadata": {},
     "output_type": "display_data"
    },
    {
     "data": {
      "text/latex": [
       "$$\\mathrm H^{0}(X_{\\alpha_1},\\wedge^{4}T_X)=L\\left( 6\\alpha_{1}+ 4\\alpha_{2}\\right)\\oplus L\\left( 9\\alpha_{1}+ 5\\alpha_{2}\\right)$$"
      ],
      "text/plain": [
       "<IPython.core.display.Math object>"
      ]
     },
     "metadata": {},
     "output_type": "display_data"
    },
    {
     "data": {
      "text/latex": [
       "$$\\mathrm b^{0}(X_{\\alpha_1},\\wedge^{4}T_X)=525$$"
      ],
      "text/plain": [
       "<IPython.core.display.Math object>"
      ]
     },
     "metadata": {},
     "output_type": "display_data"
    },
    {
     "data": {
      "text/latex": [
       "$$\\mathrm H^{0}(X_{\\alpha_1},\\wedge^{5}T_X)=L\\left( 9\\alpha_{1}+ 6\\alpha_{2}\\right)$$"
      ],
      "text/plain": [
       "<IPython.core.display.Math object>"
      ]
     },
     "metadata": {},
     "output_type": "display_data"
    },
    {
     "data": {
      "text/latex": [
       "$$\\mathrm b^{0}(X_{\\alpha_1},\\wedge^{5}T_X)=273$$"
      ],
      "text/plain": [
       "<IPython.core.display.Math object>"
      ]
     },
     "metadata": {},
     "output_type": "display_data"
    },
    {
     "name": "stdout",
     "output_type": "stream",
     "text": [
      "\n",
      "dim of u is 5 for root system G2\n"
     ]
    },
    {
     "data": {
      "application/vnd.jupyter.widget-view+json": {
       "model_id": "7a3335c613f84968802458fc58eadef3",
       "version_major": 2,
       "version_minor": 0
      },
      "text/plain": [
       "HBox(children=(IntProgress(value=0, max=6), HTML(value=u'')))"
      ]
     },
     "metadata": {},
     "output_type": "display_data"
    },
    {
     "data": {
      "application/vnd.jupyter.widget-view+json": {
       "model_id": "0812dc69eb4f43c286305bcd8028a2bf",
       "version_major": 2,
       "version_minor": 0
      },
      "text/plain": [
       "HBox(children=(IntProgress(value=1, bar_style=u'info', max=1), HTML(value=u'')))"
      ]
     },
     "metadata": {},
     "output_type": "display_data"
    },
    {
     "data": {
      "application/vnd.jupyter.widget-view+json": {
       "model_id": "5585fdcfa6ee454990d73181404630ac",
       "version_major": 2,
       "version_minor": 0
      },
      "text/plain": [
       "HBox(children=(IntProgress(value=1, bar_style=u'info', max=1), HTML(value=u'')))"
      ]
     },
     "metadata": {},
     "output_type": "display_data"
    },
    {
     "data": {
      "text/latex": [
       "$$\\mathrm H^{0}(X_{\\alpha_2},\\wedge^{0}T_X)=\\mathbb{C}$$"
      ],
      "text/plain": [
       "<IPython.core.display.Math object>"
      ]
     },
     "metadata": {},
     "output_type": "display_data"
    },
    {
     "data": {
      "text/latex": [
       "$$\\mathrm b^{0}(X_{\\alpha_2},\\wedge^{0}T_X)=1$$"
      ],
      "text/plain": [
       "<IPython.core.display.Math object>"
      ]
     },
     "metadata": {},
     "output_type": "display_data"
    },
    {
     "data": {
      "text/latex": [
       "$$\\mathrm H^{0}(X_{\\alpha_2},\\wedge^{1}T_X)=L\\left( 2\\alpha_{1}+\\alpha_{2}\\right)\\oplus L\\left( 3\\alpha_{1}+ 2\\alpha_{2}\\right)$$"
      ],
      "text/plain": [
       "<IPython.core.display.Math object>"
      ]
     },
     "metadata": {},
     "output_type": "display_data"
    },
    {
     "data": {
      "text/latex": [
       "$$\\mathrm b^{0}(X_{\\alpha_2},\\wedge^{1}T_X)=21$$"
      ],
      "text/plain": [
       "<IPython.core.display.Math object>"
      ]
     },
     "metadata": {},
     "output_type": "display_data"
    },
    {
     "data": {
      "text/latex": [
       "$$\\mathrm H^{0}(X_{\\alpha_2},\\wedge^{2}T_X)=L\\left( 2\\alpha_{1}+\\alpha_{2}\\right)\\oplus L\\left( 3\\alpha_{1}+ 2\\alpha_{2}\\right)\\oplus L\\left( 4\\alpha_{1}+ 2\\alpha_{2}\\right)\\oplus L\\left( 5\\alpha_{1}+ 3\\alpha_{2}\\right)\\oplus L\\left( 6\\alpha_{1}+ 3\\alpha_{2}\\right)$$"
      ],
      "text/plain": [
       "<IPython.core.display.Math object>"
      ]
     },
     "metadata": {},
     "output_type": "display_data"
    },
    {
     "data": {
      "text/latex": [
       "$$\\mathrm b^{0}(X_{\\alpha_2},\\wedge^{2}T_X)=189$$"
      ],
      "text/plain": [
       "<IPython.core.display.Math object>"
      ]
     },
     "metadata": {},
     "output_type": "display_data"
    },
    {
     "data": {
      "text/latex": [
       "$$\\mathrm H^{0}(X_{\\alpha_2},\\wedge^{3}T_X)=L\\left( 4\\alpha_{1}+ 2\\alpha_{2}\\right)\\oplus L\\left( 5\\alpha_{1}+ 3\\alpha_{2}\\right)\\oplus L\\left( 6\\alpha_{1}+ 3\\alpha_{2}\\right)\\oplus L\\left( 6\\alpha_{1}+ 4\\alpha_{2}\\right)\\oplus L\\left( 7\\alpha_{1}+ 4\\alpha_{2}\\right)\\oplus L\\left( 8\\alpha_{1}+ 4\\alpha_{2}\\right)$$"
      ],
      "text/plain": [
       "<IPython.core.display.Math object>"
      ]
     },
     "metadata": {},
     "output_type": "display_data"
    },
    {
     "data": {
      "text/latex": [
       "$$\\mathrm b^{0}(X_{\\alpha_2},\\wedge^{3}T_X)=616$$"
      ],
      "text/plain": [
       "<IPython.core.display.Math object>"
      ]
     },
     "metadata": {},
     "output_type": "display_data"
    },
    {
     "data": {
      "text/latex": [
       "$$\\mathrm H^{0}(X_{\\alpha_2},\\wedge^{4}T_X)=L\\left( 7\\alpha_{1}+ 4\\alpha_{2}\\right)\\oplus L\\left( 8\\alpha_{1}+ 4\\alpha_{2}\\right)\\oplus L\\left( 9\\alpha_{1}+ 5\\alpha_{2}\\right)$$"
      ],
      "text/plain": [
       "<IPython.core.display.Math object>"
      ]
     },
     "metadata": {},
     "output_type": "display_data"
    },
    {
     "data": {
      "text/latex": [
       "$$\\mathrm b^{0}(X_{\\alpha_2},\\wedge^{4}T_X)=819$$"
      ],
      "text/plain": [
       "<IPython.core.display.Math object>"
      ]
     },
     "metadata": {},
     "output_type": "display_data"
    },
    {
     "data": {
      "text/latex": [
       "$$\\mathrm H^{0}(X_{\\alpha_2},\\wedge^{5}T_X)=L\\left( 10\\alpha_{1}+ 5\\alpha_{2}\\right)$$"
      ],
      "text/plain": [
       "<IPython.core.display.Math object>"
      ]
     },
     "metadata": {},
     "output_type": "display_data"
    },
    {
     "data": {
      "text/latex": [
       "$$\\mathrm b^{0}(X_{\\alpha_2},\\wedge^{5}T_X)=378$$"
      ],
      "text/plain": [
       "<IPython.core.display.Math object>"
      ]
     },
     "metadata": {},
     "output_type": "display_data"
    },
    {
     "name": "stdout",
     "output_type": "stream",
     "text": [
      "\n"
     ]
    }
   ],
   "source": [
    "subset_list = [[],[1],[2]]\n",
    "subscript_list = [r'',r'\\alpha_1',r'\\alpha_2']\n",
    "d = 'G2'\n",
    "BGG = BGGComplex(d)\n",
    "for subset,subscript in zip(subset_list,subscript_list):\n",
    "    factory = FastModuleFactory(BGG.LA)\n",
    "    component_dic = {'u':factory.build_component('u','coad',subset=subset)}\n",
    "    u_dim = len(component_dic['u'].basis)\n",
    "    print('dim of u is %d for root system %s' % (u_dim, d))\n",
    "    pbar1 = tqdm(range(u_dim+1))\n",
    "    pbar2 = tqdm()\n",
    "    pbar3 = tqdm()\n",
    "    for k in pbar1:\n",
    "        components = [[('u',k,'wedge')]]\n",
    "        module = FastLieAlgebraCompositeModule(factory,components,component_dic)\n",
    "\n",
    "        cohom = BGGCohomology(BGG, module,pbars=[pbar2,pbar3])\n",
    "\n",
    "        cohom.cohomology_LaTeX(complex_string=r'X_{'+subscript+r'},\\wedge^{'+str(k)+'}T_X',print_betti=True)"
   ]
  },
  {
   "cell_type": "markdown",
   "metadata": {},
   "source": [
    "### A4 in the parabolic case\n",
    "Now for $A4$ we do some computations in the parabolic case. "
   ]
  },
  {
   "cell_type": "code",
   "execution_count": 5,
   "metadata": {
    "scrolled": true
   },
   "outputs": [
    {
     "name": "stdout",
     "output_type": "stream",
     "text": [
      "dim of u is 10 for root system A4 and subset ()\n"
     ]
    },
    {
     "data": {
      "application/vnd.jupyter.widget-view+json": {
       "model_id": "72c704e01d5049b58bf6bba3675057ad",
       "version_major": 2,
       "version_minor": 0
      },
      "text/plain": [
       "HBox(children=(IntProgress(value=0, max=11), HTML(value=u'')))"
      ]
     },
     "metadata": {},
     "output_type": "display_data"
    },
    {
     "data": {
      "application/vnd.jupyter.widget-view+json": {
       "model_id": "060ac51ae5d4484c986f4489a91bf681",
       "version_major": 2,
       "version_minor": 0
      },
      "text/plain": [
       "HBox(children=(IntProgress(value=1, bar_style=u'info', max=1), HTML(value=u'')))"
      ]
     },
     "metadata": {},
     "output_type": "display_data"
    },
    {
     "data": {
      "application/vnd.jupyter.widget-view+json": {
       "model_id": "75a530fa30944722a128b946047e212b",
       "version_major": 2,
       "version_minor": 0
      },
      "text/plain": [
       "HBox(children=(IntProgress(value=1, bar_style=u'info', max=1), HTML(value=u'')))"
      ]
     },
     "metadata": {},
     "output_type": "display_data"
    },
    {
     "data": {
      "text/latex": [
       "$$\\mathrm H^{0}(X_{},\\wedge^{0}T_X)=\\mathbb{C}$$"
      ],
      "text/plain": [
       "<IPython.core.display.Math object>"
      ]
     },
     "metadata": {},
     "output_type": "display_data"
    },
    {
     "data": {
      "text/latex": [
       "$$\\mathrm b^{0}(X_{},\\wedge^{0}T_X)=1$$"
      ],
      "text/plain": [
       "<IPython.core.display.Math object>"
      ]
     },
     "metadata": {},
     "output_type": "display_data"
    },
    {
     "data": {
      "text/latex": [
       "$$\\mathrm H^{0}(X_{},\\wedge^{1}T_X)=L\\left(\\alpha_{1}+\\alpha_{2}+\\alpha_{3}+\\alpha_{4}\\right)$$"
      ],
      "text/plain": [
       "<IPython.core.display.Math object>"
      ]
     },
     "metadata": {},
     "output_type": "display_data"
    },
    {
     "data": {
      "text/latex": [
       "$$\\mathrm b^{0}(X_{},\\wedge^{1}T_X)=24$$"
      ],
      "text/plain": [
       "<IPython.core.display.Math object>"
      ]
     },
     "metadata": {},
     "output_type": "display_data"
    },
    {
     "data": {
      "text/latex": [
       "$$\\mathrm H^{0}(X_{},\\wedge^{2}T_X)=L\\left(\\alpha_{1}+\\alpha_{2}+\\alpha_{3}+\\alpha_{4}\\right)\\oplus L\\left( 2\\alpha_{1}+ 2\\alpha_{2}+ 2\\alpha_{3}+\\alpha_{4}\\right)\\oplus L\\left(\\alpha_{1}+ 2\\alpha_{2}+ 2\\alpha_{3}+ 2\\alpha_{4}\\right)$$"
      ],
      "text/plain": [
       "<IPython.core.display.Math object>"
      ]
     },
     "metadata": {},
     "output_type": "display_data"
    },
    {
     "data": {
      "text/latex": [
       "$$\\mathrm b^{0}(X_{},\\wedge^{2}T_X)=276$$"
      ],
      "text/plain": [
       "<IPython.core.display.Math object>"
      ]
     },
     "metadata": {},
     "output_type": "display_data"
    },
    {
     "data": {
      "text/latex": [
       "$$\\mathrm H^{0}(X_{},\\wedge^{3}T_X)=L\\left(\\alpha_{1}+\\alpha_{2}+\\alpha_{3}+\\alpha_{4}\\right)\\oplus L\\left(\\alpha_{1}+ 2\\alpha_{2}+ 2\\alpha_{3}+\\alpha_{4}\\right)\\oplus L\\left( 2\\alpha_{1}+ 2\\alpha_{2}+ 2\\alpha_{3}+\\alpha_{4}\\right)\\oplus L\\left(\\alpha_{1}+ 2\\alpha_{2}+ 2\\alpha_{3}+ 2\\alpha_{4}\\right)\\oplus L\\left( 2\\alpha_{1}+ 2\\alpha_{2}+ 2\\alpha_{3}+ 2\\alpha_{4}\\right)\\oplus L\\left( 3\\alpha_{1}+ 3\\alpha_{2}+ 2\\alpha_{3}+\\alpha_{4}\\right)\\oplus L\\left(\\alpha_{1}+ 2\\alpha_{2}+ 3\\alpha_{3}+ 3\\alpha_{4}\\right)\\oplus L\\left( 2\\alpha_{1}+ 3\\alpha_{2}+ 3\\alpha_{3}+ 2\\alpha_{4}\\right)$$"
      ],
      "text/plain": [
       "<IPython.core.display.Math object>"
      ]
     },
     "metadata": {},
     "output_type": "display_data"
    },
    {
     "data": {
      "text/latex": [
       "$$\\mathrm b^{0}(X_{},\\wedge^{3}T_X)=2023$$"
      ],
      "text/plain": [
       "<IPython.core.display.Math object>"
      ]
     },
     "metadata": {},
     "output_type": "display_data"
    },
    {
     "data": {
      "text/latex": [
       "$$\\mathrm H^{0}(X_{},\\wedge^{4}T_X)=L\\left(\\alpha_{1}+\\alpha_{2}+\\alpha_{3}+\\alpha_{4}\\right)\\oplus L\\left(\\alpha_{1}+ 2\\alpha_{2}+ 2\\alpha_{3}+\\alpha_{4}\\right)^{3}\\oplus L\\left( 2\\alpha_{1}+ 2\\alpha_{2}+ 2\\alpha_{3}+\\alpha_{4}\\right)\\oplus L\\left(\\alpha_{1}+ 2\\alpha_{2}+ 2\\alpha_{3}+ 2\\alpha_{4}\\right)\\oplus L\\left( 2\\alpha_{1}+ 3\\alpha_{2}+ 2\\alpha_{3}+\\alpha_{4}\\right)^{2}\\oplus L\\left( 2\\alpha_{1}+ 2\\alpha_{2}+ 2\\alpha_{3}+ 2\\alpha_{4}\\right)^{2}\\oplus L\\left(\\alpha_{1}+ 2\\alpha_{2}+ 3\\alpha_{3}+ 2\\alpha_{4}\\right)^{2}\\oplus L\\left( 3\\alpha_{1}+ 3\\alpha_{2}+ 2\\alpha_{3}+\\alpha_{4}\\right)\\oplus L\\left(\\alpha_{1}+ 2\\alpha_{2}+ 3\\alpha_{3}+ 3\\alpha_{4}\\right)\\oplus L\\left( 4\\alpha_{1}+ 3\\alpha_{2}+ 2\\alpha_{3}+\\alpha_{4}\\right)\\oplus L\\left( 2\\alpha_{1}+ 3\\alpha_{2}+ 3\\alpha_{3}+ 2\\alpha_{4}\\right)^{2}\\oplus L\\left(\\alpha_{1}+ 2\\alpha_{2}+ 3\\alpha_{3}+ 4\\alpha_{4}\\right)\\oplus L\\left( 3\\alpha_{1}+ 3\\alpha_{2}+ 3\\alpha_{3}+ 2\\alpha_{4}\\right)\\oplus L\\left( 2\\alpha_{1}+ 3\\alpha_{2}+ 3\\alpha_{3}+ 3\\alpha_{4}\\right)\\oplus L\\left( 3\\alpha_{1}+ 4\\alpha_{2}+ 3\\alpha_{3}+ 2\\alpha_{4}\\right)\\oplus L\\left( 2\\alpha_{1}+ 4\\alpha_{2}+ 4\\alpha_{3}+ 2\\alpha_{4}\\right)\\oplus L\\left( 2\\alpha_{1}+ 3\\alpha_{2}+ 4\\alpha_{3}+ 3\\alpha_{4}\\right)$$"
      ],
      "text/plain": [
       "<IPython.core.display.Math object>"
      ]
     },
     "metadata": {},
     "output_type": "display_data"
    },
    {
     "data": {
      "text/latex": [
       "$$\\mathrm b^{0}(X_{},\\wedge^{4}T_X)=11027$$"
      ],
      "text/plain": [
       "<IPython.core.display.Math object>"
      ]
     },
     "metadata": {},
     "output_type": "display_data"
    },
    {
     "data": {
      "text/latex": [
       "$$\\mathrm H^{0}(X_{},\\wedge^{5}T_X)=L\\left(\\alpha_{1}+ 2\\alpha_{2}+ 2\\alpha_{3}+\\alpha_{4}\\right)\\oplus L\\left( 2\\alpha_{1}+ 2\\alpha_{2}+ 2\\alpha_{3}+\\alpha_{4}\\right)^{3}\\oplus L\\left(\\alpha_{1}+ 2\\alpha_{2}+ 2\\alpha_{3}+ 2\\alpha_{4}\\right)^{3}\\oplus L\\left( 2\\alpha_{1}+ 3\\alpha_{2}+ 2\\alpha_{3}+\\alpha_{4}\\right)^{2}\\oplus L\\left( 2\\alpha_{1}+ 2\\alpha_{2}+ 2\\alpha_{3}+ 2\\alpha_{4}\\right)^{2}\\oplus L\\left(\\alpha_{1}+ 2\\alpha_{2}+ 3\\alpha_{3}+ 2\\alpha_{4}\\right)^{2}\\oplus L\\left( 3\\alpha_{1}+ 3\\alpha_{2}+ 2\\alpha_{3}+\\alpha_{4}\\right)\\oplus L\\left(\\alpha_{1}+ 2\\alpha_{2}+ 3\\alpha_{3}+ 3\\alpha_{4}\\right)\\oplus L\\left( 2\\alpha_{1}+ 3\\alpha_{2}+ 3\\alpha_{3}+ 2\\alpha_{4}\\right)^{6}\\oplus L\\left( 3\\alpha_{1}+ 3\\alpha_{2}+ 3\\alpha_{3}+ 2\\alpha_{4}\\right)^{2}\\oplus L\\left( 2\\alpha_{1}+ 4\\alpha_{2}+ 3\\alpha_{3}+ 2\\alpha_{4}\\right)^{2}\\oplus L\\left( 2\\alpha_{1}+ 3\\alpha_{2}+ 4\\alpha_{3}+ 2\\alpha_{4}\\right)^{2}\\oplus L\\left( 2\\alpha_{1}+ 3\\alpha_{2}+ 3\\alpha_{3}+ 3\\alpha_{4}\\right)^{2}\\oplus L\\left( 3\\alpha_{1}+ 4\\alpha_{2}+ 3\\alpha_{3}+ 2\\alpha_{4}\\right)^{2}\\oplus L\\left( 2\\alpha_{1}+ 4\\alpha_{2}+ 4\\alpha_{3}+ 2\\alpha_{4}\\right)\\oplus L\\left( 3\\alpha_{1}+ 3\\alpha_{2}+ 3\\alpha_{3}+ 3\\alpha_{4}\\right)\\oplus L\\left( 2\\alpha_{1}+ 3\\alpha_{2}+ 4\\alpha_{3}+ 3\\alpha_{4}\\right)^{2}\\oplus L\\left( 4\\alpha_{1}+ 4\\alpha_{2}+ 3\\alpha_{3}+ 2\\alpha_{4}\\right)\\oplus L\\left( 3\\alpha_{1}+ 4\\alpha_{2}+ 4\\alpha_{3}+ 2\\alpha_{4}\\right)\\oplus L\\left( 2\\alpha_{1}+ 4\\alpha_{2}+ 4\\alpha_{3}+ 3\\alpha_{4}\\right)\\oplus L\\left( 2\\alpha_{1}+ 3\\alpha_{2}+ 4\\alpha_{3}+ 4\\alpha_{4}\\right)\\oplus L\\left( 3\\alpha_{1}+ 5\\alpha_{2}+ 4\\alpha_{3}+ 2\\alpha_{4}\\right)\\oplus L\\left( 3\\alpha_{1}+ 4\\alpha_{2}+ 4\\alpha_{3}+ 3\\alpha_{4}\\right)\\oplus L\\left( 2\\alpha_{1}+ 4\\alpha_{2}+ 5\\alpha_{3}+ 3\\alpha_{4}\\right)$$"
      ],
      "text/plain": [
       "<IPython.core.display.Math object>"
      ]
     },
     "metadata": {},
     "output_type": "display_data"
    },
    {
     "data": {
      "text/latex": [
       "$$\\mathrm b^{0}(X_{},\\wedge^{5}T_X)=45576$$"
      ],
      "text/plain": [
       "<IPython.core.display.Math object>"
      ]
     },
     "metadata": {},
     "output_type": "display_data"
    },
    {
     "data": {
      "text/latex": [
       "$$\\mathrm H^{0}(X_{},\\wedge^{6}T_X)=L\\left( 2\\alpha_{1}+ 3\\alpha_{2}+ 2\\alpha_{3}+\\alpha_{4}\\right)\\oplus L\\left( 2\\alpha_{1}+ 2\\alpha_{2}+ 2\\alpha_{3}+ 2\\alpha_{4}\\right)\\oplus L\\left(\\alpha_{1}+ 2\\alpha_{2}+ 3\\alpha_{3}+ 2\\alpha_{4}\\right)\\oplus L\\left( 3\\alpha_{1}+ 3\\alpha_{2}+ 2\\alpha_{3}+\\alpha_{4}\\right)\\oplus L\\left(\\alpha_{1}+ 2\\alpha_{2}+ 3\\alpha_{3}+ 3\\alpha_{4}\\right)\\oplus L\\left( 2\\alpha_{1}+ 3\\alpha_{2}+ 3\\alpha_{3}+ 2\\alpha_{4}\\right)^{6}\\oplus L\\left( 3\\alpha_{1}+ 3\\alpha_{2}+ 3\\alpha_{3}+ 2\\alpha_{4}\\right)^{4}\\oplus L\\left( 2\\alpha_{1}+ 4\\alpha_{2}+ 3\\alpha_{3}+ 2\\alpha_{4}\\right)^{3}\\oplus L\\left( 2\\alpha_{1}+ 3\\alpha_{2}+ 4\\alpha_{3}+ 2\\alpha_{4}\\right)^{3}\\oplus L\\left( 2\\alpha_{1}+ 3\\alpha_{2}+ 3\\alpha_{3}+ 3\\alpha_{4}\\right)^{4}\\oplus L\\left( 3\\alpha_{1}+ 4\\alpha_{2}+ 3\\alpha_{3}+ 2\\alpha_{4}\\right)^{3}\\oplus L\\left( 2\\alpha_{1}+ 4\\alpha_{2}+ 4\\alpha_{3}+ 2\\alpha_{4}\\right)^{2}\\oplus L\\left( 3\\alpha_{1}+ 3\\alpha_{2}+ 3\\alpha_{3}+ 3\\alpha_{4}\\right)^{2}\\oplus L\\left( 2\\alpha_{1}+ 3\\alpha_{2}+ 4\\alpha_{3}+ 3\\alpha_{4}\\right)^{3}\\oplus L\\left( 4\\alpha_{1}+ 4\\alpha_{2}+ 3\\alpha_{3}+ 2\\alpha_{4}\\right)\\oplus L\\left( 3\\alpha_{1}+ 4\\alpha_{2}+ 4\\alpha_{3}+ 2\\alpha_{4}\\right)^{4}\\oplus L\\left( 2\\alpha_{1}+ 4\\alpha_{2}+ 4\\alpha_{3}+ 3\\alpha_{4}\\right)^{4}\\oplus L\\left( 2\\alpha_{1}+ 3\\alpha_{2}+ 4\\alpha_{3}+ 4\\alpha_{4}\\right)\\oplus L\\left( 3\\alpha_{1}+ 5\\alpha_{2}+ 4\\alpha_{3}+ 2\\alpha_{4}\\right)^{2}\\oplus L\\left( 3\\alpha_{1}+ 4\\alpha_{2}+ 4\\alpha_{3}+ 3\\alpha_{4}\\right)^{3}\\oplus L\\left( 2\\alpha_{1}+ 4\\alpha_{2}+ 5\\alpha_{3}+ 3\\alpha_{4}\\right)^{2}\\oplus L\\left( 4\\alpha_{1}+ 5\\alpha_{2}+ 4\\alpha_{3}+ 2\\alpha_{4}\\right)\\oplus L\\left( 3\\alpha_{1}+ 6\\alpha_{2}+ 4\\alpha_{3}+ 2\\alpha_{4}\\right)\\oplus L\\left( 4\\alpha_{1}+ 4\\alpha_{2}+ 4\\alpha_{3}+ 3\\alpha_{4}\\right)\\oplus L\\left( 3\\alpha_{1}+ 5\\alpha_{2}+ 4\\alpha_{3}+ 3\\alpha_{4}\\right)\\oplus L\\left( 3\\alpha_{1}+ 4\\alpha_{2}+ 5\\alpha_{3}+ 3\\alpha_{4}\\right)\\oplus L\\left( 2\\alpha_{1}+ 4\\alpha_{2}+ 6\\alpha_{3}+ 3\\alpha_{4}\\right)\\oplus L\\left( 3\\alpha_{1}+ 4\\alpha_{2}+ 4\\alpha_{3}+ 4\\alpha_{4}\\right)\\oplus L\\left( 2\\alpha_{1}+ 4\\alpha_{2}+ 5\\alpha_{3}+ 4\\alpha_{4}\\right)\\oplus L\\left( 3\\alpha_{1}+ 5\\alpha_{2}+ 5\\alpha_{3}+ 3\\alpha_{4}\\right)$$"
      ],
      "text/plain": [
       "<IPython.core.display.Math object>"
      ]
     },
     "metadata": {},
     "output_type": "display_data"
    },
    {
     "data": {
      "text/latex": [
       "$$\\mathrm b^{0}(X_{},\\wedge^{6}T_X)=134773$$"
      ],
      "text/plain": [
       "<IPython.core.display.Math object>"
      ]
     },
     "metadata": {},
     "output_type": "display_data"
    },
    {
     "data": {
      "text/latex": [
       "$$\\mathrm H^{0}(X_{},\\wedge^{7}T_X)=L\\left( 2\\alpha_{1}+ 3\\alpha_{2}+ 3\\alpha_{3}+ 2\\alpha_{4}\\right)\\oplus L\\left( 3\\alpha_{1}+ 3\\alpha_{2}+ 3\\alpha_{3}+ 2\\alpha_{4}\\right)\\oplus L\\left( 2\\alpha_{1}+ 4\\alpha_{2}+ 3\\alpha_{3}+ 2\\alpha_{4}\\right)\\oplus L\\left( 2\\alpha_{1}+ 3\\alpha_{2}+ 4\\alpha_{3}+ 2\\alpha_{4}\\right)\\oplus L\\left( 2\\alpha_{1}+ 3\\alpha_{2}+ 3\\alpha_{3}+ 3\\alpha_{4}\\right)\\oplus L\\left( 3\\alpha_{1}+ 4\\alpha_{2}+ 3\\alpha_{3}+ 2\\alpha_{4}\\right)^{3}\\oplus L\\left( 2\\alpha_{1}+ 4\\alpha_{2}+ 4\\alpha_{3}+ 2\\alpha_{4}\\right)^{3}\\oplus L\\left( 3\\alpha_{1}+ 3\\alpha_{2}+ 3\\alpha_{3}+ 3\\alpha_{4}\\right)\\oplus L\\left( 2\\alpha_{1}+ 3\\alpha_{2}+ 4\\alpha_{3}+ 3\\alpha_{4}\\right)^{3}\\oplus L\\left( 4\\alpha_{1}+ 4\\alpha_{2}+ 3\\alpha_{3}+ 2\\alpha_{4}\\right)\\oplus L\\left( 3\\alpha_{1}+ 4\\alpha_{2}+ 4\\alpha_{3}+ 2\\alpha_{4}\\right)^{3}\\oplus L\\left( 2\\alpha_{1}+ 4\\alpha_{2}+ 4\\alpha_{3}+ 3\\alpha_{4}\\right)^{3}\\oplus L\\left( 2\\alpha_{1}+ 3\\alpha_{2}+ 4\\alpha_{3}+ 4\\alpha_{4}\\right)\\oplus L\\left( 4\\alpha_{1}+ 4\\alpha_{2}+ 4\\alpha_{3}+ 2\\alpha_{4}\\right)^{2}\\oplus L\\left( 3\\alpha_{1}+ 5\\alpha_{2}+ 4\\alpha_{3}+ 2\\alpha_{4}\\right)^{2}\\oplus L\\left( 3\\alpha_{1}+ 4\\alpha_{2}+ 4\\alpha_{3}+ 3\\alpha_{4}\\right)^{6}\\oplus L\\left( 2\\alpha_{1}+ 4\\alpha_{2}+ 5\\alpha_{3}+ 3\\alpha_{4}\\right)^{2}\\oplus L\\left( 2\\alpha_{1}+ 4\\alpha_{2}+ 4\\alpha_{3}+ 4\\alpha_{4}\\right)^{2}\\oplus L\\left( 4\\alpha_{1}+ 5\\alpha_{2}+ 4\\alpha_{3}+ 2\\alpha_{4}\\right)\\oplus L\\left( 4\\alpha_{1}+ 4\\alpha_{2}+ 4\\alpha_{3}+ 3\\alpha_{4}\\right)\\oplus L\\left( 3\\alpha_{1}+ 5\\alpha_{2}+ 4\\alpha_{3}+ 3\\alpha_{4}\\right)^{3}\\oplus L\\left( 3\\alpha_{1}+ 4\\alpha_{2}+ 5\\alpha_{3}+ 3\\alpha_{4}\\right)^{3}\\oplus L\\left( 3\\alpha_{1}+ 4\\alpha_{2}+ 4\\alpha_{3}+ 4\\alpha_{4}\\right)\\oplus L\\left( 2\\alpha_{1}+ 4\\alpha_{2}+ 5\\alpha_{3}+ 4\\alpha_{4}\\right)\\oplus L\\left( 4\\alpha_{1}+ 6\\alpha_{2}+ 4\\alpha_{3}+ 2\\alpha_{4}\\right)\\oplus L\\left( 4\\alpha_{1}+ 5\\alpha_{2}+ 4\\alpha_{3}+ 3\\alpha_{4}\\right)\\oplus L\\left( 3\\alpha_{1}+ 5\\alpha_{2}+ 5\\alpha_{3}+ 3\\alpha_{4}\\right)^{3}\\oplus L\\left( 4\\alpha_{1}+ 4\\alpha_{2}+ 4\\alpha_{3}+ 4\\alpha_{4}\\right)\\oplus L\\left( 3\\alpha_{1}+ 4\\alpha_{2}+ 5\\alpha_{3}+ 4\\alpha_{4}\\right)\\oplus L\\left( 2\\alpha_{1}+ 4\\alpha_{2}+ 6\\alpha_{3}+ 4\\alpha_{4}\\right)\\oplus L\\left( 4\\alpha_{1}+ 5\\alpha_{2}+ 5\\alpha_{3}+ 3\\alpha_{4}\\right)\\oplus L\\left( 3\\alpha_{1}+ 6\\alpha_{2}+ 5\\alpha_{3}+ 3\\alpha_{4}\\right)\\oplus L\\left( 3\\alpha_{1}+ 5\\alpha_{2}+ 6\\alpha_{3}+ 3\\alpha_{4}\\right)\\oplus L\\left( 3\\alpha_{1}+ 5\\alpha_{2}+ 5\\alpha_{3}+ 4\\alpha_{4}\\right)$$"
      ],
      "text/plain": [
       "<IPython.core.display.Math object>"
      ]
     },
     "metadata": {},
     "output_type": "display_data"
    },
    {
     "data": {
      "text/latex": [
       "$$\\mathrm b^{0}(X_{},\\wedge^{7}T_X)=264427$$"
      ],
      "text/plain": [
       "<IPython.core.display.Math object>"
      ]
     },
     "metadata": {},
     "output_type": "display_data"
    },
    {
     "data": {
      "text/latex": [
       "$$\\mathrm H^{0}(X_{},\\wedge^{8}T_X)=L\\left( 3\\alpha_{1}+ 4\\alpha_{2}+ 4\\alpha_{3}+ 2\\alpha_{4}\\right)\\oplus L\\left( 2\\alpha_{1}+ 4\\alpha_{2}+ 4\\alpha_{3}+ 3\\alpha_{4}\\right)\\oplus L\\left( 3\\alpha_{1}+ 5\\alpha_{2}+ 4\\alpha_{3}+ 2\\alpha_{4}\\right)\\oplus L\\left( 3\\alpha_{1}+ 4\\alpha_{2}+ 4\\alpha_{3}+ 3\\alpha_{4}\\right)^{2}\\oplus L\\left( 2\\alpha_{1}+ 4\\alpha_{2}+ 5\\alpha_{3}+ 3\\alpha_{4}\\right)\\oplus L\\left( 4\\alpha_{1}+ 5\\alpha_{2}+ 4\\alpha_{3}+ 2\\alpha_{4}\\right)\\oplus L\\left( 4\\alpha_{1}+ 4\\alpha_{2}+ 4\\alpha_{3}+ 3\\alpha_{4}\\right)\\oplus L\\left( 3\\alpha_{1}+ 5\\alpha_{2}+ 4\\alpha_{3}+ 3\\alpha_{4}\\right)^{2}\\oplus L\\left( 3\\alpha_{1}+ 4\\alpha_{2}+ 5\\alpha_{3}+ 3\\alpha_{4}\\right)^{2}\\oplus L\\left( 3\\alpha_{1}+ 4\\alpha_{2}+ 4\\alpha_{3}+ 4\\alpha_{4}\\right)\\oplus L\\left( 2\\alpha_{1}+ 4\\alpha_{2}+ 5\\alpha_{3}+ 4\\alpha_{4}\\right)\\oplus L\\left( 4\\alpha_{1}+ 5\\alpha_{2}+ 4\\alpha_{3}+ 3\\alpha_{4}\\right)^{2}\\oplus L\\left( 3\\alpha_{1}+ 5\\alpha_{2}+ 5\\alpha_{3}+ 3\\alpha_{4}\\right)^{3}\\oplus L\\left( 3\\alpha_{1}+ 4\\alpha_{2}+ 5\\alpha_{3}+ 4\\alpha_{4}\\right)^{2}\\oplus L\\left( 4\\alpha_{1}+ 5\\alpha_{2}+ 5\\alpha_{3}+ 3\\alpha_{4}\\right)^{2}\\oplus L\\left( 3\\alpha_{1}+ 6\\alpha_{2}+ 5\\alpha_{3}+ 3\\alpha_{4}\\right)\\oplus L\\left( 3\\alpha_{1}+ 5\\alpha_{2}+ 6\\alpha_{3}+ 3\\alpha_{4}\\right)\\oplus L\\left( 3\\alpha_{1}+ 5\\alpha_{2}+ 5\\alpha_{3}+ 4\\alpha_{4}\\right)^{2}\\oplus L\\left( 4\\alpha_{1}+ 6\\alpha_{2}+ 5\\alpha_{3}+ 3\\alpha_{4}\\right)\\oplus L\\left( 4\\alpha_{1}+ 5\\alpha_{2}+ 6\\alpha_{3}+ 3\\alpha_{4}\\right)\\oplus L\\left( 3\\alpha_{1}+ 6\\alpha_{2}+ 6\\alpha_{3}+ 3\\alpha_{4}\\right)\\oplus L\\left( 4\\alpha_{1}+ 5\\alpha_{2}+ 5\\alpha_{3}+ 4\\alpha_{4}\\right)\\oplus L\\left( 3\\alpha_{1}+ 6\\alpha_{2}+ 5\\alpha_{3}+ 4\\alpha_{4}\\right)\\oplus L\\left( 3\\alpha_{1}+ 5\\alpha_{2}+ 6\\alpha_{3}+ 4\\alpha_{4}\\right)$$"
      ],
      "text/plain": [
       "<IPython.core.display.Math object>"
      ]
     },
     "metadata": {},
     "output_type": "display_data"
    },
    {
     "data": {
      "text/latex": [
       "$$\\mathrm b^{0}(X_{},\\wedge^{8}T_X)=319222$$"
      ],
      "text/plain": [
       "<IPython.core.display.Math object>"
      ]
     },
     "metadata": {},
     "output_type": "display_data"
    },
    {
     "data": {
      "text/latex": [
       "$$\\mathrm H^{0}(X_{},\\wedge^{9}T_X)=L\\left( 3\\alpha_{1}+ 5\\alpha_{2}+ 5\\alpha_{3}+ 3\\alpha_{4}\\right)\\oplus L\\left( 4\\alpha_{1}+ 5\\alpha_{2}+ 5\\alpha_{3}+ 3\\alpha_{4}\\right)\\oplus L\\left( 3\\alpha_{1}+ 5\\alpha_{2}+ 5\\alpha_{3}+ 4\\alpha_{4}\\right)\\oplus L\\left( 4\\alpha_{1}+ 6\\alpha_{2}+ 5\\alpha_{3}+ 3\\alpha_{4}\\right)\\oplus L\\left( 4\\alpha_{1}+ 5\\alpha_{2}+ 5\\alpha_{3}+ 4\\alpha_{4}\\right)\\oplus L\\left( 3\\alpha_{1}+ 5\\alpha_{2}+ 6\\alpha_{3}+ 4\\alpha_{4}\\right)\\oplus L\\left( 4\\alpha_{1}+ 6\\alpha_{2}+ 6\\alpha_{3}+ 3\\alpha_{4}\\right)\\oplus L\\left( 4\\alpha_{1}+ 6\\alpha_{2}+ 5\\alpha_{3}+ 4\\alpha_{4}\\right)\\oplus L\\left( 4\\alpha_{1}+ 5\\alpha_{2}+ 6\\alpha_{3}+ 4\\alpha_{4}\\right)\\oplus L\\left( 3\\alpha_{1}+ 6\\alpha_{2}+ 6\\alpha_{3}+ 4\\alpha_{4}\\right)$$"
      ],
      "text/plain": [
       "<IPython.core.display.Math object>"
      ]
     },
     "metadata": {},
     "output_type": "display_data"
    },
    {
     "data": {
      "text/latex": [
       "$$\\mathrm b^{0}(X_{},\\wedge^{9}T_X)=212178$$"
      ],
      "text/plain": [
       "<IPython.core.display.Math object>"
      ]
     },
     "metadata": {},
     "output_type": "display_data"
    },
    {
     "data": {
      "text/latex": [
       "$$\\mathrm H^{0}(X_{},\\wedge^{10}T_X)=L\\left( 4\\alpha_{1}+ 6\\alpha_{2}+ 6\\alpha_{3}+ 4\\alpha_{4}\\right)$$"
      ],
      "text/plain": [
       "<IPython.core.display.Math object>"
      ]
     },
     "metadata": {},
     "output_type": "display_data"
    },
    {
     "data": {
      "text/latex": [
       "$$\\mathrm b^{0}(X_{},\\wedge^{10}T_X)=59049$$"
      ],
      "text/plain": [
       "<IPython.core.display.Math object>"
      ]
     },
     "metadata": {},
     "output_type": "display_data"
    },
    {
     "name": "stdout",
     "output_type": "stream",
     "text": [
      "\n",
      "dim of u is 9 for root system A4 and subset (1,)\n"
     ]
    },
    {
     "data": {
      "application/vnd.jupyter.widget-view+json": {
       "model_id": "6d98e7b5beb447a09652580340e5ad06",
       "version_major": 2,
       "version_minor": 0
      },
      "text/plain": [
       "HBox(children=(IntProgress(value=0, max=10), HTML(value=u'')))"
      ]
     },
     "metadata": {},
     "output_type": "display_data"
    },
    {
     "data": {
      "application/vnd.jupyter.widget-view+json": {
       "model_id": "9e4831946fac461eba022fe177bf3c39",
       "version_major": 2,
       "version_minor": 0
      },
      "text/plain": [
       "HBox(children=(IntProgress(value=1, bar_style=u'info', max=1), HTML(value=u'')))"
      ]
     },
     "metadata": {},
     "output_type": "display_data"
    },
    {
     "data": {
      "application/vnd.jupyter.widget-view+json": {
       "model_id": "f4d6a3347644424eae45fd48b514d515",
       "version_major": 2,
       "version_minor": 0
      },
      "text/plain": [
       "HBox(children=(IntProgress(value=1, bar_style=u'info', max=1), HTML(value=u'')))"
      ]
     },
     "metadata": {},
     "output_type": "display_data"
    },
    {
     "data": {
      "text/latex": [
       "$$\\mathrm H^{0}(X_{1},\\wedge^{0}T_X)=\\mathbb{C}$$"
      ],
      "text/plain": [
       "<IPython.core.display.Math object>"
      ]
     },
     "metadata": {},
     "output_type": "display_data"
    },
    {
     "data": {
      "text/latex": [
       "$$\\mathrm b^{0}(X_{1},\\wedge^{0}T_X)=1$$"
      ],
      "text/plain": [
       "<IPython.core.display.Math object>"
      ]
     },
     "metadata": {},
     "output_type": "display_data"
    },
    {
     "data": {
      "text/latex": [
       "$$\\mathrm H^{0}(X_{1},\\wedge^{1}T_X)=L\\left(\\alpha_{1}+\\alpha_{2}+\\alpha_{3}+\\alpha_{4}\\right)$$"
      ],
      "text/plain": [
       "<IPython.core.display.Math object>"
      ]
     },
     "metadata": {},
     "output_type": "display_data"
    },
    {
     "data": {
      "text/latex": [
       "$$\\mathrm b^{0}(X_{1},\\wedge^{1}T_X)=24$$"
      ],
      "text/plain": [
       "<IPython.core.display.Math object>"
      ]
     },
     "metadata": {},
     "output_type": "display_data"
    },
    {
     "data": {
      "text/latex": [
       "$$\\mathrm H^{0}(X_{1},\\wedge^{2}T_X)=L\\left(\\alpha_{1}+\\alpha_{2}+\\alpha_{3}+\\alpha_{4}\\right)\\oplus L\\left( 2\\alpha_{1}+ 2\\alpha_{2}+ 2\\alpha_{3}+\\alpha_{4}\\right)\\oplus L\\left(\\alpha_{1}+ 2\\alpha_{2}+ 2\\alpha_{3}+ 2\\alpha_{4}\\right)$$"
      ],
      "text/plain": [
       "<IPython.core.display.Math object>"
      ]
     },
     "metadata": {},
     "output_type": "display_data"
    },
    {
     "data": {
      "text/latex": [
       "$$\\mathrm b^{0}(X_{1},\\wedge^{2}T_X)=276$$"
      ],
      "text/plain": [
       "<IPython.core.display.Math object>"
      ]
     },
     "metadata": {},
     "output_type": "display_data"
    },
    {
     "data": {
      "text/latex": [
       "$$\\mathrm H^{0}(X_{1},\\wedge^{3}T_X)=L\\left(\\alpha_{1}+\\alpha_{2}+\\alpha_{3}+\\alpha_{4}\\right)\\oplus L\\left(\\alpha_{1}+ 2\\alpha_{2}+ 2\\alpha_{3}+\\alpha_{4}\\right)\\oplus L\\left( 2\\alpha_{1}+ 2\\alpha_{2}+ 2\\alpha_{3}+\\alpha_{4}\\right)\\oplus L\\left(\\alpha_{1}+ 2\\alpha_{2}+ 2\\alpha_{3}+ 2\\alpha_{4}\\right)\\oplus L\\left( 2\\alpha_{1}+ 2\\alpha_{2}+ 2\\alpha_{3}+ 2\\alpha_{4}\\right)\\oplus L\\left( 3\\alpha_{1}+ 3\\alpha_{2}+ 2\\alpha_{3}+\\alpha_{4}\\right)\\oplus L\\left(\\alpha_{1}+ 2\\alpha_{2}+ 3\\alpha_{3}+ 3\\alpha_{4}\\right)\\oplus L\\left( 2\\alpha_{1}+ 3\\alpha_{2}+ 3\\alpha_{3}+ 2\\alpha_{4}\\right)$$"
      ],
      "text/plain": [
       "<IPython.core.display.Math object>"
      ]
     },
     "metadata": {},
     "output_type": "display_data"
    },
    {
     "data": {
      "text/latex": [
       "$$\\mathrm b^{0}(X_{1},\\wedge^{3}T_X)=2023$$"
      ],
      "text/plain": [
       "<IPython.core.display.Math object>"
      ]
     },
     "metadata": {},
     "output_type": "display_data"
    },
    {
     "data": {
      "text/latex": [
       "$$\\mathrm H^{0}(X_{1},\\wedge^{4}T_X)=L\\left(\\alpha_{1}+ 2\\alpha_{2}+ 2\\alpha_{3}+\\alpha_{4}\\right)^{2}\\oplus L\\left( 2\\alpha_{1}+ 2\\alpha_{2}+ 2\\alpha_{3}+\\alpha_{4}\\right)\\oplus L\\left(\\alpha_{1}+ 2\\alpha_{2}+ 2\\alpha_{3}+ 2\\alpha_{4}\\right)\\oplus L\\left( 2\\alpha_{1}+ 3\\alpha_{2}+ 2\\alpha_{3}+\\alpha_{4}\\right)\\oplus L\\left( 2\\alpha_{1}+ 2\\alpha_{2}+ 2\\alpha_{3}+ 2\\alpha_{4}\\right)^{2}\\oplus L\\left(\\alpha_{1}+ 2\\alpha_{2}+ 3\\alpha_{3}+ 2\\alpha_{4}\\right)^{2}\\oplus L\\left(\\alpha_{1}+ 2\\alpha_{2}+ 3\\alpha_{3}+ 3\\alpha_{4}\\right)\\oplus L\\left( 2\\alpha_{1}+ 3\\alpha_{2}+ 3\\alpha_{3}+ 2\\alpha_{4}\\right)^{2}\\oplus L\\left(\\alpha_{1}+ 2\\alpha_{2}+ 3\\alpha_{3}+ 4\\alpha_{4}\\right)\\oplus L\\left( 3\\alpha_{1}+ 3\\alpha_{2}+ 3\\alpha_{3}+ 2\\alpha_{4}\\right)\\oplus L\\left( 2\\alpha_{1}+ 3\\alpha_{2}+ 3\\alpha_{3}+ 3\\alpha_{4}\\right)\\oplus L\\left( 3\\alpha_{1}+ 4\\alpha_{2}+ 3\\alpha_{3}+ 2\\alpha_{4}\\right)\\oplus L\\left( 2\\alpha_{1}+ 4\\alpha_{2}+ 4\\alpha_{3}+ 2\\alpha_{4}\\right)\\oplus L\\left( 2\\alpha_{1}+ 3\\alpha_{2}+ 4\\alpha_{3}+ 3\\alpha_{4}\\right)$$"
      ],
      "text/plain": [
       "<IPython.core.display.Math object>"
      ]
     },
     "metadata": {},
     "output_type": "display_data"
    },
    {
     "data": {
      "text/latex": [
       "$$\\mathrm b^{0}(X_{1},\\wedge^{4}T_X)=10403$$"
      ],
      "text/plain": [
       "<IPython.core.display.Math object>"
      ]
     },
     "metadata": {},
     "output_type": "display_data"
    },
    {
     "data": {
      "text/latex": [
       "$$\\mathrm H^{0}(X_{1},\\wedge^{5}T_X)=L\\left(\\alpha_{1}+ 2\\alpha_{2}+ 2\\alpha_{3}+ 2\\alpha_{4}\\right)\\oplus L\\left( 2\\alpha_{1}+ 3\\alpha_{2}+ 2\\alpha_{3}+\\alpha_{4}\\right)\\oplus L\\left(\\alpha_{1}+ 2\\alpha_{2}+ 3\\alpha_{3}+ 2\\alpha_{4}\\right)\\oplus L\\left(\\alpha_{1}+ 2\\alpha_{2}+ 3\\alpha_{3}+ 3\\alpha_{4}\\right)\\oplus L\\left( 2\\alpha_{1}+ 3\\alpha_{2}+ 3\\alpha_{3}+ 2\\alpha_{4}\\right)^{4}\\oplus L\\left( 3\\alpha_{1}+ 3\\alpha_{2}+ 3\\alpha_{3}+ 2\\alpha_{4}\\right)\\oplus L\\left( 2\\alpha_{1}+ 4\\alpha_{2}+ 3\\alpha_{3}+ 2\\alpha_{4}\\right)\\oplus L\\left( 2\\alpha_{1}+ 3\\alpha_{2}+ 4\\alpha_{3}+ 2\\alpha_{4}\\right)^{2}\\oplus L\\left( 2\\alpha_{1}+ 3\\alpha_{2}+ 3\\alpha_{3}+ 3\\alpha_{4}\\right)^{2}\\oplus L\\left( 3\\alpha_{1}+ 4\\alpha_{2}+ 3\\alpha_{3}+ 2\\alpha_{4}\\right)\\oplus L\\left( 2\\alpha_{1}+ 4\\alpha_{2}+ 4\\alpha_{3}+ 2\\alpha_{4}\\right)\\oplus L\\left( 3\\alpha_{1}+ 3\\alpha_{2}+ 3\\alpha_{3}+ 3\\alpha_{4}\\right)\\oplus L\\left( 2\\alpha_{1}+ 3\\alpha_{2}+ 4\\alpha_{3}+ 3\\alpha_{4}\\right)^{2}\\oplus L\\left( 3\\alpha_{1}+ 4\\alpha_{2}+ 4\\alpha_{3}+ 2\\alpha_{4}\\right)\\oplus L\\left( 2\\alpha_{1}+ 4\\alpha_{2}+ 4\\alpha_{3}+ 3\\alpha_{4}\\right)\\oplus L\\left( 2\\alpha_{1}+ 3\\alpha_{2}+ 4\\alpha_{3}+ 4\\alpha_{4}\\right)\\oplus L\\left( 3\\alpha_{1}+ 5\\alpha_{2}+ 4\\alpha_{3}+ 2\\alpha_{4}\\right)\\oplus L\\left( 3\\alpha_{1}+ 4\\alpha_{2}+ 4\\alpha_{3}+ 3\\alpha_{4}\\right)\\oplus L\\left( 2\\alpha_{1}+ 4\\alpha_{2}+ 5\\alpha_{3}+ 3\\alpha_{4}\\right)$$"
      ],
      "text/plain": [
       "<IPython.core.display.Math object>"
      ]
     },
     "metadata": {},
     "output_type": "display_data"
    },
    {
     "data": {
      "text/latex": [
       "$$\\mathrm b^{0}(X_{1},\\wedge^{5}T_X)=36648$$"
      ],
      "text/plain": [
       "<IPython.core.display.Math object>"
      ]
     },
     "metadata": {},
     "output_type": "display_data"
    },
    {
     "data": {
      "text/latex": [
       "$$\\mathrm H^{0}(X_{1},\\wedge^{6}T_X)=L\\left( 2\\alpha_{1}+ 3\\alpha_{2}+ 3\\alpha_{3}+ 2\\alpha_{4}\\right)\\oplus L\\left( 2\\alpha_{1}+ 4\\alpha_{2}+ 3\\alpha_{3}+ 2\\alpha_{4}\\right)^{2}\\oplus L\\left( 2\\alpha_{1}+ 3\\alpha_{2}+ 4\\alpha_{3}+ 2\\alpha_{4}\\right)\\oplus L\\left( 2\\alpha_{1}+ 3\\alpha_{2}+ 3\\alpha_{3}+ 3\\alpha_{4}\\right)\\oplus L\\left( 3\\alpha_{1}+ 4\\alpha_{2}+ 3\\alpha_{3}+ 2\\alpha_{4}\\right)\\oplus L\\left( 2\\alpha_{1}+ 4\\alpha_{2}+ 4\\alpha_{3}+ 2\\alpha_{4}\\right)\\oplus L\\left( 2\\alpha_{1}+ 3\\alpha_{2}+ 4\\alpha_{3}+ 3\\alpha_{4}\\right)^{2}\\oplus L\\left( 3\\alpha_{1}+ 4\\alpha_{2}+ 4\\alpha_{3}+ 2\\alpha_{4}\\right)^{2}\\oplus L\\left( 2\\alpha_{1}+ 4\\alpha_{2}+ 4\\alpha_{3}+ 3\\alpha_{4}\\right)^{3}\\oplus L\\left( 2\\alpha_{1}+ 3\\alpha_{2}+ 4\\alpha_{3}+ 4\\alpha_{4}\\right)\\oplus L\\left( 3\\alpha_{1}+ 5\\alpha_{2}+ 4\\alpha_{3}+ 2\\alpha_{4}\\right)\\oplus L\\left( 3\\alpha_{1}+ 4\\alpha_{2}+ 4\\alpha_{3}+ 3\\alpha_{4}\\right)^{2}\\oplus L\\left( 2\\alpha_{1}+ 4\\alpha_{2}+ 5\\alpha_{3}+ 3\\alpha_{4}\\right)^{2}\\oplus L\\left( 3\\alpha_{1}+ 6\\alpha_{2}+ 4\\alpha_{3}+ 2\\alpha_{4}\\right)\\oplus L\\left( 3\\alpha_{1}+ 5\\alpha_{2}+ 4\\alpha_{3}+ 3\\alpha_{4}\\right)\\oplus L\\left( 3\\alpha_{1}+ 4\\alpha_{2}+ 5\\alpha_{3}+ 3\\alpha_{4}\\right)\\oplus L\\left( 2\\alpha_{1}+ 4\\alpha_{2}+ 6\\alpha_{3}+ 3\\alpha_{4}\\right)\\oplus L\\left( 3\\alpha_{1}+ 4\\alpha_{2}+ 4\\alpha_{3}+ 4\\alpha_{4}\\right)\\oplus L\\left( 2\\alpha_{1}+ 4\\alpha_{2}+ 5\\alpha_{3}+ 4\\alpha_{4}\\right)\\oplus L\\left( 3\\alpha_{1}+ 5\\alpha_{2}+ 5\\alpha_{3}+ 3\\alpha_{4}\\right)$$"
      ],
      "text/plain": [
       "<IPython.core.display.Math object>"
      ]
     },
     "metadata": {},
     "output_type": "display_data"
    },
    {
     "data": {
      "text/latex": [
       "$$\\mathrm b^{0}(X_{1},\\wedge^{6}T_X)=82252$$"
      ],
      "text/plain": [
       "<IPython.core.display.Math object>"
      ]
     },
     "metadata": {},
     "output_type": "display_data"
    },
    {
     "data": {
      "text/latex": [
       "$$\\mathrm H^{0}(X_{1},\\wedge^{7}T_X)=L\\left( 2\\alpha_{1}+ 4\\alpha_{2}+ 4\\alpha_{3}+ 2\\alpha_{4}\\right)\\oplus L\\left( 2\\alpha_{1}+ 4\\alpha_{2}+ 4\\alpha_{3}+ 3\\alpha_{4}\\right)\\oplus L\\left( 3\\alpha_{1}+ 5\\alpha_{2}+ 4\\alpha_{3}+ 2\\alpha_{4}\\right)\\oplus L\\left( 3\\alpha_{1}+ 4\\alpha_{2}+ 4\\alpha_{3}+ 3\\alpha_{4}\\right)\\oplus L\\left( 2\\alpha_{1}+ 4\\alpha_{2}+ 5\\alpha_{3}+ 3\\alpha_{4}\\right)\\oplus L\\left( 2\\alpha_{1}+ 4\\alpha_{2}+ 4\\alpha_{3}+ 4\\alpha_{4}\\right)\\oplus L\\left( 3\\alpha_{1}+ 5\\alpha_{2}+ 4\\alpha_{3}+ 3\\alpha_{4}\\right)^{2}\\oplus L\\left( 3\\alpha_{1}+ 4\\alpha_{2}+ 5\\alpha_{3}+ 3\\alpha_{4}\\right)\\oplus L\\left( 2\\alpha_{1}+ 4\\alpha_{2}+ 5\\alpha_{3}+ 4\\alpha_{4}\\right)\\oplus L\\left( 3\\alpha_{1}+ 5\\alpha_{2}+ 5\\alpha_{3}+ 3\\alpha_{4}\\right)^{2}\\oplus L\\left( 3\\alpha_{1}+ 4\\alpha_{2}+ 5\\alpha_{3}+ 4\\alpha_{4}\\right)\\oplus L\\left( 2\\alpha_{1}+ 4\\alpha_{2}+ 6\\alpha_{3}+ 4\\alpha_{4}\\right)\\oplus L\\left( 3\\alpha_{1}+ 6\\alpha_{2}+ 5\\alpha_{3}+ 3\\alpha_{4}\\right)\\oplus L\\left( 3\\alpha_{1}+ 5\\alpha_{2}+ 6\\alpha_{3}+ 3\\alpha_{4}\\right)\\oplus L\\left( 3\\alpha_{1}+ 5\\alpha_{2}+ 5\\alpha_{3}+ 4\\alpha_{4}\\right)$$"
      ],
      "text/plain": [
       "<IPython.core.display.Math object>"
      ]
     },
     "metadata": {},
     "output_type": "display_data"
    },
    {
     "data": {
      "text/latex": [
       "$$\\mathrm b^{0}(X_{1},\\wedge^{7}T_X)=109723$$"
      ],
      "text/plain": [
       "<IPython.core.display.Math object>"
      ]
     },
     "metadata": {},
     "output_type": "display_data"
    },
    {
     "data": {
      "text/latex": [
       "$$\\mathrm H^{0}(X_{1},\\wedge^{8}T_X)=L\\left( 3\\alpha_{1}+ 5\\alpha_{2}+ 5\\alpha_{3}+ 3\\alpha_{4}\\right)\\oplus L\\left( 3\\alpha_{1}+ 6\\alpha_{2}+ 5\\alpha_{3}+ 3\\alpha_{4}\\right)\\oplus L\\left( 3\\alpha_{1}+ 5\\alpha_{2}+ 5\\alpha_{3}+ 4\\alpha_{4}\\right)\\oplus L\\left( 3\\alpha_{1}+ 6\\alpha_{2}+ 6\\alpha_{3}+ 3\\alpha_{4}\\right)\\oplus L\\left( 3\\alpha_{1}+ 6\\alpha_{2}+ 5\\alpha_{3}+ 4\\alpha_{4}\\right)\\oplus L\\left( 3\\alpha_{1}+ 5\\alpha_{2}+ 6\\alpha_{3}+ 4\\alpha_{4}\\right)$$"
      ],
      "text/plain": [
       "<IPython.core.display.Math object>"
      ]
     },
     "metadata": {},
     "output_type": "display_data"
    },
    {
     "data": {
      "text/latex": [
       "$$\\mathrm b^{0}(X_{1},\\wedge^{8}T_X)=78526$$"
      ],
      "text/plain": [
       "<IPython.core.display.Math object>"
      ]
     },
     "metadata": {},
     "output_type": "display_data"
    },
    {
     "data": {
      "text/latex": [
       "$$\\mathrm H^{0}(X_{1},\\wedge^{9}T_X)=L\\left( 3\\alpha_{1}+ 6\\alpha_{2}+ 6\\alpha_{3}+ 4\\alpha_{4}\\right)$$"
      ],
      "text/plain": [
       "<IPython.core.display.Math object>"
      ]
     },
     "metadata": {},
     "output_type": "display_data"
    },
    {
     "data": {
      "text/latex": [
       "$$\\mathrm b^{0}(X_{1},\\wedge^{9}T_X)=23100$$"
      ],
      "text/plain": [
       "<IPython.core.display.Math object>"
      ]
     },
     "metadata": {},
     "output_type": "display_data"
    },
    {
     "name": "stdout",
     "output_type": "stream",
     "text": [
      "\n",
      "dim of u is 9 for root system A4 and subset (2,)\n"
     ]
    },
    {
     "data": {
      "application/vnd.jupyter.widget-view+json": {
       "model_id": "8eae32a7c08c4929b08e0008cee2eea1",
       "version_major": 2,
       "version_minor": 0
      },
      "text/plain": [
       "HBox(children=(IntProgress(value=0, max=10), HTML(value=u'')))"
      ]
     },
     "metadata": {},
     "output_type": "display_data"
    },
    {
     "data": {
      "application/vnd.jupyter.widget-view+json": {
       "model_id": "bfa881b0f8344eb0bc16ecac573eaa22",
       "version_major": 2,
       "version_minor": 0
      },
      "text/plain": [
       "HBox(children=(IntProgress(value=1, bar_style=u'info', max=1), HTML(value=u'')))"
      ]
     },
     "metadata": {},
     "output_type": "display_data"
    },
    {
     "data": {
      "application/vnd.jupyter.widget-view+json": {
       "model_id": "b3fab3026d6f4793b0bf6fddf2550b66",
       "version_major": 2,
       "version_minor": 0
      },
      "text/plain": [
       "HBox(children=(IntProgress(value=1, bar_style=u'info', max=1), HTML(value=u'')))"
      ]
     },
     "metadata": {},
     "output_type": "display_data"
    },
    {
     "data": {
      "text/latex": [
       "$$\\mathrm H^{0}(X_{2},\\wedge^{0}T_X)=\\mathbb{C}$$"
      ],
      "text/plain": [
       "<IPython.core.display.Math object>"
      ]
     },
     "metadata": {},
     "output_type": "display_data"
    },
    {
     "data": {
      "text/latex": [
       "$$\\mathrm b^{0}(X_{2},\\wedge^{0}T_X)=1$$"
      ],
      "text/plain": [
       "<IPython.core.display.Math object>"
      ]
     },
     "metadata": {},
     "output_type": "display_data"
    },
    {
     "data": {
      "text/latex": [
       "$$\\mathrm H^{0}(X_{2},\\wedge^{1}T_X)=L\\left(\\alpha_{1}+\\alpha_{2}+\\alpha_{3}+\\alpha_{4}\\right)$$"
      ],
      "text/plain": [
       "<IPython.core.display.Math object>"
      ]
     },
     "metadata": {},
     "output_type": "display_data"
    },
    {
     "data": {
      "text/latex": [
       "$$\\mathrm b^{0}(X_{2},\\wedge^{1}T_X)=24$$"
      ],
      "text/plain": [
       "<IPython.core.display.Math object>"
      ]
     },
     "metadata": {},
     "output_type": "display_data"
    },
    {
     "data": {
      "text/latex": [
       "$$\\mathrm H^{0}(X_{2},\\wedge^{2}T_X)=L\\left(\\alpha_{1}+\\alpha_{2}+\\alpha_{3}+\\alpha_{4}\\right)\\oplus L\\left( 2\\alpha_{1}+ 2\\alpha_{2}+ 2\\alpha_{3}+\\alpha_{4}\\right)\\oplus L\\left(\\alpha_{1}+ 2\\alpha_{2}+ 2\\alpha_{3}+ 2\\alpha_{4}\\right)$$"
      ],
      "text/plain": [
       "<IPython.core.display.Math object>"
      ]
     },
     "metadata": {},
     "output_type": "display_data"
    },
    {
     "data": {
      "text/latex": [
       "$$\\mathrm b^{0}(X_{2},\\wedge^{2}T_X)=276$$"
      ],
      "text/plain": [
       "<IPython.core.display.Math object>"
      ]
     },
     "metadata": {},
     "output_type": "display_data"
    },
    {
     "data": {
      "text/latex": [
       "$$\\mathrm H^{0}(X_{2},\\wedge^{3}T_X)=L\\left(\\alpha_{1}+\\alpha_{2}+\\alpha_{3}+\\alpha_{4}\\right)\\oplus L\\left(\\alpha_{1}+ 2\\alpha_{2}+ 2\\alpha_{3}+\\alpha_{4}\\right)^{2}\\oplus L\\left( 2\\alpha_{1}+ 2\\alpha_{2}+ 2\\alpha_{3}+\\alpha_{4}\\right)\\oplus L\\left(\\alpha_{1}+ 2\\alpha_{2}+ 2\\alpha_{3}+ 2\\alpha_{4}\\right)\\oplus L\\left( 2\\alpha_{1}+ 3\\alpha_{2}+ 2\\alpha_{3}+\\alpha_{4}\\right)\\oplus L\\left( 2\\alpha_{1}+ 2\\alpha_{2}+ 2\\alpha_{3}+ 2\\alpha_{4}\\right)\\oplus L\\left( 3\\alpha_{1}+ 3\\alpha_{2}+ 2\\alpha_{3}+\\alpha_{4}\\right)\\oplus L\\left(\\alpha_{1}+ 2\\alpha_{2}+ 3\\alpha_{3}+ 3\\alpha_{4}\\right)\\oplus L\\left( 2\\alpha_{1}+ 3\\alpha_{2}+ 3\\alpha_{3}+ 2\\alpha_{4}\\right)$$"
      ],
      "text/plain": [
       "<IPython.core.display.Math object>"
      ]
     },
     "metadata": {},
     "output_type": "display_data"
    },
    {
     "data": {
      "text/latex": [
       "$$\\mathrm b^{0}(X_{2},\\wedge^{3}T_X)=2273$$"
      ],
      "text/plain": [
       "<IPython.core.display.Math object>"
      ]
     },
     "metadata": {},
     "output_type": "display_data"
    },
    {
     "data": {
      "text/latex": [
       "$$\\mathrm H^{0}(X_{2},\\wedge^{4}T_X)=L\\left(\\alpha_{1}+ 2\\alpha_{2}+ 2\\alpha_{3}+\\alpha_{4}\\right)\\oplus L\\left( 2\\alpha_{1}+ 2\\alpha_{2}+ 2\\alpha_{3}+\\alpha_{4}\\right)\\oplus L\\left(\\alpha_{1}+ 2\\alpha_{2}+ 2\\alpha_{3}+ 2\\alpha_{4}\\right)^{2}\\oplus L\\left( 2\\alpha_{1}+ 3\\alpha_{2}+ 2\\alpha_{3}+\\alpha_{4}\\right)^{2}\\oplus L\\left( 2\\alpha_{1}+ 2\\alpha_{2}+ 2\\alpha_{3}+ 2\\alpha_{4}\\right)^{2}\\oplus L\\left(\\alpha_{1}+ 2\\alpha_{2}+ 3\\alpha_{3}+ 2\\alpha_{4}\\right)^{2}\\oplus L\\left( 3\\alpha_{1}+ 3\\alpha_{2}+ 2\\alpha_{3}+\\alpha_{4}\\right)\\oplus L\\left(\\alpha_{1}+ 2\\alpha_{2}+ 3\\alpha_{3}+ 3\\alpha_{4}\\right)\\oplus L\\left( 4\\alpha_{1}+ 3\\alpha_{2}+ 2\\alpha_{3}+\\alpha_{4}\\right)\\oplus L\\left( 2\\alpha_{1}+ 3\\alpha_{2}+ 3\\alpha_{3}+ 2\\alpha_{4}\\right)^{3}\\oplus L\\left(\\alpha_{1}+ 2\\alpha_{2}+ 3\\alpha_{3}+ 4\\alpha_{4}\\right)\\oplus L\\left( 3\\alpha_{1}+ 3\\alpha_{2}+ 3\\alpha_{3}+ 2\\alpha_{4}\\right)\\oplus L\\left( 2\\alpha_{1}+ 4\\alpha_{2}+ 3\\alpha_{3}+ 2\\alpha_{4}\\right)\\oplus L\\left( 2\\alpha_{1}+ 3\\alpha_{2}+ 3\\alpha_{3}+ 3\\alpha_{4}\\right)\\oplus L\\left( 3\\alpha_{1}+ 4\\alpha_{2}+ 3\\alpha_{3}+ 2\\alpha_{4}\\right)\\oplus L\\left( 2\\alpha_{1}+ 4\\alpha_{2}+ 4\\alpha_{3}+ 2\\alpha_{4}\\right)\\oplus L\\left( 2\\alpha_{1}+ 3\\alpha_{2}+ 4\\alpha_{3}+ 3\\alpha_{4}\\right)$$"
      ],
      "text/plain": [
       "<IPython.core.display.Math object>"
      ]
     },
     "metadata": {},
     "output_type": "display_data"
    },
    {
     "data": {
      "text/latex": [
       "$$\\mathrm b^{0}(X_{2},\\wedge^{4}T_X)=12703$$"
      ],
      "text/plain": [
       "<IPython.core.display.Math object>"
      ]
     },
     "metadata": {},
     "output_type": "display_data"
    },
    {
     "data": {
      "text/latex": [
       "$$\\mathrm H^{0}(X_{2},\\wedge^{5}T_X)=L\\left( 2\\alpha_{1}+ 2\\alpha_{2}+ 2\\alpha_{3}+\\alpha_{4}\\right)\\oplus L\\left( 2\\alpha_{1}+ 2\\alpha_{2}+ 2\\alpha_{3}+ 2\\alpha_{4}\\right)\\oplus L\\left(\\alpha_{1}+ 2\\alpha_{2}+ 3\\alpha_{3}+ 2\\alpha_{4}\\right)\\oplus L\\left( 3\\alpha_{1}+ 3\\alpha_{2}+ 2\\alpha_{3}+\\alpha_{4}\\right)\\oplus L\\left(\\alpha_{1}+ 2\\alpha_{2}+ 3\\alpha_{3}+ 3\\alpha_{4}\\right)\\oplus L\\left( 2\\alpha_{1}+ 3\\alpha_{2}+ 3\\alpha_{3}+ 2\\alpha_{4}\\right)^{4}\\oplus L\\left( 3\\alpha_{1}+ 3\\alpha_{2}+ 3\\alpha_{3}+ 2\\alpha_{4}\\right)^{2}\\oplus L\\left( 2\\alpha_{1}+ 4\\alpha_{2}+ 3\\alpha_{3}+ 2\\alpha_{4}\\right)\\oplus L\\left( 2\\alpha_{1}+ 3\\alpha_{2}+ 4\\alpha_{3}+ 2\\alpha_{4}\\right)^{2}\\oplus L\\left( 2\\alpha_{1}+ 3\\alpha_{2}+ 3\\alpha_{3}+ 3\\alpha_{4}\\right)^{3}\\oplus L\\left( 3\\alpha_{1}+ 4\\alpha_{2}+ 3\\alpha_{3}+ 2\\alpha_{4}\\right)^{2}\\oplus L\\left( 2\\alpha_{1}+ 4\\alpha_{2}+ 4\\alpha_{3}+ 2\\alpha_{4}\\right)\\oplus L\\left( 3\\alpha_{1}+ 3\\alpha_{2}+ 3\\alpha_{3}+ 3\\alpha_{4}\\right)\\oplus L\\left( 2\\alpha_{1}+ 3\\alpha_{2}+ 4\\alpha_{3}+ 3\\alpha_{4}\\right)^{2}\\oplus L\\left( 4\\alpha_{1}+ 4\\alpha_{2}+ 3\\alpha_{3}+ 2\\alpha_{4}\\right)\\oplus L\\left( 3\\alpha_{1}+ 4\\alpha_{2}+ 4\\alpha_{3}+ 2\\alpha_{4}\\right)\\oplus L\\left( 2\\alpha_{1}+ 4\\alpha_{2}+ 4\\alpha_{3}+ 3\\alpha_{4}\\right)^{2}\\oplus L\\left( 2\\alpha_{1}+ 3\\alpha_{2}+ 4\\alpha_{3}+ 4\\alpha_{4}\\right)\\oplus L\\left( 3\\alpha_{1}+ 5\\alpha_{2}+ 4\\alpha_{3}+ 2\\alpha_{4}\\right)\\oplus L\\left( 3\\alpha_{1}+ 4\\alpha_{2}+ 4\\alpha_{3}+ 3\\alpha_{4}\\right)\\oplus L\\left( 2\\alpha_{1}+ 4\\alpha_{2}+ 5\\alpha_{3}+ 3\\alpha_{4}\\right)$$"
      ],
      "text/plain": [
       "<IPython.core.display.Math object>"
      ]
     },
     "metadata": {},
     "output_type": "display_data"
    },
    {
     "data": {
      "text/latex": [
       "$$\\mathrm b^{0}(X_{2},\\wedge^{5}T_X)=45148$$"
      ],
      "text/plain": [
       "<IPython.core.display.Math object>"
      ]
     },
     "metadata": {},
     "output_type": "display_data"
    },
    {
     "data": {
      "text/latex": [
       "$$\\mathrm H^{0}(X_{2},\\wedge^{6}T_X)=L\\left( 2\\alpha_{1}+ 3\\alpha_{2}+ 3\\alpha_{3}+ 2\\alpha_{4}\\right)\\oplus L\\left( 3\\alpha_{1}+ 3\\alpha_{2}+ 3\\alpha_{3}+ 2\\alpha_{4}\\right)^{2}\\oplus L\\left( 2\\alpha_{1}+ 3\\alpha_{2}+ 4\\alpha_{3}+ 2\\alpha_{4}\\right)^{2}\\oplus L\\left( 2\\alpha_{1}+ 3\\alpha_{2}+ 3\\alpha_{3}+ 3\\alpha_{4}\\right)\\oplus L\\left( 3\\alpha_{1}+ 4\\alpha_{2}+ 3\\alpha_{3}+ 2\\alpha_{4}\\right)\\oplus L\\left( 2\\alpha_{1}+ 4\\alpha_{2}+ 4\\alpha_{3}+ 2\\alpha_{4}\\right)\\oplus L\\left( 3\\alpha_{1}+ 3\\alpha_{2}+ 3\\alpha_{3}+ 3\\alpha_{4}\\right)^{2}\\oplus L\\left( 2\\alpha_{1}+ 3\\alpha_{2}+ 4\\alpha_{3}+ 3\\alpha_{4}\\right)^{2}\\oplus L\\left( 4\\alpha_{1}+ 4\\alpha_{2}+ 3\\alpha_{3}+ 2\\alpha_{4}\\right)\\oplus L\\left( 3\\alpha_{1}+ 4\\alpha_{2}+ 4\\alpha_{3}+ 2\\alpha_{4}\\right)^{2}\\oplus L\\left( 2\\alpha_{1}+ 4\\alpha_{2}+ 4\\alpha_{3}+ 3\\alpha_{4}\\right)^{2}\\oplus L\\left( 2\\alpha_{1}+ 3\\alpha_{2}+ 4\\alpha_{3}+ 4\\alpha_{4}\\right)\\oplus L\\left( 3\\alpha_{1}+ 4\\alpha_{2}+ 4\\alpha_{3}+ 3\\alpha_{4}\\right)^{3}\\oplus L\\left( 2\\alpha_{1}+ 4\\alpha_{2}+ 5\\alpha_{3}+ 3\\alpha_{4}\\right)^{2}\\oplus L\\left( 2\\alpha_{1}+ 4\\alpha_{2}+ 4\\alpha_{3}+ 4\\alpha_{4}\\right)\\oplus L\\left( 4\\alpha_{1}+ 5\\alpha_{2}+ 4\\alpha_{3}+ 2\\alpha_{4}\\right)\\oplus L\\left( 4\\alpha_{1}+ 4\\alpha_{2}+ 4\\alpha_{3}+ 3\\alpha_{4}\\right)\\oplus L\\left( 3\\alpha_{1}+ 5\\alpha_{2}+ 4\\alpha_{3}+ 3\\alpha_{4}\\right)\\oplus L\\left( 3\\alpha_{1}+ 4\\alpha_{2}+ 5\\alpha_{3}+ 3\\alpha_{4}\\right)\\oplus L\\left( 2\\alpha_{1}+ 4\\alpha_{2}+ 6\\alpha_{3}+ 3\\alpha_{4}\\right)\\oplus L\\left( 3\\alpha_{1}+ 4\\alpha_{2}+ 4\\alpha_{3}+ 4\\alpha_{4}\\right)\\oplus L\\left( 2\\alpha_{1}+ 4\\alpha_{2}+ 5\\alpha_{3}+ 4\\alpha_{4}\\right)\\oplus L\\left( 3\\alpha_{1}+ 5\\alpha_{2}+ 5\\alpha_{3}+ 3\\alpha_{4}\\right)$$"
      ],
      "text/plain": [
       "<IPython.core.display.Math object>"
      ]
     },
     "metadata": {},
     "output_type": "display_data"
    },
    {
     "data": {
      "text/latex": [
       "$$\\mathrm b^{0}(X_{2},\\wedge^{6}T_X)=98552$$"
      ],
      "text/plain": [
       "<IPython.core.display.Math object>"
      ]
     },
     "metadata": {},
     "output_type": "display_data"
    },
    {
     "data": {
      "text/latex": [
       "$$\\mathrm H^{0}(X_{2},\\wedge^{7}T_X)=L\\left( 2\\alpha_{1}+ 3\\alpha_{2}+ 4\\alpha_{3}+ 3\\alpha_{4}\\right)\\oplus L\\left( 3\\alpha_{1}+ 4\\alpha_{2}+ 4\\alpha_{3}+ 2\\alpha_{4}\\right)\\oplus L\\left( 4\\alpha_{1}+ 4\\alpha_{2}+ 4\\alpha_{3}+ 2\\alpha_{4}\\right)\\oplus L\\left( 3\\alpha_{1}+ 4\\alpha_{2}+ 4\\alpha_{3}+ 3\\alpha_{4}\\right)^{2}\\oplus L\\left( 2\\alpha_{1}+ 4\\alpha_{2}+ 5\\alpha_{3}+ 3\\alpha_{4}\\right)\\oplus L\\left( 4\\alpha_{1}+ 4\\alpha_{2}+ 4\\alpha_{3}+ 3\\alpha_{4}\\right)\\oplus L\\left( 3\\alpha_{1}+ 4\\alpha_{2}+ 5\\alpha_{3}+ 3\\alpha_{4}\\right)^{2}\\oplus L\\left( 3\\alpha_{1}+ 4\\alpha_{2}+ 4\\alpha_{3}+ 4\\alpha_{4}\\right)\\oplus L\\left( 2\\alpha_{1}+ 4\\alpha_{2}+ 5\\alpha_{3}+ 4\\alpha_{4}\\right)\\oplus L\\left( 4\\alpha_{1}+ 5\\alpha_{2}+ 4\\alpha_{3}+ 3\\alpha_{4}\\right)\\oplus L\\left( 3\\alpha_{1}+ 5\\alpha_{2}+ 5\\alpha_{3}+ 3\\alpha_{4}\\right)\\oplus L\\left( 4\\alpha_{1}+ 4\\alpha_{2}+ 4\\alpha_{3}+ 4\\alpha_{4}\\right)\\oplus L\\left( 3\\alpha_{1}+ 4\\alpha_{2}+ 5\\alpha_{3}+ 4\\alpha_{4}\\right)\\oplus L\\left( 2\\alpha_{1}+ 4\\alpha_{2}+ 6\\alpha_{3}+ 4\\alpha_{4}\\right)\\oplus L\\left( 4\\alpha_{1}+ 5\\alpha_{2}+ 5\\alpha_{3}+ 3\\alpha_{4}\\right)\\oplus L\\left( 3\\alpha_{1}+ 5\\alpha_{2}+ 6\\alpha_{3}+ 3\\alpha_{4}\\right)\\oplus L\\left( 3\\alpha_{1}+ 5\\alpha_{2}+ 5\\alpha_{3}+ 4\\alpha_{4}\\right)$$"
      ],
      "text/plain": [
       "<IPython.core.display.Math object>"
      ]
     },
     "metadata": {},
     "output_type": "display_data"
    },
    {
     "data": {
      "text/latex": [
       "$$\\mathrm b^{0}(X_{2},\\wedge^{7}T_X)=126873$$"
      ],
      "text/plain": [
       "<IPython.core.display.Math object>"
      ]
     },
     "metadata": {},
     "output_type": "display_data"
    },
    {
     "data": {
      "text/latex": [
       "$$\\mathrm H^{0}(X_{2},\\wedge^{8}T_X)=L\\left( 3\\alpha_{1}+ 4\\alpha_{2}+ 5\\alpha_{3}+ 3\\alpha_{4}\\right)\\oplus L\\left( 3\\alpha_{1}+ 4\\alpha_{2}+ 5\\alpha_{3}+ 4\\alpha_{4}\\right)\\oplus L\\left( 4\\alpha_{1}+ 5\\alpha_{2}+ 5\\alpha_{3}+ 3\\alpha_{4}\\right)\\oplus L\\left( 4\\alpha_{1}+ 5\\alpha_{2}+ 6\\alpha_{3}+ 3\\alpha_{4}\\right)\\oplus L\\left( 4\\alpha_{1}+ 5\\alpha_{2}+ 5\\alpha_{3}+ 4\\alpha_{4}\\right)\\oplus L\\left( 3\\alpha_{1}+ 5\\alpha_{2}+ 6\\alpha_{3}+ 4\\alpha_{4}\\right)$$"
      ],
      "text/plain": [
       "<IPython.core.display.Math object>"
      ]
     },
     "metadata": {},
     "output_type": "display_data"
    },
    {
     "data": {
      "text/latex": [
       "$$\\mathrm b^{0}(X_{2},\\wedge^{8}T_X)=87926$$"
      ],
      "text/plain": [
       "<IPython.core.display.Math object>"
      ]
     },
     "metadata": {},
     "output_type": "display_data"
    },
    {
     "data": {
      "text/latex": [
       "$$\\mathrm H^{0}(X_{2},\\wedge^{9}T_X)=L\\left( 4\\alpha_{1}+ 5\\alpha_{2}+ 6\\alpha_{3}+ 4\\alpha_{4}\\right)$$"
      ],
      "text/plain": [
       "<IPython.core.display.Math object>"
      ]
     },
     "metadata": {},
     "output_type": "display_data"
    },
    {
     "data": {
      "text/latex": [
       "$$\\mathrm b^{0}(X_{2},\\wedge^{9}T_X)=25200$$"
      ],
      "text/plain": [
       "<IPython.core.display.Math object>"
      ]
     },
     "metadata": {},
     "output_type": "display_data"
    },
    {
     "name": "stdout",
     "output_type": "stream",
     "text": [
      "\n",
      "dim of u is 9 for root system A4 and subset (3,)\n"
     ]
    },
    {
     "data": {
      "application/vnd.jupyter.widget-view+json": {
       "model_id": "9a93090fd2ab4150b08481350642fe75",
       "version_major": 2,
       "version_minor": 0
      },
      "text/plain": [
       "HBox(children=(IntProgress(value=0, max=10), HTML(value=u'')))"
      ]
     },
     "metadata": {},
     "output_type": "display_data"
    },
    {
     "data": {
      "application/vnd.jupyter.widget-view+json": {
       "model_id": "758227dd49a147f1a5359bd0c4b4a7c9",
       "version_major": 2,
       "version_minor": 0
      },
      "text/plain": [
       "HBox(children=(IntProgress(value=1, bar_style=u'info', max=1), HTML(value=u'')))"
      ]
     },
     "metadata": {},
     "output_type": "display_data"
    },
    {
     "data": {
      "application/vnd.jupyter.widget-view+json": {
       "model_id": "6b77129d1db34e6ea1ee8e119d2e8d78",
       "version_major": 2,
       "version_minor": 0
      },
      "text/plain": [
       "HBox(children=(IntProgress(value=1, bar_style=u'info', max=1), HTML(value=u'')))"
      ]
     },
     "metadata": {},
     "output_type": "display_data"
    },
    {
     "data": {
      "text/latex": [
       "$$\\mathrm H^{0}(X_{3},\\wedge^{0}T_X)=\\mathbb{C}$$"
      ],
      "text/plain": [
       "<IPython.core.display.Math object>"
      ]
     },
     "metadata": {},
     "output_type": "display_data"
    },
    {
     "data": {
      "text/latex": [
       "$$\\mathrm b^{0}(X_{3},\\wedge^{0}T_X)=1$$"
      ],
      "text/plain": [
       "<IPython.core.display.Math object>"
      ]
     },
     "metadata": {},
     "output_type": "display_data"
    },
    {
     "data": {
      "text/latex": [
       "$$\\mathrm H^{0}(X_{3},\\wedge^{1}T_X)=L\\left(\\alpha_{1}+\\alpha_{2}+\\alpha_{3}+\\alpha_{4}\\right)$$"
      ],
      "text/plain": [
       "<IPython.core.display.Math object>"
      ]
     },
     "metadata": {},
     "output_type": "display_data"
    },
    {
     "data": {
      "text/latex": [
       "$$\\mathrm b^{0}(X_{3},\\wedge^{1}T_X)=24$$"
      ],
      "text/plain": [
       "<IPython.core.display.Math object>"
      ]
     },
     "metadata": {},
     "output_type": "display_data"
    },
    {
     "data": {
      "text/latex": [
       "$$\\mathrm H^{0}(X_{3},\\wedge^{2}T_X)=L\\left(\\alpha_{1}+\\alpha_{2}+\\alpha_{3}+\\alpha_{4}\\right)\\oplus L\\left( 2\\alpha_{1}+ 2\\alpha_{2}+ 2\\alpha_{3}+\\alpha_{4}\\right)\\oplus L\\left(\\alpha_{1}+ 2\\alpha_{2}+ 2\\alpha_{3}+ 2\\alpha_{4}\\right)$$"
      ],
      "text/plain": [
       "<IPython.core.display.Math object>"
      ]
     },
     "metadata": {},
     "output_type": "display_data"
    },
    {
     "data": {
      "text/latex": [
       "$$\\mathrm b^{0}(X_{3},\\wedge^{2}T_X)=276$$"
      ],
      "text/plain": [
       "<IPython.core.display.Math object>"
      ]
     },
     "metadata": {},
     "output_type": "display_data"
    },
    {
     "data": {
      "text/latex": [
       "$$\\mathrm H^{0}(X_{3},\\wedge^{3}T_X)=L\\left(\\alpha_{1}+\\alpha_{2}+\\alpha_{3}+\\alpha_{4}\\right)\\oplus L\\left(\\alpha_{1}+ 2\\alpha_{2}+ 2\\alpha_{3}+\\alpha_{4}\\right)^{2}\\oplus L\\left( 2\\alpha_{1}+ 2\\alpha_{2}+ 2\\alpha_{3}+\\alpha_{4}\\right)\\oplus L\\left(\\alpha_{1}+ 2\\alpha_{2}+ 2\\alpha_{3}+ 2\\alpha_{4}\\right)\\oplus L\\left( 2\\alpha_{1}+ 2\\alpha_{2}+ 2\\alpha_{3}+ 2\\alpha_{4}\\right)\\oplus L\\left(\\alpha_{1}+ 2\\alpha_{2}+ 3\\alpha_{3}+ 2\\alpha_{4}\\right)\\oplus L\\left( 3\\alpha_{1}+ 3\\alpha_{2}+ 2\\alpha_{3}+\\alpha_{4}\\right)\\oplus L\\left(\\alpha_{1}+ 2\\alpha_{2}+ 3\\alpha_{3}+ 3\\alpha_{4}\\right)\\oplus L\\left( 2\\alpha_{1}+ 3\\alpha_{2}+ 3\\alpha_{3}+ 2\\alpha_{4}\\right)$$"
      ],
      "text/plain": [
       "<IPython.core.display.Math object>"
      ]
     },
     "metadata": {},
     "output_type": "display_data"
    },
    {
     "data": {
      "text/latex": [
       "$$\\mathrm b^{0}(X_{3},\\wedge^{3}T_X)=2273$$"
      ],
      "text/plain": [
       "<IPython.core.display.Math object>"
      ]
     },
     "metadata": {},
     "output_type": "display_data"
    },
    {
     "data": {
      "text/latex": [
       "$$\\mathrm H^{0}(X_{3},\\wedge^{4}T_X)=L\\left(\\alpha_{1}+ 2\\alpha_{2}+ 2\\alpha_{3}+\\alpha_{4}\\right)\\oplus L\\left( 2\\alpha_{1}+ 2\\alpha_{2}+ 2\\alpha_{3}+\\alpha_{4}\\right)^{2}\\oplus L\\left(\\alpha_{1}+ 2\\alpha_{2}+ 2\\alpha_{3}+ 2\\alpha_{4}\\right)\\oplus L\\left( 2\\alpha_{1}+ 3\\alpha_{2}+ 2\\alpha_{3}+\\alpha_{4}\\right)^{2}\\oplus L\\left( 2\\alpha_{1}+ 2\\alpha_{2}+ 2\\alpha_{3}+ 2\\alpha_{4}\\right)^{2}\\oplus L\\left(\\alpha_{1}+ 2\\alpha_{2}+ 3\\alpha_{3}+ 2\\alpha_{4}\\right)^{2}\\oplus L\\left( 3\\alpha_{1}+ 3\\alpha_{2}+ 2\\alpha_{3}+\\alpha_{4}\\right)\\oplus L\\left(\\alpha_{1}+ 2\\alpha_{2}+ 3\\alpha_{3}+ 3\\alpha_{4}\\right)\\oplus L\\left( 4\\alpha_{1}+ 3\\alpha_{2}+ 2\\alpha_{3}+\\alpha_{4}\\right)\\oplus L\\left( 2\\alpha_{1}+ 3\\alpha_{2}+ 3\\alpha_{3}+ 2\\alpha_{4}\\right)^{3}\\oplus L\\left(\\alpha_{1}+ 2\\alpha_{2}+ 3\\alpha_{3}+ 4\\alpha_{4}\\right)\\oplus L\\left( 3\\alpha_{1}+ 3\\alpha_{2}+ 3\\alpha_{3}+ 2\\alpha_{4}\\right)\\oplus L\\left( 2\\alpha_{1}+ 3\\alpha_{2}+ 4\\alpha_{3}+ 2\\alpha_{4}\\right)\\oplus L\\left( 2\\alpha_{1}+ 3\\alpha_{2}+ 3\\alpha_{3}+ 3\\alpha_{4}\\right)\\oplus L\\left( 3\\alpha_{1}+ 4\\alpha_{2}+ 3\\alpha_{3}+ 2\\alpha_{4}\\right)\\oplus L\\left( 2\\alpha_{1}+ 4\\alpha_{2}+ 4\\alpha_{3}+ 2\\alpha_{4}\\right)\\oplus L\\left( 2\\alpha_{1}+ 3\\alpha_{2}+ 4\\alpha_{3}+ 3\\alpha_{4}\\right)$$"
      ],
      "text/plain": [
       "<IPython.core.display.Math object>"
      ]
     },
     "metadata": {},
     "output_type": "display_data"
    },
    {
     "data": {
      "text/latex": [
       "$$\\mathrm b^{0}(X_{3},\\wedge^{4}T_X)=12703$$"
      ],
      "text/plain": [
       "<IPython.core.display.Math object>"
      ]
     },
     "metadata": {},
     "output_type": "display_data"
    },
    {
     "data": {
      "text/latex": [
       "$$\\mathrm H^{0}(X_{3},\\wedge^{5}T_X)=L\\left(\\alpha_{1}+ 2\\alpha_{2}+ 2\\alpha_{3}+ 2\\alpha_{4}\\right)\\oplus L\\left( 2\\alpha_{1}+ 3\\alpha_{2}+ 2\\alpha_{3}+\\alpha_{4}\\right)\\oplus L\\left( 2\\alpha_{1}+ 2\\alpha_{2}+ 2\\alpha_{3}+ 2\\alpha_{4}\\right)\\oplus L\\left( 3\\alpha_{1}+ 3\\alpha_{2}+ 2\\alpha_{3}+\\alpha_{4}\\right)\\oplus L\\left(\\alpha_{1}+ 2\\alpha_{2}+ 3\\alpha_{3}+ 3\\alpha_{4}\\right)\\oplus L\\left( 2\\alpha_{1}+ 3\\alpha_{2}+ 3\\alpha_{3}+ 2\\alpha_{4}\\right)^{4}\\oplus L\\left( 3\\alpha_{1}+ 3\\alpha_{2}+ 3\\alpha_{3}+ 2\\alpha_{4}\\right)^{3}\\oplus L\\left( 2\\alpha_{1}+ 4\\alpha_{2}+ 3\\alpha_{3}+ 2\\alpha_{4}\\right)^{2}\\oplus L\\left( 2\\alpha_{1}+ 3\\alpha_{2}+ 4\\alpha_{3}+ 2\\alpha_{4}\\right)\\oplus L\\left( 2\\alpha_{1}+ 3\\alpha_{2}+ 3\\alpha_{3}+ 3\\alpha_{4}\\right)^{2}\\oplus L\\left( 3\\alpha_{1}+ 4\\alpha_{2}+ 3\\alpha_{3}+ 2\\alpha_{4}\\right)^{2}\\oplus L\\left( 2\\alpha_{1}+ 4\\alpha_{2}+ 4\\alpha_{3}+ 2\\alpha_{4}\\right)\\oplus L\\left( 3\\alpha_{1}+ 3\\alpha_{2}+ 3\\alpha_{3}+ 3\\alpha_{4}\\right)\\oplus L\\left( 2\\alpha_{1}+ 3\\alpha_{2}+ 4\\alpha_{3}+ 3\\alpha_{4}\\right)^{2}\\oplus L\\left( 4\\alpha_{1}+ 4\\alpha_{2}+ 3\\alpha_{3}+ 2\\alpha_{4}\\right)\\oplus L\\left( 3\\alpha_{1}+ 4\\alpha_{2}+ 4\\alpha_{3}+ 2\\alpha_{4}\\right)^{2}\\oplus L\\left( 2\\alpha_{1}+ 4\\alpha_{2}+ 4\\alpha_{3}+ 3\\alpha_{4}\\right)\\oplus L\\left( 2\\alpha_{1}+ 3\\alpha_{2}+ 4\\alpha_{3}+ 4\\alpha_{4}\\right)\\oplus L\\left( 3\\alpha_{1}+ 5\\alpha_{2}+ 4\\alpha_{3}+ 2\\alpha_{4}\\right)\\oplus L\\left( 3\\alpha_{1}+ 4\\alpha_{2}+ 4\\alpha_{3}+ 3\\alpha_{4}\\right)\\oplus L\\left( 2\\alpha_{1}+ 4\\alpha_{2}+ 5\\alpha_{3}+ 3\\alpha_{4}\\right)$$"
      ],
      "text/plain": [
       "<IPython.core.display.Math object>"
      ]
     },
     "metadata": {},
     "output_type": "display_data"
    },
    {
     "data": {
      "text/latex": [
       "$$\\mathrm b^{0}(X_{3},\\wedge^{5}T_X)=45148$$"
      ],
      "text/plain": [
       "<IPython.core.display.Math object>"
      ]
     },
     "metadata": {},
     "output_type": "display_data"
    },
    {
     "data": {
      "text/latex": [
       "$$\\mathrm H^{0}(X_{3},\\wedge^{6}T_X)=L\\left( 2\\alpha_{1}+ 3\\alpha_{2}+ 3\\alpha_{3}+ 2\\alpha_{4}\\right)\\oplus L\\left( 3\\alpha_{1}+ 3\\alpha_{2}+ 3\\alpha_{3}+ 2\\alpha_{4}\\right)\\oplus L\\left( 2\\alpha_{1}+ 4\\alpha_{2}+ 3\\alpha_{3}+ 2\\alpha_{4}\\right)^{2}\\oplus L\\left( 2\\alpha_{1}+ 3\\alpha_{2}+ 3\\alpha_{3}+ 3\\alpha_{4}\\right)^{2}\\oplus L\\left( 3\\alpha_{1}+ 4\\alpha_{2}+ 3\\alpha_{3}+ 2\\alpha_{4}\\right)^{2}\\oplus L\\left( 2\\alpha_{1}+ 4\\alpha_{2}+ 4\\alpha_{3}+ 2\\alpha_{4}\\right)\\oplus L\\left( 3\\alpha_{1}+ 3\\alpha_{2}+ 3\\alpha_{3}+ 3\\alpha_{4}\\right)^{2}\\oplus L\\left( 2\\alpha_{1}+ 3\\alpha_{2}+ 4\\alpha_{3}+ 3\\alpha_{4}\\right)\\oplus L\\left( 4\\alpha_{1}+ 4\\alpha_{2}+ 3\\alpha_{3}+ 2\\alpha_{4}\\right)\\oplus L\\left( 3\\alpha_{1}+ 4\\alpha_{2}+ 4\\alpha_{3}+ 2\\alpha_{4}\\right)^{2}\\oplus L\\left( 2\\alpha_{1}+ 4\\alpha_{2}+ 4\\alpha_{3}+ 3\\alpha_{4}\\right)^{2}\\oplus L\\left( 2\\alpha_{1}+ 3\\alpha_{2}+ 4\\alpha_{3}+ 4\\alpha_{4}\\right)\\oplus L\\left( 4\\alpha_{1}+ 4\\alpha_{2}+ 4\\alpha_{3}+ 2\\alpha_{4}\\right)\\oplus L\\left( 3\\alpha_{1}+ 5\\alpha_{2}+ 4\\alpha_{3}+ 2\\alpha_{4}\\right)^{2}\\oplus L\\left( 3\\alpha_{1}+ 4\\alpha_{2}+ 4\\alpha_{3}+ 3\\alpha_{4}\\right)^{3}\\oplus L\\left( 4\\alpha_{1}+ 5\\alpha_{2}+ 4\\alpha_{3}+ 2\\alpha_{4}\\right)\\oplus L\\left( 3\\alpha_{1}+ 6\\alpha_{2}+ 4\\alpha_{3}+ 2\\alpha_{4}\\right)\\oplus L\\left( 4\\alpha_{1}+ 4\\alpha_{2}+ 4\\alpha_{3}+ 3\\alpha_{4}\\right)\\oplus L\\left( 3\\alpha_{1}+ 5\\alpha_{2}+ 4\\alpha_{3}+ 3\\alpha_{4}\\right)\\oplus L\\left( 3\\alpha_{1}+ 4\\alpha_{2}+ 5\\alpha_{3}+ 3\\alpha_{4}\\right)\\oplus L\\left( 3\\alpha_{1}+ 4\\alpha_{2}+ 4\\alpha_{3}+ 4\\alpha_{4}\\right)\\oplus L\\left( 2\\alpha_{1}+ 4\\alpha_{2}+ 5\\alpha_{3}+ 4\\alpha_{4}\\right)\\oplus L\\left( 3\\alpha_{1}+ 5\\alpha_{2}+ 5\\alpha_{3}+ 3\\alpha_{4}\\right)$$"
      ],
      "text/plain": [
       "<IPython.core.display.Math object>"
      ]
     },
     "metadata": {},
     "output_type": "display_data"
    },
    {
     "data": {
      "text/latex": [
       "$$\\mathrm b^{0}(X_{3},\\wedge^{6}T_X)=98552$$"
      ],
      "text/plain": [
       "<IPython.core.display.Math object>"
      ]
     },
     "metadata": {},
     "output_type": "display_data"
    },
    {
     "data": {
      "text/latex": [
       "$$\\mathrm H^{0}(X_{3},\\wedge^{7}T_X)=L\\left( 3\\alpha_{1}+ 4\\alpha_{2}+ 3\\alpha_{3}+ 2\\alpha_{4}\\right)\\oplus L\\left( 2\\alpha_{1}+ 4\\alpha_{2}+ 4\\alpha_{3}+ 3\\alpha_{4}\\right)\\oplus L\\left( 3\\alpha_{1}+ 5\\alpha_{2}+ 4\\alpha_{3}+ 2\\alpha_{4}\\right)\\oplus L\\left( 3\\alpha_{1}+ 4\\alpha_{2}+ 4\\alpha_{3}+ 3\\alpha_{4}\\right)^{2}\\oplus L\\left( 2\\alpha_{1}+ 4\\alpha_{2}+ 4\\alpha_{3}+ 4\\alpha_{4}\\right)\\oplus L\\left( 4\\alpha_{1}+ 5\\alpha_{2}+ 4\\alpha_{3}+ 2\\alpha_{4}\\right)\\oplus L\\left( 4\\alpha_{1}+ 4\\alpha_{2}+ 4\\alpha_{3}+ 3\\alpha_{4}\\right)\\oplus L\\left( 3\\alpha_{1}+ 5\\alpha_{2}+ 4\\alpha_{3}+ 3\\alpha_{4}\\right)^{2}\\oplus L\\left( 3\\alpha_{1}+ 4\\alpha_{2}+ 4\\alpha_{3}+ 4\\alpha_{4}\\right)\\oplus L\\left( 4\\alpha_{1}+ 6\\alpha_{2}+ 4\\alpha_{3}+ 2\\alpha_{4}\\right)\\oplus L\\left( 4\\alpha_{1}+ 5\\alpha_{2}+ 4\\alpha_{3}+ 3\\alpha_{4}\\right)\\oplus L\\left( 3\\alpha_{1}+ 5\\alpha_{2}+ 5\\alpha_{3}+ 3\\alpha_{4}\\right)\\oplus L\\left( 4\\alpha_{1}+ 4\\alpha_{2}+ 4\\alpha_{3}+ 4\\alpha_{4}\\right)\\oplus L\\left( 3\\alpha_{1}+ 4\\alpha_{2}+ 5\\alpha_{3}+ 4\\alpha_{4}\\right)\\oplus L\\left( 4\\alpha_{1}+ 5\\alpha_{2}+ 5\\alpha_{3}+ 3\\alpha_{4}\\right)\\oplus L\\left( 3\\alpha_{1}+ 6\\alpha_{2}+ 5\\alpha_{3}+ 3\\alpha_{4}\\right)\\oplus L\\left( 3\\alpha_{1}+ 5\\alpha_{2}+ 5\\alpha_{3}+ 4\\alpha_{4}\\right)$$"
      ],
      "text/plain": [
       "<IPython.core.display.Math object>"
      ]
     },
     "metadata": {},
     "output_type": "display_data"
    },
    {
     "data": {
      "text/latex": [
       "$$\\mathrm b^{0}(X_{3},\\wedge^{7}T_X)=126873$$"
      ],
      "text/plain": [
       "<IPython.core.display.Math object>"
      ]
     },
     "metadata": {},
     "output_type": "display_data"
    },
    {
     "data": {
      "text/latex": [
       "$$\\mathrm H^{0}(X_{3},\\wedge^{8}T_X)=L\\left( 3\\alpha_{1}+ 5\\alpha_{2}+ 4\\alpha_{3}+ 3\\alpha_{4}\\right)\\oplus L\\left( 4\\alpha_{1}+ 5\\alpha_{2}+ 4\\alpha_{3}+ 3\\alpha_{4}\\right)\\oplus L\\left( 3\\alpha_{1}+ 5\\alpha_{2}+ 5\\alpha_{3}+ 4\\alpha_{4}\\right)\\oplus L\\left( 4\\alpha_{1}+ 6\\alpha_{2}+ 5\\alpha_{3}+ 3\\alpha_{4}\\right)\\oplus L\\left( 4\\alpha_{1}+ 5\\alpha_{2}+ 5\\alpha_{3}+ 4\\alpha_{4}\\right)\\oplus L\\left( 3\\alpha_{1}+ 6\\alpha_{2}+ 5\\alpha_{3}+ 4\\alpha_{4}\\right)$$"
      ],
      "text/plain": [
       "<IPython.core.display.Math object>"
      ]
     },
     "metadata": {},
     "output_type": "display_data"
    },
    {
     "data": {
      "text/latex": [
       "$$\\mathrm b^{0}(X_{3},\\wedge^{8}T_X)=87926$$"
      ],
      "text/plain": [
       "<IPython.core.display.Math object>"
      ]
     },
     "metadata": {},
     "output_type": "display_data"
    },
    {
     "data": {
      "text/latex": [
       "$$\\mathrm H^{0}(X_{3},\\wedge^{9}T_X)=L\\left( 4\\alpha_{1}+ 6\\alpha_{2}+ 5\\alpha_{3}+ 4\\alpha_{4}\\right)$$"
      ],
      "text/plain": [
       "<IPython.core.display.Math object>"
      ]
     },
     "metadata": {},
     "output_type": "display_data"
    },
    {
     "data": {
      "text/latex": [
       "$$\\mathrm b^{0}(X_{3},\\wedge^{9}T_X)=25200$$"
      ],
      "text/plain": [
       "<IPython.core.display.Math object>"
      ]
     },
     "metadata": {},
     "output_type": "display_data"
    },
    {
     "name": "stdout",
     "output_type": "stream",
     "text": [
      "\n",
      "dim of u is 9 for root system A4 and subset (4,)\n"
     ]
    },
    {
     "data": {
      "application/vnd.jupyter.widget-view+json": {
       "model_id": "4da8f108396143f48b5a5ba0de8cd169",
       "version_major": 2,
       "version_minor": 0
      },
      "text/plain": [
       "HBox(children=(IntProgress(value=0, max=10), HTML(value=u'')))"
      ]
     },
     "metadata": {},
     "output_type": "display_data"
    },
    {
     "data": {
      "application/vnd.jupyter.widget-view+json": {
       "model_id": "dae3eac72ad048809ad0fdeaf5439e2a",
       "version_major": 2,
       "version_minor": 0
      },
      "text/plain": [
       "HBox(children=(IntProgress(value=1, bar_style=u'info', max=1), HTML(value=u'')))"
      ]
     },
     "metadata": {},
     "output_type": "display_data"
    },
    {
     "data": {
      "application/vnd.jupyter.widget-view+json": {
       "model_id": "ce28715f321642738b3fd637c1c53060",
       "version_major": 2,
       "version_minor": 0
      },
      "text/plain": [
       "HBox(children=(IntProgress(value=1, bar_style=u'info', max=1), HTML(value=u'')))"
      ]
     },
     "metadata": {},
     "output_type": "display_data"
    },
    {
     "data": {
      "text/latex": [
       "$$\\mathrm H^{0}(X_{4},\\wedge^{0}T_X)=\\mathbb{C}$$"
      ],
      "text/plain": [
       "<IPython.core.display.Math object>"
      ]
     },
     "metadata": {},
     "output_type": "display_data"
    },
    {
     "data": {
      "text/latex": [
       "$$\\mathrm b^{0}(X_{4},\\wedge^{0}T_X)=1$$"
      ],
      "text/plain": [
       "<IPython.core.display.Math object>"
      ]
     },
     "metadata": {},
     "output_type": "display_data"
    },
    {
     "data": {
      "text/latex": [
       "$$\\mathrm H^{0}(X_{4},\\wedge^{1}T_X)=L\\left(\\alpha_{1}+\\alpha_{2}+\\alpha_{3}+\\alpha_{4}\\right)$$"
      ],
      "text/plain": [
       "<IPython.core.display.Math object>"
      ]
     },
     "metadata": {},
     "output_type": "display_data"
    },
    {
     "data": {
      "text/latex": [
       "$$\\mathrm b^{0}(X_{4},\\wedge^{1}T_X)=24$$"
      ],
      "text/plain": [
       "<IPython.core.display.Math object>"
      ]
     },
     "metadata": {},
     "output_type": "display_data"
    },
    {
     "data": {
      "text/latex": [
       "$$\\mathrm H^{0}(X_{4},\\wedge^{2}T_X)=L\\left(\\alpha_{1}+\\alpha_{2}+\\alpha_{3}+\\alpha_{4}\\right)\\oplus L\\left( 2\\alpha_{1}+ 2\\alpha_{2}+ 2\\alpha_{3}+\\alpha_{4}\\right)\\oplus L\\left(\\alpha_{1}+ 2\\alpha_{2}+ 2\\alpha_{3}+ 2\\alpha_{4}\\right)$$"
      ],
      "text/plain": [
       "<IPython.core.display.Math object>"
      ]
     },
     "metadata": {},
     "output_type": "display_data"
    },
    {
     "data": {
      "text/latex": [
       "$$\\mathrm b^{0}(X_{4},\\wedge^{2}T_X)=276$$"
      ],
      "text/plain": [
       "<IPython.core.display.Math object>"
      ]
     },
     "metadata": {},
     "output_type": "display_data"
    },
    {
     "data": {
      "text/latex": [
       "$$\\mathrm H^{0}(X_{4},\\wedge^{3}T_X)=L\\left(\\alpha_{1}+\\alpha_{2}+\\alpha_{3}+\\alpha_{4}\\right)\\oplus L\\left(\\alpha_{1}+ 2\\alpha_{2}+ 2\\alpha_{3}+\\alpha_{4}\\right)\\oplus L\\left( 2\\alpha_{1}+ 2\\alpha_{2}+ 2\\alpha_{3}+\\alpha_{4}\\right)\\oplus L\\left(\\alpha_{1}+ 2\\alpha_{2}+ 2\\alpha_{3}+ 2\\alpha_{4}\\right)\\oplus L\\left( 2\\alpha_{1}+ 2\\alpha_{2}+ 2\\alpha_{3}+ 2\\alpha_{4}\\right)\\oplus L\\left( 3\\alpha_{1}+ 3\\alpha_{2}+ 2\\alpha_{3}+\\alpha_{4}\\right)\\oplus L\\left(\\alpha_{1}+ 2\\alpha_{2}+ 3\\alpha_{3}+ 3\\alpha_{4}\\right)\\oplus L\\left( 2\\alpha_{1}+ 3\\alpha_{2}+ 3\\alpha_{3}+ 2\\alpha_{4}\\right)$$"
      ],
      "text/plain": [
       "<IPython.core.display.Math object>"
      ]
     },
     "metadata": {},
     "output_type": "display_data"
    },
    {
     "data": {
      "text/latex": [
       "$$\\mathrm b^{0}(X_{4},\\wedge^{3}T_X)=2023$$"
      ],
      "text/plain": [
       "<IPython.core.display.Math object>"
      ]
     },
     "metadata": {},
     "output_type": "display_data"
    },
    {
     "data": {
      "text/latex": [
       "$$\\mathrm H^{0}(X_{4},\\wedge^{4}T_X)=L\\left(\\alpha_{1}+ 2\\alpha_{2}+ 2\\alpha_{3}+\\alpha_{4}\\right)^{2}\\oplus L\\left( 2\\alpha_{1}+ 2\\alpha_{2}+ 2\\alpha_{3}+\\alpha_{4}\\right)\\oplus L\\left(\\alpha_{1}+ 2\\alpha_{2}+ 2\\alpha_{3}+ 2\\alpha_{4}\\right)\\oplus L\\left( 2\\alpha_{1}+ 3\\alpha_{2}+ 2\\alpha_{3}+\\alpha_{4}\\right)^{2}\\oplus L\\left( 2\\alpha_{1}+ 2\\alpha_{2}+ 2\\alpha_{3}+ 2\\alpha_{4}\\right)^{2}\\oplus L\\left(\\alpha_{1}+ 2\\alpha_{2}+ 3\\alpha_{3}+ 2\\alpha_{4}\\right)\\oplus L\\left( 3\\alpha_{1}+ 3\\alpha_{2}+ 2\\alpha_{3}+\\alpha_{4}\\right)\\oplus L\\left( 4\\alpha_{1}+ 3\\alpha_{2}+ 2\\alpha_{3}+\\alpha_{4}\\right)\\oplus L\\left( 2\\alpha_{1}+ 3\\alpha_{2}+ 3\\alpha_{3}+ 2\\alpha_{4}\\right)^{2}\\oplus L\\left( 3\\alpha_{1}+ 3\\alpha_{2}+ 3\\alpha_{3}+ 2\\alpha_{4}\\right)\\oplus L\\left( 2\\alpha_{1}+ 3\\alpha_{2}+ 3\\alpha_{3}+ 3\\alpha_{4}\\right)\\oplus L\\left( 3\\alpha_{1}+ 4\\alpha_{2}+ 3\\alpha_{3}+ 2\\alpha_{4}\\right)\\oplus L\\left( 2\\alpha_{1}+ 4\\alpha_{2}+ 4\\alpha_{3}+ 2\\alpha_{4}\\right)\\oplus L\\left( 2\\alpha_{1}+ 3\\alpha_{2}+ 4\\alpha_{3}+ 3\\alpha_{4}\\right)$$"
      ],
      "text/plain": [
       "<IPython.core.display.Math object>"
      ]
     },
     "metadata": {},
     "output_type": "display_data"
    },
    {
     "data": {
      "text/latex": [
       "$$\\mathrm b^{0}(X_{4},\\wedge^{4}T_X)=10403$$"
      ],
      "text/plain": [
       "<IPython.core.display.Math object>"
      ]
     },
     "metadata": {},
     "output_type": "display_data"
    },
    {
     "data": {
      "text/latex": [
       "$$\\mathrm H^{0}(X_{4},\\wedge^{5}T_X)=L\\left( 2\\alpha_{1}+ 2\\alpha_{2}+ 2\\alpha_{3}+\\alpha_{4}\\right)\\oplus L\\left( 2\\alpha_{1}+ 3\\alpha_{2}+ 2\\alpha_{3}+\\alpha_{4}\\right)\\oplus L\\left(\\alpha_{1}+ 2\\alpha_{2}+ 3\\alpha_{3}+ 2\\alpha_{4}\\right)\\oplus L\\left( 3\\alpha_{1}+ 3\\alpha_{2}+ 2\\alpha_{3}+\\alpha_{4}\\right)\\oplus L\\left( 2\\alpha_{1}+ 3\\alpha_{2}+ 3\\alpha_{3}+ 2\\alpha_{4}\\right)^{4}\\oplus L\\left( 3\\alpha_{1}+ 3\\alpha_{2}+ 3\\alpha_{3}+ 2\\alpha_{4}\\right)^{2}\\oplus L\\left( 2\\alpha_{1}+ 4\\alpha_{2}+ 3\\alpha_{3}+ 2\\alpha_{4}\\right)^{2}\\oplus L\\left( 2\\alpha_{1}+ 3\\alpha_{2}+ 4\\alpha_{3}+ 2\\alpha_{4}\\right)\\oplus L\\left( 2\\alpha_{1}+ 3\\alpha_{2}+ 3\\alpha_{3}+ 3\\alpha_{4}\\right)\\oplus L\\left( 3\\alpha_{1}+ 4\\alpha_{2}+ 3\\alpha_{3}+ 2\\alpha_{4}\\right)^{2}\\oplus L\\left( 2\\alpha_{1}+ 4\\alpha_{2}+ 4\\alpha_{3}+ 2\\alpha_{4}\\right)\\oplus L\\left( 3\\alpha_{1}+ 3\\alpha_{2}+ 3\\alpha_{3}+ 3\\alpha_{4}\\right)\\oplus L\\left( 2\\alpha_{1}+ 3\\alpha_{2}+ 4\\alpha_{3}+ 3\\alpha_{4}\\right)\\oplus L\\left( 4\\alpha_{1}+ 4\\alpha_{2}+ 3\\alpha_{3}+ 2\\alpha_{4}\\right)\\oplus L\\left( 3\\alpha_{1}+ 4\\alpha_{2}+ 4\\alpha_{3}+ 2\\alpha_{4}\\right)\\oplus L\\left( 2\\alpha_{1}+ 4\\alpha_{2}+ 4\\alpha_{3}+ 3\\alpha_{4}\\right)\\oplus L\\left( 3\\alpha_{1}+ 5\\alpha_{2}+ 4\\alpha_{3}+ 2\\alpha_{4}\\right)\\oplus L\\left( 3\\alpha_{1}+ 4\\alpha_{2}+ 4\\alpha_{3}+ 3\\alpha_{4}\\right)\\oplus L\\left( 2\\alpha_{1}+ 4\\alpha_{2}+ 5\\alpha_{3}+ 3\\alpha_{4}\\right)$$"
      ],
      "text/plain": [
       "<IPython.core.display.Math object>"
      ]
     },
     "metadata": {},
     "output_type": "display_data"
    },
    {
     "data": {
      "text/latex": [
       "$$\\mathrm b^{0}(X_{4},\\wedge^{5}T_X)=36648$$"
      ],
      "text/plain": [
       "<IPython.core.display.Math object>"
      ]
     },
     "metadata": {},
     "output_type": "display_data"
    },
    {
     "data": {
      "text/latex": [
       "$$\\mathrm H^{0}(X_{4},\\wedge^{6}T_X)=L\\left( 2\\alpha_{1}+ 3\\alpha_{2}+ 3\\alpha_{3}+ 2\\alpha_{4}\\right)\\oplus L\\left( 3\\alpha_{1}+ 3\\alpha_{2}+ 3\\alpha_{3}+ 2\\alpha_{4}\\right)\\oplus L\\left( 2\\alpha_{1}+ 4\\alpha_{2}+ 3\\alpha_{3}+ 2\\alpha_{4}\\right)\\oplus L\\left( 2\\alpha_{1}+ 3\\alpha_{2}+ 4\\alpha_{3}+ 2\\alpha_{4}\\right)^{2}\\oplus L\\left( 3\\alpha_{1}+ 4\\alpha_{2}+ 3\\alpha_{3}+ 2\\alpha_{4}\\right)^{2}\\oplus L\\left( 2\\alpha_{1}+ 4\\alpha_{2}+ 4\\alpha_{3}+ 2\\alpha_{4}\\right)\\oplus L\\left( 2\\alpha_{1}+ 3\\alpha_{2}+ 4\\alpha_{3}+ 3\\alpha_{4}\\right)\\oplus L\\left( 4\\alpha_{1}+ 4\\alpha_{2}+ 3\\alpha_{3}+ 2\\alpha_{4}\\right)\\oplus L\\left( 3\\alpha_{1}+ 4\\alpha_{2}+ 4\\alpha_{3}+ 2\\alpha_{4}\\right)^{3}\\oplus L\\left( 2\\alpha_{1}+ 4\\alpha_{2}+ 4\\alpha_{3}+ 3\\alpha_{4}\\right)^{2}\\oplus L\\left( 3\\alpha_{1}+ 5\\alpha_{2}+ 4\\alpha_{3}+ 2\\alpha_{4}\\right)^{2}\\oplus L\\left( 3\\alpha_{1}+ 4\\alpha_{2}+ 4\\alpha_{3}+ 3\\alpha_{4}\\right)^{2}\\oplus L\\left( 2\\alpha_{1}+ 4\\alpha_{2}+ 5\\alpha_{3}+ 3\\alpha_{4}\\right)\\oplus L\\left( 4\\alpha_{1}+ 5\\alpha_{2}+ 4\\alpha_{3}+ 2\\alpha_{4}\\right)\\oplus L\\left( 3\\alpha_{1}+ 6\\alpha_{2}+ 4\\alpha_{3}+ 2\\alpha_{4}\\right)\\oplus L\\left( 4\\alpha_{1}+ 4\\alpha_{2}+ 4\\alpha_{3}+ 3\\alpha_{4}\\right)\\oplus L\\left( 3\\alpha_{1}+ 5\\alpha_{2}+ 4\\alpha_{3}+ 3\\alpha_{4}\\right)\\oplus L\\left( 3\\alpha_{1}+ 4\\alpha_{2}+ 5\\alpha_{3}+ 3\\alpha_{4}\\right)\\oplus L\\left( 2\\alpha_{1}+ 4\\alpha_{2}+ 6\\alpha_{3}+ 3\\alpha_{4}\\right)\\oplus L\\left( 3\\alpha_{1}+ 5\\alpha_{2}+ 5\\alpha_{3}+ 3\\alpha_{4}\\right)$$"
      ],
      "text/plain": [
       "<IPython.core.display.Math object>"
      ]
     },
     "metadata": {},
     "output_type": "display_data"
    },
    {
     "data": {
      "text/latex": [
       "$$\\mathrm b^{0}(X_{4},\\wedge^{6}T_X)=82252$$"
      ],
      "text/plain": [
       "<IPython.core.display.Math object>"
      ]
     },
     "metadata": {},
     "output_type": "display_data"
    },
    {
     "data": {
      "text/latex": [
       "$$\\mathrm H^{0}(X_{4},\\wedge^{7}T_X)=L\\left( 2\\alpha_{1}+ 4\\alpha_{2}+ 4\\alpha_{3}+ 2\\alpha_{4}\\right)\\oplus L\\left( 3\\alpha_{1}+ 4\\alpha_{2}+ 4\\alpha_{3}+ 2\\alpha_{4}\\right)\\oplus L\\left( 4\\alpha_{1}+ 4\\alpha_{2}+ 4\\alpha_{3}+ 2\\alpha_{4}\\right)\\oplus L\\left( 3\\alpha_{1}+ 5\\alpha_{2}+ 4\\alpha_{3}+ 2\\alpha_{4}\\right)\\oplus L\\left( 3\\alpha_{1}+ 4\\alpha_{2}+ 4\\alpha_{3}+ 3\\alpha_{4}\\right)\\oplus L\\left( 2\\alpha_{1}+ 4\\alpha_{2}+ 5\\alpha_{3}+ 3\\alpha_{4}\\right)\\oplus L\\left( 4\\alpha_{1}+ 5\\alpha_{2}+ 4\\alpha_{3}+ 2\\alpha_{4}\\right)\\oplus L\\left( 3\\alpha_{1}+ 5\\alpha_{2}+ 4\\alpha_{3}+ 3\\alpha_{4}\\right)\\oplus L\\left( 3\\alpha_{1}+ 4\\alpha_{2}+ 5\\alpha_{3}+ 3\\alpha_{4}\\right)^{2}\\oplus L\\left( 4\\alpha_{1}+ 6\\alpha_{2}+ 4\\alpha_{3}+ 2\\alpha_{4}\\right)\\oplus L\\left( 4\\alpha_{1}+ 5\\alpha_{2}+ 4\\alpha_{3}+ 3\\alpha_{4}\\right)\\oplus L\\left( 3\\alpha_{1}+ 5\\alpha_{2}+ 5\\alpha_{3}+ 3\\alpha_{4}\\right)^{2}\\oplus L\\left( 4\\alpha_{1}+ 5\\alpha_{2}+ 5\\alpha_{3}+ 3\\alpha_{4}\\right)\\oplus L\\left( 3\\alpha_{1}+ 6\\alpha_{2}+ 5\\alpha_{3}+ 3\\alpha_{4}\\right)\\oplus L\\left( 3\\alpha_{1}+ 5\\alpha_{2}+ 6\\alpha_{3}+ 3\\alpha_{4}\\right)$$"
      ],
      "text/plain": [
       "<IPython.core.display.Math object>"
      ]
     },
     "metadata": {},
     "output_type": "display_data"
    },
    {
     "data": {
      "text/latex": [
       "$$\\mathrm b^{0}(X_{4},\\wedge^{7}T_X)=109723$$"
      ],
      "text/plain": [
       "<IPython.core.display.Math object>"
      ]
     },
     "metadata": {},
     "output_type": "display_data"
    },
    {
     "data": {
      "text/latex": [
       "$$\\mathrm H^{0}(X_{4},\\wedge^{8}T_X)=L\\left( 3\\alpha_{1}+ 5\\alpha_{2}+ 5\\alpha_{3}+ 3\\alpha_{4}\\right)\\oplus L\\left( 4\\alpha_{1}+ 5\\alpha_{2}+ 5\\alpha_{3}+ 3\\alpha_{4}\\right)\\oplus L\\left( 3\\alpha_{1}+ 5\\alpha_{2}+ 6\\alpha_{3}+ 3\\alpha_{4}\\right)\\oplus L\\left( 4\\alpha_{1}+ 6\\alpha_{2}+ 5\\alpha_{3}+ 3\\alpha_{4}\\right)\\oplus L\\left( 4\\alpha_{1}+ 5\\alpha_{2}+ 6\\alpha_{3}+ 3\\alpha_{4}\\right)\\oplus L\\left( 3\\alpha_{1}+ 6\\alpha_{2}+ 6\\alpha_{3}+ 3\\alpha_{4}\\right)$$"
      ],
      "text/plain": [
       "<IPython.core.display.Math object>"
      ]
     },
     "metadata": {},
     "output_type": "display_data"
    },
    {
     "data": {
      "text/latex": [
       "$$\\mathrm b^{0}(X_{4},\\wedge^{8}T_X)=78526$$"
      ],
      "text/plain": [
       "<IPython.core.display.Math object>"
      ]
     },
     "metadata": {},
     "output_type": "display_data"
    },
    {
     "data": {
      "text/latex": [
       "$$\\mathrm H^{0}(X_{4},\\wedge^{9}T_X)=L\\left( 4\\alpha_{1}+ 6\\alpha_{2}+ 6\\alpha_{3}+ 3\\alpha_{4}\\right)$$"
      ],
      "text/plain": [
       "<IPython.core.display.Math object>"
      ]
     },
     "metadata": {},
     "output_type": "display_data"
    },
    {
     "data": {
      "text/latex": [
       "$$\\mathrm b^{0}(X_{4},\\wedge^{9}T_X)=23100$$"
      ],
      "text/plain": [
       "<IPython.core.display.Math object>"
      ]
     },
     "metadata": {},
     "output_type": "display_data"
    },
    {
     "name": "stdout",
     "output_type": "stream",
     "text": [
      "\n",
      "dim of u is 7 for root system A4 and subset (1, 2)\n"
     ]
    },
    {
     "data": {
      "application/vnd.jupyter.widget-view+json": {
       "model_id": "0ab3a734d9a542cba828b170593c0589",
       "version_major": 2,
       "version_minor": 0
      },
      "text/plain": [
       "HBox(children=(IntProgress(value=0, max=8), HTML(value=u'')))"
      ]
     },
     "metadata": {},
     "output_type": "display_data"
    },
    {
     "data": {
      "application/vnd.jupyter.widget-view+json": {
       "model_id": "2029d63da1554ea5b2765a1996abf83c",
       "version_major": 2,
       "version_minor": 0
      },
      "text/plain": [
       "HBox(children=(IntProgress(value=1, bar_style=u'info', max=1), HTML(value=u'')))"
      ]
     },
     "metadata": {},
     "output_type": "display_data"
    },
    {
     "data": {
      "application/vnd.jupyter.widget-view+json": {
       "model_id": "c3904ce75af343ffaaee4c3c3cf5400b",
       "version_major": 2,
       "version_minor": 0
      },
      "text/plain": [
       "HBox(children=(IntProgress(value=1, bar_style=u'info', max=1), HTML(value=u'')))"
      ]
     },
     "metadata": {},
     "output_type": "display_data"
    },
    {
     "data": {
      "text/latex": [
       "$$\\mathrm H^{0}(X_{12},\\wedge^{0}T_X)=\\mathbb{C}$$"
      ],
      "text/plain": [
       "<IPython.core.display.Math object>"
      ]
     },
     "metadata": {},
     "output_type": "display_data"
    },
    {
     "data": {
      "text/latex": [
       "$$\\mathrm b^{0}(X_{12},\\wedge^{0}T_X)=1$$"
      ],
      "text/plain": [
       "<IPython.core.display.Math object>"
      ]
     },
     "metadata": {},
     "output_type": "display_data"
    },
    {
     "data": {
      "text/latex": [
       "$$\\mathrm H^{0}(X_{12},\\wedge^{1}T_X)=L\\left(\\alpha_{1}+\\alpha_{2}+\\alpha_{3}+\\alpha_{4}\\right)$$"
      ],
      "text/plain": [
       "<IPython.core.display.Math object>"
      ]
     },
     "metadata": {},
     "output_type": "display_data"
    },
    {
     "data": {
      "text/latex": [
       "$$\\mathrm b^{0}(X_{12},\\wedge^{1}T_X)=24$$"
      ],
      "text/plain": [
       "<IPython.core.display.Math object>"
      ]
     },
     "metadata": {},
     "output_type": "display_data"
    },
    {
     "data": {
      "text/latex": [
       "$$\\mathrm H^{0}(X_{12},\\wedge^{2}T_X)=L\\left(\\alpha_{1}+\\alpha_{2}+\\alpha_{3}+\\alpha_{4}\\right)\\oplus L\\left( 2\\alpha_{1}+ 2\\alpha_{2}+ 2\\alpha_{3}+\\alpha_{4}\\right)\\oplus L\\left(\\alpha_{1}+ 2\\alpha_{2}+ 2\\alpha_{3}+ 2\\alpha_{4}\\right)$$"
      ],
      "text/plain": [
       "<IPython.core.display.Math object>"
      ]
     },
     "metadata": {},
     "output_type": "display_data"
    },
    {
     "data": {
      "text/latex": [
       "$$\\mathrm b^{0}(X_{12},\\wedge^{2}T_X)=276$$"
      ],
      "text/plain": [
       "<IPython.core.display.Math object>"
      ]
     },
     "metadata": {},
     "output_type": "display_data"
    },
    {
     "data": {
      "text/latex": [
       "$$\\mathrm H^{0}(X_{12},\\wedge^{3}T_X)=L\\left(\\alpha_{1}+ 2\\alpha_{2}+ 2\\alpha_{3}+\\alpha_{4}\\right)\\oplus L\\left(\\alpha_{1}+ 2\\alpha_{2}+ 2\\alpha_{3}+ 2\\alpha_{4}\\right)\\oplus L\\left( 2\\alpha_{1}+ 2\\alpha_{2}+ 2\\alpha_{3}+ 2\\alpha_{4}\\right)\\oplus L\\left(\\alpha_{1}+ 2\\alpha_{2}+ 3\\alpha_{3}+ 3\\alpha_{4}\\right)\\oplus L\\left( 2\\alpha_{1}+ 3\\alpha_{2}+ 3\\alpha_{3}+ 2\\alpha_{4}\\right)$$"
      ],
      "text/plain": [
       "<IPython.core.display.Math object>"
      ]
     },
     "metadata": {},
     "output_type": "display_data"
    },
    {
     "data": {
      "text/latex": [
       "$$\\mathrm b^{0}(X_{12},\\wedge^{3}T_X)=1649$$"
      ],
      "text/plain": [
       "<IPython.core.display.Math object>"
      ]
     },
     "metadata": {},
     "output_type": "display_data"
    },
    {
     "data": {
      "text/latex": [
       "$$\\mathrm H^{0}(X_{12},\\wedge^{4}T_X)=L\\left(\\alpha_{1}+ 2\\alpha_{2}+ 3\\alpha_{3}+ 2\\alpha_{4}\\right)\\oplus L\\left(\\alpha_{1}+ 2\\alpha_{2}+ 3\\alpha_{3}+ 3\\alpha_{4}\\right)\\oplus L\\left( 2\\alpha_{1}+ 3\\alpha_{2}+ 3\\alpha_{3}+ 2\\alpha_{4}\\right)\\oplus L\\left(\\alpha_{1}+ 2\\alpha_{2}+ 3\\alpha_{3}+ 4\\alpha_{4}\\right)\\oplus L\\left( 2\\alpha_{1}+ 3\\alpha_{2}+ 3\\alpha_{3}+ 3\\alpha_{4}\\right)\\oplus L\\left( 2\\alpha_{1}+ 4\\alpha_{2}+ 4\\alpha_{3}+ 2\\alpha_{4}\\right)\\oplus L\\left( 2\\alpha_{1}+ 3\\alpha_{2}+ 4\\alpha_{3}+ 3\\alpha_{4}\\right)$$"
      ],
      "text/plain": [
       "<IPython.core.display.Math object>"
      ]
     },
     "metadata": {},
     "output_type": "display_data"
    },
    {
     "data": {
      "text/latex": [
       "$$\\mathrm b^{0}(X_{12},\\wedge^{4}T_X)=5476$$"
      ],
      "text/plain": [
       "<IPython.core.display.Math object>"
      ]
     },
     "metadata": {},
     "output_type": "display_data"
    },
    {
     "data": {
      "text/latex": [
       "$$\\mathrm H^{0}(X_{12},\\wedge^{5}T_X)=L\\left( 2\\alpha_{1}+ 3\\alpha_{2}+ 4\\alpha_{3}+ 2\\alpha_{4}\\right)\\oplus L\\left( 2\\alpha_{1}+ 3\\alpha_{2}+ 4\\alpha_{3}+ 3\\alpha_{4}\\right)\\oplus L\\left( 2\\alpha_{1}+ 4\\alpha_{2}+ 4\\alpha_{3}+ 3\\alpha_{4}\\right)\\oplus L\\left( 2\\alpha_{1}+ 3\\alpha_{2}+ 4\\alpha_{3}+ 4\\alpha_{4}\\right)\\oplus L\\left( 2\\alpha_{1}+ 4\\alpha_{2}+ 5\\alpha_{3}+ 3\\alpha_{4}\\right)$$"
      ],
      "text/plain": [
       "<IPython.core.display.Math object>"
      ]
     },
     "metadata": {},
     "output_type": "display_data"
    },
    {
     "data": {
      "text/latex": [
       "$$\\mathrm b^{0}(X_{12},\\wedge^{5}T_X)=9875$$"
      ],
      "text/plain": [
       "<IPython.core.display.Math object>"
      ]
     },
     "metadata": {},
     "output_type": "display_data"
    },
    {
     "data": {
      "text/latex": [
       "$$\\mathrm H^{0}(X_{12},\\wedge^{6}T_X)=L\\left( 2\\alpha_{1}+ 4\\alpha_{2}+ 5\\alpha_{3}+ 3\\alpha_{4}\\right)\\oplus L\\left( 2\\alpha_{1}+ 4\\alpha_{2}+ 6\\alpha_{3}+ 3\\alpha_{4}\\right)\\oplus L\\left( 2\\alpha_{1}+ 4\\alpha_{2}+ 5\\alpha_{3}+ 4\\alpha_{4}\\right)$$"
      ],
      "text/plain": [
       "<IPython.core.display.Math object>"
      ]
     },
     "metadata": {},
     "output_type": "display_data"
    },
    {
     "data": {
      "text/latex": [
       "$$\\mathrm b^{0}(X_{12},\\wedge^{6}T_X)=8925$$"
      ],
      "text/plain": [
       "<IPython.core.display.Math object>"
      ]
     },
     "metadata": {},
     "output_type": "display_data"
    },
    {
     "data": {
      "text/latex": [
       "$$\\mathrm H^{0}(X_{12},\\wedge^{7}T_X)=L\\left( 2\\alpha_{1}+ 4\\alpha_{2}+ 6\\alpha_{3}+ 4\\alpha_{4}\\right)$$"
      ],
      "text/plain": [
       "<IPython.core.display.Math object>"
      ]
     },
     "metadata": {},
     "output_type": "display_data"
    },
    {
     "data": {
      "text/latex": [
       "$$\\mathrm b^{0}(X_{12},\\wedge^{7}T_X)=3150$$"
      ],
      "text/plain": [
       "<IPython.core.display.Math object>"
      ]
     },
     "metadata": {},
     "output_type": "display_data"
    },
    {
     "name": "stdout",
     "output_type": "stream",
     "text": [
      "\n",
      "dim of u is 8 for root system A4 and subset (1, 3)\n"
     ]
    },
    {
     "data": {
      "application/vnd.jupyter.widget-view+json": {
       "model_id": "a2b12139214344438f0689b93d89083c",
       "version_major": 2,
       "version_minor": 0
      },
      "text/plain": [
       "HBox(children=(IntProgress(value=0, max=9), HTML(value=u'')))"
      ]
     },
     "metadata": {},
     "output_type": "display_data"
    },
    {
     "data": {
      "application/vnd.jupyter.widget-view+json": {
       "model_id": "c8ee9901fa8e45bc8fd24d29e1ba86eb",
       "version_major": 2,
       "version_minor": 0
      },
      "text/plain": [
       "HBox(children=(IntProgress(value=1, bar_style=u'info', max=1), HTML(value=u'')))"
      ]
     },
     "metadata": {},
     "output_type": "display_data"
    },
    {
     "data": {
      "application/vnd.jupyter.widget-view+json": {
       "model_id": "7bb8be169b834aae9904c95805521e68",
       "version_major": 2,
       "version_minor": 0
      },
      "text/plain": [
       "HBox(children=(IntProgress(value=1, bar_style=u'info', max=1), HTML(value=u'')))"
      ]
     },
     "metadata": {},
     "output_type": "display_data"
    },
    {
     "data": {
      "text/latex": [
       "$$\\mathrm H^{0}(X_{13},\\wedge^{0}T_X)=\\mathbb{C}$$"
      ],
      "text/plain": [
       "<IPython.core.display.Math object>"
      ]
     },
     "metadata": {},
     "output_type": "display_data"
    },
    {
     "data": {
      "text/latex": [
       "$$\\mathrm b^{0}(X_{13},\\wedge^{0}T_X)=1$$"
      ],
      "text/plain": [
       "<IPython.core.display.Math object>"
      ]
     },
     "metadata": {},
     "output_type": "display_data"
    },
    {
     "data": {
      "text/latex": [
       "$$\\mathrm H^{0}(X_{13},\\wedge^{1}T_X)=L\\left(\\alpha_{1}+\\alpha_{2}+\\alpha_{3}+\\alpha_{4}\\right)$$"
      ],
      "text/plain": [
       "<IPython.core.display.Math object>"
      ]
     },
     "metadata": {},
     "output_type": "display_data"
    },
    {
     "data": {
      "text/latex": [
       "$$\\mathrm b^{0}(X_{13},\\wedge^{1}T_X)=24$$"
      ],
      "text/plain": [
       "<IPython.core.display.Math object>"
      ]
     },
     "metadata": {},
     "output_type": "display_data"
    },
    {
     "data": {
      "text/latex": [
       "$$\\mathrm H^{0}(X_{13},\\wedge^{2}T_X)=L\\left(\\alpha_{1}+\\alpha_{2}+\\alpha_{3}+\\alpha_{4}\\right)\\oplus L\\left( 2\\alpha_{1}+ 2\\alpha_{2}+ 2\\alpha_{3}+\\alpha_{4}\\right)\\oplus L\\left(\\alpha_{1}+ 2\\alpha_{2}+ 2\\alpha_{3}+ 2\\alpha_{4}\\right)$$"
      ],
      "text/plain": [
       "<IPython.core.display.Math object>"
      ]
     },
     "metadata": {},
     "output_type": "display_data"
    },
    {
     "data": {
      "text/latex": [
       "$$\\mathrm b^{0}(X_{13},\\wedge^{2}T_X)=276$$"
      ],
      "text/plain": [
       "<IPython.core.display.Math object>"
      ]
     },
     "metadata": {},
     "output_type": "display_data"
    },
    {
     "data": {
      "text/latex": [
       "$$\\mathrm H^{0}(X_{13},\\wedge^{3}T_X)=L\\left(\\alpha_{1}+ 2\\alpha_{2}+ 2\\alpha_{3}+\\alpha_{4}\\right)\\oplus L\\left( 2\\alpha_{1}+ 2\\alpha_{2}+ 2\\alpha_{3}+\\alpha_{4}\\right)\\oplus L\\left(\\alpha_{1}+ 2\\alpha_{2}+ 2\\alpha_{3}+ 2\\alpha_{4}\\right)\\oplus L\\left( 2\\alpha_{1}+ 2\\alpha_{2}+ 2\\alpha_{3}+ 2\\alpha_{4}\\right)\\oplus L\\left(\\alpha_{1}+ 2\\alpha_{2}+ 3\\alpha_{3}+ 2\\alpha_{4}\\right)\\oplus L\\left( 3\\alpha_{1}+ 3\\alpha_{2}+ 2\\alpha_{3}+\\alpha_{4}\\right)\\oplus L\\left(\\alpha_{1}+ 2\\alpha_{2}+ 3\\alpha_{3}+ 3\\alpha_{4}\\right)\\oplus L\\left( 2\\alpha_{1}+ 3\\alpha_{2}+ 3\\alpha_{3}+ 2\\alpha_{4}\\right)$$"
      ],
      "text/plain": [
       "<IPython.core.display.Math object>"
      ]
     },
     "metadata": {},
     "output_type": "display_data"
    },
    {
     "data": {
      "text/latex": [
       "$$\\mathrm b^{0}(X_{13},\\wedge^{3}T_X)=2174$$"
      ],
      "text/plain": [
       "<IPython.core.display.Math object>"
      ]
     },
     "metadata": {},
     "output_type": "display_data"
    },
    {
     "data": {
      "text/latex": [
       "$$\\mathrm H^{0}(X_{13},\\wedge^{4}T_X)=L\\left( 2\\alpha_{1}+ 3\\alpha_{2}+ 2\\alpha_{3}+\\alpha_{4}\\right)\\oplus L\\left( 2\\alpha_{1}+ 2\\alpha_{2}+ 2\\alpha_{3}+ 2\\alpha_{4}\\right)\\oplus L\\left(\\alpha_{1}+ 2\\alpha_{2}+ 3\\alpha_{3}+ 2\\alpha_{4}\\right)\\oplus L\\left(\\alpha_{1}+ 2\\alpha_{2}+ 3\\alpha_{3}+ 3\\alpha_{4}\\right)\\oplus L\\left( 2\\alpha_{1}+ 3\\alpha_{2}+ 3\\alpha_{3}+ 2\\alpha_{4}\\right)^{2}\\oplus L\\left(\\alpha_{1}+ 2\\alpha_{2}+ 3\\alpha_{3}+ 4\\alpha_{4}\\right)\\oplus L\\left( 3\\alpha_{1}+ 3\\alpha_{2}+ 3\\alpha_{3}+ 2\\alpha_{4}\\right)\\oplus L\\left( 2\\alpha_{1}+ 3\\alpha_{2}+ 4\\alpha_{3}+ 2\\alpha_{4}\\right)\\oplus L\\left( 2\\alpha_{1}+ 3\\alpha_{2}+ 3\\alpha_{3}+ 3\\alpha_{4}\\right)\\oplus L\\left( 3\\alpha_{1}+ 4\\alpha_{2}+ 3\\alpha_{3}+ 2\\alpha_{4}\\right)\\oplus L\\left( 2\\alpha_{1}+ 4\\alpha_{2}+ 4\\alpha_{3}+ 2\\alpha_{4}\\right)\\oplus L\\left( 2\\alpha_{1}+ 3\\alpha_{2}+ 4\\alpha_{3}+ 3\\alpha_{4}\\right)$$"
      ],
      "text/plain": [
       "<IPython.core.display.Math object>"
      ]
     },
     "metadata": {},
     "output_type": "display_data"
    },
    {
     "data": {
      "text/latex": [
       "$$\\mathrm b^{0}(X_{13},\\wedge^{4}T_X)=10326$$"
      ],
      "text/plain": [
       "<IPython.core.display.Math object>"
      ]
     },
     "metadata": {},
     "output_type": "display_data"
    },
    {
     "data": {
      "text/latex": [
       "$$\\mathrm H^{0}(X_{13},\\wedge^{5}T_X)=L\\left( 2\\alpha_{1}+ 3\\alpha_{2}+ 3\\alpha_{3}+ 2\\alpha_{4}\\right)\\oplus L\\left( 2\\alpha_{1}+ 4\\alpha_{2}+ 3\\alpha_{3}+ 2\\alpha_{4}\\right)\\oplus L\\left( 2\\alpha_{1}+ 3\\alpha_{2}+ 3\\alpha_{3}+ 3\\alpha_{4}\\right)\\oplus L\\left( 3\\alpha_{1}+ 4\\alpha_{2}+ 3\\alpha_{3}+ 2\\alpha_{4}\\right)\\oplus L\\left( 2\\alpha_{1}+ 4\\alpha_{2}+ 4\\alpha_{3}+ 2\\alpha_{4}\\right)\\oplus L\\left( 3\\alpha_{1}+ 3\\alpha_{2}+ 3\\alpha_{3}+ 3\\alpha_{4}\\right)\\oplus L\\left( 2\\alpha_{1}+ 3\\alpha_{2}+ 4\\alpha_{3}+ 3\\alpha_{4}\\right)\\oplus L\\left( 3\\alpha_{1}+ 4\\alpha_{2}+ 4\\alpha_{3}+ 2\\alpha_{4}\\right)\\oplus L\\left( 2\\alpha_{1}+ 4\\alpha_{2}+ 4\\alpha_{3}+ 3\\alpha_{4}\\right)\\oplus L\\left( 2\\alpha_{1}+ 3\\alpha_{2}+ 4\\alpha_{3}+ 4\\alpha_{4}\\right)\\oplus L\\left( 3\\alpha_{1}+ 5\\alpha_{2}+ 4\\alpha_{3}+ 2\\alpha_{4}\\right)\\oplus L\\left( 3\\alpha_{1}+ 4\\alpha_{2}+ 4\\alpha_{3}+ 3\\alpha_{4}\\right)\\oplus L\\left( 2\\alpha_{1}+ 4\\alpha_{2}+ 5\\alpha_{3}+ 3\\alpha_{4}\\right)$$"
      ],
      "text/plain": [
       "<IPython.core.display.Math object>"
      ]
     },
     "metadata": {},
     "output_type": "display_data"
    },
    {
     "data": {
      "text/latex": [
       "$$\\mathrm b^{0}(X_{13},\\wedge^{5}T_X)=27675$$"
      ],
      "text/plain": [
       "<IPython.core.display.Math object>"
      ]
     },
     "metadata": {},
     "output_type": "display_data"
    },
    {
     "data": {
      "text/latex": [
       "$$\\mathrm H^{0}(X_{13},\\wedge^{6}T_X)=L\\left( 2\\alpha_{1}+ 4\\alpha_{2}+ 3\\alpha_{3}+ 2\\alpha_{4}\\right)\\oplus L\\left( 2\\alpha_{1}+ 4\\alpha_{2}+ 4\\alpha_{3}+ 3\\alpha_{4}\\right)\\oplus L\\left( 3\\alpha_{1}+ 5\\alpha_{2}+ 4\\alpha_{3}+ 2\\alpha_{4}\\right)\\oplus L\\left( 3\\alpha_{1}+ 4\\alpha_{2}+ 4\\alpha_{3}+ 3\\alpha_{4}\\right)\\oplus L\\left( 3\\alpha_{1}+ 6\\alpha_{2}+ 4\\alpha_{3}+ 2\\alpha_{4}\\right)\\oplus L\\left( 3\\alpha_{1}+ 5\\alpha_{2}+ 4\\alpha_{3}+ 3\\alpha_{4}\\right)\\oplus L\\left( 3\\alpha_{1}+ 4\\alpha_{2}+ 4\\alpha_{3}+ 4\\alpha_{4}\\right)\\oplus L\\left( 2\\alpha_{1}+ 4\\alpha_{2}+ 5\\alpha_{3}+ 4\\alpha_{4}\\right)\\oplus L\\left( 3\\alpha_{1}+ 5\\alpha_{2}+ 5\\alpha_{3}+ 3\\alpha_{4}\\right)$$"
      ],
      "text/plain": [
       "<IPython.core.display.Math object>"
      ]
     },
     "metadata": {},
     "output_type": "display_data"
    },
    {
     "data": {
      "text/latex": [
       "$$\\mathrm b^{0}(X_{13},\\wedge^{6}T_X)=41000$$"
      ],
      "text/plain": [
       "<IPython.core.display.Math object>"
      ]
     },
     "metadata": {},
     "output_type": "display_data"
    },
    {
     "data": {
      "text/latex": [
       "$$\\mathrm H^{0}(X_{13},\\wedge^{7}T_X)=L\\left( 3\\alpha_{1}+ 5\\alpha_{2}+ 4\\alpha_{3}+ 3\\alpha_{4}\\right)\\oplus L\\left( 3\\alpha_{1}+ 6\\alpha_{2}+ 5\\alpha_{3}+ 3\\alpha_{4}\\right)\\oplus L\\left( 3\\alpha_{1}+ 5\\alpha_{2}+ 5\\alpha_{3}+ 4\\alpha_{4}\\right)$$"
      ],
      "text/plain": [
       "<IPython.core.display.Math object>"
      ]
     },
     "metadata": {},
     "output_type": "display_data"
    },
    {
     "data": {
      "text/latex": [
       "$$\\mathrm b^{0}(X_{13},\\wedge^{7}T_X)=31325$$"
      ],
      "text/plain": [
       "<IPython.core.display.Math object>"
      ]
     },
     "metadata": {},
     "output_type": "display_data"
    },
    {
     "data": {
      "text/latex": [
       "$$\\mathrm H^{0}(X_{13},\\wedge^{8}T_X)=L\\left( 3\\alpha_{1}+ 6\\alpha_{2}+ 5\\alpha_{3}+ 4\\alpha_{4}\\right)$$"
      ],
      "text/plain": [
       "<IPython.core.display.Math object>"
      ]
     },
     "metadata": {},
     "output_type": "display_data"
    },
    {
     "data": {
      "text/latex": [
       "$$\\mathrm b^{0}(X_{13},\\wedge^{8}T_X)=9625$$"
      ],
      "text/plain": [
       "<IPython.core.display.Math object>"
      ]
     },
     "metadata": {},
     "output_type": "display_data"
    },
    {
     "name": "stdout",
     "output_type": "stream",
     "text": [
      "\n",
      "dim of u is 8 for root system A4 and subset (1, 4)\n"
     ]
    },
    {
     "data": {
      "application/vnd.jupyter.widget-view+json": {
       "model_id": "022d33deeecc497fa4a9389324770bac",
       "version_major": 2,
       "version_minor": 0
      },
      "text/plain": [
       "HBox(children=(IntProgress(value=0, max=9), HTML(value=u'')))"
      ]
     },
     "metadata": {},
     "output_type": "display_data"
    },
    {
     "data": {
      "application/vnd.jupyter.widget-view+json": {
       "model_id": "3b919e716a834ff1af5021ed0df2d053",
       "version_major": 2,
       "version_minor": 0
      },
      "text/plain": [
       "HBox(children=(IntProgress(value=1, bar_style=u'info', max=1), HTML(value=u'')))"
      ]
     },
     "metadata": {},
     "output_type": "display_data"
    },
    {
     "data": {
      "application/vnd.jupyter.widget-view+json": {
       "model_id": "fb72c4cb78754252a94c971c70b3c361",
       "version_major": 2,
       "version_minor": 0
      },
      "text/plain": [
       "HBox(children=(IntProgress(value=1, bar_style=u'info', max=1), HTML(value=u'')))"
      ]
     },
     "metadata": {},
     "output_type": "display_data"
    },
    {
     "data": {
      "text/latex": [
       "$$\\mathrm H^{0}(X_{14},\\wedge^{0}T_X)=\\mathbb{C}$$"
      ],
      "text/plain": [
       "<IPython.core.display.Math object>"
      ]
     },
     "metadata": {},
     "output_type": "display_data"
    },
    {
     "data": {
      "text/latex": [
       "$$\\mathrm b^{0}(X_{14},\\wedge^{0}T_X)=1$$"
      ],
      "text/plain": [
       "<IPython.core.display.Math object>"
      ]
     },
     "metadata": {},
     "output_type": "display_data"
    },
    {
     "data": {
      "text/latex": [
       "$$\\mathrm H^{0}(X_{14},\\wedge^{1}T_X)=L\\left(\\alpha_{1}+\\alpha_{2}+\\alpha_{3}+\\alpha_{4}\\right)$$"
      ],
      "text/plain": [
       "<IPython.core.display.Math object>"
      ]
     },
     "metadata": {},
     "output_type": "display_data"
    },
    {
     "data": {
      "text/latex": [
       "$$\\mathrm b^{0}(X_{14},\\wedge^{1}T_X)=24$$"
      ],
      "text/plain": [
       "<IPython.core.display.Math object>"
      ]
     },
     "metadata": {},
     "output_type": "display_data"
    },
    {
     "data": {
      "text/latex": [
       "$$\\mathrm H^{0}(X_{14},\\wedge^{2}T_X)=L\\left(\\alpha_{1}+\\alpha_{2}+\\alpha_{3}+\\alpha_{4}\\right)\\oplus L\\left( 2\\alpha_{1}+ 2\\alpha_{2}+ 2\\alpha_{3}+\\alpha_{4}\\right)\\oplus L\\left(\\alpha_{1}+ 2\\alpha_{2}+ 2\\alpha_{3}+ 2\\alpha_{4}\\right)$$"
      ],
      "text/plain": [
       "<IPython.core.display.Math object>"
      ]
     },
     "metadata": {},
     "output_type": "display_data"
    },
    {
     "data": {
      "text/latex": [
       "$$\\mathrm b^{0}(X_{14},\\wedge^{2}T_X)=276$$"
      ],
      "text/plain": [
       "<IPython.core.display.Math object>"
      ]
     },
     "metadata": {},
     "output_type": "display_data"
    },
    {
     "data": {
      "text/latex": [
       "$$\\mathrm H^{0}(X_{14},\\wedge^{3}T_X)=L\\left(\\alpha_{1}+ 2\\alpha_{2}+ 2\\alpha_{3}+\\alpha_{4}\\right)\\oplus L\\left( 2\\alpha_{1}+ 2\\alpha_{2}+ 2\\alpha_{3}+\\alpha_{4}\\right)\\oplus L\\left(\\alpha_{1}+ 2\\alpha_{2}+ 2\\alpha_{3}+ 2\\alpha_{4}\\right)\\oplus L\\left( 2\\alpha_{1}+ 2\\alpha_{2}+ 2\\alpha_{3}+ 2\\alpha_{4}\\right)\\oplus L\\left( 3\\alpha_{1}+ 3\\alpha_{2}+ 2\\alpha_{3}+\\alpha_{4}\\right)\\oplus L\\left(\\alpha_{1}+ 2\\alpha_{2}+ 3\\alpha_{3}+ 3\\alpha_{4}\\right)\\oplus L\\left( 2\\alpha_{1}+ 3\\alpha_{2}+ 3\\alpha_{3}+ 2\\alpha_{4}\\right)$$"
      ],
      "text/plain": [
       "<IPython.core.display.Math object>"
      ]
     },
     "metadata": {},
     "output_type": "display_data"
    },
    {
     "data": {
      "text/latex": [
       "$$\\mathrm b^{0}(X_{14},\\wedge^{3}T_X)=1999$$"
      ],
      "text/plain": [
       "<IPython.core.display.Math object>"
      ]
     },
     "metadata": {},
     "output_type": "display_data"
    },
    {
     "data": {
      "text/latex": [
       "$$\\mathrm H^{0}(X_{14},\\wedge^{4}T_X)=L\\left(\\alpha_{1}+ 2\\alpha_{2}+ 2\\alpha_{3}+\\alpha_{4}\\right)\\oplus L\\left( 2\\alpha_{1}+ 3\\alpha_{2}+ 2\\alpha_{3}+\\alpha_{4}\\right)\\oplus L\\left(\\alpha_{1}+ 2\\alpha_{2}+ 3\\alpha_{3}+ 2\\alpha_{4}\\right)\\oplus L\\left( 2\\alpha_{1}+ 3\\alpha_{2}+ 3\\alpha_{3}+ 2\\alpha_{4}\\right)^{2}\\oplus L\\left( 3\\alpha_{1}+ 3\\alpha_{2}+ 3\\alpha_{3}+ 2\\alpha_{4}\\right)\\oplus L\\left( 2\\alpha_{1}+ 3\\alpha_{2}+ 3\\alpha_{3}+ 3\\alpha_{4}\\right)\\oplus L\\left( 3\\alpha_{1}+ 4\\alpha_{2}+ 3\\alpha_{3}+ 2\\alpha_{4}\\right)\\oplus L\\left( 2\\alpha_{1}+ 4\\alpha_{2}+ 4\\alpha_{3}+ 2\\alpha_{4}\\right)\\oplus L\\left( 2\\alpha_{1}+ 3\\alpha_{2}+ 4\\alpha_{3}+ 3\\alpha_{4}\\right)$$"
      ],
      "text/plain": [
       "<IPython.core.display.Math object>"
      ]
     },
     "metadata": {},
     "output_type": "display_data"
    },
    {
     "data": {
      "text/latex": [
       "$$\\mathrm b^{0}(X_{14},\\wedge^{4}T_X)=9151$$"
      ],
      "text/plain": [
       "<IPython.core.display.Math object>"
      ]
     },
     "metadata": {},
     "output_type": "display_data"
    },
    {
     "data": {
      "text/latex": [
       "$$\\mathrm H^{0}(X_{14},\\wedge^{5}T_X)=L\\left( 2\\alpha_{1}+ 3\\alpha_{2}+ 3\\alpha_{3}+ 2\\alpha_{4}\\right)\\oplus L\\left( 2\\alpha_{1}+ 4\\alpha_{2}+ 3\\alpha_{3}+ 2\\alpha_{4}\\right)\\oplus L\\left( 2\\alpha_{1}+ 3\\alpha_{2}+ 4\\alpha_{3}+ 2\\alpha_{4}\\right)\\oplus L\\left( 3\\alpha_{1}+ 4\\alpha_{2}+ 3\\alpha_{3}+ 2\\alpha_{4}\\right)\\oplus L\\left( 2\\alpha_{1}+ 4\\alpha_{2}+ 4\\alpha_{3}+ 2\\alpha_{4}\\right)\\oplus L\\left( 2\\alpha_{1}+ 3\\alpha_{2}+ 4\\alpha_{3}+ 3\\alpha_{4}\\right)\\oplus L\\left( 3\\alpha_{1}+ 4\\alpha_{2}+ 4\\alpha_{3}+ 2\\alpha_{4}\\right)\\oplus L\\left( 2\\alpha_{1}+ 4\\alpha_{2}+ 4\\alpha_{3}+ 3\\alpha_{4}\\right)\\oplus L\\left( 3\\alpha_{1}+ 5\\alpha_{2}+ 4\\alpha_{3}+ 2\\alpha_{4}\\right)\\oplus L\\left( 3\\alpha_{1}+ 4\\alpha_{2}+ 4\\alpha_{3}+ 3\\alpha_{4}\\right)\\oplus L\\left( 2\\alpha_{1}+ 4\\alpha_{2}+ 5\\alpha_{3}+ 3\\alpha_{4}\\right)$$"
      ],
      "text/plain": [
       "<IPython.core.display.Math object>"
      ]
     },
     "metadata": {},
     "output_type": "display_data"
    },
    {
     "data": {
      "text/latex": [
       "$$\\mathrm b^{0}(X_{14},\\wedge^{5}T_X)=24575$$"
      ],
      "text/plain": [
       "<IPython.core.display.Math object>"
      ]
     },
     "metadata": {},
     "output_type": "display_data"
    },
    {
     "data": {
      "text/latex": [
       "$$\\mathrm H^{0}(X_{14},\\wedge^{6}T_X)=L\\left( 3\\alpha_{1}+ 4\\alpha_{2}+ 4\\alpha_{3}+ 2\\alpha_{4}\\right)\\oplus L\\left( 2\\alpha_{1}+ 4\\alpha_{2}+ 4\\alpha_{3}+ 3\\alpha_{4}\\right)\\oplus L\\left( 3\\alpha_{1}+ 5\\alpha_{2}+ 4\\alpha_{3}+ 2\\alpha_{4}\\right)\\oplus L\\left( 2\\alpha_{1}+ 4\\alpha_{2}+ 5\\alpha_{3}+ 3\\alpha_{4}\\right)\\oplus L\\left( 3\\alpha_{1}+ 6\\alpha_{2}+ 4\\alpha_{3}+ 2\\alpha_{4}\\right)\\oplus L\\left( 3\\alpha_{1}+ 5\\alpha_{2}+ 4\\alpha_{3}+ 3\\alpha_{4}\\right)\\oplus L\\left( 3\\alpha_{1}+ 4\\alpha_{2}+ 5\\alpha_{3}+ 3\\alpha_{4}\\right)\\oplus L\\left( 2\\alpha_{1}+ 4\\alpha_{2}+ 6\\alpha_{3}+ 3\\alpha_{4}\\right)\\oplus L\\left( 3\\alpha_{1}+ 5\\alpha_{2}+ 5\\alpha_{3}+ 3\\alpha_{4}\\right)$$"
      ],
      "text/plain": [
       "<IPython.core.display.Math object>"
      ]
     },
     "metadata": {},
     "output_type": "display_data"
    },
    {
     "data": {
      "text/latex": [
       "$$\\mathrm b^{0}(X_{14},\\wedge^{6}T_X)=37000$$"
      ],
      "text/plain": [
       "<IPython.core.display.Math object>"
      ]
     },
     "metadata": {},
     "output_type": "display_data"
    },
    {
     "data": {
      "text/latex": [
       "$$\\mathrm H^{0}(X_{14},\\wedge^{7}T_X)=L\\left( 3\\alpha_{1}+ 5\\alpha_{2}+ 5\\alpha_{3}+ 3\\alpha_{4}\\right)\\oplus L\\left( 3\\alpha_{1}+ 6\\alpha_{2}+ 5\\alpha_{3}+ 3\\alpha_{4}\\right)\\oplus L\\left( 3\\alpha_{1}+ 5\\alpha_{2}+ 6\\alpha_{3}+ 3\\alpha_{4}\\right)$$"
      ],
      "text/plain": [
       "<IPython.core.display.Math object>"
      ]
     },
     "metadata": {},
     "output_type": "display_data"
    },
    {
     "data": {
      "text/latex": [
       "$$\\mathrm b^{0}(X_{14},\\wedge^{7}T_X)=28800$$"
      ],
      "text/plain": [
       "<IPython.core.display.Math object>"
      ]
     },
     "metadata": {},
     "output_type": "display_data"
    },
    {
     "data": {
      "text/latex": [
       "$$\\mathrm H^{0}(X_{14},\\wedge^{8}T_X)=L\\left( 3\\alpha_{1}+ 6\\alpha_{2}+ 6\\alpha_{3}+ 3\\alpha_{4}\\right)$$"
      ],
      "text/plain": [
       "<IPython.core.display.Math object>"
      ]
     },
     "metadata": {},
     "output_type": "display_data"
    },
    {
     "data": {
      "text/latex": [
       "$$\\mathrm b^{0}(X_{14},\\wedge^{8}T_X)=9000$$"
      ],
      "text/plain": [
       "<IPython.core.display.Math object>"
      ]
     },
     "metadata": {},
     "output_type": "display_data"
    },
    {
     "name": "stdout",
     "output_type": "stream",
     "text": [
      "\n",
      "dim of u is 7 for root system A4 and subset (2, 3)\n"
     ]
    },
    {
     "data": {
      "application/vnd.jupyter.widget-view+json": {
       "model_id": "51ff05f7e70b4fa598d1712244cb40d1",
       "version_major": 2,
       "version_minor": 0
      },
      "text/plain": [
       "HBox(children=(IntProgress(value=0, max=8), HTML(value=u'')))"
      ]
     },
     "metadata": {},
     "output_type": "display_data"
    },
    {
     "data": {
      "application/vnd.jupyter.widget-view+json": {
       "model_id": "7652e27c769e40f39dea1be440de034c",
       "version_major": 2,
       "version_minor": 0
      },
      "text/plain": [
       "HBox(children=(IntProgress(value=1, bar_style=u'info', max=1), HTML(value=u'')))"
      ]
     },
     "metadata": {},
     "output_type": "display_data"
    },
    {
     "data": {
      "application/vnd.jupyter.widget-view+json": {
       "model_id": "82741f8816854651aa6d7422bb3f6b8f",
       "version_major": 2,
       "version_minor": 0
      },
      "text/plain": [
       "HBox(children=(IntProgress(value=1, bar_style=u'info', max=1), HTML(value=u'')))"
      ]
     },
     "metadata": {},
     "output_type": "display_data"
    },
    {
     "data": {
      "text/latex": [
       "$$\\mathrm H^{0}(X_{23},\\wedge^{0}T_X)=\\mathbb{C}$$"
      ],
      "text/plain": [
       "<IPython.core.display.Math object>"
      ]
     },
     "metadata": {},
     "output_type": "display_data"
    },
    {
     "data": {
      "text/latex": [
       "$$\\mathrm b^{0}(X_{23},\\wedge^{0}T_X)=1$$"
      ],
      "text/plain": [
       "<IPython.core.display.Math object>"
      ]
     },
     "metadata": {},
     "output_type": "display_data"
    },
    {
     "data": {
      "text/latex": [
       "$$\\mathrm H^{0}(X_{23},\\wedge^{1}T_X)=L\\left(\\alpha_{1}+\\alpha_{2}+\\alpha_{3}+\\alpha_{4}\\right)$$"
      ],
      "text/plain": [
       "<IPython.core.display.Math object>"
      ]
     },
     "metadata": {},
     "output_type": "display_data"
    },
    {
     "data": {
      "text/latex": [
       "$$\\mathrm b^{0}(X_{23},\\wedge^{1}T_X)=24$$"
      ],
      "text/plain": [
       "<IPython.core.display.Math object>"
      ]
     },
     "metadata": {},
     "output_type": "display_data"
    },
    {
     "data": {
      "text/latex": [
       "$$\\mathrm H^{0}(X_{23},\\wedge^{2}T_X)=L\\left(\\alpha_{1}+\\alpha_{2}+\\alpha_{3}+\\alpha_{4}\\right)\\oplus L\\left(\\alpha_{1}+ 2\\alpha_{2}+ 2\\alpha_{3}+\\alpha_{4}\\right)\\oplus L\\left( 2\\alpha_{1}+ 2\\alpha_{2}+ 2\\alpha_{3}+\\alpha_{4}\\right)\\oplus L\\left(\\alpha_{1}+ 2\\alpha_{2}+ 2\\alpha_{3}+ 2\\alpha_{4}\\right)$$"
      ],
      "text/plain": [
       "<IPython.core.display.Math object>"
      ]
     },
     "metadata": {},
     "output_type": "display_data"
    },
    {
     "data": {
      "text/latex": [
       "$$\\mathrm b^{0}(X_{23},\\wedge^{2}T_X)=351$$"
      ],
      "text/plain": [
       "<IPython.core.display.Math object>"
      ]
     },
     "metadata": {},
     "output_type": "display_data"
    },
    {
     "data": {
      "text/latex": [
       "$$\\mathrm H^{0}(X_{23},\\wedge^{3}T_X)=L\\left( 2\\alpha_{1}+ 2\\alpha_{2}+ 2\\alpha_{3}+\\alpha_{4}\\right)\\oplus L\\left(\\alpha_{1}+ 2\\alpha_{2}+ 2\\alpha_{3}+ 2\\alpha_{4}\\right)\\oplus L\\left( 2\\alpha_{1}+ 3\\alpha_{2}+ 2\\alpha_{3}+\\alpha_{4}\\right)\\oplus L\\left( 2\\alpha_{1}+ 2\\alpha_{2}+ 2\\alpha_{3}+ 2\\alpha_{4}\\right)\\oplus L\\left(\\alpha_{1}+ 2\\alpha_{2}+ 3\\alpha_{3}+ 2\\alpha_{4}\\right)\\oplus L\\left( 3\\alpha_{1}+ 3\\alpha_{2}+ 2\\alpha_{3}+\\alpha_{4}\\right)\\oplus L\\left(\\alpha_{1}+ 2\\alpha_{2}+ 3\\alpha_{3}+ 3\\alpha_{4}\\right)\\oplus L\\left( 2\\alpha_{1}+ 3\\alpha_{2}+ 3\\alpha_{3}+ 2\\alpha_{4}\\right)$$"
      ],
      "text/plain": [
       "<IPython.core.display.Math object>"
      ]
     },
     "metadata": {},
     "output_type": "display_data"
    },
    {
     "data": {
      "text/latex": [
       "$$\\mathrm b^{0}(X_{23},\\wedge^{3}T_X)=2274$$"
      ],
      "text/plain": [
       "<IPython.core.display.Math object>"
      ]
     },
     "metadata": {},
     "output_type": "display_data"
    },
    {
     "data": {
      "text/latex": [
       "$$\\mathrm H^{0}(X_{23},\\wedge^{4}T_X)=L\\left( 2\\alpha_{1}+ 2\\alpha_{2}+ 2\\alpha_{3}+ 2\\alpha_{4}\\right)\\oplus L\\left( 3\\alpha_{1}+ 3\\alpha_{2}+ 2\\alpha_{3}+\\alpha_{4}\\right)\\oplus L\\left(\\alpha_{1}+ 2\\alpha_{2}+ 3\\alpha_{3}+ 3\\alpha_{4}\\right)\\oplus L\\left( 4\\alpha_{1}+ 3\\alpha_{2}+ 2\\alpha_{3}+\\alpha_{4}\\right)\\oplus L\\left( 2\\alpha_{1}+ 3\\alpha_{2}+ 3\\alpha_{3}+ 2\\alpha_{4}\\right)\\oplus L\\left(\\alpha_{1}+ 2\\alpha_{2}+ 3\\alpha_{3}+ 4\\alpha_{4}\\right)\\oplus L\\left( 3\\alpha_{1}+ 3\\alpha_{2}+ 3\\alpha_{3}+ 2\\alpha_{4}\\right)\\oplus L\\left( 2\\alpha_{1}+ 3\\alpha_{2}+ 3\\alpha_{3}+ 3\\alpha_{4}\\right)\\oplus L\\left( 3\\alpha_{1}+ 4\\alpha_{2}+ 3\\alpha_{3}+ 2\\alpha_{4}\\right)\\oplus L\\left( 2\\alpha_{1}+ 3\\alpha_{2}+ 4\\alpha_{3}+ 3\\alpha_{4}\\right)$$"
      ],
      "text/plain": [
       "<IPython.core.display.Math object>"
      ]
     },
     "metadata": {},
     "output_type": "display_data"
    },
    {
     "data": {
      "text/latex": [
       "$$\\mathrm b^{0}(X_{23},\\wedge^{4}T_X)=7426$$"
      ],
      "text/plain": [
       "<IPython.core.display.Math object>"
      ]
     },
     "metadata": {},
     "output_type": "display_data"
    },
    {
     "data": {
      "text/latex": [
       "$$\\mathrm H^{0}(X_{23},\\wedge^{5}T_X)=L\\left( 3\\alpha_{1}+ 3\\alpha_{2}+ 3\\alpha_{3}+ 2\\alpha_{4}\\right)\\oplus L\\left( 2\\alpha_{1}+ 3\\alpha_{2}+ 3\\alpha_{3}+ 3\\alpha_{4}\\right)\\oplus L\\left( 3\\alpha_{1}+ 3\\alpha_{2}+ 3\\alpha_{3}+ 3\\alpha_{4}\\right)\\oplus L\\left( 4\\alpha_{1}+ 4\\alpha_{2}+ 3\\alpha_{3}+ 2\\alpha_{4}\\right)\\oplus L\\left( 2\\alpha_{1}+ 3\\alpha_{2}+ 4\\alpha_{3}+ 4\\alpha_{4}\\right)\\oplus L\\left( 3\\alpha_{1}+ 4\\alpha_{2}+ 4\\alpha_{3}+ 3\\alpha_{4}\\right)$$"
      ],
      "text/plain": [
       "<IPython.core.display.Math object>"
      ]
     },
     "metadata": {},
     "output_type": "display_data"
    },
    {
     "data": {
      "text/latex": [
       "$$\\mathrm b^{0}(X_{23},\\wedge^{5}T_X)=12725$$"
      ],
      "text/plain": [
       "<IPython.core.display.Math object>"
      ]
     },
     "metadata": {},
     "output_type": "display_data"
    },
    {
     "data": {
      "text/latex": [
       "$$\\mathrm H^{0}(X_{23},\\wedge^{6}T_X)=L\\left( 3\\alpha_{1}+ 3\\alpha_{2}+ 3\\alpha_{3}+ 3\\alpha_{4}\\right)\\oplus L\\left( 4\\alpha_{1}+ 4\\alpha_{2}+ 4\\alpha_{3}+ 3\\alpha_{4}\\right)\\oplus L\\left( 3\\alpha_{1}+ 4\\alpha_{2}+ 4\\alpha_{3}+ 4\\alpha_{4}\\right)$$"
      ],
      "text/plain": [
       "<IPython.core.display.Math object>"
      ]
     },
     "metadata": {},
     "output_type": "display_data"
    },
    {
     "data": {
      "text/latex": [
       "$$\\mathrm b^{0}(X_{23},\\wedge^{6}T_X)=10900$$"
      ],
      "text/plain": [
       "<IPython.core.display.Math object>"
      ]
     },
     "metadata": {},
     "output_type": "display_data"
    },
    {
     "data": {
      "text/latex": [
       "$$\\mathrm H^{0}(X_{23},\\wedge^{7}T_X)=L\\left( 4\\alpha_{1}+ 4\\alpha_{2}+ 4\\alpha_{3}+ 4\\alpha_{4}\\right)$$"
      ],
      "text/plain": [
       "<IPython.core.display.Math object>"
      ]
     },
     "metadata": {},
     "output_type": "display_data"
    },
    {
     "data": {
      "text/latex": [
       "$$\\mathrm b^{0}(X_{23},\\wedge^{7}T_X)=3675$$"
      ],
      "text/plain": [
       "<IPython.core.display.Math object>"
      ]
     },
     "metadata": {},
     "output_type": "display_data"
    },
    {
     "name": "stdout",
     "output_type": "stream",
     "text": [
      "\n",
      "dim of u is 8 for root system A4 and subset (2, 4)\n"
     ]
    },
    {
     "data": {
      "application/vnd.jupyter.widget-view+json": {
       "model_id": "7c07f429ed354dd6aea7d7f2030ed73b",
       "version_major": 2,
       "version_minor": 0
      },
      "text/plain": [
       "HBox(children=(IntProgress(value=0, max=9), HTML(value=u'')))"
      ]
     },
     "metadata": {},
     "output_type": "display_data"
    },
    {
     "data": {
      "application/vnd.jupyter.widget-view+json": {
       "model_id": "b2ada15433fd43809a88c3bf1c23736a",
       "version_major": 2,
       "version_minor": 0
      },
      "text/plain": [
       "HBox(children=(IntProgress(value=1, bar_style=u'info', max=1), HTML(value=u'')))"
      ]
     },
     "metadata": {},
     "output_type": "display_data"
    },
    {
     "data": {
      "application/vnd.jupyter.widget-view+json": {
       "model_id": "63ce7859a9e6425fa98ef07dd6c0c2a4",
       "version_major": 2,
       "version_minor": 0
      },
      "text/plain": [
       "HBox(children=(IntProgress(value=1, bar_style=u'info', max=1), HTML(value=u'')))"
      ]
     },
     "metadata": {},
     "output_type": "display_data"
    },
    {
     "data": {
      "text/latex": [
       "$$\\mathrm H^{0}(X_{24},\\wedge^{0}T_X)=\\mathbb{C}$$"
      ],
      "text/plain": [
       "<IPython.core.display.Math object>"
      ]
     },
     "metadata": {},
     "output_type": "display_data"
    },
    {
     "data": {
      "text/latex": [
       "$$\\mathrm b^{0}(X_{24},\\wedge^{0}T_X)=1$$"
      ],
      "text/plain": [
       "<IPython.core.display.Math object>"
      ]
     },
     "metadata": {},
     "output_type": "display_data"
    },
    {
     "data": {
      "text/latex": [
       "$$\\mathrm H^{0}(X_{24},\\wedge^{1}T_X)=L\\left(\\alpha_{1}+\\alpha_{2}+\\alpha_{3}+\\alpha_{4}\\right)$$"
      ],
      "text/plain": [
       "<IPython.core.display.Math object>"
      ]
     },
     "metadata": {},
     "output_type": "display_data"
    },
    {
     "data": {
      "text/latex": [
       "$$\\mathrm b^{0}(X_{24},\\wedge^{1}T_X)=24$$"
      ],
      "text/plain": [
       "<IPython.core.display.Math object>"
      ]
     },
     "metadata": {},
     "output_type": "display_data"
    },
    {
     "data": {
      "text/latex": [
       "$$\\mathrm H^{0}(X_{24},\\wedge^{2}T_X)=L\\left(\\alpha_{1}+\\alpha_{2}+\\alpha_{3}+\\alpha_{4}\\right)\\oplus L\\left( 2\\alpha_{1}+ 2\\alpha_{2}+ 2\\alpha_{3}+\\alpha_{4}\\right)\\oplus L\\left(\\alpha_{1}+ 2\\alpha_{2}+ 2\\alpha_{3}+ 2\\alpha_{4}\\right)$$"
      ],
      "text/plain": [
       "<IPython.core.display.Math object>"
      ]
     },
     "metadata": {},
     "output_type": "display_data"
    },
    {
     "data": {
      "text/latex": [
       "$$\\mathrm b^{0}(X_{24},\\wedge^{2}T_X)=276$$"
      ],
      "text/plain": [
       "<IPython.core.display.Math object>"
      ]
     },
     "metadata": {},
     "output_type": "display_data"
    },
    {
     "data": {
      "text/latex": [
       "$$\\mathrm H^{0}(X_{24},\\wedge^{3}T_X)=L\\left(\\alpha_{1}+ 2\\alpha_{2}+ 2\\alpha_{3}+\\alpha_{4}\\right)\\oplus L\\left( 2\\alpha_{1}+ 2\\alpha_{2}+ 2\\alpha_{3}+\\alpha_{4}\\right)\\oplus L\\left(\\alpha_{1}+ 2\\alpha_{2}+ 2\\alpha_{3}+ 2\\alpha_{4}\\right)\\oplus L\\left( 2\\alpha_{1}+ 3\\alpha_{2}+ 2\\alpha_{3}+\\alpha_{4}\\right)\\oplus L\\left( 2\\alpha_{1}+ 2\\alpha_{2}+ 2\\alpha_{3}+ 2\\alpha_{4}\\right)\\oplus L\\left( 3\\alpha_{1}+ 3\\alpha_{2}+ 2\\alpha_{3}+\\alpha_{4}\\right)\\oplus L\\left(\\alpha_{1}+ 2\\alpha_{2}+ 3\\alpha_{3}+ 3\\alpha_{4}\\right)\\oplus L\\left( 2\\alpha_{1}+ 3\\alpha_{2}+ 3\\alpha_{3}+ 2\\alpha_{4}\\right)$$"
      ],
      "text/plain": [
       "<IPython.core.display.Math object>"
      ]
     },
     "metadata": {},
     "output_type": "display_data"
    },
    {
     "data": {
      "text/latex": [
       "$$\\mathrm b^{0}(X_{24},\\wedge^{3}T_X)=2174$$"
      ],
      "text/plain": [
       "<IPython.core.display.Math object>"
      ]
     },
     "metadata": {},
     "output_type": "display_data"
    },
    {
     "data": {
      "text/latex": [
       "$$\\mathrm H^{0}(X_{24},\\wedge^{4}T_X)=L\\left( 2\\alpha_{1}+ 3\\alpha_{2}+ 2\\alpha_{3}+\\alpha_{4}\\right)\\oplus L\\left( 2\\alpha_{1}+ 2\\alpha_{2}+ 2\\alpha_{3}+ 2\\alpha_{4}\\right)\\oplus L\\left(\\alpha_{1}+ 2\\alpha_{2}+ 3\\alpha_{3}+ 2\\alpha_{4}\\right)\\oplus L\\left( 3\\alpha_{1}+ 3\\alpha_{2}+ 2\\alpha_{3}+\\alpha_{4}\\right)\\oplus L\\left( 4\\alpha_{1}+ 3\\alpha_{2}+ 2\\alpha_{3}+\\alpha_{4}\\right)\\oplus L\\left( 2\\alpha_{1}+ 3\\alpha_{2}+ 3\\alpha_{3}+ 2\\alpha_{4}\\right)^{2}\\oplus L\\left( 3\\alpha_{1}+ 3\\alpha_{2}+ 3\\alpha_{3}+ 2\\alpha_{4}\\right)\\oplus L\\left( 2\\alpha_{1}+ 4\\alpha_{2}+ 3\\alpha_{3}+ 2\\alpha_{4}\\right)\\oplus L\\left( 2\\alpha_{1}+ 3\\alpha_{2}+ 3\\alpha_{3}+ 3\\alpha_{4}\\right)\\oplus L\\left( 3\\alpha_{1}+ 4\\alpha_{2}+ 3\\alpha_{3}+ 2\\alpha_{4}\\right)\\oplus L\\left( 2\\alpha_{1}+ 4\\alpha_{2}+ 4\\alpha_{3}+ 2\\alpha_{4}\\right)\\oplus L\\left( 2\\alpha_{1}+ 3\\alpha_{2}+ 4\\alpha_{3}+ 3\\alpha_{4}\\right)$$"
      ],
      "text/plain": [
       "<IPython.core.display.Math object>"
      ]
     },
     "metadata": {},
     "output_type": "display_data"
    },
    {
     "data": {
      "text/latex": [
       "$$\\mathrm b^{0}(X_{24},\\wedge^{4}T_X)=10326$$"
      ],
      "text/plain": [
       "<IPython.core.display.Math object>"
      ]
     },
     "metadata": {},
     "output_type": "display_data"
    },
    {
     "data": {
      "text/latex": [
       "$$\\mathrm H^{0}(X_{24},\\wedge^{5}T_X)=L\\left( 2\\alpha_{1}+ 3\\alpha_{2}+ 3\\alpha_{3}+ 2\\alpha_{4}\\right)\\oplus L\\left( 3\\alpha_{1}+ 3\\alpha_{2}+ 3\\alpha_{3}+ 2\\alpha_{4}\\right)\\oplus L\\left( 2\\alpha_{1}+ 3\\alpha_{2}+ 4\\alpha_{3}+ 2\\alpha_{4}\\right)\\oplus L\\left( 3\\alpha_{1}+ 4\\alpha_{2}+ 3\\alpha_{3}+ 2\\alpha_{4}\\right)\\oplus L\\left( 2\\alpha_{1}+ 4\\alpha_{2}+ 4\\alpha_{3}+ 2\\alpha_{4}\\right)\\oplus L\\left( 3\\alpha_{1}+ 3\\alpha_{2}+ 3\\alpha_{3}+ 3\\alpha_{4}\\right)\\oplus L\\left( 2\\alpha_{1}+ 3\\alpha_{2}+ 4\\alpha_{3}+ 3\\alpha_{4}\\right)\\oplus L\\left( 4\\alpha_{1}+ 4\\alpha_{2}+ 3\\alpha_{3}+ 2\\alpha_{4}\\right)\\oplus L\\left( 3\\alpha_{1}+ 4\\alpha_{2}+ 4\\alpha_{3}+ 2\\alpha_{4}\\right)\\oplus L\\left( 2\\alpha_{1}+ 4\\alpha_{2}+ 4\\alpha_{3}+ 3\\alpha_{4}\\right)\\oplus L\\left( 3\\alpha_{1}+ 5\\alpha_{2}+ 4\\alpha_{3}+ 2\\alpha_{4}\\right)\\oplus L\\left( 3\\alpha_{1}+ 4\\alpha_{2}+ 4\\alpha_{3}+ 3\\alpha_{4}\\right)\\oplus L\\left( 2\\alpha_{1}+ 4\\alpha_{2}+ 5\\alpha_{3}+ 3\\alpha_{4}\\right)$$"
      ],
      "text/plain": [
       "<IPython.core.display.Math object>"
      ]
     },
     "metadata": {},
     "output_type": "display_data"
    },
    {
     "data": {
      "text/latex": [
       "$$\\mathrm b^{0}(X_{24},\\wedge^{5}T_X)=27675$$"
      ],
      "text/plain": [
       "<IPython.core.display.Math object>"
      ]
     },
     "metadata": {},
     "output_type": "display_data"
    },
    {
     "data": {
      "text/latex": [
       "$$\\mathrm H^{0}(X_{24},\\wedge^{6}T_X)=L\\left( 2\\alpha_{1}+ 3\\alpha_{2}+ 4\\alpha_{3}+ 2\\alpha_{4}\\right)\\oplus L\\left( 3\\alpha_{1}+ 4\\alpha_{2}+ 4\\alpha_{3}+ 2\\alpha_{4}\\right)\\oplus L\\left( 3\\alpha_{1}+ 4\\alpha_{2}+ 4\\alpha_{3}+ 3\\alpha_{4}\\right)\\oplus L\\left( 2\\alpha_{1}+ 4\\alpha_{2}+ 5\\alpha_{3}+ 3\\alpha_{4}\\right)\\oplus L\\left( 4\\alpha_{1}+ 5\\alpha_{2}+ 4\\alpha_{3}+ 2\\alpha_{4}\\right)\\oplus L\\left( 4\\alpha_{1}+ 4\\alpha_{2}+ 4\\alpha_{3}+ 3\\alpha_{4}\\right)\\oplus L\\left( 3\\alpha_{1}+ 4\\alpha_{2}+ 5\\alpha_{3}+ 3\\alpha_{4}\\right)\\oplus L\\left( 2\\alpha_{1}+ 4\\alpha_{2}+ 6\\alpha_{3}+ 3\\alpha_{4}\\right)\\oplus L\\left( 3\\alpha_{1}+ 5\\alpha_{2}+ 5\\alpha_{3}+ 3\\alpha_{4}\\right)$$"
      ],
      "text/plain": [
       "<IPython.core.display.Math object>"
      ]
     },
     "metadata": {},
     "output_type": "display_data"
    },
    {
     "data": {
      "text/latex": [
       "$$\\mathrm b^{0}(X_{24},\\wedge^{6}T_X)=41000$$"
      ],
      "text/plain": [
       "<IPython.core.display.Math object>"
      ]
     },
     "metadata": {},
     "output_type": "display_data"
    },
    {
     "data": {
      "text/latex": [
       "$$\\mathrm H^{0}(X_{24},\\wedge^{7}T_X)=L\\left( 3\\alpha_{1}+ 4\\alpha_{2}+ 5\\alpha_{3}+ 3\\alpha_{4}\\right)\\oplus L\\left( 4\\alpha_{1}+ 5\\alpha_{2}+ 5\\alpha_{3}+ 3\\alpha_{4}\\right)\\oplus L\\left( 3\\alpha_{1}+ 5\\alpha_{2}+ 6\\alpha_{3}+ 3\\alpha_{4}\\right)$$"
      ],
      "text/plain": [
       "<IPython.core.display.Math object>"
      ]
     },
     "metadata": {},
     "output_type": "display_data"
    },
    {
     "data": {
      "text/latex": [
       "$$\\mathrm b^{0}(X_{24},\\wedge^{7}T_X)=31325$$"
      ],
      "text/plain": [
       "<IPython.core.display.Math object>"
      ]
     },
     "metadata": {},
     "output_type": "display_data"
    },
    {
     "data": {
      "text/latex": [
       "$$\\mathrm H^{0}(X_{24},\\wedge^{8}T_X)=L\\left( 4\\alpha_{1}+ 5\\alpha_{2}+ 6\\alpha_{3}+ 3\\alpha_{4}\\right)$$"
      ],
      "text/plain": [
       "<IPython.core.display.Math object>"
      ]
     },
     "metadata": {},
     "output_type": "display_data"
    },
    {
     "data": {
      "text/latex": [
       "$$\\mathrm b^{0}(X_{24},\\wedge^{8}T_X)=9625$$"
      ],
      "text/plain": [
       "<IPython.core.display.Math object>"
      ]
     },
     "metadata": {},
     "output_type": "display_data"
    },
    {
     "name": "stdout",
     "output_type": "stream",
     "text": [
      "\n",
      "dim of u is 7 for root system A4 and subset (3, 4)\n"
     ]
    },
    {
     "data": {
      "application/vnd.jupyter.widget-view+json": {
       "model_id": "83bf4cc57fb04c0d869cd06469214da5",
       "version_major": 2,
       "version_minor": 0
      },
      "text/plain": [
       "HBox(children=(IntProgress(value=0, max=8), HTML(value=u'')))"
      ]
     },
     "metadata": {},
     "output_type": "display_data"
    },
    {
     "data": {
      "application/vnd.jupyter.widget-view+json": {
       "model_id": "7119bcd94409420f960519b242b52572",
       "version_major": 2,
       "version_minor": 0
      },
      "text/plain": [
       "HBox(children=(IntProgress(value=1, bar_style=u'info', max=1), HTML(value=u'')))"
      ]
     },
     "metadata": {},
     "output_type": "display_data"
    },
    {
     "data": {
      "application/vnd.jupyter.widget-view+json": {
       "model_id": "1693c52d306e4dbf9b259588c812385a",
       "version_major": 2,
       "version_minor": 0
      },
      "text/plain": [
       "HBox(children=(IntProgress(value=1, bar_style=u'info', max=1), HTML(value=u'')))"
      ]
     },
     "metadata": {},
     "output_type": "display_data"
    },
    {
     "data": {
      "text/latex": [
       "$$\\mathrm H^{0}(X_{34},\\wedge^{0}T_X)=\\mathbb{C}$$"
      ],
      "text/plain": [
       "<IPython.core.display.Math object>"
      ]
     },
     "metadata": {},
     "output_type": "display_data"
    },
    {
     "data": {
      "text/latex": [
       "$$\\mathrm b^{0}(X_{34},\\wedge^{0}T_X)=1$$"
      ],
      "text/plain": [
       "<IPython.core.display.Math object>"
      ]
     },
     "metadata": {},
     "output_type": "display_data"
    },
    {
     "data": {
      "text/latex": [
       "$$\\mathrm H^{0}(X_{34},\\wedge^{1}T_X)=L\\left(\\alpha_{1}+\\alpha_{2}+\\alpha_{3}+\\alpha_{4}\\right)$$"
      ],
      "text/plain": [
       "<IPython.core.display.Math object>"
      ]
     },
     "metadata": {},
     "output_type": "display_data"
    },
    {
     "data": {
      "text/latex": [
       "$$\\mathrm b^{0}(X_{34},\\wedge^{1}T_X)=24$$"
      ],
      "text/plain": [
       "<IPython.core.display.Math object>"
      ]
     },
     "metadata": {},
     "output_type": "display_data"
    },
    {
     "data": {
      "text/latex": [
       "$$\\mathrm H^{0}(X_{34},\\wedge^{2}T_X)=L\\left(\\alpha_{1}+\\alpha_{2}+\\alpha_{3}+\\alpha_{4}\\right)\\oplus L\\left( 2\\alpha_{1}+ 2\\alpha_{2}+ 2\\alpha_{3}+\\alpha_{4}\\right)\\oplus L\\left(\\alpha_{1}+ 2\\alpha_{2}+ 2\\alpha_{3}+ 2\\alpha_{4}\\right)$$"
      ],
      "text/plain": [
       "<IPython.core.display.Math object>"
      ]
     },
     "metadata": {},
     "output_type": "display_data"
    },
    {
     "data": {
      "text/latex": [
       "$$\\mathrm b^{0}(X_{34},\\wedge^{2}T_X)=276$$"
      ],
      "text/plain": [
       "<IPython.core.display.Math object>"
      ]
     },
     "metadata": {},
     "output_type": "display_data"
    },
    {
     "data": {
      "text/latex": [
       "$$\\mathrm H^{0}(X_{34},\\wedge^{3}T_X)=L\\left(\\alpha_{1}+ 2\\alpha_{2}+ 2\\alpha_{3}+\\alpha_{4}\\right)\\oplus L\\left( 2\\alpha_{1}+ 2\\alpha_{2}+ 2\\alpha_{3}+\\alpha_{4}\\right)\\oplus L\\left( 2\\alpha_{1}+ 2\\alpha_{2}+ 2\\alpha_{3}+ 2\\alpha_{4}\\right)\\oplus L\\left( 3\\alpha_{1}+ 3\\alpha_{2}+ 2\\alpha_{3}+\\alpha_{4}\\right)\\oplus L\\left( 2\\alpha_{1}+ 3\\alpha_{2}+ 3\\alpha_{3}+ 2\\alpha_{4}\\right)$$"
      ],
      "text/plain": [
       "<IPython.core.display.Math object>"
      ]
     },
     "metadata": {},
     "output_type": "display_data"
    },
    {
     "data": {
      "text/latex": [
       "$$\\mathrm b^{0}(X_{34},\\wedge^{3}T_X)=1649$$"
      ],
      "text/plain": [
       "<IPython.core.display.Math object>"
      ]
     },
     "metadata": {},
     "output_type": "display_data"
    },
    {
     "data": {
      "text/latex": [
       "$$\\mathrm H^{0}(X_{34},\\wedge^{4}T_X)=L\\left( 2\\alpha_{1}+ 3\\alpha_{2}+ 2\\alpha_{3}+\\alpha_{4}\\right)\\oplus L\\left( 3\\alpha_{1}+ 3\\alpha_{2}+ 2\\alpha_{3}+\\alpha_{4}\\right)\\oplus L\\left( 4\\alpha_{1}+ 3\\alpha_{2}+ 2\\alpha_{3}+\\alpha_{4}\\right)\\oplus L\\left( 2\\alpha_{1}+ 3\\alpha_{2}+ 3\\alpha_{3}+ 2\\alpha_{4}\\right)\\oplus L\\left( 3\\alpha_{1}+ 3\\alpha_{2}+ 3\\alpha_{3}+ 2\\alpha_{4}\\right)\\oplus L\\left( 3\\alpha_{1}+ 4\\alpha_{2}+ 3\\alpha_{3}+ 2\\alpha_{4}\\right)\\oplus L\\left( 2\\alpha_{1}+ 4\\alpha_{2}+ 4\\alpha_{3}+ 2\\alpha_{4}\\right)$$"
      ],
      "text/plain": [
       "<IPython.core.display.Math object>"
      ]
     },
     "metadata": {},
     "output_type": "display_data"
    },
    {
     "data": {
      "text/latex": [
       "$$\\mathrm b^{0}(X_{34},\\wedge^{4}T_X)=5476$$"
      ],
      "text/plain": [
       "<IPython.core.display.Math object>"
      ]
     },
     "metadata": {},
     "output_type": "display_data"
    },
    {
     "data": {
      "text/latex": [
       "$$\\mathrm H^{0}(X_{34},\\wedge^{5}T_X)=L\\left( 2\\alpha_{1}+ 4\\alpha_{2}+ 3\\alpha_{3}+ 2\\alpha_{4}\\right)\\oplus L\\left( 3\\alpha_{1}+ 4\\alpha_{2}+ 3\\alpha_{3}+ 2\\alpha_{4}\\right)\\oplus L\\left( 4\\alpha_{1}+ 4\\alpha_{2}+ 3\\alpha_{3}+ 2\\alpha_{4}\\right)\\oplus L\\left( 3\\alpha_{1}+ 4\\alpha_{2}+ 4\\alpha_{3}+ 2\\alpha_{4}\\right)\\oplus L\\left( 3\\alpha_{1}+ 5\\alpha_{2}+ 4\\alpha_{3}+ 2\\alpha_{4}\\right)$$"
      ],
      "text/plain": [
       "<IPython.core.display.Math object>"
      ]
     },
     "metadata": {},
     "output_type": "display_data"
    },
    {
     "data": {
      "text/latex": [
       "$$\\mathrm b^{0}(X_{34},\\wedge^{5}T_X)=9875$$"
      ],
      "text/plain": [
       "<IPython.core.display.Math object>"
      ]
     },
     "metadata": {},
     "output_type": "display_data"
    },
    {
     "data": {
      "text/latex": [
       "$$\\mathrm H^{0}(X_{34},\\wedge^{6}T_X)=L\\left( 3\\alpha_{1}+ 5\\alpha_{2}+ 4\\alpha_{3}+ 2\\alpha_{4}\\right)\\oplus L\\left( 4\\alpha_{1}+ 5\\alpha_{2}+ 4\\alpha_{3}+ 2\\alpha_{4}\\right)\\oplus L\\left( 3\\alpha_{1}+ 6\\alpha_{2}+ 4\\alpha_{3}+ 2\\alpha_{4}\\right)$$"
      ],
      "text/plain": [
       "<IPython.core.display.Math object>"
      ]
     },
     "metadata": {},
     "output_type": "display_data"
    },
    {
     "data": {
      "text/latex": [
       "$$\\mathrm b^{0}(X_{34},\\wedge^{6}T_X)=8925$$"
      ],
      "text/plain": [
       "<IPython.core.display.Math object>"
      ]
     },
     "metadata": {},
     "output_type": "display_data"
    },
    {
     "data": {
      "text/latex": [
       "$$\\mathrm H^{0}(X_{34},\\wedge^{7}T_X)=L\\left( 4\\alpha_{1}+ 6\\alpha_{2}+ 4\\alpha_{3}+ 2\\alpha_{4}\\right)$$"
      ],
      "text/plain": [
       "<IPython.core.display.Math object>"
      ]
     },
     "metadata": {},
     "output_type": "display_data"
    },
    {
     "data": {
      "text/latex": [
       "$$\\mathrm b^{0}(X_{34},\\wedge^{7}T_X)=3150$$"
      ],
      "text/plain": [
       "<IPython.core.display.Math object>"
      ]
     },
     "metadata": {},
     "output_type": "display_data"
    },
    {
     "name": "stdout",
     "output_type": "stream",
     "text": [
      "\n",
      "dim of u is 4 for root system A4 and subset (1, 2, 3)\n"
     ]
    },
    {
     "data": {
      "application/vnd.jupyter.widget-view+json": {
       "model_id": "aa32da353ce94e4883ed2c45a04afa05",
       "version_major": 2,
       "version_minor": 0
      },
      "text/plain": [
       "HBox(children=(IntProgress(value=0, max=5), HTML(value=u'')))"
      ]
     },
     "metadata": {},
     "output_type": "display_data"
    },
    {
     "data": {
      "application/vnd.jupyter.widget-view+json": {
       "model_id": "6cf9582d188c469ba323f1f824b18a1a",
       "version_major": 2,
       "version_minor": 0
      },
      "text/plain": [
       "HBox(children=(IntProgress(value=1, bar_style=u'info', max=1), HTML(value=u'')))"
      ]
     },
     "metadata": {},
     "output_type": "display_data"
    },
    {
     "data": {
      "application/vnd.jupyter.widget-view+json": {
       "model_id": "f3ba96222c23418194a7a9b6cf2ca54e",
       "version_major": 2,
       "version_minor": 0
      },
      "text/plain": [
       "HBox(children=(IntProgress(value=1, bar_style=u'info', max=1), HTML(value=u'')))"
      ]
     },
     "metadata": {},
     "output_type": "display_data"
    },
    {
     "data": {
      "text/latex": [
       "$$\\mathrm H^{0}(X_{123},\\wedge^{0}T_X)=\\mathbb{C}$$"
      ],
      "text/plain": [
       "<IPython.core.display.Math object>"
      ]
     },
     "metadata": {},
     "output_type": "display_data"
    },
    {
     "data": {
      "text/latex": [
       "$$\\mathrm b^{0}(X_{123},\\wedge^{0}T_X)=1$$"
      ],
      "text/plain": [
       "<IPython.core.display.Math object>"
      ]
     },
     "metadata": {},
     "output_type": "display_data"
    },
    {
     "data": {
      "text/latex": [
       "$$\\mathrm H^{0}(X_{123},\\wedge^{1}T_X)=L\\left(\\alpha_{1}+\\alpha_{2}+\\alpha_{3}+\\alpha_{4}\\right)$$"
      ],
      "text/plain": [
       "<IPython.core.display.Math object>"
      ]
     },
     "metadata": {},
     "output_type": "display_data"
    },
    {
     "data": {
      "text/latex": [
       "$$\\mathrm b^{0}(X_{123},\\wedge^{1}T_X)=24$$"
      ],
      "text/plain": [
       "<IPython.core.display.Math object>"
      ]
     },
     "metadata": {},
     "output_type": "display_data"
    },
    {
     "data": {
      "text/latex": [
       "$$\\mathrm H^{0}(X_{123},\\wedge^{2}T_X)=L\\left(\\alpha_{1}+ 2\\alpha_{2}+ 2\\alpha_{3}+ 2\\alpha_{4}\\right)$$"
      ],
      "text/plain": [
       "<IPython.core.display.Math object>"
      ]
     },
     "metadata": {},
     "output_type": "display_data"
    },
    {
     "data": {
      "text/latex": [
       "$$\\mathrm b^{0}(X_{123},\\wedge^{2}T_X)=126$$"
      ],
      "text/plain": [
       "<IPython.core.display.Math object>"
      ]
     },
     "metadata": {},
     "output_type": "display_data"
    },
    {
     "data": {
      "text/latex": [
       "$$\\mathrm H^{0}(X_{123},\\wedge^{3}T_X)=L\\left(\\alpha_{1}+ 2\\alpha_{2}+ 3\\alpha_{3}+ 3\\alpha_{4}\\right)$$"
      ],
      "text/plain": [
       "<IPython.core.display.Math object>"
      ]
     },
     "metadata": {},
     "output_type": "display_data"
    },
    {
     "data": {
      "text/latex": [
       "$$\\mathrm b^{0}(X_{123},\\wedge^{3}T_X)=224$$"
      ],
      "text/plain": [
       "<IPython.core.display.Math object>"
      ]
     },
     "metadata": {},
     "output_type": "display_data"
    },
    {
     "data": {
      "text/latex": [
       "$$\\mathrm H^{0}(X_{123},\\wedge^{4}T_X)=L\\left(\\alpha_{1}+ 2\\alpha_{2}+ 3\\alpha_{3}+ 4\\alpha_{4}\\right)$$"
      ],
      "text/plain": [
       "<IPython.core.display.Math object>"
      ]
     },
     "metadata": {},
     "output_type": "display_data"
    },
    {
     "data": {
      "text/latex": [
       "$$\\mathrm b^{0}(X_{123},\\wedge^{4}T_X)=126$$"
      ],
      "text/plain": [
       "<IPython.core.display.Math object>"
      ]
     },
     "metadata": {},
     "output_type": "display_data"
    },
    {
     "name": "stdout",
     "output_type": "stream",
     "text": [
      "\n",
      "dim of u is 6 for root system A4 and subset (1, 2, 4)\n"
     ]
    },
    {
     "data": {
      "application/vnd.jupyter.widget-view+json": {
       "model_id": "f5dc430218e84d1998207ceb69783377",
       "version_major": 2,
       "version_minor": 0
      },
      "text/plain": [
       "HBox(children=(IntProgress(value=0, max=7), HTML(value=u'')))"
      ]
     },
     "metadata": {},
     "output_type": "display_data"
    },
    {
     "data": {
      "application/vnd.jupyter.widget-view+json": {
       "model_id": "9f003efc8e594998aeb189386f61473e",
       "version_major": 2,
       "version_minor": 0
      },
      "text/plain": [
       "HBox(children=(IntProgress(value=1, bar_style=u'info', max=1), HTML(value=u'')))"
      ]
     },
     "metadata": {},
     "output_type": "display_data"
    },
    {
     "data": {
      "application/vnd.jupyter.widget-view+json": {
       "model_id": "7f58d0f3959543789be04292093b3367",
       "version_major": 2,
       "version_minor": 0
      },
      "text/plain": [
       "HBox(children=(IntProgress(value=1, bar_style=u'info', max=1), HTML(value=u'')))"
      ]
     },
     "metadata": {},
     "output_type": "display_data"
    },
    {
     "data": {
      "text/latex": [
       "$$\\mathrm H^{0}(X_{124},\\wedge^{0}T_X)=\\mathbb{C}$$"
      ],
      "text/plain": [
       "<IPython.core.display.Math object>"
      ]
     },
     "metadata": {},
     "output_type": "display_data"
    },
    {
     "data": {
      "text/latex": [
       "$$\\mathrm b^{0}(X_{124},\\wedge^{0}T_X)=1$$"
      ],
      "text/plain": [
       "<IPython.core.display.Math object>"
      ]
     },
     "metadata": {},
     "output_type": "display_data"
    },
    {
     "data": {
      "text/latex": [
       "$$\\mathrm H^{0}(X_{124},\\wedge^{1}T_X)=L\\left(\\alpha_{1}+\\alpha_{2}+\\alpha_{3}+\\alpha_{4}\\right)$$"
      ],
      "text/plain": [
       "<IPython.core.display.Math object>"
      ]
     },
     "metadata": {},
     "output_type": "display_data"
    },
    {
     "data": {
      "text/latex": [
       "$$\\mathrm b^{0}(X_{124},\\wedge^{1}T_X)=24$$"
      ],
      "text/plain": [
       "<IPython.core.display.Math object>"
      ]
     },
     "metadata": {},
     "output_type": "display_data"
    },
    {
     "data": {
      "text/latex": [
       "$$\\mathrm H^{0}(X_{124},\\wedge^{2}T_X)=L\\left( 2\\alpha_{1}+ 2\\alpha_{2}+ 2\\alpha_{3}+\\alpha_{4}\\right)\\oplus L\\left(\\alpha_{1}+ 2\\alpha_{2}+ 2\\alpha_{3}+ 2\\alpha_{4}\\right)$$"
      ],
      "text/plain": [
       "<IPython.core.display.Math object>"
      ]
     },
     "metadata": {},
     "output_type": "display_data"
    },
    {
     "data": {
      "text/latex": [
       "$$\\mathrm b^{0}(X_{124},\\wedge^{2}T_X)=252$$"
      ],
      "text/plain": [
       "<IPython.core.display.Math object>"
      ]
     },
     "metadata": {},
     "output_type": "display_data"
    },
    {
     "data": {
      "text/latex": [
       "$$\\mathrm H^{0}(X_{124},\\wedge^{3}T_X)=L\\left(\\alpha_{1}+ 2\\alpha_{2}+ 3\\alpha_{3}+ 3\\alpha_{4}\\right)\\oplus L\\left( 2\\alpha_{1}+ 3\\alpha_{2}+ 3\\alpha_{3}+ 2\\alpha_{4}\\right)$$"
      ],
      "text/plain": [
       "<IPython.core.display.Math object>"
      ]
     },
     "metadata": {},
     "output_type": "display_data"
    },
    {
     "data": {
      "text/latex": [
       "$$\\mathrm b^{0}(X_{124},\\wedge^{3}T_X)=1248$$"
      ],
      "text/plain": [
       "<IPython.core.display.Math object>"
      ]
     },
     "metadata": {},
     "output_type": "display_data"
    },
    {
     "data": {
      "text/latex": [
       "$$\\mathrm H^{0}(X_{124},\\wedge^{4}T_X)=L\\left( 2\\alpha_{1}+ 4\\alpha_{2}+ 4\\alpha_{3}+ 2\\alpha_{4}\\right)\\oplus L\\left( 2\\alpha_{1}+ 3\\alpha_{2}+ 4\\alpha_{3}+ 3\\alpha_{4}\\right)$$"
      ],
      "text/plain": [
       "<IPython.core.display.Math object>"
      ]
     },
     "metadata": {},
     "output_type": "display_data"
    },
    {
     "data": {
      "text/latex": [
       "$$\\mathrm b^{0}(X_{124},\\wedge^{4}T_X)=2877$$"
      ],
      "text/plain": [
       "<IPython.core.display.Math object>"
      ]
     },
     "metadata": {},
     "output_type": "display_data"
    },
    {
     "data": {
      "text/latex": [
       "$$\\mathrm H^{0}(X_{124},\\wedge^{5}T_X)=L\\left( 2\\alpha_{1}+ 4\\alpha_{2}+ 5\\alpha_{3}+ 3\\alpha_{4}\\right)$$"
      ],
      "text/plain": [
       "<IPython.core.display.Math object>"
      ]
     },
     "metadata": {},
     "output_type": "display_data"
    },
    {
     "data": {
      "text/latex": [
       "$$\\mathrm b^{0}(X_{124},\\wedge^{5}T_X)=3024$$"
      ],
      "text/plain": [
       "<IPython.core.display.Math object>"
      ]
     },
     "metadata": {},
     "output_type": "display_data"
    },
    {
     "data": {
      "text/latex": [
       "$$\\mathrm H^{0}(X_{124},\\wedge^{6}T_X)=L\\left( 2\\alpha_{1}+ 4\\alpha_{2}+ 6\\alpha_{3}+ 3\\alpha_{4}\\right)$$"
      ],
      "text/plain": [
       "<IPython.core.display.Math object>"
      ]
     },
     "metadata": {},
     "output_type": "display_data"
    },
    {
     "data": {
      "text/latex": [
       "$$\\mathrm b^{0}(X_{124},\\wedge^{6}T_X)=1176$$"
      ],
      "text/plain": [
       "<IPython.core.display.Math object>"
      ]
     },
     "metadata": {},
     "output_type": "display_data"
    },
    {
     "name": "stdout",
     "output_type": "stream",
     "text": [
      "\n",
      "dim of u is 6 for root system A4 and subset (1, 3, 4)\n"
     ]
    },
    {
     "data": {
      "application/vnd.jupyter.widget-view+json": {
       "model_id": "aed2b1c7c1fd4ddc90121fcfc6b5cda6",
       "version_major": 2,
       "version_minor": 0
      },
      "text/plain": [
       "HBox(children=(IntProgress(value=0, max=7), HTML(value=u'')))"
      ]
     },
     "metadata": {},
     "output_type": "display_data"
    },
    {
     "data": {
      "application/vnd.jupyter.widget-view+json": {
       "model_id": "9601b829d97e4035870b28cb530ad84f",
       "version_major": 2,
       "version_minor": 0
      },
      "text/plain": [
       "HBox(children=(IntProgress(value=1, bar_style=u'info', max=1), HTML(value=u'')))"
      ]
     },
     "metadata": {},
     "output_type": "display_data"
    },
    {
     "data": {
      "application/vnd.jupyter.widget-view+json": {
       "model_id": "0f56213468f04bd0b64318634ed8e8b9",
       "version_major": 2,
       "version_minor": 0
      },
      "text/plain": [
       "HBox(children=(IntProgress(value=1, bar_style=u'info', max=1), HTML(value=u'')))"
      ]
     },
     "metadata": {},
     "output_type": "display_data"
    },
    {
     "data": {
      "text/latex": [
       "$$\\mathrm H^{0}(X_{134},\\wedge^{0}T_X)=\\mathbb{C}$$"
      ],
      "text/plain": [
       "<IPython.core.display.Math object>"
      ]
     },
     "metadata": {},
     "output_type": "display_data"
    },
    {
     "data": {
      "text/latex": [
       "$$\\mathrm b^{0}(X_{134},\\wedge^{0}T_X)=1$$"
      ],
      "text/plain": [
       "<IPython.core.display.Math object>"
      ]
     },
     "metadata": {},
     "output_type": "display_data"
    },
    {
     "data": {
      "text/latex": [
       "$$\\mathrm H^{0}(X_{134},\\wedge^{1}T_X)=L\\left(\\alpha_{1}+\\alpha_{2}+\\alpha_{3}+\\alpha_{4}\\right)$$"
      ],
      "text/plain": [
       "<IPython.core.display.Math object>"
      ]
     },
     "metadata": {},
     "output_type": "display_data"
    },
    {
     "data": {
      "text/latex": [
       "$$\\mathrm b^{0}(X_{134},\\wedge^{1}T_X)=24$$"
      ],
      "text/plain": [
       "<IPython.core.display.Math object>"
      ]
     },
     "metadata": {},
     "output_type": "display_data"
    },
    {
     "data": {
      "text/latex": [
       "$$\\mathrm H^{0}(X_{134},\\wedge^{2}T_X)=L\\left( 2\\alpha_{1}+ 2\\alpha_{2}+ 2\\alpha_{3}+\\alpha_{4}\\right)\\oplus L\\left(\\alpha_{1}+ 2\\alpha_{2}+ 2\\alpha_{3}+ 2\\alpha_{4}\\right)$$"
      ],
      "text/plain": [
       "<IPython.core.display.Math object>"
      ]
     },
     "metadata": {},
     "output_type": "display_data"
    },
    {
     "data": {
      "text/latex": [
       "$$\\mathrm b^{0}(X_{134},\\wedge^{2}T_X)=252$$"
      ],
      "text/plain": [
       "<IPython.core.display.Math object>"
      ]
     },
     "metadata": {},
     "output_type": "display_data"
    },
    {
     "data": {
      "text/latex": [
       "$$\\mathrm H^{0}(X_{134},\\wedge^{3}T_X)=L\\left( 3\\alpha_{1}+ 3\\alpha_{2}+ 2\\alpha_{3}+\\alpha_{4}\\right)\\oplus L\\left( 2\\alpha_{1}+ 3\\alpha_{2}+ 3\\alpha_{3}+ 2\\alpha_{4}\\right)$$"
      ],
      "text/plain": [
       "<IPython.core.display.Math object>"
      ]
     },
     "metadata": {},
     "output_type": "display_data"
    },
    {
     "data": {
      "text/latex": [
       "$$\\mathrm b^{0}(X_{134},\\wedge^{3}T_X)=1248$$"
      ],
      "text/plain": [
       "<IPython.core.display.Math object>"
      ]
     },
     "metadata": {},
     "output_type": "display_data"
    },
    {
     "data": {
      "text/latex": [
       "$$\\mathrm H^{0}(X_{134},\\wedge^{4}T_X)=L\\left( 3\\alpha_{1}+ 4\\alpha_{2}+ 3\\alpha_{3}+ 2\\alpha_{4}\\right)\\oplus L\\left( 2\\alpha_{1}+ 4\\alpha_{2}+ 4\\alpha_{3}+ 2\\alpha_{4}\\right)$$"
      ],
      "text/plain": [
       "<IPython.core.display.Math object>"
      ]
     },
     "metadata": {},
     "output_type": "display_data"
    },
    {
     "data": {
      "text/latex": [
       "$$\\mathrm b^{0}(X_{134},\\wedge^{4}T_X)=2877$$"
      ],
      "text/plain": [
       "<IPython.core.display.Math object>"
      ]
     },
     "metadata": {},
     "output_type": "display_data"
    },
    {
     "data": {
      "text/latex": [
       "$$\\mathrm H^{0}(X_{134},\\wedge^{5}T_X)=L\\left( 3\\alpha_{1}+ 5\\alpha_{2}+ 4\\alpha_{3}+ 2\\alpha_{4}\\right)$$"
      ],
      "text/plain": [
       "<IPython.core.display.Math object>"
      ]
     },
     "metadata": {},
     "output_type": "display_data"
    },
    {
     "data": {
      "text/latex": [
       "$$\\mathrm b^{0}(X_{134},\\wedge^{5}T_X)=3024$$"
      ],
      "text/plain": [
       "<IPython.core.display.Math object>"
      ]
     },
     "metadata": {},
     "output_type": "display_data"
    },
    {
     "data": {
      "text/latex": [
       "$$\\mathrm H^{0}(X_{134},\\wedge^{6}T_X)=L\\left( 3\\alpha_{1}+ 6\\alpha_{2}+ 4\\alpha_{3}+ 2\\alpha_{4}\\right)$$"
      ],
      "text/plain": [
       "<IPython.core.display.Math object>"
      ]
     },
     "metadata": {},
     "output_type": "display_data"
    },
    {
     "data": {
      "text/latex": [
       "$$\\mathrm b^{0}(X_{134},\\wedge^{6}T_X)=1176$$"
      ],
      "text/plain": [
       "<IPython.core.display.Math object>"
      ]
     },
     "metadata": {},
     "output_type": "display_data"
    },
    {
     "name": "stdout",
     "output_type": "stream",
     "text": [
      "\n",
      "dim of u is 4 for root system A4 and subset (2, 3, 4)\n"
     ]
    },
    {
     "data": {
      "application/vnd.jupyter.widget-view+json": {
       "model_id": "947ef4ff505c4a119f4dd65756f76d89",
       "version_major": 2,
       "version_minor": 0
      },
      "text/plain": [
       "HBox(children=(IntProgress(value=0, max=5), HTML(value=u'')))"
      ]
     },
     "metadata": {},
     "output_type": "display_data"
    },
    {
     "data": {
      "application/vnd.jupyter.widget-view+json": {
       "model_id": "e30fbf817fda4506b294ccac644e1254",
       "version_major": 2,
       "version_minor": 0
      },
      "text/plain": [
       "HBox(children=(IntProgress(value=1, bar_style=u'info', max=1), HTML(value=u'')))"
      ]
     },
     "metadata": {},
     "output_type": "display_data"
    },
    {
     "data": {
      "application/vnd.jupyter.widget-view+json": {
       "model_id": "001e2f16b5474baca1ddf77cb950eff6",
       "version_major": 2,
       "version_minor": 0
      },
      "text/plain": [
       "HBox(children=(IntProgress(value=1, bar_style=u'info', max=1), HTML(value=u'')))"
      ]
     },
     "metadata": {},
     "output_type": "display_data"
    },
    {
     "data": {
      "text/latex": [
       "$$\\mathrm H^{0}(X_{234},\\wedge^{0}T_X)=\\mathbb{C}$$"
      ],
      "text/plain": [
       "<IPython.core.display.Math object>"
      ]
     },
     "metadata": {},
     "output_type": "display_data"
    },
    {
     "data": {
      "text/latex": [
       "$$\\mathrm b^{0}(X_{234},\\wedge^{0}T_X)=1$$"
      ],
      "text/plain": [
       "<IPython.core.display.Math object>"
      ]
     },
     "metadata": {},
     "output_type": "display_data"
    },
    {
     "data": {
      "text/latex": [
       "$$\\mathrm H^{0}(X_{234},\\wedge^{1}T_X)=L\\left(\\alpha_{1}+\\alpha_{2}+\\alpha_{3}+\\alpha_{4}\\right)$$"
      ],
      "text/plain": [
       "<IPython.core.display.Math object>"
      ]
     },
     "metadata": {},
     "output_type": "display_data"
    },
    {
     "data": {
      "text/latex": [
       "$$\\mathrm b^{0}(X_{234},\\wedge^{1}T_X)=24$$"
      ],
      "text/plain": [
       "<IPython.core.display.Math object>"
      ]
     },
     "metadata": {},
     "output_type": "display_data"
    },
    {
     "data": {
      "text/latex": [
       "$$\\mathrm H^{0}(X_{234},\\wedge^{2}T_X)=L\\left( 2\\alpha_{1}+ 2\\alpha_{2}+ 2\\alpha_{3}+\\alpha_{4}\\right)$$"
      ],
      "text/plain": [
       "<IPython.core.display.Math object>"
      ]
     },
     "metadata": {},
     "output_type": "display_data"
    },
    {
     "data": {
      "text/latex": [
       "$$\\mathrm b^{0}(X_{234},\\wedge^{2}T_X)=126$$"
      ],
      "text/plain": [
       "<IPython.core.display.Math object>"
      ]
     },
     "metadata": {},
     "output_type": "display_data"
    },
    {
     "data": {
      "text/latex": [
       "$$\\mathrm H^{0}(X_{234},\\wedge^{3}T_X)=L\\left( 3\\alpha_{1}+ 3\\alpha_{2}+ 2\\alpha_{3}+\\alpha_{4}\\right)$$"
      ],
      "text/plain": [
       "<IPython.core.display.Math object>"
      ]
     },
     "metadata": {},
     "output_type": "display_data"
    },
    {
     "data": {
      "text/latex": [
       "$$\\mathrm b^{0}(X_{234},\\wedge^{3}T_X)=224$$"
      ],
      "text/plain": [
       "<IPython.core.display.Math object>"
      ]
     },
     "metadata": {},
     "output_type": "display_data"
    },
    {
     "data": {
      "text/latex": [
       "$$\\mathrm H^{0}(X_{234},\\wedge^{4}T_X)=L\\left( 4\\alpha_{1}+ 3\\alpha_{2}+ 2\\alpha_{3}+\\alpha_{4}\\right)$$"
      ],
      "text/plain": [
       "<IPython.core.display.Math object>"
      ]
     },
     "metadata": {},
     "output_type": "display_data"
    },
    {
     "data": {
      "text/latex": [
       "$$\\mathrm b^{0}(X_{234},\\wedge^{4}T_X)=126$$"
      ],
      "text/plain": [
       "<IPython.core.display.Math object>"
      ]
     },
     "metadata": {},
     "output_type": "display_data"
    },
    {
     "name": "stdout",
     "output_type": "stream",
     "text": [
      "\n"
     ]
    }
   ],
   "source": [
    "from itertools import combinations, chain\n",
    "roots = [1,2,3,4]\n",
    "subsets = list(chain.from_iterable(combinations(roots,i) for i in range(len(roots))))\n",
    "d = 'A4'\n",
    "BGG = BGGComplex(d)\n",
    "for subset in subsets:\n",
    "    factory = FastModuleFactory(BGG.LA)\n",
    "    component_dic = {'u':factory.build_component('u','coad',subset=subset)}\n",
    "    u_dim = len(component_dic['u'].basis)\n",
    "    print('dim of u is %d for root system %s and subset %s' % (u_dim, d, subset))\n",
    "    pbar1 = tqdm(range(u_dim+1))\n",
    "    pbar2 = tqdm()\n",
    "    pbar3 = tqdm()\n",
    "    for k in pbar1:\n",
    "        components = [[('u',k,'wedge')]]\n",
    "        module = FastLieAlgebraCompositeModule(factory,components,component_dic)\n",
    "\n",
    "        cohom = BGGCohomology(BGG, module,pbars=[pbar2,pbar3])\n",
    "        subset_string = ''.join(str(s) for s in subset)\n",
    "        cohom.cohomology_LaTeX(complex_string=r'X_{'+subset_string+r'},\\wedge^{'+str(k)+'}T_X',print_betti=True)"
   ]
  },
  {
   "cell_type": "markdown",
   "metadata": {},
   "source": [
    "## A3 parabolic"
   ]
  },
  {
   "cell_type": "code",
   "execution_count": null,
   "metadata": {
    "scrolled": true
   },
   "outputs": [],
   "source": [
    "from itertools import combinations, chain\n",
    "roots = [1,2,3]\n",
    "subsets = list(chain.from_iterable(combinations(roots,i) for i in range(len(roots))))\n",
    "d = 'A3'\n",
    "BGG = BGGComplex(d)\n",
    "for subset in subsets:\n",
    "    factory = FastModuleFactory(BGG.LA)\n",
    "    component_dic = {'u':factory.build_component('u','coad',subset=subset)}\n",
    "    u_dim = len(component_dic['u'].basis)\n",
    "    print('dim of u is %d for root system %s and subset %s' % (u_dim, d, subset))\n",
    "    for k in range(u_dim+1):\n",
    "        components = [[('u',k,'wedge')]]\n",
    "        module = FastLieAlgebraCompositeModule(factory,components,component_dic)\n",
    "\n",
    "        cohom = BGGCohomology(BGG, module,pbars=[pbar2,pbar3])\n",
    "        subset_string = ''.join(str(s) for s in subset)\n",
    "        cohom.cohomology_LaTeX(complex_string=r'X_{'+subset_string+r'},\\wedge^{'+str(k)+'}T_X',print_betti=True)"
   ]
  },
  {
   "cell_type": "markdown",
   "metadata": {},
   "source": [
    "## B2 parabolic"
   ]
  },
  {
   "cell_type": "code",
   "execution_count": null,
   "metadata": {},
   "outputs": [],
   "source": [
    "from itertools import combinations, chain\n",
    "roots = [1,2]\n",
    "subsets = list(chain.from_iterable(combinations(roots,i) for i in range(len(roots))))\n",
    "d = 'B2'\n",
    "BGG = BGGComplex(d)\n",
    "for subset in subsets:\n",
    "    factory = FastModuleFactory(BGG.LA)\n",
    "    component_dic = {'u':factory.build_component('u','coad',subset=subset)}\n",
    "    u_dim = len(component_dic['u'].basis)\n",
    "    print('dim of u is %d for root system %s and subset %s' % (u_dim, d, subset))\n",
    "    pbar1 = tqdm(range(u_dim+1))\n",
    "    pbar2 = tqdm()\n",
    "    pbar3 = tqdm()\n",
    "    for k in pbar1:\n",
    "        components = [[('u',k,'wedge')]]\n",
    "        module = FastLieAlgebraCompositeModule(factory,components,component_dic)\n",
    "\n",
    "        cohom = BGGCohomology(BGG, module,pbars=[pbar2,pbar3])\n",
    "        subset_string = ''.join(str(s) for s in subset)\n",
    "        cohom.cohomology_LaTeX(complex_string=r'X_{'+subset_string+r'},\\wedge^{'+str(k)+'}T_X',print_betti=True)"
   ]
  },
  {
   "cell_type": "markdown",
   "metadata": {},
   "source": [
    "## B3 parabolic"
   ]
  },
  {
   "cell_type": "code",
   "execution_count": null,
   "metadata": {
    "scrolled": true
   },
   "outputs": [],
   "source": [
    "from itertools import combinations, chain\n",
    "roots = [1,2,3]\n",
    "subsets = list(chain.from_iterable(combinations(roots,i) for i in range(len(roots))))\n",
    "d = 'B3'\n",
    "BGG = BGGComplex(d)\n",
    "for subset in subsets:\n",
    "    factory = FastModuleFactory(BGG.LA)\n",
    "    component_dic = {'u':factory.build_component('u','coad',subset=subset)}\n",
    "    u_dim = len(component_dic['u'].basis)\n",
    "    print('dim of u is %d for root system %s and subset %s' % (u_dim, d, subset))\n",
    "    pbar1 = tqdm(range(u_dim+1))\n",
    "    pbar2 = tqdm()\n",
    "    pbar3 = tqdm()\n",
    "    for k in pbar1:\n",
    "        components = [[('u',k,'wedge')]]\n",
    "        module = FastLieAlgebraCompositeModule(factory,components,component_dic)\n",
    "\n",
    "        cohom = BGGCohomology(BGG, module,pbars=[pbar2,pbar3])\n",
    "        subset_string = ''.join(str(s) for s in subset)\n",
    "        cohom.cohomology_LaTeX(complex_string=r'X_{'+subset_string+r'},\\wedge^{'+str(k)+'}T_X',print_betti=True)"
   ]
  },
  {
   "cell_type": "markdown",
   "metadata": {},
   "source": [
    "## C3 Parabolic"
   ]
  },
  {
   "cell_type": "code",
   "execution_count": null,
   "metadata": {},
   "outputs": [],
   "source": [
    "from itertools import combinations, chain\n",
    "roots = [1,2,3]\n",
    "subsets = list(chain.from_iterable(combinations(roots,i) for i in range(len(roots))))\n",
    "d = 'C3'\n",
    "BGG = BGGComplex(d)\n",
    "for subset in subsets:\n",
    "    factory = FastModuleFactory(BGG.LA)\n",
    "    component_dic = {'u':factory.build_component('u','coad',subset=subset)}\n",
    "    u_dim = len(component_dic['u'].basis)\n",
    "    print('dim of u is %d for root system %s and subset %s' % (u_dim, d, subset))\n",
    "    pbar1 = tqdm(range(u_dim+1))\n",
    "    pbar2 = tqdm()\n",
    "    pbar3 = tqdm()\n",
    "    for k in pbar1:\n",
    "        components = [[('u',k,'wedge')]]\n",
    "        module = FastLieAlgebraCompositeModule(factory,components,component_dic)\n",
    "\n",
    "        cohom = BGGCohomology(BGG, module,pbars=[pbar2,pbar3])\n",
    "        subset_string = ''.join(str(s) for s in subset)\n",
    "        cohom.cohomology_LaTeX(complex_string=r'X_{'+subset_string+r'},\\wedge^{'+str(k)+'}T_X',print_betti=True)"
   ]
  }
 ],
 "metadata": {
  "kernelspec": {
   "display_name": "SageMath 8.6",
   "language": "",
   "name": "sagemath"
  },
  "language_info": {
   "codemirror_mode": {
    "name": "ipython",
    "version": 2
   },
   "file_extension": ".py",
   "mimetype": "text/x-python",
   "name": "python",
   "nbconvert_exporter": "python",
   "pygments_lexer": "ipython2",
   "version": "2.7.15"
  }
 },
 "nbformat": 4,
 "nbformat_minor": 2
}
