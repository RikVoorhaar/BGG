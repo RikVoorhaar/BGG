{
 "cells": [
  {
   "cell_type": "code",
   "execution_count": 25,
   "metadata": {
    "vscode": {
     "languageId": "python"
    }
   },
   "outputs": [],
   "source": [
    "%%cython \n",
    "import numpy as np\n",
    "from sage.matrix.matrix_integer_dense cimport Matrix_integer_dense\n",
    "from sage.matrix.matrix_integer_sparse cimport Matrix_integer_sparse\n",
    "# from sage.rings.integer_ring cimport IntegerRing_class\n",
    "from sage.matrix.matrix2 import Matrix\n",
    "from sage.rings.integer_ring import ZZ\n",
    "from sage.matrix.matrix_space import MatrixSpace\n",
    "# M = Matrix(ZZ, 100, 1009)\n",
    "cdef long i,j, m,n\n",
    "n = 100\n",
    "m= 100\n",
    "matspace = MatrixSpace(ZZ, n,m, False, None)\n",
    "elems = np.arange(n*m,dtype=np.int_).reshape(n,n)\n",
    "M = Matrix_integer_sparse(matspace)\n",
    "\n",
    "# cdef Matrix_integer_sparse M = Matrix_integer_sparse(matspace, elems)\n",
    "def fast_mat_cy(Matrix_integer_sparse M,Py_ssize_t n,Py_ssize_t m):\n",
    "    cdef Py_ssize_t i,j\n",
    "    for i in range(n):\n",
    "        for j in range(m):\n",
    "            M[i,j]= i*j\n",
    "    return M"
   ]
  },
  {
   "cell_type": "code",
   "execution_count": null,
   "metadata": {
    "vscode": {
     "languageId": "python"
    }
   },
   "outputs": [],
   "source": []
  },
  {
   "cell_type": "code",
   "execution_count": 27,
   "metadata": {
    "vscode": {
     "languageId": "cython"
    }
   },
   "outputs": [],
   "source": [
    "%%cython\n",
    "    from sage.rings.integer cimport Integer\n",
    "    from sage.rings.integer_ring import ZZ\n",
    "    from sage.matrix.matrix_integer_dense cimport Matrix_integer_dense\n",
    "    from sage.matrix.matrix_space import MatrixSpace\n",
    "\n",
    "    def func(Matrix_integer_dense M):\n",
    "        cdef Py_ssize_t i,j\n",
    "        cdef Integer k \n",
    "        mat_space = MatrixSpace(ZZ, M.nrows(), M.ncols(), False, None)\n",
    "        cdef Matrix_integer_dense new_mat = Matrix_integer_dense(mat_space)\n",
    "        for i in range(M.nrows()):\n",
    "            for j in range(M.ncols()):\n",
    "                k = M[i,j]*M[j,i]\n",
    "                new_mat[i,j] = k\n",
    "        return new_mat"
   ]
  },
  {
   "cell_type": "code",
   "execution_count": 22,
   "metadata": {
    "vscode": {
     "languageId": "python"
    }
   },
   "outputs": [
    {
     "data": {
      "text/plain": [
       "5"
      ]
     },
     "execution_count": 22,
     "metadata": {},
     "output_type": "execute_result"
    }
   ],
   "source": [
    "func()"
   ]
  },
  {
   "cell_type": "code",
   "execution_count": 5,
   "metadata": {
    "vscode": {
     "languageId": "python"
    }
   },
   "outputs": [],
   "source": [
    "from sage.matrix.matrix_integer_dense import Matrix_integer_dense\n",
    "from sage.matrix.matrix_integer_sparse import Matrix_integer_sparse\n",
    "n = 1000\n",
    "m= 1000\n",
    "matspace = MatrixSpace(ZZ, n,m, True, None)\n",
    "elems = np.arange(n*m,dtype=np.int_).reshape(n,n)\n",
    "M = Matrix_integer_sparse(matspace, elems)\n",
    "def fast_mat_py(M):\n",
    "    for i in range(n):\n",
    "        for j in range(m):\n",
    "            M[i,j] = i*j\n",
    "    return M\n",
    "\n",
    "# %timeit fast_mat_py(M)\n"
   ]
  },
  {
   "cell_type": "code",
   "execution_count": 7,
   "metadata": {
    "vscode": {
     "languageId": "python"
    }
   },
   "outputs": [
    {
     "name": "stdout",
     "output_type": "stream",
     "text": [
      "190 ms ± 3.4 ms per loop (mean ± std. dev. of 7 runs, 1 loop each)\n"
     ]
    }
   ],
   "source": [
    "%timeit fast_mat_cy(M, n, m)"
   ]
  },
  {
   "cell_type": "code",
   "execution_count": 8,
   "metadata": {
    "vscode": {
     "languageId": "python"
    }
   },
   "outputs": [
    {
     "name": "stdout",
     "output_type": "stream",
     "text": [
      "2.63 ms ± 55.5 µs per loop (mean ± std. dev. of 7 runs, 100 loops each)\n"
     ]
    }
   ],
   "source": [
    "import numpy as np\n",
    "N = 1000\n",
    "n = 10000\n",
    "m = 10000\n",
    "entries = np.random.choice(n*m,N,replace=False)\n",
    "source,target =np.unravel_index(entries, (n,m))\n",
    "entries = np.random.randint(1,10,N)\n",
    "rels = np.stack((source,target,entries),axis=1)\n",
    "\n",
    "def python_rels_to_matrix(rels):\n",
    "    entries_dict = {(a,b):c for a,b,c in rels}\n",
    "    return Matrix(ZZ, n, m, entries_dict)\n",
    "%timeit python_rels_to_matrix(rels)"
   ]
  },
  {
   "cell_type": "code",
   "execution_count": 9,
   "metadata": {
    "vscode": {
     "languageId": "python"
    }
   },
   "outputs": [
    {
     "name": "stdout",
     "output_type": "stream",
     "text": [
      "144 ms ± 824 µs per loop (mean ± std. dev. of 7 runs, 10 loops each)\n",
      "2.62 ms ± 16.4 µs per loop (mean ± std. dev. of 7 runs, 100 loops each)\n"
     ]
    }
   ],
   "source": [
    "def old_method_sparse(rels):\n",
    "    M = Matrix(ZZ, n, m, sparse=True)\n",
    "    for a,b,c in rels:\n",
    "        M[a,b] = c\n",
    "    return M\n",
    "def old_method_dense(rels):\n",
    "    M = Matrix(ZZ, n, m, sparse=False)\n",
    "    for a,b,c in rels:\n",
    "        M[a,b] = c\n",
    "    return M\n",
    "%timeit old_method_dense(rels)\n",
    "%timeit old_method_sparse(rels)"
   ]
  },
  {
   "cell_type": "code",
   "execution_count": 17,
   "metadata": {
    "vscode": {
     "languageId": "python"
    }
   },
   "outputs": [
    {
     "ename": "TypeError",
     "evalue": "only size-1 arrays can be converted to Python scalars",
     "output_type": "error",
     "traceback": [
      "\u001b[0;31m---------------------------------------------------------------------------\u001b[0m",
      "\u001b[0;31mTypeError\u001b[0m                                 Traceback (most recent call last)",
      "\u001b[1;32m/home/rik/git/bgg-cohomology/computations/dev-fast-matrix-populate.ipynb Cell 4'\u001b[0m in \u001b[0;36m<cell line: 2>\u001b[0;34m()\u001b[0m\n\u001b[1;32m      <a href='vscode-notebook-cell:/home/rik/git/bgg-cohomology/computations/dev-fast-matrix-populate.ipynb#ch0000003?line=0'>1</a>\u001b[0m M \u001b[39m=\u001b[39m old_method_dense(rels)\n\u001b[0;32m----> <a href='vscode-notebook-cell:/home/rik/git/bgg-cohomology/computations/dev-fast-matrix-populate.ipynb#ch0000003?line=1'>2</a>\u001b[0m get_ipython()\u001b[39m.\u001b[39;49mrun_line_magic(\u001b[39m'\u001b[39;49m\u001b[39mtimeit\u001b[39;49m\u001b[39m'\u001b[39;49m, \u001b[39m'\u001b[39;49m\u001b[39mM[:, np.arange(5)]\u001b[39;49m\u001b[39m'\u001b[39;49m)\n",
      "File \u001b[0;32m/usr/lib/python3.10/site-packages/IPython/core/interactiveshell.py:2305\u001b[0m, in \u001b[0;36mInteractiveShell.run_line_magic\u001b[0;34m(self, magic_name, line, _stack_depth)\u001b[0m\n\u001b[1;32m   2303\u001b[0m     kwargs[\u001b[39m'\u001b[39m\u001b[39mlocal_ns\u001b[39m\u001b[39m'\u001b[39m] \u001b[39m=\u001b[39m \u001b[39mself\u001b[39m\u001b[39m.\u001b[39mget_local_scope(stack_depth)\n\u001b[1;32m   2304\u001b[0m \u001b[39mwith\u001b[39;00m \u001b[39mself\u001b[39m\u001b[39m.\u001b[39mbuiltin_trap:\n\u001b[0;32m-> 2305\u001b[0m     result \u001b[39m=\u001b[39m fn(\u001b[39m*\u001b[39;49margs, \u001b[39m*\u001b[39;49m\u001b[39m*\u001b[39;49mkwargs)\n\u001b[1;32m   2306\u001b[0m \u001b[39mreturn\u001b[39;00m result\n",
      "File \u001b[0;32m/usr/lib/python3.10/site-packages/IPython/core/magics/execution.py:1162\u001b[0m, in \u001b[0;36mExecutionMagics.timeit\u001b[0;34m(self, line, cell, local_ns)\u001b[0m\n\u001b[1;32m   1160\u001b[0m \u001b[39mfor\u001b[39;00m index \u001b[39min\u001b[39;00m \u001b[39mrange\u001b[39m(\u001b[39m0\u001b[39m, \u001b[39m10\u001b[39m):\n\u001b[1;32m   1161\u001b[0m     number \u001b[39m=\u001b[39m \u001b[39m10\u001b[39m \u001b[39m*\u001b[39m\u001b[39m*\u001b[39m index\n\u001b[0;32m-> 1162\u001b[0m     time_number \u001b[39m=\u001b[39m timer\u001b[39m.\u001b[39;49mtimeit(number)\n\u001b[1;32m   1163\u001b[0m     \u001b[39mif\u001b[39;00m time_number \u001b[39m>\u001b[39m\u001b[39m=\u001b[39m \u001b[39m0.2\u001b[39m:\n\u001b[1;32m   1164\u001b[0m         \u001b[39mbreak\u001b[39;00m\n",
      "File \u001b[0;32m/usr/lib/python3.10/site-packages/IPython/core/magics/execution.py:156\u001b[0m, in \u001b[0;36mTimer.timeit\u001b[0;34m(self, number)\u001b[0m\n\u001b[1;32m    154\u001b[0m gc\u001b[39m.\u001b[39mdisable()\n\u001b[1;32m    155\u001b[0m \u001b[39mtry\u001b[39;00m:\n\u001b[0;32m--> 156\u001b[0m     timing \u001b[39m=\u001b[39m \u001b[39mself\u001b[39;49m\u001b[39m.\u001b[39;49minner(it, \u001b[39mself\u001b[39;49m\u001b[39m.\u001b[39;49mtimer)\n\u001b[1;32m    157\u001b[0m \u001b[39mfinally\u001b[39;00m:\n\u001b[1;32m    158\u001b[0m     \u001b[39mif\u001b[39;00m gcold:\n",
      "File \u001b[0;32m<magic-timeit>:1\u001b[0m, in \u001b[0;36minner\u001b[0;34m(_it, _timer)\u001b[0m\n",
      "File \u001b[0;32m/usr/lib/python3.10/site-packages/sage/matrix/matrix0.pyx:978\u001b[0m, in \u001b[0;36msage.matrix.matrix0.Matrix.__getitem__ (build/cythonized/sage/matrix/matrix0.c:7668)\u001b[0;34m()\u001b[0m\n\u001b[1;32m    976\u001b[0m if not PyIndex_Check(col_index):\n\u001b[1;32m    977\u001b[0m     raise TypeError(\"index must be an integer\")\n\u001b[0;32m--> 978\u001b[0m col = col_index\n\u001b[1;32m    979\u001b[0m if col < 0:\n\u001b[1;32m    980\u001b[0m     col += ncols\n",
      "\u001b[0;31mTypeError\u001b[0m: only size-1 arrays can be converted to Python scalars"
     ]
    }
   ],
   "source": [
    "M = old_method_dense(rels)\n",
    "%timeit M[:, np.arange(5)]"
   ]
  }
 ],
 "metadata": {
  "kernelspec": {
   "display_name": "SageMath 9.6",
   "language": "sage",
   "name": "sagemath"
  },
  "language_info": {
   "codemirror_mode": {
    "name": "ipython",
    "version": 3
   },
   "file_extension": ".py",
   "mimetype": "text/x-python",
   "name": "sage",
   "nbconvert_exporter": "python",
   "pygments_lexer": "ipython3",
   "version": "3.10.5"
  },
  "orig_nbformat": 4
 },
 "nbformat": 4,
 "nbformat_minor": 2
}
