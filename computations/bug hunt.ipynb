{
 "cells": [
  {
   "cell_type": "code",
   "execution_count": 1,
   "metadata": {},
   "outputs": [],
   "source": [
    "import sys\n",
    "sys.path.append('../bggcomplex')\n",
    "\n",
    "from bggcomplex import BGGComplex\n",
    "from fast_module import FastLieAlgebraCompositeModule, FastModuleFactory, BGGCohomology"
   ]
  },
  {
   "cell_type": "code",
   "execution_count": 2,
   "metadata": {},
   "outputs": [
    {
     "name": "stdout",
     "output_type": "stream",
     "text": [
      "[[         0 2866232286]]\n",
      "[8 8]\n",
      "[2375100798]\n",
      "[array([ 8, 11], dtype=uint16)]\n",
      "++++++++++\n",
      "(array([[         0, 2866232286]]), array([1]), ('21', '121'), PBW[-alpha[1]])\n",
      "----------\n",
      "[]\n",
      "[8 8]\n",
      "[2375100798]\n",
      "[array([ 8, 11], dtype=uint16)]\n",
      "++++++++++\n",
      "[[         0 1635429470]]\n",
      "[6 6]\n",
      "[1759699390]\n",
      "[array([ 6, 11], dtype=uint16)]\n",
      "++++++++++\n",
      "(array([[         0, 1635429470]]), array([-1]), ('23', '232'), PBW[-alpha[3]])\n",
      "----------\n",
      "[]\n",
      "[6 6]\n",
      "[1759699390]\n",
      "[array([ 6, 11], dtype=uint16)]\n",
      "++++++++++\n",
      "[[         0 2866232286]]\n",
      "[8 8]\n",
      "[2108647998]\n",
      "[array([5, 8], dtype=uint16)]\n",
      "++++++++++\n",
      "(array([[         0, 2866232286]]), array([-1]), ('12', '121'), PBW[-alpha[2]])\n",
      "----------\n",
      "[]\n",
      "[8 8]\n",
      "[2108647998]\n",
      "[array([5, 8], dtype=uint16)]\n",
      "++++++++++\n",
      "[[         0 1635429470]]\n",
      "[6 6]\n",
      "[1838437278]\n",
      "[array([ 6, 12], dtype=uint16)]\n",
      "++++++++++\n",
      "(array([[         0, 1635429470]]), array([1]), ('32', '232'), PBW[-alpha[2]])\n",
      "----------\n",
      "[]\n",
      "[6 6]\n",
      "[1838437278]\n",
      "[array([ 6, 12], dtype=uint16)]\n",
      "++++++++++\n",
      "[(array([2866232286]), array([-1])), (array([1635429470]), array([1])), (array([2866232286]), array([1])), (array([1635429470]), array([-1]))]\n",
      "----------\n",
      "[(array([1], dtype=uint32), array([-1])), (array([0], dtype=uint32), array([1])), (array([1], dtype=uint32), array([1])), (array([0], dtype=uint32), array([-1]))]\n",
      "----------\n",
      "{(0, 1): -1, (3, 0): -1, (1, 0): 1, (2, 1): 1}\n",
      "----------\n",
      "[]\n",
      "----------\n",
      "[]\n",
      "----------\n",
      "{}\n",
      "----------\n"
     ]
    },
    {
     "name": "stderr",
     "output_type": "stream",
     "text": [
      "../bggcomplex/fast_module.py:197: RuntimeWarning: overflow encountered in int_scalars\n",
      "  hash_modifier = column_hash_modifier*(self.pow_array[new_index] - self.pow_array[old_index])\n"
     ]
    },
    {
     "data": {
      "text/latex": [
       "$$\\mathrm H^{2}(G/B,\\,\\mathfrak u^{2})=8 \\cdot 0$$"
      ],
      "text/plain": [
       "<IPython.core.display.Math object>"
      ]
     },
     "metadata": {},
     "output_type": "display_data"
    },
    {
     "name": "stdout",
     "output_type": "stream",
     "text": [
      "[[          0 -1318710768]\n",
      " [          1  2976256528]]\n",
      "uknown hash\n",
      "[8 8]\n",
      "[ 651405936 2485125040]\n",
      "[array([ 8, 11], dtype=uint16), array([11,  8], dtype=uint16)]\n",
      "++++++++++\n",
      "(array([[          0, -1318710768],\n",
      "       [          1,  2976256528]]), array([1, 1]), ('21', '121'), PBW[-alpha[1]])\n",
      "----------\n",
      "[[         0 -509981168]\n",
      " [         1 -509981168]]\n",
      "[6 6]\n",
      "[6 6]\n",
      "[  36004528 -385711248]\n",
      "[array([ 6, 11], dtype=uint16), array([11,  6], dtype=uint16)]\n",
      "++++++++++\n",
      "(array([[         0, -509981168],\n",
      "       [         1, -509981168]]), array([-1, -1]), ('23', '232'), PBW[-alpha[3]])\n",
      "----------\n",
      "[[          0  2976256528]\n",
      " [          1 -1318710768]]\n",
      "[8 8]\n",
      "uknown hash\n",
      "[2218672240 -559374928]\n",
      "[array([5, 8], dtype=uint16), array([8, 5], dtype=uint16)]\n",
      "++++++++++\n",
      "(array([[          0,  2976256528],\n",
      "       [          1, -1318710768]]), array([-1, -1]), ('12', '121'), PBW[-alpha[2]])\n",
      "----------\n",
      "[[         0 -509981168]\n",
      " [         1 -509981168]]\n",
      "[6 6]\n",
      "[6 6]\n",
      "[ 791081680 -306973360]\n",
      "[array([ 6, 12], dtype=uint16), array([12,  6], dtype=uint16)]\n",
      "++++++++++\n",
      "(array([[         0, -509981168],\n",
      "       [         1, -509981168]]), array([1, 1]), ('32', '232'), PBW[-alpha[2]])\n",
      "----------\n",
      "[(array([-1318710768]), array([-1])), (array([2976256528]), array([-1])), (array([-509981168]), array([1])), (array([-509981168]), array([1])), (array([2976256528]), array([1])), (array([-1318710768]), array([1])), (array([-509981168]), array([-1])), (array([-509981168]), array([-1]))]\n",
      "----------\n",
      "[(array([0], dtype=uint32), array([-1])), (array([1], dtype=uint32), array([-1])), (array([2], dtype=uint32), array([1])), (array([2], dtype=uint32), array([1])), (array([1], dtype=uint32), array([1])), (array([0], dtype=uint32), array([1])), (array([2], dtype=uint32), array([-1])), (array([2], dtype=uint32), array([-1]))]\n",
      "----------\n",
      "{(3, 2): 1, (0, 0): -1, (6, 2): -1, (5, 0): 1, (2, 2): 1, (4, 1): 1, (1, 1): -1, (7, 2): -1}\n",
      "----------\n",
      "[]\n",
      "----------\n",
      "[]\n",
      "----------\n",
      "{}\n",
      "----------\n"
     ]
    },
    {
     "data": {
      "text/latex": [
       "$$\\mathrm H^{2}(G/B,\\,\\mathfrak u^{2})=7 \\cdot 0$$"
      ],
      "text/plain": [
       "<IPython.core.display.Math object>"
      ]
     },
     "metadata": {},
     "output_type": "display_data"
    },
    {
     "name": "stdout",
     "output_type": "stream",
     "text": [
      "[[         0 2866232286]]\n",
      "[8 8]\n",
      "[2375100798]\n",
      "[array([ 8, 11], dtype=uint16)]\n",
      "++++++++++\n",
      "(array([[         0, 2866232286]]), array([1]), ('21', '121'), PBW[-alpha[1]])\n",
      "----------\n",
      "[[         0 1635429470]]\n",
      "[6 6]\n",
      "[1759699390]\n",
      "[array([ 6, 11], dtype=uint16)]\n",
      "++++++++++\n",
      "(array([[         0, 1635429470]]), array([-1]), ('23', '232'), PBW[-alpha[3]])\n",
      "----------\n",
      "[[         0 2866232286]]\n",
      "[8 8]\n",
      "[2108647998]\n",
      "[array([5, 8], dtype=uint16)]\n",
      "++++++++++\n",
      "(array([[         0, 2866232286]]), array([-1]), ('12', '121'), PBW[-alpha[2]])\n",
      "----------\n",
      "[[         0 1635429470]]\n",
      "[6 6]\n",
      "[1838437278]\n",
      "[array([ 6, 12], dtype=uint16)]\n",
      "++++++++++\n",
      "(array([[         0, 1635429470]]), array([1]), ('32', '232'), PBW[-alpha[2]])\n",
      "----------\n",
      "[(array([2866232286]), array([-1])), (array([1635429470]), array([1])), (array([2866232286]), array([1])), (array([1635429470]), array([-1]))]\n",
      "----------\n",
      "[(array([1], dtype=uint32), array([-1])), (array([0], dtype=uint32), array([1])), (array([1], dtype=uint32), array([1])), (array([0], dtype=uint32), array([-1]))]\n",
      "----------\n",
      "{(0, 1): -1, (3, 0): -1, (1, 0): 1, (2, 1): 1}\n",
      "----------\n",
      "[]\n",
      "----------\n",
      "[]\n",
      "----------\n",
      "{}\n",
      "----------\n"
     ]
    },
    {
     "data": {
      "text/latex": [
       "$$\\mathrm H^{2}(G/B,\\,\\mathfrak u^{2})=3 \\cdot 0$$"
      ],
      "text/plain": [
       "<IPython.core.display.Math object>"
      ]
     },
     "metadata": {},
     "output_type": "display_data"
    }
   ],
   "source": [
    "BGG = BGGComplex('A3')\n",
    "f_factory = FastModuleFactory(BGG.LA)\n",
    "component_dic = {'b':f_factory.build_component('n','coad')}\n",
    "components = [[(\"b\",2,'sym')],[(\"b\",2,'wedge')]]\n",
    "\n",
    "module1 = FastLieAlgebraCompositeModule(f_factory.weight_dic, components, component_dic)\n",
    "cohom1 = BGGCohomology(BGG, module1)\n",
    "\n",
    "components = [[(\"b\",1,'sym'),(\"b\",1,'sym')]]\n",
    "\n",
    "module2 = FastLieAlgebraCompositeModule(f_factory.weight_dic, components, component_dic)\n",
    "cohom2 = BGGCohomology(BGG, module2)\n",
    "\n",
    "cohom1.cohomology_LaTeX(2,complex_string=r'G/B,\\,\\mathfrak u^{2}')\n",
    "cohom2.cohomology_LaTeX(2,complex_string=r'G/B,\\,\\mathfrak u^{2}')\n",
    "\n",
    "components = [[(\"b\",2,'sym')]]\n",
    "\n",
    "module3 = FastLieAlgebraCompositeModule(f_factory.weight_dic, components, component_dic)\n",
    "cohom3 = BGGCohomology(BGG, module3)\n",
    "cohom3.cohomology_LaTeX(2,complex_string=r'G/B,\\,\\mathfrak u^{2}')"
   ]
  },
  {
   "cell_type": "code",
   "execution_count": 3,
   "metadata": {
    "scrolled": false
   },
   "outputs": [
    {
     "name": "stdout",
     "output_type": "stream",
     "text": [
      "[[          0 -1318710768]\n",
      " [          1  2976256528]]\n",
      "uknown hash\n",
      "[8 8]\n",
      "[ 651405936 2485125040]\n",
      "[array([ 8, 11], dtype=uint16), array([11,  8], dtype=uint16)]\n",
      "++++++++++\n",
      "(array([[          0, -1318710768],\n",
      "       [          1,  2976256528]]), array([1, 1]), ('21', '121'), PBW[-alpha[1]])\n",
      "----------\n",
      "[[         0 -509981168]\n",
      " [         1 -509981168]]\n",
      "[6 6]\n",
      "[6 6]\n",
      "[  36004528 -385711248]\n",
      "[array([ 6, 11], dtype=uint16), array([11,  6], dtype=uint16)]\n",
      "++++++++++\n",
      "(array([[         0, -509981168],\n",
      "       [         1, -509981168]]), array([-1, -1]), ('23', '232'), PBW[-alpha[3]])\n",
      "----------\n",
      "[[          0  2976256528]\n",
      " [          1 -1318710768]]\n",
      "[8 8]\n",
      "uknown hash\n",
      "[2218672240 -559374928]\n",
      "[array([5, 8], dtype=uint16), array([8, 5], dtype=uint16)]\n",
      "++++++++++\n",
      "(array([[          0,  2976256528],\n",
      "       [          1, -1318710768]]), array([-1, -1]), ('12', '121'), PBW[-alpha[2]])\n",
      "----------\n",
      "[[         0 -509981168]\n",
      " [         1 -509981168]]\n",
      "[6 6]\n",
      "[6 6]\n",
      "[ 791081680 -306973360]\n",
      "[array([ 6, 12], dtype=uint16), array([12,  6], dtype=uint16)]\n",
      "++++++++++\n",
      "(array([[         0, -509981168],\n",
      "       [         1, -509981168]]), array([1, 1]), ('32', '232'), PBW[-alpha[2]])\n",
      "----------\n",
      "[(array([-1318710768]), array([-1])), (array([2976256528]), array([-1])), (array([-509981168]), array([1])), (array([-509981168]), array([1])), (array([2976256528]), array([1])), (array([-1318710768]), array([1])), (array([-509981168]), array([-1])), (array([-509981168]), array([-1]))]\n",
      "----------\n",
      "[(array([0], dtype=uint32), array([-1])), (array([1], dtype=uint32), array([-1])), (array([2], dtype=uint32), array([1])), (array([2], dtype=uint32), array([1])), (array([1], dtype=uint32), array([1])), (array([0], dtype=uint32), array([1])), (array([2], dtype=uint32), array([-1])), (array([2], dtype=uint32), array([-1]))]\n",
      "----------\n",
      "{(3, 2): 1, (0, 0): -1, (6, 2): -1, (5, 0): 1, (2, 2): 1, (4, 1): 1, (1, 1): -1, (7, 2): -1}\n",
      "----------\n"
     ]
    },
    {
     "data": {
      "text/plain": [
       "(\n",
       "[-1  0  0]    \n",
       "[ 0 -1  0]    \n",
       "[ 0  0  1]    \n",
       "[ 0  0  1]    \n",
       "[ 0  1  0]    \n",
       "[ 1  0  0]    \n",
       "[ 0  0 -1]    \n",
       "[ 0  0 -1], 10\n",
       ")"
      ]
     },
     "execution_count": 3,
     "metadata": {},
     "output_type": "execute_result"
    }
   ],
   "source": [
    "cohom2.compute_differential((0,0,0),2)"
   ]
  },
  {
   "cell_type": "code",
   "execution_count": 16,
   "metadata": {},
   "outputs": [],
   "source": [
    "import numpy as np"
   ]
  },
  {
   "cell_type": "code",
   "execution_count": 18,
   "metadata": {},
   "outputs": [
    {
     "data": {
      "text/plain": [
       "32.0"
      ]
     },
     "execution_count": 18,
     "metadata": {},
     "output_type": "execute_result"
    }
   ],
   "source": [
    "np.log2(2976256528+1318710768)"
   ]
  },
  {
   "cell_type": "code",
   "execution_count": 19,
   "metadata": {},
   "outputs": [
    {
     "data": {
      "text/plain": [
       "31.470851733833957"
      ]
     },
     "execution_count": 19,
     "metadata": {},
     "output_type": "execute_result"
    }
   ],
   "source": [
    "np.log2(2976256528)"
   ]
  },
  {
   "cell_type": "code",
   "execution_count": 4,
   "metadata": {},
   "outputs": [
    {
     "name": "stdout",
     "output_type": "stream",
     "text": [
      "[-509981168]\n",
      "[2976256528]\n"
     ]
    }
   ],
   "source": [
    "column = BGG.column[3]\n",
    "vertex_weights = cohom2.weight_set.get_vertex_weights((0,0,0))\n",
    "for w in column:\n",
    "    lbda = vertex_weights[w]\n",
    "    if lbda in module2.weight_components:\n",
    "        print(module2.get_hash(module2.weight_components[lbda][0]))"
   ]
  },
  {
   "cell_type": "markdown",
   "metadata": {},
   "source": [
    "So for $u\\otimes u$ it somehow created something with the hash -1318710768, which shouldn't even exist in the first place. We should figure out what this guy is. Let's check if it occurs in the complex at all somewhere, not just in deg 3.\n",
    "\n",
    "The answer is NO. So that's interesting, but still hard to debug. We shouldn't have gone with this stupid hash system in the first place, but ah well."
   ]
  },
  {
   "cell_type": "code",
   "execution_count": 5,
   "metadata": {},
   "outputs": [
    {
     "name": "stdout",
     "output_type": "stream",
     "text": [
      "[ 8 11]\n",
      "[8 5]\n"
     ]
    }
   ],
   "source": [
    "hash_dic = module2.hash_dic\n",
    "print(hash_dic[651405936])\n",
    "print(hash_dic[-559374928])"
   ]
  },
  {
   "cell_type": "code",
   "execution_count": 6,
   "metadata": {},
   "outputs": [
    {
     "name": "stdout",
     "output_type": "stream",
     "text": [
      "[[         0 2866232286]]\n",
      "[8 8]\n",
      "[2375100798]\n",
      "[array([ 8, 11], dtype=uint16)]\n",
      "++++++++++\n",
      "(array([[         0, 2866232286]]), array([1]), ('21', '121'), PBW[-alpha[1]])\n",
      "----------\n",
      "[[         0 1635429470]]\n",
      "[6 6]\n",
      "[1759699390]\n",
      "[array([ 6, 11], dtype=uint16)]\n",
      "++++++++++\n",
      "(array([[         0, 1635429470]]), array([-1]), ('23', '232'), PBW[-alpha[3]])\n",
      "----------\n",
      "[[         0 2866232286]]\n",
      "[8 8]\n",
      "[2108647998]\n",
      "[array([5, 8], dtype=uint16)]\n",
      "++++++++++\n",
      "(array([[         0, 2866232286]]), array([-1]), ('12', '121'), PBW[-alpha[2]])\n",
      "----------\n",
      "[[         0 1635429470]]\n",
      "[6 6]\n",
      "[1838437278]\n",
      "[array([ 6, 12], dtype=uint16)]\n",
      "++++++++++\n",
      "(array([[         0, 1635429470]]), array([1]), ('32', '232'), PBW[-alpha[2]])\n",
      "----------\n",
      "[(array([2866232286]), array([-1])), (array([1635429470]), array([1])), (array([2866232286]), array([1])), (array([1635429470]), array([-1]))]\n",
      "----------\n",
      "[(array([1], dtype=uint32), array([-1])), (array([0], dtype=uint32), array([1])), (array([1], dtype=uint32), array([1])), (array([0], dtype=uint32), array([-1]))]\n",
      "----------\n",
      "{(0, 1): -1, (3, 0): -1, (1, 0): 1, (2, 1): 1}\n",
      "----------\n"
     ]
    },
    {
     "data": {
      "text/plain": [
       "(\n",
       "[ 0 -1]   \n",
       "[ 1  0]   \n",
       "[ 0  1]   \n",
       "[-1  0], 5\n",
       ")"
      ]
     },
     "execution_count": 6,
     "metadata": {},
     "output_type": "execute_result"
    }
   ],
   "source": [
    "cohom3.compute_differential((0,0,0),2)"
   ]
  },
  {
   "cell_type": "code",
   "execution_count": 7,
   "metadata": {},
   "outputs": [
    {
     "data": {
      "text/plain": [
       "{(-2, -2, -2): [(0, array([[13, 13]], dtype=uint16))],\n",
       " (-2, -2, -1): [(0, array([[ 8, 13]], dtype=uint16))],\n",
       " (-2, -2, 0): [(0, array([[8, 8]], dtype=uint16))],\n",
       " (-2, -1, -1): [(0, array([[ 5, 13]], dtype=uint16))],\n",
       " (-2, -1, 0): [(0, array([[5, 8]], dtype=uint16))],\n",
       " (-2, 0, 0): [(0, array([[5, 5]], dtype=uint16))],\n",
       " (-1, -2, -2): [(0, array([[ 6, 13]], dtype=uint16))],\n",
       " (-1, -2, -1): [(0, array([[ 6,  8],\n",
       "          [11, 13]], dtype=uint16))],\n",
       " (-1, -2, 0): [(0, array([[ 8, 11]], dtype=uint16))],\n",
       " (-1, -1, -2): [(0, array([[12, 13]], dtype=uint16))],\n",
       " (-1, -1, -1): [(0, array([[ 5,  6],\n",
       "          [ 8, 12]], dtype=uint16))],\n",
       " (-1, -1, 0): [(0, array([[ 5, 11]], dtype=uint16))],\n",
       " (-1, 0, -1): [(0, array([[ 5, 12]], dtype=uint16))],\n",
       " (0, -2, -2): [(0, array([[6, 6]], dtype=uint16))],\n",
       " (0, -2, -1): [(0, array([[ 6, 11]], dtype=uint16))],\n",
       " (0, -2, 0): [(0, array([[11, 11]], dtype=uint16))],\n",
       " (0, -1, -2): [(0, array([[ 6, 12]], dtype=uint16))],\n",
       " (0, -1, -1): [(0, array([[11, 12]], dtype=uint16))],\n",
       " (0, 0, -2): [(0, array([[12, 12]], dtype=uint16))]}"
      ]
     },
     "execution_count": 7,
     "metadata": {},
     "output_type": "execute_result"
    }
   ],
   "source": [
    "cohom3.weight_module.weight_components"
   ]
  },
  {
   "cell_type": "code",
   "execution_count": 8,
   "metadata": {},
   "outputs": [
    {
     "data": {
      "text/plain": [
       "[[array([1493246590, 2453838686])],\n",
       " [array([1838437278])],\n",
       " [array([1883969310])],\n",
       " [array([1962707198])],\n",
       " [array([1617516510])],\n",
       " [array([1759699390])],\n",
       " [array([1696254398])],\n",
       " [array([757221694])],\n",
       " [array([2866232286])],\n",
       " [array([1635429470])],\n",
       " [array([-362594])],\n",
       " [array([2041445086])],\n",
       " [array([2250830878,  266090206])],\n",
       " [array([2108647998])],\n",
       " [array([1351063710])],\n",
       " [array([2375100798])],\n",
       " [array([141820286])],\n",
       " [array([-1351788898])],\n",
       " [array([344828094])]]"
      ]
     },
     "execution_count": 8,
     "metadata": {},
     "output_type": "execute_result"
    }
   ],
   "source": [
    "[[module3.get_hash(mod) for mod in mods] for mods in module3.weight_components.values()]"
   ]
  },
  {
   "cell_type": "code",
   "execution_count": 9,
   "metadata": {
    "scrolled": true
   },
   "outputs": [
    {
     "data": {
      "text/plain": [
       "[array([    7919, 62710561], dtype=int32)]"
      ]
     },
     "metadata": {},
     "output_type": "display_data"
    }
   ],
   "source": [
    "display(module2.component_primes)"
   ]
  },
  {
   "cell_type": "code",
   "execution_count": 10,
   "metadata": {},
   "outputs": [
    {
     "data": {
      "text/plain": [
       "[[('b', 1, 'sym'), ('b', 1, 'sym')]]"
      ]
     },
     "execution_count": 10,
     "metadata": {},
     "output_type": "execute_result"
    }
   ],
   "source": [
    "module2.components"
   ]
  },
  {
   "cell_type": "code",
   "execution_count": 11,
   "metadata": {},
   "outputs": [
    {
     "name": "stdout",
     "output_type": "stream",
     "text": [
      "[2]\n",
      "[1, 1]\n"
     ]
    }
   ],
   "source": [
    "comp_type = [s[1] for s in module3.components[0]]\n",
    "print(comp_type)\n",
    "comp_primes = []\n",
    "for i, n in enumerate(comp_type):\n",
    "    comp_primes += [i + 1] * n\n",
    "print(comp_primes)"
   ]
  },
  {
   "cell_type": "code",
   "execution_count": 12,
   "metadata": {},
   "outputs": [
    {
     "data": {
      "text/plain": [
       "[[array([ -652164048, -1174776336,  1406483088,  2563862928])],\n",
       " [array([ 791081680, -306973360])],\n",
       " [array([160274448])],\n",
       " [array([915351600, 239012336])],\n",
       " [array([ -106178352, -1050506416])],\n",
       " [array([  36004528, -385711248])],\n",
       " [array([ 648898800, -971768528])],\n",
       " [array([554225328, 867245936])],\n",
       " [array([2976256528])],\n",
       " [array([-509981168])],\n",
       " [array([ -203358960, -2668385520])],\n",
       " [array([994089488])],\n",
       " [array([ 2360855120,   105420240,    63093840, -1457604656])],\n",
       " [array([2218672240, -559374928])],\n",
       " [array([-1316959216])],\n",
       " [array([ 651405936, 2485125040])],\n",
       " [array([  -61176080, -2003590352])],\n",
       " [array([-1554785264])],\n",
       " [array([ 141831728, -702527504])]]"
      ]
     },
     "execution_count": 12,
     "metadata": {},
     "output_type": "execute_result"
    }
   ],
   "source": [
    "[[module2.get_hash(mod) for mod in mods] for mods in module2.weight_components.values()]"
   ]
  },
  {
   "cell_type": "code",
   "execution_count": null,
   "metadata": {},
   "outputs": [],
   "source": []
  }
 ],
 "metadata": {
  "kernelspec": {
   "display_name": "SageMath 8.6",
   "language": "",
   "name": "sagemath"
  },
  "language_info": {
   "codemirror_mode": {
    "name": "ipython",
    "version": 2
   },
   "file_extension": ".py",
   "mimetype": "text/x-python",
   "name": "python",
   "nbconvert_exporter": "python",
   "pygments_lexer": "ipython2",
   "version": "2.7.15"
  }
 },
 "nbformat": 4,
 "nbformat_minor": 2
}
