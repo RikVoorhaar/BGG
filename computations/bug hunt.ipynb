{
 "cells": [
  {
   "cell_type": "code",
   "execution_count": 1,
   "metadata": {},
   "outputs": [],
   "source": [
    "import sys\n",
    "sys.path.append('../bggcomplex')\n",
    "\n",
    "from bggcomplex import BGGComplex\n",
    "from fast_module import FastLieAlgebraCompositeModule, FastModuleFactory, BGGCohomology"
   ]
  },
  {
   "cell_type": "code",
   "execution_count": 2,
   "metadata": {},
   "outputs": [
    {
     "name": "stderr",
     "output_type": "stream",
     "text": [
      "../bggcomplex/fast_module.py:198: RuntimeWarning: overflow encountered in long_scalars\n",
      "  hash_modifier = column_hash_modifier*(self.pow_array[new_index] - self.pow_array[old_index])\n"
     ]
    },
    {
     "data": {
      "text/latex": [
       "$$\\mathrm H^{2}(G/B,\\,\\mathfrak u^{2})=8 \\cdot 0$$"
      ],
      "text/plain": [
       "<IPython.core.display.Math object>"
      ]
     },
     "metadata": {},
     "output_type": "display_data"
    },
    {
     "data": {
      "text/latex": [
       "$$\\mathrm H^{2}(G/B,\\,\\mathfrak u^{2})=8 \\cdot 0$$"
      ],
      "text/plain": [
       "<IPython.core.display.Math object>"
      ]
     },
     "metadata": {},
     "output_type": "display_data"
    },
    {
     "data": {
      "text/latex": [
       "$$\\mathrm H^{2}(G/B,\\,\\mathfrak u^{2})=3 \\cdot 0$$"
      ],
      "text/plain": [
       "<IPython.core.display.Math object>"
      ]
     },
     "metadata": {},
     "output_type": "display_data"
    }
   ],
   "source": [
    "BGG = BGGComplex('A3')\n",
    "f_factory = FastModuleFactory(BGG.LA)\n",
    "component_dic = {'b':f_factory.build_component('n','coad')}\n",
    "components = [[(\"b\",2,'sym')],[(\"b\",2,'wedge')]]\n",
    "\n",
    "module1 = FastLieAlgebraCompositeModule(f_factory.weight_dic, components, component_dic)\n",
    "cohom1 = BGGCohomology(BGG, module1)\n",
    "\n",
    "components = [[(\"b\",1,'sym'),(\"b\",1,'sym')]]\n",
    "\n",
    "module2 = FastLieAlgebraCompositeModule(f_factory.weight_dic, components, component_dic)\n",
    "cohom2 = BGGCohomology(BGG, module2)\n",
    "\n",
    "cohom1.cohomology_LaTeX(2,complex_string=r'G/B,\\,\\mathfrak u^{2}')\n",
    "cohom2.cohomology_LaTeX(2,complex_string=r'G/B,\\,\\mathfrak u^{2}')\n",
    "\n",
    "components = [[(\"b\",2,'sym')]]\n",
    "\n",
    "module3 = FastLieAlgebraCompositeModule(f_factory.weight_dic, components, component_dic)\n",
    "cohom3 = BGGCohomology(BGG, module3)\n",
    "cohom3.cohomology_LaTeX(2,complex_string=r'G/B,\\,\\mathfrak u^{2}')"
   ]
  },
  {
   "cell_type": "code",
   "execution_count": 3,
   "metadata": {
    "scrolled": true
   },
   "outputs": [
    {
     "data": {
      "text/plain": [
       "(\n",
       "[-1  0]    \n",
       "[-1  0]    \n",
       "[ 0  1]    \n",
       "[ 0  1]    \n",
       "[-1  0]    \n",
       "[-1  0]    \n",
       "[ 0 -1]    \n",
       "[ 0 -1], 10\n",
       ")"
      ]
     },
     "execution_count": 3,
     "metadata": {},
     "output_type": "execute_result"
    }
   ],
   "source": [
    "cohom2.compute_differential((0,0,0),2)"
   ]
  },
  {
   "cell_type": "code",
   "execution_count": 4,
   "metadata": {},
   "outputs": [],
   "source": [
    "import numpy as np"
   ]
  },
  {
   "cell_type": "code",
   "execution_count": 5,
   "metadata": {},
   "outputs": [
    {
     "data": {
      "text/plain": [
       "2976256528"
      ]
     },
     "execution_count": 5,
     "metadata": {},
     "output_type": "execute_result"
    }
   ],
   "source": [
    "np.int(2976256528)"
   ]
  },
  {
   "cell_type": "code",
   "execution_count": null,
   "metadata": {},
   "outputs": [],
   "source": [
    "column = BGG.column[3]\n",
    "vertex_weights = cohom2.weight_set.get_vertex_weights((0,0,0))\n",
    "for w in column:\n",
    "    lbda = vertex_weights[w]\n",
    "    if lbda in module2.weight_components:\n",
    "        print(module2.get_hash(module2.weight_components[lbda][0]))"
   ]
  },
  {
   "cell_type": "markdown",
   "metadata": {},
   "source": [
    "So for $u\\otimes u$ it somehow created something with the hash -1318710768, which shouldn't even exist in the first place. We should figure out what this guy is. Let's check if it occurs in the complex at all somewhere, not just in deg 3.\n",
    "\n",
    "The answer is NO. So that's interesting, but still hard to debug. We shouldn't have gone with this stupid hash system in the first place, but ah well."
   ]
  },
  {
   "cell_type": "code",
   "execution_count": null,
   "metadata": {},
   "outputs": [],
   "source": [
    "hash_dic = module2.hash_dic\n",
    "print(hash_dic[651405936])\n",
    "print(hash_dic[-559374928])"
   ]
  },
  {
   "cell_type": "code",
   "execution_count": null,
   "metadata": {},
   "outputs": [],
   "source": [
    "cohom3.compute_differential((0,0,0),2)"
   ]
  },
  {
   "cell_type": "code",
   "execution_count": null,
   "metadata": {},
   "outputs": [],
   "source": [
    "cohom3.weight_module.weight_components"
   ]
  },
  {
   "cell_type": "code",
   "execution_count": null,
   "metadata": {},
   "outputs": [],
   "source": [
    "[[module3.get_hash(mod) for mod in mods] for mods in module3.weight_components.values()]"
   ]
  },
  {
   "cell_type": "code",
   "execution_count": null,
   "metadata": {
    "scrolled": true
   },
   "outputs": [],
   "source": [
    "display(module2.component_primes)"
   ]
  },
  {
   "cell_type": "code",
   "execution_count": null,
   "metadata": {},
   "outputs": [],
   "source": [
    "module2.components"
   ]
  },
  {
   "cell_type": "code",
   "execution_count": null,
   "metadata": {},
   "outputs": [],
   "source": [
    "comp_type = [s[1] for s in module3.components[0]]\n",
    "print(comp_type)\n",
    "comp_primes = []\n",
    "for i, n in enumerate(comp_type):\n",
    "    comp_primes += [i + 1] * n\n",
    "print(comp_primes)"
   ]
  },
  {
   "cell_type": "code",
   "execution_count": null,
   "metadata": {},
   "outputs": [],
   "source": [
    "hashes = [module2.get_hash(mod)  for mods in module2.weight_components.values() for mod in mods]\n",
    "[h.dtype for h in hashes]"
   ]
  },
  {
   "cell_type": "code",
   "execution_count": null,
   "metadata": {},
   "outputs": [],
   "source": [
    "module2.pow_array"
   ]
  }
 ],
 "metadata": {
  "kernelspec": {
   "display_name": "SageMath 8.4",
   "language": "",
   "name": "sagemath"
  },
  "language_info": {
   "codemirror_mode": {
    "name": "ipython",
    "version": 2
   },
   "file_extension": ".py",
   "mimetype": "text/x-python",
   "name": "python",
   "nbconvert_exporter": "python",
   "pygments_lexer": "ipython2",
   "version": "2.7.15"
  }
 },
 "nbformat": 4,
 "nbformat_minor": 2
}
