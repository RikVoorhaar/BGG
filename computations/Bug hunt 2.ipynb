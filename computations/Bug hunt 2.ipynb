{
 "cells": [
  {
   "cell_type": "code",
   "execution_count": 10,
   "metadata": {},
   "outputs": [],
   "source": [
    "import sys\n",
    "sys.path.append('../bggcomplex')\n",
    "\n",
    "from bggcomplex import BGGComplex\n",
    "from fast_module import FastLieAlgebraCompositeModule, FastModuleFactory, BGGCohomology"
   ]
  },
  {
   "cell_type": "code",
   "execution_count": 11,
   "metadata": {
    "scrolled": true
   },
   "outputs": [
    {
     "name": "stdout",
     "output_type": "stream",
     "text": [
      "->\n",
      "PBW[-alpha[2]]^2\n",
      "0\n",
      "->\n",
      "PBW[-alpha[2]]*PBW[-alpha[1]] + 2*PBW[-alpha[1] - alpha[2]]\n",
      "4\n",
      "->\n",
      "PBW[-alpha[1]]^2\n",
      "0\n",
      "->\n",
      "PBW[-alpha[2]]*PBW[-alpha[1]] - PBW[-alpha[1] - alpha[2]]\n",
      "4\n",
      "[[  1447248   9809712]\n",
      " [  1193840   9809712]\n",
      " [801373808 801374896]\n",
      " [801373840 801374896]\n",
      " [675531856 675532944]\n",
      " [ 39396720  47759184]\n",
      " [675531888 675532944]\n",
      " [ 39143312  47759184]]\n",
      "[ 1 -2 -2  1 -2  1  1 -2]\n",
      "----------\n",
      "[(array([9809712], dtype=int32), array([-2])), (array([9809712], dtype=int32), array([1])), (array([47759184], dtype=int32), array([-2])), (array([47759184], dtype=int32), array([1])), (array([675532944], dtype=int32), array([-2])), (array([675532944], dtype=int32), array([1])), (array([801374896], dtype=int32), array([-2])), (array([801374896], dtype=int32), array([1]))]\n",
      "[-2  0  0  0]\n",
      "[ 1  0  0  0]\n",
      "[ 0 -2  0  0]\n",
      "[ 0  1  0  0]\n",
      "[ 0  0 -2  0]\n",
      "[ 0  0  1  0]\n",
      "[ 0  0  0 -2]\n",
      "[ 0  0  0  1]\n",
      "->\n",
      "PBW[-alpha[1]]\n",
      "8\n",
      "->\n",
      "PBW[-alpha[2]]\n",
      "8\n",
      "[[     7952   1193840]\n",
      " [     7952 801373840]\n",
      " [   261328   1447248]\n",
      " [   261328 801373808]\n",
      " [     7920   1193840]\n",
      " [     7920 801373808]\n",
      " [   261360   1447248]\n",
      " [   261360 801373840]\n",
      " [     7952 675531888]\n",
      " [     7952  39143312]\n",
      " [   261328 675531856]\n",
      " [   261328  39396720]\n",
      " [     7920 675531856]\n",
      " [     7920  39143312]\n",
      " [   261360  39396720]\n",
      " [   261360 675531888]]\n",
      "[ 2 -1 -1  2 -1 -1  2  2 -2  1  1 -2 -2 -2  1  1]\n",
      "----------\n",
      "[(array([  1193840, 801373808, 675531856,  39143312], dtype=int32), array([-1, -1, -2, -2])), (array([  1193840, 801373840, 675531888,  39143312], dtype=int32), array([ 2, -1, -2,  1])), (array([  1447248, 801373808, 675531856,  39396720], dtype=int32), array([-1,  2,  1, -2])), (array([  1447248, 801373840,  39396720, 675531888], dtype=int32), array([2, 2, 1, 1]))]\n",
      "[-1 -2 -2  0 -1  0  0  0]\n",
      "[ 0  1  0 -2  2  0  0 -1]\n",
      "[ 2  0  1  0  0 -2 -1  0]\n",
      "[ 0  0  0  1  0  1  2  2]\n"
     ]
    },
    {
     "data": {
      "text/latex": [
       "$$\\mathrm H^{1}(A2/B,\\,\\mathfrak b\\otimes \\mathfrak b)=0$$"
      ],
      "text/plain": [
       "<IPython.core.display.Math object>"
      ]
     },
     "metadata": {},
     "output_type": "display_data"
    }
   ],
   "source": [
    "d='A2'\n",
    "BGG = BGGComplex(d)\n",
    "f_factory = FastModuleFactory(BGG.LA)\n",
    "component_dic = {'b':f_factory.build_component('b','ad')}\n",
    "components = [[(\"b\",1,'sym'),(\"b\",1,'sym')]]\n",
    "\n",
    "module = FastLieAlgebraCompositeModule(f_factory.weight_dic, components, component_dic)\n",
    "\n",
    "cohom = BGGCohomology(BGG, module)\n",
    "basis_len = len(component_dic['b'].basis)\n",
    "\n",
    "for i in [1]:\n",
    "    cohom.cohomology_LaTeX(i,complex_string=d+r'/B,\\,\\mathfrak b\\otimes \\mathfrak b')"
   ]
  },
  {
   "cell_type": "code",
   "execution_count": 12,
   "metadata": {},
   "outputs": [
    {
     "data": {
      "text/plain": [
       "[array([   1, 7919], dtype=int32)]"
      ]
     },
     "execution_count": 12,
     "metadata": {},
     "output_type": "execute_result"
    }
   ],
   "source": [
    "module.component_primes"
   ]
  },
  {
   "cell_type": "code",
   "execution_count": 13,
   "metadata": {},
   "outputs": [
    {
     "data": {
      "text/plain": [
       "array([       1,       33,     1089,    35937,  1185921, 39135393], dtype=int32)"
      ]
     },
     "execution_count": 13,
     "metadata": {},
     "output_type": "execute_result"
    }
   ],
   "source": [
    "module.pow_array"
   ]
  },
  {
   "cell_type": "code",
   "execution_count": 14,
   "metadata": {},
   "outputs": [
    {
     "name": "stdout",
     "output_type": "stream",
     "text": [
      "((0, -2), 1)\n",
      "((0, 0), 4)\n",
      "((-2, 0), 1)\n",
      "((-2, -2), 1)\n",
      "((-1, -2), 2)\n",
      "((-1, -1), 6)\n",
      "((-2, -1), 2)\n",
      "((0, -1), 4)\n",
      "((-1, 0), 4)\n"
     ]
    }
   ],
   "source": [
    "for k,v in module.weight_components.items():\n",
    "    print(k, len(v[0][1]))"
   ]
  },
  {
   "cell_type": "code",
   "execution_count": 15,
   "metadata": {},
   "outputs": [
    {
     "name": "stdout",
     "output_type": "stream",
     "text": [
      "->\n",
      "PBW[-alpha[1]]\n",
      "8\n",
      "->\n",
      "PBW[-alpha[2]]\n",
      "8\n",
      "[[     7952   1193840]\n",
      " [     7952 801373840]\n",
      " [   261328   1447248]\n",
      " [   261328 801373808]\n",
      " [     7920   1193840]\n",
      " [     7920 801373808]\n",
      " [   261360   1447248]\n",
      " [   261360 801373840]\n",
      " [     7952 675531888]\n",
      " [     7952  39143312]\n",
      " [   261328 675531856]\n",
      " [   261328  39396720]\n",
      " [     7920 675531856]\n",
      " [     7920  39143312]\n",
      " [   261360  39396720]\n",
      " [   261360 675531888]]\n",
      "[ 2 -1 -1  2 -1 -1  2  2 -2  1  1 -2 -2 -2  1  1]\n",
      "----------\n",
      "[(array([  1193840, 801373808, 675531856,  39143312], dtype=int32), array([-1, -1, -2, -2])), (array([  1193840, 801373840, 675531888,  39143312], dtype=int32), array([ 2, -1, -2,  1])), (array([  1447248, 801373808, 675531856,  39396720], dtype=int32), array([-1,  2,  1, -2])), (array([  1447248, 801373840,  39396720, 675531888], dtype=int32), array([2, 2, 1, 1]))]\n",
      "[-1 -2 -2  0 -1  0  0  0]\n",
      "[ 0  1  0 -2  2  0  0 -1]\n",
      "[ 2  0  1  0  0 -2 -1  0]\n",
      "[ 0  0  0  1  0  1  2  2]\n"
     ]
    },
    {
     "data": {
      "text/plain": [
       "(\n",
       "[-1 -2 -2  0 -1  0  0  0]   \n",
       "[ 0  1  0 -2  2  0  0 -1]   \n",
       "[ 2  0  1  0  0 -2 -1  0]   \n",
       "[ 0  0  0  1  0  1  2  2], 4\n",
       ")"
      ]
     },
     "execution_count": 15,
     "metadata": {},
     "output_type": "execute_result"
    }
   ],
   "source": [
    "cohom.compute_differential((0,0),0)"
   ]
  },
  {
   "cell_type": "code",
   "execution_count": 24,
   "metadata": {
    "scrolled": true
   },
   "outputs": [
    {
     "name": "stdout",
     "output_type": "stream",
     "text": [
      "PBW[-alpha[2]]^2\n"
     ]
    },
    {
     "data": {
      "text/plain": [
       "(array([], dtype=int32), array([], dtype=int32))"
      ]
     },
     "execution_count": 24,
     "metadata": {},
     "output_type": "execute_result"
    }
   ],
   "source": [
    "pbw_elt = BGG.compute_maps(BGG.zero_root)[('1','21')]\n",
    "print(pbw_elt)\n",
    "module.set_pbw_action_matrix(pbw_elt)\n",
    "module.compute_pbw_action(module.weight_components[-1,0][0])"
   ]
  },
  {
   "cell_type": "code",
   "execution_count": null,
   "metadata": {},
   "outputs": [],
   "source": []
  },
  {
   "cell_type": "code",
   "execution_count": 17,
   "metadata": {},
   "outputs": [
    {
     "data": {
      "text/plain": [
       "array([[0, 0],\n",
       "       [0, 1],\n",
       "       [1, 0],\n",
       "       [1, 1]], dtype=int32)"
      ]
     },
     "execution_count": 17,
     "metadata": {},
     "output_type": "execute_result"
    }
   ],
   "source": [
    "module.weight_components[(0,0)][0][1]"
   ]
  },
  {
   "cell_type": "code",
   "execution_count": 18,
   "metadata": {},
   "outputs": [
    {
     "data": {
      "text/plain": [
       "{0: array([0, 0], dtype=int32),\n",
       " 1: array([0, 0], dtype=int32),\n",
       " 2: array([-1, -1], dtype=int32),\n",
       " 3: array([1, 1], dtype=int32),\n",
       " 4: array([-1,  0], dtype=int32),\n",
       " 5: array([ 0, -1], dtype=int32),\n",
       " 6: array([0, 1], dtype=int32),\n",
       " 7: array([1, 0], dtype=int32)}"
      ]
     },
     "execution_count": 18,
     "metadata": {},
     "output_type": "execute_result"
    }
   ],
   "source": [
    "module.weight_dic"
   ]
  }
 ],
 "metadata": {
  "kernelspec": {
   "display_name": "SageMath 8.6",
   "language": "",
   "name": "sagemath"
  },
  "language_info": {
   "codemirror_mode": {
    "name": "ipython",
    "version": 2
   },
   "file_extension": ".py",
   "mimetype": "text/x-python",
   "name": "python",
   "nbconvert_exporter": "python",
   "pygments_lexer": "ipython2",
   "version": "2.7.15"
  }
 },
 "nbformat": 4,
 "nbformat_minor": 2
}
