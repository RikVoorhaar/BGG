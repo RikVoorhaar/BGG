{
 "cells": [
  {
   "cell_type": "markdown",
   "metadata": {},
   "source": [
    "# Center of the small Quantum group\n",
    "\n",
    "## Introduction\n",
    "\n",
    "This notebook will show how to compute the center of the small quantum group, as described in the two papers by Annach Lachowska and You Qi:\n",
    "\n",
    "https://arxiv.org/abs/1604.07380v3\n",
    "\n",
    "https://arxiv.org/abs/1703.02457v3\n",
    "\n",
    "Let $G$ be a complex simple Lie group, and let $P$ be a parabolic subgroup. Then we consider the cotangent bundle of the associated partial flag variety:\n",
    "$$\n",
    "    \\tilde{\\mathcal N}_P :=T^*(G/P)\n",
    "$$\n",
    "We are then interested in computing\n",
    "$$HH^s(\\tilde{\\mathcal N}_P)\\cong \\bigoplus_{i+j+k=s}H^i(\\tilde{\\mathcal N}_P,\\wedge^jT\\tilde{\\mathcal N}_P)^k$$\n",
    "This can be computed by using the BGG resolution. We define the following module:\n",
    "\n",
    "$$M_j^k = \\bigoplus_r \\operatorname{Sym}^{j-r+k/2}\\mathfrak u_P\\otimes \\wedge^r\\mathfrak g\\otimes \\wedge^{j-r}\\mathfrak n_P$$\n",
    "\n",
    "Let $\\Delta\\colon\\mathfrak p\\to \\mathfrak g\\oplus \\mathfrak u_P\\otimes\\mathfrak n_P$ be given by the inclusion in the first component and in the second component by the adjoint action (after identifying $\\operatorname{End}(\\mathfrak n_P)$ with $\\mathfrak u_P\\otimes \\mathfrak n_P$). Then $\\Delta$ induces a map $M_{j-1}^k\\to M_j^k$. We define the module\n",
    "\n",
    "$$E_j^k = M_j^k\\big/\\Delta(M_{j-1}^k)$$\n",
    "\n",
    "Then the cohomology of the BGG resolution of $E_j^k$ in degree $i$ with respect to a dominant weight $\\mu$ computes the multiplicity of $\\mu$ of $H^i(\\tilde{\\mathcal N}_P,\\wedge^jT\\tilde{\\mathcal N}_P)^k$."
   ]
  },
  {
   "cell_type": "markdown",
   "metadata": {},
   "source": [
    "## Example"
   ]
  },
  {
   "cell_type": "markdown",
   "metadata": {},
   "source": [
    "We begin by loading the required packages. Change `sys.path.append('../bggcomplex')` as required. The `module quantum_center_module_v2` has additional dependency `tqdm` (recent versions), you can install it by running the following command in a cell:\n",
    "\n",
    "    !pip install tqdm -U"
   ]
  },
  {
   "cell_type": "code",
   "execution_count": 1,
   "metadata": {
    "scrolled": true
   },
   "outputs": [],
   "source": [
    "import sys\n",
    "sys.path.append('../bggcomplex')\n",
    "\n",
    "from fast_module import BGGCohomology\n",
    "from bggcomplex import BGGComplex\n",
    "from quantum_center_module_v2 import *\n",
    "from tqdm.auto import tqdm"
   ]
  },
  {
   "cell_type": "code",
   "execution_count": 2,
   "metadata": {},
   "outputs": [],
   "source": [
    "import re\n",
    "from collections import defaultdict\n",
    "from IPython.display import Math\n",
    "\n",
    "def display_ab_dic_stats(ab_dic,cohom):\n",
    "    dims = defaultdict(int)\n",
    "    ab_dic_extended = {k:v for k,v in ab_dic.items()}\n",
    "    max_a = max(a for a,b in ab_dic_extended.keys())\n",
    "    max_a = max_a + (max_a%2)\n",
    "    for (a,b),v in list(ab_dic_extended.items()):\n",
    "        ab_dic_extended[(max_a-b,max_a-a)] = v\n",
    "\n",
    "    for s in ab_dic_extended.values():\n",
    "        match = re.findall(r'.*mathbb\\{C\\}\\^\\{([0-9]*?)\\}',s)\n",
    "        if len(match)>0:\n",
    "            dims['\\\\mathbb{C}']+=int(match[0])\n",
    "        elif re.match(r'.*mathbb\\{C\\}',s):\n",
    "            dims['\\\\mathbb{C}']+=1\n",
    "        l_matches = re.findall(r'L_\\{.+?\\}',s)\n",
    "        def add_backslash(c):\n",
    "            if c in set(r'\\{}^'):\n",
    "                return \"\\\\\"+c\n",
    "            else:\n",
    "                return c\n",
    "        for lm in l_matches:\n",
    "            lm = ''.join(add_backslash(c) for c in lm)\n",
    "            match = re.findall('.*'+lm+r'\\^\\{([0-9]*?)\\}',s)\n",
    "            if len(match)>0:\n",
    "                dims[lm]+=int(match[0])\n",
    "            else:\n",
    "                dims[lm]+=1\n",
    "    module_dims = dict()\n",
    "    for mod in dims.keys():\n",
    "        if mod == '\\\\mathbb{C}':\n",
    "            module_dims[mod]=1\n",
    "        else:\n",
    "            indices = re.findall(r'.*\\{(.*)\\\\',mod)[0]\n",
    "            mu = tuple([int(c) for c in indices.split(',')])\n",
    "            dim = cohom.weight_set.highest_weight_rep_dim(mu)\n",
    "            module_dims[mod]=dim\n",
    "    modules = sorted(dims.keys(),key = lambda x:module_dims[x])\n",
    "    rows = [r'\\text{module}&\\text{multiplicity}&\\text{dimension} ']\n",
    "    for i,mod in enumerate(modules):\n",
    "        if mod[0]=='L':\n",
    "            module_string = ''.join([c for c in mod if c != '\\\\'])\n",
    "        else:\n",
    "            module_string=mod\n",
    "        if i==0:\n",
    "            module_string = r'\\hline '+module_string\n",
    "        rows.append('&'.join([module_string,str(dims[mod]),str(module_dims[mod])]))\n",
    "    array_string = r'\\begin{array}{rll}'+r'\\\\ '.join(rows)+r'\\end{array}'\n",
    "    display(Math(array_string))"
   ]
  },
  {
   "cell_type": "markdown",
   "metadata": {},
   "source": [
    "Now let us compute a simple example and set $G=A2$. We will compute $H^0(\\tilde{\\mathcal N}_0,\\wedge^2T\\tilde{\\mathcal N}_0)^{-2}$. Here the subscript $0$ indicates the principal block. The principal block corresponds to the parameter `subset=[]`. The other parameters are `s,i,j,k`, and they satisfy `i+j+k=s` and `j>=i`.\n",
    "\n",
    "If we want to change the parabolic subalgebra $P$ then we can change `subset` to e.g. `subset=[1]` for \n",
    "$$\\mathfrak p = \\mathfrak b\\oplus\\mathbb C\\langle e_1\\rangle=\\mathbb C\\langle e_1,f_1,f_2,f_{12} \\rangle,\\qquad \\mathfrak u_P = \\mathbb C\\langle e_{12},e_2\\rangle,\\qquad \\mathfrak n_P = \\mathbb C\\langle f_{12},f_2\\rangle$$"
   ]
  },
  {
   "cell_type": "code",
   "execution_count": 3,
   "metadata": {
    "scrolled": true
   },
   "outputs": [
    {
     "name": "stdout",
     "output_type": "stream",
     "text": [
      "i+j=2, j-i=2, k=-2\n",
      "\n"
     ]
    },
    {
     "data": {
      "text/latex": [
       "$$\\mathrm H^{0}(\\tilde{\\mathcal N}_0,\\wedge^2T\\tilde{\\mathcal N}_0)^{-2})=\\mathbb{C}$$"
      ],
      "text/plain": [
       "<IPython.core.display.Math object>"
      ]
     },
     "metadata": {},
     "output_type": "display_data"
    }
   ],
   "source": [
    "BGG = BGGComplex('A2')\n",
    "s = 0\n",
    "i = 0\n",
    "j = 2\n",
    "k = s-i-j\n",
    "print('i+j=%d, j-i=%d, k=%d\\n'%(i+j,j-i,k))\n",
    "\n",
    "subset = []\n",
    "cohom = BGGCohomology(BGG, Mijk(BGG,i,j,k,subset=subset), coker=Tijk_basis(BGG, i,j,k,subset=subset))\n",
    "cohom.cohomology_LaTeX(i=i,complex_string=r'\\tilde{\\mathcal N}_0,\\wedge^2T\\tilde{\\mathcal N}_0)^{-2}')"
   ]
  },
  {
   "cell_type": "markdown",
   "metadata": {},
   "source": [
    "## Bigraded tables\n",
    "The program can also produce bigraded tables. We decompose impose a bigrading on the total cohomology $HH^s(\\tilde{\\mathcal N}_P)$ by $a=i+j$ and $b = j-i$. Since the computation can take a while a progress bar is provided. \n",
    "\n",
    "Due to the $\\mathfrak{sl}_2$ symmetry in the bigraded table, we only actually need to compute half of it. We can choose to either compute the whole table, or only half if it through the `half_only` parameter. It's default value is `False`. \n",
    "\n",
    "The bigraded table can be rendered in LaTeX through the `display_ab_dic` function, which takes an additional parameter `extend_half` which computes the second half of the table from the first half through symmetry considerations. The produced LaTeX code can easily be copied.\n",
    "\n",
    "The parameter `compact` determines how the weight decomposition of the cohomology is displayed. E.g. with `compact=False` it would display $\\mathbb C\\oplus L(\\alpha_1+\\alpha_2)^2$ and with `compact=True` it gives $\\mathbb C L_{1,1}^2$."
   ]
  },
  {
   "cell_type": "code",
   "execution_count": null,
   "metadata": {
    "scrolled": false
   },
   "outputs": [
    {
     "data": {
      "application/vnd.jupyter.widget-view+json": {
       "model_id": "08459503278e4e9eadc66608866d90ee",
       "version_major": 2,
       "version_minor": 0
      },
      "text/plain": [
       "HBox(children=(FloatProgress(value=0.0, max=36.0), HTML(value='')))"
      ]
     },
     "metadata": {},
     "output_type": "display_data"
    },
    {
     "data": {
      "application/vnd.jupyter.widget-view+json": {
       "model_id": "7ec630fd52454bbf94f8658213f8778d",
       "version_major": 2,
       "version_minor": 0
      },
      "text/plain": [
       "HBox(children=(FloatProgress(value=1.0, bar_style='info', max=1.0), HTML(value='')))"
      ]
     },
     "metadata": {},
     "output_type": "display_data"
    },
    {
     "data": {
      "application/vnd.jupyter.widget-view+json": {
       "model_id": "b5836b32e5b24cfda230cb7585b96c52",
       "version_major": 2,
       "version_minor": 0
      },
      "text/plain": [
       "HBox(children=(FloatProgress(value=1.0, bar_style='info', max=1.0), HTML(value='')))"
      ]
     },
     "metadata": {},
     "output_type": "display_data"
    }
   ],
   "source": [
    "import pickle\n",
    "from os.path import join\n",
    "from os import mkdir\n",
    "\n",
    "try:\n",
    "    mkdir('pickles')\n",
    "except:\n",
    "    pass\n",
    "\n",
    "diagram = 'A4'\n",
    "\n",
    "# Only compute cohomology for particular highest weight module\n",
    "mu = None\n",
    "#mu=(0,0,0)\n",
    "\n",
    "# the parameters we actually want to change\n",
    "BGG = BGGComplex(diagram)\n",
    "subset=[]\n",
    "\n",
    "\n",
    "# compute only half of the table, extend by symmetry\n",
    "half_only = True\n",
    "extend_half = half_only\n",
    "\n",
    "# Exclude the top-left to bottom-right diagonal. If s=0, these should all be the trivial rep.\n",
    "exclude_diagonal = False\n",
    "\n",
    "# Display in full form\n",
    "compact = True\n",
    "\n",
    "for s in range(100):\n",
    "    filename = join('pickles','%s-s%d.pkl'%(diagram,s) )\n",
    "    ab_dic = dict()\n",
    "    with tqdm(all_abijk(BGG,s=s,subset=subset,half_only=half_only)) as inner_pbar:\n",
    "        with tqdm(leave=None) as outer_pbar:\n",
    "            map_pbar = tqdm()\n",
    "            for a,b,i,j,k in inner_pbar:\n",
    "                if exclude_diagonal and (a==b):\n",
    "                    continue\n",
    "                inner_pbar.set_description('i+j= %d, j-i = %d'%(a,b))\n",
    "                coker = Tijk_basis(BGG, i,j,k,subset=subset,pbar=outer_pbar)\n",
    "                outer_pbar.set_description('Initializing cohomology')\n",
    "                cohom = BGGCohomology(BGG, Mijk(BGG,i,j,k,subset=subset), \n",
    "                                      coker=coker,pbars = [outer_pbar,map_pbar])\n",
    "                outer_pbar.set_description('Computing cohomology')\n",
    "                cohom_string = cohom.cohomology_LaTeX(i=i,mu=mu,only_strings=True,compact=compact)\n",
    "                if cohom_string is None:\n",
    "                    cohom_string = '0'\n",
    "                ab_dic[(a,b)]=cohom_string\n",
    "                with open(filename, 'wb') as f:\n",
    "                    pickle.dump(ab_dic,f)   \n",
    "    print('-'*50)\n",
    "    print(f'type {diagram}, table for s={s}:')\n",
    "    display_ab_dic(ab_dic,extend_half = extend_half)\n",
    "    display_ab_dic_stats(ab_dic, cohom)"
   ]
  }
 ],
 "metadata": {
  "kernelspec": {
   "display_name": "SageMath 9.0",
   "language": "sage",
   "name": "sagemath"
  },
  "language_info": {
   "codemirror_mode": {
    "name": "ipython",
    "version": 3
   },
   "file_extension": ".py",
   "mimetype": "text/x-python",
   "name": "python",
   "nbconvert_exporter": "python",
   "pygments_lexer": "ipython3",
   "version": "3.7.3"
  }
 },
 "nbformat": 4,
 "nbformat_minor": 2
}
