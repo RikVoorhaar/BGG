{
 "cells": [
  {
   "cell_type": "markdown",
   "metadata": {},
   "source": [
    "# Center of the small Quantum group\n",
    "\n",
    "## Introduction\n",
    "\n",
    "This notebook will show how to compute the center of the small quantum group, as described in the two papers by Annach Lachowska and You Qi:\n",
    "\n",
    "https://arxiv.org/abs/1604.07380v3\n",
    "\n",
    "https://arxiv.org/abs/1703.02457v3\n",
    "\n",
    "Let $G$ be a complex simple Lie group, and let $P$ be a parabolic subgroup. Then we consider the cotangent bundle of the associated partial flag variety:\n",
    "$$\n",
    "    \\tilde{\\mathcal N}_P :=T^*(G/P)\n",
    "$$\n",
    "We are then interested in computing\n",
    "$$HH^s(\\tilde{\\mathcal N}_P)\\cong \\bigoplus_{i+j+k=s}H^i(\\tilde{\\mathcal N}_P,\\wedge^jT\\tilde{\\mathcal N}_P)^k$$\n",
    "This can be computed by using the BGG resolution. We define the following module:\n",
    "\n",
    "$$M_j^k = \\bigoplus_r \\operatorname{Sym}^{j-r+k/2}\\mathfrak u_P\\otimes \\wedge^r\\mathfrak g\\otimes \\wedge^{j-r}\\mathfrak n_P$$\n",
    "\n",
    "Let $\\Delta\\colon\\mathfrak p\\to \\mathfrak g\\oplus \\mathfrak u_P\\otimes\\mathfrak n_P$ be given by the inclusion in the first component and in the second component by the adjoint action (after identifying $\\operatorname{End}(\\mathfrak n_P)$ with $\\mathfrak u_P\\otimes \\mathfrak n_P$). Then $\\Delta$ induces a map $M_{j-1}^k\\to M_j^k$. We define the module\n",
    "\n",
    "$$E_j^k = M_j^k\\big/\\Delta(M_{j-1}^k)$$\n",
    "\n",
    "Then the cohomology of the BGG resolution of $E_j^k$ in degree $i$ with respect to a dominant weight $\\mu$ computes the multiplicity of $\\mu$ of $H^i(\\tilde{\\mathcal N}_P,\\wedge^jT\\tilde{\\mathcal N}_P)^k$."
   ]
  },
  {
   "cell_type": "markdown",
   "metadata": {},
   "source": [
    "## Example"
   ]
  },
  {
   "cell_type": "markdown",
   "metadata": {},
   "source": [
    "We begin by loading the required packages. Change `sys.path.append('../bggcomplex')` as required. The `module quantum_center_module_v2` has additional dependency `tqdm` (recent versions), you can install it by running the following command in a cell:\n",
    "\n",
    "    !pip install tqdm -U"
   ]
  },
  {
   "cell_type": "code",
   "execution_count": 1,
   "metadata": {
    "scrolled": true
   },
   "outputs": [],
   "source": [
    "import sys\n",
    "sys.path.append('../bggcomplex')\n",
    "\n",
    "from fast_module import BGGCohomology\n",
    "from bggcomplex import BGGComplex\n",
    "from quantum_center_module_v2 import *\n",
    "from tqdm.auto import tqdm"
   ]
  },
  {
   "cell_type": "markdown",
   "metadata": {},
   "source": [
    "Now let us compute a simple example and set $G=A2$. We will compute $H^0(\\tilde{\\mathcal N}_0,\\wedge^2T\\tilde{\\mathcal N}_0)^{-2}$. Here the subscript $0$ indicates the principal block. The principal block corresponds to the parameter `subset=[]`. The other parameters are `s,i,j,k`, and they satisfy `i+j+k=s` and `j>=i`.\n",
    "\n",
    "If we want to change the parabolic subalgebra $P$ then we can change `subset` to e.g. `subset=[1]` for \n",
    "$$\\mathfrak p = \\mathfrak b\\oplus\\mathbb C\\langle e_1\\rangle=\\mathbb C\\langle e_1,f_1,f_2,f_{12} \\rangle,\\qquad \\mathfrak u_P = \\mathbb C\\langle e_{12},e_2\\rangle,\\qquad \\mathfrak n_P = \\mathbb C\\langle f_{12},f_2\\rangle$$"
   ]
  },
  {
   "cell_type": "code",
   "execution_count": 2,
   "metadata": {
    "scrolled": true
   },
   "outputs": [
    {
     "name": "stdout",
     "output_type": "stream",
     "text": [
      "i+j=2, j-i=2, k=-2\n",
      "\n"
     ]
    },
    {
     "data": {
      "text/latex": [
       "$$\\mathrm H^{0}(\\tilde{\\mathcal N}_0,\\wedge^2T\\tilde{\\mathcal N}_0)^{-2})=\\mathbb{C}$$"
      ],
      "text/plain": [
       "<IPython.core.display.Math object>"
      ]
     },
     "metadata": {},
     "output_type": "display_data"
    }
   ],
   "source": [
    "BGG = BGGComplex('A2')\n",
    "s = 0\n",
    "i = 0\n",
    "j = 2\n",
    "k = s-i-j\n",
    "print('i+j=%d, j-i=%d, k=%d\\n'%(i+j,j-i,k))\n",
    "\n",
    "subset = []\n",
    "cohom = BGGCohomology(BGG, Mijk(BGG,i,j,k,subset=subset), coker=Tijk_basis(BGG, i,j,k,subset=subset))\n",
    "cohom.cohomology_LaTeX(i=i,complex_string=r'\\tilde{\\mathcal N}_0,\\wedge^2T\\tilde{\\mathcal N}_0)^{-2}')"
   ]
  },
  {
   "cell_type": "markdown",
   "metadata": {},
   "source": [
    "## Bigraded tables\n",
    "The program can also produce bigraded tables. We decompose impose a bigrading on the total cohomology $HH^s(\\tilde{\\mathcal N}_P)$ by $a=i+j$ and $b = j-i$. Since the computation can take a while a progress bar is provided. \n",
    "\n",
    "Due to the $\\mathfrak{sl}_2$ symmetry in the bigraded table, we only actually need to compute half of it. We can choose to either compute the whole table, or only half if it through the `half_only` parameter. It's default value is `False`. \n",
    "\n",
    "The bigraded table can be rendered in LaTeX through the `display_ab_dic` function, which takes an additional parameter `extend_half` which computes the second half of the table from the first half through symmetry considerations. The produced LaTeX code can easily be copied.\n",
    "\n",
    "The parameter `compact` determines how the weight decomposition of the cohomology is displayed. E.g. with `compact=False` it would display $\\mathbb C\\oplus L(\\alpha_1+\\alpha_2)^2$ and with `compact=True` it gives $\\mathbb C L_{1,1}^2$."
   ]
  },
  {
   "cell_type": "code",
   "execution_count": null,
   "metadata": {
    "scrolled": false
   },
   "outputs": [
    {
     "name": "stdout",
     "output_type": "stream",
     "text": [
      "PARI stack size set to 1000000 bytes, maximum size set to 26843545600\n"
     ]
    },
    {
     "data": {
      "application/vnd.jupyter.widget-view+json": {
       "model_id": "647c977ac2434ef4b1a48075e767d927",
       "version_major": 2,
       "version_minor": 0
      },
      "text/plain": [
       "HBox(children=(FloatProgress(value=0.0, max=4.0), HTML(value='')))"
      ]
     },
     "metadata": {},
     "output_type": "display_data"
    },
    {
     "data": {
      "application/vnd.jupyter.widget-view+json": {
       "model_id": "",
       "version_major": 2,
       "version_minor": 0
      },
      "text/plain": [
       "HBox(children=(FloatProgress(value=1.0, bar_style='info', max=1.0), HTML(value='')))"
      ]
     },
     "metadata": {},
     "output_type": "display_data"
    },
    {
     "data": {
      "application/vnd.jupyter.widget-view+json": {
       "model_id": "7f3c1e888ca74ceba7cc49e9fd6b0610",
       "version_major": 2,
       "version_minor": 0
      },
      "text/plain": [
       "HBox(children=(FloatProgress(value=1.0, bar_style='info', max=1.0), HTML(value='')))"
      ]
     },
     "metadata": {},
     "output_type": "display_data"
    },
    {
     "name": "stdout",
     "output_type": "stream",
     "text": [
      "\n",
      "--------------------------------------------------\n",
      "type A2, table for s=0:\n"
     ]
    },
    {
     "data": {
      "text/latex": [
       "$$\\begin{array}{r|l l l}\n",
       "\t{\\scriptstyle i+j=0}&\\mathbb{C}&&\\\\\n",
       "\t{\\scriptstyle i+j=2}&\\mathbb{C}&\\mathbb{C}&\\\\\n",
       "\t{\\scriptstyle i+j=4}&\\mathbb{C}&\\mathbb{C}&\\mathbb{C}\\\\\n",
       "\t\\hline h^{i,j}&{\\scriptstyle j-i=0}&{\\scriptstyle j-i=2}&{\\scriptstyle j-i=4}\n",
       "\\end{array}$$"
      ],
      "text/plain": [
       "<IPython.core.display.Math object>"
      ]
     },
     "metadata": {},
     "output_type": "display_data"
    },
    {
     "data": {
      "text/latex": [
       "$$\\begin{array}{r|l l l}\n",
       "\t{\\scriptstyle i+j=0}&1&&\\\\\n",
       "\t{\\scriptstyle i+j=2}&1&1&\\\\\n",
       "\t{\\scriptstyle i+j=4}&1&1&1\\\\\n",
       "\t\\hline h^{i,j}&{\\scriptstyle j-i=0}&{\\scriptstyle j-i=2}&{\\scriptstyle j-i=4}\n",
       "\\end{array}$$"
      ],
      "text/plain": [
       "<IPython.core.display.Math object>"
      ]
     },
     "metadata": {},
     "output_type": "display_data"
    },
    {
     "data": {
      "text/latex": [
       "$$\\begin{array}{rll}\n",
       "\t\\text{module}&\\text{multiplicity}&\\text{dimension} \\\\ \\hline \\text{all}&&6 \\\\\n",
       "\t\\mathbb{C}&6&1\n",
       "\\end{array}$$"
      ],
      "text/plain": [
       "<IPython.core.display.Math object>"
      ]
     },
     "metadata": {},
     "output_type": "display_data"
    },
    {
     "data": {
      "application/vnd.jupyter.widget-view+json": {
       "model_id": "0ad7e4aabfbd44b6a0a5088b63ae5050",
       "version_major": 2,
       "version_minor": 0
      },
      "text/plain": [
       "HBox(children=(FloatProgress(value=0.0, max=2.0), HTML(value='')))"
      ]
     },
     "metadata": {},
     "output_type": "display_data"
    },
    {
     "data": {
      "application/vnd.jupyter.widget-view+json": {
       "model_id": "",
       "version_major": 2,
       "version_minor": 0
      },
      "text/plain": [
       "HBox(children=(FloatProgress(value=1.0, bar_style='info', max=1.0), HTML(value='')))"
      ]
     },
     "metadata": {},
     "output_type": "display_data"
    },
    {
     "data": {
      "application/vnd.jupyter.widget-view+json": {
       "model_id": "9ee70b5d91604e21a9ad1f7218bca075",
       "version_major": 2,
       "version_minor": 0
      },
      "text/plain": [
       "HBox(children=(FloatProgress(value=1.0, bar_style='info', max=1.0), HTML(value='')))"
      ]
     },
     "metadata": {},
     "output_type": "display_data"
    },
    {
     "name": "stdout",
     "output_type": "stream",
     "text": [
      "\n",
      "--------------------------------------------------\n",
      "type A2, table for s=1:\n"
     ]
    },
    {
     "data": {
      "text/latex": [
       "$$\\begin{array}{r|l l}\n",
       "\t{\\scriptstyle i+j=1}&\\mathbb{C}L_{1,1}&\\\\\n",
       "\t{\\scriptstyle i+j=3}&\\mathbb{C}&\\mathbb{C}L_{1,1}\\\\\n",
       "\t\\hline h^{i,j}&{\\scriptstyle j-i=1}&{\\scriptstyle j-i=3}\n",
       "\\end{array}$$"
      ],
      "text/plain": [
       "<IPython.core.display.Math object>"
      ]
     },
     "metadata": {},
     "output_type": "display_data"
    },
    {
     "data": {
      "text/latex": [
       "$$\\begin{array}{r|l l}\n",
       "\t{\\scriptstyle i+j=1}&9&\\\\\n",
       "\t{\\scriptstyle i+j=3}&1&9\\\\\n",
       "\t\\hline h^{i,j}&{\\scriptstyle j-i=1}&{\\scriptstyle j-i=3}\n",
       "\\end{array}$$"
      ],
      "text/plain": [
       "<IPython.core.display.Math object>"
      ]
     },
     "metadata": {},
     "output_type": "display_data"
    },
    {
     "data": {
      "text/latex": [
       "$$\\begin{array}{rll}\n",
       "\t\\text{module}&\\text{multiplicity}&\\text{dimension} \\\\ \\hline \\text{all}&&19 \\\\\n",
       "\t\\mathbb{C}&3&1\\\\\n",
       "\tL\\left(\\alpha_{1}+\\alpha_{2}\\right)&2&8\n",
       "\\end{array}$$"
      ],
      "text/plain": [
       "<IPython.core.display.Math object>"
      ]
     },
     "metadata": {},
     "output_type": "display_data"
    },
    {
     "data": {
      "application/vnd.jupyter.widget-view+json": {
       "model_id": "9ee908c3fd9446c984d83f8f173b1216",
       "version_major": 2,
       "version_minor": 0
      },
      "text/plain": [
       "HBox(children=(FloatProgress(value=0.0, max=4.0), HTML(value='')))"
      ]
     },
     "metadata": {},
     "output_type": "display_data"
    },
    {
     "data": {
      "application/vnd.jupyter.widget-view+json": {
       "model_id": "",
       "version_major": 2,
       "version_minor": 0
      },
      "text/plain": [
       "HBox(children=(FloatProgress(value=1.0, bar_style='info', max=1.0), HTML(value='')))"
      ]
     },
     "metadata": {},
     "output_type": "display_data"
    },
    {
     "data": {
      "application/vnd.jupyter.widget-view+json": {
       "model_id": "4178054df579404097ca28add5669879",
       "version_major": 2,
       "version_minor": 0
      },
      "text/plain": [
       "HBox(children=(FloatProgress(value=1.0, bar_style='info', max=1.0), HTML(value='')))"
      ]
     },
     "metadata": {},
     "output_type": "display_data"
    },
    {
     "name": "stdout",
     "output_type": "stream",
     "text": [
      "\n",
      "--------------------------------------------------\n",
      "type A2, table for s=2:\n"
     ]
    },
    {
     "data": {
      "text/latex": [
       "$$\\begin{array}{r|l l l}\n",
       "\t{\\scriptstyle i+j=0}&L_{1,1}&&\\\\\n",
       "\t{\\scriptstyle i+j=2}&0&L_{1,1}^{2}L_{2,1}L_{1,2}&\\\\\n",
       "\t{\\scriptstyle i+j=4}&0&0&L_{1,1}\\\\\n",
       "\t\\hline h^{i,j}&{\\scriptstyle j-i=0}&{\\scriptstyle j-i=2}&{\\scriptstyle j-i=4}\n",
       "\\end{array}$$"
      ],
      "text/plain": [
       "<IPython.core.display.Math object>"
      ]
     },
     "metadata": {},
     "output_type": "display_data"
    },
    {
     "data": {
      "text/latex": [
       "$$\\begin{array}{r|l l l}\n",
       "\t{\\scriptstyle i+j=0}&8&&\\\\\n",
       "\t{\\scriptstyle i+j=2}&0&36&\\\\\n",
       "\t{\\scriptstyle i+j=4}&0&0&8\\\\\n",
       "\t\\hline h^{i,j}&{\\scriptstyle j-i=0}&{\\scriptstyle j-i=2}&{\\scriptstyle j-i=4}\n",
       "\\end{array}$$"
      ],
      "text/plain": [
       "<IPython.core.display.Math object>"
      ]
     },
     "metadata": {},
     "output_type": "display_data"
    },
    {
     "data": {
      "text/latex": [
       "$$\\begin{array}{rll}\n",
       "\t\\text{module}&\\text{multiplicity}&\\text{dimension} \\\\ \\hline \\text{all}&&52 \\\\\n",
       "\tL\\left(\\alpha_{1}+\\alpha_{2}\\right)&4&8\\\\\n",
       "\tL\\left( 2\\alpha_{1}+\\alpha_{2}\\right)&1&10\\\\\n",
       "\tL\\left(\\alpha_{1}+ 2\\alpha_{2}\\right)&1&10\n",
       "\\end{array}$$"
      ],
      "text/plain": [
       "<IPython.core.display.Math object>"
      ]
     },
     "metadata": {},
     "output_type": "display_data"
    },
    {
     "data": {
      "application/vnd.jupyter.widget-view+json": {
       "model_id": "0b9b6dccbf8e4d558d12e2e10189f604",
       "version_major": 2,
       "version_minor": 0
      },
      "text/plain": [
       "HBox(children=(FloatProgress(value=0.0, max=2.0), HTML(value='')))"
      ]
     },
     "metadata": {},
     "output_type": "display_data"
    },
    {
     "name": "stdout",
     "output_type": "stream",
     "text": [
      "\n",
      "\n"
     ]
    },
    {
     "data": {
      "application/vnd.jupyter.widget-view+json": {
       "model_id": "",
       "version_major": 2,
       "version_minor": 0
      },
      "text/plain": [
       "HBox(children=(FloatProgress(value=1.0, bar_style='info', max=1.0), HTML(value='')))"
      ]
     },
     "metadata": {},
     "output_type": "display_data"
    },
    {
     "data": {
      "application/vnd.jupyter.widget-view+json": {
       "model_id": "d72a04bfc8874956bfd5532c700afd31",
       "version_major": 2,
       "version_minor": 0
      },
      "text/plain": [
       "HBox(children=(FloatProgress(value=1.0, bar_style='info', max=1.0), HTML(value='')))"
      ]
     },
     "metadata": {},
     "output_type": "display_data"
    },
    {
     "name": "stdout",
     "output_type": "stream",
     "text": [
      "\n",
      "--------------------------------------------------\n",
      "type A2, table for s=3:\n"
     ]
    },
    {
     "data": {
      "text/latex": [
       "$$\\begin{array}{r|l l}\n",
       "\t{\\scriptstyle i+j=1}&L_{1,1}L_{2,1}L_{1,2}L_{2,2}&\\\\\n",
       "\t{\\scriptstyle i+j=3}&0&L_{1,1}L_{2,1}L_{1,2}L_{2,2}\\\\\n",
       "\t\\hline h^{i,j}&{\\scriptstyle j-i=1}&{\\scriptstyle j-i=3}\n",
       "\\end{array}$$"
      ],
      "text/plain": [
       "<IPython.core.display.Math object>"
      ]
     },
     "metadata": {},
     "output_type": "display_data"
    },
    {
     "data": {
      "text/latex": [
       "$$\\begin{array}{r|l l}\n",
       "\t{\\scriptstyle i+j=1}&55&\\\\\n",
       "\t{\\scriptstyle i+j=3}&0&55\\\\\n",
       "\t\\hline h^{i,j}&{\\scriptstyle j-i=1}&{\\scriptstyle j-i=3}\n",
       "\\end{array}$$"
      ],
      "text/plain": [
       "<IPython.core.display.Math object>"
      ]
     },
     "metadata": {},
     "output_type": "display_data"
    },
    {
     "data": {
      "text/latex": [
       "$$\\begin{array}{rll}\n",
       "\t\\text{module}&\\text{multiplicity}&\\text{dimension} \\\\ \\hline \\text{all}&&110 \\\\\n",
       "\tL\\left(\\alpha_{1}+\\alpha_{2}\\right)&2&8\\\\\n",
       "\tL\\left( 2\\alpha_{1}+\\alpha_{2}\\right)&2&10\\\\\n",
       "\tL\\left(\\alpha_{1}+ 2\\alpha_{2}\\right)&2&10\\\\\n",
       "\tL\\left( 2\\alpha_{1}+ 2\\alpha_{2}\\right)&2&27\n",
       "\\end{array}$$"
      ],
      "text/plain": [
       "<IPython.core.display.Math object>"
      ]
     },
     "metadata": {},
     "output_type": "display_data"
    },
    {
     "data": {
      "application/vnd.jupyter.widget-view+json": {
       "model_id": "0a421d01cc904db2902f86ae9ee07199",
       "version_major": 2,
       "version_minor": 0
      },
      "text/plain": [
       "HBox(children=(FloatProgress(value=0.0, max=4.0), HTML(value='')))"
      ]
     },
     "metadata": {},
     "output_type": "display_data"
    },
    {
     "data": {
      "application/vnd.jupyter.widget-view+json": {
       "model_id": "",
       "version_major": 2,
       "version_minor": 0
      },
      "text/plain": [
       "HBox(children=(FloatProgress(value=1.0, bar_style='info', max=1.0), HTML(value='')))"
      ]
     },
     "metadata": {},
     "output_type": "display_data"
    },
    {
     "data": {
      "application/vnd.jupyter.widget-view+json": {
       "model_id": "55d35269ff894b988d45607d3f1c20ad",
       "version_major": 2,
       "version_minor": 0
      },
      "text/plain": [
       "HBox(children=(FloatProgress(value=1.0, bar_style='info', max=1.0), HTML(value='')))"
      ]
     },
     "metadata": {},
     "output_type": "display_data"
    },
    {
     "name": "stdout",
     "output_type": "stream",
     "text": [
      "\n",
      "--------------------------------------------------\n",
      "type A2, table for s=4:\n"
     ]
    },
    {
     "data": {
      "text/latex": [
       "$$\\begin{array}{r|l l l}\n",
       "\t{\\scriptstyle i+j=0}&L_{2,2}&&\\\\\n",
       "\t{\\scriptstyle i+j=2}&0&L_{2,1}L_{1,2}L_{2,2}^{2}L_{3,2}L_{2,3}&\\\\\n",
       "\t{\\scriptstyle i+j=4}&0&0&L_{2,2}\\\\\n",
       "\t\\hline h^{i,j}&{\\scriptstyle j-i=0}&{\\scriptstyle j-i=2}&{\\scriptstyle j-i=4}\n",
       "\\end{array}$$"
      ],
      "text/plain": [
       "<IPython.core.display.Math object>"
      ]
     },
     "metadata": {},
     "output_type": "display_data"
    },
    {
     "data": {
      "text/latex": [
       "$$\\begin{array}{r|l l l}\n",
       "\t{\\scriptstyle i+j=0}&27&&\\\\\n",
       "\t{\\scriptstyle i+j=2}&0&144&\\\\\n",
       "\t{\\scriptstyle i+j=4}&0&0&27\\\\\n",
       "\t\\hline h^{i,j}&{\\scriptstyle j-i=0}&{\\scriptstyle j-i=2}&{\\scriptstyle j-i=4}\n",
       "\\end{array}$$"
      ],
      "text/plain": [
       "<IPython.core.display.Math object>"
      ]
     },
     "metadata": {},
     "output_type": "display_data"
    },
    {
     "data": {
      "text/latex": [
       "$$\\begin{array}{rll}\n",
       "\t\\text{module}&\\text{multiplicity}&\\text{dimension} \\\\ \\hline \\text{all}&&198 \\\\\n",
       "\tL\\left( 2\\alpha_{1}+ 2\\alpha_{2}\\right)&4&27\\\\\n",
       "\tL\\left( 2\\alpha_{1}+\\alpha_{2}\\right)&1&10\\\\\n",
       "\tL\\left(\\alpha_{1}+ 2\\alpha_{2}\\right)&1&10\\\\\n",
       "\tL\\left( 3\\alpha_{1}+ 2\\alpha_{2}\\right)&1&35\\\\\n",
       "\tL\\left( 2\\alpha_{1}+ 3\\alpha_{2}\\right)&1&35\n",
       "\\end{array}$$"
      ],
      "text/plain": [
       "<IPython.core.display.Math object>"
      ]
     },
     "metadata": {},
     "output_type": "display_data"
    },
    {
     "data": {
      "application/vnd.jupyter.widget-view+json": {
       "model_id": "279d58117b0047c9a6595e6de3fa227a",
       "version_major": 2,
       "version_minor": 0
      },
      "text/plain": [
       "HBox(children=(FloatProgress(value=0.0, max=2.0), HTML(value='')))"
      ]
     },
     "metadata": {},
     "output_type": "display_data"
    },
    {
     "data": {
      "application/vnd.jupyter.widget-view+json": {
       "model_id": "",
       "version_major": 2,
       "version_minor": 0
      },
      "text/plain": [
       "HBox(children=(FloatProgress(value=1.0, bar_style='info', max=1.0), HTML(value='')))"
      ]
     },
     "metadata": {},
     "output_type": "display_data"
    },
    {
     "data": {
      "application/vnd.jupyter.widget-view+json": {
       "model_id": "12a9ee1ac1b44cbf8fbe3c4c928ff046",
       "version_major": 2,
       "version_minor": 0
      },
      "text/plain": [
       "HBox(children=(FloatProgress(value=1.0, bar_style='info', max=1.0), HTML(value='')))"
      ]
     },
     "metadata": {},
     "output_type": "display_data"
    },
    {
     "name": "stdout",
     "output_type": "stream",
     "text": [
      "\n",
      "\n",
      "\n",
      "--------------------------------------------------\n",
      "type A2, table for s=5:\n"
     ]
    },
    {
     "data": {
      "text/latex": [
       "$$\\begin{array}{r|l l}\n",
       "\t{\\scriptstyle i+j=1}&L_{2,2}L_{3,2}L_{2,3}L_{3,3}&\\\\\n",
       "\t{\\scriptstyle i+j=3}&0&L_{2,2}L_{3,2}L_{2,3}L_{3,3}\\\\\n",
       "\t\\hline h^{i,j}&{\\scriptstyle j-i=1}&{\\scriptstyle j-i=3}\n",
       "\\end{array}$$"
      ],
      "text/plain": [
       "<IPython.core.display.Math object>"
      ]
     },
     "metadata": {},
     "output_type": "display_data"
    },
    {
     "data": {
      "text/latex": [
       "$$\\begin{array}{r|l l}\n",
       "\t{\\scriptstyle i+j=1}&161&\\\\\n",
       "\t{\\scriptstyle i+j=3}&0&161\\\\\n",
       "\t\\hline h^{i,j}&{\\scriptstyle j-i=1}&{\\scriptstyle j-i=3}\n",
       "\\end{array}$$"
      ],
      "text/plain": [
       "<IPython.core.display.Math object>"
      ]
     },
     "metadata": {},
     "output_type": "display_data"
    },
    {
     "data": {
      "text/latex": [
       "$$\\begin{array}{rll}\n",
       "\t\\text{module}&\\text{multiplicity}&\\text{dimension} \\\\ \\hline \\text{all}&&322 \\\\\n",
       "\tL\\left( 2\\alpha_{1}+ 2\\alpha_{2}\\right)&2&27\\\\\n",
       "\tL\\left( 3\\alpha_{1}+ 2\\alpha_{2}\\right)&2&35\\\\\n",
       "\tL\\left( 2\\alpha_{1}+ 3\\alpha_{2}\\right)&2&35\\\\\n",
       "\tL\\left( 3\\alpha_{1}+ 3\\alpha_{2}\\right)&2&64\n",
       "\\end{array}$$"
      ],
      "text/plain": [
       "<IPython.core.display.Math object>"
      ]
     },
     "metadata": {},
     "output_type": "display_data"
    },
    {
     "data": {
      "application/vnd.jupyter.widget-view+json": {
       "model_id": "10cbeb194bbf4065aada5b7beb253308",
       "version_major": 2,
       "version_minor": 0
      },
      "text/plain": [
       "HBox(children=(FloatProgress(value=0.0, max=4.0), HTML(value='')))"
      ]
     },
     "metadata": {},
     "output_type": "display_data"
    },
    {
     "data": {
      "application/vnd.jupyter.widget-view+json": {
       "model_id": "",
       "version_major": 2,
       "version_minor": 0
      },
      "text/plain": [
       "HBox(children=(FloatProgress(value=1.0, bar_style='info', max=1.0), HTML(value='')))"
      ]
     },
     "metadata": {},
     "output_type": "display_data"
    },
    {
     "data": {
      "application/vnd.jupyter.widget-view+json": {
       "model_id": "79bac1671e104dc7bfc713a766366fae",
       "version_major": 2,
       "version_minor": 0
      },
      "text/plain": [
       "HBox(children=(FloatProgress(value=1.0, bar_style='info', max=1.0), HTML(value='')))"
      ]
     },
     "metadata": {},
     "output_type": "display_data"
    },
    {
     "name": "stdout",
     "output_type": "stream",
     "text": [
      "\n",
      "--------------------------------------------------\n",
      "type A2, table for s=6:\n"
     ]
    },
    {
     "data": {
      "text/latex": [
       "$$\\begin{array}{r|l l l}\n",
       "\t{\\scriptstyle i+j=0}&L_{3,3}&&\\\\\n",
       "\t{\\scriptstyle i+j=2}&0&L_{3,2}L_{2,3}L_{3,3}^{2}L_{4,3}L_{3,4}&\\\\\n",
       "\t{\\scriptstyle i+j=4}&0&0&L_{3,3}\\\\\n",
       "\t\\hline h^{i,j}&{\\scriptstyle j-i=0}&{\\scriptstyle j-i=2}&{\\scriptstyle j-i=4}\n",
       "\\end{array}$$"
      ],
      "text/plain": [
       "<IPython.core.display.Math object>"
      ]
     },
     "metadata": {},
     "output_type": "display_data"
    },
    {
     "data": {
      "text/latex": [
       "$$\\begin{array}{r|l l l}\n",
       "\t{\\scriptstyle i+j=0}&64&&\\\\\n",
       "\t{\\scriptstyle i+j=2}&0&360&\\\\\n",
       "\t{\\scriptstyle i+j=4}&0&0&64\\\\\n",
       "\t\\hline h^{i,j}&{\\scriptstyle j-i=0}&{\\scriptstyle j-i=2}&{\\scriptstyle j-i=4}\n",
       "\\end{array}$$"
      ],
      "text/plain": [
       "<IPython.core.display.Math object>"
      ]
     },
     "metadata": {},
     "output_type": "display_data"
    },
    {
     "data": {
      "text/latex": [
       "$$\\begin{array}{rll}\n",
       "\t\\text{module}&\\text{multiplicity}&\\text{dimension} \\\\ \\hline \\text{all}&&488 \\\\\n",
       "\tL\\left( 3\\alpha_{1}+ 3\\alpha_{2}\\right)&4&64\\\\\n",
       "\tL\\left( 3\\alpha_{1}+ 2\\alpha_{2}\\right)&1&35\\\\\n",
       "\tL\\left( 2\\alpha_{1}+ 3\\alpha_{2}\\right)&1&35\\\\\n",
       "\tL\\left( 4\\alpha_{1}+ 3\\alpha_{2}\\right)&1&81\\\\\n",
       "\tL\\left( 3\\alpha_{1}+ 4\\alpha_{2}\\right)&1&81\n",
       "\\end{array}$$"
      ],
      "text/plain": [
       "<IPython.core.display.Math object>"
      ]
     },
     "metadata": {},
     "output_type": "display_data"
    },
    {
     "data": {
      "application/vnd.jupyter.widget-view+json": {
       "model_id": "489284bebbd541a2b2b10680a03ec8aa",
       "version_major": 2,
       "version_minor": 0
      },
      "text/plain": [
       "HBox(children=(FloatProgress(value=0.0, max=2.0), HTML(value='')))"
      ]
     },
     "metadata": {},
     "output_type": "display_data"
    },
    {
     "data": {
      "application/vnd.jupyter.widget-view+json": {
       "model_id": "",
       "version_major": 2,
       "version_minor": 0
      },
      "text/plain": [
       "HBox(children=(FloatProgress(value=1.0, bar_style='info', max=1.0), HTML(value='')))"
      ]
     },
     "metadata": {},
     "output_type": "display_data"
    },
    {
     "data": {
      "application/vnd.jupyter.widget-view+json": {
       "model_id": "80f39240c0e741c394261b3099745efe",
       "version_major": 2,
       "version_minor": 0
      },
      "text/plain": [
       "HBox(children=(FloatProgress(value=1.0, bar_style='info', max=1.0), HTML(value='')))"
      ]
     },
     "metadata": {},
     "output_type": "display_data"
    },
    {
     "name": "stdout",
     "output_type": "stream",
     "text": [
      "\n",
      "\n",
      "--------------------------------------------------\n",
      "type A2, table for s=7:\n"
     ]
    },
    {
     "data": {
      "text/latex": [
       "$$\\begin{array}{r|l l}\n",
       "\t{\\scriptstyle i+j=1}&L_{3,3}L_{4,3}L_{3,4}L_{4,4}&\\\\\n",
       "\t{\\scriptstyle i+j=3}&0&L_{3,3}L_{4,3}L_{3,4}L_{4,4}\\\\\n",
       "\t\\hline h^{i,j}&{\\scriptstyle j-i=1}&{\\scriptstyle j-i=3}\n",
       "\\end{array}$$"
      ],
      "text/plain": [
       "<IPython.core.display.Math object>"
      ]
     },
     "metadata": {},
     "output_type": "display_data"
    },
    {
     "data": {
      "text/latex": [
       "$$\\begin{array}{r|l l}\n",
       "\t{\\scriptstyle i+j=1}&351&\\\\\n",
       "\t{\\scriptstyle i+j=3}&0&351\\\\\n",
       "\t\\hline h^{i,j}&{\\scriptstyle j-i=1}&{\\scriptstyle j-i=3}\n",
       "\\end{array}$$"
      ],
      "text/plain": [
       "<IPython.core.display.Math object>"
      ]
     },
     "metadata": {},
     "output_type": "display_data"
    },
    {
     "data": {
      "text/latex": [
       "$$\\begin{array}{rll}\n",
       "\t\\text{module}&\\text{multiplicity}&\\text{dimension} \\\\ \\hline \\text{all}&&702 \\\\\n",
       "\tL\\left( 3\\alpha_{1}+ 3\\alpha_{2}\\right)&2&64\\\\\n",
       "\tL\\left( 4\\alpha_{1}+ 3\\alpha_{2}\\right)&2&81\\\\\n",
       "\tL\\left( 3\\alpha_{1}+ 4\\alpha_{2}\\right)&2&81\\\\\n",
       "\tL\\left( 4\\alpha_{1}+ 4\\alpha_{2}\\right)&2&125\n",
       "\\end{array}$$"
      ],
      "text/plain": [
       "<IPython.core.display.Math object>"
      ]
     },
     "metadata": {},
     "output_type": "display_data"
    },
    {
     "data": {
      "application/vnd.jupyter.widget-view+json": {
       "model_id": "37d2f8ed4d634cbfaa92343274668a79",
       "version_major": 2,
       "version_minor": 0
      },
      "text/plain": [
       "HBox(children=(FloatProgress(value=0.0, max=4.0), HTML(value='')))"
      ]
     },
     "metadata": {},
     "output_type": "display_data"
    },
    {
     "data": {
      "application/vnd.jupyter.widget-view+json": {
       "model_id": "",
       "version_major": 2,
       "version_minor": 0
      },
      "text/plain": [
       "HBox(children=(FloatProgress(value=1.0, bar_style='info', max=1.0), HTML(value='')))"
      ]
     },
     "metadata": {},
     "output_type": "display_data"
    },
    {
     "data": {
      "application/vnd.jupyter.widget-view+json": {
       "model_id": "a6ddd85886f84137ba09a006c16f37e6",
       "version_major": 2,
       "version_minor": 0
      },
      "text/plain": [
       "HBox(children=(FloatProgress(value=1.0, bar_style='info', max=1.0), HTML(value='')))"
      ]
     },
     "metadata": {},
     "output_type": "display_data"
    },
    {
     "name": "stdout",
     "output_type": "stream",
     "text": [
      "\n",
      "--------------------------------------------------\n",
      "type A2, table for s=8:\n"
     ]
    },
    {
     "data": {
      "text/latex": [
       "$$\\begin{array}{r|l l l}\n",
       "\t{\\scriptstyle i+j=0}&L_{4,4}&&\\\\\n",
       "\t{\\scriptstyle i+j=2}&0&L_{4,3}L_{3,4}L_{4,4}^{2}L_{5,4}L_{4,5}&\\\\\n",
       "\t{\\scriptstyle i+j=4}&0&0&L_{4,4}\\\\\n",
       "\t\\hline h^{i,j}&{\\scriptstyle j-i=0}&{\\scriptstyle j-i=2}&{\\scriptstyle j-i=4}\n",
       "\\end{array}$$"
      ],
      "text/plain": [
       "<IPython.core.display.Math object>"
      ]
     },
     "metadata": {},
     "output_type": "display_data"
    },
    {
     "data": {
      "text/latex": [
       "$$\\begin{array}{r|l l l}\n",
       "\t{\\scriptstyle i+j=0}&125&&\\\\\n",
       "\t{\\scriptstyle i+j=2}&0&720&\\\\\n",
       "\t{\\scriptstyle i+j=4}&0&0&125\\\\\n",
       "\t\\hline h^{i,j}&{\\scriptstyle j-i=0}&{\\scriptstyle j-i=2}&{\\scriptstyle j-i=4}\n",
       "\\end{array}$$"
      ],
      "text/plain": [
       "<IPython.core.display.Math object>"
      ]
     },
     "metadata": {},
     "output_type": "display_data"
    },
    {
     "data": {
      "text/latex": [
       "$$\\begin{array}{rll}\n",
       "\t\\text{module}&\\text{multiplicity}&\\text{dimension} \\\\ \\hline \\text{all}&&970 \\\\\n",
       "\tL\\left( 4\\alpha_{1}+ 4\\alpha_{2}\\right)&4&125\\\\\n",
       "\tL\\left( 4\\alpha_{1}+ 3\\alpha_{2}\\right)&1&81\\\\\n",
       "\tL\\left( 3\\alpha_{1}+ 4\\alpha_{2}\\right)&1&81\\\\\n",
       "\tL\\left( 5\\alpha_{1}+ 4\\alpha_{2}\\right)&1&154\\\\\n",
       "\tL\\left( 4\\alpha_{1}+ 5\\alpha_{2}\\right)&1&154\n",
       "\\end{array}$$"
      ],
      "text/plain": [
       "<IPython.core.display.Math object>"
      ]
     },
     "metadata": {},
     "output_type": "display_data"
    },
    {
     "data": {
      "application/vnd.jupyter.widget-view+json": {
       "model_id": "b3d27aab34d64d5a95c43aca3fcec439",
       "version_major": 2,
       "version_minor": 0
      },
      "text/plain": [
       "HBox(children=(FloatProgress(value=0.0, max=2.0), HTML(value='')))"
      ]
     },
     "metadata": {},
     "output_type": "display_data"
    },
    {
     "data": {
      "application/vnd.jupyter.widget-view+json": {
       "model_id": "",
       "version_major": 2,
       "version_minor": 0
      },
      "text/plain": [
       "HBox(children=(FloatProgress(value=1.0, bar_style='info', max=1.0), HTML(value='')))"
      ]
     },
     "metadata": {},
     "output_type": "display_data"
    },
    {
     "data": {
      "application/vnd.jupyter.widget-view+json": {
       "model_id": "0adf830860114be58a47d076dd77fe7e",
       "version_major": 2,
       "version_minor": 0
      },
      "text/plain": [
       "HBox(children=(FloatProgress(value=1.0, bar_style='info', max=1.0), HTML(value='')))"
      ]
     },
     "metadata": {},
     "output_type": "display_data"
    },
    {
     "name": "stdout",
     "output_type": "stream",
     "text": [
      "\n",
      "\n",
      "\n",
      "\n",
      "\n",
      "--------------------------------------------------\n",
      "type A2, table for s=9:\n"
     ]
    },
    {
     "data": {
      "text/latex": [
       "$$\\begin{array}{r|l l}\n",
       "\t{\\scriptstyle i+j=1}&L_{4,4}L_{5,4}L_{4,5}L_{5,5}&\\\\\n",
       "\t{\\scriptstyle i+j=3}&0&L_{4,4}L_{5,4}L_{4,5}L_{5,5}\\\\\n",
       "\t\\hline h^{i,j}&{\\scriptstyle j-i=1}&{\\scriptstyle j-i=3}\n",
       "\\end{array}$$"
      ],
      "text/plain": [
       "<IPython.core.display.Math object>"
      ]
     },
     "metadata": {},
     "output_type": "display_data"
    },
    {
     "data": {
      "text/latex": [
       "$$\\begin{array}{r|l l}\n",
       "\t{\\scriptstyle i+j=1}&649&\\\\\n",
       "\t{\\scriptstyle i+j=3}&0&649\\\\\n",
       "\t\\hline h^{i,j}&{\\scriptstyle j-i=1}&{\\scriptstyle j-i=3}\n",
       "\\end{array}$$"
      ],
      "text/plain": [
       "<IPython.core.display.Math object>"
      ]
     },
     "metadata": {},
     "output_type": "display_data"
    },
    {
     "data": {
      "text/latex": [
       "$$\\begin{array}{rll}\n",
       "\t\\text{module}&\\text{multiplicity}&\\text{dimension} \\\\ \\hline \\text{all}&&1298 \\\\\n",
       "\tL\\left( 4\\alpha_{1}+ 4\\alpha_{2}\\right)&2&125\\\\\n",
       "\tL\\left( 5\\alpha_{1}+ 4\\alpha_{2}\\right)&2&154\\\\\n",
       "\tL\\left( 4\\alpha_{1}+ 5\\alpha_{2}\\right)&2&154\\\\\n",
       "\tL\\left( 5\\alpha_{1}+ 5\\alpha_{2}\\right)&2&216\n",
       "\\end{array}$$"
      ],
      "text/plain": [
       "<IPython.core.display.Math object>"
      ]
     },
     "metadata": {},
     "output_type": "display_data"
    },
    {
     "data": {
      "application/vnd.jupyter.widget-view+json": {
       "model_id": "ccecfcd7365b426e842c8147a16f8713",
       "version_major": 2,
       "version_minor": 0
      },
      "text/plain": [
       "HBox(children=(FloatProgress(value=0.0, max=4.0), HTML(value='')))"
      ]
     },
     "metadata": {},
     "output_type": "display_data"
    },
    {
     "data": {
      "application/vnd.jupyter.widget-view+json": {
       "model_id": "",
       "version_major": 2,
       "version_minor": 0
      },
      "text/plain": [
       "HBox(children=(FloatProgress(value=1.0, bar_style='info', max=1.0), HTML(value='')))"
      ]
     },
     "metadata": {},
     "output_type": "display_data"
    },
    {
     "data": {
      "application/vnd.jupyter.widget-view+json": {
       "model_id": "0a0ef27ad29b4ce2bf7271ecf9ffc0dc",
       "version_major": 2,
       "version_minor": 0
      },
      "text/plain": [
       "HBox(children=(FloatProgress(value=1.0, bar_style='info', max=1.0), HTML(value='')))"
      ]
     },
     "metadata": {},
     "output_type": "display_data"
    },
    {
     "name": "stdout",
     "output_type": "stream",
     "text": [
      "\n",
      "--------------------------------------------------\n",
      "type A2, table for s=10:\n"
     ]
    },
    {
     "data": {
      "text/latex": [
       "$$\\begin{array}{r|l l l}\n",
       "\t{\\scriptstyle i+j=0}&L_{5,5}&&\\\\\n",
       "\t{\\scriptstyle i+j=2}&0&L_{5,4}L_{4,5}L_{5,5}^{2}L_{6,5}L_{5,6}&\\\\\n",
       "\t{\\scriptstyle i+j=4}&0&0&L_{5,5}\\\\\n",
       "\t\\hline h^{i,j}&{\\scriptstyle j-i=0}&{\\scriptstyle j-i=2}&{\\scriptstyle j-i=4}\n",
       "\\end{array}$$"
      ],
      "text/plain": [
       "<IPython.core.display.Math object>"
      ]
     },
     "metadata": {},
     "output_type": "display_data"
    },
    {
     "data": {
      "text/latex": [
       "$$\\begin{array}{r|l l l}\n",
       "\t{\\scriptstyle i+j=0}&216&&\\\\\n",
       "\t{\\scriptstyle i+j=2}&0&1260&\\\\\n",
       "\t{\\scriptstyle i+j=4}&0&0&216\\\\\n",
       "\t\\hline h^{i,j}&{\\scriptstyle j-i=0}&{\\scriptstyle j-i=2}&{\\scriptstyle j-i=4}\n",
       "\\end{array}$$"
      ],
      "text/plain": [
       "<IPython.core.display.Math object>"
      ]
     },
     "metadata": {},
     "output_type": "display_data"
    },
    {
     "data": {
      "text/latex": [
       "$$\\begin{array}{rll}\n",
       "\t\\text{module}&\\text{multiplicity}&\\text{dimension} \\\\ \\hline \\text{all}&&1692 \\\\\n",
       "\tL\\left( 5\\alpha_{1}+ 5\\alpha_{2}\\right)&4&216\\\\\n",
       "\tL\\left( 5\\alpha_{1}+ 4\\alpha_{2}\\right)&1&154\\\\\n",
       "\tL\\left( 4\\alpha_{1}+ 5\\alpha_{2}\\right)&1&154\\\\\n",
       "\tL\\left( 6\\alpha_{1}+ 5\\alpha_{2}\\right)&1&260\\\\\n",
       "\tL\\left( 5\\alpha_{1}+ 6\\alpha_{2}\\right)&1&260\n",
       "\\end{array}$$"
      ],
      "text/plain": [
       "<IPython.core.display.Math object>"
      ]
     },
     "metadata": {},
     "output_type": "display_data"
    },
    {
     "data": {
      "application/vnd.jupyter.widget-view+json": {
       "model_id": "2be3b106c67a4e14837f48db4034be10",
       "version_major": 2,
       "version_minor": 0
      },
      "text/plain": [
       "HBox(children=(FloatProgress(value=0.0, max=2.0), HTML(value='')))"
      ]
     },
     "metadata": {},
     "output_type": "display_data"
    },
    {
     "data": {
      "application/vnd.jupyter.widget-view+json": {
       "model_id": "",
       "version_major": 2,
       "version_minor": 0
      },
      "text/plain": [
       "HBox(children=(FloatProgress(value=1.0, bar_style='info', max=1.0), HTML(value='')))"
      ]
     },
     "metadata": {},
     "output_type": "display_data"
    },
    {
     "data": {
      "application/vnd.jupyter.widget-view+json": {
       "model_id": "3b905f809e6b4b4eb7921e2871ab883e",
       "version_major": 2,
       "version_minor": 0
      },
      "text/plain": [
       "HBox(children=(FloatProgress(value=1.0, bar_style='info', max=1.0), HTML(value='')))"
      ]
     },
     "metadata": {},
     "output_type": "display_data"
    },
    {
     "name": "stdout",
     "output_type": "stream",
     "text": [
      "\n",
      "--------------------------------------------------\n",
      "type A2, table for s=11:\n"
     ]
    },
    {
     "data": {
      "text/latex": [
       "$$\\begin{array}{r|l l}\n",
       "\t{\\scriptstyle i+j=1}&L_{5,5}L_{6,5}L_{5,6}L_{6,6}&\\\\\n",
       "\t{\\scriptstyle i+j=3}&0&L_{5,5}L_{6,5}L_{5,6}L_{6,6}\\\\\n",
       "\t\\hline h^{i,j}&{\\scriptstyle j-i=1}&{\\scriptstyle j-i=3}\n",
       "\\end{array}$$"
      ],
      "text/plain": [
       "<IPython.core.display.Math object>"
      ]
     },
     "metadata": {},
     "output_type": "display_data"
    },
    {
     "data": {
      "text/latex": [
       "$$\\begin{array}{r|l l}\n",
       "\t{\\scriptstyle i+j=1}&1079&\\\\\n",
       "\t{\\scriptstyle i+j=3}&0&1079\\\\\n",
       "\t\\hline h^{i,j}&{\\scriptstyle j-i=1}&{\\scriptstyle j-i=3}\n",
       "\\end{array}$$"
      ],
      "text/plain": [
       "<IPython.core.display.Math object>"
      ]
     },
     "metadata": {},
     "output_type": "display_data"
    },
    {
     "data": {
      "text/latex": [
       "$$\\begin{array}{rll}\n",
       "\t\\text{module}&\\text{multiplicity}&\\text{dimension} \\\\ \\hline \\text{all}&&2158 \\\\\n",
       "\tL\\left( 5\\alpha_{1}+ 5\\alpha_{2}\\right)&2&216\\\\\n",
       "\tL\\left( 6\\alpha_{1}+ 5\\alpha_{2}\\right)&2&260\\\\\n",
       "\tL\\left( 5\\alpha_{1}+ 6\\alpha_{2}\\right)&2&260\\\\\n",
       "\tL\\left( 6\\alpha_{1}+ 6\\alpha_{2}\\right)&2&343\n",
       "\\end{array}$$"
      ],
      "text/plain": [
       "<IPython.core.display.Math object>"
      ]
     },
     "metadata": {},
     "output_type": "display_data"
    },
    {
     "data": {
      "application/vnd.jupyter.widget-view+json": {
       "model_id": "698e320cc7214805a570f9f931eaa8e5",
       "version_major": 2,
       "version_minor": 0
      },
      "text/plain": [
       "HBox(children=(FloatProgress(value=0.0, max=4.0), HTML(value='')))"
      ]
     },
     "metadata": {},
     "output_type": "display_data"
    },
    {
     "data": {
      "application/vnd.jupyter.widget-view+json": {
       "model_id": "",
       "version_major": 2,
       "version_minor": 0
      },
      "text/plain": [
       "HBox(children=(FloatProgress(value=1.0, bar_style='info', max=1.0), HTML(value='')))"
      ]
     },
     "metadata": {},
     "output_type": "display_data"
    },
    {
     "data": {
      "application/vnd.jupyter.widget-view+json": {
       "model_id": "3c582d7a265b4502bf2c26dcaba01743",
       "version_major": 2,
       "version_minor": 0
      },
      "text/plain": [
       "HBox(children=(FloatProgress(value=1.0, bar_style='info', max=1.0), HTML(value='')))"
      ]
     },
     "metadata": {},
     "output_type": "display_data"
    },
    {
     "name": "stdout",
     "output_type": "stream",
     "text": [
      "\n",
      "--------------------------------------------------\n",
      "type A2, table for s=12:\n"
     ]
    },
    {
     "data": {
      "text/latex": [
       "$$\\begin{array}{r|l l l}\n",
       "\t{\\scriptstyle i+j=0}&L_{6,6}&&\\\\\n",
       "\t{\\scriptstyle i+j=2}&0&L_{6,5}L_{5,6}L_{6,6}^{2}L_{7,6}L_{6,7}&\\\\\n",
       "\t{\\scriptstyle i+j=4}&0&0&L_{6,6}\\\\\n",
       "\t\\hline h^{i,j}&{\\scriptstyle j-i=0}&{\\scriptstyle j-i=2}&{\\scriptstyle j-i=4}\n",
       "\\end{array}$$"
      ],
      "text/plain": [
       "<IPython.core.display.Math object>"
      ]
     },
     "metadata": {},
     "output_type": "display_data"
    },
    {
     "data": {
      "text/latex": [
       "$$\\begin{array}{r|l l l}\n",
       "\t{\\scriptstyle i+j=0}&343&&\\\\\n",
       "\t{\\scriptstyle i+j=2}&0&2016&\\\\\n",
       "\t{\\scriptstyle i+j=4}&0&0&343\\\\\n",
       "\t\\hline h^{i,j}&{\\scriptstyle j-i=0}&{\\scriptstyle j-i=2}&{\\scriptstyle j-i=4}\n",
       "\\end{array}$$"
      ],
      "text/plain": [
       "<IPython.core.display.Math object>"
      ]
     },
     "metadata": {},
     "output_type": "display_data"
    },
    {
     "data": {
      "text/latex": [
       "$$\\begin{array}{rll}\n",
       "\t\\text{module}&\\text{multiplicity}&\\text{dimension} \\\\ \\hline \\text{all}&&2702 \\\\\n",
       "\tL\\left( 6\\alpha_{1}+ 6\\alpha_{2}\\right)&4&343\\\\\n",
       "\tL\\left( 6\\alpha_{1}+ 5\\alpha_{2}\\right)&1&260\\\\\n",
       "\tL\\left( 5\\alpha_{1}+ 6\\alpha_{2}\\right)&1&260\\\\\n",
       "\tL\\left( 7\\alpha_{1}+ 6\\alpha_{2}\\right)&1&405\\\\\n",
       "\tL\\left( 6\\alpha_{1}+ 7\\alpha_{2}\\right)&1&405\n",
       "\\end{array}$$"
      ],
      "text/plain": [
       "<IPython.core.display.Math object>"
      ]
     },
     "metadata": {},
     "output_type": "display_data"
    },
    {
     "data": {
      "application/vnd.jupyter.widget-view+json": {
       "model_id": "dd6323e3853840378347bc1c00ad7f0d",
       "version_major": 2,
       "version_minor": 0
      },
      "text/plain": [
       "HBox(children=(FloatProgress(value=0.0, max=2.0), HTML(value='')))"
      ]
     },
     "metadata": {},
     "output_type": "display_data"
    },
    {
     "data": {
      "application/vnd.jupyter.widget-view+json": {
       "model_id": "",
       "version_major": 2,
       "version_minor": 0
      },
      "text/plain": [
       "HBox(children=(FloatProgress(value=1.0, bar_style='info', max=1.0), HTML(value='')))"
      ]
     },
     "metadata": {},
     "output_type": "display_data"
    },
    {
     "data": {
      "application/vnd.jupyter.widget-view+json": {
       "model_id": "98a3c077600a4078a3f8f0b2adafa385",
       "version_major": 2,
       "version_minor": 0
      },
      "text/plain": [
       "HBox(children=(FloatProgress(value=1.0, bar_style='info', max=1.0), HTML(value='')))"
      ]
     },
     "metadata": {},
     "output_type": "display_data"
    },
    {
     "name": "stdout",
     "output_type": "stream",
     "text": [
      "\n",
      "--------------------------------------------------\n",
      "type A2, table for s=13:\n"
     ]
    },
    {
     "data": {
      "text/latex": [
       "$$\\begin{array}{r|l l}\n",
       "\t{\\scriptstyle i+j=1}&L_{6,6}L_{7,6}L_{6,7}L_{7,7}&\\\\\n",
       "\t{\\scriptstyle i+j=3}&0&L_{6,6}L_{7,6}L_{6,7}L_{7,7}\\\\\n",
       "\t\\hline h^{i,j}&{\\scriptstyle j-i=1}&{\\scriptstyle j-i=3}\n",
       "\\end{array}$$"
      ],
      "text/plain": [
       "<IPython.core.display.Math object>"
      ]
     },
     "metadata": {},
     "output_type": "display_data"
    },
    {
     "data": {
      "text/latex": [
       "$$\\begin{array}{r|l l}\n",
       "\t{\\scriptstyle i+j=1}&1665&\\\\\n",
       "\t{\\scriptstyle i+j=3}&0&1665\\\\\n",
       "\t\\hline h^{i,j}&{\\scriptstyle j-i=1}&{\\scriptstyle j-i=3}\n",
       "\\end{array}$$"
      ],
      "text/plain": [
       "<IPython.core.display.Math object>"
      ]
     },
     "metadata": {},
     "output_type": "display_data"
    },
    {
     "data": {
      "text/latex": [
       "$$\\begin{array}{rll}\n",
       "\t\\text{module}&\\text{multiplicity}&\\text{dimension} \\\\ \\hline \\text{all}&&3330 \\\\\n",
       "\tL\\left( 6\\alpha_{1}+ 6\\alpha_{2}\\right)&2&343\\\\\n",
       "\tL\\left( 7\\alpha_{1}+ 6\\alpha_{2}\\right)&2&405\\\\\n",
       "\tL\\left( 6\\alpha_{1}+ 7\\alpha_{2}\\right)&2&405\\\\\n",
       "\tL\\left( 7\\alpha_{1}+ 7\\alpha_{2}\\right)&2&512\n",
       "\\end{array}$$"
      ],
      "text/plain": [
       "<IPython.core.display.Math object>"
      ]
     },
     "metadata": {},
     "output_type": "display_data"
    },
    {
     "data": {
      "application/vnd.jupyter.widget-view+json": {
       "model_id": "7ae716d70ddb46e980c84a52079c0c2e",
       "version_major": 2,
       "version_minor": 0
      },
      "text/plain": [
       "HBox(children=(FloatProgress(value=0.0, max=4.0), HTML(value='')))"
      ]
     },
     "metadata": {},
     "output_type": "display_data"
    },
    {
     "data": {
      "application/vnd.jupyter.widget-view+json": {
       "model_id": "b10bce70a4d04383bdb9a7ed0f7ca3e7",
       "version_major": 2,
       "version_minor": 0
      },
      "text/plain": [
       "HBox(children=(FloatProgress(value=1.0, bar_style='info', max=1.0), HTML(value='')))"
      ]
     },
     "metadata": {},
     "output_type": "display_data"
    },
    {
     "data": {
      "application/vnd.jupyter.widget-view+json": {
       "model_id": "10e63e6480e843d79d23c9ef42b27e4f",
       "version_major": 2,
       "version_minor": 0
      },
      "text/plain": [
       "HBox(children=(FloatProgress(value=1.0, bar_style='info', max=1.0), HTML(value='')))"
      ]
     },
     "metadata": {},
     "output_type": "display_data"
    }
   ],
   "source": [
    "import pickle\n",
    "import os\n",
    "import itertools\n",
    "# from os.path import join\n",
    "# from os import mkdir\n",
    "\n",
    "os.makedirs('pickles', exist_ok=True)\n",
    "os.makedirs('tables', exist_ok=True)\n",
    "\n",
    "diagram = 'A2'\n",
    "\n",
    "# Only compute cohomology for particular highest weight module\n",
    "mu = None\n",
    "#mu=(0,0,0)\n",
    "\n",
    "# the parameters we actually want to change\n",
    "BGG = BGGComplex(diagram)\n",
    "subset=[1]\n",
    "\n",
    "# compute only half of the table, extend by symmetry\n",
    "half_only = True\n",
    "extend_half = half_only\n",
    "\n",
    "# Exclude the top-left to bottom-right diagonal. If s=0, these should all be the trivial rep.\n",
    "exclude_diagonal = True\n",
    "\n",
    "# Display in full form\n",
    "compact = True\n",
    "\n",
    "# Load results if already computed\n",
    "load_pickle = True\n",
    "\n",
    "# Increase max memory size of the pari stack to 25GB\n",
    "pari.allocatemem(10^6,25*2^30)\n",
    "\n",
    "for s in itertools.count():\n",
    "    picklefile = os.path.join('pickles',f'{diagram}-s{s}-{subset}.pkl')\n",
    "    if load_pickle and os.path.isfile(picklefile):\n",
    "        previous_cohom = pickle.load(open(picklefile, 'rb'))\n",
    "    else:\n",
    "        previous_cohom = None\n",
    "    texfile = os.path.join('tables',f'{diagram}-s{s}-{subset}.tex')\n",
    "    cohom_dic = dict()\n",
    "    with tqdm(all_abijk(BGG,s=s,subset=subset,half_only=half_only)) as inner_pbar:\n",
    "        with tqdm(leave=None) as outer_pbar:\n",
    "            map_pbar = tqdm()\n",
    "            for a,b,i,j,k in inner_pbar:\n",
    "                if previous_cohom is not None and (a,b) in previous_cohom:\n",
    "                    cohom_dic[(a,b)]=previous_cohom[(a,b)]\n",
    "                    inner_pbar.update()\n",
    "                    continue\n",
    "                if exclude_diagonal and s==0 and (a==b):\n",
    "                    cohom_dic[(a,b)]=[((0,)*BGG.rank,1)]\n",
    "                    inner_pbar.update()\n",
    "                    continue\n",
    "                inner_pbar.set_description('i+j= %d, j-i = %d'%(a,b))\n",
    "                coker = Tijk_basis(BGG, i,j,k,subset=subset,pbar=outer_pbar)\n",
    "                outer_pbar.set_description('Initializing cohomology')\n",
    "                cohom = BGGCohomology(BGG, Mijk(BGG,i,j,k,subset=subset), \n",
    "                                      coker=coker,pbars = [outer_pbar,map_pbar])\n",
    "                outer_pbar.set_description('Computing cohomology')\n",
    "                cohom_list = cohom.cohomology(i, mu=mu)\n",
    "                cohom_dic[(a,b)] = cohom_list\n",
    "                with open(picklefile, 'wb') as f:\n",
    "                    pickle.dump(cohom_dic,f)   \n",
    "    print('-'*50)\n",
    "    print(f'type {diagram}, table for s={s}:')\n",
    "    cohom = BGGCohomology(BGG)\n",
    "    cohom_dic = extend_from_symmetry(cohom_dic)\n",
    "    latex_dic = {k:cohom.cohom_to_latex(c, compact=compact) for k,c in cohom_dic.items()}\n",
    "    betti_dic = {k:cohom.betti_number(c) for k,c in cohom_dic.items()}\n",
    "    tab1 = display_bigraded_table(latex_dic)\n",
    "    tab2 = display_bigraded_table(betti_dic)\n",
    "    tab3 = display_cohomology_stats(cohom_dic, BGG)\n",
    "    with open(texfile, 'w') as f:\n",
    "        f.write(prepare_texfile([tab1,tab2,tab3],title=f'type {diagram}, s={s}, subset={subset}'))"
   ]
  },
  {
   "cell_type": "code",
   "execution_count": null,
   "metadata": {},
   "outputs": [],
   "source": []
  }
 ],
 "metadata": {
  "kernelspec": {
   "display_name": "SageMath 9.0",
   "language": "sage",
   "name": "sagemath"
  },
  "language_info": {
   "codemirror_mode": {
    "name": "ipython",
    "version": 3
   },
   "file_extension": ".py",
   "mimetype": "text/x-python",
   "name": "python",
   "nbconvert_exporter": "python",
   "pygments_lexer": "ipython3",
   "version": "3.7.3"
  }
 },
 "nbformat": 4,
 "nbformat_minor": 2
}
