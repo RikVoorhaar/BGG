{
 "cells": [
  {
   "cell_type": "code",
   "execution_count": 1,
   "metadata": {},
   "outputs": [],
   "source": [
    "import sys\n",
    "sys.path.append('../bggcomplex')\n",
    "\n",
    "from bggcomplex import BGGComplex\n",
    "from fast_module import FastLieAlgebraCompositeModule, FastModuleFactory, BGGCohomology"
   ]
  },
  {
   "cell_type": "code",
   "execution_count": 6,
   "metadata": {},
   "outputs": [
    {
     "name": "stdout",
     "output_type": "stream",
     "text": [
      "--------------------------------------------------\n",
      "A1\n",
      "--------------------------------------------------\n"
     ]
    },
    {
     "data": {
      "text/latex": [
       "$$\\mathrm H^{0}(G/B,\\,(\\mathfrak u\\oplus \\mathfrak h)^2)=1 \\cdot\\left(2\\alpha_{1}\\right)+1 \\cdot 0+2 \\cdot\\left(1\\alpha_{1}\\right)$$"
      ],
      "text/plain": [
       "<IPython.core.display.Math object>"
      ]
     },
     "metadata": {},
     "output_type": "display_data"
    },
    {
     "data": {
      "text/latex": [
       "$$\\mathrm H^{1}(G/B,\\,(\\mathfrak u\\oplus \\mathfrak h)^2)=0$$"
      ],
      "text/plain": [
       "<IPython.core.display.Math object>"
      ]
     },
     "metadata": {},
     "output_type": "display_data"
    },
    {
     "name": "stdout",
     "output_type": "stream",
     "text": [
      "--------------------------------------------------\n",
      "A2\n",
      "--------------------------------------------------\n"
     ]
    },
    {
     "data": {
      "text/latex": [
       "$$\\mathrm H^{0}(G/B,\\,(\\mathfrak u\\oplus \\mathfrak h)^2)=1 \\cdot\\left(1\\alpha_{1}+2\\alpha_{2}\\right)+1 \\cdot\\left(2\\alpha_{1}+1\\alpha_{2}\\right)+1 \\cdot\\left(2\\alpha_{1}+2\\alpha_{2}\\right)+4 \\cdot 0+6 \\cdot\\left(1\\alpha_{1}+1\\alpha_{2}\\right)$$"
      ],
      "text/plain": [
       "<IPython.core.display.Math object>"
      ]
     },
     "metadata": {},
     "output_type": "display_data"
    },
    {
     "data": {
      "text/latex": [
       "$$\\mathrm H^{1}(G/B,\\,(\\mathfrak u\\oplus \\mathfrak h)^2)=0$$"
      ],
      "text/plain": [
       "<IPython.core.display.Math object>"
      ]
     },
     "metadata": {},
     "output_type": "display_data"
    },
    {
     "data": {
      "text/latex": [
       "$$\\mathrm H^{2}(G/B,\\,(\\mathfrak u\\oplus \\mathfrak h)^2)=0$$"
      ],
      "text/plain": [
       "<IPython.core.display.Math object>"
      ]
     },
     "metadata": {},
     "output_type": "display_data"
    },
    {
     "data": {
      "text/latex": [
       "$$\\mathrm H^{3}(G/B,\\,(\\mathfrak u\\oplus \\mathfrak h)^2)=0$$"
      ],
      "text/plain": [
       "<IPython.core.display.Math object>"
      ]
     },
     "metadata": {},
     "output_type": "display_data"
    },
    {
     "data": {
      "text/latex": [
       "$$\\mathrm H^{4}(G/B,\\,(\\mathfrak u\\oplus \\mathfrak h)^2)=0$$"
      ],
      "text/plain": [
       "<IPython.core.display.Math object>"
      ]
     },
     "metadata": {},
     "output_type": "display_data"
    },
    {
     "name": "stdout",
     "output_type": "stream",
     "text": [
      "--------------------------------------------------\n",
      "A3\n",
      "--------------------------------------------------\n"
     ]
    },
    {
     "data": {
      "text/latex": [
       "$$\\mathrm H^{0}(G/B,\\,(\\mathfrak u\\oplus \\mathfrak h)^2)=1 \\cdot\\left(1\\alpha_{1}+2\\alpha_{2}+2\\alpha_{3}\\right)+1 \\cdot\\left(2\\alpha_{1}+2\\alpha_{2}+2\\alpha_{3}\\right)+1 \\cdot\\left(2\\alpha_{1}+2\\alpha_{2}+1\\alpha_{3}\\right)+7 \\cdot\\left(1\\alpha_{1}+1\\alpha_{2}+1\\alpha_{3}\\right)+9 \\cdot 0$$"
      ],
      "text/plain": [
       "<IPython.core.display.Math object>"
      ]
     },
     "metadata": {},
     "output_type": "display_data"
    },
    {
     "data": {
      "text/latex": [
       "$$\\mathrm H^{1}(G/B,\\,(\\mathfrak u\\oplus \\mathfrak h)^2)=0$$"
      ],
      "text/plain": [
       "<IPython.core.display.Math object>"
      ]
     },
     "metadata": {},
     "output_type": "display_data"
    },
    {
     "data": {
      "text/latex": [
       "$$\\mathrm H^{2}(G/B,\\,(\\mathfrak u\\oplus \\mathfrak h)^2)=0$$"
      ],
      "text/plain": [
       "<IPython.core.display.Math object>"
      ]
     },
     "metadata": {},
     "output_type": "display_data"
    },
    {
     "data": {
      "text/latex": [
       "$$\\mathrm H^{3}(G/B,\\,(\\mathfrak u\\oplus \\mathfrak h)^2)=0$$"
      ],
      "text/plain": [
       "<IPython.core.display.Math object>"
      ]
     },
     "metadata": {},
     "output_type": "display_data"
    },
    {
     "data": {
      "text/latex": [
       "$$\\mathrm H^{4}(G/B,\\,(\\mathfrak u\\oplus \\mathfrak h)^2)=0$$"
      ],
      "text/plain": [
       "<IPython.core.display.Math object>"
      ]
     },
     "metadata": {},
     "output_type": "display_data"
    },
    {
     "data": {
      "text/latex": [
       "$$\\mathrm H^{5}(G/B,\\,(\\mathfrak u\\oplus \\mathfrak h)^2)=0$$"
      ],
      "text/plain": [
       "<IPython.core.display.Math object>"
      ]
     },
     "metadata": {},
     "output_type": "display_data"
    },
    {
     "data": {
      "text/latex": [
       "$$\\mathrm H^{6}(G/B,\\,(\\mathfrak u\\oplus \\mathfrak h)^2)=0$$"
      ],
      "text/plain": [
       "<IPython.core.display.Math object>"
      ]
     },
     "metadata": {},
     "output_type": "display_data"
    },
    {
     "data": {
      "text/latex": [
       "$$\\mathrm H^{7}(G/B,\\,(\\mathfrak u\\oplus \\mathfrak h)^2)=0$$"
      ],
      "text/plain": [
       "<IPython.core.display.Math object>"
      ]
     },
     "metadata": {},
     "output_type": "display_data"
    },
    {
     "data": {
      "text/latex": [
       "$$\\mathrm H^{8}(G/B,\\,(\\mathfrak u\\oplus \\mathfrak h)^2)=0$$"
      ],
      "text/plain": [
       "<IPython.core.display.Math object>"
      ]
     },
     "metadata": {},
     "output_type": "display_data"
    },
    {
     "name": "stdout",
     "output_type": "stream",
     "text": [
      "--------------------------------------------------\n",
      "A4\n",
      "--------------------------------------------------\n"
     ]
    },
    {
     "data": {
      "text/latex": [
       "$$\\mathrm H^{0}(G/B,\\,(\\mathfrak u\\oplus \\mathfrak h)^2)=1 \\cdot\\left(1\\alpha_{1}+2\\alpha_{2}+2\\alpha_{3}+2\\alpha_{4}\\right)+1 \\cdot\\left(2\\alpha_{1}+2\\alpha_{2}+2\\alpha_{3}+2\\alpha_{4}\\right)+10 \\cdot\\left(1\\alpha_{1}+1\\alpha_{2}+1\\alpha_{3}+1\\alpha_{4}\\right)+16 \\cdot 0$$"
      ],
      "text/plain": [
       "<IPython.core.display.Math object>"
      ]
     },
     "metadata": {},
     "output_type": "display_data"
    },
    {
     "data": {
      "text/latex": [
       "$$\\mathrm H^{1}(G/B,\\,(\\mathfrak u\\oplus \\mathfrak h)^2)=0$$"
      ],
      "text/plain": [
       "<IPython.core.display.Math object>"
      ]
     },
     "metadata": {},
     "output_type": "display_data"
    },
    {
     "data": {
      "text/latex": [
       "$$\\mathrm H^{2}(G/B,\\,(\\mathfrak u\\oplus \\mathfrak h)^2)=0$$"
      ],
      "text/plain": [
       "<IPython.core.display.Math object>"
      ]
     },
     "metadata": {},
     "output_type": "display_data"
    },
    {
     "data": {
      "text/latex": [
       "$$\\mathrm H^{3}(G/B,\\,(\\mathfrak u\\oplus \\mathfrak h)^2)=0$$"
      ],
      "text/plain": [
       "<IPython.core.display.Math object>"
      ]
     },
     "metadata": {},
     "output_type": "display_data"
    },
    {
     "data": {
      "text/latex": [
       "$$\\mathrm H^{4}(G/B,\\,(\\mathfrak u\\oplus \\mathfrak h)^2)=0$$"
      ],
      "text/plain": [
       "<IPython.core.display.Math object>"
      ]
     },
     "metadata": {},
     "output_type": "display_data"
    },
    {
     "data": {
      "text/latex": [
       "$$\\mathrm H^{5}(G/B,\\,(\\mathfrak u\\oplus \\mathfrak h)^2)=0$$"
      ],
      "text/plain": [
       "<IPython.core.display.Math object>"
      ]
     },
     "metadata": {},
     "output_type": "display_data"
    },
    {
     "data": {
      "text/latex": [
       "$$\\mathrm H^{6}(G/B,\\,(\\mathfrak u\\oplus \\mathfrak h)^2)=0$$"
      ],
      "text/plain": [
       "<IPython.core.display.Math object>"
      ]
     },
     "metadata": {},
     "output_type": "display_data"
    },
    {
     "data": {
      "text/latex": [
       "$$\\mathrm H^{7}(G/B,\\,(\\mathfrak u\\oplus \\mathfrak h)^2)=0$$"
      ],
      "text/plain": [
       "<IPython.core.display.Math object>"
      ]
     },
     "metadata": {},
     "output_type": "display_data"
    },
    {
     "data": {
      "text/latex": [
       "$$\\mathrm H^{8}(G/B,\\,(\\mathfrak u\\oplus \\mathfrak h)^2)=0$$"
      ],
      "text/plain": [
       "<IPython.core.display.Math object>"
      ]
     },
     "metadata": {},
     "output_type": "display_data"
    },
    {
     "data": {
      "text/latex": [
       "$$\\mathrm H^{9}(G/B,\\,(\\mathfrak u\\oplus \\mathfrak h)^2)=0$$"
      ],
      "text/plain": [
       "<IPython.core.display.Math object>"
      ]
     },
     "metadata": {},
     "output_type": "display_data"
    },
    {
     "data": {
      "text/latex": [
       "$$\\mathrm H^{10}(G/B,\\,(\\mathfrak u\\oplus \\mathfrak h)^2)=0$$"
      ],
      "text/plain": [
       "<IPython.core.display.Math object>"
      ]
     },
     "metadata": {},
     "output_type": "display_data"
    },
    {
     "data": {
      "text/latex": [
       "$$\\mathrm H^{11}(G/B,\\,(\\mathfrak u\\oplus \\mathfrak h)^2)=0$$"
      ],
      "text/plain": [
       "<IPython.core.display.Math object>"
      ]
     },
     "metadata": {},
     "output_type": "display_data"
    },
    {
     "data": {
      "text/latex": [
       "$$\\mathrm H^{12}(G/B,\\,(\\mathfrak u\\oplus \\mathfrak h)^2)=0$$"
      ],
      "text/plain": [
       "<IPython.core.display.Math object>"
      ]
     },
     "metadata": {},
     "output_type": "display_data"
    },
    {
     "data": {
      "text/latex": [
       "$$\\mathrm H^{13}(G/B,\\,(\\mathfrak u\\oplus \\mathfrak h)^2)=0$$"
      ],
      "text/plain": [
       "<IPython.core.display.Math object>"
      ]
     },
     "metadata": {},
     "output_type": "display_data"
    },
    {
     "name": "stdout",
     "output_type": "stream",
     "text": [
      "--------------------------------------------------\n",
      "B1\n",
      "--------------------------------------------------\n"
     ]
    },
    {
     "data": {
      "text/latex": [
       "$$\\mathrm H^{0}(G/B,\\,(\\mathfrak u\\oplus \\mathfrak h)^2)=1 \\cdot\\left(2\\alpha_{1}\\right)+1 \\cdot 0+2 \\cdot\\left(1\\alpha_{1}\\right)$$"
      ],
      "text/plain": [
       "<IPython.core.display.Math object>"
      ]
     },
     "metadata": {},
     "output_type": "display_data"
    },
    {
     "data": {
      "text/latex": [
       "$$\\mathrm H^{1}(G/B,\\,(\\mathfrak u\\oplus \\mathfrak h)^2)=0$$"
      ],
      "text/plain": [
       "<IPython.core.display.Math object>"
      ]
     },
     "metadata": {},
     "output_type": "display_data"
    },
    {
     "name": "stdout",
     "output_type": "stream",
     "text": [
      "--------------------------------------------------\n",
      "B2\n",
      "--------------------------------------------------\n"
     ]
    },
    {
     "data": {
      "text/latex": [
       "$$\\mathrm H^{0}(G/B,\\,(\\mathfrak u\\oplus \\mathfrak h)^2)=1 \\cdot\\left(2\\alpha_{1}+2\\alpha_{2}\\right)+1 \\cdot\\left(2\\alpha_{1}+4\\alpha_{2}\\right)+2 \\cdot\\left(1\\alpha_{1}+1\\alpha_{2}\\right)+2 \\cdot\\left(2\\alpha_{1}+3\\alpha_{2}\\right)+4 \\cdot\\left(1\\alpha_{1}+2\\alpha_{2}\\right)+4 \\cdot 0$$"
      ],
      "text/plain": [
       "<IPython.core.display.Math object>"
      ]
     },
     "metadata": {},
     "output_type": "display_data"
    },
    {
     "data": {
      "text/latex": [
       "$$\\mathrm H^{1}(G/B,\\,(\\mathfrak u\\oplus \\mathfrak h)^2)=1 \\cdot\\left(2\\alpha_{1}+3\\alpha_{2}\\right)$$"
      ],
      "text/plain": [
       "<IPython.core.display.Math object>"
      ]
     },
     "metadata": {},
     "output_type": "display_data"
    },
    {
     "data": {
      "text/latex": [
       "$$\\mathrm H^{2}(G/B,\\,(\\mathfrak u\\oplus \\mathfrak h)^2)=0$$"
      ],
      "text/plain": [
       "<IPython.core.display.Math object>"
      ]
     },
     "metadata": {},
     "output_type": "display_data"
    },
    {
     "data": {
      "text/latex": [
       "$$\\mathrm H^{3}(G/B,\\,(\\mathfrak u\\oplus \\mathfrak h)^2)=0$$"
      ],
      "text/plain": [
       "<IPython.core.display.Math object>"
      ]
     },
     "metadata": {},
     "output_type": "display_data"
    },
    {
     "data": {
      "text/latex": [
       "$$\\mathrm H^{4}(G/B,\\,(\\mathfrak u\\oplus \\mathfrak h)^2)=0$$"
      ],
      "text/plain": [
       "<IPython.core.display.Math object>"
      ]
     },
     "metadata": {},
     "output_type": "display_data"
    },
    {
     "data": {
      "text/latex": [
       "$$\\mathrm H^{5}(G/B,\\,(\\mathfrak u\\oplus \\mathfrak h)^2)=0$$"
      ],
      "text/plain": [
       "<IPython.core.display.Math object>"
      ]
     },
     "metadata": {},
     "output_type": "display_data"
    },
    {
     "name": "stdout",
     "output_type": "stream",
     "text": [
      "--------------------------------------------------\n",
      "B3\n",
      "--------------------------------------------------\n"
     ]
    },
    {
     "data": {
      "text/latex": [
       "$$\\mathrm H^{0}(G/B,\\,(\\mathfrak u\\oplus \\mathfrak h)^2)=1 \\cdot\\left(2\\alpha_{1}+4\\alpha_{2}+4\\alpha_{3}\\right)+3 \\cdot\\left(1\\alpha_{1}+2\\alpha_{2}+2\\alpha_{3}\\right)+9 \\cdot 0$$"
      ],
      "text/plain": [
       "<IPython.core.display.Math object>"
      ]
     },
     "metadata": {},
     "output_type": "display_data"
    },
    {
     "data": {
      "text/latex": [
       "$$\\mathrm H^{1}(G/B,\\,(\\mathfrak u\\oplus \\mathfrak h)^2)=0$$"
      ],
      "text/plain": [
       "<IPython.core.display.Math object>"
      ]
     },
     "metadata": {},
     "output_type": "display_data"
    },
    {
     "data": {
      "text/latex": [
       "$$\\mathrm H^{2}(G/B,\\,(\\mathfrak u\\oplus \\mathfrak h)^2)=0$$"
      ],
      "text/plain": [
       "<IPython.core.display.Math object>"
      ]
     },
     "metadata": {},
     "output_type": "display_data"
    },
    {
     "data": {
      "text/latex": [
       "$$\\mathrm H^{3}(G/B,\\,(\\mathfrak u\\oplus \\mathfrak h)^2)=0$$"
      ],
      "text/plain": [
       "<IPython.core.display.Math object>"
      ]
     },
     "metadata": {},
     "output_type": "display_data"
    },
    {
     "data": {
      "text/latex": [
       "$$\\mathrm H^{4}(G/B,\\,(\\mathfrak u\\oplus \\mathfrak h)^2)=0$$"
      ],
      "text/plain": [
       "<IPython.core.display.Math object>"
      ]
     },
     "metadata": {},
     "output_type": "display_data"
    },
    {
     "data": {
      "text/latex": [
       "$$\\mathrm H^{5}(G/B,\\,(\\mathfrak u\\oplus \\mathfrak h)^2)=0$$"
      ],
      "text/plain": [
       "<IPython.core.display.Math object>"
      ]
     },
     "metadata": {},
     "output_type": "display_data"
    },
    {
     "data": {
      "text/latex": [
       "$$\\mathrm H^{6}(G/B,\\,(\\mathfrak u\\oplus \\mathfrak h)^2)=0$$"
      ],
      "text/plain": [
       "<IPython.core.display.Math object>"
      ]
     },
     "metadata": {},
     "output_type": "display_data"
    },
    {
     "data": {
      "text/latex": [
       "$$\\mathrm H^{7}(G/B,\\,(\\mathfrak u\\oplus \\mathfrak h)^2)=0$$"
      ],
      "text/plain": [
       "<IPython.core.display.Math object>"
      ]
     },
     "metadata": {},
     "output_type": "display_data"
    },
    {
     "data": {
      "text/latex": [
       "$$\\mathrm H^{8}(G/B,\\,(\\mathfrak u\\oplus \\mathfrak h)^2)=0$$"
      ],
      "text/plain": [
       "<IPython.core.display.Math object>"
      ]
     },
     "metadata": {},
     "output_type": "display_data"
    },
    {
     "data": {
      "text/latex": [
       "$$\\mathrm H^{9}(G/B,\\,(\\mathfrak u\\oplus \\mathfrak h)^2)=0$$"
      ],
      "text/plain": [
       "<IPython.core.display.Math object>"
      ]
     },
     "metadata": {},
     "output_type": "display_data"
    },
    {
     "data": {
      "text/latex": [
       "$$\\mathrm H^{10}(G/B,\\,(\\mathfrak u\\oplus \\mathfrak h)^2)=0$$"
      ],
      "text/plain": [
       "<IPython.core.display.Math object>"
      ]
     },
     "metadata": {},
     "output_type": "display_data"
    },
    {
     "data": {
      "text/latex": [
       "$$\\mathrm H^{11}(G/B,\\,(\\mathfrak u\\oplus \\mathfrak h)^2)=0$$"
      ],
      "text/plain": [
       "<IPython.core.display.Math object>"
      ]
     },
     "metadata": {},
     "output_type": "display_data"
    },
    {
     "name": "stdout",
     "output_type": "stream",
     "text": [
      "--------------------------------------------------\n",
      "C1\n",
      "--------------------------------------------------\n"
     ]
    },
    {
     "data": {
      "text/latex": [
       "$$\\mathrm H^{0}(G/B,\\,(\\mathfrak u\\oplus \\mathfrak h)^2)=1 \\cdot\\left(2\\alpha_{1}\\right)+1 \\cdot 0+2 \\cdot\\left(1\\alpha_{1}\\right)$$"
      ],
      "text/plain": [
       "<IPython.core.display.Math object>"
      ]
     },
     "metadata": {},
     "output_type": "display_data"
    },
    {
     "data": {
      "text/latex": [
       "$$\\mathrm H^{1}(G/B,\\,(\\mathfrak u\\oplus \\mathfrak h)^2)=0$$"
      ],
      "text/plain": [
       "<IPython.core.display.Math object>"
      ]
     },
     "metadata": {},
     "output_type": "display_data"
    },
    {
     "name": "stdout",
     "output_type": "stream",
     "text": [
      "--------------------------------------------------\n",
      "C2\n",
      "--------------------------------------------------\n"
     ]
    },
    {
     "data": {
      "text/latex": [
       "$$\\mathrm H^{0}(G/B,\\,(\\mathfrak u\\oplus \\mathfrak h)^2)=1 \\cdot\\left(4\\alpha_{1}+2\\alpha_{2}\\right)+1 \\cdot\\left(1\\alpha_{1}+1\\alpha_{2}\\right)+2 \\cdot\\left(3\\alpha_{1}+2\\alpha_{2}\\right)+4 \\cdot 0+5 \\cdot\\left(2\\alpha_{1}+1\\alpha_{2}\\right)$$"
      ],
      "text/plain": [
       "<IPython.core.display.Math object>"
      ]
     },
     "metadata": {},
     "output_type": "display_data"
    },
    {
     "data": {
      "text/latex": [
       "$$\\mathrm H^{1}(G/B,\\,(\\mathfrak u\\oplus \\mathfrak h)^2)=1 \\cdot\\left(3\\alpha_{1}+2\\alpha_{2}\\right)$$"
      ],
      "text/plain": [
       "<IPython.core.display.Math object>"
      ]
     },
     "metadata": {},
     "output_type": "display_data"
    },
    {
     "data": {
      "text/latex": [
       "$$\\mathrm H^{2}(G/B,\\,(\\mathfrak u\\oplus \\mathfrak h)^2)=0$$"
      ],
      "text/plain": [
       "<IPython.core.display.Math object>"
      ]
     },
     "metadata": {},
     "output_type": "display_data"
    },
    {
     "data": {
      "text/latex": [
       "$$\\mathrm H^{3}(G/B,\\,(\\mathfrak u\\oplus \\mathfrak h)^2)=0$$"
      ],
      "text/plain": [
       "<IPython.core.display.Math object>"
      ]
     },
     "metadata": {},
     "output_type": "display_data"
    },
    {
     "data": {
      "text/latex": [
       "$$\\mathrm H^{4}(G/B,\\,(\\mathfrak u\\oplus \\mathfrak h)^2)=0$$"
      ],
      "text/plain": [
       "<IPython.core.display.Math object>"
      ]
     },
     "metadata": {},
     "output_type": "display_data"
    },
    {
     "data": {
      "text/latex": [
       "$$\\mathrm H^{5}(G/B,\\,(\\mathfrak u\\oplus \\mathfrak h)^2)=0$$"
      ],
      "text/plain": [
       "<IPython.core.display.Math object>"
      ]
     },
     "metadata": {},
     "output_type": "display_data"
    },
    {
     "name": "stdout",
     "output_type": "stream",
     "text": [
      "--------------------------------------------------\n",
      "C3\n",
      "--------------------------------------------------\n"
     ]
    },
    {
     "data": {
      "text/latex": [
       "$$\\mathrm H^{0}(G/B,\\,(\\mathfrak u\\oplus \\mathfrak h)^2)=1 \\cdot\\left(4\\alpha_{1}+4\\alpha_{2}+2\\alpha_{3}\\right)+1 \\cdot\\left(2\\alpha_{1}+4\\alpha_{2}+2\\alpha_{3}\\right)+2 \\cdot\\left(3\\alpha_{1}+4\\alpha_{2}+2\\alpha_{3}\\right)+6 \\cdot\\left(2\\alpha_{1}+2\\alpha_{2}+1\\alpha_{3}\\right)+9 \\cdot 0$$"
      ],
      "text/plain": [
       "<IPython.core.display.Math object>"
      ]
     },
     "metadata": {},
     "output_type": "display_data"
    },
    {
     "data": {
      "text/latex": [
       "$$\\mathrm H^{1}(G/B,\\,(\\mathfrak u\\oplus \\mathfrak h)^2)=1 \\cdot\\left(3\\alpha_{1}+4\\alpha_{2}+2\\alpha_{3}\\right)$$"
      ],
      "text/plain": [
       "<IPython.core.display.Math object>"
      ]
     },
     "metadata": {},
     "output_type": "display_data"
    },
    {
     "data": {
      "text/latex": [
       "$$\\mathrm H^{2}(G/B,\\,(\\mathfrak u\\oplus \\mathfrak h)^2)=0$$"
      ],
      "text/plain": [
       "<IPython.core.display.Math object>"
      ]
     },
     "metadata": {},
     "output_type": "display_data"
    },
    {
     "data": {
      "text/latex": [
       "$$\\mathrm H^{3}(G/B,\\,(\\mathfrak u\\oplus \\mathfrak h)^2)=0$$"
      ],
      "text/plain": [
       "<IPython.core.display.Math object>"
      ]
     },
     "metadata": {},
     "output_type": "display_data"
    },
    {
     "data": {
      "text/latex": [
       "$$\\mathrm H^{4}(G/B,\\,(\\mathfrak u\\oplus \\mathfrak h)^2)=0$$"
      ],
      "text/plain": [
       "<IPython.core.display.Math object>"
      ]
     },
     "metadata": {},
     "output_type": "display_data"
    },
    {
     "data": {
      "text/latex": [
       "$$\\mathrm H^{5}(G/B,\\,(\\mathfrak u\\oplus \\mathfrak h)^2)=0$$"
      ],
      "text/plain": [
       "<IPython.core.display.Math object>"
      ]
     },
     "metadata": {},
     "output_type": "display_data"
    },
    {
     "data": {
      "text/latex": [
       "$$\\mathrm H^{6}(G/B,\\,(\\mathfrak u\\oplus \\mathfrak h)^2)=0$$"
      ],
      "text/plain": [
       "<IPython.core.display.Math object>"
      ]
     },
     "metadata": {},
     "output_type": "display_data"
    },
    {
     "data": {
      "text/latex": [
       "$$\\mathrm H^{7}(G/B,\\,(\\mathfrak u\\oplus \\mathfrak h)^2)=0$$"
      ],
      "text/plain": [
       "<IPython.core.display.Math object>"
      ]
     },
     "metadata": {},
     "output_type": "display_data"
    },
    {
     "data": {
      "text/latex": [
       "$$\\mathrm H^{8}(G/B,\\,(\\mathfrak u\\oplus \\mathfrak h)^2)=0$$"
      ],
      "text/plain": [
       "<IPython.core.display.Math object>"
      ]
     },
     "metadata": {},
     "output_type": "display_data"
    },
    {
     "data": {
      "text/latex": [
       "$$\\mathrm H^{9}(G/B,\\,(\\mathfrak u\\oplus \\mathfrak h)^2)=0$$"
      ],
      "text/plain": [
       "<IPython.core.display.Math object>"
      ]
     },
     "metadata": {},
     "output_type": "display_data"
    },
    {
     "data": {
      "text/latex": [
       "$$\\mathrm H^{10}(G/B,\\,(\\mathfrak u\\oplus \\mathfrak h)^2)=0$$"
      ],
      "text/plain": [
       "<IPython.core.display.Math object>"
      ]
     },
     "metadata": {},
     "output_type": "display_data"
    },
    {
     "data": {
      "text/latex": [
       "$$\\mathrm H^{11}(G/B,\\,(\\mathfrak u\\oplus \\mathfrak h)^2)=0$$"
      ],
      "text/plain": [
       "<IPython.core.display.Math object>"
      ]
     },
     "metadata": {},
     "output_type": "display_data"
    },
    {
     "name": "stdout",
     "output_type": "stream",
     "text": [
      "--------------------------------------------------\n",
      "D2\n",
      "--------------------------------------------------\n"
     ]
    },
    {
     "data": {
      "text/latex": [
       "$$\\mathrm H^{0}(G/B,\\,(\\mathfrak u\\oplus \\mathfrak h)^2)=1 \\cdot\\left(2\\alpha_{1}\\right)+1 \\cdot\\left(2\\alpha_{2}\\right)+2 \\cdot\\left(1\\alpha_{1}+1\\alpha_{2}\\right)+4 \\cdot\\left(1\\alpha_{2}\\right)+4 \\cdot 0+4 \\cdot\\left(1\\alpha_{1}\\right)$$"
      ],
      "text/plain": [
       "<IPython.core.display.Math object>"
      ]
     },
     "metadata": {},
     "output_type": "display_data"
    },
    {
     "data": {
      "text/latex": [
       "$$\\mathrm H^{1}(G/B,\\,(\\mathfrak u\\oplus \\mathfrak h)^2)=0$$"
      ],
      "text/plain": [
       "<IPython.core.display.Math object>"
      ]
     },
     "metadata": {},
     "output_type": "display_data"
    },
    {
     "data": {
      "text/latex": [
       "$$\\mathrm H^{2}(G/B,\\,(\\mathfrak u\\oplus \\mathfrak h)^2)=0$$"
      ],
      "text/plain": [
       "<IPython.core.display.Math object>"
      ]
     },
     "metadata": {},
     "output_type": "display_data"
    },
    {
     "data": {
      "text/latex": [
       "$$\\mathrm H^{3}(G/B,\\,(\\mathfrak u\\oplus \\mathfrak h)^2)=0$$"
      ],
      "text/plain": [
       "<IPython.core.display.Math object>"
      ]
     },
     "metadata": {},
     "output_type": "display_data"
    },
    {
     "name": "stdout",
     "output_type": "stream",
     "text": [
      "--------------------------------------------------\n",
      "D3\n",
      "--------------------------------------------------\n"
     ]
    },
    {
     "data": {
      "text/latex": [
       "$$\\mathrm H^{0}(G/B,\\,(\\mathfrak u\\oplus \\mathfrak h)^2)=1 \\cdot\\left(2\\alpha_{1}+2\\alpha_{2}+1\\alpha_{3}\\right)+1 \\cdot\\left(2\\alpha_{1}+2\\alpha_{2}+2\\alpha_{3}\\right)+1 \\cdot\\left(2\\alpha_{1}+1\\alpha_{2}+2\\alpha_{3}\\right)+8 \\cdot\\left(1\\alpha_{1}+1\\alpha_{2}+1\\alpha_{3}\\right)+9 \\cdot 0$$"
      ],
      "text/plain": [
       "<IPython.core.display.Math object>"
      ]
     },
     "metadata": {},
     "output_type": "display_data"
    },
    {
     "data": {
      "text/latex": [
       "$$\\mathrm H^{1}(G/B,\\,(\\mathfrak u\\oplus \\mathfrak h)^2)=0$$"
      ],
      "text/plain": [
       "<IPython.core.display.Math object>"
      ]
     },
     "metadata": {},
     "output_type": "display_data"
    },
    {
     "data": {
      "text/latex": [
       "$$\\mathrm H^{2}(G/B,\\,(\\mathfrak u\\oplus \\mathfrak h)^2)=0$$"
      ],
      "text/plain": [
       "<IPython.core.display.Math object>"
      ]
     },
     "metadata": {},
     "output_type": "display_data"
    },
    {
     "data": {
      "text/latex": [
       "$$\\mathrm H^{3}(G/B,\\,(\\mathfrak u\\oplus \\mathfrak h)^2)=0$$"
      ],
      "text/plain": [
       "<IPython.core.display.Math object>"
      ]
     },
     "metadata": {},
     "output_type": "display_data"
    },
    {
     "data": {
      "text/latex": [
       "$$\\mathrm H^{4}(G/B,\\,(\\mathfrak u\\oplus \\mathfrak h)^2)=0$$"
      ],
      "text/plain": [
       "<IPython.core.display.Math object>"
      ]
     },
     "metadata": {},
     "output_type": "display_data"
    },
    {
     "data": {
      "text/latex": [
       "$$\\mathrm H^{5}(G/B,\\,(\\mathfrak u\\oplus \\mathfrak h)^2)=0$$"
      ],
      "text/plain": [
       "<IPython.core.display.Math object>"
      ]
     },
     "metadata": {},
     "output_type": "display_data"
    },
    {
     "data": {
      "text/latex": [
       "$$\\mathrm H^{6}(G/B,\\,(\\mathfrak u\\oplus \\mathfrak h)^2)=0$$"
      ],
      "text/plain": [
       "<IPython.core.display.Math object>"
      ]
     },
     "metadata": {},
     "output_type": "display_data"
    },
    {
     "data": {
      "text/latex": [
       "$$\\mathrm H^{7}(G/B,\\,(\\mathfrak u\\oplus \\mathfrak h)^2)=0$$"
      ],
      "text/plain": [
       "<IPython.core.display.Math object>"
      ]
     },
     "metadata": {},
     "output_type": "display_data"
    },
    {
     "data": {
      "text/latex": [
       "$$\\mathrm H^{8}(G/B,\\,(\\mathfrak u\\oplus \\mathfrak h)^2)=0$$"
      ],
      "text/plain": [
       "<IPython.core.display.Math object>"
      ]
     },
     "metadata": {},
     "output_type": "display_data"
    },
    {
     "name": "stdout",
     "output_type": "stream",
     "text": [
      "--------------------------------------------------\n",
      "G2\n",
      "--------------------------------------------------\n"
     ]
    },
    {
     "data": {
      "text/latex": [
       "$$\\mathrm H^{0}(G/B,\\,(\\mathfrak u\\oplus \\mathfrak h)^2)=1 \\cdot\\left(6\\alpha_{1}+4\\alpha_{2}\\right)+1 \\cdot\\left(2\\alpha_{1}+1\\alpha_{2}\\right)+4 \\cdot\\left(3\\alpha_{1}+2\\alpha_{2}\\right)+4 \\cdot 0$$"
      ],
      "text/plain": [
       "<IPython.core.display.Math object>"
      ]
     },
     "metadata": {},
     "output_type": "display_data"
    },
    {
     "data": {
      "text/latex": [
       "$$\\mathrm H^{1}(G/B,\\,(\\mathfrak u\\oplus \\mathfrak h)^2)=0$$"
      ],
      "text/plain": [
       "<IPython.core.display.Math object>"
      ]
     },
     "metadata": {},
     "output_type": "display_data"
    },
    {
     "data": {
      "text/latex": [
       "$$\\mathrm H^{2}(G/B,\\,(\\mathfrak u\\oplus \\mathfrak h)^2)=0$$"
      ],
      "text/plain": [
       "<IPython.core.display.Math object>"
      ]
     },
     "metadata": {},
     "output_type": "display_data"
    },
    {
     "data": {
      "text/latex": [
       "$$\\mathrm H^{3}(G/B,\\,(\\mathfrak u\\oplus \\mathfrak h)^2)=0$$"
      ],
      "text/plain": [
       "<IPython.core.display.Math object>"
      ]
     },
     "metadata": {},
     "output_type": "display_data"
    },
    {
     "data": {
      "text/latex": [
       "$$\\mathrm H^{4}(G/B,\\,(\\mathfrak u\\oplus \\mathfrak h)^2)=0$$"
      ],
      "text/plain": [
       "<IPython.core.display.Math object>"
      ]
     },
     "metadata": {},
     "output_type": "display_data"
    },
    {
     "data": {
      "text/latex": [
       "$$\\mathrm H^{5}(G/B,\\,(\\mathfrak u\\oplus \\mathfrak h)^2)=0$$"
      ],
      "text/plain": [
       "<IPython.core.display.Math object>"
      ]
     },
     "metadata": {},
     "output_type": "display_data"
    },
    {
     "data": {
      "text/latex": [
       "$$\\mathrm H^{6}(G/B,\\,(\\mathfrak u\\oplus \\mathfrak h)^2)=0$$"
      ],
      "text/plain": [
       "<IPython.core.display.Math object>"
      ]
     },
     "metadata": {},
     "output_type": "display_data"
    },
    {
     "data": {
      "text/latex": [
       "$$\\mathrm H^{7}(G/B,\\,(\\mathfrak u\\oplus \\mathfrak h)^2)=0$$"
      ],
      "text/plain": [
       "<IPython.core.display.Math object>"
      ]
     },
     "metadata": {},
     "output_type": "display_data"
    }
   ],
   "source": [
    "diagrams = ['A1','A2','A3','A4','B1','B2','B3','C1','C2','C3','D2','D3','G2']\n",
    "for d in diagrams:\n",
    "    print('-'*50)\n",
    "    print(d)\n",
    "    print('-'*50)\n",
    "    BGG = BGGComplex(d)\n",
    "    f_factory = FastModuleFactory(BGG.LA)\n",
    "    component_dic = {'b':f_factory.build_component('b+','coad')}\n",
    "    components = [[(\"b\",1,'wedge'),(\"b\",1,'wedge')]]\n",
    "\n",
    "    module = FastLieAlgebraCompositeModule(f_factory.weight_dic, components, component_dic)\n",
    "\n",
    "    cohom = BGGCohomology(BGG, module)\n",
    "    basis_len = len(component_dic['b'].basis)\n",
    "\n",
    "    for i in range(basis_len):\n",
    "        cohom.cohomology_LaTeX(i,complex_string=r'G/B,\\,(\\mathfrak u\\oplus \\mathfrak h)^2')"
   ]
  },
  {
   "cell_type": "code",
   "execution_count": 61,
   "metadata": {},
   "outputs": [
    {
     "name": "stdout",
     "output_type": "stream",
     "text": [
      "--------------------------------------------------\n",
      "A2\n",
      "--------------------------------------------------\n"
     ]
    },
    {
     "data": {
      "text/latex": [
       "$$\\mathrm H^{0}(G/B,\\,\\mathfrak b^{3})=0$$"
      ],
      "text/plain": [
       "<IPython.core.display.Math object>"
      ]
     },
     "metadata": {},
     "output_type": "display_data"
    },
    {
     "data": {
      "text/latex": [
       "$$\\mathrm H^{1}(G/B,\\,\\mathfrak b^{3})=0$$"
      ],
      "text/plain": [
       "<IPython.core.display.Math object>"
      ]
     },
     "metadata": {},
     "output_type": "display_data"
    },
    {
     "data": {
      "text/latex": [
       "$$\\mathrm H^{2}(G/B,\\,\\mathfrak b^{3})=3 \\cdot 0$$"
      ],
      "text/plain": [
       "<IPython.core.display.Math object>"
      ]
     },
     "metadata": {},
     "output_type": "display_data"
    },
    {
     "name": "stdout",
     "output_type": "stream",
     "text": [
      "--------------------------------------------------\n",
      "A3\n",
      "--------------------------------------------------\n"
     ]
    },
    {
     "data": {
      "text/latex": [
       "$$\\mathrm H^{0}(G/B,\\,\\mathfrak b^{3})=0$$"
      ],
      "text/plain": [
       "<IPython.core.display.Math object>"
      ]
     },
     "metadata": {},
     "output_type": "display_data"
    },
    {
     "data": {
      "text/latex": [
       "$$\\mathrm H^{1}(G/B,\\,\\mathfrak b^{3})=0$$"
      ],
      "text/plain": [
       "<IPython.core.display.Math object>"
      ]
     },
     "metadata": {},
     "output_type": "display_data"
    },
    {
     "data": {
      "text/latex": [
       "$$\\mathrm H^{2}(G/B,\\,\\mathfrak b^{3})=7 \\cdot 0$$"
      ],
      "text/plain": [
       "<IPython.core.display.Math object>"
      ]
     },
     "metadata": {},
     "output_type": "display_data"
    },
    {
     "data": {
      "text/latex": [
       "$$\\mathrm H^{3}(G/B,\\,\\mathfrak b^{3})=0$$"
      ],
      "text/plain": [
       "<IPython.core.display.Math object>"
      ]
     },
     "metadata": {},
     "output_type": "display_data"
    },
    {
     "data": {
      "text/latex": [
       "$$\\mathrm H^{4}(G/B,\\,\\mathfrak b^{3})=0$$"
      ],
      "text/plain": [
       "<IPython.core.display.Math object>"
      ]
     },
     "metadata": {},
     "output_type": "display_data"
    },
    {
     "data": {
      "text/latex": [
       "$$\\mathrm H^{5}(G/B,\\,\\mathfrak b^{3})=0$$"
      ],
      "text/plain": [
       "<IPython.core.display.Math object>"
      ]
     },
     "metadata": {},
     "output_type": "display_data"
    },
    {
     "name": "stdout",
     "output_type": "stream",
     "text": [
      "--------------------------------------------------\n",
      "A4\n",
      "--------------------------------------------------\n"
     ]
    },
    {
     "data": {
      "text/latex": [
       "$$\\mathrm H^{0}(G/B,\\,\\mathfrak b^{3})=0$$"
      ],
      "text/plain": [
       "<IPython.core.display.Math object>"
      ]
     },
     "metadata": {},
     "output_type": "display_data"
    },
    {
     "data": {
      "text/latex": [
       "$$\\mathrm H^{1}(G/B,\\,\\mathfrak b^{3})=0$$"
      ],
      "text/plain": [
       "<IPython.core.display.Math object>"
      ]
     },
     "metadata": {},
     "output_type": "display_data"
    },
    {
     "data": {
      "text/latex": [
       "$$\\mathrm H^{2}(G/B,\\,\\mathfrak b^{3})=14 \\cdot 0$$"
      ],
      "text/plain": [
       "<IPython.core.display.Math object>"
      ]
     },
     "metadata": {},
     "output_type": "display_data"
    },
    {
     "data": {
      "text/latex": [
       "$$\\mathrm H^{3}(G/B,\\,\\mathfrak b^{3})=0$$"
      ],
      "text/plain": [
       "<IPython.core.display.Math object>"
      ]
     },
     "metadata": {},
     "output_type": "display_data"
    },
    {
     "data": {
      "text/latex": [
       "$$\\mathrm H^{4}(G/B,\\,\\mathfrak b^{3})=0$$"
      ],
      "text/plain": [
       "<IPython.core.display.Math object>"
      ]
     },
     "metadata": {},
     "output_type": "display_data"
    },
    {
     "data": {
      "text/latex": [
       "$$\\mathrm H^{5}(G/B,\\,\\mathfrak b^{3})=0$$"
      ],
      "text/plain": [
       "<IPython.core.display.Math object>"
      ]
     },
     "metadata": {},
     "output_type": "display_data"
    },
    {
     "data": {
      "text/latex": [
       "$$\\mathrm H^{6}(G/B,\\,\\mathfrak b^{3})=0$$"
      ],
      "text/plain": [
       "<IPython.core.display.Math object>"
      ]
     },
     "metadata": {},
     "output_type": "display_data"
    },
    {
     "data": {
      "text/latex": [
       "$$\\mathrm H^{7}(G/B,\\,\\mathfrak b^{3})=0$$"
      ],
      "text/plain": [
       "<IPython.core.display.Math object>"
      ]
     },
     "metadata": {},
     "output_type": "display_data"
    },
    {
     "data": {
      "text/latex": [
       "$$\\mathrm H^{8}(G/B,\\,\\mathfrak b^{3})=0$$"
      ],
      "text/plain": [
       "<IPython.core.display.Math object>"
      ]
     },
     "metadata": {},
     "output_type": "display_data"
    },
    {
     "data": {
      "text/latex": [
       "$$\\mathrm H^{9}(G/B,\\,\\mathfrak b^{3})=0$$"
      ],
      "text/plain": [
       "<IPython.core.display.Math object>"
      ]
     },
     "metadata": {},
     "output_type": "display_data"
    },
    {
     "name": "stdout",
     "output_type": "stream",
     "text": [
      "--------------------------------------------------\n",
      "A5\n",
      "--------------------------------------------------\n"
     ]
    },
    {
     "data": {
      "text/latex": [
       "$$\\mathrm H^{0}(G/B,\\,\\mathfrak b^{3})=0$$"
      ],
      "text/plain": [
       "<IPython.core.display.Math object>"
      ]
     },
     "metadata": {},
     "output_type": "display_data"
    },
    {
     "data": {
      "text/latex": [
       "$$\\mathrm H^{1}(G/B,\\,\\mathfrak b^{3})=0$$"
      ],
      "text/plain": [
       "<IPython.core.display.Math object>"
      ]
     },
     "metadata": {},
     "output_type": "display_data"
    },
    {
     "data": {
      "text/latex": [
       "$$\\mathrm H^{2}(G/B,\\,\\mathfrak b^{3})=20 \\cdot 0$$"
      ],
      "text/plain": [
       "<IPython.core.display.Math object>"
      ]
     },
     "metadata": {},
     "output_type": "display_data"
    },
    {
     "data": {
      "text/latex": [
       "$$\\mathrm H^{3}(G/B,\\,\\mathfrak b^{3})=0$$"
      ],
      "text/plain": [
       "<IPython.core.display.Math object>"
      ]
     },
     "metadata": {},
     "output_type": "display_data"
    },
    {
     "data": {
      "text/latex": [
       "$$\\mathrm H^{4}(G/B,\\,\\mathfrak b^{3})=0$$"
      ],
      "text/plain": [
       "<IPython.core.display.Math object>"
      ]
     },
     "metadata": {},
     "output_type": "display_data"
    },
    {
     "data": {
      "text/latex": [
       "$$\\mathrm H^{5}(G/B,\\,\\mathfrak b^{3})=0$$"
      ],
      "text/plain": [
       "<IPython.core.display.Math object>"
      ]
     },
     "metadata": {},
     "output_type": "display_data"
    },
    {
     "data": {
      "text/latex": [
       "$$\\mathrm H^{6}(G/B,\\,\\mathfrak b^{3})=0$$"
      ],
      "text/plain": [
       "<IPython.core.display.Math object>"
      ]
     },
     "metadata": {},
     "output_type": "display_data"
    },
    {
     "data": {
      "text/latex": [
       "$$\\mathrm H^{7}(G/B,\\,\\mathfrak b^{3})=0$$"
      ],
      "text/plain": [
       "<IPython.core.display.Math object>"
      ]
     },
     "metadata": {},
     "output_type": "display_data"
    },
    {
     "data": {
      "text/latex": [
       "$$\\mathrm H^{8}(G/B,\\,\\mathfrak b^{3})=0$$"
      ],
      "text/plain": [
       "<IPython.core.display.Math object>"
      ]
     },
     "metadata": {},
     "output_type": "display_data"
    },
    {
     "data": {
      "text/latex": [
       "$$\\mathrm H^{9}(G/B,\\,\\mathfrak b^{3})=0$$"
      ],
      "text/plain": [
       "<IPython.core.display.Math object>"
      ]
     },
     "metadata": {},
     "output_type": "display_data"
    },
    {
     "data": {
      "text/latex": [
       "$$\\mathrm H^{10}(G/B,\\,\\mathfrak b^{3})=0$$"
      ],
      "text/plain": [
       "<IPython.core.display.Math object>"
      ]
     },
     "metadata": {},
     "output_type": "display_data"
    },
    {
     "data": {
      "text/latex": [
       "$$\\mathrm H^{11}(G/B,\\,\\mathfrak b^{3})=0$$"
      ],
      "text/plain": [
       "<IPython.core.display.Math object>"
      ]
     },
     "metadata": {},
     "output_type": "display_data"
    },
    {
     "data": {
      "text/latex": [
       "$$\\mathrm H^{12}(G/B,\\,\\mathfrak b^{3})=0$$"
      ],
      "text/plain": [
       "<IPython.core.display.Math object>"
      ]
     },
     "metadata": {},
     "output_type": "display_data"
    },
    {
     "data": {
      "text/latex": [
       "$$\\mathrm H^{13}(G/B,\\,\\mathfrak b^{3})=0$$"
      ],
      "text/plain": [
       "<IPython.core.display.Math object>"
      ]
     },
     "metadata": {},
     "output_type": "display_data"
    },
    {
     "data": {
      "text/latex": [
       "$$\\mathrm H^{14}(G/B,\\,\\mathfrak b^{3})=0$$"
      ],
      "text/plain": [
       "<IPython.core.display.Math object>"
      ]
     },
     "metadata": {},
     "output_type": "display_data"
    }
   ],
   "source": [
    "diagrams = ['A2','A3','A4','A5']\n",
    "#diagrams = ['A3']\n",
    "for d in diagrams:\n",
    "    print('-'*50)\n",
    "    print(d)\n",
    "    print('-'*50)\n",
    "    BGG = BGGComplex(d)\n",
    "    f_factory = FastModuleFactory(BGG.LA)\n",
    "    component_dic = {'b':f_factory.build_component('n','coad')}\n",
    "    components = [[(\"b\",1,'sym'),(\"b\",1,'wedge')]]\n",
    "\n",
    "    module = FastLieAlgebraCompositeModule(f_factory.weight_dic, components, component_dic)\n",
    "\n",
    "    cohom = BGGCohomology(BGG, module)\n",
    "    len_basis = module.len_basis\n",
    "\n",
    "    for i in range(len_basis):\n",
    "        cohom.cohomology_LaTeX(i,complex_string=r'G/B,\\,\\mathfrak b^{3}')"
   ]
  },
  {
   "cell_type": "code",
   "execution_count": 2,
   "metadata": {},
   "outputs": [],
   "source": [
    "BGG = BGGComplex('A3')\n",
    "f_factory = FastModuleFactory(BGG.LA)\n",
    "component_dic = {'b':f_factory.build_component('n','coad')}\n",
    "components = [[(\"b\",2,'sym')],[(\"b\",2,'wedge')]]\n",
    "\n",
    "module1 = FastLieAlgebraCompositeModule(f_factory.weight_dic, components, component_dic)\n",
    "cohom1 = BGGCohomology(BGG, module1)\n",
    "\n",
    "components = [[(\"b\",1,'wedge'),(\"b\",1,'wedge')]]\n",
    "\n",
    "module2 = FastLieAlgebraCompositeModule(f_factory.weight_dic, components, component_dic)\n",
    "cohom2 = BGGCohomology(BGG, module2)"
   ]
  },
  {
   "cell_type": "code",
   "execution_count": 3,
   "metadata": {},
   "outputs": [
    {
     "data": {
      "text/plain": [
       "[((0, -1, -2), (0, 0, 0), 2),\n",
       " ((0, -2, -1), (0, 0, 0), 2),\n",
       " ((-1, 0, -1), (0, 0, 0), 2),\n",
       " ((-2, -2, 0), (0, 0, 0), 3),\n",
       " ((0, -2, -2), (0, 0, 0), 3),\n",
       " ((-2, -1, 0), (0, 0, 0), 2),\n",
       " ((-1, -2, 0), (0, 0, 0), 2)]"
      ]
     },
     "metadata": {},
     "output_type": "display_data"
    },
    {
     "data": {
      "text/plain": [
       "[((0, -1, -2), (0, 0, 0), 2),\n",
       " ((0, -2, -1), (0, 0, 0), 2),\n",
       " ((-1, 0, -1), (0, 0, 0), 2),\n",
       " ((-2, -2, 0), (0, 0, 0), 3),\n",
       " ((0, -2, -2), (0, 0, 0), 3),\n",
       " ((-2, -1, 0), (0, 0, 0), 2),\n",
       " ((-1, -2, 0), (0, 0, 0), 2)]"
      ]
     },
     "metadata": {},
     "output_type": "display_data"
    }
   ],
   "source": [
    "display(cohom1.regular_weights)\n",
    "display(cohom2.regular_weights)"
   ]
  },
  {
   "cell_type": "code",
   "execution_count": 4,
   "metadata": {},
   "outputs": [
    {
     "data": {
      "text/plain": [
       "36"
      ]
     },
     "metadata": {},
     "output_type": "display_data"
    },
    {
     "data": {
      "text/plain": [
       "36"
      ]
     },
     "metadata": {},
     "output_type": "display_data"
    }
   ],
   "source": [
    "display(sum(module1.dimensions.values()))\n",
    "display(sum(module2.dimensions.values()))"
   ]
  },
  {
   "cell_type": "code",
   "execution_count": 5,
   "metadata": {},
   "outputs": [
    {
     "data": {
      "text/plain": [
       "set()"
      ]
     },
     "execution_count": 5,
     "metadata": {},
     "output_type": "execute_result"
    }
   ],
   "source": [
    "for key,value in module1.dimensions.items():\n",
    "    if module2.dimensions[key]!=value:\n",
    "        print(key,value)\n",
    "set(module1.dimensions.keys())-set(module2.dimensions.keys())"
   ]
  },
  {
   "cell_type": "code",
   "execution_count": 6,
   "metadata": {},
   "outputs": [
    {
     "data": {
      "text/plain": [
       "{0: array([0, 0, 0]),\n",
       " 1: array([0, 0, 0]),\n",
       " 2: array([1, 1, 1]),\n",
       " 3: array([0, 1, 1]),\n",
       " 4: array([1, 1, 0]),\n",
       " 5: array([-1,  0,  0]),\n",
       " 6: array([ 0, -1, -1]),\n",
       " 7: array([0, 0, 1]),\n",
       " 8: array([-1, -1,  0]),\n",
       " 9: array([0, 0, 0]),\n",
       " 10: array([0, 1, 0]),\n",
       " 11: array([ 0, -1,  0]),\n",
       " 12: array([ 0,  0, -1]),\n",
       " 13: array([-1, -1, -1]),\n",
       " 14: array([1, 0, 0])}"
      ]
     },
     "execution_count": 6,
     "metadata": {},
     "output_type": "execute_result"
    }
   ],
   "source": [
    "module2.weight_dic"
   ]
  },
  {
   "cell_type": "code",
   "execution_count": 7,
   "metadata": {},
   "outputs": [
    {
     "data": {
      "text/plain": [
       "{0: array([0, 0, 0]),\n",
       " 1: array([0, 0, 0]),\n",
       " 2: array([1, 1, 1]),\n",
       " 3: array([0, 1, 1]),\n",
       " 4: array([1, 1, 0]),\n",
       " 5: array([-1,  0,  0]),\n",
       " 6: array([ 0, -1, -1]),\n",
       " 7: array([0, 0, 1]),\n",
       " 8: array([-1, -1,  0]),\n",
       " 9: array([0, 0, 0]),\n",
       " 10: array([0, 1, 0]),\n",
       " 11: array([ 0, -1,  0]),\n",
       " 12: array([ 0,  0, -1]),\n",
       " 13: array([-1, -1, -1]),\n",
       " 14: array([1, 0, 0])}"
      ]
     },
     "execution_count": 7,
     "metadata": {},
     "output_type": "execute_result"
    }
   ],
   "source": [
    "module1.weight_dic"
   ]
  },
  {
   "cell_type": "code",
   "execution_count": 8,
   "metadata": {},
   "outputs": [
    {
     "data": {
      "text/latex": [
       "$$\\mathrm H^{2}(G/B,\\,\\mathfrak u^{2})=8 \\cdot 0$$"
      ],
      "text/plain": [
       "<IPython.core.display.Math object>"
      ]
     },
     "metadata": {},
     "output_type": "display_data"
    },
    {
     "data": {
      "text/latex": [
       "$$\\mathrm H^{2}(G/B,\\,\\mathfrak u^{2})=7 \\cdot 0$$"
      ],
      "text/plain": [
       "<IPython.core.display.Math object>"
      ]
     },
     "metadata": {},
     "output_type": "display_data"
    }
   ],
   "source": [
    "cohom1.cohomology_LaTeX(2,complex_string=r'G/B,\\,\\mathfrak u^{2}')\n",
    "cohom2.cohomology_LaTeX(2,complex_string=r'G/B,\\,\\mathfrak u^{2}')"
   ]
  },
  {
   "cell_type": "code",
   "execution_count": null,
   "metadata": {},
   "outputs": [],
   "source": []
  }
 ],
 "metadata": {
  "kernelspec": {
   "display_name": "Python 2",
   "language": "python",
   "name": "python2"
  },
  "language_info": {
   "codemirror_mode": {
    "name": "ipython",
    "version": 2
   },
   "file_extension": ".py",
   "mimetype": "text/x-python",
   "name": "python",
   "nbconvert_exporter": "python",
   "pygments_lexer": "ipython2",
   "version": "2.7.15"
  }
 },
 "nbformat": 4,
 "nbformat_minor": 2
}
