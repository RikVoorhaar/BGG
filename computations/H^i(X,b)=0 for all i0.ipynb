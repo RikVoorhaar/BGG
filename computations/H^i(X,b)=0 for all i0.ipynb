{
 "cells": [
  {
   "cell_type": "code",
   "execution_count": 1,
   "metadata": {},
   "outputs": [],
   "source": [
    "import sys\n",
    "sys.path.append('../bggcomplex')\n",
    "\n",
    "from bggcomplex import BGGComplex\n",
    "from fast_module import FastLieAlgebraCompositeModule, FastModuleFactory, BGGCohomology"
   ]
  },
  {
   "cell_type": "code",
   "execution_count": 2,
   "metadata": {},
   "outputs": [
    {
     "name": "stdout",
     "output_type": "stream",
     "text": [
      "A1\n",
      "--------------------------------------------------\n",
      "++++++++++++++++++++++++++++++++++++++++++++++++++\n",
      "A2\n",
      "--------------------------------------------------\n",
      "++++++++++++++++++++++++++++++++++++++++++++++++++\n",
      "A3\n",
      "--------------------------------------------------\n"
     ]
    },
    {
     "name": "stderr",
     "output_type": "stream",
     "text": [
      "../bggcomplex/fast_module.py:198: RuntimeWarning: overflow encountered in long_scalars\n",
      "  hash_modifier = column_hash_modifier*(self.pow_array[new_index] - self.pow_array[old_index])\n"
     ]
    },
    {
     "name": "stdout",
     "output_type": "stream",
     "text": [
      "++++++++++++++++++++++++++++++++++++++++++++++++++\n",
      "A4\n",
      "--------------------------------------------------\n",
      "++++++++++++++++++++++++++++++++++++++++++++++++++\n",
      "B2\n",
      "--------------------------------------------------\n",
      "++++++++++++++++++++++++++++++++++++++++++++++++++\n",
      "B3\n",
      "--------------------------------------------------\n",
      "++++++++++++++++++++++++++++++++++++++++++++++++++\n",
      "C3\n",
      "--------------------------------------------------\n",
      "++++++++++++++++++++++++++++++++++++++++++++++++++\n",
      "G2\n",
      "--------------------------------------------------\n",
      "++++++++++++++++++++++++++++++++++++++++++++++++++\n"
     ]
    }
   ],
   "source": [
    "diagrams = ['A1','A2','A3','A4','B2','B3','C3','G2']\n",
    "for d in diagrams:\n",
    "    print(d)\n",
    "    print('-'*50)\n",
    "    BGG = BGGComplex(d)\n",
    "    f_factory = FastModuleFactory(BGG.LA)\n",
    "    component_dic = {'n':f_factory.build_component('b','coad')}\n",
    "    components = [[(\"n\",1,'wedge')]]\n",
    "\n",
    "    module = FastLieAlgebraCompositeModule(f_factory.weight_dic, components, component_dic)\n",
    "\n",
    "    cohom = BGGCohomology(BGG, module)\n",
    "    basis_len = len(component_dic['n'].basis)\n",
    "\n",
    "    for i in range(basis_len):\n",
    "        cohom.cohomology_LaTeX(i,complex_string=d+r'/B,\\,\\mathfrak n\\otimes \\mathfrak n',only_non_zero=True)\n",
    "    print('+'*50)"
   ]
  },
  {
   "cell_type": "code",
   "execution_count": 3,
   "metadata": {},
   "outputs": [
    {
     "name": "stdout",
     "output_type": "stream",
     "text": [
      "--------------------------------------------------\n",
      "A2\n",
      "--------------------------------------------------\n"
     ]
    },
    {
     "data": {
      "text/latex": [
       "$$\\mathrm H^{2}(G/B,\\,\\mathfrak b^{3})=L\\left(\\alpha_{1}+ 2\\alpha_{2}\\right)\\oplus L\\left( 2\\alpha_{1}+\\alpha_{2}\\right)\\oplus L\\left(\\alpha_{1}+\\alpha_{2}\\right)^{6}$$"
      ],
      "text/plain": [
       "<IPython.core.display.Math object>"
      ]
     },
     "metadata": {},
     "output_type": "display_data"
    },
    {
     "data": {
      "text/latex": [
       "$$\\mathrm H^{3}(G/B,\\,\\mathfrak b^{3})=L\\left(\\alpha_{1}+\\alpha_{2}\\right)$$"
      ],
      "text/plain": [
       "<IPython.core.display.Math object>"
      ]
     },
     "metadata": {},
     "output_type": "display_data"
    },
    {
     "name": "stdout",
     "output_type": "stream",
     "text": [
      "--------------------------------------------------\n",
      "A3\n",
      "--------------------------------------------------\n"
     ]
    },
    {
     "data": {
      "text/latex": [
       "$$\\mathrm H^{3}(G/B,\\,\\mathfrak b^{3})=L\\left(\\alpha_{1}+ 2\\alpha_{2}+\\alpha_{3}\\right)$$"
      ],
      "text/plain": [
       "<IPython.core.display.Math object>"
      ]
     },
     "metadata": {},
     "output_type": "display_data"
    },
    {
     "name": "stdout",
     "output_type": "stream",
     "text": [
      "--------------------------------------------------\n",
      "A4\n",
      "--------------------------------------------------\n"
     ]
    }
   ],
   "source": [
    "diagrams = ['A2','A3','A4']\n",
    "#diagrams = ['A2']\n",
    "for d in diagrams:\n",
    "    print('-'*50)\n",
    "    print(d)\n",
    "    print('-'*50)\n",
    "    BGG = BGGComplex(d)\n",
    "    f_factory = FastModuleFactory(BGG.LA)\n",
    "    component_dic = {'b':f_factory.build_component('b','coad')}\n",
    "    components = [[(\"b\",1,'sym'),(\"b\",1,'sym'),(\"b\",1,'sym')]]\n",
    "\n",
    "    module = FastLieAlgebraCompositeModule(f_factory.weight_dic, components, component_dic)\n",
    "\n",
    "    cohom = BGGCohomology(BGG, module)\n",
    "    len_basis = module.len_basis\n",
    "\n",
    "    for i in range(len_basis):\n",
    "        cohom.cohomology_LaTeX(i,complex_string=r'G/B,\\,\\mathfrak b^{3}',only_non_zero=True)"
   ]
  },
  {
   "cell_type": "code",
   "execution_count": 4,
   "metadata": {},
   "outputs": [
    {
     "data": {
      "text/latex": [
       "$$\\mathrm H^{2}(B_2/B,\\,\\mathfrak b\\otimes \\mathfrak b)=L\\left(\\alpha_{1}+\\alpha_{2}\\right)$$"
      ],
      "text/plain": [
       "<IPython.core.display.Math object>"
      ]
     },
     "metadata": {},
     "output_type": "display_data"
    },
    {
     "data": {
      "text/latex": [
       "$$\\mathrm H^{3}(B_2/B,\\,\\mathfrak b\\otimes \\mathfrak b)=\\mathbb{C}$$"
      ],
      "text/plain": [
       "<IPython.core.display.Math object>"
      ]
     },
     "metadata": {},
     "output_type": "display_data"
    }
   ],
   "source": [
    "d = 'B2'\n",
    "BGG = BGGComplex(d)\n",
    "f_factory = FastModuleFactory(BGG.LA)\n",
    "component_dic = {'b':f_factory.build_component('b','coad')}\n",
    "components = [[(\"b\",1,'sym'),(\"b\",1,'sym')]]\n",
    "\n",
    "module = FastLieAlgebraCompositeModule(f_factory.weight_dic, components, component_dic)\n",
    "\n",
    "cohom = BGGCohomology(BGG, module)\n",
    "len_basis = module.len_basis\n",
    "\n",
    "for i in range(len_basis):\n",
    "    cohom.cohomology_LaTeX(i,complex_string=r'B_2/B,\\,\\mathfrak b\\otimes \\mathfrak b',only_non_zero=True)"
   ]
  },
  {
   "cell_type": "code",
   "execution_count": 5,
   "metadata": {},
   "outputs": [
    {
     "name": "stdout",
     "output_type": "stream",
     "text": [
      "--------------------------------------------------\n",
      "A1\n",
      "--------------------------------------------------\n"
     ]
    },
    {
     "data": {
      "text/latex": [
       "$$\\mathrm H^{0}(G/B,\\,\\mathfrak b\\otimes \\mathfrak u)=\\mathbb{C}\\oplus L\\left(\\alpha_{1}\\right)$$"
      ],
      "text/plain": [
       "<IPython.core.display.Math object>"
      ]
     },
     "metadata": {},
     "output_type": "display_data"
    },
    {
     "name": "stdout",
     "output_type": "stream",
     "text": [
      "--------------------------------------------------\n",
      "A2\n",
      "--------------------------------------------------\n"
     ]
    },
    {
     "data": {
      "text/latex": [
       "$$\\mathrm H^{0}(G/B,\\,\\mathfrak b\\otimes \\mathfrak u)=\\mathbb{C}\\oplus L\\left(\\alpha_{1}+\\alpha_{2}\\right)^{2}$$"
      ],
      "text/plain": [
       "<IPython.core.display.Math object>"
      ]
     },
     "metadata": {},
     "output_type": "display_data"
    },
    {
     "data": {
      "text/latex": [
       "$$\\mathrm H^{1}(G/B,\\,\\mathfrak b\\otimes \\mathfrak u)=L\\left(\\alpha_{1}+\\alpha_{2}\\right)^{2}$$"
      ],
      "text/plain": [
       "<IPython.core.display.Math object>"
      ]
     },
     "metadata": {},
     "output_type": "display_data"
    },
    {
     "name": "stdout",
     "output_type": "stream",
     "text": [
      "--------------------------------------------------\n",
      "A3\n",
      "--------------------------------------------------\n"
     ]
    },
    {
     "data": {
      "text/latex": [
       "$$\\mathrm H^{0}(G/B,\\,\\mathfrak b\\otimes \\mathfrak u)=L\\left(\\alpha_{1}+\\alpha_{2}+\\alpha_{3}\\right)^{2}$$"
      ],
      "text/plain": [
       "<IPython.core.display.Math object>"
      ]
     },
     "metadata": {},
     "output_type": "display_data"
    },
    {
     "data": {
      "text/latex": [
       "$$\\mathrm H^{1}(G/B,\\,\\mathfrak b\\otimes \\mathfrak u)=L\\left(\\alpha_{1}+\\alpha_{2}+\\alpha_{3}\\right)^{2}$$"
      ],
      "text/plain": [
       "<IPython.core.display.Math object>"
      ]
     },
     "metadata": {},
     "output_type": "display_data"
    },
    {
     "name": "stdout",
     "output_type": "stream",
     "text": [
      "--------------------------------------------------\n",
      "A4\n",
      "--------------------------------------------------\n"
     ]
    },
    {
     "data": {
      "text/latex": [
       "$$\\mathrm H^{0}(G/B,\\,\\mathfrak b\\otimes \\mathfrak u)=L\\left(\\alpha_{1}+\\alpha_{2}+\\alpha_{3}+\\alpha_{4}\\right)^{2}$$"
      ],
      "text/plain": [
       "<IPython.core.display.Math object>"
      ]
     },
     "metadata": {},
     "output_type": "display_data"
    },
    {
     "data": {
      "text/latex": [
       "$$\\mathrm H^{1}(G/B,\\,\\mathfrak b\\otimes \\mathfrak u)=L\\left(\\alpha_{1}+\\alpha_{2}+\\alpha_{3}+\\alpha_{4}\\right)^{2}$$"
      ],
      "text/plain": [
       "<IPython.core.display.Math object>"
      ]
     },
     "metadata": {},
     "output_type": "display_data"
    }
   ],
   "source": [
    "diagrams = ['A1','A2','A3','A4']\n",
    "#diagrams = ['A2']\n",
    "for d in diagrams:\n",
    "    print('-'*50)\n",
    "    print(d)\n",
    "    print('-'*50)\n",
    "    BGG = BGGComplex(d)\n",
    "    f_factory = FastModuleFactory(BGG.LA)\n",
    "    component_dic = {'b':f_factory.build_component('b','coad'),\n",
    "                     'u':f_factory.build_component('u','coad')}\n",
    "    components = [[(\"b\",1,'sym'),(\"u\",1,'sym')]]\n",
    "\n",
    "    module = FastLieAlgebraCompositeModule(f_factory.weight_dic, components, component_dic)\n",
    "\n",
    "    cohom = BGGCohomology(BGG, module)\n",
    "    len_basis = module.len_basis\n",
    "\n",
    "    for i in range(len_basis):\n",
    "        cohom.cohomology_LaTeX(i,complex_string=r'G/B,\\,\\mathfrak b\\otimes \\mathfrak u',only_non_zero=True)"
   ]
  },
  {
   "cell_type": "code",
   "execution_count": 6,
   "metadata": {},
   "outputs": [
    {
     "name": "stdout",
     "output_type": "stream",
     "text": [
      "--------------------------------------------------\n",
      "A1\n",
      "--------------------------------------------------\n"
     ]
    },
    {
     "data": {
      "text/latex": [
       "$$\\mathrm H^{0}(G/B,\\,\\mathfrak u\\otimes \\mathfrak u)=L\\left( 2\\alpha_{1}\\right)$$"
      ],
      "text/plain": [
       "<IPython.core.display.Math object>"
      ]
     },
     "metadata": {},
     "output_type": "display_data"
    },
    {
     "name": "stdout",
     "output_type": "stream",
     "text": [
      "--------------------------------------------------\n",
      "A2\n",
      "--------------------------------------------------\n"
     ]
    },
    {
     "data": {
      "text/latex": [
       "$$\\mathrm H^{0}(G/B,\\,\\mathfrak u\\otimes \\mathfrak u)=L\\left(\\alpha_{1}+ 2\\alpha_{2}\\right)\\oplus L\\left( 2\\alpha_{1}+\\alpha_{2}\\right)\\oplus L\\left( 2\\alpha_{1}+ 2\\alpha_{2}\\right)\\oplus L\\left(\\alpha_{1}+\\alpha_{2}\\right)^{2}$$"
      ],
      "text/plain": [
       "<IPython.core.display.Math object>"
      ]
     },
     "metadata": {},
     "output_type": "display_data"
    },
    {
     "name": "stdout",
     "output_type": "stream",
     "text": [
      "--------------------------------------------------\n",
      "A3\n",
      "--------------------------------------------------\n"
     ]
    },
    {
     "data": {
      "text/latex": [
       "$$\\mathrm H^{0}(G/B,\\,\\mathfrak u\\otimes \\mathfrak u)=L\\left(\\alpha_{1}+ 2\\alpha_{2}+ 2\\alpha_{3}\\right)\\oplus L\\left( 2\\alpha_{1}+ 2\\alpha_{2}+ 2\\alpha_{3}\\right)\\oplus L\\left( 2\\alpha_{1}+ 2\\alpha_{2}+\\alpha_{3}\\right)\\oplus L\\left(\\alpha_{1}+\\alpha_{2}+\\alpha_{3}\\right)^{2}$$"
      ],
      "text/plain": [
       "<IPython.core.display.Math object>"
      ]
     },
     "metadata": {},
     "output_type": "display_data"
    },
    {
     "name": "stdout",
     "output_type": "stream",
     "text": [
      "--------------------------------------------------\n",
      "A4\n",
      "--------------------------------------------------\n"
     ]
    },
    {
     "data": {
      "text/latex": [
       "$$\\mathrm H^{0}(G/B,\\,\\mathfrak u\\otimes \\mathfrak u)=L\\left( 2\\alpha_{1}+ 2\\alpha_{2}+ 2\\alpha_{3}+\\alpha_{4}\\right)\\oplus L\\left(\\alpha_{1}+ 2\\alpha_{2}+ 2\\alpha_{3}+ 2\\alpha_{4}\\right)\\oplus L\\left( 2\\alpha_{1}+ 2\\alpha_{2}+ 2\\alpha_{3}+ 2\\alpha_{4}\\right)\\oplus L\\left(\\alpha_{1}+\\alpha_{2}+\\alpha_{3}+\\alpha_{4}\\right)^{2}$$"
      ],
      "text/plain": [
       "<IPython.core.display.Math object>"
      ]
     },
     "metadata": {},
     "output_type": "display_data"
    }
   ],
   "source": [
    "diagrams = ['A1','A2','A3','A4']\n",
    "#diagrams = ['A2']\n",
    "for d in diagrams:\n",
    "    print('-'*50)\n",
    "    print(d)\n",
    "    print('-'*50)\n",
    "    BGG = BGGComplex(d)\n",
    "    f_factory = FastModuleFactory(BGG.LA)\n",
    "    component_dic = {'b':f_factory.build_component('b','coad'),\n",
    "                     'u':f_factory.build_component('u','coad')}\n",
    "    components = [[(\"u\",1,'sym'),(\"u\",1,'sym')]]\n",
    "\n",
    "    module = FastLieAlgebraCompositeModule(f_factory.weight_dic, components, component_dic)\n",
    "\n",
    "    cohom = BGGCohomology(BGG, module)\n",
    "    len_basis = module.len_basis\n",
    "\n",
    "    for i in range(len_basis):\n",
    "        cohom.cohomology_LaTeX(i,complex_string=r'G/B,\\,\\mathfrak u\\otimes \\mathfrak u',only_non_zero=True)"
   ]
  },
  {
   "cell_type": "code",
   "execution_count": null,
   "metadata": {},
   "outputs": [],
   "source": []
  }
 ],
 "metadata": {
  "kernelspec": {
   "display_name": "Python 2",
   "language": "python",
   "name": "python2"
  },
  "language_info": {
   "codemirror_mode": {
    "name": "ipython",
    "version": 2
   },
   "file_extension": ".py",
   "mimetype": "text/x-python",
   "name": "python",
   "nbconvert_exporter": "python",
   "pygments_lexer": "ipython2",
   "version": "2.7.15"
  }
 },
 "nbformat": 4,
 "nbformat_minor": 2
}
