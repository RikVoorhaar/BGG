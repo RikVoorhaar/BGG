{
 "cells": [
  {
   "cell_type": "markdown",
   "metadata": {},
   "source": [
    "Suppose we have an equivariant map of $\\mathfrak b$ modules $L\\colon M\\to N$. Such maps automatically respect the weight decomposition, and we can consider $\\ker L$ and $\\operatorname{coker} L$ as $\\mathfrak b$-modules. \n",
    "\n",
    "In both cases we need an (integer) basis for the ker / coker. For the kernel the action is easy to define, for the coker not so much. But maybe it's OK with the Smith normal form or whatnot."
   ]
  },
  {
   "cell_type": "code",
   "execution_count": 25,
   "metadata": {
    "scrolled": true
   },
   "outputs": [
    {
     "data": {
      "text/plain": [
       "(\n",
       "                       [ 3 -2  0 -2]\n",
       "[1 0 0 0]  [ 2 -1  0]  [ 0  0  0  1]\n",
       "[0 1 0 0]  [ 1  0  0]  [-1  1  0  0]\n",
       "[0 0 0 0], [-2  1  1], [ 0  0  1  0]\n",
       ")"
      ]
     },
     "execution_count": 25,
     "metadata": {},
     "output_type": "execute_result"
    }
   ],
   "source": [
    "import numpy as np\n",
    "\n",
    "L = matrix(ZZ,[[1,2,3,0],[1,2,4,0],[1,2,2,0]])\n",
    "L.smith_form()"
   ]
  },
  {
   "cell_type": "code",
   "execution_count": 34,
   "metadata": {},
   "outputs": [
    {
     "data": {
      "text/plain": [
       "(\n",
       "[1 0 0 0]  [0 0 1 0]  [-1  3 -3 -5]\n",
       "[0 1 0 0]  [1 0 0 0]  [ 1 -2  2  3]\n",
       "[0 0 0 0]  [0 1 0 0]  [ 0  0  0  1]\n",
       "[0 0 0 0], [0 0 0 1], [ 0  0  1  0]\n",
       ")"
      ]
     },
     "execution_count": 34,
     "metadata": {},
     "output_type": "execute_result"
    }
   ],
   "source": [
    "matrix(ZZ,[[1,0,2,0],[1,0,3,0],[2,0,1,0],[1,0,0,0]]).transpose().smith_form()"
   ]
  },
  {
   "cell_type": "code",
   "execution_count": 20,
   "metadata": {},
   "outputs": [
    {
     "data": {
      "text/plain": [
       "[-1  1  0]"
      ]
     },
     "execution_count": 20,
     "metadata": {},
     "output_type": "execute_result"
    }
   ],
   "source": [
    "ck = L.smith_form()[-1][L.rank():]\n",
    "ck"
   ]
  },
  {
   "cell_type": "code",
   "execution_count": 22,
   "metadata": {},
   "outputs": [
    {
     "data": {
      "text/plain": [
       "Free module of degree 3 and rank 1 over Integer Ring\n",
       "Echelon basis matrix:\n",
       "[ 2 -1  0]"
      ]
     },
     "execution_count": 22,
     "metadata": {},
     "output_type": "execute_result"
    }
   ],
   "source": []
  }
 ],
 "metadata": {
  "kernelspec": {
   "display_name": "SageMath 8.6",
   "language": "",
   "name": "sagemath"
  },
  "language_info": {
   "codemirror_mode": {
    "name": "ipython",
    "version": 2
   },
   "file_extension": ".py",
   "mimetype": "text/x-python",
   "name": "python",
   "nbconvert_exporter": "python",
   "pygments_lexer": "ipython2",
   "version": "2.7.15"
  }
 },
 "nbformat": 4,
 "nbformat_minor": 2
}
