{
 "cells": [
  {
   "cell_type": "code",
   "execution_count": 1,
   "metadata": {},
   "outputs": [],
   "source": [
    "import sys\n",
    "sys.path.append('../bggcomplex')\n",
    "\n",
    "from bggcomplex import BGGComplex\n",
    "from fast_module import FastLieAlgebraCompositeModule, FastModuleFactory, BGGCohomology"
   ]
  },
  {
   "cell_type": "code",
   "execution_count": 13,
   "metadata": {},
   "outputs": [
    {
     "name": "stdout",
     "output_type": "stream",
     "text": [
      "--------------------------------------------------\n",
      "A1\n",
      "--------------------------------------------------\n",
      "--------------------------------------------------\n",
      "A2\n",
      "--------------------------------------------------\n"
     ]
    },
    {
     "data": {
      "text/latex": [
       "$$\\mathrm H^{2}(A2/B,\\,\\mathfrak n\\otimes \\mathfrak n)=\\mathbb{C}^{3}$$"
      ],
      "text/plain": [
       "<IPython.core.display.Math object>"
      ]
     },
     "metadata": {},
     "output_type": "display_data"
    },
    {
     "name": "stdout",
     "output_type": "stream",
     "text": [
      "--------------------------------------------------\n",
      "A3\n",
      "--------------------------------------------------\n"
     ]
    },
    {
     "data": {
      "text/latex": [
       "$$\\mathrm H^{2}(A3/B,\\,\\mathfrak n\\otimes \\mathfrak n)=\\mathbb{C}^{8}$$"
      ],
      "text/plain": [
       "<IPython.core.display.Math object>"
      ]
     },
     "metadata": {},
     "output_type": "display_data"
    },
    {
     "name": "stdout",
     "output_type": "stream",
     "text": [
      "--------------------------------------------------\n",
      "A4\n",
      "--------------------------------------------------\n"
     ]
    },
    {
     "data": {
      "text/latex": [
       "$$\\mathrm H^{2}(A4/B,\\,\\mathfrak n\\otimes \\mathfrak n)=\\mathbb{C}^{15}$$"
      ],
      "text/plain": [
       "<IPython.core.display.Math object>"
      ]
     },
     "metadata": {},
     "output_type": "display_data"
    },
    {
     "name": "stdout",
     "output_type": "stream",
     "text": [
      "--------------------------------------------------\n",
      "B2\n",
      "--------------------------------------------------\n"
     ]
    },
    {
     "data": {
      "text/latex": [
       "$$\\mathrm H^{2}(B2/B,\\,\\mathfrak n\\otimes \\mathfrak n)=L\\left(-\\alpha_{1} -\\alpha_{2}\\right)\\oplus \\mathbb{C}^{4}$$"
      ],
      "text/plain": [
       "<IPython.core.display.Math object>"
      ]
     },
     "metadata": {},
     "output_type": "display_data"
    },
    {
     "data": {
      "text/latex": [
       "$$\\mathrm H^{3}(B2/B,\\,\\mathfrak n\\otimes \\mathfrak n)=\\mathbb{C}$$"
      ],
      "text/plain": [
       "<IPython.core.display.Math object>"
      ]
     },
     "metadata": {},
     "output_type": "display_data"
    },
    {
     "name": "stdout",
     "output_type": "stream",
     "text": [
      "--------------------------------------------------\n",
      "B3\n",
      "--------------------------------------------------\n"
     ]
    },
    {
     "data": {
      "text/latex": [
       "$$\\mathrm H^{2}(B3/B,\\,\\mathfrak n\\otimes \\mathfrak n)=\\mathbb{C}^{9}$$"
      ],
      "text/plain": [
       "<IPython.core.display.Math object>"
      ]
     },
     "metadata": {},
     "output_type": "display_data"
    },
    {
     "data": {
      "text/latex": [
       "$$\\mathrm H^{3}(B3/B,\\,\\mathfrak n\\otimes \\mathfrak n)=\\mathbb{C}$$"
      ],
      "text/plain": [
       "<IPython.core.display.Math object>"
      ]
     },
     "metadata": {},
     "output_type": "display_data"
    },
    {
     "name": "stdout",
     "output_type": "stream",
     "text": [
      "--------------------------------------------------\n",
      "C3\n",
      "--------------------------------------------------\n"
     ]
    },
    {
     "data": {
      "text/latex": [
       "$$\\mathrm H^{2}(C3/B,\\,\\mathfrak n\\otimes \\mathfrak n)=\\mathbb{C}^{8}$$"
      ],
      "text/plain": [
       "<IPython.core.display.Math object>"
      ]
     },
     "metadata": {},
     "output_type": "display_data"
    },
    {
     "name": "stdout",
     "output_type": "stream",
     "text": [
      "--------------------------------------------------\n",
      "G2\n",
      "--------------------------------------------------\n"
     ]
    },
    {
     "data": {
      "text/latex": [
       "$$\\mathrm H^{2}(G2/B,\\,\\mathfrak n\\otimes \\mathfrak n)=L\\left(-2\\alpha_{1} -\\alpha_{2}\\right)\\oplus \\mathbb{C}^{3}$$"
      ],
      "text/plain": [
       "<IPython.core.display.Math object>"
      ]
     },
     "metadata": {},
     "output_type": "display_data"
    }
   ],
   "source": [
    "diagrams = ['A1','A2','A3','A4','B2','B3','C3','G2']\n",
    "for d in diagrams:\n",
    "    print('-'*50)\n",
    "    print(d)\n",
    "    print('-'*50)\n",
    "    BGG = BGGComplex(d)\n",
    "    f_factory = FastModuleFactory(BGG.LA)\n",
    "    component_dic = {'n':f_factory.build_component('n','coad')}\n",
    "    components = [[(\"n\",1,'wedge'),(\"n\",1,'wedge')]]\n",
    "\n",
    "    module = FastLieAlgebraCompositeModule(f_factory.weight_dic, components, component_dic)\n",
    "\n",
    "    cohom = BGGCohomology(BGG, module)\n",
    "    basis_len = len(component_dic['n'].basis)\n",
    "\n",
    "    for i in range(basis_len):\n",
    "        cohom.cohomology_LaTeX(i,complex_string=d+r'/B,\\,\\mathfrak n\\otimes \\mathfrak n',only_non_zero=True)"
   ]
  },
  {
   "cell_type": "code",
   "execution_count": null,
   "metadata": {},
   "outputs": [
    {
     "name": "stdout",
     "output_type": "stream",
     "text": [
      "--------------------------------------------------\n",
      "A2\n",
      "--------------------------------------------------\n"
     ]
    },
    {
     "data": {
      "text/latex": [
       "$$\\mathrm H^{0}(G/B,\\,\\mathfrak b^{3})=0$$"
      ],
      "text/plain": [
       "<IPython.core.display.Math object>"
      ]
     },
     "metadata": {},
     "output_type": "display_data"
    },
    {
     "data": {
      "text/latex": [
       "$$\\mathrm H^{1}(G/B,\\,\\mathfrak b^{3})=0$$"
      ],
      "text/plain": [
       "<IPython.core.display.Math object>"
      ]
     },
     "metadata": {},
     "output_type": "display_data"
    },
    {
     "data": {
      "text/latex": [
       "$$\\mathrm H^{2}(G/B,\\,\\mathfrak b^{3})=L\\left(-\\alpha_{1} -2\\alpha_{2}\\right)\\oplus L\\left(-2\\alpha_{1} -\\alpha_{2}\\right)\\oplus L\\left(-\\alpha_{1} -\\alpha_{2}\\right)^{6}$$"
      ],
      "text/plain": [
       "<IPython.core.display.Math object>"
      ]
     },
     "metadata": {},
     "output_type": "display_data"
    },
    {
     "data": {
      "text/latex": [
       "$$\\mathrm H^{3}(G/B,\\,\\mathfrak b^{3})=L\\left(-\\alpha_{1} -\\alpha_{2}\\right)$$"
      ],
      "text/plain": [
       "<IPython.core.display.Math object>"
      ]
     },
     "metadata": {},
     "output_type": "display_data"
    },
    {
     "data": {
      "text/latex": [
       "$$\\mathrm H^{4}(G/B,\\,\\mathfrak b^{3})=0$$"
      ],
      "text/plain": [
       "<IPython.core.display.Math object>"
      ]
     },
     "metadata": {},
     "output_type": "display_data"
    },
    {
     "name": "stdout",
     "output_type": "stream",
     "text": [
      "--------------------------------------------------\n",
      "A3\n",
      "--------------------------------------------------\n"
     ]
    },
    {
     "data": {
      "text/latex": [
       "$$\\mathrm H^{0}(G/B,\\,\\mathfrak b^{3})=0$$"
      ],
      "text/plain": [
       "<IPython.core.display.Math object>"
      ]
     },
     "metadata": {},
     "output_type": "display_data"
    },
    {
     "data": {
      "text/latex": [
       "$$\\mathrm H^{1}(G/B,\\,\\mathfrak b^{3})=0$$"
      ],
      "text/plain": [
       "<IPython.core.display.Math object>"
      ]
     },
     "metadata": {},
     "output_type": "display_data"
    },
    {
     "data": {
      "text/latex": [
       "$$\\mathrm H^{2}(G/B,\\,\\mathfrak b^{3})=0$$"
      ],
      "text/plain": [
       "<IPython.core.display.Math object>"
      ]
     },
     "metadata": {},
     "output_type": "display_data"
    },
    {
     "data": {
      "text/latex": [
       "$$\\mathrm H^{3}(G/B,\\,\\mathfrak b^{3})=L\\left(-\\alpha_{1} -2\\alpha_{2} -\\alpha_{3}\\right)$$"
      ],
      "text/plain": [
       "<IPython.core.display.Math object>"
      ]
     },
     "metadata": {},
     "output_type": "display_data"
    },
    {
     "data": {
      "text/latex": [
       "$$\\mathrm H^{4}(G/B,\\,\\mathfrak b^{3})=0$$"
      ],
      "text/plain": [
       "<IPython.core.display.Math object>"
      ]
     },
     "metadata": {},
     "output_type": "display_data"
    },
    {
     "data": {
      "text/latex": [
       "$$\\mathrm H^{5}(G/B,\\,\\mathfrak b^{3})=0$$"
      ],
      "text/plain": [
       "<IPython.core.display.Math object>"
      ]
     },
     "metadata": {},
     "output_type": "display_data"
    },
    {
     "data": {
      "text/latex": [
       "$$\\mathrm H^{6}(G/B,\\,\\mathfrak b^{3})=0$$"
      ],
      "text/plain": [
       "<IPython.core.display.Math object>"
      ]
     },
     "metadata": {},
     "output_type": "display_data"
    },
    {
     "data": {
      "text/latex": [
       "$$\\mathrm H^{7}(G/B,\\,\\mathfrak b^{3})=0$$"
      ],
      "text/plain": [
       "<IPython.core.display.Math object>"
      ]
     },
     "metadata": {},
     "output_type": "display_data"
    },
    {
     "data": {
      "text/latex": [
       "$$\\mathrm H^{8}(G/B,\\,\\mathfrak b^{3})=0$$"
      ],
      "text/plain": [
       "<IPython.core.display.Math object>"
      ]
     },
     "metadata": {},
     "output_type": "display_data"
    },
    {
     "name": "stdout",
     "output_type": "stream",
     "text": [
      "--------------------------------------------------\n",
      "A4\n",
      "--------------------------------------------------\n"
     ]
    },
    {
     "data": {
      "text/latex": [
       "$$\\mathrm H^{0}(G/B,\\,\\mathfrak b^{3})=0$$"
      ],
      "text/plain": [
       "<IPython.core.display.Math object>"
      ]
     },
     "metadata": {},
     "output_type": "display_data"
    },
    {
     "data": {
      "text/latex": [
       "$$\\mathrm H^{1}(G/B,\\,\\mathfrak b^{3})=0$$"
      ],
      "text/plain": [
       "<IPython.core.display.Math object>"
      ]
     },
     "metadata": {},
     "output_type": "display_data"
    },
    {
     "data": {
      "text/latex": [
       "$$\\mathrm H^{2}(G/B,\\,\\mathfrak b^{3})=0$$"
      ],
      "text/plain": [
       "<IPython.core.display.Math object>"
      ]
     },
     "metadata": {},
     "output_type": "display_data"
    },
    {
     "data": {
      "text/latex": [
       "$$\\mathrm H^{3}(G/B,\\,\\mathfrak b^{3})=0$$"
      ],
      "text/plain": [
       "<IPython.core.display.Math object>"
      ]
     },
     "metadata": {},
     "output_type": "display_data"
    },
    {
     "data": {
      "text/latex": [
       "$$\\mathrm H^{4}(G/B,\\,\\mathfrak b^{3})=0$$"
      ],
      "text/plain": [
       "<IPython.core.display.Math object>"
      ]
     },
     "metadata": {},
     "output_type": "display_data"
    },
    {
     "data": {
      "text/latex": [
       "$$\\mathrm H^{5}(G/B,\\,\\mathfrak b^{3})=0$$"
      ],
      "text/plain": [
       "<IPython.core.display.Math object>"
      ]
     },
     "metadata": {},
     "output_type": "display_data"
    },
    {
     "data": {
      "text/latex": [
       "$$\\mathrm H^{6}(G/B,\\,\\mathfrak b^{3})=0$$"
      ],
      "text/plain": [
       "<IPython.core.display.Math object>"
      ]
     },
     "metadata": {},
     "output_type": "display_data"
    },
    {
     "data": {
      "text/latex": [
       "$$\\mathrm H^{7}(G/B,\\,\\mathfrak b^{3})=0$$"
      ],
      "text/plain": [
       "<IPython.core.display.Math object>"
      ]
     },
     "metadata": {},
     "output_type": "display_data"
    },
    {
     "data": {
      "text/latex": [
       "$$\\mathrm H^{8}(G/B,\\,\\mathfrak b^{3})=0$$"
      ],
      "text/plain": [
       "<IPython.core.display.Math object>"
      ]
     },
     "metadata": {},
     "output_type": "display_data"
    },
    {
     "data": {
      "text/latex": [
       "$$\\mathrm H^{9}(G/B,\\,\\mathfrak b^{3})=0$$"
      ],
      "text/plain": [
       "<IPython.core.display.Math object>"
      ]
     },
     "metadata": {},
     "output_type": "display_data"
    },
    {
     "data": {
      "text/latex": [
       "$$\\mathrm H^{10}(G/B,\\,\\mathfrak b^{3})=0$$"
      ],
      "text/plain": [
       "<IPython.core.display.Math object>"
      ]
     },
     "metadata": {},
     "output_type": "display_data"
    },
    {
     "data": {
      "text/latex": [
       "$$\\mathrm H^{11}(G/B,\\,\\mathfrak b^{3})=0$$"
      ],
      "text/plain": [
       "<IPython.core.display.Math object>"
      ]
     },
     "metadata": {},
     "output_type": "display_data"
    },
    {
     "data": {
      "text/latex": [
       "$$\\mathrm H^{12}(G/B,\\,\\mathfrak b^{3})=0$$"
      ],
      "text/plain": [
       "<IPython.core.display.Math object>"
      ]
     },
     "metadata": {},
     "output_type": "display_data"
    },
    {
     "data": {
      "text/latex": [
       "$$\\mathrm H^{13}(G/B,\\,\\mathfrak b^{3})=0$$"
      ],
      "text/plain": [
       "<IPython.core.display.Math object>"
      ]
     },
     "metadata": {},
     "output_type": "display_data"
    },
    {
     "name": "stdout",
     "output_type": "stream",
     "text": [
      "--------------------------------------------------\n",
      "A5\n",
      "--------------------------------------------------\n"
     ]
    }
   ],
   "source": [
    "diagrams = ['A2','A3','A4','A5']\n",
    "#diagrams = ['A3']\n",
    "for d in diagrams:\n",
    "    print('-'*50)\n",
    "    print(d)\n",
    "    print('-'*50)\n",
    "    BGG = BGGComplex(d)\n",
    "    f_factory = FastModuleFactory(BGG.LA)\n",
    "    component_dic = {'b':f_factory.build_component('b','coad')}\n",
    "    components = [[(\"b\",1,'sym'),(\"b\",1,'sym'),(\"b\",1,'sym')]]\n",
    "\n",
    "    module = FastLieAlgebraCompositeModule(f_factory.weight_dic, components, component_dic)\n",
    "\n",
    "    cohom = BGGCohomology(BGG, module)\n",
    "    len_basis = module.len_basis\n",
    "\n",
    "    for i in range(len_basis):\n",
    "        cohom.cohomology_LaTeX(i,complex_string=r'G/B,\\,\\mathfrak b^{3}')"
   ]
  },
  {
   "cell_type": "code",
   "execution_count": null,
   "metadata": {},
   "outputs": [],
   "source": []
  }
 ],
 "metadata": {
  "kernelspec": {
   "display_name": "Python 2",
   "language": "python",
   "name": "python2"
  },
  "language_info": {
   "codemirror_mode": {
    "name": "ipython",
    "version": 2
   },
   "file_extension": ".py",
   "mimetype": "text/x-python",
   "name": "python",
   "nbconvert_exporter": "python",
   "pygments_lexer": "ipython2",
   "version": "2.7.15"
  }
 },
 "nbformat": 4,
 "nbformat_minor": 2
}
