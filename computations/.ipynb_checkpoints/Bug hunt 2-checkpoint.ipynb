{
 "cells": [
  {
   "cell_type": "markdown",
   "metadata": {},
   "source": [
    "We have in reality \n",
    "$$H^1(A_1/B,\\mathfrak b\\otimes \\mathfrak b) = L(2\\alpha_1)$$\n",
    "But our algorithm produces\n",
    "$$H^1(A_1/B,\\mathfrak b\\otimes \\mathfrak b) = \\mathbb C\\oplus L(\\alpha_1),$$\n",
    "among other similar irregularities. This one should be relatively easy to figure out. Good hunting."
   ]
  },
  {
   "cell_type": "code",
   "execution_count": 1,
   "metadata": {},
   "outputs": [],
   "source": [
    "import sys\n",
    "sys.path.append('../bggcomplex')\n",
    "\n",
    "from bggcomplex import BGGComplex\n",
    "from fast_module import FastLieAlgebraCompositeModule, FastModuleFactory, BGGCohomology"
   ]
  },
  {
   "cell_type": "code",
   "execution_count": 27,
   "metadata": {},
   "outputs": [
    {
     "name": "stdout",
     "output_type": "stream",
     "text": [
      "[((0, 0), (0, 0), 0)]\n",
      "dominant non-trivial: set([(0, 0)])\n",
      " trivial: []\n",
      "\n"
     ]
    },
    {
     "data": {
      "text/latex": [
       "$$\\mathrm H^{0}(A2/B,\\,\\mathfrak b\\otimes \\mathfrak b)=0$$"
      ],
      "text/plain": [
       "<IPython.core.display.Math object>"
      ]
     },
     "metadata": {},
     "output_type": "display_data"
    },
    {
     "name": "stdout",
     "output_type": "stream",
     "text": [
      "[((0, -1), (0, 0), 1), ((-1, 0), (0, 0), 1)]\n",
      "dominant non-trivial: set([(0, 0)])\n",
      " trivial: []\n",
      "\n"
     ]
    },
    {
     "data": {
      "text/latex": [
       "$$\\mathrm H^{1}(A2/B,\\,\\mathfrak b\\otimes \\mathfrak b)=0$$"
      ],
      "text/plain": [
       "<IPython.core.display.Math object>"
      ]
     },
     "metadata": {},
     "output_type": "display_data"
    },
    {
     "name": "stdout",
     "output_type": "stream",
     "text": [
      "[((-1, -2), (0, 0), 2), ((-2, -1), (0, 0), 2)]\n",
      "dominant non-trivial: set([(0, 0)])\n",
      " trivial: []\n",
      "\n"
     ]
    },
    {
     "data": {
      "text/latex": [
       "$$\\mathrm H^{2}(A2/B,\\,\\mathfrak b\\otimes \\mathfrak b)=0$$"
      ],
      "text/plain": [
       "<IPython.core.display.Math object>"
      ]
     },
     "metadata": {},
     "output_type": "display_data"
    },
    {
     "name": "stdout",
     "output_type": "stream",
     "text": [
      "[((-2, -2), (0, 0), 3)]\n",
      "dominant non-trivial: set([(0, 0)])\n",
      " trivial: []\n",
      "\n"
     ]
    },
    {
     "data": {
      "text/latex": [
       "$$\\mathrm H^{3}(A2/B,\\,\\mathfrak b\\otimes \\mathfrak b)=0$$"
      ],
      "text/plain": [
       "<IPython.core.display.Math object>"
      ]
     },
     "metadata": {},
     "output_type": "display_data"
    }
   ],
   "source": [
    "d='A2'\n",
    "BGG = BGGComplex(d)\n",
    "f_factory = FastModuleFactory(BGG.LA)\n",
    "component_dic = {'b':f_factory.build_component('b','ad')}\n",
    "components = [[(\"b\",1,'wedge'),(\"b\",1,'wedge')]]\n",
    "\n",
    "module = FastLieAlgebraCompositeModule(f_factory.weight_dic, components, component_dic)\n",
    "\n",
    "cohom = BGGCohomology(BGG, module)\n",
    "basis_len = len(component_dic['b'].basis)\n",
    "\n",
    "for i in [0,1,2,3]:\n",
    "    cohom.cohomology_LaTeX(i,complex_string=d+r'/B,\\,\\mathfrak b\\otimes \\mathfrak b')"
   ]
  },
  {
   "cell_type": "code",
   "execution_count": 24,
   "metadata": {},
   "outputs": [
    {
     "name": "stdout",
     "output_type": "stream",
     "text": [
      "((0, -2), 1)\n",
      "((0, 0), 4)\n",
      "((-2, 0), 1)\n",
      "((-2, -2), 1)\n",
      "((-1, -2), 2)\n",
      "((-1, -1), 6)\n",
      "((-2, -1), 2)\n",
      "((0, -1), 4)\n",
      "((-1, 0), 4)\n"
     ]
    }
   ],
   "source": [
    "for k,v in module.weight_components.items():\n",
    "    print(k, len(v[0][1]))"
   ]
  },
  {
   "cell_type": "code",
   "execution_count": 25,
   "metadata": {},
   "outputs": [
    {
     "data": {
      "text/plain": [
       "(\n",
       "[-1  0  0  0 -1  0  0  0]   \n",
       "[ 0  0  0  0  2  0 -1  0]   \n",
       "[ 2  0 -1  0  0  0  0  0]   \n",
       "[ 0  0  2  0  0  0  2  0]   \n",
       "[ 0  0  0  0  0 -2  0 -2]   \n",
       "[ 0 -2  0  0  0  0  0  1]   \n",
       "[ 0  0  0 -2  0  1  0  0]   \n",
       "[ 0  1  0  1  0  0  0  0], 4\n",
       ")"
      ]
     },
     "execution_count": 25,
     "metadata": {},
     "output_type": "execute_result"
    }
   ],
   "source": [
    "cohom.compute_differential((0,0),0)"
   ]
  },
  {
   "cell_type": "code",
   "execution_count": 28,
   "metadata": {},
   "outputs": [
    {
     "name": "stdout",
     "output_type": "stream",
     "text": [
      "PBW[-alpha[1]]\n"
     ]
    },
    {
     "data": {
      "text/plain": [
       "{'b': [(0, {4: -1}), (1, {4: 2}), (2, {}), (4, {}), (5, {2: 1})]}"
      ]
     },
     "execution_count": 28,
     "metadata": {},
     "output_type": "execute_result"
    }
   ],
   "source": [
    "pbw_elt = BGG.compute_maps(BGG.zero_root)[('','1')]\n",
    "print(pbw_elt)\n",
    "module.set_pbw_action_matrix(pbw_elt)\n",
    "module.action_matrix"
   ]
  },
  {
   "cell_type": "code",
   "execution_count": 17,
   "metadata": {},
   "outputs": [
    {
     "data": {
      "text/plain": [
       "{0: array([0, 0]),\n",
       " 1: array([0, 0]),\n",
       " 2: array([-1, -1]),\n",
       " 3: array([1, 1]),\n",
       " 4: array([-1,  0]),\n",
       " 5: array([ 0, -1]),\n",
       " 6: array([0, 1]),\n",
       " 7: array([1, 0])}"
      ]
     },
     "execution_count": 17,
     "metadata": {},
     "output_type": "execute_result"
    }
   ],
   "source": [
    "module.weight_dic"
   ]
  },
  {
   "cell_type": "code",
   "execution_count": null,
   "metadata": {},
   "outputs": [],
   "source": []
  }
 ],
 "metadata": {
  "kernelspec": {
   "display_name": "SageMath 8.4",
   "language": "",
   "name": "sagemath"
  },
  "language_info": {
   "codemirror_mode": {
    "name": "ipython",
    "version": 2
   },
   "file_extension": ".py",
   "mimetype": "text/x-python",
   "name": "python",
   "nbconvert_exporter": "python",
   "pygments_lexer": "ipython2",
   "version": "2.7.15"
  }
 },
 "nbformat": 4,
 "nbformat_minor": 2
}
