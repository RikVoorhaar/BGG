{
 "cells": [
  {
   "cell_type": "markdown",
   "metadata": {},
   "source": [
    "We have in reality \n",
    "$$H^1(A_1/B,\\mathfrak b\\otimes \\mathfrak b) = L(2\\alpha_1)$$\n",
    "But our algorithm produces\n",
    "$$H^1(A_1/B,\\mathfrak b\\otimes \\mathfrak b) = \\mathbb C\\oplus L(\\alpha_1),$$\n",
    "among other similar irregularities. This one should be relatively easy to figure out. Good hunting."
   ]
  },
  {
   "cell_type": "code",
   "execution_count": 4,
   "metadata": {},
   "outputs": [],
   "source": [
    "import sys\n",
    "sys.path.append('../bggcomplex')\n",
    "\n",
    "from bggcomplex import BGGComplex\n",
    "from fast_module import FastLieAlgebraCompositeModule, FastModuleFactory, BGGCohomology"
   ]
  },
  {
   "cell_type": "code",
   "execution_count": 5,
   "metadata": {},
   "outputs": [
    {
     "name": "stdout",
     "output_type": "stream",
     "text": [
      "[[         0 -427667888]\n",
      " [         0   71334352]]\n",
      "[0 2]\n",
      "[2 0]\n",
      "[-419052016]\n",
      "[array([2, 2], dtype=uint16)]\n",
      "++++++++++\n",
      "(array([[         0, -427667888],\n",
      "       [         0,   71334352]]), array([1, 1]), ('', '1'), PBW[-alpha[1]])\n",
      "----------\n",
      "[(array([-427667888,   71334352]), array([1, 1]))]\n",
      "----------\n",
      "[(array([0, 1], dtype=uint32), array([1, 1]))]\n",
      "----------\n",
      "{(0, 1): 1, (0, 0): 1}\n",
      "----------\n",
      "[]\n",
      "----------\n",
      "[]\n",
      "----------\n",
      "{}\n",
      "----------\n"
     ]
    },
    {
     "data": {
      "text/latex": [
       "$$\\mathrm H^{0}(A_1/B,\\,\\mathfrak b\\otimes \\mathfrak b)=0$$"
      ],
      "text/plain": [
       "<IPython.core.display.Math object>"
      ]
     },
     "metadata": {},
     "output_type": "display_data"
    },
    {
     "name": "stdout",
     "output_type": "stream",
     "text": [
      "[]\n",
      "----------\n",
      "[]\n",
      "----------\n",
      "{}\n",
      "----------\n",
      "[[         0 -427667888]\n",
      " [         0   71334352]]\n",
      "[0 2]\n",
      "[2 0]\n",
      "[-419052016]\n",
      "[array([2, 2], dtype=uint16)]\n",
      "++++++++++\n",
      "(array([[         0, -427667888],\n",
      "       [         0,   71334352]]), array([1, 1]), ('', '1'), PBW[-alpha[1]])\n",
      "----------\n",
      "[(array([-427667888,   71334352]), array([1, 1]))]\n",
      "----------\n",
      "[(array([0, 1], dtype=uint32), array([1, 1]))]\n",
      "----------\n",
      "{(0, 1): 1, (0, 0): 1}\n",
      "----------\n"
     ]
    },
    {
     "data": {
      "text/latex": [
       "$$\\mathrm H^{1}(A_1/B,\\,\\mathfrak b\\otimes \\mathfrak b)=1 \\cdot 0+1 \\cdot\\left(1\\alpha_{1}\\right)$$"
      ],
      "text/plain": [
       "<IPython.core.display.Math object>"
      ]
     },
     "metadata": {},
     "output_type": "display_data"
    }
   ],
   "source": [
    "BGG = BGGComplex('A1')\n",
    "f_factory = FastModuleFactory(BGG.LA)\n",
    "component_dic = {'b':f_factory.build_component('b','coad')}\n",
    "components = [[(\"b\",1,'wedge'),(\"b\",1,'wedge')]]\n",
    "\n",
    "module = FastLieAlgebraCompositeModule(f_factory.weight_dic, components, component_dic)\n",
    "\n",
    "cohom = BGGCohomology(BGG, module)\n",
    "basis_len = len(component_dic['b'].basis)\n",
    "\n",
    "for i in range(basis_len):\n",
    "    cohom.cohomology_LaTeX(i,complex_string=r'A_1/B,\\,\\mathfrak b\\otimes \\mathfrak b')"
   ]
  },
  {
   "cell_type": "code",
   "execution_count": null,
   "metadata": {},
   "outputs": [],
   "source": []
  },
  {
   "cell_type": "code",
   "execution_count": null,
   "metadata": {},
   "outputs": [],
   "source": []
  }
 ],
 "metadata": {
  "kernelspec": {
   "display_name": "SageMath 8.6",
   "language": "",
   "name": "sagemath"
  },
  "language_info": {
   "codemirror_mode": {
    "name": "ipython",
    "version": 2
   },
   "file_extension": ".py",
   "mimetype": "text/x-python",
   "name": "python",
   "nbconvert_exporter": "python",
   "pygments_lexer": "ipython2",
   "version": "2.7.15"
  }
 },
 "nbformat": 4,
 "nbformat_minor": 2
}
