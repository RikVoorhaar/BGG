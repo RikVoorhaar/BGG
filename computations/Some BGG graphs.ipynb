{
 "cells": [
  {
   "cell_type": "code",
   "execution_count": 4,
   "metadata": {},
   "outputs": [],
   "source": [
    "import sys\n",
    "sys.path.append('../bggcomplex')\n",
    "\n",
    "from bggcomplex import BGGComplex\n",
    "from fast_module import FastLieAlgebraCompositeModule, FastModuleFactory, BGGCohomology, WeightSet\n",
    "import numpy as np"
   ]
  },
  {
   "cell_type": "code",
   "execution_count": 60,
   "metadata": {},
   "outputs": [
    {
     "data": {
      "image/png": "[encoded data removed]",
      "text/plain": [
       "Graphics object consisting of 21 graphics primitives"
      ]
     },
     "metadata": {},
     "output_type": "display_data"
    },
    {
     "data": {
      "text/plain": [
       "True"
      ]
     },
     "execution_count": 60,
     "metadata": {},
     "output_type": "execute_result"
    }
   ],
   "source": [
    "d = 'G2'\n",
    "BGG = BGGComplex(d)\n",
    "BGG.plot_graph().show()\n",
    "Weights = WeightSet(BGG)\n",
    "mu = Weights.tuple_to_weight([2,1])\n",
    "mu.is_dominant()"
   ]
  },
  {
   "cell_type": "code",
   "execution_count": 54,
   "metadata": {},
   "outputs": [
    {
     "data": {
      "text/plain": [
       "{('', '1'): PBW[-alpha[1]]^2,\n",
       " ('', '2'): PBW[-alpha[2]],\n",
       " ('1',\n",
       "  '12'): PBW[-alpha[2]]*PBW[-alpha[1]]^3 + 5*PBW[-alpha[1]]^2*PBW[-alpha[1] - alpha[2]] + 30*PBW[-3*alpha[1] - alpha[2]],\n",
       " ('1', '21'): PBW[-alpha[2]]^3,\n",
       " ('12',\n",
       "  '121'): PBW[-alpha[2]]^2*PBW[-alpha[1]]^4 + 12*PBW[-alpha[2]]*PBW[-alpha[1]]^3*PBW[-alpha[1] - alpha[2]] - 18*PBW[-alpha[2]]*PBW[-alpha[1]]^2*PBW[-2*alpha[1] - alpha[2]] + 30*PBW[-alpha[1]]^2*PBW[-alpha[1] - alpha[2]]^2 + 18*PBW[-alpha[2]]*PBW[-alpha[1]]*PBW[-3*alpha[1] - alpha[2]] - 30*PBW[-alpha[1]]*PBW[-alpha[1] - alpha[2]]*PBW[-2*alpha[1] - alpha[2]] - 108*PBW[-alpha[1]]*PBW[-3*alpha[1] - 2*alpha[2]] - 18*PBW[-alpha[1] - alpha[2]]*PBW[-3*alpha[1] - alpha[2]] + 72*PBW[-2*alpha[1] - alpha[2]]^2,\n",
       " ('12', '212'): PBW[-alpha[2]]^4,\n",
       " ('121',\n",
       "  '1212'): PBW[-alpha[2]]^2*PBW[-alpha[1]]^3 + 10*PBW[-alpha[2]]*PBW[-alpha[1]]^2*PBW[-alpha[1] - alpha[2]] - 10*PBW[-alpha[2]]*PBW[-alpha[1]]*PBW[-2*alpha[1] - alpha[2]] + 20*PBW[-alpha[1]]*PBW[-alpha[1] - alpha[2]]^2 - 30*PBW[-alpha[2]]*PBW[-3*alpha[1] - alpha[2]] + 120*PBW[-3*alpha[1] - 2*alpha[2]],\n",
       " ('121', '2121'): PBW[-alpha[2]]^4,\n",
       " ('1212',\n",
       "  '12121'): PBW[-alpha[2]]^2*PBW[-alpha[1]]^2 + 6*PBW[-alpha[2]]*PBW[-alpha[1]]*PBW[-alpha[1] - alpha[2]] - 6*PBW[-alpha[2]]*PBW[-2*alpha[1] - alpha[2]] + 6*PBW[-alpha[1] - alpha[2]]^2,\n",
       " ('1212', '21212'): PBW[-alpha[2]]^3,\n",
       " ('12121', '212121'): PBW[-alpha[2]],\n",
       " ('2', '12'): PBW[-alpha[1]]^5,\n",
       " ('2',\n",
       "  '21'): PBW[-alpha[2]]^2*PBW[-alpha[1]]^2 - 2*PBW[-alpha[2]]*PBW[-alpha[1]]*PBW[-alpha[1] - alpha[2]] + 2*PBW[-alpha[2]]*PBW[-2*alpha[1] - alpha[2]] + 2*PBW[-alpha[1] - alpha[2]]^2,\n",
       " ('21', '121'): PBW[-alpha[1]]^7,\n",
       " ('21',\n",
       "  '212'): PBW[-alpha[2]]^2*PBW[-alpha[1]]^3 - 4*PBW[-alpha[2]]*PBW[-alpha[1]]^2*PBW[-alpha[1] - alpha[2]] + 18*PBW[-alpha[2]]*PBW[-alpha[1]]*PBW[-2*alpha[1] - alpha[2]] + 6*PBW[-alpha[1]]*PBW[-alpha[1] - alpha[2]]^2 + 12*PBW[-alpha[2]]*PBW[-3*alpha[1] - alpha[2]] - 42*PBW[-alpha[1] - alpha[2]]*PBW[-2*alpha[1] - alpha[2]] + 36*PBW[-3*alpha[1] - 2*alpha[2]],\n",
       " ('212', '1212'): PBW[-alpha[1]]^7,\n",
       " ('212',\n",
       "  '2121'): PBW[-alpha[2]]^2*PBW[-alpha[1]]^4 - 4*PBW[-alpha[2]]*PBW[-alpha[1]]^3*PBW[-alpha[1] - alpha[2]] + 30*PBW[-alpha[2]]*PBW[-alpha[1]]^2*PBW[-2*alpha[1] - alpha[2]] + 6*PBW[-alpha[1]]^2*PBW[-alpha[1] - alpha[2]]^2 - 78*PBW[-alpha[2]]*PBW[-alpha[1]]*PBW[-3*alpha[1] - alpha[2]] - 78*PBW[-alpha[1]]*PBW[-alpha[1] - alpha[2]]*PBW[-2*alpha[1] - alpha[2]] - 132*PBW[-alpha[1]]*PBW[-3*alpha[1] - 2*alpha[2]] + 102*PBW[-alpha[1] - alpha[2]]*PBW[-3*alpha[1] - alpha[2]] + 168*PBW[-2*alpha[1] - alpha[2]]^2,\n",
       " ('2121', '12121'): PBW[-alpha[1]]^5,\n",
       " ('2121',\n",
       "  '21212'): PBW[-alpha[2]]*PBW[-alpha[1]]^3 - 2*PBW[-alpha[1]]^2*PBW[-alpha[1] - alpha[2]] + 14*PBW[-alpha[1]]*PBW[-2*alpha[1] - alpha[2]] - 54*PBW[-3*alpha[1] - alpha[2]],\n",
       " ('21212', '212121'): PBW[-alpha[1]]^2}"
      ]
     },
     "execution_count": 54,
     "metadata": {},
     "output_type": "execute_result"
    }
   ],
   "source": [
    "BGG.compute_maps(BGG.weight_to_alpha_sum(mu))"
   ]
  }
 ],
 "metadata": {
  "kernelspec": {
   "display_name": "SageMath 8.4",
   "language": "",
   "name": "sagemath"
  },
  "language_info": {
   "codemirror_mode": {
    "name": "ipython",
    "version": 2
   },
   "file_extension": ".py",
   "mimetype": "text/x-python",
   "name": "python",
   "nbconvert_exporter": "python",
   "pygments_lexer": "ipython2",
   "version": "2.7.15"
  }
 },
 "nbformat": 4,
 "nbformat_minor": 2
}
