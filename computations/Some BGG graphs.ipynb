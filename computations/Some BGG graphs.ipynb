{
 "cells": [
  {
   "cell_type": "code",
   "execution_count": 2,
   "metadata": {},
   "outputs": [],
   "source": [
    "import sys\n",
    "sys.path.append('../bggcomplex')\n",
    "\n",
    "from bggcomplex import BGGComplex\n",
    "from fast_module import FastLieAlgebraCompositeModule, FastModuleFactory, BGGCohomology, WeightSet\n",
    "import numpy as np"
   ]
  },
  {
   "cell_type": "code",
   "execution_count": 5,
   "metadata": {},
   "outputs": [
    {
     "data": {
      "image/png": "[encoded data removed]",
      "text/plain": [
       "Graphics object consisting of 21 graphics primitives"
      ]
     },
     "metadata": {},
     "output_type": "display_data"
    },
    {
     "data": {
      "text/latex": [
       "$$\\to1,\\,\\,\\,f_{1}^{2}$$"
      ],
      "text/plain": [
       "<IPython.core.display.Math object>"
      ]
     },
     "metadata": {},
     "output_type": "display_data"
    },
    {
     "data": {
      "text/latex": [
       "$$\\to2,\\,\\,\\,f_{2}$$"
      ],
      "text/plain": [
       "<IPython.core.display.Math object>"
      ]
     },
     "metadata": {},
     "output_type": "display_data"
    },
    {
     "data": {
      "text/latex": [
       "$$1\\to12,\\,\\,5\\,f_{12}\\,f_{1}^{2} +\\,f_{1}^{3}\\,f_{2} +30\\,f_{1112}$$"
      ],
      "text/plain": [
       "<IPython.core.display.Math object>"
      ]
     },
     "metadata": {},
     "output_type": "display_data"
    },
    {
     "data": {
      "text/latex": [
       "$$1\\to21,\\,\\,\\,f_{2}^{3}$$"
      ],
      "text/plain": [
       "<IPython.core.display.Math object>"
      ]
     },
     "metadata": {},
     "output_type": "display_data"
    },
    {
     "data": {
      "text/latex": [
       "$$2\\to12,\\,\\,\\,f_{1}^{5}$$"
      ],
      "text/plain": [
       "<IPython.core.display.Math object>"
      ]
     },
     "metadata": {},
     "output_type": "display_data"
    },
    {
     "data": {
      "text/latex": [
       "$$2\\to21,\\,\\,2\\,f_{112}\\,f_{2} -2\\,f_{12}\\,f_{1}\\,f_{2} +2\\,f_{12}^{2} +\\,f_{1}^{2}\\,f_{2}^{2}$$"
      ],
      "text/plain": [
       "<IPython.core.display.Math object>"
      ]
     },
     "metadata": {},
     "output_type": "display_data"
    },
    {
     "data": {
      "text/latex": [
       "$$12\\to121,\\,\\,12\\,f_{12}\\,f_{1}^{3}\\,f_{2} +72\\,f_{112}^{2} -18\\,f_{112}\\,f_{1}^{2}\\,f_{2} +30\\,f_{12}^{2}\\,f_{1}^{2} +18\\,f_{1112}\\,f_{1}\\,f_{2} -108\\,f_{11122}\\,f_{1} -18\\,f_{1112}\\,f_{12} -30\\,f_{12}\\,f_{1}\\,f_{112} +\\,f_{1}^{4}\\,f_{2}^{2}$$"
      ],
      "text/plain": [
       "<IPython.core.display.Math object>"
      ]
     },
     "metadata": {},
     "output_type": "display_data"
    },
    {
     "data": {
      "text/latex": [
       "$$12\\to212,\\,\\,\\,f_{2}^{4}$$"
      ],
      "text/plain": [
       "<IPython.core.display.Math object>"
      ]
     },
     "metadata": {},
     "output_type": "display_data"
    },
    {
     "data": {
      "text/latex": [
       "$$21\\to121,\\,\\,\\,f_{1}^{7}$$"
      ],
      "text/plain": [
       "<IPython.core.display.Math object>"
      ]
     },
     "metadata": {},
     "output_type": "display_data"
    },
    {
     "data": {
      "text/latex": [
       "$$21\\to212,\\,\\,6\\,f_{12}^{2}\\,f_{1} +18\\,f_{112}\\,f_{1}\\,f_{2} +36\\,f_{11122} +\\,f_{1}^{3}\\,f_{2}^{2} +12\\,f_{1112}\\,f_{2} -42\\,f_{12}\\,f_{112} -4\\,f_{12}\\,f_{1}^{2}\\,f_{2}$$"
      ],
      "text/plain": [
       "<IPython.core.display.Math object>"
      ]
     },
     "metadata": {},
     "output_type": "display_data"
    },
    {
     "data": {
      "text/latex": [
       "$$121\\to1212,\\,\\,20\\,f_{12}^{2}\\,f_{1} -10\\,f_{112}\\,f_{1}\\,f_{2} +\\,f_{1}^{3}\\,f_{2}^{2} -30\\,f_{1112}\\,f_{2} +120\\,f_{11122} +10\\,f_{12}\\,f_{1}^{2}\\,f_{2}$$"
      ],
      "text/plain": [
       "<IPython.core.display.Math object>"
      ]
     },
     "metadata": {},
     "output_type": "display_data"
    },
    {
     "data": {
      "text/latex": [
       "$$121\\to2121,\\,\\,\\,f_{2}^{4}$$"
      ],
      "text/plain": [
       "<IPython.core.display.Math object>"
      ]
     },
     "metadata": {},
     "output_type": "display_data"
    },
    {
     "data": {
      "text/latex": [
       "$$212\\to1212,\\,\\,\\,f_{1}^{7}$$"
      ],
      "text/plain": [
       "<IPython.core.display.Math object>"
      ]
     },
     "metadata": {},
     "output_type": "display_data"
    },
    {
     "data": {
      "text/latex": [
       "$$212\\to2121,\\,\\,-4\\,f_{12}\\,f_{1}^{3}\\,f_{2} +168\\,f_{112}^{2} +30\\,f_{112}\\,f_{1}^{2}\\,f_{2} +6\\,f_{12}^{2}\\,f_{1}^{2} -78\\,f_{1112}\\,f_{1}\\,f_{2} -132\\,f_{11122}\\,f_{1} +102\\,f_{1112}\\,f_{12} -78\\,f_{12}\\,f_{1}\\,f_{112} +\\,f_{1}^{4}\\,f_{2}^{2}$$"
      ],
      "text/plain": [
       "<IPython.core.display.Math object>"
      ]
     },
     "metadata": {},
     "output_type": "display_data"
    },
    {
     "data": {
      "text/latex": [
       "$$1212\\to12121,\\,\\,-6\\,f_{112}\\,f_{2} +6\\,f_{12}\\,f_{1}\\,f_{2} +6\\,f_{12}^{2} +\\,f_{1}^{2}\\,f_{2}^{2}$$"
      ],
      "text/plain": [
       "<IPython.core.display.Math object>"
      ]
     },
     "metadata": {},
     "output_type": "display_data"
    },
    {
     "data": {
      "text/latex": [
       "$$1212\\to21212,\\,\\,\\,f_{2}^{3}$$"
      ],
      "text/plain": [
       "<IPython.core.display.Math object>"
      ]
     },
     "metadata": {},
     "output_type": "display_data"
    },
    {
     "data": {
      "text/latex": [
       "$$2121\\to12121,\\,\\,\\,f_{1}^{5}$$"
      ],
      "text/plain": [
       "<IPython.core.display.Math object>"
      ]
     },
     "metadata": {},
     "output_type": "display_data"
    },
    {
     "data": {
      "text/latex": [
       "$$2121\\to21212,\\,\\,-2\\,f_{12}\\,f_{1}^{2} +14\\,f_{112}\\,f_{1} +\\,f_{1}^{3}\\,f_{2} -54\\,f_{1112}$$"
      ],
      "text/plain": [
       "<IPython.core.display.Math object>"
      ]
     },
     "metadata": {},
     "output_type": "display_data"
    },
    {
     "data": {
      "text/latex": [
       "$$12121\\to212121,\\,\\,\\,f_{2}$$"
      ],
      "text/plain": [
       "<IPython.core.display.Math object>"
      ]
     },
     "metadata": {},
     "output_type": "display_data"
    },
    {
     "data": {
      "text/latex": [
       "$$21212\\to212121,\\,\\,\\,f_{1}^{2}$$"
      ],
      "text/plain": [
       "<IPython.core.display.Math object>"
      ]
     },
     "metadata": {},
     "output_type": "display_data"
    }
   ],
   "source": [
    "d = 'G2'\n",
    "BGG = BGGComplex(d)\n",
    "BGG.plot_graph().show()\n",
    "BGG.display_maps([2,1])"
   ]
  }
 ],
 "metadata": {
  "kernelspec": {
   "display_name": "SageMath 8.6",
   "language": "",
   "name": "sagemath"
  },
  "language_info": {
   "codemirror_mode": {
    "name": "ipython",
    "version": 2
   },
   "file_extension": ".py",
   "mimetype": "text/x-python",
   "name": "python",
   "nbconvert_exporter": "python",
   "pygments_lexer": "ipython2",
   "version": "2.7.15"
  }
 },
 "nbformat": 4,
 "nbformat_minor": 2
}
