{
 "cells": [
  {
   "cell_type": "code",
   "execution_count": 1,
   "metadata": {},
   "outputs": [
    {
     "name": "stdout",
     "output_type": "stream",
     "text": [
      "as\n"
     ]
    },
    {
     "data": {
      "text/plain": [
       "[-1, 0, 0]"
      ]
     },
     "execution_count": 1,
     "metadata": {},
     "output_type": "execute_result"
    }
   ],
   "source": [
    "from bggcomplex import *\n",
    "\n",
    "BGG = BGGComplex(\"A3\")\n",
    "\n",
    "reflect = BGG.WeylDic[\"1\"]\n",
    "BGG.dot_action(reflect,BGG.zero_root)"
   ]
  },
  {
   "cell_type": "code",
   "execution_count": 5,
   "metadata": {},
   "outputs": [
    {
     "name": "stdout",
     "output_type": "stream",
     "text": [
      "as\n"
     ]
    }
   ],
   "source": [
    "BGG=BGGComplex(\"G2\")"
   ]
  },
  {
   "cell_type": "code",
   "execution_count": 3,
   "metadata": {},
   "outputs": [],
   "source": [
    "def find_cycles(self):\n",
    "    vertices=self.WeylDic.keys()\n",
    "    arrows=self.arrows\n",
    "\n",
    "    outgoing={k:map(lambda x:x[1],v) for k,v in groupby(self.arrows,lambda x: x[0])}\n",
    "    outgoing[max(self.WeylDic.keys(),key=lambda x: len(x))]=[]\n",
    "    incoming={k:map(lambda x:x[0],v) for k,v in groupby(self.arrows,lambda x: x[1])}\n",
    "    incoming['']=[]\n",
    "\n",
    "    self.cycles=chain.from_iterable([[a+(v,) for v in outgoing[a[-1]]] for a in self.arrows])\n",
    "    self.cycles=chain.from_iterable([[a+(v,) for v in incoming[a[-1]] if v != a[1]] for a in self.cycles])\n",
    "    self.cycles=[a+(a[0],) for a in self.cycles if a[0] in incoming[a[-1]]]\n",
    "\n",
    "    return self.cycles"
   ]
  },
  {
   "cell_type": "code",
   "execution_count": 6,
   "metadata": {},
   "outputs": [
    {
     "data": {
      "text/plain": [
       "[('', '1', '21', '2', ''),\n",
       " ('', '1', '12', '2', ''),\n",
       " ('21', '212', '1212', '121', '21'),\n",
       " ('21', '212', '2121', '121', '21'),\n",
       " ('121', '1212', '21212', '2121', '121'),\n",
       " ('121', '1212', '12121', '2121', '121'),\n",
       " ('2', '12', '212', '21', '2'),\n",
       " ('2', '12', '121', '21', '2'),\n",
       " ('2121', '12121', '212121', '21212', '2121'),\n",
       " ('2121', '21212', '212121', '12121', '2121')]"
      ]
     },
     "execution_count": 6,
     "metadata": {},
     "output_type": "execute_result"
    }
   ],
   "source": [
    "BGG.find_cycles()"
   ]
  },
  {
   "cell_type": "code",
   "execution_count": 7,
   "metadata": {},
   "outputs": [
    {
     "data": {
      "image/png": "[encoded data removed]",
      "text/plain": [
       "Graphics object consisting of 21 graphics primitives"
      ]
     },
     "execution_count": 7,
     "metadata": {},
     "output_type": "execute_result"
    }
   ],
   "source": [
    "BGG.plot_graph().plot()"
   ]
  },
  {
   "cell_type": "code",
   "execution_count": 3,
   "metadata": {},
   "outputs": [
    {
     "ename": "AttributeError",
     "evalue": "BGGComplex instance has no attribute 'find_cycles'",
     "output_type": "error",
     "traceback": [
      "\u001b[0;31m---------------------------------------------------------------------------\u001b[0m",
      "\u001b[0;31mAttributeError\u001b[0m                            Traceback (most recent call last)",
      "\u001b[0;32m<ipython-input-3-013d24c5d7f2>\u001b[0m in \u001b[0;36m<module>\u001b[0;34m()\u001b[0m\n\u001b[0;32m----> 1\u001b[0;31m \u001b[0mBGG\u001b[0m\u001b[0;34m.\u001b[0m\u001b[0mfind_cycles\u001b[0m\u001b[0;34m(\u001b[0m\u001b[0;34m)\u001b[0m\u001b[0;34m\u001b[0m\u001b[0m\n\u001b[0m",
      "\u001b[0;31mAttributeError\u001b[0m: BGGComplex instance has no attribute 'find_cycles'"
     ]
    }
   ],
   "source": [
    "BGG."
   ]
  },
  {
   "cell_type": "code",
   "execution_count": 8,
   "metadata": {},
   "outputs": [],
   "source": [
    "from itertools import groupby, chain\n",
    "\n",
    "vertices=BGG.WeylDic.keys()\n",
    "arrows=BGG.arrows\n",
    "\n",
    "outgoing={k:map(lambda x:x[1],v) for k,v in groupby(arrows,lambda x: x[0])}\n",
    "outgoing[max(vertices,key=lambda x: len(x))]=[]\n",
    "incoming={k:map(lambda x:x[0],v) for k,v in groupby(arrows,lambda x: x[1])}\n",
    "incoming['']=[]\n",
    "\n",
    "cycles=chain.from_iterable([[a+(v,) for v in outgoing[a[-1]]] for a in arrows])\n",
    "cycles=chain.from_iterable([[a+(v,) for v in incoming[a[-1]] if v != a[1]] for a in cycles])\n",
    "cycles=[a+(a[0],) for a in cycles if a[0] in incoming[a[-1]]]"
   ]
  },
  {
   "cell_type": "code",
   "execution_count": 7,
   "metadata": {},
   "outputs": [
    {
     "data": {
      "text/plain": [
       "[('', '1', '21', '2', ''),\n",
       " ('', '1', '31', '3', ''),\n",
       " ('', '1', '12', '2', ''),\n",
       " ('', '3', '23', '2', ''),\n",
       " ('', '3', '32', '2', ''),\n",
       " ('323', '3123', '12312', '2312', '323'),\n",
       " ('323', '3231', '23212', '2312', '323'),\n",
       " ('3', '23', '123', '31', '3'),\n",
       " ('3', '23', '231', '31', '3'),\n",
       " ('3', '32', '312', '31', '3'),\n",
       " ('3', '32', '321', '31', '3'),\n",
       " ('2', '23', '323', '32', '2'),\n",
       " ('2', '21', '212', '12', '2'),\n",
       " ('123', '3123', '32123', '2123', '123'),\n",
       " ('2123', '12312', '312312', '32123', '2123'),\n",
       " ('32', '312', '2312', '323', '32'),\n",
       " ('31', '231', '2123', '123', '31'),\n",
       " ('31', '231', '3231', '321', '31'),\n",
       " ('31', '312', '3212', '321', '31'),\n",
       " ('31', '312', '3123', '123', '31'),\n",
       " ('2312', '12312', '312312', '23212', '2312'),\n",
       " ('2312', '23212', '312312', '12312', '2312')]"
      ]
     },
     "execution_count": 7,
     "metadata": {},
     "output_type": "execute_result"
    }
   ],
   "source": [
    "cycles"
   ]
  },
  {
   "cell_type": "code",
   "execution_count": null,
   "metadata": {},
   "outputs": [],
   "source": []
  }
 ],
 "metadata": {
  "kernelspec": {
   "display_name": "SageMath 8.6",
   "language": "",
   "name": "sagemath"
  },
  "language_info": {
   "codemirror_mode": {
    "name": "ipython",
    "version": 2
   },
   "file_extension": ".py",
   "mimetype": "text/x-python",
   "name": "python",
   "nbconvert_exporter": "python",
   "pygments_lexer": "ipython2",
   "version": "2.7.15"
  }
 },
 "nbformat": 4,
 "nbformat_minor": 2
}
