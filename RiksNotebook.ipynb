{
 "cells": [
  {
   "cell_type": "code",
   "execution_count": 1,
   "metadata": {},
   "outputs": [],
   "source": [
    "from bggcomplex import *\n",
    "BGG = BGGComplex(\"A3\")"
   ]
  },
  {
   "cell_type": "code",
   "execution_count": 3,
   "metadata": {},
   "outputs": [],
   "source": [
    "vertices = BGG.reduced_words\n",
    "edges = BGG.arrows\n",
    "BGG.find_cycles()\n",
    "\n",
    "edge_dic = {a:i for i,a in enumerate(edges)}\n",
    "cycles= [[edge_dic[(c[0],c[1])],edge_dic[(c[1],c[2])],edge_dic[(c[3],c[2])],edge_dic[(c[4],c[3])]] for c in BGG.cycles]"
   ]
  },
  {
   "cell_type": "code",
   "execution_count": 4,
   "metadata": {},
   "outputs": [],
   "source": [
    "edge_to_cycle = {i:[] for i,_ in enumerate(edges)}\n",
    "for i,c in enumerate(cycles):\n",
    "    for e in c:\n",
    "        edge_to_cycle[e]+=[i]"
   ]
  },
  {
   "cell_type": "code",
   "execution_count": 5,
   "metadata": {},
   "outputs": [],
   "source": [
    "from numpy import random as np\n",
    "signs=list((-1)**np.randint(2,size=len(edges)))"
   ]
  },
  {
   "cell_type": "code",
   "execution_count": 36,
   "metadata": {},
   "outputs": [
    {
     "data": {
      "text/plain": [
       "2"
      ]
     },
     "execution_count": 36,
     "metadata": {},
     "output_type": "execute_result"
    }
   ],
   "source": [
    "edge=np.choice(range(len(edges)))"
   ]
  },
  {
   "cell_type": "code",
   "execution_count": 48,
   "metadata": {},
   "outputs": [],
   "source": [
    "def total_sign(c):\n",
    "    return signs[c[0]]*signs[c[1]]*signs[c[2]]*signs[c[3]]\n",
    "def check_choice(edge):\n",
    "    edge_cycles = [cycles[i] for i in edge_to_cycle[edge]]\n",
    "    sign_sum= sum(map(total_sign,edge_cycles))\n",
    "    return sign_sum > 0\n",
    "def count_bad_cycles():\n",
    "    counter=0\n",
    "    for cycle in cycles:\n",
    "        if total_sign(cycle)==1:\n",
    "            counter+=1\n",
    "    return counter"
   ]
  },
  {
   "cell_type": "code",
   "execution_count": 51,
   "metadata": {},
   "outputs": [],
   "source": [
    "bad_cycle_counter = count_bad_cycles()\n",
    "while bad_cycle_counter>0:\n",
    "    #make a set edges for which check_choice returns true\n",
    "    #pick one at random, and flip it's sign\n",
    "    #see which edges are affected by this and recompute check_choice for them\n",
    "    #repeat until set is empty\n",
    "    #compute number of bad cycles, and store it\n",
    "    #if positive, flip some number of random edges and again run until set is empty\n",
    "    #if there are less bad cycles, keep it and reset , if there aren't, flip twice as many edges"
   ]
  },
  {
   "cell_type": "code",
   "execution_count": null,
   "metadata": {},
   "outputs": [],
   "source": []
  }
 ],
 "metadata": {
  "kernelspec": {
   "display_name": "SageMath 8.6",
   "language": "",
   "name": "sagemath"
  }
 },
 "nbformat": 4,
 "nbformat_minor": 2
}
